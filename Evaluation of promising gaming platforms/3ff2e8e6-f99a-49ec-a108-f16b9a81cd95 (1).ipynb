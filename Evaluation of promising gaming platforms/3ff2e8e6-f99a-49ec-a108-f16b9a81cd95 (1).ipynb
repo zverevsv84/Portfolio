{
 "cells": [
  {
   "cell_type": "markdown",
   "id": "af9d8ac5",
   "metadata": {},
   "source": [
    "# Сборный проект 1"
   ]
  },
  {
   "cell_type": "markdown",
   "id": "e7359183",
   "metadata": {},
   "source": [
    "**Задачи исследования**\n",
    "\n",
    "1. Загрузка данных\n",
    "\n",
    "2. Подготовка данных к исследованию\n",
    "\n",
    "3. Исследовательский анализ данных\n",
    "\n",
    "4. Состовления портрета пользователя каждого региона\n",
    "\n",
    "5. Проверка гипотез\n",
    "\n",
    "6. Общий Вывод"
   ]
  },
  {
   "cell_type": "markdown",
   "id": "8c49618e",
   "metadata": {},
   "source": [
    "**Описание данных**\n",
    "\n",
    "- Name — название игры\n",
    "\n",
    "- Platform — платформа\n",
    "\n",
    "- Year_of_Release — год выпуска\n",
    "\n",
    "- Genre — жанр игры\n",
    "\n",
    "- NA_sales — продажи в Северной Америке (миллионы проданных копий)\n",
    "\n",
    "- EU_sales — продажи в Европе (миллионы проданных копий)\n",
    "\n",
    "- JP_sales — продажи в Японии (миллионы проданных копий)\n",
    "\n",
    "- Other_sales — продажи в других странах (миллионы проданных копий)\n",
    "\n",
    "- Critic_Score — оценка критиков (максимум 100)\n",
    "\n",
    "- User_Score — оценка пользователей (максимум 10)\n",
    "\n",
    "- Rating — рейтинг от организации ESRB (англ. Entertainment Software Rating Board). Эта ассоциация определяет рейтинг компьютерных игр и присваивает им подходящую возрастную категорию."
   ]
  },
  {
   "cell_type": "code",
   "execution_count": 1,
   "id": "0fbac519",
   "metadata": {},
   "outputs": [],
   "source": [
    "import pandas as pd\n",
    "import numpy as np\n",
    "import matplotlib.pyplot as plt\n",
    "import seaborn as sns\n",
    "\n",
    "from datetime import datetime\n",
    "from scipy import stats as st"
   ]
  },
  {
   "cell_type": "code",
   "execution_count": 2,
   "id": "452e281f",
   "metadata": {},
   "outputs": [],
   "source": [
    "pd.set_option('display.max_columns', None)\n",
    "pd.options.display.float_format = '{:,.2f}'.format"
   ]
  },
  {
   "cell_type": "markdown",
   "id": "2c9b41d3",
   "metadata": {},
   "source": [
    "## Загрузим данные и подготовим данные к исследованию"
   ]
  },
  {
   "cell_type": "code",
   "execution_count": 3,
   "id": "ab2b9cbb",
   "metadata": {},
   "outputs": [],
   "source": [
    "try:\n",
    "    games = pd.read_csv('/datasets/games.csv')\n",
    "except:\n",
    "    games = pd.read_csv('games.csv')"
   ]
  },
  {
   "cell_type": "code",
   "execution_count": 4,
   "id": "6ca46125",
   "metadata": {},
   "outputs": [
    {
     "data": {
      "text/html": [
       "<div>\n",
       "<style scoped>\n",
       "    .dataframe tbody tr th:only-of-type {\n",
       "        vertical-align: middle;\n",
       "    }\n",
       "\n",
       "    .dataframe tbody tr th {\n",
       "        vertical-align: top;\n",
       "    }\n",
       "\n",
       "    .dataframe thead th {\n",
       "        text-align: right;\n",
       "    }\n",
       "</style>\n",
       "<table border=\"1\" class=\"dataframe\">\n",
       "  <thead>\n",
       "    <tr style=\"text-align: right;\">\n",
       "      <th></th>\n",
       "      <th>Name</th>\n",
       "      <th>Platform</th>\n",
       "      <th>Year_of_Release</th>\n",
       "      <th>Genre</th>\n",
       "      <th>NA_sales</th>\n",
       "      <th>EU_sales</th>\n",
       "      <th>JP_sales</th>\n",
       "      <th>Other_sales</th>\n",
       "      <th>Critic_Score</th>\n",
       "      <th>User_Score</th>\n",
       "      <th>Rating</th>\n",
       "    </tr>\n",
       "  </thead>\n",
       "  <tbody>\n",
       "    <tr>\n",
       "      <th>0</th>\n",
       "      <td>Wii Sports</td>\n",
       "      <td>Wii</td>\n",
       "      <td>2,006.00</td>\n",
       "      <td>Sports</td>\n",
       "      <td>41.36</td>\n",
       "      <td>28.96</td>\n",
       "      <td>3.77</td>\n",
       "      <td>8.45</td>\n",
       "      <td>76.00</td>\n",
       "      <td>8</td>\n",
       "      <td>E</td>\n",
       "    </tr>\n",
       "    <tr>\n",
       "      <th>1</th>\n",
       "      <td>Super Mario Bros.</td>\n",
       "      <td>NES</td>\n",
       "      <td>1,985.00</td>\n",
       "      <td>Platform</td>\n",
       "      <td>29.08</td>\n",
       "      <td>3.58</td>\n",
       "      <td>6.81</td>\n",
       "      <td>0.77</td>\n",
       "      <td>NaN</td>\n",
       "      <td>NaN</td>\n",
       "      <td>NaN</td>\n",
       "    </tr>\n",
       "    <tr>\n",
       "      <th>2</th>\n",
       "      <td>Mario Kart Wii</td>\n",
       "      <td>Wii</td>\n",
       "      <td>2,008.00</td>\n",
       "      <td>Racing</td>\n",
       "      <td>15.68</td>\n",
       "      <td>12.76</td>\n",
       "      <td>3.79</td>\n",
       "      <td>3.29</td>\n",
       "      <td>82.00</td>\n",
       "      <td>8.3</td>\n",
       "      <td>E</td>\n",
       "    </tr>\n",
       "    <tr>\n",
       "      <th>3</th>\n",
       "      <td>Wii Sports Resort</td>\n",
       "      <td>Wii</td>\n",
       "      <td>2,009.00</td>\n",
       "      <td>Sports</td>\n",
       "      <td>15.61</td>\n",
       "      <td>10.93</td>\n",
       "      <td>3.28</td>\n",
       "      <td>2.95</td>\n",
       "      <td>80.00</td>\n",
       "      <td>8</td>\n",
       "      <td>E</td>\n",
       "    </tr>\n",
       "    <tr>\n",
       "      <th>4</th>\n",
       "      <td>Pokemon Red/Pokemon Blue</td>\n",
       "      <td>GB</td>\n",
       "      <td>1,996.00</td>\n",
       "      <td>Role-Playing</td>\n",
       "      <td>11.27</td>\n",
       "      <td>8.89</td>\n",
       "      <td>10.22</td>\n",
       "      <td>1.00</td>\n",
       "      <td>NaN</td>\n",
       "      <td>NaN</td>\n",
       "      <td>NaN</td>\n",
       "    </tr>\n",
       "  </tbody>\n",
       "</table>\n",
       "</div>"
      ],
      "text/plain": [
       "                       Name Platform  Year_of_Release         Genre  NA_sales  \\\n",
       "0                Wii Sports      Wii         2,006.00        Sports     41.36   \n",
       "1         Super Mario Bros.      NES         1,985.00      Platform     29.08   \n",
       "2            Mario Kart Wii      Wii         2,008.00        Racing     15.68   \n",
       "3         Wii Sports Resort      Wii         2,009.00        Sports     15.61   \n",
       "4  Pokemon Red/Pokemon Blue       GB         1,996.00  Role-Playing     11.27   \n",
       "\n",
       "   EU_sales  JP_sales  Other_sales  Critic_Score User_Score Rating  \n",
       "0     28.96      3.77         8.45         76.00          8      E  \n",
       "1      3.58      6.81         0.77           NaN        NaN    NaN  \n",
       "2     12.76      3.79         3.29         82.00        8.3      E  \n",
       "3     10.93      3.28         2.95         80.00          8      E  \n",
       "4      8.89     10.22         1.00           NaN        NaN    NaN  "
      ]
     },
     "execution_count": 4,
     "metadata": {},
     "output_type": "execute_result"
    }
   ],
   "source": [
    "games.head()"
   ]
  },
  {
   "cell_type": "code",
   "execution_count": 5,
   "id": "7f53336b",
   "metadata": {
    "scrolled": true
   },
   "outputs": [
    {
     "data": {
      "text/html": [
       "<div>\n",
       "<style scoped>\n",
       "    .dataframe tbody tr th:only-of-type {\n",
       "        vertical-align: middle;\n",
       "    }\n",
       "\n",
       "    .dataframe tbody tr th {\n",
       "        vertical-align: top;\n",
       "    }\n",
       "\n",
       "    .dataframe thead th {\n",
       "        text-align: right;\n",
       "    }\n",
       "</style>\n",
       "<table border=\"1\" class=\"dataframe\">\n",
       "  <thead>\n",
       "    <tr style=\"text-align: right;\">\n",
       "      <th></th>\n",
       "      <th>Year_of_Release</th>\n",
       "      <th>NA_sales</th>\n",
       "      <th>EU_sales</th>\n",
       "      <th>JP_sales</th>\n",
       "      <th>Other_sales</th>\n",
       "      <th>Critic_Score</th>\n",
       "    </tr>\n",
       "  </thead>\n",
       "  <tbody>\n",
       "    <tr>\n",
       "      <th>count</th>\n",
       "      <td>16,446.00</td>\n",
       "      <td>16,715.00</td>\n",
       "      <td>16,715.00</td>\n",
       "      <td>16,715.00</td>\n",
       "      <td>16,715.00</td>\n",
       "      <td>8,137.00</td>\n",
       "    </tr>\n",
       "    <tr>\n",
       "      <th>mean</th>\n",
       "      <td>2,006.48</td>\n",
       "      <td>0.26</td>\n",
       "      <td>0.15</td>\n",
       "      <td>0.08</td>\n",
       "      <td>0.05</td>\n",
       "      <td>68.97</td>\n",
       "    </tr>\n",
       "    <tr>\n",
       "      <th>std</th>\n",
       "      <td>5.88</td>\n",
       "      <td>0.81</td>\n",
       "      <td>0.50</td>\n",
       "      <td>0.31</td>\n",
       "      <td>0.19</td>\n",
       "      <td>13.94</td>\n",
       "    </tr>\n",
       "    <tr>\n",
       "      <th>min</th>\n",
       "      <td>1,980.00</td>\n",
       "      <td>0.00</td>\n",
       "      <td>0.00</td>\n",
       "      <td>0.00</td>\n",
       "      <td>0.00</td>\n",
       "      <td>13.00</td>\n",
       "    </tr>\n",
       "    <tr>\n",
       "      <th>25%</th>\n",
       "      <td>2,003.00</td>\n",
       "      <td>0.00</td>\n",
       "      <td>0.00</td>\n",
       "      <td>0.00</td>\n",
       "      <td>0.00</td>\n",
       "      <td>60.00</td>\n",
       "    </tr>\n",
       "    <tr>\n",
       "      <th>50%</th>\n",
       "      <td>2,007.00</td>\n",
       "      <td>0.08</td>\n",
       "      <td>0.02</td>\n",
       "      <td>0.00</td>\n",
       "      <td>0.01</td>\n",
       "      <td>71.00</td>\n",
       "    </tr>\n",
       "    <tr>\n",
       "      <th>75%</th>\n",
       "      <td>2,010.00</td>\n",
       "      <td>0.24</td>\n",
       "      <td>0.11</td>\n",
       "      <td>0.04</td>\n",
       "      <td>0.03</td>\n",
       "      <td>79.00</td>\n",
       "    </tr>\n",
       "    <tr>\n",
       "      <th>max</th>\n",
       "      <td>2,016.00</td>\n",
       "      <td>41.36</td>\n",
       "      <td>28.96</td>\n",
       "      <td>10.22</td>\n",
       "      <td>10.57</td>\n",
       "      <td>98.00</td>\n",
       "    </tr>\n",
       "  </tbody>\n",
       "</table>\n",
       "</div>"
      ],
      "text/plain": [
       "       Year_of_Release  NA_sales  EU_sales  JP_sales  Other_sales  \\\n",
       "count        16,446.00 16,715.00 16,715.00 16,715.00    16,715.00   \n",
       "mean          2,006.48      0.26      0.15      0.08         0.05   \n",
       "std               5.88      0.81      0.50      0.31         0.19   \n",
       "min           1,980.00      0.00      0.00      0.00         0.00   \n",
       "25%           2,003.00      0.00      0.00      0.00         0.00   \n",
       "50%           2,007.00      0.08      0.02      0.00         0.01   \n",
       "75%           2,010.00      0.24      0.11      0.04         0.03   \n",
       "max           2,016.00     41.36     28.96     10.22        10.57   \n",
       "\n",
       "       Critic_Score  \n",
       "count      8,137.00  \n",
       "mean          68.97  \n",
       "std           13.94  \n",
       "min           13.00  \n",
       "25%           60.00  \n",
       "50%           71.00  \n",
       "75%           79.00  \n",
       "max           98.00  "
      ]
     },
     "execution_count": 5,
     "metadata": {},
     "output_type": "execute_result"
    }
   ],
   "source": [
    "games.describe()"
   ]
  },
  {
   "cell_type": "code",
   "execution_count": 6,
   "id": "57f3881e",
   "metadata": {},
   "outputs": [
    {
     "name": "stdout",
     "output_type": "stream",
     "text": [
      "<class 'pandas.core.frame.DataFrame'>\n",
      "RangeIndex: 16715 entries, 0 to 16714\n",
      "Data columns (total 11 columns):\n",
      " #   Column           Non-Null Count  Dtype  \n",
      "---  ------           --------------  -----  \n",
      " 0   Name             16713 non-null  object \n",
      " 1   Platform         16715 non-null  object \n",
      " 2   Year_of_Release  16446 non-null  float64\n",
      " 3   Genre            16713 non-null  object \n",
      " 4   NA_sales         16715 non-null  float64\n",
      " 5   EU_sales         16715 non-null  float64\n",
      " 6   JP_sales         16715 non-null  float64\n",
      " 7   Other_sales      16715 non-null  float64\n",
      " 8   Critic_Score     8137 non-null   float64\n",
      " 9   User_Score       10014 non-null  object \n",
      " 10  Rating           9949 non-null   object \n",
      "dtypes: float64(6), object(5)\n",
      "memory usage: 1.4+ MB\n"
     ]
    }
   ],
   "source": [
    "games.info()"
   ]
  },
  {
   "cell_type": "code",
   "execution_count": 7,
   "id": "d77a780c",
   "metadata": {},
   "outputs": [
    {
     "data": {
      "text/plain": [
       "Name                  2\n",
       "Platform              0\n",
       "Year_of_Release     269\n",
       "Genre                 2\n",
       "NA_sales              0\n",
       "EU_sales              0\n",
       "JP_sales              0\n",
       "Other_sales           0\n",
       "Critic_Score       8578\n",
       "User_Score         6701\n",
       "Rating             6766\n",
       "dtype: int64"
      ]
     },
     "execution_count": 7,
     "metadata": {},
     "output_type": "execute_result"
    }
   ],
   "source": [
    "games.isna().sum()"
   ]
  },
  {
   "cell_type": "markdown",
   "id": "a97a4469",
   "metadata": {},
   "source": [
    "**В представленных данных мо можем видеть следующие проблеммы:**\n",
    "\n",
    "1. Некоректный формат в названиях столбцов\n",
    "\n",
    "2. Большое количество прорущенных значений\n",
    "\n",
    "3. Некорректное использование типов данных"
   ]
  },
  {
   "cell_type": "code",
   "execution_count": 8,
   "id": "a14dc2db",
   "metadata": {},
   "outputs": [],
   "source": [
    "# Приведем заголовки к нижнему регистру\n",
    "games.columns = games.columns.str.lower()"
   ]
  },
  {
   "cell_type": "code",
   "execution_count": 9,
   "id": "b5034f81",
   "metadata": {},
   "outputs": [
    {
     "data": {
      "text/html": [
       "<div>\n",
       "<style scoped>\n",
       "    .dataframe tbody tr th:only-of-type {\n",
       "        vertical-align: middle;\n",
       "    }\n",
       "\n",
       "    .dataframe tbody tr th {\n",
       "        vertical-align: top;\n",
       "    }\n",
       "\n",
       "    .dataframe thead th {\n",
       "        text-align: right;\n",
       "    }\n",
       "</style>\n",
       "<table border=\"1\" class=\"dataframe\">\n",
       "  <thead>\n",
       "    <tr style=\"text-align: right;\">\n",
       "      <th></th>\n",
       "      <th>name</th>\n",
       "      <th>platform</th>\n",
       "      <th>year_of_release</th>\n",
       "      <th>genre</th>\n",
       "      <th>na_sales</th>\n",
       "      <th>eu_sales</th>\n",
       "      <th>jp_sales</th>\n",
       "      <th>other_sales</th>\n",
       "      <th>critic_score</th>\n",
       "      <th>user_score</th>\n",
       "      <th>rating</th>\n",
       "    </tr>\n",
       "  </thead>\n",
       "  <tbody>\n",
       "    <tr>\n",
       "      <th>659</th>\n",
       "      <td>NaN</td>\n",
       "      <td>GEN</td>\n",
       "      <td>1,993.00</td>\n",
       "      <td>NaN</td>\n",
       "      <td>1.78</td>\n",
       "      <td>0.53</td>\n",
       "      <td>0.00</td>\n",
       "      <td>0.08</td>\n",
       "      <td>NaN</td>\n",
       "      <td>NaN</td>\n",
       "      <td>NaN</td>\n",
       "    </tr>\n",
       "    <tr>\n",
       "      <th>14244</th>\n",
       "      <td>NaN</td>\n",
       "      <td>GEN</td>\n",
       "      <td>1,993.00</td>\n",
       "      <td>NaN</td>\n",
       "      <td>0.00</td>\n",
       "      <td>0.00</td>\n",
       "      <td>0.03</td>\n",
       "      <td>0.00</td>\n",
       "      <td>NaN</td>\n",
       "      <td>NaN</td>\n",
       "      <td>NaN</td>\n",
       "    </tr>\n",
       "  </tbody>\n",
       "</table>\n",
       "</div>"
      ],
      "text/plain": [
       "      name platform  year_of_release genre  na_sales  eu_sales  jp_sales  \\\n",
       "659    NaN      GEN         1,993.00   NaN      1.78      0.53      0.00   \n",
       "14244  NaN      GEN         1,993.00   NaN      0.00      0.00      0.03   \n",
       "\n",
       "       other_sales  critic_score user_score rating  \n",
       "659           0.08           NaN        NaN    NaN  \n",
       "14244         0.00           NaN        NaN    NaN  "
      ]
     },
     "execution_count": 9,
     "metadata": {},
     "output_type": "execute_result"
    }
   ],
   "source": [
    "games[games['name'].isnull() == True]"
   ]
  },
  {
   "cell_type": "code",
   "execution_count": 10,
   "id": "030cc1c2",
   "metadata": {},
   "outputs": [],
   "source": [
    "# Игры без названия и другой полезной информации, можно скинуть, эта информация не принесет пользы\n",
    "games = games[games['name'].isnull() == False]"
   ]
  },
  {
   "cell_type": "markdown",
   "id": "e8ecb078",
   "metadata": {},
   "source": [
    "Мы имееем пропуски в годах релиза в 269 записях, скидывать их не будем. Заменить просто годом не корректно, так выход игры зависит так же и от платформы релиза. Присвоим пропущенным годам год 2077 в честь Киберпанка2077, этот год в дальнейшем будет меткой показывающей отсутствие года релиза"
   ]
  },
  {
   "cell_type": "code",
   "execution_count": 11,
   "id": "33552f7e",
   "metadata": {},
   "outputs": [],
   "source": [
    "games['year_of_release'] = games['year_of_release'].fillna(2077)"
   ]
  },
  {
   "cell_type": "code",
   "execution_count": 12,
   "id": "e4c32e85",
   "metadata": {},
   "outputs": [],
   "source": [
    "games['year_of_release'] = pd.to_datetime(games['year_of_release'], format='%Y').dt.year"
   ]
  },
  {
   "cell_type": "markdown",
   "id": "9d0b32c2",
   "metadata": {},
   "source": [
    "Для critic_score и user_score есть большое количество пропущенных значений. Можно заменить отсутствующий рейтинг на ноль, в дальнейшем мы будем оценивать эти игры, как игры без рейтинга."
   ]
  },
  {
   "cell_type": "code",
   "execution_count": 13,
   "id": "5a59879a",
   "metadata": {},
   "outputs": [
    {
     "data": {
      "text/plain": [
       "array([76., nan, 82., 80., 89., 58., 87., 91., 61., 97., 95., 77., 88.,\n",
       "       83., 94., 93., 85., 86., 98., 96., 90., 84., 73., 74., 78., 92.,\n",
       "       71., 72., 68., 62., 49., 67., 81., 66., 56., 79., 70., 59., 64.,\n",
       "       75., 60., 63., 69., 50., 25., 42., 44., 55., 48., 57., 29., 47.,\n",
       "       65., 54., 20., 53., 37., 38., 33., 52., 30., 32., 43., 45., 51.,\n",
       "       40., 46., 39., 34., 35., 41., 36., 28., 31., 27., 26., 19., 23.,\n",
       "       24., 21., 17., 22., 13.])"
      ]
     },
     "execution_count": 13,
     "metadata": {},
     "output_type": "execute_result"
    }
   ],
   "source": [
    "games['critic_score'].unique()"
   ]
  },
  {
   "cell_type": "code",
   "execution_count": 14,
   "id": "b7f0b34e",
   "metadata": {},
   "outputs": [
    {
     "data": {
      "text/html": [
       "<div>\n",
       "<style scoped>\n",
       "    .dataframe tbody tr th:only-of-type {\n",
       "        vertical-align: middle;\n",
       "    }\n",
       "\n",
       "    .dataframe tbody tr th {\n",
       "        vertical-align: top;\n",
       "    }\n",
       "\n",
       "    .dataframe thead th {\n",
       "        text-align: right;\n",
       "    }\n",
       "</style>\n",
       "<table border=\"1\" class=\"dataframe\">\n",
       "  <thead>\n",
       "    <tr style=\"text-align: right;\">\n",
       "      <th></th>\n",
       "      <th>name</th>\n",
       "      <th>platform</th>\n",
       "      <th>year_of_release</th>\n",
       "      <th>genre</th>\n",
       "      <th>na_sales</th>\n",
       "      <th>eu_sales</th>\n",
       "      <th>jp_sales</th>\n",
       "      <th>other_sales</th>\n",
       "      <th>critic_score</th>\n",
       "      <th>user_score</th>\n",
       "      <th>rating</th>\n",
       "    </tr>\n",
       "  </thead>\n",
       "  <tbody>\n",
       "  </tbody>\n",
       "</table>\n",
       "</div>"
      ],
      "text/plain": [
       "Empty DataFrame\n",
       "Columns: [name, platform, year_of_release, genre, na_sales, eu_sales, jp_sales, other_sales, critic_score, user_score, rating]\n",
       "Index: []"
      ]
     },
     "execution_count": 14,
     "metadata": {},
     "output_type": "execute_result"
    }
   ],
   "source": [
    "games[games['user_score'] == 0]"
   ]
  },
  {
   "cell_type": "code",
   "execution_count": 15,
   "id": "53e1179c",
   "metadata": {},
   "outputs": [],
   "source": [
    "games['critic_score'] = games['critic_score'].fillna(0).astype('int')"
   ]
  },
  {
   "cell_type": "code",
   "execution_count": 16,
   "id": "09a000bb",
   "metadata": {},
   "outputs": [
    {
     "data": {
      "text/plain": [
       "array(['8', nan, '8.3', '8.5', '6.6', '8.4', '8.6', '7.7', '6.3', '7.4',\n",
       "       '8.2', '9', '7.9', '8.1', '8.7', '7.1', '3.4', '5.3', '4.8', '3.2',\n",
       "       '8.9', '6.4', '7.8', '7.5', '2.6', '7.2', '9.2', '7', '7.3', '4.3',\n",
       "       '7.6', '5.7', '5', '9.1', '6.5', 'tbd', '8.8', '6.9', '9.4', '6.8',\n",
       "       '6.1', '6.7', '5.4', '4', '4.9', '4.5', '9.3', '6.2', '4.2', '6',\n",
       "       '3.7', '4.1', '5.8', '5.6', '5.5', '4.4', '4.6', '5.9', '3.9',\n",
       "       '3.1', '2.9', '5.2', '3.3', '4.7', '5.1', '3.5', '2.5', '1.9', '3',\n",
       "       '2.7', '2.2', '2', '9.5', '2.1', '3.6', '2.8', '1.8', '3.8', '0',\n",
       "       '1.6', '9.6', '2.4', '1.7', '1.1', '0.3', '1.5', '0.7', '1.2',\n",
       "       '2.3', '0.5', '1.3', '0.2', '0.6', '1.4', '0.9', '1', '9.7'],\n",
       "      dtype=object)"
      ]
     },
     "execution_count": 16,
     "metadata": {},
     "output_type": "execute_result"
    }
   ],
   "source": [
    "games['user_score'].unique()"
   ]
  },
  {
   "cell_type": "code",
   "execution_count": 17,
   "id": "b9479db7",
   "metadata": {},
   "outputs": [],
   "source": [
    "games['user_score'] = games['user_score'].replace('tbd', 0).astype('float')"
   ]
  },
  {
   "cell_type": "code",
   "execution_count": 18,
   "id": "c45de2ad",
   "metadata": {},
   "outputs": [],
   "source": [
    "games['user_score'] = games['user_score'].fillna(0)"
   ]
  },
  {
   "cell_type": "code",
   "execution_count": 19,
   "id": "1a46f73c",
   "metadata": {},
   "outputs": [
    {
     "data": {
      "text/plain": [
       "array(['E', nan, 'M', 'T', 'E10+', 'K-A', 'AO', 'EC', 'RP'], dtype=object)"
      ]
     },
     "execution_count": 19,
     "metadata": {},
     "output_type": "execute_result"
    }
   ],
   "source": [
    "games['rating'].unique()"
   ]
  },
  {
   "cell_type": "markdown",
   "id": "c92b84d9",
   "metadata": {},
   "source": [
    "В плане лечения рейтинга, пропущенные значение предлагаю заменить на Unknown, будем дальше оценивать игры у которых рейтинг не известем, представителей этой котегории много "
   ]
  },
  {
   "cell_type": "code",
   "execution_count": 20,
   "id": "ad1e4498",
   "metadata": {},
   "outputs": [],
   "source": [
    "games['rating'] = games['rating'].fillna('Unknown')"
   ]
  },
  {
   "cell_type": "code",
   "execution_count": 21,
   "id": "008f8a67",
   "metadata": {},
   "outputs": [
    {
     "data": {
      "text/plain": [
       "['Wii Sports',\n",
       " 'Super Mario Bros.',\n",
       " 'Mario Kart Wii',\n",
       " 'Wii Sports Resort',\n",
       " 'Pokemon Red/Pokemon Blue',\n",
       " 'Tetris',\n",
       " 'New Super Mario Bros.',\n",
       " 'Wii Play',\n",
       " 'New Super Mario Bros. Wii',\n",
       " 'Duck Hunt',\n",
       " 'Nintendogs',\n",
       " 'Mario Kart DS',\n",
       " 'Pokemon Gold/Pokemon Silver',\n",
       " 'Wii Fit',\n",
       " 'Kinect Adventures!',\n",
       " 'Wii Fit Plus',\n",
       " 'Grand Theft Auto V',\n",
       " 'Grand Theft Auto: San Andreas',\n",
       " 'Super Mario World',\n",
       " 'Brain Age: Train Your Brain in Minutes a Day',\n",
       " 'Pokemon Diamond/Pokemon Pearl',\n",
       " 'Super Mario Land',\n",
       " 'Super Mario Bros. 3',\n",
       " 'Grand Theft Auto: Vice City',\n",
       " 'Pokemon Ruby/Pokemon Sapphire',\n",
       " 'Brain Age 2: More Training in Minutes a Day',\n",
       " 'Pokemon Black/Pokemon White',\n",
       " 'Gran Turismo 3: A-Spec',\n",
       " 'Call of Duty: Modern Warfare 3',\n",
       " 'Pokémon Yellow: Special Pikachu Edition',\n",
       " 'Call of Duty: Black Ops 3',\n",
       " 'Call of Duty: Black Ops',\n",
       " 'Pokemon X/Pokemon Y',\n",
       " 'Call of Duty: Black Ops II',\n",
       " 'Call of Duty: Modern Warfare 2',\n",
       " 'Grand Theft Auto III',\n",
       " 'Super Smash Bros. Brawl',\n",
       " 'Mario Kart 7',\n",
       " 'Animal Crossing: Wild World',\n",
       " 'Halo 3',\n",
       " 'Super Mario 64',\n",
       " 'Pokemon HeartGold/Pokemon SoulSilver',\n",
       " 'Pokemon Omega Ruby/Pokemon Alpha Sapphire',\n",
       " 'Gran Turismo 4',\n",
       " 'Super Mario Galaxy',\n",
       " 'Super Mario Land 2: 6 Golden Coins',\n",
       " 'Grand Theft Auto IV',\n",
       " 'Gran Turismo',\n",
       " 'Super Mario 3D Land',\n",
       " 'Gran Turismo 5',\n",
       " 'Super Mario All-Stars',\n",
       " 'Pokemon FireRed/Pokemon LeafGreen',\n",
       " 'Call of Duty: Ghosts',\n",
       " 'Just Dance 3',\n",
       " 'New Super Mario Bros. 2',\n",
       " 'Mario Kart 64',\n",
       " 'Halo: Reach',\n",
       " 'Final Fantasy VII',\n",
       " 'Halo 4',\n",
       " 'Gran Turismo 2',\n",
       " 'Just Dance 2',\n",
       " 'Call of Duty 4: Modern Warfare',\n",
       " 'Donkey Kong Country',\n",
       " 'Minecraft',\n",
       " 'Animal Crossing: New Leaf',\n",
       " 'Mario Party DS',\n",
       " 'The Elder Scrolls V: Skyrim',\n",
       " 'Super Mario Kart',\n",
       " 'FIFA 16',\n",
       " 'Halo 2',\n",
       " 'Wii Party',\n",
       " 'Mario Party 8',\n",
       " 'FIFA Soccer 13',\n",
       " 'GoldenEye 007',\n",
       " 'Pokemon Black 2/Pokemon White 2',\n",
       " 'Final Fantasy X',\n",
       " 'The Sims 3',\n",
       " 'Mario & Sonic at the Olympic Games',\n",
       " 'Star Wars Battlefront (2015)',\n",
       " 'Final Fantasy VIII',\n",
       " 'Pac-Man',\n",
       " 'Pokémon Platinum Version',\n",
       " 'Grand Theft Auto: Liberty City Stories',\n",
       " 'Call of Duty: Advanced Warfare',\n",
       " 'The Legend of Zelda: Ocarina of Time',\n",
       " 'FIFA 17',\n",
       " 'Crash Bandicoot 2: Cortex Strikes Back',\n",
       " 'Super Smash Bros. for Wii U and 3DS',\n",
       " 'Super Mario Galaxy 2',\n",
       " 'Super Mario Bros. 2',\n",
       " 'Call of Duty: World at War',\n",
       " 'Battlefield 3',\n",
       " 'Need for Speed Underground',\n",
       " 'Just Dance',\n",
       " 'Fallout 4',\n",
       " 'Tekken 3',\n",
       " 'The Legend of Zelda: Twilight Princess',\n",
       " 'Pokemon Sun/Moon',\n",
       " 'Crash Bandicoot 3: Warped',\n",
       " 'Mario Kart 8',\n",
       " 'Super Smash Bros. Melee',\n",
       " 'Mario Kart: Double Dash!!',\n",
       " 'Need for Speed Underground 2',\n",
       " 'Medal of Honor: Frontline',\n",
       " 'Crash Bandicoot',\n",
       " 'Just Dance 4',\n",
       " 'Gears of War 2',\n",
       " \"Uncharted 3: Drake's Deception\",\n",
       " 'Zumba Fitness',\n",
       " 'Uncharted 2: Among Thieves',\n",
       " 'FIFA 12',\n",
       " 'Big Brain Academy',\n",
       " 'The Legend of Zelda',\n",
       " 'Red Dead Redemption',\n",
       " 'FIFA 14',\n",
       " \"Assassin's Creed III\",\n",
       " 'Donkey Kong Country Returns',\n",
       " 'Halo: Combat Evolved',\n",
       " 'Pokémon Emerald Version',\n",
       " 'Kingdom Hearts',\n",
       " 'Pokémon Crystal Version',\n",
       " 'Halo 3: ODST',\n",
       " 'Super Mario Sunshine',\n",
       " 'Street Fighter II: The World Warrior',\n",
       " 'World of Warcraft',\n",
       " 'Driver',\n",
       " 'Gears of War 3',\n",
       " 'Kinect Sports',\n",
       " 'Gears of War',\n",
       " 'FIFA 15',\n",
       " 'Metal Gear Solid 2: Sons of Liberty',\n",
       " 'Sonic the Hedgehog 2',\n",
       " 'Metal Gear Solid',\n",
       " 'Metal Gear Solid 4: Guns of the Patriots',\n",
       " 'Final Fantasy XII',\n",
       " 'The Last of Us',\n",
       " 'LittleBigPlanet',\n",
       " 'Resident Evil 2',\n",
       " 'Dragon Quest IX: Sentinels of the Starry Skies',\n",
       " 'Tekken 2',\n",
       " 'Destiny',\n",
       " 'LEGO Star Wars: The Complete Saga',\n",
       " 'Cooking Mama',\n",
       " 'Super Smash Bros.',\n",
       " \"Assassin's Creed II\",\n",
       " \"Assassin's Creed\",\n",
       " 'Forza Motorsport 3',\n",
       " 'Super Mario Advance',\n",
       " 'Monster Hunter Freedom Unite',\n",
       " 'Batman: Arkham City',\n",
       " 'Mario Kart: Super Circuit',\n",
       " 'Pokemon Stadium',\n",
       " 'Crash Bandicoot: The Wrath of Cortex',\n",
       " \"Uncharted 4: A Thief's End\",\n",
       " 'Dr. Mario',\n",
       " 'Final Fantasy XIII',\n",
       " 'Pokemon Pinball',\n",
       " 'Final Fantasy IX',\n",
       " 'Final Fantasy X-2',\n",
       " 'Donkey Kong 64',\n",
       " 'Tomb Raider II',\n",
       " 'Madden NFL 2004',\n",
       " 'Tomodachi Life',\n",
       " 'New Super Mario Bros. U',\n",
       " 'Dragon Quest VIII: Journey of the Cursed King',\n",
       " 'Professor Layton and the Curious Village',\n",
       " 'Super Mario Land 3: Wario Land',\n",
       " \"Donkey Kong Country 2: Diddy's Kong Quest\",\n",
       " 'Diablo III',\n",
       " 'Medal of Honor: Rising Sun',\n",
       " \"Kirby's Dream Land\",\n",
       " 'Microsoft Flight Simulator',\n",
       " 'Guitar Hero II',\n",
       " 'Fable III',\n",
       " 'Resident Evil 5',\n",
       " 'The Legend of Zelda: Phantom Hourglass',\n",
       " 'FIFA Soccer 11',\n",
       " 'Resident Evil',\n",
       " 'Grand Theft Auto: Vice City Stories',\n",
       " \"Tony Hawk's Pro Skater\",\n",
       " 'Warzone 2100',\n",
       " 'Spyro the Dragon',\n",
       " 'Guitar Hero III: Legends of Rock',\n",
       " \"Link's Crossbow Training\",\n",
       " 'Pokemon Mystery Dungeon: Explorers of Time/Explorers of Darkness',\n",
       " 'Fallout 3',\n",
       " \"Uncharted: Drake's Fortune\",\n",
       " 'Madden NFL 06',\n",
       " 'Diddy Kong Racing',\n",
       " 'Monster Hunter Freedom 3',\n",
       " 'StarCraft II: Wings of Liberty',\n",
       " 'God of War III',\n",
       " 'Crash Team Racing',\n",
       " 'Driver 2',\n",
       " 'The Simpsons: Hit & Run',\n",
       " \"Tony Hawk's Pro Skater 2\",\n",
       " 'The Lord of the Rings: The Two Towers',\n",
       " 'Tomb Raider',\n",
       " 'Animal Crossing: City Folk',\n",
       " 'Uncharted: The Nathan Drake Collection',\n",
       " 'The Legend of Zelda: A Link to the Past',\n",
       " 'The Legend of Zelda: The Wind Waker',\n",
       " \"Luigi's Mansion: Dark Moon\",\n",
       " 'Forza Motorsport 4',\n",
       " 'Mario & Sonic at the Olympic Winter Games',\n",
       " 'Madden NFL 2005',\n",
       " 'Pitfall!',\n",
       " 'Madden NFL 07',\n",
       " 'Halo 5: Guardians',\n",
       " 'Spider-Man: The Movie',\n",
       " 'Dragon Quest VII: Warriors of Eden',\n",
       " 'Call of Duty: Infinite Warfare',\n",
       " 'God of War',\n",
       " 'Splatoon',\n",
       " 'Nintendo Land',\n",
       " \"Tony Hawk's Pro Skater 3\",\n",
       " 'Winning Eleven: Pro Evolution Soccer 2007',\n",
       " 'The Elder Scrolls IV: Oblivion',\n",
       " 'Zelda II: The Adventure of Link',\n",
       " 'Need for Speed: Most Wanted',\n",
       " 'Michael Jackson: The Experience',\n",
       " 'Resistance: Fall of Man',\n",
       " 'Sonic the Hedgehog',\n",
       " 'Kingdom Hearts II',\n",
       " 'Super Mario 3D World',\n",
       " 'Asteroids',\n",
       " 'Fable II',\n",
       " 'Namco Museum',\n",
       " 'Batman: Arkham Asylum',\n",
       " 'Metal Gear Solid 3: Snake Eater',\n",
       " \"Assassin's Creed: Revelations\",\n",
       " 'Daxter',\n",
       " 'Warcraft II: Tides of Darkness',\n",
       " 'FIFA Soccer 06',\n",
       " 'EyeToy Play',\n",
       " 'Gran Turismo 5 Prologue',\n",
       " 'Teenage Mutant Ninja Turtles',\n",
       " 'Street Fighter IV',\n",
       " 'Excitebike',\n",
       " 'Frogger',\n",
       " 'Madden NFL 2003',\n",
       " 'Half-Life',\n",
       " \"Super Mario World 2: Yoshi's Island\",\n",
       " 'FIFA Soccer 07',\n",
       " 'Street Fighter II Turbo',\n",
       " 'World of Warcraft: The Burning Crusade',\n",
       " 'Battlefield 1',\n",
       " 'God of War II',\n",
       " 'World Soccer Winning Eleven 9',\n",
       " 'Fallout: New Vegas',\n",
       " 'Forza Motorsport 2',\n",
       " 'Carnival Games',\n",
       " 'Watch Dogs',\n",
       " 'Namco Museum Vol.3',\n",
       " 'Tekken Tag Tournament',\n",
       " 'Far Cry 4',\n",
       " 'Star Fox 64',\n",
       " 'Golf',\n",
       " 'Namco Museum: 50th Anniversary',\n",
       " 'Left 4 Dead 2',\n",
       " 'The Witcher 3: Wild Hunt',\n",
       " \"Assassin's Creed: Unity\",\n",
       " 'Batman: Arkham Knight',\n",
       " 'The Legend of Zelda: Skyward Sword',\n",
       " 'Professor Layton and the Diabolical Box',\n",
       " 'Donkey Kong Land',\n",
       " 'EA Sports Active',\n",
       " \"Tony Hawk's Underground\",\n",
       " 'Monster Hunter 4 Ultimate',\n",
       " 'NBA 2K16',\n",
       " 'Tekken 5',\n",
       " 'Dragon Warrior III',\n",
       " 'MotorStorm',\n",
       " 'Nintendogs + cats',\n",
       " 'World Soccer Winning Eleven 8 International',\n",
       " 'Sports Champions',\n",
       " 'Namco Museum Vol.1',\n",
       " \"The Legend of Zelda: Link's Awakening\",\n",
       " 'Flash Focus: Vision Training in Minutes a Day',\n",
       " \"Tom Clancy's The Division\",\n",
       " 'Big Brain Academy: Wii Degree',\n",
       " \"Resident Evil Director's Cut\",\n",
       " \"Mario & Luigi: Bowser's Inside Story\",\n",
       " 'LEGO Indiana Jones: The Original Adventures',\n",
       " 'The Sims: Unleashed',\n",
       " 'Ratchet & Clank: Size Matters',\n",
       " \"Harry Potter and the Sorcerer's Stone\",\n",
       " 'Mario & Sonic at the London 2012 Olympic Games',\n",
       " 'Resident Evil 3: Nemesis',\n",
       " 'Super Paper Mario',\n",
       " 'Spyro: Year of the Dragon',\n",
       " \"Assassin's Creed IV: Black Flag\",\n",
       " 'FIFA Soccer 2005',\n",
       " 'Pokémon Trading Card Game',\n",
       " 'Friend Collection',\n",
       " \"Tony Hawk's Pro Skater 4\",\n",
       " 'MySims',\n",
       " 'Midnight Club 3: DUB Edition',\n",
       " 'Banjo-Kazooie',\n",
       " 'SOCOM: U.S. Navy SEALs',\n",
       " 'Jak and Daxter: The Precursor Legacy',\n",
       " 'Pokemon Snap',\n",
       " 'Pro Evolution Soccer 2008',\n",
       " 'Resident Evil 4',\n",
       " 'Guitar Hero: World Tour',\n",
       " 'FIFA Soccer 10',\n",
       " 'Star Wars: Battlefront',\n",
       " 'Doom II: Hell on Earth',\n",
       " 'The Simpsons: Road Rage',\n",
       " \"Luigi's Mansion\",\n",
       " 'Battlefield 4',\n",
       " 'Star Wars: Battlefront II',\n",
       " 'Just Dance 2014',\n",
       " 'Cooking Mama 2: Dinner With Friends',\n",
       " 'WWF SmackDown!',\n",
       " 'Croc: Legend of the Gobbos',\n",
       " 'The Getaway',\n",
       " 'Tomb Raider III: Adventures of Lara Croft',\n",
       " 'James Bond 007: Agent Under Fire',\n",
       " 'LEGO Star Wars: The Video Game',\n",
       " 'Rugrats in Paris: The Movie',\n",
       " \"Spyro 2: Ripto's Rage!\",\n",
       " 'Left 4 Dead',\n",
       " \"Donkey Kong Country 3: Dixie Kong's Double Trouble!\",\n",
       " 'Kung Fu',\n",
       " \"Assassin's Creed: Brotherhood\",\n",
       " 'FIFA Soccer 2004',\n",
       " 'Battlefield: Bad Company 2',\n",
       " 'Guitar Hero: On Tour',\n",
       " 'Clubhouse Games',\n",
       " 'Monster Hunter 4',\n",
       " 'Borderlands',\n",
       " 'Tekken 4',\n",
       " 'Final Fantasy III',\n",
       " 'Grand Theft Auto 2',\n",
       " 'Metal Gear Solid V: The Phantom Pain',\n",
       " 'Spider-Man 2',\n",
       " 'F-1 Race',\n",
       " 'FIFA Soccer 2003',\n",
       " 'LittleBigPlanet 2',\n",
       " 'Crash Bash',\n",
       " \"Assassin's Creed Syndicate\",\n",
       " 'LEGO Batman: The Videogame',\n",
       " 'WWF War Zone',\n",
       " \"The Legend of Zelda: Majora's Mask\",\n",
       " 'Far Cry 3',\n",
       " 'Rugrats: Search For Reptar',\n",
       " 'English Training: Have Fun Improving Your Skills!',\n",
       " 'James Bond 007: Nightfire',\n",
       " 'Ratchet & Clank',\n",
       " 'Monster Hunter X',\n",
       " 'Star Wars Episode III: Revenge of the Sith',\n",
       " 'The Legend of Zelda: Spirit Tracks',\n",
       " 'Max Payne',\n",
       " 'The Lord of the Rings: The Return of the King',\n",
       " 'Yokai Watch 2 Ganso/Honke',\n",
       " 'Gears of War: Ultimate Edition',\n",
       " 'True Crime: Streets of LA',\n",
       " 'Professor Layton and the Unwound Future',\n",
       " 'Gran Turismo (PSP)',\n",
       " 'Wii Music',\n",
       " 'Tekken',\n",
       " 'Madden NFL 16',\n",
       " 'Gran Turismo 6',\n",
       " 'Halo: The Master Chief Collection',\n",
       " '007: Tomorrow Never Dies',\n",
       " 'Super Mario Maker',\n",
       " 'WWF SmackDown! 2: Know Your Role',\n",
       " 'Baseball',\n",
       " 'Killer Instinct',\n",
       " 'Dragon Quest VI: Maboroshi no Daichi',\n",
       " 'God of War: Chains of Olympus',\n",
       " 'Enter the Matrix',\n",
       " 'Crisis Core: Final Fantasy VII',\n",
       " 'Dance Central',\n",
       " 'L.A. Noire',\n",
       " 'Ace Combat 04: Shattered Skies',\n",
       " 'Animal Crossing',\n",
       " 'FIFA Soccer 08',\n",
       " 'Club Penguin: Elite Penguin Force',\n",
       " 'Spider-Man',\n",
       " 'Mario Party 9',\n",
       " 'Need for Speed III: Hot Pursuit',\n",
       " 'Star Wars Episode I Racer',\n",
       " 'Sonic Rush',\n",
       " 'Dragon Warrior IV',\n",
       " 'Rhythm Heaven',\n",
       " 'Personal Trainer: Cooking',\n",
       " 'The Legend of Zelda: A Link Between Worlds',\n",
       " 'Resident Evil 6',\n",
       " 'Mass Effect 2',\n",
       " 'Dragon Ball Z: Budokai',\n",
       " 'Madden NFL 2002',\n",
       " 'World Class Track Meet',\n",
       " 'Donkey Kong',\n",
       " 'The Sims: Vacation',\n",
       " 'Animal Crossing: Happy Home Designer',\n",
       " 'The Sims 4',\n",
       " 'Borderlands 2',\n",
       " 'Kung Fu Panda',\n",
       " 'Mass Effect 3',\n",
       " 'Heavy Rain',\n",
       " 'Rayman',\n",
       " 'Saints Row 2',\n",
       " \"Tom Clancy's Splinter Cell\",\n",
       " \"Mike Tyson's Punch-Out!!\",\n",
       " 'WWE SmackDown! Shut Your Mouth',\n",
       " 'Killzone 2',\n",
       " 'Epic Mickey',\n",
       " 'NBA 2K13',\n",
       " 'Dragon Ball Z: Budokai Tenkaichi 3',\n",
       " 'wwe Smackdown vs. Raw 2006',\n",
       " 'Star Fox',\n",
       " 'The Sims: Livin Large',\n",
       " 'World Soccer Winning Eleven 6 International',\n",
       " 'Devil May Cry',\n",
       " 'Star Wars: The Old Republic',\n",
       " 'Middle-Earth: Shadow of Mordor',\n",
       " 'Sonic Heroes',\n",
       " 'Hitman 2: Silent Assassin',\n",
       " 'Titanfall',\n",
       " 'Wave Race 64',\n",
       " 'SOCOM II: U.S. Navy SEALs',\n",
       " 'WWE SmackDown! vs. RAW 2006',\n",
       " 'Pac-Man Collection',\n",
       " 'inFAMOUS',\n",
       " 'Kirby Super Star Ultra',\n",
       " 'Mass Effect',\n",
       " 'Sonic Mega Collection Plus',\n",
       " 'World Soccer Winning Eleven 7 International',\n",
       " 'Sega Superstars Tennis',\n",
       " 'Hot Shots Golf 3',\n",
       " 'Cooking Mama: Cook Off',\n",
       " 'Call of Duty: Finest Hour',\n",
       " 'WarioWare: Smooth Moves',\n",
       " 'Syphon Filter',\n",
       " 'Imagine: Babyz',\n",
       " 'Colin McRae Rally',\n",
       " 'Madden NFL 13',\n",
       " 'The Elder Scrolls III: Morrowind',\n",
       " 'Command & Conquer: Red Alert',\n",
       " 'F-Zero',\n",
       " \"Yoshi's Story\",\n",
       " 'Mortal Kombat',\n",
       " 'Madden NFL 10',\n",
       " 'WWE SmackDown! vs. Raw',\n",
       " 'BioShock',\n",
       " 'Metroid Prime',\n",
       " 'Finding Nemo',\n",
       " 'Zumba Fitness 2',\n",
       " 'Myst',\n",
       " 'Medal of Honor',\n",
       " 'Imagine: Fashion Designer',\n",
       " 'WWE SmackDown! Here Comes the Pain',\n",
       " 'Hot Shots Golf',\n",
       " \"A Bug's Life\",\n",
       " 'WWF SmackDown! Just Bring It',\n",
       " 'inFAMOUS: Second Son',\n",
       " 'Dragon Quest V: Tenkuu no Hanayome',\n",
       " 'Mortal Kombat Trilogy',\n",
       " 'Monster Hunter Tri',\n",
       " 'NBA Street',\n",
       " 'Jak II',\n",
       " 'Ratchet & Clank: Going Commando',\n",
       " 'Need for Speed: Hot Pursuit',\n",
       " \"Skylanders: Spyro's Adventure\",\n",
       " 'Mortal Kombat X',\n",
       " 'The Sims',\n",
       " 'Killzone 3',\n",
       " 'Star Wars: The Force Unleashed',\n",
       " \"Yoshi's Island DS\",\n",
       " 'Saints Row: The Third',\n",
       " 'Missile Command',\n",
       " 'Mario Paint',\n",
       " 'Tekken 6',\n",
       " 'Pokémon Stadium 2',\n",
       " 'Metroid',\n",
       " 'Sonic and the Secret Rings',\n",
       " 'Onimusha: Warlords',\n",
       " 'Mario Party',\n",
       " 'Call of Duty 3',\n",
       " 'Madden NFL 12',\n",
       " 'LEGO Star Wars II: The Original Trilogy',\n",
       " 'Killzone: Shadow Fall',\n",
       " 'Madden NFL 11',\n",
       " 'Burnout 3: Takedown',\n",
       " 'Yokai Watch 2 Shinuchi',\n",
       " 'Mario vs. Donkey Kong: Mini-Land Mayhem!',\n",
       " 'Professor Layton and the Last Specter',\n",
       " 'Call Of Duty 2: Big Red One',\n",
       " 'Fable',\n",
       " 'Hannah Montana',\n",
       " 'Super Mario Bros.: The Lost Levels',\n",
       " 'Need for Speed: Shift',\n",
       " 'Star Wars: Shadows of the Empire',\n",
       " 'Medal of Honor Heroes',\n",
       " 'Final Fantasy XIII-2',\n",
       " 'Midnight Club: Street Racing',\n",
       " 'Skate 3',\n",
       " 'ESPN NFL 2K5',\n",
       " 'Halo Wars',\n",
       " 'NBA 2K12',\n",
       " 'Pac-Man: Adventures in Time',\n",
       " 'Harry Potter and the Chamber of Secrets',\n",
       " 'Streets of Rage',\n",
       " 'God of War Collection',\n",
       " 'NBA Live 2005',\n",
       " 'Mario Strikers Charged',\n",
       " 'FIFA Soccer 09',\n",
       " 'Style Savvy',\n",
       " 'WWE SmackDown vs. RAW 2007',\n",
       " 'Ratchet & Clank: Up Your Arsenal',\n",
       " 'Madden NFL 08',\n",
       " 'Monster Hunter Freedom 2',\n",
       " 'Ratchet & Clank Future: Tools of Destruction',\n",
       " 'Super Mario All-Stars: Limited Edition',\n",
       " 'Sonic Adventure 2 Battle',\n",
       " 'Dragon Warrior II',\n",
       " 'Ghostbusters: The Video Game (DS Version)',\n",
       " 'Dragon Age: Origins',\n",
       " 'Pokémon Colosseum',\n",
       " 'Madden NFL 09',\n",
       " 'Space Invaders',\n",
       " 'Crazy Taxi',\n",
       " 'Art Academy',\n",
       " 'NBA 2K14',\n",
       " 'Perfect Dark',\n",
       " 'Skylanders Giants',\n",
       " 'Dragon Warrior',\n",
       " 'Deca Sports',\n",
       " 'PES 2009: Pro Evolution Soccer',\n",
       " 'Mario Party 2',\n",
       " 'Marvel: Ultimate Alliance',\n",
       " 'Rockstar Games Double Pack: Grand Theft Auto III & Grand Theft Auto Vice City',\n",
       " 'Mortal Kombat: Deadly Alliance',\n",
       " 'Game Party',\n",
       " 'Bloodborne',\n",
       " 'Tomb Raider: The Last Revelation',\n",
       " 'Mario Party 4',\n",
       " 'Pure',\n",
       " 'Rock Band',\n",
       " 'Resistance 2',\n",
       " 'NBA 2K15',\n",
       " 'Final Fantasy V',\n",
       " 'Final Fantasy Tactics',\n",
       " 'Midnight Club: Los Angeles',\n",
       " 'Twisted Metal 2',\n",
       " \"The Sims: Bustin' Out\",\n",
       " 'Riven: The Sequel to Myst',\n",
       " 'LEGO Harry Potter: Years 1-4',\n",
       " 'Need for Speed (2015)',\n",
       " 'Ice Hockey',\n",
       " 'Sonic Adventure',\n",
       " \"Tom Clancy's Rainbow Six: Vegas 2\",\n",
       " 'uDraw Studio',\n",
       " 'Tomb Raider (2013)',\n",
       " 'Need for Speed Carbon: Own the City',\n",
       " 'Dragon Ball Z: Budokai 2',\n",
       " 'pro evolution soccer 2011',\n",
       " 'ATV Offroad Fury',\n",
       " 'Dino Crisis',\n",
       " 'Need for Speed: ProStreet',\n",
       " 'Halo: Combat Evolved Anniversary',\n",
       " 'Tetris Plus',\n",
       " 'Pro Wrestling',\n",
       " 'Theme Hospital',\n",
       " \"Frogger's Adventures: Temple of the Frog\",\n",
       " 'Monopoly',\n",
       " 'Guitar Hero',\n",
       " 'WCW/nWo Revenge',\n",
       " 'Yu-Gi-Oh! The Duelists of the Roses',\n",
       " 'Dead Island',\n",
       " 'Half-Life 2',\n",
       " 'The Incredibles',\n",
       " \"Tony Hawk's Underground 2\",\n",
       " \"Kirby's Dream Land 2\",\n",
       " 'Donkey Kong Land II',\n",
       " 'Dragon Warrior Monsters',\n",
       " 'Kinect: Disneyland Adventures',\n",
       " 'WWE SmackDown vs Raw 2008',\n",
       " \"The Legend of Zelda: Majora's Mask 3D\",\n",
       " 'Resident Evil - Code: Veronica X',\n",
       " 'Kinect Sports: Season Two',\n",
       " 'My Fitness Coach',\n",
       " 'Mario Tennis',\n",
       " 'Grand Theft Auto',\n",
       " 'James Bond 007: Everything or Nothing',\n",
       " 'Need For Speed: High Stakes',\n",
       " 'Chrono Trigger',\n",
       " 'Guild Wars 2',\n",
       " 'Cool Boarders 3',\n",
       " 'Paper Mario: Sticker Star',\n",
       " 'WarioWare Touched!',\n",
       " 'Batman: Arkham Origins',\n",
       " 'Yokai Watch Busters',\n",
       " 'Pro Evolution Soccer 2010',\n",
       " 'Mario Bros.',\n",
       " 'Pokemon Ranger: Shadows of Almia',\n",
       " 'TOCA Touring Car Championship',\n",
       " 'Kirby: Nightmare in Dream Land',\n",
       " 'Wario Land 4',\n",
       " \"Sonic's Ultimate Genesis Collection\",\n",
       " 'Far Cry: Primal',\n",
       " \"Onimusha 2: Samurai's Destiny\",\n",
       " 'Cool Boarders 2',\n",
       " 'Paper Mario: The Thousand-Year Door',\n",
       " 'God of War: Ascension',\n",
       " 'Sonic Advance',\n",
       " 'Super Monkey Ball: Banana Blitz',\n",
       " 'Just Dance Kids',\n",
       " 'New Super Luigi U',\n",
       " 'Spyro: Season of Ice',\n",
       " 'Dissidia: Final Fantasy',\n",
       " 'Madden NFL 25',\n",
       " 'Teenage Mutant Ninja Turtles II: The Arcade Game',\n",
       " 'Dance Dance Revolution X2',\n",
       " 'Prince of Persia: The Sands of Time',\n",
       " 'LEGO Marvel Super Heroes',\n",
       " \"The Legend of Zelda: Link's Awakening DX\",\n",
       " \"Tom Clancy's Rainbow Six: Siege\",\n",
       " \"Devil May Cry 3: Dante's Awakening Special Edition\",\n",
       " 'Forza Motorsport 5',\n",
       " 'Rock Band 2',\n",
       " 'Pro Yakyuu Family Stadium',\n",
       " 'Wario Land 3',\n",
       " 'BioShock 2',\n",
       " \"High School Musical: Makin' the Cut!\",\n",
       " 'Star Wars: Knights of the Old Republic',\n",
       " \"Kirby's Pinball Land\",\n",
       " 'Madden NFL 15',\n",
       " 'Pro Evolution Soccer 2012',\n",
       " 'Saints Row',\n",
       " 'Yu-Gi-Oh: Duel Monsters 4',\n",
       " 'ATV Offroad Fury 2',\n",
       " 'Mario & Luigi: Superstar Saga',\n",
       " 'Star Wars: Rogue Squadron',\n",
       " 'Tennis',\n",
       " 'The Sims: House Party',\n",
       " 'Scribblenauts',\n",
       " 'Sonic Unleashed',\n",
       " 'Syphon Filter 2',\n",
       " 'Pokemon Ranger',\n",
       " 'Volleyball',\n",
       " 'Skylanders SWAP Force',\n",
       " 'Overwatch',\n",
       " 'Hitman: Absolution',\n",
       " 'SimCity 2000',\n",
       " 'R.C. Pro-Am',\n",
       " 'Super Mario RPG: Legend of the Seven Stars',\n",
       " 'Mahjong',\n",
       " 'Demon Attack',\n",
       " 'Call of Duty: Roads to Victory',\n",
       " 'Dance Dance Revolution Extreme',\n",
       " 'Final Fantasy Tactics Advance',\n",
       " 'Your Shape featuring Jenny McCarthy',\n",
       " 'Project Gotham Racing',\n",
       " 'Need for Speed: Hot Pursuit 2',\n",
       " 'Dynasty Warriors 4',\n",
       " 'Parasite Eve',\n",
       " 'Tetris DS',\n",
       " 'Project Gotham Racing (JP weekly sales)',\n",
       " 'Scooby-Doo! Night of 100 Frights',\n",
       " 'Battlefield: Hardline',\n",
       " \"Devil May Cry 3: Dante's Awakening\",\n",
       " 'Derby Stallion',\n",
       " 'NBA 2K11',\n",
       " 'Dying Light',\n",
       " 'Yokai Watch',\n",
       " 'Dead Rising',\n",
       " 'World of Warcraft: Cataclysm',\n",
       " 'Tetris Worlds',\n",
       " 'Sim Theme Park',\n",
       " 'Mario Party 5',\n",
       " 'Warcraft: Orcs & Humans',\n",
       " 'Mario & Luigi: Dream Team',\n",
       " 'Portal 2',\n",
       " 'Mario Sports Mix',\n",
       " 'Need for Speed: Most Wanted 5-1-0',\n",
       " 'Spec Ops: Airborne Commando',\n",
       " 'The Sims 2: Pets',\n",
       " 'Dance Dance Revolution: Hottest Party',\n",
       " 'DriveClub',\n",
       " 'Yu-Gi-Oh! The Eternal Duelist Soul',\n",
       " 'UFC 2009 Undisputed',\n",
       " 'Metal Gear Solid: Peace Walker',\n",
       " \"Kirby's Epic Yarn\",\n",
       " 'Wipeout: The Game',\n",
       " 'Pokemon Mystery Dungeon: Red/Blue Rescue Team',\n",
       " 'R4: Ridge Racer Type 4',\n",
       " 'Kingdom Hearts: Birth by Sleep',\n",
       " \"Tom Clancy's Splinter Cell: Conviction\",\n",
       " 'SoulCalibur II',\n",
       " 'Sonic Mega Collection',\n",
       " 'Need For Speed: Undercover',\n",
       " 'Toy Story 3: The Video Game',\n",
       " 'NBA Jam',\n",
       " 'SOCOM: U.S. Navy SEALs: Combined Assault',\n",
       " \"Peter Jackson's King Kong: The Official Game of the Movie\",\n",
       " 'Dance Central 2',\n",
       " 'PGR4 - Project Gotham Racing 4',\n",
       " '1080°: TenEighty Snowboarding',\n",
       " 'NBA Live 2004',\n",
       " 'Call of Duty 2',\n",
       " 'Rayman Raving Rabbids: TV Party',\n",
       " 'Pokémon Mystery Dungeon: Blue Rescue Team',\n",
       " 'Dark Souls',\n",
       " 'Fire Emblem: Awakening',\n",
       " 'Need for Speed: The Run',\n",
       " 'Just Dance 2015',\n",
       " 'Dragon Age: Inquisition',\n",
       " 'Super Street Fighter II',\n",
       " 'Dead Space',\n",
       " 'Mortal Kombat vs. DC Universe',\n",
       " 'TouchMaster',\n",
       " 'Tenchu: Stealth Assassins',\n",
       " 'Kingdom Hearts 358/2 Days',\n",
       " 'SimCity',\n",
       " 'Need for Speed Rivals',\n",
       " 'Spyro: Enter the Dragonfly',\n",
       " 'Devil May Cry 2',\n",
       " 'E.T.: The Extra Terrestrial',\n",
       " 'Hot Shots Golf: Open Tee',\n",
       " 'Soccer',\n",
       " 'Rad Racer',\n",
       " 'Forza Horizon',\n",
       " \"Tom Clancy's Rainbow Six: Vegas\",\n",
       " 'Crash Nitro Kart',\n",
       " 'Star Wars: Dark Forces',\n",
       " 'NBA Street Vol. 2',\n",
       " 'Def Jam Vendetta',\n",
       " 'Kirby Squeak Squad',\n",
       " 'Burnout Paradise',\n",
       " 'Who wants to be a millionaire',\n",
       " 'Alleyway',\n",
       " 'Scooby Doo and the Cyber Chase',\n",
       " 'Dragon Ball Z: Budokai 3',\n",
       " 'Jet Moto 2',\n",
       " \"Tom Clancy's Ghost Recon\",\n",
       " 'BioShock Infinite',\n",
       " 'X-Men Legends',\n",
       " 'Mortal Kombat II',\n",
       " 'Virtua Fighter 2',\n",
       " 'Destiny: The Taken King',\n",
       " 'Tetris DX',\n",
       " 'The Legend of Zelda: Oracle of Ages',\n",
       " 'Red Faction',\n",
       " \"The Sims: Makin' Magic\",\n",
       " 'Mario Party: Island Tour',\n",
       " 'MX Unleashed',\n",
       " 'PaRappa The Rapper',\n",
       " 'Mario Party 3',\n",
       " 'LittleBigPlanet 3',\n",
       " 'Star Wars Rogue Leader: Rogue Squadron II',\n",
       " 'Mario Super Sluggers',\n",
       " 'Game Party 2',\n",
       " 'Yu-Gi-Oh! Forbidden Memories',\n",
       " 'Mortal Kombat: Deception',\n",
       " 'Hot Shots Golf 2',\n",
       " 'Medal of Honor: European Assault (All Region sales)',\n",
       " 'NBA 2K17',\n",
       " 'Toy Story Mania!',\n",
       " 'WCW Nitro',\n",
       " 'High School Musical: Sing It!',\n",
       " 'Star Fox Adventures',\n",
       " 'FIFA 2000',\n",
       " 'Dynasty Warriors 3',\n",
       " 'The Legend of Zelda: Oracle of Seasons',\n",
       " 'Ratchet & Clank Future: A Crack in Time',\n",
       " 'Shrek 2',\n",
       " 'Turok 2: Seeds of Evil',\n",
       " 'The Legend of Dragoon',\n",
       " 'SingStar',\n",
       " 'NBA Live 2002',\n",
       " 'Just Cause 3',\n",
       " 'Chrono Cross',\n",
       " 'Jak 3',\n",
       " 'Kingdom Hearts: Chain of Memories',\n",
       " 'Pinball',\n",
       " 'Max Payne 3',\n",
       " 'Gran Turismo Concept 2001 Tokyo',\n",
       " 'Phineas and Ferb',\n",
       " 'NCAA Football 06',\n",
       " 'Hey You, Pikachu!',\n",
       " 'Rayman Raving Rabbids 2',\n",
       " '2 Games in 1: Sonic Advance & ChuChu Rocket!',\n",
       " 'Jet Moto',\n",
       " 'Kirby: Triple Deluxe',\n",
       " 'Secret of Mana',\n",
       " 'GoldenEye 007 (2010)',\n",
       " 'Sonic Classic Collection',\n",
       " 'Air Combat',\n",
       " 'inFAMOUS 2',\n",
       " 'World of Warcraft: Mists of Pandaria',\n",
       " 'Sonic & Knuckles',\n",
       " 'The Sims: Hot Date',\n",
       " \"Demon's Souls\",\n",
       " 'The Orange Box',\n",
       " 'DDRMAX2: Dance Dance Revolution',\n",
       " 'Virtua Fighter 4',\n",
       " 'Mafia III',\n",
       " 'Sly 2: Band of Thieves',\n",
       " 'Sonic Advance 2',\n",
       " 'NFL GameDay 2000',\n",
       " 'Forza Motorsport 6',\n",
       " 'The Evil Within',\n",
       " 'Metroid Prime 3: Corruption',\n",
       " \"Disney's The Lion King\",\n",
       " 'Professor Layton and the Mask of Miracle',\n",
       " 'Midnight Club II',\n",
       " 'SpongeBob SquarePants: SuperSponge',\n",
       " 'The Getaway: Black Monday',\n",
       " '50 Cent: Bulletproof',\n",
       " 'Final Fantasy II',\n",
       " 'Kirby 64: The Crystal Shards',\n",
       " 'Dead or Alive 3',\n",
       " 'Dragon Quest Monsters: Joker',\n",
       " 'LEGO Star Wars III: The Clone Wars',\n",
       " 'Metroid II: Return of Samus',\n",
       " 'WWF Attitude',\n",
       " 'The SpongeBob SquarePants Movie',\n",
       " 'Golden Sun',\n",
       " 'Sonic the Hedgehog 3',\n",
       " 'Kid Icarus',\n",
       " 'Def Jam: Fight for NY',\n",
       " 'State of Emergency',\n",
       " '2 Games in 1 Double Pack: The Incredibles / Finding Nemo: The Continuing Adventures',\n",
       " 'The Urbz: Sims in the City',\n",
       " 'Star Wars: Starfighter',\n",
       " 'Madden NFL 2000',\n",
       " 'Pro Evolution Soccer',\n",
       " 'Madden NFL 17',\n",
       " 'Just Cause 2',\n",
       " \"Disney's Aladdin\",\n",
       " \"Kirby's Adventure\",\n",
       " 'Yoshi',\n",
       " 'The Elder Scrolls Online',\n",
       " 'Crackdown',\n",
       " 'Wii Party U',\n",
       " 'Dance Dance Revolution X',\n",
       " '2 Games in 1: Disney Princess & The Lion King',\n",
       " 'Star Wars Episode I: The Phantom Menace',\n",
       " 'Xenosaga Episode I: Der Wille zur Macht',\n",
       " 'Kinect Star Wars',\n",
       " \"Dragon's Dogma\",\n",
       " \"Cruis'n USA\",\n",
       " 'Madden NFL 99',\n",
       " 'The Order: 1886',\n",
       " 'SSX Tricky',\n",
       " 'Knack',\n",
       " 'Twisted Metal III',\n",
       " 'Dragon Quest VI: Realms of Revelation',\n",
       " 'Crash Bandicoot: The Huge Adventure',\n",
       " 'The Crew',\n",
       " 'Call of Duty: World at War Final Fronts',\n",
       " 'Star Ocean: Till The End of Time',\n",
       " 'Dishonored',\n",
       " 'Toy Story 2: Buzz Lightyear to the Rescue!',\n",
       " 'The Beatles: Rock Band',\n",
       " 'Ace Combat 5: The Unsung War',\n",
       " 'Kanshuu Nippon Joushikiryoku Kentei Kyoukai: Imasara Hito ni wa Kikenai Otona no Joushikiryoku Training DS',\n",
       " 'Imagine: Teacher',\n",
       " 'Deal or No Deal',\n",
       " 'Super Puyo Puyo',\n",
       " 'NCAA Football 07',\n",
       " 'The Sims 3: Late Night Expansion Pack',\n",
       " \"No Man's Sky\",\n",
       " 'Ben 10: Protector of Earth',\n",
       " \"Cabela's Big Game Hunter 2010\",\n",
       " 'SOCOM 3: U.S. Navy SEALs',\n",
       " \"Jampack Winter '99\",\n",
       " 'WCW vs. nWo: World Tour',\n",
       " 'WCW/NWO Thunder',\n",
       " 'Dragon Ball Z: The Legacy of Goku',\n",
       " 'Cooking Mama 3: Shop & Chop',\n",
       " 'Personal Trainer: Math',\n",
       " 'Game Party 3',\n",
       " 'World Championship Poker: Featuring Howard Lederer - All In',\n",
       " 'NFL GameDay 98',\n",
       " 'Sonic Colors',\n",
       " \"Yoshi's Cookie\",\n",
       " 'Time Crisis',\n",
       " \"Sid Meier's Civilization V\",\n",
       " ' Fire Emblem Fates',\n",
       " 'The Sims: Superstar',\n",
       " 'Metroid Fusion',\n",
       " 'We Ski',\n",
       " 'Star Wars Battlefront: Renegade Squadron',\n",
       " 'SSX 3',\n",
       " 'Madden NFL 2001',\n",
       " \"Disney's DuckTales\",\n",
       " 'Monsters, Inc.',\n",
       " 'PGR: Project Gotham Racing 2',\n",
       " 'Spy Hunter',\n",
       " 'NCAA Football 2004',\n",
       " 'Fight Night Round 3',\n",
       " 'StarCraft II: Heart of the Swarm',\n",
       " 'SpongeBob SquarePants: Battle for Bikini Bottom',\n",
       " 'Until Dawn',\n",
       " 'Big Beach Sports',\n",
       " \"Street Fighter II': Special Champion Edition\",\n",
       " 'SSX',\n",
       " 'Shaun White Snowboarding: Road Trip',\n",
       " 'NBA Ballers',\n",
       " 'Saints Row IV',\n",
       " 'NBA Live 2003',\n",
       " 'LEGO Batman 2: DC Super Heroes',\n",
       " 'Dragon Ball Z: Budokai Tenkaichi',\n",
       " 'Dark Souls III',\n",
       " 'Ms. Pac-Man',\n",
       " \"Kirby's Return to Dreamland\",\n",
       " 'Mario Party 6',\n",
       " 'Super Scope 6',\n",
       " 'Star Wars The Clone Wars: Lightsaber Duels',\n",
       " 'Need for Speed Carbon',\n",
       " 'Heavenly Sword',\n",
       " 'Kirby & the Amazing Mirror',\n",
       " 'Army of Two',\n",
       " 'Dig Dug',\n",
       " \"Tom Clancy's Rainbow Six\",\n",
       " \"Ghosts 'n Goblins\",\n",
       " 'Tiger Woods PGA Tour 2003',\n",
       " 'NBA Live 06 (All region sales)',\n",
       " 'Prince of Persia: Warrior Within',\n",
       " 'Beyond: Two Souls',\n",
       " 'Pikmin',\n",
       " 'Tiger Woods PGA Tour 2004',\n",
       " 'Ape Escape',\n",
       " 'NCAA Football 2005',\n",
       " 'Viva Pinata',\n",
       " \"Tony Hawk's American Wasteland (Old all region sales)\",\n",
       " 'Kinectimals',\n",
       " 'Kirby Air Ride',\n",
       " 'Sled Storm',\n",
       " 'Dragon Quest IV: Chapters of the Chosen',\n",
       " 'NFL Street 2',\n",
       " 'Yu-Gi-Oh! Duel Monsters',\n",
       " 'Super Mario Strikers',\n",
       " 'Buzz! The Music Quiz',\n",
       " 'Rage',\n",
       " 'Mario Hoops 3 on 3',\n",
       " \"SpongeBob's Atlantis SquarePantis\",\n",
       " 'Dollar Dash',\n",
       " 'F-1 World Grand Prix',\n",
       " 'River Raid',\n",
       " 'Silent Hill',\n",
       " 'Disney Infinity',\n",
       " 'ESPN NBA 2K5',\n",
       " 'Diablo',\n",
       " 'Far Cry 2',\n",
       " 'Soul Edge',\n",
       " 'NASCAR 2000',\n",
       " 'Pokemon Battle Revolution',\n",
       " 'Kingdom Hearts 3D: Dream Drop Distance',\n",
       " 'Dance Dance Revolution: Hottest Party 2',\n",
       " 'SoulCalibur IV',\n",
       " 'Jampack Summer 2K',\n",
       " 'Sonic Generations',\n",
       " 'Spyro 2: Season of Flame',\n",
       " 'Mario Party 10',\n",
       " 'Devil May Cry 4',\n",
       " 'Dead Rising 3',\n",
       " 'NCAA Football 2002',\n",
       " 'Gears of War: Judgment',\n",
       " 'Guitar Hero: On Tour Decades',\n",
       " 'Conflict: Desert Storm',\n",
       " 'Mario Party 7',\n",
       " 'Dragon Quest V: Hand of the Heavenly Bride',\n",
       " 'High School Musical 3: Senior Year',\n",
       " \"Smuggler's Run\",\n",
       " 'Carnival Games: Mini Golf',\n",
       " 'Donkey Kong Classics',\n",
       " 'Hannah Montana: Music Jam',\n",
       " 'Twisted Metal',\n",
       " 'Final Fight',\n",
       " 'Pokemon Mystery Dungeon: Explorers of Sky',\n",
       " 'Dragon Quest Monsters 2',\n",
       " 'Pokemon Pinball: Ruby & Sapphire',\n",
       " 'MySims Kingdom',\n",
       " 'LEGO Pirates of the Caribbean: The Video Game',\n",
       " 'Stuntman',\n",
       " \"Tom Clancy's Rainbow Six 3\",\n",
       " '007: The World is not Enough',\n",
       " 'Spider-Man 2: Enter: Electro',\n",
       " 'Guitar Hero 5',\n",
       " 'Command & Conquer: Tiberian Sun',\n",
       " 'Wolfenstein: The New Order',\n",
       " 'Mafia II',\n",
       " 'Moshi Monsters: Moshling Zoo',\n",
       " 'Dark Cloud',\n",
       " 'Warcraft III: The Frozen Throne',\n",
       " 'Active Life: Outdoor Challenge',\n",
       " \"Tom Clancy's Ghost Recon Advanced Warfighter\",\n",
       " 'Ratchet & Clank (2016)',\n",
       " 'MVP Baseball 2005',\n",
       " 'Die Hard Trilogy',\n",
       " 'Uncharted: Golden Abyss',\n",
       " 'Go Vacation',\n",
       " 'Pro Evolution Soccer 2013',\n",
       " 'Mortal Kombat 3',\n",
       " 'NFL GameDay 99',\n",
       " ...]"
      ]
     },
     "execution_count": 21,
     "metadata": {},
     "output_type": "execute_result"
    }
   ],
   "source": [
    "games['name'].unique().tolist()"
   ]
  },
  {
   "cell_type": "code",
   "execution_count": 22,
   "id": "5897d00a",
   "metadata": {},
   "outputs": [],
   "source": [
    "games['name'] = games['name'].str.lower()"
   ]
  },
  {
   "cell_type": "markdown",
   "id": "68de9824",
   "metadata": {},
   "source": [
    "# Исследовательский анализ данных"
   ]
  },
  {
   "cell_type": "markdown",
   "id": "75ef9442",
   "metadata": {},
   "source": [
    "**Узнаем сколько игр выпускалось в разные годы. Важны ли данные за все периоды?**"
   ]
  },
  {
   "cell_type": "code",
   "execution_count": 23,
   "id": "7439cc2d",
   "metadata": {},
   "outputs": [
    {
     "data": {
      "text/plain": [
       "[Text(0.5, 1.0, 'Распределение даты релиза по годам'),\n",
       " Text(0.5, 0, 'Год релиза'),\n",
       " Text(0, 0.5, 'Количество')]"
      ]
     },
     "execution_count": 23,
     "metadata": {},
     "output_type": "execute_result"
    },
    {
     "data": {
      "image/png": "[encoded data removed]",
      "text/plain": [
       "<Figure size 432x288 with 1 Axes>"
      ]
     },
     "metadata": {
      "needs_background": "light"
     },
     "output_type": "display_data"
    }
   ],
   "source": [
    "games[games['year_of_release'] != 2077].plot(kind='hist', y='year_of_release', bins = 25, alpha=0.5, grid=True).set(\n",
    "    title='Распределение даты релиза по годам', xlabel='Год релиза', ylabel='Количество')"
   ]
  },
  {
   "cell_type": "markdown",
   "id": "0c77ad92",
   "metadata": {},
   "source": [
    "Можно сказать, что основную ценность представляет период с 1993 по 2015 года, на этот период приходится большенство релизов игр"
   ]
  },
  {
   "cell_type": "code",
   "execution_count": 24,
   "id": "94a3189f",
   "metadata": {},
   "outputs": [],
   "source": [
    "#Оставим для дальнейшего анализа данные за выделенный период\n",
    "games = games[(games['year_of_release'] != 2077)]"
   ]
  },
  {
   "cell_type": "code",
   "execution_count": 25,
   "id": "ecaee463",
   "metadata": {},
   "outputs": [],
   "source": [
    "games = games[(games['year_of_release'] >= 1993)]"
   ]
  },
  {
   "cell_type": "code",
   "execution_count": 26,
   "id": "d1b9bbac",
   "metadata": {},
   "outputs": [],
   "source": [
    "games = games[(games['year_of_release'] <= 2016)]"
   ]
  },
  {
   "cell_type": "markdown",
   "id": "8360de04",
   "metadata": {},
   "source": [
    "**Посмотрим, как менялись продажи по платформам. Выберим платформы с наибольшими суммарными продажами и построим распределение по годам. За какой характерный срок появляются новые и исчезают старые платформы?**"
   ]
  },
  {
   "cell_type": "code",
   "execution_count": 27,
   "id": "b8eff123",
   "metadata": {},
   "outputs": [],
   "source": [
    "# Посчитаем суммарные продажи\n",
    "games['sales_total'] = games['na_sales']+games['eu_sales']+games['jp_sales']+games['other_sales']"
   ]
  },
  {
   "cell_type": "code",
   "execution_count": 28,
   "id": "b2898b9b",
   "metadata": {},
   "outputs": [],
   "source": [
    "#Найдем топ 5 платформ по продажам\n",
    "#games_pivot = games.pivot_table(index=['platform'], values='sales_total', aggfunc='sum').sort_values(by='sales_total', ascending=False).head(7)\n",
    "#games_pivot.plot(kind='bar', color='green').set(title='Количество проданных игр, млн.pуб', xlabel='Платформа', ylabel='Суммарные продпжи игр, млнюруб')\n",
    "#games_pivot"
   ]
  },
  {
   "cell_type": "code",
   "execution_count": 29,
   "id": "ae91ff18",
   "metadata": {},
   "outputs": [
    {
     "data": {
      "text/html": [
       "<div>\n",
       "<style scoped>\n",
       "    .dataframe tbody tr th:only-of-type {\n",
       "        vertical-align: middle;\n",
       "    }\n",
       "\n",
       "    .dataframe tbody tr th {\n",
       "        vertical-align: top;\n",
       "    }\n",
       "\n",
       "    .dataframe thead th {\n",
       "        text-align: right;\n",
       "    }\n",
       "</style>\n",
       "<table border=\"1\" class=\"dataframe\">\n",
       "  <thead>\n",
       "    <tr style=\"text-align: right;\">\n",
       "      <th></th>\n",
       "      <th>platform</th>\n",
       "      <th>amount_games</th>\n",
       "      <th>sales_total</th>\n",
       "    </tr>\n",
       "  </thead>\n",
       "  <tbody>\n",
       "    <tr>\n",
       "      <th>14</th>\n",
       "      <td>PS2</td>\n",
       "      <td>2127</td>\n",
       "      <td>1,233.56</td>\n",
       "    </tr>\n",
       "    <tr>\n",
       "      <th>3</th>\n",
       "      <td>DS</td>\n",
       "      <td>2120</td>\n",
       "      <td>802.76</td>\n",
       "    </tr>\n",
       "    <tr>\n",
       "      <th>15</th>\n",
       "      <td>PS3</td>\n",
       "      <td>1306</td>\n",
       "      <td>931.34</td>\n",
       "    </tr>\n",
       "    <tr>\n",
       "      <th>24</th>\n",
       "      <td>Wii</td>\n",
       "      <td>1286</td>\n",
       "      <td>891.18</td>\n",
       "    </tr>\n",
       "    <tr>\n",
       "      <th>26</th>\n",
       "      <td>X360</td>\n",
       "      <td>1232</td>\n",
       "      <td>961.24</td>\n",
       "    </tr>\n",
       "    <tr>\n",
       "      <th>17</th>\n",
       "      <td>PSP</td>\n",
       "      <td>1193</td>\n",
       "      <td>289.53</td>\n",
       "    </tr>\n",
       "    <tr>\n",
       "      <th>13</th>\n",
       "      <td>PS</td>\n",
       "      <td>1190</td>\n",
       "      <td>727.58</td>\n",
       "    </tr>\n",
       "    <tr>\n",
       "      <th>11</th>\n",
       "      <td>PC</td>\n",
       "      <td>950</td>\n",
       "      <td>252.66</td>\n",
       "    </tr>\n",
       "    <tr>\n",
       "      <th>5</th>\n",
       "      <td>GBA</td>\n",
       "      <td>811</td>\n",
       "      <td>312.88</td>\n",
       "    </tr>\n",
       "    <tr>\n",
       "      <th>27</th>\n",
       "      <td>XB</td>\n",
       "      <td>803</td>\n",
       "      <td>251.57</td>\n",
       "    </tr>\n",
       "  </tbody>\n",
       "</table>\n",
       "</div>"
      ],
      "text/plain": [
       "   platform  amount_games  sales_total\n",
       "14      PS2          2127     1,233.56\n",
       "3        DS          2120       802.76\n",
       "15      PS3          1306       931.34\n",
       "24      Wii          1286       891.18\n",
       "26     X360          1232       961.24\n",
       "17      PSP          1193       289.53\n",
       "13       PS          1190       727.58\n",
       "11       PC           950       252.66\n",
       "5       GBA           811       312.88\n",
       "27       XB           803       251.57"
      ]
     },
     "execution_count": 29,
     "metadata": {},
     "output_type": "execute_result"
    },
    {
     "data": {
      "image/png": "[encoded data removed]",
      "text/plain": [
       "<Figure size 432x288 with 1 Axes>"
      ]
     },
     "metadata": {
      "needs_background": "light"
     },
     "output_type": "display_data"
    }
   ],
   "source": [
    "games_pivot = games.groupby('platform', as_index=False) \\\n",
    "    .agg({'name':'count', 'sales_total':'sum'}).sort_values(by=['name', 'sales_total'], ascending=[False, False]).head(10) \\\n",
    "    .rename(columns={'name':'amount_games'})\n",
    "games_pivot.plot(kind='bar', x='platform', y='sales_total') \\\n",
    "    .set(title='Количество проданных игр, млн.pуб', xlabel='Платформа', ylabel='Суммарные продпжи игр, млнюруб')\n",
    "\n",
    "games_pivot"
   ]
  },
  {
   "cell_type": "code",
   "execution_count": 30,
   "id": "7aa81a42",
   "metadata": {},
   "outputs": [
    {
     "data": {
      "text/plain": [
       "[Text(0.5, 1.0, 'Распределение продаж по годам'),\n",
       " Text(0.5, 0, 'Год'),\n",
       " Text(0, 0.5, 'Суммарные продпжи')]"
      ]
     },
     "execution_count": 30,
     "metadata": {},
     "output_type": "execute_result"
    },
    {
     "data": {
      "image/png": "[encoded data removed]",
      "text/plain": [
       "<Figure size 720x360 with 1 Axes>"
      ]
     },
     "metadata": {
      "needs_background": "light"
     },
     "output_type": "display_data"
    }
   ],
   "source": [
    "ax = games[games['platform'] == 'PS2'].groupby('year_of_release', as_index=False)['sales_total'].sum().plot(x='year_of_release', y='sales_total', label='PS2', figsize=(10,5))\n",
    "games[games['platform'] == 'X360'].groupby('year_of_release', as_index=False)['sales_total'].sum().plot(x='year_of_release', y='sales_total',label='X360', ax=ax)\n",
    "games[games['platform'] == 'PS3'].groupby('year_of_release', as_index=False)['sales_total'].sum().plot(x='year_of_release', y='sales_total', label='PS3', ax=ax)\n",
    "games[games['platform'] == 'Wii'].groupby('year_of_release', as_index=False)['sales_total'].sum().plot(x='year_of_release', y='sales_total', label='Wii', ax=ax)\n",
    "games[games['platform'] == 'DS'].groupby('year_of_release', as_index=False)['sales_total'].sum().plot(x='year_of_release', y='sales_total', label='DS', ax=ax)\n",
    "games[games['platform'] == 'PSP'].groupby('year_of_release', as_index=False)['sales_total'].sum().plot(x='year_of_release', y='sales_total', label='PSP', ax=ax)\n",
    "games[games['platform'] == 'PC'].groupby('year_of_release', as_index=False)['sales_total'].sum().plot(x='year_of_release', y='sales_total', label='PC', ax=ax)\n",
    "games[games['platform'] == 'PS'].groupby('year_of_release', as_index=False)['sales_total'].sum().plot(x='year_of_release', y='sales_total', label='PS', ax=ax).set(\n",
    "    title='Распределение продаж по годам', xlabel='Год', ylabel='Суммарные продпжи')"
   ]
  },
  {
   "cell_type": "markdown",
   "id": "3e19940c",
   "metadata": {},
   "source": [
    "Для анализа возьмем топ 8 плотформ по продажам, так как разница в суммрных продажах между 5 и 6 местом не так велика как между 6 и 7 местом. Судя по получившимся результатам в среднем период жизни платформы составляет 10 лет"
   ]
  },
  {
   "cell_type": "markdown",
   "id": "8049f387",
   "metadata": {},
   "source": [
    "**Посмотрим какие платформы лидируют по продажам, оценим, растут или падают. Выберим несколько потенциально прибыльных платформ.**"
   ]
  },
  {
   "cell_type": "code",
   "execution_count": 31,
   "id": "6a26aec3",
   "metadata": {},
   "outputs": [
    {
     "data": {
      "text/html": [
       "<div>\n",
       "<style scoped>\n",
       "    .dataframe tbody tr th:only-of-type {\n",
       "        vertical-align: middle;\n",
       "    }\n",
       "\n",
       "    .dataframe tbody tr th {\n",
       "        vertical-align: top;\n",
       "    }\n",
       "\n",
       "    .dataframe thead th {\n",
       "        text-align: right;\n",
       "    }\n",
       "</style>\n",
       "<table border=\"1\" class=\"dataframe\">\n",
       "  <thead>\n",
       "    <tr style=\"text-align: right;\">\n",
       "      <th></th>\n",
       "      <th>platform</th>\n",
       "      <th>amount_games</th>\n",
       "      <th>sales_total</th>\n",
       "    </tr>\n",
       "  </thead>\n",
       "  <tbody>\n",
       "    <tr>\n",
       "      <th>14</th>\n",
       "      <td>PS2</td>\n",
       "      <td>2127</td>\n",
       "      <td>1,233.56</td>\n",
       "    </tr>\n",
       "    <tr>\n",
       "      <th>26</th>\n",
       "      <td>X360</td>\n",
       "      <td>1232</td>\n",
       "      <td>961.24</td>\n",
       "    </tr>\n",
       "    <tr>\n",
       "      <th>15</th>\n",
       "      <td>PS3</td>\n",
       "      <td>1306</td>\n",
       "      <td>931.34</td>\n",
       "    </tr>\n",
       "    <tr>\n",
       "      <th>24</th>\n",
       "      <td>Wii</td>\n",
       "      <td>1286</td>\n",
       "      <td>891.18</td>\n",
       "    </tr>\n",
       "    <tr>\n",
       "      <th>3</th>\n",
       "      <td>DS</td>\n",
       "      <td>2120</td>\n",
       "      <td>802.76</td>\n",
       "    </tr>\n",
       "    <tr>\n",
       "      <th>13</th>\n",
       "      <td>PS</td>\n",
       "      <td>1190</td>\n",
       "      <td>727.58</td>\n",
       "    </tr>\n",
       "    <tr>\n",
       "      <th>16</th>\n",
       "      <td>PS4</td>\n",
       "      <td>392</td>\n",
       "      <td>314.14</td>\n",
       "    </tr>\n",
       "    <tr>\n",
       "      <th>5</th>\n",
       "      <td>GBA</td>\n",
       "      <td>811</td>\n",
       "      <td>312.88</td>\n",
       "    </tr>\n",
       "    <tr>\n",
       "      <th>17</th>\n",
       "      <td>PSP</td>\n",
       "      <td>1193</td>\n",
       "      <td>289.53</td>\n",
       "    </tr>\n",
       "    <tr>\n",
       "      <th>1</th>\n",
       "      <td>3DS</td>\n",
       "      <td>512</td>\n",
       "      <td>257.81</td>\n",
       "    </tr>\n",
       "  </tbody>\n",
       "</table>\n",
       "</div>"
      ],
      "text/plain": [
       "   platform  amount_games  sales_total\n",
       "14      PS2          2127     1,233.56\n",
       "26     X360          1232       961.24\n",
       "15      PS3          1306       931.34\n",
       "24      Wii          1286       891.18\n",
       "3        DS          2120       802.76\n",
       "13       PS          1190       727.58\n",
       "16      PS4           392       314.14\n",
       "5       GBA           811       312.88\n",
       "17      PSP          1193       289.53\n",
       "1       3DS           512       257.81"
      ]
     },
     "execution_count": 31,
     "metadata": {},
     "output_type": "execute_result"
    }
   ],
   "source": [
    "sort_pop_platform = games.groupby('platform', as_index=False) \\\n",
    "    .agg({'name':'count', 'sales_total':'sum'}).sort_values(by='sales_total', ascending=False).head(10) \\\n",
    "    .rename(columns={'name':'amount_games'})\n",
    "sort_pop_platform"
   ]
  },
  {
   "cell_type": "code",
   "execution_count": 32,
   "id": "81950e22",
   "metadata": {},
   "outputs": [
    {
     "data": {
      "text/plain": [
       "[Text(0.5, 1.0, 'Количество проданных игр, шт'),\n",
       " Text(0.5, 0, 'Платформа'),\n",
       " Text(0, 0.5, 'Суммарные продпжи игр, млн')]"
      ]
     },
     "execution_count": 32,
     "metadata": {},
     "output_type": "execute_result"
    },
    {
     "data": {
      "image/png": "[encoded data removed]",
      "text/plain": [
       "<Figure size 432x288 with 1 Axes>"
      ]
     },
     "metadata": {
      "needs_background": "light"
     },
     "output_type": "display_data"
    }
   ],
   "source": [
    "sort_pop_platform.plot(kind='bar', x='platform', y='sales_total') \\\n",
    "    .set(title='Количество проданных игр, шт', xlabel='Платформа', ylabel='Суммарные продпжи игр, млн')"
   ]
  },
  {
   "cell_type": "markdown",
   "id": "6617285d",
   "metadata": {},
   "source": [
    "Из проведенного анализа, мы можем сказать, что продажи игр падают на всех платформах начиная с периода жизни платформы в 5 лет. Видимо это связанно, жизненный цикл составляет в среднем 10 лет, через 5 лет платформа начинает устаривать, а так же у нее появляется конкурент в виде более современной платформы. Для выбора потанциально выгодных платформ, следует смотреть не только на количество проданных игр, но и на период жизни. Исходя из этого потенциально прибольными платформами считаю РS3 и Х360"
   ]
  },
  {
   "cell_type": "markdown",
   "id": "5a0c4e67",
   "metadata": {},
   "source": [
    "**Построим график «ящик с усами» по глобальным продажам игр в разбивке по платформам. Опишем результат.**"
   ]
  },
  {
   "cell_type": "markdown",
   "id": "e901013a",
   "metadata": {},
   "source": [
    "Выберим актуальный период. В качестве данного периода предлагаю взять период с 2003 по 2016, так как он охватывает жизненный цикл выбранных топ 5 платформ. В более ранном периоде данные плотформы не представленны и для них отсутствует информацмя для анализа"
   ]
  },
  {
   "cell_type": "code",
   "execution_count": 33,
   "id": "63cd7b5f",
   "metadata": {},
   "outputs": [],
   "source": [
    "games = games.query('year_of_release >= 2014')"
   ]
  },
  {
   "cell_type": "code",
   "execution_count": 34,
   "id": "c0b51090",
   "metadata": {},
   "outputs": [
    {
     "data": {
      "text/html": [
       "<div>\n",
       "<style scoped>\n",
       "    .dataframe tbody tr th:only-of-type {\n",
       "        vertical-align: middle;\n",
       "    }\n",
       "\n",
       "    .dataframe tbody tr th {\n",
       "        vertical-align: top;\n",
       "    }\n",
       "\n",
       "    .dataframe thead th {\n",
       "        text-align: right;\n",
       "    }\n",
       "</style>\n",
       "<table border=\"1\" class=\"dataframe\">\n",
       "  <thead>\n",
       "    <tr style=\"text-align: right;\">\n",
       "      <th></th>\n",
       "      <th>platform</th>\n",
       "      <th>amount_games</th>\n",
       "      <th>sales_total</th>\n",
       "    </tr>\n",
       "  </thead>\n",
       "  <tbody>\n",
       "    <tr>\n",
       "      <th>3</th>\n",
       "      <td>PS4</td>\n",
       "      <td>376</td>\n",
       "      <td>288.15</td>\n",
       "    </tr>\n",
       "    <tr>\n",
       "      <th>9</th>\n",
       "      <td>XOne</td>\n",
       "      <td>228</td>\n",
       "      <td>140.36</td>\n",
       "    </tr>\n",
       "    <tr>\n",
       "      <th>0</th>\n",
       "      <td>3DS</td>\n",
       "      <td>212</td>\n",
       "      <td>86.68</td>\n",
       "    </tr>\n",
       "    <tr>\n",
       "      <th>2</th>\n",
       "      <td>PS3</td>\n",
       "      <td>219</td>\n",
       "      <td>68.18</td>\n",
       "    </tr>\n",
       "    <tr>\n",
       "      <th>8</th>\n",
       "      <td>X360</td>\n",
       "      <td>111</td>\n",
       "      <td>48.22</td>\n",
       "    </tr>\n",
       "    <tr>\n",
       "      <th>7</th>\n",
       "      <td>WiiU</td>\n",
       "      <td>73</td>\n",
       "      <td>42.98</td>\n",
       "    </tr>\n",
       "    <tr>\n",
       "      <th>1</th>\n",
       "      <td>PC</td>\n",
       "      <td>151</td>\n",
       "      <td>27.05</td>\n",
       "    </tr>\n",
       "    <tr>\n",
       "      <th>5</th>\n",
       "      <td>PSV</td>\n",
       "      <td>295</td>\n",
       "      <td>22.40</td>\n",
       "    </tr>\n",
       "    <tr>\n",
       "      <th>6</th>\n",
       "      <td>Wii</td>\n",
       "      <td>11</td>\n",
       "      <td>5.07</td>\n",
       "    </tr>\n",
       "    <tr>\n",
       "      <th>4</th>\n",
       "      <td>PSP</td>\n",
       "      <td>13</td>\n",
       "      <td>0.36</td>\n",
       "    </tr>\n",
       "  </tbody>\n",
       "</table>\n",
       "</div>"
      ],
      "text/plain": [
       "  platform  amount_games  sales_total\n",
       "3      PS4           376       288.15\n",
       "9     XOne           228       140.36\n",
       "0      3DS           212        86.68\n",
       "2      PS3           219        68.18\n",
       "8     X360           111        48.22\n",
       "7     WiiU            73        42.98\n",
       "1       PC           151        27.05\n",
       "5      PSV           295        22.40\n",
       "6      Wii            11         5.07\n",
       "4      PSP            13         0.36"
      ]
     },
     "execution_count": 34,
     "metadata": {},
     "output_type": "execute_result"
    },
    {
     "data": {
      "image/png": "[encoded data removed]",
      "text/plain": [
       "<Figure size 432x288 with 1 Axes>"
      ]
     },
     "metadata": {
      "needs_background": "light"
     },
     "output_type": "display_data"
    }
   ],
   "source": [
    "games_pivot = games.groupby('platform', as_index=False) \\\n",
    "    .agg({'name':'count', 'sales_total':'sum'}).sort_values(by=['sales_total'], ascending=[False]).head(10) \\\n",
    "    .rename(columns={'name':'amount_games'})\n",
    "games_pivot.plot(kind='bar', x='platform', y='sales_total') \\\n",
    "    .set(title='Количество проданных игр, млн.pуб', xlabel='Платформа', ylabel='Суммарные продпжи игр, млнюруб')\n",
    "\n",
    "games_pivot"
   ]
  },
  {
   "cell_type": "code",
   "execution_count": 35,
   "id": "aefd5822",
   "metadata": {},
   "outputs": [],
   "source": [
    "top_platforms = ['PS4', 'XOne', '3DS', 'X360']\n",
    "sort_sales = games.query(\"platform in @top_platforms\")"
   ]
  },
  {
   "cell_type": "code",
   "execution_count": 36,
   "id": "85faeb84",
   "metadata": {},
   "outputs": [
    {
     "data": {
      "image/png": "[encoded data removed]",
      "text/plain": [
       "<Figure size 720x360 with 1 Axes>"
      ]
     },
     "metadata": {
      "needs_background": "light"
     },
     "output_type": "display_data"
    }
   ],
   "source": [
    "ax =sort_sales.boxplot(column='sales_total', by='platform', figsize=(10,5)).axis(ymin=0,ymax=1.8)\n"
   ]
  },
  {
   "cell_type": "markdown",
   "id": "ac8e44bb",
   "metadata": {},
   "source": [
    "Медиана по топовым платформам варьируется от 0,2 до 3 млн руб.\n",
    "\n",
    "Верхняя граница предела, за которыми уже определяются аномалии, у двух платформ - PS3 и X360 - на уровне 1,7 млн.\n",
    "У остальных - от 0,55 до 1,25.\n",
    "Среди всех выделяется DS - у него эти показатели ниже. Медиана < 0,1 млн, верхняя граница - 0,6 млн."
   ]
  },
  {
   "cell_type": "markdown",
   "id": "eba3fc3c",
   "metadata": {},
   "source": [
    "**Посмотриv, как влияют на продажи внутри одной популярной платформы отзывы пользователей и критиков. \n",
    "Построим диаграмму рассеяния и посчитаем корреляцию между отзывами и продажами.**"
   ]
  },
  {
   "cell_type": "code",
   "execution_count": 37,
   "id": "8ecd7915",
   "metadata": {},
   "outputs": [],
   "source": [
    "games_critic = games[(games['platform'] == 'X360') & (games['critic_score'] > 0)]"
   ]
  },
  {
   "cell_type": "code",
   "execution_count": 38,
   "id": "cb2f2efe",
   "metadata": {},
   "outputs": [
    {
     "data": {
      "text/html": [
       "<div>\n",
       "<style scoped>\n",
       "    .dataframe tbody tr th:only-of-type {\n",
       "        vertical-align: middle;\n",
       "    }\n",
       "\n",
       "    .dataframe tbody tr th {\n",
       "        vertical-align: top;\n",
       "    }\n",
       "\n",
       "    .dataframe thead th {\n",
       "        text-align: right;\n",
       "    }\n",
       "</style>\n",
       "<table border=\"1\" class=\"dataframe\">\n",
       "  <thead>\n",
       "    <tr style=\"text-align: right;\">\n",
       "      <th></th>\n",
       "      <th>critic_score</th>\n",
       "      <th>sales_total_sum</th>\n",
       "    </tr>\n",
       "  </thead>\n",
       "  <tbody>\n",
       "    <tr>\n",
       "      <th>12</th>\n",
       "      <td>69</td>\n",
       "      <td>2.34</td>\n",
       "    </tr>\n",
       "    <tr>\n",
       "      <th>19</th>\n",
       "      <td>83</td>\n",
       "      <td>1.36</td>\n",
       "    </tr>\n",
       "    <tr>\n",
       "      <th>16</th>\n",
       "      <td>74</td>\n",
       "      <td>1.16</td>\n",
       "    </tr>\n",
       "    <tr>\n",
       "      <th>15</th>\n",
       "      <td>72</td>\n",
       "      <td>1.01</td>\n",
       "    </tr>\n",
       "    <tr>\n",
       "      <th>18</th>\n",
       "      <td>82</td>\n",
       "      <td>0.93</td>\n",
       "    </tr>\n",
       "  </tbody>\n",
       "</table>\n",
       "</div>"
      ],
      "text/plain": [
       "    critic_score  sales_total_sum\n",
       "12            69             2.34\n",
       "19            83             1.36\n",
       "16            74             1.16\n",
       "15            72             1.01\n",
       "18            82             0.93"
      ]
     },
     "execution_count": 38,
     "metadata": {},
     "output_type": "execute_result"
    }
   ],
   "source": [
    "df = games_critic.groupby('critic_score', as_index=False).agg({'sales_total':['sum']})\n",
    "df.columns = ['critic_score', 'sales_total_sum']\n",
    "df.sort_values(by='sales_total_sum', ascending=False).head()"
   ]
  },
  {
   "cell_type": "code",
   "execution_count": 39,
   "id": "6dd42164",
   "metadata": {},
   "outputs": [
    {
     "data": {
      "text/html": [
       "<div>\n",
       "<style scoped>\n",
       "    .dataframe tbody tr th:only-of-type {\n",
       "        vertical-align: middle;\n",
       "    }\n",
       "\n",
       "    .dataframe tbody tr th {\n",
       "        vertical-align: top;\n",
       "    }\n",
       "\n",
       "    .dataframe thead th {\n",
       "        text-align: right;\n",
       "    }\n",
       "</style>\n",
       "<table border=\"1\" class=\"dataframe\">\n",
       "  <thead>\n",
       "    <tr style=\"text-align: right;\">\n",
       "      <th></th>\n",
       "      <th>critic_score</th>\n",
       "      <th>sales_total_sum</th>\n",
       "    </tr>\n",
       "  </thead>\n",
       "  <tbody>\n",
       "    <tr>\n",
       "      <th>critic_score</th>\n",
       "      <td>1.00</td>\n",
       "      <td>0.45</td>\n",
       "    </tr>\n",
       "    <tr>\n",
       "      <th>sales_total_sum</th>\n",
       "      <td>0.45</td>\n",
       "      <td>1.00</td>\n",
       "    </tr>\n",
       "  </tbody>\n",
       "</table>\n",
       "</div>"
      ],
      "text/plain": [
       "                 critic_score  sales_total_sum\n",
       "critic_score             1.00             0.45\n",
       "sales_total_sum          0.45             1.00"
      ]
     },
     "execution_count": 39,
     "metadata": {},
     "output_type": "execute_result"
    }
   ],
   "source": [
    "df[['critic_score', 'sales_total_sum']].corr()"
   ]
  },
  {
   "cell_type": "code",
   "execution_count": 40,
   "id": "eb7f3348",
   "metadata": {},
   "outputs": [
    {
     "data": {
      "text/plain": [
       "[Text(0.5, 1.0, 'Зависимость продаж от рейтинга'),\n",
       " Text(0.5, 0, 'Рейтинг'),\n",
       " Text(0, 0.5, 'Суммарные продпжи игр, млн.руб.')]"
      ]
     },
     "execution_count": 40,
     "metadata": {},
     "output_type": "execute_result"
    },
    {
     "data": {
      "image/png": "[encoded data removed]",
      "text/plain": [
       "<Figure size 432x288 with 1 Axes>"
      ]
     },
     "metadata": {
      "needs_background": "light"
     },
     "output_type": "display_data"
    }
   ],
   "source": [
    "df.plot(kind='scatter', x='critic_score', y='sales_total_sum').set(\n",
    "    title='Зависимость продаж от рейтинга', xlabel='Рейтинг', ylabel='Суммарные продпжи игр, млн.руб.')"
   ]
  },
  {
   "cell_type": "code",
   "execution_count": 41,
   "id": "621866af",
   "metadata": {},
   "outputs": [],
   "source": [
    "games_user = games[(games['platform'] == 'X360') & (games['user_score'] > 0)]"
   ]
  },
  {
   "cell_type": "code",
   "execution_count": 42,
   "id": "65aaa07f",
   "metadata": {},
   "outputs": [
    {
     "data": {
      "text/html": [
       "<div>\n",
       "<style scoped>\n",
       "    .dataframe tbody tr th:only-of-type {\n",
       "        vertical-align: middle;\n",
       "    }\n",
       "\n",
       "    .dataframe tbody tr th {\n",
       "        vertical-align: top;\n",
       "    }\n",
       "\n",
       "    .dataframe thead th {\n",
       "        text-align: right;\n",
       "    }\n",
       "</style>\n",
       "<table border=\"1\" class=\"dataframe\">\n",
       "  <thead>\n",
       "    <tr style=\"text-align: right;\">\n",
       "      <th></th>\n",
       "      <th>user_score</th>\n",
       "      <th>sales_total_sum</th>\n",
       "    </tr>\n",
       "  </thead>\n",
       "  <tbody>\n",
       "    <tr>\n",
       "      <th>16</th>\n",
       "      <td>4.90</td>\n",
       "      <td>4.28</td>\n",
       "    </tr>\n",
       "    <tr>\n",
       "      <th>10</th>\n",
       "      <td>4.20</td>\n",
       "      <td>2.92</td>\n",
       "    </tr>\n",
       "    <tr>\n",
       "      <th>18</th>\n",
       "      <td>5.10</td>\n",
       "      <td>2.51</td>\n",
       "    </tr>\n",
       "    <tr>\n",
       "      <th>36</th>\n",
       "      <td>7.30</td>\n",
       "      <td>2.32</td>\n",
       "    </tr>\n",
       "    <tr>\n",
       "      <th>21</th>\n",
       "      <td>5.50</td>\n",
       "      <td>2.28</td>\n",
       "    </tr>\n",
       "  </tbody>\n",
       "</table>\n",
       "</div>"
      ],
      "text/plain": [
       "    user_score  sales_total_sum\n",
       "16        4.90             4.28\n",
       "10        4.20             2.92\n",
       "18        5.10             2.51\n",
       "36        7.30             2.32\n",
       "21        5.50             2.28"
      ]
     },
     "execution_count": 42,
     "metadata": {},
     "output_type": "execute_result"
    }
   ],
   "source": [
    "df = games_user.groupby('user_score', as_index=False).agg({'sales_total':['sum']})\n",
    "df.columns = ['user_score', 'sales_total_sum']\n",
    "df.sort_values(by='sales_total_sum', ascending=False).head()"
   ]
  },
  {
   "cell_type": "code",
   "execution_count": 43,
   "id": "9707f1a6",
   "metadata": {},
   "outputs": [
    {
     "data": {
      "text/html": [
       "<div>\n",
       "<style scoped>\n",
       "    .dataframe tbody tr th:only-of-type {\n",
       "        vertical-align: middle;\n",
       "    }\n",
       "\n",
       "    .dataframe tbody tr th {\n",
       "        vertical-align: top;\n",
       "    }\n",
       "\n",
       "    .dataframe thead th {\n",
       "        text-align: right;\n",
       "    }\n",
       "</style>\n",
       "<table border=\"1\" class=\"dataframe\">\n",
       "  <thead>\n",
       "    <tr style=\"text-align: right;\">\n",
       "      <th></th>\n",
       "      <th>user_score</th>\n",
       "      <th>sales_total_sum</th>\n",
       "    </tr>\n",
       "  </thead>\n",
       "  <tbody>\n",
       "    <tr>\n",
       "      <th>user_score</th>\n",
       "      <td>1.00</td>\n",
       "      <td>-0.11</td>\n",
       "    </tr>\n",
       "    <tr>\n",
       "      <th>sales_total_sum</th>\n",
       "      <td>-0.11</td>\n",
       "      <td>1.00</td>\n",
       "    </tr>\n",
       "  </tbody>\n",
       "</table>\n",
       "</div>"
      ],
      "text/plain": [
       "                 user_score  sales_total_sum\n",
       "user_score             1.00            -0.11\n",
       "sales_total_sum       -0.11             1.00"
      ]
     },
     "execution_count": 43,
     "metadata": {},
     "output_type": "execute_result"
    }
   ],
   "source": [
    "df[['user_score', 'sales_total_sum']].corr()"
   ]
  },
  {
   "cell_type": "code",
   "execution_count": 44,
   "id": "5fe10351",
   "metadata": {},
   "outputs": [
    {
     "data": {
      "text/plain": [
       "[Text(0.5, 1.0, 'Зависимость продаж от рейтинга'),\n",
       " Text(0.5, 0, 'Рейтинг'),\n",
       " Text(0, 0.5, 'Суммарные продпжи игр, млн.руб.')]"
      ]
     },
     "execution_count": 44,
     "metadata": {},
     "output_type": "execute_result"
    },
    {
     "data": {
      "image/png": "[encoded data removed]",
      "text/plain": [
       "<Figure size 432x288 with 1 Axes>"
      ]
     },
     "metadata": {
      "needs_background": "light"
     },
     "output_type": "display_data"
    }
   ],
   "source": [
    "df.plot(kind='scatter', x='user_score', y='sales_total_sum').set(\n",
    "    title='Зависимость продаж от рейтинга', xlabel='Рейтинг', ylabel='Суммарные продпжи игр, млн.руб.')"
   ]
  },
  {
   "cell_type": "code",
   "execution_count": 45,
   "id": "d16ee300",
   "metadata": {},
   "outputs": [],
   "source": [
    "critic_score = games[games['critic_score'] > 0]\n",
    "user_score = games[games['user_score'] > 0]"
   ]
  },
  {
   "cell_type": "code",
   "execution_count": 46,
   "id": "c1e038ed",
   "metadata": {},
   "outputs": [],
   "source": [
    "corr_df = pd.DataFrame()\n",
    "corr_df['critic_score'] = critic_score['critic_score']\n",
    "corr_df['user_score'] = user_score['user_score']"
   ]
  },
  {
   "cell_type": "code",
   "execution_count": 47,
   "id": "91f1b9ab",
   "metadata": {},
   "outputs": [
    {
     "data": {
      "text/html": [
       "<style  type=\"text/css\" >\n",
       "</style><table id=\"T_37c15_\" ><thead>    <tr>        <th class=\"blank level0\" ></th>        <th class=\"col_heading level0 col0\" >critic_score</th>        <th class=\"col_heading level0 col1\" >user_score</th>    </tr></thead><tbody>\n",
       "                <tr>\n",
       "                        <th id=\"T_37c15_level0_row0\" class=\"row_heading level0 row0\" >critic_score</th>\n",
       "                        <td id=\"T_37c15_row0_col0\" class=\"data row0 col0\" >100.00%</td>\n",
       "                        <td id=\"T_37c15_row0_col1\" class=\"data row0 col1\" >50.45%</td>\n",
       "            </tr>\n",
       "            <tr>\n",
       "                        <th id=\"T_37c15_level0_row1\" class=\"row_heading level0 row1\" >user_score</th>\n",
       "                        <td id=\"T_37c15_row1_col0\" class=\"data row1 col0\" >50.45%</td>\n",
       "                        <td id=\"T_37c15_row1_col1\" class=\"data row1 col1\" >100.00%</td>\n",
       "            </tr>\n",
       "    </tbody></table>"
      ],
      "text/plain": [
       "<pandas.io.formats.style.Styler at 0x7f9af1efe040>"
      ]
     },
     "execution_count": 47,
     "metadata": {},
     "output_type": "execute_result"
    }
   ],
   "source": [
    "corr = corr_df[['critic_score', 'user_score']].corr()\n",
    "corr.style.format(\"{:.2%}\")"
   ]
  },
  {
   "cell_type": "markdown",
   "id": "4b1dcf5e",
   "metadata": {},
   "source": [
    "Сильная корреляция прослеживается между продажами и оценкой критиков, анологичная ситуация просматривается и с оценками пользоватей , основное объем продаж приходится на оценку критиков 60 - 100, 6,5 - 9 на оценку пользователей. Оценки критиков и пользователей так же имеют явную положительноую зависмисоть. В целом данную ситуацию можно интерпритировать и на другие платформы так как одинаковые игры могут выходить на разных платформах"
   ]
  },
  {
   "cell_type": "markdown",
   "id": "27086aa3",
   "metadata": {},
   "source": [
    "**Посмотрим на общее распределение игр по жанрам. \n",
    "Что можно сказать о самых прибыльных жанрах? \n",
    "Выделяются ли жанры с высокими и низкими продажами?**"
   ]
  },
  {
   "cell_type": "code",
   "execution_count": 48,
   "id": "e99124cd",
   "metadata": {},
   "outputs": [
    {
     "data": {
      "text/plain": [
       "array([2015, 2014, 2016])"
      ]
     },
     "execution_count": 48,
     "metadata": {},
     "output_type": "execute_result"
    }
   ],
   "source": [
    "games['year_of_release'].unique()"
   ]
  },
  {
   "cell_type": "code",
   "execution_count": 49,
   "id": "80994b17",
   "metadata": {},
   "outputs": [
    {
     "data": {
      "text/html": [
       "<div>\n",
       "<style scoped>\n",
       "    .dataframe tbody tr th:only-of-type {\n",
       "        vertical-align: middle;\n",
       "    }\n",
       "\n",
       "    .dataframe tbody tr th {\n",
       "        vertical-align: top;\n",
       "    }\n",
       "\n",
       "    .dataframe thead th {\n",
       "        text-align: right;\n",
       "    }\n",
       "</style>\n",
       "<table border=\"1\" class=\"dataframe\">\n",
       "  <thead>\n",
       "    <tr style=\"text-align: right;\">\n",
       "      <th></th>\n",
       "      <th>genre</th>\n",
       "      <th>sales_total</th>\n",
       "      <th>amount</th>\n",
       "    </tr>\n",
       "  </thead>\n",
       "  <tbody>\n",
       "    <tr>\n",
       "      <th>0</th>\n",
       "      <td>Action</td>\n",
       "      <td>199.36</td>\n",
       "      <td>619</td>\n",
       "    </tr>\n",
       "    <tr>\n",
       "      <th>8</th>\n",
       "      <td>Shooter</td>\n",
       "      <td>170.94</td>\n",
       "      <td>128</td>\n",
       "    </tr>\n",
       "    <tr>\n",
       "      <th>10</th>\n",
       "      <td>Sports</td>\n",
       "      <td>109.48</td>\n",
       "      <td>161</td>\n",
       "    </tr>\n",
       "    <tr>\n",
       "      <th>7</th>\n",
       "      <td>Role-Playing</td>\n",
       "      <td>101.44</td>\n",
       "      <td>221</td>\n",
       "    </tr>\n",
       "    <tr>\n",
       "      <th>3</th>\n",
       "      <td>Misc</td>\n",
       "      <td>37.55</td>\n",
       "      <td>113</td>\n",
       "    </tr>\n",
       "    <tr>\n",
       "      <th>2</th>\n",
       "      <td>Fighting</td>\n",
       "      <td>28.22</td>\n",
       "      <td>60</td>\n",
       "    </tr>\n",
       "    <tr>\n",
       "      <th>6</th>\n",
       "      <td>Racing</td>\n",
       "      <td>27.52</td>\n",
       "      <td>69</td>\n",
       "    </tr>\n",
       "    <tr>\n",
       "      <th>4</th>\n",
       "      <td>Platform</td>\n",
       "      <td>18.09</td>\n",
       "      <td>38</td>\n",
       "    </tr>\n",
       "    <tr>\n",
       "      <th>1</th>\n",
       "      <td>Adventure</td>\n",
       "      <td>17.55</td>\n",
       "      <td>185</td>\n",
       "    </tr>\n",
       "    <tr>\n",
       "      <th>9</th>\n",
       "      <td>Simulation</td>\n",
       "      <td>13.13</td>\n",
       "      <td>44</td>\n",
       "    </tr>\n",
       "    <tr>\n",
       "      <th>11</th>\n",
       "      <td>Strategy</td>\n",
       "      <td>3.96</td>\n",
       "      <td>37</td>\n",
       "    </tr>\n",
       "    <tr>\n",
       "      <th>5</th>\n",
       "      <td>Puzzle</td>\n",
       "      <td>2.21</td>\n",
       "      <td>14</td>\n",
       "    </tr>\n",
       "  </tbody>\n",
       "</table>\n",
       "</div>"
      ],
      "text/plain": [
       "           genre  sales_total  amount\n",
       "0         Action       199.36     619\n",
       "8        Shooter       170.94     128\n",
       "10        Sports       109.48     161\n",
       "7   Role-Playing       101.44     221\n",
       "3           Misc        37.55     113\n",
       "2       Fighting        28.22      60\n",
       "6         Racing        27.52      69\n",
       "4       Platform        18.09      38\n",
       "1      Adventure        17.55     185\n",
       "9     Simulation        13.13      44\n",
       "11      Strategy         3.96      37\n",
       "5         Puzzle         2.21      14"
      ]
     },
     "execution_count": 49,
     "metadata": {},
     "output_type": "execute_result"
    }
   ],
   "source": [
    "sort_genre = games.groupby('genre', as_index=False) \\\n",
    "    .agg({'sales_total':['sum', 'count']}) \n",
    "sort_genre.columns = ['genre', 'sales_total', 'amount']\n",
    "sort_genre.sort_values(by='sales_total', ascending=False)"
   ]
  },
  {
   "cell_type": "markdown",
   "id": "689740cf",
   "metadata": {},
   "source": [
    "Можно сказать, что самые продаваемые жанры это Action, Sports, Shooter,Role-Playing, а в оутсайдерах находятся Puzzle,Strategy, Adventure, Simulation"
   ]
  },
  {
   "cell_type": "markdown",
   "id": "7d454461",
   "metadata": {},
   "source": [
    "# Составим портрет пользователя каждого региона"
   ]
  },
  {
   "cell_type": "markdown",
   "id": "86ffd272",
   "metadata": {},
   "source": [
    "Определите для пользователя каждого региона (NA, EU, JP):\n",
    "\n",
    "1. Самые популярные платформы (топ-5). Опишим различия в долях продаж.\n",
    "\n",
    "2. Самые популярные жанры (топ-5). Поясним разницу.\n",
    "\n",
    "3. Влияет ли рейтинг ESRB на продажи в отдельном регионе\n"
   ]
  },
  {
   "cell_type": "markdown",
   "id": "3dd43d0a",
   "metadata": {},
   "source": [
    "Самые популярные платформы (топ-5). Опишим различия в долях продаж."
   ]
  },
  {
   "cell_type": "code",
   "execution_count": 50,
   "id": "1c04a6bf",
   "metadata": {
    "scrolled": true
   },
   "outputs": [
    {
     "data": {
      "text/html": [
       "<div>\n",
       "<style scoped>\n",
       "    .dataframe tbody tr th:only-of-type {\n",
       "        vertical-align: middle;\n",
       "    }\n",
       "\n",
       "    .dataframe tbody tr th {\n",
       "        vertical-align: top;\n",
       "    }\n",
       "\n",
       "    .dataframe thead th {\n",
       "        text-align: right;\n",
       "    }\n",
       "</style>\n",
       "<table border=\"1\" class=\"dataframe\">\n",
       "  <thead>\n",
       "    <tr style=\"text-align: right;\">\n",
       "      <th></th>\n",
       "      <th>platform</th>\n",
       "      <th>sales_total</th>\n",
       "    </tr>\n",
       "  </thead>\n",
       "  <tbody>\n",
       "    <tr>\n",
       "      <th>3</th>\n",
       "      <td>PS4</td>\n",
       "      <td>288.15</td>\n",
       "    </tr>\n",
       "    <tr>\n",
       "      <th>9</th>\n",
       "      <td>XOne</td>\n",
       "      <td>140.36</td>\n",
       "    </tr>\n",
       "    <tr>\n",
       "      <th>0</th>\n",
       "      <td>3DS</td>\n",
       "      <td>86.68</td>\n",
       "    </tr>\n",
       "    <tr>\n",
       "      <th>2</th>\n",
       "      <td>PS3</td>\n",
       "      <td>68.18</td>\n",
       "    </tr>\n",
       "    <tr>\n",
       "      <th>8</th>\n",
       "      <td>X360</td>\n",
       "      <td>48.22</td>\n",
       "    </tr>\n",
       "  </tbody>\n",
       "</table>\n",
       "</div>"
      ],
      "text/plain": [
       "  platform  sales_total\n",
       "3      PS4       288.15\n",
       "9     XOne       140.36\n",
       "0      3DS        86.68\n",
       "2      PS3        68.18\n",
       "8     X360        48.22"
      ]
     },
     "execution_count": 50,
     "metadata": {},
     "output_type": "execute_result"
    }
   ],
   "source": [
    "world = games.groupby('platform', as_index=False).agg({'sales_total':'sum'}).sort_values(by='sales_total', ascending=False).head()\n",
    "world   "
   ]
  },
  {
   "cell_type": "code",
   "execution_count": 51,
   "id": "4b979621",
   "metadata": {},
   "outputs": [
    {
     "data": {
      "text/html": [
       "<div>\n",
       "<style scoped>\n",
       "    .dataframe tbody tr th:only-of-type {\n",
       "        vertical-align: middle;\n",
       "    }\n",
       "\n",
       "    .dataframe tbody tr th {\n",
       "        vertical-align: top;\n",
       "    }\n",
       "\n",
       "    .dataframe thead th {\n",
       "        text-align: right;\n",
       "    }\n",
       "</style>\n",
       "<table border=\"1\" class=\"dataframe\">\n",
       "  <thead>\n",
       "    <tr style=\"text-align: right;\">\n",
       "      <th></th>\n",
       "      <th>platform</th>\n",
       "      <th>na_sales</th>\n",
       "      <th>part_%</th>\n",
       "    </tr>\n",
       "  </thead>\n",
       "  <tbody>\n",
       "    <tr>\n",
       "      <th>3</th>\n",
       "      <td>PS4</td>\n",
       "      <td>98.61</td>\n",
       "      <td>34.22</td>\n",
       "    </tr>\n",
       "    <tr>\n",
       "      <th>9</th>\n",
       "      <td>XOne</td>\n",
       "      <td>81.27</td>\n",
       "      <td>57.90</td>\n",
       "    </tr>\n",
       "    <tr>\n",
       "      <th>8</th>\n",
       "      <td>X360</td>\n",
       "      <td>28.30</td>\n",
       "      <td>58.69</td>\n",
       "    </tr>\n",
       "    <tr>\n",
       "      <th>0</th>\n",
       "      <td>3DS</td>\n",
       "      <td>22.64</td>\n",
       "      <td>26.12</td>\n",
       "    </tr>\n",
       "    <tr>\n",
       "      <th>2</th>\n",
       "      <td>PS3</td>\n",
       "      <td>22.05</td>\n",
       "      <td>32.34</td>\n",
       "    </tr>\n",
       "  </tbody>\n",
       "</table>\n",
       "</div>"
      ],
      "text/plain": [
       "  platform  na_sales  part_%\n",
       "3      PS4     98.61   34.22\n",
       "9     XOne     81.27   57.90\n",
       "8     X360     28.30   58.69\n",
       "0      3DS     22.64   26.12\n",
       "2      PS3     22.05   32.34"
      ]
     },
     "execution_count": 51,
     "metadata": {},
     "output_type": "execute_result"
    }
   ],
   "source": [
    "na = games.groupby('platform', as_index=False).agg({'na_sales':'sum'}).sort_values(by='na_sales', ascending=False).head()\n",
    "na['part_%'] = na['na_sales']/world['sales_total']*100\n",
    "na"
   ]
  },
  {
   "cell_type": "code",
   "execution_count": 52,
   "id": "632289fa",
   "metadata": {},
   "outputs": [
    {
     "data": {
      "text/html": [
       "<div>\n",
       "<style scoped>\n",
       "    .dataframe tbody tr th:only-of-type {\n",
       "        vertical-align: middle;\n",
       "    }\n",
       "\n",
       "    .dataframe tbody tr th {\n",
       "        vertical-align: top;\n",
       "    }\n",
       "\n",
       "    .dataframe thead th {\n",
       "        text-align: right;\n",
       "    }\n",
       "</style>\n",
       "<table border=\"1\" class=\"dataframe\">\n",
       "  <thead>\n",
       "    <tr style=\"text-align: right;\">\n",
       "      <th></th>\n",
       "      <th>platform</th>\n",
       "      <th>eu_sales</th>\n",
       "      <th>part_%</th>\n",
       "    </tr>\n",
       "  </thead>\n",
       "  <tbody>\n",
       "    <tr>\n",
       "      <th>3</th>\n",
       "      <td>PS4</td>\n",
       "      <td>130.04</td>\n",
       "      <td>45.13</td>\n",
       "    </tr>\n",
       "    <tr>\n",
       "      <th>9</th>\n",
       "      <td>XOne</td>\n",
       "      <td>46.25</td>\n",
       "      <td>32.95</td>\n",
       "    </tr>\n",
       "    <tr>\n",
       "      <th>2</th>\n",
       "      <td>PS3</td>\n",
       "      <td>25.54</td>\n",
       "      <td>37.46</td>\n",
       "    </tr>\n",
       "    <tr>\n",
       "      <th>1</th>\n",
       "      <td>PC</td>\n",
       "      <td>17.97</td>\n",
       "      <td>NaN</td>\n",
       "    </tr>\n",
       "    <tr>\n",
       "      <th>0</th>\n",
       "      <td>3DS</td>\n",
       "      <td>16.12</td>\n",
       "      <td>18.60</td>\n",
       "    </tr>\n",
       "  </tbody>\n",
       "</table>\n",
       "</div>"
      ],
      "text/plain": [
       "  platform  eu_sales  part_%\n",
       "3      PS4    130.04   45.13\n",
       "9     XOne     46.25   32.95\n",
       "2      PS3     25.54   37.46\n",
       "1       PC     17.97     NaN\n",
       "0      3DS     16.12   18.60"
      ]
     },
     "execution_count": 52,
     "metadata": {},
     "output_type": "execute_result"
    }
   ],
   "source": [
    "eu = games.groupby('platform', as_index=False).agg({'eu_sales':'sum'}).sort_values(by='eu_sales', ascending=False).head()\n",
    "eu['part_%'] = eu['eu_sales']/world['sales_total']*100\n",
    "eu"
   ]
  },
  {
   "cell_type": "code",
   "execution_count": 53,
   "id": "a0b62d7c",
   "metadata": {
    "scrolled": true
   },
   "outputs": [
    {
     "data": {
      "text/html": [
       "<div>\n",
       "<style scoped>\n",
       "    .dataframe tbody tr th:only-of-type {\n",
       "        vertical-align: middle;\n",
       "    }\n",
       "\n",
       "    .dataframe tbody tr th {\n",
       "        vertical-align: top;\n",
       "    }\n",
       "\n",
       "    .dataframe thead th {\n",
       "        text-align: right;\n",
       "    }\n",
       "</style>\n",
       "<table border=\"1\" class=\"dataframe\">\n",
       "  <thead>\n",
       "    <tr style=\"text-align: right;\">\n",
       "      <th></th>\n",
       "      <th>platform</th>\n",
       "      <th>jp_sales</th>\n",
       "      <th>part_%</th>\n",
       "    </tr>\n",
       "  </thead>\n",
       "  <tbody>\n",
       "    <tr>\n",
       "      <th>0</th>\n",
       "      <td>3DS</td>\n",
       "      <td>44.24</td>\n",
       "      <td>51.04</td>\n",
       "    </tr>\n",
       "    <tr>\n",
       "      <th>3</th>\n",
       "      <td>PS4</td>\n",
       "      <td>15.02</td>\n",
       "      <td>5.21</td>\n",
       "    </tr>\n",
       "    <tr>\n",
       "      <th>5</th>\n",
       "      <td>PSV</td>\n",
       "      <td>14.54</td>\n",
       "      <td>NaN</td>\n",
       "    </tr>\n",
       "    <tr>\n",
       "      <th>2</th>\n",
       "      <td>PS3</td>\n",
       "      <td>11.22</td>\n",
       "      <td>16.46</td>\n",
       "    </tr>\n",
       "    <tr>\n",
       "      <th>7</th>\n",
       "      <td>WiiU</td>\n",
       "      <td>7.31</td>\n",
       "      <td>NaN</td>\n",
       "    </tr>\n",
       "  </tbody>\n",
       "</table>\n",
       "</div>"
      ],
      "text/plain": [
       "  platform  jp_sales  part_%\n",
       "0      3DS     44.24   51.04\n",
       "3      PS4     15.02    5.21\n",
       "5      PSV     14.54     NaN\n",
       "2      PS3     11.22   16.46\n",
       "7     WiiU      7.31     NaN"
      ]
     },
     "execution_count": 53,
     "metadata": {},
     "output_type": "execute_result"
    }
   ],
   "source": [
    "jp = games.groupby('platform', as_index=False).agg({'jp_sales':'sum'}).sort_values(by='jp_sales', ascending=False).head()\n",
    "jp['part_%'] = jp['jp_sales']/world['sales_total']*100\n",
    "jp"
   ]
  },
  {
   "cell_type": "markdown",
   "id": "166f1293",
   "metadata": {},
   "source": [
    "По регионам особенно заметно выделяется японский рынок, там свои кумиры"
   ]
  },
  {
   "cell_type": "markdown",
   "id": "f4c0bda0",
   "metadata": {},
   "source": [
    "Самые популярные жанры (топ-5). Поясним разницу."
   ]
  },
  {
   "cell_type": "code",
   "execution_count": 54,
   "id": "f801b9ed",
   "metadata": {},
   "outputs": [
    {
     "data": {
      "text/html": [
       "<div>\n",
       "<style scoped>\n",
       "    .dataframe tbody tr th:only-of-type {\n",
       "        vertical-align: middle;\n",
       "    }\n",
       "\n",
       "    .dataframe tbody tr th {\n",
       "        vertical-align: top;\n",
       "    }\n",
       "\n",
       "    .dataframe thead th {\n",
       "        text-align: right;\n",
       "    }\n",
       "</style>\n",
       "<table border=\"1\" class=\"dataframe\">\n",
       "  <thead>\n",
       "    <tr style=\"text-align: right;\">\n",
       "      <th></th>\n",
       "      <th>genre</th>\n",
       "      <th>sales_total</th>\n",
       "    </tr>\n",
       "  </thead>\n",
       "  <tbody>\n",
       "    <tr>\n",
       "      <th>0</th>\n",
       "      <td>Action</td>\n",
       "      <td>199.36</td>\n",
       "    </tr>\n",
       "    <tr>\n",
       "      <th>8</th>\n",
       "      <td>Shooter</td>\n",
       "      <td>170.94</td>\n",
       "    </tr>\n",
       "    <tr>\n",
       "      <th>10</th>\n",
       "      <td>Sports</td>\n",
       "      <td>109.48</td>\n",
       "    </tr>\n",
       "    <tr>\n",
       "      <th>7</th>\n",
       "      <td>Role-Playing</td>\n",
       "      <td>101.44</td>\n",
       "    </tr>\n",
       "    <tr>\n",
       "      <th>3</th>\n",
       "      <td>Misc</td>\n",
       "      <td>37.55</td>\n",
       "    </tr>\n",
       "  </tbody>\n",
       "</table>\n",
       "</div>"
      ],
      "text/plain": [
       "           genre  sales_total\n",
       "0         Action       199.36\n",
       "8        Shooter       170.94\n",
       "10        Sports       109.48\n",
       "7   Role-Playing       101.44\n",
       "3           Misc        37.55"
      ]
     },
     "execution_count": 54,
     "metadata": {},
     "output_type": "execute_result"
    }
   ],
   "source": [
    "world = games.groupby('genre', as_index=False).agg({'sales_total':'sum'}).sort_values(by='sales_total', ascending=False).head()\n",
    "world"
   ]
  },
  {
   "cell_type": "code",
   "execution_count": 55,
   "id": "f0360d39",
   "metadata": {},
   "outputs": [
    {
     "data": {
      "text/html": [
       "<div>\n",
       "<style scoped>\n",
       "    .dataframe tbody tr th:only-of-type {\n",
       "        vertical-align: middle;\n",
       "    }\n",
       "\n",
       "    .dataframe tbody tr th {\n",
       "        vertical-align: top;\n",
       "    }\n",
       "\n",
       "    .dataframe thead th {\n",
       "        text-align: right;\n",
       "    }\n",
       "</style>\n",
       "<table border=\"1\" class=\"dataframe\">\n",
       "  <thead>\n",
       "    <tr style=\"text-align: right;\">\n",
       "      <th></th>\n",
       "      <th>genre</th>\n",
       "      <th>na_sales</th>\n",
       "      <th>part_%</th>\n",
       "    </tr>\n",
       "  </thead>\n",
       "  <tbody>\n",
       "    <tr>\n",
       "      <th>8</th>\n",
       "      <td>Shooter</td>\n",
       "      <td>79.02</td>\n",
       "      <td>46.23</td>\n",
       "    </tr>\n",
       "    <tr>\n",
       "      <th>0</th>\n",
       "      <td>Action</td>\n",
       "      <td>72.53</td>\n",
       "      <td>36.38</td>\n",
       "    </tr>\n",
       "    <tr>\n",
       "      <th>10</th>\n",
       "      <td>Sports</td>\n",
       "      <td>46.13</td>\n",
       "      <td>42.14</td>\n",
       "    </tr>\n",
       "    <tr>\n",
       "      <th>7</th>\n",
       "      <td>Role-Playing</td>\n",
       "      <td>33.47</td>\n",
       "      <td>32.99</td>\n",
       "    </tr>\n",
       "    <tr>\n",
       "      <th>3</th>\n",
       "      <td>Misc</td>\n",
       "      <td>15.05</td>\n",
       "      <td>40.08</td>\n",
       "    </tr>\n",
       "  </tbody>\n",
       "</table>\n",
       "</div>"
      ],
      "text/plain": [
       "           genre  na_sales  part_%\n",
       "8        Shooter     79.02   46.23\n",
       "0         Action     72.53   36.38\n",
       "10        Sports     46.13   42.14\n",
       "7   Role-Playing     33.47   32.99\n",
       "3           Misc     15.05   40.08"
      ]
     },
     "execution_count": 55,
     "metadata": {},
     "output_type": "execute_result"
    }
   ],
   "source": [
    "na = games.groupby('genre', as_index=False).agg({'na_sales':'sum'}).sort_values(by='na_sales', ascending=False).head()\n",
    "na['part_%'] = na['na_sales']/world['sales_total']*100\n",
    "na"
   ]
  },
  {
   "cell_type": "code",
   "execution_count": 56,
   "id": "43d7027e",
   "metadata": {},
   "outputs": [
    {
     "data": {
      "text/html": [
       "<div>\n",
       "<style scoped>\n",
       "    .dataframe tbody tr th:only-of-type {\n",
       "        vertical-align: middle;\n",
       "    }\n",
       "\n",
       "    .dataframe tbody tr th {\n",
       "        vertical-align: top;\n",
       "    }\n",
       "\n",
       "    .dataframe thead th {\n",
       "        text-align: right;\n",
       "    }\n",
       "</style>\n",
       "<table border=\"1\" class=\"dataframe\">\n",
       "  <thead>\n",
       "    <tr style=\"text-align: right;\">\n",
       "      <th></th>\n",
       "      <th>genre</th>\n",
       "      <th>eu_sales</th>\n",
       "      <th>part_%</th>\n",
       "    </tr>\n",
       "  </thead>\n",
       "  <tbody>\n",
       "    <tr>\n",
       "      <th>0</th>\n",
       "      <td>Action</td>\n",
       "      <td>74.68</td>\n",
       "      <td>37.46</td>\n",
       "    </tr>\n",
       "    <tr>\n",
       "      <th>8</th>\n",
       "      <td>Shooter</td>\n",
       "      <td>65.52</td>\n",
       "      <td>38.33</td>\n",
       "    </tr>\n",
       "    <tr>\n",
       "      <th>10</th>\n",
       "      <td>Sports</td>\n",
       "      <td>45.73</td>\n",
       "      <td>41.77</td>\n",
       "    </tr>\n",
       "    <tr>\n",
       "      <th>7</th>\n",
       "      <td>Role-Playing</td>\n",
       "      <td>28.17</td>\n",
       "      <td>27.77</td>\n",
       "    </tr>\n",
       "    <tr>\n",
       "      <th>6</th>\n",
       "      <td>Racing</td>\n",
       "      <td>14.13</td>\n",
       "      <td>NaN</td>\n",
       "    </tr>\n",
       "  </tbody>\n",
       "</table>\n",
       "</div>"
      ],
      "text/plain": [
       "           genre  eu_sales  part_%\n",
       "0         Action     74.68   37.46\n",
       "8        Shooter     65.52   38.33\n",
       "10        Sports     45.73   41.77\n",
       "7   Role-Playing     28.17   27.77\n",
       "6         Racing     14.13     NaN"
      ]
     },
     "execution_count": 56,
     "metadata": {},
     "output_type": "execute_result"
    }
   ],
   "source": [
    "eu= games.groupby('genre', as_index=False).agg({'eu_sales':'sum'}).sort_values(by='eu_sales', ascending=False).head()\n",
    "eu['part_%'] = eu['eu_sales']/world['sales_total']*100\n",
    "eu"
   ]
  },
  {
   "cell_type": "code",
   "execution_count": 57,
   "id": "103646c2",
   "metadata": {},
   "outputs": [
    {
     "data": {
      "text/html": [
       "<div>\n",
       "<style scoped>\n",
       "    .dataframe tbody tr th:only-of-type {\n",
       "        vertical-align: middle;\n",
       "    }\n",
       "\n",
       "    .dataframe tbody tr th {\n",
       "        vertical-align: top;\n",
       "    }\n",
       "\n",
       "    .dataframe thead th {\n",
       "        text-align: right;\n",
       "    }\n",
       "</style>\n",
       "<table border=\"1\" class=\"dataframe\">\n",
       "  <thead>\n",
       "    <tr style=\"text-align: right;\">\n",
       "      <th></th>\n",
       "      <th>genre</th>\n",
       "      <th>jp_sales</th>\n",
       "      <th>part_%</th>\n",
       "    </tr>\n",
       "  </thead>\n",
       "  <tbody>\n",
       "    <tr>\n",
       "      <th>7</th>\n",
       "      <td>Role-Playing</td>\n",
       "      <td>31.16</td>\n",
       "      <td>30.72</td>\n",
       "    </tr>\n",
       "    <tr>\n",
       "      <th>0</th>\n",
       "      <td>Action</td>\n",
       "      <td>29.58</td>\n",
       "      <td>14.84</td>\n",
       "    </tr>\n",
       "    <tr>\n",
       "      <th>2</th>\n",
       "      <td>Fighting</td>\n",
       "      <td>6.37</td>\n",
       "      <td>NaN</td>\n",
       "    </tr>\n",
       "    <tr>\n",
       "      <th>3</th>\n",
       "      <td>Misc</td>\n",
       "      <td>5.61</td>\n",
       "      <td>14.94</td>\n",
       "    </tr>\n",
       "    <tr>\n",
       "      <th>8</th>\n",
       "      <td>Shooter</td>\n",
       "      <td>4.87</td>\n",
       "      <td>2.85</td>\n",
       "    </tr>\n",
       "  </tbody>\n",
       "</table>\n",
       "</div>"
      ],
      "text/plain": [
       "          genre  jp_sales  part_%\n",
       "7  Role-Playing     31.16   30.72\n",
       "0        Action     29.58   14.84\n",
       "2      Fighting      6.37     NaN\n",
       "3          Misc      5.61   14.94\n",
       "8       Shooter      4.87    2.85"
      ]
     },
     "execution_count": 57,
     "metadata": {},
     "output_type": "execute_result"
    }
   ],
   "source": [
    "jp = games.groupby('genre', as_index=False).agg({'jp_sales':'sum'}).sort_values(by='jp_sales', ascending=False).head()\n",
    "jp['part_%'] = jp['jp_sales']/world['sales_total']*100\n",
    "jp"
   ]
  },
  {
   "cell_type": "markdown",
   "id": "0a45c4da",
   "metadata": {},
   "source": [
    "По жанрам Япония опять отметилась, но есть и общее с остальным миром"
   ]
  },
  {
   "cell_type": "code",
   "execution_count": 58,
   "id": "77366188",
   "metadata": {},
   "outputs": [
    {
     "data": {
      "text/html": [
       "<div>\n",
       "<style scoped>\n",
       "    .dataframe tbody tr th:only-of-type {\n",
       "        vertical-align: middle;\n",
       "    }\n",
       "\n",
       "    .dataframe tbody tr th {\n",
       "        vertical-align: top;\n",
       "    }\n",
       "\n",
       "    .dataframe thead th {\n",
       "        text-align: right;\n",
       "    }\n",
       "</style>\n",
       "<table border=\"1\" class=\"dataframe\">\n",
       "  <thead>\n",
       "    <tr style=\"text-align: right;\">\n",
       "      <th></th>\n",
       "      <th>rating</th>\n",
       "      <th>sales_total</th>\n",
       "    </tr>\n",
       "  </thead>\n",
       "  <tbody>\n",
       "    <tr>\n",
       "      <th>2</th>\n",
       "      <td>M</td>\n",
       "      <td>226.54</td>\n",
       "    </tr>\n",
       "    <tr>\n",
       "      <th>4</th>\n",
       "      <td>Unknown</td>\n",
       "      <td>198.97</td>\n",
       "    </tr>\n",
       "    <tr>\n",
       "      <th>0</th>\n",
       "      <td>E</td>\n",
       "      <td>133.13</td>\n",
       "    </tr>\n",
       "    <tr>\n",
       "      <th>3</th>\n",
       "      <td>T</td>\n",
       "      <td>99.13</td>\n",
       "    </tr>\n",
       "    <tr>\n",
       "      <th>1</th>\n",
       "      <td>E10+</td>\n",
       "      <td>71.68</td>\n",
       "    </tr>\n",
       "  </tbody>\n",
       "</table>\n",
       "</div>"
      ],
      "text/plain": [
       "    rating  sales_total\n",
       "2        M       226.54\n",
       "4  Unknown       198.97\n",
       "0        E       133.13\n",
       "3        T        99.13\n",
       "1     E10+        71.68"
      ]
     },
     "execution_count": 58,
     "metadata": {},
     "output_type": "execute_result"
    }
   ],
   "source": [
    "world = games.groupby('rating', as_index=False).agg({'sales_total':'sum'}).sort_values(by='sales_total', ascending=False).head()\n",
    "world"
   ]
  },
  {
   "cell_type": "code",
   "execution_count": 59,
   "id": "22a27f7a",
   "metadata": {},
   "outputs": [
    {
     "data": {
      "text/html": [
       "<div>\n",
       "<style scoped>\n",
       "    .dataframe tbody tr th:only-of-type {\n",
       "        vertical-align: middle;\n",
       "    }\n",
       "\n",
       "    .dataframe tbody tr th {\n",
       "        vertical-align: top;\n",
       "    }\n",
       "\n",
       "    .dataframe thead th {\n",
       "        text-align: right;\n",
       "    }\n",
       "</style>\n",
       "<table border=\"1\" class=\"dataframe\">\n",
       "  <thead>\n",
       "    <tr style=\"text-align: right;\">\n",
       "      <th></th>\n",
       "      <th>rating</th>\n",
       "      <th>na_sales</th>\n",
       "      <th>part_%</th>\n",
       "    </tr>\n",
       "  </thead>\n",
       "  <tbody>\n",
       "    <tr>\n",
       "      <th>2</th>\n",
       "      <td>M</td>\n",
       "      <td>96.42</td>\n",
       "      <td>42.56</td>\n",
       "    </tr>\n",
       "    <tr>\n",
       "      <th>4</th>\n",
       "      <td>Unknown</td>\n",
       "      <td>64.72</td>\n",
       "      <td>32.53</td>\n",
       "    </tr>\n",
       "    <tr>\n",
       "      <th>0</th>\n",
       "      <td>E</td>\n",
       "      <td>50.74</td>\n",
       "      <td>38.11</td>\n",
       "    </tr>\n",
       "    <tr>\n",
       "      <th>3</th>\n",
       "      <td>T</td>\n",
       "      <td>38.95</td>\n",
       "      <td>39.29</td>\n",
       "    </tr>\n",
       "    <tr>\n",
       "      <th>1</th>\n",
       "      <td>E10+</td>\n",
       "      <td>33.23</td>\n",
       "      <td>46.36</td>\n",
       "    </tr>\n",
       "  </tbody>\n",
       "</table>\n",
       "</div>"
      ],
      "text/plain": [
       "    rating  na_sales  part_%\n",
       "2        M     96.42   42.56\n",
       "4  Unknown     64.72   32.53\n",
       "0        E     50.74   38.11\n",
       "3        T     38.95   39.29\n",
       "1     E10+     33.23   46.36"
      ]
     },
     "execution_count": 59,
     "metadata": {},
     "output_type": "execute_result"
    }
   ],
   "source": [
    "na = games.groupby('rating', as_index=False).agg({'na_sales':'sum'}).sort_values(by='na_sales', ascending=False).head()\n",
    "na['part_%'] = na['na_sales']/world['sales_total']*100\n",
    "na"
   ]
  },
  {
   "cell_type": "code",
   "execution_count": 60,
   "id": "a8ece243",
   "metadata": {},
   "outputs": [
    {
     "data": {
      "text/html": [
       "<div>\n",
       "<style scoped>\n",
       "    .dataframe tbody tr th:only-of-type {\n",
       "        vertical-align: middle;\n",
       "    }\n",
       "\n",
       "    .dataframe tbody tr th {\n",
       "        vertical-align: top;\n",
       "    }\n",
       "\n",
       "    .dataframe thead th {\n",
       "        text-align: right;\n",
       "    }\n",
       "</style>\n",
       "<table border=\"1\" class=\"dataframe\">\n",
       "  <thead>\n",
       "    <tr style=\"text-align: right;\">\n",
       "      <th></th>\n",
       "      <th>rating</th>\n",
       "      <th>eu_sales</th>\n",
       "      <th>part_%</th>\n",
       "    </tr>\n",
       "  </thead>\n",
       "  <tbody>\n",
       "    <tr>\n",
       "      <th>2</th>\n",
       "      <td>M</td>\n",
       "      <td>93.44</td>\n",
       "      <td>41.25</td>\n",
       "    </tr>\n",
       "    <tr>\n",
       "      <th>4</th>\n",
       "      <td>Unknown</td>\n",
       "      <td>58.95</td>\n",
       "      <td>29.63</td>\n",
       "    </tr>\n",
       "    <tr>\n",
       "      <th>0</th>\n",
       "      <td>E</td>\n",
       "      <td>58.06</td>\n",
       "      <td>43.61</td>\n",
       "    </tr>\n",
       "    <tr>\n",
       "      <th>3</th>\n",
       "      <td>T</td>\n",
       "      <td>34.07</td>\n",
       "      <td>34.37</td>\n",
       "    </tr>\n",
       "    <tr>\n",
       "      <th>1</th>\n",
       "      <td>E10+</td>\n",
       "      <td>26.16</td>\n",
       "      <td>36.50</td>\n",
       "    </tr>\n",
       "  </tbody>\n",
       "</table>\n",
       "</div>"
      ],
      "text/plain": [
       "    rating  eu_sales  part_%\n",
       "2        M     93.44   41.25\n",
       "4  Unknown     58.95   29.63\n",
       "0        E     58.06   43.61\n",
       "3        T     34.07   34.37\n",
       "1     E10+     26.16   36.50"
      ]
     },
     "execution_count": 60,
     "metadata": {},
     "output_type": "execute_result"
    }
   ],
   "source": [
    "eu= games.groupby('rating', as_index=False).agg({'eu_sales':'sum'}).sort_values(by='eu_sales', ascending=False).head()\n",
    "eu['part_%'] = eu['eu_sales']/world['sales_total']*100\n",
    "eu"
   ]
  },
  {
   "cell_type": "code",
   "execution_count": 61,
   "id": "f3592e1d",
   "metadata": {},
   "outputs": [
    {
     "data": {
      "text/html": [
       "<div>\n",
       "<style scoped>\n",
       "    .dataframe tbody tr th:only-of-type {\n",
       "        vertical-align: middle;\n",
       "    }\n",
       "\n",
       "    .dataframe tbody tr th {\n",
       "        vertical-align: top;\n",
       "    }\n",
       "\n",
       "    .dataframe thead th {\n",
       "        text-align: right;\n",
       "    }\n",
       "</style>\n",
       "<table border=\"1\" class=\"dataframe\">\n",
       "  <thead>\n",
       "    <tr style=\"text-align: right;\">\n",
       "      <th></th>\n",
       "      <th>rating</th>\n",
       "      <th>jp_sales</th>\n",
       "      <th>part_%</th>\n",
       "    </tr>\n",
       "  </thead>\n",
       "  <tbody>\n",
       "    <tr>\n",
       "      <th>4</th>\n",
       "      <td>Unknown</td>\n",
       "      <td>56.90</td>\n",
       "      <td>28.60</td>\n",
       "    </tr>\n",
       "    <tr>\n",
       "      <th>3</th>\n",
       "      <td>T</td>\n",
       "      <td>14.78</td>\n",
       "      <td>14.91</td>\n",
       "    </tr>\n",
       "    <tr>\n",
       "      <th>0</th>\n",
       "      <td>E</td>\n",
       "      <td>8.94</td>\n",
       "      <td>6.72</td>\n",
       "    </tr>\n",
       "    <tr>\n",
       "      <th>2</th>\n",
       "      <td>M</td>\n",
       "      <td>8.01</td>\n",
       "      <td>3.54</td>\n",
       "    </tr>\n",
       "    <tr>\n",
       "      <th>1</th>\n",
       "      <td>E10+</td>\n",
       "      <td>4.46</td>\n",
       "      <td>6.22</td>\n",
       "    </tr>\n",
       "  </tbody>\n",
       "</table>\n",
       "</div>"
      ],
      "text/plain": [
       "    rating  jp_sales  part_%\n",
       "4  Unknown     56.90   28.60\n",
       "3        T     14.78   14.91\n",
       "0        E      8.94    6.72\n",
       "2        M      8.01    3.54\n",
       "1     E10+      4.46    6.22"
      ]
     },
     "execution_count": 61,
     "metadata": {},
     "output_type": "execute_result"
    }
   ],
   "source": [
    "jp = games.groupby('rating', as_index=False).agg({'jp_sales':'sum'}).sort_values(by='jp_sales', ascending=False).head()\n",
    "jp['part_%'] = jp['jp_sales']/world['sales_total']*100\n",
    "jp"
   ]
  },
  {
   "cell_type": "markdown",
   "id": "098002a9",
   "metadata": {},
   "source": [
    "По рейтингам, ситуация не сильно отличается от региона к региону. Большую часть так же составляют продажи игр рейтинг которых мы не знаем"
   ]
  },
  {
   "cell_type": "markdown",
   "id": "76609b89",
   "metadata": {},
   "source": [
    "# Проверка гипотиз"
   ]
  },
  {
   "cell_type": "markdown",
   "id": "c843d7da",
   "metadata": {},
   "source": [
    "\n",
    "1. Средние пользовательские рейтинги платформ X360 и PC одинаковые;\n",
    "\n",
    "2. Средние пользовательские рейтинги жанров Action (англ. «действие», экшен-игры) и Sports (англ. «спортивные соревнования») разные.\n",
    "\n",
    "Будем использовать t-критерий Стьюдента, так как сравниваемые выборки независимы между собой."
   ]
  },
  {
   "cell_type": "markdown",
   "id": "92aa7def",
   "metadata": {},
   "source": [
    "1. Гипотиза\n",
    "\n",
    "H0: средний пользовательский рейтинг платформ X360 и PC одинаковый\n",
    "\n",
    "H1: средний пользовательский рейтинг платформ X360 и PС различается"
   ]
  },
  {
   "cell_type": "code",
   "execution_count": 62,
   "id": "936b8f24",
   "metadata": {},
   "outputs": [],
   "source": [
    "alpha = 0.05"
   ]
  },
  {
   "cell_type": "code",
   "execution_count": 63,
   "id": "7bc31d6e",
   "metadata": {},
   "outputs": [],
   "source": [
    "x360 = games[(games['platform'] == 'X360') & (games['user_score'] > 0)]['user_score']\n",
    "pc = games[(games['platform'] == 'PC') & (games['user_score'] > 0)]['user_score']"
   ]
  },
  {
   "cell_type": "code",
   "execution_count": 64,
   "id": "7d0feaa8",
   "metadata": {},
   "outputs": [],
   "source": [
    "results = st.ttest_ind(x360, pc)"
   ]
  },
  {
   "cell_type": "code",
   "execution_count": 65,
   "id": "4f6e2e31",
   "metadata": {},
   "outputs": [
    {
     "name": "stdout",
     "output_type": "stream",
     "text": [
      "p-значение: 0.030983578725445982\n",
      "Отвергаем нулевую гипотезу\n"
     ]
    }
   ],
   "source": [
    "print('p-значение:', results.pvalue)\n",
    "\n",
    "if (results.pvalue < alpha):\n",
    "    print(\"Отвергаем нулевую гипотезу\")\n",
    "else:\n",
    "    print(\"Не получилось отвергнуть нулевую гипотезу\")"
   ]
  },
  {
   "cell_type": "markdown",
   "id": "87a4b0be",
   "metadata": {},
   "source": [
    "**Результат статистической оценки дает основание предположить, что нуливая гипотиза Н0 неверна**"
   ]
  },
  {
   "cell_type": "markdown",
   "id": "ecaeea42",
   "metadata": {},
   "source": [
    "2. Гипотиза\n",
    "\n",
    "Н0  Средние пользовательские рейтинги жанров Action и Sports разные\n",
    "\n",
    "Н1 Средние пользовательские рейтинги жанров Action и Sports одинаковые"
   ]
  },
  {
   "cell_type": "code",
   "execution_count": 66,
   "id": "a3ef5aa4",
   "metadata": {},
   "outputs": [],
   "source": [
    "action = games[(games['genre'] == 'Action') & (games['user_score'] > 0)]['user_score']\n",
    "sports = games[(games['genre'] == 'Sports') & (games['user_score'] > 0)]['user_score']"
   ]
  },
  {
   "cell_type": "code",
   "execution_count": 67,
   "id": "fdffedb4",
   "metadata": {},
   "outputs": [],
   "source": [
    "results = st.ttest_ind(action, sports)"
   ]
  },
  {
   "cell_type": "code",
   "execution_count": 68,
   "id": "f56a1996",
   "metadata": {},
   "outputs": [
    {
     "name": "stdout",
     "output_type": "stream",
     "text": [
      "p-значение: 2.8711147985105864e-19\n",
      "Отвергаем нулевую гипотезу\n"
     ]
    }
   ],
   "source": [
    "print('p-значение:', results.pvalue)\n",
    "\n",
    "if (results.pvalue < alpha):\n",
    "    print(\"Отвергаем нулевую гипотезу\")\n",
    "else:\n",
    "    print(\"Не получилось отвергнуть нулевую гипотезу\")"
   ]
  },
  {
   "cell_type": "markdown",
   "id": "4e440b96",
   "metadata": {},
   "source": [
    "Резкльтат в 20.5% является статистически значемым. можно сказать, что нулевая теория Н0 верна."
   ]
  },
  {
   "cell_type": "markdown",
   "id": "3fb614cb",
   "metadata": {},
   "source": [
    "NEW **Результат статистической оценки дает основание предположить, что нуливая гипотиза Н0 неверна**"
   ]
  },
  {
   "cell_type": "markdown",
   "id": "c10296be",
   "metadata": {},
   "source": [
    "# Вывод"
   ]
  },
  {
   "cell_type": "markdown",
   "id": "3232c01c",
   "metadata": {},
   "source": [
    "Мы провели исследование представленных исторических данных по продажам игр в разных регионах и вот что можно сказать:\n",
    "\n",
    "1. основную ценность представляет период с 1993 по 2015 года, на этот период приходится большенство релизов игр\n",
    "\n",
    "\n",
    "2. для анализа взяли топ 6 плотформ по продажам, так как разница в суммрных продажах между 5 и 6 местом не так велика как между 6 и 7 местом. Судя по получившимся результатам в среднем период жизни платформы составляет 10 лет\n",
    "\n",
    "- Медиана по топовым платформам на уровне 0.3 млн. Верхняя граница предела, за которыми уже определяются аномалии, у двух платформ - PS3 и X360 - на уровне 1,7 млн. У остальных - от 0,6 до 1,15. Среди всех выделяется DS - у него эти показатели ниже. Медиана менее 0,1 млн, верхняя граница - 0,6 млн\n",
    "\n",
    "3. из проведенного анализа, мы можем сказать, что продажи игр падают на всех платформах начиная с периода жизни платформы в 5 лет. Видимо это связанно с тем, что жизненный цикл составляет в среднем 10 лет, через 5 лет платформа начинает устаривать, а так же у нее появляется конкурент в виде более современной платформы. \n",
    "\n",
    "\n",
    "4. сильная корреляция прослеживается между продажами и оценкой критиков, анологичная ситуация просматривается и с оценками пользоватей , основное объем продаж приходится на оценку критиков 60 - 100, 6,5 - 9 на оценку пользователей. Оценки критиков и пользователей так же имеют явную положительноую зависмисоть. В целом данную ситуацию можно интерпритировать и на другие платформы так как одинаковые игры могут выходить на разных платформ \n",
    "\n",
    "\n",
    "5. самые продаваемые жанры это Action, Sports, Shooter,Role-Playing, а в оутсайдерах находятся Puzzle,Strategy, Adventure, Simulation\n",
    "\n",
    "\n",
    "6. Так же выясние предпочтения по плотформам в разных регионах, сильнее всего отличается японский рынок\n",
    "\n",
    "\n",
    "7. Так же мы выяснили, что результат статистической оценки дает нам предположить что:\n",
    "\n",
    "- средний пользовательский рейтинг платформ X360 и PС различается\n",
    "\n",
    "- Средние пользовательские рейтинги жанров Action и Sports одинаковые\n",
    "\n",
    "\n",
    "\n",
    "Рекомендации:\n",
    "\n",
    "1. Для выбора потанциально выгодных платформ, следует смотреть не только на количество проданных игр, но и на период жизни. Исходя из этого потенциально прибольными платформами считаю РS3 и Х360\n",
    "\n",
    "2. Рейтинги хороший индикатор для выбора игр для продажи\n",
    "\n",
    "3. Разнообразие хорошо, но самые продоваемы игры это игры Action, Sports, Shooter, Misc жанров"
   ]
  },
  {
   "cell_type": "code",
   "execution_count": null,
   "id": "28331e77",
   "metadata": {},
   "outputs": [],
   "source": []
  }
 ],
 "metadata": {
  "ExecuteTimeLog": [
   {
    "duration": 1195,
    "start_time": "2022-05-12T10:21:25.014Z"
   },
   {
    "duration": 2,
    "start_time": "2022-05-12T10:21:26.211Z"
   },
   {
    "duration": 55,
    "start_time": "2022-05-12T10:21:26.215Z"
   },
   {
    "duration": 15,
    "start_time": "2022-05-12T10:21:26.272Z"
   },
   {
    "duration": 32,
    "start_time": "2022-05-12T10:21:26.289Z"
   },
   {
    "duration": 20,
    "start_time": "2022-05-12T10:21:26.322Z"
   },
   {
    "duration": 11,
    "start_time": "2022-05-12T10:21:26.344Z"
   },
   {
    "duration": 4,
    "start_time": "2022-05-12T10:21:26.357Z"
   },
   {
    "duration": 45,
    "start_time": "2022-05-12T10:21:26.362Z"
   },
   {
    "duration": 6,
    "start_time": "2022-05-12T10:21:26.410Z"
   },
   {
    "duration": 5,
    "start_time": "2022-05-12T10:21:26.418Z"
   },
   {
    "duration": 9,
    "start_time": "2022-05-12T10:21:26.424Z"
   },
   {
    "duration": 5,
    "start_time": "2022-05-12T10:21:26.434Z"
   },
   {
    "duration": 6,
    "start_time": "2022-05-12T10:21:26.440Z"
   },
   {
    "duration": 5,
    "start_time": "2022-05-12T10:21:26.448Z"
   },
   {
    "duration": 5,
    "start_time": "2022-05-12T10:21:26.455Z"
   },
   {
    "duration": 42,
    "start_time": "2022-05-12T10:21:26.461Z"
   },
   {
    "duration": 20,
    "start_time": "2022-05-12T10:21:26.505Z"
   },
   {
    "duration": 10,
    "start_time": "2022-05-12T10:21:26.527Z"
   },
   {
    "duration": 19,
    "start_time": "2022-05-12T10:21:26.538Z"
   },
   {
    "duration": 8,
    "start_time": "2022-05-12T10:21:26.558Z"
   },
   {
    "duration": 187,
    "start_time": "2022-05-12T10:21:26.567Z"
   },
   {
    "duration": 5,
    "start_time": "2022-05-12T10:21:26.756Z"
   },
   {
    "duration": 10,
    "start_time": "2022-05-12T10:21:26.762Z"
   },
   {
    "duration": 5,
    "start_time": "2022-05-12T10:21:26.774Z"
   },
   {
    "duration": 6,
    "start_time": "2022-05-12T10:21:26.781Z"
   },
   {
    "duration": 160,
    "start_time": "2022-05-12T10:21:26.789Z"
   },
   {
    "duration": 233,
    "start_time": "2022-05-12T10:21:26.953Z"
   },
   {
    "duration": 18,
    "start_time": "2022-05-12T10:21:27.188Z"
   },
   {
    "duration": 153,
    "start_time": "2022-05-12T10:21:27.208Z"
   },
   {
    "duration": 7,
    "start_time": "2022-05-12T10:21:27.363Z"
   },
   {
    "duration": 165,
    "start_time": "2022-05-12T10:21:27.371Z"
   },
   {
    "duration": 7,
    "start_time": "2022-05-12T10:21:27.538Z"
   },
   {
    "duration": 16,
    "start_time": "2022-05-12T10:21:27.546Z"
   },
   {
    "duration": 8,
    "start_time": "2022-05-12T10:21:27.564Z"
   },
   {
    "duration": 152,
    "start_time": "2022-05-12T10:21:27.574Z"
   },
   {
    "duration": 7,
    "start_time": "2022-05-12T10:21:27.728Z"
   },
   {
    "duration": 20,
    "start_time": "2022-05-12T10:21:27.736Z"
   },
   {
    "duration": 9,
    "start_time": "2022-05-12T10:21:27.758Z"
   },
   {
    "duration": 214,
    "start_time": "2022-05-12T10:21:27.768Z"
   },
   {
    "duration": 8,
    "start_time": "2022-05-12T10:21:27.984Z"
   },
   {
    "duration": 8,
    "start_time": "2022-05-12T10:21:28.001Z"
   },
   {
    "duration": 158,
    "start_time": "2022-05-12T10:21:28.011Z"
   },
   {
    "duration": 16,
    "start_time": "2022-05-12T10:21:28.171Z"
   },
   {
    "duration": 22,
    "start_time": "2022-05-12T10:21:28.189Z"
   },
   {
    "duration": 16,
    "start_time": "2022-05-12T10:21:28.212Z"
   },
   {
    "duration": 16,
    "start_time": "2022-05-12T10:21:28.230Z"
   },
   {
    "duration": 18,
    "start_time": "2022-05-12T10:21:28.247Z"
   },
   {
    "duration": 41,
    "start_time": "2022-05-12T10:21:28.266Z"
   },
   {
    "duration": 18,
    "start_time": "2022-05-12T10:21:28.309Z"
   },
   {
    "duration": 18,
    "start_time": "2022-05-12T10:21:28.329Z"
   },
   {
    "duration": 19,
    "start_time": "2022-05-12T10:21:28.349Z"
   },
   {
    "duration": 44,
    "start_time": "2022-05-12T10:21:28.370Z"
   },
   {
    "duration": 15,
    "start_time": "2022-05-12T10:21:28.416Z"
   },
   {
    "duration": 18,
    "start_time": "2022-05-12T10:21:28.433Z"
   },
   {
    "duration": 18,
    "start_time": "2022-05-12T10:21:28.452Z"
   },
   {
    "duration": 29,
    "start_time": "2022-05-12T10:21:28.472Z"
   },
   {
    "duration": 12,
    "start_time": "2022-05-12T10:21:28.503Z"
   },
   {
    "duration": 5,
    "start_time": "2022-05-12T10:21:28.517Z"
   },
   {
    "duration": 6,
    "start_time": "2022-05-12T10:21:28.524Z"
   },
   {
    "duration": 10,
    "start_time": "2022-05-12T10:21:28.531Z"
   },
   {
    "duration": 3,
    "start_time": "2022-05-12T10:21:28.543Z"
   },
   {
    "duration": 9,
    "start_time": "2022-05-12T10:21:28.548Z"
   },
   {
    "duration": 193,
    "start_time": "2022-05-12T10:39:36.886Z"
   },
   {
    "duration": 1354,
    "start_time": "2022-05-12T14:27:47.367Z"
   },
   {
    "duration": 3,
    "start_time": "2022-05-12T14:27:48.723Z"
   },
   {
    "duration": 48,
    "start_time": "2022-05-12T14:27:48.727Z"
   },
   {
    "duration": 15,
    "start_time": "2022-05-12T14:27:48.777Z"
   },
   {
    "duration": 33,
    "start_time": "2022-05-12T14:27:48.793Z"
   },
   {
    "duration": 12,
    "start_time": "2022-05-12T14:27:48.828Z"
   },
   {
    "duration": 26,
    "start_time": "2022-05-12T14:27:48.842Z"
   },
   {
    "duration": 11,
    "start_time": "2022-05-12T14:27:48.869Z"
   },
   {
    "duration": 26,
    "start_time": "2022-05-12T14:27:48.882Z"
   },
   {
    "duration": 11,
    "start_time": "2022-05-12T14:27:48.912Z"
   },
   {
    "duration": 27,
    "start_time": "2022-05-12T14:27:48.924Z"
   },
   {
    "duration": 19,
    "start_time": "2022-05-12T14:27:48.953Z"
   },
   {
    "duration": 23,
    "start_time": "2022-05-12T14:27:48.973Z"
   },
   {
    "duration": 8,
    "start_time": "2022-05-12T14:27:48.998Z"
   },
   {
    "duration": 7,
    "start_time": "2022-05-12T14:27:49.008Z"
   },
   {
    "duration": 5,
    "start_time": "2022-05-12T14:27:49.017Z"
   },
   {
    "duration": 7,
    "start_time": "2022-05-12T14:27:49.024Z"
   },
   {
    "duration": 8,
    "start_time": "2022-05-12T14:27:49.033Z"
   },
   {
    "duration": 6,
    "start_time": "2022-05-12T14:27:49.043Z"
   },
   {
    "duration": 30,
    "start_time": "2022-05-12T14:27:49.050Z"
   },
   {
    "duration": 8,
    "start_time": "2022-05-12T14:27:49.082Z"
   },
   {
    "duration": 197,
    "start_time": "2022-05-12T14:27:49.091Z"
   },
   {
    "duration": 6,
    "start_time": "2022-05-12T14:27:49.289Z"
   },
   {
    "duration": 17,
    "start_time": "2022-05-12T14:27:49.296Z"
   },
   {
    "duration": 8,
    "start_time": "2022-05-12T14:27:49.315Z"
   },
   {
    "duration": 7,
    "start_time": "2022-05-12T14:27:49.324Z"
   },
   {
    "duration": 185,
    "start_time": "2022-05-12T14:27:49.332Z"
   },
   {
    "duration": 261,
    "start_time": "2022-05-12T14:27:49.521Z"
   },
   {
    "duration": 12,
    "start_time": "2022-05-12T14:27:49.784Z"
   },
   {
    "duration": 179,
    "start_time": "2022-05-12T14:27:49.797Z"
   },
   {
    "duration": 7,
    "start_time": "2022-05-12T14:27:49.977Z"
   },
   {
    "duration": 178,
    "start_time": "2022-05-12T14:27:49.986Z"
   },
   {
    "duration": 7,
    "start_time": "2022-05-12T14:27:50.165Z"
   },
   {
    "duration": 15,
    "start_time": "2022-05-12T14:27:50.173Z"
   },
   {
    "duration": 7,
    "start_time": "2022-05-12T14:27:50.190Z"
   },
   {
    "duration": 157,
    "start_time": "2022-05-12T14:27:50.199Z"
   },
   {
    "duration": 11,
    "start_time": "2022-05-12T14:27:50.358Z"
   },
   {
    "duration": 16,
    "start_time": "2022-05-12T14:27:50.371Z"
   },
   {
    "duration": 7,
    "start_time": "2022-05-12T14:27:50.389Z"
   },
   {
    "duration": 159,
    "start_time": "2022-05-12T14:27:50.398Z"
   },
   {
    "duration": 7,
    "start_time": "2022-05-12T14:27:50.566Z"
   },
   {
    "duration": 10,
    "start_time": "2022-05-12T14:27:50.575Z"
   },
   {
    "duration": 114,
    "start_time": "2022-05-12T14:27:50.587Z"
   },
   {
    "duration": 12,
    "start_time": "2022-05-12T14:27:50.703Z"
   },
   {
    "duration": 15,
    "start_time": "2022-05-12T14:27:50.717Z"
   },
   {
    "duration": 34,
    "start_time": "2022-05-12T14:27:50.734Z"
   },
   {
    "duration": 14,
    "start_time": "2022-05-12T14:27:50.770Z"
   },
   {
    "duration": 19,
    "start_time": "2022-05-12T14:27:50.785Z"
   },
   {
    "duration": 11,
    "start_time": "2022-05-12T14:27:50.806Z"
   },
   {
    "duration": 20,
    "start_time": "2022-05-12T14:27:50.818Z"
   },
   {
    "duration": 37,
    "start_time": "2022-05-12T14:27:50.839Z"
   },
   {
    "duration": 14,
    "start_time": "2022-05-12T14:27:50.877Z"
   },
   {
    "duration": 14,
    "start_time": "2022-05-12T14:27:50.893Z"
   },
   {
    "duration": 12,
    "start_time": "2022-05-12T14:27:50.909Z"
   },
   {
    "duration": 47,
    "start_time": "2022-05-12T14:27:50.923Z"
   },
   {
    "duration": 14,
    "start_time": "2022-05-12T14:27:50.972Z"
   },
   {
    "duration": 8,
    "start_time": "2022-05-12T14:27:50.988Z"
   },
   {
    "duration": 11,
    "start_time": "2022-05-12T14:27:50.998Z"
   },
   {
    "duration": 8,
    "start_time": "2022-05-12T14:27:51.011Z"
   },
   {
    "duration": 12,
    "start_time": "2022-05-12T14:27:51.021Z"
   },
   {
    "duration": 15,
    "start_time": "2022-05-12T14:27:51.034Z"
   },
   {
    "duration": 17,
    "start_time": "2022-05-12T14:27:51.051Z"
   },
   {
    "duration": 12,
    "start_time": "2022-05-12T14:27:51.069Z"
   },
   {
    "duration": 13,
    "start_time": "2022-05-12T14:35:54.330Z"
   },
   {
    "duration": 124,
    "start_time": "2022-05-12T14:36:22.302Z"
   },
   {
    "duration": 580,
    "start_time": "2022-05-12T14:36:28.058Z"
   },
   {
    "duration": 12,
    "start_time": "2022-05-12T14:36:55.821Z"
   },
   {
    "duration": 12,
    "start_time": "2022-05-12T14:37:54.657Z"
   },
   {
    "duration": 14,
    "start_time": "2022-05-12T14:38:02.764Z"
   },
   {
    "duration": 14,
    "start_time": "2022-05-12T14:38:25.515Z"
   },
   {
    "duration": 1166,
    "start_time": "2022-05-12T14:38:56.354Z"
   },
   {
    "duration": 3,
    "start_time": "2022-05-12T14:38:57.522Z"
   },
   {
    "duration": 43,
    "start_time": "2022-05-12T14:38:57.526Z"
   },
   {
    "duration": 15,
    "start_time": "2022-05-12T14:38:57.571Z"
   },
   {
    "duration": 30,
    "start_time": "2022-05-12T14:38:57.587Z"
   },
   {
    "duration": 13,
    "start_time": "2022-05-12T14:38:57.619Z"
   },
   {
    "duration": 9,
    "start_time": "2022-05-12T14:38:57.633Z"
   },
   {
    "duration": 4,
    "start_time": "2022-05-12T14:38:57.667Z"
   },
   {
    "duration": 25,
    "start_time": "2022-05-12T14:38:57.672Z"
   },
   {
    "duration": 6,
    "start_time": "2022-05-12T14:38:57.700Z"
   },
   {
    "duration": 6,
    "start_time": "2022-05-12T14:38:57.707Z"
   },
   {
    "duration": 8,
    "start_time": "2022-05-12T14:38:57.715Z"
   },
   {
    "duration": 7,
    "start_time": "2022-05-12T14:38:57.725Z"
   },
   {
    "duration": 6,
    "start_time": "2022-05-12T14:38:57.734Z"
   },
   {
    "duration": 25,
    "start_time": "2022-05-12T14:38:57.742Z"
   },
   {
    "duration": 5,
    "start_time": "2022-05-12T14:38:57.768Z"
   },
   {
    "duration": 15,
    "start_time": "2022-05-12T14:38:57.775Z"
   },
   {
    "duration": 12,
    "start_time": "2022-05-12T14:38:57.792Z"
   },
   {
    "duration": 8,
    "start_time": "2022-05-12T14:38:57.805Z"
   },
   {
    "duration": 28,
    "start_time": "2022-05-12T14:38:57.814Z"
   },
   {
    "duration": 9,
    "start_time": "2022-05-12T14:38:57.844Z"
   },
   {
    "duration": 205,
    "start_time": "2022-05-12T14:38:57.854Z"
   },
   {
    "duration": 10,
    "start_time": "2022-05-12T14:38:58.061Z"
   },
   {
    "duration": 9,
    "start_time": "2022-05-12T14:38:58.072Z"
   },
   {
    "duration": 6,
    "start_time": "2022-05-12T14:38:58.083Z"
   },
   {
    "duration": 11,
    "start_time": "2022-05-12T14:38:58.091Z"
   },
   {
    "duration": 159,
    "start_time": "2022-05-12T14:38:58.104Z"
   },
   {
    "duration": 253,
    "start_time": "2022-05-12T14:38:58.268Z"
   },
   {
    "duration": 14,
    "start_time": "2022-05-12T14:38:58.523Z"
   },
   {
    "duration": 203,
    "start_time": "2022-05-12T14:38:58.538Z"
   },
   {
    "duration": 8,
    "start_time": "2022-05-12T14:38:58.743Z"
   },
   {
    "duration": 173,
    "start_time": "2022-05-12T14:38:58.752Z"
   },
   {
    "duration": 6,
    "start_time": "2022-05-12T14:38:58.927Z"
   },
   {
    "duration": 16,
    "start_time": "2022-05-12T14:38:58.935Z"
   },
   {
    "duration": 18,
    "start_time": "2022-05-12T14:38:58.953Z"
   },
   {
    "duration": 147,
    "start_time": "2022-05-12T14:38:58.973Z"
   },
   {
    "duration": 7,
    "start_time": "2022-05-12T14:38:59.121Z"
   },
   {
    "duration": 14,
    "start_time": "2022-05-12T14:38:59.129Z"
   },
   {
    "duration": 25,
    "start_time": "2022-05-12T14:38:59.144Z"
   },
   {
    "duration": 148,
    "start_time": "2022-05-12T14:38:59.171Z"
   },
   {
    "duration": 6,
    "start_time": "2022-05-12T14:38:59.321Z"
   },
   {
    "duration": 9,
    "start_time": "2022-05-12T14:38:59.329Z"
   },
   {
    "duration": 128,
    "start_time": "2022-05-12T14:38:59.340Z"
   },
   {
    "duration": 12,
    "start_time": "2022-05-12T14:38:59.470Z"
   },
   {
    "duration": 10,
    "start_time": "2022-05-12T14:38:59.484Z"
   },
   {
    "duration": 13,
    "start_time": "2022-05-12T14:38:59.496Z"
   },
   {
    "duration": 12,
    "start_time": "2022-05-12T14:38:59.511Z"
   },
   {
    "duration": 54,
    "start_time": "2022-05-12T14:38:59.525Z"
   },
   {
    "duration": 12,
    "start_time": "2022-05-12T14:38:59.580Z"
   },
   {
    "duration": 15,
    "start_time": "2022-05-12T14:38:59.594Z"
   },
   {
    "duration": 14,
    "start_time": "2022-05-12T14:38:59.610Z"
   },
   {
    "duration": 57,
    "start_time": "2022-05-12T14:38:59.626Z"
   },
   {
    "duration": 16,
    "start_time": "2022-05-12T14:38:59.685Z"
   },
   {
    "duration": 20,
    "start_time": "2022-05-12T14:38:59.704Z"
   },
   {
    "duration": 47,
    "start_time": "2022-05-12T14:38:59.726Z"
   },
   {
    "duration": 15,
    "start_time": "2022-05-12T14:38:59.775Z"
   },
   {
    "duration": 5,
    "start_time": "2022-05-12T14:38:59.792Z"
   },
   {
    "duration": 11,
    "start_time": "2022-05-12T14:38:59.799Z"
   },
   {
    "duration": 4,
    "start_time": "2022-05-12T14:38:59.812Z"
   },
   {
    "duration": 5,
    "start_time": "2022-05-12T14:38:59.818Z"
   },
   {
    "duration": 9,
    "start_time": "2022-05-12T14:38:59.825Z"
   },
   {
    "duration": 3,
    "start_time": "2022-05-12T14:38:59.868Z"
   },
   {
    "duration": 7,
    "start_time": "2022-05-12T14:38:59.874Z"
   },
   {
    "duration": 1425,
    "start_time": "2022-05-12T14:39:51.490Z"
   },
   {
    "duration": 3,
    "start_time": "2022-05-12T14:39:52.918Z"
   },
   {
    "duration": 81,
    "start_time": "2022-05-12T14:39:52.923Z"
   },
   {
    "duration": 17,
    "start_time": "2022-05-12T14:39:53.006Z"
   },
   {
    "duration": 33,
    "start_time": "2022-05-12T14:39:53.026Z"
   },
   {
    "duration": 17,
    "start_time": "2022-05-12T14:39:53.068Z"
   },
   {
    "duration": 21,
    "start_time": "2022-05-12T14:39:53.087Z"
   },
   {
    "duration": 5,
    "start_time": "2022-05-12T14:39:53.110Z"
   },
   {
    "duration": 19,
    "start_time": "2022-05-12T14:39:53.116Z"
   },
   {
    "duration": 30,
    "start_time": "2022-05-12T14:39:53.137Z"
   },
   {
    "duration": 13,
    "start_time": "2022-05-12T14:39:53.170Z"
   },
   {
    "duration": 29,
    "start_time": "2022-05-12T14:39:53.184Z"
   },
   {
    "duration": 18,
    "start_time": "2022-05-12T14:39:53.215Z"
   },
   {
    "duration": 14,
    "start_time": "2022-05-12T14:39:53.236Z"
   },
   {
    "duration": 19,
    "start_time": "2022-05-12T14:39:53.252Z"
   },
   {
    "duration": 21,
    "start_time": "2022-05-12T14:39:53.272Z"
   },
   {
    "duration": 14,
    "start_time": "2022-05-12T14:39:53.295Z"
   },
   {
    "duration": 14,
    "start_time": "2022-05-12T14:39:53.310Z"
   },
   {
    "duration": 24,
    "start_time": "2022-05-12T14:39:53.326Z"
   },
   {
    "duration": 33,
    "start_time": "2022-05-12T14:39:53.353Z"
   },
   {
    "duration": 21,
    "start_time": "2022-05-12T14:39:53.388Z"
   },
   {
    "duration": 238,
    "start_time": "2022-05-12T14:39:53.411Z"
   },
   {
    "duration": 7,
    "start_time": "2022-05-12T14:39:53.651Z"
   },
   {
    "duration": 55,
    "start_time": "2022-05-12T14:39:53.660Z"
   },
   {
    "duration": 24,
    "start_time": "2022-05-12T14:39:53.717Z"
   },
   {
    "duration": 18,
    "start_time": "2022-05-12T14:39:53.743Z"
   },
   {
    "duration": 174,
    "start_time": "2022-05-12T14:39:53.763Z"
   },
   {
    "duration": 266,
    "start_time": "2022-05-12T14:39:53.939Z"
   },
   {
    "duration": 17,
    "start_time": "2022-05-12T14:39:54.208Z"
   },
   {
    "duration": 209,
    "start_time": "2022-05-12T14:39:54.227Z"
   },
   {
    "duration": 7,
    "start_time": "2022-05-12T14:39:54.438Z"
   },
   {
    "duration": 212,
    "start_time": "2022-05-12T14:39:54.447Z"
   },
   {
    "duration": 13,
    "start_time": "2022-05-12T14:39:54.661Z"
   },
   {
    "duration": 102,
    "start_time": "2022-05-12T14:39:54.676Z"
   },
   {
    "duration": 23,
    "start_time": "2022-05-12T14:39:54.781Z"
   },
   {
    "duration": 185,
    "start_time": "2022-05-12T14:39:54.807Z"
   },
   {
    "duration": 7,
    "start_time": "2022-05-12T14:39:54.994Z"
   },
   {
    "duration": 26,
    "start_time": "2022-05-12T14:39:55.002Z"
   },
   {
    "duration": 8,
    "start_time": "2022-05-12T14:39:55.030Z"
   },
   {
    "duration": 173,
    "start_time": "2022-05-12T14:39:55.040Z"
   },
   {
    "duration": 6,
    "start_time": "2022-05-12T14:39:55.218Z"
   },
   {
    "duration": 22,
    "start_time": "2022-05-12T14:39:55.225Z"
   },
   {
    "duration": 140,
    "start_time": "2022-05-12T14:39:55.249Z"
   },
   {
    "duration": 13,
    "start_time": "2022-05-12T14:39:55.391Z"
   },
   {
    "duration": 124,
    "start_time": "2022-05-12T14:39:55.406Z"
   },
   {
    "duration": 230,
    "start_time": "2022-05-12T14:39:55.532Z"
   },
   {
    "duration": 37,
    "start_time": "2022-05-12T14:39:55.763Z"
   },
   {
    "duration": 35,
    "start_time": "2022-05-12T14:39:55.802Z"
   },
   {
    "duration": 39,
    "start_time": "2022-05-12T14:39:55.839Z"
   },
   {
    "duration": 25,
    "start_time": "2022-05-12T14:39:55.880Z"
   },
   {
    "duration": 25,
    "start_time": "2022-05-12T14:39:55.907Z"
   },
   {
    "duration": 16,
    "start_time": "2022-05-12T14:39:55.934Z"
   },
   {
    "duration": 27,
    "start_time": "2022-05-12T14:39:55.954Z"
   },
   {
    "duration": 26,
    "start_time": "2022-05-12T14:39:55.983Z"
   },
   {
    "duration": 17,
    "start_time": "2022-05-12T14:39:56.011Z"
   },
   {
    "duration": 40,
    "start_time": "2022-05-12T14:39:56.029Z"
   },
   {
    "duration": 3,
    "start_time": "2022-05-12T14:39:56.071Z"
   },
   {
    "duration": 15,
    "start_time": "2022-05-12T14:39:56.075Z"
   },
   {
    "duration": 8,
    "start_time": "2022-05-12T14:39:56.093Z"
   },
   {
    "duration": 10,
    "start_time": "2022-05-12T14:39:56.103Z"
   },
   {
    "duration": 19,
    "start_time": "2022-05-12T14:39:56.115Z"
   },
   {
    "duration": 5,
    "start_time": "2022-05-12T14:39:56.136Z"
   },
   {
    "duration": 24,
    "start_time": "2022-05-12T14:39:56.143Z"
   },
   {
    "duration": 167,
    "start_time": "2022-05-12T14:42:22.629Z"
   },
   {
    "duration": 2,
    "start_time": "2022-05-12T14:45:34.175Z"
   },
   {
    "duration": 14,
    "start_time": "2022-05-12T14:46:06.019Z"
   },
   {
    "duration": 14,
    "start_time": "2022-05-12T14:46:45.333Z"
   },
   {
    "duration": 16,
    "start_time": "2022-05-12T14:48:15.014Z"
   },
   {
    "duration": 345,
    "start_time": "2022-05-12T14:50:27.023Z"
   },
   {
    "duration": 325,
    "start_time": "2022-05-12T14:51:14.626Z"
   },
   {
    "duration": 157,
    "start_time": "2022-05-12T14:53:38.938Z"
   },
   {
    "duration": 268,
    "start_time": "2022-05-12T14:54:26.520Z"
   },
   {
    "duration": 159,
    "start_time": "2022-05-12T14:54:30.769Z"
   },
   {
    "duration": 178,
    "start_time": "2022-05-12T14:55:05.214Z"
   },
   {
    "duration": 175,
    "start_time": "2022-05-12T14:58:08.978Z"
   },
   {
    "duration": 15,
    "start_time": "2022-05-12T15:01:50.000Z"
   },
   {
    "duration": 17,
    "start_time": "2022-05-12T15:02:20.231Z"
   },
   {
    "duration": 294,
    "start_time": "2022-05-12T15:03:12.450Z"
   },
   {
    "duration": 172,
    "start_time": "2022-05-12T15:03:28.928Z"
   },
   {
    "duration": 7,
    "start_time": "2022-05-12T15:11:40.242Z"
   },
   {
    "duration": 178,
    "start_time": "2022-05-12T15:11:41.168Z"
   },
   {
    "duration": 159,
    "start_time": "2022-05-12T15:11:51.868Z"
   },
   {
    "duration": 149,
    "start_time": "2022-05-12T15:11:56.826Z"
   },
   {
    "duration": 158,
    "start_time": "2022-05-12T15:12:04.186Z"
   },
   {
    "duration": 167,
    "start_time": "2022-05-12T15:12:14.735Z"
   },
   {
    "duration": 167,
    "start_time": "2022-05-12T15:12:22.570Z"
   },
   {
    "duration": 174,
    "start_time": "2022-05-12T15:12:30.898Z"
   },
   {
    "duration": 172,
    "start_time": "2022-05-12T15:12:35.410Z"
   },
   {
    "duration": 173,
    "start_time": "2022-05-12T15:20:28.259Z"
   },
   {
    "duration": 1211,
    "start_time": "2022-05-12T15:20:55.346Z"
   },
   {
    "duration": 8,
    "start_time": "2022-05-12T15:20:56.559Z"
   },
   {
    "duration": 67,
    "start_time": "2022-05-12T15:20:56.569Z"
   },
   {
    "duration": 16,
    "start_time": "2022-05-12T15:20:56.638Z"
   },
   {
    "duration": 28,
    "start_time": "2022-05-12T15:20:56.656Z"
   },
   {
    "duration": 14,
    "start_time": "2022-05-12T15:20:56.686Z"
   },
   {
    "duration": 10,
    "start_time": "2022-05-12T15:20:56.702Z"
   },
   {
    "duration": 5,
    "start_time": "2022-05-12T15:20:56.714Z"
   },
   {
    "duration": 16,
    "start_time": "2022-05-12T15:20:56.721Z"
   },
   {
    "duration": 6,
    "start_time": "2022-05-12T15:20:56.768Z"
   },
   {
    "duration": 4,
    "start_time": "2022-05-12T15:20:56.776Z"
   },
   {
    "duration": 10,
    "start_time": "2022-05-12T15:20:56.782Z"
   },
   {
    "duration": 5,
    "start_time": "2022-05-12T15:20:56.794Z"
   },
   {
    "duration": 6,
    "start_time": "2022-05-12T15:20:56.801Z"
   },
   {
    "duration": 15,
    "start_time": "2022-05-12T15:20:56.809Z"
   },
   {
    "duration": 8,
    "start_time": "2022-05-12T15:20:56.826Z"
   },
   {
    "duration": 32,
    "start_time": "2022-05-12T15:20:56.835Z"
   },
   {
    "duration": 5,
    "start_time": "2022-05-12T15:20:56.868Z"
   },
   {
    "duration": 5,
    "start_time": "2022-05-12T15:20:56.875Z"
   },
   {
    "duration": 20,
    "start_time": "2022-05-12T15:20:56.882Z"
   },
   {
    "duration": 11,
    "start_time": "2022-05-12T15:20:56.904Z"
   },
   {
    "duration": 214,
    "start_time": "2022-05-12T15:20:56.917Z"
   },
   {
    "duration": 5,
    "start_time": "2022-05-12T15:20:57.133Z"
   },
   {
    "duration": 6,
    "start_time": "2022-05-12T15:20:57.140Z"
   },
   {
    "duration": 5,
    "start_time": "2022-05-12T15:20:57.147Z"
   },
   {
    "duration": 18,
    "start_time": "2022-05-12T15:20:57.153Z"
   },
   {
    "duration": 4,
    "start_time": "2022-05-12T15:20:57.173Z"
   },
   {
    "duration": 170,
    "start_time": "2022-05-12T15:20:57.181Z"
   },
   {
    "duration": 307,
    "start_time": "2022-05-12T15:20:57.353Z"
   },
   {
    "duration": 14,
    "start_time": "2022-05-12T15:20:57.661Z"
   },
   {
    "duration": 162,
    "start_time": "2022-05-12T15:20:57.676Z"
   },
   {
    "duration": 7,
    "start_time": "2022-05-12T15:20:57.840Z"
   },
   {
    "duration": 174,
    "start_time": "2022-05-12T15:20:57.849Z"
   },
   {
    "duration": 6,
    "start_time": "2022-05-12T15:20:58.025Z"
   },
   {
    "duration": 16,
    "start_time": "2022-05-12T15:20:58.032Z"
   },
   {
    "duration": 19,
    "start_time": "2022-05-12T15:20:58.050Z"
   },
   {
    "duration": 138,
    "start_time": "2022-05-12T15:20:58.071Z"
   },
   {
    "duration": 6,
    "start_time": "2022-05-12T15:20:58.210Z"
   },
   {
    "duration": 18,
    "start_time": "2022-05-12T15:20:58.218Z"
   },
   {
    "duration": 7,
    "start_time": "2022-05-12T15:20:58.237Z"
   },
   {
    "duration": 152,
    "start_time": "2022-05-12T15:20:58.246Z"
   },
   {
    "duration": 6,
    "start_time": "2022-05-12T15:20:58.400Z"
   },
   {
    "duration": 6,
    "start_time": "2022-05-12T15:20:58.407Z"
   },
   {
    "duration": 125,
    "start_time": "2022-05-12T15:20:58.415Z"
   },
   {
    "duration": 25,
    "start_time": "2022-05-12T15:20:58.542Z"
   },
   {
    "duration": 13,
    "start_time": "2022-05-12T15:20:58.569Z"
   },
   {
    "duration": 15,
    "start_time": "2022-05-12T15:20:58.584Z"
   },
   {
    "duration": 14,
    "start_time": "2022-05-12T15:20:58.601Z"
   },
   {
    "duration": 14,
    "start_time": "2022-05-12T15:20:58.617Z"
   },
   {
    "duration": 14,
    "start_time": "2022-05-12T15:20:58.666Z"
   },
   {
    "duration": 15,
    "start_time": "2022-05-12T15:20:58.682Z"
   },
   {
    "duration": 13,
    "start_time": "2022-05-12T15:20:58.699Z"
   },
   {
    "duration": 13,
    "start_time": "2022-05-12T15:20:58.714Z"
   },
   {
    "duration": 44,
    "start_time": "2022-05-12T15:20:58.729Z"
   },
   {
    "duration": 12,
    "start_time": "2022-05-12T15:20:58.775Z"
   },
   {
    "duration": 13,
    "start_time": "2022-05-12T15:20:58.789Z"
   },
   {
    "duration": 13,
    "start_time": "2022-05-12T15:20:58.804Z"
   },
   {
    "duration": 3,
    "start_time": "2022-05-12T15:20:58.819Z"
   },
   {
    "duration": 11,
    "start_time": "2022-05-12T15:20:58.823Z"
   },
   {
    "duration": 32,
    "start_time": "2022-05-12T15:20:58.836Z"
   },
   {
    "duration": 3,
    "start_time": "2022-05-12T15:20:58.870Z"
   },
   {
    "duration": 13,
    "start_time": "2022-05-12T15:20:58.875Z"
   },
   {
    "duration": 9,
    "start_time": "2022-05-12T15:20:58.889Z"
   },
   {
    "duration": 8,
    "start_time": "2022-05-12T15:20:58.900Z"
   },
   {
    "duration": 7,
    "start_time": "2022-05-12T15:23:37.426Z"
   },
   {
    "duration": 185,
    "start_time": "2022-05-12T15:23:37.864Z"
   },
   {
    "duration": 7,
    "start_time": "2022-05-12T15:25:06.847Z"
   },
   {
    "duration": 7,
    "start_time": "2022-05-12T15:25:07.606Z"
   },
   {
    "duration": 183,
    "start_time": "2022-05-12T15:25:08.200Z"
   },
   {
    "duration": 1570,
    "start_time": "2022-05-12T15:29:42.729Z"
   },
   {
    "duration": 4,
    "start_time": "2022-05-12T15:29:44.301Z"
   },
   {
    "duration": 42,
    "start_time": "2022-05-12T15:29:44.306Z"
   },
   {
    "duration": 23,
    "start_time": "2022-05-12T15:29:44.350Z"
   },
   {
    "duration": 28,
    "start_time": "2022-05-12T15:29:44.375Z"
   },
   {
    "duration": 15,
    "start_time": "2022-05-12T15:29:44.405Z"
   },
   {
    "duration": 9,
    "start_time": "2022-05-12T15:29:44.422Z"
   },
   {
    "duration": 36,
    "start_time": "2022-05-12T15:29:44.433Z"
   },
   {
    "duration": 16,
    "start_time": "2022-05-12T15:29:44.471Z"
   },
   {
    "duration": 6,
    "start_time": "2022-05-12T15:29:44.490Z"
   },
   {
    "duration": 5,
    "start_time": "2022-05-12T15:29:44.498Z"
   },
   {
    "duration": 13,
    "start_time": "2022-05-12T15:29:44.505Z"
   },
   {
    "duration": 5,
    "start_time": "2022-05-12T15:29:44.520Z"
   },
   {
    "duration": 7,
    "start_time": "2022-05-12T15:29:44.527Z"
   },
   {
    "duration": 33,
    "start_time": "2022-05-12T15:29:44.536Z"
   },
   {
    "duration": 8,
    "start_time": "2022-05-12T15:29:44.571Z"
   },
   {
    "duration": 11,
    "start_time": "2022-05-12T15:29:44.580Z"
   },
   {
    "duration": 12,
    "start_time": "2022-05-12T15:29:44.593Z"
   },
   {
    "duration": 7,
    "start_time": "2022-05-12T15:29:44.607Z"
   },
   {
    "duration": 22,
    "start_time": "2022-05-12T15:29:44.615Z"
   },
   {
    "duration": 28,
    "start_time": "2022-05-12T15:29:44.639Z"
   },
   {
    "duration": 231,
    "start_time": "2022-05-12T15:29:44.669Z"
   },
   {
    "duration": 6,
    "start_time": "2022-05-12T15:29:44.902Z"
   },
   {
    "duration": 9,
    "start_time": "2022-05-12T15:29:44.910Z"
   },
   {
    "duration": 6,
    "start_time": "2022-05-12T15:29:44.921Z"
   },
   {
    "duration": 5,
    "start_time": "2022-05-12T15:29:44.929Z"
   },
   {
    "duration": 8,
    "start_time": "2022-05-12T15:29:44.936Z"
   },
   {
    "duration": 203,
    "start_time": "2022-05-12T15:29:44.966Z"
   },
   {
    "duration": 393,
    "start_time": "2022-05-12T15:29:45.171Z"
   },
   {
    "duration": 17,
    "start_time": "2022-05-12T15:29:45.566Z"
   },
   {
    "duration": 195,
    "start_time": "2022-05-12T15:29:45.585Z"
   },
   {
    "duration": 9,
    "start_time": "2022-05-12T15:29:45.783Z"
   },
   {
    "duration": 9,
    "start_time": "2022-05-12T15:29:45.794Z"
   },
   {
    "duration": 219,
    "start_time": "2022-05-12T15:29:45.805Z"
   },
   {
    "duration": 7,
    "start_time": "2022-05-12T15:29:46.026Z"
   },
   {
    "duration": 32,
    "start_time": "2022-05-12T15:29:46.036Z"
   },
   {
    "duration": 10,
    "start_time": "2022-05-12T15:29:46.070Z"
   },
   {
    "duration": 187,
    "start_time": "2022-05-12T15:29:46.082Z"
   },
   {
    "duration": 9,
    "start_time": "2022-05-12T15:29:46.271Z"
   },
   {
    "duration": 16,
    "start_time": "2022-05-12T15:29:46.282Z"
   },
   {
    "duration": 11,
    "start_time": "2022-05-12T15:29:46.300Z"
   },
   {
    "duration": 179,
    "start_time": "2022-05-12T15:29:46.312Z"
   },
   {
    "duration": 6,
    "start_time": "2022-05-12T15:29:46.493Z"
   },
   {
    "duration": 7,
    "start_time": "2022-05-12T15:29:46.501Z"
   },
   {
    "duration": 131,
    "start_time": "2022-05-12T15:29:46.510Z"
   },
   {
    "duration": 25,
    "start_time": "2022-05-12T15:29:46.642Z"
   },
   {
    "duration": 13,
    "start_time": "2022-05-12T15:29:46.669Z"
   },
   {
    "duration": 15,
    "start_time": "2022-05-12T15:29:46.684Z"
   },
   {
    "duration": 17,
    "start_time": "2022-05-12T15:29:46.701Z"
   },
   {
    "duration": 48,
    "start_time": "2022-05-12T15:29:46.720Z"
   },
   {
    "duration": 14,
    "start_time": "2022-05-12T15:29:46.770Z"
   },
   {
    "duration": 26,
    "start_time": "2022-05-12T15:29:46.786Z"
   },
   {
    "duration": 15,
    "start_time": "2022-05-12T15:29:46.814Z"
   },
   {
    "duration": 39,
    "start_time": "2022-05-12T15:29:46.833Z"
   },
   {
    "duration": 12,
    "start_time": "2022-05-12T15:29:46.874Z"
   },
   {
    "duration": 14,
    "start_time": "2022-05-12T15:29:46.888Z"
   },
   {
    "duration": 14,
    "start_time": "2022-05-12T15:29:46.904Z"
   },
   {
    "duration": 61,
    "start_time": "2022-05-12T15:29:46.919Z"
   },
   {
    "duration": 5,
    "start_time": "2022-05-12T15:29:46.981Z"
   },
   {
    "duration": 25,
    "start_time": "2022-05-12T15:29:46.988Z"
   },
   {
    "duration": 29,
    "start_time": "2022-05-12T15:29:47.015Z"
   },
   {
    "duration": 32,
    "start_time": "2022-05-12T15:29:47.046Z"
   },
   {
    "duration": 24,
    "start_time": "2022-05-12T15:29:47.080Z"
   },
   {
    "duration": 23,
    "start_time": "2022-05-12T15:29:47.106Z"
   },
   {
    "duration": 20,
    "start_time": "2022-05-12T15:29:47.131Z"
   },
   {
    "duration": 6,
    "start_time": "2022-05-12T15:31:43.985Z"
   },
   {
    "duration": 13,
    "start_time": "2022-05-12T15:31:44.751Z"
   },
   {
    "duration": 9,
    "start_time": "2022-05-12T15:31:46.961Z"
   },
   {
    "duration": 132,
    "start_time": "2022-05-12T15:31:52.276Z"
   },
   {
    "duration": 6,
    "start_time": "2022-05-12T15:32:03.236Z"
   },
   {
    "duration": 13,
    "start_time": "2022-05-12T15:32:03.839Z"
   },
   {
    "duration": 9,
    "start_time": "2022-05-12T15:32:06.019Z"
   },
   {
    "duration": 136,
    "start_time": "2022-05-12T15:32:11.743Z"
   },
   {
    "duration": 8,
    "start_time": "2022-05-12T15:32:12.628Z"
   },
   {
    "duration": 7,
    "start_time": "2022-05-12T15:32:13.085Z"
   },
   {
    "duration": 11,
    "start_time": "2022-05-12T15:32:15.207Z"
   },
   {
    "duration": 8,
    "start_time": "2022-05-12T15:33:45.687Z"
   },
   {
    "duration": 18,
    "start_time": "2022-05-12T15:33:46.314Z"
   },
   {
    "duration": 12,
    "start_time": "2022-05-12T15:33:49.702Z"
   },
   {
    "duration": 151,
    "start_time": "2022-05-12T15:33:50.643Z"
   },
   {
    "duration": 6,
    "start_time": "2022-05-12T15:34:06.461Z"
   },
   {
    "duration": 14,
    "start_time": "2022-05-12T15:34:07.204Z"
   },
   {
    "duration": 8,
    "start_time": "2022-05-12T15:34:08.403Z"
   },
   {
    "duration": 126,
    "start_time": "2022-05-12T15:34:20.237Z"
   },
   {
    "duration": 7,
    "start_time": "2022-05-12T15:34:21.339Z"
   },
   {
    "duration": 7,
    "start_time": "2022-05-12T15:34:21.709Z"
   },
   {
    "duration": 8,
    "start_time": "2022-05-12T15:34:22.040Z"
   },
   {
    "duration": 1288,
    "start_time": "2022-05-12T15:37:33.160Z"
   },
   {
    "duration": 3,
    "start_time": "2022-05-12T15:37:34.450Z"
   },
   {
    "duration": 63,
    "start_time": "2022-05-12T15:37:34.455Z"
   },
   {
    "duration": 15,
    "start_time": "2022-05-12T15:37:34.521Z"
   },
   {
    "duration": 30,
    "start_time": "2022-05-12T15:37:34.538Z"
   },
   {
    "duration": 15,
    "start_time": "2022-05-12T15:37:34.570Z"
   },
   {
    "duration": 15,
    "start_time": "2022-05-12T15:37:34.587Z"
   },
   {
    "duration": 3,
    "start_time": "2022-05-12T15:37:34.604Z"
   },
   {
    "duration": 23,
    "start_time": "2022-05-12T15:37:34.609Z"
   },
   {
    "duration": 6,
    "start_time": "2022-05-12T15:37:34.635Z"
   },
   {
    "duration": 12,
    "start_time": "2022-05-12T15:37:34.643Z"
   },
   {
    "duration": 18,
    "start_time": "2022-05-12T15:37:34.656Z"
   },
   {
    "duration": 6,
    "start_time": "2022-05-12T15:37:34.676Z"
   },
   {
    "duration": 12,
    "start_time": "2022-05-12T15:37:34.683Z"
   },
   {
    "duration": 10,
    "start_time": "2022-05-12T15:37:34.697Z"
   },
   {
    "duration": 12,
    "start_time": "2022-05-12T15:37:34.708Z"
   },
   {
    "duration": 12,
    "start_time": "2022-05-12T15:37:34.722Z"
   },
   {
    "duration": 14,
    "start_time": "2022-05-12T15:37:34.736Z"
   },
   {
    "duration": 16,
    "start_time": "2022-05-12T15:37:34.752Z"
   },
   {
    "duration": 16,
    "start_time": "2022-05-12T15:37:34.770Z"
   },
   {
    "duration": 10,
    "start_time": "2022-05-12T15:37:34.787Z"
   },
   {
    "duration": 286,
    "start_time": "2022-05-12T15:37:34.799Z"
   },
   {
    "duration": 7,
    "start_time": "2022-05-12T15:37:35.087Z"
   },
   {
    "duration": 6,
    "start_time": "2022-05-12T15:37:35.097Z"
   },
   {
    "duration": 6,
    "start_time": "2022-05-12T15:37:35.105Z"
   },
   {
    "duration": 6,
    "start_time": "2022-05-12T15:37:35.113Z"
   },
   {
    "duration": 9,
    "start_time": "2022-05-12T15:37:35.121Z"
   },
   {
    "duration": 309,
    "start_time": "2022-05-12T15:37:35.138Z"
   },
   {
    "duration": 319,
    "start_time": "2022-05-12T15:37:35.449Z"
   },
   {
    "duration": 16,
    "start_time": "2022-05-12T15:37:35.770Z"
   },
   {
    "duration": 284,
    "start_time": "2022-05-12T15:37:35.788Z"
   },
   {
    "duration": 7,
    "start_time": "2022-05-12T15:37:36.074Z"
   },
   {
    "duration": 9,
    "start_time": "2022-05-12T15:37:36.083Z"
   },
   {
    "duration": 206,
    "start_time": "2022-05-12T15:37:36.093Z"
   },
   {
    "duration": 6,
    "start_time": "2022-05-12T15:37:36.301Z"
   },
   {
    "duration": 15,
    "start_time": "2022-05-12T15:37:36.309Z"
   },
   {
    "duration": 8,
    "start_time": "2022-05-12T15:37:36.326Z"
   },
   {
    "duration": 172,
    "start_time": "2022-05-12T15:37:36.336Z"
   },
   {
    "duration": 7,
    "start_time": "2022-05-12T15:37:36.509Z"
   },
   {
    "duration": 18,
    "start_time": "2022-05-12T15:37:36.517Z"
   },
   {
    "duration": 9,
    "start_time": "2022-05-12T15:37:36.537Z"
   },
   {
    "duration": 141,
    "start_time": "2022-05-12T15:37:36.567Z"
   },
   {
    "duration": 8,
    "start_time": "2022-05-12T15:37:36.710Z"
   },
   {
    "duration": 10,
    "start_time": "2022-05-12T15:37:36.719Z"
   },
   {
    "duration": 136,
    "start_time": "2022-05-12T15:37:36.731Z"
   },
   {
    "duration": 13,
    "start_time": "2022-05-12T15:37:36.869Z"
   },
   {
    "duration": 17,
    "start_time": "2022-05-12T15:37:36.884Z"
   },
   {
    "duration": 16,
    "start_time": "2022-05-12T15:37:36.902Z"
   },
   {
    "duration": 18,
    "start_time": "2022-05-12T15:37:36.920Z"
   },
   {
    "duration": 37,
    "start_time": "2022-05-12T15:37:36.940Z"
   },
   {
    "duration": 27,
    "start_time": "2022-05-12T15:37:36.979Z"
   },
   {
    "duration": 22,
    "start_time": "2022-05-12T15:37:37.008Z"
   },
   {
    "duration": 19,
    "start_time": "2022-05-12T15:37:37.032Z"
   },
   {
    "duration": 24,
    "start_time": "2022-05-12T15:37:37.053Z"
   },
   {
    "duration": 13,
    "start_time": "2022-05-12T15:37:37.079Z"
   },
   {
    "duration": 28,
    "start_time": "2022-05-12T15:37:37.093Z"
   },
   {
    "duration": 44,
    "start_time": "2022-05-12T15:37:37.122Z"
   },
   {
    "duration": 32,
    "start_time": "2022-05-12T15:37:37.167Z"
   },
   {
    "duration": 16,
    "start_time": "2022-05-12T15:37:37.200Z"
   },
   {
    "duration": 29,
    "start_time": "2022-05-12T15:37:37.218Z"
   },
   {
    "duration": 25,
    "start_time": "2022-05-12T15:37:37.249Z"
   },
   {
    "duration": 30,
    "start_time": "2022-05-12T15:37:37.276Z"
   },
   {
    "duration": 24,
    "start_time": "2022-05-12T15:37:37.308Z"
   },
   {
    "duration": 8,
    "start_time": "2022-05-12T15:37:37.334Z"
   },
   {
    "duration": 20,
    "start_time": "2022-05-12T15:37:37.344Z"
   },
   {
    "duration": 7,
    "start_time": "2022-05-12T15:39:12.349Z"
   },
   {
    "duration": 118,
    "start_time": "2022-05-12T15:43:41.275Z"
   },
   {
    "duration": 25,
    "start_time": "2022-05-12T15:44:10.094Z"
   },
   {
    "duration": 20,
    "start_time": "2022-05-12T15:44:36.727Z"
   },
   {
    "duration": 20,
    "start_time": "2022-05-12T15:44:59.107Z"
   },
   {
    "duration": 11,
    "start_time": "2022-05-12T15:45:02.643Z"
   },
   {
    "duration": 12,
    "start_time": "2022-05-12T15:46:21.859Z"
   },
   {
    "duration": 13,
    "start_time": "2022-05-12T15:46:28.686Z"
   },
   {
    "duration": 22,
    "start_time": "2022-05-12T15:47:05.622Z"
   },
   {
    "duration": 1535,
    "start_time": "2022-05-12T16:07:22.419Z"
   },
   {
    "duration": 5,
    "start_time": "2022-05-12T16:07:23.957Z"
   },
   {
    "duration": 63,
    "start_time": "2022-05-12T16:07:23.963Z"
   },
   {
    "duration": 18,
    "start_time": "2022-05-12T16:07:24.028Z"
   },
   {
    "duration": 32,
    "start_time": "2022-05-12T16:07:24.048Z"
   },
   {
    "duration": 15,
    "start_time": "2022-05-12T16:07:24.082Z"
   },
   {
    "duration": 9,
    "start_time": "2022-05-12T16:07:24.099Z"
   },
   {
    "duration": 6,
    "start_time": "2022-05-12T16:07:24.110Z"
   },
   {
    "duration": 18,
    "start_time": "2022-05-12T16:07:24.117Z"
   },
   {
    "duration": 6,
    "start_time": "2022-05-12T16:07:24.167Z"
   },
   {
    "duration": 10,
    "start_time": "2022-05-12T16:07:24.175Z"
   },
   {
    "duration": 13,
    "start_time": "2022-05-12T16:07:24.187Z"
   },
   {
    "duration": 7,
    "start_time": "2022-05-12T16:07:24.202Z"
   },
   {
    "duration": 10,
    "start_time": "2022-05-12T16:07:24.211Z"
   },
   {
    "duration": 10,
    "start_time": "2022-05-12T16:07:24.222Z"
   },
   {
    "duration": 8,
    "start_time": "2022-05-12T16:07:24.233Z"
   },
   {
    "duration": 12,
    "start_time": "2022-05-12T16:07:24.243Z"
   },
   {
    "duration": 7,
    "start_time": "2022-05-12T16:07:24.267Z"
   },
   {
    "duration": 14,
    "start_time": "2022-05-12T16:07:24.275Z"
   },
   {
    "duration": 36,
    "start_time": "2022-05-12T16:07:24.291Z"
   },
   {
    "duration": 10,
    "start_time": "2022-05-12T16:07:24.329Z"
   },
   {
    "duration": 213,
    "start_time": "2022-05-12T16:07:24.341Z"
   },
   {
    "duration": 11,
    "start_time": "2022-05-12T16:07:24.556Z"
   },
   {
    "duration": 6,
    "start_time": "2022-05-12T16:07:24.569Z"
   },
   {
    "duration": 11,
    "start_time": "2022-05-12T16:07:24.577Z"
   },
   {
    "duration": 8,
    "start_time": "2022-05-12T16:07:24.590Z"
   },
   {
    "duration": 8,
    "start_time": "2022-05-12T16:07:24.600Z"
   },
   {
    "duration": 249,
    "start_time": "2022-05-12T16:07:24.614Z"
   },
   {
    "duration": 429,
    "start_time": "2022-05-12T16:07:24.867Z"
   },
   {
    "duration": 18,
    "start_time": "2022-05-12T16:07:25.298Z"
   },
   {
    "duration": 174,
    "start_time": "2022-05-12T16:07:25.317Z"
   },
   {
    "duration": 7,
    "start_time": "2022-05-12T16:07:25.493Z"
   },
   {
    "duration": 24,
    "start_time": "2022-05-12T16:07:25.502Z"
   },
   {
    "duration": 213,
    "start_time": "2022-05-12T16:07:25.528Z"
   },
   {
    "duration": 6,
    "start_time": "2022-05-12T16:07:25.744Z"
   },
   {
    "duration": 40,
    "start_time": "2022-05-12T16:07:25.752Z"
   },
   {
    "duration": 19,
    "start_time": "2022-05-12T16:07:25.794Z"
   },
   {
    "duration": 194,
    "start_time": "2022-05-12T16:07:25.816Z"
   },
   {
    "duration": 6,
    "start_time": "2022-05-12T16:07:26.012Z"
   },
   {
    "duration": 28,
    "start_time": "2022-05-12T16:07:26.020Z"
   },
   {
    "duration": 18,
    "start_time": "2022-05-12T16:07:26.050Z"
   },
   {
    "duration": 231,
    "start_time": "2022-05-12T16:07:26.071Z"
   },
   {
    "duration": 9,
    "start_time": "2022-05-12T16:07:26.304Z"
   },
   {
    "duration": 19,
    "start_time": "2022-05-12T16:07:26.316Z"
   },
   {
    "duration": 130,
    "start_time": "2022-05-12T16:07:26.338Z"
   },
   {
    "duration": 5,
    "start_time": "2022-05-12T16:07:26.470Z"
   },
   {
    "duration": 48,
    "start_time": "2022-05-12T16:07:26.477Z"
   },
   {
    "duration": 20,
    "start_time": "2022-05-12T16:07:26.528Z"
   },
   {
    "duration": 61,
    "start_time": "2022-05-12T16:07:26.551Z"
   },
   {
    "duration": 21,
    "start_time": "2022-05-12T16:07:26.615Z"
   },
   {
    "duration": 39,
    "start_time": "2022-05-12T16:07:26.638Z"
   },
   {
    "duration": 19,
    "start_time": "2022-05-12T16:07:26.679Z"
   },
   {
    "duration": 23,
    "start_time": "2022-05-12T16:07:26.700Z"
   },
   {
    "duration": 26,
    "start_time": "2022-05-12T16:07:26.724Z"
   },
   {
    "duration": 32,
    "start_time": "2022-05-12T16:07:26.752Z"
   },
   {
    "duration": 37,
    "start_time": "2022-05-12T16:07:26.787Z"
   },
   {
    "duration": 32,
    "start_time": "2022-05-12T16:07:26.825Z"
   },
   {
    "duration": 34,
    "start_time": "2022-05-12T16:07:26.859Z"
   },
   {
    "duration": 24,
    "start_time": "2022-05-12T16:07:26.895Z"
   },
   {
    "duration": 37,
    "start_time": "2022-05-12T16:07:26.921Z"
   },
   {
    "duration": 35,
    "start_time": "2022-05-12T16:07:26.960Z"
   },
   {
    "duration": 21,
    "start_time": "2022-05-12T16:07:26.996Z"
   },
   {
    "duration": 23,
    "start_time": "2022-05-12T16:07:27.019Z"
   },
   {
    "duration": 27,
    "start_time": "2022-05-12T16:07:27.044Z"
   },
   {
    "duration": 21,
    "start_time": "2022-05-12T16:07:27.073Z"
   },
   {
    "duration": 25,
    "start_time": "2022-05-12T16:07:27.096Z"
   },
   {
    "duration": 290,
    "start_time": "2022-05-12T16:09:49.229Z"
   },
   {
    "duration": 1521,
    "start_time": "2022-05-12T16:10:08.452Z"
   },
   {
    "duration": 3,
    "start_time": "2022-05-12T16:10:09.975Z"
   },
   {
    "duration": 64,
    "start_time": "2022-05-12T16:10:09.980Z"
   },
   {
    "duration": 17,
    "start_time": "2022-05-12T16:10:10.046Z"
   },
   {
    "duration": 51,
    "start_time": "2022-05-12T16:10:10.064Z"
   },
   {
    "duration": 28,
    "start_time": "2022-05-12T16:10:10.118Z"
   },
   {
    "duration": 28,
    "start_time": "2022-05-12T16:10:10.149Z"
   },
   {
    "duration": 42,
    "start_time": "2022-05-12T16:10:10.180Z"
   },
   {
    "duration": 47,
    "start_time": "2022-05-12T16:10:10.224Z"
   },
   {
    "duration": 37,
    "start_time": "2022-05-12T16:10:10.275Z"
   },
   {
    "duration": 28,
    "start_time": "2022-05-12T16:10:10.314Z"
   },
   {
    "duration": 25,
    "start_time": "2022-05-12T16:10:10.344Z"
   },
   {
    "duration": 24,
    "start_time": "2022-05-12T16:10:10.372Z"
   },
   {
    "duration": 14,
    "start_time": "2022-05-12T16:10:10.398Z"
   },
   {
    "duration": 30,
    "start_time": "2022-05-12T16:10:10.413Z"
   },
   {
    "duration": 19,
    "start_time": "2022-05-12T16:10:10.445Z"
   },
   {
    "duration": 12,
    "start_time": "2022-05-12T16:10:10.467Z"
   },
   {
    "duration": 19,
    "start_time": "2022-05-12T16:10:10.482Z"
   },
   {
    "duration": 16,
    "start_time": "2022-05-12T16:10:10.503Z"
   },
   {
    "duration": 37,
    "start_time": "2022-05-12T16:10:10.521Z"
   },
   {
    "duration": 16,
    "start_time": "2022-05-12T16:10:10.561Z"
   },
   {
    "duration": 363,
    "start_time": "2022-05-12T16:10:10.580Z"
   },
   {
    "duration": 6,
    "start_time": "2022-05-12T16:10:10.945Z"
   },
   {
    "duration": 24,
    "start_time": "2022-05-12T16:10:10.953Z"
   },
   {
    "duration": 30,
    "start_time": "2022-05-12T16:10:10.979Z"
   },
   {
    "duration": 23,
    "start_time": "2022-05-12T16:10:11.011Z"
   },
   {
    "duration": 47,
    "start_time": "2022-05-12T16:10:11.036Z"
   },
   {
    "duration": 269,
    "start_time": "2022-05-12T16:10:11.088Z"
   },
   {
    "duration": 469,
    "start_time": "2022-05-12T16:10:11.359Z"
   },
   {
    "duration": 18,
    "start_time": "2022-05-12T16:10:11.831Z"
   },
   {
    "duration": 175,
    "start_time": "2022-05-12T16:10:11.851Z"
   },
   {
    "duration": 8,
    "start_time": "2022-05-12T16:10:12.029Z"
   },
   {
    "duration": 8,
    "start_time": "2022-05-12T16:10:12.039Z"
   },
   {
    "duration": 205,
    "start_time": "2022-05-12T16:10:12.049Z"
   },
   {
    "duration": 15,
    "start_time": "2022-05-12T16:10:12.256Z"
   },
   {
    "duration": 15,
    "start_time": "2022-05-12T16:10:12.272Z"
   },
   {
    "duration": 11,
    "start_time": "2022-05-12T16:10:12.289Z"
   },
   {
    "duration": 228,
    "start_time": "2022-05-12T16:10:12.302Z"
   },
   {
    "duration": 8,
    "start_time": "2022-05-12T16:10:12.532Z"
   },
   {
    "duration": 26,
    "start_time": "2022-05-12T16:10:12.545Z"
   },
   {
    "duration": 14,
    "start_time": "2022-05-12T16:10:12.574Z"
   },
   {
    "duration": 160,
    "start_time": "2022-05-12T16:10:12.590Z"
   },
   {
    "duration": 19,
    "start_time": "2022-05-12T16:10:12.752Z"
   },
   {
    "duration": 9,
    "start_time": "2022-05-12T16:10:12.774Z"
   },
   {
    "duration": 141,
    "start_time": "2022-05-12T16:10:12.785Z"
   },
   {
    "duration": 6,
    "start_time": "2022-05-12T16:10:12.929Z"
   },
   {
    "duration": 47,
    "start_time": "2022-05-12T16:10:12.938Z"
   },
   {
    "duration": 14,
    "start_time": "2022-05-12T16:10:12.987Z"
   },
   {
    "duration": 25,
    "start_time": "2022-05-12T16:10:13.002Z"
   },
   {
    "duration": 17,
    "start_time": "2022-05-12T16:10:13.028Z"
   },
   {
    "duration": 17,
    "start_time": "2022-05-12T16:10:13.068Z"
   },
   {
    "duration": 18,
    "start_time": "2022-05-12T16:10:13.088Z"
   },
   {
    "duration": 22,
    "start_time": "2022-05-12T16:10:13.108Z"
   },
   {
    "duration": 52,
    "start_time": "2022-05-12T16:10:13.133Z"
   },
   {
    "duration": 16,
    "start_time": "2022-05-12T16:10:13.187Z"
   },
   {
    "duration": 20,
    "start_time": "2022-05-12T16:10:13.205Z"
   },
   {
    "duration": 46,
    "start_time": "2022-05-12T16:10:13.227Z"
   },
   {
    "duration": 19,
    "start_time": "2022-05-12T16:10:13.275Z"
   },
   {
    "duration": 16,
    "start_time": "2022-05-12T16:10:13.295Z"
   },
   {
    "duration": 4,
    "start_time": "2022-05-12T16:10:13.313Z"
   },
   {
    "duration": 15,
    "start_time": "2022-05-12T16:10:13.319Z"
   },
   {
    "duration": 22,
    "start_time": "2022-05-12T16:10:13.367Z"
   },
   {
    "duration": 24,
    "start_time": "2022-05-12T16:10:13.391Z"
   },
   {
    "duration": 18,
    "start_time": "2022-05-12T16:10:13.418Z"
   },
   {
    "duration": 9,
    "start_time": "2022-05-12T16:10:13.439Z"
   },
   {
    "duration": 10,
    "start_time": "2022-05-12T16:10:13.450Z"
   },
   {
    "duration": 1539,
    "start_time": "2022-05-12T16:13:35.619Z"
   },
   {
    "duration": 7,
    "start_time": "2022-05-12T16:13:37.160Z"
   },
   {
    "duration": 46,
    "start_time": "2022-05-12T16:13:37.170Z"
   },
   {
    "duration": 19,
    "start_time": "2022-05-12T16:13:37.219Z"
   },
   {
    "duration": 59,
    "start_time": "2022-05-12T16:13:37.239Z"
   },
   {
    "duration": 17,
    "start_time": "2022-05-12T16:13:37.299Z"
   },
   {
    "duration": 10,
    "start_time": "2022-05-12T16:13:37.318Z"
   },
   {
    "duration": 7,
    "start_time": "2022-05-12T16:13:37.329Z"
   },
   {
    "duration": 40,
    "start_time": "2022-05-12T16:13:37.338Z"
   },
   {
    "duration": 9,
    "start_time": "2022-05-12T16:13:37.382Z"
   },
   {
    "duration": 16,
    "start_time": "2022-05-12T16:13:37.393Z"
   },
   {
    "duration": 10,
    "start_time": "2022-05-12T16:13:37.412Z"
   },
   {
    "duration": 5,
    "start_time": "2022-05-12T16:13:37.424Z"
   },
   {
    "duration": 9,
    "start_time": "2022-05-12T16:13:37.431Z"
   },
   {
    "duration": 28,
    "start_time": "2022-05-12T16:13:37.441Z"
   },
   {
    "duration": 11,
    "start_time": "2022-05-12T16:13:37.471Z"
   },
   {
    "duration": 44,
    "start_time": "2022-05-12T16:13:37.484Z"
   },
   {
    "duration": 11,
    "start_time": "2022-05-12T16:13:37.530Z"
   },
   {
    "duration": 11,
    "start_time": "2022-05-12T16:13:37.543Z"
   },
   {
    "duration": 33,
    "start_time": "2022-05-12T16:13:37.556Z"
   },
   {
    "duration": 12,
    "start_time": "2022-05-12T16:13:37.592Z"
   },
   {
    "duration": 247,
    "start_time": "2022-05-12T16:13:37.606Z"
   },
   {
    "duration": 11,
    "start_time": "2022-05-12T16:13:37.856Z"
   },
   {
    "duration": 7,
    "start_time": "2022-05-12T16:13:37.870Z"
   },
   {
    "duration": 13,
    "start_time": "2022-05-12T16:13:37.879Z"
   },
   {
    "duration": 6,
    "start_time": "2022-05-12T16:13:37.895Z"
   },
   {
    "duration": 8,
    "start_time": "2022-05-12T16:13:37.904Z"
   },
   {
    "duration": 229,
    "start_time": "2022-05-12T16:13:37.919Z"
   },
   {
    "duration": 0,
    "start_time": "2022-05-12T16:13:38.150Z"
   },
   {
    "duration": 0,
    "start_time": "2022-05-12T16:13:38.152Z"
   },
   {
    "duration": 0,
    "start_time": "2022-05-12T16:13:38.153Z"
   },
   {
    "duration": 0,
    "start_time": "2022-05-12T16:13:38.155Z"
   },
   {
    "duration": 0,
    "start_time": "2022-05-12T16:13:38.156Z"
   },
   {
    "duration": 0,
    "start_time": "2022-05-12T16:13:38.157Z"
   },
   {
    "duration": 0,
    "start_time": "2022-05-12T16:13:38.157Z"
   },
   {
    "duration": 0,
    "start_time": "2022-05-12T16:13:38.168Z"
   },
   {
    "duration": 0,
    "start_time": "2022-05-12T16:13:38.170Z"
   },
   {
    "duration": 0,
    "start_time": "2022-05-12T16:13:38.172Z"
   },
   {
    "duration": 0,
    "start_time": "2022-05-12T16:13:38.173Z"
   },
   {
    "duration": 0,
    "start_time": "2022-05-12T16:13:38.175Z"
   },
   {
    "duration": 0,
    "start_time": "2022-05-12T16:13:38.177Z"
   },
   {
    "duration": 0,
    "start_time": "2022-05-12T16:13:38.179Z"
   },
   {
    "duration": 0,
    "start_time": "2022-05-12T16:13:38.180Z"
   },
   {
    "duration": 0,
    "start_time": "2022-05-12T16:13:38.182Z"
   },
   {
    "duration": 0,
    "start_time": "2022-05-12T16:13:38.184Z"
   },
   {
    "duration": 0,
    "start_time": "2022-05-12T16:13:38.186Z"
   },
   {
    "duration": 0,
    "start_time": "2022-05-12T16:13:38.187Z"
   },
   {
    "duration": 0,
    "start_time": "2022-05-12T16:13:38.189Z"
   },
   {
    "duration": 0,
    "start_time": "2022-05-12T16:13:38.191Z"
   },
   {
    "duration": 0,
    "start_time": "2022-05-12T16:13:38.194Z"
   },
   {
    "duration": 0,
    "start_time": "2022-05-12T16:13:38.195Z"
   },
   {
    "duration": 0,
    "start_time": "2022-05-12T16:13:38.197Z"
   },
   {
    "duration": 0,
    "start_time": "2022-05-12T16:13:38.198Z"
   },
   {
    "duration": 0,
    "start_time": "2022-05-12T16:13:38.200Z"
   },
   {
    "duration": 0,
    "start_time": "2022-05-12T16:13:38.202Z"
   },
   {
    "duration": 0,
    "start_time": "2022-05-12T16:13:38.203Z"
   },
   {
    "duration": 0,
    "start_time": "2022-05-12T16:13:38.204Z"
   },
   {
    "duration": 0,
    "start_time": "2022-05-12T16:13:38.206Z"
   },
   {
    "duration": 0,
    "start_time": "2022-05-12T16:13:38.268Z"
   },
   {
    "duration": 0,
    "start_time": "2022-05-12T16:13:38.269Z"
   },
   {
    "duration": 0,
    "start_time": "2022-05-12T16:13:38.271Z"
   },
   {
    "duration": 0,
    "start_time": "2022-05-12T16:13:38.273Z"
   },
   {
    "duration": 0,
    "start_time": "2022-05-12T16:13:38.274Z"
   },
   {
    "duration": 0,
    "start_time": "2022-05-12T16:13:38.276Z"
   },
   {
    "duration": 0,
    "start_time": "2022-05-12T16:13:38.277Z"
   },
   {
    "duration": 0,
    "start_time": "2022-05-12T16:13:38.279Z"
   },
   {
    "duration": 20,
    "start_time": "2022-05-12T16:14:20.622Z"
   },
   {
    "duration": 294,
    "start_time": "2022-05-12T16:15:08.425Z"
   },
   {
    "duration": 177,
    "start_time": "2022-05-12T16:15:46.501Z"
   },
   {
    "duration": 191,
    "start_time": "2022-05-12T16:15:54.967Z"
   },
   {
    "duration": 1376,
    "start_time": "2022-05-12T16:16:07.430Z"
   },
   {
    "duration": 4,
    "start_time": "2022-05-12T16:16:08.809Z"
   },
   {
    "duration": 48,
    "start_time": "2022-05-12T16:16:08.815Z"
   },
   {
    "duration": 19,
    "start_time": "2022-05-12T16:16:08.866Z"
   },
   {
    "duration": 40,
    "start_time": "2022-05-12T16:16:08.887Z"
   },
   {
    "duration": 16,
    "start_time": "2022-05-12T16:16:08.929Z"
   },
   {
    "duration": 11,
    "start_time": "2022-05-12T16:16:08.966Z"
   },
   {
    "duration": 27,
    "start_time": "2022-05-12T16:16:08.979Z"
   },
   {
    "duration": 37,
    "start_time": "2022-05-12T16:16:09.008Z"
   },
   {
    "duration": 6,
    "start_time": "2022-05-12T16:16:09.048Z"
   },
   {
    "duration": 6,
    "start_time": "2022-05-12T16:16:09.056Z"
   },
   {
    "duration": 9,
    "start_time": "2022-05-12T16:16:09.064Z"
   },
   {
    "duration": 16,
    "start_time": "2022-05-12T16:16:09.075Z"
   },
   {
    "duration": 7,
    "start_time": "2022-05-12T16:16:09.093Z"
   },
   {
    "duration": 10,
    "start_time": "2022-05-12T16:16:09.102Z"
   },
   {
    "duration": 14,
    "start_time": "2022-05-12T16:16:09.113Z"
   },
   {
    "duration": 12,
    "start_time": "2022-05-12T16:16:09.129Z"
   },
   {
    "duration": 27,
    "start_time": "2022-05-12T16:16:09.142Z"
   },
   {
    "duration": 12,
    "start_time": "2022-05-12T16:16:09.170Z"
   },
   {
    "duration": 30,
    "start_time": "2022-05-12T16:16:09.184Z"
   },
   {
    "duration": 14,
    "start_time": "2022-05-12T16:16:09.216Z"
   },
   {
    "duration": 372,
    "start_time": "2022-05-12T16:16:09.232Z"
   },
   {
    "duration": 10,
    "start_time": "2022-05-12T16:16:09.607Z"
   },
   {
    "duration": 11,
    "start_time": "2022-05-12T16:16:09.619Z"
   },
   {
    "duration": 7,
    "start_time": "2022-05-12T16:16:09.632Z"
   },
   {
    "duration": 28,
    "start_time": "2022-05-12T16:16:09.641Z"
   },
   {
    "duration": 3,
    "start_time": "2022-05-12T16:16:09.672Z"
   },
   {
    "duration": 321,
    "start_time": "2022-05-12T16:16:09.681Z"
   },
   {
    "duration": 583,
    "start_time": "2022-05-12T16:16:10.005Z"
   },
   {
    "duration": 24,
    "start_time": "2022-05-12T16:16:10.591Z"
   },
   {
    "duration": 282,
    "start_time": "2022-05-12T16:16:10.618Z"
   },
   {
    "duration": 12,
    "start_time": "2022-05-12T16:16:10.902Z"
   },
   {
    "duration": 11,
    "start_time": "2022-05-12T16:16:10.917Z"
   },
   {
    "duration": 340,
    "start_time": "2022-05-12T16:16:10.931Z"
   },
   {
    "duration": 7,
    "start_time": "2022-05-12T16:16:11.274Z"
   },
   {
    "duration": 16,
    "start_time": "2022-05-12T16:16:11.283Z"
   },
   {
    "duration": 12,
    "start_time": "2022-05-12T16:16:11.301Z"
   },
   {
    "duration": 187,
    "start_time": "2022-05-12T16:16:11.315Z"
   },
   {
    "duration": 7,
    "start_time": "2022-05-12T16:16:11.505Z"
   },
   {
    "duration": 17,
    "start_time": "2022-05-12T16:16:11.514Z"
   },
   {
    "duration": 9,
    "start_time": "2022-05-12T16:16:11.533Z"
   },
   {
    "duration": 150,
    "start_time": "2022-05-12T16:16:11.567Z"
   },
   {
    "duration": 8,
    "start_time": "2022-05-12T16:16:11.720Z"
   },
   {
    "duration": 11,
    "start_time": "2022-05-12T16:16:11.730Z"
   },
   {
    "duration": 192,
    "start_time": "2022-05-12T16:16:11.743Z"
   },
   {
    "duration": 6,
    "start_time": "2022-05-12T16:16:11.937Z"
   },
   {
    "duration": 30,
    "start_time": "2022-05-12T16:16:11.945Z"
   },
   {
    "duration": 18,
    "start_time": "2022-05-12T16:16:11.978Z"
   },
   {
    "duration": 19,
    "start_time": "2022-05-12T16:16:11.999Z"
   },
   {
    "duration": 50,
    "start_time": "2022-05-12T16:16:12.020Z"
   },
   {
    "duration": 23,
    "start_time": "2022-05-12T16:16:12.073Z"
   },
   {
    "duration": 18,
    "start_time": "2022-05-12T16:16:12.098Z"
   },
   {
    "duration": 50,
    "start_time": "2022-05-12T16:16:12.118Z"
   },
   {
    "duration": 20,
    "start_time": "2022-05-12T16:16:12.171Z"
   },
   {
    "duration": 21,
    "start_time": "2022-05-12T16:16:12.193Z"
   },
   {
    "duration": 16,
    "start_time": "2022-05-12T16:16:12.216Z"
   },
   {
    "duration": 50,
    "start_time": "2022-05-12T16:16:12.234Z"
   },
   {
    "duration": 22,
    "start_time": "2022-05-12T16:16:12.286Z"
   },
   {
    "duration": 17,
    "start_time": "2022-05-12T16:16:12.310Z"
   },
   {
    "duration": 3,
    "start_time": "2022-05-12T16:16:12.329Z"
   },
   {
    "duration": 44,
    "start_time": "2022-05-12T16:16:12.334Z"
   },
   {
    "duration": 5,
    "start_time": "2022-05-12T16:16:12.380Z"
   },
   {
    "duration": 6,
    "start_time": "2022-05-12T16:16:12.387Z"
   },
   {
    "duration": 13,
    "start_time": "2022-05-12T16:16:12.395Z"
   },
   {
    "duration": 13,
    "start_time": "2022-05-12T16:16:12.410Z"
   },
   {
    "duration": 10,
    "start_time": "2022-05-12T16:16:12.424Z"
   },
   {
    "duration": 1444,
    "start_time": "2022-05-12T16:19:46.459Z"
   },
   {
    "duration": 4,
    "start_time": "2022-05-12T16:19:47.905Z"
   },
   {
    "duration": 71,
    "start_time": "2022-05-12T16:19:47.912Z"
   },
   {
    "duration": 22,
    "start_time": "2022-05-12T16:19:47.986Z"
   },
   {
    "duration": 44,
    "start_time": "2022-05-12T16:19:48.010Z"
   },
   {
    "duration": 21,
    "start_time": "2022-05-12T16:19:48.069Z"
   },
   {
    "duration": 15,
    "start_time": "2022-05-12T16:19:48.093Z"
   },
   {
    "duration": 11,
    "start_time": "2022-05-12T16:19:48.110Z"
   },
   {
    "duration": 43,
    "start_time": "2022-05-12T16:19:48.123Z"
   },
   {
    "duration": 8,
    "start_time": "2022-05-12T16:19:48.170Z"
   },
   {
    "duration": 12,
    "start_time": "2022-05-12T16:19:48.180Z"
   },
   {
    "duration": 15,
    "start_time": "2022-05-12T16:19:48.194Z"
   },
   {
    "duration": 9,
    "start_time": "2022-05-12T16:19:48.211Z"
   },
   {
    "duration": 7,
    "start_time": "2022-05-12T16:19:48.223Z"
   },
   {
    "duration": 36,
    "start_time": "2022-05-12T16:19:48.232Z"
   },
   {
    "duration": 11,
    "start_time": "2022-05-12T16:19:48.269Z"
   },
   {
    "duration": 15,
    "start_time": "2022-05-12T16:19:48.281Z"
   },
   {
    "duration": 11,
    "start_time": "2022-05-12T16:19:48.298Z"
   },
   {
    "duration": 14,
    "start_time": "2022-05-12T16:19:48.311Z"
   },
   {
    "duration": 43,
    "start_time": "2022-05-12T16:19:48.328Z"
   },
   {
    "duration": 15,
    "start_time": "2022-05-12T16:19:48.373Z"
   },
   {
    "duration": 382,
    "start_time": "2022-05-12T16:19:48.390Z"
   },
   {
    "duration": 6,
    "start_time": "2022-05-12T16:19:48.775Z"
   },
   {
    "duration": 12,
    "start_time": "2022-05-12T16:19:48.783Z"
   },
   {
    "duration": 10,
    "start_time": "2022-05-12T16:19:48.797Z"
   },
   {
    "duration": 8,
    "start_time": "2022-05-12T16:19:48.809Z"
   },
   {
    "duration": 5,
    "start_time": "2022-05-12T16:19:48.820Z"
   },
   {
    "duration": 302,
    "start_time": "2022-05-12T16:19:48.830Z"
   },
   {
    "duration": 390,
    "start_time": "2022-05-12T16:19:49.135Z"
   },
   {
    "duration": 17,
    "start_time": "2022-05-12T16:19:49.528Z"
   },
   {
    "duration": 285,
    "start_time": "2022-05-12T16:19:49.548Z"
   },
   {
    "duration": 12,
    "start_time": "2022-05-12T16:19:49.835Z"
   },
   {
    "duration": 142,
    "start_time": "2022-05-12T16:19:49.849Z"
   },
   {
    "duration": 312,
    "start_time": "2022-05-12T16:19:49.994Z"
   },
   {
    "duration": 7,
    "start_time": "2022-05-12T16:19:50.309Z"
   },
   {
    "duration": 23,
    "start_time": "2022-05-12T16:19:50.319Z"
   },
   {
    "duration": 32,
    "start_time": "2022-05-12T16:19:50.345Z"
   },
   {
    "duration": 253,
    "start_time": "2022-05-12T16:19:50.380Z"
   },
   {
    "duration": 6,
    "start_time": "2022-05-12T16:19:50.636Z"
   },
   {
    "duration": 37,
    "start_time": "2022-05-12T16:19:50.644Z"
   },
   {
    "duration": 18,
    "start_time": "2022-05-12T16:19:50.683Z"
   },
   {
    "duration": 171,
    "start_time": "2022-05-12T16:19:50.704Z"
   },
   {
    "duration": 8,
    "start_time": "2022-05-12T16:19:50.878Z"
   },
   {
    "duration": 10,
    "start_time": "2022-05-12T16:19:50.889Z"
   },
   {
    "duration": 159,
    "start_time": "2022-05-12T16:19:50.901Z"
   },
   {
    "duration": 9,
    "start_time": "2022-05-12T16:19:51.062Z"
   },
   {
    "duration": 19,
    "start_time": "2022-05-12T16:19:51.074Z"
   },
   {
    "duration": 14,
    "start_time": "2022-05-12T16:19:51.095Z"
   },
   {
    "duration": 19,
    "start_time": "2022-05-12T16:19:51.111Z"
   },
   {
    "duration": 18,
    "start_time": "2022-05-12T16:19:51.167Z"
   },
   {
    "duration": 17,
    "start_time": "2022-05-12T16:19:51.187Z"
   },
   {
    "duration": 22,
    "start_time": "2022-05-12T16:19:51.206Z"
   },
   {
    "duration": 47,
    "start_time": "2022-05-12T16:19:51.231Z"
   },
   {
    "duration": 21,
    "start_time": "2022-05-12T16:19:51.281Z"
   },
   {
    "duration": 21,
    "start_time": "2022-05-12T16:19:51.304Z"
   },
   {
    "duration": 43,
    "start_time": "2022-05-12T16:19:51.327Z"
   },
   {
    "duration": 23,
    "start_time": "2022-05-12T16:19:51.373Z"
   },
   {
    "duration": 23,
    "start_time": "2022-05-12T16:19:51.398Z"
   },
   {
    "duration": 49,
    "start_time": "2022-05-12T16:19:51.423Z"
   },
   {
    "duration": 4,
    "start_time": "2022-05-12T16:19:51.474Z"
   },
   {
    "duration": 16,
    "start_time": "2022-05-12T16:19:51.482Z"
   },
   {
    "duration": 5,
    "start_time": "2022-05-12T16:19:51.500Z"
   },
   {
    "duration": 7,
    "start_time": "2022-05-12T16:19:51.508Z"
   },
   {
    "duration": 16,
    "start_time": "2022-05-12T16:19:51.518Z"
   },
   {
    "duration": 32,
    "start_time": "2022-05-12T16:19:51.537Z"
   },
   {
    "duration": 14,
    "start_time": "2022-05-12T16:19:51.572Z"
   },
   {
    "duration": 1898,
    "start_time": "2022-05-13T11:56:05.793Z"
   },
   {
    "duration": 4,
    "start_time": "2022-05-13T11:56:07.694Z"
   },
   {
    "duration": 58,
    "start_time": "2022-05-13T11:56:07.701Z"
   },
   {
    "duration": 46,
    "start_time": "2022-05-13T11:56:07.762Z"
   },
   {
    "duration": 52,
    "start_time": "2022-05-13T11:56:07.810Z"
   },
   {
    "duration": 38,
    "start_time": "2022-05-13T11:56:07.865Z"
   },
   {
    "duration": 13,
    "start_time": "2022-05-13T11:56:07.905Z"
   },
   {
    "duration": 4,
    "start_time": "2022-05-13T11:56:07.921Z"
   },
   {
    "duration": 27,
    "start_time": "2022-05-13T11:56:07.927Z"
   },
   {
    "duration": 10,
    "start_time": "2022-05-13T11:56:07.985Z"
   },
   {
    "duration": 18,
    "start_time": "2022-05-13T11:56:07.997Z"
   },
   {
    "duration": 12,
    "start_time": "2022-05-13T11:56:08.018Z"
   },
   {
    "duration": 9,
    "start_time": "2022-05-13T11:56:08.033Z"
   },
   {
    "duration": 36,
    "start_time": "2022-05-13T11:56:08.045Z"
   },
   {
    "duration": 12,
    "start_time": "2022-05-13T11:56:08.085Z"
   },
   {
    "duration": 10,
    "start_time": "2022-05-13T11:56:08.099Z"
   },
   {
    "duration": 10,
    "start_time": "2022-05-13T11:56:08.111Z"
   },
   {
    "duration": 13,
    "start_time": "2022-05-13T11:56:08.123Z"
   },
   {
    "duration": 7,
    "start_time": "2022-05-13T11:56:08.139Z"
   },
   {
    "duration": 64,
    "start_time": "2022-05-13T11:56:08.149Z"
   },
   {
    "duration": 14,
    "start_time": "2022-05-13T11:56:08.215Z"
   },
   {
    "duration": 464,
    "start_time": "2022-05-13T11:56:08.232Z"
   },
   {
    "duration": 8,
    "start_time": "2022-05-13T11:56:08.699Z"
   },
   {
    "duration": 8,
    "start_time": "2022-05-13T11:56:08.710Z"
   },
   {
    "duration": 8,
    "start_time": "2022-05-13T11:56:08.721Z"
   },
   {
    "duration": 8,
    "start_time": "2022-05-13T11:56:08.731Z"
   },
   {
    "duration": 13,
    "start_time": "2022-05-13T11:56:08.782Z"
   },
   {
    "duration": 300,
    "start_time": "2022-05-13T11:56:08.803Z"
   },
   {
    "duration": 545,
    "start_time": "2022-05-13T11:56:09.105Z"
   },
   {
    "duration": 21,
    "start_time": "2022-05-13T11:56:09.653Z"
   },
   {
    "duration": 347,
    "start_time": "2022-05-13T11:56:09.676Z"
   },
   {
    "duration": 11,
    "start_time": "2022-05-13T11:56:10.026Z"
   },
   {
    "duration": 12,
    "start_time": "2022-05-13T11:56:10.039Z"
   },
   {
    "duration": 338,
    "start_time": "2022-05-13T11:56:10.054Z"
   },
   {
    "duration": 9,
    "start_time": "2022-05-13T11:56:10.395Z"
   },
   {
    "duration": 18,
    "start_time": "2022-05-13T11:56:10.407Z"
   },
   {
    "duration": 12,
    "start_time": "2022-05-13T11:56:10.427Z"
   },
   {
    "duration": 269,
    "start_time": "2022-05-13T11:56:10.441Z"
   },
   {
    "duration": 7,
    "start_time": "2022-05-13T11:56:10.713Z"
   },
   {
    "duration": 20,
    "start_time": "2022-05-13T11:56:10.722Z"
   },
   {
    "duration": 41,
    "start_time": "2022-05-13T11:56:10.745Z"
   },
   {
    "duration": 213,
    "start_time": "2022-05-13T11:56:10.794Z"
   },
   {
    "duration": 8,
    "start_time": "2022-05-13T11:56:11.009Z"
   },
   {
    "duration": 10,
    "start_time": "2022-05-13T11:56:11.019Z"
   },
   {
    "duration": 235,
    "start_time": "2022-05-13T11:56:11.031Z"
   },
   {
    "duration": 19,
    "start_time": "2022-05-13T11:56:11.269Z"
   },
   {
    "duration": 47,
    "start_time": "2022-05-13T11:56:11.291Z"
   },
   {
    "duration": 18,
    "start_time": "2022-05-13T11:56:11.340Z"
   },
   {
    "duration": 47,
    "start_time": "2022-05-13T11:56:11.361Z"
   },
   {
    "duration": 27,
    "start_time": "2022-05-13T11:56:11.411Z"
   },
   {
    "duration": 53,
    "start_time": "2022-05-13T11:56:11.440Z"
   },
   {
    "duration": 20,
    "start_time": "2022-05-13T11:56:11.496Z"
   },
   {
    "duration": 21,
    "start_time": "2022-05-13T11:56:11.518Z"
   },
   {
    "duration": 57,
    "start_time": "2022-05-13T11:56:11.542Z"
   },
   {
    "duration": 21,
    "start_time": "2022-05-13T11:56:11.601Z"
   },
   {
    "duration": 17,
    "start_time": "2022-05-13T11:56:11.624Z"
   },
   {
    "duration": 50,
    "start_time": "2022-05-13T11:56:11.643Z"
   },
   {
    "duration": 20,
    "start_time": "2022-05-13T11:56:11.695Z"
   },
   {
    "duration": 20,
    "start_time": "2022-05-13T11:56:11.717Z"
   },
   {
    "duration": 3,
    "start_time": "2022-05-13T11:56:11.739Z"
   },
   {
    "duration": 49,
    "start_time": "2022-05-13T11:56:11.744Z"
   },
   {
    "duration": 6,
    "start_time": "2022-05-13T11:56:11.800Z"
   },
   {
    "duration": 12,
    "start_time": "2022-05-13T11:56:11.808Z"
   },
   {
    "duration": 13,
    "start_time": "2022-05-13T11:56:11.822Z"
   },
   {
    "duration": 6,
    "start_time": "2022-05-13T11:56:11.837Z"
   },
   {
    "duration": 42,
    "start_time": "2022-05-13T11:56:11.846Z"
   },
   {
    "duration": 5,
    "start_time": "2022-05-13T11:58:08.886Z"
   },
   {
    "duration": 10,
    "start_time": "2022-05-13T11:58:11.966Z"
   },
   {
    "duration": 14,
    "start_time": "2022-05-13T11:59:17.078Z"
   },
   {
    "duration": 2008,
    "start_time": "2022-05-13T11:59:33.696Z"
   },
   {
    "duration": 5,
    "start_time": "2022-05-13T11:59:35.708Z"
   },
   {
    "duration": 91,
    "start_time": "2022-05-13T11:59:35.715Z"
   },
   {
    "duration": 32,
    "start_time": "2022-05-13T11:59:35.811Z"
   },
   {
    "duration": 70,
    "start_time": "2022-05-13T11:59:35.846Z"
   },
   {
    "duration": 21,
    "start_time": "2022-05-13T11:59:35.918Z"
   },
   {
    "duration": 13,
    "start_time": "2022-05-13T11:59:35.941Z"
   },
   {
    "duration": 8,
    "start_time": "2022-05-13T11:59:35.990Z"
   },
   {
    "duration": 36,
    "start_time": "2022-05-13T11:59:36.000Z"
   },
   {
    "duration": 11,
    "start_time": "2022-05-13T11:59:36.042Z"
   },
   {
    "duration": 29,
    "start_time": "2022-05-13T11:59:36.056Z"
   },
   {
    "duration": 14,
    "start_time": "2022-05-13T11:59:36.088Z"
   },
   {
    "duration": 17,
    "start_time": "2022-05-13T11:59:36.104Z"
   },
   {
    "duration": 7,
    "start_time": "2022-05-13T11:59:36.123Z"
   },
   {
    "duration": 10,
    "start_time": "2022-05-13T11:59:36.132Z"
   },
   {
    "duration": 38,
    "start_time": "2022-05-13T11:59:36.145Z"
   },
   {
    "duration": 42,
    "start_time": "2022-05-13T11:59:36.186Z"
   },
   {
    "duration": 12,
    "start_time": "2022-05-13T11:59:36.231Z"
   },
   {
    "duration": 11,
    "start_time": "2022-05-13T11:59:36.246Z"
   },
   {
    "duration": 7,
    "start_time": "2022-05-13T11:59:36.291Z"
   },
   {
    "duration": 40,
    "start_time": "2022-05-13T11:59:36.300Z"
   },
   {
    "duration": 18,
    "start_time": "2022-05-13T11:59:36.343Z"
   },
   {
    "duration": 451,
    "start_time": "2022-05-13T11:59:36.385Z"
   },
   {
    "duration": 8,
    "start_time": "2022-05-13T11:59:36.839Z"
   },
   {
    "duration": 13,
    "start_time": "2022-05-13T11:59:36.850Z"
   },
   {
    "duration": 44,
    "start_time": "2022-05-13T11:59:36.865Z"
   },
   {
    "duration": 13,
    "start_time": "2022-05-13T11:59:36.912Z"
   },
   {
    "duration": 4,
    "start_time": "2022-05-13T11:59:36.937Z"
   },
   {
    "duration": 311,
    "start_time": "2022-05-13T11:59:36.944Z"
   },
   {
    "duration": 562,
    "start_time": "2022-05-13T11:59:37.257Z"
   },
   {
    "duration": 26,
    "start_time": "2022-05-13T11:59:37.821Z"
   },
   {
    "duration": 283,
    "start_time": "2022-05-13T11:59:37.849Z"
   },
   {
    "duration": 11,
    "start_time": "2022-05-13T11:59:38.134Z"
   },
   {
    "duration": 37,
    "start_time": "2022-05-13T11:59:38.148Z"
   },
   {
    "duration": 311,
    "start_time": "2022-05-13T11:59:38.188Z"
   },
   {
    "duration": 10,
    "start_time": "2022-05-13T11:59:38.502Z"
   },
   {
    "duration": 19,
    "start_time": "2022-05-13T11:59:38.514Z"
   },
   {
    "duration": 51,
    "start_time": "2022-05-13T11:59:38.536Z"
   },
   {
    "duration": 256,
    "start_time": "2022-05-13T11:59:38.591Z"
   },
   {
    "duration": 8,
    "start_time": "2022-05-13T11:59:38.850Z"
   },
   {
    "duration": 48,
    "start_time": "2022-05-13T11:59:38.860Z"
   },
   {
    "duration": 16,
    "start_time": "2022-05-13T11:59:38.911Z"
   },
   {
    "duration": 309,
    "start_time": "2022-05-13T11:59:38.929Z"
   },
   {
    "duration": 11,
    "start_time": "2022-05-13T11:59:39.240Z"
   },
   {
    "duration": 34,
    "start_time": "2022-05-13T11:59:39.254Z"
   },
   {
    "duration": 164,
    "start_time": "2022-05-13T11:59:39.294Z"
   },
   {
    "duration": 8,
    "start_time": "2022-05-13T11:59:39.460Z"
   },
   {
    "duration": 37,
    "start_time": "2022-05-13T11:59:39.470Z"
   },
   {
    "duration": 18,
    "start_time": "2022-05-13T11:59:39.510Z"
   },
   {
    "duration": 65,
    "start_time": "2022-05-13T11:59:39.531Z"
   },
   {
    "duration": 22,
    "start_time": "2022-05-13T11:59:39.599Z"
   },
   {
    "duration": 21,
    "start_time": "2022-05-13T11:59:39.623Z"
   },
   {
    "duration": 56,
    "start_time": "2022-05-13T11:59:39.646Z"
   },
   {
    "duration": 20,
    "start_time": "2022-05-13T11:59:39.705Z"
   },
   {
    "duration": 23,
    "start_time": "2022-05-13T11:59:39.727Z"
   },
   {
    "duration": 55,
    "start_time": "2022-05-13T11:59:39.752Z"
   },
   {
    "duration": 17,
    "start_time": "2022-05-13T11:59:39.809Z"
   },
   {
    "duration": 19,
    "start_time": "2022-05-13T11:59:39.829Z"
   },
   {
    "duration": 27,
    "start_time": "2022-05-13T11:59:39.882Z"
   },
   {
    "duration": 27,
    "start_time": "2022-05-13T11:59:39.912Z"
   },
   {
    "duration": 4,
    "start_time": "2022-05-13T11:59:39.942Z"
   },
   {
    "duration": 15,
    "start_time": "2022-05-13T11:59:39.981Z"
   },
   {
    "duration": 6,
    "start_time": "2022-05-13T11:59:40.003Z"
   },
   {
    "duration": 9,
    "start_time": "2022-05-13T11:59:40.011Z"
   },
   {
    "duration": 16,
    "start_time": "2022-05-13T11:59:40.023Z"
   },
   {
    "duration": 48,
    "start_time": "2022-05-13T11:59:40.041Z"
   },
   {
    "duration": 20,
    "start_time": "2022-05-13T11:59:40.092Z"
   },
   {
    "duration": 8,
    "start_time": "2022-05-13T12:02:36.636Z"
   },
   {
    "duration": 8,
    "start_time": "2022-05-13T12:02:40.211Z"
   },
   {
    "duration": 428,
    "start_time": "2022-05-13T12:02:42.576Z"
   },
   {
    "duration": 8,
    "start_time": "2022-05-13T12:03:58.121Z"
   },
   {
    "duration": 449,
    "start_time": "2022-05-13T12:03:58.677Z"
   },
   {
    "duration": 8,
    "start_time": "2022-05-13T12:09:44.948Z"
   },
   {
    "duration": 28,
    "start_time": "2022-05-13T12:09:45.654Z"
   },
   {
    "duration": 15,
    "start_time": "2022-05-13T12:09:51.677Z"
   },
   {
    "duration": 1980,
    "start_time": "2022-05-13T12:27:12.504Z"
   },
   {
    "duration": 5,
    "start_time": "2022-05-13T12:27:14.488Z"
   },
   {
    "duration": 60,
    "start_time": "2022-05-13T12:27:14.496Z"
   },
   {
    "duration": 36,
    "start_time": "2022-05-13T12:27:14.559Z"
   },
   {
    "duration": 42,
    "start_time": "2022-05-13T12:27:14.598Z"
   },
   {
    "duration": 46,
    "start_time": "2022-05-13T12:27:14.642Z"
   },
   {
    "duration": 18,
    "start_time": "2022-05-13T12:27:14.691Z"
   },
   {
    "duration": 6,
    "start_time": "2022-05-13T12:27:14.712Z"
   },
   {
    "duration": 60,
    "start_time": "2022-05-13T12:27:14.721Z"
   },
   {
    "duration": 9,
    "start_time": "2022-05-13T12:27:14.786Z"
   },
   {
    "duration": 8,
    "start_time": "2022-05-13T12:27:14.797Z"
   },
   {
    "duration": 13,
    "start_time": "2022-05-13T12:27:14.807Z"
   },
   {
    "duration": 7,
    "start_time": "2022-05-13T12:27:14.823Z"
   },
   {
    "duration": 6,
    "start_time": "2022-05-13T12:27:14.833Z"
   },
   {
    "duration": 55,
    "start_time": "2022-05-13T12:27:14.841Z"
   },
   {
    "duration": 22,
    "start_time": "2022-05-13T12:27:14.899Z"
   },
   {
    "duration": 15,
    "start_time": "2022-05-13T12:27:14.924Z"
   },
   {
    "duration": 12,
    "start_time": "2022-05-13T12:27:14.941Z"
   },
   {
    "duration": 32,
    "start_time": "2022-05-13T12:27:14.955Z"
   },
   {
    "duration": 13,
    "start_time": "2022-05-13T12:27:14.989Z"
   },
   {
    "duration": 29,
    "start_time": "2022-05-13T12:27:15.005Z"
   },
   {
    "duration": 12,
    "start_time": "2022-05-13T12:27:15.037Z"
   },
   {
    "duration": 366,
    "start_time": "2022-05-13T12:27:15.051Z"
   },
   {
    "duration": 7,
    "start_time": "2022-05-13T12:27:15.421Z"
   },
   {
    "duration": 8,
    "start_time": "2022-05-13T12:27:15.431Z"
   },
   {
    "duration": 42,
    "start_time": "2022-05-13T12:27:15.441Z"
   },
   {
    "duration": 8,
    "start_time": "2022-05-13T12:27:15.486Z"
   },
   {
    "duration": 12,
    "start_time": "2022-05-13T12:27:15.504Z"
   },
   {
    "duration": 451,
    "start_time": "2022-05-13T12:27:15.519Z"
   },
   {
    "duration": 521,
    "start_time": "2022-05-13T12:27:15.982Z"
   },
   {
    "duration": 21,
    "start_time": "2022-05-13T12:27:16.506Z"
   },
   {
    "duration": 271,
    "start_time": "2022-05-13T12:27:16.529Z"
   },
   {
    "duration": 11,
    "start_time": "2022-05-13T12:27:16.803Z"
   },
   {
    "duration": 11,
    "start_time": "2022-05-13T12:27:16.817Z"
   },
   {
    "duration": 567,
    "start_time": "2022-05-13T12:27:16.831Z"
   },
   {
    "duration": 9,
    "start_time": "2022-05-13T12:27:17.400Z"
   },
   {
    "duration": 21,
    "start_time": "2022-05-13T12:27:17.412Z"
   },
   {
    "duration": 17,
    "start_time": "2022-05-13T12:27:17.436Z"
   },
   {
    "duration": 236,
    "start_time": "2022-05-13T12:27:17.482Z"
   },
   {
    "duration": 6,
    "start_time": "2022-05-13T12:27:17.721Z"
   },
   {
    "duration": 24,
    "start_time": "2022-05-13T12:27:17.729Z"
   },
   {
    "duration": 35,
    "start_time": "2022-05-13T12:27:17.756Z"
   },
   {
    "duration": 212,
    "start_time": "2022-05-13T12:27:17.793Z"
   },
   {
    "duration": 8,
    "start_time": "2022-05-13T12:27:18.007Z"
   },
   {
    "duration": 9,
    "start_time": "2022-05-13T12:27:18.017Z"
   },
   {
    "duration": 205,
    "start_time": "2022-05-13T12:27:18.029Z"
   },
   {
    "duration": 6,
    "start_time": "2022-05-13T12:27:18.237Z"
   },
   {
    "duration": 41,
    "start_time": "2022-05-13T12:27:18.245Z"
   },
   {
    "duration": 18,
    "start_time": "2022-05-13T12:27:18.289Z"
   },
   {
    "duration": 24,
    "start_time": "2022-05-13T12:27:18.310Z"
   },
   {
    "duration": 51,
    "start_time": "2022-05-13T12:27:18.337Z"
   },
   {
    "duration": 22,
    "start_time": "2022-05-13T12:27:18.390Z"
   },
   {
    "duration": 20,
    "start_time": "2022-05-13T12:27:18.415Z"
   },
   {
    "duration": 50,
    "start_time": "2022-05-13T12:27:18.438Z"
   },
   {
    "duration": 19,
    "start_time": "2022-05-13T12:27:18.491Z"
   },
   {
    "duration": 19,
    "start_time": "2022-05-13T12:27:18.513Z"
   },
   {
    "duration": 53,
    "start_time": "2022-05-13T12:27:18.534Z"
   },
   {
    "duration": 21,
    "start_time": "2022-05-13T12:27:18.589Z"
   },
   {
    "duration": 25,
    "start_time": "2022-05-13T12:27:18.612Z"
   },
   {
    "duration": 49,
    "start_time": "2022-05-13T12:27:18.639Z"
   },
   {
    "duration": 12,
    "start_time": "2022-05-13T12:27:18.690Z"
   },
   {
    "duration": 13,
    "start_time": "2022-05-13T12:27:18.705Z"
   },
   {
    "duration": 10,
    "start_time": "2022-05-13T12:27:18.721Z"
   },
   {
    "duration": 8,
    "start_time": "2022-05-13T12:27:18.734Z"
   },
   {
    "duration": 37,
    "start_time": "2022-05-13T12:27:18.745Z"
   },
   {
    "duration": 7,
    "start_time": "2022-05-13T12:27:18.784Z"
   },
   {
    "duration": 11,
    "start_time": "2022-05-13T12:27:18.794Z"
   },
   {
    "duration": 6,
    "start_time": "2022-05-13T12:27:42.828Z"
   },
   {
    "duration": 7,
    "start_time": "2022-05-13T12:27:52.138Z"
   },
   {
    "duration": 27,
    "start_time": "2022-05-13T12:27:54.768Z"
   },
   {
    "duration": 2093,
    "start_time": "2022-05-13T12:28:31.370Z"
   },
   {
    "duration": 5,
    "start_time": "2022-05-13T12:28:33.467Z"
   },
   {
    "duration": 75,
    "start_time": "2022-05-13T12:28:33.483Z"
   },
   {
    "duration": 33,
    "start_time": "2022-05-13T12:28:33.562Z"
   },
   {
    "duration": 53,
    "start_time": "2022-05-13T12:28:33.597Z"
   },
   {
    "duration": 57,
    "start_time": "2022-05-13T12:28:33.653Z"
   },
   {
    "duration": 20,
    "start_time": "2022-05-13T12:28:33.714Z"
   },
   {
    "duration": 6,
    "start_time": "2022-05-13T12:28:33.737Z"
   },
   {
    "duration": 44,
    "start_time": "2022-05-13T12:28:33.782Z"
   },
   {
    "duration": 12,
    "start_time": "2022-05-13T12:28:33.832Z"
   },
   {
    "duration": 10,
    "start_time": "2022-05-13T12:28:33.847Z"
   },
   {
    "duration": 27,
    "start_time": "2022-05-13T12:28:33.860Z"
   },
   {
    "duration": 9,
    "start_time": "2022-05-13T12:28:33.890Z"
   },
   {
    "duration": 9,
    "start_time": "2022-05-13T12:28:33.902Z"
   },
   {
    "duration": 12,
    "start_time": "2022-05-13T12:28:33.913Z"
   },
   {
    "duration": 13,
    "start_time": "2022-05-13T12:28:33.928Z"
   },
   {
    "duration": 47,
    "start_time": "2022-05-13T12:28:33.944Z"
   },
   {
    "duration": 16,
    "start_time": "2022-05-13T12:28:33.994Z"
   },
   {
    "duration": 11,
    "start_time": "2022-05-13T12:28:34.012Z"
   },
   {
    "duration": 18,
    "start_time": "2022-05-13T12:28:34.026Z"
   },
   {
    "duration": 62,
    "start_time": "2022-05-13T12:28:34.047Z"
   },
   {
    "duration": 20,
    "start_time": "2022-05-13T12:28:34.111Z"
   },
   {
    "duration": 497,
    "start_time": "2022-05-13T12:28:34.134Z"
   },
   {
    "duration": 11,
    "start_time": "2022-05-13T12:28:34.634Z"
   },
   {
    "duration": 10,
    "start_time": "2022-05-13T12:28:34.648Z"
   },
   {
    "duration": 9,
    "start_time": "2022-05-13T12:28:34.681Z"
   },
   {
    "duration": 8,
    "start_time": "2022-05-13T12:28:34.693Z"
   },
   {
    "duration": 5,
    "start_time": "2022-05-13T12:28:34.711Z"
   },
   {
    "duration": 452,
    "start_time": "2022-05-13T12:28:34.719Z"
   },
   {
    "duration": 532,
    "start_time": "2022-05-13T12:28:35.174Z"
   },
   {
    "duration": 21,
    "start_time": "2022-05-13T12:28:35.710Z"
   },
   {
    "duration": 394,
    "start_time": "2022-05-13T12:28:35.733Z"
   },
   {
    "duration": 11,
    "start_time": "2022-05-13T12:28:36.130Z"
   },
   {
    "duration": 38,
    "start_time": "2022-05-13T12:28:36.144Z"
   },
   {
    "duration": 470,
    "start_time": "2022-05-13T12:28:36.185Z"
   },
   {
    "duration": 8,
    "start_time": "2022-05-13T12:28:36.658Z"
   },
   {
    "duration": 29,
    "start_time": "2022-05-13T12:28:36.682Z"
   },
   {
    "duration": 16,
    "start_time": "2022-05-13T12:28:36.714Z"
   },
   {
    "duration": 340,
    "start_time": "2022-05-13T12:28:36.733Z"
   },
   {
    "duration": 13,
    "start_time": "2022-05-13T12:28:37.081Z"
   },
   {
    "duration": 28,
    "start_time": "2022-05-13T12:28:37.097Z"
   },
   {
    "duration": 15,
    "start_time": "2022-05-13T12:28:37.128Z"
   },
   {
    "duration": 376,
    "start_time": "2022-05-13T12:28:37.146Z"
   },
   {
    "duration": 9,
    "start_time": "2022-05-13T12:28:37.525Z"
   },
   {
    "duration": 16,
    "start_time": "2022-05-13T12:28:37.537Z"
   },
   {
    "duration": 229,
    "start_time": "2022-05-13T12:28:37.556Z"
   },
   {
    "duration": 8,
    "start_time": "2022-05-13T12:28:37.787Z"
   },
   {
    "duration": 31,
    "start_time": "2022-05-13T12:28:37.798Z"
   },
   {
    "duration": 61,
    "start_time": "2022-05-13T12:28:37.833Z"
   },
   {
    "duration": 25,
    "start_time": "2022-05-13T12:28:37.896Z"
   },
   {
    "duration": 21,
    "start_time": "2022-05-13T12:28:37.923Z"
   },
   {
    "duration": 47,
    "start_time": "2022-05-13T12:28:37.947Z"
   },
   {
    "duration": 23,
    "start_time": "2022-05-13T12:28:37.997Z"
   },
   {
    "duration": 61,
    "start_time": "2022-05-13T12:28:38.023Z"
   },
   {
    "duration": 29,
    "start_time": "2022-05-13T12:28:38.087Z"
   },
   {
    "duration": 21,
    "start_time": "2022-05-13T12:28:38.118Z"
   },
   {
    "duration": 58,
    "start_time": "2022-05-13T12:28:38.143Z"
   },
   {
    "duration": 29,
    "start_time": "2022-05-13T12:28:38.204Z"
   },
   {
    "duration": 54,
    "start_time": "2022-05-13T12:28:38.237Z"
   },
   {
    "duration": 21,
    "start_time": "2022-05-13T12:28:38.294Z"
   },
   {
    "duration": 3,
    "start_time": "2022-05-13T12:28:38.318Z"
   },
   {
    "duration": 14,
    "start_time": "2022-05-13T12:28:38.324Z"
   },
   {
    "duration": 6,
    "start_time": "2022-05-13T12:28:38.381Z"
   },
   {
    "duration": 7,
    "start_time": "2022-05-13T12:28:38.390Z"
   },
   {
    "duration": 12,
    "start_time": "2022-05-13T12:28:38.400Z"
   },
   {
    "duration": 6,
    "start_time": "2022-05-13T12:28:38.415Z"
   },
   {
    "duration": 12,
    "start_time": "2022-05-13T12:28:38.424Z"
   },
   {
    "duration": 33,
    "start_time": "2022-05-13T12:29:18.978Z"
   },
   {
    "duration": 1871,
    "start_time": "2022-05-13T12:29:30.049Z"
   },
   {
    "duration": 5,
    "start_time": "2022-05-13T12:29:31.923Z"
   },
   {
    "duration": 83,
    "start_time": "2022-05-13T12:29:31.931Z"
   },
   {
    "duration": 33,
    "start_time": "2022-05-13T12:29:32.018Z"
   },
   {
    "duration": 72,
    "start_time": "2022-05-13T12:29:32.054Z"
   },
   {
    "duration": 26,
    "start_time": "2022-05-13T12:29:32.129Z"
   },
   {
    "duration": 18,
    "start_time": "2022-05-13T12:29:32.183Z"
   },
   {
    "duration": 5,
    "start_time": "2022-05-13T12:29:32.205Z"
   },
   {
    "duration": 28,
    "start_time": "2022-05-13T12:29:32.212Z"
   },
   {
    "duration": 42,
    "start_time": "2022-05-13T12:29:32.246Z"
   },
   {
    "duration": 9,
    "start_time": "2022-05-13T12:29:32.291Z"
   },
   {
    "duration": 20,
    "start_time": "2022-05-13T12:29:32.302Z"
   },
   {
    "duration": 10,
    "start_time": "2022-05-13T12:29:32.325Z"
   },
   {
    "duration": 43,
    "start_time": "2022-05-13T12:29:32.338Z"
   },
   {
    "duration": 11,
    "start_time": "2022-05-13T12:29:32.384Z"
   },
   {
    "duration": 23,
    "start_time": "2022-05-13T12:29:32.397Z"
   },
   {
    "duration": 8,
    "start_time": "2022-05-13T12:29:32.423Z"
   },
   {
    "duration": 51,
    "start_time": "2022-05-13T12:29:32.434Z"
   },
   {
    "duration": 18,
    "start_time": "2022-05-13T12:29:32.489Z"
   },
   {
    "duration": 16,
    "start_time": "2022-05-13T12:29:32.510Z"
   },
   {
    "duration": 30,
    "start_time": "2022-05-13T12:29:32.529Z"
   },
   {
    "duration": 36,
    "start_time": "2022-05-13T12:29:32.562Z"
   },
   {
    "duration": 589,
    "start_time": "2022-05-13T12:29:32.602Z"
   },
   {
    "duration": 11,
    "start_time": "2022-05-13T12:29:33.195Z"
   },
   {
    "duration": 9,
    "start_time": "2022-05-13T12:29:33.209Z"
   },
   {
    "duration": 8,
    "start_time": "2022-05-13T12:29:33.221Z"
   },
   {
    "duration": 50,
    "start_time": "2022-05-13T12:29:33.232Z"
   },
   {
    "duration": 3,
    "start_time": "2022-05-13T12:29:33.291Z"
   },
   {
    "duration": 302,
    "start_time": "2022-05-13T12:29:33.297Z"
   },
   {
    "duration": 762,
    "start_time": "2022-05-13T12:29:33.605Z"
   },
   {
    "duration": 26,
    "start_time": "2022-05-13T12:29:34.369Z"
   },
   {
    "duration": 430,
    "start_time": "2022-05-13T12:29:34.397Z"
   },
   {
    "duration": 12,
    "start_time": "2022-05-13T12:29:34.830Z"
   },
   {
    "duration": 14,
    "start_time": "2022-05-13T12:29:34.845Z"
   },
   {
    "duration": 305,
    "start_time": "2022-05-13T12:29:34.882Z"
   },
   {
    "duration": 8,
    "start_time": "2022-05-13T12:29:35.190Z"
   },
   {
    "duration": 24,
    "start_time": "2022-05-13T12:29:35.202Z"
   },
   {
    "duration": 21,
    "start_time": "2022-05-13T12:29:35.230Z"
   },
   {
    "duration": 352,
    "start_time": "2022-05-13T12:29:35.283Z"
   },
   {
    "duration": 7,
    "start_time": "2022-05-13T12:29:35.639Z"
   },
   {
    "duration": 49,
    "start_time": "2022-05-13T12:29:35.649Z"
   },
   {
    "duration": 11,
    "start_time": "2022-05-13T12:29:35.701Z"
   },
   {
    "duration": 357,
    "start_time": "2022-05-13T12:29:35.715Z"
   },
   {
    "duration": 9,
    "start_time": "2022-05-13T12:29:36.081Z"
   },
   {
    "duration": 12,
    "start_time": "2022-05-13T12:29:36.093Z"
   },
   {
    "duration": 178,
    "start_time": "2022-05-13T12:29:36.107Z"
   },
   {
    "duration": 8,
    "start_time": "2022-05-13T12:29:36.288Z"
   },
   {
    "duration": 35,
    "start_time": "2022-05-13T12:29:36.299Z"
   },
   {
    "duration": 54,
    "start_time": "2022-05-13T12:29:36.337Z"
   },
   {
    "duration": 34,
    "start_time": "2022-05-13T12:29:36.394Z"
   },
   {
    "duration": 53,
    "start_time": "2022-05-13T12:29:36.431Z"
   },
   {
    "duration": 28,
    "start_time": "2022-05-13T12:29:36.487Z"
   },
   {
    "duration": 24,
    "start_time": "2022-05-13T12:29:36.519Z"
   },
   {
    "duration": 61,
    "start_time": "2022-05-13T12:29:36.546Z"
   },
   {
    "duration": 28,
    "start_time": "2022-05-13T12:29:36.610Z"
   },
   {
    "duration": 56,
    "start_time": "2022-05-13T12:29:36.642Z"
   },
   {
    "duration": 21,
    "start_time": "2022-05-13T12:29:36.701Z"
   },
   {
    "duration": 57,
    "start_time": "2022-05-13T12:29:36.725Z"
   },
   {
    "duration": 26,
    "start_time": "2022-05-13T12:29:36.785Z"
   },
   {
    "duration": 26,
    "start_time": "2022-05-13T12:29:36.814Z"
   },
   {
    "duration": 5,
    "start_time": "2022-05-13T12:29:36.843Z"
   },
   {
    "duration": 11,
    "start_time": "2022-05-13T12:29:36.884Z"
   },
   {
    "duration": 7,
    "start_time": "2022-05-13T12:29:36.899Z"
   },
   {
    "duration": 12,
    "start_time": "2022-05-13T12:29:36.909Z"
   },
   {
    "duration": 11,
    "start_time": "2022-05-13T12:29:36.925Z"
   },
   {
    "duration": 42,
    "start_time": "2022-05-13T12:29:36.939Z"
   },
   {
    "duration": 9,
    "start_time": "2022-05-13T12:29:36.985Z"
   },
   {
    "duration": 16,
    "start_time": "2022-05-13T12:31:18.753Z"
   },
   {
    "duration": 1820,
    "start_time": "2022-05-13T12:31:29.473Z"
   },
   {
    "duration": 4,
    "start_time": "2022-05-13T12:31:31.296Z"
   },
   {
    "duration": 57,
    "start_time": "2022-05-13T12:31:31.302Z"
   },
   {
    "duration": 35,
    "start_time": "2022-05-13T12:31:31.362Z"
   },
   {
    "duration": 39,
    "start_time": "2022-05-13T12:31:31.399Z"
   },
   {
    "duration": 49,
    "start_time": "2022-05-13T12:31:31.440Z"
   },
   {
    "duration": 15,
    "start_time": "2022-05-13T12:31:31.491Z"
   },
   {
    "duration": 9,
    "start_time": "2022-05-13T12:31:31.508Z"
   },
   {
    "duration": 47,
    "start_time": "2022-05-13T12:31:31.520Z"
   },
   {
    "duration": 10,
    "start_time": "2022-05-13T12:31:31.581Z"
   },
   {
    "duration": 7,
    "start_time": "2022-05-13T12:31:31.593Z"
   },
   {
    "duration": 18,
    "start_time": "2022-05-13T12:31:31.602Z"
   },
   {
    "duration": 14,
    "start_time": "2022-05-13T12:31:31.623Z"
   },
   {
    "duration": 10,
    "start_time": "2022-05-13T12:31:31.640Z"
   },
   {
    "duration": 10,
    "start_time": "2022-05-13T12:31:31.683Z"
   },
   {
    "duration": 27,
    "start_time": "2022-05-13T12:31:31.696Z"
   },
   {
    "duration": 8,
    "start_time": "2022-05-13T12:31:31.726Z"
   },
   {
    "duration": 45,
    "start_time": "2022-05-13T12:31:31.737Z"
   },
   {
    "duration": 7,
    "start_time": "2022-05-13T12:31:31.784Z"
   },
   {
    "duration": 10,
    "start_time": "2022-05-13T12:31:31.794Z"
   },
   {
    "duration": 31,
    "start_time": "2022-05-13T12:31:31.807Z"
   },
   {
    "duration": 42,
    "start_time": "2022-05-13T12:31:31.840Z"
   },
   {
    "duration": 339,
    "start_time": "2022-05-13T12:31:31.885Z"
   },
   {
    "duration": 8,
    "start_time": "2022-05-13T12:31:32.226Z"
   },
   {
    "duration": 15,
    "start_time": "2022-05-13T12:31:32.237Z"
   },
   {
    "duration": 30,
    "start_time": "2022-05-13T12:31:32.255Z"
   },
   {
    "duration": 7,
    "start_time": "2022-05-13T12:31:32.287Z"
   },
   {
    "duration": 7,
    "start_time": "2022-05-13T12:31:32.300Z"
   },
   {
    "duration": 298,
    "start_time": "2022-05-13T12:31:32.309Z"
   },
   {
    "duration": 549,
    "start_time": "2022-05-13T12:31:32.609Z"
   },
   {
    "duration": 22,
    "start_time": "2022-05-13T12:31:33.161Z"
   },
   {
    "duration": 272,
    "start_time": "2022-05-13T12:31:33.185Z"
   },
   {
    "duration": 10,
    "start_time": "2022-05-13T12:31:33.459Z"
   },
   {
    "duration": 9,
    "start_time": "2022-05-13T12:31:33.482Z"
   },
   {
    "duration": 314,
    "start_time": "2022-05-13T12:31:33.493Z"
   },
   {
    "duration": 6,
    "start_time": "2022-05-13T12:31:33.810Z"
   },
   {
    "duration": 28,
    "start_time": "2022-05-13T12:31:33.819Z"
   },
   {
    "duration": 44,
    "start_time": "2022-05-13T12:31:33.850Z"
   },
   {
    "duration": 359,
    "start_time": "2022-05-13T12:31:33.897Z"
   },
   {
    "duration": 8,
    "start_time": "2022-05-13T12:31:34.259Z"
   },
   {
    "duration": 30,
    "start_time": "2022-05-13T12:31:34.282Z"
   },
   {
    "duration": 12,
    "start_time": "2022-05-13T12:31:34.315Z"
   },
   {
    "duration": 362,
    "start_time": "2022-05-13T12:31:34.329Z"
   },
   {
    "duration": 7,
    "start_time": "2022-05-13T12:31:34.693Z"
   },
   {
    "duration": 11,
    "start_time": "2022-05-13T12:31:34.702Z"
   },
   {
    "duration": 179,
    "start_time": "2022-05-13T12:31:34.715Z"
   },
   {
    "duration": 6,
    "start_time": "2022-05-13T12:31:34.897Z"
   },
   {
    "duration": 27,
    "start_time": "2022-05-13T12:31:34.906Z"
   },
   {
    "duration": 51,
    "start_time": "2022-05-13T12:31:34.935Z"
   },
   {
    "duration": 23,
    "start_time": "2022-05-13T12:31:34.988Z"
   },
   {
    "duration": 21,
    "start_time": "2022-05-13T12:31:35.013Z"
   },
   {
    "duration": 59,
    "start_time": "2022-05-13T12:31:35.038Z"
   },
   {
    "duration": 23,
    "start_time": "2022-05-13T12:31:35.100Z"
   },
   {
    "duration": 28,
    "start_time": "2022-05-13T12:31:35.126Z"
   },
   {
    "duration": 41,
    "start_time": "2022-05-13T12:31:35.156Z"
   },
   {
    "duration": 26,
    "start_time": "2022-05-13T12:31:35.200Z"
   },
   {
    "duration": 17,
    "start_time": "2022-05-13T12:31:35.228Z"
   },
   {
    "duration": 53,
    "start_time": "2022-05-13T12:31:35.248Z"
   },
   {
    "duration": 25,
    "start_time": "2022-05-13T12:31:35.304Z"
   },
   {
    "duration": 51,
    "start_time": "2022-05-13T12:31:35.332Z"
   },
   {
    "duration": 15,
    "start_time": "2022-05-13T12:31:35.386Z"
   },
   {
    "duration": 13,
    "start_time": "2022-05-13T12:31:35.403Z"
   },
   {
    "duration": 10,
    "start_time": "2022-05-13T12:31:35.419Z"
   },
   {
    "duration": 14,
    "start_time": "2022-05-13T12:31:35.431Z"
   },
   {
    "duration": 36,
    "start_time": "2022-05-13T12:31:35.448Z"
   },
   {
    "duration": 8,
    "start_time": "2022-05-13T12:31:35.487Z"
   },
   {
    "duration": 11,
    "start_time": "2022-05-13T12:31:35.498Z"
   },
   {
    "duration": 2136,
    "start_time": "2022-05-13T12:32:38.609Z"
   },
   {
    "duration": 4,
    "start_time": "2022-05-13T12:32:40.747Z"
   },
   {
    "duration": 79,
    "start_time": "2022-05-13T12:32:40.754Z"
   },
   {
    "duration": 25,
    "start_time": "2022-05-13T12:32:40.837Z"
   },
   {
    "duration": 58,
    "start_time": "2022-05-13T12:32:40.864Z"
   },
   {
    "duration": 20,
    "start_time": "2022-05-13T12:32:40.924Z"
   },
   {
    "duration": 47,
    "start_time": "2022-05-13T12:32:40.946Z"
   },
   {
    "duration": 11,
    "start_time": "2022-05-13T12:32:40.996Z"
   },
   {
    "duration": 32,
    "start_time": "2022-05-13T12:32:41.010Z"
   },
   {
    "duration": 9,
    "start_time": "2022-05-13T12:32:41.047Z"
   },
   {
    "duration": 7,
    "start_time": "2022-05-13T12:32:41.083Z"
   },
   {
    "duration": 25,
    "start_time": "2022-05-13T12:32:41.094Z"
   },
   {
    "duration": 19,
    "start_time": "2022-05-13T12:32:41.121Z"
   },
   {
    "duration": 8,
    "start_time": "2022-05-13T12:32:41.143Z"
   },
   {
    "duration": 38,
    "start_time": "2022-05-13T12:32:41.153Z"
   },
   {
    "duration": 908,
    "start_time": "2022-05-13T12:32:41.195Z"
   },
   {
    "duration": 0,
    "start_time": "2022-05-13T12:32:42.111Z"
   },
   {
    "duration": 0,
    "start_time": "2022-05-13T12:32:42.113Z"
   },
   {
    "duration": 0,
    "start_time": "2022-05-13T12:32:42.116Z"
   },
   {
    "duration": 0,
    "start_time": "2022-05-13T12:32:42.118Z"
   },
   {
    "duration": 0,
    "start_time": "2022-05-13T12:32:42.120Z"
   },
   {
    "duration": 1,
    "start_time": "2022-05-13T12:32:42.123Z"
   },
   {
    "duration": 0,
    "start_time": "2022-05-13T12:32:42.126Z"
   },
   {
    "duration": 0,
    "start_time": "2022-05-13T12:32:42.128Z"
   },
   {
    "duration": 0,
    "start_time": "2022-05-13T12:32:42.130Z"
   },
   {
    "duration": 0,
    "start_time": "2022-05-13T12:32:42.132Z"
   },
   {
    "duration": 0,
    "start_time": "2022-05-13T12:32:42.134Z"
   },
   {
    "duration": 0,
    "start_time": "2022-05-13T12:32:42.136Z"
   },
   {
    "duration": 0,
    "start_time": "2022-05-13T12:32:42.138Z"
   },
   {
    "duration": 0,
    "start_time": "2022-05-13T12:32:42.140Z"
   },
   {
    "duration": 0,
    "start_time": "2022-05-13T12:32:42.142Z"
   },
   {
    "duration": 0,
    "start_time": "2022-05-13T12:32:42.144Z"
   },
   {
    "duration": 0,
    "start_time": "2022-05-13T12:32:42.146Z"
   },
   {
    "duration": 0,
    "start_time": "2022-05-13T12:32:42.148Z"
   },
   {
    "duration": 0,
    "start_time": "2022-05-13T12:32:42.150Z"
   },
   {
    "duration": 0,
    "start_time": "2022-05-13T12:32:42.182Z"
   },
   {
    "duration": 0,
    "start_time": "2022-05-13T12:32:42.183Z"
   },
   {
    "duration": 0,
    "start_time": "2022-05-13T12:32:42.186Z"
   },
   {
    "duration": 0,
    "start_time": "2022-05-13T12:32:42.188Z"
   },
   {
    "duration": 0,
    "start_time": "2022-05-13T12:32:42.189Z"
   },
   {
    "duration": 0,
    "start_time": "2022-05-13T12:32:42.191Z"
   },
   {
    "duration": 0,
    "start_time": "2022-05-13T12:32:42.192Z"
   },
   {
    "duration": 0,
    "start_time": "2022-05-13T12:32:42.194Z"
   },
   {
    "duration": 0,
    "start_time": "2022-05-13T12:32:42.196Z"
   },
   {
    "duration": 0,
    "start_time": "2022-05-13T12:32:42.197Z"
   },
   {
    "duration": 0,
    "start_time": "2022-05-13T12:32:42.199Z"
   },
   {
    "duration": 0,
    "start_time": "2022-05-13T12:32:42.201Z"
   },
   {
    "duration": 0,
    "start_time": "2022-05-13T12:32:42.202Z"
   },
   {
    "duration": 0,
    "start_time": "2022-05-13T12:32:42.206Z"
   },
   {
    "duration": 0,
    "start_time": "2022-05-13T12:32:42.208Z"
   },
   {
    "duration": 0,
    "start_time": "2022-05-13T12:32:42.215Z"
   },
   {
    "duration": 0,
    "start_time": "2022-05-13T12:32:42.217Z"
   },
   {
    "duration": 0,
    "start_time": "2022-05-13T12:32:42.219Z"
   },
   {
    "duration": 0,
    "start_time": "2022-05-13T12:32:42.221Z"
   },
   {
    "duration": 0,
    "start_time": "2022-05-13T12:32:42.222Z"
   },
   {
    "duration": 0,
    "start_time": "2022-05-13T12:32:42.282Z"
   },
   {
    "duration": 0,
    "start_time": "2022-05-13T12:32:42.283Z"
   },
   {
    "duration": 1,
    "start_time": "2022-05-13T12:32:42.292Z"
   },
   {
    "duration": 0,
    "start_time": "2022-05-13T12:32:42.294Z"
   },
   {
    "duration": 0,
    "start_time": "2022-05-13T12:32:42.296Z"
   },
   {
    "duration": 0,
    "start_time": "2022-05-13T12:32:42.297Z"
   },
   {
    "duration": 0,
    "start_time": "2022-05-13T12:32:42.298Z"
   },
   {
    "duration": 0,
    "start_time": "2022-05-13T12:32:42.299Z"
   },
   {
    "duration": 0,
    "start_time": "2022-05-13T12:32:42.301Z"
   },
   {
    "duration": 0,
    "start_time": "2022-05-13T12:32:42.302Z"
   },
   {
    "duration": 0,
    "start_time": "2022-05-13T12:32:42.304Z"
   },
   {
    "duration": 0,
    "start_time": "2022-05-13T12:32:42.307Z"
   },
   {
    "duration": 1703,
    "start_time": "2022-05-13T12:34:31.136Z"
   },
   {
    "duration": 4,
    "start_time": "2022-05-13T12:34:32.842Z"
   },
   {
    "duration": 71,
    "start_time": "2022-05-13T12:34:32.848Z"
   },
   {
    "duration": 22,
    "start_time": "2022-05-13T12:34:32.922Z"
   },
   {
    "duration": 67,
    "start_time": "2022-05-13T12:34:32.947Z"
   },
   {
    "duration": 22,
    "start_time": "2022-05-13T12:34:33.017Z"
   },
   {
    "duration": 42,
    "start_time": "2022-05-13T12:34:33.042Z"
   },
   {
    "duration": 7,
    "start_time": "2022-05-13T12:34:33.087Z"
   },
   {
    "duration": 35,
    "start_time": "2022-05-13T12:34:33.097Z"
   },
   {
    "duration": 11,
    "start_time": "2022-05-13T12:34:33.138Z"
   },
   {
    "duration": 6,
    "start_time": "2022-05-13T12:34:33.152Z"
   },
   {
    "duration": 20,
    "start_time": "2022-05-13T12:34:33.183Z"
   },
   {
    "duration": 13,
    "start_time": "2022-05-13T12:34:33.206Z"
   },
   {
    "duration": 10,
    "start_time": "2022-05-13T12:34:33.222Z"
   },
   {
    "duration": 13,
    "start_time": "2022-05-13T12:34:33.234Z"
   },
   {
    "duration": 198,
    "start_time": "2022-05-13T12:34:33.249Z"
   },
   {
    "duration": 0,
    "start_time": "2022-05-13T12:34:33.451Z"
   },
   {
    "duration": 0,
    "start_time": "2022-05-13T12:34:33.452Z"
   },
   {
    "duration": 0,
    "start_time": "2022-05-13T12:34:33.454Z"
   },
   {
    "duration": 0,
    "start_time": "2022-05-13T12:34:33.455Z"
   },
   {
    "duration": 0,
    "start_time": "2022-05-13T12:34:33.456Z"
   },
   {
    "duration": 0,
    "start_time": "2022-05-13T12:34:33.458Z"
   },
   {
    "duration": 0,
    "start_time": "2022-05-13T12:34:33.460Z"
   },
   {
    "duration": 0,
    "start_time": "2022-05-13T12:34:33.482Z"
   },
   {
    "duration": 0,
    "start_time": "2022-05-13T12:34:33.484Z"
   },
   {
    "duration": 0,
    "start_time": "2022-05-13T12:34:33.487Z"
   },
   {
    "duration": 0,
    "start_time": "2022-05-13T12:34:33.490Z"
   },
   {
    "duration": 0,
    "start_time": "2022-05-13T12:34:33.492Z"
   },
   {
    "duration": 0,
    "start_time": "2022-05-13T12:34:33.496Z"
   },
   {
    "duration": 0,
    "start_time": "2022-05-13T12:34:33.499Z"
   },
   {
    "duration": 0,
    "start_time": "2022-05-13T12:34:33.501Z"
   },
   {
    "duration": 0,
    "start_time": "2022-05-13T12:34:33.503Z"
   },
   {
    "duration": 0,
    "start_time": "2022-05-13T12:34:33.506Z"
   },
   {
    "duration": 0,
    "start_time": "2022-05-13T12:34:33.508Z"
   },
   {
    "duration": 0,
    "start_time": "2022-05-13T12:34:33.509Z"
   },
   {
    "duration": 0,
    "start_time": "2022-05-13T12:34:33.511Z"
   },
   {
    "duration": 0,
    "start_time": "2022-05-13T12:34:33.512Z"
   },
   {
    "duration": 0,
    "start_time": "2022-05-13T12:34:33.514Z"
   },
   {
    "duration": 0,
    "start_time": "2022-05-13T12:34:33.516Z"
   },
   {
    "duration": 0,
    "start_time": "2022-05-13T12:34:33.517Z"
   },
   {
    "duration": 0,
    "start_time": "2022-05-13T12:34:33.519Z"
   },
   {
    "duration": 0,
    "start_time": "2022-05-13T12:34:33.520Z"
   },
   {
    "duration": 0,
    "start_time": "2022-05-13T12:34:33.521Z"
   },
   {
    "duration": 0,
    "start_time": "2022-05-13T12:34:33.523Z"
   },
   {
    "duration": 0,
    "start_time": "2022-05-13T12:34:33.525Z"
   },
   {
    "duration": 0,
    "start_time": "2022-05-13T12:34:33.526Z"
   },
   {
    "duration": 0,
    "start_time": "2022-05-13T12:34:33.527Z"
   },
   {
    "duration": 0,
    "start_time": "2022-05-13T12:34:33.586Z"
   },
   {
    "duration": 0,
    "start_time": "2022-05-13T12:34:33.590Z"
   },
   {
    "duration": 0,
    "start_time": "2022-05-13T12:34:33.593Z"
   },
   {
    "duration": 0,
    "start_time": "2022-05-13T12:34:33.595Z"
   },
   {
    "duration": 0,
    "start_time": "2022-05-13T12:34:33.601Z"
   },
   {
    "duration": 0,
    "start_time": "2022-05-13T12:34:33.603Z"
   },
   {
    "duration": 0,
    "start_time": "2022-05-13T12:34:33.604Z"
   },
   {
    "duration": 0,
    "start_time": "2022-05-13T12:34:33.607Z"
   },
   {
    "duration": 0,
    "start_time": "2022-05-13T12:34:33.609Z"
   },
   {
    "duration": 0,
    "start_time": "2022-05-13T12:34:33.611Z"
   },
   {
    "duration": 0,
    "start_time": "2022-05-13T12:34:33.613Z"
   },
   {
    "duration": 0,
    "start_time": "2022-05-13T12:34:33.615Z"
   },
   {
    "duration": 0,
    "start_time": "2022-05-13T12:34:33.617Z"
   },
   {
    "duration": 0,
    "start_time": "2022-05-13T12:34:33.619Z"
   },
   {
    "duration": 0,
    "start_time": "2022-05-13T12:34:33.621Z"
   },
   {
    "duration": 0,
    "start_time": "2022-05-13T12:34:33.622Z"
   },
   {
    "duration": 0,
    "start_time": "2022-05-13T12:34:33.624Z"
   },
   {
    "duration": 0,
    "start_time": "2022-05-13T12:34:33.683Z"
   },
   {
    "duration": 0,
    "start_time": "2022-05-13T12:34:33.685Z"
   },
   {
    "duration": 0,
    "start_time": "2022-05-13T12:34:33.686Z"
   },
   {
    "duration": 0,
    "start_time": "2022-05-13T12:34:33.688Z"
   },
   {
    "duration": 1649,
    "start_time": "2022-05-13T12:35:32.014Z"
   },
   {
    "duration": 4,
    "start_time": "2022-05-13T12:35:33.666Z"
   },
   {
    "duration": 68,
    "start_time": "2022-05-13T12:35:33.673Z"
   },
   {
    "duration": 45,
    "start_time": "2022-05-13T12:35:33.746Z"
   },
   {
    "duration": 44,
    "start_time": "2022-05-13T12:35:33.794Z"
   },
   {
    "duration": 51,
    "start_time": "2022-05-13T12:35:33.841Z"
   },
   {
    "duration": 17,
    "start_time": "2022-05-13T12:35:33.895Z"
   },
   {
    "duration": 5,
    "start_time": "2022-05-13T12:35:33.914Z"
   },
   {
    "duration": 25,
    "start_time": "2022-05-13T12:35:33.921Z"
   },
   {
    "duration": 71,
    "start_time": "2022-05-13T12:35:33.950Z"
   },
   {
    "duration": 7,
    "start_time": "2022-05-13T12:35:34.024Z"
   },
   {
    "duration": 17,
    "start_time": "2022-05-13T12:35:34.034Z"
   },
   {
    "duration": 10,
    "start_time": "2022-05-13T12:35:34.054Z"
   },
   {
    "duration": 24,
    "start_time": "2022-05-13T12:35:34.066Z"
   },
   {
    "duration": 19,
    "start_time": "2022-05-13T12:35:34.093Z"
   },
   {
    "duration": 11,
    "start_time": "2022-05-13T12:35:34.115Z"
   },
   {
    "duration": 77,
    "start_time": "2022-05-13T12:35:34.129Z"
   },
   {
    "duration": 5,
    "start_time": "2022-05-13T12:35:34.208Z"
   },
   {
    "duration": 11,
    "start_time": "2022-05-13T12:35:34.215Z"
   },
   {
    "duration": 7,
    "start_time": "2022-05-13T12:35:34.228Z"
   },
   {
    "duration": 71,
    "start_time": "2022-05-13T12:35:34.237Z"
   },
   {
    "duration": 13,
    "start_time": "2022-05-13T12:35:34.310Z"
   },
   {
    "duration": 384,
    "start_time": "2022-05-13T12:35:34.325Z"
   },
   {
    "duration": 10,
    "start_time": "2022-05-13T12:35:34.712Z"
   },
   {
    "duration": 11,
    "start_time": "2022-05-13T12:35:34.725Z"
   },
   {
    "duration": 11,
    "start_time": "2022-05-13T12:35:34.739Z"
   },
   {
    "duration": 29,
    "start_time": "2022-05-13T12:35:34.753Z"
   },
   {
    "duration": 24,
    "start_time": "2022-05-13T12:35:34.792Z"
   },
   {
    "duration": 333,
    "start_time": "2022-05-13T12:35:34.819Z"
   },
   {
    "duration": 574,
    "start_time": "2022-05-13T12:35:35.156Z"
   },
   {
    "duration": 22,
    "start_time": "2022-05-13T12:35:35.733Z"
   },
   {
    "duration": 297,
    "start_time": "2022-05-13T12:35:35.757Z"
   },
   {
    "duration": 25,
    "start_time": "2022-05-13T12:35:36.058Z"
   },
   {
    "duration": 31,
    "start_time": "2022-05-13T12:35:36.086Z"
   },
   {
    "duration": 328,
    "start_time": "2022-05-13T12:35:36.119Z"
   },
   {
    "duration": 6,
    "start_time": "2022-05-13T12:35:36.450Z"
   },
   {
    "duration": 48,
    "start_time": "2022-05-13T12:35:36.459Z"
   },
   {
    "duration": 16,
    "start_time": "2022-05-13T12:35:36.510Z"
   },
   {
    "duration": 253,
    "start_time": "2022-05-13T12:35:36.529Z"
   },
   {
    "duration": 9,
    "start_time": "2022-05-13T12:35:36.785Z"
   },
   {
    "duration": 33,
    "start_time": "2022-05-13T12:35:36.798Z"
   },
   {
    "duration": 13,
    "start_time": "2022-05-13T12:35:36.834Z"
   },
   {
    "duration": 281,
    "start_time": "2022-05-13T12:35:36.849Z"
   },
   {
    "duration": 7,
    "start_time": "2022-05-13T12:35:37.132Z"
   },
   {
    "duration": 10,
    "start_time": "2022-05-13T12:35:37.142Z"
   },
   {
    "duration": 228,
    "start_time": "2022-05-13T12:35:37.154Z"
   },
   {
    "duration": 10,
    "start_time": "2022-05-13T12:35:37.385Z"
   },
   {
    "duration": 38,
    "start_time": "2022-05-13T12:35:37.398Z"
   },
   {
    "duration": 18,
    "start_time": "2022-05-13T12:35:37.439Z"
   },
   {
    "duration": 33,
    "start_time": "2022-05-13T12:35:37.483Z"
   },
   {
    "duration": 30,
    "start_time": "2022-05-13T12:35:37.519Z"
   },
   {
    "duration": 58,
    "start_time": "2022-05-13T12:35:37.552Z"
   },
   {
    "duration": 22,
    "start_time": "2022-05-13T12:35:37.613Z"
   },
   {
    "duration": 58,
    "start_time": "2022-05-13T12:35:37.639Z"
   },
   {
    "duration": 40,
    "start_time": "2022-05-13T12:35:37.700Z"
   },
   {
    "duration": 27,
    "start_time": "2022-05-13T12:35:37.742Z"
   },
   {
    "duration": 26,
    "start_time": "2022-05-13T12:35:37.783Z"
   },
   {
    "duration": 30,
    "start_time": "2022-05-13T12:35:37.812Z"
   },
   {
    "duration": 55,
    "start_time": "2022-05-13T12:35:37.845Z"
   },
   {
    "duration": 29,
    "start_time": "2022-05-13T12:35:37.903Z"
   },
   {
    "duration": 4,
    "start_time": "2022-05-13T12:35:37.934Z"
   },
   {
    "duration": 13,
    "start_time": "2022-05-13T12:35:37.940Z"
   },
   {
    "duration": 35,
    "start_time": "2022-05-13T12:35:37.955Z"
   },
   {
    "duration": 20,
    "start_time": "2022-05-13T12:35:37.994Z"
   },
   {
    "duration": 12,
    "start_time": "2022-05-13T12:35:38.017Z"
   },
   {
    "duration": 5,
    "start_time": "2022-05-13T12:35:38.035Z"
   },
   {
    "duration": 10,
    "start_time": "2022-05-13T12:35:38.043Z"
   },
   {
    "duration": 2300,
    "start_time": "2022-05-13T12:36:28.173Z"
   },
   {
    "duration": 11,
    "start_time": "2022-05-13T12:36:30.476Z"
   },
   {
    "duration": 80,
    "start_time": "2022-05-13T12:36:30.491Z"
   },
   {
    "duration": 34,
    "start_time": "2022-05-13T12:36:30.575Z"
   },
   {
    "duration": 44,
    "start_time": "2022-05-13T12:36:30.615Z"
   },
   {
    "duration": 31,
    "start_time": "2022-05-13T12:36:30.683Z"
   },
   {
    "duration": 19,
    "start_time": "2022-05-13T12:36:30.717Z"
   },
   {
    "duration": 18,
    "start_time": "2022-05-13T12:36:30.739Z"
   },
   {
    "duration": 60,
    "start_time": "2022-05-13T12:36:30.760Z"
   },
   {
    "duration": 9,
    "start_time": "2022-05-13T12:36:30.824Z"
   },
   {
    "duration": 11,
    "start_time": "2022-05-13T12:36:30.836Z"
   },
   {
    "duration": 45,
    "start_time": "2022-05-13T12:36:30.850Z"
   },
   {
    "duration": 30,
    "start_time": "2022-05-13T12:36:30.899Z"
   },
   {
    "duration": 19,
    "start_time": "2022-05-13T12:36:30.931Z"
   },
   {
    "duration": 15,
    "start_time": "2022-05-13T12:36:30.952Z"
   },
   {
    "duration": 15,
    "start_time": "2022-05-13T12:36:30.969Z"
   },
   {
    "duration": 43,
    "start_time": "2022-05-13T12:36:30.988Z"
   },
   {
    "duration": 5,
    "start_time": "2022-05-13T12:36:31.034Z"
   },
   {
    "duration": 27,
    "start_time": "2022-05-13T12:36:31.042Z"
   },
   {
    "duration": 20,
    "start_time": "2022-05-13T12:36:31.071Z"
   },
   {
    "duration": 58,
    "start_time": "2022-05-13T12:36:31.095Z"
   },
   {
    "duration": 20,
    "start_time": "2022-05-13T12:36:31.157Z"
   },
   {
    "duration": 523,
    "start_time": "2022-05-13T12:36:31.179Z"
   },
   {
    "duration": 14,
    "start_time": "2022-05-13T12:36:31.705Z"
   },
   {
    "duration": 14,
    "start_time": "2022-05-13T12:36:31.722Z"
   },
   {
    "duration": 13,
    "start_time": "2022-05-13T12:36:31.739Z"
   },
   {
    "duration": 32,
    "start_time": "2022-05-13T12:36:31.755Z"
   },
   {
    "duration": 39,
    "start_time": "2022-05-13T12:36:31.797Z"
   },
   {
    "duration": 516,
    "start_time": "2022-05-13T12:36:31.839Z"
   },
   {
    "duration": 689,
    "start_time": "2022-05-13T12:36:32.358Z"
   },
   {
    "duration": 31,
    "start_time": "2022-05-13T12:36:33.049Z"
   },
   {
    "duration": 328,
    "start_time": "2022-05-13T12:36:33.083Z"
   },
   {
    "duration": 10,
    "start_time": "2022-05-13T12:36:33.413Z"
   },
   {
    "duration": 14,
    "start_time": "2022-05-13T12:36:33.425Z"
   },
   {
    "duration": 480,
    "start_time": "2022-05-13T12:36:33.442Z"
   },
   {
    "duration": 8,
    "start_time": "2022-05-13T12:36:33.924Z"
   },
   {
    "duration": 34,
    "start_time": "2022-05-13T12:36:33.936Z"
   },
   {
    "duration": 41,
    "start_time": "2022-05-13T12:36:33.972Z"
   },
   {
    "duration": 306,
    "start_time": "2022-05-13T12:36:34.016Z"
   },
   {
    "duration": 7,
    "start_time": "2022-05-13T12:36:34.324Z"
   },
   {
    "duration": 25,
    "start_time": "2022-05-13T12:36:34.333Z"
   },
   {
    "duration": 36,
    "start_time": "2022-05-13T12:36:34.361Z"
   },
   {
    "duration": 359,
    "start_time": "2022-05-13T12:36:34.401Z"
   },
   {
    "duration": 9,
    "start_time": "2022-05-13T12:36:34.764Z"
   },
   {
    "duration": 14,
    "start_time": "2022-05-13T12:36:34.786Z"
   },
   {
    "duration": 241,
    "start_time": "2022-05-13T12:36:34.803Z"
   },
   {
    "duration": 10,
    "start_time": "2022-05-13T12:36:35.047Z"
   },
   {
    "duration": 52,
    "start_time": "2022-05-13T12:36:35.060Z"
   },
   {
    "duration": 17,
    "start_time": "2022-05-13T12:36:35.114Z"
   },
   {
    "duration": 23,
    "start_time": "2022-05-13T12:36:35.134Z"
   },
   {
    "duration": 37,
    "start_time": "2022-05-13T12:36:35.186Z"
   },
   {
    "duration": 34,
    "start_time": "2022-05-13T12:36:35.226Z"
   },
   {
    "duration": 41,
    "start_time": "2022-05-13T12:36:35.263Z"
   },
   {
    "duration": 34,
    "start_time": "2022-05-13T12:36:35.308Z"
   },
   {
    "duration": 50,
    "start_time": "2022-05-13T12:36:35.345Z"
   },
   {
    "duration": 36,
    "start_time": "2022-05-13T12:36:35.398Z"
   },
   {
    "duration": 23,
    "start_time": "2022-05-13T12:36:35.436Z"
   },
   {
    "duration": 42,
    "start_time": "2022-05-13T12:36:35.463Z"
   },
   {
    "duration": 37,
    "start_time": "2022-05-13T12:36:35.508Z"
   },
   {
    "duration": 46,
    "start_time": "2022-05-13T12:36:35.548Z"
   },
   {
    "duration": 5,
    "start_time": "2022-05-13T12:36:35.597Z"
   },
   {
    "duration": 16,
    "start_time": "2022-05-13T12:36:35.604Z"
   },
   {
    "duration": 14,
    "start_time": "2022-05-13T12:36:35.622Z"
   },
   {
    "duration": 19,
    "start_time": "2022-05-13T12:36:35.639Z"
   },
   {
    "duration": 15,
    "start_time": "2022-05-13T12:36:35.690Z"
   },
   {
    "duration": 7,
    "start_time": "2022-05-13T12:36:35.708Z"
   },
   {
    "duration": 14,
    "start_time": "2022-05-13T12:36:35.718Z"
   },
   {
    "duration": 15,
    "start_time": "2022-05-13T12:38:24.363Z"
   },
   {
    "duration": 1719,
    "start_time": "2022-05-13T12:39:29.748Z"
   },
   {
    "duration": 4,
    "start_time": "2022-05-13T12:39:31.470Z"
   },
   {
    "duration": 90,
    "start_time": "2022-05-13T12:39:31.477Z"
   },
   {
    "duration": 31,
    "start_time": "2022-05-13T12:39:31.570Z"
   },
   {
    "duration": 70,
    "start_time": "2022-05-13T12:39:31.603Z"
   },
   {
    "duration": 32,
    "start_time": "2022-05-13T12:39:31.675Z"
   },
   {
    "duration": 49,
    "start_time": "2022-05-13T12:39:31.711Z"
   },
   {
    "duration": 46,
    "start_time": "2022-05-13T12:39:31.762Z"
   },
   {
    "duration": 41,
    "start_time": "2022-05-13T12:39:31.810Z"
   },
   {
    "duration": 10,
    "start_time": "2022-05-13T12:39:31.857Z"
   },
   {
    "duration": 20,
    "start_time": "2022-05-13T12:39:31.870Z"
   },
   {
    "duration": 26,
    "start_time": "2022-05-13T12:39:31.893Z"
   },
   {
    "duration": 13,
    "start_time": "2022-05-13T12:39:31.922Z"
   },
   {
    "duration": 27,
    "start_time": "2022-05-13T12:39:31.937Z"
   },
   {
    "duration": 22,
    "start_time": "2022-05-13T12:39:31.967Z"
   },
   {
    "duration": 23,
    "start_time": "2022-05-13T12:39:31.992Z"
   },
   {
    "duration": 21,
    "start_time": "2022-05-13T12:39:32.017Z"
   },
   {
    "duration": 5,
    "start_time": "2022-05-13T12:39:32.041Z"
   },
   {
    "duration": 12,
    "start_time": "2022-05-13T12:39:32.049Z"
   },
   {
    "duration": 39,
    "start_time": "2022-05-13T12:39:32.063Z"
   },
   {
    "duration": 46,
    "start_time": "2022-05-13T12:39:32.105Z"
   },
   {
    "duration": 34,
    "start_time": "2022-05-13T12:39:32.154Z"
   },
   {
    "duration": 359,
    "start_time": "2022-05-13T12:39:32.190Z"
   },
   {
    "duration": 10,
    "start_time": "2022-05-13T12:39:32.552Z"
   },
   {
    "duration": 36,
    "start_time": "2022-05-13T12:39:32.564Z"
   },
   {
    "duration": 14,
    "start_time": "2022-05-13T12:39:32.603Z"
   },
   {
    "duration": 7,
    "start_time": "2022-05-13T12:39:32.620Z"
   },
   {
    "duration": 9,
    "start_time": "2022-05-13T12:39:32.633Z"
   },
   {
    "duration": 419,
    "start_time": "2022-05-13T12:39:32.646Z"
   },
   {
    "duration": 784,
    "start_time": "2022-05-13T12:39:33.067Z"
   },
   {
    "duration": 26,
    "start_time": "2022-05-13T12:39:33.853Z"
   },
   {
    "duration": 318,
    "start_time": "2022-05-13T12:39:33.883Z"
   },
   {
    "duration": 12,
    "start_time": "2022-05-13T12:39:34.205Z"
   },
   {
    "duration": 12,
    "start_time": "2022-05-13T12:39:34.220Z"
   },
   {
    "duration": 339,
    "start_time": "2022-05-13T12:39:34.235Z"
   },
   {
    "duration": 6,
    "start_time": "2022-05-13T12:39:34.577Z"
   },
   {
    "duration": 38,
    "start_time": "2022-05-13T12:39:34.586Z"
   },
   {
    "duration": 13,
    "start_time": "2022-05-13T12:39:34.627Z"
   },
   {
    "duration": 286,
    "start_time": "2022-05-13T12:39:34.643Z"
   },
   {
    "duration": 6,
    "start_time": "2022-05-13T12:39:34.931Z"
   },
   {
    "duration": 43,
    "start_time": "2022-05-13T12:39:34.940Z"
   },
   {
    "duration": 16,
    "start_time": "2022-05-13T12:39:34.990Z"
   },
   {
    "duration": 257,
    "start_time": "2022-05-13T12:39:35.009Z"
   },
   {
    "duration": 21,
    "start_time": "2022-05-13T12:39:35.268Z"
   },
   {
    "duration": 21,
    "start_time": "2022-05-13T12:39:35.292Z"
   },
   {
    "duration": 170,
    "start_time": "2022-05-13T12:39:35.315Z"
   },
   {
    "duration": 8,
    "start_time": "2022-05-13T12:39:35.488Z"
   },
   {
    "duration": 37,
    "start_time": "2022-05-13T12:39:35.499Z"
   },
   {
    "duration": 17,
    "start_time": "2022-05-13T12:39:35.538Z"
   },
   {
    "duration": 51,
    "start_time": "2022-05-13T12:39:35.557Z"
   },
   {
    "duration": 21,
    "start_time": "2022-05-13T12:39:35.610Z"
   },
   {
    "duration": 51,
    "start_time": "2022-05-13T12:39:35.634Z"
   },
   {
    "duration": 21,
    "start_time": "2022-05-13T12:39:35.686Z"
   },
   {
    "duration": 29,
    "start_time": "2022-05-13T12:39:35.710Z"
   },
   {
    "duration": 64,
    "start_time": "2022-05-13T12:39:35.742Z"
   },
   {
    "duration": 30,
    "start_time": "2022-05-13T12:39:35.809Z"
   },
   {
    "duration": 16,
    "start_time": "2022-05-13T12:39:35.841Z"
   },
   {
    "duration": 41,
    "start_time": "2022-05-13T12:39:35.859Z"
   },
   {
    "duration": 21,
    "start_time": "2022-05-13T12:39:35.905Z"
   },
   {
    "duration": 23,
    "start_time": "2022-05-13T12:39:35.928Z"
   },
   {
    "duration": 32,
    "start_time": "2022-05-13T12:39:35.953Z"
   },
   {
    "duration": 12,
    "start_time": "2022-05-13T12:39:35.988Z"
   },
   {
    "duration": 27,
    "start_time": "2022-05-13T12:39:36.003Z"
   },
   {
    "duration": 12,
    "start_time": "2022-05-13T12:39:36.032Z"
   },
   {
    "duration": 28,
    "start_time": "2022-05-13T12:39:36.047Z"
   },
   {
    "duration": 17,
    "start_time": "2022-05-13T12:39:36.080Z"
   },
   {
    "duration": 21,
    "start_time": "2022-05-13T12:39:36.101Z"
   },
   {
    "duration": 20,
    "start_time": "2022-05-13T12:40:54.299Z"
   },
   {
    "duration": 14,
    "start_time": "2022-05-13T12:41:04.469Z"
   },
   {
    "duration": 305,
    "start_time": "2022-05-13T12:44:54.091Z"
   },
   {
    "duration": 6,
    "start_time": "2022-05-13T12:45:45.430Z"
   },
   {
    "duration": 27,
    "start_time": "2022-05-13T12:45:47.018Z"
   },
   {
    "duration": 11,
    "start_time": "2022-05-13T12:45:49.534Z"
   },
   {
    "duration": 276,
    "start_time": "2022-05-13T12:45:52.982Z"
   },
   {
    "duration": 1663,
    "start_time": "2022-05-13T12:46:04.899Z"
   },
   {
    "duration": 3,
    "start_time": "2022-05-13T12:46:06.565Z"
   },
   {
    "duration": 64,
    "start_time": "2022-05-13T12:46:06.570Z"
   },
   {
    "duration": 22,
    "start_time": "2022-05-13T12:46:06.637Z"
   },
   {
    "duration": 65,
    "start_time": "2022-05-13T12:46:06.662Z"
   },
   {
    "duration": 20,
    "start_time": "2022-05-13T12:46:06.729Z"
   },
   {
    "duration": 33,
    "start_time": "2022-05-13T12:46:06.751Z"
   },
   {
    "duration": 5,
    "start_time": "2022-05-13T12:46:06.788Z"
   },
   {
    "duration": 36,
    "start_time": "2022-05-13T12:46:06.796Z"
   },
   {
    "duration": 10,
    "start_time": "2022-05-13T12:46:06.838Z"
   },
   {
    "duration": 33,
    "start_time": "2022-05-13T12:46:06.850Z"
   },
   {
    "duration": 23,
    "start_time": "2022-05-13T12:46:06.886Z"
   },
   {
    "duration": 9,
    "start_time": "2022-05-13T12:46:06.912Z"
   },
   {
    "duration": 7,
    "start_time": "2022-05-13T12:46:06.923Z"
   },
   {
    "duration": 10,
    "start_time": "2022-05-13T12:46:06.933Z"
   },
   {
    "duration": 43,
    "start_time": "2022-05-13T12:46:06.946Z"
   },
   {
    "duration": 6,
    "start_time": "2022-05-13T12:46:06.992Z"
   },
   {
    "duration": 11,
    "start_time": "2022-05-13T12:46:07.001Z"
   },
   {
    "duration": 12,
    "start_time": "2022-05-13T12:46:07.015Z"
   },
   {
    "duration": 55,
    "start_time": "2022-05-13T12:46:07.029Z"
   },
   {
    "duration": 20,
    "start_time": "2022-05-13T12:46:07.087Z"
   },
   {
    "duration": 373,
    "start_time": "2022-05-13T12:46:07.110Z"
   },
   {
    "duration": 13,
    "start_time": "2022-05-13T12:46:07.487Z"
   },
   {
    "duration": 10,
    "start_time": "2022-05-13T12:46:07.503Z"
   },
   {
    "duration": 8,
    "start_time": "2022-05-13T12:46:07.516Z"
   },
   {
    "duration": 8,
    "start_time": "2022-05-13T12:46:07.527Z"
   },
   {
    "duration": 9,
    "start_time": "2022-05-13T12:46:07.538Z"
   },
   {
    "duration": 318,
    "start_time": "2022-05-13T12:46:07.591Z"
   },
   {
    "duration": 544,
    "start_time": "2022-05-13T12:46:07.911Z"
   },
   {
    "duration": 21,
    "start_time": "2022-05-13T12:46:08.457Z"
   },
   {
    "duration": 290,
    "start_time": "2022-05-13T12:46:08.482Z"
   },
   {
    "duration": 16,
    "start_time": "2022-05-13T12:46:08.775Z"
   },
   {
    "duration": 11,
    "start_time": "2022-05-13T12:46:08.797Z"
   },
   {
    "duration": 309,
    "start_time": "2022-05-13T12:46:08.811Z"
   },
   {
    "duration": 6,
    "start_time": "2022-05-13T12:46:09.122Z"
   },
   {
    "duration": 25,
    "start_time": "2022-05-13T12:46:09.131Z"
   },
   {
    "duration": 32,
    "start_time": "2022-05-13T12:46:09.159Z"
   },
   {
    "duration": 254,
    "start_time": "2022-05-13T12:46:09.195Z"
   },
   {
    "duration": 6,
    "start_time": "2022-05-13T12:46:09.452Z"
   },
   {
    "duration": 46,
    "start_time": "2022-05-13T12:46:09.461Z"
   },
   {
    "duration": 14,
    "start_time": "2022-05-13T12:46:09.510Z"
   },
   {
    "duration": 262,
    "start_time": "2022-05-13T12:46:09.526Z"
   },
   {
    "duration": 9,
    "start_time": "2022-05-13T12:46:09.792Z"
   },
   {
    "duration": 11,
    "start_time": "2022-05-13T12:46:09.804Z"
   },
   {
    "duration": 182,
    "start_time": "2022-05-13T12:46:09.817Z"
   },
   {
    "duration": 6,
    "start_time": "2022-05-13T12:46:10.002Z"
   },
   {
    "duration": 28,
    "start_time": "2022-05-13T12:46:10.011Z"
   },
   {
    "duration": 50,
    "start_time": "2022-05-13T12:46:10.042Z"
   },
   {
    "duration": 23,
    "start_time": "2022-05-13T12:46:10.095Z"
   },
   {
    "duration": 21,
    "start_time": "2022-05-13T12:46:10.121Z"
   },
   {
    "duration": 60,
    "start_time": "2022-05-13T12:46:10.145Z"
   },
   {
    "duration": 15,
    "start_time": "2022-05-13T12:46:10.208Z"
   },
   {
    "duration": 20,
    "start_time": "2022-05-13T12:46:10.225Z"
   },
   {
    "duration": 60,
    "start_time": "2022-05-13T12:46:10.247Z"
   },
   {
    "duration": 21,
    "start_time": "2022-05-13T12:46:10.309Z"
   },
   {
    "duration": 16,
    "start_time": "2022-05-13T12:46:10.332Z"
   },
   {
    "duration": 25,
    "start_time": "2022-05-13T12:46:10.382Z"
   },
   {
    "duration": 19,
    "start_time": "2022-05-13T12:46:10.409Z"
   },
   {
    "duration": 20,
    "start_time": "2022-05-13T12:46:10.430Z"
   },
   {
    "duration": 6,
    "start_time": "2022-05-13T12:46:10.485Z"
   },
   {
    "duration": 13,
    "start_time": "2022-05-13T12:46:10.495Z"
   },
   {
    "duration": 8,
    "start_time": "2022-05-13T12:46:10.510Z"
   },
   {
    "duration": 8,
    "start_time": "2022-05-13T12:46:10.520Z"
   },
   {
    "duration": 9,
    "start_time": "2022-05-13T12:46:10.530Z"
   },
   {
    "duration": 8,
    "start_time": "2022-05-13T12:46:10.541Z"
   },
   {
    "duration": 7,
    "start_time": "2022-05-13T12:46:10.585Z"
   },
   {
    "duration": 1886,
    "start_time": "2022-05-13T12:59:41.160Z"
   },
   {
    "duration": 4,
    "start_time": "2022-05-13T12:59:43.049Z"
   },
   {
    "duration": 65,
    "start_time": "2022-05-13T12:59:43.055Z"
   },
   {
    "duration": 25,
    "start_time": "2022-05-13T12:59:43.123Z"
   },
   {
    "duration": 47,
    "start_time": "2022-05-13T12:59:43.150Z"
   },
   {
    "duration": 21,
    "start_time": "2022-05-13T12:59:43.200Z"
   },
   {
    "duration": 13,
    "start_time": "2022-05-13T12:59:43.223Z"
   },
   {
    "duration": 5,
    "start_time": "2022-05-13T12:59:43.238Z"
   },
   {
    "duration": 28,
    "start_time": "2022-05-13T12:59:43.246Z"
   },
   {
    "duration": 12,
    "start_time": "2022-05-13T12:59:43.284Z"
   },
   {
    "duration": 12,
    "start_time": "2022-05-13T12:59:43.300Z"
   },
   {
    "duration": 17,
    "start_time": "2022-05-13T12:59:43.315Z"
   },
   {
    "duration": 10,
    "start_time": "2022-05-13T12:59:43.334Z"
   },
   {
    "duration": 9,
    "start_time": "2022-05-13T12:59:43.346Z"
   },
   {
    "duration": 8,
    "start_time": "2022-05-13T12:59:43.357Z"
   },
   {
    "duration": 9,
    "start_time": "2022-05-13T12:59:43.368Z"
   },
   {
    "duration": 196,
    "start_time": "2022-05-13T12:59:43.380Z"
   },
   {
    "duration": 0,
    "start_time": "2022-05-13T12:59:43.580Z"
   },
   {
    "duration": 0,
    "start_time": "2022-05-13T12:59:43.582Z"
   },
   {
    "duration": 0,
    "start_time": "2022-05-13T12:59:43.584Z"
   },
   {
    "duration": 0,
    "start_time": "2022-05-13T12:59:43.587Z"
   },
   {
    "duration": 0,
    "start_time": "2022-05-13T12:59:43.589Z"
   },
   {
    "duration": 0,
    "start_time": "2022-05-13T12:59:43.592Z"
   },
   {
    "duration": 0,
    "start_time": "2022-05-13T12:59:43.594Z"
   },
   {
    "duration": 0,
    "start_time": "2022-05-13T12:59:43.596Z"
   },
   {
    "duration": 0,
    "start_time": "2022-05-13T12:59:43.599Z"
   },
   {
    "duration": 0,
    "start_time": "2022-05-13T12:59:43.601Z"
   },
   {
    "duration": 0,
    "start_time": "2022-05-13T12:59:43.603Z"
   },
   {
    "duration": 0,
    "start_time": "2022-05-13T12:59:43.604Z"
   },
   {
    "duration": 0,
    "start_time": "2022-05-13T12:59:43.606Z"
   },
   {
    "duration": 0,
    "start_time": "2022-05-13T12:59:43.607Z"
   },
   {
    "duration": 0,
    "start_time": "2022-05-13T12:59:43.610Z"
   },
   {
    "duration": 0,
    "start_time": "2022-05-13T12:59:43.611Z"
   },
   {
    "duration": 0,
    "start_time": "2022-05-13T12:59:43.613Z"
   },
   {
    "duration": 0,
    "start_time": "2022-05-13T12:59:43.615Z"
   },
   {
    "duration": 0,
    "start_time": "2022-05-13T12:59:43.616Z"
   },
   {
    "duration": 0,
    "start_time": "2022-05-13T12:59:43.618Z"
   },
   {
    "duration": 0,
    "start_time": "2022-05-13T12:59:43.620Z"
   },
   {
    "duration": 0,
    "start_time": "2022-05-13T12:59:43.622Z"
   },
   {
    "duration": 0,
    "start_time": "2022-05-13T12:59:43.623Z"
   },
   {
    "duration": 0,
    "start_time": "2022-05-13T12:59:43.624Z"
   },
   {
    "duration": 0,
    "start_time": "2022-05-13T12:59:43.625Z"
   },
   {
    "duration": 0,
    "start_time": "2022-05-13T12:59:43.627Z"
   },
   {
    "duration": 0,
    "start_time": "2022-05-13T12:59:43.629Z"
   },
   {
    "duration": 0,
    "start_time": "2022-05-13T12:59:43.631Z"
   },
   {
    "duration": 0,
    "start_time": "2022-05-13T12:59:43.633Z"
   },
   {
    "duration": 0,
    "start_time": "2022-05-13T12:59:43.634Z"
   },
   {
    "duration": 0,
    "start_time": "2022-05-13T12:59:43.636Z"
   },
   {
    "duration": 0,
    "start_time": "2022-05-13T12:59:43.637Z"
   },
   {
    "duration": 0,
    "start_time": "2022-05-13T12:59:43.638Z"
   },
   {
    "duration": 0,
    "start_time": "2022-05-13T12:59:43.640Z"
   },
   {
    "duration": 0,
    "start_time": "2022-05-13T12:59:43.641Z"
   },
   {
    "duration": 0,
    "start_time": "2022-05-13T12:59:43.642Z"
   },
   {
    "duration": 0,
    "start_time": "2022-05-13T12:59:43.644Z"
   },
   {
    "duration": 0,
    "start_time": "2022-05-13T12:59:43.645Z"
   },
   {
    "duration": 0,
    "start_time": "2022-05-13T12:59:43.647Z"
   },
   {
    "duration": 0,
    "start_time": "2022-05-13T12:59:43.648Z"
   },
   {
    "duration": 0,
    "start_time": "2022-05-13T12:59:43.649Z"
   },
   {
    "duration": 0,
    "start_time": "2022-05-13T12:59:43.651Z"
   },
   {
    "duration": 0,
    "start_time": "2022-05-13T12:59:43.652Z"
   },
   {
    "duration": 1,
    "start_time": "2022-05-13T12:59:43.683Z"
   },
   {
    "duration": 0,
    "start_time": "2022-05-13T12:59:43.685Z"
   },
   {
    "duration": 0,
    "start_time": "2022-05-13T12:59:43.688Z"
   },
   {
    "duration": 0,
    "start_time": "2022-05-13T12:59:43.691Z"
   },
   {
    "duration": 0,
    "start_time": "2022-05-13T12:59:43.693Z"
   },
   {
    "duration": 1,
    "start_time": "2022-05-13T12:59:43.700Z"
   },
   {
    "duration": 0,
    "start_time": "2022-05-13T12:59:43.702Z"
   },
   {
    "duration": 1661,
    "start_time": "2022-05-13T13:00:28.969Z"
   },
   {
    "duration": 5,
    "start_time": "2022-05-13T13:00:30.633Z"
   },
   {
    "duration": 167,
    "start_time": "2022-05-13T13:00:30.641Z"
   },
   {
    "duration": 24,
    "start_time": "2022-05-13T13:00:30.811Z"
   },
   {
    "duration": 71,
    "start_time": "2022-05-13T13:00:30.838Z"
   },
   {
    "duration": 20,
    "start_time": "2022-05-13T13:00:30.912Z"
   },
   {
    "duration": 16,
    "start_time": "2022-05-13T13:00:30.934Z"
   },
   {
    "duration": 35,
    "start_time": "2022-05-13T13:00:30.952Z"
   },
   {
    "duration": 38,
    "start_time": "2022-05-13T13:00:30.990Z"
   },
   {
    "duration": 7,
    "start_time": "2022-05-13T13:00:31.032Z"
   },
   {
    "duration": 12,
    "start_time": "2022-05-13T13:00:31.042Z"
   },
   {
    "duration": 29,
    "start_time": "2022-05-13T13:00:31.057Z"
   },
   {
    "duration": 16,
    "start_time": "2022-05-13T13:00:31.091Z"
   },
   {
    "duration": 18,
    "start_time": "2022-05-13T13:00:31.109Z"
   },
   {
    "duration": 22,
    "start_time": "2022-05-13T13:00:31.130Z"
   },
   {
    "duration": 20,
    "start_time": "2022-05-13T13:00:31.154Z"
   },
   {
    "duration": 59,
    "start_time": "2022-05-13T13:00:31.177Z"
   },
   {
    "duration": 6,
    "start_time": "2022-05-13T13:00:31.238Z"
   },
   {
    "duration": 45,
    "start_time": "2022-05-13T13:00:31.246Z"
   },
   {
    "duration": 13,
    "start_time": "2022-05-13T13:00:31.295Z"
   },
   {
    "duration": 37,
    "start_time": "2022-05-13T13:00:31.310Z"
   },
   {
    "duration": 12,
    "start_time": "2022-05-13T13:00:31.350Z"
   },
   {
    "duration": 388,
    "start_time": "2022-05-13T13:00:31.364Z"
   },
   {
    "duration": 7,
    "start_time": "2022-05-13T13:00:31.754Z"
   },
   {
    "duration": 20,
    "start_time": "2022-05-13T13:00:31.764Z"
   },
   {
    "duration": 21,
    "start_time": "2022-05-13T13:00:31.787Z"
   },
   {
    "duration": 9,
    "start_time": "2022-05-13T13:00:31.811Z"
   },
   {
    "duration": 5,
    "start_time": "2022-05-13T13:00:31.830Z"
   },
   {
    "duration": 332,
    "start_time": "2022-05-13T13:00:31.838Z"
   },
   {
    "duration": 536,
    "start_time": "2022-05-13T13:00:32.182Z"
   },
   {
    "duration": 21,
    "start_time": "2022-05-13T13:00:32.721Z"
   },
   {
    "duration": 303,
    "start_time": "2022-05-13T13:00:32.744Z"
   },
   {
    "duration": 9,
    "start_time": "2022-05-13T13:00:33.049Z"
   },
   {
    "duration": 27,
    "start_time": "2022-05-13T13:00:33.060Z"
   },
   {
    "duration": 319,
    "start_time": "2022-05-13T13:00:33.090Z"
   },
   {
    "duration": 6,
    "start_time": "2022-05-13T13:00:33.412Z"
   },
   {
    "duration": 21,
    "start_time": "2022-05-13T13:00:33.421Z"
   },
   {
    "duration": 43,
    "start_time": "2022-05-13T13:00:33.445Z"
   },
   {
    "duration": 251,
    "start_time": "2022-05-13T13:00:33.491Z"
   },
   {
    "duration": 6,
    "start_time": "2022-05-13T13:00:33.744Z"
   },
   {
    "duration": 35,
    "start_time": "2022-05-13T13:00:33.753Z"
   },
   {
    "duration": 19,
    "start_time": "2022-05-13T13:00:33.791Z"
   },
   {
    "duration": 257,
    "start_time": "2022-05-13T13:00:33.812Z"
   },
   {
    "duration": 13,
    "start_time": "2022-05-13T13:00:34.071Z"
   },
   {
    "duration": 17,
    "start_time": "2022-05-13T13:00:34.087Z"
   },
   {
    "duration": 228,
    "start_time": "2022-05-13T13:00:34.106Z"
   },
   {
    "duration": 7,
    "start_time": "2022-05-13T13:00:34.337Z"
   },
   {
    "duration": 49,
    "start_time": "2022-05-13T13:00:34.347Z"
   },
   {
    "duration": 17,
    "start_time": "2022-05-13T13:00:34.398Z"
   },
   {
    "duration": 22,
    "start_time": "2022-05-13T13:00:34.417Z"
   },
   {
    "duration": 58,
    "start_time": "2022-05-13T13:00:34.441Z"
   },
   {
    "duration": 21,
    "start_time": "2022-05-13T13:00:34.502Z"
   },
   {
    "duration": 17,
    "start_time": "2022-05-13T13:00:34.525Z"
   },
   {
    "duration": 57,
    "start_time": "2022-05-13T13:00:34.544Z"
   },
   {
    "duration": 22,
    "start_time": "2022-05-13T13:00:34.604Z"
   },
   {
    "duration": 60,
    "start_time": "2022-05-13T13:00:34.628Z"
   },
   {
    "duration": 21,
    "start_time": "2022-05-13T13:00:34.691Z"
   },
   {
    "duration": 21,
    "start_time": "2022-05-13T13:00:34.714Z"
   },
   {
    "duration": 51,
    "start_time": "2022-05-13T13:00:34.738Z"
   },
   {
    "duration": 26,
    "start_time": "2022-05-13T13:00:34.792Z"
   },
   {
    "duration": 7,
    "start_time": "2022-05-13T13:00:34.820Z"
   },
   {
    "duration": 11,
    "start_time": "2022-05-13T13:00:34.830Z"
   },
   {
    "duration": 5,
    "start_time": "2022-05-13T13:00:34.844Z"
   },
   {
    "duration": 39,
    "start_time": "2022-05-13T13:00:34.852Z"
   },
   {
    "duration": 13,
    "start_time": "2022-05-13T13:00:34.894Z"
   },
   {
    "duration": 8,
    "start_time": "2022-05-13T13:00:34.909Z"
   },
   {
    "duration": 10,
    "start_time": "2022-05-13T13:00:34.919Z"
   },
   {
    "duration": 1804,
    "start_time": "2022-05-13T13:01:53.666Z"
   },
   {
    "duration": 5,
    "start_time": "2022-05-13T13:01:55.473Z"
   },
   {
    "duration": 66,
    "start_time": "2022-05-13T13:01:55.481Z"
   },
   {
    "duration": 24,
    "start_time": "2022-05-13T13:01:55.550Z"
   },
   {
    "duration": 43,
    "start_time": "2022-05-13T13:01:55.582Z"
   },
   {
    "duration": 55,
    "start_time": "2022-05-13T13:01:55.629Z"
   },
   {
    "duration": 20,
    "start_time": "2022-05-13T13:01:55.687Z"
   },
   {
    "duration": 5,
    "start_time": "2022-05-13T13:01:55.709Z"
   },
   {
    "duration": 32,
    "start_time": "2022-05-13T13:01:55.716Z"
   },
   {
    "duration": 14,
    "start_time": "2022-05-13T13:01:55.781Z"
   },
   {
    "duration": 14,
    "start_time": "2022-05-13T13:01:55.797Z"
   },
   {
    "duration": 13,
    "start_time": "2022-05-13T13:01:55.814Z"
   },
   {
    "duration": 8,
    "start_time": "2022-05-13T13:01:55.829Z"
   },
   {
    "duration": 5,
    "start_time": "2022-05-13T13:01:55.840Z"
   },
   {
    "duration": 37,
    "start_time": "2022-05-13T13:01:55.847Z"
   },
   {
    "duration": 16,
    "start_time": "2022-05-13T13:01:55.888Z"
   },
   {
    "duration": 280,
    "start_time": "2022-05-13T13:01:55.907Z"
   },
   {
    "duration": 0,
    "start_time": "2022-05-13T13:01:56.194Z"
   },
   {
    "duration": 0,
    "start_time": "2022-05-13T13:01:56.196Z"
   },
   {
    "duration": 0,
    "start_time": "2022-05-13T13:01:56.198Z"
   },
   {
    "duration": 0,
    "start_time": "2022-05-13T13:01:56.201Z"
   },
   {
    "duration": 0,
    "start_time": "2022-05-13T13:01:56.202Z"
   },
   {
    "duration": 0,
    "start_time": "2022-05-13T13:01:56.204Z"
   },
   {
    "duration": 0,
    "start_time": "2022-05-13T13:01:56.207Z"
   },
   {
    "duration": 0,
    "start_time": "2022-05-13T13:01:56.209Z"
   },
   {
    "duration": 0,
    "start_time": "2022-05-13T13:01:56.210Z"
   },
   {
    "duration": 0,
    "start_time": "2022-05-13T13:01:56.211Z"
   },
   {
    "duration": 0,
    "start_time": "2022-05-13T13:01:56.213Z"
   },
   {
    "duration": 0,
    "start_time": "2022-05-13T13:01:56.215Z"
   },
   {
    "duration": 0,
    "start_time": "2022-05-13T13:01:56.216Z"
   },
   {
    "duration": 0,
    "start_time": "2022-05-13T13:01:56.218Z"
   },
   {
    "duration": 0,
    "start_time": "2022-05-13T13:01:56.219Z"
   },
   {
    "duration": 0,
    "start_time": "2022-05-13T13:01:56.221Z"
   },
   {
    "duration": 0,
    "start_time": "2022-05-13T13:01:56.222Z"
   },
   {
    "duration": 0,
    "start_time": "2022-05-13T13:01:56.224Z"
   },
   {
    "duration": 0,
    "start_time": "2022-05-13T13:01:56.225Z"
   },
   {
    "duration": 0,
    "start_time": "2022-05-13T13:01:56.226Z"
   },
   {
    "duration": 0,
    "start_time": "2022-05-13T13:01:56.228Z"
   },
   {
    "duration": 0,
    "start_time": "2022-05-13T13:01:56.284Z"
   },
   {
    "duration": 0,
    "start_time": "2022-05-13T13:01:56.286Z"
   },
   {
    "duration": 0,
    "start_time": "2022-05-13T13:01:56.287Z"
   },
   {
    "duration": 0,
    "start_time": "2022-05-13T13:01:56.289Z"
   },
   {
    "duration": 0,
    "start_time": "2022-05-13T13:01:56.294Z"
   },
   {
    "duration": 0,
    "start_time": "2022-05-13T13:01:56.296Z"
   },
   {
    "duration": 0,
    "start_time": "2022-05-13T13:01:56.298Z"
   },
   {
    "duration": 0,
    "start_time": "2022-05-13T13:01:56.300Z"
   },
   {
    "duration": 0,
    "start_time": "2022-05-13T13:01:56.303Z"
   },
   {
    "duration": 0,
    "start_time": "2022-05-13T13:01:56.305Z"
   },
   {
    "duration": 0,
    "start_time": "2022-05-13T13:01:56.307Z"
   },
   {
    "duration": 0,
    "start_time": "2022-05-13T13:01:56.322Z"
   },
   {
    "duration": 0,
    "start_time": "2022-05-13T13:01:56.325Z"
   },
   {
    "duration": 0,
    "start_time": "2022-05-13T13:01:56.327Z"
   },
   {
    "duration": 0,
    "start_time": "2022-05-13T13:01:56.329Z"
   },
   {
    "duration": 0,
    "start_time": "2022-05-13T13:01:56.382Z"
   },
   {
    "duration": 0,
    "start_time": "2022-05-13T13:01:56.383Z"
   },
   {
    "duration": 0,
    "start_time": "2022-05-13T13:01:56.386Z"
   },
   {
    "duration": 0,
    "start_time": "2022-05-13T13:01:56.388Z"
   },
   {
    "duration": 0,
    "start_time": "2022-05-13T13:01:56.390Z"
   },
   {
    "duration": 0,
    "start_time": "2022-05-13T13:01:56.394Z"
   },
   {
    "duration": 0,
    "start_time": "2022-05-13T13:01:56.396Z"
   },
   {
    "duration": 0,
    "start_time": "2022-05-13T13:01:56.399Z"
   },
   {
    "duration": 0,
    "start_time": "2022-05-13T13:01:56.402Z"
   },
   {
    "duration": 0,
    "start_time": "2022-05-13T13:01:56.404Z"
   },
   {
    "duration": 0,
    "start_time": "2022-05-13T13:01:56.406Z"
   },
   {
    "duration": 0,
    "start_time": "2022-05-13T13:01:56.408Z"
   },
   {
    "duration": 0,
    "start_time": "2022-05-13T13:01:56.410Z"
   },
   {
    "duration": 0,
    "start_time": "2022-05-13T13:01:56.413Z"
   },
   {
    "duration": 1765,
    "start_time": "2022-05-13T13:03:16.096Z"
   },
   {
    "duration": 4,
    "start_time": "2022-05-13T13:03:17.864Z"
   },
   {
    "duration": 62,
    "start_time": "2022-05-13T13:03:17.870Z"
   },
   {
    "duration": 22,
    "start_time": "2022-05-13T13:03:17.935Z"
   },
   {
    "duration": 65,
    "start_time": "2022-05-13T13:03:17.960Z"
   },
   {
    "duration": 25,
    "start_time": "2022-05-13T13:03:18.028Z"
   },
   {
    "duration": 47,
    "start_time": "2022-05-13T13:03:18.056Z"
   },
   {
    "duration": 7,
    "start_time": "2022-05-13T13:03:18.106Z"
   },
   {
    "duration": 22,
    "start_time": "2022-05-13T13:03:18.116Z"
   },
   {
    "duration": 8,
    "start_time": "2022-05-13T13:03:18.141Z"
   },
   {
    "duration": 37,
    "start_time": "2022-05-13T13:03:18.151Z"
   },
   {
    "duration": 22,
    "start_time": "2022-05-13T13:03:18.191Z"
   },
   {
    "duration": 8,
    "start_time": "2022-05-13T13:03:18.216Z"
   },
   {
    "duration": 6,
    "start_time": "2022-05-13T13:03:18.228Z"
   },
   {
    "duration": 20,
    "start_time": "2022-05-13T13:03:18.236Z"
   },
   {
    "duration": 40,
    "start_time": "2022-05-13T13:03:18.258Z"
   },
   {
    "duration": 210,
    "start_time": "2022-05-13T13:03:18.301Z"
   },
   {
    "duration": 0,
    "start_time": "2022-05-13T13:03:18.515Z"
   },
   {
    "duration": 0,
    "start_time": "2022-05-13T13:03:18.516Z"
   },
   {
    "duration": 0,
    "start_time": "2022-05-13T13:03:18.518Z"
   },
   {
    "duration": 0,
    "start_time": "2022-05-13T13:03:18.519Z"
   },
   {
    "duration": 0,
    "start_time": "2022-05-13T13:03:18.521Z"
   },
   {
    "duration": 0,
    "start_time": "2022-05-13T13:03:18.522Z"
   },
   {
    "duration": 0,
    "start_time": "2022-05-13T13:03:18.524Z"
   },
   {
    "duration": 0,
    "start_time": "2022-05-13T13:03:18.526Z"
   },
   {
    "duration": 0,
    "start_time": "2022-05-13T13:03:18.528Z"
   },
   {
    "duration": 1,
    "start_time": "2022-05-13T13:03:18.529Z"
   },
   {
    "duration": 0,
    "start_time": "2022-05-13T13:03:18.531Z"
   },
   {
    "duration": 0,
    "start_time": "2022-05-13T13:03:18.532Z"
   },
   {
    "duration": 0,
    "start_time": "2022-05-13T13:03:18.534Z"
   },
   {
    "duration": 0,
    "start_time": "2022-05-13T13:03:18.535Z"
   },
   {
    "duration": 0,
    "start_time": "2022-05-13T13:03:18.536Z"
   },
   {
    "duration": 0,
    "start_time": "2022-05-13T13:03:18.538Z"
   },
   {
    "duration": 0,
    "start_time": "2022-05-13T13:03:18.539Z"
   },
   {
    "duration": 0,
    "start_time": "2022-05-13T13:03:18.541Z"
   },
   {
    "duration": 0,
    "start_time": "2022-05-13T13:03:18.543Z"
   },
   {
    "duration": 0,
    "start_time": "2022-05-13T13:03:18.544Z"
   },
   {
    "duration": 0,
    "start_time": "2022-05-13T13:03:18.545Z"
   },
   {
    "duration": 0,
    "start_time": "2022-05-13T13:03:18.547Z"
   },
   {
    "duration": 0,
    "start_time": "2022-05-13T13:03:18.548Z"
   },
   {
    "duration": 0,
    "start_time": "2022-05-13T13:03:18.550Z"
   },
   {
    "duration": 0,
    "start_time": "2022-05-13T13:03:18.551Z"
   },
   {
    "duration": 0,
    "start_time": "2022-05-13T13:03:18.552Z"
   },
   {
    "duration": 0,
    "start_time": "2022-05-13T13:03:18.589Z"
   },
   {
    "duration": 0,
    "start_time": "2022-05-13T13:03:18.592Z"
   },
   {
    "duration": 0,
    "start_time": "2022-05-13T13:03:18.594Z"
   },
   {
    "duration": 0,
    "start_time": "2022-05-13T13:03:18.598Z"
   },
   {
    "duration": 0,
    "start_time": "2022-05-13T13:03:18.599Z"
   },
   {
    "duration": 0,
    "start_time": "2022-05-13T13:03:18.601Z"
   },
   {
    "duration": 0,
    "start_time": "2022-05-13T13:03:18.603Z"
   },
   {
    "duration": 0,
    "start_time": "2022-05-13T13:03:18.605Z"
   },
   {
    "duration": 0,
    "start_time": "2022-05-13T13:03:18.606Z"
   },
   {
    "duration": 0,
    "start_time": "2022-05-13T13:03:18.608Z"
   },
   {
    "duration": 0,
    "start_time": "2022-05-13T13:03:18.610Z"
   },
   {
    "duration": 0,
    "start_time": "2022-05-13T13:03:18.611Z"
   },
   {
    "duration": 0,
    "start_time": "2022-05-13T13:03:18.612Z"
   },
   {
    "duration": 0,
    "start_time": "2022-05-13T13:03:18.614Z"
   },
   {
    "duration": 0,
    "start_time": "2022-05-13T13:03:18.615Z"
   },
   {
    "duration": 0,
    "start_time": "2022-05-13T13:03:18.617Z"
   },
   {
    "duration": 0,
    "start_time": "2022-05-13T13:03:18.620Z"
   },
   {
    "duration": 0,
    "start_time": "2022-05-13T13:03:18.622Z"
   },
   {
    "duration": 0,
    "start_time": "2022-05-13T13:03:18.623Z"
   },
   {
    "duration": 0,
    "start_time": "2022-05-13T13:03:18.625Z"
   },
   {
    "duration": 0,
    "start_time": "2022-05-13T13:03:18.626Z"
   },
   {
    "duration": 0,
    "start_time": "2022-05-13T13:03:18.628Z"
   },
   {
    "duration": 0,
    "start_time": "2022-05-13T13:03:18.685Z"
   },
   {
    "duration": 0,
    "start_time": "2022-05-13T13:03:18.687Z"
   },
   {
    "duration": 14,
    "start_time": "2022-05-13T13:03:28.910Z"
   },
   {
    "duration": 14,
    "start_time": "2022-05-13T13:04:21.282Z"
   },
   {
    "duration": 18,
    "start_time": "2022-05-13T13:04:34.145Z"
   },
   {
    "duration": 16,
    "start_time": "2022-05-13T13:04:58.599Z"
   },
   {
    "duration": 16,
    "start_time": "2022-05-13T13:05:05.144Z"
   },
   {
    "duration": 12,
    "start_time": "2022-05-13T13:05:42.948Z"
   },
   {
    "duration": 3462,
    "start_time": "2022-05-13T13:06:12.859Z"
   },
   {
    "duration": 3153,
    "start_time": "2022-05-13T13:06:39.447Z"
   },
   {
    "duration": 17,
    "start_time": "2022-05-13T13:07:24.900Z"
   },
   {
    "duration": 14,
    "start_time": "2022-05-13T13:07:34.765Z"
   },
   {
    "duration": 28,
    "start_time": "2022-05-13T13:07:48.564Z"
   },
   {
    "duration": 11,
    "start_time": "2022-05-13T13:09:35.617Z"
   },
   {
    "duration": 4137,
    "start_time": "2022-05-13T13:09:49.858Z"
   },
   {
    "duration": 14,
    "start_time": "2022-05-13T13:10:23.033Z"
   },
   {
    "duration": 13,
    "start_time": "2022-05-13T13:10:41.008Z"
   },
   {
    "duration": 29,
    "start_time": "2022-05-13T13:10:53.937Z"
   },
   {
    "duration": 17,
    "start_time": "2022-05-13T13:11:18.275Z"
   },
   {
    "duration": 18,
    "start_time": "2022-05-13T13:11:44.089Z"
   },
   {
    "duration": 3050,
    "start_time": "2022-05-13T13:12:34.196Z"
   },
   {
    "duration": 2746,
    "start_time": "2022-05-13T13:13:04.796Z"
   },
   {
    "duration": 2091,
    "start_time": "2022-05-13T13:13:46.820Z"
   },
   {
    "duration": 5,
    "start_time": "2022-05-13T13:13:48.914Z"
   },
   {
    "duration": 78,
    "start_time": "2022-05-13T13:13:48.922Z"
   },
   {
    "duration": 24,
    "start_time": "2022-05-13T13:13:49.004Z"
   },
   {
    "duration": 69,
    "start_time": "2022-05-13T13:13:49.031Z"
   },
   {
    "duration": 30,
    "start_time": "2022-05-13T13:13:49.106Z"
   },
   {
    "duration": 19,
    "start_time": "2022-05-13T13:13:49.138Z"
   },
   {
    "duration": 27,
    "start_time": "2022-05-13T13:13:49.159Z"
   },
   {
    "duration": 34,
    "start_time": "2022-05-13T13:13:49.189Z"
   },
   {
    "duration": 9,
    "start_time": "2022-05-13T13:13:49.229Z"
   },
   {
    "duration": 6,
    "start_time": "2022-05-13T13:13:49.241Z"
   },
   {
    "duration": 40,
    "start_time": "2022-05-13T13:13:49.249Z"
   },
   {
    "duration": 21,
    "start_time": "2022-05-13T13:13:49.292Z"
   },
   {
    "duration": 8,
    "start_time": "2022-05-13T13:13:49.316Z"
   },
   {
    "duration": 10,
    "start_time": "2022-05-13T13:13:49.326Z"
   },
   {
    "duration": 17,
    "start_time": "2022-05-13T13:13:49.338Z"
   },
   {
    "duration": 24,
    "start_time": "2022-05-13T13:13:49.358Z"
   },
   {
    "duration": 14,
    "start_time": "2022-05-13T13:13:49.386Z"
   },
   {
    "duration": 18,
    "start_time": "2022-05-13T13:13:49.402Z"
   },
   {
    "duration": 37,
    "start_time": "2022-05-13T13:13:49.423Z"
   },
   {
    "duration": 19,
    "start_time": "2022-05-13T13:13:49.486Z"
   },
   {
    "duration": 510,
    "start_time": "2022-05-13T13:13:49.508Z"
   },
   {
    "duration": 8,
    "start_time": "2022-05-13T13:13:50.021Z"
   },
   {
    "duration": 13,
    "start_time": "2022-05-13T13:13:50.032Z"
   },
   {
    "duration": 8,
    "start_time": "2022-05-13T13:13:50.048Z"
   },
   {
    "duration": 33,
    "start_time": "2022-05-13T13:13:50.059Z"
   },
   {
    "duration": 18,
    "start_time": "2022-05-13T13:13:50.095Z"
   },
   {
    "duration": 446,
    "start_time": "2022-05-13T13:13:50.122Z"
   },
   {
    "duration": 660,
    "start_time": "2022-05-13T13:13:50.571Z"
   },
   {
    "duration": 31,
    "start_time": "2022-05-13T13:13:51.234Z"
   },
   {
    "duration": 399,
    "start_time": "2022-05-13T13:13:51.268Z"
   },
   {
    "duration": 20,
    "start_time": "2022-05-13T13:13:51.671Z"
   },
   {
    "duration": 23,
    "start_time": "2022-05-13T13:13:51.695Z"
   },
   {
    "duration": 317,
    "start_time": "2022-05-13T13:13:51.721Z"
   },
   {
    "duration": 6,
    "start_time": "2022-05-13T13:13:52.041Z"
   },
   {
    "duration": 118,
    "start_time": "2022-05-13T13:13:52.050Z"
   },
   {
    "duration": 36,
    "start_time": "2022-05-13T13:13:52.171Z"
   },
   {
    "duration": 325,
    "start_time": "2022-05-13T13:13:52.209Z"
   },
   {
    "duration": 8,
    "start_time": "2022-05-13T13:13:52.537Z"
   },
   {
    "duration": 49,
    "start_time": "2022-05-13T13:13:52.548Z"
   },
   {
    "duration": 15,
    "start_time": "2022-05-13T13:13:52.602Z"
   },
   {
    "duration": 264,
    "start_time": "2022-05-13T13:13:52.620Z"
   },
   {
    "duration": 10,
    "start_time": "2022-05-13T13:13:52.887Z"
   },
   {
    "duration": 12,
    "start_time": "2022-05-13T13:13:52.903Z"
   },
   {
    "duration": 244,
    "start_time": "2022-05-13T13:13:52.918Z"
   },
   {
    "duration": 7,
    "start_time": "2022-05-13T13:13:53.165Z"
   },
   {
    "duration": 27,
    "start_time": "2022-05-13T13:13:53.185Z"
   },
   {
    "duration": 20,
    "start_time": "2022-05-13T13:13:53.214Z"
   },
   {
    "duration": 51,
    "start_time": "2022-05-13T13:13:53.237Z"
   },
   {
    "duration": 34,
    "start_time": "2022-05-13T13:13:53.291Z"
   },
   {
    "duration": 20,
    "start_time": "2022-05-13T13:13:53.327Z"
   },
   {
    "duration": 46,
    "start_time": "2022-05-13T13:13:53.349Z"
   },
   {
    "duration": 21,
    "start_time": "2022-05-13T13:13:53.399Z"
   },
   {
    "duration": 24,
    "start_time": "2022-05-13T13:13:53.423Z"
   },
   {
    "duration": 56,
    "start_time": "2022-05-13T13:13:53.449Z"
   },
   {
    "duration": 16,
    "start_time": "2022-05-13T13:13:53.509Z"
   },
   {
    "duration": 20,
    "start_time": "2022-05-13T13:13:53.528Z"
   },
   {
    "duration": 34,
    "start_time": "2022-05-13T13:13:53.583Z"
   },
   {
    "duration": 24,
    "start_time": "2022-05-13T13:13:53.619Z"
   },
   {
    "duration": 5,
    "start_time": "2022-05-13T13:13:53.646Z"
   },
   {
    "duration": 36,
    "start_time": "2022-05-13T13:13:53.653Z"
   },
   {
    "duration": 17,
    "start_time": "2022-05-13T13:13:53.691Z"
   },
   {
    "duration": 7,
    "start_time": "2022-05-13T13:13:53.711Z"
   },
   {
    "duration": 13,
    "start_time": "2022-05-13T13:13:53.721Z"
   },
   {
    "duration": 7,
    "start_time": "2022-05-13T13:13:53.737Z"
   },
   {
    "duration": 9,
    "start_time": "2022-05-13T13:13:53.747Z"
   },
   {
    "duration": 1253,
    "start_time": "2022-05-13T16:27:26.735Z"
   },
   {
    "duration": 3,
    "start_time": "2022-05-13T16:27:28.495Z"
   },
   {
    "duration": 44,
    "start_time": "2022-05-13T16:27:28.895Z"
   },
   {
    "duration": 17,
    "start_time": "2022-05-13T16:27:29.271Z"
   },
   {
    "duration": 31,
    "start_time": "2022-05-13T16:27:29.487Z"
   },
   {
    "duration": 17,
    "start_time": "2022-05-13T16:27:29.695Z"
   },
   {
    "duration": 9,
    "start_time": "2022-05-13T16:27:29.904Z"
   },
   {
    "duration": 3,
    "start_time": "2022-05-13T16:27:31.248Z"
   },
   {
    "duration": 16,
    "start_time": "2022-05-13T16:27:33.407Z"
   },
   {
    "duration": 7,
    "start_time": "2022-05-13T16:27:33.855Z"
   },
   {
    "duration": 4,
    "start_time": "2022-05-13T16:27:34.256Z"
   },
   {
    "duration": 8,
    "start_time": "2022-05-13T16:27:34.495Z"
   },
   {
    "duration": 5,
    "start_time": "2022-05-13T16:27:36.808Z"
   },
   {
    "duration": 9,
    "start_time": "2022-05-13T16:28:00.668Z"
   },
   {
    "duration": 1807,
    "start_time": "2022-05-15T14:12:53.871Z"
   },
   {
    "duration": 5,
    "start_time": "2022-05-15T14:12:55.681Z"
   },
   {
    "duration": 69,
    "start_time": "2022-05-15T14:12:55.689Z"
   },
   {
    "duration": 24,
    "start_time": "2022-05-15T14:12:55.762Z"
   },
   {
    "duration": 58,
    "start_time": "2022-05-15T14:12:55.789Z"
   },
   {
    "duration": 22,
    "start_time": "2022-05-15T14:12:55.849Z"
   },
   {
    "duration": 13,
    "start_time": "2022-05-15T14:12:55.873Z"
   },
   {
    "duration": 36,
    "start_time": "2022-05-15T14:12:55.889Z"
   },
   {
    "duration": 25,
    "start_time": "2022-05-15T14:12:55.927Z"
   },
   {
    "duration": 9,
    "start_time": "2022-05-15T14:12:55.958Z"
   },
   {
    "duration": 5,
    "start_time": "2022-05-15T14:12:55.969Z"
   },
   {
    "duration": 18,
    "start_time": "2022-05-15T14:12:55.977Z"
   },
   {
    "duration": 34,
    "start_time": "2022-05-15T14:12:55.998Z"
   },
   {
    "duration": 16,
    "start_time": "2022-05-15T14:12:56.034Z"
   },
   {
    "duration": 11,
    "start_time": "2022-05-15T14:12:56.053Z"
   },
   {
    "duration": 9,
    "start_time": "2022-05-15T14:12:56.066Z"
   },
   {
    "duration": 18,
    "start_time": "2022-05-15T14:12:56.077Z"
   },
   {
    "duration": 29,
    "start_time": "2022-05-15T14:12:56.097Z"
   },
   {
    "duration": 7,
    "start_time": "2022-05-15T14:12:56.129Z"
   },
   {
    "duration": 8,
    "start_time": "2022-05-15T14:12:56.139Z"
   },
   {
    "duration": 35,
    "start_time": "2022-05-15T14:12:56.149Z"
   },
   {
    "duration": 46,
    "start_time": "2022-05-15T14:12:56.186Z"
   },
   {
    "duration": 356,
    "start_time": "2022-05-15T14:12:56.234Z"
   },
   {
    "duration": 8,
    "start_time": "2022-05-15T14:12:56.592Z"
   },
   {
    "duration": 27,
    "start_time": "2022-05-15T14:12:56.602Z"
   },
   {
    "duration": 14,
    "start_time": "2022-05-15T14:12:56.632Z"
   },
   {
    "duration": 9,
    "start_time": "2022-05-15T14:12:56.648Z"
   },
   {
    "duration": 6,
    "start_time": "2022-05-15T14:12:56.662Z"
   },
   {
    "duration": 309,
    "start_time": "2022-05-15T14:12:56.670Z"
   },
   {
    "duration": 516,
    "start_time": "2022-05-15T14:12:56.981Z"
   },
   {
    "duration": 22,
    "start_time": "2022-05-15T14:12:57.500Z"
   },
   {
    "duration": 294,
    "start_time": "2022-05-15T14:12:57.525Z"
   },
   {
    "duration": 11,
    "start_time": "2022-05-15T14:12:57.825Z"
   },
   {
    "duration": 16,
    "start_time": "2022-05-15T14:12:57.838Z"
   },
   {
    "duration": 480,
    "start_time": "2022-05-15T14:12:57.857Z"
   },
   {
    "duration": 7,
    "start_time": "2022-05-15T14:12:58.340Z"
   },
   {
    "duration": 24,
    "start_time": "2022-05-15T14:12:58.350Z"
   },
   {
    "duration": 22,
    "start_time": "2022-05-15T14:12:58.377Z"
   },
   {
    "duration": 236,
    "start_time": "2022-05-15T14:12:58.425Z"
   },
   {
    "duration": 7,
    "start_time": "2022-05-15T14:12:58.664Z"
   },
   {
    "duration": 25,
    "start_time": "2022-05-15T14:12:58.674Z"
   },
   {
    "duration": 33,
    "start_time": "2022-05-15T14:12:58.702Z"
   },
   {
    "duration": 341,
    "start_time": "2022-05-15T14:12:58.738Z"
   },
   {
    "duration": 8,
    "start_time": "2022-05-15T14:12:59.082Z"
   },
   {
    "duration": 33,
    "start_time": "2022-05-15T14:12:59.093Z"
   },
   {
    "duration": 73,
    "start_time": "2022-05-15T14:12:59.129Z"
   },
   {
    "duration": 19,
    "start_time": "2022-05-15T14:12:59.205Z"
   },
   {
    "duration": 22,
    "start_time": "2022-05-15T14:12:59.227Z"
   },
   {
    "duration": 18,
    "start_time": "2022-05-15T14:12:59.252Z"
   },
   {
    "duration": 58,
    "start_time": "2022-05-15T14:12:59.273Z"
   },
   {
    "duration": 29,
    "start_time": "2022-05-15T14:12:59.333Z"
   },
   {
    "duration": 26,
    "start_time": "2022-05-15T14:12:59.364Z"
   },
   {
    "duration": 37,
    "start_time": "2022-05-15T14:12:59.392Z"
   },
   {
    "duration": 23,
    "start_time": "2022-05-15T14:12:59.432Z"
   },
   {
    "duration": 21,
    "start_time": "2022-05-15T14:12:59.457Z"
   },
   {
    "duration": 46,
    "start_time": "2022-05-15T14:12:59.480Z"
   },
   {
    "duration": 17,
    "start_time": "2022-05-15T14:12:59.528Z"
   },
   {
    "duration": 22,
    "start_time": "2022-05-15T14:12:59.547Z"
   },
   {
    "duration": 20,
    "start_time": "2022-05-15T14:12:59.571Z"
   },
   {
    "duration": 22,
    "start_time": "2022-05-15T14:12:59.624Z"
   },
   {
    "duration": 4,
    "start_time": "2022-05-15T14:12:59.648Z"
   },
   {
    "duration": 11,
    "start_time": "2022-05-15T14:12:59.655Z"
   },
   {
    "duration": 12,
    "start_time": "2022-05-15T14:12:59.668Z"
   },
   {
    "duration": 43,
    "start_time": "2022-05-15T14:12:59.683Z"
   },
   {
    "duration": 14,
    "start_time": "2022-05-15T14:12:59.729Z"
   },
   {
    "duration": 10,
    "start_time": "2022-05-15T14:12:59.745Z"
   },
   {
    "duration": 14,
    "start_time": "2022-05-15T14:12:59.758Z"
   },
   {
    "duration": 544,
    "start_time": "2022-05-15T14:13:26.994Z"
   },
   {
    "duration": 294,
    "start_time": "2022-05-15T14:15:41.152Z"
   },
   {
    "duration": 8,
    "start_time": "2022-05-15T14:20:25.233Z"
   },
   {
    "duration": 251,
    "start_time": "2022-05-15T14:20:26.345Z"
   },
   {
    "duration": 8,
    "start_time": "2022-05-15T14:20:42.453Z"
   },
   {
    "duration": 272,
    "start_time": "2022-05-15T14:20:42.969Z"
   },
   {
    "duration": 8,
    "start_time": "2022-05-15T14:20:52.254Z"
   },
   {
    "duration": 259,
    "start_time": "2022-05-15T14:20:52.881Z"
   },
   {
    "duration": 270,
    "start_time": "2022-05-15T14:23:00.854Z"
   },
   {
    "duration": 280,
    "start_time": "2022-05-15T14:23:14.505Z"
   },
   {
    "duration": 1538,
    "start_time": "2022-05-15T14:25:51.830Z"
   },
   {
    "duration": 5,
    "start_time": "2022-05-15T14:25:53.371Z"
   },
   {
    "duration": 66,
    "start_time": "2022-05-15T14:25:53.379Z"
   },
   {
    "duration": 23,
    "start_time": "2022-05-15T14:25:53.448Z"
   },
   {
    "duration": 59,
    "start_time": "2022-05-15T14:25:53.474Z"
   },
   {
    "duration": 21,
    "start_time": "2022-05-15T14:25:53.535Z"
   },
   {
    "duration": 12,
    "start_time": "2022-05-15T14:25:53.558Z"
   },
   {
    "duration": 4,
    "start_time": "2022-05-15T14:25:53.573Z"
   },
   {
    "duration": 54,
    "start_time": "2022-05-15T14:25:53.579Z"
   },
   {
    "duration": 8,
    "start_time": "2022-05-15T14:25:53.635Z"
   },
   {
    "duration": 80,
    "start_time": "2022-05-15T14:25:53.646Z"
   },
   {
    "duration": 30,
    "start_time": "2022-05-15T14:25:53.729Z"
   },
   {
    "duration": 29,
    "start_time": "2022-05-15T14:25:53.761Z"
   },
   {
    "duration": 18,
    "start_time": "2022-05-15T14:25:53.794Z"
   },
   {
    "duration": 10,
    "start_time": "2022-05-15T14:25:53.814Z"
   },
   {
    "duration": 10,
    "start_time": "2022-05-15T14:25:53.826Z"
   },
   {
    "duration": 17,
    "start_time": "2022-05-15T14:25:53.838Z"
   },
   {
    "duration": 8,
    "start_time": "2022-05-15T14:25:53.857Z"
   },
   {
    "duration": 11,
    "start_time": "2022-05-15T14:25:53.867Z"
   },
   {
    "duration": 16,
    "start_time": "2022-05-15T14:25:53.880Z"
   },
   {
    "duration": 41,
    "start_time": "2022-05-15T14:25:53.899Z"
   },
   {
    "duration": 13,
    "start_time": "2022-05-15T14:25:53.942Z"
   },
   {
    "duration": 351,
    "start_time": "2022-05-15T14:25:53.957Z"
   },
   {
    "duration": 18,
    "start_time": "2022-05-15T14:25:54.311Z"
   },
   {
    "duration": 15,
    "start_time": "2022-05-15T14:25:54.332Z"
   },
   {
    "duration": 14,
    "start_time": "2022-05-15T14:25:54.350Z"
   },
   {
    "duration": 8,
    "start_time": "2022-05-15T14:25:54.367Z"
   },
   {
    "duration": 12,
    "start_time": "2022-05-15T14:25:54.378Z"
   },
   {
    "duration": 305,
    "start_time": "2022-05-15T14:25:54.393Z"
   },
   {
    "duration": 504,
    "start_time": "2022-05-15T14:25:54.701Z"
   },
   {
    "duration": 22,
    "start_time": "2022-05-15T14:25:55.207Z"
   },
   {
    "duration": 280,
    "start_time": "2022-05-15T14:25:55.231Z"
   },
   {
    "duration": 18,
    "start_time": "2022-05-15T14:25:55.513Z"
   },
   {
    "duration": 396,
    "start_time": "2022-05-15T14:25:55.533Z"
   },
   {
    "duration": 8,
    "start_time": "2022-05-15T14:25:55.931Z"
   },
   {
    "duration": 291,
    "start_time": "2022-05-15T14:25:55.941Z"
   },
   {
    "duration": 5,
    "start_time": "2022-05-15T14:25:56.235Z"
   },
   {
    "duration": 39,
    "start_time": "2022-05-15T14:25:56.242Z"
   },
   {
    "duration": 20,
    "start_time": "2022-05-15T14:25:56.283Z"
   },
   {
    "duration": 232,
    "start_time": "2022-05-15T14:25:56.305Z"
   },
   {
    "duration": 7,
    "start_time": "2022-05-15T14:25:56.543Z"
   },
   {
    "duration": 28,
    "start_time": "2022-05-15T14:25:56.552Z"
   },
   {
    "duration": 25,
    "start_time": "2022-05-15T14:25:56.582Z"
   },
   {
    "duration": 331,
    "start_time": "2022-05-15T14:25:56.609Z"
   },
   {
    "duration": 7,
    "start_time": "2022-05-15T14:25:56.942Z"
   },
   {
    "duration": 14,
    "start_time": "2022-05-15T14:25:56.951Z"
   },
   {
    "duration": 81,
    "start_time": "2022-05-15T14:25:56.967Z"
   },
   {
    "duration": 5,
    "start_time": "2022-05-15T14:25:57.050Z"
   },
   {
    "duration": 25,
    "start_time": "2022-05-15T14:25:57.057Z"
   },
   {
    "duration": 43,
    "start_time": "2022-05-15T14:25:57.084Z"
   },
   {
    "duration": 21,
    "start_time": "2022-05-15T14:25:57.129Z"
   },
   {
    "duration": 22,
    "start_time": "2022-05-15T14:25:57.154Z"
   },
   {
    "duration": 58,
    "start_time": "2022-05-15T14:25:57.179Z"
   },
   {
    "duration": 18,
    "start_time": "2022-05-15T14:25:57.240Z"
   },
   {
    "duration": 22,
    "start_time": "2022-05-15T14:25:57.261Z"
   },
   {
    "duration": 56,
    "start_time": "2022-05-15T14:25:57.286Z"
   },
   {
    "duration": 21,
    "start_time": "2022-05-15T14:25:57.345Z"
   },
   {
    "duration": 17,
    "start_time": "2022-05-15T14:25:57.369Z"
   },
   {
    "duration": 21,
    "start_time": "2022-05-15T14:25:57.426Z"
   },
   {
    "duration": 21,
    "start_time": "2022-05-15T14:25:57.450Z"
   },
   {
    "duration": 61,
    "start_time": "2022-05-15T14:25:57.474Z"
   },
   {
    "duration": 4,
    "start_time": "2022-05-15T14:25:57.537Z"
   },
   {
    "duration": 28,
    "start_time": "2022-05-15T14:25:57.543Z"
   },
   {
    "duration": 10,
    "start_time": "2022-05-15T14:25:57.573Z"
   },
   {
    "duration": 47,
    "start_time": "2022-05-15T14:25:57.586Z"
   },
   {
    "duration": 12,
    "start_time": "2022-05-15T14:25:57.635Z"
   },
   {
    "duration": 17,
    "start_time": "2022-05-15T14:25:57.650Z"
   },
   {
    "duration": 18,
    "start_time": "2022-05-15T14:25:57.669Z"
   }
  ],
  "kernelspec": {
   "display_name": "Python 3 (ipykernel)",
   "language": "python",
   "name": "python3"
  },
  "language_info": {
   "codemirror_mode": {
    "name": "ipython",
    "version": 3
   },
   "file_extension": ".py",
   "mimetype": "text/x-python",
   "name": "python",
   "nbconvert_exporter": "python",
   "pygments_lexer": "ipython3",
   "version": "3.7.8"
  },
  "toc": {
   "base_numbering": 1,
   "nav_menu": {
    "height": "159px",
    "width": "343px"
   },
   "number_sections": true,
   "sideBar": true,
   "skip_h1_title": true,
   "title_cell": "Table of Contents",
   "title_sidebar": "Contents",
   "toc_cell": false,
   "toc_position": {},
   "toc_section_display": true,
   "toc_window_display": false
  }
 },
 "nbformat": 4,
 "nbformat_minor": 5
}
