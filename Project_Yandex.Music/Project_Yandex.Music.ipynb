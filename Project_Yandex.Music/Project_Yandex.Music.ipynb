{
 "cells": [
  {
   "cell_type": "markdown",
   "metadata": {
    "id": "E0vqbgi9ay0H"
   },
   "source": [
    "# Yandex.Music"
   ]
  },
  {
   "cell_type": "markdown",
   "metadata": {
    "id": "VUC88oWjTJw2"
   },
   "source": [
    "Comparison of Moscow and St. Petersburg is surrounded by myths. For example:\n",
    " * Moscow is a metropolis subject to the rigid rhythm of the working week;\n",
    " * St. Petersburg is a cultural capital, with its own tastes.\n",
    "\n",
    "Using Yandex.Music data, you will compare the behavior of users in the two capitals.\n",
    "\n",
    "**Research Purpose** - Test three hypotheses:\n",
    "1. User activity depends on the day of the week. Moreover, in Moscow and St. Petersburg this manifests itself in different ways.\n",
    "2. On Monday morning, certain genres prevail in Moscow, while others prevail in St. Petersburg. Similarly, Friday evenings are dominated by different genres, depending on the city.\n",
    "3. Moscow and St. Petersburg prefer different genres of music. In Moscow, they listen to pop music more often, in St. Petersburg - Russian rap.\n",
    "\n",
    "**Research Progress**\n",
    "\n",
    "You will receive data on user behavior from the `yandex_music_project.csv` file. Nothing is known about the quality of the data. Therefore, before testing hypotheses, a review of the data is required.\n",
    "\n",
    "You will check the data for errors and assess their impact on the study. Then, during the pre-processing phase, you will look for opportunities to correct the most critical data errors.\n",
    " \n",
    "Thus, the study will take place in three stages:\n",
    " 1. Data review.\n",
    " 2. Data preprocessing.\n",
    " 3. Hypothesis testing."
   ]
  },
  {
   "cell_type": "markdown",
   "metadata": {
    "id": "Ml1hmfXC_Zcs"
   },
   "source": [
    "## Data overview"
   ]
  },
  {
   "cell_type": "code",
   "execution_count": 1,
   "metadata": {
    "id": "AXN7PHPN_Zcs"
   },
   "outputs": [],
   "source": [
    "import pandas as pd"
   ]
  },
  {
   "cell_type": "code",
   "execution_count": 2,
   "metadata": {
    "id": "fFVu7vqh_Zct"
   },
   "outputs": [],
   "source": [
    "df = pd.read_csv('yandex_music_project.csv')"
   ]
  },
  {
   "cell_type": "code",
   "execution_count": 3,
   "metadata": {
    "id": "oWTVX3gW_Zct"
   },
   "outputs": [
    {
     "data": {
      "text/html": [
       "<div>\n",
       "<style scoped>\n",
       "    .dataframe tbody tr th:only-of-type {\n",
       "        vertical-align: middle;\n",
       "    }\n",
       "\n",
       "    .dataframe tbody tr th {\n",
       "        vertical-align: top;\n",
       "    }\n",
       "\n",
       "    .dataframe thead th {\n",
       "        text-align: right;\n",
       "    }\n",
       "</style>\n",
       "<table border=\"1\" class=\"dataframe\">\n",
       "  <thead>\n",
       "    <tr style=\"text-align: right;\">\n",
       "      <th></th>\n",
       "      <th>userID</th>\n",
       "      <th>Track</th>\n",
       "      <th>artist</th>\n",
       "      <th>genre</th>\n",
       "      <th>City</th>\n",
       "      <th>time</th>\n",
       "      <th>Day</th>\n",
       "    </tr>\n",
       "  </thead>\n",
       "  <tbody>\n",
       "    <tr>\n",
       "      <td>0</td>\n",
       "      <td>FFB692EC</td>\n",
       "      <td>Kamigata To Boots</td>\n",
       "      <td>The Mass Missile</td>\n",
       "      <td>rock</td>\n",
       "      <td>Saint-Petersburg</td>\n",
       "      <td>20:28:33</td>\n",
       "      <td>Wednesday</td>\n",
       "    </tr>\n",
       "    <tr>\n",
       "      <td>1</td>\n",
       "      <td>55204538</td>\n",
       "      <td>Delayed Because of Accident</td>\n",
       "      <td>Andreas Rönnberg</td>\n",
       "      <td>rock</td>\n",
       "      <td>Moscow</td>\n",
       "      <td>14:07:09</td>\n",
       "      <td>Friday</td>\n",
       "    </tr>\n",
       "    <tr>\n",
       "      <td>2</td>\n",
       "      <td>20EC38</td>\n",
       "      <td>Funiculì funiculà</td>\n",
       "      <td>Mario Lanza</td>\n",
       "      <td>pop</td>\n",
       "      <td>Saint-Petersburg</td>\n",
       "      <td>20:58:07</td>\n",
       "      <td>Wednesday</td>\n",
       "    </tr>\n",
       "    <tr>\n",
       "      <td>3</td>\n",
       "      <td>A3DD03C9</td>\n",
       "      <td>Dragons in the Sunset</td>\n",
       "      <td>Fire + Ice</td>\n",
       "      <td>folk</td>\n",
       "      <td>Saint-Petersburg</td>\n",
       "      <td>08:37:09</td>\n",
       "      <td>Monday</td>\n",
       "    </tr>\n",
       "    <tr>\n",
       "      <td>4</td>\n",
       "      <td>E2DC1FAE</td>\n",
       "      <td>Soul People</td>\n",
       "      <td>Space Echo</td>\n",
       "      <td>dance</td>\n",
       "      <td>Moscow</td>\n",
       "      <td>08:34:34</td>\n",
       "      <td>Monday</td>\n",
       "    </tr>\n",
       "    <tr>\n",
       "      <td>5</td>\n",
       "      <td>842029A1</td>\n",
       "      <td>Преданная</td>\n",
       "      <td>IMPERVTOR</td>\n",
       "      <td>rusrap</td>\n",
       "      <td>Saint-Petersburg</td>\n",
       "      <td>13:09:41</td>\n",
       "      <td>Friday</td>\n",
       "    </tr>\n",
       "    <tr>\n",
       "      <td>6</td>\n",
       "      <td>4CB90AA5</td>\n",
       "      <td>True</td>\n",
       "      <td>Roman Messer</td>\n",
       "      <td>dance</td>\n",
       "      <td>Moscow</td>\n",
       "      <td>13:00:07</td>\n",
       "      <td>Wednesday</td>\n",
       "    </tr>\n",
       "    <tr>\n",
       "      <td>7</td>\n",
       "      <td>F03E1C1F</td>\n",
       "      <td>Feeling This Way</td>\n",
       "      <td>Polina Griffith</td>\n",
       "      <td>dance</td>\n",
       "      <td>Moscow</td>\n",
       "      <td>20:47:49</td>\n",
       "      <td>Wednesday</td>\n",
       "    </tr>\n",
       "    <tr>\n",
       "      <td>8</td>\n",
       "      <td>8FA1D3BE</td>\n",
       "      <td>И вновь продолжается бой</td>\n",
       "      <td>NaN</td>\n",
       "      <td>ruspop</td>\n",
       "      <td>Moscow</td>\n",
       "      <td>09:17:40</td>\n",
       "      <td>Friday</td>\n",
       "    </tr>\n",
       "    <tr>\n",
       "      <td>9</td>\n",
       "      <td>E772D5C0</td>\n",
       "      <td>Pessimist</td>\n",
       "      <td>NaN</td>\n",
       "      <td>dance</td>\n",
       "      <td>Saint-Petersburg</td>\n",
       "      <td>21:20:49</td>\n",
       "      <td>Wednesday</td>\n",
       "    </tr>\n",
       "  </tbody>\n",
       "</table>\n",
       "</div>"
      ],
      "text/plain": [
       "     userID                        Track            artist   genre  \\\n",
       "0  FFB692EC            Kamigata To Boots  The Mass Missile    rock   \n",
       "1  55204538  Delayed Because of Accident  Andreas Rönnberg    rock   \n",
       "2    20EC38            Funiculì funiculà       Mario Lanza     pop   \n",
       "3  A3DD03C9        Dragons in the Sunset        Fire + Ice    folk   \n",
       "4  E2DC1FAE                  Soul People        Space Echo   dance   \n",
       "5  842029A1                    Преданная         IMPERVTOR  rusrap   \n",
       "6  4CB90AA5                         True      Roman Messer   dance   \n",
       "7  F03E1C1F             Feeling This Way   Polina Griffith   dance   \n",
       "8  8FA1D3BE     И вновь продолжается бой               NaN  ruspop   \n",
       "9  E772D5C0                    Pessimist               NaN   dance   \n",
       "\n",
       "             City        time        Day  \n",
       "0  Saint-Petersburg  20:28:33  Wednesday  \n",
       "1            Moscow  14:07:09     Friday  \n",
       "2  Saint-Petersburg  20:58:07  Wednesday  \n",
       "3  Saint-Petersburg  08:37:09     Monday  \n",
       "4            Moscow  08:34:34     Monday  \n",
       "5  Saint-Petersburg  13:09:41     Friday  \n",
       "6            Moscow  13:00:07  Wednesday  \n",
       "7            Moscow  20:47:49  Wednesday  \n",
       "8            Moscow  09:17:40     Friday  \n",
       "9  Saint-Petersburg  21:20:49  Wednesday  "
      ]
     },
     "execution_count": 3,
     "metadata": {},
     "output_type": "execute_result"
    }
   ],
   "source": [
    "df.head(10)"
   ]
  },
  {
   "cell_type": "code",
   "execution_count": 4,
   "metadata": {
    "id": "DSf2kIb-_Zct"
   },
   "outputs": [
    {
     "name": "stdout",
     "output_type": "stream",
     "text": [
      "<class 'pandas.core.frame.DataFrame'>\n",
      "RangeIndex: 65079 entries, 0 to 65078\n",
      "Data columns (total 7 columns):\n",
      "  userID    65079 non-null object\n",
      "Track       63848 non-null object\n",
      "artist      57876 non-null object\n",
      "genre       63881 non-null object\n",
      "  City      65079 non-null object\n",
      "time        65079 non-null object\n",
      "Day         65079 non-null object\n",
      "dtypes: object(7)\n",
      "memory usage: 3.5+ MB\n"
     ]
    }
   ],
   "source": [
    "df.info()"
   ]
  },
  {
   "cell_type": "markdown",
   "metadata": {
    "id": "TaQ2Iwbr_Zct"
   },
   "source": [
    "So the table has seven columns. The data type in all columns is `object`.\n",
    "\n",
    "According to the data documentation:\n",
    "* `userID` - user ID;\n",
    "* `Track` — track name;\n",
    "* `artist` — artist name;\n",
    "* `genre` — genre name;\n",
    "* `City` - user's city;\n",
    "* `time` - start time of listening;\n",
    "* `Day` is the day of the week.\n",
    "\n",
    "There are three style violations in the column headings:\n",
    "1. Lowercase letters are combined with uppercase.\n",
    "2. There are gaps.\n",
    "3. Find another problem in the title of the columns and describe it in this paragraph.\n",
    "\n",
    "\n",
    "\n",
    "The number of values ​​in the columns varies. This means there are missing values ​​in the data."
   ]
  },
  {
   "cell_type": "markdown",
   "metadata": {
    "id": "MCB6-dXG_Zct"
   },
   "source": [
    "**Conclusions**\n",
    "\n",
    "Each line of the table contains data about the track you have listened to. Some of the columns describe the composition itself: title, artist and genre. The rest of the data tells about the user: what city he is from, when he listened to music.\n",
    "\n",
    "Preliminarily, it can be argued that there is enough data to test hypotheses. But there are gaps in the data, and discrepancies in the names of the columns with good style.\n",
    "\n",
    "To move forward, you need to fix problems in the data."
   ]
  },
  {
   "cell_type": "markdown",
   "metadata": {
    "id": "SjYF6Ub9_Zct"
   },
   "source": [
    "## Data preprocessing\n",
    "Let's fix the style in the column headings, eliminate the gaps. Then check the data for duplicates."
   ]
  },
  {
   "cell_type": "markdown",
   "metadata": {
    "id": "dIaKXr29_Zct"
   },
   "source": [
    "### Title style"
   ]
  },
  {
   "cell_type": "code",
   "execution_count": 5,
   "metadata": {
    "id": "oKOTdF_Q_Zct"
   },
   "outputs": [
    {
     "data": {
      "text/plain": [
       "Index(['  userID', 'Track', 'artist', 'genre', '  City  ', 'time', 'Day'], dtype='object')"
      ]
     },
     "execution_count": 5,
     "metadata": {},
     "output_type": "execute_result"
    }
   ],
   "source": [
    "df.columns"
   ]
  },
  {
   "cell_type": "markdown",
   "metadata": {
    "id": "zj5534cv_Zct"
   },
   "source": [
    "Bring titles in line with good style:"
   ]
  },
  {
   "cell_type": "code",
   "execution_count": 6,
   "metadata": {
    "id": "ISlFqs5y_Zct"
   },
   "outputs": [],
   "source": [
    "df = df.rename(columns={'  userID':'user_id', 'Track':'track', '  City  ':'city', 'Day':'day'})"
   ]
  },
  {
   "cell_type": "markdown",
   "metadata": {
    "id": "1dqbh00J_Zct"
   },
   "source": [
    "Let's check the result."
   ]
  },
  {
   "cell_type": "code",
   "execution_count": 7,
   "metadata": {
    "id": "d4NOAmTW_Zct"
   },
   "outputs": [
    {
     "data": {
      "text/plain": [
       "Index(['user_id', 'track', 'artist', 'genre', 'city', 'time', 'day'], dtype='object')"
      ]
     },
     "execution_count": 7,
     "metadata": {},
     "output_type": "execute_result"
    }
   ],
   "source": [
    "df.columns"
   ]
  },
  {
   "cell_type": "markdown",
   "metadata": {
    "id": "5ISfbcfY_Zct"
   },
   "source": [
    "### Missing values"
   ]
  },
  {
   "cell_type": "code",
   "execution_count": 8,
   "metadata": {
    "id": "RskX29qr_Zct"
   },
   "outputs": [
    {
     "data": {
      "text/plain": [
       "user_id       0\n",
       "track      1231\n",
       "artist     7203\n",
       "genre      1198\n",
       "city          0\n",
       "time          0\n",
       "day           0\n",
       "dtype: int64"
      ]
     },
     "execution_count": 8,
     "metadata": {},
     "output_type": "execute_result"
    }
   ],
   "source": [
    "df.isna().sum()"
   ]
  },
  {
   "cell_type": "markdown",
   "metadata": {
    "id": "qubhgnlO_Zct"
   },
   "source": [
    "Not all missing values affect the study. So in `track` and `artist` the gaps are not important for your work. It suffices to replace them with explicit notation.\n",
    "\n",
    "But omissions in `genre` can interfere with the comparison of musical tastes in Moscow and St. Petersburg. The reason for the gaps should be determined and the data restored. This option is not available in this project.\n",
    "  Have to:\n",
    "* fill in these gaps with explicit notation,\n",
    "* estimate how much they will damage the calculations."
   ]
  },
  {
   "cell_type": "markdown",
   "metadata": {
    "id": "fSv2laPA_Zct"
   },
   "source": [
    "Let's replace the missing values in the `track`, `artist` and `genre` columns with the string `'unknown'`."
   ]
  },
  {
   "cell_type": "code",
   "execution_count": 9,
   "metadata": {
    "id": "KplB5qWs_Zct"
   },
   "outputs": [],
   "source": [
    "# перебор названий столбцов в цикле и замена пропущенных значений на 'unknown'\n",
    "columns_to_replace = ['track', 'artist', 'genre']\n",
    "for column in columns_to_replace:\n",
    "    df[column] = df[column].fillna('unknown')"
   ]
  },
  {
   "cell_type": "markdown",
   "metadata": {
    "id": "Ilsm-MZo_Zct"
   },
   "source": [
    "Make sure there are no gaps in the table. To do this, count the missing values again."
   ]
  },
  {
   "cell_type": "code",
   "execution_count": 10,
   "metadata": {
    "id": "Tq4nYRX4_Zct"
   },
   "outputs": [
    {
     "data": {
      "text/plain": [
       "user_id    0\n",
       "track      0\n",
       "artist     0\n",
       "genre      0\n",
       "city       0\n",
       "time       0\n",
       "day        0\n",
       "dtype: int64"
      ]
     },
     "execution_count": 10,
     "metadata": {},
     "output_type": "execute_result"
    }
   ],
   "source": [
    "df.isna().sum()"
   ]
  },
  {
   "cell_type": "markdown",
   "metadata": {
    "id": "BWKRtBJ3_Zct"
   },
   "source": [
    "### Duplicates\n"
   ]
  },
  {
   "cell_type": "code",
   "execution_count": 11,
   "metadata": {
    "id": "36eES_S0_Zct"
   },
   "outputs": [
    {
     "data": {
      "text/plain": [
       "3826"
      ]
     },
     "execution_count": 11,
     "metadata": {},
     "output_type": "execute_result"
    }
   ],
   "source": [
    "df.duplicated().sum()"
   ]
  },
  {
   "cell_type": "code",
   "execution_count": 12,
   "metadata": {
    "id": "exFHq6tt_Zct"
   },
   "outputs": [],
   "source": [
    "df = df.drop_duplicates().reset_index(drop = True)"
   ]
  },
  {
   "cell_type": "code",
   "execution_count": 13,
   "metadata": {
    "id": "-8PuNWQ0_Zct"
   },
   "outputs": [
    {
     "data": {
      "text/plain": [
       "0"
      ]
     },
     "execution_count": 13,
     "metadata": {},
     "output_type": "execute_result"
    }
   ],
   "source": [
    "df.duplicated().sum()"
   ]
  },
  {
   "cell_type": "markdown",
   "metadata": {
    "id": "QlFBsxAr_Zct"
   },
   "source": [
    "Get rid of implicit duplicates in the genre column. For example, the name of the same genre can be spelled slightly differently. Such errors will also affect the result of the study."
   ]
  },
  {
   "cell_type": "code",
   "execution_count": 14,
   "metadata": {
    "id": "JIUcqzZN_Zct"
   },
   "outputs": [
    {
     "data": {
      "text/plain": [
       "array(['acid', 'acoustic', 'action', 'adult', 'africa', 'afrikaans',\n",
       "       'alternative', 'alternativepunk', 'ambient', 'americana',\n",
       "       'animated', 'anime', 'arabesk', 'arabic', 'arena',\n",
       "       'argentinetango', 'art', 'audiobook', 'author', 'avantgarde',\n",
       "       'axé', 'baile', 'balkan', 'beats', 'bigroom', 'black', 'bluegrass',\n",
       "       'blues', 'bollywood', 'bossa', 'brazilian', 'breakbeat', 'breaks',\n",
       "       'broadway', 'cantautori', 'cantopop', 'canzone', 'caribbean',\n",
       "       'caucasian', 'celtic', 'chamber', 'chanson', 'children', 'chill',\n",
       "       'chinese', 'choral', 'christian', 'christmas', 'classical',\n",
       "       'classicmetal', 'club', 'colombian', 'comedy', 'conjazz',\n",
       "       'contemporary', 'country', 'cuban', 'dance', 'dancehall',\n",
       "       'dancepop', 'dark', 'death', 'deep', 'deutschrock', 'deutschspr',\n",
       "       'dirty', 'disco', 'dnb', 'documentary', 'downbeat', 'downtempo',\n",
       "       'drum', 'dub', 'dubstep', 'eastern', 'easy', 'electronic',\n",
       "       'electropop', 'emo', 'entehno', 'epicmetal', 'estrada', 'ethnic',\n",
       "       'eurofolk', 'european', 'experimental', 'extrememetal', 'fado',\n",
       "       'fairytail', 'film', 'fitness', 'flamenco', 'folk', 'folklore',\n",
       "       'folkmetal', 'folkrock', 'folktronica', 'forró', 'frankreich',\n",
       "       'französisch', 'french', 'funk', 'future', 'gangsta', 'garage',\n",
       "       'german', 'ghazal', 'gitarre', 'glitch', 'gospel', 'gothic',\n",
       "       'grime', 'grunge', 'gypsy', 'handsup', \"hard'n'heavy\", 'hardcore',\n",
       "       'hardstyle', 'hardtechno', 'hip', 'hip-hop', 'hiphop',\n",
       "       'historisch', 'holiday', 'hop', 'horror', 'house', 'hymn', 'idm',\n",
       "       'independent', 'indian', 'indie', 'indipop', 'industrial',\n",
       "       'inspirational', 'instrumental', 'international', 'irish', 'jam',\n",
       "       'japanese', 'jazz', 'jewish', 'jpop', 'jungle', 'k-pop',\n",
       "       'karadeniz', 'karaoke', 'kayokyoku', 'korean', 'laiko', 'latin',\n",
       "       'latino', 'leftfield', 'local', 'lounge', 'loungeelectronic',\n",
       "       'lovers', 'malaysian', 'mandopop', 'marschmusik', 'meditative',\n",
       "       'mediterranean', 'melodic', 'metal', 'metalcore', 'mexican',\n",
       "       'middle', 'minimal', 'miscellaneous', 'modern', 'mood', 'mpb',\n",
       "       'muslim', 'native', 'neoklassik', 'neue', 'new', 'newage',\n",
       "       'newwave', 'nu', 'nujazz', 'numetal', 'oceania', 'old', 'opera',\n",
       "       'orchestral', 'other', 'piano', 'podcasts', 'pop', 'popdance',\n",
       "       'popelectronic', 'popeurodance', 'poprussian', 'post',\n",
       "       'posthardcore', 'postrock', 'power', 'progmetal', 'progressive',\n",
       "       'psychedelic', 'punjabi', 'punk', 'quebecois', 'ragga', 'ram',\n",
       "       'rancheras', 'rap', 'rave', 'reggae', 'reggaeton', 'regional',\n",
       "       'relax', 'religious', 'retro', 'rhythm', 'rnb', 'rnr', 'rock',\n",
       "       'rockabilly', 'rockalternative', 'rockindie', 'rockother',\n",
       "       'romance', 'roots', 'ruspop', 'rusrap', 'rusrock', 'russian',\n",
       "       'salsa', 'samba', 'scenic', 'schlager', 'self', 'sertanejo',\n",
       "       'shanson', 'shoegazing', 'showtunes', 'singer', 'ska', 'skarock',\n",
       "       'slow', 'smooth', 'soft', 'soul', 'soulful', 'sound', 'soundtrack',\n",
       "       'southern', 'specialty', 'speech', 'spiritual', 'sport',\n",
       "       'stonerrock', 'surf', 'swing', 'synthpop', 'synthrock',\n",
       "       'sängerportrait', 'tango', 'tanzorchester', 'taraftar', 'tatar',\n",
       "       'tech', 'techno', 'teen', 'thrash', 'top', 'traditional',\n",
       "       'tradjazz', 'trance', 'tribal', 'trip', 'triphop', 'tropical',\n",
       "       'türk', 'türkçe', 'ukrrock', 'unknown', 'urban', 'uzbek',\n",
       "       'variété', 'vi', 'videogame', 'vocal', 'western', 'world',\n",
       "       'worldbeat', 'ïîï', 'электроника'], dtype=object)"
      ]
     },
     "execution_count": 14,
     "metadata": {},
     "output_type": "execute_result"
    }
   ],
   "source": [
    "sorted_df = df['genre'].sort_values()\n",
    "sorted_df.unique()"
   ]
  },
  {
   "cell_type": "code",
   "execution_count": 15,
   "metadata": {
    "id": "ErNDkmns_Zct"
   },
   "outputs": [],
   "source": [
    "def replace_wrong_genres(wrong_genres, correct_genre):\n",
    "    df['genre'] = df['genre'].replace(wrong_genres, correct_genre)"
   ]
  },
  {
   "cell_type": "code",
   "execution_count": 16,
   "metadata": {
    "id": "YN5i2hpmSo09"
   },
   "outputs": [],
   "source": [
    "duplicates = ['hip', 'hop', 'hip-hop']\n",
    "name = 'hiphop'\n",
    "replace_wrong_genres(duplicates, name)"
   ]
  },
  {
   "cell_type": "code",
   "execution_count": 17,
   "metadata": {
    "id": "wvixALnFG15m",
    "scrolled": true
   },
   "outputs": [
    {
     "data": {
      "text/plain": [
       "array(['acid', 'acoustic', 'action', 'adult', 'africa', 'afrikaans',\n",
       "       'alternative', 'alternativepunk', 'ambient', 'americana',\n",
       "       'animated', 'anime', 'arabesk', 'arabic', 'arena',\n",
       "       'argentinetango', 'art', 'audiobook', 'author', 'avantgarde',\n",
       "       'axé', 'baile', 'balkan', 'beats', 'bigroom', 'black', 'bluegrass',\n",
       "       'blues', 'bollywood', 'bossa', 'brazilian', 'breakbeat', 'breaks',\n",
       "       'broadway', 'cantautori', 'cantopop', 'canzone', 'caribbean',\n",
       "       'caucasian', 'celtic', 'chamber', 'chanson', 'children', 'chill',\n",
       "       'chinese', 'choral', 'christian', 'christmas', 'classical',\n",
       "       'classicmetal', 'club', 'colombian', 'comedy', 'conjazz',\n",
       "       'contemporary', 'country', 'cuban', 'dance', 'dancehall',\n",
       "       'dancepop', 'dark', 'death', 'deep', 'deutschrock', 'deutschspr',\n",
       "       'dirty', 'disco', 'dnb', 'documentary', 'downbeat', 'downtempo',\n",
       "       'drum', 'dub', 'dubstep', 'eastern', 'easy', 'electronic',\n",
       "       'electropop', 'emo', 'entehno', 'epicmetal', 'estrada', 'ethnic',\n",
       "       'eurofolk', 'european', 'experimental', 'extrememetal', 'fado',\n",
       "       'fairytail', 'film', 'fitness', 'flamenco', 'folk', 'folklore',\n",
       "       'folkmetal', 'folkrock', 'folktronica', 'forró', 'frankreich',\n",
       "       'französisch', 'french', 'funk', 'future', 'gangsta', 'garage',\n",
       "       'german', 'ghazal', 'gitarre', 'glitch', 'gospel', 'gothic',\n",
       "       'grime', 'grunge', 'gypsy', 'handsup', \"hard'n'heavy\", 'hardcore',\n",
       "       'hardstyle', 'hardtechno', 'hiphop', 'historisch', 'holiday',\n",
       "       'horror', 'house', 'hymn', 'idm', 'independent', 'indian', 'indie',\n",
       "       'indipop', 'industrial', 'inspirational', 'instrumental',\n",
       "       'international', 'irish', 'jam', 'japanese', 'jazz', 'jewish',\n",
       "       'jpop', 'jungle', 'k-pop', 'karadeniz', 'karaoke', 'kayokyoku',\n",
       "       'korean', 'laiko', 'latin', 'latino', 'leftfield', 'local',\n",
       "       'lounge', 'loungeelectronic', 'lovers', 'malaysian', 'mandopop',\n",
       "       'marschmusik', 'meditative', 'mediterranean', 'melodic', 'metal',\n",
       "       'metalcore', 'mexican', 'middle', 'minimal', 'miscellaneous',\n",
       "       'modern', 'mood', 'mpb', 'muslim', 'native', 'neoklassik', 'neue',\n",
       "       'new', 'newage', 'newwave', 'nu', 'nujazz', 'numetal', 'oceania',\n",
       "       'old', 'opera', 'orchestral', 'other', 'piano', 'podcasts', 'pop',\n",
       "       'popdance', 'popelectronic', 'popeurodance', 'poprussian', 'post',\n",
       "       'posthardcore', 'postrock', 'power', 'progmetal', 'progressive',\n",
       "       'psychedelic', 'punjabi', 'punk', 'quebecois', 'ragga', 'ram',\n",
       "       'rancheras', 'rap', 'rave', 'reggae', 'reggaeton', 'regional',\n",
       "       'relax', 'religious', 'retro', 'rhythm', 'rnb', 'rnr', 'rock',\n",
       "       'rockabilly', 'rockalternative', 'rockindie', 'rockother',\n",
       "       'romance', 'roots', 'ruspop', 'rusrap', 'rusrock', 'russian',\n",
       "       'salsa', 'samba', 'scenic', 'schlager', 'self', 'sertanejo',\n",
       "       'shanson', 'shoegazing', 'showtunes', 'singer', 'ska', 'skarock',\n",
       "       'slow', 'smooth', 'soft', 'soul', 'soulful', 'sound', 'soundtrack',\n",
       "       'southern', 'specialty', 'speech', 'spiritual', 'sport',\n",
       "       'stonerrock', 'surf', 'swing', 'synthpop', 'synthrock',\n",
       "       'sängerportrait', 'tango', 'tanzorchester', 'taraftar', 'tatar',\n",
       "       'tech', 'techno', 'teen', 'thrash', 'top', 'traditional',\n",
       "       'tradjazz', 'trance', 'tribal', 'trip', 'triphop', 'tropical',\n",
       "       'türk', 'türkçe', 'ukrrock', 'unknown', 'urban', 'uzbek',\n",
       "       'variété', 'vi', 'videogame', 'vocal', 'western', 'world',\n",
       "       'worldbeat', 'ïîï', 'электроника'], dtype=object)"
      ]
     },
     "execution_count": 17,
     "metadata": {},
     "output_type": "execute_result"
    }
   ],
   "source": [
    "sorted_df = df['genre'].sort_values()\n",
    "sorted_df.unique()"
   ]
  },
  {
   "cell_type": "markdown",
   "metadata": {
    "id": "jz6a9-7HQUDd"
   },
   "source": [
    "**Conclusions**\n",
    "\n",
    "Preprocessing found three problems in the data:\n",
    "\n",
    "- headline style violations,\n",
    "- missing values,\n",
    "- duplicates - explicit and implicit.\n",
    "\n",
    "Headings have been fixed to make it easier to work with the table. Without duplicates, the study will become more accurate.\n",
    "\n",
    "Missing values have been replaced with `'unknown'`.\n",
    "\n",
    "Now we can move on to hypothesis testing."
   ]
  },
  {
   "cell_type": "markdown",
   "metadata": {
    "id": "WttZHXH0SqKk"
   },
   "source": [
    "## Hypothesis testing"
   ]
  },
  {
   "cell_type": "markdown",
   "metadata": {
    "id": "Im936VVi_Zcu"
   },
   "source": [
    "### Comparison of user behavior of two capitals"
   ]
  },
  {
   "cell_type": "markdown",
   "metadata": {
    "id": "nwt_MuaL_Zcu"
   },
   "source": [
    "The first hypothesis states that users listen to music differently in Moscow and St. Petersburg. Let's check this assumption on the data on three days of the week - Monday, Wednesday and Friday. For this:\n",
    "\n",
    "* Separate Moscow and St. Petersburg users\n",
    "* Compare how many tracks each user group listened to on Monday, Wednesday and Friday.\n"
   ]
  },
  {
   "cell_type": "code",
   "execution_count": 18,
   "metadata": {
    "id": "0_Qs96oh_Zcu"
   },
   "outputs": [
    {
     "data": {
      "text/plain": [
       "city\n",
       "Moscow              42741\n",
       "Saint-Petersburg    18512\n",
       "Name: track, dtype: int64"
      ]
     },
     "execution_count": 18,
     "metadata": {},
     "output_type": "execute_result"
    }
   ],
   "source": [
    "df.groupby('city')['track'].count()"
   ]
  },
  {
   "cell_type": "markdown",
   "metadata": {
    "id": "dzli3w8o_Zcu"
   },
   "source": [
    "There are more auditions in Moscow than in St. Petersburg. It does not follow from this that Moscow users listen to music more often. There are simply more users in Moscow.\n",
    "\n",
    "Now let's group the data by day of the week and count the plays on Monday, Wednesday, and Friday. Please note that the data only contains information about the plays for these days only.\n"
   ]
  },
  {
   "cell_type": "code",
   "execution_count": 19,
   "metadata": {
    "id": "uZMKjiJz_Zcu"
   },
   "outputs": [
    {
     "data": {
      "text/plain": [
       "day\n",
       "Friday       21840\n",
       "Monday       21354\n",
       "Wednesday    18059\n",
       "Name: track, dtype: int64"
      ]
     },
     "execution_count": 19,
     "metadata": {},
     "output_type": "execute_result"
    }
   ],
   "source": [
    "df.groupby('day')['track'].count()"
   ]
  },
  {
   "cell_type": "markdown",
   "metadata": {
    "id": "cC2tNrlL_Zcu"
   },
   "source": [
    "On average, users from the two cities are less active on Wednesdays. But the picture may change if we consider each city separately."
   ]
  },
  {
   "cell_type": "code",
   "execution_count": 20,
   "metadata": {
    "id": "Nz3GdQB1_Zcu"
   },
   "outputs": [],
   "source": [
    "def number_tracks(day, city):\n",
    "    track_list = df[(df['day'] == day) & (df['city'] == city)]\n",
    "    track_list_count = track_list['user_id'].count()\n",
    "    return track_list_count"
   ]
  },
  {
   "cell_type": "code",
   "execution_count": 21,
   "metadata": {
    "id": "rJcRATNQ_Zcu"
   },
   "outputs": [
    {
     "data": {
      "text/plain": [
       "15740"
      ]
     },
     "execution_count": 21,
     "metadata": {},
     "output_type": "execute_result"
    }
   ],
   "source": [
    "# number of auditions in Moscow on Mondays\n",
    "number_tracks('Monday', 'Moscow')"
   ]
  },
  {
   "cell_type": "code",
   "execution_count": 22,
   "metadata": {
    "id": "hq_ncZ5T_Zcu"
   },
   "outputs": [
    {
     "data": {
      "text/plain": [
       "5614"
      ]
     },
     "execution_count": 22,
     "metadata": {},
     "output_type": "execute_result"
    }
   ],
   "source": [
    "# number of auditions in St. Petersburg on Mondays\n",
    "number_tracks('Monday', 'Saint-Petersburg')"
   ]
  },
  {
   "cell_type": "code",
   "execution_count": 23,
   "metadata": {
    "id": "_NTy2VPU_Zcu"
   },
   "outputs": [
    {
     "data": {
      "text/plain": [
       "11056"
      ]
     },
     "execution_count": 23,
     "metadata": {},
     "output_type": "execute_result"
    }
   ],
   "source": [
    "# number of auditions in Moscow on Wednesdays\n",
    "number_tracks('Wednesday', 'Moscow')"
   ]
  },
  {
   "cell_type": "code",
   "execution_count": 24,
   "metadata": {
    "id": "j2y3TAwo_Zcu"
   },
   "outputs": [
    {
     "data": {
      "text/plain": [
       "7003"
      ]
     },
     "execution_count": 24,
     "metadata": {},
     "output_type": "execute_result"
    }
   ],
   "source": [
    "# number of auditions in St. Petersburg on Wednesdays\n",
    "number_tracks('Wednesday', 'Saint-Petersburg')"
   ]
  },
  {
   "cell_type": "code",
   "execution_count": 25,
   "metadata": {
    "id": "vYDw5u_K_Zcu"
   },
   "outputs": [
    {
     "data": {
      "text/plain": [
       "15945"
      ]
     },
     "execution_count": 25,
     "metadata": {},
     "output_type": "execute_result"
    }
   ],
   "source": [
    "# number of auditions in Moscow on Fridays\n",
    "number_tracks('Friday', 'Moscow')"
   ]
  },
  {
   "cell_type": "code",
   "execution_count": 26,
   "metadata": {
    "id": "8_yzFtW3_Zcu"
   },
   "outputs": [
    {
     "data": {
      "text/plain": [
       "5895"
      ]
     },
     "execution_count": 26,
     "metadata": {},
     "output_type": "execute_result"
    }
   ],
   "source": [
    "# number of auditions in St. Petersburg on Fridays\n",
    "number_tracks('Friday', 'Saint-Petersburg')"
   ]
  },
  {
   "cell_type": "markdown",
   "metadata": {
    "id": "7QXffbO-_Zcu"
   },
   "source": [
    "Let's create a table using the pd.DataFrame constructor, where\n",
    "\n",
    "* column names - ['city', 'monday', 'wednesday', 'friday'];\n",
    "* data - the results obtained using number_tracks."
   ]
  },
  {
   "cell_type": "code",
   "execution_count": 27,
   "metadata": {
    "id": "APAcLpOr_Zcu"
   },
   "outputs": [
    {
     "data": {
      "text/html": [
       "<div>\n",
       "<style scoped>\n",
       "    .dataframe tbody tr th:only-of-type {\n",
       "        vertical-align: middle;\n",
       "    }\n",
       "\n",
       "    .dataframe tbody tr th {\n",
       "        vertical-align: top;\n",
       "    }\n",
       "\n",
       "    .dataframe thead th {\n",
       "        text-align: right;\n",
       "    }\n",
       "</style>\n",
       "<table border=\"1\" class=\"dataframe\">\n",
       "  <thead>\n",
       "    <tr style=\"text-align: right;\">\n",
       "      <th></th>\n",
       "      <th>city</th>\n",
       "      <th>monday</th>\n",
       "      <th>wednesday</th>\n",
       "      <th>friday</th>\n",
       "    </tr>\n",
       "  </thead>\n",
       "  <tbody>\n",
       "    <tr>\n",
       "      <td>0</td>\n",
       "      <td>Moscow</td>\n",
       "      <td>15740</td>\n",
       "      <td>11056</td>\n",
       "      <td>15945</td>\n",
       "    </tr>\n",
       "    <tr>\n",
       "      <td>1</td>\n",
       "      <td>Saint-Petersburg</td>\n",
       "      <td>5614</td>\n",
       "      <td>7003</td>\n",
       "      <td>5895</td>\n",
       "    </tr>\n",
       "  </tbody>\n",
       "</table>\n",
       "</div>"
      ],
      "text/plain": [
       "               city  monday  wednesday  friday\n",
       "0            Moscow   15740      11056   15945\n",
       "1  Saint-Petersburg    5614       7003    5895"
      ]
     },
     "execution_count": 27,
     "metadata": {},
     "output_type": "execute_result"
    }
   ],
   "source": [
    "# Таблица с результатами\n",
    "columns = ['city', 'monday', 'wednesday', 'friday']\n",
    "data = [['Moscow', 15740, 11056, 15945],\n",
    "        ['Saint-Petersburg', 5614, 7003, 5895]]\n",
    "table = pd.DataFrame(data=data, columns=columns)\n",
    "table"
   ]
  },
  {
   "cell_type": "markdown",
   "metadata": {
    "id": "-EgPIHYu_Zcu"
   },
   "source": [
    "**Conclusions**\n",
    "\n",
    "The data shows the difference in user behavior:\n",
    "\n",
    "- In Moscow, the peak of listening falls on Monday and Friday, and on Wednesday there is a noticeable decline.\n",
    "- In St. Petersburg, on the contrary, they listen to music more on Wednesdays. Activity on Monday and Friday here is almost equally inferior to Wednesday.\n",
    "\n",
    "So the data support the first hypothesis."
   ]
  },
  {
   "cell_type": "markdown",
   "metadata": {
    "id": "atZAxtq4_Zcu"
   },
   "source": [
    "### Music at the beginning and end of the week"
   ]
  },
  {
   "cell_type": "markdown",
   "metadata": {
    "id": "eXrQqXFH_Zcu"
   },
   "source": [
    "According to the second hypothesis, on Monday morning certain genres predominate in Moscow, while others dominate in St. Petersburg. Similarly, Friday nights are dominated by different genres, depending on the city.."
   ]
  },
  {
   "cell_type": "markdown",
   "metadata": {
    "id": "S8UcW6Hw_Zcu"
   },
   "source": [
    "Let's save tables with data in two variables:\n",
    "* in Moscow - in `moscow_general`;\n",
    "* in St. Petersburg - in `spb_general`."
   ]
  },
  {
   "cell_type": "code",
   "execution_count": 28,
   "metadata": {
    "id": "qeaFfM_P_Zcu"
   },
   "outputs": [
    {
     "data": {
      "text/html": [
       "<div>\n",
       "<style scoped>\n",
       "    .dataframe tbody tr th:only-of-type {\n",
       "        vertical-align: middle;\n",
       "    }\n",
       "\n",
       "    .dataframe tbody tr th {\n",
       "        vertical-align: top;\n",
       "    }\n",
       "\n",
       "    .dataframe thead th {\n",
       "        text-align: right;\n",
       "    }\n",
       "</style>\n",
       "<table border=\"1\" class=\"dataframe\">\n",
       "  <thead>\n",
       "    <tr style=\"text-align: right;\">\n",
       "      <th></th>\n",
       "      <th>user_id</th>\n",
       "      <th>track</th>\n",
       "      <th>artist</th>\n",
       "      <th>genre</th>\n",
       "      <th>city</th>\n",
       "      <th>time</th>\n",
       "      <th>day</th>\n",
       "    </tr>\n",
       "  </thead>\n",
       "  <tbody>\n",
       "    <tr>\n",
       "      <td>1</td>\n",
       "      <td>55204538</td>\n",
       "      <td>Delayed Because of Accident</td>\n",
       "      <td>Andreas Rönnberg</td>\n",
       "      <td>rock</td>\n",
       "      <td>Moscow</td>\n",
       "      <td>14:07:09</td>\n",
       "      <td>Friday</td>\n",
       "    </tr>\n",
       "    <tr>\n",
       "      <td>4</td>\n",
       "      <td>E2DC1FAE</td>\n",
       "      <td>Soul People</td>\n",
       "      <td>Space Echo</td>\n",
       "      <td>dance</td>\n",
       "      <td>Moscow</td>\n",
       "      <td>08:34:34</td>\n",
       "      <td>Monday</td>\n",
       "    </tr>\n",
       "    <tr>\n",
       "      <td>6</td>\n",
       "      <td>4CB90AA5</td>\n",
       "      <td>True</td>\n",
       "      <td>Roman Messer</td>\n",
       "      <td>dance</td>\n",
       "      <td>Moscow</td>\n",
       "      <td>13:00:07</td>\n",
       "      <td>Wednesday</td>\n",
       "    </tr>\n",
       "    <tr>\n",
       "      <td>7</td>\n",
       "      <td>F03E1C1F</td>\n",
       "      <td>Feeling This Way</td>\n",
       "      <td>Polina Griffith</td>\n",
       "      <td>dance</td>\n",
       "      <td>Moscow</td>\n",
       "      <td>20:47:49</td>\n",
       "      <td>Wednesday</td>\n",
       "    </tr>\n",
       "    <tr>\n",
       "      <td>8</td>\n",
       "      <td>8FA1D3BE</td>\n",
       "      <td>И вновь продолжается бой</td>\n",
       "      <td>unknown</td>\n",
       "      <td>ruspop</td>\n",
       "      <td>Moscow</td>\n",
       "      <td>09:17:40</td>\n",
       "      <td>Friday</td>\n",
       "    </tr>\n",
       "    <tr>\n",
       "      <td>10</td>\n",
       "      <td>BC5A3A29</td>\n",
       "      <td>Gool la Mita</td>\n",
       "      <td>Shireen Abdul Wahab</td>\n",
       "      <td>world</td>\n",
       "      <td>Moscow</td>\n",
       "      <td>14:08:42</td>\n",
       "      <td>Monday</td>\n",
       "    </tr>\n",
       "    <tr>\n",
       "      <td>11</td>\n",
       "      <td>8B5192C0</td>\n",
       "      <td>Is There Anybody Out There? (Panoramic Paralys...</td>\n",
       "      <td>Pink Floyd Floydhead</td>\n",
       "      <td>electronic</td>\n",
       "      <td>Moscow</td>\n",
       "      <td>13:47:49</td>\n",
       "      <td>Monday</td>\n",
       "    </tr>\n",
       "    <tr>\n",
       "      <td>12</td>\n",
       "      <td>FF3FD2BD</td>\n",
       "      <td>Мина син генэ кирэк</td>\n",
       "      <td>Ильдар Хакимов</td>\n",
       "      <td>pop</td>\n",
       "      <td>Moscow</td>\n",
       "      <td>09:19:49</td>\n",
       "      <td>Monday</td>\n",
       "    </tr>\n",
       "    <tr>\n",
       "      <td>13</td>\n",
       "      <td>CC782B0F</td>\n",
       "      <td>After School Special</td>\n",
       "      <td>Detroit Grand Pubahs</td>\n",
       "      <td>dance</td>\n",
       "      <td>Moscow</td>\n",
       "      <td>20:04:12</td>\n",
       "      <td>Friday</td>\n",
       "    </tr>\n",
       "    <tr>\n",
       "      <td>15</td>\n",
       "      <td>E3C5756F</td>\n",
       "      <td>unknown</td>\n",
       "      <td>unknown</td>\n",
       "      <td>unknown</td>\n",
       "      <td>Moscow</td>\n",
       "      <td>09:24:51</td>\n",
       "      <td>Monday</td>\n",
       "    </tr>\n",
       "  </tbody>\n",
       "</table>\n",
       "</div>"
      ],
      "text/plain": [
       "     user_id                                              track  \\\n",
       "1   55204538                        Delayed Because of Accident   \n",
       "4   E2DC1FAE                                        Soul People   \n",
       "6   4CB90AA5                                               True   \n",
       "7   F03E1C1F                                   Feeling This Way   \n",
       "8   8FA1D3BE                           И вновь продолжается бой   \n",
       "10  BC5A3A29                                       Gool la Mita   \n",
       "11  8B5192C0  Is There Anybody Out There? (Panoramic Paralys...   \n",
       "12  FF3FD2BD                                Мина син генэ кирэк   \n",
       "13  CC782B0F                               After School Special   \n",
       "15  E3C5756F                                            unknown   \n",
       "\n",
       "                  artist       genre    city      time        day  \n",
       "1       Andreas Rönnberg        rock  Moscow  14:07:09     Friday  \n",
       "4             Space Echo       dance  Moscow  08:34:34     Monday  \n",
       "6           Roman Messer       dance  Moscow  13:00:07  Wednesday  \n",
       "7        Polina Griffith       dance  Moscow  20:47:49  Wednesday  \n",
       "8                unknown      ruspop  Moscow  09:17:40     Friday  \n",
       "10   Shireen Abdul Wahab       world  Moscow  14:08:42     Monday  \n",
       "11  Pink Floyd Floydhead  electronic  Moscow  13:47:49     Monday  \n",
       "12        Ильдар Хакимов         pop  Moscow  09:19:49     Monday  \n",
       "13  Detroit Grand Pubahs       dance  Moscow  20:04:12     Friday  \n",
       "15               unknown     unknown  Moscow  09:24:51     Monday  "
      ]
     },
     "metadata": {},
     "output_type": "display_data"
    }
   ],
   "source": [
    "moscow_general = df[df['city'] == 'Moscow']\n",
    "display(moscow_general.head(10))"
   ]
  },
  {
   "cell_type": "code",
   "execution_count": 29,
   "metadata": {
    "id": "ORaVRKto_Zcu",
    "scrolled": true
   },
   "outputs": [
    {
     "data": {
      "text/html": [
       "<div>\n",
       "<style scoped>\n",
       "    .dataframe tbody tr th:only-of-type {\n",
       "        vertical-align: middle;\n",
       "    }\n",
       "\n",
       "    .dataframe tbody tr th {\n",
       "        vertical-align: top;\n",
       "    }\n",
       "\n",
       "    .dataframe thead th {\n",
       "        text-align: right;\n",
       "    }\n",
       "</style>\n",
       "<table border=\"1\" class=\"dataframe\">\n",
       "  <thead>\n",
       "    <tr style=\"text-align: right;\">\n",
       "      <th></th>\n",
       "      <th>user_id</th>\n",
       "      <th>track</th>\n",
       "      <th>artist</th>\n",
       "      <th>genre</th>\n",
       "      <th>city</th>\n",
       "      <th>time</th>\n",
       "      <th>day</th>\n",
       "    </tr>\n",
       "  </thead>\n",
       "  <tbody>\n",
       "    <tr>\n",
       "      <td>0</td>\n",
       "      <td>FFB692EC</td>\n",
       "      <td>Kamigata To Boots</td>\n",
       "      <td>The Mass Missile</td>\n",
       "      <td>rock</td>\n",
       "      <td>Saint-Petersburg</td>\n",
       "      <td>20:28:33</td>\n",
       "      <td>Wednesday</td>\n",
       "    </tr>\n",
       "    <tr>\n",
       "      <td>2</td>\n",
       "      <td>20EC38</td>\n",
       "      <td>Funiculì funiculà</td>\n",
       "      <td>Mario Lanza</td>\n",
       "      <td>pop</td>\n",
       "      <td>Saint-Petersburg</td>\n",
       "      <td>20:58:07</td>\n",
       "      <td>Wednesday</td>\n",
       "    </tr>\n",
       "    <tr>\n",
       "      <td>3</td>\n",
       "      <td>A3DD03C9</td>\n",
       "      <td>Dragons in the Sunset</td>\n",
       "      <td>Fire + Ice</td>\n",
       "      <td>folk</td>\n",
       "      <td>Saint-Petersburg</td>\n",
       "      <td>08:37:09</td>\n",
       "      <td>Monday</td>\n",
       "    </tr>\n",
       "    <tr>\n",
       "      <td>5</td>\n",
       "      <td>842029A1</td>\n",
       "      <td>Преданная</td>\n",
       "      <td>IMPERVTOR</td>\n",
       "      <td>rusrap</td>\n",
       "      <td>Saint-Petersburg</td>\n",
       "      <td>13:09:41</td>\n",
       "      <td>Friday</td>\n",
       "    </tr>\n",
       "    <tr>\n",
       "      <td>9</td>\n",
       "      <td>E772D5C0</td>\n",
       "      <td>Pessimist</td>\n",
       "      <td>unknown</td>\n",
       "      <td>dance</td>\n",
       "      <td>Saint-Petersburg</td>\n",
       "      <td>21:20:49</td>\n",
       "      <td>Wednesday</td>\n",
       "    </tr>\n",
       "    <tr>\n",
       "      <td>14</td>\n",
       "      <td>94EB25C2</td>\n",
       "      <td>Make Love Whenever You Can</td>\n",
       "      <td>Arabesque</td>\n",
       "      <td>pop</td>\n",
       "      <td>Saint-Petersburg</td>\n",
       "      <td>13:22:08</td>\n",
       "      <td>Wednesday</td>\n",
       "    </tr>\n",
       "    <tr>\n",
       "      <td>16</td>\n",
       "      <td>81D05C7D</td>\n",
       "      <td>SLAVES OF FEAR</td>\n",
       "      <td>HEALTH</td>\n",
       "      <td>alternative</td>\n",
       "      <td>Saint-Petersburg</td>\n",
       "      <td>20:54:48</td>\n",
       "      <td>Monday</td>\n",
       "    </tr>\n",
       "    <tr>\n",
       "      <td>17</td>\n",
       "      <td>39DE290E</td>\n",
       "      <td>Веснянка</td>\n",
       "      <td>Веданъ Колодъ</td>\n",
       "      <td>folk</td>\n",
       "      <td>Saint-Petersburg</td>\n",
       "      <td>14:36:47</td>\n",
       "      <td>Monday</td>\n",
       "    </tr>\n",
       "    <tr>\n",
       "      <td>18</td>\n",
       "      <td>58AE138A</td>\n",
       "      <td>Pat-a-Cake</td>\n",
       "      <td>Mother Goose Club</td>\n",
       "      <td>children</td>\n",
       "      <td>Saint-Petersburg</td>\n",
       "      <td>20:04:56</td>\n",
       "      <td>Monday</td>\n",
       "    </tr>\n",
       "    <tr>\n",
       "      <td>22</td>\n",
       "      <td>B8E29C9C</td>\n",
       "      <td>Самота</td>\n",
       "      <td>unknown</td>\n",
       "      <td>folk</td>\n",
       "      <td>Saint-Petersburg</td>\n",
       "      <td>20:20:49</td>\n",
       "      <td>Wednesday</td>\n",
       "    </tr>\n",
       "  </tbody>\n",
       "</table>\n",
       "</div>"
      ],
      "text/plain": [
       "     user_id                       track             artist        genre  \\\n",
       "0   FFB692EC           Kamigata To Boots   The Mass Missile         rock   \n",
       "2     20EC38           Funiculì funiculà        Mario Lanza          pop   \n",
       "3   A3DD03C9       Dragons in the Sunset         Fire + Ice         folk   \n",
       "5   842029A1                   Преданная          IMPERVTOR       rusrap   \n",
       "9   E772D5C0                   Pessimist            unknown        dance   \n",
       "14  94EB25C2  Make Love Whenever You Can          Arabesque          pop   \n",
       "16  81D05C7D              SLAVES OF FEAR             HEALTH  alternative   \n",
       "17  39DE290E                    Веснянка      Веданъ Колодъ         folk   \n",
       "18  58AE138A                  Pat-a-Cake  Mother Goose Club     children   \n",
       "22  B8E29C9C                      Самота            unknown         folk   \n",
       "\n",
       "                city      time        day  \n",
       "0   Saint-Petersburg  20:28:33  Wednesday  \n",
       "2   Saint-Petersburg  20:58:07  Wednesday  \n",
       "3   Saint-Petersburg  08:37:09     Monday  \n",
       "5   Saint-Petersburg  13:09:41     Friday  \n",
       "9   Saint-Petersburg  21:20:49  Wednesday  \n",
       "14  Saint-Petersburg  13:22:08  Wednesday  \n",
       "16  Saint-Petersburg  20:54:48     Monday  \n",
       "17  Saint-Petersburg  14:36:47     Monday  \n",
       "18  Saint-Petersburg  20:04:56     Monday  \n",
       "22  Saint-Petersburg  20:20:49  Wednesday  "
      ]
     },
     "metadata": {},
     "output_type": "display_data"
    }
   ],
   "source": [
    "spb_general = df[df['city'] == 'Saint-Petersburg']\n",
    "display(spb_general.head(10))"
   ]
  },
  {
   "cell_type": "markdown",
   "metadata": {
    "id": "MEJV-CX2_Zcu"
   },
   "source": [
    "Let's create a function `genre_weekday()` with four parameters:\n",
    "* table (dataframe) with data,\n",
    "* day of the week,\n",
    "* start timestamp in 'hh:mm' format,\n",
    "* last timestamp in 'hh:mm' format.\n",
    "\n",
    "The function will return information about the top 10 genres of those tracks that were listened to on the specified day, in the interval between two timestamps."
   ]
  },
  {
   "cell_type": "code",
   "execution_count": 30,
   "metadata": {
    "id": "laJT9BYl_Zcu"
   },
   "outputs": [],
   "source": [
    "def genre_weekday(table, day, time1, time2):\n",
    "    genre_df = table[(table['day'] == day) & (table['time'] > time1) & (table['time'] < time2)]\n",
    "    genre_df_count = genre_df.groupby('genre')['track'].count()\n",
    "    genre_df_sorted = genre_df_count.sort_values(ascending=False)\n",
    "    return genre_df_sorted.head(10)\n"
   ]
  },
  {
   "cell_type": "markdown",
   "metadata": {
    "id": "la2s2_PF_Zcu"
   },
   "source": [
    "Compare the results of the `genre_weekday()` function for Moscow and St. Petersburg on Monday morning (from 7:00 to 11:00) and Friday evening (from 17:00 to 23:00):"
   ]
  },
  {
   "cell_type": "code",
   "execution_count": 31,
   "metadata": {
    "id": "yz7itPUQ_Zcu"
   },
   "outputs": [
    {
     "data": {
      "text/plain": [
       "genre\n",
       "pop            781\n",
       "dance          549\n",
       "electronic     480\n",
       "rock           474\n",
       "hiphop         286\n",
       "ruspop         186\n",
       "world          181\n",
       "rusrap         175\n",
       "alternative    164\n",
       "unknown        161\n",
       "Name: track, dtype: int64"
      ]
     },
     "execution_count": 31,
     "metadata": {},
     "output_type": "execute_result"
    }
   ],
   "source": [
    "genre_weekday(moscow_general, 'Monday', '07:00', '11:00')"
   ]
  },
  {
   "cell_type": "code",
   "execution_count": 32,
   "metadata": {
    "id": "kwUcHPdy_Zcu"
   },
   "outputs": [
    {
     "data": {
      "text/plain": [
       "genre\n",
       "pop            218\n",
       "dance          182\n",
       "rock           162\n",
       "electronic     147\n",
       "hiphop          80\n",
       "ruspop          64\n",
       "alternative     58\n",
       "rusrap          55\n",
       "jazz            44\n",
       "classical       40\n",
       "Name: track, dtype: int64"
      ]
     },
     "execution_count": 32,
     "metadata": {},
     "output_type": "execute_result"
    }
   ],
   "source": [
    "genre_weekday(spb_general, 'Monday', '07:00', '11:00')"
   ]
  },
  {
   "cell_type": "code",
   "execution_count": 33,
   "metadata": {
    "id": "EzXVRE1o_Zcu"
   },
   "outputs": [
    {
     "data": {
      "text/plain": [
       "genre\n",
       "pop            713\n",
       "rock           517\n",
       "dance          495\n",
       "electronic     482\n",
       "hiphop         273\n",
       "world          208\n",
       "ruspop         170\n",
       "alternative    163\n",
       "classical      163\n",
       "rusrap         142\n",
       "Name: track, dtype: int64"
      ]
     },
     "execution_count": 33,
     "metadata": {},
     "output_type": "execute_result"
    }
   ],
   "source": [
    "genre_weekday(moscow_general, 'Friday', '17:00', '23:00')"
   ]
  },
  {
   "cell_type": "code",
   "execution_count": 34,
   "metadata": {
    "id": "JZaEKu5v_Zcu"
   },
   "outputs": [
    {
     "data": {
      "text/plain": [
       "genre\n",
       "pop            256\n",
       "rock           216\n",
       "electronic     216\n",
       "dance          210\n",
       "hiphop          97\n",
       "alternative     63\n",
       "jazz            61\n",
       "classical       60\n",
       "rusrap          59\n",
       "world           54\n",
       "Name: track, dtype: int64"
      ]
     },
     "execution_count": 34,
     "metadata": {},
     "output_type": "execute_result"
    }
   ],
   "source": [
    "genre_weekday(spb_general, 'Friday', '17:00', '23:00')"
   ]
  },
  {
   "cell_type": "markdown",
   "metadata": {
    "id": "wrCe4MNX_Zcu"
   },
   "source": [
    "**Conclusions**\n",
    "\n",
    "If we compare the top 10 genres on Monday morning, we can draw the following conclusions:\n",
    "\n",
    "1. In Moscow and St. Petersburg they listen to similar music. The only difference is that the Moscow rating includes the “world” genre, while the St. Petersburg rating includes jazz and classical.\n",
    "\n",
    "2. There were so many missing values ​​in Moscow that the value `'unknown'` took tenth place among the most popular genres. This means that missing values ​​occupy a significant share in the data and threaten the reliability of the study.\n",
    "\n",
    "Friday night does not change this picture. Some genres rise a little higher, others go down, but overall the top 10 stays the same.\n",
    "\n",
    "Thus, the second hypothesis was only partially confirmed:\n",
    "* Users listen to similar music at the beginning of the week and at the end.\n",
    "* The difference between Moscow and St. Petersburg is not very pronounced. In Moscow, they listen to Russian popular music more often, in St. Petersburg - jazz.\n",
    "\n",
    "However, gaps in the data cast doubt on this result. There are so many of them in Moscow that the top 10 ranking could look different if it were not for the lost genre data."
   ]
  },
  {
   "cell_type": "markdown",
   "metadata": {
    "id": "JolODAqr_Zcu"
   },
   "source": [
    "### Genre preferences in Moscow and St. Petersburg\n",
    "\n",
    "Hypothesis: St. Petersburg is the capital of rap, the music of this genre is listened to more often than in Moscow. And Moscow is a city of contrasts, which, nevertheless, is dominated by pop music."
   ]
  },
  {
   "cell_type": "markdown",
   "metadata": {
    "id": "DlegSvaT_Zcu"
   },
   "source": [
    "Сгруппируйте таблицу `moscow_general` по жанру и посчитайте прослушивания треков каждого жанра методом `count()`. Затем отсортируйте результат в порядке убывания и сохраните его в таблице `moscow_genres`."
   ]
  },
  {
   "cell_type": "code",
   "execution_count": 35,
   "metadata": {
    "id": "r19lIPke_Zcu"
   },
   "outputs": [],
   "source": [
    "moscow_genres = moscow_general.groupby('genre')['genre'].count().sort_values(ascending=False)"
   ]
  },
  {
   "cell_type": "code",
   "execution_count": 36,
   "metadata": {
    "id": "WhCSooF8_Zcv"
   },
   "outputs": [
    {
     "data": {
      "text/plain": [
       "genre\n",
       "pop            5892\n",
       "dance          4435\n",
       "rock           3965\n",
       "electronic     3786\n",
       "hiphop         2096\n",
       "classical      1616\n",
       "world          1432\n",
       "alternative    1379\n",
       "ruspop         1372\n",
       "rusrap         1161\n",
       "Name: genre, dtype: int64"
      ]
     },
     "execution_count": 36,
     "metadata": {},
     "output_type": "execute_result"
    }
   ],
   "source": [
    "moscow_genres.head(10)"
   ]
  },
  {
   "cell_type": "code",
   "execution_count": 37,
   "metadata": {
    "id": "gluLIpE7_Zcv"
   },
   "outputs": [],
   "source": [
    "spb_genres = spb_general.groupby('genre')['genre'].count().sort_values(ascending=False)"
   ]
  },
  {
   "cell_type": "code",
   "execution_count": 38,
   "metadata": {
    "id": "uaGJHjVU_Zcv"
   },
   "outputs": [
    {
     "data": {
      "text/plain": [
       "genre\n",
       "pop            2431\n",
       "dance          1932\n",
       "rock           1879\n",
       "electronic     1736\n",
       "hiphop          960\n",
       "alternative     649\n",
       "classical       646\n",
       "rusrap          564\n",
       "ruspop          538\n",
       "world           515\n",
       "Name: genre, dtype: int64"
      ]
     },
     "execution_count": 38,
     "metadata": {},
     "output_type": "execute_result"
    }
   ],
   "source": [
    "spb_genres.head(10)"
   ]
  },
  {
   "cell_type": "markdown",
   "metadata": {
    "id": "RY51YJYu_Zcv"
   },
   "source": [
    "**Conclusions**"
   ]
  },
  {
   "cell_type": "markdown",
   "metadata": {
    "id": "nVhnJEm__Zcv"
   },
   "source": [
    "The hypothesis was partially confirmed:\n",
    "* Pop music is the most popular genre in Moscow, as the hypothesis suggested. Moreover, in the top 10 genres there is a close genre - Russian popular music.\n",
    "* Contrary to expectations, rap is equally popular in Moscow and St. Petersburg. \n"
   ]
  },
  {
   "cell_type": "markdown",
   "metadata": {
    "id": "ykKQ0N65_Zcv"
   },
   "source": [
    "## Research results"
   ]
  },
  {
   "cell_type": "markdown",
   "metadata": {
    "id": "tjUwbHb3_Zcv"
   },
   "source": [
    "We tested three hypotheses and found:\n",
    "\n",
    "1. The day of the week has a different effect on the activity of users in Moscow and St. Petersburg.\n",
    "\n",
    "The first hypothesis was fully confirmed.\n",
    "\n",
    "2. Musical preferences do not change much during the week - be it Moscow or St. Petersburg. Small differences are noticeable at the beginning of the week, on Mondays:\n",
    "* in Moscow they listen to music of the “world” genre,\n",
    "* in St. Petersburg - jazz and classical music.\n",
    "\n",
    "Thus, the second hypothesis was only partly confirmed. This result could have been different were it not for gaps in the data.\n",
    "\n",
    "3. The tastes of users of Moscow and St. Petersburg have more in common than differences. Contrary to expectations, genre preferences in St. Petersburg resemble those in Moscow.\n",
    "\n",
    "The third hypothesis was not confirmed. If there are differences in preferences, they are invisible to the bulk of users."
   ]
  }
 ],
 "metadata": {
  "ExecuteTimeLog": [
   {
    "duration": 144,
    "start_time": "2022-03-17T13:28:21.615Z"
   },
   {
    "duration": 67,
    "start_time": "2022-03-17T13:29:22.637Z"
   },
   {
    "duration": 9,
    "start_time": "2022-03-17T13:30:09.189Z"
   },
   {
    "duration": 120,
    "start_time": "2022-03-17T13:30:53.653Z"
   },
   {
    "duration": 9,
    "start_time": "2022-03-17T13:31:05.366Z"
   },
   {
    "duration": 8,
    "start_time": "2022-03-17T13:31:31.919Z"
   },
   {
    "duration": 770,
    "start_time": "2022-03-17T13:48:01.150Z"
   },
   {
    "duration": 520,
    "start_time": "2022-03-17T13:48:13.735Z"
   },
   {
    "duration": 3,
    "start_time": "2022-03-17T13:48:20.346Z"
   },
   {
    "duration": 200,
    "start_time": "2022-03-17T13:48:24.772Z"
   },
   {
    "duration": 12,
    "start_time": "2022-03-17T13:48:31.033Z"
   },
   {
    "duration": 28,
    "start_time": "2022-03-17T13:49:01.904Z"
   },
   {
    "duration": 45,
    "start_time": "2022-03-17T13:49:53.273Z"
   },
   {
    "duration": 4,
    "start_time": "2022-03-17T13:51:03.435Z"
   },
   {
    "duration": 5,
    "start_time": "2022-03-17T13:51:22.346Z"
   },
   {
    "duration": 111,
    "start_time": "2022-03-17T13:56:28.818Z"
   },
   {
    "duration": 17,
    "start_time": "2022-03-17T13:57:54.845Z"
   },
   {
    "duration": 5,
    "start_time": "2022-03-17T13:58:26.662Z"
   },
   {
    "duration": 58,
    "start_time": "2022-03-17T13:59:33.366Z"
   },
   {
    "duration": 32,
    "start_time": "2022-03-17T13:59:46.399Z"
   },
   {
    "duration": 34,
    "start_time": "2022-03-17T14:00:14.902Z"
   },
   {
    "duration": 32,
    "start_time": "2022-03-17T14:12:44.738Z"
   },
   {
    "duration": 35,
    "start_time": "2022-03-17T14:13:17.445Z"
   },
   {
    "duration": 46,
    "start_time": "2022-03-17T14:17:15.970Z"
   },
   {
    "duration": 3,
    "start_time": "2022-03-17T14:17:33.943Z"
   },
   {
    "duration": 235,
    "start_time": "2022-03-17T14:17:35.169Z"
   },
   {
    "duration": 21,
    "start_time": "2022-03-17T14:17:36.794Z"
   },
   {
    "duration": 38,
    "start_time": "2022-03-17T14:17:43.919Z"
   },
   {
    "duration": 5,
    "start_time": "2022-03-17T14:17:50.777Z"
   },
   {
    "duration": 13,
    "start_time": "2022-03-17T14:17:55.803Z"
   },
   {
    "duration": 6,
    "start_time": "2022-03-17T14:17:57.791Z"
   },
   {
    "duration": 29,
    "start_time": "2022-03-17T14:18:00.333Z"
   },
   {
    "duration": 23,
    "start_time": "2022-03-17T14:18:10.559Z"
   },
   {
    "duration": 32,
    "start_time": "2022-03-17T14:18:18.553Z"
   },
   {
    "duration": 93,
    "start_time": "2022-03-17T14:19:11.994Z"
   },
   {
    "duration": 69,
    "start_time": "2022-03-17T14:20:28.138Z"
   },
   {
    "duration": 12,
    "start_time": "2022-03-17T14:20:41.136Z"
   },
   {
    "duration": 11,
    "start_time": "2022-03-17T14:20:54.652Z"
   },
   {
    "duration": 116,
    "start_time": "2022-03-17T14:22:18.175Z"
   },
   {
    "duration": 92,
    "start_time": "2022-03-17T14:22:48.623Z"
   },
   {
    "duration": 46,
    "start_time": "2022-03-17T14:25:40.397Z"
   },
   {
    "duration": 55,
    "start_time": "2022-03-17T14:26:35.188Z"
   },
   {
    "duration": 52,
    "start_time": "2022-03-17T14:27:10.517Z"
   },
   {
    "duration": 57,
    "start_time": "2022-03-17T14:27:39.898Z"
   },
   {
    "duration": 22,
    "start_time": "2022-03-17T14:30:37.977Z"
   },
   {
    "duration": 52,
    "start_time": "2022-03-17T14:33:49.660Z"
   },
   {
    "duration": 50,
    "start_time": "2022-03-17T14:34:22.088Z"
   },
   {
    "duration": 58,
    "start_time": "2022-03-17T14:35:39.044Z"
   },
   {
    "duration": 83,
    "start_time": "2022-03-17T14:35:57.460Z"
   },
   {
    "duration": 52,
    "start_time": "2022-03-17T14:36:14.526Z"
   },
   {
    "duration": 11,
    "start_time": "2022-03-17T14:36:35.571Z"
   },
   {
    "duration": 11,
    "start_time": "2022-03-17T14:40:07.162Z"
   },
   {
    "duration": 3,
    "start_time": "2022-03-17T14:40:19.735Z"
   },
   {
    "duration": 11,
    "start_time": "2022-03-17T14:41:20.900Z"
   },
   {
    "duration": 13,
    "start_time": "2022-03-17T14:42:21.076Z"
   },
   {
    "duration": 15,
    "start_time": "2022-03-17T14:42:31.548Z"
   },
   {
    "duration": 9,
    "start_time": "2022-03-17T14:42:43.255Z"
   },
   {
    "duration": 15,
    "start_time": "2022-03-17T14:42:59.921Z"
   },
   {
    "duration": 11,
    "start_time": "2022-03-17T14:43:24.458Z"
   },
   {
    "duration": 15,
    "start_time": "2022-03-17T14:43:39.267Z"
   },
   {
    "duration": 9,
    "start_time": "2022-03-17T14:45:40.574Z"
   },
   {
    "duration": 9,
    "start_time": "2022-03-17T14:45:57.445Z"
   },
   {
    "duration": 14,
    "start_time": "2022-03-17T14:49:06.074Z"
   },
   {
    "duration": 11,
    "start_time": "2022-03-17T14:49:16.083Z"
   },
   {
    "duration": 13,
    "start_time": "2022-03-17T14:49:24.680Z"
   },
   {
    "duration": 8,
    "start_time": "2022-03-17T15:06:53.140Z"
   },
   {
    "duration": 12,
    "start_time": "2022-03-17T15:06:59.879Z"
   },
   {
    "duration": 9,
    "start_time": "2022-03-17T15:07:10.749Z"
   },
   {
    "duration": 14,
    "start_time": "2022-03-17T15:07:47.701Z"
   },
   {
    "duration": 62,
    "start_time": "2022-03-17T15:10:17.354Z"
   },
   {
    "duration": 80,
    "start_time": "2022-03-17T15:10:25.353Z"
   },
   {
    "duration": 78,
    "start_time": "2022-03-17T15:10:46.006Z"
   },
   {
    "duration": 57,
    "start_time": "2022-03-17T15:11:30.901Z"
   },
   {
    "duration": 54,
    "start_time": "2022-03-17T15:12:11.833Z"
   },
   {
    "duration": 57,
    "start_time": "2022-03-17T15:12:26.898Z"
   },
   {
    "duration": 3,
    "start_time": "2022-03-17T15:35:30.224Z"
   },
   {
    "duration": 17,
    "start_time": "2022-03-17T15:37:44.876Z"
   },
   {
    "duration": 55,
    "start_time": "2022-03-17T15:38:35.094Z"
   },
   {
    "duration": 92,
    "start_time": "2022-03-17T15:59:06.089Z"
   },
   {
    "duration": 38,
    "start_time": "2022-03-17T16:03:08.189Z"
   },
   {
    "duration": 18,
    "start_time": "2022-03-17T16:04:45.794Z"
   },
   {
    "duration": 19,
    "start_time": "2022-03-17T16:05:13.419Z"
   },
   {
    "duration": 5,
    "start_time": "2022-03-17T16:06:53.888Z"
   },
   {
    "duration": 36,
    "start_time": "2022-03-17T16:07:56.164Z"
   },
   {
    "duration": 5,
    "start_time": "2022-03-17T16:08:15.088Z"
   },
   {
    "duration": 16,
    "start_time": "2022-03-17T16:08:37.625Z"
   },
   {
    "duration": 18,
    "start_time": "2022-03-17T16:08:44.528Z"
   },
   {
    "duration": 6,
    "start_time": "2022-03-17T16:08:49.829Z"
   },
   {
    "duration": 17,
    "start_time": "2022-03-17T16:09:07.868Z"
   },
   {
    "duration": 18,
    "start_time": "2022-03-17T16:09:14.519Z"
   },
   {
    "duration": 5,
    "start_time": "2022-03-17T16:21:30.894Z"
   },
   {
    "duration": 10,
    "start_time": "2022-03-17T16:22:32.275Z"
   },
   {
    "duration": 9,
    "start_time": "2022-03-17T16:23:09.678Z"
   },
   {
    "duration": 10,
    "start_time": "2022-03-17T16:23:28.929Z"
   },
   {
    "duration": 10,
    "start_time": "2022-03-17T16:23:54.313Z"
   },
   {
    "duration": 24,
    "start_time": "2022-03-17T16:27:49.522Z"
   },
   {
    "duration": 25,
    "start_time": "2022-03-17T16:28:39.044Z"
   },
   {
    "duration": 22,
    "start_time": "2022-03-17T16:28:51.351Z"
   },
   {
    "duration": 23,
    "start_time": "2022-03-17T16:29:44.346Z"
   },
   {
    "duration": 32,
    "start_time": "2022-03-17T16:29:55.742Z"
   },
   {
    "duration": 173,
    "start_time": "2022-03-17T16:30:19.910Z"
   },
   {
    "duration": 20,
    "start_time": "2022-03-17T16:30:27.345Z"
   },
   {
    "duration": 23,
    "start_time": "2022-03-17T16:30:46.063Z"
   },
   {
    "duration": 17,
    "start_time": "2022-03-17T16:31:00.703Z"
   },
   {
    "duration": 22,
    "start_time": "2022-03-17T16:35:16.200Z"
   },
   {
    "duration": 20,
    "start_time": "2022-03-17T16:36:33.457Z"
   },
   {
    "duration": 24,
    "start_time": "2022-03-17T16:39:05.186Z"
   },
   {
    "duration": 23,
    "start_time": "2022-03-17T16:39:22.098Z"
   },
   {
    "duration": 24,
    "start_time": "2022-03-17T16:39:39.277Z"
   },
   {
    "duration": 22,
    "start_time": "2022-03-17T16:39:40.790Z"
   },
   {
    "duration": 29,
    "start_time": "2022-03-17T16:39:44.467Z"
   },
   {
    "duration": 20,
    "start_time": "2022-03-17T16:39:55.229Z"
   },
   {
    "duration": 27,
    "start_time": "2022-03-17T16:39:59.449Z"
   },
   {
    "duration": 25,
    "start_time": "2022-03-17T16:40:17.275Z"
   },
   {
    "duration": 20,
    "start_time": "2022-03-17T16:40:18.330Z"
   },
   {
    "duration": 22,
    "start_time": "2022-03-17T16:40:52.943Z"
   },
   {
    "duration": 18,
    "start_time": "2022-03-17T16:40:57.873Z"
   },
   {
    "duration": 23,
    "start_time": "2022-03-17T16:41:47.133Z"
   },
   {
    "duration": 20,
    "start_time": "2022-03-17T16:42:37.041Z"
   },
   {
    "duration": 22,
    "start_time": "2022-03-17T16:43:04.436Z"
   },
   {
    "duration": 19,
    "start_time": "2022-03-17T16:45:29.599Z"
   },
   {
    "duration": 13,
    "start_time": "2022-03-17T16:45:58.205Z"
   },
   {
    "duration": 20,
    "start_time": "2022-03-17T16:46:17.463Z"
   },
   {
    "duration": 12,
    "start_time": "2022-03-17T16:48:31.155Z"
   },
   {
    "duration": 12,
    "start_time": "2022-03-17T16:48:48.665Z"
   },
   {
    "duration": 13,
    "start_time": "2022-03-17T16:49:16.220Z"
   },
   {
    "duration": 46,
    "start_time": "2022-03-18T08:33:31.713Z"
   },
   {
    "duration": 414,
    "start_time": "2022-03-18T08:33:51.122Z"
   },
   {
    "duration": 144,
    "start_time": "2022-03-18T08:33:51.537Z"
   },
   {
    "duration": 15,
    "start_time": "2022-03-18T08:33:51.683Z"
   },
   {
    "duration": 37,
    "start_time": "2022-03-18T08:33:51.700Z"
   },
   {
    "duration": 4,
    "start_time": "2022-03-18T08:33:51.739Z"
   },
   {
    "duration": 17,
    "start_time": "2022-03-18T08:33:51.744Z"
   },
   {
    "duration": 5,
    "start_time": "2022-03-18T08:33:51.762Z"
   },
   {
    "duration": 24,
    "start_time": "2022-03-18T08:33:51.769Z"
   },
   {
    "duration": 39,
    "start_time": "2022-03-18T08:33:51.794Z"
   },
   {
    "duration": 25,
    "start_time": "2022-03-18T08:33:51.835Z"
   },
   {
    "duration": 61,
    "start_time": "2022-03-18T08:33:51.861Z"
   },
   {
    "duration": 67,
    "start_time": "2022-03-18T08:33:51.932Z"
   },
   {
    "duration": 67,
    "start_time": "2022-03-18T08:33:52.001Z"
   },
   {
    "duration": 39,
    "start_time": "2022-03-18T08:33:52.070Z"
   },
   {
    "duration": 3,
    "start_time": "2022-03-18T08:33:52.111Z"
   },
   {
    "duration": 27,
    "start_time": "2022-03-18T08:33:52.115Z"
   },
   {
    "duration": 40,
    "start_time": "2022-03-18T08:33:52.143Z"
   },
   {
    "duration": 11,
    "start_time": "2022-03-18T08:33:52.185Z"
   },
   {
    "duration": 36,
    "start_time": "2022-03-18T08:33:52.197Z"
   },
   {
    "duration": 4,
    "start_time": "2022-03-18T08:33:52.235Z"
   },
   {
    "duration": 22,
    "start_time": "2022-03-18T08:33:52.240Z"
   },
   {
    "duration": 14,
    "start_time": "2022-03-18T08:33:52.263Z"
   },
   {
    "duration": 19,
    "start_time": "2022-03-18T08:33:52.278Z"
   },
   {
    "duration": 14,
    "start_time": "2022-03-18T08:33:52.298Z"
   },
   {
    "duration": 17,
    "start_time": "2022-03-18T08:33:52.332Z"
   },
   {
    "duration": 15,
    "start_time": "2022-03-18T08:33:52.350Z"
   },
   {
    "duration": 9,
    "start_time": "2022-03-18T08:33:52.366Z"
   },
   {
    "duration": 13,
    "start_time": "2022-03-18T08:33:52.378Z"
   },
   {
    "duration": 2,
    "start_time": "2022-03-18T08:33:52.393Z"
   },
   {
    "duration": 4,
    "start_time": "2022-03-18T08:33:52.396Z"
   },
   {
    "duration": 31,
    "start_time": "2022-03-18T08:33:52.402Z"
   },
   {
    "duration": 3,
    "start_time": "2022-03-18T08:33:52.434Z"
   },
   {
    "duration": 8,
    "start_time": "2022-03-18T08:33:52.438Z"
   },
   {
    "duration": 8,
    "start_time": "2022-03-18T08:33:52.447Z"
   },
   {
    "duration": 8,
    "start_time": "2022-03-18T08:33:52.456Z"
   },
   {
    "duration": 4,
    "start_time": "2022-03-18T08:33:52.465Z"
   },
   {
    "duration": 4,
    "start_time": "2022-03-18T08:33:52.471Z"
   },
   {
    "duration": 4,
    "start_time": "2022-03-18T08:33:52.477Z"
   },
   {
    "duration": 12,
    "start_time": "2022-03-18T08:34:04.608Z"
   },
   {
    "duration": 20,
    "start_time": "2022-03-18T08:34:41.996Z"
   },
   {
    "duration": 19,
    "start_time": "2022-03-18T08:35:53.819Z"
   },
   {
    "duration": 114,
    "start_time": "2022-03-18T08:47:45.962Z"
   },
   {
    "duration": 83,
    "start_time": "2022-03-18T08:47:57.674Z"
   },
   {
    "duration": 105,
    "start_time": "2022-03-18T08:49:00.236Z"
   },
   {
    "duration": 3,
    "start_time": "2022-03-18T08:49:44.966Z"
   },
   {
    "duration": 4,
    "start_time": "2022-03-18T08:50:15.650Z"
   },
   {
    "duration": 35,
    "start_time": "2022-03-18T08:51:45.372Z"
   },
   {
    "duration": 5,
    "start_time": "2022-03-18T08:56:03.742Z"
   },
   {
    "duration": 10,
    "start_time": "2022-03-18T08:56:07.170Z"
   },
   {
    "duration": 4,
    "start_time": "2022-03-18T08:56:35.777Z"
   },
   {
    "duration": 11,
    "start_time": "2022-03-18T08:56:38.019Z"
   },
   {
    "duration": 4,
    "start_time": "2022-03-18T08:57:11.743Z"
   },
   {
    "duration": 19,
    "start_time": "2022-03-18T08:57:13.634Z"
   },
   {
    "duration": 8,
    "start_time": "2022-03-18T08:59:00.483Z"
   },
   {
    "duration": 16,
    "start_time": "2022-03-18T08:59:44.379Z"
   },
   {
    "duration": 4,
    "start_time": "2022-03-18T08:59:58.809Z"
   },
   {
    "duration": 12,
    "start_time": "2022-03-18T09:00:01.690Z"
   },
   {
    "duration": 12,
    "start_time": "2022-03-18T09:00:13.529Z"
   },
   {
    "duration": 12,
    "start_time": "2022-03-18T09:01:18.461Z"
   },
   {
    "duration": 18,
    "start_time": "2022-03-18T09:02:16.076Z"
   },
   {
    "duration": 13,
    "start_time": "2022-03-18T09:02:28.766Z"
   },
   {
    "duration": 15,
    "start_time": "2022-03-18T09:03:03.726Z"
   },
   {
    "duration": 13,
    "start_time": "2022-03-18T09:03:30.292Z"
   },
   {
    "duration": 12,
    "start_time": "2022-03-18T09:03:50.144Z"
   },
   {
    "duration": 19,
    "start_time": "2022-03-18T09:04:03.256Z"
   },
   {
    "duration": 12,
    "start_time": "2022-03-18T09:04:11.897Z"
   },
   {
    "duration": 28,
    "start_time": "2022-03-18T09:04:19.726Z"
   },
   {
    "duration": 11,
    "start_time": "2022-03-18T09:04:54.347Z"
   },
   {
    "duration": 20,
    "start_time": "2022-03-18T09:05:19.042Z"
   },
   {
    "duration": 18,
    "start_time": "2022-03-18T09:05:30.164Z"
   },
   {
    "duration": 17,
    "start_time": "2022-03-18T09:05:44.930Z"
   },
   {
    "duration": 3,
    "start_time": "2022-03-18T09:47:51.271Z"
   },
   {
    "duration": 174,
    "start_time": "2022-03-18T09:47:51.277Z"
   },
   {
    "duration": 10,
    "start_time": "2022-03-18T09:47:51.453Z"
   },
   {
    "duration": 30,
    "start_time": "2022-03-18T09:47:51.465Z"
   },
   {
    "duration": 4,
    "start_time": "2022-03-18T09:47:51.497Z"
   },
   {
    "duration": 33,
    "start_time": "2022-03-18T09:47:51.502Z"
   },
   {
    "duration": 3,
    "start_time": "2022-03-18T09:47:51.537Z"
   },
   {
    "duration": 28,
    "start_time": "2022-03-18T09:47:51.542Z"
   },
   {
    "duration": 22,
    "start_time": "2022-03-18T09:47:51.572Z"
   },
   {
    "duration": 40,
    "start_time": "2022-03-18T09:47:51.595Z"
   },
   {
    "duration": 59,
    "start_time": "2022-03-18T09:47:51.638Z"
   },
   {
    "duration": 83,
    "start_time": "2022-03-18T09:47:51.699Z"
   },
   {
    "duration": 59,
    "start_time": "2022-03-18T09:47:51.784Z"
   },
   {
    "duration": 38,
    "start_time": "2022-03-18T09:47:51.845Z"
   },
   {
    "duration": 3,
    "start_time": "2022-03-18T09:47:51.885Z"
   },
   {
    "duration": 15,
    "start_time": "2022-03-18T09:47:51.889Z"
   },
   {
    "duration": 55,
    "start_time": "2022-03-18T09:47:51.906Z"
   },
   {
    "duration": 13,
    "start_time": "2022-03-18T09:47:51.962Z"
   },
   {
    "duration": 12,
    "start_time": "2022-03-18T09:47:51.976Z"
   },
   {
    "duration": 4,
    "start_time": "2022-03-18T09:47:51.989Z"
   },
   {
    "duration": 52,
    "start_time": "2022-03-18T09:47:51.995Z"
   },
   {
    "duration": 14,
    "start_time": "2022-03-18T09:47:52.049Z"
   },
   {
    "duration": 17,
    "start_time": "2022-03-18T09:47:52.064Z"
   },
   {
    "duration": 17,
    "start_time": "2022-03-18T09:47:52.082Z"
   },
   {
    "duration": 44,
    "start_time": "2022-03-18T09:47:52.101Z"
   },
   {
    "duration": 16,
    "start_time": "2022-03-18T09:47:52.146Z"
   },
   {
    "duration": 9,
    "start_time": "2022-03-18T09:47:52.163Z"
   },
   {
    "duration": 24,
    "start_time": "2022-03-18T09:47:52.173Z"
   },
   {
    "duration": 44,
    "start_time": "2022-03-18T09:47:52.200Z"
   },
   {
    "duration": 4,
    "start_time": "2022-03-18T09:47:52.246Z"
   },
   {
    "duration": 29,
    "start_time": "2022-03-18T09:47:52.252Z"
   },
   {
    "duration": 14,
    "start_time": "2022-03-18T09:47:52.282Z"
   },
   {
    "duration": 16,
    "start_time": "2022-03-18T09:47:52.298Z"
   },
   {
    "duration": 24,
    "start_time": "2022-03-18T09:47:52.315Z"
   },
   {
    "duration": 3,
    "start_time": "2022-03-18T09:47:52.340Z"
   },
   {
    "duration": 7,
    "start_time": "2022-03-18T09:47:52.344Z"
   },
   {
    "duration": 8,
    "start_time": "2022-03-18T09:47:52.353Z"
   },
   {
    "duration": 6,
    "start_time": "2022-03-18T09:47:52.362Z"
   },
   {
    "duration": 9,
    "start_time": "2022-03-18T09:50:20.413Z"
   },
   {
    "duration": 17,
    "start_time": "2022-03-18T09:50:32.196Z"
   },
   {
    "duration": 10,
    "start_time": "2022-03-18T09:51:48.220Z"
   },
   {
    "duration": 7,
    "start_time": "2022-03-18T09:52:05.002Z"
   },
   {
    "duration": 5,
    "start_time": "2022-03-18T09:52:10.902Z"
   },
   {
    "duration": 10,
    "start_time": "2022-03-18T09:52:53.764Z"
   },
   {
    "duration": 4,
    "start_time": "2022-03-18T09:52:55.405Z"
   },
   {
    "duration": 10,
    "start_time": "2022-03-18T09:53:14.322Z"
   },
   {
    "duration": 7,
    "start_time": "2022-03-18T09:53:57.036Z"
   },
   {
    "duration": 2,
    "start_time": "2022-03-18T09:54:35.600Z"
   },
   {
    "duration": 218,
    "start_time": "2022-03-18T09:54:35.604Z"
   },
   {
    "duration": 13,
    "start_time": "2022-03-18T09:54:35.832Z"
   },
   {
    "duration": 52,
    "start_time": "2022-03-18T09:54:35.846Z"
   },
   {
    "duration": 3,
    "start_time": "2022-03-18T09:54:35.901Z"
   },
   {
    "duration": 13,
    "start_time": "2022-03-18T09:54:35.906Z"
   },
   {
    "duration": 13,
    "start_time": "2022-03-18T09:54:35.921Z"
   },
   {
    "duration": 31,
    "start_time": "2022-03-18T09:54:35.935Z"
   },
   {
    "duration": 19,
    "start_time": "2022-03-18T09:54:35.967Z"
   },
   {
    "duration": 45,
    "start_time": "2022-03-18T09:54:35.988Z"
   },
   {
    "duration": 61,
    "start_time": "2022-03-18T09:54:36.036Z"
   },
   {
    "duration": 84,
    "start_time": "2022-03-18T09:54:36.098Z"
   },
   {
    "duration": 65,
    "start_time": "2022-03-18T09:54:36.184Z"
   },
   {
    "duration": 41,
    "start_time": "2022-03-18T09:54:36.251Z"
   },
   {
    "duration": 3,
    "start_time": "2022-03-18T09:54:36.294Z"
   },
   {
    "duration": 34,
    "start_time": "2022-03-18T09:54:36.299Z"
   },
   {
    "duration": 40,
    "start_time": "2022-03-18T09:54:36.334Z"
   },
   {
    "duration": 13,
    "start_time": "2022-03-18T09:54:36.376Z"
   },
   {
    "duration": 12,
    "start_time": "2022-03-18T09:54:36.391Z"
   },
   {
    "duration": 30,
    "start_time": "2022-03-18T09:54:36.405Z"
   },
   {
    "duration": 23,
    "start_time": "2022-03-18T09:54:36.437Z"
   },
   {
    "duration": 16,
    "start_time": "2022-03-18T09:54:36.462Z"
   },
   {
    "duration": 15,
    "start_time": "2022-03-18T09:54:36.480Z"
   },
   {
    "duration": 37,
    "start_time": "2022-03-18T09:54:36.496Z"
   },
   {
    "duration": 17,
    "start_time": "2022-03-18T09:54:36.534Z"
   },
   {
    "duration": 19,
    "start_time": "2022-03-18T09:54:36.552Z"
   },
   {
    "duration": 9,
    "start_time": "2022-03-18T09:54:36.572Z"
   },
   {
    "duration": 24,
    "start_time": "2022-03-18T09:54:36.582Z"
   },
   {
    "duration": 36,
    "start_time": "2022-03-18T09:54:36.609Z"
   },
   {
    "duration": 4,
    "start_time": "2022-03-18T09:54:36.647Z"
   },
   {
    "duration": 22,
    "start_time": "2022-03-18T09:54:36.652Z"
   },
   {
    "duration": 11,
    "start_time": "2022-03-18T09:54:36.675Z"
   },
   {
    "duration": 17,
    "start_time": "2022-03-18T09:54:36.688Z"
   },
   {
    "duration": 12,
    "start_time": "2022-03-18T09:54:36.733Z"
   },
   {
    "duration": 10,
    "start_time": "2022-03-18T09:54:36.746Z"
   },
   {
    "duration": 7,
    "start_time": "2022-03-18T09:54:36.757Z"
   },
   {
    "duration": 8,
    "start_time": "2022-03-18T09:54:36.765Z"
   },
   {
    "duration": 4,
    "start_time": "2022-03-18T09:54:36.774Z"
   },
   {
    "duration": 3,
    "start_time": "2022-03-18T09:55:43.445Z"
   },
   {
    "duration": 236,
    "start_time": "2022-03-18T09:55:43.451Z"
   },
   {
    "duration": 16,
    "start_time": "2022-03-18T09:55:43.690Z"
   },
   {
    "duration": 51,
    "start_time": "2022-03-18T09:55:43.708Z"
   },
   {
    "duration": 3,
    "start_time": "2022-03-18T09:55:43.762Z"
   },
   {
    "duration": 15,
    "start_time": "2022-03-18T09:55:43.766Z"
   },
   {
    "duration": 3,
    "start_time": "2022-03-18T09:55:43.782Z"
   },
   {
    "duration": 50,
    "start_time": "2022-03-18T09:55:43.787Z"
   },
   {
    "duration": 24,
    "start_time": "2022-03-18T09:55:43.839Z"
   },
   {
    "duration": 26,
    "start_time": "2022-03-18T09:55:43.865Z"
   },
   {
    "duration": 84,
    "start_time": "2022-03-18T09:55:43.895Z"
   },
   {
    "duration": 85,
    "start_time": "2022-03-18T09:55:43.981Z"
   },
   {
    "duration": 67,
    "start_time": "2022-03-18T09:55:44.067Z"
   },
   {
    "duration": 68,
    "start_time": "2022-03-18T09:55:44.136Z"
   },
   {
    "duration": 4,
    "start_time": "2022-03-18T09:55:44.206Z"
   },
   {
    "duration": 26,
    "start_time": "2022-03-18T09:55:44.211Z"
   },
   {
    "duration": 39,
    "start_time": "2022-03-18T09:55:44.239Z"
   },
   {
    "duration": 15,
    "start_time": "2022-03-18T09:55:44.279Z"
   },
   {
    "duration": 47,
    "start_time": "2022-03-18T09:55:44.295Z"
   },
   {
    "duration": 4,
    "start_time": "2022-03-18T09:55:44.344Z"
   },
   {
    "duration": 25,
    "start_time": "2022-03-18T09:55:44.350Z"
   },
   {
    "duration": 14,
    "start_time": "2022-03-18T09:55:44.377Z"
   },
   {
    "duration": 16,
    "start_time": "2022-03-18T09:55:44.393Z"
   },
   {
    "duration": 35,
    "start_time": "2022-03-18T09:55:44.410Z"
   },
   {
    "duration": 18,
    "start_time": "2022-03-18T09:55:44.447Z"
   },
   {
    "duration": 15,
    "start_time": "2022-03-18T09:55:44.467Z"
   },
   {
    "duration": 13,
    "start_time": "2022-03-18T09:55:44.483Z"
   },
   {
    "duration": 54,
    "start_time": "2022-03-18T09:55:44.498Z"
   },
   {
    "duration": 22,
    "start_time": "2022-03-18T09:55:44.557Z"
   },
   {
    "duration": 4,
    "start_time": "2022-03-18T09:55:44.582Z"
   },
   {
    "duration": 52,
    "start_time": "2022-03-18T09:55:44.588Z"
   },
   {
    "duration": 13,
    "start_time": "2022-03-18T09:55:44.641Z"
   },
   {
    "duration": 19,
    "start_time": "2022-03-18T09:55:44.655Z"
   },
   {
    "duration": 14,
    "start_time": "2022-03-18T09:55:44.676Z"
   },
   {
    "duration": 41,
    "start_time": "2022-03-18T09:55:44.692Z"
   },
   {
    "duration": 5,
    "start_time": "2022-03-18T09:55:44.734Z"
   },
   {
    "duration": 9,
    "start_time": "2022-03-18T09:55:44.741Z"
   },
   {
    "duration": 6,
    "start_time": "2022-03-18T09:55:44.752Z"
   },
   {
    "duration": 38,
    "start_time": "2022-03-18T09:56:21.667Z"
   },
   {
    "duration": 3,
    "start_time": "2022-03-18T09:57:00.901Z"
   },
   {
    "duration": 164,
    "start_time": "2022-03-18T09:57:00.908Z"
   },
   {
    "duration": 11,
    "start_time": "2022-03-18T09:57:01.074Z"
   },
   {
    "duration": 51,
    "start_time": "2022-03-18T09:57:01.086Z"
   },
   {
    "duration": 9,
    "start_time": "2022-03-18T09:57:01.140Z"
   },
   {
    "duration": 15,
    "start_time": "2022-03-18T09:57:01.150Z"
   },
   {
    "duration": 9,
    "start_time": "2022-03-18T09:57:01.166Z"
   },
   {
    "duration": 31,
    "start_time": "2022-03-18T09:57:01.177Z"
   },
   {
    "duration": 30,
    "start_time": "2022-03-18T09:57:01.209Z"
   },
   {
    "duration": 41,
    "start_time": "2022-03-18T09:57:01.241Z"
   },
   {
    "duration": 72,
    "start_time": "2022-03-18T09:57:01.285Z"
   },
   {
    "duration": 73,
    "start_time": "2022-03-18T09:57:01.359Z"
   },
   {
    "duration": 56,
    "start_time": "2022-03-18T09:57:01.434Z"
   },
   {
    "duration": 51,
    "start_time": "2022-03-18T09:57:01.492Z"
   },
   {
    "duration": 2,
    "start_time": "2022-03-18T09:57:01.545Z"
   },
   {
    "duration": 16,
    "start_time": "2022-03-18T09:57:01.549Z"
   },
   {
    "duration": 45,
    "start_time": "2022-03-18T09:57:01.566Z"
   },
   {
    "duration": 28,
    "start_time": "2022-03-18T09:57:01.613Z"
   },
   {
    "duration": 19,
    "start_time": "2022-03-18T09:57:01.642Z"
   },
   {
    "duration": 12,
    "start_time": "2022-03-18T09:57:01.663Z"
   },
   {
    "duration": 29,
    "start_time": "2022-03-18T09:57:01.676Z"
   },
   {
    "duration": 15,
    "start_time": "2022-03-18T09:57:01.706Z"
   },
   {
    "duration": 19,
    "start_time": "2022-03-18T09:57:01.723Z"
   },
   {
    "duration": 17,
    "start_time": "2022-03-18T09:57:01.743Z"
   },
   {
    "duration": 17,
    "start_time": "2022-03-18T09:57:01.762Z"
   },
   {
    "duration": 15,
    "start_time": "2022-03-18T09:57:01.780Z"
   },
   {
    "duration": 36,
    "start_time": "2022-03-18T09:57:01.797Z"
   },
   {
    "duration": 23,
    "start_time": "2022-03-18T09:57:01.835Z"
   },
   {
    "duration": 18,
    "start_time": "2022-03-18T09:57:01.862Z"
   },
   {
    "duration": 4,
    "start_time": "2022-03-18T09:57:01.882Z"
   },
   {
    "duration": 47,
    "start_time": "2022-03-18T09:57:01.887Z"
   },
   {
    "duration": 13,
    "start_time": "2022-03-18T09:57:01.935Z"
   },
   {
    "duration": 18,
    "start_time": "2022-03-18T09:57:01.949Z"
   },
   {
    "duration": 12,
    "start_time": "2022-03-18T09:57:01.968Z"
   },
   {
    "duration": 11,
    "start_time": "2022-03-18T09:57:01.981Z"
   },
   {
    "duration": 5,
    "start_time": "2022-03-18T09:57:01.994Z"
   },
   {
    "duration": 8,
    "start_time": "2022-03-18T09:57:02.032Z"
   },
   {
    "duration": 6,
    "start_time": "2022-03-18T09:57:02.042Z"
   },
   {
    "duration": 52,
    "start_time": "2022-03-30T09:58:36.360Z"
   },
   {
    "duration": 381,
    "start_time": "2022-03-30T09:59:04.785Z"
   },
   {
    "duration": 154,
    "start_time": "2022-03-30T09:59:05.168Z"
   },
   {
    "duration": 19,
    "start_time": "2022-03-30T09:59:05.323Z"
   },
   {
    "duration": 31,
    "start_time": "2022-03-30T09:59:05.344Z"
   },
   {
    "duration": 3,
    "start_time": "2022-03-30T09:59:05.376Z"
   },
   {
    "duration": 18,
    "start_time": "2022-03-30T09:59:05.381Z"
   },
   {
    "duration": 14,
    "start_time": "2022-03-30T09:59:05.401Z"
   },
   {
    "duration": 34,
    "start_time": "2022-03-30T09:59:05.417Z"
   },
   {
    "duration": 22,
    "start_time": "2022-03-30T09:59:05.453Z"
   },
   {
    "duration": 25,
    "start_time": "2022-03-30T09:59:05.478Z"
   },
   {
    "duration": 91,
    "start_time": "2022-03-30T09:59:05.505Z"
   },
   {
    "duration": 100,
    "start_time": "2022-03-30T09:59:05.598Z"
   },
   {
    "duration": 70,
    "start_time": "2022-03-30T09:59:05.700Z"
   },
   {
    "duration": 40,
    "start_time": "2022-03-30T09:59:05.771Z"
   },
   {
    "duration": 3,
    "start_time": "2022-03-30T09:59:05.813Z"
   },
   {
    "duration": 21,
    "start_time": "2022-03-30T09:59:05.818Z"
   },
   {
    "duration": 41,
    "start_time": "2022-03-30T09:59:05.841Z"
   },
   {
    "duration": 15,
    "start_time": "2022-03-30T09:59:05.884Z"
   },
   {
    "duration": 42,
    "start_time": "2022-03-30T09:59:05.901Z"
   },
   {
    "duration": 5,
    "start_time": "2022-03-30T09:59:05.945Z"
   },
   {
    "duration": 30,
    "start_time": "2022-03-30T09:59:05.951Z"
   },
   {
    "duration": 18,
    "start_time": "2022-03-30T09:59:05.983Z"
   },
   {
    "duration": 31,
    "start_time": "2022-03-30T09:59:06.003Z"
   },
   {
    "duration": 16,
    "start_time": "2022-03-30T09:59:06.035Z"
   },
   {
    "duration": 17,
    "start_time": "2022-03-30T09:59:06.052Z"
   },
   {
    "duration": 18,
    "start_time": "2022-03-30T09:59:06.071Z"
   },
   {
    "duration": 10,
    "start_time": "2022-03-30T09:59:06.090Z"
   },
   {
    "duration": 20,
    "start_time": "2022-03-30T09:59:06.132Z"
   },
   {
    "duration": 18,
    "start_time": "2022-03-30T09:59:06.154Z"
   },
   {
    "duration": 4,
    "start_time": "2022-03-30T09:59:06.174Z"
   },
   {
    "duration": 32,
    "start_time": "2022-03-30T09:59:06.180Z"
   },
   {
    "duration": 28,
    "start_time": "2022-03-30T09:59:06.214Z"
   },
   {
    "duration": 19,
    "start_time": "2022-03-30T09:59:06.244Z"
   },
   {
    "duration": 11,
    "start_time": "2022-03-30T09:59:06.265Z"
   },
   {
    "duration": 10,
    "start_time": "2022-03-30T09:59:06.278Z"
   },
   {
    "duration": 5,
    "start_time": "2022-03-30T09:59:06.290Z"
   },
   {
    "duration": 8,
    "start_time": "2022-03-30T09:59:06.296Z"
   },
   {
    "duration": 5,
    "start_time": "2022-03-30T09:59:06.332Z"
   },
   {
    "duration": 96,
    "start_time": "2022-03-30T10:09:58.154Z"
   },
   {
    "duration": 89,
    "start_time": "2022-03-30T10:10:17.955Z"
   },
   {
    "duration": 111,
    "start_time": "2022-03-30T10:11:49.104Z"
   },
   {
    "duration": 134,
    "start_time": "2022-03-30T10:13:01.152Z"
   },
   {
    "duration": 95,
    "start_time": "2022-03-30T10:13:40.385Z"
   },
   {
    "duration": 195,
    "start_time": "2022-03-30T10:14:14.218Z"
   },
   {
    "duration": 84,
    "start_time": "2022-03-30T10:14:40.915Z"
   },
   {
    "duration": 93,
    "start_time": "2022-03-30T10:15:05.212Z"
   },
   {
    "duration": 90,
    "start_time": "2022-03-30T10:15:57.220Z"
   },
   {
    "duration": 5,
    "start_time": "2022-03-30T10:17:15.829Z"
   },
   {
    "duration": 4,
    "start_time": "2022-03-30T10:19:00.931Z"
   },
   {
    "duration": 24,
    "start_time": "2022-03-30T10:20:37.657Z"
   },
   {
    "duration": 16,
    "start_time": "2022-03-30T10:25:00.886Z"
   },
   {
    "duration": 12,
    "start_time": "2022-03-30T10:25:10.931Z"
   },
   {
    "duration": 403,
    "start_time": "2022-03-30T10:28:01.873Z"
   },
   {
    "duration": 162,
    "start_time": "2022-03-30T10:28:02.278Z"
   },
   {
    "duration": 18,
    "start_time": "2022-03-30T10:28:02.442Z"
   },
   {
    "duration": 28,
    "start_time": "2022-03-30T10:28:02.462Z"
   },
   {
    "duration": 9,
    "start_time": "2022-03-30T10:28:02.492Z"
   },
   {
    "duration": 34,
    "start_time": "2022-03-30T10:28:02.502Z"
   },
   {
    "duration": 8,
    "start_time": "2022-03-30T10:28:02.538Z"
   },
   {
    "duration": 31,
    "start_time": "2022-03-30T10:28:02.547Z"
   },
   {
    "duration": 19,
    "start_time": "2022-03-30T10:28:02.580Z"
   },
   {
    "duration": 37,
    "start_time": "2022-03-30T10:28:02.601Z"
   },
   {
    "duration": 68,
    "start_time": "2022-03-30T10:28:02.639Z"
   },
   {
    "duration": 93,
    "start_time": "2022-03-30T10:28:02.708Z"
   },
   {
    "duration": 69,
    "start_time": "2022-03-30T10:28:02.802Z"
   },
   {
    "duration": 39,
    "start_time": "2022-03-30T10:28:02.872Z"
   },
   {
    "duration": 3,
    "start_time": "2022-03-30T10:28:02.913Z"
   },
   {
    "duration": 12,
    "start_time": "2022-03-30T10:28:02.933Z"
   },
   {
    "duration": 46,
    "start_time": "2022-03-30T10:28:02.947Z"
   },
   {
    "duration": 14,
    "start_time": "2022-03-30T10:28:02.995Z"
   },
   {
    "duration": 32,
    "start_time": "2022-03-30T10:28:03.011Z"
   },
   {
    "duration": 4,
    "start_time": "2022-03-30T10:28:03.045Z"
   },
   {
    "duration": 21,
    "start_time": "2022-03-30T10:28:03.051Z"
   },
   {
    "duration": 16,
    "start_time": "2022-03-30T10:28:03.074Z"
   },
   {
    "duration": 45,
    "start_time": "2022-03-30T10:28:03.092Z"
   },
   {
    "duration": 14,
    "start_time": "2022-03-30T10:28:03.139Z"
   },
   {
    "duration": 16,
    "start_time": "2022-03-30T10:28:03.154Z"
   },
   {
    "duration": 15,
    "start_time": "2022-03-30T10:28:03.171Z"
   },
   {
    "duration": 10,
    "start_time": "2022-03-30T10:28:03.187Z"
   },
   {
    "duration": 19,
    "start_time": "2022-03-30T10:28:03.232Z"
   },
   {
    "duration": 16,
    "start_time": "2022-03-30T10:28:03.252Z"
   },
   {
    "duration": 4,
    "start_time": "2022-03-30T10:28:03.269Z"
   },
   {
    "duration": 31,
    "start_time": "2022-03-30T10:28:03.275Z"
   },
   {
    "duration": 26,
    "start_time": "2022-03-30T10:28:03.308Z"
   },
   {
    "duration": 18,
    "start_time": "2022-03-30T10:28:03.335Z"
   },
   {
    "duration": 13,
    "start_time": "2022-03-30T10:28:03.354Z"
   },
   {
    "duration": 9,
    "start_time": "2022-03-30T10:28:03.369Z"
   },
   {
    "duration": 5,
    "start_time": "2022-03-30T10:28:03.379Z"
   },
   {
    "duration": 8,
    "start_time": "2022-03-30T10:28:03.385Z"
   },
   {
    "duration": 39,
    "start_time": "2022-03-30T10:28:03.395Z"
   }
  ],
  "colab": {
   "collapsed_sections": [
    "E0vqbgi9ay0H",
    "VUC88oWjTJw2"
   ],
   "name": "yandex_music_project_2021.2.ipynb",
   "provenance": []
  },
  "kernelspec": {
   "display_name": "Python 3 (ipykernel)",
   "language": "python",
   "name": "python3"
  },
  "language_info": {
   "codemirror_mode": {
    "name": "ipython",
    "version": 3
   },
   "file_extension": ".py",
   "mimetype": "text/x-python",
   "name": "python",
   "nbconvert_exporter": "python",
   "pygments_lexer": "ipython3",
   "version": "3.7.8"
  },
  "toc": {
   "base_numbering": 1,
   "nav_menu": {},
   "number_sections": true,
   "sideBar": true,
   "skip_h1_title": true,
   "title_cell": "Table of Contents",
   "title_sidebar": "Contents",
   "toc_cell": false,
   "toc_position": {},
   "toc_section_display": true,
   "toc_window_display": false
  }
 },
 "nbformat": 4,
 "nbformat_minor": 1
}
