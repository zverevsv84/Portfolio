{
 "cells": [
  {
   "cell_type": "markdown",
   "metadata": {},
   "source": [
    "Привет, меня зовут Гребенюк Артём. Сегодня я буду делать ревью твоего проекта!\\\n",
    "В Практикуме принято общаться на \"ты\", однако если это неудобно - дай знать, и можем перейти на более официальное общение.\n",
    "\n",
    "Ниже ты найдешь мои комментарии - пожалуйста, не перемещай, не изменяй и не удаляй их. Я буду использовать цветовую разметку: \n",
    "\n",
    "<div class=\"alert alert-block alert-success\">\n",
    "<b>✔️ Success:</b> Если все сделано хорошо. </div>\n",
    "\n",
    "<div class=\"alert alert-block alert-warning\">\n",
    "<b>⚠️ Remarks:</b> Некритичное замечание; если таких замечаний меньше трех — проект может быть принят без их отработки.</div>\n",
    "\n",
    "<div class=\"alert alert-block alert-danger\">\n",
    "<b>❌ Needs fixing:</b> Грубая ошибка, необходимо исправить, иначе проект не будет принят.\n",
    "</div>\n",
    "\n",
    "Давай работать над проектом в диалоге: если ты что-то меняешь в проекте или отвечаешь на мои комменатри — пиши об этом. Мне будет легче отследить изменения, если ты выделишь свои комментарии:\n",
    "Например так:\n",
    "\n",
    "<div class=\"alert alert-block alert-info\">\n",
    "<b>💾 Fixed:</b> \n",
    "Hello World! ✔\n",
    "</div>\n",
    "\n",
    "Или можешь использовать эту галочку ✔ в моих комментариях, если писать особо нечего.\n",
    "\n",
    "<div class=\"alert alert-block alert-warning\">\n",
    "<b>Общее впечатление:</b> \n",
    "    \n",
    "- Спасибо за работу :)\n",
    "- У меня есть пара ремарок, которые помогут тебе сделать проект еще лучше.\n",
    "- Пробегись по моим комментариям, исправь недочёты и всё будет отлично :)\n",
    "    \n",
    "</div>\n",
    "\n"
   ]
  },
  {
   "cell_type": "markdown",
   "metadata": {},
   "source": [
    "<div class=\"alert alert-block alert-success\">\n",
    "<b>Привет!</b> Отличная работа над ремарками! Проект принят, поздравляю, желаю удачи в дальнейшем обучении :)"
   ]
  },
  {
   "cell_type": "markdown",
   "metadata": {
    "toc": true
   },
   "source": [
    "<h1>Содержание<span class=\"tocSkip\"></span></h1>\n",
    "<div class=\"toc\"><ul class=\"toc-item\"><li><span><a href=\"#Изучение-данных-из-файла\" data-toc-modified-id=\"Изучение-данных-из-файла-1\"><span class=\"toc-item-num\">1&nbsp;&nbsp;</span>Изучение данных из файла</a></span></li><li><span><a href=\"#Предобработка-данных\" data-toc-modified-id=\"Предобработка-данных-2\"><span class=\"toc-item-num\">2&nbsp;&nbsp;</span>Предобработка данных</a></span></li><li><span><a href=\"#Расчёты-и-добавление-результатов-в-таблицу\" data-toc-modified-id=\"Расчёты-и-добавление-результатов-в-таблицу-3\"><span class=\"toc-item-num\">3&nbsp;&nbsp;</span>Расчёты и добавление результатов в таблицу</a></span></li><li><span><a href=\"#Исследовательский-анализ-данных\" data-toc-modified-id=\"Исследовательский-анализ-данных-4\"><span class=\"toc-item-num\">4&nbsp;&nbsp;</span>Исследовательский анализ данных</a></span></li><li><span><a href=\"#Общие-выводы\" data-toc-modified-id=\"Общие-выводы-5\"><span class=\"toc-item-num\">5&nbsp;&nbsp;</span>Общие выводы</a></span></li><li><span><a href=\"#Чек-лист-готовности-проекта\" data-toc-modified-id=\"Чек-лист-готовности-проекта-6\"><span class=\"toc-item-num\">6&nbsp;&nbsp;</span>Чек-лист готовности проекта</a></span></li></ul></div>"
   ]
  },
  {
   "cell_type": "markdown",
   "metadata": {},
   "source": [
    "# Исследование объявлений о продаже квартир\n",
    "\n",
    "В вашем распоряжении данные сервиса Яндекc Недвижимость — архив объявлений о продаже квартир в Санкт-Петербурге и соседних населённых пунктах за несколько лет. Нужно научиться определять рыночную стоимость объектов недвижимости. Ваша задача — установить параметры. Это позволит построить автоматизированную систему: она отследит аномалии и мошенническую деятельность. \n",
    "\n",
    "По каждой квартире на продажу доступны два вида данных. Первые вписаны пользователем, вторые получены автоматически на основе картографических данных. Например, расстояние до центра, аэропорта, ближайшего парка и водоёма. "
   ]
  },
  {
   "cell_type": "markdown",
   "metadata": {},
   "source": [
    "**Описание данных**"
   ]
  },
  {
   "cell_type": "markdown",
   "metadata": {},
   "source": [
    "airports_nearest — расстояние до ближайшего аэропорта в метрах (м)\n",
    "\n",
    "balcony — число балконов\n",
    "\n",
    "ceiling_height — высота потолков (м)\n",
    "\n",
    "cityCenters_nearest — расстояние до центра города (м)\n",
    "\n",
    "days_exposition — сколько дней было размещено объявление (от публикации до снятия)\n",
    "\n",
    "first_day_exposition — дата публикации\n",
    "\n",
    "floor — этаж\n",
    "\n",
    "floors_total — всего этажей в доме\n",
    "\n",
    "is_apartment — апартаменты (булев тип)\n",
    "\n",
    "kitchen_area — площадь кухни в квадратных метрах (м²)\n",
    "\n",
    "last_price — цена на момент снятия с публикации\n",
    "\n",
    "living_area — жилая площадь в квадратных метрах (м²)\n",
    "\n",
    "locality_name — название населённого пункта\n",
    "\n",
    "open_plan — свободная планировка (булев тип)\n",
    "\n",
    "parks_around3000 — число парков в радиусе 3 км\n",
    "\n",
    "parks_nearest — расстояние до ближайшего парка (м)\n",
    "\n",
    "ponds_around3000 — число водоёмов в радиусе 3 км\n",
    "\n",
    "ponds_nearest — расстояние до ближайшего водоёма (м)\n",
    "\n",
    "rooms — число комнат\n",
    "\n",
    "studio — квартира-студия (булев тип)\n",
    "\n",
    "total_area — площадь квартиры в квадратных метрах (м²)\n",
    "\n",
    "total_images — число фотографий квартиры в объявлении"
   ]
  },
  {
   "cell_type": "markdown",
   "metadata": {},
   "source": [
    "**Задачи**"
   ]
  },
  {
   "cell_type": "markdown",
   "metadata": {},
   "source": [
    "1. Определить и изучить пропущенные значения \n",
    "2. Привести данные к нужным типам\n",
    "3. Посчитать и добавить в таблицу\n",
    "    Цену квадратного метра,\n",
    "    День недели, месяц и год публикации объявления,\n",
    "    Этаж квартиры; варианты — первый, последний, другой,\n",
    "    Соотношение жилой и общей площади, а также отношение площади кухни к общей.\n",
    "4. Провести исследовательский анализ данных на основании инструкции приведенных в конце проета\n",
    "    "
   ]
  },
  {
   "cell_type": "markdown",
   "metadata": {},
   "source": [
    "<div class=\"alert alert-block alert-success\">\n",
    "<b>✔️ Success:</b> Отличное введение в работу!"
   ]
  },
  {
   "cell_type": "markdown",
   "metadata": {},
   "source": [
    "## Изучение данных из файла"
   ]
  },
  {
   "cell_type": "code",
   "execution_count": 1,
   "metadata": {},
   "outputs": [],
   "source": [
    "import pandas as pd\n",
    "\n",
    "import warnings \n",
    "warnings.filterwarnings('ignore')\n",
    "import seaborn as sns"
   ]
  },
  {
   "cell_type": "markdown",
   "metadata": {},
   "source": [
    "<div class=\"alert alert-block alert-success\">\n",
    "<b>✔️ Success:</b> здорово, что все импорты собраны в начале проекта и отделены от открытия датасета!"
   ]
  },
  {
   "cell_type": "code",
   "execution_count": 2,
   "metadata": {},
   "outputs": [],
   "source": [
    "pd.options.display.float_format = '{:,.2f}'.format"
   ]
  },
  {
   "cell_type": "code",
   "execution_count": 3,
   "metadata": {},
   "outputs": [
    {
     "data": {
      "text/html": [
       "<div>\n",
       "<style scoped>\n",
       "    .dataframe tbody tr th:only-of-type {\n",
       "        vertical-align: middle;\n",
       "    }\n",
       "\n",
       "    .dataframe tbody tr th {\n",
       "        vertical-align: top;\n",
       "    }\n",
       "\n",
       "    .dataframe thead th {\n",
       "        text-align: right;\n",
       "    }\n",
       "</style>\n",
       "<table border=\"1\" class=\"dataframe\">\n",
       "  <thead>\n",
       "    <tr style=\"text-align: right;\">\n",
       "      <th></th>\n",
       "      <th>total_images</th>\n",
       "      <th>last_price</th>\n",
       "      <th>total_area</th>\n",
       "      <th>first_day_exposition</th>\n",
       "      <th>rooms</th>\n",
       "      <th>ceiling_height</th>\n",
       "      <th>floors_total</th>\n",
       "      <th>living_area</th>\n",
       "      <th>floor</th>\n",
       "      <th>is_apartment</th>\n",
       "      <th>...</th>\n",
       "      <th>kitchen_area</th>\n",
       "      <th>balcony</th>\n",
       "      <th>locality_name</th>\n",
       "      <th>airports_nearest</th>\n",
       "      <th>cityCenters_nearest</th>\n",
       "      <th>parks_around3000</th>\n",
       "      <th>parks_nearest</th>\n",
       "      <th>ponds_around3000</th>\n",
       "      <th>ponds_nearest</th>\n",
       "      <th>days_exposition</th>\n",
       "    </tr>\n",
       "  </thead>\n",
       "  <tbody>\n",
       "    <tr>\n",
       "      <th>0</th>\n",
       "      <td>20</td>\n",
       "      <td>13,000,000.00</td>\n",
       "      <td>108.00</td>\n",
       "      <td>2019-03-07T00:00:00</td>\n",
       "      <td>3</td>\n",
       "      <td>2.70</td>\n",
       "      <td>16.00</td>\n",
       "      <td>51.00</td>\n",
       "      <td>8</td>\n",
       "      <td>NaN</td>\n",
       "      <td>...</td>\n",
       "      <td>25.00</td>\n",
       "      <td>NaN</td>\n",
       "      <td>Санкт-Петербург</td>\n",
       "      <td>18,863.00</td>\n",
       "      <td>16,028.00</td>\n",
       "      <td>1.00</td>\n",
       "      <td>482.00</td>\n",
       "      <td>2.00</td>\n",
       "      <td>755.00</td>\n",
       "      <td>NaN</td>\n",
       "    </tr>\n",
       "    <tr>\n",
       "      <th>1</th>\n",
       "      <td>7</td>\n",
       "      <td>3,350,000.00</td>\n",
       "      <td>40.40</td>\n",
       "      <td>2018-12-04T00:00:00</td>\n",
       "      <td>1</td>\n",
       "      <td>NaN</td>\n",
       "      <td>11.00</td>\n",
       "      <td>18.60</td>\n",
       "      <td>1</td>\n",
       "      <td>NaN</td>\n",
       "      <td>...</td>\n",
       "      <td>11.00</td>\n",
       "      <td>2.00</td>\n",
       "      <td>посёлок Шушары</td>\n",
       "      <td>12,817.00</td>\n",
       "      <td>18,603.00</td>\n",
       "      <td>0.00</td>\n",
       "      <td>NaN</td>\n",
       "      <td>0.00</td>\n",
       "      <td>NaN</td>\n",
       "      <td>81.00</td>\n",
       "    </tr>\n",
       "    <tr>\n",
       "      <th>2</th>\n",
       "      <td>10</td>\n",
       "      <td>5,196,000.00</td>\n",
       "      <td>56.00</td>\n",
       "      <td>2015-08-20T00:00:00</td>\n",
       "      <td>2</td>\n",
       "      <td>NaN</td>\n",
       "      <td>5.00</td>\n",
       "      <td>34.30</td>\n",
       "      <td>4</td>\n",
       "      <td>NaN</td>\n",
       "      <td>...</td>\n",
       "      <td>8.30</td>\n",
       "      <td>0.00</td>\n",
       "      <td>Санкт-Петербург</td>\n",
       "      <td>21,741.00</td>\n",
       "      <td>13,933.00</td>\n",
       "      <td>1.00</td>\n",
       "      <td>90.00</td>\n",
       "      <td>2.00</td>\n",
       "      <td>574.00</td>\n",
       "      <td>558.00</td>\n",
       "    </tr>\n",
       "    <tr>\n",
       "      <th>3</th>\n",
       "      <td>0</td>\n",
       "      <td>64,900,000.00</td>\n",
       "      <td>159.00</td>\n",
       "      <td>2015-07-24T00:00:00</td>\n",
       "      <td>3</td>\n",
       "      <td>NaN</td>\n",
       "      <td>14.00</td>\n",
       "      <td>NaN</td>\n",
       "      <td>9</td>\n",
       "      <td>NaN</td>\n",
       "      <td>...</td>\n",
       "      <td>NaN</td>\n",
       "      <td>0.00</td>\n",
       "      <td>Санкт-Петербург</td>\n",
       "      <td>28,098.00</td>\n",
       "      <td>6,800.00</td>\n",
       "      <td>2.00</td>\n",
       "      <td>84.00</td>\n",
       "      <td>3.00</td>\n",
       "      <td>234.00</td>\n",
       "      <td>424.00</td>\n",
       "    </tr>\n",
       "    <tr>\n",
       "      <th>4</th>\n",
       "      <td>2</td>\n",
       "      <td>10,000,000.00</td>\n",
       "      <td>100.00</td>\n",
       "      <td>2018-06-19T00:00:00</td>\n",
       "      <td>2</td>\n",
       "      <td>3.03</td>\n",
       "      <td>14.00</td>\n",
       "      <td>32.00</td>\n",
       "      <td>13</td>\n",
       "      <td>NaN</td>\n",
       "      <td>...</td>\n",
       "      <td>41.00</td>\n",
       "      <td>NaN</td>\n",
       "      <td>Санкт-Петербург</td>\n",
       "      <td>31,856.00</td>\n",
       "      <td>8,098.00</td>\n",
       "      <td>2.00</td>\n",
       "      <td>112.00</td>\n",
       "      <td>1.00</td>\n",
       "      <td>48.00</td>\n",
       "      <td>121.00</td>\n",
       "    </tr>\n",
       "  </tbody>\n",
       "</table>\n",
       "<p>5 rows × 22 columns</p>\n",
       "</div>"
      ],
      "text/plain": [
       "   total_images    last_price  total_area first_day_exposition  rooms  \\\n",
       "0            20 13,000,000.00      108.00  2019-03-07T00:00:00      3   \n",
       "1             7  3,350,000.00       40.40  2018-12-04T00:00:00      1   \n",
       "2            10  5,196,000.00       56.00  2015-08-20T00:00:00      2   \n",
       "3             0 64,900,000.00      159.00  2015-07-24T00:00:00      3   \n",
       "4             2 10,000,000.00      100.00  2018-06-19T00:00:00      2   \n",
       "\n",
       "   ceiling_height  floors_total  living_area  floor is_apartment  ...  \\\n",
       "0            2.70         16.00        51.00      8          NaN  ...   \n",
       "1             NaN         11.00        18.60      1          NaN  ...   \n",
       "2             NaN          5.00        34.30      4          NaN  ...   \n",
       "3             NaN         14.00          NaN      9          NaN  ...   \n",
       "4            3.03         14.00        32.00     13          NaN  ...   \n",
       "\n",
       "   kitchen_area  balcony    locality_name  airports_nearest  \\\n",
       "0         25.00      NaN  Санкт-Петербург         18,863.00   \n",
       "1         11.00     2.00   посёлок Шушары         12,817.00   \n",
       "2          8.30     0.00  Санкт-Петербург         21,741.00   \n",
       "3           NaN     0.00  Санкт-Петербург         28,098.00   \n",
       "4         41.00      NaN  Санкт-Петербург         31,856.00   \n",
       "\n",
       "  cityCenters_nearest  parks_around3000  parks_nearest  ponds_around3000  \\\n",
       "0           16,028.00              1.00         482.00              2.00   \n",
       "1           18,603.00              0.00            NaN              0.00   \n",
       "2           13,933.00              1.00          90.00              2.00   \n",
       "3            6,800.00              2.00          84.00              3.00   \n",
       "4            8,098.00              2.00         112.00              1.00   \n",
       "\n",
       "   ponds_nearest  days_exposition  \n",
       "0         755.00              NaN  \n",
       "1            NaN            81.00  \n",
       "2         574.00           558.00  \n",
       "3         234.00           424.00  \n",
       "4          48.00           121.00  \n",
       "\n",
       "[5 rows x 22 columns]"
      ]
     },
     "execution_count": 3,
     "metadata": {},
     "output_type": "execute_result"
    }
   ],
   "source": [
    "df = pd.read_csv('/datasets/real_estate_data.csv', sep='\\t')\n",
    "df.head(5)"
   ]
  },
  {
   "cell_type": "code",
   "execution_count": 4,
   "metadata": {},
   "outputs": [
    {
     "data": {
      "text/html": [
       "<div>\n",
       "<style scoped>\n",
       "    .dataframe tbody tr th:only-of-type {\n",
       "        vertical-align: middle;\n",
       "    }\n",
       "\n",
       "    .dataframe tbody tr th {\n",
       "        vertical-align: top;\n",
       "    }\n",
       "\n",
       "    .dataframe thead th {\n",
       "        text-align: right;\n",
       "    }\n",
       "</style>\n",
       "<table border=\"1\" class=\"dataframe\">\n",
       "  <thead>\n",
       "    <tr style=\"text-align: right;\">\n",
       "      <th></th>\n",
       "      <th>total_images</th>\n",
       "      <th>last_price</th>\n",
       "      <th>total_area</th>\n",
       "      <th>first_day_exposition</th>\n",
       "      <th>rooms</th>\n",
       "      <th>ceiling_height</th>\n",
       "      <th>floors_total</th>\n",
       "      <th>living_area</th>\n",
       "      <th>floor</th>\n",
       "      <th>is_apartment</th>\n",
       "      <th>...</th>\n",
       "      <th>kitchen_area</th>\n",
       "      <th>balcony</th>\n",
       "      <th>locality_name</th>\n",
       "      <th>airports_nearest</th>\n",
       "      <th>cityCenters_nearest</th>\n",
       "      <th>parks_around3000</th>\n",
       "      <th>parks_nearest</th>\n",
       "      <th>ponds_around3000</th>\n",
       "      <th>ponds_nearest</th>\n",
       "      <th>days_exposition</th>\n",
       "    </tr>\n",
       "  </thead>\n",
       "  <tbody>\n",
       "    <tr>\n",
       "      <th>23694</th>\n",
       "      <td>9</td>\n",
       "      <td>9,700,000.00</td>\n",
       "      <td>133.81</td>\n",
       "      <td>2017-03-21T00:00:00</td>\n",
       "      <td>3</td>\n",
       "      <td>3.70</td>\n",
       "      <td>5.00</td>\n",
       "      <td>73.30</td>\n",
       "      <td>3</td>\n",
       "      <td>NaN</td>\n",
       "      <td>...</td>\n",
       "      <td>13.83</td>\n",
       "      <td>NaN</td>\n",
       "      <td>Санкт-Петербург</td>\n",
       "      <td>24,665.00</td>\n",
       "      <td>4,232.00</td>\n",
       "      <td>1.00</td>\n",
       "      <td>796.00</td>\n",
       "      <td>3.00</td>\n",
       "      <td>381.00</td>\n",
       "      <td>NaN</td>\n",
       "    </tr>\n",
       "    <tr>\n",
       "      <th>23695</th>\n",
       "      <td>14</td>\n",
       "      <td>3,100,000.00</td>\n",
       "      <td>59.00</td>\n",
       "      <td>2018-01-15T00:00:00</td>\n",
       "      <td>3</td>\n",
       "      <td>NaN</td>\n",
       "      <td>5.00</td>\n",
       "      <td>38.00</td>\n",
       "      <td>4</td>\n",
       "      <td>NaN</td>\n",
       "      <td>...</td>\n",
       "      <td>8.50</td>\n",
       "      <td>NaN</td>\n",
       "      <td>Тосно</td>\n",
       "      <td>NaN</td>\n",
       "      <td>NaN</td>\n",
       "      <td>NaN</td>\n",
       "      <td>NaN</td>\n",
       "      <td>NaN</td>\n",
       "      <td>NaN</td>\n",
       "      <td>45.00</td>\n",
       "    </tr>\n",
       "    <tr>\n",
       "      <th>23696</th>\n",
       "      <td>18</td>\n",
       "      <td>2,500,000.00</td>\n",
       "      <td>56.70</td>\n",
       "      <td>2018-02-11T00:00:00</td>\n",
       "      <td>2</td>\n",
       "      <td>NaN</td>\n",
       "      <td>3.00</td>\n",
       "      <td>29.70</td>\n",
       "      <td>1</td>\n",
       "      <td>NaN</td>\n",
       "      <td>...</td>\n",
       "      <td>NaN</td>\n",
       "      <td>NaN</td>\n",
       "      <td>село Рождествено</td>\n",
       "      <td>NaN</td>\n",
       "      <td>NaN</td>\n",
       "      <td>NaN</td>\n",
       "      <td>NaN</td>\n",
       "      <td>NaN</td>\n",
       "      <td>NaN</td>\n",
       "      <td>NaN</td>\n",
       "    </tr>\n",
       "    <tr>\n",
       "      <th>23697</th>\n",
       "      <td>13</td>\n",
       "      <td>11,475,000.00</td>\n",
       "      <td>76.75</td>\n",
       "      <td>2017-03-28T00:00:00</td>\n",
       "      <td>2</td>\n",
       "      <td>3.00</td>\n",
       "      <td>17.00</td>\n",
       "      <td>NaN</td>\n",
       "      <td>12</td>\n",
       "      <td>NaN</td>\n",
       "      <td>...</td>\n",
       "      <td>23.30</td>\n",
       "      <td>2.00</td>\n",
       "      <td>Санкт-Петербург</td>\n",
       "      <td>39,140.00</td>\n",
       "      <td>10,364.00</td>\n",
       "      <td>2.00</td>\n",
       "      <td>173.00</td>\n",
       "      <td>3.00</td>\n",
       "      <td>196.00</td>\n",
       "      <td>602.00</td>\n",
       "    </tr>\n",
       "    <tr>\n",
       "      <th>23698</th>\n",
       "      <td>4</td>\n",
       "      <td>1,350,000.00</td>\n",
       "      <td>32.30</td>\n",
       "      <td>2017-07-21T00:00:00</td>\n",
       "      <td>1</td>\n",
       "      <td>2.50</td>\n",
       "      <td>5.00</td>\n",
       "      <td>12.30</td>\n",
       "      <td>1</td>\n",
       "      <td>NaN</td>\n",
       "      <td>...</td>\n",
       "      <td>9.00</td>\n",
       "      <td>NaN</td>\n",
       "      <td>поселок Новый Учхоз</td>\n",
       "      <td>NaN</td>\n",
       "      <td>NaN</td>\n",
       "      <td>NaN</td>\n",
       "      <td>NaN</td>\n",
       "      <td>NaN</td>\n",
       "      <td>NaN</td>\n",
       "      <td>NaN</td>\n",
       "    </tr>\n",
       "  </tbody>\n",
       "</table>\n",
       "<p>5 rows × 22 columns</p>\n",
       "</div>"
      ],
      "text/plain": [
       "       total_images    last_price  total_area first_day_exposition  rooms  \\\n",
       "23694             9  9,700,000.00      133.81  2017-03-21T00:00:00      3   \n",
       "23695            14  3,100,000.00       59.00  2018-01-15T00:00:00      3   \n",
       "23696            18  2,500,000.00       56.70  2018-02-11T00:00:00      2   \n",
       "23697            13 11,475,000.00       76.75  2017-03-28T00:00:00      2   \n",
       "23698             4  1,350,000.00       32.30  2017-07-21T00:00:00      1   \n",
       "\n",
       "       ceiling_height  floors_total  living_area  floor is_apartment  ...  \\\n",
       "23694            3.70          5.00        73.30      3          NaN  ...   \n",
       "23695             NaN          5.00        38.00      4          NaN  ...   \n",
       "23696             NaN          3.00        29.70      1          NaN  ...   \n",
       "23697            3.00         17.00          NaN     12          NaN  ...   \n",
       "23698            2.50          5.00        12.30      1          NaN  ...   \n",
       "\n",
       "       kitchen_area  balcony        locality_name  airports_nearest  \\\n",
       "23694         13.83      NaN      Санкт-Петербург         24,665.00   \n",
       "23695          8.50      NaN                Тосно               NaN   \n",
       "23696           NaN      NaN     село Рождествено               NaN   \n",
       "23697         23.30     2.00      Санкт-Петербург         39,140.00   \n",
       "23698          9.00      NaN  поселок Новый Учхоз               NaN   \n",
       "\n",
       "      cityCenters_nearest  parks_around3000  parks_nearest  ponds_around3000  \\\n",
       "23694            4,232.00              1.00         796.00              3.00   \n",
       "23695                 NaN               NaN            NaN               NaN   \n",
       "23696                 NaN               NaN            NaN               NaN   \n",
       "23697           10,364.00              2.00         173.00              3.00   \n",
       "23698                 NaN               NaN            NaN               NaN   \n",
       "\n",
       "       ponds_nearest  days_exposition  \n",
       "23694         381.00              NaN  \n",
       "23695            NaN            45.00  \n",
       "23696            NaN              NaN  \n",
       "23697         196.00           602.00  \n",
       "23698            NaN              NaN  \n",
       "\n",
       "[5 rows x 22 columns]"
      ]
     },
     "execution_count": 4,
     "metadata": {},
     "output_type": "execute_result"
    }
   ],
   "source": [
    "df.tail()"
   ]
  },
  {
   "cell_type": "code",
   "execution_count": 5,
   "metadata": {},
   "outputs": [
    {
     "name": "stdout",
     "output_type": "stream",
     "text": [
      "<class 'pandas.core.frame.DataFrame'>\n",
      "RangeIndex: 23699 entries, 0 to 23698\n",
      "Data columns (total 22 columns):\n",
      " #   Column                Non-Null Count  Dtype  \n",
      "---  ------                --------------  -----  \n",
      " 0   total_images          23699 non-null  int64  \n",
      " 1   last_price            23699 non-null  float64\n",
      " 2   total_area            23699 non-null  float64\n",
      " 3   first_day_exposition  23699 non-null  object \n",
      " 4   rooms                 23699 non-null  int64  \n",
      " 5   ceiling_height        14504 non-null  float64\n",
      " 6   floors_total          23613 non-null  float64\n",
      " 7   living_area           21796 non-null  float64\n",
      " 8   floor                 23699 non-null  int64  \n",
      " 9   is_apartment          2775 non-null   object \n",
      " 10  studio                23699 non-null  bool   \n",
      " 11  open_plan             23699 non-null  bool   \n",
      " 12  kitchen_area          21421 non-null  float64\n",
      " 13  balcony               12180 non-null  float64\n",
      " 14  locality_name         23650 non-null  object \n",
      " 15  airports_nearest      18157 non-null  float64\n",
      " 16  cityCenters_nearest   18180 non-null  float64\n",
      " 17  parks_around3000      18181 non-null  float64\n",
      " 18  parks_nearest         8079 non-null   float64\n",
      " 19  ponds_around3000      18181 non-null  float64\n",
      " 20  ponds_nearest         9110 non-null   float64\n",
      " 21  days_exposition       20518 non-null  float64\n",
      "dtypes: bool(2), float64(14), int64(3), object(3)\n",
      "memory usage: 3.7+ MB\n"
     ]
    }
   ],
   "source": [
    "df.info()"
   ]
  },
  {
   "cell_type": "code",
   "execution_count": 6,
   "metadata": {},
   "outputs": [
    {
     "data": {
      "text/html": [
       "<div>\n",
       "<style scoped>\n",
       "    .dataframe tbody tr th:only-of-type {\n",
       "        vertical-align: middle;\n",
       "    }\n",
       "\n",
       "    .dataframe tbody tr th {\n",
       "        vertical-align: top;\n",
       "    }\n",
       "\n",
       "    .dataframe thead th {\n",
       "        text-align: right;\n",
       "    }\n",
       "</style>\n",
       "<table border=\"1\" class=\"dataframe\">\n",
       "  <thead>\n",
       "    <tr style=\"text-align: right;\">\n",
       "      <th></th>\n",
       "      <th>total_images</th>\n",
       "      <th>last_price</th>\n",
       "      <th>total_area</th>\n",
       "      <th>rooms</th>\n",
       "      <th>ceiling_height</th>\n",
       "      <th>floors_total</th>\n",
       "      <th>living_area</th>\n",
       "      <th>floor</th>\n",
       "      <th>kitchen_area</th>\n",
       "      <th>balcony</th>\n",
       "      <th>airports_nearest</th>\n",
       "      <th>cityCenters_nearest</th>\n",
       "      <th>parks_around3000</th>\n",
       "      <th>parks_nearest</th>\n",
       "      <th>ponds_around3000</th>\n",
       "      <th>ponds_nearest</th>\n",
       "      <th>days_exposition</th>\n",
       "    </tr>\n",
       "  </thead>\n",
       "  <tbody>\n",
       "    <tr>\n",
       "      <th>count</th>\n",
       "      <td>23,699.00</td>\n",
       "      <td>23,699.00</td>\n",
       "      <td>23,699.00</td>\n",
       "      <td>23,699.00</td>\n",
       "      <td>14,504.00</td>\n",
       "      <td>23,613.00</td>\n",
       "      <td>21,796.00</td>\n",
       "      <td>23,699.00</td>\n",
       "      <td>21,421.00</td>\n",
       "      <td>12,180.00</td>\n",
       "      <td>18,157.00</td>\n",
       "      <td>18,180.00</td>\n",
       "      <td>18,181.00</td>\n",
       "      <td>8,079.00</td>\n",
       "      <td>18,181.00</td>\n",
       "      <td>9,110.00</td>\n",
       "      <td>20,518.00</td>\n",
       "    </tr>\n",
       "    <tr>\n",
       "      <th>mean</th>\n",
       "      <td>9.86</td>\n",
       "      <td>6,541,548.77</td>\n",
       "      <td>60.35</td>\n",
       "      <td>2.07</td>\n",
       "      <td>2.77</td>\n",
       "      <td>10.67</td>\n",
       "      <td>34.46</td>\n",
       "      <td>5.89</td>\n",
       "      <td>10.57</td>\n",
       "      <td>1.15</td>\n",
       "      <td>28,793.67</td>\n",
       "      <td>14,191.28</td>\n",
       "      <td>0.61</td>\n",
       "      <td>490.80</td>\n",
       "      <td>0.77</td>\n",
       "      <td>517.98</td>\n",
       "      <td>180.89</td>\n",
       "    </tr>\n",
       "    <tr>\n",
       "      <th>std</th>\n",
       "      <td>5.68</td>\n",
       "      <td>10,887,013.27</td>\n",
       "      <td>35.65</td>\n",
       "      <td>1.08</td>\n",
       "      <td>1.26</td>\n",
       "      <td>6.60</td>\n",
       "      <td>22.03</td>\n",
       "      <td>4.89</td>\n",
       "      <td>5.91</td>\n",
       "      <td>1.07</td>\n",
       "      <td>12,630.88</td>\n",
       "      <td>8,608.39</td>\n",
       "      <td>0.80</td>\n",
       "      <td>342.32</td>\n",
       "      <td>0.94</td>\n",
       "      <td>277.72</td>\n",
       "      <td>219.73</td>\n",
       "    </tr>\n",
       "    <tr>\n",
       "      <th>min</th>\n",
       "      <td>0.00</td>\n",
       "      <td>12,190.00</td>\n",
       "      <td>12.00</td>\n",
       "      <td>0.00</td>\n",
       "      <td>1.00</td>\n",
       "      <td>1.00</td>\n",
       "      <td>2.00</td>\n",
       "      <td>1.00</td>\n",
       "      <td>1.30</td>\n",
       "      <td>0.00</td>\n",
       "      <td>0.00</td>\n",
       "      <td>181.00</td>\n",
       "      <td>0.00</td>\n",
       "      <td>1.00</td>\n",
       "      <td>0.00</td>\n",
       "      <td>13.00</td>\n",
       "      <td>1.00</td>\n",
       "    </tr>\n",
       "    <tr>\n",
       "      <th>25%</th>\n",
       "      <td>6.00</td>\n",
       "      <td>3,400,000.00</td>\n",
       "      <td>40.00</td>\n",
       "      <td>1.00</td>\n",
       "      <td>2.52</td>\n",
       "      <td>5.00</td>\n",
       "      <td>18.60</td>\n",
       "      <td>2.00</td>\n",
       "      <td>7.00</td>\n",
       "      <td>0.00</td>\n",
       "      <td>18,585.00</td>\n",
       "      <td>9,238.00</td>\n",
       "      <td>0.00</td>\n",
       "      <td>288.00</td>\n",
       "      <td>0.00</td>\n",
       "      <td>294.00</td>\n",
       "      <td>45.00</td>\n",
       "    </tr>\n",
       "    <tr>\n",
       "      <th>50%</th>\n",
       "      <td>9.00</td>\n",
       "      <td>4,650,000.00</td>\n",
       "      <td>52.00</td>\n",
       "      <td>2.00</td>\n",
       "      <td>2.65</td>\n",
       "      <td>9.00</td>\n",
       "      <td>30.00</td>\n",
       "      <td>4.00</td>\n",
       "      <td>9.10</td>\n",
       "      <td>1.00</td>\n",
       "      <td>26,726.00</td>\n",
       "      <td>13,098.50</td>\n",
       "      <td>0.00</td>\n",
       "      <td>455.00</td>\n",
       "      <td>1.00</td>\n",
       "      <td>502.00</td>\n",
       "      <td>95.00</td>\n",
       "    </tr>\n",
       "    <tr>\n",
       "      <th>75%</th>\n",
       "      <td>14.00</td>\n",
       "      <td>6,800,000.00</td>\n",
       "      <td>69.90</td>\n",
       "      <td>3.00</td>\n",
       "      <td>2.80</td>\n",
       "      <td>16.00</td>\n",
       "      <td>42.30</td>\n",
       "      <td>8.00</td>\n",
       "      <td>12.00</td>\n",
       "      <td>2.00</td>\n",
       "      <td>37,273.00</td>\n",
       "      <td>16,293.00</td>\n",
       "      <td>1.00</td>\n",
       "      <td>612.00</td>\n",
       "      <td>1.00</td>\n",
       "      <td>729.00</td>\n",
       "      <td>232.00</td>\n",
       "    </tr>\n",
       "    <tr>\n",
       "      <th>max</th>\n",
       "      <td>50.00</td>\n",
       "      <td>763,000,000.00</td>\n",
       "      <td>900.00</td>\n",
       "      <td>19.00</td>\n",
       "      <td>100.00</td>\n",
       "      <td>60.00</td>\n",
       "      <td>409.70</td>\n",
       "      <td>33.00</td>\n",
       "      <td>112.00</td>\n",
       "      <td>5.00</td>\n",
       "      <td>84,869.00</td>\n",
       "      <td>65,968.00</td>\n",
       "      <td>3.00</td>\n",
       "      <td>3,190.00</td>\n",
       "      <td>3.00</td>\n",
       "      <td>1,344.00</td>\n",
       "      <td>1,580.00</td>\n",
       "    </tr>\n",
       "  </tbody>\n",
       "</table>\n",
       "</div>"
      ],
      "text/plain": [
       "       total_images     last_price  total_area     rooms  ceiling_height  \\\n",
       "count     23,699.00      23,699.00   23,699.00 23,699.00       14,504.00   \n",
       "mean           9.86   6,541,548.77       60.35      2.07            2.77   \n",
       "std            5.68  10,887,013.27       35.65      1.08            1.26   \n",
       "min            0.00      12,190.00       12.00      0.00            1.00   \n",
       "25%            6.00   3,400,000.00       40.00      1.00            2.52   \n",
       "50%            9.00   4,650,000.00       52.00      2.00            2.65   \n",
       "75%           14.00   6,800,000.00       69.90      3.00            2.80   \n",
       "max           50.00 763,000,000.00      900.00     19.00          100.00   \n",
       "\n",
       "       floors_total  living_area     floor  kitchen_area   balcony  \\\n",
       "count     23,613.00    21,796.00 23,699.00     21,421.00 12,180.00   \n",
       "mean          10.67        34.46      5.89         10.57      1.15   \n",
       "std            6.60        22.03      4.89          5.91      1.07   \n",
       "min            1.00         2.00      1.00          1.30      0.00   \n",
       "25%            5.00        18.60      2.00          7.00      0.00   \n",
       "50%            9.00        30.00      4.00          9.10      1.00   \n",
       "75%           16.00        42.30      8.00         12.00      2.00   \n",
       "max           60.00       409.70     33.00        112.00      5.00   \n",
       "\n",
       "       airports_nearest  cityCenters_nearest  parks_around3000  parks_nearest  \\\n",
       "count         18,157.00            18,180.00         18,181.00       8,079.00   \n",
       "mean          28,793.67            14,191.28              0.61         490.80   \n",
       "std           12,630.88             8,608.39              0.80         342.32   \n",
       "min                0.00               181.00              0.00           1.00   \n",
       "25%           18,585.00             9,238.00              0.00         288.00   \n",
       "50%           26,726.00            13,098.50              0.00         455.00   \n",
       "75%           37,273.00            16,293.00              1.00         612.00   \n",
       "max           84,869.00            65,968.00              3.00       3,190.00   \n",
       "\n",
       "       ponds_around3000  ponds_nearest  days_exposition  \n",
       "count         18,181.00       9,110.00        20,518.00  \n",
       "mean               0.77         517.98           180.89  \n",
       "std                0.94         277.72           219.73  \n",
       "min                0.00          13.00             1.00  \n",
       "25%                0.00         294.00            45.00  \n",
       "50%                1.00         502.00            95.00  \n",
       "75%                1.00         729.00           232.00  \n",
       "max                3.00       1,344.00         1,580.00  "
      ]
     },
     "execution_count": 6,
     "metadata": {},
     "output_type": "execute_result"
    }
   ],
   "source": [
    "df.describe()"
   ]
  },
  {
   "cell_type": "markdown",
   "metadata": {},
   "source": [
    "<div class=\"alert alert-block alert-warning\">\n",
    "<b>⚠️ Remarks:</b> \n",
    "    \n",
    "функция `describe()` может быть очень полезна при знакомстве с датасетом, здорово, что ты её используешь! Советую почитать про её аргументы - пригодится в следующих проектах, а также рекомендую рассматривать её в транспонированном виде - никто не любит горизонтальные скроллбары - `df.describe().T` "
   ]
  },
  {
   "cell_type": "code",
   "execution_count": 7,
   "metadata": {},
   "outputs": [
    {
     "data": {
      "text/html": [
       "<div>\n",
       "<style scoped>\n",
       "    .dataframe tbody tr th:only-of-type {\n",
       "        vertical-align: middle;\n",
       "    }\n",
       "\n",
       "    .dataframe tbody tr th {\n",
       "        vertical-align: top;\n",
       "    }\n",
       "\n",
       "    .dataframe thead th {\n",
       "        text-align: right;\n",
       "    }\n",
       "</style>\n",
       "<table border=\"1\" class=\"dataframe\">\n",
       "  <thead>\n",
       "    <tr style=\"text-align: right;\">\n",
       "      <th></th>\n",
       "      <th>count</th>\n",
       "      <th>mean</th>\n",
       "      <th>std</th>\n",
       "      <th>min</th>\n",
       "      <th>25%</th>\n",
       "      <th>50%</th>\n",
       "      <th>75%</th>\n",
       "      <th>max</th>\n",
       "    </tr>\n",
       "  </thead>\n",
       "  <tbody>\n",
       "    <tr>\n",
       "      <th>total_images</th>\n",
       "      <td>23,699.00</td>\n",
       "      <td>9.86</td>\n",
       "      <td>5.68</td>\n",
       "      <td>0.00</td>\n",
       "      <td>6.00</td>\n",
       "      <td>9.00</td>\n",
       "      <td>14.00</td>\n",
       "      <td>50.00</td>\n",
       "    </tr>\n",
       "    <tr>\n",
       "      <th>last_price</th>\n",
       "      <td>23,699.00</td>\n",
       "      <td>6,541,548.77</td>\n",
       "      <td>10,887,013.27</td>\n",
       "      <td>12,190.00</td>\n",
       "      <td>3,400,000.00</td>\n",
       "      <td>4,650,000.00</td>\n",
       "      <td>6,800,000.00</td>\n",
       "      <td>763,000,000.00</td>\n",
       "    </tr>\n",
       "    <tr>\n",
       "      <th>total_area</th>\n",
       "      <td>23,699.00</td>\n",
       "      <td>60.35</td>\n",
       "      <td>35.65</td>\n",
       "      <td>12.00</td>\n",
       "      <td>40.00</td>\n",
       "      <td>52.00</td>\n",
       "      <td>69.90</td>\n",
       "      <td>900.00</td>\n",
       "    </tr>\n",
       "    <tr>\n",
       "      <th>rooms</th>\n",
       "      <td>23,699.00</td>\n",
       "      <td>2.07</td>\n",
       "      <td>1.08</td>\n",
       "      <td>0.00</td>\n",
       "      <td>1.00</td>\n",
       "      <td>2.00</td>\n",
       "      <td>3.00</td>\n",
       "      <td>19.00</td>\n",
       "    </tr>\n",
       "    <tr>\n",
       "      <th>ceiling_height</th>\n",
       "      <td>14,504.00</td>\n",
       "      <td>2.77</td>\n",
       "      <td>1.26</td>\n",
       "      <td>1.00</td>\n",
       "      <td>2.52</td>\n",
       "      <td>2.65</td>\n",
       "      <td>2.80</td>\n",
       "      <td>100.00</td>\n",
       "    </tr>\n",
       "    <tr>\n",
       "      <th>floors_total</th>\n",
       "      <td>23,613.00</td>\n",
       "      <td>10.67</td>\n",
       "      <td>6.60</td>\n",
       "      <td>1.00</td>\n",
       "      <td>5.00</td>\n",
       "      <td>9.00</td>\n",
       "      <td>16.00</td>\n",
       "      <td>60.00</td>\n",
       "    </tr>\n",
       "    <tr>\n",
       "      <th>living_area</th>\n",
       "      <td>21,796.00</td>\n",
       "      <td>34.46</td>\n",
       "      <td>22.03</td>\n",
       "      <td>2.00</td>\n",
       "      <td>18.60</td>\n",
       "      <td>30.00</td>\n",
       "      <td>42.30</td>\n",
       "      <td>409.70</td>\n",
       "    </tr>\n",
       "    <tr>\n",
       "      <th>floor</th>\n",
       "      <td>23,699.00</td>\n",
       "      <td>5.89</td>\n",
       "      <td>4.89</td>\n",
       "      <td>1.00</td>\n",
       "      <td>2.00</td>\n",
       "      <td>4.00</td>\n",
       "      <td>8.00</td>\n",
       "      <td>33.00</td>\n",
       "    </tr>\n",
       "    <tr>\n",
       "      <th>kitchen_area</th>\n",
       "      <td>21,421.00</td>\n",
       "      <td>10.57</td>\n",
       "      <td>5.91</td>\n",
       "      <td>1.30</td>\n",
       "      <td>7.00</td>\n",
       "      <td>9.10</td>\n",
       "      <td>12.00</td>\n",
       "      <td>112.00</td>\n",
       "    </tr>\n",
       "    <tr>\n",
       "      <th>balcony</th>\n",
       "      <td>12,180.00</td>\n",
       "      <td>1.15</td>\n",
       "      <td>1.07</td>\n",
       "      <td>0.00</td>\n",
       "      <td>0.00</td>\n",
       "      <td>1.00</td>\n",
       "      <td>2.00</td>\n",
       "      <td>5.00</td>\n",
       "    </tr>\n",
       "    <tr>\n",
       "      <th>airports_nearest</th>\n",
       "      <td>18,157.00</td>\n",
       "      <td>28,793.67</td>\n",
       "      <td>12,630.88</td>\n",
       "      <td>0.00</td>\n",
       "      <td>18,585.00</td>\n",
       "      <td>26,726.00</td>\n",
       "      <td>37,273.00</td>\n",
       "      <td>84,869.00</td>\n",
       "    </tr>\n",
       "    <tr>\n",
       "      <th>cityCenters_nearest</th>\n",
       "      <td>18,180.00</td>\n",
       "      <td>14,191.28</td>\n",
       "      <td>8,608.39</td>\n",
       "      <td>181.00</td>\n",
       "      <td>9,238.00</td>\n",
       "      <td>13,098.50</td>\n",
       "      <td>16,293.00</td>\n",
       "      <td>65,968.00</td>\n",
       "    </tr>\n",
       "    <tr>\n",
       "      <th>parks_around3000</th>\n",
       "      <td>18,181.00</td>\n",
       "      <td>0.61</td>\n",
       "      <td>0.80</td>\n",
       "      <td>0.00</td>\n",
       "      <td>0.00</td>\n",
       "      <td>0.00</td>\n",
       "      <td>1.00</td>\n",
       "      <td>3.00</td>\n",
       "    </tr>\n",
       "    <tr>\n",
       "      <th>parks_nearest</th>\n",
       "      <td>8,079.00</td>\n",
       "      <td>490.80</td>\n",
       "      <td>342.32</td>\n",
       "      <td>1.00</td>\n",
       "      <td>288.00</td>\n",
       "      <td>455.00</td>\n",
       "      <td>612.00</td>\n",
       "      <td>3,190.00</td>\n",
       "    </tr>\n",
       "    <tr>\n",
       "      <th>ponds_around3000</th>\n",
       "      <td>18,181.00</td>\n",
       "      <td>0.77</td>\n",
       "      <td>0.94</td>\n",
       "      <td>0.00</td>\n",
       "      <td>0.00</td>\n",
       "      <td>1.00</td>\n",
       "      <td>1.00</td>\n",
       "      <td>3.00</td>\n",
       "    </tr>\n",
       "    <tr>\n",
       "      <th>ponds_nearest</th>\n",
       "      <td>9,110.00</td>\n",
       "      <td>517.98</td>\n",
       "      <td>277.72</td>\n",
       "      <td>13.00</td>\n",
       "      <td>294.00</td>\n",
       "      <td>502.00</td>\n",
       "      <td>729.00</td>\n",
       "      <td>1,344.00</td>\n",
       "    </tr>\n",
       "    <tr>\n",
       "      <th>days_exposition</th>\n",
       "      <td>20,518.00</td>\n",
       "      <td>180.89</td>\n",
       "      <td>219.73</td>\n",
       "      <td>1.00</td>\n",
       "      <td>45.00</td>\n",
       "      <td>95.00</td>\n",
       "      <td>232.00</td>\n",
       "      <td>1,580.00</td>\n",
       "    </tr>\n",
       "  </tbody>\n",
       "</table>\n",
       "</div>"
      ],
      "text/plain": [
       "                        count         mean           std       min  \\\n",
       "total_images        23,699.00         9.86          5.68      0.00   \n",
       "last_price          23,699.00 6,541,548.77 10,887,013.27 12,190.00   \n",
       "total_area          23,699.00        60.35         35.65     12.00   \n",
       "rooms               23,699.00         2.07          1.08      0.00   \n",
       "ceiling_height      14,504.00         2.77          1.26      1.00   \n",
       "floors_total        23,613.00        10.67          6.60      1.00   \n",
       "living_area         21,796.00        34.46         22.03      2.00   \n",
       "floor               23,699.00         5.89          4.89      1.00   \n",
       "kitchen_area        21,421.00        10.57          5.91      1.30   \n",
       "balcony             12,180.00         1.15          1.07      0.00   \n",
       "airports_nearest    18,157.00    28,793.67     12,630.88      0.00   \n",
       "cityCenters_nearest 18,180.00    14,191.28      8,608.39    181.00   \n",
       "parks_around3000    18,181.00         0.61          0.80      0.00   \n",
       "parks_nearest        8,079.00       490.80        342.32      1.00   \n",
       "ponds_around3000    18,181.00         0.77          0.94      0.00   \n",
       "ponds_nearest        9,110.00       517.98        277.72     13.00   \n",
       "days_exposition     20,518.00       180.89        219.73      1.00   \n",
       "\n",
       "                             25%          50%          75%            max  \n",
       "total_images                6.00         9.00        14.00          50.00  \n",
       "last_price          3,400,000.00 4,650,000.00 6,800,000.00 763,000,000.00  \n",
       "total_area                 40.00        52.00        69.90         900.00  \n",
       "rooms                       1.00         2.00         3.00          19.00  \n",
       "ceiling_height              2.52         2.65         2.80         100.00  \n",
       "floors_total                5.00         9.00        16.00          60.00  \n",
       "living_area                18.60        30.00        42.30         409.70  \n",
       "floor                       2.00         4.00         8.00          33.00  \n",
       "kitchen_area                7.00         9.10        12.00         112.00  \n",
       "balcony                     0.00         1.00         2.00           5.00  \n",
       "airports_nearest       18,585.00    26,726.00    37,273.00      84,869.00  \n",
       "cityCenters_nearest     9,238.00    13,098.50    16,293.00      65,968.00  \n",
       "parks_around3000            0.00         0.00         1.00           3.00  \n",
       "parks_nearest             288.00       455.00       612.00       3,190.00  \n",
       "ponds_around3000            0.00         1.00         1.00           3.00  \n",
       "ponds_nearest             294.00       502.00       729.00       1,344.00  \n",
       "days_exposition            45.00        95.00       232.00       1,580.00  "
      ]
     },
     "execution_count": 7,
     "metadata": {},
     "output_type": "execute_result"
    }
   ],
   "source": [
    "df.describe().T"
   ]
  },
  {
   "cell_type": "markdown",
   "metadata": {},
   "source": [
    "<div class=\"alert alert-block alert-info\">\n",
    "<b>💾 Fixed:</b> \n",
    "Действительно так удобнее! спасибо за совет! ✔\n",
    "</div>"
   ]
  },
  {
   "cell_type": "markdown",
   "metadata": {},
   "source": [
    "Оценим количество пропущенных значений и посмотрим в каких столбцах они присутствуют"
   ]
  },
  {
   "cell_type": "code",
   "execution_count": 8,
   "metadata": {},
   "outputs": [
    {
     "data": {
      "text/plain": [
       "is_apartment            20924\n",
       "parks_nearest           15620\n",
       "ponds_nearest           14589\n",
       "balcony                 11519\n",
       "ceiling_height           9195\n",
       "airports_nearest         5542\n",
       "cityCenters_nearest      5519\n",
       "ponds_around3000         5518\n",
       "parks_around3000         5518\n",
       "days_exposition          3181\n",
       "kitchen_area             2278\n",
       "living_area              1903\n",
       "floors_total               86\n",
       "locality_name              49\n",
       "total_images                0\n",
       "last_price                  0\n",
       "studio                      0\n",
       "floor                       0\n",
       "rooms                       0\n",
       "first_day_exposition        0\n",
       "total_area                  0\n",
       "open_plan                   0\n",
       "dtype: int64"
      ]
     },
     "execution_count": 8,
     "metadata": {},
     "output_type": "execute_result"
    }
   ],
   "source": [
    "df.isna().sum().sort_values(ascending=False)"
   ]
  },
  {
   "cell_type": "markdown",
   "metadata": {},
   "source": [
    "Посмотрим на объекм пропущенных значений в процентах"
   ]
  },
  {
   "cell_type": "code",
   "execution_count": 9,
   "metadata": {},
   "outputs": [
    {
     "data": {
      "text/plain": [
       "is_apartment           88.29\n",
       "parks_nearest          65.91\n",
       "ponds_nearest          61.56\n",
       "balcony                48.61\n",
       "ceiling_height         38.80\n",
       "airports_nearest       23.38\n",
       "cityCenters_nearest    23.29\n",
       "ponds_around3000       23.28\n",
       "parks_around3000       23.28\n",
       "days_exposition        13.42\n",
       "kitchen_area            9.61\n",
       "living_area             8.03\n",
       "floors_total            0.36\n",
       "locality_name           0.21\n",
       "total_images            0.00\n",
       "last_price              0.00\n",
       "studio                  0.00\n",
       "floor                   0.00\n",
       "rooms                   0.00\n",
       "first_day_exposition    0.00\n",
       "total_area              0.00\n",
       "open_plan               0.00\n",
       "dtype: float64"
      ]
     },
     "execution_count": 9,
     "metadata": {},
     "output_type": "execute_result"
    }
   ],
   "source": [
    "df.isna().sum().sort_values(ascending=False) / df.shape[0]*100"
   ]
  },
  {
   "cell_type": "code",
   "execution_count": 10,
   "metadata": {},
   "outputs": [
    {
     "data": {
      "text/plain": [
       "['total_images',\n",
       " 'last_price',\n",
       " 'total_area',\n",
       " 'first_day_exposition',\n",
       " 'rooms',\n",
       " 'ceiling_height',\n",
       " 'floors_total',\n",
       " 'living_area',\n",
       " 'floor',\n",
       " 'is_apartment',\n",
       " 'studio',\n",
       " 'open_plan',\n",
       " 'kitchen_area',\n",
       " 'balcony',\n",
       " 'locality_name',\n",
       " 'airports_nearest',\n",
       " 'cityCenters_nearest',\n",
       " 'parks_around3000',\n",
       " 'parks_nearest',\n",
       " 'ponds_around3000',\n",
       " 'ponds_nearest',\n",
       " 'days_exposition']"
      ]
     },
     "execution_count": 10,
     "metadata": {},
     "output_type": "execute_result"
    }
   ],
   "source": [
    "df.columns.tolist()\n"
   ]
  },
  {
   "cell_type": "markdown",
   "metadata": {},
   "source": [
    "С названиями столбцов все впорядке, все названия написанны в одном регистре с соблюдение стиля "
   ]
  },
  {
   "cell_type": "code",
   "execution_count": 11,
   "metadata": {},
   "outputs": [
    {
     "data": {
      "text/html": [
       "<div>\n",
       "<style scoped>\n",
       "    .dataframe tbody tr th:only-of-type {\n",
       "        vertical-align: middle;\n",
       "    }\n",
       "\n",
       "    .dataframe tbody tr th {\n",
       "        vertical-align: top;\n",
       "    }\n",
       "\n",
       "    .dataframe thead th {\n",
       "        text-align: right;\n",
       "    }\n",
       "</style>\n",
       "<table border=\"1\" class=\"dataframe\">\n",
       "  <thead>\n",
       "    <tr style=\"text-align: right;\">\n",
       "      <th></th>\n",
       "      <th>total_images</th>\n",
       "      <th>last_price</th>\n",
       "      <th>total_area</th>\n",
       "      <th>first_day_exposition</th>\n",
       "      <th>rooms</th>\n",
       "      <th>ceiling_height</th>\n",
       "      <th>floors_total</th>\n",
       "      <th>living_area</th>\n",
       "      <th>floor</th>\n",
       "      <th>is_apartment</th>\n",
       "      <th>...</th>\n",
       "      <th>kitchen_area</th>\n",
       "      <th>balcony</th>\n",
       "      <th>locality_name</th>\n",
       "      <th>airports_nearest</th>\n",
       "      <th>cityCenters_nearest</th>\n",
       "      <th>parks_around3000</th>\n",
       "      <th>parks_nearest</th>\n",
       "      <th>ponds_around3000</th>\n",
       "      <th>ponds_nearest</th>\n",
       "      <th>days_exposition</th>\n",
       "    </tr>\n",
       "  </thead>\n",
       "  <tbody>\n",
       "    <tr>\n",
       "      <th>0</th>\n",
       "      <td>20</td>\n",
       "      <td>13,000,000.00</td>\n",
       "      <td>108.00</td>\n",
       "      <td>2019-03-07T00:00:00</td>\n",
       "      <td>3</td>\n",
       "      <td>2.70</td>\n",
       "      <td>16.00</td>\n",
       "      <td>51.00</td>\n",
       "      <td>8</td>\n",
       "      <td>NaN</td>\n",
       "      <td>...</td>\n",
       "      <td>25.00</td>\n",
       "      <td>NaN</td>\n",
       "      <td>Санкт-Петербург</td>\n",
       "      <td>18,863.00</td>\n",
       "      <td>16,028.00</td>\n",
       "      <td>1.00</td>\n",
       "      <td>482.00</td>\n",
       "      <td>2.00</td>\n",
       "      <td>755.00</td>\n",
       "      <td>NaN</td>\n",
       "    </tr>\n",
       "    <tr>\n",
       "      <th>1</th>\n",
       "      <td>7</td>\n",
       "      <td>3,350,000.00</td>\n",
       "      <td>40.40</td>\n",
       "      <td>2018-12-04T00:00:00</td>\n",
       "      <td>1</td>\n",
       "      <td>NaN</td>\n",
       "      <td>11.00</td>\n",
       "      <td>18.60</td>\n",
       "      <td>1</td>\n",
       "      <td>NaN</td>\n",
       "      <td>...</td>\n",
       "      <td>11.00</td>\n",
       "      <td>2.00</td>\n",
       "      <td>посёлок Шушары</td>\n",
       "      <td>12,817.00</td>\n",
       "      <td>18,603.00</td>\n",
       "      <td>0.00</td>\n",
       "      <td>NaN</td>\n",
       "      <td>0.00</td>\n",
       "      <td>NaN</td>\n",
       "      <td>81.00</td>\n",
       "    </tr>\n",
       "    <tr>\n",
       "      <th>2</th>\n",
       "      <td>10</td>\n",
       "      <td>5,196,000.00</td>\n",
       "      <td>56.00</td>\n",
       "      <td>2015-08-20T00:00:00</td>\n",
       "      <td>2</td>\n",
       "      <td>NaN</td>\n",
       "      <td>5.00</td>\n",
       "      <td>34.30</td>\n",
       "      <td>4</td>\n",
       "      <td>NaN</td>\n",
       "      <td>...</td>\n",
       "      <td>8.30</td>\n",
       "      <td>0.00</td>\n",
       "      <td>Санкт-Петербург</td>\n",
       "      <td>21,741.00</td>\n",
       "      <td>13,933.00</td>\n",
       "      <td>1.00</td>\n",
       "      <td>90.00</td>\n",
       "      <td>2.00</td>\n",
       "      <td>574.00</td>\n",
       "      <td>558.00</td>\n",
       "    </tr>\n",
       "    <tr>\n",
       "      <th>3</th>\n",
       "      <td>0</td>\n",
       "      <td>64,900,000.00</td>\n",
       "      <td>159.00</td>\n",
       "      <td>2015-07-24T00:00:00</td>\n",
       "      <td>3</td>\n",
       "      <td>NaN</td>\n",
       "      <td>14.00</td>\n",
       "      <td>NaN</td>\n",
       "      <td>9</td>\n",
       "      <td>NaN</td>\n",
       "      <td>...</td>\n",
       "      <td>NaN</td>\n",
       "      <td>0.00</td>\n",
       "      <td>Санкт-Петербург</td>\n",
       "      <td>28,098.00</td>\n",
       "      <td>6,800.00</td>\n",
       "      <td>2.00</td>\n",
       "      <td>84.00</td>\n",
       "      <td>3.00</td>\n",
       "      <td>234.00</td>\n",
       "      <td>424.00</td>\n",
       "    </tr>\n",
       "    <tr>\n",
       "      <th>4</th>\n",
       "      <td>2</td>\n",
       "      <td>10,000,000.00</td>\n",
       "      <td>100.00</td>\n",
       "      <td>2018-06-19T00:00:00</td>\n",
       "      <td>2</td>\n",
       "      <td>3.03</td>\n",
       "      <td>14.00</td>\n",
       "      <td>32.00</td>\n",
       "      <td>13</td>\n",
       "      <td>NaN</td>\n",
       "      <td>...</td>\n",
       "      <td>41.00</td>\n",
       "      <td>NaN</td>\n",
       "      <td>Санкт-Петербург</td>\n",
       "      <td>31,856.00</td>\n",
       "      <td>8,098.00</td>\n",
       "      <td>2.00</td>\n",
       "      <td>112.00</td>\n",
       "      <td>1.00</td>\n",
       "      <td>48.00</td>\n",
       "      <td>121.00</td>\n",
       "    </tr>\n",
       "  </tbody>\n",
       "</table>\n",
       "<p>5 rows × 22 columns</p>\n",
       "</div>"
      ],
      "text/plain": [
       "   total_images    last_price  total_area first_day_exposition  rooms  \\\n",
       "0            20 13,000,000.00      108.00  2019-03-07T00:00:00      3   \n",
       "1             7  3,350,000.00       40.40  2018-12-04T00:00:00      1   \n",
       "2            10  5,196,000.00       56.00  2015-08-20T00:00:00      2   \n",
       "3             0 64,900,000.00      159.00  2015-07-24T00:00:00      3   \n",
       "4             2 10,000,000.00      100.00  2018-06-19T00:00:00      2   \n",
       "\n",
       "   ceiling_height  floors_total  living_area  floor is_apartment  ...  \\\n",
       "0            2.70         16.00        51.00      8          NaN  ...   \n",
       "1             NaN         11.00        18.60      1          NaN  ...   \n",
       "2             NaN          5.00        34.30      4          NaN  ...   \n",
       "3             NaN         14.00          NaN      9          NaN  ...   \n",
       "4            3.03         14.00        32.00     13          NaN  ...   \n",
       "\n",
       "   kitchen_area  balcony    locality_name  airports_nearest  \\\n",
       "0         25.00      NaN  Санкт-Петербург         18,863.00   \n",
       "1         11.00     2.00   посёлок Шушары         12,817.00   \n",
       "2          8.30     0.00  Санкт-Петербург         21,741.00   \n",
       "3           NaN     0.00  Санкт-Петербург         28,098.00   \n",
       "4         41.00      NaN  Санкт-Петербург         31,856.00   \n",
       "\n",
       "  cityCenters_nearest  parks_around3000  parks_nearest  ponds_around3000  \\\n",
       "0           16,028.00              1.00         482.00              2.00   \n",
       "1           18,603.00              0.00            NaN              0.00   \n",
       "2           13,933.00              1.00          90.00              2.00   \n",
       "3            6,800.00              2.00          84.00              3.00   \n",
       "4            8,098.00              2.00         112.00              1.00   \n",
       "\n",
       "   ponds_nearest  days_exposition  \n",
       "0         755.00              NaN  \n",
       "1            NaN            81.00  \n",
       "2         574.00           558.00  \n",
       "3         234.00           424.00  \n",
       "4          48.00           121.00  \n",
       "\n",
       "[5 rows x 22 columns]"
      ]
     },
     "execution_count": 11,
     "metadata": {},
     "output_type": "execute_result"
    }
   ],
   "source": [
    "df.head()"
   ]
  },
  {
   "cell_type": "code",
   "execution_count": 12,
   "metadata": {},
   "outputs": [
    {
     "data": {
      "text/plain": [
       "['Санкт-Петербург',\n",
       " 'посёлок Шушары',\n",
       " 'городской посёлок Янино-1',\n",
       " 'посёлок Парголово',\n",
       " 'посёлок Мурино',\n",
       " 'Ломоносов',\n",
       " 'Сертолово',\n",
       " 'Петергоф',\n",
       " 'Пушкин',\n",
       " 'деревня Кудрово',\n",
       " 'Коммунар',\n",
       " 'Колпино',\n",
       " 'поселок городского типа Красный Бор',\n",
       " 'Гатчина',\n",
       " 'поселок Мурино',\n",
       " 'деревня Фёдоровское',\n",
       " 'Выборг',\n",
       " 'Кронштадт',\n",
       " 'Кировск',\n",
       " 'деревня Новое Девяткино',\n",
       " 'посёлок Металлострой',\n",
       " 'посёлок городского типа Лебяжье',\n",
       " 'посёлок городского типа Сиверский',\n",
       " 'поселок Молодцово',\n",
       " 'поселок городского типа Кузьмоловский',\n",
       " 'садовое товарищество Новая Ропша',\n",
       " 'Павловск',\n",
       " 'деревня Пикколово',\n",
       " 'Всеволожск',\n",
       " 'Волхов',\n",
       " 'Кингисепп',\n",
       " 'Приозерск',\n",
       " 'Сестрорецк',\n",
       " 'деревня Куттузи',\n",
       " 'посёлок Аннино',\n",
       " 'поселок городского типа Ефимовский',\n",
       " 'посёлок Плодовое',\n",
       " 'деревня Заклинье',\n",
       " 'поселок Торковичи',\n",
       " 'поселок Первомайское',\n",
       " 'Красное Село',\n",
       " 'посёлок Понтонный',\n",
       " 'Сясьстрой',\n",
       " 'деревня Старая',\n",
       " 'деревня Лесколово',\n",
       " 'посёлок Новый Свет',\n",
       " 'Сланцы',\n",
       " 'село Путилово',\n",
       " 'Ивангород',\n",
       " 'Мурино',\n",
       " 'Шлиссельбург',\n",
       " 'Никольское',\n",
       " 'Зеленогорск',\n",
       " 'Сосновый Бор',\n",
       " 'поселок Новый Свет',\n",
       " 'деревня Оржицы',\n",
       " 'деревня Кальтино',\n",
       " 'Кудрово',\n",
       " 'поселок Романовка',\n",
       " 'посёлок Бугры',\n",
       " 'поселок Бугры',\n",
       " 'поселок городского типа Рощино',\n",
       " 'Кириши',\n",
       " 'Луга',\n",
       " 'Волосово',\n",
       " 'Отрадное',\n",
       " 'село Павлово',\n",
       " 'поселок Оредеж',\n",
       " 'село Копорье',\n",
       " 'посёлок городского типа Красный Бор',\n",
       " 'посёлок Молодёжное',\n",
       " 'Тихвин',\n",
       " 'посёлок Победа',\n",
       " 'деревня Нурма',\n",
       " 'поселок городского типа Синявино',\n",
       " 'Тосно',\n",
       " 'посёлок городского типа Кузьмоловский',\n",
       " 'посёлок Стрельна',\n",
       " 'Бокситогорск',\n",
       " 'посёлок Александровская',\n",
       " 'деревня Лопухинка',\n",
       " 'Пикалёво',\n",
       " 'поселок Терволово',\n",
       " 'поселок городского типа Советский',\n",
       " 'Подпорожье',\n",
       " 'посёлок Петровское',\n",
       " 'посёлок городского типа Токсово',\n",
       " 'поселок Сельцо',\n",
       " 'посёлок городского типа Вырица',\n",
       " 'деревня Кипень',\n",
       " 'деревня Келози',\n",
       " 'деревня Вартемяги',\n",
       " 'посёлок Тельмана',\n",
       " 'поселок Севастьяново',\n",
       " 'городской поселок Большая Ижора',\n",
       " nan,\n",
       " 'городской посёлок Павлово',\n",
       " 'деревня Агалатово',\n",
       " 'посёлок Новогорелово',\n",
       " 'городской посёлок Лесогорский',\n",
       " 'деревня Лаголово',\n",
       " 'поселок Цвелодубово',\n",
       " 'поселок городского типа Рахья',\n",
       " 'поселок городского типа Вырица',\n",
       " 'деревня Белогорка',\n",
       " 'поселок Заводской',\n",
       " 'городской посёлок Новоселье',\n",
       " 'деревня Большие Колпаны',\n",
       " 'деревня Горбунки',\n",
       " 'деревня Батово',\n",
       " 'деревня Заневка',\n",
       " 'деревня Иссад',\n",
       " 'Приморск',\n",
       " 'городской посёлок Фёдоровское',\n",
       " 'деревня Мистолово',\n",
       " 'Новая Ладога',\n",
       " 'поселок Зимитицы',\n",
       " 'поселок Барышево',\n",
       " 'деревня Разметелево',\n",
       " 'поселок городского типа имени Свердлова',\n",
       " 'деревня Пеники',\n",
       " 'поселок Рябово',\n",
       " 'деревня Пудомяги',\n",
       " 'поселок станции Корнево',\n",
       " 'деревня Низино',\n",
       " 'деревня Бегуницы',\n",
       " 'посёлок Поляны',\n",
       " 'городской посёлок Мга',\n",
       " 'поселок Елизаветино',\n",
       " 'посёлок городского типа Кузнечное',\n",
       " 'деревня Колтуши',\n",
       " 'поселок Запорожское',\n",
       " 'посёлок городского типа Рощино',\n",
       " 'деревня Гостилицы',\n",
       " 'деревня Малое Карлино',\n",
       " 'посёлок Мичуринское',\n",
       " 'посёлок городского типа имени Морозова',\n",
       " 'посёлок Песочный',\n",
       " 'посёлок Сосново',\n",
       " 'деревня Аро',\n",
       " 'поселок Ильичёво',\n",
       " 'посёлок городского типа Тайцы',\n",
       " 'деревня Малое Верево',\n",
       " 'деревня Извара',\n",
       " 'поселок станции Вещево',\n",
       " 'село Паша',\n",
       " 'деревня Калитино',\n",
       " 'посёлок городского типа Ульяновка',\n",
       " 'деревня Чудской Бор',\n",
       " 'поселок городского типа Дубровка',\n",
       " 'деревня Мины',\n",
       " 'поселок Войсковицы',\n",
       " 'посёлок городского типа имени Свердлова',\n",
       " 'деревня Коркино',\n",
       " 'посёлок Ропша',\n",
       " 'поселок городского типа Приладожский',\n",
       " 'посёлок Щеглово',\n",
       " 'посёлок Гаврилово',\n",
       " 'Лодейное Поле',\n",
       " 'деревня Рабитицы',\n",
       " 'поселок городского типа Никольский',\n",
       " 'деревня Кузьмолово',\n",
       " 'деревня Малые Колпаны',\n",
       " 'поселок Тельмана',\n",
       " 'посёлок Петро-Славянка',\n",
       " 'городской посёлок Назия',\n",
       " 'посёлок Репино',\n",
       " 'посёлок Ильичёво',\n",
       " 'поселок Углово',\n",
       " 'поселок Старая Малукса',\n",
       " 'садовое товарищество Рахья',\n",
       " 'поселок Аннино',\n",
       " 'поселок Победа',\n",
       " 'деревня Меньково',\n",
       " 'деревня Старые Бегуницы',\n",
       " 'посёлок Сапёрный',\n",
       " 'поселок Семрино',\n",
       " 'поселок Гаврилово',\n",
       " 'поселок Глажево',\n",
       " 'поселок Кобринское',\n",
       " 'деревня Гарболово',\n",
       " 'деревня Юкки',\n",
       " 'поселок станции Приветнинское',\n",
       " 'деревня Мануйлово',\n",
       " 'деревня Пчева',\n",
       " 'поселок Поляны',\n",
       " 'поселок Цвылёво',\n",
       " 'поселок Мельниково',\n",
       " 'посёлок Пудость',\n",
       " 'посёлок Усть-Луга',\n",
       " 'Светогорск',\n",
       " 'Любань',\n",
       " 'поселок Селезнёво',\n",
       " 'поселок городского типа Рябово',\n",
       " 'Каменногорск',\n",
       " 'деревня Кривко',\n",
       " 'поселок Глебычево',\n",
       " 'деревня Парицы',\n",
       " 'поселок Жилпосёлок',\n",
       " 'посёлок городского типа Мга',\n",
       " 'городской поселок Янино-1',\n",
       " 'посёлок Войскорово',\n",
       " 'село Никольское',\n",
       " 'посёлок Терволово',\n",
       " 'поселок Стеклянный',\n",
       " 'посёлок городского типа Важины',\n",
       " 'посёлок Мыза-Ивановка',\n",
       " 'село Русско-Высоцкое',\n",
       " 'поселок городского типа Лебяжье',\n",
       " 'поселок городского типа Форносово',\n",
       " 'село Старая Ладога',\n",
       " 'поселок Житково',\n",
       " 'городской посёлок Виллози',\n",
       " 'деревня Лампово',\n",
       " 'деревня Шпаньково',\n",
       " 'деревня Лаврики',\n",
       " 'посёлок Сумино',\n",
       " 'посёлок Возрождение',\n",
       " 'деревня Старосиверская',\n",
       " 'посёлок Кикерино',\n",
       " 'поселок Возрождение',\n",
       " 'деревня Старое Хинколово',\n",
       " 'посёлок Пригородный',\n",
       " 'посёлок Торфяное',\n",
       " 'городской посёлок Будогощь',\n",
       " 'поселок Суходолье',\n",
       " 'поселок Красная Долина',\n",
       " 'деревня Хапо-Ое',\n",
       " 'поселок городского типа Дружная Горка',\n",
       " 'поселок Лисий Нос',\n",
       " 'деревня Яльгелево',\n",
       " 'посёлок Стеклянный',\n",
       " 'село Рождествено',\n",
       " 'деревня Старополье',\n",
       " 'посёлок Левашово',\n",
       " 'деревня Сяськелево',\n",
       " 'деревня Камышовка',\n",
       " 'садоводческое некоммерческое товарищество Лесная Поляна',\n",
       " 'деревня Хязельки',\n",
       " 'поселок Жилгородок',\n",
       " 'посёлок городского типа Павлово',\n",
       " 'деревня Ялгино',\n",
       " 'поселок Новый Учхоз',\n",
       " 'городской посёлок Рощино',\n",
       " 'поселок Гончарово',\n",
       " 'поселок Почап',\n",
       " 'посёлок Сапёрное',\n",
       " 'посёлок Платформа 69-й километр',\n",
       " 'поселок Каложицы',\n",
       " 'деревня Фалилеево',\n",
       " 'деревня Пельгора',\n",
       " 'поселок городского типа Лесогорский',\n",
       " 'деревня Торошковичи',\n",
       " 'посёлок Белоостров',\n",
       " 'посёлок Алексеевка',\n",
       " 'поселок Серебрянский',\n",
       " 'поселок Лукаши',\n",
       " 'поселок Петровское',\n",
       " 'деревня Щеглово',\n",
       " 'поселок Мичуринское',\n",
       " 'деревня Тарасово',\n",
       " 'поселок Кингисеппский',\n",
       " 'посёлок при железнодорожной станции Вещево',\n",
       " 'поселок Ушаки',\n",
       " 'деревня Котлы',\n",
       " 'деревня Сижно',\n",
       " 'деревня Торосово',\n",
       " 'посёлок Форт Красная Горка',\n",
       " 'поселок городского типа Токсово',\n",
       " 'деревня Новолисино',\n",
       " 'посёлок станции Громово',\n",
       " 'деревня Глинка',\n",
       " 'посёлок Мельниково',\n",
       " 'поселок городского типа Назия',\n",
       " 'деревня Старая Пустошь',\n",
       " 'поселок Коммунары',\n",
       " 'поселок Починок',\n",
       " 'посёлок городского типа Вознесенье',\n",
       " 'деревня Разбегаево',\n",
       " 'посёлок городского типа Рябово',\n",
       " 'поселок Гладкое',\n",
       " 'посёлок при железнодорожной станции Приветнинское',\n",
       " 'поселок Тёсово-4',\n",
       " 'посёлок Жилгородок',\n",
       " 'деревня Бор',\n",
       " 'посёлок Коробицыно',\n",
       " 'деревня Большая Вруда',\n",
       " 'деревня Курковицы',\n",
       " 'посёлок Лисий Нос',\n",
       " 'городской посёлок Советский',\n",
       " 'посёлок Кобралово',\n",
       " 'деревня Суоранда',\n",
       " 'поселок Кобралово',\n",
       " 'поселок городского типа Кондратьево',\n",
       " 'коттеджный поселок Счастье',\n",
       " 'поселок Любань',\n",
       " 'деревня Реброво',\n",
       " 'деревня Зимитицы',\n",
       " 'деревня Тойворово',\n",
       " 'поселок Семиозерье',\n",
       " 'поселок Лесное',\n",
       " 'поселок Совхозный',\n",
       " 'поселок Усть-Луга',\n",
       " 'посёлок Ленинское',\n",
       " 'посёлок Суйда',\n",
       " 'посёлок городского типа Форносово',\n",
       " 'деревня Нижние Осельки',\n",
       " 'посёлок станции Свирь',\n",
       " 'поселок Перово',\n",
       " 'Высоцк',\n",
       " 'поселок Гарболово',\n",
       " 'село Шум',\n",
       " 'поселок Котельский',\n",
       " 'поселок станции Лужайка',\n",
       " 'деревня Большая Пустомержа',\n",
       " 'поселок Красносельское',\n",
       " 'деревня Вахнова Кара',\n",
       " 'деревня Пижма',\n",
       " 'коттеджный поселок Кивеннапа Север',\n",
       " 'поселок Коробицыно',\n",
       " 'поселок Ромашки',\n",
       " 'посёлок Перово',\n",
       " 'деревня Каськово',\n",
       " 'деревня Куровицы',\n",
       " 'посёлок Плоское',\n",
       " 'поселок Сумино',\n",
       " 'поселок городского типа Большая Ижора',\n",
       " 'поселок Кирпичное',\n",
       " 'деревня Ям-Тесово',\n",
       " 'деревня Раздолье',\n",
       " 'деревня Терпилицы',\n",
       " 'посёлок Шугозеро',\n",
       " 'деревня Ваганово',\n",
       " 'поселок Пушное',\n",
       " 'садовое товарищество Садко',\n",
       " 'посёлок Усть-Ижора',\n",
       " 'деревня Выскатка',\n",
       " 'городской посёлок Свирьстрой',\n",
       " 'поселок Громово',\n",
       " 'деревня Кисельня',\n",
       " 'посёлок Старая Малукса',\n",
       " 'деревня Трубников Бор',\n",
       " 'поселок Калитино',\n",
       " 'посёлок Высокоключевой',\n",
       " 'садовое товарищество Приладожский',\n",
       " 'посёлок Пансионат Зелёный Бор',\n",
       " 'деревня Ненимяки',\n",
       " 'поселок Пансионат Зелёный Бор',\n",
       " 'деревня Снегирёвка',\n",
       " 'деревня Рапполово',\n",
       " 'деревня Пустынка',\n",
       " 'поселок Рабитицы',\n",
       " 'деревня Большой Сабск',\n",
       " 'деревня Русско',\n",
       " 'деревня Лупполово',\n",
       " 'деревня Большое Рейзино',\n",
       " 'деревня Малая Романовка',\n",
       " 'поселок Дружноселье',\n",
       " 'поселок Пчевжа',\n",
       " 'поселок Володарское',\n",
       " 'деревня Нижняя',\n",
       " 'коттеджный посёлок Лесное',\n",
       " 'деревня Тихковицы',\n",
       " 'деревня Борисова Грива',\n",
       " 'посёлок Дзержинского']"
      ]
     },
     "execution_count": 12,
     "metadata": {},
     "output_type": "execute_result"
    }
   ],
   "source": [
    "df['locality_name'].unique().tolist()"
   ]
  },
  {
   "cell_type": "markdown",
   "metadata": {},
   "source": [
    "**Вывод**"
   ]
  },
  {
   "cell_type": "markdown",
   "metadata": {},
   "source": [
    "**Изучение данных позволило выявить следующие проблемы в данных:**\n",
    "1. Мы можем видеть большое очень большое коичество пропущенных значений.\n",
    "2. Неоднородность в регистре в столбце locality_name, исползование как ё так и е\n",
    "3. Неоптимальные типы данных\n",
    "\n",
    "**В данных так же встречаются аномалии**\n",
    "1. Количество комнат в столбце rooms 0\n",
    "2. Высота потолков ceiling_height более 5 метров "
   ]
  },
  {
   "cell_type": "markdown",
   "metadata": {},
   "source": [
    "<div class=\"alert alert-block alert-success\">\n",
    "<b>✔️ Success:</b> отличное знакомство с датасетом!"
   ]
  },
  {
   "cell_type": "markdown",
   "metadata": {},
   "source": [
    "## Предобработка данных"
   ]
  },
  {
   "cell_type": "markdown",
   "metadata": {},
   "source": [
    "Проанализируем пропуски значений и заполним пропуски значениями"
   ]
  },
  {
   "cell_type": "markdown",
   "metadata": {},
   "source": [
    "В столбце is_apartment больше всего пропущенных значений, можно предположить, что при размещении объявлений в объекта недвижемости которые не являются апартаментами не отметели это. Для дальнейшего анализа мы можем счить, что данные объекты не являются апартаментами"
   ]
  },
  {
   "cell_type": "code",
   "execution_count": 13,
   "metadata": {},
   "outputs": [],
   "source": [
    "df['is_apartment'] = df['is_apartment'].fillna(False)"
   ]
  },
  {
   "cell_type": "markdown",
   "metadata": {},
   "source": [
    "Следующие два столбца для анализа, это parks_nearest и ponds_nearest. В эти столбцах примерно одинаковый процент пропущенных значений. Это может быть связанно с тем, что не указали расстояние до ближайшего парка/пруда. Данные пропуски можно заменить медианными значениями."
   ]
  },
  {
   "cell_type": "code",
   "execution_count": 14,
   "metadata": {},
   "outputs": [],
   "source": [
    "df['parks_nearest'] = df['parks_nearest'].fillna(df['parks_nearest'].median())"
   ]
  },
  {
   "cell_type": "code",
   "execution_count": 15,
   "metadata": {},
   "outputs": [],
   "source": [
    "df['ponds_nearest'] = df['ponds_nearest'].fillna(df['ponds_nearest'].median())"
   ]
  },
  {
   "cell_type": "markdown",
   "metadata": {},
   "source": [
    "<div class=\"alert alert-block alert-warning\">\n",
    "<b>⚠️ Remarks:</b> эти столбцы в исследовании не участвуют, можно было бы и вовсе их удалить. В любом случае, заполнять тут медианой без какой-либо группировки не совсем корректно"
   ]
  },
  {
   "cell_type": "markdown",
   "metadata": {},
   "source": [
    "<div class=\"alert alert-block alert-info\">\n",
    "<b>💾 Fixed:</b> \n",
    "Учту на будующее. Столбцы не участвующие в иследовании не буду трогать. Не будем тратить время на ненужную работу ✔\n",
    "</div>"
   ]
  },
  {
   "cell_type": "markdown",
   "metadata": {},
   "source": [
    "<div class=\"alert alert-block alert-success\">\n",
    "хорошо :)"
   ]
  },
  {
   "cell_type": "markdown",
   "metadata": {},
   "source": [
    "Решим вопрос с количеством балконов. Мы можем предположить, что пропуски это отсутствующие объекты без балконов. Заменим пропущенные значения на 0, а также изменим тип на цулочисленный, что логично для количества балконов"
   ]
  },
  {
   "cell_type": "code",
   "execution_count": 16,
   "metadata": {},
   "outputs": [
    {
     "data": {
      "text/plain": [
       "array([nan,  2.,  0.,  1.,  5.,  4.,  3.])"
      ]
     },
     "execution_count": 16,
     "metadata": {},
     "output_type": "execute_result"
    }
   ],
   "source": [
    "df['balcony'].unique()"
   ]
  },
  {
   "cell_type": "code",
   "execution_count": 17,
   "metadata": {},
   "outputs": [],
   "source": [
    "df['balcony'] = df['balcony'].fillna(0)"
   ]
  },
  {
   "cell_type": "code",
   "execution_count": 18,
   "metadata": {},
   "outputs": [],
   "source": [
    "df['balcony'] = df['balcony'].astype('int')"
   ]
  },
  {
   "cell_type": "markdown",
   "metadata": {},
   "source": [
    "Решим вопрос с данными в ceiling_height. Исследуем наличие возможных аномалий и заполним пропуски в данных. В данном случае предлагаю заменить пропуски медианным значением высоты, что в целом будет соответствовать действительности."
   ]
  },
  {
   "cell_type": "code",
   "execution_count": 19,
   "metadata": {},
   "outputs": [
    {
     "data": {
      "text/plain": [
       "array([  2.7 ,    nan,   3.03,   2.5 ,   2.67,   2.56,   3.05,   2.75,\n",
       "         2.6 ,   2.9 ,   2.8 ,   2.55,   3.  ,   2.65,   3.2 ,   2.61,\n",
       "         3.25,   3.45,   2.77,   2.85,   2.64,   2.57,   4.15,   3.5 ,\n",
       "         3.3 ,   2.71,   4.  ,   2.47,   2.73,   2.84,   3.1 ,   2.34,\n",
       "         3.4 ,   3.06,   2.72,   2.54,   2.51,   2.78,   2.76,  25.  ,\n",
       "         2.58,   3.7 ,   2.52,   5.2 ,   2.87,   2.66,   2.59,   2.  ,\n",
       "         2.45,   3.6 ,   2.92,   3.11,   3.13,   3.8 ,   3.15,   3.55,\n",
       "         3.16,   3.62,   3.12,   2.53,   2.74,   2.96,   2.46,   5.3 ,\n",
       "         5.  ,   2.79,   2.95,   4.06,   2.94,   3.82,   3.54,   3.53,\n",
       "         2.83,   4.7 ,   2.4 ,   3.38,   3.01,   5.6 ,   3.65,   3.9 ,\n",
       "         3.18,   3.35,   2.3 ,   3.57,   2.48,   2.62,   2.82,   3.98,\n",
       "         2.63,   3.83,   3.52,   3.95,   3.75,   2.88,   3.67,   3.87,\n",
       "         3.66,   3.85,   3.86,   4.19,   3.24,   4.8 ,   4.5 ,   4.2 ,\n",
       "         3.36,  32.  ,   3.08,   3.68,   3.07,   3.37,   3.09,   8.  ,\n",
       "         3.26,   3.34,   2.81,   3.44,   2.97,   3.14,   4.37,   2.68,\n",
       "         3.22,   3.27,  27.  ,   4.1 ,   2.93,   3.46,  24.  ,   3.47,\n",
       "         3.33,   3.63,   3.32,  26.  ,   1.2 ,   8.3 ,   2.98,   2.86,\n",
       "         3.17,   4.4 ,   3.28,   3.04,   4.45,   5.5 ,   3.84,   3.23,\n",
       "         3.02,   3.21,   3.43,   3.78,   4.3 ,   3.39,   2.69,   3.31,\n",
       "         4.65,   3.56,   2.2 ,   3.51,   3.93,   3.42,   2.99,   3.49,\n",
       "        14.  ,   4.14,   2.91,   3.88,   1.75,   4.25,   3.29,  20.  ,\n",
       "         2.25,   3.76,   3.69,   6.  ,  22.6 ,   2.89,   3.58,   5.8 ,\n",
       "        27.5 ,   2.49,   4.9 ,   3.48,  10.3 ,   1.  , 100.  ,   3.59])"
      ]
     },
     "execution_count": 19,
     "metadata": {},
     "output_type": "execute_result"
    }
   ],
   "source": [
    "df['ceiling_height'].unique()"
   ]
  },
  {
   "cell_type": "markdown",
   "metadata": {},
   "source": [
    "Высота потолков более 5 метров явно ошибочна, ее также можно заменить на медианную величину"
   ]
  },
  {
   "cell_type": "code",
   "execution_count": 20,
   "metadata": {},
   "outputs": [],
   "source": [
    "df['ceiling_height'] = df['ceiling_height'].fillna(df['ceiling_height'].median())"
   ]
  },
  {
   "cell_type": "code",
   "execution_count": 21,
   "metadata": {},
   "outputs": [],
   "source": [
    "df.loc[df['ceiling_height'] > 5, 'ceiling_height'] = df['ceiling_height'].median()"
   ]
  },
  {
   "cell_type": "markdown",
   "metadata": {},
   "source": [
    "В столбцах ponds_around3000, parks_around3000, airports_nearest и cityCenters_nearest примерно одинаковый процунт пропусков, вероятно пропуски возникли из-за того, что значения расстояний не были указаны. Заполним пропуски медианными значениями"
   ]
  },
  {
   "cell_type": "code",
   "execution_count": 22,
   "metadata": {},
   "outputs": [],
   "source": [
    "df['cityCenters_nearest'] = df['cityCenters_nearest'].fillna(df['cityCenters_nearest'].median())"
   ]
  },
  {
   "cell_type": "code",
   "execution_count": 23,
   "metadata": {},
   "outputs": [],
   "source": [
    "df['airports_nearest'] = df['airports_nearest'].fillna(df['airports_nearest'].median())"
   ]
  },
  {
   "cell_type": "code",
   "execution_count": 24,
   "metadata": {},
   "outputs": [],
   "source": [
    "df['ponds_around3000'] = df['ponds_around3000'].fillna(df['ponds_around3000'].median())"
   ]
  },
  {
   "cell_type": "code",
   "execution_count": 25,
   "metadata": {},
   "outputs": [],
   "source": [
    "df['parks_around3000'] = df['parks_around3000'].fillna(df['parks_around3000'].median())"
   ]
  },
  {
   "cell_type": "markdown",
   "metadata": {},
   "source": [
    "Приведем данные в столбцах ponds_around3000, parks_around3000 к цулочисленному типу, так как они показывают количество парков"
   ]
  },
  {
   "cell_type": "code",
   "execution_count": 26,
   "metadata": {},
   "outputs": [],
   "source": [
    "pd.options.display.max_columns = 50"
   ]
  },
  {
   "cell_type": "code",
   "execution_count": 27,
   "metadata": {},
   "outputs": [
    {
     "data": {
      "text/html": [
       "<div>\n",
       "<style scoped>\n",
       "    .dataframe tbody tr th:only-of-type {\n",
       "        vertical-align: middle;\n",
       "    }\n",
       "\n",
       "    .dataframe tbody tr th {\n",
       "        vertical-align: top;\n",
       "    }\n",
       "\n",
       "    .dataframe thead th {\n",
       "        text-align: right;\n",
       "    }\n",
       "</style>\n",
       "<table border=\"1\" class=\"dataframe\">\n",
       "  <thead>\n",
       "    <tr style=\"text-align: right;\">\n",
       "      <th></th>\n",
       "      <th>total_images</th>\n",
       "      <th>last_price</th>\n",
       "      <th>total_area</th>\n",
       "      <th>first_day_exposition</th>\n",
       "      <th>rooms</th>\n",
       "      <th>ceiling_height</th>\n",
       "      <th>floors_total</th>\n",
       "      <th>living_area</th>\n",
       "      <th>floor</th>\n",
       "      <th>is_apartment</th>\n",
       "      <th>studio</th>\n",
       "      <th>open_plan</th>\n",
       "      <th>kitchen_area</th>\n",
       "      <th>balcony</th>\n",
       "      <th>locality_name</th>\n",
       "      <th>airports_nearest</th>\n",
       "      <th>cityCenters_nearest</th>\n",
       "      <th>parks_around3000</th>\n",
       "      <th>parks_nearest</th>\n",
       "      <th>ponds_around3000</th>\n",
       "      <th>ponds_nearest</th>\n",
       "      <th>days_exposition</th>\n",
       "    </tr>\n",
       "  </thead>\n",
       "  <tbody>\n",
       "    <tr>\n",
       "      <th>0</th>\n",
       "      <td>20</td>\n",
       "      <td>13,000,000.00</td>\n",
       "      <td>108.00</td>\n",
       "      <td>2019-03-07T00:00:00</td>\n",
       "      <td>3</td>\n",
       "      <td>2.70</td>\n",
       "      <td>16.00</td>\n",
       "      <td>51.00</td>\n",
       "      <td>8</td>\n",
       "      <td>False</td>\n",
       "      <td>False</td>\n",
       "      <td>False</td>\n",
       "      <td>25.00</td>\n",
       "      <td>0</td>\n",
       "      <td>Санкт-Петербург</td>\n",
       "      <td>18,863.00</td>\n",
       "      <td>16,028.00</td>\n",
       "      <td>1.00</td>\n",
       "      <td>482.00</td>\n",
       "      <td>2.00</td>\n",
       "      <td>755.00</td>\n",
       "      <td>NaN</td>\n",
       "    </tr>\n",
       "    <tr>\n",
       "      <th>1</th>\n",
       "      <td>7</td>\n",
       "      <td>3,350,000.00</td>\n",
       "      <td>40.40</td>\n",
       "      <td>2018-12-04T00:00:00</td>\n",
       "      <td>1</td>\n",
       "      <td>2.65</td>\n",
       "      <td>11.00</td>\n",
       "      <td>18.60</td>\n",
       "      <td>1</td>\n",
       "      <td>False</td>\n",
       "      <td>False</td>\n",
       "      <td>False</td>\n",
       "      <td>11.00</td>\n",
       "      <td>2</td>\n",
       "      <td>посёлок Шушары</td>\n",
       "      <td>12,817.00</td>\n",
       "      <td>18,603.00</td>\n",
       "      <td>0.00</td>\n",
       "      <td>455.00</td>\n",
       "      <td>0.00</td>\n",
       "      <td>502.00</td>\n",
       "      <td>81.00</td>\n",
       "    </tr>\n",
       "    <tr>\n",
       "      <th>2</th>\n",
       "      <td>10</td>\n",
       "      <td>5,196,000.00</td>\n",
       "      <td>56.00</td>\n",
       "      <td>2015-08-20T00:00:00</td>\n",
       "      <td>2</td>\n",
       "      <td>2.65</td>\n",
       "      <td>5.00</td>\n",
       "      <td>34.30</td>\n",
       "      <td>4</td>\n",
       "      <td>False</td>\n",
       "      <td>False</td>\n",
       "      <td>False</td>\n",
       "      <td>8.30</td>\n",
       "      <td>0</td>\n",
       "      <td>Санкт-Петербург</td>\n",
       "      <td>21,741.00</td>\n",
       "      <td>13,933.00</td>\n",
       "      <td>1.00</td>\n",
       "      <td>90.00</td>\n",
       "      <td>2.00</td>\n",
       "      <td>574.00</td>\n",
       "      <td>558.00</td>\n",
       "    </tr>\n",
       "    <tr>\n",
       "      <th>3</th>\n",
       "      <td>0</td>\n",
       "      <td>64,900,000.00</td>\n",
       "      <td>159.00</td>\n",
       "      <td>2015-07-24T00:00:00</td>\n",
       "      <td>3</td>\n",
       "      <td>2.65</td>\n",
       "      <td>14.00</td>\n",
       "      <td>NaN</td>\n",
       "      <td>9</td>\n",
       "      <td>False</td>\n",
       "      <td>False</td>\n",
       "      <td>False</td>\n",
       "      <td>NaN</td>\n",
       "      <td>0</td>\n",
       "      <td>Санкт-Петербург</td>\n",
       "      <td>28,098.00</td>\n",
       "      <td>6,800.00</td>\n",
       "      <td>2.00</td>\n",
       "      <td>84.00</td>\n",
       "      <td>3.00</td>\n",
       "      <td>234.00</td>\n",
       "      <td>424.00</td>\n",
       "    </tr>\n",
       "    <tr>\n",
       "      <th>4</th>\n",
       "      <td>2</td>\n",
       "      <td>10,000,000.00</td>\n",
       "      <td>100.00</td>\n",
       "      <td>2018-06-19T00:00:00</td>\n",
       "      <td>2</td>\n",
       "      <td>3.03</td>\n",
       "      <td>14.00</td>\n",
       "      <td>32.00</td>\n",
       "      <td>13</td>\n",
       "      <td>False</td>\n",
       "      <td>False</td>\n",
       "      <td>False</td>\n",
       "      <td>41.00</td>\n",
       "      <td>0</td>\n",
       "      <td>Санкт-Петербург</td>\n",
       "      <td>31,856.00</td>\n",
       "      <td>8,098.00</td>\n",
       "      <td>2.00</td>\n",
       "      <td>112.00</td>\n",
       "      <td>1.00</td>\n",
       "      <td>48.00</td>\n",
       "      <td>121.00</td>\n",
       "    </tr>\n",
       "  </tbody>\n",
       "</table>\n",
       "</div>"
      ],
      "text/plain": [
       "   total_images    last_price  total_area first_day_exposition  rooms  \\\n",
       "0            20 13,000,000.00      108.00  2019-03-07T00:00:00      3   \n",
       "1             7  3,350,000.00       40.40  2018-12-04T00:00:00      1   \n",
       "2            10  5,196,000.00       56.00  2015-08-20T00:00:00      2   \n",
       "3             0 64,900,000.00      159.00  2015-07-24T00:00:00      3   \n",
       "4             2 10,000,000.00      100.00  2018-06-19T00:00:00      2   \n",
       "\n",
       "   ceiling_height  floors_total  living_area  floor  is_apartment  studio  \\\n",
       "0            2.70         16.00        51.00      8         False   False   \n",
       "1            2.65         11.00        18.60      1         False   False   \n",
       "2            2.65          5.00        34.30      4         False   False   \n",
       "3            2.65         14.00          NaN      9         False   False   \n",
       "4            3.03         14.00        32.00     13         False   False   \n",
       "\n",
       "   open_plan  kitchen_area  balcony    locality_name  airports_nearest  \\\n",
       "0      False         25.00        0  Санкт-Петербург         18,863.00   \n",
       "1      False         11.00        2   посёлок Шушары         12,817.00   \n",
       "2      False          8.30        0  Санкт-Петербург         21,741.00   \n",
       "3      False           NaN        0  Санкт-Петербург         28,098.00   \n",
       "4      False         41.00        0  Санкт-Петербург         31,856.00   \n",
       "\n",
       "   cityCenters_nearest  parks_around3000  parks_nearest  ponds_around3000  \\\n",
       "0            16,028.00              1.00         482.00              2.00   \n",
       "1            18,603.00              0.00         455.00              0.00   \n",
       "2            13,933.00              1.00          90.00              2.00   \n",
       "3             6,800.00              2.00          84.00              3.00   \n",
       "4             8,098.00              2.00         112.00              1.00   \n",
       "\n",
       "   ponds_nearest  days_exposition  \n",
       "0         755.00              NaN  \n",
       "1         502.00            81.00  \n",
       "2         574.00           558.00  \n",
       "3         234.00           424.00  \n",
       "4          48.00           121.00  "
      ]
     },
     "execution_count": 27,
     "metadata": {},
     "output_type": "execute_result"
    }
   ],
   "source": [
    "df.head()"
   ]
  },
  {
   "cell_type": "code",
   "execution_count": 28,
   "metadata": {},
   "outputs": [],
   "source": [
    "df['ponds_around3000'] = df['ponds_around3000'].astype('int')"
   ]
  },
  {
   "cell_type": "code",
   "execution_count": 29,
   "metadata": {},
   "outputs": [],
   "source": [
    "df['parks_around3000'] = df['parks_around3000'].astype('int')"
   ]
  },
  {
   "cell_type": "markdown",
   "metadata": {},
   "source": [
    "<div class=\"alert alert-block alert-warning\">\n",
    "<b>⚠️ Remarks:</b>\n",
    "    \n",
    "Потенциал для эффективного изменения типов тут очень широк.\n",
    "    \n",
    "Давай я дам тебе две классные статьи, а ты попробуешь изменить типы данных на еще более подходящие и замеришь, сколько памяти в % ты сэкономишь:\n",
    "    \n",
    "https://pyprog.pro/data_types.html\n",
    "    \n",
    "https://habr.com/ru/company/ruvds/blog/442516/"
   ]
  },
  {
   "cell_type": "code",
   "execution_count": 30,
   "metadata": {},
   "outputs": [
    {
     "name": "stdout",
     "output_type": "stream",
     "text": [
      "Average memory usage for int columns: 0.15 MB\n"
     ]
    }
   ],
   "source": [
    "for dtype in ['int']:\n",
    "    selected_dtype = df.select_dtypes(include=[dtype])\n",
    "    mean_usage_b = selected_dtype.memory_usage(deep=True).mean()\n",
    "    mean_usage_mb = mean_usage_b / 1024 ** 2\n",
    "    print(\"Average memory usage for {} columns: {:03.2f} MB\".format(dtype,mean_usage_mb))"
   ]
  },
  {
   "cell_type": "code",
   "execution_count": 31,
   "metadata": {},
   "outputs": [],
   "source": [
    "df['ponds_around3000'] = df['ponds_around3000'].astype('int8')"
   ]
  },
  {
   "cell_type": "code",
   "execution_count": 32,
   "metadata": {},
   "outputs": [],
   "source": [
    "df['parks_around3000'] = df['parks_around3000'].astype('int8')"
   ]
  },
  {
   "cell_type": "code",
   "execution_count": 33,
   "metadata": {},
   "outputs": [
    {
     "name": "stdout",
     "output_type": "stream",
     "text": [
      "Average memory usage for int8 columns: 0.02 MB\n"
     ]
    }
   ],
   "source": [
    "for dtype in ['int8']:\n",
    "    selected_dtype = df.select_dtypes(include=[dtype])\n",
    "    mean_usage_b = selected_dtype.memory_usage(deep=True).mean()\n",
    "    mean_usage_mb = mean_usage_b / 1024 ** 2\n",
    "    print(\"Average memory usage for {} columns: {:03.2f} MB\".format(dtype,mean_usage_mb))"
   ]
  },
  {
   "cell_type": "markdown",
   "metadata": {},
   "source": [
    "<div class=\"alert alert-block alert-info\">\n",
    "<b>💾 Fixed:</b> \n",
    "Для столбцов хронящих информацию о количестве прудов и парков рядом можно применить тип int8, это позволит сэкономить количество потребляемой памяти, так как тип int8 использует меньшее количество байт памяти, чем int64 ✔\n",
    "</div>"
   ]
  },
  {
   "cell_type": "markdown",
   "metadata": {},
   "source": [
    "Пропуски в kitchen_area и living_area так же заполним медианными значениями"
   ]
  },
  {
   "cell_type": "code",
   "execution_count": 34,
   "metadata": {},
   "outputs": [],
   "source": [
    "df['kitchen_area'] = df['kitchen_area'].fillna(df['kitchen_area'].median())"
   ]
  },
  {
   "cell_type": "code",
   "execution_count": 35,
   "metadata": {},
   "outputs": [],
   "source": [
    "df['living_area'] = df['living_area'].fillna(df['living_area'].median())"
   ]
  },
  {
   "cell_type": "markdown",
   "metadata": {},
   "source": [
    "Количество дней публикации объявления days_exposition и всего этажей floors_total,  пропуски в данных столбцах так же можно заполнить медианным значением."
   ]
  },
  {
   "cell_type": "code",
   "execution_count": 36,
   "metadata": {},
   "outputs": [],
   "source": [
    "df['days_exposition'] = df['days_exposition'].fillna(df['days_exposition'].median())"
   ]
  },
  {
   "cell_type": "code",
   "execution_count": 37,
   "metadata": {},
   "outputs": [],
   "source": [
    "df['floors_total'] = df['floors_total'].fillna(df['floors_total'].median())\n"
   ]
  },
  {
   "cell_type": "markdown",
   "metadata": {},
   "source": [
    "В столбце locality_name указывается город в котором размещен объект. Пропущенных значений в данном столбце не много \n",
    "и объявления без города не интересны для анализа и для потенцеиальных арендаторов/покупателей, так как не понятно, где располагается объект. Строки с пропущенными значениями предлагаю удалить"
   ]
  },
  {
   "cell_type": "code",
   "execution_count": 38,
   "metadata": {},
   "outputs": [],
   "source": [
    "df.dropna(subset=['locality_name'], inplace=True)"
   ]
  },
  {
   "cell_type": "markdown",
   "metadata": {},
   "source": [
    "Наведем порядок в названии городов, приведем названия к нижнему регистру и заменим ё на е"
   ]
  },
  {
   "cell_type": "code",
   "execution_count": 39,
   "metadata": {},
   "outputs": [],
   "source": [
    "df['locality_name'] = df['locality_name'].str.lower()"
   ]
  },
  {
   "cell_type": "code",
   "execution_count": 40,
   "metadata": {},
   "outputs": [],
   "source": [
    "df['locality_name'] = df['locality_name'].str.replace('ё', 'е', regex=True)"
   ]
  },
  {
   "cell_type": "markdown",
   "metadata": {},
   "source": [
    "Проверим, все ли прпущенные значения были заполнены, а так же проверим исправление названий городов"
   ]
  },
  {
   "cell_type": "code",
   "execution_count": 41,
   "metadata": {},
   "outputs": [
    {
     "data": {
      "text/plain": [
       "total_images           0.00\n",
       "last_price             0.00\n",
       "ponds_nearest          0.00\n",
       "ponds_around3000       0.00\n",
       "parks_nearest          0.00\n",
       "parks_around3000       0.00\n",
       "cityCenters_nearest    0.00\n",
       "airports_nearest       0.00\n",
       "locality_name          0.00\n",
       "balcony                0.00\n",
       "kitchen_area           0.00\n",
       "open_plan              0.00\n",
       "studio                 0.00\n",
       "is_apartment           0.00\n",
       "floor                  0.00\n",
       "living_area            0.00\n",
       "floors_total           0.00\n",
       "ceiling_height         0.00\n",
       "rooms                  0.00\n",
       "first_day_exposition   0.00\n",
       "total_area             0.00\n",
       "days_exposition        0.00\n",
       "dtype: float64"
      ]
     },
     "execution_count": 41,
     "metadata": {},
     "output_type": "execute_result"
    }
   ],
   "source": [
    "df.isna().sum().sort_values(ascending=False) / df.shape[0]*100"
   ]
  },
  {
   "cell_type": "code",
   "execution_count": 42,
   "metadata": {
    "scrolled": false
   },
   "outputs": [
    {
     "data": {
      "text/plain": [
       "['санкт-петербург',\n",
       " 'поселок шушары',\n",
       " 'городской поселок янино-1',\n",
       " 'поселок парголово',\n",
       " 'поселок мурино',\n",
       " 'ломоносов',\n",
       " 'сертолово',\n",
       " 'петергоф',\n",
       " 'пушкин',\n",
       " 'деревня кудрово',\n",
       " 'коммунар',\n",
       " 'колпино',\n",
       " 'поселок городского типа красный бор',\n",
       " 'гатчина',\n",
       " 'деревня федоровское',\n",
       " 'выборг',\n",
       " 'кронштадт',\n",
       " 'кировск',\n",
       " 'деревня новое девяткино',\n",
       " 'поселок металлострой',\n",
       " 'поселок городского типа лебяжье',\n",
       " 'поселок городского типа сиверский',\n",
       " 'поселок молодцово',\n",
       " 'поселок городского типа кузьмоловский',\n",
       " 'садовое товарищество новая ропша',\n",
       " 'павловск',\n",
       " 'деревня пикколово',\n",
       " 'всеволожск',\n",
       " 'волхов',\n",
       " 'кингисепп',\n",
       " 'приозерск',\n",
       " 'сестрорецк',\n",
       " 'деревня куттузи',\n",
       " 'поселок аннино',\n",
       " 'поселок городского типа ефимовский',\n",
       " 'поселок плодовое',\n",
       " 'деревня заклинье',\n",
       " 'поселок торковичи',\n",
       " 'поселок первомайское',\n",
       " 'красное село',\n",
       " 'поселок понтонный',\n",
       " 'сясьстрой',\n",
       " 'деревня старая',\n",
       " 'деревня лесколово',\n",
       " 'поселок новый свет',\n",
       " 'сланцы',\n",
       " 'село путилово',\n",
       " 'ивангород',\n",
       " 'мурино',\n",
       " 'шлиссельбург',\n",
       " 'никольское',\n",
       " 'зеленогорск',\n",
       " 'сосновый бор',\n",
       " 'деревня оржицы',\n",
       " 'деревня кальтино',\n",
       " 'кудрово',\n",
       " 'поселок романовка',\n",
       " 'поселок бугры',\n",
       " 'поселок городского типа рощино',\n",
       " 'кириши',\n",
       " 'луга',\n",
       " 'волосово',\n",
       " 'отрадное',\n",
       " 'село павлово',\n",
       " 'поселок оредеж',\n",
       " 'село копорье',\n",
       " 'поселок молодежное',\n",
       " 'тихвин',\n",
       " 'поселок победа',\n",
       " 'деревня нурма',\n",
       " 'поселок городского типа синявино',\n",
       " 'тосно',\n",
       " 'поселок стрельна',\n",
       " 'бокситогорск',\n",
       " 'поселок александровская',\n",
       " 'деревня лопухинка',\n",
       " 'пикалево',\n",
       " 'поселок терволово',\n",
       " 'поселок городского типа советский',\n",
       " 'подпорожье',\n",
       " 'поселок петровское',\n",
       " 'поселок городского типа токсово',\n",
       " 'поселок сельцо',\n",
       " 'поселок городского типа вырица',\n",
       " 'деревня кипень',\n",
       " 'деревня келози',\n",
       " 'деревня вартемяги',\n",
       " 'поселок тельмана',\n",
       " 'поселок севастьяново',\n",
       " 'городской поселок большая ижора',\n",
       " 'городской поселок павлово',\n",
       " 'деревня агалатово',\n",
       " 'поселок новогорелово',\n",
       " 'городской поселок лесогорский',\n",
       " 'деревня лаголово',\n",
       " 'поселок цвелодубово',\n",
       " 'поселок городского типа рахья',\n",
       " 'деревня белогорка',\n",
       " 'поселок заводской',\n",
       " 'городской поселок новоселье',\n",
       " 'деревня большие колпаны',\n",
       " 'деревня горбунки',\n",
       " 'деревня батово',\n",
       " 'деревня заневка',\n",
       " 'деревня иссад',\n",
       " 'приморск',\n",
       " 'городской поселок федоровское',\n",
       " 'деревня мистолово',\n",
       " 'новая ладога',\n",
       " 'поселок зимитицы',\n",
       " 'поселок барышево',\n",
       " 'деревня разметелево',\n",
       " 'поселок городского типа имени свердлова',\n",
       " 'деревня пеники',\n",
       " 'поселок рябово',\n",
       " 'деревня пудомяги',\n",
       " 'поселок станции корнево',\n",
       " 'деревня низино',\n",
       " 'деревня бегуницы',\n",
       " 'поселок поляны',\n",
       " 'городской поселок мга',\n",
       " 'поселок елизаветино',\n",
       " 'поселок городского типа кузнечное',\n",
       " 'деревня колтуши',\n",
       " 'поселок запорожское',\n",
       " 'деревня гостилицы',\n",
       " 'деревня малое карлино',\n",
       " 'поселок мичуринское',\n",
       " 'поселок городского типа имени морозова',\n",
       " 'поселок песочный',\n",
       " 'поселок сосново',\n",
       " 'деревня аро',\n",
       " 'поселок ильичево',\n",
       " 'поселок городского типа тайцы',\n",
       " 'деревня малое верево',\n",
       " 'деревня извара',\n",
       " 'поселок станции вещево',\n",
       " 'село паша',\n",
       " 'деревня калитино',\n",
       " 'поселок городского типа ульяновка',\n",
       " 'деревня чудской бор',\n",
       " 'поселок городского типа дубровка',\n",
       " 'деревня мины',\n",
       " 'поселок войсковицы',\n",
       " 'деревня коркино',\n",
       " 'поселок ропша',\n",
       " 'поселок городского типа приладожский',\n",
       " 'поселок щеглово',\n",
       " 'поселок гаврилово',\n",
       " 'лодейное поле',\n",
       " 'деревня рабитицы',\n",
       " 'поселок городского типа никольский',\n",
       " 'деревня кузьмолово',\n",
       " 'деревня малые колпаны',\n",
       " 'поселок петро-славянка',\n",
       " 'городской поселок назия',\n",
       " 'поселок репино',\n",
       " 'поселок углово',\n",
       " 'поселок старая малукса',\n",
       " 'садовое товарищество рахья',\n",
       " 'деревня меньково',\n",
       " 'деревня старые бегуницы',\n",
       " 'поселок саперный',\n",
       " 'поселок семрино',\n",
       " 'поселок глажево',\n",
       " 'поселок кобринское',\n",
       " 'деревня гарболово',\n",
       " 'деревня юкки',\n",
       " 'поселок станции приветнинское',\n",
       " 'деревня мануйлово',\n",
       " 'деревня пчева',\n",
       " 'поселок цвылево',\n",
       " 'поселок мельниково',\n",
       " 'поселок пудость',\n",
       " 'поселок усть-луга',\n",
       " 'светогорск',\n",
       " 'любань',\n",
       " 'поселок селезнево',\n",
       " 'поселок городского типа рябово',\n",
       " 'каменногорск',\n",
       " 'деревня кривко',\n",
       " 'поселок глебычево',\n",
       " 'деревня парицы',\n",
       " 'поселок жилпоселок',\n",
       " 'поселок городского типа мга',\n",
       " 'поселок войскорово',\n",
       " 'село никольское',\n",
       " 'поселок стеклянный',\n",
       " 'поселок городского типа важины',\n",
       " 'поселок мыза-ивановка',\n",
       " 'село русско-высоцкое',\n",
       " 'поселок городского типа форносово',\n",
       " 'село старая ладога',\n",
       " 'поселок житково',\n",
       " 'городской поселок виллози',\n",
       " 'деревня лампово',\n",
       " 'деревня шпаньково',\n",
       " 'деревня лаврики',\n",
       " 'поселок сумино',\n",
       " 'поселок возрождение',\n",
       " 'деревня старосиверская',\n",
       " 'поселок кикерино',\n",
       " 'деревня старое хинколово',\n",
       " 'поселок пригородный',\n",
       " 'поселок торфяное',\n",
       " 'городской поселок будогощь',\n",
       " 'поселок суходолье',\n",
       " 'поселок красная долина',\n",
       " 'деревня хапо-ое',\n",
       " 'поселок городского типа дружная горка',\n",
       " 'поселок лисий нос',\n",
       " 'деревня яльгелево',\n",
       " 'село рождествено',\n",
       " 'деревня старополье',\n",
       " 'поселок левашово',\n",
       " 'деревня сяськелево',\n",
       " 'деревня камышовка',\n",
       " 'садоводческое некоммерческое товарищество лесная поляна',\n",
       " 'деревня хязельки',\n",
       " 'поселок жилгородок',\n",
       " 'поселок городского типа павлово',\n",
       " 'деревня ялгино',\n",
       " 'поселок новый учхоз',\n",
       " 'городской поселок рощино',\n",
       " 'поселок гончарово',\n",
       " 'поселок почап',\n",
       " 'поселок саперное',\n",
       " 'поселок платформа 69-й километр',\n",
       " 'поселок каложицы',\n",
       " 'деревня фалилеево',\n",
       " 'деревня пельгора',\n",
       " 'поселок городского типа лесогорский',\n",
       " 'деревня торошковичи',\n",
       " 'поселок белоостров',\n",
       " 'поселок алексеевка',\n",
       " 'поселок серебрянский',\n",
       " 'поселок лукаши',\n",
       " 'деревня щеглово',\n",
       " 'деревня тарасово',\n",
       " 'поселок кингисеппский',\n",
       " 'поселок при железнодорожной станции вещево',\n",
       " 'поселок ушаки',\n",
       " 'деревня котлы',\n",
       " 'деревня сижно',\n",
       " 'деревня торосово',\n",
       " 'поселок форт красная горка',\n",
       " 'деревня новолисино',\n",
       " 'поселок станции громово',\n",
       " 'деревня глинка',\n",
       " 'поселок городского типа назия',\n",
       " 'деревня старая пустошь',\n",
       " 'поселок коммунары',\n",
       " 'поселок починок',\n",
       " 'поселок городского типа вознесенье',\n",
       " 'деревня разбегаево',\n",
       " 'поселок гладкое',\n",
       " 'поселок при железнодорожной станции приветнинское',\n",
       " 'поселок тесово-4',\n",
       " 'деревня бор',\n",
       " 'поселок коробицыно',\n",
       " 'деревня большая вруда',\n",
       " 'деревня курковицы',\n",
       " 'городской поселок советский',\n",
       " 'поселок кобралово',\n",
       " 'деревня суоранда',\n",
       " 'поселок городского типа кондратьево',\n",
       " 'коттеджный поселок счастье',\n",
       " 'поселок любань',\n",
       " 'деревня реброво',\n",
       " 'деревня зимитицы',\n",
       " 'деревня тойворово',\n",
       " 'поселок семиозерье',\n",
       " 'поселок лесное',\n",
       " 'поселок совхозный',\n",
       " 'поселок ленинское',\n",
       " 'поселок суйда',\n",
       " 'деревня нижние осельки',\n",
       " 'поселок станции свирь',\n",
       " 'поселок перово',\n",
       " 'высоцк',\n",
       " 'поселок гарболово',\n",
       " 'село шум',\n",
       " 'поселок котельский',\n",
       " 'поселок станции лужайка',\n",
       " 'деревня большая пустомержа',\n",
       " 'поселок красносельское',\n",
       " 'деревня вахнова кара',\n",
       " 'деревня пижма',\n",
       " 'коттеджный поселок кивеннапа север',\n",
       " 'поселок ромашки',\n",
       " 'деревня каськово',\n",
       " 'деревня куровицы',\n",
       " 'поселок плоское',\n",
       " 'поселок городского типа большая ижора',\n",
       " 'поселок кирпичное',\n",
       " 'деревня ям-тесово',\n",
       " 'деревня раздолье',\n",
       " 'деревня терпилицы',\n",
       " 'поселок шугозеро',\n",
       " 'деревня ваганово',\n",
       " 'поселок пушное',\n",
       " 'садовое товарищество садко',\n",
       " 'поселок усть-ижора',\n",
       " 'деревня выскатка',\n",
       " 'городской поселок свирьстрой',\n",
       " 'поселок громово',\n",
       " 'деревня кисельня',\n",
       " 'деревня трубников бор',\n",
       " 'поселок калитино',\n",
       " 'поселок высокоключевой',\n",
       " 'садовое товарищество приладожский',\n",
       " 'поселок пансионат зеленый бор',\n",
       " 'деревня ненимяки',\n",
       " 'деревня снегиревка',\n",
       " 'деревня рапполово',\n",
       " 'деревня пустынка',\n",
       " 'поселок рабитицы',\n",
       " 'деревня большой сабск',\n",
       " 'деревня русско',\n",
       " 'деревня лупполово',\n",
       " 'деревня большое рейзино',\n",
       " 'деревня малая романовка',\n",
       " 'поселок дружноселье',\n",
       " 'поселок пчевжа',\n",
       " 'поселок володарское',\n",
       " 'деревня нижняя',\n",
       " 'коттеджный поселок лесное',\n",
       " 'деревня тихковицы',\n",
       " 'деревня борисова грива',\n",
       " 'поселок дзержинского']"
      ]
     },
     "execution_count": 42,
     "metadata": {},
     "output_type": "execute_result"
    }
   ],
   "source": [
    "df['locality_name'].unique().tolist()"
   ]
  },
  {
   "cell_type": "markdown",
   "metadata": {},
   "source": [
    "<div class=\"alert alert-block alert-warning\">\n",
    "<b>⚠️ Remarks:</b>\n",
    "    \n",
    "тут затесались скрытые дубликаты из-за того, что один населенный пункт может быть запсиан с разными типами -\"деревня\\поселок\\село\". Сможем избавиться от типов населенных пунктов?"
   ]
  },
  {
   "cell_type": "markdown",
   "metadata": {},
   "source": [
    "<div class=\"alert alert-block alert-info\">\n",
    "<b>💾 Fixed:</b> \n",
    "Избавимся от типов населенных пунктов и не нужных пробелов в названии населенных пуктов ✔\n",
    "</div>"
   ]
  },
  {
   "cell_type": "markdown",
   "metadata": {},
   "source": [
    "<div class=\"alert alert-block alert-success\">\n",
    "Отлично!"
   ]
  },
  {
   "cell_type": "code",
   "execution_count": 43,
   "metadata": {},
   "outputs": [],
   "source": [
    "df['locality_name']=df['locality_name'].apply(lambda x: x.replace('деревня', '').replace('поселок', '').replace('село', '').replace('коттеджный поселок', ''))"
   ]
  },
  {
   "cell_type": "code",
   "execution_count": 44,
   "metadata": {},
   "outputs": [],
   "source": [
    "df.locality_name = df.locality_name.str.strip()"
   ]
  },
  {
   "cell_type": "code",
   "execution_count": 45,
   "metadata": {},
   "outputs": [
    {
     "data": {
      "text/plain": [
       "['санкт-петербург',\n",
       " 'шушары',\n",
       " 'городской  янино-1',\n",
       " 'парголово',\n",
       " 'мурино',\n",
       " 'ломоносов',\n",
       " 'сертолово',\n",
       " 'петергоф',\n",
       " 'пушкин',\n",
       " 'кудрово',\n",
       " 'коммунар',\n",
       " 'колпино',\n",
       " 'городского типа красный бор',\n",
       " 'гатчина',\n",
       " 'федоровское',\n",
       " 'выборг',\n",
       " 'кронштадт',\n",
       " 'кировск',\n",
       " 'новое девяткино',\n",
       " 'металлострой',\n",
       " 'городского типа лебяжье',\n",
       " 'городского типа сиверский',\n",
       " 'молодцово',\n",
       " 'городского типа кузьмоловский',\n",
       " 'садовое товарищество новая ропша',\n",
       " 'павловск',\n",
       " 'пикколово',\n",
       " 'всеволожск',\n",
       " 'волхов',\n",
       " 'кингисепп',\n",
       " 'приозерск',\n",
       " 'сестрорецк',\n",
       " 'куттузи',\n",
       " 'аннино',\n",
       " 'городского типа ефимовский',\n",
       " 'плодовое',\n",
       " 'заклинье',\n",
       " 'торковичи',\n",
       " 'первомайское',\n",
       " 'красное',\n",
       " 'понтонный',\n",
       " 'сясьстрой',\n",
       " 'старая',\n",
       " 'лесколово',\n",
       " 'новый свет',\n",
       " 'сланцы',\n",
       " 'путилово',\n",
       " 'ивангород',\n",
       " 'шлиссельбург',\n",
       " 'никольское',\n",
       " 'зеленогорск',\n",
       " 'сосновый бор',\n",
       " 'оржицы',\n",
       " 'кальтино',\n",
       " 'романовка',\n",
       " 'бугры',\n",
       " 'городского типа рощино',\n",
       " 'кириши',\n",
       " 'луга',\n",
       " 'волосово',\n",
       " 'отрадное',\n",
       " 'павлово',\n",
       " 'оредеж',\n",
       " 'копорье',\n",
       " 'молодежное',\n",
       " 'тихвин',\n",
       " 'победа',\n",
       " 'нурма',\n",
       " 'городского типа синявино',\n",
       " 'тосно',\n",
       " 'стрельна',\n",
       " 'бокситогорск',\n",
       " 'александровская',\n",
       " 'лопухинка',\n",
       " 'пикалево',\n",
       " 'терволово',\n",
       " 'городского типа советский',\n",
       " 'подпорожье',\n",
       " 'петровское',\n",
       " 'городского типа токсово',\n",
       " 'сельцо',\n",
       " 'городского типа вырица',\n",
       " 'кипень',\n",
       " 'келози',\n",
       " 'вартемяги',\n",
       " 'тельмана',\n",
       " 'севастьяново',\n",
       " 'городской  большая ижора',\n",
       " 'городской  павлово',\n",
       " 'агалатово',\n",
       " 'новогорелово',\n",
       " 'городской  лесогорский',\n",
       " 'лаголово',\n",
       " 'цвелодубово',\n",
       " 'городского типа рахья',\n",
       " 'белогорка',\n",
       " 'заводской',\n",
       " 'городской  новоселье',\n",
       " 'большие колпаны',\n",
       " 'горбунки',\n",
       " 'батово',\n",
       " 'заневка',\n",
       " 'иссад',\n",
       " 'приморск',\n",
       " 'городской  федоровское',\n",
       " 'мистолово',\n",
       " 'новая ладога',\n",
       " 'зимитицы',\n",
       " 'барышево',\n",
       " 'разметелево',\n",
       " 'городского типа имени свердлова',\n",
       " 'пеники',\n",
       " 'рябово',\n",
       " 'пудомяги',\n",
       " 'станции корнево',\n",
       " 'низино',\n",
       " 'бегуницы',\n",
       " 'поляны',\n",
       " 'городской  мга',\n",
       " 'елизаветино',\n",
       " 'городского типа кузнечное',\n",
       " 'колтуши',\n",
       " 'запорожское',\n",
       " 'гостилицы',\n",
       " 'малое карлино',\n",
       " 'мичуринское',\n",
       " 'городского типа имени морозова',\n",
       " 'песочный',\n",
       " 'сосново',\n",
       " 'аро',\n",
       " 'ильичево',\n",
       " 'городского типа тайцы',\n",
       " 'малое верево',\n",
       " 'извара',\n",
       " 'станции вещево',\n",
       " 'паша',\n",
       " 'калитино',\n",
       " 'городского типа ульяновка',\n",
       " 'чудской бор',\n",
       " 'городского типа дубровка',\n",
       " 'мины',\n",
       " 'войсковицы',\n",
       " 'коркино',\n",
       " 'ропша',\n",
       " 'городского типа приладожский',\n",
       " 'щеглово',\n",
       " 'гаврилово',\n",
       " 'лодейное поле',\n",
       " 'рабитицы',\n",
       " 'городского типа никольский',\n",
       " 'кузьмолово',\n",
       " 'малые колпаны',\n",
       " 'петро-славянка',\n",
       " 'городской  назия',\n",
       " 'репино',\n",
       " 'углово',\n",
       " 'старая малукса',\n",
       " 'садовое товарищество рахья',\n",
       " 'меньково',\n",
       " 'старые бегуницы',\n",
       " 'саперный',\n",
       " 'семрино',\n",
       " 'глажево',\n",
       " 'кобринское',\n",
       " 'гарболово',\n",
       " 'юкки',\n",
       " 'станции приветнинское',\n",
       " 'мануйлово',\n",
       " 'пчева',\n",
       " 'цвылево',\n",
       " 'мельниково',\n",
       " 'пудость',\n",
       " 'усть-луга',\n",
       " 'светогорск',\n",
       " 'любань',\n",
       " 'селезнево',\n",
       " 'городского типа рябово',\n",
       " 'каменногорск',\n",
       " 'кривко',\n",
       " 'глебычево',\n",
       " 'парицы',\n",
       " 'жил',\n",
       " 'городского типа мга',\n",
       " 'войскорово',\n",
       " 'стеклянный',\n",
       " 'городского типа важины',\n",
       " 'мыза-ивановка',\n",
       " 'русско-высоцкое',\n",
       " 'городского типа форносово',\n",
       " 'старая ладога',\n",
       " 'житково',\n",
       " 'городской  виллози',\n",
       " 'лампово',\n",
       " 'шпаньково',\n",
       " 'лаврики',\n",
       " 'сумино',\n",
       " 'возрождение',\n",
       " 'старосиверская',\n",
       " 'кикерино',\n",
       " 'старое хинколово',\n",
       " 'пригородный',\n",
       " 'торфяное',\n",
       " 'городской  будогощь',\n",
       " 'суходолье',\n",
       " 'красная долина',\n",
       " 'хапо-ое',\n",
       " 'городского типа дружная горка',\n",
       " 'лисий нос',\n",
       " 'яльгелево',\n",
       " 'рождествено',\n",
       " 'старополье',\n",
       " 'левашово',\n",
       " 'сяськелево',\n",
       " 'камышовка',\n",
       " 'садоводческое некоммерческое товарищество лесная поляна',\n",
       " 'хязельки',\n",
       " 'жилгородок',\n",
       " 'городского типа павлово',\n",
       " 'ялгино',\n",
       " 'новый учхоз',\n",
       " 'городской  рощино',\n",
       " 'гончарово',\n",
       " 'почап',\n",
       " 'саперное',\n",
       " 'платформа 69-й километр',\n",
       " 'каложицы',\n",
       " 'фалилеево',\n",
       " 'пельгора',\n",
       " 'городского типа лесогорский',\n",
       " 'торошковичи',\n",
       " 'белоостров',\n",
       " 'алексеевка',\n",
       " 'серебрянский',\n",
       " 'лукаши',\n",
       " 'тарасово',\n",
       " 'кингисеппский',\n",
       " 'при железнодорожной станции вещево',\n",
       " 'ушаки',\n",
       " 'котлы',\n",
       " 'сижно',\n",
       " 'торосово',\n",
       " 'форт красная горка',\n",
       " 'новолисино',\n",
       " 'станции громово',\n",
       " 'глинка',\n",
       " 'городского типа назия',\n",
       " 'старая пустошь',\n",
       " 'коммунары',\n",
       " 'починок',\n",
       " 'городского типа вознесенье',\n",
       " 'разбегаево',\n",
       " 'гладкое',\n",
       " 'при железнодорожной станции приветнинское',\n",
       " 'тесово-4',\n",
       " 'бор',\n",
       " 'коробицыно',\n",
       " 'большая вруда',\n",
       " 'курковицы',\n",
       " 'городской  советский',\n",
       " 'кобралово',\n",
       " 'суоранда',\n",
       " 'городского типа кондратьево',\n",
       " 'коттеджный  счастье',\n",
       " 'реброво',\n",
       " 'тойворово',\n",
       " 'семиозерье',\n",
       " 'лесное',\n",
       " 'совхозный',\n",
       " 'ленинское',\n",
       " 'суйда',\n",
       " 'нижние осельки',\n",
       " 'станции свирь',\n",
       " 'перово',\n",
       " 'высоцк',\n",
       " 'шум',\n",
       " 'котельский',\n",
       " 'станции лужайка',\n",
       " 'большая пустомержа',\n",
       " 'красносельское',\n",
       " 'вахнова кара',\n",
       " 'пижма',\n",
       " 'коттеджный  кивеннапа север',\n",
       " 'ромашки',\n",
       " 'каськово',\n",
       " 'куровицы',\n",
       " 'плоское',\n",
       " 'городского типа большая ижора',\n",
       " 'кирпичное',\n",
       " 'ям-тесово',\n",
       " 'раздолье',\n",
       " 'терпилицы',\n",
       " 'шугозеро',\n",
       " 'ваганово',\n",
       " 'пушное',\n",
       " 'садовое товарищество садко',\n",
       " 'усть-ижора',\n",
       " 'выскатка',\n",
       " 'городской  свирьстрой',\n",
       " 'громово',\n",
       " 'кисельня',\n",
       " 'трубников бор',\n",
       " 'высокоключевой',\n",
       " 'садовое товарищество приладожский',\n",
       " 'пансионат зеленый бор',\n",
       " 'ненимяки',\n",
       " 'снегиревка',\n",
       " 'рапполово',\n",
       " 'пустынка',\n",
       " 'большой сабск',\n",
       " 'русско',\n",
       " 'лупполово',\n",
       " 'большое рейзино',\n",
       " 'малая романовка',\n",
       " 'дружноселье',\n",
       " 'пчевжа',\n",
       " 'володарское',\n",
       " 'нижняя',\n",
       " 'коттеджный  лесное',\n",
       " 'тихковицы',\n",
       " 'борисова грива',\n",
       " 'дзержинского']"
      ]
     },
     "execution_count": 45,
     "metadata": {},
     "output_type": "execute_result"
    }
   ],
   "source": [
    "df['locality_name'].unique().tolist()"
   ]
  },
  {
   "cell_type": "markdown",
   "metadata": {},
   "source": [
    "Проверим на наличие дубликатов"
   ]
  },
  {
   "cell_type": "code",
   "execution_count": 46,
   "metadata": {},
   "outputs": [
    {
     "data": {
      "text/plain": [
       "0"
      ]
     },
     "execution_count": 46,
     "metadata": {},
     "output_type": "execute_result"
    }
   ],
   "source": [
    "df.duplicated().sum()"
   ]
  },
  {
   "cell_type": "code",
   "execution_count": 47,
   "metadata": {
    "scrolled": true
   },
   "outputs": [
    {
     "name": "stdout",
     "output_type": "stream",
     "text": [
      "<class 'pandas.core.frame.DataFrame'>\n",
      "Int64Index: 23650 entries, 0 to 23698\n",
      "Data columns (total 22 columns):\n",
      " #   Column                Non-Null Count  Dtype  \n",
      "---  ------                --------------  -----  \n",
      " 0   total_images          23650 non-null  int64  \n",
      " 1   last_price            23650 non-null  float64\n",
      " 2   total_area            23650 non-null  float64\n",
      " 3   first_day_exposition  23650 non-null  object \n",
      " 4   rooms                 23650 non-null  int64  \n",
      " 5   ceiling_height        23650 non-null  float64\n",
      " 6   floors_total          23650 non-null  float64\n",
      " 7   living_area           23650 non-null  float64\n",
      " 8   floor                 23650 non-null  int64  \n",
      " 9   is_apartment          23650 non-null  bool   \n",
      " 10  studio                23650 non-null  bool   \n",
      " 11  open_plan             23650 non-null  bool   \n",
      " 12  kitchen_area          23650 non-null  float64\n",
      " 13  balcony               23650 non-null  int64  \n",
      " 14  locality_name         23650 non-null  object \n",
      " 15  airports_nearest      23650 non-null  float64\n",
      " 16  cityCenters_nearest   23650 non-null  float64\n",
      " 17  parks_around3000      23650 non-null  int8   \n",
      " 18  parks_nearest         23650 non-null  float64\n",
      " 19  ponds_around3000      23650 non-null  int8   \n",
      " 20  ponds_nearest         23650 non-null  float64\n",
      " 21  days_exposition       23650 non-null  float64\n",
      "dtypes: bool(3), float64(11), int64(4), int8(2), object(2)\n",
      "memory usage: 3.4+ MB\n"
     ]
    }
   ],
   "source": [
    "df.info()"
   ]
  },
  {
   "cell_type": "markdown",
   "metadata": {},
   "source": [
    "## Расчёты и добавление результатов в таблицу"
   ]
  },
  {
   "cell_type": "markdown",
   "metadata": {},
   "source": [
    "Посчитаем и добавим в таблицу: цену квадратного метра"
   ]
  },
  {
   "cell_type": "code",
   "execution_count": 48,
   "metadata": {},
   "outputs": [],
   "source": [
    "df['sq_meter'] = df['last_price'] / df['total_area']"
   ]
  },
  {
   "cell_type": "markdown",
   "metadata": {},
   "source": [
    "Добавим в таблицу: день недели, месяц и год публикации объявления"
   ]
  },
  {
   "cell_type": "code",
   "execution_count": 49,
   "metadata": {},
   "outputs": [],
   "source": [
    "df['first_day_exposition'] = pd.to_datetime(df['first_day_exposition'], format=\"%Y-%m-%dT%H:%M:%S\")"
   ]
  },
  {
   "cell_type": "code",
   "execution_count": 50,
   "metadata": {},
   "outputs": [],
   "source": [
    "df['week_day'] = df['first_day_exposition'].dt.day_name()"
   ]
  },
  {
   "cell_type": "code",
   "execution_count": 51,
   "metadata": {},
   "outputs": [],
   "source": [
    "df['month'] = df['first_day_exposition'].dt.month_name()"
   ]
  },
  {
   "cell_type": "code",
   "execution_count": 52,
   "metadata": {},
   "outputs": [],
   "source": [
    "df['year'] = pd.DatetimeIndex(df['first_day_exposition']).year"
   ]
  },
  {
   "cell_type": "markdown",
   "metadata": {},
   "source": [
    "Добавим в таблицу: этаж квартиры; варианты — первый, последний, другой"
   ]
  },
  {
   "cell_type": "code",
   "execution_count": 53,
   "metadata": {},
   "outputs": [],
   "source": [
    "df['floors_total'] = df['floors_total'].astype('int')"
   ]
  },
  {
   "cell_type": "code",
   "execution_count": 54,
   "metadata": {},
   "outputs": [],
   "source": [
    "#def floor_status(row):\n",
    "#    if row['floor'] == 1:\n",
    "#        return 'первый'\n",
    "#    elif row['floor'] == row['floors_total']:\n",
    "#        return 'последний'\n",
    "#    else:\n",
    "#        return 'другой'"
   ]
  },
  {
   "cell_type": "markdown",
   "metadata": {},
   "source": [
    "<div class=\"alert alert-block alert-warning\">\n",
    "<b>⚠️ Remarks:</b>\n",
    "    \n",
    "От лишнего else давай избавимся.\n",
    "    \n",
    "https://medium.com/lemon-code/guard-clauses-3bc0cd96a2d3"
   ]
  },
  {
   "cell_type": "markdown",
   "metadata": {},
   "source": [
    "<div class=\"alert alert-block alert-info\">\n",
    "<b>💾 Fixed:</b> \n",
    "Ниже функция без лишнего else ✔\n",
    "</div>"
   ]
  },
  {
   "cell_type": "code",
   "execution_count": 55,
   "metadata": {},
   "outputs": [],
   "source": [
    "def floor_status(row):\n",
    "    if row['floor'] == 1:\n",
    "        return 'первый'\n",
    "    elif row['floor'] == row['floors_total']:\n",
    "        return 'последний'\n",
    "    return 'другой'"
   ]
  },
  {
   "cell_type": "code",
   "execution_count": 56,
   "metadata": {},
   "outputs": [],
   "source": [
    "df['floor_status'] = df.apply(floor_status, axis=1)"
   ]
  },
  {
   "cell_type": "markdown",
   "metadata": {},
   "source": [
    "Посчитаем  и добавим в таблицу: соотношение жилой и общей площади, а также отношение площади кухни к общей"
   ]
  },
  {
   "cell_type": "code",
   "execution_count": 57,
   "metadata": {},
   "outputs": [],
   "source": [
    "df['living_area_ratio'] = df['living_area'] / df['total_area']"
   ]
  },
  {
   "cell_type": "code",
   "execution_count": 58,
   "metadata": {},
   "outputs": [],
   "source": [
    "df['kitchen_area_ratio'] = df['kitchen_area'] / df['total_area']"
   ]
  },
  {
   "cell_type": "markdown",
   "metadata": {},
   "source": [
    "## Исследовательский анализ данных"
   ]
  },
  {
   "cell_type": "markdown",
   "metadata": {},
   "source": [
    "Исследуем следующие параметры: площадь, цена, число комнат, высота потолков и построем гистограммы для каждого параметра"
   ]
  },
  {
   "cell_type": "code",
   "execution_count": 59,
   "metadata": {},
   "outputs": [
    {
     "data": {
      "text/html": [
       "<div>\n",
       "<style scoped>\n",
       "    .dataframe tbody tr th:only-of-type {\n",
       "        vertical-align: middle;\n",
       "    }\n",
       "\n",
       "    .dataframe tbody tr th {\n",
       "        vertical-align: top;\n",
       "    }\n",
       "\n",
       "    .dataframe thead th {\n",
       "        text-align: right;\n",
       "    }\n",
       "</style>\n",
       "<table border=\"1\" class=\"dataframe\">\n",
       "  <thead>\n",
       "    <tr style=\"text-align: right;\">\n",
       "      <th></th>\n",
       "      <th>count</th>\n",
       "      <th>mean</th>\n",
       "      <th>std</th>\n",
       "      <th>min</th>\n",
       "      <th>25%</th>\n",
       "      <th>50%</th>\n",
       "      <th>75%</th>\n",
       "      <th>max</th>\n",
       "    </tr>\n",
       "  </thead>\n",
       "  <tbody>\n",
       "    <tr>\n",
       "      <th>total_area</th>\n",
       "      <td>23,650.00</td>\n",
       "      <td>60.33</td>\n",
       "      <td>35.66</td>\n",
       "      <td>12.00</td>\n",
       "      <td>40.00</td>\n",
       "      <td>52.00</td>\n",
       "      <td>69.70</td>\n",
       "      <td>900.00</td>\n",
       "    </tr>\n",
       "    <tr>\n",
       "      <th>last_price</th>\n",
       "      <td>23,650.00</td>\n",
       "      <td>6,541,126.90</td>\n",
       "      <td>10,896,399.18</td>\n",
       "      <td>12,190.00</td>\n",
       "      <td>3,400,000.00</td>\n",
       "      <td>4,650,000.00</td>\n",
       "      <td>6,799,000.00</td>\n",
       "      <td>763,000,000.00</td>\n",
       "    </tr>\n",
       "    <tr>\n",
       "      <th>rooms</th>\n",
       "      <td>23,650.00</td>\n",
       "      <td>2.07</td>\n",
       "      <td>1.08</td>\n",
       "      <td>0.00</td>\n",
       "      <td>1.00</td>\n",
       "      <td>2.00</td>\n",
       "      <td>3.00</td>\n",
       "      <td>19.00</td>\n",
       "    </tr>\n",
       "    <tr>\n",
       "      <th>ceiling_height</th>\n",
       "      <td>23,650.00</td>\n",
       "      <td>2.70</td>\n",
       "      <td>0.22</td>\n",
       "      <td>1.00</td>\n",
       "      <td>2.60</td>\n",
       "      <td>2.65</td>\n",
       "      <td>2.70</td>\n",
       "      <td>5.00</td>\n",
       "    </tr>\n",
       "  </tbody>\n",
       "</table>\n",
       "</div>"
      ],
      "text/plain": [
       "                   count         mean           std       min          25%  \\\n",
       "total_area     23,650.00        60.33         35.66     12.00        40.00   \n",
       "last_price     23,650.00 6,541,126.90 10,896,399.18 12,190.00 3,400,000.00   \n",
       "rooms          23,650.00         2.07          1.08      0.00         1.00   \n",
       "ceiling_height 23,650.00         2.70          0.22      1.00         2.60   \n",
       "\n",
       "                        50%          75%            max  \n",
       "total_area            52.00        69.70         900.00  \n",
       "last_price     4,650,000.00 6,799,000.00 763,000,000.00  \n",
       "rooms                  2.00         3.00          19.00  \n",
       "ceiling_height         2.65         2.70           5.00  "
      ]
     },
     "execution_count": 59,
     "metadata": {},
     "output_type": "execute_result"
    }
   ],
   "source": [
    "df[['total_area', 'last_price', 'rooms', 'ceiling_height']].describe().T"
   ]
  },
  {
   "cell_type": "code",
   "execution_count": 60,
   "metadata": {},
   "outputs": [],
   "source": [
    "#df.total_area.plot( kind='hist', bins=20, figsize=(6,6), grid=True,).set_xlim([0, 450])"
   ]
  },
  {
   "cell_type": "markdown",
   "metadata": {},
   "source": [
    "<div class=\"alert alert-block alert-warning\">\n",
    "<b>Remarks:</b> \n",
    "    \n",
    "Дальше будут проекты, где тебе придется строить очень много графиков, поэтому лучше сразу их правильно строить. На данном графике у тебя должны быть подписаны оси, ось Y должна содержать еще размерность данных (шт., млн. и т.д.). Оси и заголовок должны быть на одном языке. В заголовке еще можно написать за какой период у нас данные. Поправь и другие графики в проекте.\n",
    "\n",
    "Правильное оформление графиков сильно повышает вероятность сдачи проекта с первого раза ;)\n",
    "    \n",
    "Также скину тебе сайт с подборкой крутых примеров на разных библиотеках:\n",
    "    \n",
    "https://python-graph-gallery.com/\n",
    "    \n",
    "В идеале, конечно, сразу начинать осваивать какую-нибудь хорошую либу (plotly или seaborn например)\n",
    "\n",
    "</div>"
   ]
  },
  {
   "cell_type": "markdown",
   "metadata": {},
   "source": [
    "<div class=\"alert alert-block alert-info\">\n",
    "<b>💾 Fixed:</b> \n",
    "Ниже поправил графики с учетом рекомендаций по оформлению ✔\n",
    "</div>"
   ]
  },
  {
   "cell_type": "markdown",
   "metadata": {},
   "source": [
    "<div class=\"alert alert-block alert-success\">\n",
    "Вот теперь отличное оформление!"
   ]
  },
  {
   "cell_type": "code",
   "execution_count": 61,
   "metadata": {},
   "outputs": [
    {
     "data": {
      "text/plain": [
       "[Text(0.5, 1.0, 'Распределение количества объявлений по площади'),\n",
       " Text(0.5, 0, 'Общая площадь, м.кв'),\n",
       " Text(0, 0.5, 'Количество объявлений, шт')]"
      ]
     },
     "execution_count": 61,
     "metadata": {},
     "output_type": "execute_result"
    },
    {
     "data": {
      "image/png": "[encoded data removed]",
      "text/plain": [
       "<Figure size 432x288 with 1 Axes>"
      ]
     },
     "metadata": {
      "needs_background": "light"
     },
     "output_type": "display_data"
    }
   ],
   "source": [
    "sns.histplot(df, x='total_area', color='green', bins=30\n",
    "            ).set(title='Распределение количества объявлений по площади', xlabel =\"Общая площадь, м.кв\",\n",
    "                  ylabel = \"Количество объявлений, шт\")"
   ]
  },
  {
   "cell_type": "markdown",
   "metadata": {},
   "source": [
    "Распределение количества объявлений по стоимости с учетом выбрасов"
   ]
  },
  {
   "cell_type": "code",
   "execution_count": 62,
   "metadata": {},
   "outputs": [
    {
     "data": {
      "text/plain": [
       "[Text(0.5, 1.0, 'Распределение количества объявлений по стоимости'),\n",
       " Text(0.5, 0, 'Стоимость, 10 млн'),\n",
       " Text(0, 0.5, 'Количество объявлений, шт')]"
      ]
     },
     "execution_count": 62,
     "metadata": {},
     "output_type": "execute_result"
    },
    {
     "data": {
      "image/png": "[encoded data removed]",
      "text/plain": [
       "<Figure size 432x288 with 1 Axes>"
      ]
     },
     "metadata": {
      "needs_background": "light"
     },
     "output_type": "display_data"
    }
   ],
   "source": [
    "#df['last_price'].plot( kind='hist', bins=10, figsize=(6,6), grid=True)\n",
    "sns.histplot(df,x='last_price', bins=40).set(title='Распределение количества объявлений по стоимости',\n",
    "                                               xlabel='Стоимость, 10 млн',\n",
    "                                               ylabel='Количество объявлений, шт')"
   ]
  },
  {
   "cell_type": "markdown",
   "metadata": {},
   "source": [
    "Распределение количества объявлений по стоимости без учета выбрасов"
   ]
  },
  {
   "cell_type": "code",
   "execution_count": 63,
   "metadata": {},
   "outputs": [],
   "source": [
    "def delete_outliers(df, column):\n",
    "    q1 = df[column].quantile(0.25)                 \n",
    "    q3 = df[column].quantile(0.75)\n",
    "    iqr = q3 - q1\n",
    "    filter = (df[column] >= (q1 - 1.5*iqr)) & (df[column] <= (q3 + 1.5*iqr))\n",
    "    return df.loc[filter]"
   ]
  },
  {
   "cell_type": "code",
   "execution_count": 64,
   "metadata": {},
   "outputs": [],
   "source": [
    "data = delete_outliers(df,'last_price')"
   ]
  },
  {
   "cell_type": "code",
   "execution_count": 65,
   "metadata": {},
   "outputs": [
    {
     "data": {
      "text/plain": [
       "[Text(0.5, 1.0, 'Распределение количества объявлений по стоимости'),\n",
       " Text(0.5, 0, 'Стоимость, 10 млн'),\n",
       " Text(0, 0.5, 'Количество объявлений, шт')]"
      ]
     },
     "execution_count": 65,
     "metadata": {},
     "output_type": "execute_result"
    },
    {
     "data": {
      "image/png": "[encoded data removed]",
      "text/plain": [
       "<Figure size 432x288 with 1 Axes>"
      ]
     },
     "metadata": {
      "needs_background": "light"
     },
     "output_type": "display_data"
    }
   ],
   "source": [
    "sns.histplot(data, x='last_price', bins=30).set(title='Распределение количества объявлений по стоимости',\n",
    "                                               xlabel='Стоимость, 10 млн',\n",
    "                                               ylabel='Количество объявлений, шт')"
   ]
  },
  {
   "cell_type": "markdown",
   "metadata": {},
   "source": [
    "Получилось более наглядно"
   ]
  },
  {
   "cell_type": "code",
   "execution_count": 66,
   "metadata": {},
   "outputs": [
    {
     "data": {
      "text/plain": [
       "[(1.0, 10.0),\n",
       " Text(0.5, 1.0, 'Распределение количества объявлений по числу комнат в квартирах'),\n",
       " Text(0.5, 0, 'Количество комнат'),\n",
       " Text(0, 0.5, 'Количество объявлений, шт')]"
      ]
     },
     "execution_count": 66,
     "metadata": {},
     "output_type": "execute_result"
    },
    {
     "data": {
      "image/png": "[encoded data removed]",
      "text/plain": [
       "<Figure size 432x288 with 1 Axes>"
      ]
     },
     "metadata": {
      "needs_background": "light"
     },
     "output_type": "display_data"
    }
   ],
   "source": [
    "#df['rooms'].plot( kind='hist', bins=25, figsize=(6,6), grid=True,).set_xlim([0, 10])\n",
    "sns.histplot(df, x='rooms', bins=40, binwidth=1).set(xlim=(1,10), title='Распределение количества объявлений по числу комнат в квартирах',\n",
    "                                        xlabel='Количество комнат', ylabel='Количество объявлений, шт')"
   ]
  },
  {
   "cell_type": "code",
   "execution_count": 67,
   "metadata": {},
   "outputs": [
    {
     "data": {
      "text/plain": [
       "[Text(0.5, 1.0, 'Распределение количества объявлений по высоте потолков в квартире'),\n",
       " Text(0.5, 0, 'Высота потолковб м'),\n",
       " Text(0, 0.5, 'Количество объявлений, шт'),\n",
       " (1.5, 5.0)]"
      ]
     },
     "execution_count": 67,
     "metadata": {},
     "output_type": "execute_result"
    },
    {
     "data": {
      "image/png": "[encoded data removed]",
      "text/plain": [
       "<Figure size 432x288 with 1 Axes>"
      ]
     },
     "metadata": {
      "needs_background": "light"
     },
     "output_type": "display_data"
    }
   ],
   "source": [
    "#df['ceiling_height'].plot( kind='hist', bins=20, figsize=(6,6), grid=True,).set_xlim([0, 5])\n",
    "sns.histplot(df, x='ceiling_height', bins=30, binwidth=0.5).set(title='Распределение количества объявлений по высоте потолков в квартире',\n",
    "                                                 xlabel='Высота потолковб м',\n",
    "                                                 ylabel='Количество объявлений, шт',\n",
    "                                                 xlim=(1.5,5))"
   ]
  },
  {
   "cell_type": "markdown",
   "metadata": {},
   "source": [
    "Изучим время продажи квартиры. Построbv гистограмму. Посчитайте среднее и медиану. Опишем, сколько обычно занимает продажа, когда можно считать, что продажи прошли очень быстро, а когда необычно долго."
   ]
  },
  {
   "cell_type": "code",
   "execution_count": 68,
   "metadata": {},
   "outputs": [
    {
     "data": {
      "text/plain": [
       "count   23,650.00\n",
       "mean       169.22\n",
       "std        206.55\n",
       "min          1.00\n",
       "25%         45.00\n",
       "50%         95.00\n",
       "75%        198.00\n",
       "max      1,580.00\n",
       "Name: days_exposition, dtype: float64"
      ]
     },
     "execution_count": 68,
     "metadata": {},
     "output_type": "execute_result"
    }
   ],
   "source": [
    "df['days_exposition'].describe()"
   ]
  },
  {
   "cell_type": "code",
   "execution_count": 69,
   "metadata": {
    "scrolled": true
   },
   "outputs": [
    {
     "data": {
      "text/plain": [
       "[Text(0.5, 1.0, 'Распределение количества объявлений по дням продаж'),\n",
       " Text(0.5, 0, 'Количество дней в публикации'),\n",
       " Text(0, 0.5, 'Количество объявлений, шт')]"
      ]
     },
     "execution_count": 69,
     "metadata": {},
     "output_type": "execute_result"
    },
    {
     "data": {
      "image/png": "[encoded data removed]",
      "text/plain": [
       "<Figure size 432x288 with 1 Axes>"
      ]
     },
     "metadata": {
      "needs_background": "light"
     },
     "output_type": "display_data"
    }
   ],
   "source": [
    "#df['days_exposition'].plot(kind='hist')\n",
    "sns.histplot(df, x='days_exposition', bins=30).set(title='Распределение количества объявлений по дням продаж',\n",
    "                                                 xlabel='Количество дней в публикации',\n",
    "                                                 ylabel='Количество объявлений, шт',\n",
    "                                                 )"
   ]
  },
  {
   "cell_type": "markdown",
   "metadata": {},
   "source": [
    "<div class=\"alert alert-block alert-warning\">\n",
    "<b>Remarks:</b> нужно внимательнее изучит ьпродажи быстрее ста дней"
   ]
  },
  {
   "cell_type": "markdown",
   "metadata": {},
   "source": [
    "<div class=\"alert alert-block alert-info\">\n",
    "<b>💾 Fixed:</b> \n",
    "Приглидимся к продажам быстрее сто дней ✔\n",
    "</div>"
   ]
  },
  {
   "cell_type": "code",
   "execution_count": 70,
   "metadata": {},
   "outputs": [],
   "source": [
    "df_100 = df[df['days_exposition'] <= 100]"
   ]
  },
  {
   "cell_type": "code",
   "execution_count": 71,
   "metadata": {},
   "outputs": [
    {
     "data": {
      "text/plain": [
       "[Text(0.5, 1.0, 'Распределение количества объявлений по дням продаж'),\n",
       " Text(0.5, 0, 'Количество дней в публикации'),\n",
       " Text(0, 0.5, 'Количество объявлений, шт')]"
      ]
     },
     "execution_count": 71,
     "metadata": {},
     "output_type": "execute_result"
    },
    {
     "data": {
      "image/png": "[encoded data removed]",
      "text/plain": [
       "<Figure size 432x288 with 1 Axes>"
      ]
     },
     "metadata": {
      "needs_background": "light"
     },
     "output_type": "display_data"
    }
   ],
   "source": [
    "sns.histplot(df_100, x='days_exposition', bins=30).set(title='Распределение количества объявлений по дням продаж',\n",
    "                                                 xlabel='Количество дней в публикации',\n",
    "                                                 ylabel='Количество объявлений, шт',\n",
    "                                                 )"
   ]
  },
  {
   "cell_type": "code",
   "execution_count": 72,
   "metadata": {},
   "outputs": [
    {
     "data": {
      "text/plain": [
       "count   13,724.00\n",
       "mean        56.57\n",
       "std         31.69\n",
       "min          1.00\n",
       "25%         29.00\n",
       "50%         57.00\n",
       "75%         95.00\n",
       "max        100.00\n",
       "Name: days_exposition, dtype: float64"
      ]
     },
     "execution_count": 72,
     "metadata": {},
     "output_type": "execute_result"
    }
   ],
   "source": [
    "df_100['days_exposition'].describe()"
   ]
  },
  {
   "cell_type": "markdown",
   "metadata": {},
   "source": [
    "При рассмотрении продаж квартир до ста дней, можно также сказать, что основная часть квартир продается в районе 90 - 95 дней"
   ]
  },
  {
   "cell_type": "markdown",
   "metadata": {},
   "source": [
    "**Вывод**"
   ]
  },
  {
   "cell_type": "markdown",
   "metadata": {},
   "source": [
    "Из анализа мы видим, что среднее время продажи 169 дней отличается от мидианной 95 дней. На оценку среднего времени повлияли как максимально долгие продажи 1580 дней, так и могли сказаться минамальные по времени продажи в 1 день. В среднем. можно сказать, что продажа занимает порядка 95 дней. Если период продажи состовлет менее 45 дней, то можно считать, что продажи прошли очень быстро и напротив, продожи длинной более 198 дней являются очень долгими."
   ]
  },
  {
   "cell_type": "markdown",
   "metadata": {},
   "source": [
    "**Уберем редкие и выбивающиеся значения. Опишем, обноруженные особенности.**"
   ]
  },
  {
   "cell_type": "markdown",
   "metadata": {},
   "source": [
    "Уберем слдующие выбивающиеся значения \n",
    "\n",
    "1. максимальная площадь в 900 метров в квадрате\n",
    "2. дом в 60 этажей\n",
    "3. количество комнат 0\n",
    "4. период размещения 1580 дней"
   ]
  },
  {
   "cell_type": "code",
   "execution_count": 73,
   "metadata": {},
   "outputs": [],
   "source": [
    "df_fitred = df[(df['total_area'] !=900) & (df['rooms'] != 0) & (df['floors_total'] != 60) & (df['days_exposition'] != 1580)]"
   ]
  },
  {
   "cell_type": "code",
   "execution_count": 74,
   "metadata": {},
   "outputs": [
    {
     "name": "stdout",
     "output_type": "stream",
     "text": [
      "<class 'pandas.core.frame.DataFrame'>\n",
      "Int64Index: 23450 entries, 0 to 23698\n",
      "Data columns (total 29 columns):\n",
      " #   Column                Non-Null Count  Dtype         \n",
      "---  ------                --------------  -----         \n",
      " 0   total_images          23450 non-null  int64         \n",
      " 1   last_price            23450 non-null  float64       \n",
      " 2   total_area            23450 non-null  float64       \n",
      " 3   first_day_exposition  23450 non-null  datetime64[ns]\n",
      " 4   rooms                 23450 non-null  int64         \n",
      " 5   ceiling_height        23450 non-null  float64       \n",
      " 6   floors_total          23450 non-null  int64         \n",
      " 7   living_area           23450 non-null  float64       \n",
      " 8   floor                 23450 non-null  int64         \n",
      " 9   is_apartment          23450 non-null  bool          \n",
      " 10  studio                23450 non-null  bool          \n",
      " 11  open_plan             23450 non-null  bool          \n",
      " 12  kitchen_area          23450 non-null  float64       \n",
      " 13  balcony               23450 non-null  int64         \n",
      " 14  locality_name         23450 non-null  object        \n",
      " 15  airports_nearest      23450 non-null  float64       \n",
      " 16  cityCenters_nearest   23450 non-null  float64       \n",
      " 17  parks_around3000      23450 non-null  int8          \n",
      " 18  parks_nearest         23450 non-null  float64       \n",
      " 19  ponds_around3000      23450 non-null  int8          \n",
      " 20  ponds_nearest         23450 non-null  float64       \n",
      " 21  days_exposition       23450 non-null  float64       \n",
      " 22  sq_meter              23450 non-null  float64       \n",
      " 23  week_day              23450 non-null  object        \n",
      " 24  month                 23450 non-null  object        \n",
      " 25  year                  23450 non-null  int64         \n",
      " 26  floor_status          23450 non-null  object        \n",
      " 27  living_area_ratio     23450 non-null  float64       \n",
      " 28  kitchen_area_ratio    23450 non-null  float64       \n",
      "dtypes: bool(3), datetime64[ns](1), float64(13), int64(6), int8(2), object(4)\n",
      "memory usage: 4.6+ MB\n"
     ]
    }
   ],
   "source": [
    "df_fitred.info()"
   ]
  },
  {
   "cell_type": "markdown",
   "metadata": {},
   "source": [
    "**Вывод**\n",
    "\n",
    "После удаления редких значений, особенности в наборе данных не прослеживаются. Так как квартиры с большой площадью или с очень высокой стоямостью я вляются нормой для рынка. Но их количество относительно средних значений будет оставаться не высоко."
   ]
  },
  {
   "cell_type": "markdown",
   "metadata": {},
   "source": [
    "Выясним, какие факторы больше всего влияют на стоимость квартиры.\n",
    "\n",
    "Зависит ли цена от квадратного метра, числа комнат, этажа (первого или последнего), удалённости от центра. Также посмотрим зависимость от даты размещения: дня недели, месяца и года». "
   ]
  },
  {
   "cell_type": "code",
   "execution_count": 75,
   "metadata": {},
   "outputs": [
    {
     "data": {
      "text/html": [
       "<div>\n",
       "<style scoped>\n",
       "    .dataframe tbody tr th:only-of-type {\n",
       "        vertical-align: middle;\n",
       "    }\n",
       "\n",
       "    .dataframe tbody tr th {\n",
       "        vertical-align: top;\n",
       "    }\n",
       "\n",
       "    .dataframe thead th {\n",
       "        text-align: right;\n",
       "    }\n",
       "</style>\n",
       "<table border=\"1\" class=\"dataframe\">\n",
       "  <thead>\n",
       "    <tr style=\"text-align: right;\">\n",
       "      <th></th>\n",
       "      <th>last_price</th>\n",
       "    </tr>\n",
       "  </thead>\n",
       "  <tbody>\n",
       "    <tr>\n",
       "      <th>last_price</th>\n",
       "      <td>1.00</td>\n",
       "    </tr>\n",
       "    <tr>\n",
       "      <th>sq_meter</th>\n",
       "      <td>0.75</td>\n",
       "    </tr>\n",
       "    <tr>\n",
       "      <th>total_area</th>\n",
       "      <td>0.64</td>\n",
       "    </tr>\n",
       "    <tr>\n",
       "      <th>living_area</th>\n",
       "      <td>0.53</td>\n",
       "    </tr>\n",
       "    <tr>\n",
       "      <th>kitchen_area</th>\n",
       "      <td>0.43</td>\n",
       "    </tr>\n",
       "    <tr>\n",
       "      <th>rooms</th>\n",
       "      <td>0.36</td>\n",
       "    </tr>\n",
       "    <tr>\n",
       "      <th>ceiling_height</th>\n",
       "      <td>0.29</td>\n",
       "    </tr>\n",
       "    <tr>\n",
       "      <th>parks_around3000</th>\n",
       "      <td>0.20</td>\n",
       "    </tr>\n",
       "    <tr>\n",
       "      <th>ponds_around3000</th>\n",
       "      <td>0.14</td>\n",
       "    </tr>\n",
       "    <tr>\n",
       "      <th>total_images</th>\n",
       "      <td>0.11</td>\n",
       "    </tr>\n",
       "    <tr>\n",
       "      <th>days_exposition</th>\n",
       "      <td>0.07</td>\n",
       "    </tr>\n",
       "    <tr>\n",
       "      <th>is_apartment</th>\n",
       "      <td>0.03</td>\n",
       "    </tr>\n",
       "    <tr>\n",
       "      <th>floor</th>\n",
       "      <td>0.02</td>\n",
       "    </tr>\n",
       "    <tr>\n",
       "      <th>balcony</th>\n",
       "      <td>0.01</td>\n",
       "    </tr>\n",
       "    <tr>\n",
       "      <th>open_plan</th>\n",
       "      <td>0.01</td>\n",
       "    </tr>\n",
       "    <tr>\n",
       "      <th>parks_nearest</th>\n",
       "      <td>0.00</td>\n",
       "    </tr>\n",
       "    <tr>\n",
       "      <th>studio</th>\n",
       "      <td>-0.01</td>\n",
       "    </tr>\n",
       "    <tr>\n",
       "      <th>floors_total</th>\n",
       "      <td>-0.01</td>\n",
       "    </tr>\n",
       "    <tr>\n",
       "      <th>airports_nearest</th>\n",
       "      <td>-0.01</td>\n",
       "    </tr>\n",
       "    <tr>\n",
       "      <th>year</th>\n",
       "      <td>-0.04</td>\n",
       "    </tr>\n",
       "    <tr>\n",
       "      <th>living_area_ratio</th>\n",
       "      <td>-0.07</td>\n",
       "    </tr>\n",
       "    <tr>\n",
       "      <th>ponds_nearest</th>\n",
       "      <td>-0.07</td>\n",
       "    </tr>\n",
       "    <tr>\n",
       "      <th>kitchen_area_ratio</th>\n",
       "      <td>-0.12</td>\n",
       "    </tr>\n",
       "    <tr>\n",
       "      <th>cityCenters_nearest</th>\n",
       "      <td>-0.20</td>\n",
       "    </tr>\n",
       "  </tbody>\n",
       "</table>\n",
       "</div>"
      ],
      "text/plain": [
       "                     last_price\n",
       "last_price                 1.00\n",
       "sq_meter                   0.75\n",
       "total_area                 0.64\n",
       "living_area                0.53\n",
       "kitchen_area               0.43\n",
       "rooms                      0.36\n",
       "ceiling_height             0.29\n",
       "parks_around3000           0.20\n",
       "ponds_around3000           0.14\n",
       "total_images               0.11\n",
       "days_exposition            0.07\n",
       "is_apartment               0.03\n",
       "floor                      0.02\n",
       "balcony                    0.01\n",
       "open_plan                  0.01\n",
       "parks_nearest              0.00\n",
       "studio                    -0.01\n",
       "floors_total              -0.01\n",
       "airports_nearest          -0.01\n",
       "year                      -0.04\n",
       "living_area_ratio         -0.07\n",
       "ponds_nearest             -0.07\n",
       "kitchen_area_ratio        -0.12\n",
       "cityCenters_nearest       -0.20"
      ]
     },
     "execution_count": 75,
     "metadata": {},
     "output_type": "execute_result"
    }
   ],
   "source": [
    "df_fitred.corr().sort_values('last_price', ascending=False).filter(items = ['last_price'])"
   ]
  },
  {
   "cell_type": "markdown",
   "metadata": {},
   "source": [
    "<div class=\"alert alert-block alert-danger\">\n",
    "<b>❌ Needs fixing:</b> \n",
    "    \n",
    "проверять влияние признаков на стоимость квартиры только с помощью коэффициента корреляции Пирсона не совсем верно. Такой подход оправдан для непрерывных числовых признаков, но не корректен для месяцев, годов, кол-ва комнат , по двум причинам:\n",
    "    \n",
    "- признаки категориальные, поэтому Пирсон не совсем подходит\n",
    "- зависимость нелинейная, поэтому Пирсон ничего не может показать\n",
    "\n",
    "В этом случае необходимо сгруппировать по категориям и вычислить какую-либо статистику (среднее\\медиана).\n"
   ]
  },
  {
   "cell_type": "markdown",
   "metadata": {},
   "source": [
    "<div class=\"alert alert-block alert-info\">\n",
    "<b>💾 Fixed:</b> \n",
    "Исправим ошибку. Расширим исследование, какие факторы влияют на стоимость квартир. ✔\n",
    "</div>"
   ]
  },
  {
   "cell_type": "markdown",
   "metadata": {},
   "source": [
    "<div class=\"alert alert-block alert-success\">\n",
    "замечательно :)"
   ]
  },
  {
   "cell_type": "code",
   "execution_count": 76,
   "metadata": {},
   "outputs": [
    {
     "data": {
      "text/html": [
       "<div>\n",
       "<style scoped>\n",
       "    .dataframe tbody tr th:only-of-type {\n",
       "        vertical-align: middle;\n",
       "    }\n",
       "\n",
       "    .dataframe tbody tr th {\n",
       "        vertical-align: top;\n",
       "    }\n",
       "\n",
       "    .dataframe thead tr th {\n",
       "        text-align: left;\n",
       "    }\n",
       "\n",
       "    .dataframe thead tr:last-of-type th {\n",
       "        text-align: right;\n",
       "    }\n",
       "</style>\n",
       "<table border=\"1\" class=\"dataframe\">\n",
       "  <thead>\n",
       "    <tr>\n",
       "      <th></th>\n",
       "      <th colspan=\"2\" halign=\"left\">last_price</th>\n",
       "    </tr>\n",
       "    <tr>\n",
       "      <th></th>\n",
       "      <th>mean</th>\n",
       "      <th>median</th>\n",
       "    </tr>\n",
       "    <tr>\n",
       "      <th>month</th>\n",
       "      <th></th>\n",
       "      <th></th>\n",
       "    </tr>\n",
       "  </thead>\n",
       "  <tbody>\n",
       "    <tr>\n",
       "      <th>April</th>\n",
       "      <td>6,762,030.16</td>\n",
       "      <td>4,800,000.00</td>\n",
       "    </tr>\n",
       "    <tr>\n",
       "      <th>August</th>\n",
       "      <td>6,396,511.51</td>\n",
       "      <td>4,600,000.00</td>\n",
       "    </tr>\n",
       "    <tr>\n",
       "      <th>December</th>\n",
       "      <td>6,793,039.66</td>\n",
       "      <td>4,700,000.00</td>\n",
       "    </tr>\n",
       "    <tr>\n",
       "      <th>February</th>\n",
       "      <td>6,488,679.18</td>\n",
       "      <td>4,650,000.00</td>\n",
       "    </tr>\n",
       "    <tr>\n",
       "      <th>January</th>\n",
       "      <td>6,701,703.64</td>\n",
       "      <td>4,600,000.00</td>\n",
       "    </tr>\n",
       "    <tr>\n",
       "      <th>July</th>\n",
       "      <td>6,630,543.54</td>\n",
       "      <td>4,650,000.00</td>\n",
       "    </tr>\n",
       "    <tr>\n",
       "      <th>June</th>\n",
       "      <td>6,320,679.18</td>\n",
       "      <td>4,400,000.00</td>\n",
       "    </tr>\n",
       "    <tr>\n",
       "      <th>March</th>\n",
       "      <td>6,387,241.26</td>\n",
       "      <td>4,700,000.00</td>\n",
       "    </tr>\n",
       "    <tr>\n",
       "      <th>May</th>\n",
       "      <td>6,615,583.60</td>\n",
       "      <td>4,550,000.00</td>\n",
       "    </tr>\n",
       "    <tr>\n",
       "      <th>November</th>\n",
       "      <td>6,503,100.62</td>\n",
       "      <td>4,700,000.00</td>\n",
       "    </tr>\n",
       "    <tr>\n",
       "      <th>October</th>\n",
       "      <td>6,260,170.66</td>\n",
       "      <td>4,599,500.00</td>\n",
       "    </tr>\n",
       "    <tr>\n",
       "      <th>September</th>\n",
       "      <td>6,879,139.59</td>\n",
       "      <td>4,700,000.00</td>\n",
       "    </tr>\n",
       "  </tbody>\n",
       "</table>\n",
       "</div>"
      ],
      "text/plain": [
       "            last_price             \n",
       "                  mean       median\n",
       "month                              \n",
       "April     6,762,030.16 4,800,000.00\n",
       "August    6,396,511.51 4,600,000.00\n",
       "December  6,793,039.66 4,700,000.00\n",
       "February  6,488,679.18 4,650,000.00\n",
       "January   6,701,703.64 4,600,000.00\n",
       "July      6,630,543.54 4,650,000.00\n",
       "June      6,320,679.18 4,400,000.00\n",
       "March     6,387,241.26 4,700,000.00\n",
       "May       6,615,583.60 4,550,000.00\n",
       "November  6,503,100.62 4,700,000.00\n",
       "October   6,260,170.66 4,599,500.00\n",
       "September 6,879,139.59 4,700,000.00"
      ]
     },
     "execution_count": 76,
     "metadata": {},
     "output_type": "execute_result"
    }
   ],
   "source": [
    "df_fitred.groupby('month').agg({'last_price':['mean','median']})"
   ]
  },
  {
   "cell_type": "code",
   "execution_count": 77,
   "metadata": {},
   "outputs": [
    {
     "data": {
      "text/html": [
       "<div>\n",
       "<style scoped>\n",
       "    .dataframe tbody tr th:only-of-type {\n",
       "        vertical-align: middle;\n",
       "    }\n",
       "\n",
       "    .dataframe tbody tr th {\n",
       "        vertical-align: top;\n",
       "    }\n",
       "\n",
       "    .dataframe thead tr th {\n",
       "        text-align: left;\n",
       "    }\n",
       "\n",
       "    .dataframe thead tr:last-of-type th {\n",
       "        text-align: right;\n",
       "    }\n",
       "</style>\n",
       "<table border=\"1\" class=\"dataframe\">\n",
       "  <thead>\n",
       "    <tr>\n",
       "      <th></th>\n",
       "      <th colspan=\"2\" halign=\"left\">last_price</th>\n",
       "    </tr>\n",
       "    <tr>\n",
       "      <th></th>\n",
       "      <th>mean</th>\n",
       "      <th>median</th>\n",
       "    </tr>\n",
       "    <tr>\n",
       "      <th>year</th>\n",
       "      <th></th>\n",
       "      <th></th>\n",
       "    </tr>\n",
       "  </thead>\n",
       "  <tbody>\n",
       "    <tr>\n",
       "      <th>2014</th>\n",
       "      <td>12,109,908.33</td>\n",
       "      <td>7,700,000.00</td>\n",
       "    </tr>\n",
       "    <tr>\n",
       "      <th>2015</th>\n",
       "      <td>8,608,614.77</td>\n",
       "      <td>5,350,000.00</td>\n",
       "    </tr>\n",
       "    <tr>\n",
       "      <th>2016</th>\n",
       "      <td>6,835,625.52</td>\n",
       "      <td>4,550,000.00</td>\n",
       "    </tr>\n",
       "    <tr>\n",
       "      <th>2017</th>\n",
       "      <td>6,577,306.06</td>\n",
       "      <td>4,500,000.00</td>\n",
       "    </tr>\n",
       "    <tr>\n",
       "      <th>2018</th>\n",
       "      <td>5,971,574.36</td>\n",
       "      <td>4,600,000.00</td>\n",
       "    </tr>\n",
       "    <tr>\n",
       "      <th>2019</th>\n",
       "      <td>6,804,000.07</td>\n",
       "      <td>5,100,000.00</td>\n",
       "    </tr>\n",
       "  </tbody>\n",
       "</table>\n",
       "</div>"
      ],
      "text/plain": [
       "        last_price             \n",
       "              mean       median\n",
       "year                           \n",
       "2014 12,109,908.33 7,700,000.00\n",
       "2015  8,608,614.77 5,350,000.00\n",
       "2016  6,835,625.52 4,550,000.00\n",
       "2017  6,577,306.06 4,500,000.00\n",
       "2018  5,971,574.36 4,600,000.00\n",
       "2019  6,804,000.07 5,100,000.00"
      ]
     },
     "execution_count": 77,
     "metadata": {},
     "output_type": "execute_result"
    }
   ],
   "source": [
    "df_fitred.groupby('year').agg({'last_price':['mean','median']})"
   ]
  },
  {
   "cell_type": "code",
   "execution_count": 78,
   "metadata": {},
   "outputs": [
    {
     "data": {
      "text/html": [
       "<div>\n",
       "<style scoped>\n",
       "    .dataframe tbody tr th:only-of-type {\n",
       "        vertical-align: middle;\n",
       "    }\n",
       "\n",
       "    .dataframe tbody tr th {\n",
       "        vertical-align: top;\n",
       "    }\n",
       "\n",
       "    .dataframe thead tr th {\n",
       "        text-align: left;\n",
       "    }\n",
       "\n",
       "    .dataframe thead tr:last-of-type th {\n",
       "        text-align: right;\n",
       "    }\n",
       "</style>\n",
       "<table border=\"1\" class=\"dataframe\">\n",
       "  <thead>\n",
       "    <tr>\n",
       "      <th></th>\n",
       "      <th colspan=\"2\" halign=\"left\">last_price</th>\n",
       "    </tr>\n",
       "    <tr>\n",
       "      <th></th>\n",
       "      <th>mean</th>\n",
       "      <th>median</th>\n",
       "    </tr>\n",
       "    <tr>\n",
       "      <th>floor_status</th>\n",
       "      <th></th>\n",
       "      <th></th>\n",
       "    </tr>\n",
       "  </thead>\n",
       "  <tbody>\n",
       "    <tr>\n",
       "      <th>другой</th>\n",
       "      <td>6,708,460.23</td>\n",
       "      <td>4,870,000.00</td>\n",
       "    </tr>\n",
       "    <tr>\n",
       "      <th>первый</th>\n",
       "      <td>4,814,415.01</td>\n",
       "      <td>3,900,000.00</td>\n",
       "    </tr>\n",
       "    <tr>\n",
       "      <th>последний</th>\n",
       "      <td>7,244,359.72</td>\n",
       "      <td>4,300,000.00</td>\n",
       "    </tr>\n",
       "  </tbody>\n",
       "</table>\n",
       "</div>"
      ],
      "text/plain": [
       "               last_price             \n",
       "                     mean       median\n",
       "floor_status                          \n",
       "другой       6,708,460.23 4,870,000.00\n",
       "первый       4,814,415.01 3,900,000.00\n",
       "последний    7,244,359.72 4,300,000.00"
      ]
     },
     "execution_count": 78,
     "metadata": {},
     "output_type": "execute_result"
    }
   ],
   "source": [
    "df_fitred.groupby('floor_status').agg({'last_price':['mean','median']})"
   ]
  },
  {
   "cell_type": "code",
   "execution_count": 79,
   "metadata": {},
   "outputs": [
    {
     "data": {
      "text/html": [
       "<div>\n",
       "<style scoped>\n",
       "    .dataframe tbody tr th:only-of-type {\n",
       "        vertical-align: middle;\n",
       "    }\n",
       "\n",
       "    .dataframe tbody tr th {\n",
       "        vertical-align: top;\n",
       "    }\n",
       "\n",
       "    .dataframe thead tr th {\n",
       "        text-align: left;\n",
       "    }\n",
       "\n",
       "    .dataframe thead tr:last-of-type th {\n",
       "        text-align: right;\n",
       "    }\n",
       "</style>\n",
       "<table border=\"1\" class=\"dataframe\">\n",
       "  <thead>\n",
       "    <tr>\n",
       "      <th></th>\n",
       "      <th colspan=\"2\" halign=\"left\">last_price</th>\n",
       "    </tr>\n",
       "    <tr>\n",
       "      <th></th>\n",
       "      <th>mean</th>\n",
       "      <th>median</th>\n",
       "    </tr>\n",
       "    <tr>\n",
       "      <th>rooms</th>\n",
       "      <th></th>\n",
       "      <th></th>\n",
       "    </tr>\n",
       "  </thead>\n",
       "  <tbody>\n",
       "    <tr>\n",
       "      <th>1</th>\n",
       "      <td>3,834,079.56</td>\n",
       "      <td>3,600,000.00</td>\n",
       "    </tr>\n",
       "    <tr>\n",
       "      <th>2</th>\n",
       "      <td>5,591,117.47</td>\n",
       "      <td>4,772,669.00</td>\n",
       "    </tr>\n",
       "    <tr>\n",
       "      <th>3</th>\n",
       "      <td>8,181,797.86</td>\n",
       "      <td>6,200,000.00</td>\n",
       "    </tr>\n",
       "    <tr>\n",
       "      <th>4</th>\n",
       "      <td>13,431,852.49</td>\n",
       "      <td>9,000,000.00</td>\n",
       "    </tr>\n",
       "    <tr>\n",
       "      <th>5</th>\n",
       "      <td>23,762,082.09</td>\n",
       "      <td>14,000,000.00</td>\n",
       "    </tr>\n",
       "    <tr>\n",
       "      <th>6</th>\n",
       "      <td>31,709,751.66</td>\n",
       "      <td>19,000,000.00</td>\n",
       "    </tr>\n",
       "    <tr>\n",
       "      <th>7</th>\n",
       "      <td>51,470,069.08</td>\n",
       "      <td>24,900,000.00</td>\n",
       "    </tr>\n",
       "    <tr>\n",
       "      <th>8</th>\n",
       "      <td>50,224,166.67</td>\n",
       "      <td>23,095,000.00</td>\n",
       "    </tr>\n",
       "    <tr>\n",
       "      <th>9</th>\n",
       "      <td>34,152,362.50</td>\n",
       "      <td>23,750,000.00</td>\n",
       "    </tr>\n",
       "    <tr>\n",
       "      <th>10</th>\n",
       "      <td>26,166,666.67</td>\n",
       "      <td>23,000,000.00</td>\n",
       "    </tr>\n",
       "    <tr>\n",
       "      <th>11</th>\n",
       "      <td>25,250,000.00</td>\n",
       "      <td>25,250,000.00</td>\n",
       "    </tr>\n",
       "    <tr>\n",
       "      <th>14</th>\n",
       "      <td>26,829,500.00</td>\n",
       "      <td>26,829,500.00</td>\n",
       "    </tr>\n",
       "    <tr>\n",
       "      <th>15</th>\n",
       "      <td>65,000,000.00</td>\n",
       "      <td>65,000,000.00</td>\n",
       "    </tr>\n",
       "    <tr>\n",
       "      <th>16</th>\n",
       "      <td>28,500,000.00</td>\n",
       "      <td>28,500,000.00</td>\n",
       "    </tr>\n",
       "    <tr>\n",
       "      <th>19</th>\n",
       "      <td>32,250,000.00</td>\n",
       "      <td>32,250,000.00</td>\n",
       "    </tr>\n",
       "  </tbody>\n",
       "</table>\n",
       "</div>"
      ],
      "text/plain": [
       "         last_price              \n",
       "               mean        median\n",
       "rooms                            \n",
       "1      3,834,079.56  3,600,000.00\n",
       "2      5,591,117.47  4,772,669.00\n",
       "3      8,181,797.86  6,200,000.00\n",
       "4     13,431,852.49  9,000,000.00\n",
       "5     23,762,082.09 14,000,000.00\n",
       "6     31,709,751.66 19,000,000.00\n",
       "7     51,470,069.08 24,900,000.00\n",
       "8     50,224,166.67 23,095,000.00\n",
       "9     34,152,362.50 23,750,000.00\n",
       "10    26,166,666.67 23,000,000.00\n",
       "11    25,250,000.00 25,250,000.00\n",
       "14    26,829,500.00 26,829,500.00\n",
       "15    65,000,000.00 65,000,000.00\n",
       "16    28,500,000.00 28,500,000.00\n",
       "19    32,250,000.00 32,250,000.00"
      ]
     },
     "execution_count": 79,
     "metadata": {},
     "output_type": "execute_result"
    }
   ],
   "source": [
    "df_fitred.groupby('rooms').agg({'last_price':['mean','median']})"
   ]
  },
  {
   "cell_type": "markdown",
   "metadata": {},
   "source": [
    "**Вывод**\n",
    "\n",
    "Сильнее всего стоимость зависит от общей площади, жилой площади и площади кухни, в целом от площади желья. Так же влияние оказывают высота потолков и наличие парка и пруда. И видна обратная связь удаления от центра, чем дальше тем дешевле.\n",
    "Так жу на стоимость оказывает расположение квартиры, первый этаж явно не в почете. А вот от месяца стоимость явно не зависит, все же квартиры не сезонный продукт "
   ]
  },
  {
   "cell_type": "markdown",
   "metadata": {},
   "source": [
    "**Для анализа выберим 10 населённых пунктов с наибольшим числом объявлений. Посчитаем среднюю цену квадратного метра в этих населённых пунктах. Выделим населённые пункты с самой высокой и низкой стоимостью жилья. Эти данные найдем по имени в столбце locality_name».**"
   ]
  },
  {
   "cell_type": "code",
   "execution_count": 80,
   "metadata": {},
   "outputs": [
    {
     "data": {
      "text/plain": [
       "санкт-петербург    15610\n",
       "мурино               562\n",
       "кудрово              451\n",
       "шушары               436\n",
       "всеволожск           392\n",
       "пушкин               369\n",
       "колпино              338\n",
       "парголово            323\n",
       "гатчина              307\n",
       "выборг               237\n",
       "Name: locality_name, dtype: int64"
      ]
     },
     "execution_count": 80,
     "metadata": {},
     "output_type": "execute_result"
    }
   ],
   "source": [
    "df_fitred['locality_name'].value_counts().head(10)"
   ]
  },
  {
   "cell_type": "code",
   "execution_count": 81,
   "metadata": {},
   "outputs": [],
   "source": [
    "name = ['санкт-петербург', 'мурино', \n",
    "        'шушары', 'всеволожск', 'пушкин', 'колпино', 'парголово', 'гатчина', 'деревня кудрово', 'выборг']"
   ]
  },
  {
   "cell_type": "code",
   "execution_count": 82,
   "metadata": {},
   "outputs": [],
   "source": [
    "locality_name = df_fitred.loc[df_fitred['locality_name'].isin(name)]\n"
   ]
  },
  {
   "cell_type": "code",
   "execution_count": 83,
   "metadata": {},
   "outputs": [],
   "source": [
    "locality_name = locality_name.groupby('locality_name').agg({'sq_meter' : ['mean','count']})"
   ]
  },
  {
   "cell_type": "code",
   "execution_count": 84,
   "metadata": {},
   "outputs": [],
   "source": [
    "locality_name.columns = ['price_per_meter','count']"
   ]
  },
  {
   "cell_type": "code",
   "execution_count": 85,
   "metadata": {},
   "outputs": [
    {
     "data": {
      "text/html": [
       "<div>\n",
       "<style scoped>\n",
       "    .dataframe tbody tr th:only-of-type {\n",
       "        vertical-align: middle;\n",
       "    }\n",
       "\n",
       "    .dataframe tbody tr th {\n",
       "        vertical-align: top;\n",
       "    }\n",
       "\n",
       "    .dataframe thead th {\n",
       "        text-align: right;\n",
       "    }\n",
       "</style>\n",
       "<table border=\"1\" class=\"dataframe\">\n",
       "  <thead>\n",
       "    <tr style=\"text-align: right;\">\n",
       "      <th></th>\n",
       "      <th>price_per_meter</th>\n",
       "      <th>count</th>\n",
       "    </tr>\n",
       "    <tr>\n",
       "      <th>locality_name</th>\n",
       "      <th></th>\n",
       "      <th></th>\n",
       "    </tr>\n",
       "  </thead>\n",
       "  <tbody>\n",
       "    <tr>\n",
       "      <th>санкт-петербург</th>\n",
       "      <td>114,766.21</td>\n",
       "      <td>15610</td>\n",
       "    </tr>\n",
       "    <tr>\n",
       "      <th>пушкин</th>\n",
       "      <td>103,125.82</td>\n",
       "      <td>369</td>\n",
       "    </tr>\n",
       "    <tr>\n",
       "      <th>парголово</th>\n",
       "      <td>90,289.78</td>\n",
       "      <td>323</td>\n",
       "    </tr>\n",
       "    <tr>\n",
       "      <th>мурино</th>\n",
       "      <td>85,443.04</td>\n",
       "      <td>562</td>\n",
       "    </tr>\n",
       "    <tr>\n",
       "      <th>шушары</th>\n",
       "      <td>78,405.74</td>\n",
       "      <td>436</td>\n",
       "    </tr>\n",
       "    <tr>\n",
       "      <th>колпино</th>\n",
       "      <td>75,424.58</td>\n",
       "      <td>338</td>\n",
       "    </tr>\n",
       "    <tr>\n",
       "      <th>гатчина</th>\n",
       "      <td>68,746.15</td>\n",
       "      <td>307</td>\n",
       "    </tr>\n",
       "    <tr>\n",
       "      <th>всеволожск</th>\n",
       "      <td>68,618.01</td>\n",
       "      <td>392</td>\n",
       "    </tr>\n",
       "    <tr>\n",
       "      <th>выборг</th>\n",
       "      <td>58,141.91</td>\n",
       "      <td>237</td>\n",
       "    </tr>\n",
       "  </tbody>\n",
       "</table>\n",
       "</div>"
      ],
      "text/plain": [
       "                 price_per_meter  count\n",
       "locality_name                          \n",
       "санкт-петербург       114,766.21  15610\n",
       "пушкин                103,125.82    369\n",
       "парголово              90,289.78    323\n",
       "мурино                 85,443.04    562\n",
       "шушары                 78,405.74    436\n",
       "колпино                75,424.58    338\n",
       "гатчина                68,746.15    307\n",
       "всеволожск             68,618.01    392\n",
       "выборг                 58,141.91    237"
      ]
     },
     "execution_count": 85,
     "metadata": {},
     "output_type": "execute_result"
    }
   ],
   "source": [
    "locality_name.sort_values(by='price_per_meter', ascending=False)"
   ]
  },
  {
   "cell_type": "markdown",
   "metadata": {},
   "source": [
    "<div class=\"alert alert-block alert-warning\">\n",
    "<b>⚠️ Remarks:</b> по ТЗ требуется также вывести число объявлений по населенным пунктам"
   ]
  },
  {
   "cell_type": "markdown",
   "metadata": {},
   "source": [
    "<div class=\"alert alert-block alert-info\">\n",
    "<b>💾 Fixed:</b> \n",
    "Исправил, теперь есть количествоо объявлений по населенным пуктам ✔\n",
    "</div>"
   ]
  },
  {
   "cell_type": "markdown",
   "metadata": {},
   "source": [
    "**Вывод**\n",
    "\n",
    "Большее число объявлений находится в Санкт-Петербурге, так же  самой высокой стоимотью обладают квартиры в Санкт-Петербурге, а самой низкой в Выборге"
   ]
  },
  {
   "cell_type": "markdown",
   "metadata": {},
   "source": [
    "**Изучим предложения квартир: для каждой квартиры есть информация о расстоянии до центра.**\n",
    "\n",
    "1. Выделим квартиры в Санкт-Петербурге (locality_name). \n",
    "\n",
    "Наша задача — выяснить, какая область входит в центр. \n",
    "\n",
    "2. Создадим столбец с расстоянием до центра в километрах: округлим до целых значений.\n",
    "\n",
    "3. После этого посчитаем среднюю цену для каждого километра.\n",
    "\n",
    "4. Построим график: который будет показывать, как цена зависит от удалённости от центра. Определим границу, где график сильно меняется — это и будет центральная зона."
   ]
  },
  {
   "cell_type": "code",
   "execution_count": 86,
   "metadata": {},
   "outputs": [],
   "source": [
    "spb = df_fitred[df_fitred['locality_name'] == 'санкт-петербург']"
   ]
  },
  {
   "cell_type": "code",
   "execution_count": 87,
   "metadata": {},
   "outputs": [],
   "source": [
    "spb['cityCenters_nearest'] = spb['cityCenters_nearest'] / 1000"
   ]
  },
  {
   "cell_type": "code",
   "execution_count": 88,
   "metadata": {},
   "outputs": [],
   "source": [
    "spb['cityCenters_nearest'] = spb['cityCenters_nearest'].astype('int')"
   ]
  },
  {
   "cell_type": "code",
   "execution_count": 89,
   "metadata": {},
   "outputs": [],
   "source": [
    "spb['avr_price_km'] = spb['last_price'] / spb['cityCenters_nearest'] "
   ]
  },
  {
   "cell_type": "code",
   "execution_count": 90,
   "metadata": {},
   "outputs": [],
   "source": [
    "#spb.plot(x='cityCenters_nearest', y='avr_price_km', kind='scatter', alpha=0.3, grid=True).set_ylim(0,20000000)"
   ]
  },
  {
   "cell_type": "code",
   "execution_count": 91,
   "metadata": {},
   "outputs": [
    {
     "data": {
      "text/plain": [
       "[(0.0, 20000000.0),\n",
       " Text(0.5, 1.0, 'Зависимость стоимости от расстояния'),\n",
       " Text(0.5, 0, 'Удаленность от центра, Км'),\n",
       " Text(0, 0.5, 'Средняя стоимость километра, млн')]"
      ]
     },
     "execution_count": 91,
     "metadata": {},
     "output_type": "execute_result"
    },
    {
     "data": {
      "image/png": "[encoded data removed]",
      "text/plain": [
       "<Figure size 432x288 with 1 Axes>"
      ]
     },
     "metadata": {
      "needs_background": "light"
     },
     "output_type": "display_data"
    }
   ],
   "source": [
    "sns.scatterplot(x=spb['cityCenters_nearest'], y=spb['avr_price_km'], alpha=0.3).set(ylim=(0, 20000000), title='Зависимость стоимости от расстояния',\n",
    "                                                 xlabel='Удаленность от центра, Км',\n",
    "                                                 ylabel='Средняя стоимость километра, млн')"
   ]
  },
  {
   "cell_type": "markdown",
   "metadata": {},
   "source": [
    "**Вывод**\n",
    "\n",
    "На основании проведенного анализа, можно сказать, что как и ожидалась с удалением от центра цена квадратного метра падает, основной перелом в цене происходит на удалении в 7,5 км. Из этого изменения стоимости можно сказать, что область в 7,5 км входти в центр"
   ]
  },
  {
   "cell_type": "markdown",
   "metadata": {},
   "source": [
    "<div class=\"alert alert-block alert-success\">\n",
    "<b>✔️ Success:</b> согласен с выбранным радиусом"
   ]
  },
  {
   "cell_type": "markdown",
   "metadata": {},
   "source": [
    "**Проведем следующее иследование**\n",
    "\n",
    "Выделим сегмент квартир в центре.\n",
    "\n",
    "Проанализируйте эту территорию и изучите следующие параметры: \n",
    "\n",
    "1. площадь \n",
    "\n",
    "2. цена\n",
    "\n",
    "3. число комнат \n",
    "\n",
    "4. высота потолков \n",
    "\n",
    "Также выделим факторы, которые влияют на стоимость квартиры (число комнат, этаж, удалённость от центра, дата размещения объявления). "
   ]
  },
  {
   "cell_type": "code",
   "execution_count": 92,
   "metadata": {},
   "outputs": [
    {
     "data": {
      "text/html": [
       "<div>\n",
       "<style scoped>\n",
       "    .dataframe tbody tr th:only-of-type {\n",
       "        vertical-align: middle;\n",
       "    }\n",
       "\n",
       "    .dataframe tbody tr th {\n",
       "        vertical-align: top;\n",
       "    }\n",
       "\n",
       "    .dataframe thead th {\n",
       "        text-align: right;\n",
       "    }\n",
       "</style>\n",
       "<table border=\"1\" class=\"dataframe\">\n",
       "  <thead>\n",
       "    <tr style=\"text-align: right;\">\n",
       "      <th></th>\n",
       "      <th>total_images</th>\n",
       "      <th>last_price</th>\n",
       "      <th>total_area</th>\n",
       "      <th>first_day_exposition</th>\n",
       "      <th>rooms</th>\n",
       "      <th>ceiling_height</th>\n",
       "      <th>floors_total</th>\n",
       "      <th>living_area</th>\n",
       "      <th>floor</th>\n",
       "      <th>is_apartment</th>\n",
       "      <th>studio</th>\n",
       "      <th>open_plan</th>\n",
       "      <th>kitchen_area</th>\n",
       "      <th>balcony</th>\n",
       "      <th>locality_name</th>\n",
       "      <th>airports_nearest</th>\n",
       "      <th>cityCenters_nearest</th>\n",
       "      <th>parks_around3000</th>\n",
       "      <th>parks_nearest</th>\n",
       "      <th>ponds_around3000</th>\n",
       "      <th>ponds_nearest</th>\n",
       "      <th>days_exposition</th>\n",
       "      <th>sq_meter</th>\n",
       "      <th>week_day</th>\n",
       "      <th>month</th>\n",
       "      <th>year</th>\n",
       "      <th>floor_status</th>\n",
       "      <th>living_area_ratio</th>\n",
       "      <th>kitchen_area_ratio</th>\n",
       "      <th>avr_price_km</th>\n",
       "    </tr>\n",
       "  </thead>\n",
       "  <tbody>\n",
       "    <tr>\n",
       "      <th>3</th>\n",
       "      <td>0</td>\n",
       "      <td>64,900,000.00</td>\n",
       "      <td>159.00</td>\n",
       "      <td>2015-07-24</td>\n",
       "      <td>3</td>\n",
       "      <td>2.65</td>\n",
       "      <td>14</td>\n",
       "      <td>30.00</td>\n",
       "      <td>9</td>\n",
       "      <td>False</td>\n",
       "      <td>False</td>\n",
       "      <td>False</td>\n",
       "      <td>9.10</td>\n",
       "      <td>0</td>\n",
       "      <td>санкт-петербург</td>\n",
       "      <td>28,098.00</td>\n",
       "      <td>6</td>\n",
       "      <td>2</td>\n",
       "      <td>84.00</td>\n",
       "      <td>3</td>\n",
       "      <td>234.00</td>\n",
       "      <td>424.00</td>\n",
       "      <td>408,176.10</td>\n",
       "      <td>Friday</td>\n",
       "      <td>July</td>\n",
       "      <td>2015</td>\n",
       "      <td>другой</td>\n",
       "      <td>0.19</td>\n",
       "      <td>0.06</td>\n",
       "      <td>10,816,666.67</td>\n",
       "    </tr>\n",
       "    <tr>\n",
       "      <th>24</th>\n",
       "      <td>8</td>\n",
       "      <td>6,500,000.00</td>\n",
       "      <td>97.20</td>\n",
       "      <td>2015-10-31</td>\n",
       "      <td>2</td>\n",
       "      <td>2.65</td>\n",
       "      <td>3</td>\n",
       "      <td>46.50</td>\n",
       "      <td>1</td>\n",
       "      <td>False</td>\n",
       "      <td>False</td>\n",
       "      <td>False</td>\n",
       "      <td>19.60</td>\n",
       "      <td>0</td>\n",
       "      <td>санкт-петербург</td>\n",
       "      <td>20,052.00</td>\n",
       "      <td>2</td>\n",
       "      <td>3</td>\n",
       "      <td>411.00</td>\n",
       "      <td>3</td>\n",
       "      <td>124.00</td>\n",
       "      <td>265.00</td>\n",
       "      <td>66,872.43</td>\n",
       "      <td>Saturday</td>\n",
       "      <td>October</td>\n",
       "      <td>2015</td>\n",
       "      <td>первый</td>\n",
       "      <td>0.48</td>\n",
       "      <td>0.20</td>\n",
       "      <td>3,250,000.00</td>\n",
       "    </tr>\n",
       "    <tr>\n",
       "      <th>35</th>\n",
       "      <td>6</td>\n",
       "      <td>15,500,000.00</td>\n",
       "      <td>149.00</td>\n",
       "      <td>2017-06-26</td>\n",
       "      <td>5</td>\n",
       "      <td>2.65</td>\n",
       "      <td>5</td>\n",
       "      <td>104.00</td>\n",
       "      <td>4</td>\n",
       "      <td>False</td>\n",
       "      <td>False</td>\n",
       "      <td>False</td>\n",
       "      <td>17.00</td>\n",
       "      <td>0</td>\n",
       "      <td>санкт-петербург</td>\n",
       "      <td>23,670.00</td>\n",
       "      <td>3</td>\n",
       "      <td>0</td>\n",
       "      <td>455.00</td>\n",
       "      <td>1</td>\n",
       "      <td>779.00</td>\n",
       "      <td>644.00</td>\n",
       "      <td>104,026.85</td>\n",
       "      <td>Monday</td>\n",
       "      <td>June</td>\n",
       "      <td>2017</td>\n",
       "      <td>другой</td>\n",
       "      <td>0.70</td>\n",
       "      <td>0.11</td>\n",
       "      <td>5,166,666.67</td>\n",
       "    </tr>\n",
       "    <tr>\n",
       "      <th>51</th>\n",
       "      <td>7</td>\n",
       "      <td>45,000,000.00</td>\n",
       "      <td>161.00</td>\n",
       "      <td>2017-10-17</td>\n",
       "      <td>3</td>\n",
       "      <td>3.20</td>\n",
       "      <td>8</td>\n",
       "      <td>38.00</td>\n",
       "      <td>4</td>\n",
       "      <td>False</td>\n",
       "      <td>False</td>\n",
       "      <td>False</td>\n",
       "      <td>50.00</td>\n",
       "      <td>0</td>\n",
       "      <td>санкт-петербург</td>\n",
       "      <td>32,537.00</td>\n",
       "      <td>6</td>\n",
       "      <td>0</td>\n",
       "      <td>455.00</td>\n",
       "      <td>3</td>\n",
       "      <td>99.00</td>\n",
       "      <td>541.00</td>\n",
       "      <td>279,503.11</td>\n",
       "      <td>Tuesday</td>\n",
       "      <td>October</td>\n",
       "      <td>2017</td>\n",
       "      <td>другой</td>\n",
       "      <td>0.24</td>\n",
       "      <td>0.31</td>\n",
       "      <td>7,500,000.00</td>\n",
       "    </tr>\n",
       "    <tr>\n",
       "      <th>52</th>\n",
       "      <td>20</td>\n",
       "      <td>11,795,000.00</td>\n",
       "      <td>136.00</td>\n",
       "      <td>2017-09-22</td>\n",
       "      <td>6</td>\n",
       "      <td>3.00</td>\n",
       "      <td>2</td>\n",
       "      <td>94.00</td>\n",
       "      <td>2</td>\n",
       "      <td>False</td>\n",
       "      <td>False</td>\n",
       "      <td>False</td>\n",
       "      <td>11.00</td>\n",
       "      <td>1</td>\n",
       "      <td>санкт-петербург</td>\n",
       "      <td>16,510.00</td>\n",
       "      <td>6</td>\n",
       "      <td>1</td>\n",
       "      <td>526.00</td>\n",
       "      <td>0</td>\n",
       "      <td>502.00</td>\n",
       "      <td>95.00</td>\n",
       "      <td>86,727.94</td>\n",
       "      <td>Friday</td>\n",
       "      <td>September</td>\n",
       "      <td>2017</td>\n",
       "      <td>последний</td>\n",
       "      <td>0.69</td>\n",
       "      <td>0.08</td>\n",
       "      <td>1,965,833.33</td>\n",
       "    </tr>\n",
       "  </tbody>\n",
       "</table>\n",
       "</div>"
      ],
      "text/plain": [
       "    total_images    last_price  total_area first_day_exposition  rooms  \\\n",
       "3              0 64,900,000.00      159.00           2015-07-24      3   \n",
       "24             8  6,500,000.00       97.20           2015-10-31      2   \n",
       "35             6 15,500,000.00      149.00           2017-06-26      5   \n",
       "51             7 45,000,000.00      161.00           2017-10-17      3   \n",
       "52            20 11,795,000.00      136.00           2017-09-22      6   \n",
       "\n",
       "    ceiling_height  floors_total  living_area  floor  is_apartment  studio  \\\n",
       "3             2.65            14        30.00      9         False   False   \n",
       "24            2.65             3        46.50      1         False   False   \n",
       "35            2.65             5       104.00      4         False   False   \n",
       "51            3.20             8        38.00      4         False   False   \n",
       "52            3.00             2        94.00      2         False   False   \n",
       "\n",
       "    open_plan  kitchen_area  balcony    locality_name  airports_nearest  \\\n",
       "3       False          9.10        0  санкт-петербург         28,098.00   \n",
       "24      False         19.60        0  санкт-петербург         20,052.00   \n",
       "35      False         17.00        0  санкт-петербург         23,670.00   \n",
       "51      False         50.00        0  санкт-петербург         32,537.00   \n",
       "52      False         11.00        1  санкт-петербург         16,510.00   \n",
       "\n",
       "    cityCenters_nearest  parks_around3000  parks_nearest  ponds_around3000  \\\n",
       "3                     6                 2          84.00                 3   \n",
       "24                    2                 3         411.00                 3   \n",
       "35                    3                 0         455.00                 1   \n",
       "51                    6                 0         455.00                 3   \n",
       "52                    6                 1         526.00                 0   \n",
       "\n",
       "    ponds_nearest  days_exposition   sq_meter  week_day      month  year  \\\n",
       "3          234.00           424.00 408,176.10    Friday       July  2015   \n",
       "24         124.00           265.00  66,872.43  Saturday    October  2015   \n",
       "35         779.00           644.00 104,026.85    Monday       June  2017   \n",
       "51          99.00           541.00 279,503.11   Tuesday    October  2017   \n",
       "52         502.00            95.00  86,727.94    Friday  September  2017   \n",
       "\n",
       "   floor_status  living_area_ratio  kitchen_area_ratio  avr_price_km  \n",
       "3        другой               0.19                0.06 10,816,666.67  \n",
       "24       первый               0.48                0.20  3,250,000.00  \n",
       "35       другой               0.70                0.11  5,166,666.67  \n",
       "51       другой               0.24                0.31  7,500,000.00  \n",
       "52    последний               0.69                0.08  1,965,833.33  "
      ]
     },
     "execution_count": 92,
     "metadata": {},
     "output_type": "execute_result"
    }
   ],
   "source": [
    "spb = spb[spb['cityCenters_nearest'] <= 7.5]\n",
    "spb.head()"
   ]
  },
  {
   "cell_type": "code",
   "execution_count": 93,
   "metadata": {},
   "outputs": [
    {
     "data": {
      "text/html": [
       "<div>\n",
       "<style scoped>\n",
       "    .dataframe tbody tr th:only-of-type {\n",
       "        vertical-align: middle;\n",
       "    }\n",
       "\n",
       "    .dataframe tbody tr th {\n",
       "        vertical-align: top;\n",
       "    }\n",
       "\n",
       "    .dataframe thead th {\n",
       "        text-align: right;\n",
       "    }\n",
       "</style>\n",
       "<table border=\"1\" class=\"dataframe\">\n",
       "  <thead>\n",
       "    <tr style=\"text-align: right;\">\n",
       "      <th></th>\n",
       "      <th>total_area</th>\n",
       "      <th>last_price</th>\n",
       "      <th>rooms</th>\n",
       "      <th>ceiling_height</th>\n",
       "      <th>cityCenters_nearest</th>\n",
       "      <th>days_exposition</th>\n",
       "      <th>floor</th>\n",
       "    </tr>\n",
       "  </thead>\n",
       "  <tbody>\n",
       "    <tr>\n",
       "      <th>total_area</th>\n",
       "      <td>1.00</td>\n",
       "      <td>0.61</td>\n",
       "      <td>0.74</td>\n",
       "      <td>0.26</td>\n",
       "      <td>-0.12</td>\n",
       "      <td>0.10</td>\n",
       "      <td>0.08</td>\n",
       "    </tr>\n",
       "    <tr>\n",
       "      <th>last_price</th>\n",
       "      <td>0.61</td>\n",
       "      <td>1.00</td>\n",
       "      <td>0.32</td>\n",
       "      <td>0.13</td>\n",
       "      <td>-0.06</td>\n",
       "      <td>0.05</td>\n",
       "      <td>0.10</td>\n",
       "    </tr>\n",
       "    <tr>\n",
       "      <th>rooms</th>\n",
       "      <td>0.74</td>\n",
       "      <td>0.32</td>\n",
       "      <td>1.00</td>\n",
       "      <td>0.24</td>\n",
       "      <td>-0.18</td>\n",
       "      <td>0.10</td>\n",
       "      <td>-0.05</td>\n",
       "    </tr>\n",
       "    <tr>\n",
       "      <th>ceiling_height</th>\n",
       "      <td>0.26</td>\n",
       "      <td>0.13</td>\n",
       "      <td>0.24</td>\n",
       "      <td>1.00</td>\n",
       "      <td>-0.25</td>\n",
       "      <td>0.06</td>\n",
       "      <td>-0.17</td>\n",
       "    </tr>\n",
       "    <tr>\n",
       "      <th>cityCenters_nearest</th>\n",
       "      <td>-0.12</td>\n",
       "      <td>-0.06</td>\n",
       "      <td>-0.18</td>\n",
       "      <td>-0.25</td>\n",
       "      <td>1.00</td>\n",
       "      <td>-0.05</td>\n",
       "      <td>0.24</td>\n",
       "    </tr>\n",
       "    <tr>\n",
       "      <th>days_exposition</th>\n",
       "      <td>0.10</td>\n",
       "      <td>0.05</td>\n",
       "      <td>0.10</td>\n",
       "      <td>0.06</td>\n",
       "      <td>-0.05</td>\n",
       "      <td>1.00</td>\n",
       "      <td>0.00</td>\n",
       "    </tr>\n",
       "    <tr>\n",
       "      <th>floor</th>\n",
       "      <td>0.08</td>\n",
       "      <td>0.10</td>\n",
       "      <td>-0.05</td>\n",
       "      <td>-0.17</td>\n",
       "      <td>0.24</td>\n",
       "      <td>0.00</td>\n",
       "      <td>1.00</td>\n",
       "    </tr>\n",
       "  </tbody>\n",
       "</table>\n",
       "</div>"
      ],
      "text/plain": [
       "                     total_area  last_price  rooms  ceiling_height  \\\n",
       "total_area                 1.00        0.61   0.74            0.26   \n",
       "last_price                 0.61        1.00   0.32            0.13   \n",
       "rooms                      0.74        0.32   1.00            0.24   \n",
       "ceiling_height             0.26        0.13   0.24            1.00   \n",
       "cityCenters_nearest       -0.12       -0.06  -0.18           -0.25   \n",
       "days_exposition            0.10        0.05   0.10            0.06   \n",
       "floor                      0.08        0.10  -0.05           -0.17   \n",
       "\n",
       "                     cityCenters_nearest  days_exposition  floor  \n",
       "total_area                         -0.12             0.10   0.08  \n",
       "last_price                         -0.06             0.05   0.10  \n",
       "rooms                              -0.18             0.10  -0.05  \n",
       "ceiling_height                     -0.25             0.06  -0.17  \n",
       "cityCenters_nearest                 1.00            -0.05   0.24  \n",
       "days_exposition                    -0.05             1.00   0.00  \n",
       "floor                               0.24             0.00   1.00  "
      ]
     },
     "execution_count": 93,
     "metadata": {},
     "output_type": "execute_result"
    }
   ],
   "source": [
    "spb[['total_area', 'last_price', 'rooms', 'ceiling_height', 'cityCenters_nearest', 'days_exposition', 'floor']].corr()"
   ]
  },
  {
   "cell_type": "code",
   "execution_count": 94,
   "metadata": {},
   "outputs": [
    {
     "data": {
      "text/plain": [
       "count   3,693.00\n",
       "mean       92.29\n",
       "std        58.89\n",
       "min        12.00\n",
       "25%        56.00\n",
       "50%        78.00\n",
       "75%       109.00\n",
       "max       631.20\n",
       "Name: total_area, dtype: float64"
      ]
     },
     "execution_count": 94,
     "metadata": {},
     "output_type": "execute_result"
    }
   ],
   "source": [
    "spb.total_area.describe()"
   ]
  },
  {
   "cell_type": "code",
   "execution_count": 95,
   "metadata": {},
   "outputs": [
    {
     "data": {
      "text/plain": [
       "[Text(0.5, 1.0, 'Распределение количества объявлений по общей площади'),\n",
       " Text(0.5, 0, 'Общая площадьб мюкв'),\n",
       " Text(0, 0.5, 'Количество объявлений, шт')]"
      ]
     },
     "execution_count": 95,
     "metadata": {},
     "output_type": "execute_result"
    },
    {
     "data": {
      "image/png": "[encoded data removed]",
      "text/plain": [
       "<Figure size 432x288 with 1 Axes>"
      ]
     },
     "metadata": {
      "needs_background": "light"
     },
     "output_type": "display_data"
    }
   ],
   "source": [
    "#spb.total_area.hist()\n",
    "sns.histplot(spb, x='total_area', bins=30, color='red').set(title='Распределение количества объявлений по общей площади',\n",
    "                                                 xlabel='Общая площадьб мюкв',\n",
    "                                                 ylabel='Количество объявлений, шт',\n",
    "                                                 )"
   ]
  },
  {
   "cell_type": "code",
   "execution_count": 96,
   "metadata": {},
   "outputs": [
    {
     "data": {
      "text/plain": [
       "count         3,693.00\n",
       "mean     14,649,216.16\n",
       "std      23,824,765.03\n",
       "min       1,600,000.00\n",
       "25%       6,600,000.00\n",
       "50%       9,000,000.00\n",
       "75%      14,200,000.00\n",
       "max     763,000,000.00\n",
       "Name: last_price, dtype: float64"
      ]
     },
     "execution_count": 96,
     "metadata": {},
     "output_type": "execute_result"
    }
   ],
   "source": [
    "spb.last_price.describe()"
   ]
  },
  {
   "cell_type": "code",
   "execution_count": 97,
   "metadata": {},
   "outputs": [
    {
     "data": {
      "text/plain": [
       "count   3,693.00\n",
       "mean        2.82\n",
       "std         1.44\n",
       "min         1.00\n",
       "25%         2.00\n",
       "50%         3.00\n",
       "75%         3.00\n",
       "max        19.00\n",
       "Name: rooms, dtype: float64"
      ]
     },
     "execution_count": 97,
     "metadata": {},
     "output_type": "execute_result"
    }
   ],
   "source": [
    "spb.rooms.describe()"
   ]
  },
  {
   "cell_type": "code",
   "execution_count": 98,
   "metadata": {},
   "outputs": [
    {
     "data": {
      "text/plain": [
       "[(1.0, 10.0),\n",
       " Text(0.5, 1.0, 'Распределение количества объявлений по числу комнат в квартирах'),\n",
       " Text(0.5, 0, 'Количество комнат'),\n",
       " Text(0, 0.5, 'Количество объявлений, шт')]"
      ]
     },
     "execution_count": 98,
     "metadata": {},
     "output_type": "execute_result"
    },
    {
     "data": {
      "image/png": "[encoded data removed]",
      "text/plain": [
       "<Figure size 432x288 with 1 Axes>"
      ]
     },
     "metadata": {
      "needs_background": "light"
     },
     "output_type": "display_data"
    }
   ],
   "source": [
    "#spb.rooms.hist()\n",
    "sns.histplot(spb, x='rooms', bins=40, binwidth=1).set(xlim=(1,10), title='Распределение количества объявлений по числу комнат в квартирах',\n",
    "                                        xlabel='Количество комнат', ylabel='Количество объявлений, шт')"
   ]
  },
  {
   "cell_type": "code",
   "execution_count": 99,
   "metadata": {},
   "outputs": [
    {
     "data": {
      "text/plain": [
       "count   3,693.00\n",
       "mean        2.92\n",
       "std         0.35\n",
       "min         2.00\n",
       "25%         2.65\n",
       "50%         2.80\n",
       "75%         3.10\n",
       "max         4.90\n",
       "Name: ceiling_height, dtype: float64"
      ]
     },
     "execution_count": 99,
     "metadata": {},
     "output_type": "execute_result"
    }
   ],
   "source": [
    "spb.ceiling_height.describe()"
   ]
  },
  {
   "cell_type": "code",
   "execution_count": 100,
   "metadata": {},
   "outputs": [
    {
     "data": {
      "text/plain": [
       "[Text(0.5, 1.0, 'Распределение количества объявлений по высоте потолков в квартире'),\n",
       " Text(0.5, 0, 'Высота потолковб м'),\n",
       " Text(0, 0.5, 'Количество объявлений, шт'),\n",
       " (1.5, 5.0)]"
      ]
     },
     "execution_count": 100,
     "metadata": {},
     "output_type": "execute_result"
    },
    {
     "data": {
      "image/png": "[encoded data removed]",
      "text/plain": [
       "<Figure size 432x288 with 1 Axes>"
      ]
     },
     "metadata": {
      "needs_background": "light"
     },
     "output_type": "display_data"
    }
   ],
   "source": [
    "sns.histplot(spb, x='ceiling_height', bins=30, binwidth=0.5, color='green').set(title='Распределение количества объявлений по высоте потолков в квартире',\n",
    "                                                 xlabel='Высота потолковб м',\n",
    "                                                 ylabel='Количество объявлений, шт',\n",
    "                                                 xlim=(1.5,5))"
   ]
  },
  {
   "cell_type": "markdown",
   "metadata": {},
   "source": [
    "**Вывод**\n",
    "\n",
    "Основными парfметрами влияющеми на стоимость квартир в центре оказалась площадь и количество комнат , которое во вмногом зависит от общей площади. У остальных параметров влияние весьма слабое, наиболее весомым из остальных оказался этаж. Возможно это связано с тем, что первые и последнии этажи не в почете. В целом также можно сказать в целом по всей базе. Слабая взаимосвязь цены с отдельными критериями говорит о частных предпочтениях. Но в целом на стоимость оказывает влияние близасть к центру и общая площадь квартиры.\n"
   ]
  },
  {
   "cell_type": "markdown",
   "metadata": {},
   "source": [
    "## Общие выводы"
   ]
  },
  {
   "cell_type": "markdown",
   "metadata": {},
   "source": [
    "В представленном датесете больше всего объъявлений представленно для Санкт-петербурга 15610 из 23000, что более половиныю, это и понятно, так как данный город значительно крупней областных городов. Болше всего представленно обявлений для 1 - 3 комнатных квартир со средней высотой потолка около 2,5 м. можно сказать это самый ходовой товар. Для объявлений в Питере так же и для других объявлений ситиация складывается похожей.\n",
    "Основными параметрами влияющеми на стоимость квартир оказались площадь и количество комнат , которое во вмногом зависит от общей площади. У остальных параметров влияние весьма слабое, наиболее весомым из остальных оказался этаж. Мы выяснили, что первые этажи не в пачете и квартиры на первых этажах будут стоить дешевле. Тоже можно сказать в целом и по всей базе. Слабая взаимосвязь цены с отдельными критериями говорит о частных предпочтениях. Но в целом на стоимость оказывает влияние близасть к центру и общая площадь квартиры и этаж отличный от первого.\n"
   ]
  },
  {
   "cell_type": "markdown",
   "metadata": {},
   "source": [
    "\n",
    "\n",
    "<div class=\"alert alert-block alert-warning\">\n",
    "<b>⚠️ Remarks:</b>\n",
    "    \n",
    "Работа аналитика - это не только расчеты и графики, это еще и \"написать простыми словами для начальства, что все это значит\". Чем выше по должности стоит получатель твоего отчета - тем меньше у него времени для его изучения. Большая часть сразу мотает в конец на финальный вывод. И читает только его. Вывод должен содержать все обнаруженные инсайды и главное цифры, давай его \"усилим\" :)\n"
   ]
  },
  {
   "cell_type": "markdown",
   "metadata": {},
   "source": [
    "<div class=\"alert alert-block alert-info\">\n",
    "<b>💾 Fixed:</b> \n",
    "Общий вывод дополнил✔\n",
    "</div>"
   ]
  },
  {
   "cell_type": "markdown",
   "metadata": {},
   "source": [
    "## Чек-лист готовности проекта\n",
    "\n",
    "Поставьте 'x' в выполненных пунктах. Далее нажмите Shift+Enter."
   ]
  },
  {
   "cell_type": "markdown",
   "metadata": {},
   "source": [
    "- [x]  открыт файл\n",
    "- [x]  файлы изучены (выведены первые строки, метод `info()`)\n",
    "- [x]  определены пропущенные значения\n",
    "- [x]  заполнены пропущенные значения\n",
    "- [x]  есть пояснение, какие пропущенные значения обнаружены\n",
    "- [x]  изменены типы данных\n",
    "- [x]  есть пояснение, в каких столбцах изменены типы и почему\n",
    "- [x]  посчитано и добавлено в таблицу: цена квадратного метра\n",
    "- [x]  посчитано и добавлено в таблицу: день недели, месяц и год публикации объявления\n",
    "- [x]  посчитано и добавлено в таблицу: этаж квартиры; варианты — первый, последний, другой\n",
    "- [x]  посчитано и добавлено в таблицу: соотношение жилой и общей площади, а также отношение площади кухни к общей\n",
    "- [x]  изучены следующие параметры: площадь, цена, число комнат, высота потолков\n",
    "- [x]  построены гистограммы для каждого параметра\n",
    "- [x]  выполнено задание: «Изучите время продажи квартиры. Постройте гистограмму. Посчитайте среднее и медиану. Опишите, сколько обычно занимает продажа. Когда можно считать, что продажи прошли очень быстро, а когда необычно долго?»\n",
    "- [x]  выполнено задание: «Уберите редкие и выбивающиеся значения. Опишите, какие особенности обнаружили».\n",
    "- [x]  выполнено задание: «Какие факторы больше всего влияют на стоимость квартиры? Изучите, зависит ли цена от квадратного метра, числа комнат, этажа (первого или последнего), удалённости от центра. Также изучите зависимость от даты размещения: дня недели, месяца и года». \n",
    "- [x]  выполнено задание: «Выберите 10 населённых пунктов с наибольшим числом объявлений. Посчитайте среднюю цену квадратного метра в этих населённых пунктах. Выделите населённые пункты с самой высокой и низкой стоимостью жилья. Эти данные можно найти по имени в столбце `locality_name`».\n",
    "- [x]  выполнено задание: «Изучите предложения квартир: для каждой квартиры есть информация о расстоянии до центра. Выделите квартиры в Санкт-Петербурге (`locality_name`). Ваша задача — выяснить, какая область входит в центр. Создайте столбец с расстоянием до центра в километрах: округлите до целых значений. После этого посчитайте среднюю цену для каждого километра. Постройте график: он должен показывать, как цена зависит от удалённости от центра. Определите границу, где график сильно меняется — это и будет центральная зона».\n",
    "- [x]  выполнено задание: «Выделите сегмент квартир в центре. Проанализируйте эту территорию и изучите следующие параметры: площадь, цена, число комнат, высота потолков. Также выделите факторы, которые влияют на стоимость квартиры (число комнат, этаж, удалённость от центра, дата размещения объявления). Сделайте выводы. Отличаются ли они от общих выводов по всей базе?»\n",
    "- [x]  в каждом этапе есть выводы\n",
    "- [x]  есть общий вывод"
   ]
  }
 ],
 "metadata": {
  "ExecuteTimeLog": [
   {
    "duration": 357,
    "start_time": "2022-04-14T07:55:41.178Z"
   },
   {
    "duration": 63,
    "start_time": "2022-04-14T07:56:21.108Z"
   },
   {
    "duration": 12,
    "start_time": "2022-04-14T07:56:34.196Z"
   },
   {
    "duration": 6,
    "start_time": "2022-04-14T07:56:48.631Z"
   },
   {
    "duration": 6,
    "start_time": "2022-04-14T07:57:01.766Z"
   },
   {
    "duration": 76,
    "start_time": "2022-04-14T07:57:29.627Z"
   },
   {
    "duration": 22,
    "start_time": "2022-04-14T07:57:31.884Z"
   },
   {
    "duration": 21,
    "start_time": "2022-04-14T07:57:58.061Z"
   },
   {
    "duration": 15,
    "start_time": "2022-04-14T08:01:57.002Z"
   },
   {
    "duration": 62,
    "start_time": "2022-04-14T08:02:12.153Z"
   },
   {
    "duration": 12,
    "start_time": "2022-04-14T08:21:41.216Z"
   },
   {
    "duration": 36,
    "start_time": "2022-04-14T08:23:49.344Z"
   },
   {
    "duration": 8,
    "start_time": "2022-04-14T08:23:56.757Z"
   },
   {
    "duration": 10,
    "start_time": "2022-04-14T08:24:27.742Z"
   },
   {
    "duration": 9,
    "start_time": "2022-04-14T08:24:44.514Z"
   },
   {
    "duration": 22,
    "start_time": "2022-04-14T08:25:35.543Z"
   },
   {
    "duration": 61,
    "start_time": "2022-04-14T08:25:58.645Z"
   },
   {
    "duration": 9,
    "start_time": "2022-04-14T08:26:03.145Z"
   },
   {
    "duration": 7,
    "start_time": "2022-04-14T08:26:21.430Z"
   },
   {
    "duration": 5,
    "start_time": "2022-04-14T08:26:43.149Z"
   },
   {
    "duration": 10,
    "start_time": "2022-04-14T08:26:56.048Z"
   },
   {
    "duration": 5,
    "start_time": "2022-04-14T08:27:46.107Z"
   },
   {
    "duration": 8,
    "start_time": "2022-04-14T08:27:56.856Z"
   },
   {
    "duration": 4,
    "start_time": "2022-04-14T08:28:07.538Z"
   },
   {
    "duration": 7,
    "start_time": "2022-04-14T08:31:24.110Z"
   },
   {
    "duration": 3,
    "start_time": "2022-04-14T08:31:31.249Z"
   },
   {
    "duration": 16,
    "start_time": "2022-04-14T08:33:01.327Z"
   },
   {
    "duration": 89,
    "start_time": "2022-04-14T08:42:38.623Z"
   },
   {
    "duration": 119,
    "start_time": "2022-04-14T08:43:05.837Z"
   },
   {
    "duration": 127,
    "start_time": "2022-04-14T08:43:14.829Z"
   },
   {
    "duration": 6,
    "start_time": "2022-04-14T08:50:57.374Z"
   },
   {
    "duration": 8,
    "start_time": "2022-04-14T08:51:14.702Z"
   },
   {
    "duration": 8,
    "start_time": "2022-04-14T09:00:03.072Z"
   },
   {
    "duration": 9,
    "start_time": "2022-04-14T09:17:21.784Z"
   },
   {
    "duration": 9,
    "start_time": "2022-04-14T09:17:45.937Z"
   },
   {
    "duration": 8,
    "start_time": "2022-04-14T09:18:39.984Z"
   },
   {
    "duration": 21,
    "start_time": "2022-04-14T09:35:50.031Z"
   },
   {
    "duration": 9,
    "start_time": "2022-04-14T09:38:01.620Z"
   },
   {
    "duration": 8,
    "start_time": "2022-04-14T09:38:17.687Z"
   },
   {
    "duration": 680,
    "start_time": "2022-04-14T09:38:59.460Z"
   },
   {
    "duration": 606,
    "start_time": "2022-04-14T09:40:06.700Z"
   },
   {
    "duration": 7,
    "start_time": "2022-04-14T09:49:16.015Z"
   },
   {
    "duration": 24,
    "start_time": "2022-04-14T09:49:20.206Z"
   },
   {
    "duration": 4,
    "start_time": "2022-04-14T09:49:35.908Z"
   },
   {
    "duration": 5,
    "start_time": "2022-04-14T09:49:42.779Z"
   },
   {
    "duration": 4,
    "start_time": "2022-04-14T09:50:41.348Z"
   },
   {
    "duration": 4,
    "start_time": "2022-04-14T09:51:12.246Z"
   },
   {
    "duration": 412,
    "start_time": "2022-04-14T09:51:22.928Z"
   },
   {
    "duration": 105,
    "start_time": "2022-04-14T09:51:23.342Z"
   },
   {
    "duration": 21,
    "start_time": "2022-04-14T09:51:23.448Z"
   },
   {
    "duration": 13,
    "start_time": "2022-04-14T09:51:23.471Z"
   },
   {
    "duration": 78,
    "start_time": "2022-04-14T09:51:23.485Z"
   },
   {
    "duration": 9,
    "start_time": "2022-04-14T09:51:23.564Z"
   },
   {
    "duration": 10,
    "start_time": "2022-04-14T09:51:23.574Z"
   },
   {
    "duration": 3,
    "start_time": "2022-04-14T09:51:23.586Z"
   },
   {
    "duration": 27,
    "start_time": "2022-04-14T09:51:23.590Z"
   },
   {
    "duration": 31,
    "start_time": "2022-04-14T09:51:23.619Z"
   },
   {
    "duration": 7,
    "start_time": "2022-04-14T09:51:23.652Z"
   },
   {
    "duration": 20,
    "start_time": "2022-04-14T09:51:23.661Z"
   },
   {
    "duration": 58,
    "start_time": "2022-04-14T09:58:41.681Z"
   },
   {
    "duration": 10,
    "start_time": "2022-04-14T09:59:18.212Z"
   },
   {
    "duration": 9,
    "start_time": "2022-04-14T10:00:27.617Z"
   },
   {
    "duration": 6,
    "start_time": "2022-04-14T10:00:59.395Z"
   },
   {
    "duration": 4,
    "start_time": "2022-04-14T10:01:22.477Z"
   },
   {
    "duration": 22,
    "start_time": "2022-04-14T10:01:29.599Z"
   },
   {
    "duration": 19,
    "start_time": "2022-04-14T10:02:22.181Z"
   },
   {
    "duration": 13,
    "start_time": "2022-04-14T10:02:50.059Z"
   },
   {
    "duration": 7,
    "start_time": "2022-04-14T10:02:56.607Z"
   },
   {
    "duration": 22,
    "start_time": "2022-04-14T10:03:15.837Z"
   },
   {
    "duration": 8,
    "start_time": "2022-04-14T10:03:33.221Z"
   },
   {
    "duration": 9,
    "start_time": "2022-04-14T10:03:47.225Z"
   },
   {
    "duration": 12,
    "start_time": "2022-04-14T10:03:53.073Z"
   },
   {
    "duration": 5,
    "start_time": "2022-04-14T10:04:09.988Z"
   },
   {
    "duration": 5,
    "start_time": "2022-04-14T10:04:30.353Z"
   },
   {
    "duration": 22,
    "start_time": "2022-04-14T10:04:50.872Z"
   },
   {
    "duration": 4,
    "start_time": "2022-04-14T10:05:26.983Z"
   },
   {
    "duration": 22,
    "start_time": "2022-04-14T10:05:30.826Z"
   },
   {
    "duration": 5,
    "start_time": "2022-04-14T10:07:31.003Z"
   },
   {
    "duration": 5,
    "start_time": "2022-04-14T10:07:45.996Z"
   },
   {
    "duration": 62,
    "start_time": "2022-04-14T10:12:11.192Z"
   },
   {
    "duration": 13,
    "start_time": "2022-04-14T10:12:20.954Z"
   },
   {
    "duration": 9,
    "start_time": "2022-04-14T10:14:02.832Z"
   },
   {
    "duration": 3,
    "start_time": "2022-04-14T10:14:08.116Z"
   },
   {
    "duration": 6,
    "start_time": "2022-04-14T10:14:35.130Z"
   },
   {
    "duration": 13,
    "start_time": "2022-04-14T10:14:39.651Z"
   },
   {
    "duration": 6,
    "start_time": "2022-04-14T10:18:44.480Z"
   },
   {
    "duration": 33,
    "start_time": "2022-04-14T10:19:24.912Z"
   },
   {
    "duration": 7,
    "start_time": "2022-04-14T10:19:32.602Z"
   },
   {
    "duration": 11,
    "start_time": "2022-04-14T10:20:01.839Z"
   },
   {
    "duration": 12,
    "start_time": "2022-04-14T10:20:12.492Z"
   },
   {
    "duration": 12,
    "start_time": "2022-04-14T10:20:26.106Z"
   },
   {
    "duration": 1337,
    "start_time": "2022-04-14T10:20:45.065Z"
   },
   {
    "duration": 9,
    "start_time": "2022-04-14T10:20:52.970Z"
   },
   {
    "duration": 54,
    "start_time": "2022-04-14T10:21:07.991Z"
   },
   {
    "duration": 7,
    "start_time": "2022-04-14T10:21:33.295Z"
   },
   {
    "duration": 8,
    "start_time": "2022-04-14T10:22:13.156Z"
   },
   {
    "duration": 6,
    "start_time": "2022-04-14T10:22:25.371Z"
   },
   {
    "duration": 4,
    "start_time": "2022-04-14T10:25:50.291Z"
   },
   {
    "duration": 22,
    "start_time": "2022-04-14T10:25:55.160Z"
   },
   {
    "duration": 22,
    "start_time": "2022-04-14T10:25:58.981Z"
   },
   {
    "duration": 3,
    "start_time": "2022-04-14T10:28:33.535Z"
   },
   {
    "duration": 5,
    "start_time": "2022-04-14T10:28:53.109Z"
   },
   {
    "duration": 5,
    "start_time": "2022-04-14T10:29:17.977Z"
   },
   {
    "duration": 21,
    "start_time": "2022-04-14T10:29:29.549Z"
   },
   {
    "duration": 13,
    "start_time": "2022-04-14T10:29:32.179Z"
   },
   {
    "duration": 4,
    "start_time": "2022-04-14T10:35:01.984Z"
   },
   {
    "duration": 5,
    "start_time": "2022-04-14T10:35:35.717Z"
   },
   {
    "duration": 4,
    "start_time": "2022-04-14T10:35:36.437Z"
   },
   {
    "duration": 4,
    "start_time": "2022-04-14T10:45:15.393Z"
   },
   {
    "duration": 5,
    "start_time": "2022-04-14T10:45:16.018Z"
   },
   {
    "duration": 411,
    "start_time": "2022-04-14T10:45:24.928Z"
   },
   {
    "duration": 102,
    "start_time": "2022-04-14T10:45:25.341Z"
   },
   {
    "duration": 22,
    "start_time": "2022-04-14T10:45:25.447Z"
   },
   {
    "duration": 15,
    "start_time": "2022-04-14T10:45:25.472Z"
   },
   {
    "duration": 82,
    "start_time": "2022-04-14T10:45:25.489Z"
   },
   {
    "duration": 9,
    "start_time": "2022-04-14T10:45:25.573Z"
   },
   {
    "duration": 11,
    "start_time": "2022-04-14T10:45:25.584Z"
   },
   {
    "duration": 4,
    "start_time": "2022-04-14T10:45:25.597Z"
   },
   {
    "duration": 49,
    "start_time": "2022-04-14T10:45:25.603Z"
   },
   {
    "duration": 8,
    "start_time": "2022-04-14T10:45:25.654Z"
   },
   {
    "duration": 5,
    "start_time": "2022-04-14T10:45:25.664Z"
   },
   {
    "duration": 5,
    "start_time": "2022-04-14T10:45:25.670Z"
   },
   {
    "duration": 4,
    "start_time": "2022-04-14T10:45:25.676Z"
   },
   {
    "duration": 4,
    "start_time": "2022-04-14T10:45:25.682Z"
   },
   {
    "duration": 4,
    "start_time": "2022-04-14T10:45:25.687Z"
   },
   {
    "duration": 5,
    "start_time": "2022-04-14T10:45:25.692Z"
   },
   {
    "duration": 6,
    "start_time": "2022-04-14T10:45:25.698Z"
   },
   {
    "duration": 42,
    "start_time": "2022-04-14T10:45:25.706Z"
   },
   {
    "duration": 4,
    "start_time": "2022-04-14T10:45:25.750Z"
   },
   {
    "duration": 4,
    "start_time": "2022-04-14T10:45:25.756Z"
   },
   {
    "duration": 5,
    "start_time": "2022-04-14T10:45:25.761Z"
   },
   {
    "duration": 21,
    "start_time": "2022-04-14T10:45:25.768Z"
   },
   {
    "duration": 12,
    "start_time": "2022-04-14T10:45:25.791Z"
   },
   {
    "duration": 5,
    "start_time": "2022-04-14T10:49:06.785Z"
   },
   {
    "duration": 4,
    "start_time": "2022-04-14T10:49:26.169Z"
   },
   {
    "duration": 6,
    "start_time": "2022-04-14T10:51:22.602Z"
   },
   {
    "duration": 6,
    "start_time": "2022-04-14T10:51:41.075Z"
   },
   {
    "duration": 22,
    "start_time": "2022-04-14T10:51:45.515Z"
   },
   {
    "duration": 13,
    "start_time": "2022-04-14T10:51:47.847Z"
   },
   {
    "duration": 5,
    "start_time": "2022-04-14T12:35:55.622Z"
   },
   {
    "duration": 6,
    "start_time": "2022-04-14T12:36:10.869Z"
   },
   {
    "duration": 506,
    "start_time": "2022-04-19T13:29:04.616Z"
   },
   {
    "duration": 154,
    "start_time": "2022-04-19T13:29:05.124Z"
   },
   {
    "duration": 44,
    "start_time": "2022-04-19T13:29:05.281Z"
   },
   {
    "duration": 21,
    "start_time": "2022-04-19T13:29:05.327Z"
   },
   {
    "duration": 127,
    "start_time": "2022-04-19T13:29:05.350Z"
   },
   {
    "duration": 20,
    "start_time": "2022-04-19T13:29:05.486Z"
   },
   {
    "duration": 16,
    "start_time": "2022-04-19T13:29:05.509Z"
   },
   {
    "duration": 5,
    "start_time": "2022-04-19T13:29:05.528Z"
   },
   {
    "duration": 77,
    "start_time": "2022-04-19T13:29:05.535Z"
   },
   {
    "duration": 16,
    "start_time": "2022-04-19T13:29:05.615Z"
   },
   {
    "duration": 15,
    "start_time": "2022-04-19T13:29:05.634Z"
   },
   {
    "duration": 15,
    "start_time": "2022-04-19T13:29:05.651Z"
   },
   {
    "duration": 17,
    "start_time": "2022-04-19T13:29:05.668Z"
   },
   {
    "duration": 36,
    "start_time": "2022-04-19T13:29:05.687Z"
   },
   {
    "duration": 10,
    "start_time": "2022-04-19T13:29:05.726Z"
   },
   {
    "duration": 15,
    "start_time": "2022-04-19T13:29:05.738Z"
   },
   {
    "duration": 14,
    "start_time": "2022-04-19T13:29:05.755Z"
   },
   {
    "duration": 5,
    "start_time": "2022-04-19T13:29:05.772Z"
   },
   {
    "duration": 26,
    "start_time": "2022-04-19T13:29:05.779Z"
   },
   {
    "duration": 12,
    "start_time": "2022-04-19T13:29:05.808Z"
   },
   {
    "duration": 7,
    "start_time": "2022-04-19T13:29:05.822Z"
   },
   {
    "duration": 8,
    "start_time": "2022-04-19T13:29:05.831Z"
   },
   {
    "duration": 6,
    "start_time": "2022-04-19T13:29:05.841Z"
   },
   {
    "duration": 11,
    "start_time": "2022-04-19T13:29:05.850Z"
   },
   {
    "duration": 47,
    "start_time": "2022-04-19T13:29:05.863Z"
   },
   {
    "duration": 7,
    "start_time": "2022-04-19T13:29:05.912Z"
   },
   {
    "duration": 10,
    "start_time": "2022-04-19T13:29:05.921Z"
   },
   {
    "duration": 44,
    "start_time": "2022-04-19T13:29:05.936Z"
   },
   {
    "duration": 24,
    "start_time": "2022-04-19T13:29:05.987Z"
   },
   {
    "duration": 7,
    "start_time": "2022-04-19T13:37:27.544Z"
   },
   {
    "duration": 42,
    "start_time": "2022-04-19T13:37:42.967Z"
   },
   {
    "duration": 25,
    "start_time": "2022-04-19T13:37:44.578Z"
   },
   {
    "duration": 107,
    "start_time": "2022-04-19T13:42:54.115Z"
   },
   {
    "duration": 18,
    "start_time": "2022-04-19T13:43:49.873Z"
   },
   {
    "duration": 17,
    "start_time": "2022-04-19T13:44:58.209Z"
   },
   {
    "duration": 14,
    "start_time": "2022-04-19T13:45:04.251Z"
   },
   {
    "duration": 9,
    "start_time": "2022-04-19T13:45:07.495Z"
   },
   {
    "duration": 4,
    "start_time": "2022-04-19T13:45:21.969Z"
   },
   {
    "duration": 10,
    "start_time": "2022-04-19T13:45:28.695Z"
   },
   {
    "duration": 551,
    "start_time": "2022-04-19T13:45:38.859Z"
   },
   {
    "duration": 154,
    "start_time": "2022-04-19T13:45:39.413Z"
   },
   {
    "duration": 49,
    "start_time": "2022-04-19T13:45:39.569Z"
   },
   {
    "duration": 21,
    "start_time": "2022-04-19T13:45:39.621Z"
   },
   {
    "duration": 128,
    "start_time": "2022-04-19T13:45:39.645Z"
   },
   {
    "duration": 15,
    "start_time": "2022-04-19T13:45:39.783Z"
   },
   {
    "duration": 17,
    "start_time": "2022-04-19T13:45:39.801Z"
   },
   {
    "duration": 5,
    "start_time": "2022-04-19T13:45:39.821Z"
   },
   {
    "duration": 88,
    "start_time": "2022-04-19T13:45:39.829Z"
   },
   {
    "duration": 13,
    "start_time": "2022-04-19T13:45:39.922Z"
   },
   {
    "duration": 10,
    "start_time": "2022-04-19T13:45:39.938Z"
   },
   {
    "duration": 31,
    "start_time": "2022-04-19T13:45:39.951Z"
   },
   {
    "duration": 8,
    "start_time": "2022-04-19T13:45:39.985Z"
   },
   {
    "duration": 13,
    "start_time": "2022-04-19T13:45:39.995Z"
   },
   {
    "duration": 5,
    "start_time": "2022-04-19T13:45:40.010Z"
   },
   {
    "duration": 6,
    "start_time": "2022-04-19T13:45:40.017Z"
   },
   {
    "duration": 9,
    "start_time": "2022-04-19T13:45:40.026Z"
   },
   {
    "duration": 49,
    "start_time": "2022-04-19T13:45:40.037Z"
   },
   {
    "duration": 8,
    "start_time": "2022-04-19T13:45:40.089Z"
   },
   {
    "duration": 7,
    "start_time": "2022-04-19T13:45:40.100Z"
   },
   {
    "duration": 6,
    "start_time": "2022-04-19T13:45:40.110Z"
   },
   {
    "duration": 11,
    "start_time": "2022-04-19T13:45:40.119Z"
   },
   {
    "duration": 12,
    "start_time": "2022-04-19T13:45:40.132Z"
   },
   {
    "duration": 16,
    "start_time": "2022-04-19T13:45:40.147Z"
   },
   {
    "duration": 6,
    "start_time": "2022-04-19T13:45:40.191Z"
   },
   {
    "duration": 8,
    "start_time": "2022-04-19T13:45:40.199Z"
   },
   {
    "duration": 5,
    "start_time": "2022-04-19T13:45:40.209Z"
   },
   {
    "duration": 5,
    "start_time": "2022-04-19T13:45:40.218Z"
   },
   {
    "duration": 19,
    "start_time": "2022-04-19T13:45:40.225Z"
   },
   {
    "duration": 101,
    "start_time": "2022-04-19T13:45:40.246Z"
   },
   {
    "duration": 59,
    "start_time": "2022-04-19T13:45:40.349Z"
   },
   {
    "duration": 20,
    "start_time": "2022-04-19T13:45:40.410Z"
   },
   {
    "duration": 6,
    "start_time": "2022-04-19T13:48:06.796Z"
   },
   {
    "duration": 13,
    "start_time": "2022-04-19T13:48:08.282Z"
   },
   {
    "duration": 19,
    "start_time": "2022-04-19T14:02:13.057Z"
   },
   {
    "duration": 41,
    "start_time": "2022-04-19T14:02:16.554Z"
   },
   {
    "duration": 7,
    "start_time": "2022-04-19T14:05:10.787Z"
   },
   {
    "duration": 41,
    "start_time": "2022-04-19T14:05:12.774Z"
   },
   {
    "duration": 20,
    "start_time": "2022-04-19T14:05:22.913Z"
   },
   {
    "duration": 14,
    "start_time": "2022-04-19T14:05:49.404Z"
   },
   {
    "duration": 6,
    "start_time": "2022-04-19T14:05:59.404Z"
   },
   {
    "duration": 19,
    "start_time": "2022-04-19T14:06:56.196Z"
   },
   {
    "duration": 6,
    "start_time": "2022-04-19T14:07:07.380Z"
   },
   {
    "duration": 14,
    "start_time": "2022-04-19T14:07:09.302Z"
   },
   {
    "duration": 14,
    "start_time": "2022-04-19T14:07:16.488Z"
   },
   {
    "duration": 78,
    "start_time": "2022-04-19T14:07:29.849Z"
   },
   {
    "duration": 40,
    "start_time": "2022-04-19T14:07:51.835Z"
   },
   {
    "duration": 16,
    "start_time": "2022-04-19T14:07:57.300Z"
   },
   {
    "duration": 15,
    "start_time": "2022-04-19T14:07:57.997Z"
   },
   {
    "duration": 20,
    "start_time": "2022-04-19T14:10:02.132Z"
   },
   {
    "duration": 17,
    "start_time": "2022-04-19T14:10:08.074Z"
   },
   {
    "duration": 15,
    "start_time": "2022-04-19T14:10:09.011Z"
   },
   {
    "duration": 21,
    "start_time": "2022-04-19T14:15:19.706Z"
   },
   {
    "duration": 105,
    "start_time": "2022-04-19T14:19:38.624Z"
   },
   {
    "duration": 35,
    "start_time": "2022-04-19T14:19:53.159Z"
   },
   {
    "duration": 6,
    "start_time": "2022-04-19T14:21:49.142Z"
   },
   {
    "duration": 37,
    "start_time": "2022-04-19T14:22:02.943Z"
   },
   {
    "duration": 145,
    "start_time": "2022-04-19T14:26:27.067Z"
   },
   {
    "duration": 135,
    "start_time": "2022-04-19T14:26:45.639Z"
   },
   {
    "duration": 12,
    "start_time": "2022-04-19T14:28:02.302Z"
   },
   {
    "duration": 55,
    "start_time": "2022-04-19T14:28:23.442Z"
   },
   {
    "duration": 38,
    "start_time": "2022-04-19T14:28:28.005Z"
   },
   {
    "duration": 12,
    "start_time": "2022-04-19T14:29:54.632Z"
   },
   {
    "duration": 10,
    "start_time": "2022-04-19T14:30:08.305Z"
   },
   {
    "duration": 7,
    "start_time": "2022-04-19T14:31:01.395Z"
   },
   {
    "duration": 39,
    "start_time": "2022-04-19T14:31:05.337Z"
   },
   {
    "duration": 7,
    "start_time": "2022-04-19T14:32:46.450Z"
   },
   {
    "duration": 38,
    "start_time": "2022-04-19T14:32:49.195Z"
   },
   {
    "duration": 7,
    "start_time": "2022-04-19T14:33:23.444Z"
   },
   {
    "duration": 41,
    "start_time": "2022-04-19T14:33:42.871Z"
   },
   {
    "duration": 8,
    "start_time": "2022-04-19T14:39:19.665Z"
   },
   {
    "duration": 142,
    "start_time": "2022-04-19T14:44:29.977Z"
   },
   {
    "duration": 112,
    "start_time": "2022-04-19T14:45:57.519Z"
   },
   {
    "duration": 5,
    "start_time": "2022-04-19T14:46:03.248Z"
   },
   {
    "duration": 11,
    "start_time": "2022-04-19T14:48:08.328Z"
   },
   {
    "duration": 1881,
    "start_time": "2022-04-19T14:48:21.825Z"
   },
   {
    "duration": 841,
    "start_time": "2022-04-19T14:49:46.115Z"
   },
   {
    "duration": 7,
    "start_time": "2022-04-19T14:50:58.600Z"
   },
   {
    "duration": 542,
    "start_time": "2022-04-19T14:51:37.051Z"
   },
   {
    "duration": 156,
    "start_time": "2022-04-19T14:51:37.596Z"
   },
   {
    "duration": 49,
    "start_time": "2022-04-19T14:51:37.755Z"
   },
   {
    "duration": 21,
    "start_time": "2022-04-19T14:51:37.808Z"
   },
   {
    "duration": 129,
    "start_time": "2022-04-19T14:51:37.832Z"
   },
   {
    "duration": 23,
    "start_time": "2022-04-19T14:51:37.964Z"
   },
   {
    "duration": 22,
    "start_time": "2022-04-19T14:51:37.989Z"
   },
   {
    "duration": 6,
    "start_time": "2022-04-19T14:51:38.013Z"
   },
   {
    "duration": 77,
    "start_time": "2022-04-19T14:51:38.022Z"
   },
   {
    "duration": 14,
    "start_time": "2022-04-19T14:51:38.102Z"
   },
   {
    "duration": 9,
    "start_time": "2022-04-19T14:51:38.117Z"
   },
   {
    "duration": 7,
    "start_time": "2022-04-19T14:51:38.128Z"
   },
   {
    "duration": 5,
    "start_time": "2022-04-19T14:51:38.137Z"
   },
   {
    "duration": 42,
    "start_time": "2022-04-19T14:51:38.144Z"
   },
   {
    "duration": 5,
    "start_time": "2022-04-19T14:51:38.188Z"
   },
   {
    "duration": 11,
    "start_time": "2022-04-19T14:51:38.195Z"
   },
   {
    "duration": 9,
    "start_time": "2022-04-19T14:51:38.208Z"
   },
   {
    "duration": 6,
    "start_time": "2022-04-19T14:51:38.219Z"
   },
   {
    "duration": 7,
    "start_time": "2022-04-19T14:51:38.227Z"
   },
   {
    "duration": 46,
    "start_time": "2022-04-19T14:51:38.236Z"
   },
   {
    "duration": 12,
    "start_time": "2022-04-19T14:51:38.284Z"
   },
   {
    "duration": 9,
    "start_time": "2022-04-19T14:51:38.299Z"
   },
   {
    "duration": 5,
    "start_time": "2022-04-19T14:51:38.311Z"
   },
   {
    "duration": 10,
    "start_time": "2022-04-19T14:51:38.318Z"
   },
   {
    "duration": 5,
    "start_time": "2022-04-19T14:51:38.330Z"
   },
   {
    "duration": 139,
    "start_time": "2022-04-19T14:51:38.338Z"
   },
   {
    "duration": 0,
    "start_time": "2022-04-19T14:51:38.483Z"
   },
   {
    "duration": 0,
    "start_time": "2022-04-19T14:51:38.486Z"
   },
   {
    "duration": 0,
    "start_time": "2022-04-19T14:51:38.488Z"
   },
   {
    "duration": 0,
    "start_time": "2022-04-19T14:51:38.492Z"
   },
   {
    "duration": 0,
    "start_time": "2022-04-19T14:51:38.494Z"
   },
   {
    "duration": 0,
    "start_time": "2022-04-19T14:51:38.496Z"
   },
   {
    "duration": 0,
    "start_time": "2022-04-19T14:51:38.499Z"
   },
   {
    "duration": 0,
    "start_time": "2022-04-19T14:51:38.501Z"
   },
   {
    "duration": 0,
    "start_time": "2022-04-19T14:51:38.502Z"
   },
   {
    "duration": 0,
    "start_time": "2022-04-19T14:51:38.505Z"
   },
   {
    "duration": 0,
    "start_time": "2022-04-19T14:51:38.506Z"
   },
   {
    "duration": 0,
    "start_time": "2022-04-19T14:51:38.508Z"
   },
   {
    "duration": 0,
    "start_time": "2022-04-19T14:51:38.510Z"
   },
   {
    "duration": 0,
    "start_time": "2022-04-19T14:51:38.513Z"
   },
   {
    "duration": 0,
    "start_time": "2022-04-19T14:51:38.516Z"
   },
   {
    "duration": 0,
    "start_time": "2022-04-19T14:51:38.517Z"
   },
   {
    "duration": 0,
    "start_time": "2022-04-19T14:51:38.519Z"
   },
   {
    "duration": 0,
    "start_time": "2022-04-19T14:51:38.521Z"
   },
   {
    "duration": 0,
    "start_time": "2022-04-19T14:51:38.522Z"
   },
   {
    "duration": 0,
    "start_time": "2022-04-19T14:51:38.586Z"
   },
   {
    "duration": 544,
    "start_time": "2022-04-19T14:52:35.379Z"
   },
   {
    "duration": 165,
    "start_time": "2022-04-19T14:52:35.926Z"
   },
   {
    "duration": 38,
    "start_time": "2022-04-19T14:52:36.093Z"
   },
   {
    "duration": 28,
    "start_time": "2022-04-19T14:52:36.134Z"
   },
   {
    "duration": 127,
    "start_time": "2022-04-19T14:52:36.164Z"
   },
   {
    "duration": 13,
    "start_time": "2022-04-19T14:52:36.294Z"
   },
   {
    "duration": 16,
    "start_time": "2022-04-19T14:52:36.309Z"
   },
   {
    "duration": 7,
    "start_time": "2022-04-19T14:52:36.327Z"
   },
   {
    "duration": 83,
    "start_time": "2022-04-19T14:52:36.336Z"
   },
   {
    "duration": 21,
    "start_time": "2022-04-19T14:52:36.423Z"
   },
   {
    "duration": 9,
    "start_time": "2022-04-19T14:52:36.446Z"
   },
   {
    "duration": 8,
    "start_time": "2022-04-19T14:52:36.457Z"
   },
   {
    "duration": 23,
    "start_time": "2022-04-19T14:52:36.467Z"
   },
   {
    "duration": 14,
    "start_time": "2022-04-19T14:52:36.493Z"
   },
   {
    "duration": 5,
    "start_time": "2022-04-19T14:52:36.509Z"
   },
   {
    "duration": 10,
    "start_time": "2022-04-19T14:52:36.516Z"
   },
   {
    "duration": 12,
    "start_time": "2022-04-19T14:52:36.529Z"
   },
   {
    "duration": 7,
    "start_time": "2022-04-19T14:52:36.543Z"
   },
   {
    "duration": 7,
    "start_time": "2022-04-19T14:52:36.552Z"
   },
   {
    "duration": 13,
    "start_time": "2022-04-19T14:52:36.582Z"
   },
   {
    "duration": 11,
    "start_time": "2022-04-19T14:52:36.598Z"
   },
   {
    "duration": 6,
    "start_time": "2022-04-19T14:52:36.611Z"
   },
   {
    "duration": 7,
    "start_time": "2022-04-19T14:52:36.620Z"
   },
   {
    "duration": 8,
    "start_time": "2022-04-19T14:52:36.629Z"
   },
   {
    "duration": 5,
    "start_time": "2022-04-19T14:52:36.640Z"
   },
   {
    "duration": 6,
    "start_time": "2022-04-19T14:52:36.690Z"
   },
   {
    "duration": 20,
    "start_time": "2022-04-19T14:52:36.699Z"
   },
   {
    "duration": 6,
    "start_time": "2022-04-19T14:52:36.724Z"
   },
   {
    "duration": 6,
    "start_time": "2022-04-19T14:52:36.732Z"
   },
   {
    "duration": 18,
    "start_time": "2022-04-19T14:52:36.740Z"
   },
   {
    "duration": 48,
    "start_time": "2022-04-19T14:52:36.760Z"
   },
   {
    "duration": 19,
    "start_time": "2022-04-19T14:52:36.811Z"
   },
   {
    "duration": 20,
    "start_time": "2022-04-19T14:52:36.832Z"
   },
   {
    "duration": 42,
    "start_time": "2022-04-19T14:52:36.854Z"
   },
   {
    "duration": 35,
    "start_time": "2022-04-19T14:52:36.898Z"
   },
   {
    "duration": 20,
    "start_time": "2022-04-19T14:52:36.935Z"
   },
   {
    "duration": 32,
    "start_time": "2022-04-19T14:52:36.957Z"
   },
   {
    "duration": 1116,
    "start_time": "2022-04-19T14:52:36.991Z"
   },
   {
    "duration": 0,
    "start_time": "2022-04-19T14:52:38.109Z"
   },
   {
    "duration": 0,
    "start_time": "2022-04-19T14:52:38.111Z"
   },
   {
    "duration": 0,
    "start_time": "2022-04-19T14:52:38.112Z"
   },
   {
    "duration": 0,
    "start_time": "2022-04-19T14:52:38.114Z"
   },
   {
    "duration": 0,
    "start_time": "2022-04-19T14:52:38.115Z"
   },
   {
    "duration": 0,
    "start_time": "2022-04-19T14:52:38.117Z"
   },
   {
    "duration": 0,
    "start_time": "2022-04-19T14:52:38.118Z"
   },
   {
    "duration": 0,
    "start_time": "2022-04-19T14:52:38.119Z"
   },
   {
    "duration": 13,
    "start_time": "2022-04-19T14:53:51.045Z"
   },
   {
    "duration": 15,
    "start_time": "2022-04-19T14:53:53.684Z"
   },
   {
    "duration": 7,
    "start_time": "2022-04-19T14:53:54.309Z"
   },
   {
    "duration": 8,
    "start_time": "2022-04-19T14:53:54.825Z"
   },
   {
    "duration": 7,
    "start_time": "2022-04-19T14:53:59.547Z"
   },
   {
    "duration": 7,
    "start_time": "2022-04-19T14:54:00.037Z"
   },
   {
    "duration": 6,
    "start_time": "2022-04-19T14:54:01.671Z"
   },
   {
    "duration": 4,
    "start_time": "2022-04-19T14:54:02.595Z"
   },
   {
    "duration": 543,
    "start_time": "2022-04-19T14:54:03.255Z"
   },
   {
    "duration": 40,
    "start_time": "2022-04-19T14:54:58.795Z"
   },
   {
    "duration": 4,
    "start_time": "2022-04-19T14:55:59.416Z"
   },
   {
    "duration": 581,
    "start_time": "2022-04-19T14:56:00.114Z"
   },
   {
    "duration": 5,
    "start_time": "2022-04-19T14:56:58.464Z"
   },
   {
    "duration": 623,
    "start_time": "2022-04-19T14:57:01.971Z"
   },
   {
    "duration": 38,
    "start_time": "2022-04-19T14:57:08.378Z"
   },
   {
    "duration": 5,
    "start_time": "2022-04-19T15:21:40.523Z"
   },
   {
    "duration": 41,
    "start_time": "2022-04-19T15:21:43.357Z"
   },
   {
    "duration": 5,
    "start_time": "2022-04-19T15:23:30.121Z"
   },
   {
    "duration": 45,
    "start_time": "2022-04-19T15:23:32.159Z"
   },
   {
    "duration": 842,
    "start_time": "2022-04-19T15:27:39.611Z"
   },
   {
    "duration": 327,
    "start_time": "2022-04-19T15:28:39.902Z"
   },
   {
    "duration": 230,
    "start_time": "2022-04-19T15:28:49.815Z"
   },
   {
    "duration": 224,
    "start_time": "2022-04-19T15:28:56.628Z"
   },
   {
    "duration": 200,
    "start_time": "2022-04-19T15:29:51.953Z"
   },
   {
    "duration": 226,
    "start_time": "2022-04-19T15:30:15.675Z"
   },
   {
    "duration": 219,
    "start_time": "2022-04-19T15:33:08.311Z"
   },
   {
    "duration": 263,
    "start_time": "2022-04-19T15:33:28.395Z"
   },
   {
    "duration": 227,
    "start_time": "2022-04-19T15:36:25.369Z"
   },
   {
    "duration": 224,
    "start_time": "2022-04-19T15:36:39.200Z"
   },
   {
    "duration": 394,
    "start_time": "2022-04-20T14:22:48.060Z"
   },
   {
    "duration": 105,
    "start_time": "2022-04-20T14:22:48.456Z"
   },
   {
    "duration": 24,
    "start_time": "2022-04-20T14:22:48.562Z"
   },
   {
    "duration": 36,
    "start_time": "2022-04-20T14:22:48.588Z"
   },
   {
    "duration": 69,
    "start_time": "2022-04-20T14:22:48.626Z"
   },
   {
    "duration": 28,
    "start_time": "2022-04-20T14:22:48.696Z"
   },
   {
    "duration": 12,
    "start_time": "2022-04-20T14:22:48.726Z"
   },
   {
    "duration": 4,
    "start_time": "2022-04-20T14:22:48.740Z"
   },
   {
    "duration": 41,
    "start_time": "2022-04-20T14:22:48.746Z"
   },
   {
    "duration": 8,
    "start_time": "2022-04-20T14:22:48.790Z"
   },
   {
    "duration": 14,
    "start_time": "2022-04-20T14:22:48.800Z"
   },
   {
    "duration": 13,
    "start_time": "2022-04-20T14:22:48.815Z"
   },
   {
    "duration": 10,
    "start_time": "2022-04-20T14:22:48.830Z"
   },
   {
    "duration": 8,
    "start_time": "2022-04-20T14:22:48.841Z"
   },
   {
    "duration": 14,
    "start_time": "2022-04-20T14:22:48.850Z"
   },
   {
    "duration": 25,
    "start_time": "2022-04-20T14:22:48.866Z"
   },
   {
    "duration": 22,
    "start_time": "2022-04-20T14:22:48.893Z"
   },
   {
    "duration": 20,
    "start_time": "2022-04-20T14:22:48.917Z"
   },
   {
    "duration": 7,
    "start_time": "2022-04-20T14:22:48.938Z"
   },
   {
    "duration": 17,
    "start_time": "2022-04-20T14:22:48.947Z"
   },
   {
    "duration": 23,
    "start_time": "2022-04-20T14:22:48.966Z"
   },
   {
    "duration": 40,
    "start_time": "2022-04-20T14:22:48.991Z"
   },
   {
    "duration": 9,
    "start_time": "2022-04-20T14:22:49.033Z"
   },
   {
    "duration": 11,
    "start_time": "2022-04-20T14:22:49.044Z"
   },
   {
    "duration": 15,
    "start_time": "2022-04-20T14:22:49.057Z"
   },
   {
    "duration": 12,
    "start_time": "2022-04-20T14:22:49.074Z"
   },
   {
    "duration": 15,
    "start_time": "2022-04-20T14:22:49.087Z"
   },
   {
    "duration": 16,
    "start_time": "2022-04-20T14:22:49.105Z"
   },
   {
    "duration": 22,
    "start_time": "2022-04-20T14:22:49.122Z"
   },
   {
    "duration": 25,
    "start_time": "2022-04-20T14:22:49.145Z"
   },
   {
    "duration": 13,
    "start_time": "2022-04-20T14:22:49.172Z"
   },
   {
    "duration": 20,
    "start_time": "2022-04-20T14:22:49.187Z"
   },
   {
    "duration": 17,
    "start_time": "2022-04-20T14:22:49.209Z"
   },
   {
    "duration": 16,
    "start_time": "2022-04-20T14:22:49.228Z"
   },
   {
    "duration": 25,
    "start_time": "2022-04-20T14:22:49.245Z"
   },
   {
    "duration": 13,
    "start_time": "2022-04-20T14:22:49.272Z"
   },
   {
    "duration": 11,
    "start_time": "2022-04-20T14:22:49.287Z"
   },
   {
    "duration": 29,
    "start_time": "2022-04-20T14:22:49.299Z"
   },
   {
    "duration": 10,
    "start_time": "2022-04-20T14:22:49.330Z"
   },
   {
    "duration": 19,
    "start_time": "2022-04-20T14:22:49.342Z"
   },
   {
    "duration": 14,
    "start_time": "2022-04-20T14:22:49.363Z"
   },
   {
    "duration": 19,
    "start_time": "2022-04-20T14:22:49.379Z"
   },
   {
    "duration": 9,
    "start_time": "2022-04-20T14:22:49.400Z"
   },
   {
    "duration": 381,
    "start_time": "2022-04-20T14:22:49.410Z"
   },
   {
    "duration": 4,
    "start_time": "2022-04-20T14:22:49.792Z"
   },
   {
    "duration": 16,
    "start_time": "2022-04-20T14:22:49.798Z"
   },
   {
    "duration": 550,
    "start_time": "2022-04-20T14:22:49.816Z"
   },
   {
    "duration": 26,
    "start_time": "2022-04-20T14:22:50.367Z"
   },
   {
    "duration": 188,
    "start_time": "2022-04-20T14:23:10.579Z"
   },
   {
    "duration": 126,
    "start_time": "2022-04-20T14:23:22.561Z"
   },
   {
    "duration": 139,
    "start_time": "2022-04-20T14:23:30.404Z"
   },
   {
    "duration": 131,
    "start_time": "2022-04-20T14:25:32.706Z"
   },
   {
    "duration": 124,
    "start_time": "2022-04-20T14:30:23.835Z"
   },
   {
    "duration": 145,
    "start_time": "2022-04-20T14:30:32.620Z"
   },
   {
    "duration": 129,
    "start_time": "2022-04-20T14:30:45.762Z"
   },
   {
    "duration": 128,
    "start_time": "2022-04-20T14:30:53.666Z"
   },
   {
    "duration": 601,
    "start_time": "2022-04-20T14:31:51.581Z"
   },
   {
    "duration": 537,
    "start_time": "2022-04-20T14:32:50.179Z"
   },
   {
    "duration": 21,
    "start_time": "2022-04-20T14:33:25.015Z"
   },
   {
    "duration": 133,
    "start_time": "2022-04-20T14:33:41.011Z"
   },
   {
    "duration": 195,
    "start_time": "2022-04-20T14:34:16.680Z"
   },
   {
    "duration": 221,
    "start_time": "2022-04-20T14:37:27.631Z"
   },
   {
    "duration": 144,
    "start_time": "2022-04-20T14:37:58.791Z"
   },
   {
    "duration": 143,
    "start_time": "2022-04-20T14:38:27.275Z"
   },
   {
    "duration": 151,
    "start_time": "2022-04-20T14:39:07.772Z"
   },
   {
    "duration": 151,
    "start_time": "2022-04-20T14:39:36.731Z"
   },
   {
    "duration": 137,
    "start_time": "2022-04-20T14:39:50.411Z"
   },
   {
    "duration": 127,
    "start_time": "2022-04-20T14:39:57.875Z"
   },
   {
    "duration": 127,
    "start_time": "2022-04-20T14:40:02.698Z"
   },
   {
    "duration": 132,
    "start_time": "2022-04-20T14:40:08.344Z"
   },
   {
    "duration": 127,
    "start_time": "2022-04-20T14:40:45.047Z"
   },
   {
    "duration": 131,
    "start_time": "2022-04-20T14:41:00.441Z"
   },
   {
    "duration": 133,
    "start_time": "2022-04-20T14:41:11.267Z"
   },
   {
    "duration": 124,
    "start_time": "2022-04-20T14:41:48.552Z"
   },
   {
    "duration": 117,
    "start_time": "2022-04-20T14:42:07.912Z"
   },
   {
    "duration": 159,
    "start_time": "2022-04-20T14:42:18.424Z"
   },
   {
    "duration": 249,
    "start_time": "2022-04-20T14:42:26.765Z"
   },
   {
    "duration": 119,
    "start_time": "2022-04-20T14:42:30.816Z"
   },
   {
    "duration": 121,
    "start_time": "2022-04-20T14:42:34.757Z"
   },
   {
    "duration": 141,
    "start_time": "2022-04-20T14:42:39.625Z"
   },
   {
    "duration": 13,
    "start_time": "2022-04-20T14:45:06.546Z"
   },
   {
    "duration": 22,
    "start_time": "2022-04-20T14:45:14.871Z"
   },
   {
    "duration": 422,
    "start_time": "2022-04-20T14:47:48.596Z"
   },
   {
    "duration": 101,
    "start_time": "2022-04-20T14:47:49.020Z"
   },
   {
    "duration": 22,
    "start_time": "2022-04-20T14:47:49.123Z"
   },
   {
    "duration": 17,
    "start_time": "2022-04-20T14:47:49.147Z"
   },
   {
    "duration": 80,
    "start_time": "2022-04-20T14:47:49.165Z"
   },
   {
    "duration": 10,
    "start_time": "2022-04-20T14:47:49.247Z"
   },
   {
    "duration": 10,
    "start_time": "2022-04-20T14:47:49.259Z"
   },
   {
    "duration": 3,
    "start_time": "2022-04-20T14:47:49.271Z"
   },
   {
    "duration": 49,
    "start_time": "2022-04-20T14:47:49.276Z"
   },
   {
    "duration": 9,
    "start_time": "2022-04-20T14:47:49.328Z"
   },
   {
    "duration": 6,
    "start_time": "2022-04-20T14:47:49.339Z"
   },
   {
    "duration": 6,
    "start_time": "2022-04-20T14:47:49.346Z"
   },
   {
    "duration": 6,
    "start_time": "2022-04-20T14:47:49.353Z"
   },
   {
    "duration": 6,
    "start_time": "2022-04-20T14:47:49.360Z"
   },
   {
    "duration": 4,
    "start_time": "2022-04-20T14:47:49.367Z"
   },
   {
    "duration": 7,
    "start_time": "2022-04-20T14:47:49.372Z"
   },
   {
    "duration": 43,
    "start_time": "2022-04-20T14:47:49.381Z"
   },
   {
    "duration": 5,
    "start_time": "2022-04-20T14:47:49.426Z"
   },
   {
    "duration": 9,
    "start_time": "2022-04-20T14:47:49.432Z"
   },
   {
    "duration": 7,
    "start_time": "2022-04-20T14:47:49.442Z"
   },
   {
    "duration": 9,
    "start_time": "2022-04-20T14:47:49.450Z"
   },
   {
    "duration": 4,
    "start_time": "2022-04-20T14:47:49.460Z"
   },
   {
    "duration": 4,
    "start_time": "2022-04-20T14:47:49.466Z"
   },
   {
    "duration": 6,
    "start_time": "2022-04-20T14:47:49.472Z"
   },
   {
    "duration": 5,
    "start_time": "2022-04-20T14:47:49.479Z"
   },
   {
    "duration": 6,
    "start_time": "2022-04-20T14:47:49.486Z"
   },
   {
    "duration": 32,
    "start_time": "2022-04-20T14:47:49.493Z"
   },
   {
    "duration": 5,
    "start_time": "2022-04-20T14:47:49.528Z"
   },
   {
    "duration": 5,
    "start_time": "2022-04-20T14:47:49.534Z"
   },
   {
    "duration": 11,
    "start_time": "2022-04-20T14:47:49.541Z"
   },
   {
    "duration": 12,
    "start_time": "2022-04-20T14:47:49.553Z"
   },
   {
    "duration": 14,
    "start_time": "2022-04-20T14:47:49.566Z"
   },
   {
    "duration": 9,
    "start_time": "2022-04-20T14:47:49.581Z"
   },
   {
    "duration": 38,
    "start_time": "2022-04-20T14:47:49.592Z"
   },
   {
    "duration": 21,
    "start_time": "2022-04-20T14:47:49.632Z"
   },
   {
    "duration": 12,
    "start_time": "2022-04-20T14:47:49.655Z"
   },
   {
    "duration": 3,
    "start_time": "2022-04-20T14:47:49.669Z"
   },
   {
    "duration": 16,
    "start_time": "2022-04-20T14:47:49.674Z"
   },
   {
    "duration": 32,
    "start_time": "2022-04-20T14:47:49.692Z"
   },
   {
    "duration": 12,
    "start_time": "2022-04-20T14:47:49.725Z"
   },
   {
    "duration": 6,
    "start_time": "2022-04-20T14:47:49.738Z"
   },
   {
    "duration": 8,
    "start_time": "2022-04-20T14:47:49.745Z"
   },
   {
    "duration": 3,
    "start_time": "2022-04-20T14:47:49.754Z"
   },
   {
    "duration": 374,
    "start_time": "2022-04-20T14:47:49.759Z"
   },
   {
    "duration": 4,
    "start_time": "2022-04-20T14:47:50.134Z"
   },
   {
    "duration": 6,
    "start_time": "2022-04-20T14:47:50.140Z"
   },
   {
    "duration": 26,
    "start_time": "2022-04-20T14:47:50.147Z"
   },
   {
    "duration": 336,
    "start_time": "2022-04-20T14:47:50.174Z"
   },
   {
    "duration": 179,
    "start_time": "2022-04-20T14:47:50.511Z"
   },
   {
    "duration": 160,
    "start_time": "2022-04-20T14:47:50.692Z"
   },
   {
    "duration": 150,
    "start_time": "2022-04-20T14:47:50.854Z"
   },
   {
    "duration": 30,
    "start_time": "2022-04-20T14:47:51.006Z"
   },
   {
    "duration": 135,
    "start_time": "2022-04-20T14:51:51.000Z"
   },
   {
    "duration": 8,
    "start_time": "2022-04-20T14:52:20.594Z"
   },
   {
    "duration": 142,
    "start_time": "2022-04-20T15:07:10.902Z"
   },
   {
    "duration": 3,
    "start_time": "2022-04-20T15:10:03.790Z"
   },
   {
    "duration": 88,
    "start_time": "2022-04-20T15:10:11.605Z"
   },
   {
    "duration": 16,
    "start_time": "2022-04-20T15:10:49.660Z"
   },
   {
    "duration": 32,
    "start_time": "2022-04-20T15:15:41.012Z"
   },
   {
    "duration": 185,
    "start_time": "2022-04-20T15:16:10.280Z"
   },
   {
    "duration": 197,
    "start_time": "2022-04-20T15:16:25.940Z"
   },
   {
    "duration": 199,
    "start_time": "2022-04-20T15:16:38.763Z"
   },
   {
    "duration": 175,
    "start_time": "2022-04-20T15:17:58.637Z"
   },
   {
    "duration": 75,
    "start_time": "2022-04-20T15:19:30.693Z"
   },
   {
    "duration": 54,
    "start_time": "2022-04-20T16:52:45.920Z"
   },
   {
    "duration": 413,
    "start_time": "2022-04-20T16:52:57.374Z"
   },
   {
    "duration": 114,
    "start_time": "2022-04-20T16:52:57.789Z"
   },
   {
    "duration": 26,
    "start_time": "2022-04-20T16:52:57.905Z"
   },
   {
    "duration": 32,
    "start_time": "2022-04-20T16:52:57.934Z"
   },
   {
    "duration": 63,
    "start_time": "2022-04-20T16:52:57.968Z"
   },
   {
    "duration": 36,
    "start_time": "2022-04-20T16:52:58.032Z"
   },
   {
    "duration": 11,
    "start_time": "2022-04-20T16:52:58.070Z"
   },
   {
    "duration": 3,
    "start_time": "2022-04-20T16:52:58.083Z"
   },
   {
    "duration": 24,
    "start_time": "2022-04-20T16:52:58.088Z"
   },
   {
    "duration": 7,
    "start_time": "2022-04-20T16:52:58.115Z"
   },
   {
    "duration": 34,
    "start_time": "2022-04-20T16:52:58.124Z"
   },
   {
    "duration": 15,
    "start_time": "2022-04-20T16:52:58.160Z"
   },
   {
    "duration": 6,
    "start_time": "2022-04-20T16:52:58.176Z"
   },
   {
    "duration": 5,
    "start_time": "2022-04-20T16:52:58.184Z"
   },
   {
    "duration": 3,
    "start_time": "2022-04-20T16:52:58.191Z"
   },
   {
    "duration": 5,
    "start_time": "2022-04-20T16:52:58.196Z"
   },
   {
    "duration": 6,
    "start_time": "2022-04-20T16:52:58.203Z"
   },
   {
    "duration": 4,
    "start_time": "2022-04-20T16:52:58.210Z"
   },
   {
    "duration": 5,
    "start_time": "2022-04-20T16:52:58.216Z"
   },
   {
    "duration": 32,
    "start_time": "2022-04-20T16:52:58.223Z"
   },
   {
    "duration": 7,
    "start_time": "2022-04-20T16:52:58.257Z"
   },
   {
    "duration": 10,
    "start_time": "2022-04-20T16:52:58.266Z"
   },
   {
    "duration": 6,
    "start_time": "2022-04-20T16:52:58.278Z"
   },
   {
    "duration": 6,
    "start_time": "2022-04-20T16:52:58.285Z"
   },
   {
    "duration": 4,
    "start_time": "2022-04-20T16:52:58.293Z"
   },
   {
    "duration": 7,
    "start_time": "2022-04-20T16:52:58.298Z"
   },
   {
    "duration": 4,
    "start_time": "2022-04-20T16:52:58.306Z"
   },
   {
    "duration": 3,
    "start_time": "2022-04-20T16:52:58.314Z"
   },
   {
    "duration": 36,
    "start_time": "2022-04-20T16:52:58.319Z"
   },
   {
    "duration": 15,
    "start_time": "2022-04-20T16:52:58.358Z"
   },
   {
    "duration": 14,
    "start_time": "2022-04-20T16:52:58.375Z"
   },
   {
    "duration": 14,
    "start_time": "2022-04-20T16:52:58.390Z"
   },
   {
    "duration": 12,
    "start_time": "2022-04-20T16:52:58.406Z"
   },
   {
    "duration": 10,
    "start_time": "2022-04-20T16:52:58.419Z"
   },
   {
    "duration": 29,
    "start_time": "2022-04-20T16:52:58.455Z"
   },
   {
    "duration": 13,
    "start_time": "2022-04-20T16:52:58.486Z"
   },
   {
    "duration": 4,
    "start_time": "2022-04-20T16:52:58.500Z"
   },
   {
    "duration": 8,
    "start_time": "2022-04-20T16:52:58.506Z"
   },
   {
    "duration": 6,
    "start_time": "2022-04-20T16:52:58.516Z"
   },
   {
    "duration": 8,
    "start_time": "2022-04-20T16:52:58.556Z"
   },
   {
    "duration": 14,
    "start_time": "2022-04-20T16:52:58.566Z"
   },
   {
    "duration": 4,
    "start_time": "2022-04-20T16:52:58.582Z"
   },
   {
    "duration": 4,
    "start_time": "2022-04-20T16:52:58.587Z"
   },
   {
    "duration": 397,
    "start_time": "2022-04-20T16:52:58.593Z"
   },
   {
    "duration": 4,
    "start_time": "2022-04-20T16:52:58.992Z"
   },
   {
    "duration": 8,
    "start_time": "2022-04-20T16:52:58.998Z"
   },
   {
    "duration": 28,
    "start_time": "2022-04-20T16:52:59.007Z"
   },
   {
    "duration": 577,
    "start_time": "2022-04-20T16:52:59.037Z"
   },
   {
    "duration": 209,
    "start_time": "2022-04-20T16:52:59.616Z"
   },
   {
    "duration": 181,
    "start_time": "2022-04-20T16:52:59.826Z"
   },
   {
    "duration": 178,
    "start_time": "2022-04-20T16:53:00.008Z"
   },
   {
    "duration": 9,
    "start_time": "2022-04-20T16:53:00.188Z"
   },
   {
    "duration": 170,
    "start_time": "2022-04-20T16:53:00.199Z"
   },
   {
    "duration": 88,
    "start_time": "2022-04-20T16:53:00.370Z"
   },
   {
    "duration": 7,
    "start_time": "2022-04-20T16:53:00.461Z"
   },
   {
    "duration": 33,
    "start_time": "2022-04-20T16:53:00.470Z"
   },
   {
    "duration": 71,
    "start_time": "2022-04-20T16:53:31.979Z"
   },
   {
    "duration": 9,
    "start_time": "2022-04-20T16:53:39.548Z"
   },
   {
    "duration": 7,
    "start_time": "2022-04-20T16:55:06.397Z"
   },
   {
    "duration": 8,
    "start_time": "2022-04-20T16:55:38.826Z"
   },
   {
    "duration": 9,
    "start_time": "2022-04-20T16:56:26.417Z"
   },
   {
    "duration": 7,
    "start_time": "2022-04-20T16:56:35.746Z"
   },
   {
    "duration": 6,
    "start_time": "2022-04-20T16:57:02.099Z"
   },
   {
    "duration": 9,
    "start_time": "2022-04-20T16:57:11.911Z"
   },
   {
    "duration": 8,
    "start_time": "2022-04-20T16:57:23.099Z"
   },
   {
    "duration": 6,
    "start_time": "2022-04-20T16:57:31.808Z"
   },
   {
    "duration": 8,
    "start_time": "2022-04-20T16:57:45.289Z"
   },
   {
    "duration": 23,
    "start_time": "2022-04-20T16:58:31.715Z"
   },
   {
    "duration": 38,
    "start_time": "2022-04-20T16:58:55.001Z"
   },
   {
    "duration": 34,
    "start_time": "2022-04-20T16:59:02.632Z"
   },
   {
    "duration": 30,
    "start_time": "2022-04-20T16:59:10.580Z"
   },
   {
    "duration": 32,
    "start_time": "2022-04-20T16:59:19.827Z"
   },
   {
    "duration": 120,
    "start_time": "2022-04-20T17:03:36.857Z"
   },
   {
    "duration": 32,
    "start_time": "2022-04-20T17:03:46.168Z"
   },
   {
    "duration": 20,
    "start_time": "2022-04-20T17:04:26.017Z"
   },
   {
    "duration": 10,
    "start_time": "2022-04-20T17:05:16.563Z"
   },
   {
    "duration": 11,
    "start_time": "2022-04-20T17:05:52.167Z"
   },
   {
    "duration": 79,
    "start_time": "2022-04-20T17:06:08.744Z"
   },
   {
    "duration": 10,
    "start_time": "2022-04-20T17:10:11.873Z"
   },
   {
    "duration": 100,
    "start_time": "2022-04-20T17:10:30.585Z"
   },
   {
    "duration": 9,
    "start_time": "2022-04-20T17:10:59.079Z"
   },
   {
    "duration": 81,
    "start_time": "2022-04-20T17:11:00.485Z"
   },
   {
    "duration": 76,
    "start_time": "2022-04-20T17:12:55.047Z"
   },
   {
    "duration": 34,
    "start_time": "2022-04-20T17:15:20.021Z"
   },
   {
    "duration": 57,
    "start_time": "2022-04-21T12:49:00.482Z"
   },
   {
    "duration": 452,
    "start_time": "2022-04-21T12:49:59.906Z"
   },
   {
    "duration": 111,
    "start_time": "2022-04-21T12:50:00.360Z"
   },
   {
    "duration": 22,
    "start_time": "2022-04-21T12:50:00.472Z"
   },
   {
    "duration": 27,
    "start_time": "2022-04-21T12:50:00.496Z"
   },
   {
    "duration": 83,
    "start_time": "2022-04-21T12:50:00.525Z"
   },
   {
    "duration": 15,
    "start_time": "2022-04-21T12:50:00.611Z"
   },
   {
    "duration": 11,
    "start_time": "2022-04-21T12:50:00.627Z"
   },
   {
    "duration": 4,
    "start_time": "2022-04-21T12:50:00.640Z"
   },
   {
    "duration": 36,
    "start_time": "2022-04-21T12:50:00.645Z"
   },
   {
    "duration": 15,
    "start_time": "2022-04-21T12:50:00.707Z"
   },
   {
    "duration": 14,
    "start_time": "2022-04-21T12:50:00.724Z"
   },
   {
    "duration": 9,
    "start_time": "2022-04-21T12:50:00.740Z"
   },
   {
    "duration": 7,
    "start_time": "2022-04-21T12:50:00.751Z"
   },
   {
    "duration": 8,
    "start_time": "2022-04-21T12:50:00.760Z"
   },
   {
    "duration": 5,
    "start_time": "2022-04-21T12:50:00.769Z"
   },
   {
    "duration": 16,
    "start_time": "2022-04-21T12:50:00.775Z"
   },
   {
    "duration": 20,
    "start_time": "2022-04-21T12:50:00.793Z"
   },
   {
    "duration": 7,
    "start_time": "2022-04-21T12:50:00.815Z"
   },
   {
    "duration": 15,
    "start_time": "2022-04-21T12:50:00.824Z"
   },
   {
    "duration": 9,
    "start_time": "2022-04-21T12:50:00.840Z"
   },
   {
    "duration": 17,
    "start_time": "2022-04-21T12:50:00.850Z"
   },
   {
    "duration": 11,
    "start_time": "2022-04-21T12:50:00.868Z"
   },
   {
    "duration": 6,
    "start_time": "2022-04-21T12:50:00.881Z"
   },
   {
    "duration": 6,
    "start_time": "2022-04-21T12:50:00.889Z"
   },
   {
    "duration": 5,
    "start_time": "2022-04-21T12:50:00.896Z"
   },
   {
    "duration": 28,
    "start_time": "2022-04-21T12:50:00.902Z"
   },
   {
    "duration": 6,
    "start_time": "2022-04-21T12:50:00.931Z"
   },
   {
    "duration": 7,
    "start_time": "2022-04-21T12:50:00.941Z"
   },
   {
    "duration": 11,
    "start_time": "2022-04-21T12:50:00.950Z"
   },
   {
    "duration": 19,
    "start_time": "2022-04-21T12:50:00.963Z"
   },
   {
    "duration": 17,
    "start_time": "2022-04-21T12:50:00.983Z"
   },
   {
    "duration": 25,
    "start_time": "2022-04-21T12:50:01.001Z"
   },
   {
    "duration": 30,
    "start_time": "2022-04-21T12:50:01.028Z"
   },
   {
    "duration": 27,
    "start_time": "2022-04-21T12:50:01.059Z"
   },
   {
    "duration": 22,
    "start_time": "2022-04-21T12:50:01.088Z"
   },
   {
    "duration": 22,
    "start_time": "2022-04-21T12:50:01.113Z"
   },
   {
    "duration": 8,
    "start_time": "2022-04-21T12:50:01.137Z"
   },
   {
    "duration": 13,
    "start_time": "2022-04-21T12:50:01.147Z"
   },
   {
    "duration": 21,
    "start_time": "2022-04-21T12:50:01.162Z"
   },
   {
    "duration": 17,
    "start_time": "2022-04-21T12:50:01.185Z"
   },
   {
    "duration": 25,
    "start_time": "2022-04-21T12:50:01.204Z"
   },
   {
    "duration": 17,
    "start_time": "2022-04-21T12:50:01.231Z"
   },
   {
    "duration": 14,
    "start_time": "2022-04-21T12:50:01.250Z"
   },
   {
    "duration": 389,
    "start_time": "2022-04-21T12:50:01.266Z"
   },
   {
    "duration": 4,
    "start_time": "2022-04-21T12:50:01.657Z"
   },
   {
    "duration": 11,
    "start_time": "2022-04-21T12:50:01.662Z"
   },
   {
    "duration": 42,
    "start_time": "2022-04-21T12:50:01.675Z"
   },
   {
    "duration": 588,
    "start_time": "2022-04-21T12:50:01.719Z"
   },
   {
    "duration": 233,
    "start_time": "2022-04-21T12:50:02.310Z"
   },
   {
    "duration": 194,
    "start_time": "2022-04-21T12:50:02.545Z"
   },
   {
    "duration": 196,
    "start_time": "2022-04-21T12:50:02.741Z"
   },
   {
    "duration": 8,
    "start_time": "2022-04-21T12:50:02.940Z"
   },
   {
    "duration": 177,
    "start_time": "2022-04-21T12:50:02.950Z"
   },
   {
    "duration": 11,
    "start_time": "2022-04-21T12:50:03.129Z"
   },
   {
    "duration": 112,
    "start_time": "2022-04-21T12:50:03.141Z"
   },
   {
    "duration": 89,
    "start_time": "2022-04-21T12:50:03.254Z"
   },
   {
    "duration": 5,
    "start_time": "2022-04-21T12:50:03.345Z"
   },
   {
    "duration": 3,
    "start_time": "2022-04-21T12:51:52.176Z"
   },
   {
    "duration": 454,
    "start_time": "2022-04-21T12:52:01.183Z"
   },
   {
    "duration": 2,
    "start_time": "2022-04-21T12:52:01.640Z"
   },
   {
    "duration": 118,
    "start_time": "2022-04-21T12:52:01.644Z"
   },
   {
    "duration": 19,
    "start_time": "2022-04-21T12:52:01.764Z"
   },
   {
    "duration": 25,
    "start_time": "2022-04-21T12:52:01.785Z"
   },
   {
    "duration": 69,
    "start_time": "2022-04-21T12:52:01.813Z"
   },
   {
    "duration": 25,
    "start_time": "2022-04-21T12:52:01.884Z"
   },
   {
    "duration": 17,
    "start_time": "2022-04-21T12:52:01.912Z"
   },
   {
    "duration": 7,
    "start_time": "2022-04-21T12:52:01.930Z"
   },
   {
    "duration": 19,
    "start_time": "2022-04-21T12:52:01.940Z"
   },
   {
    "duration": 7,
    "start_time": "2022-04-21T12:52:01.960Z"
   },
   {
    "duration": 7,
    "start_time": "2022-04-21T12:52:01.969Z"
   },
   {
    "duration": 7,
    "start_time": "2022-04-21T12:52:02.009Z"
   },
   {
    "duration": 5,
    "start_time": "2022-04-21T12:52:02.020Z"
   },
   {
    "duration": 9,
    "start_time": "2022-04-21T12:52:02.026Z"
   },
   {
    "duration": 6,
    "start_time": "2022-04-21T12:52:02.037Z"
   },
   {
    "duration": 9,
    "start_time": "2022-04-21T12:52:02.045Z"
   },
   {
    "duration": 10,
    "start_time": "2022-04-21T12:52:02.056Z"
   },
   {
    "duration": 9,
    "start_time": "2022-04-21T12:52:02.068Z"
   },
   {
    "duration": 31,
    "start_time": "2022-04-21T12:52:02.079Z"
   },
   {
    "duration": 6,
    "start_time": "2022-04-21T12:52:02.113Z"
   },
   {
    "duration": 7,
    "start_time": "2022-04-21T12:52:02.122Z"
   },
   {
    "duration": 6,
    "start_time": "2022-04-21T12:52:02.130Z"
   },
   {
    "duration": 9,
    "start_time": "2022-04-21T12:52:02.137Z"
   },
   {
    "duration": 16,
    "start_time": "2022-04-21T12:52:02.148Z"
   },
   {
    "duration": 8,
    "start_time": "2022-04-21T12:52:02.165Z"
   },
   {
    "duration": 15,
    "start_time": "2022-04-21T12:52:02.175Z"
   },
   {
    "duration": 14,
    "start_time": "2022-04-21T12:52:02.194Z"
   },
   {
    "duration": 6,
    "start_time": "2022-04-21T12:52:02.210Z"
   },
   {
    "duration": 6,
    "start_time": "2022-04-21T12:52:02.218Z"
   },
   {
    "duration": 12,
    "start_time": "2022-04-21T12:52:02.225Z"
   },
   {
    "duration": 13,
    "start_time": "2022-04-21T12:52:02.239Z"
   },
   {
    "duration": 13,
    "start_time": "2022-04-21T12:52:02.253Z"
   },
   {
    "duration": 9,
    "start_time": "2022-04-21T12:52:02.267Z"
   },
   {
    "duration": 51,
    "start_time": "2022-04-21T12:52:02.277Z"
   },
   {
    "duration": 23,
    "start_time": "2022-04-21T12:52:02.329Z"
   },
   {
    "duration": 12,
    "start_time": "2022-04-21T12:52:02.353Z"
   },
   {
    "duration": 3,
    "start_time": "2022-04-21T12:52:02.367Z"
   },
   {
    "duration": 36,
    "start_time": "2022-04-21T12:52:02.372Z"
   },
   {
    "duration": 8,
    "start_time": "2022-04-21T12:52:02.410Z"
   },
   {
    "duration": 6,
    "start_time": "2022-04-21T12:52:02.422Z"
   },
   {
    "duration": 4,
    "start_time": "2022-04-21T12:52:02.430Z"
   },
   {
    "duration": 3,
    "start_time": "2022-04-21T12:52:02.436Z"
   },
   {
    "duration": 3,
    "start_time": "2022-04-21T12:52:02.441Z"
   },
   {
    "duration": 412,
    "start_time": "2022-04-21T12:52:02.445Z"
   },
   {
    "duration": 3,
    "start_time": "2022-04-21T12:52:02.859Z"
   },
   {
    "duration": 4,
    "start_time": "2022-04-21T12:52:02.864Z"
   },
   {
    "duration": 24,
    "start_time": "2022-04-21T12:52:02.870Z"
   },
   {
    "duration": 373,
    "start_time": "2022-04-21T12:52:02.908Z"
   },
   {
    "duration": 214,
    "start_time": "2022-04-21T12:52:03.282Z"
   },
   {
    "duration": 198,
    "start_time": "2022-04-21T12:52:03.497Z"
   },
   {
    "duration": 178,
    "start_time": "2022-04-21T12:52:03.697Z"
   },
   {
    "duration": 9,
    "start_time": "2022-04-21T12:52:03.876Z"
   },
   {
    "duration": 172,
    "start_time": "2022-04-21T12:52:03.887Z"
   },
   {
    "duration": 10,
    "start_time": "2022-04-21T12:52:04.061Z"
   },
   {
    "duration": 95,
    "start_time": "2022-04-21T12:52:04.073Z"
   },
   {
    "duration": 90,
    "start_time": "2022-04-21T12:52:04.170Z"
   },
   {
    "duration": 5,
    "start_time": "2022-04-21T12:52:04.261Z"
   },
   {
    "duration": 557,
    "start_time": "2022-04-21T12:55:18.166Z"
   },
   {
    "duration": 21372,
    "start_time": "2022-04-21T12:56:03.537Z"
   },
   {
    "duration": 368,
    "start_time": "2022-04-21T12:56:58.085Z"
   },
   {
    "duration": 16,
    "start_time": "2022-04-21T13:00:03.474Z"
   },
   {
    "duration": 11,
    "start_time": "2022-04-21T13:00:39.991Z"
   },
   {
    "duration": 10,
    "start_time": "2022-04-21T13:01:20.661Z"
   },
   {
    "duration": 11,
    "start_time": "2022-04-21T13:02:14.990Z"
   },
   {
    "duration": 82,
    "start_time": "2022-04-21T13:21:37.594Z"
   },
   {
    "duration": 7,
    "start_time": "2022-04-21T13:21:56.290Z"
   },
   {
    "duration": 855,
    "start_time": "2022-04-21T13:25:34.935Z"
   },
   {
    "duration": 134,
    "start_time": "2022-04-21T13:26:04.513Z"
   },
   {
    "duration": 17,
    "start_time": "2022-04-21T13:26:48.717Z"
   },
   {
    "duration": 23535,
    "start_time": "2022-04-21T13:27:17.012Z"
   },
   {
    "duration": 292,
    "start_time": "2022-04-21T13:27:45.941Z"
   },
   {
    "duration": 9,
    "start_time": "2022-04-21T13:28:58.533Z"
   },
   {
    "duration": 12,
    "start_time": "2022-04-21T13:30:39.904Z"
   },
   {
    "duration": 12,
    "start_time": "2022-04-21T13:31:05.811Z"
   },
   {
    "duration": 11,
    "start_time": "2022-04-21T13:31:21.940Z"
   },
   {
    "duration": 127,
    "start_time": "2022-04-21T14:07:24.771Z"
   },
   {
    "duration": 121,
    "start_time": "2022-04-21T14:07:47.576Z"
   },
   {
    "duration": 117,
    "start_time": "2022-04-21T14:08:40.577Z"
   },
   {
    "duration": 121,
    "start_time": "2022-04-21T14:08:46.419Z"
   },
   {
    "duration": 10,
    "start_time": "2022-04-21T14:11:56.970Z"
   },
   {
    "duration": 392,
    "start_time": "2022-04-21T14:12:29.743Z"
   },
   {
    "duration": 3,
    "start_time": "2022-04-21T14:12:30.137Z"
   },
   {
    "duration": 107,
    "start_time": "2022-04-21T14:12:30.141Z"
   },
   {
    "duration": 18,
    "start_time": "2022-04-21T14:12:30.250Z"
   },
   {
    "duration": 24,
    "start_time": "2022-04-21T14:12:30.269Z"
   },
   {
    "duration": 70,
    "start_time": "2022-04-21T14:12:30.294Z"
   },
   {
    "duration": 9,
    "start_time": "2022-04-21T14:12:30.366Z"
   },
   {
    "duration": 36,
    "start_time": "2022-04-21T14:12:30.376Z"
   },
   {
    "duration": 4,
    "start_time": "2022-04-21T14:12:30.414Z"
   },
   {
    "duration": 29,
    "start_time": "2022-04-21T14:12:30.420Z"
   },
   {
    "duration": 8,
    "start_time": "2022-04-21T14:12:30.450Z"
   },
   {
    "duration": 6,
    "start_time": "2022-04-21T14:12:30.460Z"
   },
   {
    "duration": 8,
    "start_time": "2022-04-21T14:12:30.467Z"
   },
   {
    "duration": 18,
    "start_time": "2022-04-21T14:12:30.476Z"
   },
   {
    "duration": 14,
    "start_time": "2022-04-21T14:12:30.495Z"
   },
   {
    "duration": 19,
    "start_time": "2022-04-21T14:12:30.510Z"
   },
   {
    "duration": 8,
    "start_time": "2022-04-21T14:12:30.531Z"
   },
   {
    "duration": 7,
    "start_time": "2022-04-21T14:12:30.540Z"
   },
   {
    "duration": 5,
    "start_time": "2022-04-21T14:12:30.549Z"
   },
   {
    "duration": 6,
    "start_time": "2022-04-21T14:12:30.556Z"
   },
   {
    "duration": 13,
    "start_time": "2022-04-21T14:12:30.564Z"
   },
   {
    "duration": 16,
    "start_time": "2022-04-21T14:12:30.578Z"
   },
   {
    "duration": 13,
    "start_time": "2022-04-21T14:12:30.596Z"
   },
   {
    "duration": 19,
    "start_time": "2022-04-21T14:12:30.611Z"
   },
   {
    "duration": 8,
    "start_time": "2022-04-21T14:12:30.631Z"
   },
   {
    "duration": 7,
    "start_time": "2022-04-21T14:12:30.641Z"
   },
   {
    "duration": 20,
    "start_time": "2022-04-21T14:12:30.649Z"
   },
   {
    "duration": 5,
    "start_time": "2022-04-21T14:12:30.674Z"
   },
   {
    "duration": 9,
    "start_time": "2022-04-21T14:12:30.681Z"
   },
   {
    "duration": 26,
    "start_time": "2022-04-21T14:12:30.692Z"
   },
   {
    "duration": 20,
    "start_time": "2022-04-21T14:12:30.719Z"
   },
   {
    "duration": 14,
    "start_time": "2022-04-21T14:12:30.740Z"
   },
   {
    "duration": 15,
    "start_time": "2022-04-21T14:12:30.755Z"
   },
   {
    "duration": 17,
    "start_time": "2022-04-21T14:12:30.771Z"
   },
   {
    "duration": 17,
    "start_time": "2022-04-21T14:12:30.790Z"
   },
   {
    "duration": 36,
    "start_time": "2022-04-21T14:12:30.808Z"
   },
   {
    "duration": 13,
    "start_time": "2022-04-21T14:12:30.846Z"
   },
   {
    "duration": 5,
    "start_time": "2022-04-21T14:12:30.861Z"
   },
   {
    "duration": 11,
    "start_time": "2022-04-21T14:12:30.868Z"
   },
   {
    "duration": 6,
    "start_time": "2022-04-21T14:12:30.881Z"
   },
   {
    "duration": 5,
    "start_time": "2022-04-21T14:12:30.889Z"
   },
   {
    "duration": 1643,
    "start_time": "2022-04-21T14:12:30.896Z"
   },
   {
    "duration": 0,
    "start_time": "2022-04-21T14:12:32.540Z"
   },
   {
    "duration": 0,
    "start_time": "2022-04-21T14:12:32.541Z"
   },
   {
    "duration": 0,
    "start_time": "2022-04-21T14:12:32.543Z"
   },
   {
    "duration": 0,
    "start_time": "2022-04-21T14:12:32.544Z"
   },
   {
    "duration": 0,
    "start_time": "2022-04-21T14:12:32.546Z"
   },
   {
    "duration": 0,
    "start_time": "2022-04-21T14:12:32.546Z"
   },
   {
    "duration": 0,
    "start_time": "2022-04-21T14:12:32.547Z"
   },
   {
    "duration": 0,
    "start_time": "2022-04-21T14:12:32.548Z"
   },
   {
    "duration": 0,
    "start_time": "2022-04-21T14:12:32.549Z"
   },
   {
    "duration": 0,
    "start_time": "2022-04-21T14:12:32.550Z"
   },
   {
    "duration": 0,
    "start_time": "2022-04-21T14:12:32.551Z"
   },
   {
    "duration": 0,
    "start_time": "2022-04-21T14:12:32.552Z"
   },
   {
    "duration": 0,
    "start_time": "2022-04-21T14:12:32.553Z"
   },
   {
    "duration": 0,
    "start_time": "2022-04-21T14:12:32.554Z"
   },
   {
    "duration": 0,
    "start_time": "2022-04-21T14:12:32.555Z"
   },
   {
    "duration": 0,
    "start_time": "2022-04-21T14:12:32.555Z"
   },
   {
    "duration": 0,
    "start_time": "2022-04-21T14:12:32.556Z"
   },
   {
    "duration": 1442,
    "start_time": "2022-04-21T14:12:50.717Z"
   },
   {
    "duration": 1599,
    "start_time": "2022-04-21T14:12:57.797Z"
   },
   {
    "duration": 132,
    "start_time": "2022-04-21T14:14:14.724Z"
   },
   {
    "duration": 12,
    "start_time": "2022-04-21T14:14:20.698Z"
   },
   {
    "duration": 12,
    "start_time": "2022-04-21T14:15:17.156Z"
   },
   {
    "duration": 467,
    "start_time": "2022-04-21T14:15:27.480Z"
   },
   {
    "duration": 3,
    "start_time": "2022-04-21T14:15:27.949Z"
   },
   {
    "duration": 115,
    "start_time": "2022-04-21T14:15:27.953Z"
   },
   {
    "duration": 18,
    "start_time": "2022-04-21T14:15:28.070Z"
   },
   {
    "duration": 24,
    "start_time": "2022-04-21T14:15:28.090Z"
   },
   {
    "duration": 67,
    "start_time": "2022-04-21T14:15:28.116Z"
   },
   {
    "duration": 26,
    "start_time": "2022-04-21T14:15:28.185Z"
   },
   {
    "duration": 11,
    "start_time": "2022-04-21T14:15:28.213Z"
   },
   {
    "duration": 24,
    "start_time": "2022-04-21T14:15:28.226Z"
   },
   {
    "duration": 20,
    "start_time": "2022-04-21T14:15:28.253Z"
   },
   {
    "duration": 8,
    "start_time": "2022-04-21T14:15:28.275Z"
   },
   {
    "duration": 22,
    "start_time": "2022-04-21T14:15:28.285Z"
   },
   {
    "duration": 17,
    "start_time": "2022-04-21T14:15:28.309Z"
   },
   {
    "duration": 13,
    "start_time": "2022-04-21T14:15:28.328Z"
   },
   {
    "duration": 16,
    "start_time": "2022-04-21T14:15:28.343Z"
   },
   {
    "duration": 7,
    "start_time": "2022-04-21T14:15:28.361Z"
   },
   {
    "duration": 12,
    "start_time": "2022-04-21T14:15:28.369Z"
   },
   {
    "duration": 14,
    "start_time": "2022-04-21T14:15:28.382Z"
   },
   {
    "duration": 10,
    "start_time": "2022-04-21T14:15:28.397Z"
   },
   {
    "duration": 14,
    "start_time": "2022-04-21T14:15:28.409Z"
   },
   {
    "duration": 9,
    "start_time": "2022-04-21T14:15:28.425Z"
   },
   {
    "duration": 10,
    "start_time": "2022-04-21T14:15:28.435Z"
   },
   {
    "duration": 13,
    "start_time": "2022-04-21T14:15:28.446Z"
   },
   {
    "duration": 13,
    "start_time": "2022-04-21T14:15:28.461Z"
   },
   {
    "duration": 11,
    "start_time": "2022-04-21T14:15:28.476Z"
   },
   {
    "duration": 10,
    "start_time": "2022-04-21T14:15:28.489Z"
   },
   {
    "duration": 10,
    "start_time": "2022-04-21T14:15:28.500Z"
   },
   {
    "duration": 16,
    "start_time": "2022-04-21T14:15:28.513Z"
   },
   {
    "duration": 19,
    "start_time": "2022-04-21T14:15:28.530Z"
   },
   {
    "duration": 22,
    "start_time": "2022-04-21T14:15:28.550Z"
   },
   {
    "duration": 28,
    "start_time": "2022-04-21T14:15:28.574Z"
   },
   {
    "duration": 14,
    "start_time": "2022-04-21T14:15:28.603Z"
   },
   {
    "duration": 30,
    "start_time": "2022-04-21T14:15:28.619Z"
   },
   {
    "duration": 9,
    "start_time": "2022-04-21T14:15:28.650Z"
   },
   {
    "duration": 12,
    "start_time": "2022-04-21T14:15:28.661Z"
   },
   {
    "duration": 40,
    "start_time": "2022-04-21T14:15:28.675Z"
   },
   {
    "duration": 12,
    "start_time": "2022-04-21T14:15:28.717Z"
   },
   {
    "duration": 13,
    "start_time": "2022-04-21T14:15:28.731Z"
   },
   {
    "duration": 26,
    "start_time": "2022-04-21T14:15:28.745Z"
   },
   {
    "duration": 4,
    "start_time": "2022-04-21T14:15:28.773Z"
   },
   {
    "duration": 30,
    "start_time": "2022-04-21T14:15:28.779Z"
   },
   {
    "duration": 24,
    "start_time": "2022-04-21T14:15:28.811Z"
   },
   {
    "duration": 13,
    "start_time": "2022-04-21T14:15:28.837Z"
   },
   {
    "duration": 6,
    "start_time": "2022-04-21T14:15:28.852Z"
   },
   {
    "duration": 7,
    "start_time": "2022-04-21T14:15:28.860Z"
   },
   {
    "duration": 12,
    "start_time": "2022-04-21T14:15:28.868Z"
   },
   {
    "duration": 354,
    "start_time": "2022-04-21T14:15:28.882Z"
   },
   {
    "duration": 4,
    "start_time": "2022-04-21T14:15:29.237Z"
   },
   {
    "duration": 15,
    "start_time": "2022-04-21T14:15:29.243Z"
   },
   {
    "duration": 44,
    "start_time": "2022-04-21T14:15:29.259Z"
   },
   {
    "duration": 364,
    "start_time": "2022-04-21T14:15:29.305Z"
   },
   {
    "duration": 188,
    "start_time": "2022-04-21T14:15:29.671Z"
   },
   {
    "duration": 185,
    "start_time": "2022-04-21T14:15:29.861Z"
   },
   {
    "duration": 169,
    "start_time": "2022-04-21T14:15:30.048Z"
   },
   {
    "duration": 9,
    "start_time": "2022-04-21T14:15:30.219Z"
   },
   {
    "duration": 166,
    "start_time": "2022-04-21T14:15:30.229Z"
   },
   {
    "duration": 16,
    "start_time": "2022-04-21T14:15:30.397Z"
   },
   {
    "duration": 21,
    "start_time": "2022-04-21T14:15:30.415Z"
   },
   {
    "duration": 10,
    "start_time": "2022-04-21T14:15:30.438Z"
   },
   {
    "duration": 142,
    "start_time": "2022-04-21T14:15:30.449Z"
   },
   {
    "duration": 24,
    "start_time": "2022-04-21T14:16:07.484Z"
   },
   {
    "duration": 178,
    "start_time": "2022-04-21T14:20:39.630Z"
   },
   {
    "duration": 148,
    "start_time": "2022-04-21T14:21:23.485Z"
   },
   {
    "duration": 126,
    "start_time": "2022-04-21T14:22:00.586Z"
   },
   {
    "duration": 180,
    "start_time": "2022-04-21T14:23:38.166Z"
   },
   {
    "duration": 162,
    "start_time": "2022-04-21T14:25:26.834Z"
   },
   {
    "duration": 192,
    "start_time": "2022-04-21T14:25:38.324Z"
   },
   {
    "duration": 255,
    "start_time": "2022-04-21T14:26:11.954Z"
   },
   {
    "duration": 35,
    "start_time": "2022-04-21T15:00:55.119Z"
   },
   {
    "duration": 162,
    "start_time": "2022-04-21T15:01:15.365Z"
   },
   {
    "duration": 966,
    "start_time": "2022-04-21T15:01:58.150Z"
   },
   {
    "duration": 16,
    "start_time": "2022-04-21T15:03:03.456Z"
   },
   {
    "duration": 73,
    "start_time": "2022-04-22T11:46:21.080Z"
   },
   {
    "duration": 558,
    "start_time": "2022-04-22T11:46:30.800Z"
   },
   {
    "duration": 4,
    "start_time": "2022-04-22T11:46:31.362Z"
   },
   {
    "duration": 166,
    "start_time": "2022-04-22T11:46:31.369Z"
   },
   {
    "duration": 44,
    "start_time": "2022-04-22T11:46:31.538Z"
   },
   {
    "duration": 31,
    "start_time": "2022-04-22T11:46:31.585Z"
   },
   {
    "duration": 117,
    "start_time": "2022-04-22T11:46:31.619Z"
   },
   {
    "duration": 26,
    "start_time": "2022-04-22T11:46:31.739Z"
   },
   {
    "duration": 24,
    "start_time": "2022-04-22T11:46:31.767Z"
   },
   {
    "duration": 9,
    "start_time": "2022-04-22T11:46:31.793Z"
   },
   {
    "duration": 66,
    "start_time": "2022-04-22T11:46:31.806Z"
   },
   {
    "duration": 21,
    "start_time": "2022-04-22T11:46:31.874Z"
   },
   {
    "duration": 12,
    "start_time": "2022-04-22T11:46:31.897Z"
   },
   {
    "duration": 13,
    "start_time": "2022-04-22T11:46:31.912Z"
   },
   {
    "duration": 7,
    "start_time": "2022-04-22T11:46:31.927Z"
   },
   {
    "duration": 12,
    "start_time": "2022-04-22T11:46:31.952Z"
   },
   {
    "duration": 11,
    "start_time": "2022-04-22T11:46:31.967Z"
   },
   {
    "duration": 19,
    "start_time": "2022-04-22T11:46:31.980Z"
   },
   {
    "duration": 12,
    "start_time": "2022-04-22T11:46:32.001Z"
   },
   {
    "duration": 13,
    "start_time": "2022-04-22T11:46:32.015Z"
   },
   {
    "duration": 17,
    "start_time": "2022-04-22T11:46:32.030Z"
   },
   {
    "duration": 25,
    "start_time": "2022-04-22T11:46:32.049Z"
   },
   {
    "duration": 7,
    "start_time": "2022-04-22T11:46:32.077Z"
   },
   {
    "duration": 19,
    "start_time": "2022-04-22T11:46:32.086Z"
   },
   {
    "duration": 11,
    "start_time": "2022-04-22T11:46:32.108Z"
   },
   {
    "duration": 10,
    "start_time": "2022-04-22T11:46:32.122Z"
   },
   {
    "duration": 20,
    "start_time": "2022-04-22T11:46:32.135Z"
   },
   {
    "duration": 7,
    "start_time": "2022-04-22T11:46:32.158Z"
   },
   {
    "duration": 10,
    "start_time": "2022-04-22T11:46:32.173Z"
   },
   {
    "duration": 9,
    "start_time": "2022-04-22T11:46:32.185Z"
   },
   {
    "duration": 10,
    "start_time": "2022-04-22T11:46:32.196Z"
   },
   {
    "duration": 19,
    "start_time": "2022-04-22T11:46:32.208Z"
   },
   {
    "duration": 39,
    "start_time": "2022-04-22T11:46:32.230Z"
   },
   {
    "duration": 21,
    "start_time": "2022-04-22T11:46:32.272Z"
   },
   {
    "duration": 27,
    "start_time": "2022-04-22T11:46:32.295Z"
   },
   {
    "duration": 42,
    "start_time": "2022-04-22T11:46:32.324Z"
   },
   {
    "duration": 34,
    "start_time": "2022-04-22T11:46:32.368Z"
   },
   {
    "duration": 20,
    "start_time": "2022-04-22T11:46:32.404Z"
   },
   {
    "duration": 5,
    "start_time": "2022-04-22T11:46:32.429Z"
   },
   {
    "duration": 63,
    "start_time": "2022-04-22T11:46:32.472Z"
   },
   {
    "duration": 40,
    "start_time": "2022-04-22T11:46:32.537Z"
   },
   {
    "duration": 12,
    "start_time": "2022-04-22T11:46:32.580Z"
   },
   {
    "duration": 18,
    "start_time": "2022-04-22T11:46:32.595Z"
   },
   {
    "duration": 23,
    "start_time": "2022-04-22T11:46:32.615Z"
   },
   {
    "duration": 11,
    "start_time": "2022-04-22T11:46:32.641Z"
   },
   {
    "duration": 16,
    "start_time": "2022-04-22T11:46:32.655Z"
   },
   {
    "duration": 6,
    "start_time": "2022-04-22T11:46:32.673Z"
   },
   {
    "duration": 612,
    "start_time": "2022-04-22T11:46:32.681Z"
   },
   {
    "duration": 6,
    "start_time": "2022-04-22T11:46:33.295Z"
   },
   {
    "duration": 8,
    "start_time": "2022-04-22T11:46:33.304Z"
   },
   {
    "duration": 59,
    "start_time": "2022-04-22T11:46:33.314Z"
   },
   {
    "duration": 1234,
    "start_time": "2022-04-22T11:46:33.376Z"
   },
   {
    "duration": 313,
    "start_time": "2022-04-22T11:46:34.613Z"
   },
   {
    "duration": 304,
    "start_time": "2022-04-22T11:46:34.929Z"
   },
   {
    "duration": 284,
    "start_time": "2022-04-22T11:46:35.236Z"
   },
   {
    "duration": 13,
    "start_time": "2022-04-22T11:46:35.522Z"
   },
   {
    "duration": 266,
    "start_time": "2022-04-22T11:46:35.555Z"
   },
   {
    "duration": 32,
    "start_time": "2022-04-22T11:46:35.823Z"
   },
   {
    "duration": 30,
    "start_time": "2022-04-22T11:46:35.857Z"
   },
   {
    "duration": 13,
    "start_time": "2022-04-22T11:46:35.889Z"
   },
   {
    "duration": 21196,
    "start_time": "2022-04-22T11:46:35.904Z"
   },
   {
    "duration": 1757,
    "start_time": "2022-04-22T11:48:30.904Z"
   },
   {
    "duration": 28986,
    "start_time": "2022-04-22T11:49:31.795Z"
   },
   {
    "duration": 1819,
    "start_time": "2022-04-22T11:50:29.931Z"
   },
   {
    "duration": 155,
    "start_time": "2022-04-22T11:51:02.514Z"
   },
   {
    "duration": 258,
    "start_time": "2022-04-22T11:52:51.182Z"
   },
   {
    "duration": 485,
    "start_time": "2022-04-22T11:53:08.345Z"
   },
   {
    "duration": 1010,
    "start_time": "2022-04-22T11:53:19.284Z"
   },
   {
    "duration": 22,
    "start_time": "2022-04-22T11:56:20.401Z"
   },
   {
    "duration": 13,
    "start_time": "2022-04-22T11:57:01.079Z"
   },
   {
    "duration": 12,
    "start_time": "2022-04-22T11:57:18.611Z"
   },
   {
    "duration": 21,
    "start_time": "2022-04-22T11:58:19.065Z"
   },
   {
    "duration": 12,
    "start_time": "2022-04-22T11:59:16.741Z"
   },
   {
    "duration": 22,
    "start_time": "2022-04-22T12:01:42.561Z"
   },
   {
    "duration": 21,
    "start_time": "2022-04-22T12:03:00.636Z"
   },
   {
    "duration": 18,
    "start_time": "2022-04-22T12:03:12.165Z"
   },
   {
    "duration": 34,
    "start_time": "2022-04-22T12:04:46.846Z"
   },
   {
    "duration": 23,
    "start_time": "2022-04-22T12:05:16.553Z"
   },
   {
    "duration": 19,
    "start_time": "2022-04-22T12:05:36.724Z"
   },
   {
    "duration": 22,
    "start_time": "2022-04-22T12:06:04.470Z"
   },
   {
    "duration": 23,
    "start_time": "2022-04-22T12:06:15.333Z"
   },
   {
    "duration": 21,
    "start_time": "2022-04-22T12:06:53.470Z"
   },
   {
    "duration": 21,
    "start_time": "2022-04-22T12:07:01.087Z"
   },
   {
    "duration": 20,
    "start_time": "2022-04-22T12:07:11.899Z"
   },
   {
    "duration": 18,
    "start_time": "2022-04-22T12:08:40.895Z"
   },
   {
    "duration": 21,
    "start_time": "2022-04-22T12:08:48.015Z"
   },
   {
    "duration": 20,
    "start_time": "2022-04-22T12:08:55.489Z"
   },
   {
    "duration": 21,
    "start_time": "2022-04-22T12:09:22.066Z"
   },
   {
    "duration": 12,
    "start_time": "2022-04-22T12:11:46.127Z"
   },
   {
    "duration": 5,
    "start_time": "2022-04-22T12:12:21.211Z"
   },
   {
    "duration": 10,
    "start_time": "2022-04-22T12:12:31.767Z"
   },
   {
    "duration": 557,
    "start_time": "2022-04-22T12:12:53.977Z"
   },
   {
    "duration": 11,
    "start_time": "2022-04-22T12:12:54.927Z"
   },
   {
    "duration": 522,
    "start_time": "2022-04-22T12:13:38.451Z"
   },
   {
    "duration": 4,
    "start_time": "2022-04-22T12:13:52.263Z"
   },
   {
    "duration": 9,
    "start_time": "2022-04-22T12:13:54.298Z"
   },
   {
    "duration": 18,
    "start_time": "2022-04-22T12:14:21.327Z"
   },
   {
    "duration": 4,
    "start_time": "2022-04-22T12:14:22.768Z"
   },
   {
    "duration": 12,
    "start_time": "2022-04-22T12:14:23.643Z"
   },
   {
    "duration": 5,
    "start_time": "2022-04-22T12:14:38.381Z"
   },
   {
    "duration": 11,
    "start_time": "2022-04-22T12:14:52.735Z"
   },
   {
    "duration": 4,
    "start_time": "2022-04-22T12:14:56.823Z"
   },
   {
    "duration": 16,
    "start_time": "2022-04-22T12:14:57.905Z"
   },
   {
    "duration": 11,
    "start_time": "2022-04-22T12:15:40.994Z"
   },
   {
    "duration": 24,
    "start_time": "2022-04-22T12:18:20.398Z"
   },
   {
    "duration": 10,
    "start_time": "2022-04-22T12:18:57.881Z"
   },
   {
    "duration": 10,
    "start_time": "2022-04-22T12:19:24.700Z"
   },
   {
    "duration": 11,
    "start_time": "2022-04-22T12:19:43.280Z"
   },
   {
    "duration": 4,
    "start_time": "2022-04-22T12:19:43.792Z"
   },
   {
    "duration": 14,
    "start_time": "2022-04-22T12:19:44.211Z"
   },
   {
    "duration": 13,
    "start_time": "2022-04-22T12:19:50.181Z"
   },
   {
    "duration": 11,
    "start_time": "2022-04-22T12:19:51.488Z"
   },
   {
    "duration": 4,
    "start_time": "2022-04-22T12:19:52.049Z"
   },
   {
    "duration": 607,
    "start_time": "2022-04-22T12:20:03.526Z"
   },
   {
    "duration": 3,
    "start_time": "2022-04-22T12:20:04.136Z"
   },
   {
    "duration": 154,
    "start_time": "2022-04-22T12:20:04.141Z"
   },
   {
    "duration": 27,
    "start_time": "2022-04-22T12:20:04.298Z"
   },
   {
    "duration": 40,
    "start_time": "2022-04-22T12:20:04.327Z"
   },
   {
    "duration": 113,
    "start_time": "2022-04-22T12:20:04.370Z"
   },
   {
    "duration": 13,
    "start_time": "2022-04-22T12:20:04.485Z"
   },
   {
    "duration": 15,
    "start_time": "2022-04-22T12:20:04.500Z"
   },
   {
    "duration": 38,
    "start_time": "2022-04-22T12:20:04.517Z"
   },
   {
    "duration": 33,
    "start_time": "2022-04-22T12:20:04.562Z"
   },
   {
    "duration": 13,
    "start_time": "2022-04-22T12:20:04.597Z"
   },
   {
    "duration": 21,
    "start_time": "2022-04-22T12:20:04.612Z"
   },
   {
    "duration": 23,
    "start_time": "2022-04-22T12:20:04.635Z"
   },
   {
    "duration": 16,
    "start_time": "2022-04-22T12:20:04.662Z"
   },
   {
    "duration": 15,
    "start_time": "2022-04-22T12:20:04.681Z"
   },
   {
    "duration": 4,
    "start_time": "2022-04-22T12:20:04.698Z"
   },
   {
    "duration": 8,
    "start_time": "2022-04-22T12:20:04.704Z"
   },
   {
    "duration": 45,
    "start_time": "2022-04-22T12:20:04.714Z"
   },
   {
    "duration": 8,
    "start_time": "2022-04-22T12:20:04.761Z"
   },
   {
    "duration": 8,
    "start_time": "2022-04-22T12:20:04.771Z"
   },
   {
    "duration": 10,
    "start_time": "2022-04-22T12:20:04.781Z"
   },
   {
    "duration": 8,
    "start_time": "2022-04-22T12:20:04.793Z"
   },
   {
    "duration": 8,
    "start_time": "2022-04-22T12:20:04.804Z"
   },
   {
    "duration": 41,
    "start_time": "2022-04-22T12:20:04.814Z"
   },
   {
    "duration": 7,
    "start_time": "2022-04-22T12:20:04.860Z"
   },
   {
    "duration": 7,
    "start_time": "2022-04-22T12:20:04.870Z"
   },
   {
    "duration": 7,
    "start_time": "2022-04-22T12:20:04.880Z"
   },
   {
    "duration": 12,
    "start_time": "2022-04-22T12:20:04.894Z"
   },
   {
    "duration": 6,
    "start_time": "2022-04-22T12:20:04.908Z"
   },
   {
    "duration": 8,
    "start_time": "2022-04-22T12:20:04.916Z"
   },
   {
    "duration": 41,
    "start_time": "2022-04-22T12:20:04.926Z"
   },
   {
    "duration": 33,
    "start_time": "2022-04-22T12:20:04.970Z"
   },
   {
    "duration": 47,
    "start_time": "2022-04-22T12:20:05.007Z"
   },
   {
    "duration": 18,
    "start_time": "2022-04-22T12:20:05.056Z"
   },
   {
    "duration": 31,
    "start_time": "2022-04-22T12:20:05.077Z"
   },
   {
    "duration": 57,
    "start_time": "2022-04-22T12:20:05.111Z"
   },
   {
    "duration": 20,
    "start_time": "2022-04-22T12:20:05.170Z"
   },
   {
    "duration": 6,
    "start_time": "2022-04-22T12:20:05.192Z"
   },
   {
    "duration": 17,
    "start_time": "2022-04-22T12:20:05.200Z"
   },
   {
    "duration": 32,
    "start_time": "2022-04-22T12:20:05.220Z"
   },
   {
    "duration": 5,
    "start_time": "2022-04-22T12:20:05.255Z"
   },
   {
    "duration": 25,
    "start_time": "2022-04-22T12:20:05.264Z"
   },
   {
    "duration": 17,
    "start_time": "2022-04-22T12:20:05.292Z"
   },
   {
    "duration": 15,
    "start_time": "2022-04-22T12:20:05.311Z"
   },
   {
    "duration": 34,
    "start_time": "2022-04-22T12:20:05.330Z"
   },
   {
    "duration": 23,
    "start_time": "2022-04-22T12:20:05.366Z"
   },
   {
    "duration": 646,
    "start_time": "2022-04-22T12:20:05.392Z"
   },
   {
    "duration": 11,
    "start_time": "2022-04-22T12:20:06.040Z"
   },
   {
    "duration": 15,
    "start_time": "2022-04-22T12:20:06.054Z"
   },
   {
    "duration": 44,
    "start_time": "2022-04-22T12:20:06.071Z"
   },
   {
    "duration": 605,
    "start_time": "2022-04-22T12:20:06.118Z"
   },
   {
    "duration": 259,
    "start_time": "2022-04-22T12:20:06.725Z"
   },
   {
    "duration": 353,
    "start_time": "2022-04-22T12:20:06.986Z"
   },
   {
    "duration": 284,
    "start_time": "2022-04-22T12:20:07.342Z"
   },
   {
    "duration": 26,
    "start_time": "2022-04-22T12:20:07.629Z"
   },
   {
    "duration": 262,
    "start_time": "2022-04-22T12:20:07.658Z"
   },
   {
    "duration": 15,
    "start_time": "2022-04-22T12:20:07.922Z"
   },
   {
    "duration": 34,
    "start_time": "2022-04-22T12:20:07.952Z"
   },
   {
    "duration": 13,
    "start_time": "2022-04-22T12:20:07.989Z"
   },
   {
    "duration": 397,
    "start_time": "2022-04-22T12:20:08.004Z"
   },
   {
    "duration": 12,
    "start_time": "2022-04-22T12:20:08.404Z"
   },
   {
    "duration": 41,
    "start_time": "2022-04-22T12:20:08.419Z"
   },
   {
    "duration": 4,
    "start_time": "2022-04-22T12:20:08.463Z"
   },
   {
    "duration": 15,
    "start_time": "2022-04-22T12:20:08.471Z"
   },
   {
    "duration": 4,
    "start_time": "2022-04-22T12:36:45.564Z"
   },
   {
    "duration": 11,
    "start_time": "2022-04-22T12:36:46.091Z"
   },
   {
    "duration": 4,
    "start_time": "2022-04-22T12:40:35.347Z"
   },
   {
    "duration": 4,
    "start_time": "2022-04-22T12:40:42.058Z"
   },
   {
    "duration": 12,
    "start_time": "2022-04-22T12:41:39.026Z"
   },
   {
    "duration": 40,
    "start_time": "2022-04-22T12:41:59.915Z"
   },
   {
    "duration": 29,
    "start_time": "2022-04-22T12:42:25.648Z"
   },
   {
    "duration": 13,
    "start_time": "2022-04-22T12:43:03.684Z"
   },
   {
    "duration": 13,
    "start_time": "2022-04-22T12:43:44.716Z"
   },
   {
    "duration": 5,
    "start_time": "2022-04-22T12:43:45.401Z"
   },
   {
    "duration": 11,
    "start_time": "2022-04-22T12:43:46.076Z"
   },
   {
    "duration": 10,
    "start_time": "2022-04-22T12:45:56.094Z"
   },
   {
    "duration": 224,
    "start_time": "2022-04-22T12:46:13.978Z"
   },
   {
    "duration": 245,
    "start_time": "2022-04-22T12:46:43.955Z"
   },
   {
    "duration": 344,
    "start_time": "2022-04-22T12:47:14.140Z"
   },
   {
    "duration": 11,
    "start_time": "2022-04-22T12:47:25.693Z"
   },
   {
    "duration": 5,
    "start_time": "2022-04-22T12:53:53.492Z"
   },
   {
    "duration": 374,
    "start_time": "2022-04-22T12:55:01.235Z"
   },
   {
    "duration": 4,
    "start_time": "2022-04-22T12:57:01.848Z"
   },
   {
    "duration": 428,
    "start_time": "2022-04-22T12:57:02.450Z"
   },
   {
    "duration": 363,
    "start_time": "2022-04-22T12:57:19.439Z"
   },
   {
    "duration": 582,
    "start_time": "2022-04-22T12:57:28.334Z"
   },
   {
    "duration": 4,
    "start_time": "2022-04-22T12:57:28.918Z"
   },
   {
    "duration": 209,
    "start_time": "2022-04-22T12:57:28.925Z"
   },
   {
    "duration": 34,
    "start_time": "2022-04-22T12:57:29.138Z"
   },
   {
    "duration": 24,
    "start_time": "2022-04-22T12:57:29.175Z"
   },
   {
    "duration": 125,
    "start_time": "2022-04-22T12:57:29.201Z"
   },
   {
    "duration": 24,
    "start_time": "2022-04-22T12:57:29.328Z"
   },
   {
    "duration": 17,
    "start_time": "2022-04-22T12:57:29.354Z"
   },
   {
    "duration": 6,
    "start_time": "2022-04-22T12:57:29.373Z"
   },
   {
    "duration": 27,
    "start_time": "2022-04-22T12:57:29.383Z"
   },
   {
    "duration": 48,
    "start_time": "2022-04-22T12:57:29.412Z"
   },
   {
    "duration": 9,
    "start_time": "2022-04-22T12:57:29.463Z"
   },
   {
    "duration": 8,
    "start_time": "2022-04-22T12:57:29.474Z"
   },
   {
    "duration": 6,
    "start_time": "2022-04-22T12:57:29.484Z"
   },
   {
    "duration": 10,
    "start_time": "2022-04-22T12:57:29.492Z"
   },
   {
    "duration": 7,
    "start_time": "2022-04-22T12:57:29.504Z"
   },
   {
    "duration": 45,
    "start_time": "2022-04-22T12:57:29.513Z"
   },
   {
    "duration": 9,
    "start_time": "2022-04-22T12:57:29.560Z"
   },
   {
    "duration": 5,
    "start_time": "2022-04-22T12:57:29.571Z"
   },
   {
    "duration": 6,
    "start_time": "2022-04-22T12:57:29.579Z"
   },
   {
    "duration": 8,
    "start_time": "2022-04-22T12:57:29.587Z"
   },
   {
    "duration": 7,
    "start_time": "2022-04-22T12:57:29.597Z"
   },
   {
    "duration": 46,
    "start_time": "2022-04-22T12:57:29.606Z"
   },
   {
    "duration": 6,
    "start_time": "2022-04-22T12:57:29.654Z"
   },
   {
    "duration": 11,
    "start_time": "2022-04-22T12:57:29.662Z"
   },
   {
    "duration": 7,
    "start_time": "2022-04-22T12:57:29.675Z"
   },
   {
    "duration": 6,
    "start_time": "2022-04-22T12:57:29.684Z"
   },
   {
    "duration": 9,
    "start_time": "2022-04-22T12:57:29.696Z"
   },
   {
    "duration": 47,
    "start_time": "2022-04-22T12:57:29.707Z"
   },
   {
    "duration": 7,
    "start_time": "2022-04-22T12:57:29.757Z"
   },
   {
    "duration": 20,
    "start_time": "2022-04-22T12:57:29.766Z"
   },
   {
    "duration": 30,
    "start_time": "2022-04-22T12:57:29.789Z"
   },
   {
    "duration": 57,
    "start_time": "2022-04-22T12:57:29.822Z"
   },
   {
    "duration": 18,
    "start_time": "2022-04-22T12:57:29.882Z"
   },
   {
    "duration": 49,
    "start_time": "2022-04-22T12:57:29.903Z"
   },
   {
    "duration": 59,
    "start_time": "2022-04-22T12:57:29.955Z"
   },
   {
    "duration": 21,
    "start_time": "2022-04-22T12:57:30.016Z"
   },
   {
    "duration": 16,
    "start_time": "2022-04-22T12:57:30.039Z"
   },
   {
    "duration": 17,
    "start_time": "2022-04-22T12:57:30.057Z"
   },
   {
    "duration": 8,
    "start_time": "2022-04-22T12:57:30.076Z"
   },
   {
    "duration": 16,
    "start_time": "2022-04-22T12:57:30.086Z"
   },
   {
    "duration": 35,
    "start_time": "2022-04-22T12:57:30.104Z"
   },
   {
    "duration": 25,
    "start_time": "2022-04-22T12:57:30.141Z"
   },
   {
    "duration": 18,
    "start_time": "2022-04-22T12:57:30.168Z"
   },
   {
    "duration": 8,
    "start_time": "2022-04-22T12:57:30.188Z"
   },
   {
    "duration": 12,
    "start_time": "2022-04-22T12:57:30.198Z"
   },
   {
    "duration": 596,
    "start_time": "2022-04-22T12:57:30.212Z"
   },
   {
    "duration": 6,
    "start_time": "2022-04-22T12:57:30.810Z"
   },
   {
    "duration": 21,
    "start_time": "2022-04-22T12:57:30.818Z"
   },
   {
    "duration": 50,
    "start_time": "2022-04-22T12:57:30.842Z"
   },
   {
    "duration": 570,
    "start_time": "2022-04-22T12:57:30.894Z"
   },
   {
    "duration": 252,
    "start_time": "2022-04-22T12:57:31.467Z"
   },
   {
    "duration": 373,
    "start_time": "2022-04-22T12:57:31.721Z"
   },
   {
    "duration": 279,
    "start_time": "2022-04-22T12:57:32.096Z"
   },
   {
    "duration": 12,
    "start_time": "2022-04-22T12:57:32.377Z"
   },
   {
    "duration": 372,
    "start_time": "2022-04-22T12:57:32.392Z"
   },
   {
    "duration": 20,
    "start_time": "2022-04-22T12:57:32.767Z"
   },
   {
    "duration": 36,
    "start_time": "2022-04-22T12:57:32.789Z"
   },
   {
    "duration": 18,
    "start_time": "2022-04-22T12:57:32.852Z"
   },
   {
    "duration": 567,
    "start_time": "2022-04-22T12:57:32.872Z"
   },
   {
    "duration": 27,
    "start_time": "2022-04-22T12:57:33.441Z"
   },
   {
    "duration": 5,
    "start_time": "2022-04-22T12:57:33.471Z"
   },
   {
    "duration": 19,
    "start_time": "2022-04-22T12:57:33.478Z"
   },
   {
    "duration": 12,
    "start_time": "2022-04-22T12:57:33.500Z"
   },
   {
    "duration": 3,
    "start_time": "2022-04-22T12:57:33.515Z"
   },
   {
    "duration": 10,
    "start_time": "2022-04-22T12:57:33.552Z"
   },
   {
    "duration": 6,
    "start_time": "2022-04-22T12:57:33.565Z"
   },
   {
    "duration": 372,
    "start_time": "2022-04-22T12:57:33.573Z"
   },
   {
    "duration": 1895,
    "start_time": "2022-04-22T12:58:21.213Z"
   },
   {
    "duration": 574,
    "start_time": "2022-04-22T12:58:37.791Z"
   },
   {
    "duration": 425,
    "start_time": "2022-04-22T12:59:33.008Z"
   },
   {
    "duration": 438,
    "start_time": "2022-04-22T13:00:32.771Z"
   },
   {
    "duration": 11,
    "start_time": "2022-04-22T13:00:56.409Z"
   },
   {
    "duration": 5,
    "start_time": "2022-04-22T13:01:11.936Z"
   },
   {
    "duration": 448,
    "start_time": "2022-04-22T13:01:12.644Z"
   },
   {
    "duration": 561,
    "start_time": "2022-04-22T13:02:28.413Z"
   },
   {
    "duration": 3,
    "start_time": "2022-04-22T13:02:28.977Z"
   },
   {
    "duration": 133,
    "start_time": "2022-04-22T13:02:28.982Z"
   },
   {
    "duration": 37,
    "start_time": "2022-04-22T13:02:29.117Z"
   },
   {
    "duration": 21,
    "start_time": "2022-04-22T13:02:29.156Z"
   },
   {
    "duration": 114,
    "start_time": "2022-04-22T13:02:29.179Z"
   },
   {
    "duration": 15,
    "start_time": "2022-04-22T13:02:29.296Z"
   },
   {
    "duration": 41,
    "start_time": "2022-04-22T13:02:29.314Z"
   },
   {
    "duration": 6,
    "start_time": "2022-04-22T13:02:29.357Z"
   },
   {
    "duration": 29,
    "start_time": "2022-04-22T13:02:29.367Z"
   },
   {
    "duration": 14,
    "start_time": "2022-04-22T13:02:29.398Z"
   },
   {
    "duration": 41,
    "start_time": "2022-04-22T13:02:29.414Z"
   },
   {
    "duration": 6,
    "start_time": "2022-04-22T13:02:29.457Z"
   },
   {
    "duration": 10,
    "start_time": "2022-04-22T13:02:29.466Z"
   },
   {
    "duration": 14,
    "start_time": "2022-04-22T13:02:29.477Z"
   },
   {
    "duration": 5,
    "start_time": "2022-04-22T13:02:29.493Z"
   },
   {
    "duration": 8,
    "start_time": "2022-04-22T13:02:29.500Z"
   },
   {
    "duration": 46,
    "start_time": "2022-04-22T13:02:29.510Z"
   },
   {
    "duration": 6,
    "start_time": "2022-04-22T13:02:29.558Z"
   },
   {
    "duration": 12,
    "start_time": "2022-04-22T13:02:29.566Z"
   },
   {
    "duration": 14,
    "start_time": "2022-04-22T13:02:29.580Z"
   },
   {
    "duration": 7,
    "start_time": "2022-04-22T13:02:29.596Z"
   },
   {
    "duration": 8,
    "start_time": "2022-04-22T13:02:29.604Z"
   },
   {
    "duration": 38,
    "start_time": "2022-04-22T13:02:29.614Z"
   },
   {
    "duration": 7,
    "start_time": "2022-04-22T13:02:29.654Z"
   },
   {
    "duration": 14,
    "start_time": "2022-04-22T13:02:29.663Z"
   },
   {
    "duration": 9,
    "start_time": "2022-04-22T13:02:29.679Z"
   },
   {
    "duration": 5,
    "start_time": "2022-04-22T13:02:29.695Z"
   },
   {
    "duration": 8,
    "start_time": "2022-04-22T13:02:29.702Z"
   },
   {
    "duration": 40,
    "start_time": "2022-04-22T13:02:29.712Z"
   },
   {
    "duration": 16,
    "start_time": "2022-04-22T13:02:29.754Z"
   },
   {
    "duration": 20,
    "start_time": "2022-04-22T13:02:29.772Z"
   },
   {
    "duration": 18,
    "start_time": "2022-04-22T13:02:29.794Z"
   },
   {
    "duration": 44,
    "start_time": "2022-04-22T13:02:29.814Z"
   },
   {
    "duration": 17,
    "start_time": "2022-04-22T13:02:29.861Z"
   },
   {
    "duration": 71,
    "start_time": "2022-04-22T13:02:29.881Z"
   },
   {
    "duration": 19,
    "start_time": "2022-04-22T13:02:29.954Z"
   },
   {
    "duration": 5,
    "start_time": "2022-04-22T13:02:29.975Z"
   },
   {
    "duration": 13,
    "start_time": "2022-04-22T13:02:29.982Z"
   },
   {
    "duration": 8,
    "start_time": "2022-04-22T13:02:29.997Z"
   },
   {
    "duration": 8,
    "start_time": "2022-04-22T13:02:30.007Z"
   },
   {
    "duration": 48,
    "start_time": "2022-04-22T13:02:30.017Z"
   },
   {
    "duration": 20,
    "start_time": "2022-04-22T13:02:30.067Z"
   },
   {
    "duration": 23,
    "start_time": "2022-04-22T13:02:30.089Z"
   },
   {
    "duration": 18,
    "start_time": "2022-04-22T13:02:30.114Z"
   },
   {
    "duration": 15,
    "start_time": "2022-04-22T13:02:30.134Z"
   },
   {
    "duration": 605,
    "start_time": "2022-04-22T13:02:30.151Z"
   },
   {
    "duration": 5,
    "start_time": "2022-04-22T13:02:30.759Z"
   },
   {
    "duration": 20,
    "start_time": "2022-04-22T13:02:30.766Z"
   },
   {
    "duration": 54,
    "start_time": "2022-04-22T13:02:30.788Z"
   },
   {
    "duration": 712,
    "start_time": "2022-04-22T13:02:30.845Z"
   },
   {
    "duration": 282,
    "start_time": "2022-04-22T13:02:31.560Z"
   },
   {
    "duration": 284,
    "start_time": "2022-04-22T13:02:31.844Z"
   },
   {
    "duration": 265,
    "start_time": "2022-04-22T13:02:32.131Z"
   },
   {
    "duration": 11,
    "start_time": "2022-04-22T13:02:32.398Z"
   },
   {
    "duration": 251,
    "start_time": "2022-04-22T13:02:32.411Z"
   },
   {
    "duration": 17,
    "start_time": "2022-04-22T13:02:32.664Z"
   },
   {
    "duration": 26,
    "start_time": "2022-04-22T13:02:32.684Z"
   },
   {
    "duration": 47,
    "start_time": "2022-04-22T13:02:32.713Z"
   },
   {
    "duration": 374,
    "start_time": "2022-04-22T13:02:32.763Z"
   },
   {
    "duration": 21,
    "start_time": "2022-04-22T13:02:33.140Z"
   },
   {
    "duration": 5,
    "start_time": "2022-04-22T13:02:33.164Z"
   },
   {
    "duration": 13,
    "start_time": "2022-04-22T13:02:33.172Z"
   },
   {
    "duration": 14,
    "start_time": "2022-04-22T13:02:33.188Z"
   },
   {
    "duration": 4,
    "start_time": "2022-04-22T13:02:33.204Z"
   },
   {
    "duration": 11,
    "start_time": "2022-04-22T13:02:33.252Z"
   },
   {
    "duration": 7,
    "start_time": "2022-04-22T13:02:33.265Z"
   },
   {
    "duration": 459,
    "start_time": "2022-04-22T13:02:33.274Z"
   },
   {
    "duration": 14,
    "start_time": "2022-04-22T13:22:02.002Z"
   },
   {
    "duration": 6,
    "start_time": "2022-04-22T13:24:50.310Z"
   },
   {
    "duration": 569,
    "start_time": "2022-04-22T13:25:02.312Z"
   },
   {
    "duration": 4,
    "start_time": "2022-04-22T13:25:02.885Z"
   },
   {
    "duration": 166,
    "start_time": "2022-04-22T13:25:02.892Z"
   },
   {
    "duration": 30,
    "start_time": "2022-04-22T13:25:03.062Z"
   },
   {
    "duration": 28,
    "start_time": "2022-04-22T13:25:03.094Z"
   },
   {
    "duration": 112,
    "start_time": "2022-04-22T13:25:03.125Z"
   },
   {
    "duration": 29,
    "start_time": "2022-04-22T13:25:03.239Z"
   },
   {
    "duration": 15,
    "start_time": "2022-04-22T13:25:03.271Z"
   },
   {
    "duration": 5,
    "start_time": "2022-04-22T13:25:03.288Z"
   },
   {
    "duration": 64,
    "start_time": "2022-04-22T13:25:03.297Z"
   },
   {
    "duration": 19,
    "start_time": "2022-04-22T13:25:03.364Z"
   },
   {
    "duration": 11,
    "start_time": "2022-04-22T13:25:03.385Z"
   },
   {
    "duration": 10,
    "start_time": "2022-04-22T13:25:03.398Z"
   },
   {
    "duration": 6,
    "start_time": "2022-04-22T13:25:03.409Z"
   },
   {
    "duration": 36,
    "start_time": "2022-04-22T13:25:03.417Z"
   },
   {
    "duration": 13,
    "start_time": "2022-04-22T13:25:03.456Z"
   },
   {
    "duration": 6,
    "start_time": "2022-04-22T13:25:03.471Z"
   },
   {
    "duration": 8,
    "start_time": "2022-04-22T13:25:03.480Z"
   },
   {
    "duration": 5,
    "start_time": "2022-04-22T13:25:03.491Z"
   },
   {
    "duration": 6,
    "start_time": "2022-04-22T13:25:03.498Z"
   },
   {
    "duration": 46,
    "start_time": "2022-04-22T13:25:03.506Z"
   },
   {
    "duration": 8,
    "start_time": "2022-04-22T13:25:03.556Z"
   },
   {
    "duration": 9,
    "start_time": "2022-04-22T13:25:03.567Z"
   },
   {
    "duration": 6,
    "start_time": "2022-04-22T13:25:03.578Z"
   },
   {
    "duration": 9,
    "start_time": "2022-04-22T13:25:03.586Z"
   },
   {
    "duration": 5,
    "start_time": "2022-04-22T13:25:03.597Z"
   },
   {
    "duration": 47,
    "start_time": "2022-04-22T13:25:03.605Z"
   },
   {
    "duration": 17,
    "start_time": "2022-04-22T13:25:03.662Z"
   },
   {
    "duration": 10,
    "start_time": "2022-04-22T13:25:03.681Z"
   },
   {
    "duration": 6,
    "start_time": "2022-04-22T13:25:03.693Z"
   },
   {
    "duration": 16,
    "start_time": "2022-04-22T13:25:03.701Z"
   },
   {
    "duration": 53,
    "start_time": "2022-04-22T13:25:03.720Z"
   },
   {
    "duration": 21,
    "start_time": "2022-04-22T13:25:03.776Z"
   },
   {
    "duration": 16,
    "start_time": "2022-04-22T13:25:03.799Z"
   },
   {
    "duration": 47,
    "start_time": "2022-04-22T13:25:03.817Z"
   },
   {
    "duration": 32,
    "start_time": "2022-04-22T13:25:03.867Z"
   },
   {
    "duration": 19,
    "start_time": "2022-04-22T13:25:03.901Z"
   },
   {
    "duration": 38,
    "start_time": "2022-04-22T13:25:03.921Z"
   },
   {
    "duration": 22,
    "start_time": "2022-04-22T13:25:03.962Z"
   },
   {
    "duration": 5,
    "start_time": "2022-04-22T13:25:03.987Z"
   },
   {
    "duration": 6,
    "start_time": "2022-04-22T13:25:03.995Z"
   },
   {
    "duration": 22,
    "start_time": "2022-04-22T13:25:04.003Z"
   },
   {
    "duration": 47,
    "start_time": "2022-04-22T13:25:04.027Z"
   },
   {
    "duration": 9,
    "start_time": "2022-04-22T13:25:04.077Z"
   },
   {
    "duration": 5,
    "start_time": "2022-04-22T13:25:04.088Z"
   },
   {
    "duration": 4,
    "start_time": "2022-04-22T13:25:04.096Z"
   },
   {
    "duration": 687,
    "start_time": "2022-04-22T13:25:04.102Z"
   },
   {
    "duration": 6,
    "start_time": "2022-04-22T13:25:04.791Z"
   },
   {
    "duration": 8,
    "start_time": "2022-04-22T13:25:04.798Z"
   },
   {
    "duration": 62,
    "start_time": "2022-04-22T13:25:04.808Z"
   },
   {
    "duration": 584,
    "start_time": "2022-04-22T13:25:04.872Z"
   },
   {
    "duration": 264,
    "start_time": "2022-04-22T13:25:05.459Z"
   },
   {
    "duration": 358,
    "start_time": "2022-04-22T13:25:05.725Z"
   },
   {
    "duration": 287,
    "start_time": "2022-04-22T13:25:06.086Z"
   },
   {
    "duration": 12,
    "start_time": "2022-04-22T13:25:06.376Z"
   },
   {
    "duration": 266,
    "start_time": "2022-04-22T13:25:06.390Z"
   },
   {
    "duration": 18,
    "start_time": "2022-04-22T13:25:06.659Z"
   },
   {
    "duration": 23,
    "start_time": "2022-04-22T13:25:06.679Z"
   },
   {
    "duration": 46,
    "start_time": "2022-04-22T13:25:06.705Z"
   },
   {
    "duration": 394,
    "start_time": "2022-04-22T13:25:06.755Z"
   },
   {
    "duration": 20,
    "start_time": "2022-04-22T13:25:07.151Z"
   },
   {
    "duration": 5,
    "start_time": "2022-04-22T13:25:07.174Z"
   },
   {
    "duration": 15,
    "start_time": "2022-04-22T13:25:07.182Z"
   },
   {
    "duration": 52,
    "start_time": "2022-04-22T13:25:07.200Z"
   },
   {
    "duration": 5,
    "start_time": "2022-04-22T13:25:07.260Z"
   },
   {
    "duration": 15,
    "start_time": "2022-04-22T13:25:07.268Z"
   },
   {
    "duration": 13,
    "start_time": "2022-04-22T13:25:07.285Z"
   },
   {
    "duration": 6,
    "start_time": "2022-04-22T13:25:07.301Z"
   },
   {
    "duration": 46,
    "start_time": "2022-04-22T13:25:07.310Z"
   },
   {
    "duration": 394,
    "start_time": "2022-04-22T13:25:07.358Z"
   },
   {
    "duration": 6,
    "start_time": "2022-04-22T13:27:39.979Z"
   },
   {
    "duration": 134,
    "start_time": "2022-04-22T13:28:13.675Z"
   },
   {
    "duration": 6,
    "start_time": "2022-04-22T13:28:18.225Z"
   },
   {
    "duration": 34,
    "start_time": "2022-04-22T13:28:28.964Z"
   },
   {
    "duration": 25,
    "start_time": "2022-04-22T13:29:24.482Z"
   },
   {
    "duration": 6,
    "start_time": "2022-04-22T13:29:59.543Z"
   },
   {
    "duration": 580,
    "start_time": "2022-04-22T13:32:44.617Z"
   },
   {
    "duration": 4,
    "start_time": "2022-04-22T13:32:45.200Z"
   },
   {
    "duration": 191,
    "start_time": "2022-04-22T13:32:45.206Z"
   },
   {
    "duration": 30,
    "start_time": "2022-04-22T13:32:45.400Z"
   },
   {
    "duration": 40,
    "start_time": "2022-04-22T13:32:45.432Z"
   },
   {
    "duration": 117,
    "start_time": "2022-04-22T13:32:45.474Z"
   },
   {
    "duration": 13,
    "start_time": "2022-04-22T13:32:45.593Z"
   },
   {
    "duration": 15,
    "start_time": "2022-04-22T13:32:45.608Z"
   },
   {
    "duration": 30,
    "start_time": "2022-04-22T13:32:45.625Z"
   },
   {
    "duration": 27,
    "start_time": "2022-04-22T13:32:45.659Z"
   },
   {
    "duration": 13,
    "start_time": "2022-04-22T13:32:45.689Z"
   },
   {
    "duration": 8,
    "start_time": "2022-04-22T13:32:45.705Z"
   },
   {
    "duration": 45,
    "start_time": "2022-04-22T13:32:45.715Z"
   },
   {
    "duration": 6,
    "start_time": "2022-04-22T13:32:45.763Z"
   },
   {
    "duration": 18,
    "start_time": "2022-04-22T13:32:45.771Z"
   },
   {
    "duration": 5,
    "start_time": "2022-04-22T13:32:45.791Z"
   },
   {
    "duration": 7,
    "start_time": "2022-04-22T13:32:45.798Z"
   },
   {
    "duration": 8,
    "start_time": "2022-04-22T13:32:45.807Z"
   },
   {
    "duration": 5,
    "start_time": "2022-04-22T13:32:45.852Z"
   },
   {
    "duration": 7,
    "start_time": "2022-04-22T13:32:45.860Z"
   },
   {
    "duration": 5,
    "start_time": "2022-04-22T13:32:45.869Z"
   },
   {
    "duration": 14,
    "start_time": "2022-04-22T13:32:45.876Z"
   },
   {
    "duration": 11,
    "start_time": "2022-04-22T13:32:45.893Z"
   },
   {
    "duration": 7,
    "start_time": "2022-04-22T13:32:45.906Z"
   },
   {
    "duration": 9,
    "start_time": "2022-04-22T13:32:45.915Z"
   },
   {
    "duration": 6,
    "start_time": "2022-04-22T13:32:45.951Z"
   },
   {
    "duration": 9,
    "start_time": "2022-04-22T13:32:45.959Z"
   },
   {
    "duration": 6,
    "start_time": "2022-04-22T13:32:45.976Z"
   },
   {
    "duration": 6,
    "start_time": "2022-04-22T13:32:45.985Z"
   },
   {
    "duration": 6,
    "start_time": "2022-04-22T13:32:45.993Z"
   },
   {
    "duration": 59,
    "start_time": "2022-04-22T13:32:46.001Z"
   },
   {
    "duration": 31,
    "start_time": "2022-04-22T13:32:46.062Z"
   },
   {
    "duration": 29,
    "start_time": "2022-04-22T13:32:46.095Z"
   },
   {
    "duration": 38,
    "start_time": "2022-04-22T13:32:46.127Z"
   },
   {
    "duration": 23,
    "start_time": "2022-04-22T13:32:46.167Z"
   },
   {
    "duration": 70,
    "start_time": "2022-04-22T13:32:46.192Z"
   },
   {
    "duration": 26,
    "start_time": "2022-04-22T13:32:46.264Z"
   },
   {
    "duration": 5,
    "start_time": "2022-04-22T13:32:46.292Z"
   },
   {
    "duration": 14,
    "start_time": "2022-04-22T13:32:46.300Z"
   },
   {
    "duration": 17,
    "start_time": "2022-04-22T13:32:46.316Z"
   },
   {
    "duration": 4,
    "start_time": "2022-04-22T13:32:46.351Z"
   },
   {
    "duration": 23,
    "start_time": "2022-04-22T13:32:46.357Z"
   },
   {
    "duration": 29,
    "start_time": "2022-04-22T13:32:46.382Z"
   },
   {
    "duration": 21,
    "start_time": "2022-04-22T13:32:46.413Z"
   },
   {
    "duration": 11,
    "start_time": "2022-04-22T13:32:46.437Z"
   },
   {
    "duration": 19,
    "start_time": "2022-04-22T13:32:46.451Z"
   },
   {
    "duration": 597,
    "start_time": "2022-04-22T13:32:46.472Z"
   },
   {
    "duration": 5,
    "start_time": "2022-04-22T13:32:47.071Z"
   },
   {
    "duration": 8,
    "start_time": "2022-04-22T13:32:47.078Z"
   },
   {
    "duration": 37,
    "start_time": "2022-04-22T13:32:47.088Z"
   },
   {
    "duration": 580,
    "start_time": "2022-04-22T13:32:47.127Z"
   },
   {
    "duration": 254,
    "start_time": "2022-04-22T13:32:47.709Z"
   },
   {
    "duration": 335,
    "start_time": "2022-04-22T13:32:47.965Z"
   },
   {
    "duration": 272,
    "start_time": "2022-04-22T13:32:48.303Z"
   },
   {
    "duration": 12,
    "start_time": "2022-04-22T13:32:48.577Z"
   },
   {
    "duration": 260,
    "start_time": "2022-04-22T13:32:48.591Z"
   },
   {
    "duration": 17,
    "start_time": "2022-04-22T13:32:48.853Z"
   },
   {
    "duration": 24,
    "start_time": "2022-04-22T13:32:48.872Z"
   },
   {
    "duration": 14,
    "start_time": "2022-04-22T13:32:48.898Z"
   },
   {
    "duration": 396,
    "start_time": "2022-04-22T13:32:48.914Z"
   },
   {
    "duration": 13,
    "start_time": "2022-04-22T13:32:49.312Z"
   },
   {
    "duration": 24,
    "start_time": "2022-04-22T13:32:49.328Z"
   },
   {
    "duration": 13,
    "start_time": "2022-04-22T13:32:49.354Z"
   },
   {
    "duration": 13,
    "start_time": "2022-04-22T13:32:49.369Z"
   },
   {
    "duration": 4,
    "start_time": "2022-04-22T13:32:49.384Z"
   },
   {
    "duration": 12,
    "start_time": "2022-04-22T13:32:49.390Z"
   },
   {
    "duration": 51,
    "start_time": "2022-04-22T13:32:49.404Z"
   },
   {
    "duration": 33,
    "start_time": "2022-04-22T13:32:49.457Z"
   },
   {
    "duration": 22,
    "start_time": "2022-04-22T13:32:49.492Z"
   },
   {
    "duration": 5,
    "start_time": "2022-04-22T13:32:49.517Z"
   },
   {
    "duration": 4,
    "start_time": "2022-04-22T13:32:49.554Z"
   },
   {
    "duration": 395,
    "start_time": "2022-04-22T13:32:49.560Z"
   },
   {
    "duration": 6,
    "start_time": "2022-04-22T13:34:52.066Z"
   },
   {
    "duration": 6,
    "start_time": "2022-04-22T13:35:52.807Z"
   },
   {
    "duration": 497,
    "start_time": "2022-04-22T13:36:07.190Z"
   },
   {
    "duration": 4,
    "start_time": "2022-04-22T13:36:07.690Z"
   },
   {
    "duration": 141,
    "start_time": "2022-04-22T13:36:07.696Z"
   },
   {
    "duration": 28,
    "start_time": "2022-04-22T13:36:07.839Z"
   },
   {
    "duration": 23,
    "start_time": "2022-04-22T13:36:07.870Z"
   },
   {
    "duration": 116,
    "start_time": "2022-04-22T13:36:07.896Z"
   },
   {
    "duration": 12,
    "start_time": "2022-04-22T13:36:08.015Z"
   },
   {
    "duration": 35,
    "start_time": "2022-04-22T13:36:08.029Z"
   },
   {
    "duration": 6,
    "start_time": "2022-04-22T13:36:08.066Z"
   },
   {
    "duration": 28,
    "start_time": "2022-04-22T13:36:08.075Z"
   },
   {
    "duration": 13,
    "start_time": "2022-04-22T13:36:08.105Z"
   },
   {
    "duration": 8,
    "start_time": "2022-04-22T13:36:08.152Z"
   },
   {
    "duration": 8,
    "start_time": "2022-04-22T13:36:08.163Z"
   },
   {
    "duration": 6,
    "start_time": "2022-04-22T13:36:08.176Z"
   },
   {
    "duration": 13,
    "start_time": "2022-04-22T13:36:08.184Z"
   },
   {
    "duration": 7,
    "start_time": "2022-04-22T13:36:08.199Z"
   },
   {
    "duration": 44,
    "start_time": "2022-04-22T13:36:08.208Z"
   },
   {
    "duration": 108,
    "start_time": "2022-04-22T13:36:08.255Z"
   },
   {
    "duration": 0,
    "start_time": "2022-04-22T13:36:08.367Z"
   },
   {
    "duration": 0,
    "start_time": "2022-04-22T13:36:08.369Z"
   },
   {
    "duration": 0,
    "start_time": "2022-04-22T13:36:08.370Z"
   },
   {
    "duration": 0,
    "start_time": "2022-04-22T13:36:08.371Z"
   },
   {
    "duration": 0,
    "start_time": "2022-04-22T13:36:08.373Z"
   },
   {
    "duration": 0,
    "start_time": "2022-04-22T13:36:08.374Z"
   },
   {
    "duration": 0,
    "start_time": "2022-04-22T13:36:08.376Z"
   },
   {
    "duration": 0,
    "start_time": "2022-04-22T13:36:08.377Z"
   },
   {
    "duration": 0,
    "start_time": "2022-04-22T13:36:08.378Z"
   },
   {
    "duration": 0,
    "start_time": "2022-04-22T13:36:08.379Z"
   },
   {
    "duration": 0,
    "start_time": "2022-04-22T13:36:08.380Z"
   },
   {
    "duration": 0,
    "start_time": "2022-04-22T13:36:08.382Z"
   },
   {
    "duration": 0,
    "start_time": "2022-04-22T13:36:08.383Z"
   },
   {
    "duration": 0,
    "start_time": "2022-04-22T13:36:08.385Z"
   },
   {
    "duration": 0,
    "start_time": "2022-04-22T13:36:08.387Z"
   },
   {
    "duration": 0,
    "start_time": "2022-04-22T13:36:08.388Z"
   },
   {
    "duration": 0,
    "start_time": "2022-04-22T13:36:08.390Z"
   },
   {
    "duration": 0,
    "start_time": "2022-04-22T13:36:08.391Z"
   },
   {
    "duration": 0,
    "start_time": "2022-04-22T13:36:08.393Z"
   },
   {
    "duration": 0,
    "start_time": "2022-04-22T13:36:08.394Z"
   },
   {
    "duration": 0,
    "start_time": "2022-04-22T13:36:08.396Z"
   },
   {
    "duration": 0,
    "start_time": "2022-04-22T13:36:08.398Z"
   },
   {
    "duration": 0,
    "start_time": "2022-04-22T13:36:08.451Z"
   },
   {
    "duration": 0,
    "start_time": "2022-04-22T13:36:08.454Z"
   },
   {
    "duration": 0,
    "start_time": "2022-04-22T13:36:08.455Z"
   },
   {
    "duration": 0,
    "start_time": "2022-04-22T13:36:08.457Z"
   },
   {
    "duration": 0,
    "start_time": "2022-04-22T13:36:08.459Z"
   },
   {
    "duration": 0,
    "start_time": "2022-04-22T13:36:08.460Z"
   },
   {
    "duration": 0,
    "start_time": "2022-04-22T13:36:08.461Z"
   },
   {
    "duration": 0,
    "start_time": "2022-04-22T13:36:08.463Z"
   },
   {
    "duration": 0,
    "start_time": "2022-04-22T13:36:08.465Z"
   },
   {
    "duration": 0,
    "start_time": "2022-04-22T13:36:08.466Z"
   },
   {
    "duration": 0,
    "start_time": "2022-04-22T13:36:08.468Z"
   },
   {
    "duration": 0,
    "start_time": "2022-04-22T13:36:08.469Z"
   },
   {
    "duration": 0,
    "start_time": "2022-04-22T13:36:08.471Z"
   },
   {
    "duration": 0,
    "start_time": "2022-04-22T13:36:08.472Z"
   },
   {
    "duration": 0,
    "start_time": "2022-04-22T13:36:08.473Z"
   },
   {
    "duration": 0,
    "start_time": "2022-04-22T13:36:08.475Z"
   },
   {
    "duration": 0,
    "start_time": "2022-04-22T13:36:08.476Z"
   },
   {
    "duration": 0,
    "start_time": "2022-04-22T13:36:08.478Z"
   },
   {
    "duration": 1,
    "start_time": "2022-04-22T13:36:08.479Z"
   },
   {
    "duration": 0,
    "start_time": "2022-04-22T13:36:08.481Z"
   },
   {
    "duration": 0,
    "start_time": "2022-04-22T13:36:08.483Z"
   },
   {
    "duration": 0,
    "start_time": "2022-04-22T13:36:08.484Z"
   },
   {
    "duration": 0,
    "start_time": "2022-04-22T13:36:08.486Z"
   },
   {
    "duration": 0,
    "start_time": "2022-04-22T13:36:08.488Z"
   },
   {
    "duration": 0,
    "start_time": "2022-04-22T13:36:08.552Z"
   },
   {
    "duration": 0,
    "start_time": "2022-04-22T13:36:08.554Z"
   },
   {
    "duration": 0,
    "start_time": "2022-04-22T13:36:08.555Z"
   },
   {
    "duration": 0,
    "start_time": "2022-04-22T13:36:08.556Z"
   },
   {
    "duration": 0,
    "start_time": "2022-04-22T13:36:08.558Z"
   },
   {
    "duration": 0,
    "start_time": "2022-04-22T13:36:08.560Z"
   },
   {
    "duration": 0,
    "start_time": "2022-04-22T13:36:08.561Z"
   },
   {
    "duration": 529,
    "start_time": "2022-04-22T13:36:34.947Z"
   },
   {
    "duration": 4,
    "start_time": "2022-04-22T13:36:35.479Z"
   },
   {
    "duration": 144,
    "start_time": "2022-04-22T13:36:35.485Z"
   },
   {
    "duration": 36,
    "start_time": "2022-04-22T13:36:35.632Z"
   },
   {
    "duration": 23,
    "start_time": "2022-04-22T13:36:35.671Z"
   },
   {
    "duration": 145,
    "start_time": "2022-04-22T13:36:35.697Z"
   },
   {
    "duration": 21,
    "start_time": "2022-04-22T13:36:35.845Z"
   },
   {
    "duration": 24,
    "start_time": "2022-04-22T13:36:35.869Z"
   },
   {
    "duration": 7,
    "start_time": "2022-04-22T13:36:35.895Z"
   },
   {
    "duration": 67,
    "start_time": "2022-04-22T13:36:35.906Z"
   },
   {
    "duration": 13,
    "start_time": "2022-04-22T13:36:35.975Z"
   },
   {
    "duration": 17,
    "start_time": "2022-04-22T13:36:35.990Z"
   },
   {
    "duration": 18,
    "start_time": "2022-04-22T13:36:36.009Z"
   },
   {
    "duration": 22,
    "start_time": "2022-04-22T13:36:36.029Z"
   },
   {
    "duration": 22,
    "start_time": "2022-04-22T13:36:36.054Z"
   },
   {
    "duration": 7,
    "start_time": "2022-04-22T13:36:36.079Z"
   },
   {
    "duration": 17,
    "start_time": "2022-04-22T13:36:36.088Z"
   },
   {
    "duration": 18,
    "start_time": "2022-04-22T13:36:36.107Z"
   },
   {
    "duration": 16,
    "start_time": "2022-04-22T13:36:36.127Z"
   },
   {
    "duration": 17,
    "start_time": "2022-04-22T13:36:36.145Z"
   },
   {
    "duration": 21,
    "start_time": "2022-04-22T13:36:36.164Z"
   },
   {
    "duration": 22,
    "start_time": "2022-04-22T13:36:36.187Z"
   },
   {
    "duration": 12,
    "start_time": "2022-04-22T13:36:36.212Z"
   },
   {
    "duration": 7,
    "start_time": "2022-04-22T13:36:36.226Z"
   },
   {
    "duration": 15,
    "start_time": "2022-04-22T13:36:36.235Z"
   },
   {
    "duration": 11,
    "start_time": "2022-04-22T13:36:36.252Z"
   },
   {
    "duration": 9,
    "start_time": "2022-04-22T13:36:36.265Z"
   },
   {
    "duration": 7,
    "start_time": "2022-04-22T13:36:36.280Z"
   },
   {
    "duration": 14,
    "start_time": "2022-04-22T13:36:36.289Z"
   },
   {
    "duration": 15,
    "start_time": "2022-04-22T13:36:36.305Z"
   },
   {
    "duration": 32,
    "start_time": "2022-04-22T13:36:36.322Z"
   },
   {
    "duration": 18,
    "start_time": "2022-04-22T13:36:36.356Z"
   },
   {
    "duration": 28,
    "start_time": "2022-04-22T13:36:36.376Z"
   },
   {
    "duration": 12,
    "start_time": "2022-04-22T13:36:36.406Z"
   },
   {
    "duration": 33,
    "start_time": "2022-04-22T13:36:36.420Z"
   },
   {
    "duration": 39,
    "start_time": "2022-04-22T13:36:36.455Z"
   },
   {
    "duration": 18,
    "start_time": "2022-04-22T13:36:36.496Z"
   },
   {
    "duration": 5,
    "start_time": "2022-04-22T13:36:36.517Z"
   },
   {
    "duration": 12,
    "start_time": "2022-04-22T13:36:36.551Z"
   },
   {
    "duration": 12,
    "start_time": "2022-04-22T13:36:36.565Z"
   },
   {
    "duration": 11,
    "start_time": "2022-04-22T13:36:36.579Z"
   },
   {
    "duration": 26,
    "start_time": "2022-04-22T13:36:36.592Z"
   },
   {
    "duration": 22,
    "start_time": "2022-04-22T13:36:36.620Z"
   },
   {
    "duration": 15,
    "start_time": "2022-04-22T13:36:36.644Z"
   },
   {
    "duration": 5,
    "start_time": "2022-04-22T13:36:36.662Z"
   },
   {
    "duration": 10,
    "start_time": "2022-04-22T13:36:36.669Z"
   },
   {
    "duration": 876,
    "start_time": "2022-04-22T13:36:36.681Z"
   },
   {
    "duration": 5,
    "start_time": "2022-04-22T13:36:37.560Z"
   },
   {
    "duration": 12,
    "start_time": "2022-04-22T13:36:37.568Z"
   },
   {
    "duration": 51,
    "start_time": "2022-04-22T13:36:37.582Z"
   },
   {
    "duration": 567,
    "start_time": "2022-04-22T13:36:37.635Z"
   },
   {
    "duration": 290,
    "start_time": "2022-04-22T13:36:38.204Z"
   },
   {
    "duration": 286,
    "start_time": "2022-04-22T13:36:38.496Z"
   },
   {
    "duration": 309,
    "start_time": "2022-04-22T13:36:38.784Z"
   },
   {
    "duration": 12,
    "start_time": "2022-04-22T13:36:39.096Z"
   },
   {
    "duration": 258,
    "start_time": "2022-04-22T13:36:39.111Z"
   },
   {
    "duration": 17,
    "start_time": "2022-04-22T13:36:39.371Z"
   },
   {
    "duration": 23,
    "start_time": "2022-04-22T13:36:39.390Z"
   },
   {
    "duration": 41,
    "start_time": "2022-04-22T13:36:39.415Z"
   },
   {
    "duration": 377,
    "start_time": "2022-04-22T13:36:39.458Z"
   },
   {
    "duration": 17,
    "start_time": "2022-04-22T13:36:39.837Z"
   },
   {
    "duration": 8,
    "start_time": "2022-04-22T13:36:39.856Z"
   },
   {
    "duration": 14,
    "start_time": "2022-04-22T13:36:39.867Z"
   },
   {
    "duration": 14,
    "start_time": "2022-04-22T13:36:39.884Z"
   },
   {
    "duration": 4,
    "start_time": "2022-04-22T13:36:39.900Z"
   },
   {
    "duration": 50,
    "start_time": "2022-04-22T13:36:39.907Z"
   },
   {
    "duration": 11,
    "start_time": "2022-04-22T13:36:39.960Z"
   },
   {
    "duration": 10,
    "start_time": "2022-04-22T13:36:39.974Z"
   },
   {
    "duration": 11,
    "start_time": "2022-04-22T13:36:39.986Z"
   },
   {
    "duration": 390,
    "start_time": "2022-04-22T13:36:39.999Z"
   },
   {
    "duration": 98,
    "start_time": "2022-04-22T13:37:06.213Z"
   },
   {
    "duration": 22,
    "start_time": "2022-04-22T13:37:12.243Z"
   },
   {
    "duration": 269,
    "start_time": "2022-04-22T13:37:50.185Z"
   },
   {
    "duration": 33,
    "start_time": "2022-04-22T13:38:00.831Z"
   },
   {
    "duration": 107,
    "start_time": "2022-04-22T13:38:32.162Z"
   },
   {
    "duration": 8,
    "start_time": "2022-04-22T13:39:16.264Z"
   },
   {
    "duration": 5,
    "start_time": "2022-04-22T13:40:10.252Z"
   },
   {
    "duration": 7,
    "start_time": "2022-04-22T13:40:48.163Z"
   },
   {
    "duration": 522,
    "start_time": "2022-04-22T13:41:35.972Z"
   },
   {
    "duration": 3,
    "start_time": "2022-04-22T13:41:36.497Z"
   },
   {
    "duration": 142,
    "start_time": "2022-04-22T13:41:36.502Z"
   },
   {
    "duration": 29,
    "start_time": "2022-04-22T13:41:36.647Z"
   },
   {
    "duration": 40,
    "start_time": "2022-04-22T13:41:36.679Z"
   },
   {
    "duration": 104,
    "start_time": "2022-04-22T13:41:36.722Z"
   },
   {
    "duration": 24,
    "start_time": "2022-04-22T13:41:36.828Z"
   },
   {
    "duration": 14,
    "start_time": "2022-04-22T13:41:36.854Z"
   },
   {
    "duration": 20,
    "start_time": "2022-04-22T13:41:36.870Z"
   },
   {
    "duration": 41,
    "start_time": "2022-04-22T13:41:36.894Z"
   },
   {
    "duration": 24,
    "start_time": "2022-04-22T13:41:36.937Z"
   },
   {
    "duration": 22,
    "start_time": "2022-04-22T13:41:36.963Z"
   },
   {
    "duration": 14,
    "start_time": "2022-04-22T13:41:36.987Z"
   },
   {
    "duration": 30,
    "start_time": "2022-04-22T13:41:37.003Z"
   },
   {
    "duration": 26,
    "start_time": "2022-04-22T13:41:37.035Z"
   },
   {
    "duration": 10,
    "start_time": "2022-04-22T13:41:37.063Z"
   },
   {
    "duration": 27,
    "start_time": "2022-04-22T13:41:37.075Z"
   },
   {
    "duration": 14,
    "start_time": "2022-04-22T13:41:37.104Z"
   },
   {
    "duration": 12,
    "start_time": "2022-04-22T13:41:37.120Z"
   },
   {
    "duration": 31,
    "start_time": "2022-04-22T13:41:37.134Z"
   },
   {
    "duration": 27,
    "start_time": "2022-04-22T13:41:37.167Z"
   },
   {
    "duration": 17,
    "start_time": "2022-04-22T13:41:37.196Z"
   },
   {
    "duration": 25,
    "start_time": "2022-04-22T13:41:37.215Z"
   },
   {
    "duration": 21,
    "start_time": "2022-04-22T13:41:37.242Z"
   },
   {
    "duration": 15,
    "start_time": "2022-04-22T13:41:37.265Z"
   },
   {
    "duration": 19,
    "start_time": "2022-04-22T13:41:37.282Z"
   },
   {
    "duration": 28,
    "start_time": "2022-04-22T13:41:37.303Z"
   },
   {
    "duration": 5,
    "start_time": "2022-04-22T13:41:37.338Z"
   },
   {
    "duration": 15,
    "start_time": "2022-04-22T13:41:37.345Z"
   },
   {
    "duration": 20,
    "start_time": "2022-04-22T13:41:37.362Z"
   },
   {
    "duration": 20,
    "start_time": "2022-04-22T13:41:37.384Z"
   },
   {
    "duration": 29,
    "start_time": "2022-04-22T13:41:37.406Z"
   },
   {
    "duration": 22,
    "start_time": "2022-04-22T13:41:37.437Z"
   },
   {
    "duration": 25,
    "start_time": "2022-04-22T13:41:37.462Z"
   },
   {
    "duration": 30,
    "start_time": "2022-04-22T13:41:37.489Z"
   },
   {
    "duration": 43,
    "start_time": "2022-04-22T13:41:37.522Z"
   },
   {
    "duration": 19,
    "start_time": "2022-04-22T13:41:37.568Z"
   },
   {
    "duration": 5,
    "start_time": "2022-04-22T13:41:37.589Z"
   },
   {
    "duration": 24,
    "start_time": "2022-04-22T13:41:37.596Z"
   },
   {
    "duration": 12,
    "start_time": "2022-04-22T13:41:37.622Z"
   },
   {
    "duration": 3,
    "start_time": "2022-04-22T13:41:37.653Z"
   },
   {
    "duration": 40,
    "start_time": "2022-04-22T13:41:37.658Z"
   },
   {
    "duration": 30,
    "start_time": "2022-04-22T13:41:37.701Z"
   },
   {
    "duration": 20,
    "start_time": "2022-04-22T13:41:37.734Z"
   },
   {
    "duration": 9,
    "start_time": "2022-04-22T13:41:37.756Z"
   },
   {
    "duration": 24,
    "start_time": "2022-04-22T13:41:37.767Z"
   },
   {
    "duration": 583,
    "start_time": "2022-04-22T13:41:37.793Z"
   },
   {
    "duration": 5,
    "start_time": "2022-04-22T13:41:38.379Z"
   },
   {
    "duration": 8,
    "start_time": "2022-04-22T13:41:38.386Z"
   },
   {
    "duration": 55,
    "start_time": "2022-04-22T13:41:38.397Z"
   },
   {
    "duration": 573,
    "start_time": "2022-04-22T13:41:38.454Z"
   },
   {
    "duration": 253,
    "start_time": "2022-04-22T13:41:39.029Z"
   },
   {
    "duration": 337,
    "start_time": "2022-04-22T13:41:39.284Z"
   },
   {
    "duration": 274,
    "start_time": "2022-04-22T13:41:39.623Z"
   },
   {
    "duration": 12,
    "start_time": "2022-04-22T13:41:39.899Z"
   },
   {
    "duration": 262,
    "start_time": "2022-04-22T13:41:39.914Z"
   },
   {
    "duration": 16,
    "start_time": "2022-04-22T13:41:40.179Z"
   },
   {
    "duration": 24,
    "start_time": "2022-04-22T13:41:40.197Z"
   },
   {
    "duration": 38,
    "start_time": "2022-04-22T13:41:40.224Z"
   },
   {
    "duration": 404,
    "start_time": "2022-04-22T13:41:40.265Z"
   },
   {
    "duration": 13,
    "start_time": "2022-04-22T13:41:40.671Z"
   },
   {
    "duration": 6,
    "start_time": "2022-04-22T13:41:40.686Z"
   },
   {
    "duration": 15,
    "start_time": "2022-04-22T13:41:40.694Z"
   },
   {
    "duration": 47,
    "start_time": "2022-04-22T13:41:40.711Z"
   },
   {
    "duration": 3,
    "start_time": "2022-04-22T13:41:40.761Z"
   },
   {
    "duration": 14,
    "start_time": "2022-04-22T13:41:40.767Z"
   },
   {
    "duration": 15,
    "start_time": "2022-04-22T13:41:40.783Z"
   },
   {
    "duration": 8,
    "start_time": "2022-04-22T13:41:40.800Z"
   },
   {
    "duration": 7,
    "start_time": "2022-04-22T13:41:40.811Z"
   },
   {
    "duration": 8,
    "start_time": "2022-04-22T13:41:40.851Z"
   },
   {
    "duration": 4,
    "start_time": "2022-04-22T13:41:40.862Z"
   },
   {
    "duration": 272,
    "start_time": "2022-04-22T13:41:40.868Z"
   },
   {
    "duration": 12,
    "start_time": "2022-04-22T13:41:41.142Z"
   },
   {
    "duration": 6,
    "start_time": "2022-04-22T13:42:08.130Z"
   },
   {
    "duration": 5,
    "start_time": "2022-04-22T13:53:52.569Z"
   },
   {
    "duration": 6,
    "start_time": "2022-04-22T13:54:41.262Z"
   },
   {
    "duration": 1637,
    "start_time": "2022-04-22T13:54:52.170Z"
   },
   {
    "duration": 6,
    "start_time": "2022-04-22T13:55:02.031Z"
   },
   {
    "duration": 266,
    "start_time": "2022-04-22T13:56:22.171Z"
   },
   {
    "duration": 1278,
    "start_time": "2022-04-22T13:56:30.349Z"
   },
   {
    "duration": 8,
    "start_time": "2022-04-22T13:56:46.442Z"
   },
   {
    "duration": 5,
    "start_time": "2022-04-22T14:00:56.434Z"
   },
   {
    "duration": 6,
    "start_time": "2022-04-22T14:01:06.202Z"
   },
   {
    "duration": 23,
    "start_time": "2022-04-22T14:01:25.336Z"
   },
   {
    "duration": 7,
    "start_time": "2022-04-22T14:01:47.242Z"
   },
   {
    "duration": 24,
    "start_time": "2022-04-22T14:01:52.106Z"
   },
   {
    "duration": 6,
    "start_time": "2022-04-22T14:03:14.754Z"
   },
   {
    "duration": 142,
    "start_time": "2022-04-22T14:03:36.216Z"
   },
   {
    "duration": 5,
    "start_time": "2022-04-22T14:03:43.031Z"
   },
   {
    "duration": 7,
    "start_time": "2022-04-22T14:03:48.627Z"
   },
   {
    "duration": 535,
    "start_time": "2022-04-22T14:04:46.201Z"
   },
   {
    "duration": 4,
    "start_time": "2022-04-22T14:04:46.739Z"
   },
   {
    "duration": 139,
    "start_time": "2022-04-22T14:04:46.751Z"
   },
   {
    "duration": 29,
    "start_time": "2022-04-22T14:04:46.893Z"
   },
   {
    "duration": 45,
    "start_time": "2022-04-22T14:04:46.924Z"
   },
   {
    "duration": 101,
    "start_time": "2022-04-22T14:04:46.971Z"
   },
   {
    "duration": 12,
    "start_time": "2022-04-22T14:04:47.074Z"
   },
   {
    "duration": 14,
    "start_time": "2022-04-22T14:04:47.089Z"
   },
   {
    "duration": 5,
    "start_time": "2022-04-22T14:04:47.105Z"
   },
   {
    "duration": 63,
    "start_time": "2022-04-22T14:04:47.114Z"
   },
   {
    "duration": 13,
    "start_time": "2022-04-22T14:04:47.180Z"
   },
   {
    "duration": 9,
    "start_time": "2022-04-22T14:04:47.195Z"
   },
   {
    "duration": 6,
    "start_time": "2022-04-22T14:04:47.206Z"
   },
   {
    "duration": 38,
    "start_time": "2022-04-22T14:04:47.214Z"
   },
   {
    "duration": 6,
    "start_time": "2022-04-22T14:04:47.254Z"
   },
   {
    "duration": 7,
    "start_time": "2022-04-22T14:04:47.262Z"
   },
   {
    "duration": 7,
    "start_time": "2022-04-22T14:04:47.271Z"
   },
   {
    "duration": 8,
    "start_time": "2022-04-22T14:04:47.280Z"
   },
   {
    "duration": 6,
    "start_time": "2022-04-22T14:04:47.290Z"
   },
   {
    "duration": 6,
    "start_time": "2022-04-22T14:04:47.297Z"
   },
   {
    "duration": 50,
    "start_time": "2022-04-22T14:04:47.305Z"
   },
   {
    "duration": 6,
    "start_time": "2022-04-22T14:04:47.357Z"
   },
   {
    "duration": 5,
    "start_time": "2022-04-22T14:04:47.365Z"
   },
   {
    "duration": 8,
    "start_time": "2022-04-22T14:04:47.373Z"
   },
   {
    "duration": 8,
    "start_time": "2022-04-22T14:04:47.383Z"
   },
   {
    "duration": 5,
    "start_time": "2022-04-22T14:04:47.393Z"
   },
   {
    "duration": 7,
    "start_time": "2022-04-22T14:04:47.400Z"
   },
   {
    "duration": 6,
    "start_time": "2022-04-22T14:04:47.454Z"
   },
   {
    "duration": 7,
    "start_time": "2022-04-22T14:04:47.462Z"
   },
   {
    "duration": 6,
    "start_time": "2022-04-22T14:04:47.471Z"
   },
   {
    "duration": 17,
    "start_time": "2022-04-22T14:04:47.479Z"
   },
   {
    "duration": 18,
    "start_time": "2022-04-22T14:04:47.498Z"
   },
   {
    "duration": 18,
    "start_time": "2022-04-22T14:04:47.551Z"
   },
   {
    "duration": 15,
    "start_time": "2022-04-22T14:04:47.571Z"
   },
   {
    "duration": 16,
    "start_time": "2022-04-22T14:04:47.588Z"
   },
   {
    "duration": 71,
    "start_time": "2022-04-22T14:04:47.606Z"
   },
   {
    "duration": 18,
    "start_time": "2022-04-22T14:04:47.679Z"
   },
   {
    "duration": 5,
    "start_time": "2022-04-22T14:04:47.699Z"
   },
   {
    "duration": 12,
    "start_time": "2022-04-22T14:04:47.706Z"
   },
   {
    "duration": 5,
    "start_time": "2022-04-22T14:04:47.720Z"
   },
   {
    "duration": 3,
    "start_time": "2022-04-22T14:04:47.752Z"
   },
   {
    "duration": 17,
    "start_time": "2022-04-22T14:04:47.757Z"
   },
   {
    "duration": 15,
    "start_time": "2022-04-22T14:04:47.776Z"
   },
   {
    "duration": 10,
    "start_time": "2022-04-22T14:04:47.793Z"
   },
   {
    "duration": 6,
    "start_time": "2022-04-22T14:04:47.805Z"
   },
   {
    "duration": 40,
    "start_time": "2022-04-22T14:04:47.814Z"
   },
   {
    "duration": 564,
    "start_time": "2022-04-22T14:04:47.856Z"
   },
   {
    "duration": 5,
    "start_time": "2022-04-22T14:04:48.422Z"
   },
   {
    "duration": 7,
    "start_time": "2022-04-22T14:04:48.429Z"
   },
   {
    "duration": 53,
    "start_time": "2022-04-22T14:04:48.451Z"
   },
   {
    "duration": 567,
    "start_time": "2022-04-22T14:04:48.507Z"
   },
   {
    "duration": 294,
    "start_time": "2022-04-22T14:04:49.077Z"
   },
   {
    "duration": 288,
    "start_time": "2022-04-22T14:04:49.373Z"
   },
   {
    "duration": 273,
    "start_time": "2022-04-22T14:04:49.663Z"
   },
   {
    "duration": 20,
    "start_time": "2022-04-22T14:04:49.938Z"
   },
   {
    "duration": 244,
    "start_time": "2022-04-22T14:04:49.961Z"
   },
   {
    "duration": 16,
    "start_time": "2022-04-22T14:04:50.207Z"
   },
   {
    "duration": 47,
    "start_time": "2022-04-22T14:04:50.225Z"
   },
   {
    "duration": 14,
    "start_time": "2022-04-22T14:04:50.274Z"
   },
   {
    "duration": 374,
    "start_time": "2022-04-22T14:04:50.290Z"
   },
   {
    "duration": 12,
    "start_time": "2022-04-22T14:04:50.667Z"
   },
   {
    "duration": 25,
    "start_time": "2022-04-22T14:04:50.681Z"
   },
   {
    "duration": 46,
    "start_time": "2022-04-22T14:04:50.709Z"
   },
   {
    "duration": 20,
    "start_time": "2022-04-22T14:04:50.758Z"
   },
   {
    "duration": 5,
    "start_time": "2022-04-22T14:04:50.780Z"
   },
   {
    "duration": 20,
    "start_time": "2022-04-22T14:04:50.787Z"
   },
   {
    "duration": 27,
    "start_time": "2022-04-22T14:04:50.809Z"
   },
   {
    "duration": 7,
    "start_time": "2022-04-22T14:06:11.948Z"
   },
   {
    "duration": 10,
    "start_time": "2022-04-22T14:06:28.989Z"
   },
   {
    "duration": 6,
    "start_time": "2022-04-22T14:06:48.921Z"
   },
   {
    "duration": 7,
    "start_time": "2022-04-22T14:06:57.471Z"
   },
   {
    "duration": 11,
    "start_time": "2022-04-22T14:07:08.141Z"
   },
   {
    "duration": 8,
    "start_time": "2022-04-22T14:07:25.880Z"
   },
   {
    "duration": 118,
    "start_time": "2022-04-22T14:07:55.051Z"
   },
   {
    "duration": 123,
    "start_time": "2022-04-22T14:08:04.562Z"
   },
   {
    "duration": 8,
    "start_time": "2022-04-22T14:08:11.001Z"
   },
   {
    "duration": 6,
    "start_time": "2022-04-22T14:08:33.935Z"
   },
   {
    "duration": 549,
    "start_time": "2022-04-22T14:12:09.315Z"
   },
   {
    "duration": 4,
    "start_time": "2022-04-22T14:12:09.867Z"
   },
   {
    "duration": 139,
    "start_time": "2022-04-22T14:12:09.873Z"
   },
   {
    "duration": 38,
    "start_time": "2022-04-22T14:12:10.015Z"
   },
   {
    "duration": 21,
    "start_time": "2022-04-22T14:12:10.054Z"
   },
   {
    "duration": 109,
    "start_time": "2022-04-22T14:12:10.077Z"
   },
   {
    "duration": 12,
    "start_time": "2022-04-22T14:12:10.188Z"
   },
   {
    "duration": 13,
    "start_time": "2022-04-22T14:12:10.202Z"
   },
   {
    "duration": 5,
    "start_time": "2022-04-22T14:12:10.217Z"
   },
   {
    "duration": 51,
    "start_time": "2022-04-22T14:12:10.225Z"
   },
   {
    "duration": 13,
    "start_time": "2022-04-22T14:12:10.278Z"
   },
   {
    "duration": 8,
    "start_time": "2022-04-22T14:12:10.293Z"
   },
   {
    "duration": 6,
    "start_time": "2022-04-22T14:12:10.303Z"
   },
   {
    "duration": 44,
    "start_time": "2022-04-22T14:12:10.311Z"
   },
   {
    "duration": 11,
    "start_time": "2022-04-22T14:12:10.357Z"
   },
   {
    "duration": 5,
    "start_time": "2022-04-22T14:12:10.370Z"
   },
   {
    "duration": 7,
    "start_time": "2022-04-22T14:12:10.376Z"
   },
   {
    "duration": 9,
    "start_time": "2022-04-22T14:12:10.384Z"
   },
   {
    "duration": 6,
    "start_time": "2022-04-22T14:12:10.395Z"
   },
   {
    "duration": 8,
    "start_time": "2022-04-22T14:12:10.403Z"
   },
   {
    "duration": 6,
    "start_time": "2022-04-22T14:12:10.452Z"
   },
   {
    "duration": 6,
    "start_time": "2022-04-22T14:12:10.460Z"
   },
   {
    "duration": 7,
    "start_time": "2022-04-22T14:12:10.469Z"
   },
   {
    "duration": 7,
    "start_time": "2022-04-22T14:12:10.478Z"
   },
   {
    "duration": 14,
    "start_time": "2022-04-22T14:12:10.486Z"
   },
   {
    "duration": 51,
    "start_time": "2022-04-22T14:12:10.502Z"
   },
   {
    "duration": 5,
    "start_time": "2022-04-22T14:12:10.556Z"
   },
   {
    "duration": 10,
    "start_time": "2022-04-22T14:12:10.567Z"
   },
   {
    "duration": 10,
    "start_time": "2022-04-22T14:12:10.579Z"
   },
   {
    "duration": 6,
    "start_time": "2022-04-22T14:12:10.591Z"
   },
   {
    "duration": 16,
    "start_time": "2022-04-22T14:12:10.599Z"
   },
   {
    "duration": 42,
    "start_time": "2022-04-22T14:12:10.618Z"
   },
   {
    "duration": 19,
    "start_time": "2022-04-22T14:12:10.663Z"
   },
   {
    "duration": 18,
    "start_time": "2022-04-22T14:12:10.685Z"
   },
   {
    "duration": 15,
    "start_time": "2022-04-22T14:12:10.705Z"
   },
   {
    "duration": 55,
    "start_time": "2022-04-22T14:12:10.722Z"
   },
   {
    "duration": 18,
    "start_time": "2022-04-22T14:12:10.779Z"
   },
   {
    "duration": 5,
    "start_time": "2022-04-22T14:12:10.799Z"
   },
   {
    "duration": 13,
    "start_time": "2022-04-22T14:12:10.806Z"
   },
   {
    "duration": 34,
    "start_time": "2022-04-22T14:12:10.820Z"
   },
   {
    "duration": 6,
    "start_time": "2022-04-22T14:12:10.857Z"
   },
   {
    "duration": 19,
    "start_time": "2022-04-22T14:12:10.865Z"
   },
   {
    "duration": 17,
    "start_time": "2022-04-22T14:12:10.886Z"
   },
   {
    "duration": 11,
    "start_time": "2022-04-22T14:12:10.905Z"
   },
   {
    "duration": 4,
    "start_time": "2022-04-22T14:12:10.919Z"
   },
   {
    "duration": 30,
    "start_time": "2022-04-22T14:12:10.925Z"
   },
   {
    "duration": 573,
    "start_time": "2022-04-22T14:12:10.957Z"
   },
   {
    "duration": 5,
    "start_time": "2022-04-22T14:12:11.532Z"
   },
   {
    "duration": 18,
    "start_time": "2022-04-22T14:12:11.539Z"
   },
   {
    "duration": 37,
    "start_time": "2022-04-22T14:12:11.560Z"
   },
   {
    "duration": 569,
    "start_time": "2022-04-22T14:12:11.599Z"
   },
   {
    "duration": 294,
    "start_time": "2022-04-22T14:12:12.170Z"
   },
   {
    "duration": 282,
    "start_time": "2022-04-22T14:12:12.466Z"
   },
   {
    "duration": 261,
    "start_time": "2022-04-22T14:12:12.751Z"
   },
   {
    "duration": 12,
    "start_time": "2022-04-22T14:12:13.014Z"
   },
   {
    "duration": 252,
    "start_time": "2022-04-22T14:12:13.028Z"
   },
   {
    "duration": 16,
    "start_time": "2022-04-22T14:12:13.282Z"
   },
   {
    "duration": 34,
    "start_time": "2022-04-22T14:12:13.300Z"
   },
   {
    "duration": 12,
    "start_time": "2022-04-22T14:12:13.352Z"
   },
   {
    "duration": 362,
    "start_time": "2022-04-22T14:12:13.366Z"
   },
   {
    "duration": 25,
    "start_time": "2022-04-22T14:12:13.730Z"
   },
   {
    "duration": 6,
    "start_time": "2022-04-22T14:12:13.757Z"
   },
   {
    "duration": 20,
    "start_time": "2022-04-22T14:12:13.765Z"
   },
   {
    "duration": 13,
    "start_time": "2022-04-22T14:12:13.788Z"
   },
   {
    "duration": 4,
    "start_time": "2022-04-22T14:12:13.803Z"
   },
   {
    "duration": 14,
    "start_time": "2022-04-22T14:12:13.809Z"
   },
   {
    "duration": 10,
    "start_time": "2022-04-22T14:12:13.853Z"
   },
   {
    "duration": 5,
    "start_time": "2022-04-22T14:12:13.866Z"
   },
   {
    "duration": 6,
    "start_time": "2022-04-22T14:12:51.641Z"
   },
   {
    "duration": 13,
    "start_time": "2022-04-22T14:17:02.942Z"
   },
   {
    "duration": 124,
    "start_time": "2022-04-22T14:18:17.033Z"
   },
   {
    "duration": 5,
    "start_time": "2022-04-22T14:22:40.485Z"
   },
   {
    "duration": 23,
    "start_time": "2022-04-22T14:23:28.812Z"
   },
   {
    "duration": 17,
    "start_time": "2022-04-22T14:23:43.890Z"
   },
   {
    "duration": 516,
    "start_time": "2022-04-22T14:24:51.987Z"
   },
   {
    "duration": 4,
    "start_time": "2022-04-22T14:24:52.505Z"
   },
   {
    "duration": 134,
    "start_time": "2022-04-22T14:24:52.512Z"
   },
   {
    "duration": 28,
    "start_time": "2022-04-22T14:24:52.653Z"
   },
   {
    "duration": 26,
    "start_time": "2022-04-22T14:24:52.683Z"
   },
   {
    "duration": 114,
    "start_time": "2022-04-22T14:24:52.711Z"
   },
   {
    "duration": 26,
    "start_time": "2022-04-22T14:24:52.827Z"
   },
   {
    "duration": 14,
    "start_time": "2022-04-22T14:24:52.855Z"
   },
   {
    "duration": 7,
    "start_time": "2022-04-22T14:24:52.871Z"
   },
   {
    "duration": 29,
    "start_time": "2022-04-22T14:24:52.882Z"
   },
   {
    "duration": 44,
    "start_time": "2022-04-22T14:24:52.913Z"
   },
   {
    "duration": 12,
    "start_time": "2022-04-22T14:24:52.959Z"
   },
   {
    "duration": 9,
    "start_time": "2022-04-22T14:24:52.973Z"
   },
   {
    "duration": 10,
    "start_time": "2022-04-22T14:24:52.984Z"
   },
   {
    "duration": 12,
    "start_time": "2022-04-22T14:24:52.996Z"
   },
   {
    "duration": 5,
    "start_time": "2022-04-22T14:24:53.010Z"
   },
   {
    "duration": 36,
    "start_time": "2022-04-22T14:24:53.017Z"
   },
   {
    "duration": 13,
    "start_time": "2022-04-22T14:24:53.055Z"
   },
   {
    "duration": 9,
    "start_time": "2022-04-22T14:24:53.071Z"
   },
   {
    "duration": 17,
    "start_time": "2022-04-22T14:24:53.082Z"
   },
   {
    "duration": 5,
    "start_time": "2022-04-22T14:24:53.101Z"
   },
   {
    "duration": 12,
    "start_time": "2022-04-22T14:24:53.108Z"
   },
   {
    "duration": 18,
    "start_time": "2022-04-22T14:24:53.123Z"
   },
   {
    "duration": 11,
    "start_time": "2022-04-22T14:24:53.143Z"
   },
   {
    "duration": 7,
    "start_time": "2022-04-22T14:24:53.157Z"
   },
   {
    "duration": 8,
    "start_time": "2022-04-22T14:24:53.166Z"
   },
   {
    "duration": 8,
    "start_time": "2022-04-22T14:24:53.176Z"
   },
   {
    "duration": 6,
    "start_time": "2022-04-22T14:24:53.190Z"
   },
   {
    "duration": 5,
    "start_time": "2022-04-22T14:24:53.198Z"
   },
   {
    "duration": 7,
    "start_time": "2022-04-22T14:24:53.205Z"
   },
   {
    "duration": 15,
    "start_time": "2022-04-22T14:24:53.252Z"
   },
   {
    "duration": 19,
    "start_time": "2022-04-22T14:24:53.269Z"
   },
   {
    "duration": 20,
    "start_time": "2022-04-22T14:24:53.290Z"
   },
   {
    "duration": 41,
    "start_time": "2022-04-22T14:24:53.312Z"
   },
   {
    "duration": 15,
    "start_time": "2022-04-22T14:24:53.355Z"
   },
   {
    "duration": 31,
    "start_time": "2022-04-22T14:24:53.373Z"
   },
   {
    "duration": 54,
    "start_time": "2022-04-22T14:24:53.407Z"
   },
   {
    "duration": 5,
    "start_time": "2022-04-22T14:24:53.464Z"
   },
   {
    "duration": 20,
    "start_time": "2022-04-22T14:24:53.471Z"
   },
   {
    "duration": 8,
    "start_time": "2022-04-22T14:24:53.493Z"
   },
   {
    "duration": 12,
    "start_time": "2022-04-22T14:24:53.503Z"
   },
   {
    "duration": 20,
    "start_time": "2022-04-22T14:24:53.517Z"
   },
   {
    "duration": 15,
    "start_time": "2022-04-22T14:24:53.552Z"
   },
   {
    "duration": 12,
    "start_time": "2022-04-22T14:24:53.569Z"
   },
   {
    "duration": 5,
    "start_time": "2022-04-22T14:24:53.583Z"
   },
   {
    "duration": 6,
    "start_time": "2022-04-22T14:24:53.590Z"
   },
   {
    "duration": 608,
    "start_time": "2022-04-22T14:24:53.598Z"
   },
   {
    "duration": 5,
    "start_time": "2022-04-22T14:24:54.209Z"
   },
   {
    "duration": 13,
    "start_time": "2022-04-22T14:24:54.217Z"
   },
   {
    "duration": 51,
    "start_time": "2022-04-22T14:24:54.232Z"
   },
   {
    "duration": 851,
    "start_time": "2022-04-22T14:24:54.286Z"
   },
   {
    "duration": 290,
    "start_time": "2022-04-22T14:24:55.141Z"
   },
   {
    "duration": 285,
    "start_time": "2022-04-22T14:24:55.433Z"
   },
   {
    "duration": 266,
    "start_time": "2022-04-22T14:24:55.720Z"
   },
   {
    "duration": 14,
    "start_time": "2022-04-22T14:24:55.988Z"
   },
   {
    "duration": 262,
    "start_time": "2022-04-22T14:24:56.004Z"
   },
   {
    "duration": 17,
    "start_time": "2022-04-22T14:24:56.269Z"
   },
   {
    "duration": 16,
    "start_time": "2022-04-22T14:24:56.288Z"
   },
   {
    "duration": 46,
    "start_time": "2022-04-22T14:24:56.307Z"
   },
   {
    "duration": 15,
    "start_time": "2022-04-22T14:24:56.357Z"
   },
   {
    "duration": 21,
    "start_time": "2022-04-22T14:24:56.374Z"
   },
   {
    "duration": 14,
    "start_time": "2022-04-22T14:24:56.397Z"
   },
   {
    "duration": 4,
    "start_time": "2022-04-22T14:24:56.414Z"
   },
   {
    "duration": 32,
    "start_time": "2022-04-22T14:24:56.421Z"
   },
   {
    "duration": 23,
    "start_time": "2022-04-22T14:24:56.455Z"
   },
   {
    "duration": 8,
    "start_time": "2022-04-22T14:26:19.071Z"
   },
   {
    "duration": 8,
    "start_time": "2022-04-22T14:26:36.811Z"
   },
   {
    "duration": 6,
    "start_time": "2022-04-22T14:26:53.257Z"
   },
   {
    "duration": 8,
    "start_time": "2022-04-22T14:28:30.682Z"
   },
   {
    "duration": 6,
    "start_time": "2022-04-22T14:28:44.698Z"
   },
   {
    "duration": 8,
    "start_time": "2022-04-22T14:29:36.506Z"
   },
   {
    "duration": 6,
    "start_time": "2022-04-22T14:29:53.174Z"
   },
   {
    "duration": 6,
    "start_time": "2022-04-22T14:30:16.310Z"
   },
   {
    "duration": 7,
    "start_time": "2022-04-22T14:30:24.915Z"
   },
   {
    "duration": 6,
    "start_time": "2022-04-22T14:30:49.842Z"
   },
   {
    "duration": 23,
    "start_time": "2022-04-22T14:31:27.011Z"
   },
   {
    "duration": 6,
    "start_time": "2022-04-22T14:31:53.828Z"
   },
   {
    "duration": 6,
    "start_time": "2022-04-22T14:32:15.546Z"
   },
   {
    "duration": 5,
    "start_time": "2022-04-22T14:32:25.423Z"
   },
   {
    "duration": 531,
    "start_time": "2022-04-22T14:32:39.535Z"
   },
   {
    "duration": 4,
    "start_time": "2022-04-22T14:32:40.069Z"
   },
   {
    "duration": 139,
    "start_time": "2022-04-22T14:32:40.075Z"
   },
   {
    "duration": 37,
    "start_time": "2022-04-22T14:32:40.216Z"
   },
   {
    "duration": 34,
    "start_time": "2022-04-22T14:32:40.256Z"
   },
   {
    "duration": 98,
    "start_time": "2022-04-22T14:32:40.292Z"
   },
   {
    "duration": 12,
    "start_time": "2022-04-22T14:32:40.392Z"
   },
   {
    "duration": 28,
    "start_time": "2022-04-22T14:32:40.406Z"
   },
   {
    "duration": 24,
    "start_time": "2022-04-22T14:32:40.437Z"
   },
   {
    "duration": 48,
    "start_time": "2022-04-22T14:32:40.464Z"
   },
   {
    "duration": 32,
    "start_time": "2022-04-22T14:32:40.515Z"
   },
   {
    "duration": 32,
    "start_time": "2022-04-22T14:32:40.551Z"
   },
   {
    "duration": 16,
    "start_time": "2022-04-22T14:32:40.585Z"
   },
   {
    "duration": 18,
    "start_time": "2022-04-22T14:32:40.605Z"
   },
   {
    "duration": 32,
    "start_time": "2022-04-22T14:32:40.624Z"
   },
   {
    "duration": 9,
    "start_time": "2022-04-22T14:32:40.658Z"
   },
   {
    "duration": 24,
    "start_time": "2022-04-22T14:32:40.669Z"
   },
   {
    "duration": 23,
    "start_time": "2022-04-22T14:32:40.695Z"
   },
   {
    "duration": 23,
    "start_time": "2022-04-22T14:32:40.720Z"
   },
   {
    "duration": 35,
    "start_time": "2022-04-22T14:32:40.745Z"
   },
   {
    "duration": 16,
    "start_time": "2022-04-22T14:32:40.782Z"
   },
   {
    "duration": 29,
    "start_time": "2022-04-22T14:32:40.800Z"
   },
   {
    "duration": 13,
    "start_time": "2022-04-22T14:32:40.831Z"
   },
   {
    "duration": 25,
    "start_time": "2022-04-22T14:32:40.846Z"
   },
   {
    "duration": 25,
    "start_time": "2022-04-22T14:32:40.873Z"
   },
   {
    "duration": 13,
    "start_time": "2022-04-22T14:32:40.900Z"
   },
   {
    "duration": 17,
    "start_time": "2022-04-22T14:32:40.915Z"
   },
   {
    "duration": 23,
    "start_time": "2022-04-22T14:32:40.934Z"
   },
   {
    "duration": 29,
    "start_time": "2022-04-22T14:32:40.959Z"
   },
   {
    "duration": 20,
    "start_time": "2022-04-22T14:32:40.990Z"
   },
   {
    "duration": 36,
    "start_time": "2022-04-22T14:32:41.012Z"
   },
   {
    "duration": 26,
    "start_time": "2022-04-22T14:32:41.050Z"
   },
   {
    "duration": 47,
    "start_time": "2022-04-22T14:32:41.079Z"
   },
   {
    "duration": 27,
    "start_time": "2022-04-22T14:32:41.128Z"
   },
   {
    "duration": 28,
    "start_time": "2022-04-22T14:32:41.157Z"
   },
   {
    "duration": 51,
    "start_time": "2022-04-22T14:32:41.187Z"
   },
   {
    "duration": 18,
    "start_time": "2022-04-22T14:32:41.240Z"
   },
   {
    "duration": 17,
    "start_time": "2022-04-22T14:32:41.260Z"
   },
   {
    "duration": 17,
    "start_time": "2022-04-22T14:32:41.279Z"
   },
   {
    "duration": 16,
    "start_time": "2022-04-22T14:32:41.299Z"
   },
   {
    "duration": 4,
    "start_time": "2022-04-22T14:32:41.321Z"
   },
   {
    "duration": 27,
    "start_time": "2022-04-22T14:32:41.327Z"
   },
   {
    "duration": 36,
    "start_time": "2022-04-22T14:32:41.356Z"
   },
   {
    "duration": 21,
    "start_time": "2022-04-22T14:32:41.394Z"
   },
   {
    "duration": 14,
    "start_time": "2022-04-22T14:32:41.417Z"
   },
   {
    "duration": 18,
    "start_time": "2022-04-22T14:32:41.433Z"
   },
   {
    "duration": 569,
    "start_time": "2022-04-22T14:32:41.452Z"
   },
   {
    "duration": 6,
    "start_time": "2022-04-22T14:32:42.023Z"
   },
   {
    "duration": 21,
    "start_time": "2022-04-22T14:32:42.031Z"
   },
   {
    "duration": 35,
    "start_time": "2022-04-22T14:32:42.054Z"
   },
   {
    "duration": 553,
    "start_time": "2022-04-22T14:32:42.090Z"
   },
   {
    "duration": 237,
    "start_time": "2022-04-22T14:32:42.645Z"
   },
   {
    "duration": 332,
    "start_time": "2022-04-22T14:32:42.884Z"
   },
   {
    "duration": 271,
    "start_time": "2022-04-22T14:32:43.218Z"
   },
   {
    "duration": 12,
    "start_time": "2022-04-22T14:32:43.492Z"
   },
   {
    "duration": 252,
    "start_time": "2022-04-22T14:32:43.506Z"
   },
   {
    "duration": 16,
    "start_time": "2022-04-22T14:32:43.760Z"
   },
   {
    "duration": 32,
    "start_time": "2022-04-22T14:32:43.778Z"
   },
   {
    "duration": 11,
    "start_time": "2022-04-22T14:32:43.812Z"
   },
   {
    "duration": 26,
    "start_time": "2022-04-22T14:32:43.825Z"
   },
   {
    "duration": 36,
    "start_time": "2022-04-22T14:32:43.853Z"
   },
   {
    "duration": 14,
    "start_time": "2022-04-22T14:32:43.891Z"
   },
   {
    "duration": 24,
    "start_time": "2022-04-22T14:32:43.907Z"
   },
   {
    "duration": 32,
    "start_time": "2022-04-22T14:32:43.933Z"
   },
   {
    "duration": 41,
    "start_time": "2022-04-22T14:32:43.967Z"
   },
   {
    "duration": 20,
    "start_time": "2022-04-22T14:32:44.010Z"
   },
   {
    "duration": 23,
    "start_time": "2022-04-22T14:32:44.032Z"
   },
   {
    "duration": 11,
    "start_time": "2022-04-22T14:32:44.057Z"
   },
   {
    "duration": 13,
    "start_time": "2022-04-22T14:32:44.070Z"
   },
   {
    "duration": 22,
    "start_time": "2022-04-22T14:32:44.085Z"
   },
   {
    "duration": 5,
    "start_time": "2022-04-22T14:33:37.300Z"
   },
   {
    "duration": 6,
    "start_time": "2022-04-22T14:33:38.470Z"
   },
   {
    "duration": 6,
    "start_time": "2022-04-22T14:33:48.404Z"
   },
   {
    "duration": 547,
    "start_time": "2022-04-22T14:35:11.850Z"
   },
   {
    "duration": 4,
    "start_time": "2022-04-22T14:35:12.399Z"
   },
   {
    "duration": 135,
    "start_time": "2022-04-22T14:35:12.405Z"
   },
   {
    "duration": 33,
    "start_time": "2022-04-22T14:35:12.543Z"
   },
   {
    "duration": 26,
    "start_time": "2022-04-22T14:35:12.578Z"
   },
   {
    "duration": 113,
    "start_time": "2022-04-22T14:35:12.606Z"
   },
   {
    "duration": 30,
    "start_time": "2022-04-22T14:35:12.722Z"
   },
   {
    "duration": 17,
    "start_time": "2022-04-22T14:35:12.755Z"
   },
   {
    "duration": 7,
    "start_time": "2022-04-22T14:35:12.774Z"
   },
   {
    "duration": 66,
    "start_time": "2022-04-22T14:35:12.787Z"
   },
   {
    "duration": 15,
    "start_time": "2022-04-22T14:35:12.856Z"
   },
   {
    "duration": 11,
    "start_time": "2022-04-22T14:35:12.873Z"
   },
   {
    "duration": 7,
    "start_time": "2022-04-22T14:35:12.886Z"
   },
   {
    "duration": 9,
    "start_time": "2022-04-22T14:35:12.895Z"
   },
   {
    "duration": 46,
    "start_time": "2022-04-22T14:35:12.906Z"
   },
   {
    "duration": 6,
    "start_time": "2022-04-22T14:35:12.955Z"
   },
   {
    "duration": 9,
    "start_time": "2022-04-22T14:35:12.963Z"
   },
   {
    "duration": 10,
    "start_time": "2022-04-22T14:35:12.974Z"
   },
   {
    "duration": 6,
    "start_time": "2022-04-22T14:35:12.987Z"
   },
   {
    "duration": 56,
    "start_time": "2022-04-22T14:35:12.996Z"
   },
   {
    "duration": 7,
    "start_time": "2022-04-22T14:35:13.054Z"
   },
   {
    "duration": 6,
    "start_time": "2022-04-22T14:35:13.064Z"
   },
   {
    "duration": 7,
    "start_time": "2022-04-22T14:35:13.072Z"
   },
   {
    "duration": 7,
    "start_time": "2022-04-22T14:35:13.081Z"
   },
   {
    "duration": 7,
    "start_time": "2022-04-22T14:35:13.091Z"
   },
   {
    "duration": 55,
    "start_time": "2022-04-22T14:35:13.101Z"
   },
   {
    "duration": 6,
    "start_time": "2022-04-22T14:35:13.158Z"
   },
   {
    "duration": 5,
    "start_time": "2022-04-22T14:35:13.170Z"
   },
   {
    "duration": 8,
    "start_time": "2022-04-22T14:35:13.177Z"
   },
   {
    "duration": 5,
    "start_time": "2022-04-22T14:35:13.187Z"
   },
   {
    "duration": 59,
    "start_time": "2022-04-22T14:35:13.194Z"
   },
   {
    "duration": 19,
    "start_time": "2022-04-22T14:35:13.256Z"
   },
   {
    "duration": 20,
    "start_time": "2022-04-22T14:35:13.277Z"
   },
   {
    "duration": 15,
    "start_time": "2022-04-22T14:35:13.299Z"
   },
   {
    "duration": 39,
    "start_time": "2022-04-22T14:35:13.316Z"
   },
   {
    "duration": 31,
    "start_time": "2022-04-22T14:35:13.357Z"
   },
   {
    "duration": 18,
    "start_time": "2022-04-22T14:35:13.390Z"
   },
   {
    "duration": 5,
    "start_time": "2022-04-22T14:35:13.410Z"
   },
   {
    "duration": 39,
    "start_time": "2022-04-22T14:35:13.417Z"
   },
   {
    "duration": 5,
    "start_time": "2022-04-22T14:35:13.458Z"
   },
   {
    "duration": 5,
    "start_time": "2022-04-22T14:35:13.465Z"
   },
   {
    "duration": 17,
    "start_time": "2022-04-22T14:35:13.472Z"
   },
   {
    "duration": 21,
    "start_time": "2022-04-22T14:35:13.491Z"
   },
   {
    "duration": 38,
    "start_time": "2022-04-22T14:35:13.514Z"
   },
   {
    "duration": 5,
    "start_time": "2022-04-22T14:35:13.554Z"
   },
   {
    "duration": 8,
    "start_time": "2022-04-22T14:35:13.561Z"
   },
   {
    "duration": 584,
    "start_time": "2022-04-22T14:35:13.571Z"
   },
   {
    "duration": 5,
    "start_time": "2022-04-22T14:35:14.157Z"
   },
   {
    "duration": 9,
    "start_time": "2022-04-22T14:35:14.164Z"
   },
   {
    "duration": 38,
    "start_time": "2022-04-22T14:35:14.175Z"
   },
   {
    "duration": 564,
    "start_time": "2022-04-22T14:35:14.215Z"
   },
   {
    "duration": 250,
    "start_time": "2022-04-22T14:35:14.781Z"
   },
   {
    "duration": 328,
    "start_time": "2022-04-22T14:35:15.033Z"
   },
   {
    "duration": 270,
    "start_time": "2022-04-22T14:35:15.363Z"
   },
   {
    "duration": 20,
    "start_time": "2022-04-22T14:35:15.635Z"
   },
   {
    "duration": 243,
    "start_time": "2022-04-22T14:35:15.656Z"
   },
   {
    "duration": 16,
    "start_time": "2022-04-22T14:35:15.901Z"
   },
   {
    "duration": 34,
    "start_time": "2022-04-22T14:35:15.919Z"
   },
   {
    "duration": 12,
    "start_time": "2022-04-22T14:35:15.955Z"
   },
   {
    "duration": 17,
    "start_time": "2022-04-22T14:35:15.969Z"
   },
   {
    "duration": 14,
    "start_time": "2022-04-22T14:35:15.988Z"
   },
   {
    "duration": 13,
    "start_time": "2022-04-22T14:35:16.004Z"
   },
   {
    "duration": 31,
    "start_time": "2022-04-22T14:35:16.020Z"
   },
   {
    "duration": 11,
    "start_time": "2022-04-22T14:35:16.053Z"
   },
   {
    "duration": 12,
    "start_time": "2022-04-22T14:35:16.066Z"
   },
   {
    "duration": 552,
    "start_time": "2022-04-22T14:36:28.524Z"
   },
   {
    "duration": 3,
    "start_time": "2022-04-22T14:36:29.079Z"
   },
   {
    "duration": 146,
    "start_time": "2022-04-22T14:36:29.084Z"
   },
   {
    "duration": 35,
    "start_time": "2022-04-22T14:36:29.234Z"
   },
   {
    "duration": 30,
    "start_time": "2022-04-22T14:36:29.272Z"
   },
   {
    "duration": 115,
    "start_time": "2022-04-22T14:36:29.304Z"
   },
   {
    "duration": 13,
    "start_time": "2022-04-22T14:36:29.421Z"
   },
   {
    "duration": 15,
    "start_time": "2022-04-22T14:36:29.452Z"
   },
   {
    "duration": 6,
    "start_time": "2022-04-22T14:36:29.469Z"
   },
   {
    "duration": 26,
    "start_time": "2022-04-22T14:36:29.480Z"
   },
   {
    "duration": 50,
    "start_time": "2022-04-22T14:36:29.508Z"
   },
   {
    "duration": 10,
    "start_time": "2022-04-22T14:36:29.560Z"
   },
   {
    "duration": 7,
    "start_time": "2022-04-22T14:36:29.572Z"
   },
   {
    "duration": 5,
    "start_time": "2022-04-22T14:36:29.581Z"
   },
   {
    "duration": 6,
    "start_time": "2022-04-22T14:36:29.589Z"
   },
   {
    "duration": 4,
    "start_time": "2022-04-22T14:36:29.598Z"
   },
   {
    "duration": 48,
    "start_time": "2022-04-22T14:36:29.606Z"
   },
   {
    "duration": 12,
    "start_time": "2022-04-22T14:36:29.657Z"
   },
   {
    "duration": 14,
    "start_time": "2022-04-22T14:36:29.672Z"
   },
   {
    "duration": 7,
    "start_time": "2022-04-22T14:36:29.688Z"
   },
   {
    "duration": 5,
    "start_time": "2022-04-22T14:36:29.698Z"
   },
   {
    "duration": 47,
    "start_time": "2022-04-22T14:36:29.705Z"
   },
   {
    "duration": 7,
    "start_time": "2022-04-22T14:36:29.754Z"
   },
   {
    "duration": 10,
    "start_time": "2022-04-22T14:36:29.763Z"
   },
   {
    "duration": 9,
    "start_time": "2022-04-22T14:36:29.776Z"
   },
   {
    "duration": 6,
    "start_time": "2022-04-22T14:36:29.787Z"
   },
   {
    "duration": 12,
    "start_time": "2022-04-22T14:36:29.795Z"
   },
   {
    "duration": 7,
    "start_time": "2022-04-22T14:36:29.851Z"
   },
   {
    "duration": 15,
    "start_time": "2022-04-22T14:36:29.860Z"
   },
   {
    "duration": 8,
    "start_time": "2022-04-22T14:36:29.877Z"
   },
   {
    "duration": 22,
    "start_time": "2022-04-22T14:36:29.888Z"
   },
   {
    "duration": 57,
    "start_time": "2022-04-22T14:36:29.913Z"
   },
   {
    "duration": 28,
    "start_time": "2022-04-22T14:36:29.973Z"
   },
   {
    "duration": 19,
    "start_time": "2022-04-22T14:36:30.004Z"
   },
   {
    "duration": 43,
    "start_time": "2022-04-22T14:36:30.026Z"
   },
   {
    "duration": 40,
    "start_time": "2022-04-22T14:36:30.071Z"
   },
   {
    "duration": 44,
    "start_time": "2022-04-22T14:36:30.113Z"
   },
   {
    "duration": 7,
    "start_time": "2022-04-22T14:36:30.160Z"
   },
   {
    "duration": 20,
    "start_time": "2022-04-22T14:36:30.170Z"
   },
   {
    "duration": 6,
    "start_time": "2022-04-22T14:36:30.193Z"
   },
   {
    "duration": 7,
    "start_time": "2022-04-22T14:36:30.202Z"
   },
   {
    "duration": 49,
    "start_time": "2022-04-22T14:36:30.212Z"
   },
   {
    "duration": 30,
    "start_time": "2022-04-22T14:36:30.264Z"
   },
   {
    "duration": 21,
    "start_time": "2022-04-22T14:36:30.296Z"
   },
   {
    "duration": 14,
    "start_time": "2022-04-22T14:36:30.320Z"
   },
   {
    "duration": 17,
    "start_time": "2022-04-22T14:36:30.337Z"
   },
   {
    "duration": 712,
    "start_time": "2022-04-22T14:36:30.356Z"
   },
   {
    "duration": 7,
    "start_time": "2022-04-22T14:36:31.071Z"
   },
   {
    "duration": 36,
    "start_time": "2022-04-22T14:36:31.082Z"
   },
   {
    "duration": 68,
    "start_time": "2022-04-22T14:36:31.120Z"
   },
   {
    "duration": 696,
    "start_time": "2022-04-22T14:36:31.190Z"
   },
   {
    "duration": 446,
    "start_time": "2022-04-22T14:36:31.888Z"
   },
   {
    "duration": 356,
    "start_time": "2022-04-22T14:36:32.336Z"
   },
   {
    "duration": 400,
    "start_time": "2022-04-22T14:36:32.695Z"
   },
   {
    "duration": 12,
    "start_time": "2022-04-22T14:36:33.098Z"
   },
   {
    "duration": 260,
    "start_time": "2022-04-22T14:36:33.112Z"
   },
   {
    "duration": 16,
    "start_time": "2022-04-22T14:36:33.374Z"
   },
   {
    "duration": 14,
    "start_time": "2022-04-22T14:36:33.392Z"
   },
   {
    "duration": 46,
    "start_time": "2022-04-22T14:36:33.408Z"
   },
   {
    "duration": 5,
    "start_time": "2022-04-22T14:36:33.456Z"
   },
   {
    "duration": 20,
    "start_time": "2022-04-22T14:36:33.463Z"
   },
   {
    "duration": 14,
    "start_time": "2022-04-22T14:36:33.485Z"
   },
   {
    "duration": 4,
    "start_time": "2022-04-22T14:36:33.501Z"
   },
   {
    "duration": 49,
    "start_time": "2022-04-22T14:36:33.507Z"
   },
   {
    "duration": 11,
    "start_time": "2022-04-22T14:36:33.558Z"
   },
   {
    "duration": 7,
    "start_time": "2022-04-22T14:37:19.031Z"
   },
   {
    "duration": 116,
    "start_time": "2022-04-22T14:37:46.439Z"
   },
   {
    "duration": 6,
    "start_time": "2022-04-22T14:38:25.677Z"
   },
   {
    "duration": 9,
    "start_time": "2022-04-22T14:38:50.975Z"
   },
   {
    "duration": 24,
    "start_time": "2022-04-22T14:43:56.642Z"
   },
   {
    "duration": 4,
    "start_time": "2022-04-22T14:47:09.882Z"
   },
   {
    "duration": 20,
    "start_time": "2022-04-22T14:47:12.998Z"
   },
   {
    "duration": 406,
    "start_time": "2022-04-22T14:50:18.027Z"
   },
   {
    "duration": 264,
    "start_time": "2022-04-22T14:50:46.591Z"
   },
   {
    "duration": 266,
    "start_time": "2022-04-22T14:51:02.855Z"
   },
   {
    "duration": 266,
    "start_time": "2022-04-22T14:51:40.160Z"
   },
   {
    "duration": 306,
    "start_time": "2022-04-22T14:51:54.038Z"
   },
   {
    "duration": 538,
    "start_time": "2022-04-22T14:55:54.645Z"
   },
   {
    "duration": 5,
    "start_time": "2022-04-22T14:55:55.186Z"
   },
   {
    "duration": 143,
    "start_time": "2022-04-22T14:55:55.193Z"
   },
   {
    "duration": 38,
    "start_time": "2022-04-22T14:55:55.338Z"
   },
   {
    "duration": 23,
    "start_time": "2022-04-22T14:55:55.380Z"
   },
   {
    "duration": 148,
    "start_time": "2022-04-22T14:55:55.405Z"
   },
   {
    "duration": 17,
    "start_time": "2022-04-22T14:55:55.555Z"
   },
   {
    "duration": 15,
    "start_time": "2022-04-22T14:55:55.574Z"
   },
   {
    "duration": 7,
    "start_time": "2022-04-22T14:55:55.591Z"
   },
   {
    "duration": 68,
    "start_time": "2022-04-22T14:55:55.600Z"
   },
   {
    "duration": 16,
    "start_time": "2022-04-22T14:55:55.670Z"
   },
   {
    "duration": 14,
    "start_time": "2022-04-22T14:55:55.688Z"
   },
   {
    "duration": 10,
    "start_time": "2022-04-22T14:55:55.704Z"
   },
   {
    "duration": 9,
    "start_time": "2022-04-22T14:55:55.719Z"
   },
   {
    "duration": 7,
    "start_time": "2022-04-22T14:55:55.752Z"
   },
   {
    "duration": 12,
    "start_time": "2022-04-22T14:55:55.761Z"
   },
   {
    "duration": 7,
    "start_time": "2022-04-22T14:55:55.775Z"
   },
   {
    "duration": 10,
    "start_time": "2022-04-22T14:55:55.784Z"
   },
   {
    "duration": 5,
    "start_time": "2022-04-22T14:55:55.797Z"
   },
   {
    "duration": 8,
    "start_time": "2022-04-22T14:55:55.804Z"
   },
   {
    "duration": 7,
    "start_time": "2022-04-22T14:55:55.851Z"
   },
   {
    "duration": 7,
    "start_time": "2022-04-22T14:55:55.861Z"
   },
   {
    "duration": 11,
    "start_time": "2022-04-22T14:55:55.870Z"
   },
   {
    "duration": 6,
    "start_time": "2022-04-22T14:55:55.883Z"
   },
   {
    "duration": 8,
    "start_time": "2022-04-22T14:55:55.891Z"
   },
   {
    "duration": 4,
    "start_time": "2022-04-22T14:55:55.902Z"
   },
   {
    "duration": 44,
    "start_time": "2022-04-22T14:55:55.908Z"
   },
   {
    "duration": 8,
    "start_time": "2022-04-22T14:55:55.955Z"
   },
   {
    "duration": 13,
    "start_time": "2022-04-22T14:55:55.965Z"
   },
   {
    "duration": 6,
    "start_time": "2022-04-22T14:55:55.980Z"
   },
   {
    "duration": 17,
    "start_time": "2022-04-22T14:55:55.989Z"
   },
   {
    "duration": 51,
    "start_time": "2022-04-22T14:55:56.008Z"
   },
   {
    "duration": 19,
    "start_time": "2022-04-22T14:55:56.062Z"
   },
   {
    "duration": 18,
    "start_time": "2022-04-22T14:55:56.083Z"
   },
   {
    "duration": 15,
    "start_time": "2022-04-22T14:55:56.103Z"
   },
   {
    "duration": 60,
    "start_time": "2022-04-22T14:55:56.120Z"
   },
   {
    "duration": 22,
    "start_time": "2022-04-22T14:55:56.183Z"
   },
   {
    "duration": 5,
    "start_time": "2022-04-22T14:55:56.207Z"
   },
   {
    "duration": 12,
    "start_time": "2022-04-22T14:55:56.251Z"
   },
   {
    "duration": 8,
    "start_time": "2022-04-22T14:55:56.265Z"
   },
   {
    "duration": 4,
    "start_time": "2022-04-22T14:55:56.281Z"
   },
   {
    "duration": 22,
    "start_time": "2022-04-22T14:55:56.288Z"
   },
   {
    "duration": 43,
    "start_time": "2022-04-22T14:55:56.312Z"
   },
   {
    "duration": 7,
    "start_time": "2022-04-22T14:55:56.358Z"
   },
   {
    "duration": 6,
    "start_time": "2022-04-22T14:55:56.367Z"
   },
   {
    "duration": 7,
    "start_time": "2022-04-22T14:55:56.376Z"
   },
   {
    "duration": 633,
    "start_time": "2022-04-22T14:55:56.386Z"
   },
   {
    "duration": 5,
    "start_time": "2022-04-22T14:55:57.022Z"
   },
   {
    "duration": 23,
    "start_time": "2022-04-22T14:55:57.029Z"
   },
   {
    "duration": 37,
    "start_time": "2022-04-22T14:55:57.054Z"
   },
   {
    "duration": 590,
    "start_time": "2022-04-22T14:55:57.093Z"
   },
   {
    "duration": 308,
    "start_time": "2022-04-22T14:55:57.686Z"
   },
   {
    "duration": 342,
    "start_time": "2022-04-22T14:55:57.996Z"
   },
   {
    "duration": 321,
    "start_time": "2022-04-22T14:55:58.341Z"
   },
   {
    "duration": 12,
    "start_time": "2022-04-22T14:55:58.664Z"
   },
   {
    "duration": 270,
    "start_time": "2022-04-22T14:55:58.679Z"
   },
   {
    "duration": 16,
    "start_time": "2022-04-22T14:55:58.952Z"
   },
   {
    "duration": 16,
    "start_time": "2022-04-22T14:55:58.970Z"
   },
   {
    "duration": 15,
    "start_time": "2022-04-22T14:55:58.989Z"
   },
   {
    "duration": 45,
    "start_time": "2022-04-22T14:55:59.007Z"
   },
   {
    "duration": 15,
    "start_time": "2022-04-22T14:55:59.054Z"
   },
   {
    "duration": 13,
    "start_time": "2022-04-22T14:55:59.071Z"
   },
   {
    "duration": 4,
    "start_time": "2022-04-22T14:55:59.086Z"
   },
   {
    "duration": 14,
    "start_time": "2022-04-22T14:55:59.092Z"
   },
   {
    "duration": 48,
    "start_time": "2022-04-22T14:55:59.109Z"
   },
   {
    "duration": 5,
    "start_time": "2022-04-22T14:55:59.159Z"
   },
   {
    "duration": 8,
    "start_time": "2022-04-22T14:55:59.166Z"
   },
   {
    "duration": 6,
    "start_time": "2022-04-22T14:55:59.176Z"
   },
   {
    "duration": 346,
    "start_time": "2022-04-22T14:55:59.184Z"
   },
   {
    "duration": 40,
    "start_time": "2022-04-22T14:55:59.533Z"
   },
   {
    "duration": 261,
    "start_time": "2022-04-22T14:59:13.340Z"
   },
   {
    "duration": 273,
    "start_time": "2022-04-22T14:59:31.079Z"
   },
   {
    "duration": 117,
    "start_time": "2022-04-22T15:01:17.321Z"
   },
   {
    "duration": 369,
    "start_time": "2022-04-22T15:01:39.627Z"
   },
   {
    "duration": 331,
    "start_time": "2022-04-22T15:02:13.835Z"
   },
   {
    "duration": 300,
    "start_time": "2022-04-22T15:02:37.964Z"
   },
   {
    "duration": 25,
    "start_time": "2022-04-22T15:02:42.183Z"
   },
   {
    "duration": 289,
    "start_time": "2022-04-22T15:02:45.338Z"
   },
   {
    "duration": 278,
    "start_time": "2022-04-22T15:02:55.258Z"
   },
   {
    "duration": 358,
    "start_time": "2022-04-22T15:03:03.143Z"
   },
   {
    "duration": 373,
    "start_time": "2022-04-22T15:03:55.743Z"
   },
   {
    "duration": 276,
    "start_time": "2022-04-22T15:04:08.744Z"
   },
   {
    "duration": 280,
    "start_time": "2022-04-22T15:04:19.391Z"
   },
   {
    "duration": 483,
    "start_time": "2022-04-25T11:31:15.086Z"
   },
   {
    "duration": 3,
    "start_time": "2022-04-25T11:31:15.571Z"
   },
   {
    "duration": 106,
    "start_time": "2022-04-25T11:31:15.575Z"
   },
   {
    "duration": 24,
    "start_time": "2022-04-25T11:31:15.684Z"
   },
   {
    "duration": 15,
    "start_time": "2022-04-25T11:31:15.710Z"
   },
   {
    "duration": 86,
    "start_time": "2022-04-25T11:31:15.726Z"
   },
   {
    "duration": 9,
    "start_time": "2022-04-25T11:31:15.813Z"
   },
   {
    "duration": 11,
    "start_time": "2022-04-25T11:31:15.824Z"
   },
   {
    "duration": 4,
    "start_time": "2022-04-25T11:31:15.836Z"
   },
   {
    "duration": 20,
    "start_time": "2022-04-25T11:31:15.843Z"
   },
   {
    "duration": 44,
    "start_time": "2022-04-25T11:31:15.865Z"
   },
   {
    "duration": 6,
    "start_time": "2022-04-25T11:31:15.911Z"
   },
   {
    "duration": 6,
    "start_time": "2022-04-25T11:31:15.919Z"
   },
   {
    "duration": 4,
    "start_time": "2022-04-25T11:31:15.927Z"
   },
   {
    "duration": 5,
    "start_time": "2022-04-25T11:31:15.933Z"
   },
   {
    "duration": 3,
    "start_time": "2022-04-25T11:31:15.940Z"
   },
   {
    "duration": 4,
    "start_time": "2022-04-25T11:31:15.945Z"
   },
   {
    "duration": 5,
    "start_time": "2022-04-25T11:31:15.951Z"
   },
   {
    "duration": 4,
    "start_time": "2022-04-25T11:31:15.958Z"
   },
   {
    "duration": 51,
    "start_time": "2022-04-25T11:31:15.964Z"
   },
   {
    "duration": 4,
    "start_time": "2022-04-25T11:31:16.017Z"
   },
   {
    "duration": 13,
    "start_time": "2022-04-25T11:31:16.022Z"
   },
   {
    "duration": 5,
    "start_time": "2022-04-25T11:31:16.037Z"
   },
   {
    "duration": 6,
    "start_time": "2022-04-25T11:31:16.044Z"
   },
   {
    "duration": 5,
    "start_time": "2022-04-25T11:31:16.052Z"
   },
   {
    "duration": 5,
    "start_time": "2022-04-25T11:31:16.059Z"
   },
   {
    "duration": 11,
    "start_time": "2022-04-25T11:31:16.066Z"
   },
   {
    "duration": 4,
    "start_time": "2022-04-25T11:31:16.107Z"
   },
   {
    "duration": 5,
    "start_time": "2022-04-25T11:31:16.113Z"
   },
   {
    "duration": 4,
    "start_time": "2022-04-25T11:31:16.119Z"
   },
   {
    "duration": 13,
    "start_time": "2022-04-25T11:31:16.125Z"
   },
   {
    "duration": 14,
    "start_time": "2022-04-25T11:31:16.139Z"
   },
   {
    "duration": 15,
    "start_time": "2022-04-25T11:31:16.155Z"
   },
   {
    "duration": 37,
    "start_time": "2022-04-25T11:31:16.172Z"
   },
   {
    "duration": 11,
    "start_time": "2022-04-25T11:31:16.211Z"
   },
   {
    "duration": 23,
    "start_time": "2022-04-25T11:31:16.223Z"
   },
   {
    "duration": 13,
    "start_time": "2022-04-25T11:31:16.248Z"
   },
   {
    "duration": 3,
    "start_time": "2022-04-25T11:31:16.263Z"
   },
   {
    "duration": 43,
    "start_time": "2022-04-25T11:31:16.268Z"
   },
   {
    "duration": 3,
    "start_time": "2022-04-25T11:31:16.312Z"
   },
   {
    "duration": 6,
    "start_time": "2022-04-25T11:31:16.316Z"
   },
   {
    "duration": 13,
    "start_time": "2022-04-25T11:31:16.324Z"
   },
   {
    "duration": 11,
    "start_time": "2022-04-25T11:31:16.339Z"
   },
   {
    "duration": 7,
    "start_time": "2022-04-25T11:31:16.351Z"
   },
   {
    "duration": 4,
    "start_time": "2022-04-25T11:31:16.360Z"
   },
   {
    "duration": 3,
    "start_time": "2022-04-25T11:31:16.366Z"
   },
   {
    "duration": 401,
    "start_time": "2022-04-25T11:31:16.371Z"
   },
   {
    "duration": 4,
    "start_time": "2022-04-25T11:31:16.774Z"
   },
   {
    "duration": 6,
    "start_time": "2022-04-25T11:31:16.779Z"
   },
   {
    "duration": 40,
    "start_time": "2022-04-25T11:31:16.787Z"
   },
   {
    "duration": 535,
    "start_time": "2022-04-25T11:31:16.829Z"
   },
   {
    "duration": 212,
    "start_time": "2022-04-25T11:31:17.366Z"
   },
   {
    "duration": 191,
    "start_time": "2022-04-25T11:31:17.579Z"
   },
   {
    "duration": 193,
    "start_time": "2022-04-25T11:31:17.772Z"
   },
   {
    "duration": 10,
    "start_time": "2022-04-25T11:31:17.967Z"
   },
   {
    "duration": 176,
    "start_time": "2022-04-25T11:31:17.979Z"
   },
   {
    "duration": 13,
    "start_time": "2022-04-25T11:31:18.157Z"
   },
   {
    "duration": 10,
    "start_time": "2022-04-25T11:31:18.172Z"
   },
   {
    "duration": 26,
    "start_time": "2022-04-25T11:31:18.184Z"
   },
   {
    "duration": 6,
    "start_time": "2022-04-25T11:31:18.211Z"
   },
   {
    "duration": 16,
    "start_time": "2022-04-25T11:31:18.219Z"
   },
   {
    "duration": 9,
    "start_time": "2022-04-25T11:31:18.237Z"
   },
   {
    "duration": 3,
    "start_time": "2022-04-25T11:31:18.248Z"
   },
   {
    "duration": 9,
    "start_time": "2022-04-25T11:31:18.253Z"
   },
   {
    "duration": 10,
    "start_time": "2022-04-25T11:31:18.263Z"
   },
   {
    "duration": 4,
    "start_time": "2022-04-25T11:31:18.275Z"
   },
   {
    "duration": 33,
    "start_time": "2022-04-25T11:31:18.308Z"
   },
   {
    "duration": 8,
    "start_time": "2022-04-25T11:31:18.343Z"
   },
   {
    "duration": 196,
    "start_time": "2022-04-25T11:31:18.353Z"
   },
   {
    "duration": 422,
    "start_time": "2022-04-25T11:33:17.838Z"
   },
   {
    "duration": 3,
    "start_time": "2022-04-25T11:33:18.262Z"
   },
   {
    "duration": 101,
    "start_time": "2022-04-25T11:33:18.266Z"
   },
   {
    "duration": 19,
    "start_time": "2022-04-25T11:33:18.369Z"
   },
   {
    "duration": 26,
    "start_time": "2022-04-25T11:33:18.391Z"
   },
   {
    "duration": 69,
    "start_time": "2022-04-25T11:33:18.419Z"
   },
   {
    "duration": 25,
    "start_time": "2022-04-25T11:33:18.490Z"
   },
   {
    "duration": 11,
    "start_time": "2022-04-25T11:33:18.516Z"
   },
   {
    "duration": 4,
    "start_time": "2022-04-25T11:33:18.528Z"
   },
   {
    "duration": 20,
    "start_time": "2022-04-25T11:33:18.533Z"
   },
   {
    "duration": 9,
    "start_time": "2022-04-25T11:33:18.554Z"
   },
   {
    "duration": 43,
    "start_time": "2022-04-25T11:33:18.564Z"
   },
   {
    "duration": 5,
    "start_time": "2022-04-25T11:33:18.609Z"
   },
   {
    "duration": 4,
    "start_time": "2022-04-25T11:33:18.617Z"
   },
   {
    "duration": 5,
    "start_time": "2022-04-25T11:33:18.622Z"
   },
   {
    "duration": 3,
    "start_time": "2022-04-25T11:33:18.629Z"
   },
   {
    "duration": 5,
    "start_time": "2022-04-25T11:33:18.633Z"
   },
   {
    "duration": 7,
    "start_time": "2022-04-25T11:33:18.639Z"
   },
   {
    "duration": 4,
    "start_time": "2022-04-25T11:33:18.648Z"
   },
   {
    "duration": 5,
    "start_time": "2022-04-25T11:33:18.653Z"
   },
   {
    "duration": 5,
    "start_time": "2022-04-25T11:33:18.659Z"
   },
   {
    "duration": 41,
    "start_time": "2022-04-25T11:33:18.666Z"
   },
   {
    "duration": 6,
    "start_time": "2022-04-25T11:33:18.709Z"
   },
   {
    "duration": 4,
    "start_time": "2022-04-25T11:33:18.717Z"
   },
   {
    "duration": 5,
    "start_time": "2022-04-25T11:33:18.723Z"
   },
   {
    "duration": 4,
    "start_time": "2022-04-25T11:33:18.730Z"
   },
   {
    "duration": 4,
    "start_time": "2022-04-25T11:33:18.736Z"
   },
   {
    "duration": 5,
    "start_time": "2022-04-25T11:33:18.742Z"
   },
   {
    "duration": 4,
    "start_time": "2022-04-25T11:33:18.748Z"
   },
   {
    "duration": 4,
    "start_time": "2022-04-25T11:33:18.754Z"
   },
   {
    "duration": 56,
    "start_time": "2022-04-25T11:33:18.759Z"
   },
   {
    "duration": 14,
    "start_time": "2022-04-25T11:33:18.817Z"
   },
   {
    "duration": 13,
    "start_time": "2022-04-25T11:33:18.833Z"
   },
   {
    "duration": 12,
    "start_time": "2022-04-25T11:33:18.848Z"
   },
   {
    "duration": 2,
    "start_time": "2022-04-25T11:33:18.861Z"
   },
   {
    "duration": 55,
    "start_time": "2022-04-25T11:33:18.865Z"
   },
   {
    "duration": 13,
    "start_time": "2022-04-25T11:33:18.922Z"
   },
   {
    "duration": 4,
    "start_time": "2022-04-25T11:33:18.937Z"
   },
   {
    "duration": 10,
    "start_time": "2022-04-25T11:33:18.943Z"
   },
   {
    "duration": 4,
    "start_time": "2022-04-25T11:33:18.955Z"
   },
   {
    "duration": 3,
    "start_time": "2022-04-25T11:33:18.963Z"
   },
   {
    "duration": 41,
    "start_time": "2022-04-25T11:33:18.967Z"
   },
   {
    "duration": 12,
    "start_time": "2022-04-25T11:33:19.009Z"
   },
   {
    "duration": 9,
    "start_time": "2022-04-25T11:33:19.022Z"
   },
   {
    "duration": 5,
    "start_time": "2022-04-25T11:33:19.032Z"
   },
   {
    "duration": 8,
    "start_time": "2022-04-25T11:33:19.038Z"
   },
   {
    "duration": 377,
    "start_time": "2022-04-25T11:33:19.048Z"
   },
   {
    "duration": 4,
    "start_time": "2022-04-25T11:33:19.427Z"
   },
   {
    "duration": 9,
    "start_time": "2022-04-25T11:33:19.432Z"
   },
   {
    "duration": 27,
    "start_time": "2022-04-25T11:33:19.442Z"
   },
   {
    "duration": 381,
    "start_time": "2022-04-25T11:33:19.471Z"
   },
   {
    "duration": 208,
    "start_time": "2022-04-25T11:33:19.853Z"
   },
   {
    "duration": 184,
    "start_time": "2022-04-25T11:33:20.063Z"
   },
   {
    "duration": 178,
    "start_time": "2022-04-25T11:33:20.249Z"
   },
   {
    "duration": 10,
    "start_time": "2022-04-25T11:33:20.428Z"
   },
   {
    "duration": 165,
    "start_time": "2022-04-25T11:33:20.439Z"
   },
   {
    "duration": 10,
    "start_time": "2022-04-25T11:33:20.607Z"
   },
   {
    "duration": 10,
    "start_time": "2022-04-25T11:33:20.618Z"
   },
   {
    "duration": 8,
    "start_time": "2022-04-25T11:33:20.629Z"
   },
   {
    "duration": 5,
    "start_time": "2022-04-25T11:33:20.638Z"
   },
   {
    "duration": 10,
    "start_time": "2022-04-25T11:33:20.644Z"
   },
   {
    "duration": 9,
    "start_time": "2022-04-25T11:33:20.655Z"
   },
   {
    "duration": 2,
    "start_time": "2022-04-25T11:33:20.666Z"
   },
   {
    "duration": 43,
    "start_time": "2022-04-25T11:33:20.670Z"
   },
   {
    "duration": 13,
    "start_time": "2022-04-25T11:33:20.715Z"
   },
   {
    "duration": 5,
    "start_time": "2022-04-25T11:33:20.729Z"
   },
   {
    "duration": 5,
    "start_time": "2022-04-25T11:33:20.735Z"
   },
   {
    "duration": 4,
    "start_time": "2022-04-25T11:33:20.742Z"
   },
   {
    "duration": 207,
    "start_time": "2022-04-25T11:33:20.747Z"
   },
   {
    "duration": 149,
    "start_time": "2022-04-25T11:34:52.408Z"
   },
   {
    "duration": 156,
    "start_time": "2022-04-25T11:38:50.852Z"
   },
   {
    "duration": 159,
    "start_time": "2022-04-25T11:38:59.548Z"
   },
   {
    "duration": 167,
    "start_time": "2022-04-25T11:39:04.783Z"
   },
   {
    "duration": 158,
    "start_time": "2022-04-25T11:39:08.888Z"
   },
   {
    "duration": 170,
    "start_time": "2022-04-25T11:39:12.673Z"
   },
   {
    "duration": 242,
    "start_time": "2022-04-25T11:39:18.903Z"
   },
   {
    "duration": 149,
    "start_time": "2022-04-25T11:39:28.305Z"
   },
   {
    "duration": 153,
    "start_time": "2022-04-25T11:39:45.412Z"
   },
   {
    "duration": 160,
    "start_time": "2022-04-25T11:40:04.643Z"
   },
   {
    "duration": 143,
    "start_time": "2022-04-25T11:40:26.846Z"
   },
   {
    "duration": 157,
    "start_time": "2022-04-25T11:40:48.868Z"
   },
   {
    "duration": 162,
    "start_time": "2022-04-25T11:40:56.789Z"
   },
   {
    "duration": 163,
    "start_time": "2022-04-25T11:41:06.909Z"
   },
   {
    "duration": 126,
    "start_time": "2022-04-25T11:41:40.467Z"
   },
   {
    "duration": 135,
    "start_time": "2022-04-25T11:41:49.757Z"
   },
   {
    "duration": 145,
    "start_time": "2022-04-25T11:42:00.604Z"
   },
   {
    "duration": 222,
    "start_time": "2022-04-25T11:42:14.555Z"
   },
   {
    "duration": 141,
    "start_time": "2022-04-25T11:42:23.717Z"
   },
   {
    "duration": 161,
    "start_time": "2022-04-25T11:42:56.083Z"
   },
   {
    "duration": 168,
    "start_time": "2022-04-25T11:43:16.083Z"
   },
   {
    "duration": 133,
    "start_time": "2022-04-25T11:44:03.931Z"
   },
   {
    "duration": 138,
    "start_time": "2022-04-25T11:44:11.307Z"
   },
   {
    "duration": 145,
    "start_time": "2022-04-25T11:44:16.307Z"
   },
   {
    "duration": 133,
    "start_time": "2022-04-25T11:44:21.600Z"
   },
   {
    "duration": 135,
    "start_time": "2022-04-25T11:44:26.035Z"
   },
   {
    "duration": 145,
    "start_time": "2022-04-25T11:44:39.473Z"
   },
   {
    "duration": 122,
    "start_time": "2022-04-25T11:44:46.401Z"
   },
   {
    "duration": 217,
    "start_time": "2022-04-25T11:44:54.621Z"
   },
   {
    "duration": 141,
    "start_time": "2022-04-25T11:45:06.133Z"
   },
   {
    "duration": 127,
    "start_time": "2022-04-25T11:45:18.721Z"
   },
   {
    "duration": 136,
    "start_time": "2022-04-25T11:45:26.106Z"
   },
   {
    "duration": 452,
    "start_time": "2022-04-25T11:57:33.677Z"
   },
   {
    "duration": 2,
    "start_time": "2022-04-25T11:57:34.131Z"
   },
   {
    "duration": 102,
    "start_time": "2022-04-25T11:57:34.134Z"
   },
   {
    "duration": 19,
    "start_time": "2022-04-25T11:57:34.238Z"
   },
   {
    "duration": 21,
    "start_time": "2022-04-25T11:57:34.258Z"
   },
   {
    "duration": 84,
    "start_time": "2022-04-25T11:57:34.280Z"
   },
   {
    "duration": 9,
    "start_time": "2022-04-25T11:57:34.365Z"
   },
   {
    "duration": 10,
    "start_time": "2022-04-25T11:57:34.375Z"
   },
   {
    "duration": 4,
    "start_time": "2022-04-25T11:57:34.386Z"
   },
   {
    "duration": 20,
    "start_time": "2022-04-25T11:57:34.407Z"
   },
   {
    "duration": 9,
    "start_time": "2022-04-25T11:57:34.428Z"
   },
   {
    "duration": 8,
    "start_time": "2022-04-25T11:57:34.439Z"
   },
   {
    "duration": 5,
    "start_time": "2022-04-25T11:57:34.448Z"
   },
   {
    "duration": 5,
    "start_time": "2022-04-25T11:57:34.454Z"
   },
   {
    "duration": 5,
    "start_time": "2022-04-25T11:57:34.460Z"
   },
   {
    "duration": 41,
    "start_time": "2022-04-25T11:57:34.467Z"
   },
   {
    "duration": 5,
    "start_time": "2022-04-25T11:57:34.510Z"
   },
   {
    "duration": 8,
    "start_time": "2022-04-25T11:57:34.516Z"
   },
   {
    "duration": 5,
    "start_time": "2022-04-25T11:57:34.526Z"
   },
   {
    "duration": 5,
    "start_time": "2022-04-25T11:57:34.532Z"
   },
   {
    "duration": 5,
    "start_time": "2022-04-25T11:57:34.539Z"
   },
   {
    "duration": 6,
    "start_time": "2022-04-25T11:57:34.545Z"
   },
   {
    "duration": 5,
    "start_time": "2022-04-25T11:57:34.552Z"
   },
   {
    "duration": 6,
    "start_time": "2022-04-25T11:57:34.558Z"
   },
   {
    "duration": 44,
    "start_time": "2022-04-25T11:57:34.566Z"
   },
   {
    "duration": 5,
    "start_time": "2022-04-25T11:57:34.612Z"
   },
   {
    "duration": 5,
    "start_time": "2022-04-25T11:57:34.618Z"
   },
   {
    "duration": 4,
    "start_time": "2022-04-25T11:57:34.628Z"
   },
   {
    "duration": 5,
    "start_time": "2022-04-25T11:57:34.634Z"
   },
   {
    "duration": 5,
    "start_time": "2022-04-25T11:57:34.640Z"
   },
   {
    "duration": 11,
    "start_time": "2022-04-25T11:57:34.647Z"
   },
   {
    "duration": 53,
    "start_time": "2022-04-25T11:57:34.659Z"
   },
   {
    "duration": 13,
    "start_time": "2022-04-25T11:57:34.714Z"
   },
   {
    "duration": 11,
    "start_time": "2022-04-25T11:57:34.728Z"
   },
   {
    "duration": 2,
    "start_time": "2022-04-25T11:57:34.740Z"
   },
   {
    "duration": 24,
    "start_time": "2022-04-25T11:57:34.744Z"
   },
   {
    "duration": 46,
    "start_time": "2022-04-25T11:57:34.770Z"
   },
   {
    "duration": 4,
    "start_time": "2022-04-25T11:57:34.817Z"
   },
   {
    "duration": 9,
    "start_time": "2022-04-25T11:57:34.823Z"
   },
   {
    "duration": 4,
    "start_time": "2022-04-25T11:57:34.833Z"
   },
   {
    "duration": 5,
    "start_time": "2022-04-25T11:57:34.838Z"
   },
   {
    "duration": 13,
    "start_time": "2022-04-25T11:57:34.844Z"
   },
   {
    "duration": 12,
    "start_time": "2022-04-25T11:57:34.858Z"
   },
   {
    "duration": 36,
    "start_time": "2022-04-25T11:57:34.871Z"
   },
   {
    "duration": 5,
    "start_time": "2022-04-25T11:57:34.909Z"
   },
   {
    "duration": 6,
    "start_time": "2022-04-25T11:57:34.915Z"
   },
   {
    "duration": 351,
    "start_time": "2022-04-25T11:57:34.923Z"
   },
   {
    "duration": 4,
    "start_time": "2022-04-25T11:57:35.276Z"
   },
   {
    "duration": 5,
    "start_time": "2022-04-25T11:57:35.282Z"
   },
   {
    "duration": 38,
    "start_time": "2022-04-25T11:57:35.289Z"
   },
   {
    "duration": 365,
    "start_time": "2022-04-25T11:57:35.329Z"
   },
   {
    "duration": 183,
    "start_time": "2022-04-25T11:57:35.696Z"
   },
   {
    "duration": 171,
    "start_time": "2022-04-25T11:57:35.881Z"
   },
   {
    "duration": 169,
    "start_time": "2022-04-25T11:57:36.054Z"
   },
   {
    "duration": 9,
    "start_time": "2022-04-25T11:57:36.225Z"
   },
   {
    "duration": 163,
    "start_time": "2022-04-25T11:57:36.236Z"
   },
   {
    "duration": 11,
    "start_time": "2022-04-25T11:57:36.406Z"
   },
   {
    "duration": 11,
    "start_time": "2022-04-25T11:57:36.419Z"
   },
   {
    "duration": 9,
    "start_time": "2022-04-25T11:57:36.431Z"
   },
   {
    "duration": 4,
    "start_time": "2022-04-25T11:57:36.442Z"
   },
   {
    "duration": 15,
    "start_time": "2022-04-25T11:57:36.448Z"
   },
   {
    "duration": 10,
    "start_time": "2022-04-25T11:57:36.465Z"
   },
   {
    "duration": 3,
    "start_time": "2022-04-25T11:57:36.507Z"
   },
   {
    "duration": 10,
    "start_time": "2022-04-25T11:57:36.512Z"
   },
   {
    "duration": 12,
    "start_time": "2022-04-25T11:57:36.524Z"
   },
   {
    "duration": 5,
    "start_time": "2022-04-25T11:57:36.537Z"
   },
   {
    "duration": 6,
    "start_time": "2022-04-25T11:57:36.543Z"
   },
   {
    "duration": 5,
    "start_time": "2022-04-25T11:57:36.551Z"
   },
   {
    "duration": 212,
    "start_time": "2022-04-25T11:57:36.557Z"
   },
   {
    "duration": 17,
    "start_time": "2022-04-25T11:58:06.922Z"
   },
   {
    "duration": 23,
    "start_time": "2022-04-25T11:58:20.533Z"
   },
   {
    "duration": 7,
    "start_time": "2022-04-25T11:59:36.985Z"
   },
   {
    "duration": 32,
    "start_time": "2022-04-25T11:59:47.615Z"
   },
   {
    "duration": 15,
    "start_time": "2022-04-25T12:00:26.164Z"
   },
   {
    "duration": 8,
    "start_time": "2022-04-25T12:00:57.985Z"
   },
   {
    "duration": 7,
    "start_time": "2022-04-25T12:02:17.195Z"
   },
   {
    "duration": 141,
    "start_time": "2022-04-25T12:02:44.043Z"
   },
   {
    "duration": 8,
    "start_time": "2022-04-25T12:03:30.455Z"
   },
   {
    "duration": 173,
    "start_time": "2022-04-25T12:03:53.807Z"
   },
   {
    "duration": 10,
    "start_time": "2022-04-25T12:05:00.921Z"
   },
   {
    "duration": 138,
    "start_time": "2022-04-25T12:05:15.980Z"
   },
   {
    "duration": 71,
    "start_time": "2022-04-25T12:56:48.710Z"
   },
   {
    "duration": 7,
    "start_time": "2022-04-25T12:56:55.186Z"
   },
   {
    "duration": 392,
    "start_time": "2022-04-25T12:57:59.364Z"
   },
   {
    "duration": 2,
    "start_time": "2022-04-25T12:57:59.758Z"
   },
   {
    "duration": 105,
    "start_time": "2022-04-25T12:57:59.762Z"
   },
   {
    "duration": 19,
    "start_time": "2022-04-25T12:57:59.869Z"
   },
   {
    "duration": 30,
    "start_time": "2022-04-25T12:57:59.890Z"
   },
   {
    "duration": 67,
    "start_time": "2022-04-25T12:57:59.921Z"
   },
   {
    "duration": 24,
    "start_time": "2022-04-25T12:57:59.989Z"
   },
   {
    "duration": 13,
    "start_time": "2022-04-25T12:58:00.016Z"
   },
   {
    "duration": 5,
    "start_time": "2022-04-25T12:58:00.031Z"
   },
   {
    "duration": 20,
    "start_time": "2022-04-25T12:58:00.040Z"
   },
   {
    "duration": 10,
    "start_time": "2022-04-25T12:58:00.062Z"
   },
   {
    "duration": 6,
    "start_time": "2022-04-25T12:58:00.106Z"
   },
   {
    "duration": 11,
    "start_time": "2022-04-25T12:58:00.114Z"
   },
   {
    "duration": 16,
    "start_time": "2022-04-25T12:58:00.126Z"
   },
   {
    "duration": 16,
    "start_time": "2022-04-25T12:58:00.143Z"
   },
   {
    "duration": 5,
    "start_time": "2022-04-25T12:58:00.161Z"
   },
   {
    "duration": 11,
    "start_time": "2022-04-25T12:58:00.168Z"
   },
   {
    "duration": 13,
    "start_time": "2022-04-25T12:58:00.181Z"
   },
   {
    "duration": 14,
    "start_time": "2022-04-25T12:58:00.196Z"
   },
   {
    "duration": 7,
    "start_time": "2022-04-25T12:58:00.211Z"
   },
   {
    "duration": 6,
    "start_time": "2022-04-25T12:58:00.220Z"
   },
   {
    "duration": 5,
    "start_time": "2022-04-25T12:58:00.228Z"
   },
   {
    "duration": 6,
    "start_time": "2022-04-25T12:58:00.235Z"
   },
   {
    "duration": 6,
    "start_time": "2022-04-25T12:58:00.243Z"
   },
   {
    "duration": 8,
    "start_time": "2022-04-25T12:58:00.251Z"
   },
   {
    "duration": 10,
    "start_time": "2022-04-25T12:58:00.261Z"
   },
   {
    "duration": 37,
    "start_time": "2022-04-25T12:58:00.273Z"
   },
   {
    "duration": 5,
    "start_time": "2022-04-25T12:58:00.315Z"
   },
   {
    "duration": 16,
    "start_time": "2022-04-25T12:58:00.321Z"
   },
   {
    "duration": 6,
    "start_time": "2022-04-25T12:58:00.338Z"
   },
   {
    "duration": 13,
    "start_time": "2022-04-25T12:58:00.345Z"
   },
   {
    "duration": 14,
    "start_time": "2022-04-25T12:58:00.359Z"
   },
   {
    "duration": 18,
    "start_time": "2022-04-25T12:58:00.375Z"
   },
   {
    "duration": 21,
    "start_time": "2022-04-25T12:58:00.394Z"
   },
   {
    "duration": 3,
    "start_time": "2022-04-25T12:58:00.416Z"
   },
   {
    "duration": 26,
    "start_time": "2022-04-25T12:58:00.421Z"
   },
   {
    "duration": 13,
    "start_time": "2022-04-25T12:58:00.449Z"
   },
   {
    "duration": 4,
    "start_time": "2022-04-25T12:58:00.463Z"
   },
   {
    "duration": 40,
    "start_time": "2022-04-25T12:58:00.469Z"
   },
   {
    "duration": 2,
    "start_time": "2022-04-25T12:58:00.511Z"
   },
   {
    "duration": 8,
    "start_time": "2022-04-25T12:58:00.515Z"
   },
   {
    "duration": 27,
    "start_time": "2022-04-25T12:58:00.525Z"
   },
   {
    "duration": 11,
    "start_time": "2022-04-25T12:58:00.553Z"
   },
   {
    "duration": 10,
    "start_time": "2022-04-25T12:58:00.565Z"
   },
   {
    "duration": 5,
    "start_time": "2022-04-25T12:58:00.577Z"
   },
   {
    "duration": 5,
    "start_time": "2022-04-25T12:58:00.584Z"
   },
   {
    "duration": 358,
    "start_time": "2022-04-25T12:58:00.590Z"
   },
   {
    "duration": 4,
    "start_time": "2022-04-25T12:58:00.950Z"
   },
   {
    "duration": 6,
    "start_time": "2022-04-25T12:58:00.955Z"
   },
   {
    "duration": 32,
    "start_time": "2022-04-25T12:58:00.963Z"
   },
   {
    "duration": 394,
    "start_time": "2022-04-25T12:58:00.996Z"
   },
   {
    "duration": 201,
    "start_time": "2022-04-25T12:58:01.392Z"
   },
   {
    "duration": 181,
    "start_time": "2022-04-25T12:58:01.595Z"
   },
   {
    "duration": 164,
    "start_time": "2022-04-25T12:58:01.777Z"
   },
   {
    "duration": 8,
    "start_time": "2022-04-25T12:58:01.943Z"
   },
   {
    "duration": 163,
    "start_time": "2022-04-25T12:58:01.953Z"
   },
   {
    "duration": 11,
    "start_time": "2022-04-25T12:58:02.117Z"
   },
   {
    "duration": 9,
    "start_time": "2022-04-25T12:58:02.129Z"
   },
   {
    "duration": 8,
    "start_time": "2022-04-25T12:58:02.140Z"
   },
   {
    "duration": 5,
    "start_time": "2022-04-25T12:58:02.149Z"
   },
   {
    "duration": 10,
    "start_time": "2022-04-25T12:58:02.155Z"
   },
   {
    "duration": 40,
    "start_time": "2022-04-25T12:58:02.167Z"
   },
   {
    "duration": 3,
    "start_time": "2022-04-25T12:58:02.209Z"
   },
   {
    "duration": 10,
    "start_time": "2022-04-25T12:58:02.213Z"
   },
   {
    "duration": 8,
    "start_time": "2022-04-25T12:58:02.225Z"
   },
   {
    "duration": 6,
    "start_time": "2022-04-25T12:58:02.235Z"
   },
   {
    "duration": 7,
    "start_time": "2022-04-25T12:58:02.242Z"
   },
   {
    "duration": 4,
    "start_time": "2022-04-25T12:58:02.251Z"
   },
   {
    "duration": 234,
    "start_time": "2022-04-25T12:58:02.257Z"
   },
   {
    "duration": 36,
    "start_time": "2022-04-25T12:58:02.493Z"
   },
   {
    "duration": 7,
    "start_time": "2022-04-25T12:58:02.531Z"
   },
   {
    "duration": 167,
    "start_time": "2022-04-25T12:58:02.540Z"
   },
   {
    "duration": 10,
    "start_time": "2022-04-25T12:58:02.710Z"
   },
   {
    "duration": 8,
    "start_time": "2022-04-25T12:58:02.722Z"
   },
   {
    "duration": 177,
    "start_time": "2022-04-25T12:58:02.732Z"
   },
   {
    "duration": 9,
    "start_time": "2022-04-25T12:58:02.911Z"
   },
   {
    "duration": 15,
    "start_time": "2022-04-25T12:58:02.922Z"
   },
   {
    "duration": 75,
    "start_time": "2022-04-25T12:58:57.042Z"
   },
   {
    "duration": 9,
    "start_time": "2022-04-25T12:59:56.413Z"
   },
   {
    "duration": 103,
    "start_time": "2022-04-25T13:01:20.687Z"
   },
   {
    "duration": 281,
    "start_time": "2022-04-25T13:01:49.740Z"
   },
   {
    "duration": 158,
    "start_time": "2022-04-25T13:02:13.610Z"
   },
   {
    "duration": 207,
    "start_time": "2022-04-25T13:02:54.069Z"
   },
   {
    "duration": 499,
    "start_time": "2022-04-25T13:03:19.085Z"
   },
   {
    "duration": 3,
    "start_time": "2022-04-25T13:03:19.607Z"
   },
   {
    "duration": 114,
    "start_time": "2022-04-25T13:03:19.612Z"
   },
   {
    "duration": 22,
    "start_time": "2022-04-25T13:03:19.728Z"
   },
   {
    "duration": 19,
    "start_time": "2022-04-25T13:03:19.753Z"
   },
   {
    "duration": 99,
    "start_time": "2022-04-25T13:03:19.774Z"
   },
   {
    "duration": 10,
    "start_time": "2022-04-25T13:03:19.875Z"
   },
   {
    "duration": 29,
    "start_time": "2022-04-25T13:03:19.887Z"
   },
   {
    "duration": 4,
    "start_time": "2022-04-25T13:03:19.918Z"
   },
   {
    "duration": 21,
    "start_time": "2022-04-25T13:03:19.924Z"
   },
   {
    "duration": 10,
    "start_time": "2022-04-25T13:03:19.947Z"
   },
   {
    "duration": 7,
    "start_time": "2022-04-25T13:03:19.959Z"
   },
   {
    "duration": 43,
    "start_time": "2022-04-25T13:03:19.968Z"
   },
   {
    "duration": 7,
    "start_time": "2022-04-25T13:03:20.013Z"
   },
   {
    "duration": 6,
    "start_time": "2022-04-25T13:03:20.022Z"
   },
   {
    "duration": 5,
    "start_time": "2022-04-25T13:03:20.030Z"
   },
   {
    "duration": 8,
    "start_time": "2022-04-25T13:03:20.037Z"
   },
   {
    "duration": 11,
    "start_time": "2022-04-25T13:03:20.046Z"
   },
   {
    "duration": 8,
    "start_time": "2022-04-25T13:03:20.059Z"
   },
   {
    "duration": 44,
    "start_time": "2022-04-25T13:03:20.069Z"
   },
   {
    "duration": 5,
    "start_time": "2022-04-25T13:03:20.115Z"
   },
   {
    "duration": 6,
    "start_time": "2022-04-25T13:03:20.122Z"
   },
   {
    "duration": 7,
    "start_time": "2022-04-25T13:03:20.130Z"
   },
   {
    "duration": 5,
    "start_time": "2022-04-25T13:03:20.139Z"
   },
   {
    "duration": 8,
    "start_time": "2022-04-25T13:03:20.146Z"
   },
   {
    "duration": 6,
    "start_time": "2022-04-25T13:03:20.156Z"
   },
   {
    "duration": 6,
    "start_time": "2022-04-25T13:03:20.163Z"
   },
   {
    "duration": 5,
    "start_time": "2022-04-25T13:03:20.211Z"
   },
   {
    "duration": 6,
    "start_time": "2022-04-25T13:03:20.218Z"
   },
   {
    "duration": 11,
    "start_time": "2022-04-25T13:03:20.225Z"
   },
   {
    "duration": 17,
    "start_time": "2022-04-25T13:03:20.237Z"
   },
   {
    "duration": 15,
    "start_time": "2022-04-25T13:03:20.256Z"
   },
   {
    "duration": 34,
    "start_time": "2022-04-25T13:03:20.273Z"
   },
   {
    "duration": 14,
    "start_time": "2022-04-25T13:03:20.309Z"
   },
   {
    "duration": 3,
    "start_time": "2022-04-25T13:03:20.324Z"
   },
   {
    "duration": 36,
    "start_time": "2022-04-25T13:03:20.328Z"
   },
   {
    "duration": 14,
    "start_time": "2022-04-25T13:03:20.366Z"
   },
   {
    "duration": 26,
    "start_time": "2022-04-25T13:03:20.382Z"
   },
   {
    "duration": 17,
    "start_time": "2022-04-25T13:03:20.410Z"
   },
   {
    "duration": 3,
    "start_time": "2022-04-25T13:03:20.429Z"
   },
   {
    "duration": 6,
    "start_time": "2022-04-25T13:03:20.433Z"
   },
   {
    "duration": 17,
    "start_time": "2022-04-25T13:03:20.441Z"
   },
   {
    "duration": 15,
    "start_time": "2022-04-25T13:03:20.460Z"
   },
   {
    "duration": 10,
    "start_time": "2022-04-25T13:03:20.477Z"
   },
   {
    "duration": 19,
    "start_time": "2022-04-25T13:03:20.488Z"
   },
   {
    "duration": 5,
    "start_time": "2022-04-25T13:03:20.509Z"
   },
   {
    "duration": 392,
    "start_time": "2022-04-25T13:03:20.515Z"
   },
   {
    "duration": 4,
    "start_time": "2022-04-25T13:03:20.909Z"
   },
   {
    "duration": 12,
    "start_time": "2022-04-25T13:03:20.914Z"
   },
   {
    "duration": 30,
    "start_time": "2022-04-25T13:03:20.928Z"
   },
   {
    "duration": 408,
    "start_time": "2022-04-25T13:03:20.960Z"
   },
   {
    "duration": 212,
    "start_time": "2022-04-25T13:03:21.370Z"
   },
   {
    "duration": 189,
    "start_time": "2022-04-25T13:03:21.584Z"
   },
   {
    "duration": 177,
    "start_time": "2022-04-25T13:03:21.775Z"
   },
   {
    "duration": 9,
    "start_time": "2022-04-25T13:03:21.954Z"
   },
   {
    "duration": 176,
    "start_time": "2022-04-25T13:03:21.965Z"
   },
   {
    "duration": 12,
    "start_time": "2022-04-25T13:03:22.143Z"
   },
   {
    "duration": 15,
    "start_time": "2022-04-25T13:03:22.157Z"
   },
   {
    "duration": 37,
    "start_time": "2022-04-25T13:03:22.174Z"
   },
   {
    "duration": 7,
    "start_time": "2022-04-25T13:03:22.213Z"
   },
   {
    "duration": 12,
    "start_time": "2022-04-25T13:03:22.222Z"
   },
   {
    "duration": 11,
    "start_time": "2022-04-25T13:03:22.236Z"
   },
   {
    "duration": 3,
    "start_time": "2022-04-25T13:03:22.249Z"
   },
   {
    "duration": 14,
    "start_time": "2022-04-25T13:03:22.254Z"
   },
   {
    "duration": 13,
    "start_time": "2022-04-25T13:03:22.270Z"
   },
   {
    "duration": 29,
    "start_time": "2022-04-25T13:03:22.284Z"
   },
   {
    "duration": 11,
    "start_time": "2022-04-25T13:03:22.316Z"
   },
   {
    "duration": 9,
    "start_time": "2022-04-25T13:03:22.330Z"
   },
   {
    "duration": 206,
    "start_time": "2022-04-25T13:03:22.342Z"
   },
   {
    "duration": 26,
    "start_time": "2022-04-25T13:03:22.550Z"
   },
   {
    "duration": 9,
    "start_time": "2022-04-25T13:03:22.578Z"
   },
   {
    "duration": 158,
    "start_time": "2022-04-25T13:03:22.608Z"
   },
   {
    "duration": 8,
    "start_time": "2022-04-25T13:03:22.768Z"
   },
   {
    "duration": 7,
    "start_time": "2022-04-25T13:03:22.777Z"
   },
   {
    "duration": 176,
    "start_time": "2022-04-25T13:03:22.786Z"
   },
   {
    "duration": 8,
    "start_time": "2022-04-25T13:03:22.964Z"
   },
   {
    "duration": 332,
    "start_time": "2022-04-25T13:06:03.652Z"
   },
   {
    "duration": 184,
    "start_time": "2022-04-25T13:07:11.112Z"
   },
   {
    "duration": 26,
    "start_time": "2022-04-25T13:08:53.208Z"
   },
   {
    "duration": 11,
    "start_time": "2022-04-25T13:10:12.631Z"
   },
   {
    "duration": 10,
    "start_time": "2022-04-25T13:10:56.893Z"
   },
   {
    "duration": 10,
    "start_time": "2022-04-25T13:13:56.738Z"
   },
   {
    "duration": 12,
    "start_time": "2022-04-25T13:15:41.195Z"
   },
   {
    "duration": 69,
    "start_time": "2022-04-25T13:22:57.426Z"
   },
   {
    "duration": 75,
    "start_time": "2022-04-25T13:23:05.779Z"
   },
   {
    "duration": 386,
    "start_time": "2022-04-25T13:25:06.653Z"
   },
   {
    "duration": 4,
    "start_time": "2022-04-25T13:25:07.041Z"
   },
   {
    "duration": 101,
    "start_time": "2022-04-25T13:25:07.047Z"
   },
   {
    "duration": 20,
    "start_time": "2022-04-25T13:25:07.151Z"
   },
   {
    "duration": 17,
    "start_time": "2022-04-25T13:25:07.173Z"
   },
   {
    "duration": 68,
    "start_time": "2022-04-25T13:25:07.207Z"
   },
   {
    "duration": 8,
    "start_time": "2022-04-25T13:25:07.277Z"
   },
   {
    "duration": 25,
    "start_time": "2022-04-25T13:25:07.287Z"
   },
   {
    "duration": 4,
    "start_time": "2022-04-25T13:25:07.314Z"
   },
   {
    "duration": 23,
    "start_time": "2022-04-25T13:25:07.319Z"
   },
   {
    "duration": 8,
    "start_time": "2022-04-25T13:25:07.344Z"
   },
   {
    "duration": 7,
    "start_time": "2022-04-25T13:25:07.354Z"
   },
   {
    "duration": 8,
    "start_time": "2022-04-25T13:25:07.363Z"
   },
   {
    "duration": 33,
    "start_time": "2022-04-25T13:25:07.374Z"
   },
   {
    "duration": 5,
    "start_time": "2022-04-25T13:25:07.409Z"
   },
   {
    "duration": 7,
    "start_time": "2022-04-25T13:25:07.415Z"
   },
   {
    "duration": 7,
    "start_time": "2022-04-25T13:25:07.423Z"
   },
   {
    "duration": 10,
    "start_time": "2022-04-25T13:25:07.431Z"
   },
   {
    "duration": 8,
    "start_time": "2022-04-25T13:25:07.442Z"
   },
   {
    "duration": 7,
    "start_time": "2022-04-25T13:25:07.451Z"
   },
   {
    "duration": 8,
    "start_time": "2022-04-25T13:25:07.459Z"
   },
   {
    "duration": 6,
    "start_time": "2022-04-25T13:25:07.468Z"
   },
   {
    "duration": 4,
    "start_time": "2022-04-25T13:25:07.476Z"
   },
   {
    "duration": 26,
    "start_time": "2022-04-25T13:25:07.482Z"
   },
   {
    "duration": 8,
    "start_time": "2022-04-25T13:25:07.510Z"
   },
   {
    "duration": 5,
    "start_time": "2022-04-25T13:25:07.519Z"
   },
   {
    "duration": 8,
    "start_time": "2022-04-25T13:25:07.526Z"
   },
   {
    "duration": 6,
    "start_time": "2022-04-25T13:25:07.535Z"
   },
   {
    "duration": 5,
    "start_time": "2022-04-25T13:25:07.543Z"
   },
   {
    "duration": 9,
    "start_time": "2022-04-25T13:25:07.549Z"
   },
   {
    "duration": 12,
    "start_time": "2022-04-25T13:25:07.559Z"
   },
   {
    "duration": 39,
    "start_time": "2022-04-25T13:25:07.573Z"
   },
   {
    "duration": 15,
    "start_time": "2022-04-25T13:25:07.614Z"
   },
   {
    "duration": 15,
    "start_time": "2022-04-25T13:25:07.630Z"
   },
   {
    "duration": 2,
    "start_time": "2022-04-25T13:25:07.647Z"
   },
   {
    "duration": 34,
    "start_time": "2022-04-25T13:25:07.651Z"
   },
   {
    "duration": 32,
    "start_time": "2022-04-25T13:25:07.687Z"
   },
   {
    "duration": 3,
    "start_time": "2022-04-25T13:25:07.721Z"
   },
   {
    "duration": 12,
    "start_time": "2022-04-25T13:25:07.726Z"
   },
   {
    "duration": 6,
    "start_time": "2022-04-25T13:25:07.739Z"
   },
   {
    "duration": 3,
    "start_time": "2022-04-25T13:25:07.749Z"
   },
   {
    "duration": 15,
    "start_time": "2022-04-25T13:25:07.754Z"
   },
   {
    "duration": 11,
    "start_time": "2022-04-25T13:25:07.771Z"
   },
   {
    "duration": 24,
    "start_time": "2022-04-25T13:25:07.783Z"
   },
   {
    "duration": 4,
    "start_time": "2022-04-25T13:25:07.809Z"
   },
   {
    "duration": 5,
    "start_time": "2022-04-25T13:25:07.814Z"
   },
   {
    "duration": 376,
    "start_time": "2022-04-25T13:25:07.821Z"
   },
   {
    "duration": 8,
    "start_time": "2022-04-25T13:25:08.199Z"
   },
   {
    "duration": 6,
    "start_time": "2022-04-25T13:25:08.208Z"
   },
   {
    "duration": 30,
    "start_time": "2022-04-25T13:25:08.216Z"
   },
   {
    "duration": 413,
    "start_time": "2022-04-25T13:25:08.247Z"
   },
   {
    "duration": 204,
    "start_time": "2022-04-25T13:25:08.662Z"
   },
   {
    "duration": 175,
    "start_time": "2022-04-25T13:25:08.868Z"
   },
   {
    "duration": 171,
    "start_time": "2022-04-25T13:25:09.044Z"
   },
   {
    "duration": 9,
    "start_time": "2022-04-25T13:25:09.217Z"
   },
   {
    "duration": 173,
    "start_time": "2022-04-25T13:25:09.228Z"
   },
   {
    "duration": 12,
    "start_time": "2022-04-25T13:25:09.407Z"
   },
   {
    "duration": 87,
    "start_time": "2022-04-25T13:25:09.420Z"
   },
   {
    "duration": 10,
    "start_time": "2022-04-25T13:25:09.509Z"
   },
   {
    "duration": 9,
    "start_time": "2022-04-25T13:25:09.520Z"
   },
   {
    "duration": 7,
    "start_time": "2022-04-25T13:25:09.531Z"
   },
   {
    "duration": 10,
    "start_time": "2022-04-25T13:25:09.540Z"
   },
   {
    "duration": 10,
    "start_time": "2022-04-25T13:25:09.551Z"
   },
   {
    "duration": 3,
    "start_time": "2022-04-25T13:25:09.562Z"
   },
   {
    "duration": 43,
    "start_time": "2022-04-25T13:25:09.566Z"
   },
   {
    "duration": 9,
    "start_time": "2022-04-25T13:25:09.611Z"
   },
   {
    "duration": 5,
    "start_time": "2022-04-25T13:25:09.622Z"
   },
   {
    "duration": 8,
    "start_time": "2022-04-25T13:25:09.628Z"
   },
   {
    "duration": 7,
    "start_time": "2022-04-25T13:25:09.638Z"
   },
   {
    "duration": 223,
    "start_time": "2022-04-25T13:25:09.647Z"
   },
   {
    "duration": 25,
    "start_time": "2022-04-25T13:25:09.871Z"
   },
   {
    "duration": 12,
    "start_time": "2022-04-25T13:25:09.908Z"
   },
   {
    "duration": 7,
    "start_time": "2022-04-25T13:25:09.922Z"
   },
   {
    "duration": 167,
    "start_time": "2022-04-25T13:25:09.931Z"
   },
   {
    "duration": 14,
    "start_time": "2022-04-25T13:25:10.100Z"
   },
   {
    "duration": 9,
    "start_time": "2022-04-25T13:25:10.117Z"
   },
   {
    "duration": 167,
    "start_time": "2022-04-25T13:25:10.128Z"
   },
   {
    "duration": 17,
    "start_time": "2022-04-25T13:25:10.297Z"
   },
   {
    "duration": 117,
    "start_time": "2022-04-25T13:30:19.642Z"
   },
   {
    "duration": 57,
    "start_time": "2022-04-25T13:31:00.811Z"
   },
   {
    "duration": 56,
    "start_time": "2022-04-25T13:31:55.306Z"
   },
   {
    "duration": 71,
    "start_time": "2022-04-25T13:32:21.824Z"
   },
   {
    "duration": 437,
    "start_time": "2022-04-25T14:24:43.496Z"
   },
   {
    "duration": 3,
    "start_time": "2022-04-25T14:24:43.935Z"
   },
   {
    "duration": 111,
    "start_time": "2022-04-25T14:24:43.940Z"
   },
   {
    "duration": 20,
    "start_time": "2022-04-25T14:24:44.053Z"
   },
   {
    "duration": 34,
    "start_time": "2022-04-25T14:24:44.077Z"
   },
   {
    "duration": 101,
    "start_time": "2022-04-25T14:24:44.114Z"
   },
   {
    "duration": 9,
    "start_time": "2022-04-25T14:24:44.217Z"
   },
   {
    "duration": 11,
    "start_time": "2022-04-25T14:24:44.228Z"
   },
   {
    "duration": 4,
    "start_time": "2022-04-25T14:24:44.241Z"
   },
   {
    "duration": 21,
    "start_time": "2022-04-25T14:24:44.246Z"
   },
   {
    "duration": 43,
    "start_time": "2022-04-25T14:24:44.268Z"
   },
   {
    "duration": 6,
    "start_time": "2022-04-25T14:24:44.313Z"
   },
   {
    "duration": 10,
    "start_time": "2022-04-25T14:24:44.321Z"
   },
   {
    "duration": 5,
    "start_time": "2022-04-25T14:24:44.334Z"
   },
   {
    "duration": 6,
    "start_time": "2022-04-25T14:24:44.340Z"
   },
   {
    "duration": 5,
    "start_time": "2022-04-25T14:24:44.347Z"
   },
   {
    "duration": 6,
    "start_time": "2022-04-25T14:24:44.353Z"
   },
   {
    "duration": 6,
    "start_time": "2022-04-25T14:24:44.360Z"
   },
   {
    "duration": 39,
    "start_time": "2022-04-25T14:24:44.368Z"
   },
   {
    "duration": 5,
    "start_time": "2022-04-25T14:24:44.409Z"
   },
   {
    "duration": 7,
    "start_time": "2022-04-25T14:24:44.415Z"
   },
   {
    "duration": 4,
    "start_time": "2022-04-25T14:24:44.423Z"
   },
   {
    "duration": 5,
    "start_time": "2022-04-25T14:24:44.428Z"
   },
   {
    "duration": 5,
    "start_time": "2022-04-25T14:24:44.434Z"
   },
   {
    "duration": 6,
    "start_time": "2022-04-25T14:24:44.440Z"
   },
   {
    "duration": 4,
    "start_time": "2022-04-25T14:24:44.447Z"
   },
   {
    "duration": 5,
    "start_time": "2022-04-25T14:24:44.453Z"
   },
   {
    "duration": 5,
    "start_time": "2022-04-25T14:24:44.460Z"
   },
   {
    "duration": 41,
    "start_time": "2022-04-25T14:24:44.466Z"
   },
   {
    "duration": 5,
    "start_time": "2022-04-25T14:24:44.509Z"
   },
   {
    "duration": 13,
    "start_time": "2022-04-25T14:24:44.515Z"
   },
   {
    "duration": 14,
    "start_time": "2022-04-25T14:24:44.529Z"
   },
   {
    "duration": 14,
    "start_time": "2022-04-25T14:24:44.545Z"
   },
   {
    "duration": 11,
    "start_time": "2022-04-25T14:24:44.560Z"
   },
   {
    "duration": 2,
    "start_time": "2022-04-25T14:24:44.573Z"
   },
   {
    "duration": 25,
    "start_time": "2022-04-25T14:24:44.608Z"
   },
   {
    "duration": 13,
    "start_time": "2022-04-25T14:24:44.634Z"
   },
   {
    "duration": 4,
    "start_time": "2022-04-25T14:24:44.649Z"
   },
   {
    "duration": 10,
    "start_time": "2022-04-25T14:24:44.654Z"
   },
   {
    "duration": 6,
    "start_time": "2022-04-25T14:24:44.665Z"
   },
   {
    "duration": 32,
    "start_time": "2022-04-25T14:24:44.675Z"
   },
   {
    "duration": 13,
    "start_time": "2022-04-25T14:24:44.709Z"
   },
   {
    "duration": 15,
    "start_time": "2022-04-25T14:24:44.724Z"
   },
   {
    "duration": 8,
    "start_time": "2022-04-25T14:24:44.741Z"
   },
   {
    "duration": 7,
    "start_time": "2022-04-25T14:24:44.751Z"
   },
   {
    "duration": 8,
    "start_time": "2022-04-25T14:24:44.760Z"
   },
   {
    "duration": 388,
    "start_time": "2022-04-25T14:24:44.770Z"
   },
   {
    "duration": 4,
    "start_time": "2022-04-25T14:24:45.160Z"
   },
   {
    "duration": 6,
    "start_time": "2022-04-25T14:24:45.165Z"
   },
   {
    "duration": 42,
    "start_time": "2022-04-25T14:24:45.173Z"
   },
   {
    "duration": 406,
    "start_time": "2022-04-25T14:24:45.217Z"
   },
   {
    "duration": 215,
    "start_time": "2022-04-25T14:24:45.625Z"
   },
   {
    "duration": 179,
    "start_time": "2022-04-25T14:24:45.843Z"
   },
   {
    "duration": 176,
    "start_time": "2022-04-25T14:24:46.024Z"
   },
   {
    "duration": 13,
    "start_time": "2022-04-25T14:24:46.202Z"
   },
   {
    "duration": 171,
    "start_time": "2022-04-25T14:24:46.216Z"
   },
   {
    "duration": 21,
    "start_time": "2022-04-25T14:24:46.389Z"
   },
   {
    "duration": 78,
    "start_time": "2022-04-25T14:24:46.411Z"
   },
   {
    "duration": 57,
    "start_time": "2022-04-25T14:24:46.490Z"
   },
   {
    "duration": 8,
    "start_time": "2022-04-25T14:24:46.549Z"
   },
   {
    "duration": 4,
    "start_time": "2022-04-25T14:24:46.559Z"
   },
   {
    "duration": 8,
    "start_time": "2022-04-25T14:24:46.565Z"
   },
   {
    "duration": 32,
    "start_time": "2022-04-25T14:24:46.575Z"
   },
   {
    "duration": 3,
    "start_time": "2022-04-25T14:24:46.609Z"
   },
   {
    "duration": 9,
    "start_time": "2022-04-25T14:24:46.614Z"
   },
   {
    "duration": 8,
    "start_time": "2022-04-25T14:24:46.625Z"
   },
   {
    "duration": 4,
    "start_time": "2022-04-25T14:24:46.634Z"
   },
   {
    "duration": 6,
    "start_time": "2022-04-25T14:24:46.639Z"
   },
   {
    "duration": 4,
    "start_time": "2022-04-25T14:24:46.647Z"
   },
   {
    "duration": 232,
    "start_time": "2022-04-25T14:24:46.652Z"
   },
   {
    "duration": 36,
    "start_time": "2022-04-25T14:24:46.886Z"
   },
   {
    "duration": 12,
    "start_time": "2022-04-25T14:24:46.923Z"
   },
   {
    "duration": 12,
    "start_time": "2022-04-25T14:24:46.936Z"
   },
   {
    "duration": 162,
    "start_time": "2022-04-25T14:24:46.950Z"
   },
   {
    "duration": 7,
    "start_time": "2022-04-25T14:24:47.114Z"
   },
   {
    "duration": 10,
    "start_time": "2022-04-25T14:24:47.123Z"
   },
   {
    "duration": 155,
    "start_time": "2022-04-25T14:24:47.135Z"
   },
   {
    "duration": 7,
    "start_time": "2022-04-25T14:24:47.292Z"
   },
   {
    "duration": 6,
    "start_time": "2022-04-25T14:27:18.462Z"
   },
   {
    "duration": 425,
    "start_time": "2022-04-25T14:27:29.730Z"
   },
   {
    "duration": 3,
    "start_time": "2022-04-25T14:27:30.158Z"
   },
   {
    "duration": 125,
    "start_time": "2022-04-25T14:27:30.163Z"
   },
   {
    "duration": 32,
    "start_time": "2022-04-25T14:27:30.290Z"
   },
   {
    "duration": 17,
    "start_time": "2022-04-25T14:27:30.324Z"
   },
   {
    "duration": 88,
    "start_time": "2022-04-25T14:27:30.343Z"
   },
   {
    "duration": 10,
    "start_time": "2022-04-25T14:27:30.432Z"
   },
   {
    "duration": 16,
    "start_time": "2022-04-25T14:27:30.444Z"
   },
   {
    "duration": 10,
    "start_time": "2022-04-25T14:27:30.462Z"
   },
   {
    "duration": 34,
    "start_time": "2022-04-25T14:27:30.475Z"
   },
   {
    "duration": 19,
    "start_time": "2022-04-25T14:27:30.510Z"
   },
   {
    "duration": 8,
    "start_time": "2022-04-25T14:27:30.531Z"
   },
   {
    "duration": 13,
    "start_time": "2022-04-25T14:27:30.540Z"
   },
   {
    "duration": 27,
    "start_time": "2022-04-25T14:27:30.555Z"
   },
   {
    "duration": 12,
    "start_time": "2022-04-25T14:27:30.584Z"
   },
   {
    "duration": 15,
    "start_time": "2022-04-25T14:27:30.598Z"
   },
   {
    "duration": 17,
    "start_time": "2022-04-25T14:27:30.614Z"
   },
   {
    "duration": 36,
    "start_time": "2022-04-25T14:27:30.632Z"
   },
   {
    "duration": 7,
    "start_time": "2022-04-25T14:27:30.669Z"
   },
   {
    "duration": 14,
    "start_time": "2022-04-25T14:27:30.677Z"
   },
   {
    "duration": 27,
    "start_time": "2022-04-25T14:27:30.692Z"
   },
   {
    "duration": 48,
    "start_time": "2022-04-25T14:27:30.721Z"
   },
   {
    "duration": 13,
    "start_time": "2022-04-25T14:27:30.771Z"
   },
   {
    "duration": 20,
    "start_time": "2022-04-25T14:27:30.785Z"
   },
   {
    "duration": 20,
    "start_time": "2022-04-25T14:27:30.806Z"
   },
   {
    "duration": 31,
    "start_time": "2022-04-25T14:27:30.828Z"
   },
   {
    "duration": 13,
    "start_time": "2022-04-25T14:27:30.861Z"
   },
   {
    "duration": 11,
    "start_time": "2022-04-25T14:27:30.880Z"
   },
   {
    "duration": 10,
    "start_time": "2022-04-25T14:27:30.892Z"
   },
   {
    "duration": 13,
    "start_time": "2022-04-25T14:27:30.904Z"
   },
   {
    "duration": 25,
    "start_time": "2022-04-25T14:27:30.918Z"
   },
   {
    "duration": 29,
    "start_time": "2022-04-25T14:27:30.945Z"
   },
   {
    "duration": 29,
    "start_time": "2022-04-25T14:27:30.976Z"
   },
   {
    "duration": 10,
    "start_time": "2022-04-25T14:27:31.007Z"
   },
   {
    "duration": 7,
    "start_time": "2022-04-25T14:27:31.019Z"
   },
   {
    "duration": 32,
    "start_time": "2022-04-25T14:27:31.028Z"
   },
   {
    "duration": 12,
    "start_time": "2022-04-25T14:27:31.062Z"
   },
   {
    "duration": 10,
    "start_time": "2022-04-25T14:27:31.076Z"
   },
   {
    "duration": 21,
    "start_time": "2022-04-25T14:27:31.088Z"
   },
   {
    "duration": 3,
    "start_time": "2022-04-25T14:27:31.110Z"
   },
   {
    "duration": 10,
    "start_time": "2022-04-25T14:27:31.114Z"
   },
   {
    "duration": 14,
    "start_time": "2022-04-25T14:27:31.126Z"
   },
   {
    "duration": 12,
    "start_time": "2022-04-25T14:27:31.142Z"
   },
   {
    "duration": 22,
    "start_time": "2022-04-25T14:27:31.156Z"
   },
   {
    "duration": 7,
    "start_time": "2022-04-25T14:27:31.179Z"
   },
   {
    "duration": 9,
    "start_time": "2022-04-25T14:27:31.188Z"
   },
   {
    "duration": 378,
    "start_time": "2022-04-25T14:27:31.199Z"
   },
   {
    "duration": 5,
    "start_time": "2022-04-25T14:27:31.578Z"
   },
   {
    "duration": 8,
    "start_time": "2022-04-25T14:27:31.584Z"
   },
   {
    "duration": 37,
    "start_time": "2022-04-25T14:27:31.593Z"
   },
   {
    "duration": 436,
    "start_time": "2022-04-25T14:27:31.632Z"
   },
   {
    "duration": 205,
    "start_time": "2022-04-25T14:27:32.069Z"
   },
   {
    "duration": 183,
    "start_time": "2022-04-25T14:27:32.276Z"
   },
   {
    "duration": 176,
    "start_time": "2022-04-25T14:27:32.461Z"
   },
   {
    "duration": 10,
    "start_time": "2022-04-25T14:27:32.638Z"
   },
   {
    "duration": 176,
    "start_time": "2022-04-25T14:27:32.649Z"
   },
   {
    "duration": 11,
    "start_time": "2022-04-25T14:27:32.827Z"
   },
   {
    "duration": 91,
    "start_time": "2022-04-25T14:27:32.840Z"
   },
   {
    "duration": 45,
    "start_time": "2022-04-25T14:27:32.933Z"
   },
   {
    "duration": 9,
    "start_time": "2022-04-25T14:27:32.979Z"
   },
   {
    "duration": 19,
    "start_time": "2022-04-25T14:27:32.990Z"
   },
   {
    "duration": 9,
    "start_time": "2022-04-25T14:27:33.010Z"
   },
   {
    "duration": 8,
    "start_time": "2022-04-25T14:27:33.021Z"
   },
   {
    "duration": 2,
    "start_time": "2022-04-25T14:27:33.031Z"
   },
   {
    "duration": 8,
    "start_time": "2022-04-25T14:27:33.035Z"
   },
   {
    "duration": 10,
    "start_time": "2022-04-25T14:27:33.045Z"
   },
   {
    "duration": 3,
    "start_time": "2022-04-25T14:27:33.057Z"
   },
   {
    "duration": 8,
    "start_time": "2022-04-25T14:27:33.061Z"
   },
   {
    "duration": 44,
    "start_time": "2022-04-25T14:27:33.070Z"
   },
   {
    "duration": 200,
    "start_time": "2022-04-25T14:27:33.116Z"
   },
   {
    "duration": 26,
    "start_time": "2022-04-25T14:27:33.318Z"
   },
   {
    "duration": 12,
    "start_time": "2022-04-25T14:27:33.345Z"
   },
   {
    "duration": 15,
    "start_time": "2022-04-25T14:27:33.358Z"
   },
   {
    "duration": 173,
    "start_time": "2022-04-25T14:27:33.374Z"
   },
   {
    "duration": 8,
    "start_time": "2022-04-25T14:27:33.549Z"
   },
   {
    "duration": 8,
    "start_time": "2022-04-25T14:27:33.558Z"
   },
   {
    "duration": 181,
    "start_time": "2022-04-25T14:27:33.568Z"
   },
   {
    "duration": 10,
    "start_time": "2022-04-25T14:27:33.751Z"
   },
   {
    "duration": 7,
    "start_time": "2022-04-25T14:28:26.246Z"
   },
   {
    "duration": 10,
    "start_time": "2022-04-25T14:29:25.611Z"
   },
   {
    "duration": 11,
    "start_time": "2022-04-25T14:31:48.135Z"
   },
   {
    "duration": 441,
    "start_time": "2022-04-25T14:31:57.405Z"
   },
   {
    "duration": 3,
    "start_time": "2022-04-25T14:31:57.848Z"
   },
   {
    "duration": 112,
    "start_time": "2022-04-25T14:31:57.853Z"
   },
   {
    "duration": 19,
    "start_time": "2022-04-25T14:31:57.967Z"
   },
   {
    "duration": 25,
    "start_time": "2022-04-25T14:31:57.988Z"
   },
   {
    "duration": 72,
    "start_time": "2022-04-25T14:31:58.015Z"
   },
   {
    "duration": 26,
    "start_time": "2022-04-25T14:31:58.089Z"
   },
   {
    "duration": 12,
    "start_time": "2022-04-25T14:31:58.117Z"
   },
   {
    "duration": 5,
    "start_time": "2022-04-25T14:31:58.130Z"
   },
   {
    "duration": 19,
    "start_time": "2022-04-25T14:31:58.137Z"
   },
   {
    "duration": 9,
    "start_time": "2022-04-25T14:31:58.158Z"
   },
   {
    "duration": 7,
    "start_time": "2022-04-25T14:31:58.207Z"
   },
   {
    "duration": 6,
    "start_time": "2022-04-25T14:31:58.215Z"
   },
   {
    "duration": 4,
    "start_time": "2022-04-25T14:31:58.223Z"
   },
   {
    "duration": 5,
    "start_time": "2022-04-25T14:31:58.229Z"
   },
   {
    "duration": 3,
    "start_time": "2022-04-25T14:31:58.235Z"
   },
   {
    "duration": 5,
    "start_time": "2022-04-25T14:31:58.240Z"
   },
   {
    "duration": 6,
    "start_time": "2022-04-25T14:31:58.246Z"
   },
   {
    "duration": 7,
    "start_time": "2022-04-25T14:31:58.254Z"
   },
   {
    "duration": 45,
    "start_time": "2022-04-25T14:31:58.262Z"
   },
   {
    "duration": 5,
    "start_time": "2022-04-25T14:31:58.309Z"
   },
   {
    "duration": 4,
    "start_time": "2022-04-25T14:31:58.316Z"
   },
   {
    "duration": 7,
    "start_time": "2022-04-25T14:31:58.321Z"
   },
   {
    "duration": 4,
    "start_time": "2022-04-25T14:31:58.330Z"
   },
   {
    "duration": 6,
    "start_time": "2022-04-25T14:31:58.336Z"
   },
   {
    "duration": 4,
    "start_time": "2022-04-25T14:31:58.344Z"
   },
   {
    "duration": 5,
    "start_time": "2022-04-25T14:31:58.349Z"
   },
   {
    "duration": 5,
    "start_time": "2022-04-25T14:31:58.358Z"
   },
   {
    "duration": 43,
    "start_time": "2022-04-25T14:31:58.364Z"
   },
   {
    "duration": 5,
    "start_time": "2022-04-25T14:31:58.409Z"
   },
   {
    "duration": 12,
    "start_time": "2022-04-25T14:31:58.415Z"
   },
   {
    "duration": 14,
    "start_time": "2022-04-25T14:31:58.429Z"
   },
   {
    "duration": 12,
    "start_time": "2022-04-25T14:31:58.445Z"
   },
   {
    "duration": 12,
    "start_time": "2022-04-25T14:31:58.459Z"
   },
   {
    "duration": 41,
    "start_time": "2022-04-25T14:31:58.473Z"
   },
   {
    "duration": 23,
    "start_time": "2022-04-25T14:31:58.516Z"
   },
   {
    "duration": 13,
    "start_time": "2022-04-25T14:31:58.541Z"
   },
   {
    "duration": 4,
    "start_time": "2022-04-25T14:31:58.556Z"
   },
   {
    "duration": 10,
    "start_time": "2022-04-25T14:31:58.561Z"
   },
   {
    "duration": 40,
    "start_time": "2022-04-25T14:31:58.572Z"
   },
   {
    "duration": 11,
    "start_time": "2022-04-25T14:31:58.614Z"
   },
   {
    "duration": 8,
    "start_time": "2022-04-25T14:31:58.626Z"
   },
   {
    "duration": 5,
    "start_time": "2022-04-25T14:31:58.635Z"
   },
   {
    "duration": 3,
    "start_time": "2022-04-25T14:31:58.642Z"
   },
   {
    "duration": 389,
    "start_time": "2022-04-25T14:31:58.646Z"
   },
   {
    "duration": 4,
    "start_time": "2022-04-25T14:31:59.037Z"
   },
   {
    "duration": 5,
    "start_time": "2022-04-25T14:31:59.042Z"
   },
   {
    "duration": 29,
    "start_time": "2022-04-25T14:31:59.048Z"
   },
   {
    "duration": 411,
    "start_time": "2022-04-25T14:31:59.079Z"
   },
   {
    "duration": 205,
    "start_time": "2022-04-25T14:31:59.492Z"
   },
   {
    "duration": 176,
    "start_time": "2022-04-25T14:31:59.699Z"
   },
   {
    "duration": 172,
    "start_time": "2022-04-25T14:31:59.877Z"
   },
   {
    "duration": 10,
    "start_time": "2022-04-25T14:32:00.050Z"
   },
   {
    "duration": 171,
    "start_time": "2022-04-25T14:32:00.061Z"
   },
   {
    "duration": 11,
    "start_time": "2022-04-25T14:32:00.233Z"
   },
   {
    "duration": 91,
    "start_time": "2022-04-25T14:32:00.245Z"
   },
   {
    "duration": 44,
    "start_time": "2022-04-25T14:32:00.338Z"
   },
   {
    "duration": 23,
    "start_time": "2022-04-25T14:32:00.384Z"
   },
   {
    "duration": 3,
    "start_time": "2022-04-25T14:32:00.409Z"
   },
   {
    "duration": 17,
    "start_time": "2022-04-25T14:32:00.414Z"
   },
   {
    "duration": 19,
    "start_time": "2022-04-25T14:32:00.432Z"
   },
   {
    "duration": 7,
    "start_time": "2022-04-25T14:32:00.453Z"
   },
   {
    "duration": 14,
    "start_time": "2022-04-25T14:32:00.462Z"
   },
   {
    "duration": 12,
    "start_time": "2022-04-25T14:32:00.478Z"
   },
   {
    "duration": 5,
    "start_time": "2022-04-25T14:32:00.492Z"
   },
   {
    "duration": 8,
    "start_time": "2022-04-25T14:32:00.499Z"
   },
   {
    "duration": 14,
    "start_time": "2022-04-25T14:32:00.509Z"
   },
   {
    "duration": 202,
    "start_time": "2022-04-25T14:32:00.525Z"
   },
   {
    "duration": 26,
    "start_time": "2022-04-25T14:32:00.728Z"
   },
   {
    "duration": 12,
    "start_time": "2022-04-25T14:32:00.756Z"
   },
   {
    "duration": 9,
    "start_time": "2022-04-25T14:32:00.769Z"
   },
   {
    "duration": 182,
    "start_time": "2022-04-25T14:32:00.780Z"
   },
   {
    "duration": 10,
    "start_time": "2022-04-25T14:32:00.964Z"
   },
   {
    "duration": 20,
    "start_time": "2022-04-25T14:32:00.976Z"
   },
   {
    "duration": 162,
    "start_time": "2022-04-25T14:32:01.008Z"
   },
   {
    "duration": 8,
    "start_time": "2022-04-25T14:32:01.172Z"
   },
   {
    "duration": 111,
    "start_time": "2022-04-25T14:34:45.663Z"
   },
   {
    "duration": 427,
    "start_time": "2022-04-25T14:38:24.773Z"
   },
   {
    "duration": 6,
    "start_time": "2022-04-25T14:38:25.202Z"
   },
   {
    "duration": 98,
    "start_time": "2022-04-25T14:38:25.209Z"
   },
   {
    "duration": 18,
    "start_time": "2022-04-25T14:38:25.309Z"
   },
   {
    "duration": 15,
    "start_time": "2022-04-25T14:38:25.328Z"
   },
   {
    "duration": 83,
    "start_time": "2022-04-25T14:38:25.345Z"
   },
   {
    "duration": 9,
    "start_time": "2022-04-25T14:38:25.429Z"
   },
   {
    "duration": 10,
    "start_time": "2022-04-25T14:38:25.439Z"
   },
   {
    "duration": 3,
    "start_time": "2022-04-25T14:38:25.451Z"
   },
   {
    "duration": 17,
    "start_time": "2022-04-25T14:38:25.457Z"
   },
   {
    "duration": 37,
    "start_time": "2022-04-25T14:38:25.475Z"
   },
   {
    "duration": 7,
    "start_time": "2022-04-25T14:38:25.515Z"
   },
   {
    "duration": 6,
    "start_time": "2022-04-25T14:38:25.523Z"
   },
   {
    "duration": 5,
    "start_time": "2022-04-25T14:38:25.530Z"
   },
   {
    "duration": 5,
    "start_time": "2022-04-25T14:38:25.537Z"
   },
   {
    "duration": 3,
    "start_time": "2022-04-25T14:38:25.543Z"
   },
   {
    "duration": 5,
    "start_time": "2022-04-25T14:38:25.548Z"
   },
   {
    "duration": 8,
    "start_time": "2022-04-25T14:38:25.555Z"
   },
   {
    "duration": 45,
    "start_time": "2022-04-25T14:38:25.565Z"
   },
   {
    "duration": 12,
    "start_time": "2022-04-25T14:38:25.611Z"
   },
   {
    "duration": 7,
    "start_time": "2022-04-25T14:38:25.624Z"
   },
   {
    "duration": 6,
    "start_time": "2022-04-25T14:38:25.632Z"
   },
   {
    "duration": 4,
    "start_time": "2022-04-25T14:38:25.639Z"
   },
   {
    "duration": 5,
    "start_time": "2022-04-25T14:38:25.645Z"
   },
   {
    "duration": 10,
    "start_time": "2022-04-25T14:38:25.652Z"
   },
   {
    "duration": 4,
    "start_time": "2022-04-25T14:38:25.663Z"
   },
   {
    "duration": 4,
    "start_time": "2022-04-25T14:38:25.669Z"
   },
   {
    "duration": 3,
    "start_time": "2022-04-25T14:38:25.677Z"
   },
   {
    "duration": 26,
    "start_time": "2022-04-25T14:38:25.681Z"
   },
   {
    "duration": 3,
    "start_time": "2022-04-25T14:38:25.709Z"
   },
   {
    "duration": 11,
    "start_time": "2022-04-25T14:38:25.714Z"
   },
   {
    "duration": 12,
    "start_time": "2022-04-25T14:38:25.727Z"
   },
   {
    "duration": 11,
    "start_time": "2022-04-25T14:38:25.741Z"
   },
   {
    "duration": 10,
    "start_time": "2022-04-25T14:38:25.754Z"
   },
   {
    "duration": 10,
    "start_time": "2022-04-25T14:38:25.766Z"
   },
   {
    "duration": 48,
    "start_time": "2022-04-25T14:38:25.777Z"
   },
   {
    "duration": 13,
    "start_time": "2022-04-25T14:38:25.826Z"
   },
   {
    "duration": 4,
    "start_time": "2022-04-25T14:38:25.840Z"
   },
   {
    "duration": 10,
    "start_time": "2022-04-25T14:38:25.845Z"
   },
   {
    "duration": 13,
    "start_time": "2022-04-25T14:38:25.856Z"
   },
   {
    "duration": 12,
    "start_time": "2022-04-25T14:38:25.870Z"
   },
   {
    "duration": 5,
    "start_time": "2022-04-25T14:38:25.907Z"
   },
   {
    "duration": 4,
    "start_time": "2022-04-25T14:38:25.914Z"
   },
   {
    "duration": 4,
    "start_time": "2022-04-25T14:38:25.919Z"
   },
   {
    "duration": 359,
    "start_time": "2022-04-25T14:38:25.925Z"
   },
   {
    "duration": 4,
    "start_time": "2022-04-25T14:38:26.286Z"
   },
   {
    "duration": 18,
    "start_time": "2022-04-25T14:38:26.291Z"
   },
   {
    "duration": 29,
    "start_time": "2022-04-25T14:38:26.311Z"
   },
   {
    "duration": 366,
    "start_time": "2022-04-25T14:38:26.342Z"
   },
   {
    "duration": 187,
    "start_time": "2022-04-25T14:38:26.710Z"
   },
   {
    "duration": 173,
    "start_time": "2022-04-25T14:38:26.899Z"
   },
   {
    "duration": 155,
    "start_time": "2022-04-25T14:38:27.074Z"
   },
   {
    "duration": 9,
    "start_time": "2022-04-25T14:38:27.231Z"
   },
   {
    "duration": 175,
    "start_time": "2022-04-25T14:38:27.241Z"
   },
   {
    "duration": 11,
    "start_time": "2022-04-25T14:38:27.417Z"
   },
   {
    "duration": 87,
    "start_time": "2022-04-25T14:38:27.429Z"
   },
   {
    "duration": 42,
    "start_time": "2022-04-25T14:38:27.517Z"
   },
   {
    "duration": 9,
    "start_time": "2022-04-25T14:38:27.561Z"
   },
   {
    "duration": 3,
    "start_time": "2022-04-25T14:38:27.572Z"
   },
   {
    "duration": 35,
    "start_time": "2022-04-25T14:38:27.576Z"
   },
   {
    "duration": 10,
    "start_time": "2022-04-25T14:38:27.613Z"
   },
   {
    "duration": 4,
    "start_time": "2022-04-25T14:38:27.624Z"
   },
   {
    "duration": 13,
    "start_time": "2022-04-25T14:38:27.629Z"
   },
   {
    "duration": 12,
    "start_time": "2022-04-25T14:38:27.644Z"
   },
   {
    "duration": 5,
    "start_time": "2022-04-25T14:38:27.658Z"
   },
   {
    "duration": 4,
    "start_time": "2022-04-25T14:38:27.665Z"
   },
   {
    "duration": 5,
    "start_time": "2022-04-25T14:38:27.671Z"
   },
   {
    "duration": 221,
    "start_time": "2022-04-25T14:38:27.678Z"
   },
   {
    "duration": 30,
    "start_time": "2022-04-25T14:38:27.901Z"
   },
   {
    "duration": 12,
    "start_time": "2022-04-25T14:38:27.933Z"
   },
   {
    "duration": 8,
    "start_time": "2022-04-25T14:38:27.946Z"
   },
   {
    "duration": 171,
    "start_time": "2022-04-25T14:38:27.956Z"
   },
   {
    "duration": 8,
    "start_time": "2022-04-25T14:38:28.129Z"
   },
   {
    "duration": 8,
    "start_time": "2022-04-25T14:38:28.139Z"
   },
   {
    "duration": 165,
    "start_time": "2022-04-25T14:38:28.149Z"
   },
   {
    "duration": 10,
    "start_time": "2022-04-25T14:38:28.316Z"
   },
   {
    "duration": 568,
    "start_time": "2022-05-02T07:53:08.021Z"
   },
   {
    "duration": 3,
    "start_time": "2022-05-02T07:53:08.592Z"
   },
   {
    "duration": 145,
    "start_time": "2022-05-02T07:53:08.598Z"
   },
   {
    "duration": 31,
    "start_time": "2022-05-02T07:53:08.747Z"
   },
   {
    "duration": 24,
    "start_time": "2022-05-02T07:53:08.780Z"
   },
   {
    "duration": 122,
    "start_time": "2022-05-02T07:53:08.807Z"
   },
   {
    "duration": 27,
    "start_time": "2022-05-02T07:53:08.931Z"
   },
   {
    "duration": 14,
    "start_time": "2022-05-02T07:53:08.960Z"
   },
   {
    "duration": 5,
    "start_time": "2022-05-02T07:53:08.977Z"
   },
   {
    "duration": 28,
    "start_time": "2022-05-02T07:53:08.986Z"
   },
   {
    "duration": 13,
    "start_time": "2022-05-02T07:53:09.052Z"
   },
   {
    "duration": 9,
    "start_time": "2022-05-02T07:53:09.067Z"
   },
   {
    "duration": 8,
    "start_time": "2022-05-02T07:53:09.078Z"
   },
   {
    "duration": 7,
    "start_time": "2022-05-02T07:53:09.088Z"
   },
   {
    "duration": 7,
    "start_time": "2022-05-02T07:53:09.097Z"
   },
   {
    "duration": 46,
    "start_time": "2022-05-02T07:53:09.106Z"
   },
   {
    "duration": 5,
    "start_time": "2022-05-02T07:53:09.154Z"
   },
   {
    "duration": 11,
    "start_time": "2022-05-02T07:53:09.161Z"
   },
   {
    "duration": 6,
    "start_time": "2022-05-02T07:53:09.174Z"
   },
   {
    "duration": 7,
    "start_time": "2022-05-02T07:53:09.182Z"
   },
   {
    "duration": 6,
    "start_time": "2022-05-02T07:53:09.191Z"
   },
   {
    "duration": 54,
    "start_time": "2022-05-02T07:53:09.200Z"
   },
   {
    "duration": 6,
    "start_time": "2022-05-02T07:53:09.256Z"
   },
   {
    "duration": 7,
    "start_time": "2022-05-02T07:53:09.264Z"
   },
   {
    "duration": 8,
    "start_time": "2022-05-02T07:53:09.273Z"
   },
   {
    "duration": 7,
    "start_time": "2022-05-02T07:53:09.283Z"
   },
   {
    "duration": 7,
    "start_time": "2022-05-02T07:53:09.292Z"
   },
   {
    "duration": 49,
    "start_time": "2022-05-02T07:53:09.306Z"
   },
   {
    "duration": 7,
    "start_time": "2022-05-02T07:53:09.357Z"
   },
   {
    "duration": 5,
    "start_time": "2022-05-02T07:53:09.366Z"
   },
   {
    "duration": 16,
    "start_time": "2022-05-02T07:53:09.373Z"
   },
   {
    "duration": 17,
    "start_time": "2022-05-02T07:53:09.391Z"
   },
   {
    "duration": 52,
    "start_time": "2022-05-02T07:53:09.410Z"
   },
   {
    "duration": 13,
    "start_time": "2022-05-02T07:53:09.464Z"
   },
   {
    "duration": 15,
    "start_time": "2022-05-02T07:53:09.479Z"
   },
   {
    "duration": 61,
    "start_time": "2022-05-02T07:53:09.496Z"
   },
   {
    "duration": 19,
    "start_time": "2022-05-02T07:53:09.559Z"
   },
   {
    "duration": 5,
    "start_time": "2022-05-02T07:53:09.580Z"
   },
   {
    "duration": 18,
    "start_time": "2022-05-02T07:53:09.587Z"
   },
   {
    "duration": 18,
    "start_time": "2022-05-02T07:53:09.607Z"
   },
   {
    "duration": 17,
    "start_time": "2022-05-02T07:53:09.652Z"
   },
   {
    "duration": 12,
    "start_time": "2022-05-02T07:53:09.671Z"
   },
   {
    "duration": 6,
    "start_time": "2022-05-02T07:53:09.686Z"
   },
   {
    "duration": 5,
    "start_time": "2022-05-02T07:53:09.695Z"
   },
   {
    "duration": 591,
    "start_time": "2022-05-02T07:53:09.702Z"
   },
   {
    "duration": 6,
    "start_time": "2022-05-02T07:53:10.295Z"
   },
   {
    "duration": 12,
    "start_time": "2022-05-02T07:53:10.303Z"
   },
   {
    "duration": 54,
    "start_time": "2022-05-02T07:53:10.317Z"
   },
   {
    "duration": 833,
    "start_time": "2022-05-02T07:53:10.373Z"
   },
   {
    "duration": 289,
    "start_time": "2022-05-02T07:53:11.208Z"
   },
   {
    "duration": 274,
    "start_time": "2022-05-02T07:53:11.499Z"
   },
   {
    "duration": 261,
    "start_time": "2022-05-02T07:53:11.775Z"
   },
   {
    "duration": 20,
    "start_time": "2022-05-02T07:53:12.038Z"
   },
   {
    "duration": 249,
    "start_time": "2022-05-02T07:53:12.060Z"
   },
   {
    "duration": 17,
    "start_time": "2022-05-02T07:53:12.311Z"
   },
   {
    "duration": 128,
    "start_time": "2022-05-02T07:53:12.331Z"
   },
   {
    "duration": 52,
    "start_time": "2022-05-02T07:53:12.461Z"
   },
   {
    "duration": 12,
    "start_time": "2022-05-02T07:53:12.515Z"
   },
   {
    "duration": 24,
    "start_time": "2022-05-02T07:53:12.529Z"
   },
   {
    "duration": 17,
    "start_time": "2022-05-02T07:53:12.555Z"
   },
   {
    "duration": 19,
    "start_time": "2022-05-02T07:53:12.574Z"
   },
   {
    "duration": 4,
    "start_time": "2022-05-02T07:53:12.595Z"
   },
   {
    "duration": 14,
    "start_time": "2022-05-02T07:53:12.601Z"
   },
   {
    "duration": 38,
    "start_time": "2022-05-02T07:53:12.617Z"
   },
   {
    "duration": 6,
    "start_time": "2022-05-02T07:53:12.657Z"
   },
   {
    "duration": 7,
    "start_time": "2022-05-02T07:53:12.665Z"
   },
   {
    "duration": 6,
    "start_time": "2022-05-02T07:53:12.674Z"
   },
   {
    "duration": 317,
    "start_time": "2022-05-02T07:53:12.682Z"
   },
   {
    "duration": 51,
    "start_time": "2022-05-02T07:53:13.002Z"
   },
   {
    "duration": 17,
    "start_time": "2022-05-02T07:53:13.055Z"
   },
   {
    "duration": 10,
    "start_time": "2022-05-02T07:53:13.073Z"
   },
   {
    "duration": 252,
    "start_time": "2022-05-02T07:53:13.085Z"
   },
   {
    "duration": 18,
    "start_time": "2022-05-02T07:53:13.339Z"
   },
   {
    "duration": 10,
    "start_time": "2022-05-02T07:53:13.360Z"
   },
   {
    "duration": 254,
    "start_time": "2022-05-02T07:53:13.373Z"
   },
   {
    "duration": 11,
    "start_time": "2022-05-02T07:53:13.629Z"
   },
   {
    "duration": 96,
    "start_time": "2022-05-02T07:54:01.421Z"
   },
   {
    "duration": 35,
    "start_time": "2022-05-02T08:10:39.190Z"
   },
   {
    "duration": 4,
    "start_time": "2022-05-02T08:11:33.405Z"
   },
   {
    "duration": 29,
    "start_time": "2022-05-02T08:11:34.113Z"
   },
   {
    "duration": 107,
    "start_time": "2022-05-02T08:23:51.890Z"
   },
   {
    "duration": 34,
    "start_time": "2022-05-02T08:24:06.173Z"
   },
   {
    "duration": 5,
    "start_time": "2022-05-02T08:24:38.716Z"
   },
   {
    "duration": 6,
    "start_time": "2022-05-02T08:24:54.086Z"
   },
   {
    "duration": 34,
    "start_time": "2022-05-02T08:25:12.155Z"
   },
   {
    "duration": 34,
    "start_time": "2022-05-02T08:27:08.421Z"
   },
   {
    "duration": 10,
    "start_time": "2022-05-02T08:27:39.069Z"
   },
   {
    "duration": 10,
    "start_time": "2022-05-02T08:27:56.506Z"
   },
   {
    "duration": 24,
    "start_time": "2022-05-02T08:28:43.025Z"
   },
   {
    "duration": 22,
    "start_time": "2022-05-02T09:05:30.921Z"
   },
   {
    "duration": 14,
    "start_time": "2022-05-02T09:05:57.422Z"
   },
   {
    "duration": 18,
    "start_time": "2022-05-02T09:08:14.317Z"
   },
   {
    "duration": 14,
    "start_time": "2022-05-02T09:08:15.380Z"
   },
   {
    "duration": 45,
    "start_time": "2022-05-02T09:08:28.064Z"
   },
   {
    "duration": 40,
    "start_time": "2022-05-02T09:08:32.907Z"
   },
   {
    "duration": 23,
    "start_time": "2022-05-02T09:08:34.200Z"
   },
   {
    "duration": 15,
    "start_time": "2022-05-02T09:11:11.662Z"
   },
   {
    "duration": 13,
    "start_time": "2022-05-02T09:11:12.313Z"
   },
   {
    "duration": 15,
    "start_time": "2022-05-02T09:11:47.867Z"
   },
   {
    "duration": 663,
    "start_time": "2022-05-02T09:11:59.114Z"
   },
   {
    "duration": 4,
    "start_time": "2022-05-02T09:11:59.779Z"
   },
   {
    "duration": 137,
    "start_time": "2022-05-02T09:11:59.785Z"
   },
   {
    "duration": 38,
    "start_time": "2022-05-02T09:11:59.926Z"
   },
   {
    "duration": 21,
    "start_time": "2022-05-02T09:11:59.966Z"
   },
   {
    "duration": 118,
    "start_time": "2022-05-02T09:11:59.989Z"
   },
   {
    "duration": 100,
    "start_time": "2022-05-02T09:12:00.109Z"
   },
   {
    "duration": 12,
    "start_time": "2022-05-02T09:12:00.211Z"
   },
   {
    "duration": 36,
    "start_time": "2022-05-02T09:12:00.225Z"
   },
   {
    "duration": 15,
    "start_time": "2022-05-02T09:12:00.265Z"
   },
   {
    "duration": 53,
    "start_time": "2022-05-02T09:12:00.282Z"
   },
   {
    "duration": 55,
    "start_time": "2022-05-02T09:12:00.338Z"
   },
   {
    "duration": 31,
    "start_time": "2022-05-02T09:12:00.395Z"
   },
   {
    "duration": 20,
    "start_time": "2022-05-02T09:12:00.429Z"
   },
   {
    "duration": 27,
    "start_time": "2022-05-02T09:12:00.451Z"
   },
   {
    "duration": 26,
    "start_time": "2022-05-02T09:12:00.480Z"
   },
   {
    "duration": 28,
    "start_time": "2022-05-02T09:12:00.508Z"
   },
   {
    "duration": 35,
    "start_time": "2022-05-02T09:12:00.538Z"
   },
   {
    "duration": 19,
    "start_time": "2022-05-02T09:12:00.575Z"
   },
   {
    "duration": 28,
    "start_time": "2022-05-02T09:12:00.596Z"
   },
   {
    "duration": 26,
    "start_time": "2022-05-02T09:12:00.626Z"
   },
   {
    "duration": 34,
    "start_time": "2022-05-02T09:12:00.654Z"
   },
   {
    "duration": 29,
    "start_time": "2022-05-02T09:12:00.691Z"
   },
   {
    "duration": 25,
    "start_time": "2022-05-02T09:12:00.723Z"
   },
   {
    "duration": 35,
    "start_time": "2022-05-02T09:12:00.751Z"
   },
   {
    "duration": 25,
    "start_time": "2022-05-02T09:12:00.788Z"
   },
   {
    "duration": 56,
    "start_time": "2022-05-02T09:12:00.815Z"
   },
   {
    "duration": 22,
    "start_time": "2022-05-02T09:12:00.877Z"
   },
   {
    "duration": 26,
    "start_time": "2022-05-02T09:12:00.902Z"
   },
   {
    "duration": 46,
    "start_time": "2022-05-02T09:12:00.930Z"
   },
   {
    "duration": 42,
    "start_time": "2022-05-02T09:12:00.978Z"
   },
   {
    "duration": 58,
    "start_time": "2022-05-02T09:12:01.022Z"
   },
   {
    "duration": 46,
    "start_time": "2022-05-02T09:12:01.082Z"
   },
   {
    "duration": 38,
    "start_time": "2022-05-02T09:12:01.131Z"
   },
   {
    "duration": 12,
    "start_time": "2022-05-02T09:12:01.172Z"
   },
   {
    "duration": 10,
    "start_time": "2022-05-02T09:12:01.187Z"
   },
   {
    "duration": 21,
    "start_time": "2022-05-02T09:12:01.200Z"
   },
   {
    "duration": 32,
    "start_time": "2022-05-02T09:12:01.223Z"
   },
   {
    "duration": 34,
    "start_time": "2022-05-02T09:12:01.257Z"
   },
   {
    "duration": 22,
    "start_time": "2022-05-02T09:12:01.293Z"
   },
   {
    "duration": 27,
    "start_time": "2022-05-02T09:12:01.317Z"
   },
   {
    "duration": 16,
    "start_time": "2022-05-02T09:12:01.346Z"
   },
   {
    "duration": 24,
    "start_time": "2022-05-02T09:12:01.365Z"
   },
   {
    "duration": 16,
    "start_time": "2022-05-02T09:12:01.391Z"
   },
   {
    "duration": 34,
    "start_time": "2022-05-02T09:12:01.409Z"
   },
   {
    "duration": 67,
    "start_time": "2022-05-02T09:12:01.445Z"
   },
   {
    "duration": 30,
    "start_time": "2022-05-02T09:12:01.515Z"
   },
   {
    "duration": 14,
    "start_time": "2022-05-02T09:12:01.551Z"
   },
   {
    "duration": 33,
    "start_time": "2022-05-02T09:12:01.568Z"
   },
   {
    "duration": 33,
    "start_time": "2022-05-02T09:12:01.603Z"
   },
   {
    "duration": 24,
    "start_time": "2022-05-02T09:12:01.638Z"
   },
   {
    "duration": 16,
    "start_time": "2022-05-02T09:12:01.664Z"
   },
   {
    "duration": 13,
    "start_time": "2022-05-02T09:12:01.682Z"
   },
   {
    "duration": 10,
    "start_time": "2022-05-02T09:12:01.697Z"
   },
   {
    "duration": 623,
    "start_time": "2022-05-02T09:12:01.709Z"
   },
   {
    "duration": 6,
    "start_time": "2022-05-02T09:12:02.334Z"
   },
   {
    "duration": 13,
    "start_time": "2022-05-02T09:12:02.352Z"
   },
   {
    "duration": 46,
    "start_time": "2022-05-02T09:12:02.368Z"
   },
   {
    "duration": 594,
    "start_time": "2022-05-02T09:12:02.417Z"
   },
   {
    "duration": 287,
    "start_time": "2022-05-02T09:12:03.014Z"
   },
   {
    "duration": 275,
    "start_time": "2022-05-02T09:12:03.304Z"
   },
   {
    "duration": 263,
    "start_time": "2022-05-02T09:12:03.581Z"
   },
   {
    "duration": 15,
    "start_time": "2022-05-02T09:12:03.851Z"
   },
   {
    "duration": 306,
    "start_time": "2022-05-02T09:12:03.869Z"
   },
   {
    "duration": 15,
    "start_time": "2022-05-02T09:12:04.177Z"
   },
   {
    "duration": 119,
    "start_time": "2022-05-02T09:12:04.194Z"
   },
   {
    "duration": 63,
    "start_time": "2022-05-02T09:12:04.315Z"
   },
   {
    "duration": 12,
    "start_time": "2022-05-02T09:12:04.380Z"
   },
   {
    "duration": 12,
    "start_time": "2022-05-02T09:12:04.394Z"
   },
   {
    "duration": 28,
    "start_time": "2022-05-02T09:12:04.408Z"
   },
   {
    "duration": 36,
    "start_time": "2022-05-02T09:12:04.438Z"
   },
   {
    "duration": 3,
    "start_time": "2022-05-02T09:12:04.477Z"
   },
   {
    "duration": 14,
    "start_time": "2022-05-02T09:12:04.483Z"
   },
   {
    "duration": 24,
    "start_time": "2022-05-02T09:12:04.500Z"
   },
   {
    "duration": 8,
    "start_time": "2022-05-02T09:12:04.526Z"
   },
   {
    "duration": 24,
    "start_time": "2022-05-02T09:12:04.536Z"
   },
   {
    "duration": 10,
    "start_time": "2022-05-02T09:12:04.562Z"
   },
   {
    "duration": 285,
    "start_time": "2022-05-02T09:12:04.574Z"
   },
   {
    "duration": 33,
    "start_time": "2022-05-02T09:12:04.862Z"
   },
   {
    "duration": 18,
    "start_time": "2022-05-02T09:12:04.897Z"
   },
   {
    "duration": 42,
    "start_time": "2022-05-02T09:12:04.917Z"
   },
   {
    "duration": 248,
    "start_time": "2022-05-02T09:12:04.968Z"
   },
   {
    "duration": 11,
    "start_time": "2022-05-02T09:12:05.219Z"
   },
   {
    "duration": 24,
    "start_time": "2022-05-02T09:12:05.232Z"
   },
   {
    "duration": 246,
    "start_time": "2022-05-02T09:12:05.258Z"
   },
   {
    "duration": 11,
    "start_time": "2022-05-02T09:12:05.506Z"
   },
   {
    "duration": 4,
    "start_time": "2022-05-02T09:14:53.932Z"
   },
   {
    "duration": 582,
    "start_time": "2022-05-02T09:15:03.703Z"
   },
   {
    "duration": 5,
    "start_time": "2022-05-02T09:15:04.288Z"
   },
   {
    "duration": 210,
    "start_time": "2022-05-02T09:15:04.296Z"
   },
   {
    "duration": 42,
    "start_time": "2022-05-02T09:15:04.509Z"
   },
   {
    "duration": 21,
    "start_time": "2022-05-02T09:15:04.553Z"
   },
   {
    "duration": 114,
    "start_time": "2022-05-02T09:15:04.577Z"
   },
   {
    "duration": 100,
    "start_time": "2022-05-02T09:15:04.693Z"
   },
   {
    "duration": 12,
    "start_time": "2022-05-02T09:15:04.795Z"
   },
   {
    "duration": 17,
    "start_time": "2022-05-02T09:15:04.810Z"
   },
   {
    "duration": 6,
    "start_time": "2022-05-02T09:15:04.853Z"
   },
   {
    "duration": 28,
    "start_time": "2022-05-02T09:15:04.861Z"
   },
   {
    "duration": 17,
    "start_time": "2022-05-02T09:15:04.891Z"
   },
   {
    "duration": 43,
    "start_time": "2022-05-02T09:15:04.911Z"
   },
   {
    "duration": 8,
    "start_time": "2022-05-02T09:15:04.956Z"
   },
   {
    "duration": 8,
    "start_time": "2022-05-02T09:15:04.966Z"
   },
   {
    "duration": 9,
    "start_time": "2022-05-02T09:15:04.977Z"
   },
   {
    "duration": 6,
    "start_time": "2022-05-02T09:15:04.988Z"
   },
   {
    "duration": 8,
    "start_time": "2022-05-02T09:15:04.996Z"
   },
   {
    "duration": 51,
    "start_time": "2022-05-02T09:15:05.007Z"
   },
   {
    "duration": 6,
    "start_time": "2022-05-02T09:15:05.061Z"
   },
   {
    "duration": 8,
    "start_time": "2022-05-02T09:15:05.070Z"
   },
   {
    "duration": 6,
    "start_time": "2022-05-02T09:15:05.081Z"
   },
   {
    "duration": 7,
    "start_time": "2022-05-02T09:15:05.090Z"
   },
   {
    "duration": 52,
    "start_time": "2022-05-02T09:15:05.100Z"
   },
   {
    "duration": 6,
    "start_time": "2022-05-02T09:15:05.154Z"
   },
   {
    "duration": 6,
    "start_time": "2022-05-02T09:15:05.162Z"
   },
   {
    "duration": 26,
    "start_time": "2022-05-02T09:15:05.170Z"
   },
   {
    "duration": 9,
    "start_time": "2022-05-02T09:15:05.202Z"
   },
   {
    "duration": 43,
    "start_time": "2022-05-02T09:15:05.213Z"
   },
   {
    "duration": 12,
    "start_time": "2022-05-02T09:15:05.259Z"
   },
   {
    "duration": 5,
    "start_time": "2022-05-02T09:15:05.273Z"
   },
   {
    "duration": 5,
    "start_time": "2022-05-02T09:15:05.280Z"
   },
   {
    "duration": 15,
    "start_time": "2022-05-02T09:15:05.287Z"
   },
   {
    "duration": 48,
    "start_time": "2022-05-02T09:15:05.305Z"
   },
   {
    "duration": 7,
    "start_time": "2022-05-02T09:15:05.356Z"
   },
   {
    "duration": 6,
    "start_time": "2022-05-02T09:15:05.365Z"
   },
   {
    "duration": 17,
    "start_time": "2022-05-02T09:15:05.373Z"
   },
   {
    "duration": 13,
    "start_time": "2022-05-02T09:15:05.392Z"
   },
   {
    "duration": 51,
    "start_time": "2022-05-02T09:15:05.407Z"
   },
   {
    "duration": 18,
    "start_time": "2022-05-02T09:15:05.460Z"
   },
   {
    "duration": 23,
    "start_time": "2022-05-02T09:15:05.481Z"
   },
   {
    "duration": 16,
    "start_time": "2022-05-02T09:15:05.506Z"
   },
   {
    "duration": 45,
    "start_time": "2022-05-02T09:15:05.524Z"
   },
   {
    "duration": 28,
    "start_time": "2022-05-02T09:15:05.572Z"
   },
   {
    "duration": 15,
    "start_time": "2022-05-02T09:15:05.602Z"
   },
   {
    "duration": 61,
    "start_time": "2022-05-02T09:15:05.619Z"
   },
   {
    "duration": 29,
    "start_time": "2022-05-02T09:15:05.683Z"
   },
   {
    "duration": 6,
    "start_time": "2022-05-02T09:15:05.715Z"
   },
   {
    "duration": 46,
    "start_time": "2022-05-02T09:15:05.724Z"
   },
   {
    "duration": 18,
    "start_time": "2022-05-02T09:15:05.773Z"
   },
   {
    "duration": 18,
    "start_time": "2022-05-02T09:15:05.794Z"
   },
   {
    "duration": 12,
    "start_time": "2022-05-02T09:15:05.814Z"
   },
   {
    "duration": 27,
    "start_time": "2022-05-02T09:15:05.828Z"
   },
   {
    "duration": 9,
    "start_time": "2022-05-02T09:15:05.858Z"
   },
   {
    "duration": 7,
    "start_time": "2022-05-02T09:15:05.869Z"
   },
   {
    "duration": 608,
    "start_time": "2022-05-02T09:15:05.879Z"
   },
   {
    "duration": 6,
    "start_time": "2022-05-02T09:15:06.489Z"
   },
   {
    "duration": 8,
    "start_time": "2022-05-02T09:15:06.498Z"
   },
   {
    "duration": 62,
    "start_time": "2022-05-02T09:15:06.508Z"
   },
   {
    "duration": 904,
    "start_time": "2022-05-02T09:15:06.572Z"
   },
   {
    "duration": 426,
    "start_time": "2022-05-02T09:15:07.478Z"
   },
   {
    "duration": 427,
    "start_time": "2022-05-02T09:15:07.907Z"
   },
   {
    "duration": 409,
    "start_time": "2022-05-02T09:15:08.337Z"
   },
   {
    "duration": 15,
    "start_time": "2022-05-02T09:15:08.753Z"
   },
   {
    "duration": 489,
    "start_time": "2022-05-02T09:15:08.771Z"
   },
   {
    "duration": 16,
    "start_time": "2022-05-02T09:15:09.262Z"
   },
   {
    "duration": 119,
    "start_time": "2022-05-02T09:15:09.280Z"
   },
   {
    "duration": 63,
    "start_time": "2022-05-02T09:15:09.401Z"
   },
   {
    "duration": 13,
    "start_time": "2022-05-02T09:15:09.466Z"
   },
   {
    "duration": 5,
    "start_time": "2022-05-02T09:15:09.481Z"
   },
   {
    "duration": 13,
    "start_time": "2022-05-02T09:15:09.488Z"
   },
   {
    "duration": 17,
    "start_time": "2022-05-02T09:15:09.503Z"
   },
   {
    "duration": 33,
    "start_time": "2022-05-02T09:15:09.522Z"
   },
   {
    "duration": 12,
    "start_time": "2022-05-02T09:15:09.557Z"
   },
   {
    "duration": 10,
    "start_time": "2022-05-02T09:15:09.571Z"
   },
   {
    "duration": 5,
    "start_time": "2022-05-02T09:15:09.583Z"
   },
   {
    "duration": 10,
    "start_time": "2022-05-02T09:15:09.590Z"
   },
   {
    "duration": 7,
    "start_time": "2022-05-02T09:15:09.602Z"
   },
   {
    "duration": 326,
    "start_time": "2022-05-02T09:15:09.611Z"
   },
   {
    "duration": 41,
    "start_time": "2022-05-02T09:15:09.940Z"
   },
   {
    "duration": 15,
    "start_time": "2022-05-02T09:15:09.983Z"
   },
   {
    "duration": 10,
    "start_time": "2022-05-02T09:15:10.006Z"
   },
   {
    "duration": 257,
    "start_time": "2022-05-02T09:15:10.019Z"
   },
   {
    "duration": 10,
    "start_time": "2022-05-02T09:15:10.278Z"
   },
   {
    "duration": 13,
    "start_time": "2022-05-02T09:15:10.290Z"
   },
   {
    "duration": 260,
    "start_time": "2022-05-02T09:15:10.305Z"
   },
   {
    "duration": 11,
    "start_time": "2022-05-02T09:15:10.568Z"
   },
   {
    "duration": 1624,
    "start_time": "2022-05-02T09:20:31.113Z"
   },
   {
    "duration": 4,
    "start_time": "2022-05-02T09:20:32.740Z"
   },
   {
    "duration": 148,
    "start_time": "2022-05-02T09:20:32.746Z"
   },
   {
    "duration": 28,
    "start_time": "2022-05-02T09:20:32.897Z"
   },
   {
    "duration": 53,
    "start_time": "2022-05-02T09:20:32.927Z"
   },
   {
    "duration": 106,
    "start_time": "2022-05-02T09:20:32.982Z"
   },
   {
    "duration": 101,
    "start_time": "2022-05-02T09:20:33.090Z"
   },
   {
    "duration": 12,
    "start_time": "2022-05-02T09:20:33.193Z"
   },
   {
    "duration": 17,
    "start_time": "2022-05-02T09:20:33.208Z"
   },
   {
    "duration": 29,
    "start_time": "2022-05-02T09:20:33.228Z"
   },
   {
    "duration": 43,
    "start_time": "2022-05-02T09:20:33.260Z"
   },
   {
    "duration": 26,
    "start_time": "2022-05-02T09:20:33.305Z"
   },
   {
    "duration": 22,
    "start_time": "2022-05-02T09:20:33.332Z"
   },
   {
    "duration": 36,
    "start_time": "2022-05-02T09:20:33.358Z"
   },
   {
    "duration": 11,
    "start_time": "2022-05-02T09:20:33.396Z"
   },
   {
    "duration": 19,
    "start_time": "2022-05-02T09:20:33.409Z"
   },
   {
    "duration": 8,
    "start_time": "2022-05-02T09:20:33.430Z"
   },
   {
    "duration": 35,
    "start_time": "2022-05-02T09:20:33.440Z"
   },
   {
    "duration": 15,
    "start_time": "2022-05-02T09:20:33.477Z"
   },
   {
    "duration": 24,
    "start_time": "2022-05-02T09:20:33.494Z"
   },
   {
    "duration": 21,
    "start_time": "2022-05-02T09:20:33.520Z"
   },
   {
    "duration": 24,
    "start_time": "2022-05-02T09:20:33.543Z"
   },
   {
    "duration": 26,
    "start_time": "2022-05-02T09:20:33.569Z"
   },
   {
    "duration": 23,
    "start_time": "2022-05-02T09:20:33.597Z"
   },
   {
    "duration": 27,
    "start_time": "2022-05-02T09:20:33.623Z"
   },
   {
    "duration": 36,
    "start_time": "2022-05-02T09:20:33.653Z"
   },
   {
    "duration": 28,
    "start_time": "2022-05-02T09:20:33.691Z"
   },
   {
    "duration": 19,
    "start_time": "2022-05-02T09:20:33.725Z"
   },
   {
    "duration": 34,
    "start_time": "2022-05-02T09:20:33.746Z"
   },
   {
    "duration": 18,
    "start_time": "2022-05-02T09:20:33.782Z"
   },
   {
    "duration": 16,
    "start_time": "2022-05-02T09:20:33.803Z"
   },
   {
    "duration": 23,
    "start_time": "2022-05-02T09:20:33.822Z"
   },
   {
    "duration": 29,
    "start_time": "2022-05-02T09:20:33.848Z"
   },
   {
    "duration": 34,
    "start_time": "2022-05-02T09:20:33.879Z"
   },
   {
    "duration": 16,
    "start_time": "2022-05-02T09:20:33.915Z"
   },
   {
    "duration": 21,
    "start_time": "2022-05-02T09:20:33.933Z"
   },
   {
    "duration": 29,
    "start_time": "2022-05-02T09:20:33.958Z"
   },
   {
    "duration": 24,
    "start_time": "2022-05-02T09:20:33.989Z"
   },
   {
    "duration": 24,
    "start_time": "2022-05-02T09:20:34.015Z"
   },
   {
    "duration": 33,
    "start_time": "2022-05-02T09:20:34.041Z"
   },
   {
    "duration": 20,
    "start_time": "2022-05-02T09:20:34.076Z"
   },
   {
    "duration": 27,
    "start_time": "2022-05-02T09:20:34.098Z"
   },
   {
    "duration": 27,
    "start_time": "2022-05-02T09:20:34.127Z"
   },
   {
    "duration": 20,
    "start_time": "2022-05-02T09:20:34.158Z"
   },
   {
    "duration": 25,
    "start_time": "2022-05-02T09:20:34.181Z"
   },
   {
    "duration": 61,
    "start_time": "2022-05-02T09:20:34.208Z"
   },
   {
    "duration": 19,
    "start_time": "2022-05-02T09:20:34.271Z"
   },
   {
    "duration": 7,
    "start_time": "2022-05-02T09:20:34.292Z"
   },
   {
    "duration": 27,
    "start_time": "2022-05-02T09:20:34.301Z"
   },
   {
    "duration": 48,
    "start_time": "2022-05-02T09:20:34.330Z"
   },
   {
    "duration": 30,
    "start_time": "2022-05-02T09:20:34.380Z"
   },
   {
    "duration": 18,
    "start_time": "2022-05-02T09:20:34.412Z"
   },
   {
    "duration": 36,
    "start_time": "2022-05-02T09:20:34.432Z"
   },
   {
    "duration": 25,
    "start_time": "2022-05-02T09:20:34.470Z"
   },
   {
    "duration": 33,
    "start_time": "2022-05-02T09:20:34.497Z"
   },
   {
    "duration": 583,
    "start_time": "2022-05-02T09:20:34.532Z"
   },
   {
    "duration": 5,
    "start_time": "2022-05-02T09:20:35.117Z"
   },
   {
    "duration": 30,
    "start_time": "2022-05-02T09:20:35.124Z"
   },
   {
    "duration": 63,
    "start_time": "2022-05-02T09:20:35.158Z"
   },
   {
    "duration": 302,
    "start_time": "2022-05-02T09:20:35.223Z"
   },
   {
    "duration": 252,
    "start_time": "2022-05-02T09:20:35.527Z"
   },
   {
    "duration": 291,
    "start_time": "2022-05-02T09:20:35.782Z"
   },
   {
    "duration": 276,
    "start_time": "2022-05-02T09:20:36.075Z"
   },
   {
    "duration": 14,
    "start_time": "2022-05-02T09:20:36.356Z"
   },
   {
    "duration": 279,
    "start_time": "2022-05-02T09:20:36.373Z"
   },
   {
    "duration": 20,
    "start_time": "2022-05-02T09:20:36.656Z"
   },
   {
    "duration": 204,
    "start_time": "2022-05-02T09:20:36.678Z"
   },
   {
    "duration": 50,
    "start_time": "2022-05-02T09:20:36.885Z"
   },
   {
    "duration": 33,
    "start_time": "2022-05-02T09:20:36.938Z"
   },
   {
    "duration": 16,
    "start_time": "2022-05-02T09:20:36.973Z"
   },
   {
    "duration": 24,
    "start_time": "2022-05-02T09:20:36.992Z"
   },
   {
    "duration": 31,
    "start_time": "2022-05-02T09:20:37.018Z"
   },
   {
    "duration": 22,
    "start_time": "2022-05-02T09:20:37.052Z"
   },
   {
    "duration": 25,
    "start_time": "2022-05-02T09:20:37.076Z"
   },
   {
    "duration": 14,
    "start_time": "2022-05-02T09:20:37.104Z"
   },
   {
    "duration": 12,
    "start_time": "2022-05-02T09:20:37.121Z"
   },
   {
    "duration": 32,
    "start_time": "2022-05-02T09:20:37.135Z"
   },
   {
    "duration": 13,
    "start_time": "2022-05-02T09:20:37.169Z"
   },
   {
    "duration": 314,
    "start_time": "2022-05-02T09:20:37.184Z"
   },
   {
    "duration": 33,
    "start_time": "2022-05-02T09:20:37.501Z"
   },
   {
    "duration": 36,
    "start_time": "2022-05-02T09:20:37.537Z"
   },
   {
    "duration": 20,
    "start_time": "2022-05-02T09:20:37.581Z"
   },
   {
    "duration": 260,
    "start_time": "2022-05-02T09:20:37.603Z"
   },
   {
    "duration": 11,
    "start_time": "2022-05-02T09:20:37.865Z"
   },
   {
    "duration": 22,
    "start_time": "2022-05-02T09:20:37.878Z"
   },
   {
    "duration": 246,
    "start_time": "2022-05-02T09:20:37.902Z"
   },
   {
    "duration": 15,
    "start_time": "2022-05-02T09:20:38.151Z"
   },
   {
    "duration": 7,
    "start_time": "2022-05-02T09:23:11.130Z"
   },
   {
    "duration": 154,
    "start_time": "2022-05-02T09:24:13.681Z"
   },
   {
    "duration": 11,
    "start_time": "2022-05-02T09:24:22.837Z"
   },
   {
    "duration": 15,
    "start_time": "2022-05-02T09:24:27.702Z"
   },
   {
    "duration": 12,
    "start_time": "2022-05-02T09:25:08.773Z"
   },
   {
    "duration": 16,
    "start_time": "2022-05-02T09:25:33.963Z"
   },
   {
    "duration": 15,
    "start_time": "2022-05-02T09:25:40.965Z"
   },
   {
    "duration": 14,
    "start_time": "2022-05-02T09:25:59.772Z"
   },
   {
    "duration": 20,
    "start_time": "2022-05-02T09:26:18.917Z"
   },
   {
    "duration": 20,
    "start_time": "2022-05-02T09:26:38.168Z"
   },
   {
    "duration": 22,
    "start_time": "2022-05-02T09:28:06.931Z"
   },
   {
    "duration": 18,
    "start_time": "2022-05-02T09:33:48.941Z"
   },
   {
    "duration": 18,
    "start_time": "2022-05-02T09:34:01.162Z"
   },
   {
    "duration": 1032,
    "start_time": "2022-05-02T09:34:09.508Z"
   },
   {
    "duration": 1092,
    "start_time": "2022-05-02T09:34:28.596Z"
   },
   {
    "duration": 1041,
    "start_time": "2022-05-02T09:34:41.876Z"
   },
   {
    "duration": 217,
    "start_time": "2022-05-02T09:40:51.444Z"
   },
   {
    "duration": 1116,
    "start_time": "2022-05-02T09:42:21.913Z"
   },
   {
    "duration": 1023,
    "start_time": "2022-05-02T09:43:20.310Z"
   },
   {
    "duration": 397,
    "start_time": "2022-05-02T09:44:49.132Z"
   },
   {
    "duration": 262,
    "start_time": "2022-05-02T09:44:59.294Z"
   },
   {
    "duration": 278,
    "start_time": "2022-05-02T09:45:05.898Z"
   },
   {
    "duration": 242,
    "start_time": "2022-05-02T09:45:13.386Z"
   },
   {
    "duration": 258,
    "start_time": "2022-05-02T09:45:19.606Z"
   },
   {
    "duration": 356,
    "start_time": "2022-05-02T09:46:20.160Z"
   },
   {
    "duration": 352,
    "start_time": "2022-05-02T09:46:28.888Z"
   },
   {
    "duration": 194,
    "start_time": "2022-05-02T09:46:34.310Z"
   },
   {
    "duration": 268,
    "start_time": "2022-05-02T09:46:38.398Z"
   },
   {
    "duration": 265,
    "start_time": "2022-05-02T09:46:43.880Z"
   },
   {
    "duration": 621,
    "start_time": "2022-05-02T09:46:58.213Z"
   },
   {
    "duration": 528,
    "start_time": "2022-05-02T09:47:03.239Z"
   },
   {
    "duration": 527,
    "start_time": "2022-05-02T09:47:54.869Z"
   },
   {
    "duration": 322,
    "start_time": "2022-05-02T09:48:01.270Z"
   },
   {
    "duration": 281,
    "start_time": "2022-05-02T09:48:06.622Z"
   },
   {
    "duration": 281,
    "start_time": "2022-05-02T09:48:21.790Z"
   },
   {
    "duration": 532,
    "start_time": "2022-05-02T09:48:37.754Z"
   },
   {
    "duration": 254,
    "start_time": "2022-05-02T09:48:54.886Z"
   },
   {
    "duration": 351,
    "start_time": "2022-05-02T09:49:04.660Z"
   },
   {
    "duration": 149,
    "start_time": "2022-05-02T09:50:12.363Z"
   },
   {
    "duration": 19,
    "start_time": "2022-05-02T09:50:41.246Z"
   },
   {
    "duration": 19,
    "start_time": "2022-05-02T09:51:00.136Z"
   },
   {
    "duration": 263,
    "start_time": "2022-05-02T09:51:10.099Z"
   },
   {
    "duration": 185,
    "start_time": "2022-05-02T09:53:47.934Z"
   },
   {
    "duration": 289,
    "start_time": "2022-05-02T09:55:25.665Z"
   },
   {
    "duration": 281,
    "start_time": "2022-05-02T09:56:50.926Z"
   },
   {
    "duration": 122,
    "start_time": "2022-05-02T09:57:01.780Z"
   },
   {
    "duration": 274,
    "start_time": "2022-05-02T09:57:17.035Z"
   },
   {
    "duration": 3,
    "start_time": "2022-05-02T09:58:15.326Z"
   },
   {
    "duration": 7387,
    "start_time": "2022-05-02T09:58:56.117Z"
   },
   {
    "duration": 307,
    "start_time": "2022-05-02T09:59:31.877Z"
   },
   {
    "duration": 218,
    "start_time": "2022-05-02T10:00:34.454Z"
   },
   {
    "duration": 306,
    "start_time": "2022-05-02T10:00:42.155Z"
   },
   {
    "duration": 310,
    "start_time": "2022-05-02T10:02:58.242Z"
   },
   {
    "duration": 278,
    "start_time": "2022-05-02T10:03:07.326Z"
   },
   {
    "duration": 420,
    "start_time": "2022-05-02T10:03:16.808Z"
   },
   {
    "duration": 307,
    "start_time": "2022-05-02T10:03:20.831Z"
   },
   {
    "duration": 269,
    "start_time": "2022-05-02T10:03:24.752Z"
   },
   {
    "duration": 118,
    "start_time": "2022-05-02T10:04:20.059Z"
   },
   {
    "duration": 218,
    "start_time": "2022-05-02T10:04:33.425Z"
   },
   {
    "duration": 262,
    "start_time": "2022-05-02T10:04:46.961Z"
   },
   {
    "duration": 2267,
    "start_time": "2022-05-02T10:05:34.508Z"
   },
   {
    "duration": 270,
    "start_time": "2022-05-02T10:05:55.714Z"
   },
   {
    "duration": 7,
    "start_time": "2022-05-02T10:07:56.583Z"
   },
   {
    "duration": 15,
    "start_time": "2022-05-02T10:07:57.210Z"
   },
   {
    "duration": 4372,
    "start_time": "2022-05-02T10:08:12.715Z"
   },
   {
    "duration": 126,
    "start_time": "2022-05-02T10:08:40.792Z"
   },
   {
    "duration": 279,
    "start_time": "2022-05-02T10:08:48.245Z"
   },
   {
    "duration": 289,
    "start_time": "2022-05-02T10:09:48.211Z"
   },
   {
    "duration": 6,
    "start_time": "2022-05-02T10:10:37.933Z"
   },
   {
    "duration": 9,
    "start_time": "2022-05-02T10:11:10.491Z"
   },
   {
    "duration": 54,
    "start_time": "2022-05-02T10:11:23.960Z"
   },
   {
    "duration": 55,
    "start_time": "2022-05-02T10:11:36.413Z"
   },
   {
    "duration": 13,
    "start_time": "2022-05-02T10:11:47.846Z"
   },
   {
    "duration": 12,
    "start_time": "2022-05-02T10:11:53.689Z"
   },
   {
    "duration": 287,
    "start_time": "2022-05-02T10:12:29.785Z"
   },
   {
    "duration": 321,
    "start_time": "2022-05-02T10:14:04.312Z"
   },
   {
    "duration": 222,
    "start_time": "2022-05-02T10:14:17.760Z"
   },
   {
    "duration": 234,
    "start_time": "2022-05-02T10:15:14.556Z"
   },
   {
    "duration": 241,
    "start_time": "2022-05-02T10:15:18.529Z"
   },
   {
    "duration": 235,
    "start_time": "2022-05-02T10:15:30.326Z"
   },
   {
    "duration": 215,
    "start_time": "2022-05-02T10:15:45.932Z"
   },
   {
    "duration": 167,
    "start_time": "2022-05-02T10:16:34.321Z"
   },
   {
    "duration": 7,
    "start_time": "2022-05-02T10:16:44.443Z"
   },
   {
    "duration": 11,
    "start_time": "2022-05-02T10:16:46.507Z"
   },
   {
    "duration": 13,
    "start_time": "2022-05-02T10:16:52.025Z"
   },
   {
    "duration": 704,
    "start_time": "2022-05-02T10:16:53.382Z"
   },
   {
    "duration": 523,
    "start_time": "2022-05-02T10:18:54.911Z"
   },
   {
    "duration": 273,
    "start_time": "2022-05-02T10:19:09.369Z"
   },
   {
    "duration": 311,
    "start_time": "2022-05-02T10:19:16.518Z"
   },
   {
    "duration": 421,
    "start_time": "2022-05-02T10:19:27.041Z"
   },
   {
    "duration": 289,
    "start_time": "2022-05-02T10:20:55.299Z"
   },
   {
    "duration": 12,
    "start_time": "2022-05-02T10:21:54.751Z"
   },
   {
    "duration": 1354,
    "start_time": "2022-05-02T10:22:04.452Z"
   },
   {
    "duration": 269,
    "start_time": "2022-05-02T10:22:16.458Z"
   },
   {
    "duration": 295,
    "start_time": "2022-05-02T10:23:12.436Z"
   },
   {
    "duration": 1531,
    "start_time": "2022-05-02T10:23:56.933Z"
   },
   {
    "duration": 4,
    "start_time": "2022-05-02T10:23:58.467Z"
   },
   {
    "duration": 141,
    "start_time": "2022-05-02T10:23:58.473Z"
   },
   {
    "duration": 41,
    "start_time": "2022-05-02T10:23:58.618Z"
   },
   {
    "duration": 22,
    "start_time": "2022-05-02T10:23:58.661Z"
   },
   {
    "duration": 115,
    "start_time": "2022-05-02T10:23:58.686Z"
   },
   {
    "duration": 112,
    "start_time": "2022-05-02T10:23:58.803Z"
   },
   {
    "duration": 14,
    "start_time": "2022-05-02T10:23:58.917Z"
   },
   {
    "duration": 30,
    "start_time": "2022-05-02T10:23:58.934Z"
   },
   {
    "duration": 6,
    "start_time": "2022-05-02T10:23:58.968Z"
   },
   {
    "duration": 29,
    "start_time": "2022-05-02T10:23:58.977Z"
   },
   {
    "duration": 47,
    "start_time": "2022-05-02T10:23:59.009Z"
   },
   {
    "duration": 10,
    "start_time": "2022-05-02T10:23:59.060Z"
   },
   {
    "duration": 8,
    "start_time": "2022-05-02T10:23:59.072Z"
   },
   {
    "duration": 7,
    "start_time": "2022-05-02T10:23:59.082Z"
   },
   {
    "duration": 13,
    "start_time": "2022-05-02T10:23:59.091Z"
   },
   {
    "duration": 21,
    "start_time": "2022-05-02T10:23:59.106Z"
   },
   {
    "duration": 27,
    "start_time": "2022-05-02T10:23:59.129Z"
   },
   {
    "duration": 15,
    "start_time": "2022-05-02T10:23:59.158Z"
   },
   {
    "duration": 6,
    "start_time": "2022-05-02T10:23:59.177Z"
   },
   {
    "duration": 9,
    "start_time": "2022-05-02T10:23:59.186Z"
   },
   {
    "duration": 12,
    "start_time": "2022-05-02T10:23:59.197Z"
   },
   {
    "duration": 42,
    "start_time": "2022-05-02T10:23:59.211Z"
   },
   {
    "duration": 9,
    "start_time": "2022-05-02T10:23:59.256Z"
   },
   {
    "duration": 8,
    "start_time": "2022-05-02T10:23:59.267Z"
   },
   {
    "duration": 6,
    "start_time": "2022-05-02T10:23:59.277Z"
   },
   {
    "duration": 27,
    "start_time": "2022-05-02T10:23:59.286Z"
   },
   {
    "duration": 36,
    "start_time": "2022-05-02T10:23:59.322Z"
   },
   {
    "duration": 8,
    "start_time": "2022-05-02T10:23:59.361Z"
   },
   {
    "duration": 12,
    "start_time": "2022-05-02T10:23:59.371Z"
   },
   {
    "duration": 5,
    "start_time": "2022-05-02T10:23:59.386Z"
   },
   {
    "duration": 8,
    "start_time": "2022-05-02T10:23:59.392Z"
   },
   {
    "duration": 53,
    "start_time": "2022-05-02T10:23:59.402Z"
   },
   {
    "duration": 5,
    "start_time": "2022-05-02T10:23:59.458Z"
   },
   {
    "duration": 7,
    "start_time": "2022-05-02T10:23:59.465Z"
   },
   {
    "duration": 9,
    "start_time": "2022-05-02T10:23:59.474Z"
   },
   {
    "duration": 7,
    "start_time": "2022-05-02T10:23:59.485Z"
   },
   {
    "duration": 21,
    "start_time": "2022-05-02T10:23:59.494Z"
   },
   {
    "duration": 61,
    "start_time": "2022-05-02T10:23:59.518Z"
   },
   {
    "duration": 23,
    "start_time": "2022-05-02T10:23:59.582Z"
   },
   {
    "duration": 19,
    "start_time": "2022-05-02T10:23:59.607Z"
   },
   {
    "duration": 32,
    "start_time": "2022-05-02T10:23:59.628Z"
   },
   {
    "duration": 25,
    "start_time": "2022-05-02T10:23:59.663Z"
   },
   {
    "duration": 15,
    "start_time": "2022-05-02T10:23:59.690Z"
   },
   {
    "duration": 44,
    "start_time": "2022-05-02T10:23:59.708Z"
   },
   {
    "duration": 47,
    "start_time": "2022-05-02T10:23:59.754Z"
   },
   {
    "duration": 22,
    "start_time": "2022-05-02T10:23:59.804Z"
   },
   {
    "duration": 25,
    "start_time": "2022-05-02T10:23:59.829Z"
   },
   {
    "duration": 12,
    "start_time": "2022-05-02T10:23:59.857Z"
   },
   {
    "duration": 18,
    "start_time": "2022-05-02T10:23:59.872Z"
   },
   {
    "duration": 20,
    "start_time": "2022-05-02T10:23:59.892Z"
   },
   {
    "duration": 40,
    "start_time": "2022-05-02T10:23:59.914Z"
   },
   {
    "duration": 7,
    "start_time": "2022-05-02T10:23:59.957Z"
   },
   {
    "duration": 4,
    "start_time": "2022-05-02T10:23:59.967Z"
   },
   {
    "duration": 11,
    "start_time": "2022-05-02T10:23:59.973Z"
   },
   {
    "duration": 581,
    "start_time": "2022-05-02T10:23:59.986Z"
   },
   {
    "duration": 5,
    "start_time": "2022-05-02T10:24:00.570Z"
   },
   {
    "duration": 16,
    "start_time": "2022-05-02T10:24:00.578Z"
   },
   {
    "duration": 55,
    "start_time": "2022-05-02T10:24:00.597Z"
   },
   {
    "duration": 4,
    "start_time": "2022-05-02T10:24:00.654Z"
   },
   {
    "duration": 303,
    "start_time": "2022-05-02T10:24:00.660Z"
   },
   {
    "duration": 253,
    "start_time": "2022-05-02T10:24:00.965Z"
   },
   {
    "duration": 6,
    "start_time": "2022-05-02T10:24:01.220Z"
   },
   {
    "duration": 32,
    "start_time": "2022-05-02T10:24:01.228Z"
   },
   {
    "duration": 304,
    "start_time": "2022-05-02T10:24:01.263Z"
   },
   {
    "duration": 298,
    "start_time": "2022-05-02T10:24:01.569Z"
   },
   {
    "duration": 305,
    "start_time": "2022-05-02T10:24:01.869Z"
   },
   {
    "duration": 12,
    "start_time": "2022-05-02T10:24:02.176Z"
   },
   {
    "duration": 280,
    "start_time": "2022-05-02T10:24:02.191Z"
   },
   {
    "duration": 15,
    "start_time": "2022-05-02T10:24:02.474Z"
   },
   {
    "duration": 201,
    "start_time": "2022-05-02T10:24:02.492Z"
   },
   {
    "duration": 65,
    "start_time": "2022-05-02T10:24:02.695Z"
   },
   {
    "duration": 12,
    "start_time": "2022-05-02T10:24:02.763Z"
   },
   {
    "duration": 9,
    "start_time": "2022-05-02T10:24:02.777Z"
   },
   {
    "duration": 12,
    "start_time": "2022-05-02T10:24:02.789Z"
   },
   {
    "duration": 48,
    "start_time": "2022-05-02T10:24:02.804Z"
   },
   {
    "duration": 5,
    "start_time": "2022-05-02T10:24:02.854Z"
   },
   {
    "duration": 12,
    "start_time": "2022-05-02T10:24:02.862Z"
   },
   {
    "duration": 13,
    "start_time": "2022-05-02T10:24:02.876Z"
   },
   {
    "duration": 5,
    "start_time": "2022-05-02T10:24:02.891Z"
   },
   {
    "duration": 7,
    "start_time": "2022-05-02T10:24:02.898Z"
   },
   {
    "duration": 6,
    "start_time": "2022-05-02T10:24:02.952Z"
   },
   {
    "duration": 308,
    "start_time": "2022-05-02T10:24:02.961Z"
   },
   {
    "duration": 36,
    "start_time": "2022-05-02T10:24:03.272Z"
   },
   {
    "duration": 50,
    "start_time": "2022-05-02T10:24:03.311Z"
   },
   {
    "duration": 10,
    "start_time": "2022-05-02T10:24:03.364Z"
   },
   {
    "duration": 242,
    "start_time": "2022-05-02T10:24:03.377Z"
   },
   {
    "duration": 12,
    "start_time": "2022-05-02T10:24:03.621Z"
   },
   {
    "duration": 11,
    "start_time": "2022-05-02T10:24:03.651Z"
   },
   {
    "duration": 252,
    "start_time": "2022-05-02T10:24:03.665Z"
   },
   {
    "duration": 12,
    "start_time": "2022-05-02T10:24:03.919Z"
   },
   {
    "duration": 279,
    "start_time": "2022-05-02T10:27:58.638Z"
   },
   {
    "duration": 418,
    "start_time": "2022-05-02T10:28:12.857Z"
   },
   {
    "duration": 253,
    "start_time": "2022-05-02T10:28:23.934Z"
   },
   {
    "duration": 238,
    "start_time": "2022-05-02T10:28:34.878Z"
   },
   {
    "duration": 270,
    "start_time": "2022-05-02T10:28:39.725Z"
   },
   {
    "duration": 375,
    "start_time": "2022-05-02T10:28:46.636Z"
   },
   {
    "duration": 304,
    "start_time": "2022-05-02T10:39:06.343Z"
   },
   {
    "duration": 258,
    "start_time": "2022-05-02T10:39:43.317Z"
   },
   {
    "duration": 356,
    "start_time": "2022-05-02T10:39:58.653Z"
   },
   {
    "duration": 120,
    "start_time": "2022-05-02T10:49:07.286Z"
   },
   {
    "duration": 269,
    "start_time": "2022-05-02T10:49:31.283Z"
   },
   {
    "duration": 270,
    "start_time": "2022-05-02T10:50:36.884Z"
   },
   {
    "duration": 392,
    "start_time": "2022-05-02T10:52:38.539Z"
   },
   {
    "duration": 275,
    "start_time": "2022-05-02T10:53:05.944Z"
   },
   {
    "duration": 264,
    "start_time": "2022-05-02T10:53:55.610Z"
   },
   {
    "duration": 316,
    "start_time": "2022-05-02T10:54:04.673Z"
   },
   {
    "duration": 329,
    "start_time": "2022-05-02T10:54:29.412Z"
   },
   {
    "duration": 425,
    "start_time": "2022-05-02T10:55:38.584Z"
   },
   {
    "duration": 291,
    "start_time": "2022-05-02T10:57:23.956Z"
   },
   {
    "duration": 351,
    "start_time": "2022-05-02T11:02:49.373Z"
   },
   {
    "duration": 592,
    "start_time": "2022-05-02T11:04:50.164Z"
   },
   {
    "duration": 429,
    "start_time": "2022-05-02T11:04:56.290Z"
   },
   {
    "duration": 244,
    "start_time": "2022-05-02T11:05:18.219Z"
   },
   {
    "duration": 352,
    "start_time": "2022-05-02T11:05:25.216Z"
   },
   {
    "duration": 505,
    "start_time": "2022-05-02T11:05:35.574Z"
   },
   {
    "duration": 323,
    "start_time": "2022-05-02T11:05:40.494Z"
   },
   {
    "duration": 312,
    "start_time": "2022-05-02T11:05:46.042Z"
   },
   {
    "duration": 283,
    "start_time": "2022-05-02T11:05:53.768Z"
   },
   {
    "duration": 269,
    "start_time": "2022-05-02T11:06:00.607Z"
   },
   {
    "duration": 282,
    "start_time": "2022-05-02T11:06:27.981Z"
   },
   {
    "duration": 269,
    "start_time": "2022-05-02T11:06:33.245Z"
   },
   {
    "duration": 7288,
    "start_time": "2022-05-02T11:08:03.997Z"
   },
   {
    "duration": 7281,
    "start_time": "2022-05-02T11:08:31.975Z"
   },
   {
    "duration": 705,
    "start_time": "2022-05-02T11:08:53.431Z"
   },
   {
    "duration": 316,
    "start_time": "2022-05-02T11:08:59.625Z"
   },
   {
    "duration": 302,
    "start_time": "2022-05-02T11:09:03.710Z"
   },
   {
    "duration": 126,
    "start_time": "2022-05-02T11:09:44.465Z"
   },
   {
    "duration": 117,
    "start_time": "2022-05-02T11:10:00.302Z"
   },
   {
    "duration": 128,
    "start_time": "2022-05-02T11:10:09.201Z"
   },
   {
    "duration": 118,
    "start_time": "2022-05-02T11:10:24.627Z"
   },
   {
    "duration": 116,
    "start_time": "2022-05-02T11:10:29.158Z"
   },
   {
    "duration": 451,
    "start_time": "2022-05-02T11:10:38.250Z"
   },
   {
    "duration": 513,
    "start_time": "2022-05-02T11:10:58.361Z"
   },
   {
    "duration": 321,
    "start_time": "2022-05-02T11:11:05.386Z"
   },
   {
    "duration": 307,
    "start_time": "2022-05-02T11:11:16.050Z"
   },
   {
    "duration": 312,
    "start_time": "2022-05-02T11:11:48.354Z"
   },
   {
    "duration": 294,
    "start_time": "2022-05-02T11:12:22.729Z"
   },
   {
    "duration": 24,
    "start_time": "2022-05-02T11:25:58.833Z"
   },
   {
    "duration": 22,
    "start_time": "2022-05-02T11:26:21.005Z"
   },
   {
    "duration": 1543,
    "start_time": "2022-05-02T11:26:31.073Z"
   },
   {
    "duration": 4,
    "start_time": "2022-05-02T11:26:32.619Z"
   },
   {
    "duration": 210,
    "start_time": "2022-05-02T11:26:32.625Z"
   },
   {
    "duration": 51,
    "start_time": "2022-05-02T11:26:32.839Z"
   },
   {
    "duration": 34,
    "start_time": "2022-05-02T11:26:32.892Z"
   },
   {
    "duration": 146,
    "start_time": "2022-05-02T11:26:32.953Z"
   },
   {
    "duration": 100,
    "start_time": "2022-05-02T11:26:33.102Z"
   },
   {
    "duration": 18,
    "start_time": "2022-05-02T11:26:33.205Z"
   },
   {
    "duration": 46,
    "start_time": "2022-05-02T11:26:33.226Z"
   },
   {
    "duration": 7,
    "start_time": "2022-05-02T11:26:33.278Z"
   },
   {
    "duration": 32,
    "start_time": "2022-05-02T11:26:33.287Z"
   },
   {
    "duration": 52,
    "start_time": "2022-05-02T11:26:33.321Z"
   },
   {
    "duration": 22,
    "start_time": "2022-05-02T11:26:33.376Z"
   },
   {
    "duration": 11,
    "start_time": "2022-05-02T11:26:33.400Z"
   },
   {
    "duration": 7,
    "start_time": "2022-05-02T11:26:33.414Z"
   },
   {
    "duration": 32,
    "start_time": "2022-05-02T11:26:33.424Z"
   },
   {
    "duration": 6,
    "start_time": "2022-05-02T11:26:33.459Z"
   },
   {
    "duration": 7,
    "start_time": "2022-05-02T11:26:33.467Z"
   },
   {
    "duration": 10,
    "start_time": "2022-05-02T11:26:33.477Z"
   },
   {
    "duration": 11,
    "start_time": "2022-05-02T11:26:33.490Z"
   },
   {
    "duration": 50,
    "start_time": "2022-05-02T11:26:33.504Z"
   },
   {
    "duration": 7,
    "start_time": "2022-05-02T11:26:33.556Z"
   },
   {
    "duration": 7,
    "start_time": "2022-05-02T11:26:33.565Z"
   },
   {
    "duration": 10,
    "start_time": "2022-05-02T11:26:33.575Z"
   },
   {
    "duration": 9,
    "start_time": "2022-05-02T11:26:33.588Z"
   },
   {
    "duration": 5,
    "start_time": "2022-05-02T11:26:33.600Z"
   },
   {
    "duration": 74,
    "start_time": "2022-05-02T11:26:33.607Z"
   },
   {
    "duration": 8,
    "start_time": "2022-05-02T11:26:33.691Z"
   },
   {
    "duration": 12,
    "start_time": "2022-05-02T11:26:33.701Z"
   },
   {
    "duration": 50,
    "start_time": "2022-05-02T11:26:33.716Z"
   },
   {
    "duration": 6,
    "start_time": "2022-05-02T11:26:33.769Z"
   },
   {
    "duration": 10,
    "start_time": "2022-05-02T11:26:33.777Z"
   },
   {
    "duration": 12,
    "start_time": "2022-05-02T11:26:33.789Z"
   },
   {
    "duration": 14,
    "start_time": "2022-05-02T11:26:33.804Z"
   },
   {
    "duration": 37,
    "start_time": "2022-05-02T11:26:33.820Z"
   },
   {
    "duration": 7,
    "start_time": "2022-05-02T11:26:33.860Z"
   },
   {
    "duration": 7,
    "start_time": "2022-05-02T11:26:33.869Z"
   },
   {
    "duration": 16,
    "start_time": "2022-05-02T11:26:33.878Z"
   },
   {
    "duration": 67,
    "start_time": "2022-05-02T11:26:33.896Z"
   },
   {
    "duration": 28,
    "start_time": "2022-05-02T11:26:33.967Z"
   },
   {
    "duration": 20,
    "start_time": "2022-05-02T11:26:33.998Z"
   },
   {
    "duration": 52,
    "start_time": "2022-05-02T11:26:34.020Z"
   },
   {
    "duration": 22,
    "start_time": "2022-05-02T11:26:34.075Z"
   },
   {
    "duration": 55,
    "start_time": "2022-05-02T11:26:34.100Z"
   },
   {
    "duration": 13,
    "start_time": "2022-05-02T11:26:34.157Z"
   },
   {
    "duration": 35,
    "start_time": "2022-05-02T11:26:34.173Z"
   },
   {
    "duration": 60,
    "start_time": "2022-05-02T11:26:34.210Z"
   },
   {
    "duration": 6,
    "start_time": "2022-05-02T11:26:34.273Z"
   },
   {
    "duration": 23,
    "start_time": "2022-05-02T11:26:34.282Z"
   },
   {
    "duration": 20,
    "start_time": "2022-05-02T11:26:34.307Z"
   },
   {
    "duration": 24,
    "start_time": "2022-05-02T11:26:34.352Z"
   },
   {
    "duration": 16,
    "start_time": "2022-05-02T11:26:34.379Z"
   },
   {
    "duration": 8,
    "start_time": "2022-05-02T11:26:34.399Z"
   },
   {
    "duration": 7,
    "start_time": "2022-05-02T11:26:34.410Z"
   },
   {
    "duration": 34,
    "start_time": "2022-05-02T11:26:34.420Z"
   },
   {
    "duration": 917,
    "start_time": "2022-05-02T11:26:34.456Z"
   },
   {
    "duration": 7,
    "start_time": "2022-05-02T11:26:35.375Z"
   },
   {
    "duration": 37,
    "start_time": "2022-05-02T11:26:35.385Z"
   },
   {
    "duration": 61,
    "start_time": "2022-05-02T11:26:35.425Z"
   },
   {
    "duration": 7,
    "start_time": "2022-05-02T11:26:35.489Z"
   },
   {
    "duration": 293,
    "start_time": "2022-05-02T11:26:35.498Z"
   },
   {
    "duration": 460,
    "start_time": "2022-05-02T11:26:35.795Z"
   },
   {
    "duration": 6,
    "start_time": "2022-05-02T11:26:36.258Z"
   },
   {
    "duration": 16,
    "start_time": "2022-05-02T11:26:36.266Z"
   },
   {
    "duration": 323,
    "start_time": "2022-05-02T11:26:36.284Z"
   },
   {
    "duration": 433,
    "start_time": "2022-05-02T11:26:36.609Z"
   },
   {
    "duration": 503,
    "start_time": "2022-05-02T11:26:37.052Z"
   },
   {
    "duration": 13,
    "start_time": "2022-05-02T11:26:37.558Z"
   },
   {
    "duration": 270,
    "start_time": "2022-05-02T11:26:37.574Z"
   },
   {
    "duration": 18,
    "start_time": "2022-05-02T11:26:37.846Z"
   },
   {
    "duration": 204,
    "start_time": "2022-05-02T11:26:37.867Z"
   },
   {
    "duration": 100,
    "start_time": "2022-05-02T11:26:38.073Z"
   },
   {
    "duration": 18,
    "start_time": "2022-05-02T11:26:38.175Z"
   },
   {
    "duration": 10,
    "start_time": "2022-05-02T11:26:38.196Z"
   },
   {
    "duration": 17,
    "start_time": "2022-05-02T11:26:38.209Z"
   },
   {
    "duration": 17,
    "start_time": "2022-05-02T11:26:38.251Z"
   },
   {
    "duration": 4,
    "start_time": "2022-05-02T11:26:38.271Z"
   },
   {
    "duration": 17,
    "start_time": "2022-05-02T11:26:38.279Z"
   },
   {
    "duration": 18,
    "start_time": "2022-05-02T11:26:38.299Z"
   },
   {
    "duration": 35,
    "start_time": "2022-05-02T11:26:38.320Z"
   },
   {
    "duration": 12,
    "start_time": "2022-05-02T11:26:38.358Z"
   },
   {
    "duration": 6,
    "start_time": "2022-05-02T11:26:38.384Z"
   },
   {
    "duration": 353,
    "start_time": "2022-05-02T11:26:38.393Z"
   },
   {
    "duration": 33,
    "start_time": "2022-05-02T11:26:38.751Z"
   },
   {
    "duration": 18,
    "start_time": "2022-05-02T11:26:38.787Z"
   },
   {
    "duration": 45,
    "start_time": "2022-05-02T11:26:38.808Z"
   },
   {
    "duration": 350,
    "start_time": "2022-05-02T11:26:38.856Z"
   },
   {
    "duration": 13,
    "start_time": "2022-05-02T11:26:39.209Z"
   },
   {
    "duration": 32,
    "start_time": "2022-05-02T11:26:39.225Z"
   },
   {
    "duration": 235,
    "start_time": "2022-05-02T11:26:39.259Z"
   },
   {
    "duration": 12,
    "start_time": "2022-05-02T11:26:39.497Z"
   },
   {
    "duration": 148,
    "start_time": "2022-05-02T11:27:13.713Z"
   },
   {
    "duration": 15,
    "start_time": "2022-05-02T11:27:49.337Z"
   },
   {
    "duration": 13,
    "start_time": "2022-05-02T11:27:51.987Z"
   },
   {
    "duration": 14,
    "start_time": "2022-05-02T11:27:52.666Z"
   },
   {
    "duration": 4,
    "start_time": "2022-05-02T11:27:57.263Z"
   },
   {
    "duration": 14,
    "start_time": "2022-05-02T11:27:57.907Z"
   },
   {
    "duration": 4,
    "start_time": "2022-05-02T11:28:49.329Z"
   },
   {
    "duration": 10,
    "start_time": "2022-05-02T11:28:49.862Z"
   },
   {
    "duration": 14,
    "start_time": "2022-05-02T11:28:50.397Z"
   },
   {
    "duration": 4,
    "start_time": "2022-05-02T11:28:50.864Z"
   },
   {
    "duration": 10,
    "start_time": "2022-05-02T11:28:51.510Z"
   },
   {
    "duration": 8,
    "start_time": "2022-05-02T11:29:23.095Z"
   },
   {
    "duration": 2116,
    "start_time": "2022-05-02T11:29:50.030Z"
   },
   {
    "duration": 4,
    "start_time": "2022-05-02T11:29:52.151Z"
   },
   {
    "duration": 162,
    "start_time": "2022-05-02T11:29:52.158Z"
   },
   {
    "duration": 50,
    "start_time": "2022-05-02T11:29:52.324Z"
   },
   {
    "duration": 27,
    "start_time": "2022-05-02T11:29:52.377Z"
   },
   {
    "duration": 120,
    "start_time": "2022-05-02T11:29:52.406Z"
   },
   {
    "duration": 97,
    "start_time": "2022-05-02T11:29:52.528Z"
   },
   {
    "duration": 25,
    "start_time": "2022-05-02T11:29:52.628Z"
   },
   {
    "duration": 15,
    "start_time": "2022-05-02T11:29:52.655Z"
   },
   {
    "duration": 6,
    "start_time": "2022-05-02T11:29:52.673Z"
   },
   {
    "duration": 30,
    "start_time": "2022-05-02T11:29:52.681Z"
   },
   {
    "duration": 46,
    "start_time": "2022-05-02T11:29:52.713Z"
   },
   {
    "duration": 27,
    "start_time": "2022-05-02T11:29:52.762Z"
   },
   {
    "duration": 23,
    "start_time": "2022-05-02T11:29:52.792Z"
   },
   {
    "duration": 15,
    "start_time": "2022-05-02T11:29:52.819Z"
   },
   {
    "duration": 26,
    "start_time": "2022-05-02T11:29:52.836Z"
   },
   {
    "duration": 19,
    "start_time": "2022-05-02T11:29:52.865Z"
   },
   {
    "duration": 17,
    "start_time": "2022-05-02T11:29:52.887Z"
   },
   {
    "duration": 25,
    "start_time": "2022-05-02T11:29:52.907Z"
   },
   {
    "duration": 10,
    "start_time": "2022-05-02T11:29:52.934Z"
   },
   {
    "duration": 12,
    "start_time": "2022-05-02T11:29:52.947Z"
   },
   {
    "duration": 16,
    "start_time": "2022-05-02T11:29:52.962Z"
   },
   {
    "duration": 15,
    "start_time": "2022-05-02T11:29:52.981Z"
   },
   {
    "duration": 19,
    "start_time": "2022-05-02T11:29:52.998Z"
   },
   {
    "duration": 11,
    "start_time": "2022-05-02T11:29:53.020Z"
   },
   {
    "duration": 12,
    "start_time": "2022-05-02T11:29:53.034Z"
   },
   {
    "duration": 41,
    "start_time": "2022-05-02T11:29:53.048Z"
   },
   {
    "duration": 11,
    "start_time": "2022-05-02T11:29:53.098Z"
   },
   {
    "duration": 17,
    "start_time": "2022-05-02T11:29:53.112Z"
   },
   {
    "duration": 22,
    "start_time": "2022-05-02T11:29:53.132Z"
   },
   {
    "duration": 12,
    "start_time": "2022-05-02T11:29:53.156Z"
   },
   {
    "duration": 20,
    "start_time": "2022-05-02T11:29:53.170Z"
   },
   {
    "duration": 29,
    "start_time": "2022-05-02T11:29:53.193Z"
   },
   {
    "duration": 24,
    "start_time": "2022-05-02T11:29:53.224Z"
   },
   {
    "duration": 27,
    "start_time": "2022-05-02T11:29:53.250Z"
   },
   {
    "duration": 25,
    "start_time": "2022-05-02T11:29:53.279Z"
   },
   {
    "duration": 14,
    "start_time": "2022-05-02T11:29:53.307Z"
   },
   {
    "duration": 33,
    "start_time": "2022-05-02T11:29:53.324Z"
   },
   {
    "duration": 33,
    "start_time": "2022-05-02T11:29:53.359Z"
   },
   {
    "duration": 28,
    "start_time": "2022-05-02T11:29:53.395Z"
   },
   {
    "duration": 37,
    "start_time": "2022-05-02T11:29:53.427Z"
   },
   {
    "duration": 25,
    "start_time": "2022-05-02T11:29:53.467Z"
   },
   {
    "duration": 21,
    "start_time": "2022-05-02T11:29:53.494Z"
   },
   {
    "duration": 58,
    "start_time": "2022-05-02T11:29:53.518Z"
   },
   {
    "duration": 21,
    "start_time": "2022-05-02T11:29:53.579Z"
   },
   {
    "duration": 81,
    "start_time": "2022-05-02T11:29:53.603Z"
   },
   {
    "duration": 29,
    "start_time": "2022-05-02T11:29:53.687Z"
   },
   {
    "duration": 6,
    "start_time": "2022-05-02T11:29:53.720Z"
   },
   {
    "duration": 33,
    "start_time": "2022-05-02T11:29:53.728Z"
   },
   {
    "duration": 23,
    "start_time": "2022-05-02T11:29:53.764Z"
   },
   {
    "duration": 24,
    "start_time": "2022-05-02T11:29:53.790Z"
   },
   {
    "duration": 22,
    "start_time": "2022-05-02T11:29:53.816Z"
   },
   {
    "duration": 27,
    "start_time": "2022-05-02T11:29:53.840Z"
   },
   {
    "duration": 4,
    "start_time": "2022-05-02T11:29:53.870Z"
   },
   {
    "duration": 11,
    "start_time": "2022-05-02T11:29:53.876Z"
   },
   {
    "duration": 954,
    "start_time": "2022-05-02T11:29:53.889Z"
   },
   {
    "duration": 8,
    "start_time": "2022-05-02T11:29:54.846Z"
   },
   {
    "duration": 9,
    "start_time": "2022-05-02T11:29:54.857Z"
   },
   {
    "duration": 51,
    "start_time": "2022-05-02T11:29:54.869Z"
   },
   {
    "duration": 4,
    "start_time": "2022-05-02T11:29:54.922Z"
   },
   {
    "duration": 431,
    "start_time": "2022-05-02T11:29:54.953Z"
   },
   {
    "duration": 445,
    "start_time": "2022-05-02T11:29:55.387Z"
   },
   {
    "duration": 16,
    "start_time": "2022-05-02T11:29:55.835Z"
   },
   {
    "duration": 16,
    "start_time": "2022-05-02T11:29:55.854Z"
   },
   {
    "duration": 469,
    "start_time": "2022-05-02T11:29:55.873Z"
   },
   {
    "duration": 426,
    "start_time": "2022-05-02T11:29:56.352Z"
   },
   {
    "duration": 410,
    "start_time": "2022-05-02T11:29:56.781Z"
   },
   {
    "duration": 15,
    "start_time": "2022-05-02T11:29:57.194Z"
   },
   {
    "duration": 398,
    "start_time": "2022-05-02T11:29:57.212Z"
   },
   {
    "duration": 15,
    "start_time": "2022-05-02T11:29:57.613Z"
   },
   {
    "duration": 193,
    "start_time": "2022-05-02T11:29:57.630Z"
   },
   {
    "duration": 64,
    "start_time": "2022-05-02T11:29:57.825Z"
   },
   {
    "duration": 14,
    "start_time": "2022-05-02T11:29:57.892Z"
   },
   {
    "duration": 5,
    "start_time": "2022-05-02T11:29:57.909Z"
   },
   {
    "duration": 39,
    "start_time": "2022-05-02T11:29:57.917Z"
   },
   {
    "duration": 20,
    "start_time": "2022-05-02T11:29:57.959Z"
   },
   {
    "duration": 990,
    "start_time": "2022-05-02T11:29:57.982Z"
   },
   {
    "duration": 0,
    "start_time": "2022-05-02T11:29:58.975Z"
   },
   {
    "duration": 0,
    "start_time": "2022-05-02T11:29:58.978Z"
   },
   {
    "duration": 0,
    "start_time": "2022-05-02T11:29:58.980Z"
   },
   {
    "duration": 0,
    "start_time": "2022-05-02T11:29:58.982Z"
   },
   {
    "duration": 0,
    "start_time": "2022-05-02T11:29:58.985Z"
   },
   {
    "duration": 1,
    "start_time": "2022-05-02T11:29:58.987Z"
   },
   {
    "duration": 0,
    "start_time": "2022-05-02T11:29:58.989Z"
   },
   {
    "duration": 0,
    "start_time": "2022-05-02T11:29:58.992Z"
   },
   {
    "duration": 0,
    "start_time": "2022-05-02T11:29:58.994Z"
   },
   {
    "duration": 0,
    "start_time": "2022-05-02T11:29:58.996Z"
   },
   {
    "duration": 0,
    "start_time": "2022-05-02T11:29:58.998Z"
   },
   {
    "duration": 0,
    "start_time": "2022-05-02T11:29:59.001Z"
   },
   {
    "duration": 0,
    "start_time": "2022-05-02T11:29:59.003Z"
   },
   {
    "duration": 0,
    "start_time": "2022-05-02T11:29:59.005Z"
   },
   {
    "duration": 5,
    "start_time": "2022-05-02T11:30:26.676Z"
   },
   {
    "duration": 16,
    "start_time": "2022-05-02T11:30:28.701Z"
   },
   {
    "duration": 481,
    "start_time": "2022-05-02T13:00:30.492Z"
   },
   {
    "duration": 1538,
    "start_time": "2022-05-02T13:01:41.905Z"
   },
   {
    "duration": 8,
    "start_time": "2022-05-02T13:01:43.446Z"
   },
   {
    "duration": 134,
    "start_time": "2022-05-02T13:01:43.457Z"
   },
   {
    "duration": 64,
    "start_time": "2022-05-02T13:01:43.596Z"
   },
   {
    "duration": 30,
    "start_time": "2022-05-02T13:01:43.662Z"
   },
   {
    "duration": 117,
    "start_time": "2022-05-02T13:01:43.694Z"
   },
   {
    "duration": 138,
    "start_time": "2022-05-02T13:01:43.814Z"
   },
   {
    "duration": 18,
    "start_time": "2022-05-02T13:01:43.954Z"
   },
   {
    "duration": 19,
    "start_time": "2022-05-02T13:01:43.975Z"
   },
   {
    "duration": 9,
    "start_time": "2022-05-02T13:01:44.001Z"
   },
   {
    "duration": 63,
    "start_time": "2022-05-02T13:01:44.013Z"
   },
   {
    "duration": 16,
    "start_time": "2022-05-02T13:01:44.079Z"
   },
   {
    "duration": 16,
    "start_time": "2022-05-02T13:01:44.097Z"
   },
   {
    "duration": 39,
    "start_time": "2022-05-02T13:01:44.116Z"
   },
   {
    "duration": 8,
    "start_time": "2022-05-02T13:01:44.157Z"
   },
   {
    "duration": 13,
    "start_time": "2022-05-02T13:01:44.167Z"
   },
   {
    "duration": 6,
    "start_time": "2022-05-02T13:01:44.183Z"
   },
   {
    "duration": 9,
    "start_time": "2022-05-02T13:01:44.192Z"
   },
   {
    "duration": 49,
    "start_time": "2022-05-02T13:01:44.204Z"
   },
   {
    "duration": 6,
    "start_time": "2022-05-02T13:01:44.256Z"
   },
   {
    "duration": 13,
    "start_time": "2022-05-02T13:01:44.265Z"
   },
   {
    "duration": 7,
    "start_time": "2022-05-02T13:01:44.282Z"
   },
   {
    "duration": 7,
    "start_time": "2022-05-02T13:01:44.292Z"
   },
   {
    "duration": 53,
    "start_time": "2022-05-02T13:01:44.302Z"
   },
   {
    "duration": 7,
    "start_time": "2022-05-02T13:01:44.357Z"
   },
   {
    "duration": 7,
    "start_time": "2022-05-02T13:01:44.367Z"
   },
   {
    "duration": 29,
    "start_time": "2022-05-02T13:01:44.377Z"
   },
   {
    "duration": 7,
    "start_time": "2022-05-02T13:01:44.415Z"
   },
   {
    "duration": 32,
    "start_time": "2022-05-02T13:01:44.424Z"
   },
   {
    "duration": 13,
    "start_time": "2022-05-02T13:01:44.459Z"
   },
   {
    "duration": 8,
    "start_time": "2022-05-02T13:01:44.474Z"
   },
   {
    "duration": 7,
    "start_time": "2022-05-02T13:01:44.485Z"
   },
   {
    "duration": 16,
    "start_time": "2022-05-02T13:01:44.494Z"
   },
   {
    "duration": 10,
    "start_time": "2022-05-02T13:01:44.552Z"
   },
   {
    "duration": 7,
    "start_time": "2022-05-02T13:01:44.564Z"
   },
   {
    "duration": 6,
    "start_time": "2022-05-02T13:01:44.574Z"
   },
   {
    "duration": 7,
    "start_time": "2022-05-02T13:01:44.582Z"
   },
   {
    "duration": 12,
    "start_time": "2022-05-02T13:01:44.591Z"
   },
   {
    "duration": 60,
    "start_time": "2022-05-02T13:01:44.608Z"
   },
   {
    "duration": 27,
    "start_time": "2022-05-02T13:01:44.670Z"
   },
   {
    "duration": 17,
    "start_time": "2022-05-02T13:01:44.700Z"
   },
   {
    "duration": 59,
    "start_time": "2022-05-02T13:01:44.720Z"
   },
   {
    "duration": 35,
    "start_time": "2022-05-02T13:01:44.782Z"
   },
   {
    "duration": 50,
    "start_time": "2022-05-02T13:01:44.820Z"
   },
   {
    "duration": 19,
    "start_time": "2022-05-02T13:01:44.873Z"
   },
   {
    "duration": 56,
    "start_time": "2022-05-02T13:01:44.897Z"
   },
   {
    "duration": 19,
    "start_time": "2022-05-02T13:01:44.956Z"
   },
   {
    "duration": 5,
    "start_time": "2022-05-02T13:01:44.977Z"
   },
   {
    "duration": 21,
    "start_time": "2022-05-02T13:01:44.985Z"
   },
   {
    "duration": 58,
    "start_time": "2022-05-02T13:01:45.009Z"
   },
   {
    "duration": 24,
    "start_time": "2022-05-02T13:01:45.069Z"
   },
   {
    "duration": 23,
    "start_time": "2022-05-02T13:01:45.096Z"
   },
   {
    "duration": 30,
    "start_time": "2022-05-02T13:01:45.121Z"
   },
   {
    "duration": 21,
    "start_time": "2022-05-02T13:01:45.154Z"
   },
   {
    "duration": 17,
    "start_time": "2022-05-02T13:01:45.178Z"
   },
   {
    "duration": 563,
    "start_time": "2022-05-02T13:01:45.198Z"
   },
   {
    "duration": 6,
    "start_time": "2022-05-02T13:01:45.763Z"
   },
   {
    "duration": 6,
    "start_time": "2022-05-02T13:01:45.773Z"
   },
   {
    "duration": 84,
    "start_time": "2022-05-02T13:01:45.781Z"
   },
   {
    "duration": 3,
    "start_time": "2022-05-02T13:01:45.868Z"
   },
   {
    "duration": 295,
    "start_time": "2022-05-02T13:01:45.874Z"
   },
   {
    "duration": 581,
    "start_time": "2022-05-02T13:01:46.171Z"
   },
   {
    "duration": 7,
    "start_time": "2022-05-02T13:01:46.754Z"
   },
   {
    "duration": 39,
    "start_time": "2022-05-02T13:01:46.765Z"
   },
   {
    "duration": 318,
    "start_time": "2022-05-02T13:01:46.807Z"
   },
   {
    "duration": 305,
    "start_time": "2022-05-02T13:01:47.128Z"
   },
   {
    "duration": 325,
    "start_time": "2022-05-02T13:01:47.435Z"
   },
   {
    "duration": 13,
    "start_time": "2022-05-02T13:01:47.762Z"
   },
   {
    "duration": 271,
    "start_time": "2022-05-02T13:01:47.777Z"
   },
   {
    "duration": 15,
    "start_time": "2022-05-02T13:01:48.051Z"
   },
   {
    "duration": 308,
    "start_time": "2022-05-02T13:01:48.069Z"
   },
   {
    "duration": 73,
    "start_time": "2022-05-02T13:01:48.379Z"
   },
   {
    "duration": 14,
    "start_time": "2022-05-02T13:01:48.455Z"
   },
   {
    "duration": 32,
    "start_time": "2022-05-02T13:01:48.472Z"
   },
   {
    "duration": 24,
    "start_time": "2022-05-02T13:01:48.507Z"
   },
   {
    "duration": 34,
    "start_time": "2022-05-02T13:01:48.534Z"
   },
   {
    "duration": 10,
    "start_time": "2022-05-02T13:01:48.571Z"
   },
   {
    "duration": 32,
    "start_time": "2022-05-02T13:01:48.584Z"
   },
   {
    "duration": 16,
    "start_time": "2022-05-02T13:01:48.620Z"
   },
   {
    "duration": 8,
    "start_time": "2022-05-02T13:01:48.639Z"
   },
   {
    "duration": 7,
    "start_time": "2022-05-02T13:01:48.651Z"
   },
   {
    "duration": 8,
    "start_time": "2022-05-02T13:01:48.667Z"
   },
   {
    "duration": 445,
    "start_time": "2022-05-02T13:01:48.682Z"
   },
   {
    "duration": 54,
    "start_time": "2022-05-02T13:01:49.130Z"
   },
   {
    "duration": 23,
    "start_time": "2022-05-02T13:01:49.187Z"
   },
   {
    "duration": 40,
    "start_time": "2022-05-02T13:01:49.214Z"
   },
   {
    "duration": 299,
    "start_time": "2022-05-02T13:01:49.258Z"
   },
   {
    "duration": 13,
    "start_time": "2022-05-02T13:01:49.560Z"
   },
   {
    "duration": 20,
    "start_time": "2022-05-02T13:01:49.576Z"
   },
   {
    "duration": 339,
    "start_time": "2022-05-02T13:01:49.598Z"
   },
   {
    "duration": 16,
    "start_time": "2022-05-02T13:01:49.941Z"
   },
   {
    "duration": 193,
    "start_time": "2022-05-02T13:03:32.768Z"
   },
   {
    "duration": 35,
    "start_time": "2022-05-02T13:03:42.885Z"
   },
   {
    "duration": 606,
    "start_time": "2022-05-02T13:05:24.046Z"
   },
   {
    "duration": 2055,
    "start_time": "2022-05-02T13:05:46.525Z"
   },
   {
    "duration": 5,
    "start_time": "2022-05-02T13:05:48.583Z"
   },
   {
    "duration": 142,
    "start_time": "2022-05-02T13:05:48.590Z"
   },
   {
    "duration": 38,
    "start_time": "2022-05-02T13:05:48.735Z"
   },
   {
    "duration": 28,
    "start_time": "2022-05-02T13:05:48.775Z"
   },
   {
    "duration": 114,
    "start_time": "2022-05-02T13:05:48.806Z"
   },
   {
    "duration": 129,
    "start_time": "2022-05-02T13:05:48.922Z"
   },
   {
    "duration": 20,
    "start_time": "2022-05-02T13:05:49.054Z"
   },
   {
    "duration": 24,
    "start_time": "2022-05-02T13:05:49.076Z"
   },
   {
    "duration": 6,
    "start_time": "2022-05-02T13:05:49.105Z"
   },
   {
    "duration": 71,
    "start_time": "2022-05-02T13:05:49.114Z"
   },
   {
    "duration": 21,
    "start_time": "2022-05-02T13:05:49.188Z"
   },
   {
    "duration": 10,
    "start_time": "2022-05-02T13:05:49.212Z"
   },
   {
    "duration": 31,
    "start_time": "2022-05-02T13:05:49.224Z"
   },
   {
    "duration": 7,
    "start_time": "2022-05-02T13:05:49.258Z"
   },
   {
    "duration": 8,
    "start_time": "2022-05-02T13:05:49.267Z"
   },
   {
    "duration": 5,
    "start_time": "2022-05-02T13:05:49.277Z"
   },
   {
    "duration": 12,
    "start_time": "2022-05-02T13:05:49.285Z"
   },
   {
    "duration": 54,
    "start_time": "2022-05-02T13:05:49.300Z"
   },
   {
    "duration": 7,
    "start_time": "2022-05-02T13:05:49.357Z"
   },
   {
    "duration": 8,
    "start_time": "2022-05-02T13:05:49.366Z"
   },
   {
    "duration": 7,
    "start_time": "2022-05-02T13:05:49.376Z"
   },
   {
    "duration": 6,
    "start_time": "2022-05-02T13:05:49.385Z"
   },
   {
    "duration": 10,
    "start_time": "2022-05-02T13:05:49.393Z"
   },
   {
    "duration": 51,
    "start_time": "2022-05-02T13:05:49.405Z"
   },
   {
    "duration": 4,
    "start_time": "2022-05-02T13:05:49.459Z"
   },
   {
    "duration": 24,
    "start_time": "2022-05-02T13:05:49.466Z"
   },
   {
    "duration": 8,
    "start_time": "2022-05-02T13:05:49.497Z"
   },
   {
    "duration": 45,
    "start_time": "2022-05-02T13:05:49.507Z"
   },
   {
    "duration": 12,
    "start_time": "2022-05-02T13:05:49.554Z"
   },
   {
    "duration": 5,
    "start_time": "2022-05-02T13:05:49.569Z"
   },
   {
    "duration": 6,
    "start_time": "2022-05-02T13:05:49.576Z"
   },
   {
    "duration": 13,
    "start_time": "2022-05-02T13:05:49.585Z"
   },
   {
    "duration": 12,
    "start_time": "2022-05-02T13:05:49.600Z"
   },
   {
    "duration": 41,
    "start_time": "2022-05-02T13:05:49.614Z"
   },
   {
    "duration": 22,
    "start_time": "2022-05-02T13:05:49.657Z"
   },
   {
    "duration": 18,
    "start_time": "2022-05-02T13:05:49.681Z"
   },
   {
    "duration": 25,
    "start_time": "2022-05-02T13:05:49.701Z"
   },
   {
    "duration": 18,
    "start_time": "2022-05-02T13:05:49.729Z"
   },
   {
    "duration": 19,
    "start_time": "2022-05-02T13:05:49.750Z"
   },
   {
    "duration": 15,
    "start_time": "2022-05-02T13:05:49.771Z"
   },
   {
    "duration": 15,
    "start_time": "2022-05-02T13:05:49.788Z"
   },
   {
    "duration": 47,
    "start_time": "2022-05-02T13:05:49.805Z"
   },
   {
    "duration": 18,
    "start_time": "2022-05-02T13:05:49.855Z"
   },
   {
    "duration": 13,
    "start_time": "2022-05-02T13:05:49.876Z"
   },
   {
    "duration": 70,
    "start_time": "2022-05-02T13:05:49.892Z"
   },
   {
    "duration": 19,
    "start_time": "2022-05-02T13:05:49.965Z"
   },
   {
    "duration": 5,
    "start_time": "2022-05-02T13:05:49.987Z"
   },
   {
    "duration": 18,
    "start_time": "2022-05-02T13:05:49.995Z"
   },
   {
    "duration": 24,
    "start_time": "2022-05-02T13:05:50.052Z"
   },
   {
    "duration": 25,
    "start_time": "2022-05-02T13:05:50.078Z"
   },
   {
    "duration": 10,
    "start_time": "2022-05-02T13:05:50.106Z"
   },
   {
    "duration": 34,
    "start_time": "2022-05-02T13:05:50.118Z"
   },
   {
    "duration": 7,
    "start_time": "2022-05-02T13:05:50.154Z"
   },
   {
    "duration": 7,
    "start_time": "2022-05-02T13:05:50.163Z"
   },
   {
    "duration": 573,
    "start_time": "2022-05-02T13:05:50.173Z"
   },
   {
    "duration": 6,
    "start_time": "2022-05-02T13:05:50.751Z"
   },
   {
    "duration": 18,
    "start_time": "2022-05-02T13:05:50.760Z"
   },
   {
    "duration": 54,
    "start_time": "2022-05-02T13:05:50.780Z"
   },
   {
    "duration": 4,
    "start_time": "2022-05-02T13:05:50.851Z"
   },
   {
    "duration": 438,
    "start_time": "2022-05-02T13:05:50.857Z"
   },
   {
    "duration": 331,
    "start_time": "2022-05-02T13:05:51.298Z"
   },
   {
    "duration": 5,
    "start_time": "2022-05-02T13:05:51.632Z"
   },
   {
    "duration": 17,
    "start_time": "2022-05-02T13:05:51.651Z"
   },
   {
    "duration": 475,
    "start_time": "2022-05-02T13:05:51.670Z"
   },
   {
    "duration": 439,
    "start_time": "2022-05-02T13:05:52.148Z"
   },
   {
    "duration": 413,
    "start_time": "2022-05-02T13:05:52.590Z"
   },
   {
    "duration": 14,
    "start_time": "2022-05-02T13:05:53.006Z"
   },
   {
    "duration": 932,
    "start_time": "2022-05-02T13:05:53.023Z"
   },
   {
    "duration": 4,
    "start_time": "2022-05-02T13:05:53.957Z"
   },
   {
    "duration": 33,
    "start_time": "2022-05-02T13:05:53.964Z"
   },
   {
    "duration": 14,
    "start_time": "2022-05-02T13:05:53.999Z"
   },
   {
    "duration": 127,
    "start_time": "2022-05-02T13:05:54.015Z"
   },
   {
    "duration": 51,
    "start_time": "2022-05-02T13:05:54.152Z"
   },
   {
    "duration": 11,
    "start_time": "2022-05-02T13:05:54.205Z"
   },
   {
    "duration": 33,
    "start_time": "2022-05-02T13:05:54.219Z"
   },
   {
    "duration": 12,
    "start_time": "2022-05-02T13:05:54.255Z"
   },
   {
    "duration": 15,
    "start_time": "2022-05-02T13:05:54.270Z"
   },
   {
    "duration": 4,
    "start_time": "2022-05-02T13:05:54.288Z"
   },
   {
    "duration": 14,
    "start_time": "2022-05-02T13:05:54.294Z"
   },
   {
    "duration": 17,
    "start_time": "2022-05-02T13:05:54.352Z"
   },
   {
    "duration": 6,
    "start_time": "2022-05-02T13:05:54.381Z"
   },
   {
    "duration": 7,
    "start_time": "2022-05-02T13:05:54.389Z"
   },
   {
    "duration": 6,
    "start_time": "2022-05-02T13:05:54.398Z"
   },
   {
    "duration": 318,
    "start_time": "2022-05-02T13:05:54.407Z"
   },
   {
    "duration": 45,
    "start_time": "2022-05-02T13:05:54.727Z"
   },
   {
    "duration": 21,
    "start_time": "2022-05-02T13:05:54.774Z"
   },
   {
    "duration": 13,
    "start_time": "2022-05-02T13:05:54.798Z"
   },
   {
    "duration": 250,
    "start_time": "2022-05-02T13:05:54.813Z"
   },
   {
    "duration": 10,
    "start_time": "2022-05-02T13:05:55.065Z"
   },
   {
    "duration": 12,
    "start_time": "2022-05-02T13:05:55.077Z"
   },
   {
    "duration": 251,
    "start_time": "2022-05-02T13:05:55.091Z"
   },
   {
    "duration": 16,
    "start_time": "2022-05-02T13:05:55.344Z"
   },
   {
    "duration": 748,
    "start_time": "2022-05-02T13:07:56.493Z"
   },
   {
    "duration": 855,
    "start_time": "2022-05-02T13:08:21.344Z"
   },
   {
    "duration": 403,
    "start_time": "2022-05-02T13:08:36.300Z"
   },
   {
    "duration": 10,
    "start_time": "2022-05-02T13:09:34.813Z"
   },
   {
    "duration": 30,
    "start_time": "2022-05-02T13:09:41.609Z"
   },
   {
    "duration": 1741,
    "start_time": "2022-05-02T13:09:54.191Z"
   },
   {
    "duration": 3,
    "start_time": "2022-05-02T13:09:55.935Z"
   },
   {
    "duration": 160,
    "start_time": "2022-05-02T13:09:55.941Z"
   },
   {
    "duration": 29,
    "start_time": "2022-05-02T13:09:56.103Z"
   },
   {
    "duration": 32,
    "start_time": "2022-05-02T13:09:56.134Z"
   },
   {
    "duration": 113,
    "start_time": "2022-05-02T13:09:56.168Z"
   },
   {
    "duration": 102,
    "start_time": "2022-05-02T13:09:56.283Z"
   },
   {
    "duration": 13,
    "start_time": "2022-05-02T13:09:56.388Z"
   },
   {
    "duration": 25,
    "start_time": "2022-05-02T13:09:56.403Z"
   },
   {
    "duration": 26,
    "start_time": "2022-05-02T13:09:56.431Z"
   },
   {
    "duration": 50,
    "start_time": "2022-05-02T13:09:56.460Z"
   },
   {
    "duration": 20,
    "start_time": "2022-05-02T13:09:56.512Z"
   },
   {
    "duration": 17,
    "start_time": "2022-05-02T13:09:56.535Z"
   },
   {
    "duration": 12,
    "start_time": "2022-05-02T13:09:56.554Z"
   },
   {
    "duration": 13,
    "start_time": "2022-05-02T13:09:56.568Z"
   },
   {
    "duration": 19,
    "start_time": "2022-05-02T13:09:56.583Z"
   },
   {
    "duration": 9,
    "start_time": "2022-05-02T13:09:56.604Z"
   },
   {
    "duration": 15,
    "start_time": "2022-05-02T13:09:56.615Z"
   },
   {
    "duration": 9,
    "start_time": "2022-05-02T13:09:56.632Z"
   },
   {
    "duration": 12,
    "start_time": "2022-05-02T13:09:56.643Z"
   },
   {
    "duration": 19,
    "start_time": "2022-05-02T13:09:56.656Z"
   },
   {
    "duration": 12,
    "start_time": "2022-05-02T13:09:56.677Z"
   },
   {
    "duration": 20,
    "start_time": "2022-05-02T13:09:56.691Z"
   },
   {
    "duration": 12,
    "start_time": "2022-05-02T13:09:56.714Z"
   },
   {
    "duration": 13,
    "start_time": "2022-05-02T13:09:56.728Z"
   },
   {
    "duration": 21,
    "start_time": "2022-05-02T13:09:56.743Z"
   },
   {
    "duration": 30,
    "start_time": "2022-05-02T13:09:56.766Z"
   },
   {
    "duration": 14,
    "start_time": "2022-05-02T13:09:56.803Z"
   },
   {
    "duration": 17,
    "start_time": "2022-05-02T13:09:56.819Z"
   },
   {
    "duration": 14,
    "start_time": "2022-05-02T13:09:56.839Z"
   },
   {
    "duration": 12,
    "start_time": "2022-05-02T13:09:56.856Z"
   },
   {
    "duration": 19,
    "start_time": "2022-05-02T13:09:56.870Z"
   },
   {
    "duration": 19,
    "start_time": "2022-05-02T13:09:56.892Z"
   },
   {
    "duration": 28,
    "start_time": "2022-05-02T13:09:56.913Z"
   },
   {
    "duration": 10,
    "start_time": "2022-05-02T13:09:56.943Z"
   },
   {
    "duration": 13,
    "start_time": "2022-05-02T13:09:56.955Z"
   },
   {
    "duration": 22,
    "start_time": "2022-05-02T13:09:56.970Z"
   },
   {
    "duration": 20,
    "start_time": "2022-05-02T13:09:56.995Z"
   },
   {
    "duration": 29,
    "start_time": "2022-05-02T13:09:57.018Z"
   },
   {
    "duration": 41,
    "start_time": "2022-05-02T13:09:57.049Z"
   },
   {
    "duration": 22,
    "start_time": "2022-05-02T13:09:57.092Z"
   },
   {
    "duration": 36,
    "start_time": "2022-05-02T13:09:57.116Z"
   },
   {
    "duration": 34,
    "start_time": "2022-05-02T13:09:57.155Z"
   },
   {
    "duration": 25,
    "start_time": "2022-05-02T13:09:57.191Z"
   },
   {
    "duration": 42,
    "start_time": "2022-05-02T13:09:57.218Z"
   },
   {
    "duration": 50,
    "start_time": "2022-05-02T13:09:57.263Z"
   },
   {
    "duration": 52,
    "start_time": "2022-05-02T13:09:57.316Z"
   },
   {
    "duration": 5,
    "start_time": "2022-05-02T13:09:57.371Z"
   },
   {
    "duration": 23,
    "start_time": "2022-05-02T13:09:57.379Z"
   },
   {
    "duration": 30,
    "start_time": "2022-05-02T13:09:57.404Z"
   },
   {
    "duration": 23,
    "start_time": "2022-05-02T13:09:57.436Z"
   },
   {
    "duration": 16,
    "start_time": "2022-05-02T13:09:57.461Z"
   },
   {
    "duration": 15,
    "start_time": "2022-05-02T13:09:57.480Z"
   },
   {
    "duration": 20,
    "start_time": "2022-05-02T13:09:57.498Z"
   },
   {
    "duration": 20,
    "start_time": "2022-05-02T13:09:57.521Z"
   },
   {
    "duration": 575,
    "start_time": "2022-05-02T13:09:57.543Z"
   },
   {
    "duration": 5,
    "start_time": "2022-05-02T13:09:58.121Z"
   },
   {
    "duration": 15,
    "start_time": "2022-05-02T13:09:58.128Z"
   },
   {
    "duration": 45,
    "start_time": "2022-05-02T13:09:58.145Z"
   },
   {
    "duration": 4,
    "start_time": "2022-05-02T13:09:58.192Z"
   },
   {
    "duration": 311,
    "start_time": "2022-05-02T13:09:58.198Z"
   },
   {
    "duration": 312,
    "start_time": "2022-05-02T13:09:58.511Z"
   },
   {
    "duration": 6,
    "start_time": "2022-05-02T13:09:58.826Z"
   },
   {
    "duration": 30,
    "start_time": "2022-05-02T13:09:58.835Z"
   },
   {
    "duration": 457,
    "start_time": "2022-05-02T13:09:58.869Z"
   },
   {
    "duration": 312,
    "start_time": "2022-05-02T13:09:59.329Z"
   },
   {
    "duration": 276,
    "start_time": "2022-05-02T13:09:59.652Z"
   },
   {
    "duration": 25,
    "start_time": "2022-05-02T13:09:59.930Z"
   },
   {
    "duration": 323,
    "start_time": "2022-05-02T13:09:59.958Z"
   },
   {
    "duration": 11,
    "start_time": "2022-05-02T13:10:00.284Z"
   },
   {
    "duration": 64,
    "start_time": "2022-05-02T13:10:00.298Z"
   },
   {
    "duration": 21,
    "start_time": "2022-05-02T13:10:00.364Z"
   },
   {
    "duration": 271,
    "start_time": "2022-05-02T13:10:00.388Z"
   },
   {
    "duration": 100,
    "start_time": "2022-05-02T13:10:00.662Z"
   },
   {
    "duration": 19,
    "start_time": "2022-05-02T13:10:00.765Z"
   },
   {
    "duration": 17,
    "start_time": "2022-05-02T13:10:00.786Z"
   },
   {
    "duration": 28,
    "start_time": "2022-05-02T13:10:00.806Z"
   },
   {
    "duration": 24,
    "start_time": "2022-05-02T13:10:00.837Z"
   },
   {
    "duration": 7,
    "start_time": "2022-05-02T13:10:00.863Z"
   },
   {
    "duration": 31,
    "start_time": "2022-05-02T13:10:00.873Z"
   },
   {
    "duration": 36,
    "start_time": "2022-05-02T13:10:00.906Z"
   },
   {
    "duration": 21,
    "start_time": "2022-05-02T13:10:00.957Z"
   },
   {
    "duration": 35,
    "start_time": "2022-05-02T13:10:00.981Z"
   },
   {
    "duration": 12,
    "start_time": "2022-05-02T13:10:01.019Z"
   },
   {
    "duration": 459,
    "start_time": "2022-05-02T13:10:01.034Z"
   },
   {
    "duration": 61,
    "start_time": "2022-05-02T13:10:01.496Z"
   },
   {
    "duration": 24,
    "start_time": "2022-05-02T13:10:01.560Z"
   },
   {
    "duration": 21,
    "start_time": "2022-05-02T13:10:01.586Z"
   },
   {
    "duration": 360,
    "start_time": "2022-05-02T13:10:01.609Z"
   },
   {
    "duration": 14,
    "start_time": "2022-05-02T13:10:01.971Z"
   },
   {
    "duration": 21,
    "start_time": "2022-05-02T13:10:01.988Z"
   },
   {
    "duration": 355,
    "start_time": "2022-05-02T13:10:02.012Z"
   },
   {
    "duration": 14,
    "start_time": "2022-05-02T13:10:02.370Z"
   },
   {
    "duration": 302,
    "start_time": "2022-05-02T13:11:00.436Z"
   },
   {
    "duration": 151,
    "start_time": "2022-05-02T13:11:46.127Z"
   },
   {
    "duration": 10,
    "start_time": "2022-05-02T13:11:54.884Z"
   },
   {
    "duration": 12,
    "start_time": "2022-05-02T13:12:01.568Z"
   },
   {
    "duration": 47,
    "start_time": "2022-05-02T13:20:51.549Z"
   },
   {
    "duration": 21,
    "start_time": "2022-05-02T13:24:09.418Z"
   },
   {
    "duration": 17,
    "start_time": "2022-05-02T13:25:09.201Z"
   },
   {
    "duration": 23,
    "start_time": "2022-05-02T13:26:04.087Z"
   },
   {
    "duration": 19,
    "start_time": "2022-05-02T13:26:33.044Z"
   },
   {
    "duration": 18,
    "start_time": "2022-05-02T13:27:15.840Z"
   },
   {
    "duration": 29,
    "start_time": "2022-05-02T13:28:16.376Z"
   },
   {
    "duration": 1646,
    "start_time": "2022-05-02T13:32:15.906Z"
   },
   {
    "duration": 4,
    "start_time": "2022-05-02T13:32:17.554Z"
   },
   {
    "duration": 147,
    "start_time": "2022-05-02T13:32:17.560Z"
   },
   {
    "duration": 44,
    "start_time": "2022-05-02T13:32:17.709Z"
   },
   {
    "duration": 22,
    "start_time": "2022-05-02T13:32:17.756Z"
   },
   {
    "duration": 150,
    "start_time": "2022-05-02T13:32:17.781Z"
   },
   {
    "duration": 97,
    "start_time": "2022-05-02T13:32:17.933Z"
   },
   {
    "duration": 36,
    "start_time": "2022-05-02T13:32:18.032Z"
   },
   {
    "duration": 26,
    "start_time": "2022-05-02T13:32:18.070Z"
   },
   {
    "duration": 8,
    "start_time": "2022-05-02T13:32:18.102Z"
   },
   {
    "duration": 60,
    "start_time": "2022-05-02T13:32:18.112Z"
   },
   {
    "duration": 18,
    "start_time": "2022-05-02T13:32:18.174Z"
   },
   {
    "duration": 9,
    "start_time": "2022-05-02T13:32:18.194Z"
   },
   {
    "duration": 8,
    "start_time": "2022-05-02T13:32:18.205Z"
   },
   {
    "duration": 6,
    "start_time": "2022-05-02T13:32:18.215Z"
   },
   {
    "duration": 6,
    "start_time": "2022-05-02T13:32:18.253Z"
   },
   {
    "duration": 5,
    "start_time": "2022-05-02T13:32:18.262Z"
   },
   {
    "duration": 6,
    "start_time": "2022-05-02T13:32:18.270Z"
   },
   {
    "duration": 12,
    "start_time": "2022-05-02T13:32:18.278Z"
   },
   {
    "duration": 5,
    "start_time": "2022-05-02T13:32:18.292Z"
   },
   {
    "duration": 56,
    "start_time": "2022-05-02T13:32:18.299Z"
   },
   {
    "duration": 6,
    "start_time": "2022-05-02T13:32:18.357Z"
   },
   {
    "duration": 6,
    "start_time": "2022-05-02T13:32:18.366Z"
   },
   {
    "duration": 11,
    "start_time": "2022-05-02T13:32:18.375Z"
   },
   {
    "duration": 5,
    "start_time": "2022-05-02T13:32:18.388Z"
   },
   {
    "duration": 4,
    "start_time": "2022-05-02T13:32:18.395Z"
   },
   {
    "duration": 65,
    "start_time": "2022-05-02T13:32:18.401Z"
   },
   {
    "duration": 7,
    "start_time": "2022-05-02T13:32:18.474Z"
   },
   {
    "duration": 6,
    "start_time": "2022-05-02T13:32:18.483Z"
   },
   {
    "duration": 17,
    "start_time": "2022-05-02T13:32:18.491Z"
   },
   {
    "duration": 6,
    "start_time": "2022-05-02T13:32:18.510Z"
   },
   {
    "duration": 5,
    "start_time": "2022-05-02T13:32:18.552Z"
   },
   {
    "duration": 13,
    "start_time": "2022-05-02T13:32:18.559Z"
   },
   {
    "duration": 8,
    "start_time": "2022-05-02T13:32:18.574Z"
   },
   {
    "duration": 5,
    "start_time": "2022-05-02T13:32:18.584Z"
   },
   {
    "duration": 5,
    "start_time": "2022-05-02T13:32:18.591Z"
   },
   {
    "duration": 57,
    "start_time": "2022-05-02T13:32:18.598Z"
   },
   {
    "duration": 16,
    "start_time": "2022-05-02T13:32:18.657Z"
   },
   {
    "duration": 19,
    "start_time": "2022-05-02T13:32:18.675Z"
   },
   {
    "duration": 18,
    "start_time": "2022-05-02T13:32:18.696Z"
   },
   {
    "duration": 37,
    "start_time": "2022-05-02T13:32:18.717Z"
   },
   {
    "duration": 16,
    "start_time": "2022-05-02T13:32:18.756Z"
   },
   {
    "duration": 21,
    "start_time": "2022-05-02T13:32:18.774Z"
   },
   {
    "duration": 18,
    "start_time": "2022-05-02T13:32:18.797Z"
   },
   {
    "duration": 47,
    "start_time": "2022-05-02T13:32:18.818Z"
   },
   {
    "duration": 35,
    "start_time": "2022-05-02T13:32:18.867Z"
   },
   {
    "duration": 47,
    "start_time": "2022-05-02T13:32:18.904Z"
   },
   {
    "duration": 5,
    "start_time": "2022-05-02T13:32:18.953Z"
   },
   {
    "duration": 14,
    "start_time": "2022-05-02T13:32:18.960Z"
   },
   {
    "duration": 22,
    "start_time": "2022-05-02T13:32:18.976Z"
   },
   {
    "duration": 24,
    "start_time": "2022-05-02T13:32:19.000Z"
   },
   {
    "duration": 10,
    "start_time": "2022-05-02T13:32:19.052Z"
   },
   {
    "duration": 12,
    "start_time": "2022-05-02T13:32:19.064Z"
   },
   {
    "duration": 4,
    "start_time": "2022-05-02T13:32:19.078Z"
   },
   {
    "duration": 6,
    "start_time": "2022-05-02T13:32:19.085Z"
   },
   {
    "duration": 587,
    "start_time": "2022-05-02T13:32:19.092Z"
   },
   {
    "duration": 6,
    "start_time": "2022-05-02T13:32:19.681Z"
   },
   {
    "duration": 9,
    "start_time": "2022-05-02T13:32:19.689Z"
   },
   {
    "duration": 61,
    "start_time": "2022-05-02T13:32:19.700Z"
   },
   {
    "duration": 4,
    "start_time": "2022-05-02T13:32:19.763Z"
   },
   {
    "duration": 312,
    "start_time": "2022-05-02T13:32:19.769Z"
   },
   {
    "duration": 324,
    "start_time": "2022-05-02T13:32:20.083Z"
   },
   {
    "duration": 5,
    "start_time": "2022-05-02T13:32:20.410Z"
   },
   {
    "duration": 15,
    "start_time": "2022-05-02T13:32:20.417Z"
   },
   {
    "duration": 455,
    "start_time": "2022-05-02T13:32:20.453Z"
   },
   {
    "duration": 314,
    "start_time": "2022-05-02T13:32:20.910Z"
   },
   {
    "duration": 290,
    "start_time": "2022-05-02T13:32:21.227Z"
   },
   {
    "duration": 31,
    "start_time": "2022-05-02T13:32:21.520Z"
   },
   {
    "duration": 329,
    "start_time": "2022-05-02T13:32:21.554Z"
   },
   {
    "duration": 11,
    "start_time": "2022-05-02T13:32:21.885Z"
   },
   {
    "duration": 386,
    "start_time": "2022-05-02T13:32:21.898Z"
   },
   {
    "duration": 11,
    "start_time": "2022-05-02T13:32:22.286Z"
   },
   {
    "duration": 26,
    "start_time": "2022-05-02T13:32:22.299Z"
   },
   {
    "duration": 45,
    "start_time": "2022-05-02T13:32:22.328Z"
   },
   {
    "duration": 60,
    "start_time": "2022-05-02T13:32:22.375Z"
   },
   {
    "duration": 29,
    "start_time": "2022-05-02T13:32:22.437Z"
   },
   {
    "duration": 17,
    "start_time": "2022-05-02T13:32:22.468Z"
   },
   {
    "duration": 32,
    "start_time": "2022-05-02T13:32:22.487Z"
   },
   {
    "duration": 39,
    "start_time": "2022-05-02T13:32:22.522Z"
   },
   {
    "duration": 12,
    "start_time": "2022-05-02T13:32:22.564Z"
   },
   {
    "duration": 30,
    "start_time": "2022-05-02T13:32:22.578Z"
   },
   {
    "duration": 27,
    "start_time": "2022-05-02T13:32:22.616Z"
   },
   {
    "duration": 29,
    "start_time": "2022-05-02T13:32:22.645Z"
   },
   {
    "duration": 8,
    "start_time": "2022-05-02T13:32:22.676Z"
   },
   {
    "duration": 28,
    "start_time": "2022-05-02T13:32:22.686Z"
   },
   {
    "duration": 21,
    "start_time": "2022-05-02T13:32:22.716Z"
   },
   {
    "duration": 13,
    "start_time": "2022-05-02T13:32:22.739Z"
   },
   {
    "duration": 19,
    "start_time": "2022-05-02T13:32:22.754Z"
   },
   {
    "duration": 12,
    "start_time": "2022-05-02T13:32:22.775Z"
   },
   {
    "duration": 318,
    "start_time": "2022-05-02T13:32:22.789Z"
   },
   {
    "duration": 60,
    "start_time": "2022-05-02T13:32:23.109Z"
   },
   {
    "duration": 22,
    "start_time": "2022-05-02T13:32:23.172Z"
   },
   {
    "duration": 14,
    "start_time": "2022-05-02T13:32:23.197Z"
   },
   {
    "duration": 268,
    "start_time": "2022-05-02T13:32:23.214Z"
   },
   {
    "duration": 11,
    "start_time": "2022-05-02T13:32:23.484Z"
   },
   {
    "duration": 14,
    "start_time": "2022-05-02T13:32:23.497Z"
   },
   {
    "duration": 382,
    "start_time": "2022-05-02T13:32:23.513Z"
   },
   {
    "duration": 12,
    "start_time": "2022-05-02T13:32:23.898Z"
   },
   {
    "duration": 3,
    "start_time": "2022-05-02T13:33:35.210Z"
   },
   {
    "duration": 166,
    "start_time": "2022-05-02T13:35:08.267Z"
   },
   {
    "duration": 20,
    "start_time": "2022-05-02T13:35:31.647Z"
   },
   {
    "duration": 36,
    "start_time": "2022-05-02T13:37:40.646Z"
   },
   {
    "duration": 28,
    "start_time": "2022-05-02T13:38:17.014Z"
   },
   {
    "duration": 254,
    "start_time": "2022-05-02T13:38:39.568Z"
   },
   {
    "duration": 1537,
    "start_time": "2022-05-02T13:39:03.349Z"
   },
   {
    "duration": 5,
    "start_time": "2022-05-02T13:39:04.888Z"
   },
   {
    "duration": 139,
    "start_time": "2022-05-02T13:39:04.895Z"
   },
   {
    "duration": 36,
    "start_time": "2022-05-02T13:39:05.037Z"
   },
   {
    "duration": 21,
    "start_time": "2022-05-02T13:39:05.075Z"
   },
   {
    "duration": 119,
    "start_time": "2022-05-02T13:39:05.098Z"
   },
   {
    "duration": 100,
    "start_time": "2022-05-02T13:39:05.220Z"
   },
   {
    "duration": 13,
    "start_time": "2022-05-02T13:39:05.322Z"
   },
   {
    "duration": 14,
    "start_time": "2022-05-02T13:39:05.351Z"
   },
   {
    "duration": 6,
    "start_time": "2022-05-02T13:39:05.370Z"
   },
   {
    "duration": 34,
    "start_time": "2022-05-02T13:39:05.378Z"
   },
   {
    "duration": 44,
    "start_time": "2022-05-02T13:39:05.415Z"
   },
   {
    "duration": 13,
    "start_time": "2022-05-02T13:39:05.461Z"
   },
   {
    "duration": 13,
    "start_time": "2022-05-02T13:39:05.475Z"
   },
   {
    "duration": 6,
    "start_time": "2022-05-02T13:39:05.490Z"
   },
   {
    "duration": 7,
    "start_time": "2022-05-02T13:39:05.498Z"
   },
   {
    "duration": 5,
    "start_time": "2022-05-02T13:39:05.507Z"
   },
   {
    "duration": 43,
    "start_time": "2022-05-02T13:39:05.514Z"
   },
   {
    "duration": 12,
    "start_time": "2022-05-02T13:39:05.559Z"
   },
   {
    "duration": 10,
    "start_time": "2022-05-02T13:39:05.573Z"
   },
   {
    "duration": 6,
    "start_time": "2022-05-02T13:39:05.586Z"
   },
   {
    "duration": 7,
    "start_time": "2022-05-02T13:39:05.595Z"
   },
   {
    "duration": 8,
    "start_time": "2022-05-02T13:39:05.604Z"
   },
   {
    "duration": 47,
    "start_time": "2022-05-02T13:39:05.614Z"
   },
   {
    "duration": 8,
    "start_time": "2022-05-02T13:39:05.663Z"
   },
   {
    "duration": 4,
    "start_time": "2022-05-02T13:39:05.673Z"
   },
   {
    "duration": 24,
    "start_time": "2022-05-02T13:39:05.679Z"
   },
   {
    "duration": 7,
    "start_time": "2022-05-02T13:39:05.710Z"
   },
   {
    "duration": 37,
    "start_time": "2022-05-02T13:39:05.719Z"
   },
   {
    "duration": 15,
    "start_time": "2022-05-02T13:39:05.759Z"
   },
   {
    "duration": 6,
    "start_time": "2022-05-02T13:39:05.777Z"
   },
   {
    "duration": 12,
    "start_time": "2022-05-02T13:39:05.785Z"
   },
   {
    "duration": 15,
    "start_time": "2022-05-02T13:39:05.800Z"
   },
   {
    "duration": 39,
    "start_time": "2022-05-02T13:39:05.818Z"
   },
   {
    "duration": 16,
    "start_time": "2022-05-02T13:39:05.859Z"
   },
   {
    "duration": 10,
    "start_time": "2022-05-02T13:39:05.877Z"
   },
   {
    "duration": 7,
    "start_time": "2022-05-02T13:39:05.889Z"
   },
   {
    "duration": 16,
    "start_time": "2022-05-02T13:39:05.898Z"
   },
   {
    "duration": 51,
    "start_time": "2022-05-02T13:39:05.917Z"
   },
   {
    "duration": 29,
    "start_time": "2022-05-02T13:39:05.971Z"
   },
   {
    "duration": 20,
    "start_time": "2022-05-02T13:39:06.002Z"
   },
   {
    "duration": 24,
    "start_time": "2022-05-02T13:39:06.052Z"
   },
   {
    "duration": 34,
    "start_time": "2022-05-02T13:39:06.079Z"
   },
   {
    "duration": 46,
    "start_time": "2022-05-02T13:39:06.115Z"
   },
   {
    "duration": 20,
    "start_time": "2022-05-02T13:39:06.163Z"
   },
   {
    "duration": 76,
    "start_time": "2022-05-02T13:39:06.185Z"
   },
   {
    "duration": 23,
    "start_time": "2022-05-02T13:39:06.264Z"
   },
   {
    "duration": 5,
    "start_time": "2022-05-02T13:39:06.288Z"
   },
   {
    "duration": 19,
    "start_time": "2022-05-02T13:39:06.295Z"
   },
   {
    "duration": 49,
    "start_time": "2022-05-02T13:39:06.316Z"
   },
   {
    "duration": 19,
    "start_time": "2022-05-02T13:39:06.367Z"
   },
   {
    "duration": 12,
    "start_time": "2022-05-02T13:39:06.388Z"
   },
   {
    "duration": 7,
    "start_time": "2022-05-02T13:39:06.402Z"
   },
   {
    "duration": 3,
    "start_time": "2022-05-02T13:39:06.412Z"
   },
   {
    "duration": 8,
    "start_time": "2022-05-02T13:39:06.417Z"
   },
   {
    "duration": 555,
    "start_time": "2022-05-02T13:39:06.453Z"
   },
   {
    "duration": 5,
    "start_time": "2022-05-02T13:39:07.011Z"
   },
   {
    "duration": 13,
    "start_time": "2022-05-02T13:39:07.018Z"
   },
   {
    "duration": 55,
    "start_time": "2022-05-02T13:39:07.033Z"
   },
   {
    "duration": 3,
    "start_time": "2022-05-02T13:39:07.090Z"
   },
   {
    "duration": 306,
    "start_time": "2022-05-02T13:39:07.096Z"
   },
   {
    "duration": 309,
    "start_time": "2022-05-02T13:39:07.405Z"
   },
   {
    "duration": 6,
    "start_time": "2022-05-02T13:39:07.717Z"
   },
   {
    "duration": 35,
    "start_time": "2022-05-02T13:39:07.726Z"
   },
   {
    "duration": 314,
    "start_time": "2022-05-02T13:39:07.763Z"
   },
   {
    "duration": 306,
    "start_time": "2022-05-02T13:39:08.080Z"
   },
   {
    "duration": 278,
    "start_time": "2022-05-02T13:39:08.388Z"
   },
   {
    "duration": 12,
    "start_time": "2022-05-02T13:39:08.668Z"
   },
   {
    "duration": 459,
    "start_time": "2022-05-02T13:39:08.683Z"
   },
   {
    "duration": 12,
    "start_time": "2022-05-02T13:39:09.152Z"
   },
   {
    "duration": 513,
    "start_time": "2022-05-02T13:39:09.167Z"
   },
   {
    "duration": 12,
    "start_time": "2022-05-02T13:39:09.683Z"
   },
   {
    "duration": 15,
    "start_time": "2022-05-02T13:39:09.697Z"
   },
   {
    "duration": 53,
    "start_time": "2022-05-02T13:39:09.714Z"
   },
   {
    "duration": 53,
    "start_time": "2022-05-02T13:39:09.769Z"
   },
   {
    "duration": 36,
    "start_time": "2022-05-02T13:39:09.824Z"
   },
   {
    "duration": 15,
    "start_time": "2022-05-02T13:39:09.863Z"
   },
   {
    "duration": 18,
    "start_time": "2022-05-02T13:39:09.880Z"
   },
   {
    "duration": 53,
    "start_time": "2022-05-02T13:39:09.901Z"
   },
   {
    "duration": 12,
    "start_time": "2022-05-02T13:39:09.956Z"
   },
   {
    "duration": 5,
    "start_time": "2022-05-02T13:39:09.970Z"
   },
   {
    "duration": 10,
    "start_time": "2022-05-02T13:39:09.985Z"
   },
   {
    "duration": 13,
    "start_time": "2022-05-02T13:39:09.997Z"
   },
   {
    "duration": 42,
    "start_time": "2022-05-02T13:39:10.012Z"
   },
   {
    "duration": 15,
    "start_time": "2022-05-02T13:39:10.056Z"
   },
   {
    "duration": 14,
    "start_time": "2022-05-02T13:39:10.074Z"
   },
   {
    "duration": 6,
    "start_time": "2022-05-02T13:39:10.090Z"
   },
   {
    "duration": 6,
    "start_time": "2022-05-02T13:39:10.099Z"
   },
   {
    "duration": 45,
    "start_time": "2022-05-02T13:39:10.107Z"
   },
   {
    "duration": 311,
    "start_time": "2022-05-02T13:39:10.154Z"
   },
   {
    "duration": 34,
    "start_time": "2022-05-02T13:39:10.467Z"
   },
   {
    "duration": 15,
    "start_time": "2022-05-02T13:39:10.503Z"
   },
   {
    "duration": 37,
    "start_time": "2022-05-02T13:39:10.521Z"
   },
   {
    "duration": 276,
    "start_time": "2022-05-02T13:39:10.560Z"
   },
   {
    "duration": 15,
    "start_time": "2022-05-02T13:39:10.838Z"
   },
   {
    "duration": 13,
    "start_time": "2022-05-02T13:39:10.855Z"
   },
   {
    "duration": 290,
    "start_time": "2022-05-02T13:39:10.870Z"
   },
   {
    "duration": 10,
    "start_time": "2022-05-02T13:39:11.162Z"
   },
   {
    "duration": 162,
    "start_time": "2022-05-02T13:40:31.014Z"
   },
   {
    "duration": 363,
    "start_time": "2022-05-02T13:41:44.025Z"
   },
   {
    "duration": 359,
    "start_time": "2022-05-02T13:42:02.257Z"
   },
   {
    "duration": 241,
    "start_time": "2022-05-02T13:42:08.543Z"
   },
   {
    "duration": 1588,
    "start_time": "2022-05-02T13:42:17.358Z"
   },
   {
    "duration": 5,
    "start_time": "2022-05-02T13:42:18.948Z"
   },
   {
    "duration": 156,
    "start_time": "2022-05-02T13:42:18.955Z"
   },
   {
    "duration": 41,
    "start_time": "2022-05-02T13:42:19.113Z"
   },
   {
    "duration": 37,
    "start_time": "2022-05-02T13:42:19.157Z"
   },
   {
    "duration": 96,
    "start_time": "2022-05-02T13:42:19.197Z"
   },
   {
    "duration": 130,
    "start_time": "2022-05-02T13:42:19.296Z"
   },
   {
    "duration": 26,
    "start_time": "2022-05-02T13:42:19.429Z"
   },
   {
    "duration": 20,
    "start_time": "2022-05-02T13:42:19.458Z"
   },
   {
    "duration": 14,
    "start_time": "2022-05-02T13:42:19.484Z"
   },
   {
    "duration": 55,
    "start_time": "2022-05-02T13:42:19.500Z"
   },
   {
    "duration": 22,
    "start_time": "2022-05-02T13:42:19.558Z"
   },
   {
    "duration": 15,
    "start_time": "2022-05-02T13:42:19.583Z"
   },
   {
    "duration": 19,
    "start_time": "2022-05-02T13:42:19.600Z"
   },
   {
    "duration": 32,
    "start_time": "2022-05-02T13:42:19.621Z"
   },
   {
    "duration": 28,
    "start_time": "2022-05-02T13:42:19.655Z"
   },
   {
    "duration": 32,
    "start_time": "2022-05-02T13:42:19.685Z"
   },
   {
    "duration": 16,
    "start_time": "2022-05-02T13:42:19.719Z"
   },
   {
    "duration": 28,
    "start_time": "2022-05-02T13:42:19.737Z"
   },
   {
    "duration": 18,
    "start_time": "2022-05-02T13:42:19.767Z"
   },
   {
    "duration": 17,
    "start_time": "2022-05-02T13:42:19.787Z"
   },
   {
    "duration": 24,
    "start_time": "2022-05-02T13:42:19.807Z"
   },
   {
    "duration": 18,
    "start_time": "2022-05-02T13:42:19.833Z"
   },
   {
    "duration": 10,
    "start_time": "2022-05-02T13:42:19.853Z"
   },
   {
    "duration": 10,
    "start_time": "2022-05-02T13:42:19.865Z"
   },
   {
    "duration": 27,
    "start_time": "2022-05-02T13:42:19.877Z"
   },
   {
    "duration": 33,
    "start_time": "2022-05-02T13:42:19.906Z"
   },
   {
    "duration": 19,
    "start_time": "2022-05-02T13:42:19.945Z"
   },
   {
    "duration": 18,
    "start_time": "2022-05-02T13:42:19.966Z"
   },
   {
    "duration": 17,
    "start_time": "2022-05-02T13:42:19.987Z"
   },
   {
    "duration": 19,
    "start_time": "2022-05-02T13:42:20.006Z"
   },
   {
    "duration": 20,
    "start_time": "2022-05-02T13:42:20.028Z"
   },
   {
    "duration": 24,
    "start_time": "2022-05-02T13:42:20.050Z"
   },
   {
    "duration": 18,
    "start_time": "2022-05-02T13:42:20.077Z"
   },
   {
    "duration": 28,
    "start_time": "2022-05-02T13:42:20.097Z"
   },
   {
    "duration": 31,
    "start_time": "2022-05-02T13:42:20.127Z"
   },
   {
    "duration": 14,
    "start_time": "2022-05-02T13:42:20.160Z"
   },
   {
    "duration": 28,
    "start_time": "2022-05-02T13:42:20.176Z"
   },
   {
    "duration": 30,
    "start_time": "2022-05-02T13:42:20.206Z"
   },
   {
    "duration": 18,
    "start_time": "2022-05-02T13:42:20.239Z"
   },
   {
    "duration": 36,
    "start_time": "2022-05-02T13:42:20.260Z"
   },
   {
    "duration": 28,
    "start_time": "2022-05-02T13:42:20.299Z"
   },
   {
    "duration": 23,
    "start_time": "2022-05-02T13:42:20.329Z"
   },
   {
    "duration": 15,
    "start_time": "2022-05-02T13:42:20.355Z"
   },
   {
    "duration": 29,
    "start_time": "2022-05-02T13:42:20.373Z"
   },
   {
    "duration": 52,
    "start_time": "2022-05-02T13:42:20.405Z"
   },
   {
    "duration": 19,
    "start_time": "2022-05-02T13:42:20.459Z"
   },
   {
    "duration": 22,
    "start_time": "2022-05-02T13:42:20.480Z"
   },
   {
    "duration": 25,
    "start_time": "2022-05-02T13:42:20.505Z"
   },
   {
    "duration": 41,
    "start_time": "2022-05-02T13:42:20.532Z"
   },
   {
    "duration": 30,
    "start_time": "2022-05-02T13:42:20.575Z"
   },
   {
    "duration": 18,
    "start_time": "2022-05-02T13:42:20.608Z"
   },
   {
    "duration": 29,
    "start_time": "2022-05-02T13:42:20.628Z"
   },
   {
    "duration": 19,
    "start_time": "2022-05-02T13:42:20.660Z"
   },
   {
    "duration": 26,
    "start_time": "2022-05-02T13:42:20.681Z"
   },
   {
    "duration": 658,
    "start_time": "2022-05-02T13:42:20.709Z"
   },
   {
    "duration": 5,
    "start_time": "2022-05-02T13:42:21.370Z"
   },
   {
    "duration": 13,
    "start_time": "2022-05-02T13:42:21.378Z"
   },
   {
    "duration": 60,
    "start_time": "2022-05-02T13:42:21.393Z"
   },
   {
    "duration": 3,
    "start_time": "2022-05-02T13:42:21.455Z"
   },
   {
    "duration": 296,
    "start_time": "2022-05-02T13:42:21.460Z"
   },
   {
    "duration": 308,
    "start_time": "2022-05-02T13:42:21.758Z"
   },
   {
    "duration": 5,
    "start_time": "2022-05-02T13:42:22.068Z"
   },
   {
    "duration": 21,
    "start_time": "2022-05-02T13:42:22.076Z"
   },
   {
    "duration": 322,
    "start_time": "2022-05-02T13:42:22.100Z"
   },
   {
    "duration": 309,
    "start_time": "2022-05-02T13:42:22.424Z"
   },
   {
    "duration": 302,
    "start_time": "2022-05-02T13:42:22.735Z"
   },
   {
    "duration": 24,
    "start_time": "2022-05-02T13:42:23.040Z"
   },
   {
    "duration": 324,
    "start_time": "2022-05-02T13:42:23.067Z"
   },
   {
    "duration": 10,
    "start_time": "2022-05-02T13:42:23.393Z"
   },
   {
    "duration": 492,
    "start_time": "2022-05-02T13:42:23.405Z"
   },
   {
    "duration": 10,
    "start_time": "2022-05-02T13:42:23.900Z"
   },
   {
    "duration": 14,
    "start_time": "2022-05-02T13:42:23.912Z"
   },
   {
    "duration": 25,
    "start_time": "2022-05-02T13:42:23.951Z"
   },
   {
    "duration": 74,
    "start_time": "2022-05-02T13:42:23.978Z"
   },
   {
    "duration": 22,
    "start_time": "2022-05-02T13:42:24.054Z"
   },
   {
    "duration": 17,
    "start_time": "2022-05-02T13:42:24.078Z"
   },
   {
    "duration": 60,
    "start_time": "2022-05-02T13:42:24.097Z"
   },
   {
    "duration": 23,
    "start_time": "2022-05-02T13:42:24.159Z"
   },
   {
    "duration": 18,
    "start_time": "2022-05-02T13:42:24.184Z"
   },
   {
    "duration": 5,
    "start_time": "2022-05-02T13:42:24.204Z"
   },
   {
    "duration": 10,
    "start_time": "2022-05-02T13:42:24.253Z"
   },
   {
    "duration": 17,
    "start_time": "2022-05-02T13:42:24.265Z"
   },
   {
    "duration": 4,
    "start_time": "2022-05-02T13:42:24.284Z"
   },
   {
    "duration": 15,
    "start_time": "2022-05-02T13:42:24.291Z"
   },
   {
    "duration": 18,
    "start_time": "2022-05-02T13:42:24.309Z"
   },
   {
    "duration": 9,
    "start_time": "2022-05-02T13:42:24.351Z"
   },
   {
    "duration": 10,
    "start_time": "2022-05-02T13:42:24.362Z"
   },
   {
    "duration": 11,
    "start_time": "2022-05-02T13:42:24.374Z"
   },
   {
    "duration": 312,
    "start_time": "2022-05-02T13:42:24.387Z"
   },
   {
    "duration": 35,
    "start_time": "2022-05-02T13:42:24.701Z"
   },
   {
    "duration": 20,
    "start_time": "2022-05-02T13:42:24.752Z"
   },
   {
    "duration": 14,
    "start_time": "2022-05-02T13:42:24.775Z"
   },
   {
    "duration": 256,
    "start_time": "2022-05-02T13:42:24.792Z"
   },
   {
    "duration": 12,
    "start_time": "2022-05-02T13:42:25.052Z"
   },
   {
    "duration": 10,
    "start_time": "2022-05-02T13:42:25.066Z"
   },
   {
    "duration": 242,
    "start_time": "2022-05-02T13:42:25.078Z"
   },
   {
    "duration": 12,
    "start_time": "2022-05-02T13:42:25.322Z"
   },
   {
    "duration": 395,
    "start_time": "2022-05-02T13:42:49.660Z"
   },
   {
    "duration": 243,
    "start_time": "2022-05-02T13:43:00.962Z"
   },
   {
    "duration": 1608,
    "start_time": "2022-05-02T13:43:15.101Z"
   },
   {
    "duration": 4,
    "start_time": "2022-05-02T13:43:16.712Z"
   },
   {
    "duration": 138,
    "start_time": "2022-05-02T13:43:16.718Z"
   },
   {
    "duration": 29,
    "start_time": "2022-05-02T13:43:16.859Z"
   },
   {
    "duration": 23,
    "start_time": "2022-05-02T13:43:16.890Z"
   },
   {
    "duration": 122,
    "start_time": "2022-05-02T13:43:16.915Z"
   },
   {
    "duration": 97,
    "start_time": "2022-05-02T13:43:17.039Z"
   },
   {
    "duration": 23,
    "start_time": "2022-05-02T13:43:17.138Z"
   },
   {
    "duration": 17,
    "start_time": "2022-05-02T13:43:17.163Z"
   },
   {
    "duration": 5,
    "start_time": "2022-05-02T13:43:17.184Z"
   },
   {
    "duration": 73,
    "start_time": "2022-05-02T13:43:17.191Z"
   },
   {
    "duration": 13,
    "start_time": "2022-05-02T13:43:17.266Z"
   },
   {
    "duration": 10,
    "start_time": "2022-05-02T13:43:17.281Z"
   },
   {
    "duration": 9,
    "start_time": "2022-05-02T13:43:17.292Z"
   },
   {
    "duration": 5,
    "start_time": "2022-05-02T13:43:17.303Z"
   },
   {
    "duration": 46,
    "start_time": "2022-05-02T13:43:17.310Z"
   },
   {
    "duration": 5,
    "start_time": "2022-05-02T13:43:17.358Z"
   },
   {
    "duration": 8,
    "start_time": "2022-05-02T13:43:17.365Z"
   },
   {
    "duration": 7,
    "start_time": "2022-05-02T13:43:17.376Z"
   },
   {
    "duration": 6,
    "start_time": "2022-05-02T13:43:17.386Z"
   },
   {
    "duration": 59,
    "start_time": "2022-05-02T13:43:17.394Z"
   },
   {
    "duration": 6,
    "start_time": "2022-05-02T13:43:17.455Z"
   },
   {
    "duration": 10,
    "start_time": "2022-05-02T13:43:17.463Z"
   },
   {
    "duration": 8,
    "start_time": "2022-05-02T13:43:17.475Z"
   },
   {
    "duration": 5,
    "start_time": "2022-05-02T13:43:17.485Z"
   },
   {
    "duration": 5,
    "start_time": "2022-05-02T13:43:17.492Z"
   },
   {
    "duration": 56,
    "start_time": "2022-05-02T13:43:17.499Z"
   },
   {
    "duration": 7,
    "start_time": "2022-05-02T13:43:17.563Z"
   },
   {
    "duration": 7,
    "start_time": "2022-05-02T13:43:17.572Z"
   },
   {
    "duration": 13,
    "start_time": "2022-05-02T13:43:17.580Z"
   },
   {
    "duration": 9,
    "start_time": "2022-05-02T13:43:17.595Z"
   },
   {
    "duration": 47,
    "start_time": "2022-05-02T13:43:17.606Z"
   },
   {
    "duration": 12,
    "start_time": "2022-05-02T13:43:17.655Z"
   },
   {
    "duration": 16,
    "start_time": "2022-05-02T13:43:17.669Z"
   },
   {
    "duration": 7,
    "start_time": "2022-05-02T13:43:17.687Z"
   },
   {
    "duration": 7,
    "start_time": "2022-05-02T13:43:17.696Z"
   },
   {
    "duration": 8,
    "start_time": "2022-05-02T13:43:17.705Z"
   },
   {
    "duration": 46,
    "start_time": "2022-05-02T13:43:17.714Z"
   },
   {
    "duration": 20,
    "start_time": "2022-05-02T13:43:17.762Z"
   },
   {
    "duration": 30,
    "start_time": "2022-05-02T13:43:17.784Z"
   },
   {
    "duration": 48,
    "start_time": "2022-05-02T13:43:17.817Z"
   },
   {
    "duration": 24,
    "start_time": "2022-05-02T13:43:17.867Z"
   },
   {
    "duration": 59,
    "start_time": "2022-05-02T13:43:17.893Z"
   },
   {
    "duration": 26,
    "start_time": "2022-05-02T13:43:17.955Z"
   },
   {
    "duration": 20,
    "start_time": "2022-05-02T13:43:17.983Z"
   },
   {
    "duration": 78,
    "start_time": "2022-05-02T13:43:18.005Z"
   },
   {
    "duration": 26,
    "start_time": "2022-05-02T13:43:18.086Z"
   },
   {
    "duration": 6,
    "start_time": "2022-05-02T13:43:18.115Z"
   },
   {
    "duration": 38,
    "start_time": "2022-05-02T13:43:18.124Z"
   },
   {
    "duration": 24,
    "start_time": "2022-05-02T13:43:18.165Z"
   },
   {
    "duration": 24,
    "start_time": "2022-05-02T13:43:18.191Z"
   },
   {
    "duration": 37,
    "start_time": "2022-05-02T13:43:18.218Z"
   },
   {
    "duration": 8,
    "start_time": "2022-05-02T13:43:18.258Z"
   },
   {
    "duration": 6,
    "start_time": "2022-05-02T13:43:18.268Z"
   },
   {
    "duration": 8,
    "start_time": "2022-05-02T13:43:18.276Z"
   },
   {
    "duration": 571,
    "start_time": "2022-05-02T13:43:18.286Z"
   },
   {
    "duration": 5,
    "start_time": "2022-05-02T13:43:18.859Z"
   },
   {
    "duration": 8,
    "start_time": "2022-05-02T13:43:18.867Z"
   },
   {
    "duration": 41,
    "start_time": "2022-05-02T13:43:18.877Z"
   },
   {
    "duration": 4,
    "start_time": "2022-05-02T13:43:18.953Z"
   },
   {
    "duration": 305,
    "start_time": "2022-05-02T13:43:18.959Z"
   },
   {
    "duration": 328,
    "start_time": "2022-05-02T13:43:19.268Z"
   },
   {
    "duration": 5,
    "start_time": "2022-05-02T13:43:19.599Z"
   },
   {
    "duration": 17,
    "start_time": "2022-05-02T13:43:19.606Z"
   },
   {
    "duration": 354,
    "start_time": "2022-05-02T13:43:19.626Z"
   },
   {
    "duration": 320,
    "start_time": "2022-05-02T13:43:19.982Z"
   },
   {
    "duration": 408,
    "start_time": "2022-05-02T13:43:20.305Z"
   },
   {
    "duration": 23,
    "start_time": "2022-05-02T13:43:20.716Z"
   },
   {
    "duration": 322,
    "start_time": "2022-05-02T13:43:20.741Z"
   },
   {
    "duration": 11,
    "start_time": "2022-05-02T13:43:21.066Z"
   },
   {
    "duration": 428,
    "start_time": "2022-05-02T13:43:21.080Z"
   },
   {
    "duration": 28,
    "start_time": "2022-05-02T13:43:21.516Z"
   },
   {
    "duration": 73,
    "start_time": "2022-05-02T13:43:21.551Z"
   },
   {
    "duration": 29,
    "start_time": "2022-05-02T13:43:21.627Z"
   },
   {
    "duration": 54,
    "start_time": "2022-05-02T13:43:21.658Z"
   },
   {
    "duration": 38,
    "start_time": "2022-05-02T13:43:21.715Z"
   },
   {
    "duration": 17,
    "start_time": "2022-05-02T13:43:21.755Z"
   },
   {
    "duration": 18,
    "start_time": "2022-05-02T13:43:21.774Z"
   },
   {
    "duration": 16,
    "start_time": "2022-05-02T13:43:21.794Z"
   },
   {
    "duration": 48,
    "start_time": "2022-05-02T13:43:21.812Z"
   },
   {
    "duration": 9,
    "start_time": "2022-05-02T13:43:21.862Z"
   },
   {
    "duration": 10,
    "start_time": "2022-05-02T13:43:21.880Z"
   },
   {
    "duration": 14,
    "start_time": "2022-05-02T13:43:21.892Z"
   },
   {
    "duration": 4,
    "start_time": "2022-05-02T13:43:21.908Z"
   },
   {
    "duration": 43,
    "start_time": "2022-05-02T13:43:21.914Z"
   },
   {
    "duration": 11,
    "start_time": "2022-05-02T13:43:21.959Z"
   },
   {
    "duration": 5,
    "start_time": "2022-05-02T13:43:21.972Z"
   },
   {
    "duration": 6,
    "start_time": "2022-05-02T13:43:21.980Z"
   },
   {
    "duration": 6,
    "start_time": "2022-05-02T13:43:21.988Z"
   },
   {
    "duration": 342,
    "start_time": "2022-05-02T13:43:21.996Z"
   },
   {
    "duration": 41,
    "start_time": "2022-05-02T13:43:22.340Z"
   },
   {
    "duration": 16,
    "start_time": "2022-05-02T13:43:22.383Z"
   },
   {
    "duration": 15,
    "start_time": "2022-05-02T13:43:22.403Z"
   },
   {
    "duration": 361,
    "start_time": "2022-05-02T13:43:22.420Z"
   },
   {
    "duration": 13,
    "start_time": "2022-05-02T13:43:22.784Z"
   },
   {
    "duration": 14,
    "start_time": "2022-05-02T13:43:22.800Z"
   },
   {
    "duration": 277,
    "start_time": "2022-05-02T13:43:22.817Z"
   },
   {
    "duration": 13,
    "start_time": "2022-05-02T13:43:23.096Z"
   },
   {
    "duration": 345,
    "start_time": "2022-05-02T13:45:54.933Z"
   },
   {
    "duration": 287,
    "start_time": "2022-05-02T13:46:08.492Z"
   },
   {
    "duration": 1672,
    "start_time": "2022-05-02T13:46:32.743Z"
   },
   {
    "duration": 3,
    "start_time": "2022-05-02T13:46:34.418Z"
   },
   {
    "duration": 142,
    "start_time": "2022-05-02T13:46:34.423Z"
   },
   {
    "duration": 29,
    "start_time": "2022-05-02T13:46:34.569Z"
   },
   {
    "duration": 23,
    "start_time": "2022-05-02T13:46:34.600Z"
   },
   {
    "duration": 114,
    "start_time": "2022-05-02T13:46:34.652Z"
   },
   {
    "duration": 95,
    "start_time": "2022-05-02T13:46:34.769Z"
   },
   {
    "duration": 16,
    "start_time": "2022-05-02T13:46:34.866Z"
   },
   {
    "duration": 23,
    "start_time": "2022-05-02T13:46:34.886Z"
   },
   {
    "duration": 5,
    "start_time": "2022-05-02T13:46:34.913Z"
   },
   {
    "duration": 31,
    "start_time": "2022-05-02T13:46:34.957Z"
   },
   {
    "duration": 14,
    "start_time": "2022-05-02T13:46:34.991Z"
   },
   {
    "duration": 23,
    "start_time": "2022-05-02T13:46:35.007Z"
   },
   {
    "duration": 27,
    "start_time": "2022-05-02T13:46:35.032Z"
   },
   {
    "duration": 16,
    "start_time": "2022-05-02T13:46:35.061Z"
   },
   {
    "duration": 12,
    "start_time": "2022-05-02T13:46:35.079Z"
   },
   {
    "duration": 8,
    "start_time": "2022-05-02T13:46:35.094Z"
   },
   {
    "duration": 18,
    "start_time": "2022-05-02T13:46:35.104Z"
   },
   {
    "duration": 33,
    "start_time": "2022-05-02T13:46:35.124Z"
   },
   {
    "duration": 7,
    "start_time": "2022-05-02T13:46:35.160Z"
   },
   {
    "duration": 19,
    "start_time": "2022-05-02T13:46:35.171Z"
   },
   {
    "duration": 19,
    "start_time": "2022-05-02T13:46:35.192Z"
   },
   {
    "duration": 37,
    "start_time": "2022-05-02T13:46:35.213Z"
   },
   {
    "duration": 12,
    "start_time": "2022-05-02T13:46:35.257Z"
   },
   {
    "duration": 11,
    "start_time": "2022-05-02T13:46:35.272Z"
   },
   {
    "duration": 9,
    "start_time": "2022-05-02T13:46:35.285Z"
   },
   {
    "duration": 31,
    "start_time": "2022-05-02T13:46:35.296Z"
   },
   {
    "duration": 19,
    "start_time": "2022-05-02T13:46:35.337Z"
   },
   {
    "duration": 12,
    "start_time": "2022-05-02T13:46:35.358Z"
   },
   {
    "duration": 18,
    "start_time": "2022-05-02T13:46:35.377Z"
   },
   {
    "duration": 8,
    "start_time": "2022-05-02T13:46:35.397Z"
   },
   {
    "duration": 13,
    "start_time": "2022-05-02T13:46:35.408Z"
   },
   {
    "duration": 33,
    "start_time": "2022-05-02T13:46:35.423Z"
   },
   {
    "duration": 26,
    "start_time": "2022-05-02T13:46:35.459Z"
   },
   {
    "duration": 11,
    "start_time": "2022-05-02T13:46:35.487Z"
   },
   {
    "duration": 7,
    "start_time": "2022-05-02T13:46:35.501Z"
   },
   {
    "duration": 6,
    "start_time": "2022-05-02T13:46:35.511Z"
   },
   {
    "duration": 21,
    "start_time": "2022-05-02T13:46:35.519Z"
   },
   {
    "duration": 23,
    "start_time": "2022-05-02T13:46:35.556Z"
   },
   {
    "duration": 34,
    "start_time": "2022-05-02T13:46:35.582Z"
   },
   {
    "duration": 19,
    "start_time": "2022-05-02T13:46:35.618Z"
   },
   {
    "duration": 32,
    "start_time": "2022-05-02T13:46:35.639Z"
   },
   {
    "duration": 29,
    "start_time": "2022-05-02T13:46:35.674Z"
   },
   {
    "duration": 15,
    "start_time": "2022-05-02T13:46:35.706Z"
   },
   {
    "duration": 72,
    "start_time": "2022-05-02T13:46:35.724Z"
   },
   {
    "duration": 43,
    "start_time": "2022-05-02T13:46:35.798Z"
   },
   {
    "duration": 25,
    "start_time": "2022-05-02T13:46:35.843Z"
   },
   {
    "duration": 5,
    "start_time": "2022-05-02T13:46:35.872Z"
   },
   {
    "duration": 22,
    "start_time": "2022-05-02T13:46:35.879Z"
   },
   {
    "duration": 22,
    "start_time": "2022-05-02T13:46:35.903Z"
   },
   {
    "duration": 32,
    "start_time": "2022-05-02T13:46:35.927Z"
   },
   {
    "duration": 19,
    "start_time": "2022-05-02T13:46:35.966Z"
   },
   {
    "duration": 10,
    "start_time": "2022-05-02T13:46:35.987Z"
   },
   {
    "duration": 8,
    "start_time": "2022-05-02T13:46:36.000Z"
   },
   {
    "duration": 9,
    "start_time": "2022-05-02T13:46:36.011Z"
   },
   {
    "duration": 651,
    "start_time": "2022-05-02T13:46:36.023Z"
   },
   {
    "duration": 5,
    "start_time": "2022-05-02T13:46:36.676Z"
   },
   {
    "duration": 13,
    "start_time": "2022-05-02T13:46:36.683Z"
   },
   {
    "duration": 59,
    "start_time": "2022-05-02T13:46:36.698Z"
   },
   {
    "duration": 5,
    "start_time": "2022-05-02T13:46:36.760Z"
   },
   {
    "duration": 397,
    "start_time": "2022-05-02T13:46:36.767Z"
   },
   {
    "duration": 455,
    "start_time": "2022-05-02T13:46:37.166Z"
   },
   {
    "duration": 6,
    "start_time": "2022-05-02T13:46:37.623Z"
   },
   {
    "duration": 54,
    "start_time": "2022-05-02T13:46:37.631Z"
   },
   {
    "duration": 413,
    "start_time": "2022-05-02T13:46:37.687Z"
   },
   {
    "duration": 393,
    "start_time": "2022-05-02T13:46:38.103Z"
   },
   {
    "duration": 344,
    "start_time": "2022-05-02T13:46:38.498Z"
   },
   {
    "duration": 18,
    "start_time": "2022-05-02T13:46:38.846Z"
   },
   {
    "duration": 377,
    "start_time": "2022-05-02T13:46:38.867Z"
   },
   {
    "duration": 13,
    "start_time": "2022-05-02T13:46:39.247Z"
   },
   {
    "duration": 424,
    "start_time": "2022-05-02T13:46:39.263Z"
   },
   {
    "duration": 11,
    "start_time": "2022-05-02T13:46:39.689Z"
   },
   {
    "duration": 15,
    "start_time": "2022-05-02T13:46:39.702Z"
   },
   {
    "duration": 68,
    "start_time": "2022-05-02T13:46:39.720Z"
   },
   {
    "duration": 71,
    "start_time": "2022-05-02T13:46:39.791Z"
   },
   {
    "duration": 29,
    "start_time": "2022-05-02T13:46:39.865Z"
   },
   {
    "duration": 21,
    "start_time": "2022-05-02T13:46:39.896Z"
   },
   {
    "duration": 58,
    "start_time": "2022-05-02T13:46:39.920Z"
   },
   {
    "duration": 26,
    "start_time": "2022-05-02T13:46:39.981Z"
   },
   {
    "duration": 48,
    "start_time": "2022-05-02T13:46:40.010Z"
   },
   {
    "duration": 5,
    "start_time": "2022-05-02T13:46:40.061Z"
   },
   {
    "duration": 17,
    "start_time": "2022-05-02T13:46:40.078Z"
   },
   {
    "duration": 25,
    "start_time": "2022-05-02T13:46:40.097Z"
   },
   {
    "duration": 5,
    "start_time": "2022-05-02T13:46:40.125Z"
   },
   {
    "duration": 29,
    "start_time": "2022-05-02T13:46:40.156Z"
   },
   {
    "duration": 25,
    "start_time": "2022-05-02T13:46:40.187Z"
   },
   {
    "duration": 10,
    "start_time": "2022-05-02T13:46:40.215Z"
   },
   {
    "duration": 14,
    "start_time": "2022-05-02T13:46:40.227Z"
   },
   {
    "duration": 25,
    "start_time": "2022-05-02T13:46:40.243Z"
   },
   {
    "duration": 321,
    "start_time": "2022-05-02T13:46:40.271Z"
   },
   {
    "duration": 34,
    "start_time": "2022-05-02T13:46:40.595Z"
   },
   {
    "duration": 48,
    "start_time": "2022-05-02T13:46:40.631Z"
   },
   {
    "duration": 26,
    "start_time": "2022-05-02T13:46:40.681Z"
   },
   {
    "duration": 292,
    "start_time": "2022-05-02T13:46:40.709Z"
   },
   {
    "duration": 13,
    "start_time": "2022-05-02T13:46:41.003Z"
   },
   {
    "duration": 18,
    "start_time": "2022-05-02T13:46:41.019Z"
   },
   {
    "duration": 350,
    "start_time": "2022-05-02T13:46:41.039Z"
   },
   {
    "duration": 14,
    "start_time": "2022-05-02T13:46:41.391Z"
   },
   {
    "duration": 490,
    "start_time": "2022-05-02T13:47:43.306Z"
   },
   {
    "duration": 279,
    "start_time": "2022-05-02T13:47:53.116Z"
   },
   {
    "duration": 298,
    "start_time": "2022-05-02T13:48:03.577Z"
   },
   {
    "duration": 283,
    "start_time": "2022-05-02T13:49:57.581Z"
   },
   {
    "duration": 543,
    "start_time": "2022-05-02T13:50:44.230Z"
   },
   {
    "duration": 376,
    "start_time": "2022-05-02T13:50:55.373Z"
   },
   {
    "duration": 308,
    "start_time": "2022-05-02T13:51:51.466Z"
   },
   {
    "duration": 527,
    "start_time": "2022-05-02T13:52:52.913Z"
   },
   {
    "duration": 370,
    "start_time": "2022-05-02T13:53:17.275Z"
   },
   {
    "duration": 255,
    "start_time": "2022-05-02T13:57:12.092Z"
   },
   {
    "duration": 339,
    "start_time": "2022-05-02T13:57:20.234Z"
   },
   {
    "duration": 249,
    "start_time": "2022-05-02T13:57:29.819Z"
   },
   {
    "duration": 268,
    "start_time": "2022-05-02T13:57:36.198Z"
   },
   {
    "duration": 1923,
    "start_time": "2022-05-02T13:57:47.268Z"
   },
   {
    "duration": 5,
    "start_time": "2022-05-02T13:57:49.193Z"
   },
   {
    "duration": 140,
    "start_time": "2022-05-02T13:57:49.201Z"
   },
   {
    "duration": 34,
    "start_time": "2022-05-02T13:57:49.353Z"
   },
   {
    "duration": 21,
    "start_time": "2022-05-02T13:57:49.390Z"
   },
   {
    "duration": 118,
    "start_time": "2022-05-02T13:57:49.413Z"
   },
   {
    "duration": 107,
    "start_time": "2022-05-02T13:57:49.534Z"
   },
   {
    "duration": 23,
    "start_time": "2022-05-02T13:57:49.643Z"
   },
   {
    "duration": 23,
    "start_time": "2022-05-02T13:57:49.669Z"
   },
   {
    "duration": 6,
    "start_time": "2022-05-02T13:57:49.695Z"
   },
   {
    "duration": 69,
    "start_time": "2022-05-02T13:57:49.703Z"
   },
   {
    "duration": 13,
    "start_time": "2022-05-02T13:57:49.774Z"
   },
   {
    "duration": 9,
    "start_time": "2022-05-02T13:57:49.789Z"
   },
   {
    "duration": 9,
    "start_time": "2022-05-02T13:57:49.800Z"
   },
   {
    "duration": 5,
    "start_time": "2022-05-02T13:57:49.811Z"
   },
   {
    "duration": 44,
    "start_time": "2022-05-02T13:57:49.818Z"
   },
   {
    "duration": 6,
    "start_time": "2022-05-02T13:57:49.865Z"
   },
   {
    "duration": 8,
    "start_time": "2022-05-02T13:57:49.873Z"
   },
   {
    "duration": 8,
    "start_time": "2022-05-02T13:57:49.884Z"
   },
   {
    "duration": 5,
    "start_time": "2022-05-02T13:57:49.894Z"
   },
   {
    "duration": 6,
    "start_time": "2022-05-02T13:57:49.901Z"
   },
   {
    "duration": 43,
    "start_time": "2022-05-02T13:57:49.909Z"
   },
   {
    "duration": 22,
    "start_time": "2022-05-02T13:57:49.955Z"
   },
   {
    "duration": 7,
    "start_time": "2022-05-02T13:57:49.979Z"
   },
   {
    "duration": 8,
    "start_time": "2022-05-02T13:57:49.988Z"
   },
   {
    "duration": 11,
    "start_time": "2022-05-02T13:57:49.998Z"
   },
   {
    "duration": 51,
    "start_time": "2022-05-02T13:57:50.011Z"
   },
   {
    "duration": 14,
    "start_time": "2022-05-02T13:57:50.073Z"
   },
   {
    "duration": 8,
    "start_time": "2022-05-02T13:57:50.090Z"
   },
   {
    "duration": 14,
    "start_time": "2022-05-02T13:57:50.100Z"
   },
   {
    "duration": 6,
    "start_time": "2022-05-02T13:57:50.117Z"
   },
   {
    "duration": 9,
    "start_time": "2022-05-02T13:57:50.156Z"
   },
   {
    "duration": 17,
    "start_time": "2022-05-02T13:57:50.168Z"
   },
   {
    "duration": 9,
    "start_time": "2022-05-02T13:57:50.188Z"
   },
   {
    "duration": 7,
    "start_time": "2022-05-02T13:57:50.199Z"
   },
   {
    "duration": 7,
    "start_time": "2022-05-02T13:57:50.208Z"
   },
   {
    "duration": 41,
    "start_time": "2022-05-02T13:57:50.217Z"
   },
   {
    "duration": 18,
    "start_time": "2022-05-02T13:57:50.261Z"
   },
   {
    "duration": 19,
    "start_time": "2022-05-02T13:57:50.282Z"
   },
   {
    "duration": 20,
    "start_time": "2022-05-02T13:57:50.303Z"
   },
   {
    "duration": 49,
    "start_time": "2022-05-02T13:57:50.325Z"
   },
   {
    "duration": 17,
    "start_time": "2022-05-02T13:57:50.377Z"
   },
   {
    "duration": 64,
    "start_time": "2022-05-02T13:57:50.397Z"
   },
   {
    "duration": 45,
    "start_time": "2022-05-02T13:57:50.464Z"
   },
   {
    "duration": 19,
    "start_time": "2022-05-02T13:57:50.512Z"
   },
   {
    "duration": 46,
    "start_time": "2022-05-02T13:57:50.533Z"
   },
   {
    "duration": 19,
    "start_time": "2022-05-02T13:57:50.582Z"
   },
   {
    "duration": 6,
    "start_time": "2022-05-02T13:57:50.603Z"
   },
   {
    "duration": 16,
    "start_time": "2022-05-02T13:57:50.611Z"
   },
   {
    "duration": 44,
    "start_time": "2022-05-02T13:57:50.629Z"
   },
   {
    "duration": 23,
    "start_time": "2022-05-02T13:57:50.676Z"
   },
   {
    "duration": 15,
    "start_time": "2022-05-02T13:57:50.702Z"
   },
   {
    "duration": 32,
    "start_time": "2022-05-02T13:57:50.720Z"
   },
   {
    "duration": 25,
    "start_time": "2022-05-02T13:57:50.756Z"
   },
   {
    "duration": 26,
    "start_time": "2022-05-02T13:57:50.784Z"
   },
   {
    "duration": 785,
    "start_time": "2022-05-02T13:57:50.812Z"
   },
   {
    "duration": 6,
    "start_time": "2022-05-02T13:57:51.600Z"
   },
   {
    "duration": 7,
    "start_time": "2022-05-02T13:57:51.609Z"
   },
   {
    "duration": 68,
    "start_time": "2022-05-02T13:57:51.618Z"
   },
   {
    "duration": 4,
    "start_time": "2022-05-02T13:57:51.688Z"
   },
   {
    "duration": 430,
    "start_time": "2022-05-02T13:57:51.694Z"
   },
   {
    "duration": 476,
    "start_time": "2022-05-02T13:57:52.127Z"
   },
   {
    "duration": 7,
    "start_time": "2022-05-02T13:57:52.605Z"
   },
   {
    "duration": 16,
    "start_time": "2022-05-02T13:57:52.614Z"
   },
   {
    "duration": 361,
    "start_time": "2022-05-02T13:57:52.663Z"
   },
   {
    "duration": 315,
    "start_time": "2022-05-02T13:57:53.026Z"
   },
   {
    "duration": 349,
    "start_time": "2022-05-02T13:57:53.344Z"
   },
   {
    "duration": 13,
    "start_time": "2022-05-02T13:57:53.696Z"
   },
   {
    "duration": 368,
    "start_time": "2022-05-02T13:57:53.712Z"
   },
   {
    "duration": 10,
    "start_time": "2022-05-02T13:57:54.083Z"
   },
   {
    "duration": 416,
    "start_time": "2022-05-02T13:57:54.095Z"
   },
   {
    "duration": 11,
    "start_time": "2022-05-02T13:57:54.513Z"
   },
   {
    "duration": 46,
    "start_time": "2022-05-02T13:57:54.526Z"
   },
   {
    "duration": 29,
    "start_time": "2022-05-02T13:57:54.575Z"
   },
   {
    "duration": 88,
    "start_time": "2022-05-02T13:57:54.606Z"
   },
   {
    "duration": 20,
    "start_time": "2022-05-02T13:57:54.697Z"
   },
   {
    "duration": 17,
    "start_time": "2022-05-02T13:57:54.719Z"
   },
   {
    "duration": 22,
    "start_time": "2022-05-02T13:57:54.757Z"
   },
   {
    "duration": 18,
    "start_time": "2022-05-02T13:57:54.781Z"
   },
   {
    "duration": 13,
    "start_time": "2022-05-02T13:57:54.801Z"
   },
   {
    "duration": 45,
    "start_time": "2022-05-02T13:57:54.815Z"
   },
   {
    "duration": 12,
    "start_time": "2022-05-02T13:57:54.869Z"
   },
   {
    "duration": 19,
    "start_time": "2022-05-02T13:57:54.884Z"
   },
   {
    "duration": 5,
    "start_time": "2022-05-02T13:57:54.905Z"
   },
   {
    "duration": 18,
    "start_time": "2022-05-02T13:57:54.913Z"
   },
   {
    "duration": 31,
    "start_time": "2022-05-02T13:57:54.933Z"
   },
   {
    "duration": 6,
    "start_time": "2022-05-02T13:57:54.967Z"
   },
   {
    "duration": 19,
    "start_time": "2022-05-02T13:57:54.976Z"
   },
   {
    "duration": 6,
    "start_time": "2022-05-02T13:57:54.999Z"
   },
   {
    "duration": 466,
    "start_time": "2022-05-02T13:57:55.008Z"
   },
   {
    "duration": 40,
    "start_time": "2022-05-02T13:57:55.477Z"
   },
   {
    "duration": 54,
    "start_time": "2022-05-02T13:57:55.519Z"
   },
   {
    "duration": 11,
    "start_time": "2022-05-02T13:57:55.575Z"
   },
   {
    "duration": 320,
    "start_time": "2022-05-02T13:57:55.588Z"
   },
   {
    "duration": 11,
    "start_time": "2022-05-02T13:57:55.910Z"
   },
   {
    "duration": 42,
    "start_time": "2022-05-02T13:57:55.923Z"
   },
   {
    "duration": 338,
    "start_time": "2022-05-02T13:57:55.969Z"
   },
   {
    "duration": 12,
    "start_time": "2022-05-02T13:57:56.309Z"
   },
   {
    "duration": 316,
    "start_time": "2022-05-02T13:57:56.323Z"
   },
   {
    "duration": 30,
    "start_time": "2022-05-02T14:01:39.194Z"
   },
   {
    "duration": 172,
    "start_time": "2022-05-02T14:02:54.681Z"
   },
   {
    "duration": 23,
    "start_time": "2022-05-02T14:03:41.516Z"
   },
   {
    "duration": 20,
    "start_time": "2022-05-02T14:03:56.332Z"
   },
   {
    "duration": 131,
    "start_time": "2022-05-02T14:05:29.778Z"
   },
   {
    "duration": 252,
    "start_time": "2022-05-02T14:05:41.810Z"
   },
   {
    "duration": 304,
    "start_time": "2022-05-02T14:06:55.090Z"
   },
   {
    "duration": 212,
    "start_time": "2022-05-02T14:07:11.323Z"
   },
   {
    "duration": 265,
    "start_time": "2022-05-02T14:07:34.250Z"
   },
   {
    "duration": 317,
    "start_time": "2022-05-02T14:07:58.725Z"
   },
   {
    "duration": 474,
    "start_time": "2022-05-02T14:08:04.451Z"
   },
   {
    "duration": 264,
    "start_time": "2022-05-02T14:08:50.074Z"
   },
   {
    "duration": 268,
    "start_time": "2022-05-02T14:10:20.232Z"
   },
   {
    "duration": 1839,
    "start_time": "2022-05-02T14:10:31.650Z"
   },
   {
    "duration": 4,
    "start_time": "2022-05-02T14:10:33.491Z"
   },
   {
    "duration": 147,
    "start_time": "2022-05-02T14:10:33.498Z"
   },
   {
    "duration": 36,
    "start_time": "2022-05-02T14:10:33.653Z"
   },
   {
    "duration": 23,
    "start_time": "2022-05-02T14:10:33.691Z"
   },
   {
    "duration": 144,
    "start_time": "2022-05-02T14:10:33.716Z"
   },
   {
    "duration": 104,
    "start_time": "2022-05-02T14:10:33.863Z"
   },
   {
    "duration": 15,
    "start_time": "2022-05-02T14:10:33.969Z"
   },
   {
    "duration": 20,
    "start_time": "2022-05-02T14:10:33.986Z"
   },
   {
    "duration": 7,
    "start_time": "2022-05-02T14:10:34.011Z"
   },
   {
    "duration": 42,
    "start_time": "2022-05-02T14:10:34.052Z"
   },
   {
    "duration": 18,
    "start_time": "2022-05-02T14:10:34.097Z"
   },
   {
    "duration": 38,
    "start_time": "2022-05-02T14:10:34.118Z"
   },
   {
    "duration": 8,
    "start_time": "2022-05-02T14:10:34.158Z"
   },
   {
    "duration": 10,
    "start_time": "2022-05-02T14:10:34.168Z"
   },
   {
    "duration": 7,
    "start_time": "2022-05-02T14:10:34.180Z"
   },
   {
    "duration": 8,
    "start_time": "2022-05-02T14:10:34.189Z"
   },
   {
    "duration": 16,
    "start_time": "2022-05-02T14:10:34.199Z"
   },
   {
    "duration": 41,
    "start_time": "2022-05-02T14:10:34.217Z"
   },
   {
    "duration": 7,
    "start_time": "2022-05-02T14:10:34.261Z"
   },
   {
    "duration": 15,
    "start_time": "2022-05-02T14:10:34.270Z"
   },
   {
    "duration": 17,
    "start_time": "2022-05-02T14:10:34.287Z"
   },
   {
    "duration": 14,
    "start_time": "2022-05-02T14:10:34.306Z"
   },
   {
    "duration": 24,
    "start_time": "2022-05-02T14:10:34.322Z"
   },
   {
    "duration": 27,
    "start_time": "2022-05-02T14:10:34.348Z"
   },
   {
    "duration": 16,
    "start_time": "2022-05-02T14:10:34.377Z"
   },
   {
    "duration": 32,
    "start_time": "2022-05-02T14:10:34.395Z"
   },
   {
    "duration": 7,
    "start_time": "2022-05-02T14:10:34.434Z"
   },
   {
    "duration": 6,
    "start_time": "2022-05-02T14:10:34.443Z"
   },
   {
    "duration": 23,
    "start_time": "2022-05-02T14:10:34.452Z"
   },
   {
    "duration": 6,
    "start_time": "2022-05-02T14:10:34.477Z"
   },
   {
    "duration": 6,
    "start_time": "2022-05-02T14:10:34.485Z"
   },
   {
    "duration": 11,
    "start_time": "2022-05-02T14:10:34.493Z"
   },
   {
    "duration": 8,
    "start_time": "2022-05-02T14:10:34.506Z"
   },
   {
    "duration": 36,
    "start_time": "2022-05-02T14:10:34.516Z"
   },
   {
    "duration": 18,
    "start_time": "2022-05-02T14:10:34.558Z"
   },
   {
    "duration": 6,
    "start_time": "2022-05-02T14:10:34.579Z"
   },
   {
    "duration": 19,
    "start_time": "2022-05-02T14:10:34.586Z"
   },
   {
    "duration": 18,
    "start_time": "2022-05-02T14:10:34.607Z"
   },
   {
    "duration": 47,
    "start_time": "2022-05-02T14:10:34.628Z"
   },
   {
    "duration": 13,
    "start_time": "2022-05-02T14:10:34.677Z"
   },
   {
    "duration": 21,
    "start_time": "2022-05-02T14:10:34.693Z"
   },
   {
    "duration": 45,
    "start_time": "2022-05-02T14:10:34.716Z"
   },
   {
    "duration": 15,
    "start_time": "2022-05-02T14:10:34.763Z"
   },
   {
    "duration": 15,
    "start_time": "2022-05-02T14:10:34.780Z"
   },
   {
    "duration": 56,
    "start_time": "2022-05-02T14:10:34.797Z"
   },
   {
    "duration": 19,
    "start_time": "2022-05-02T14:10:34.856Z"
   },
   {
    "duration": 5,
    "start_time": "2022-05-02T14:10:34.877Z"
   },
   {
    "duration": 20,
    "start_time": "2022-05-02T14:10:34.887Z"
   },
   {
    "duration": 47,
    "start_time": "2022-05-02T14:10:34.910Z"
   },
   {
    "duration": 19,
    "start_time": "2022-05-02T14:10:34.960Z"
   },
   {
    "duration": 9,
    "start_time": "2022-05-02T14:10:34.981Z"
   },
   {
    "duration": 7,
    "start_time": "2022-05-02T14:10:34.993Z"
   },
   {
    "duration": 6,
    "start_time": "2022-05-02T14:10:35.002Z"
   },
   {
    "duration": 46,
    "start_time": "2022-05-02T14:10:35.010Z"
   },
   {
    "duration": 601,
    "start_time": "2022-05-02T14:10:35.059Z"
   },
   {
    "duration": 7,
    "start_time": "2022-05-02T14:10:35.663Z"
   },
   {
    "duration": 8,
    "start_time": "2022-05-02T14:10:35.673Z"
   },
   {
    "duration": 52,
    "start_time": "2022-05-02T14:10:35.684Z"
   },
   {
    "duration": 19,
    "start_time": "2022-05-02T14:10:35.738Z"
   },
   {
    "duration": 325,
    "start_time": "2022-05-02T14:10:35.760Z"
   },
   {
    "duration": 340,
    "start_time": "2022-05-02T14:10:36.088Z"
   },
   {
    "duration": 5,
    "start_time": "2022-05-02T14:10:36.430Z"
   },
   {
    "duration": 23,
    "start_time": "2022-05-02T14:10:36.437Z"
   },
   {
    "duration": 316,
    "start_time": "2022-05-02T14:10:36.463Z"
   },
   {
    "duration": 315,
    "start_time": "2022-05-02T14:10:36.782Z"
   },
   {
    "duration": 293,
    "start_time": "2022-05-02T14:10:37.100Z"
   },
   {
    "duration": 12,
    "start_time": "2022-05-02T14:10:37.395Z"
   },
   {
    "duration": 338,
    "start_time": "2022-05-02T14:10:37.409Z"
   },
   {
    "duration": 14,
    "start_time": "2022-05-02T14:10:37.752Z"
   },
   {
    "duration": 386,
    "start_time": "2022-05-02T14:10:37.769Z"
   },
   {
    "duration": 19,
    "start_time": "2022-05-02T14:10:38.159Z"
   },
   {
    "duration": 25,
    "start_time": "2022-05-02T14:10:38.180Z"
   },
   {
    "duration": 24,
    "start_time": "2022-05-02T14:10:38.207Z"
   },
   {
    "duration": 85,
    "start_time": "2022-05-02T14:10:38.233Z"
   },
   {
    "duration": 40,
    "start_time": "2022-05-02T14:10:38.320Z"
   },
   {
    "duration": 18,
    "start_time": "2022-05-02T14:10:38.363Z"
   },
   {
    "duration": 23,
    "start_time": "2022-05-02T14:10:38.384Z"
   },
   {
    "duration": 46,
    "start_time": "2022-05-02T14:10:38.410Z"
   },
   {
    "duration": 13,
    "start_time": "2022-05-02T14:10:38.458Z"
   },
   {
    "duration": 7,
    "start_time": "2022-05-02T14:10:38.473Z"
   },
   {
    "duration": 10,
    "start_time": "2022-05-02T14:10:38.489Z"
   },
   {
    "duration": 13,
    "start_time": "2022-05-02T14:10:38.501Z"
   },
   {
    "duration": 47,
    "start_time": "2022-05-02T14:10:38.516Z"
   },
   {
    "duration": 111,
    "start_time": "2022-05-02T14:10:38.578Z"
   },
   {
    "duration": 16,
    "start_time": "2022-05-02T14:10:38.692Z"
   },
   {
    "duration": 6,
    "start_time": "2022-05-02T14:10:38.710Z"
   },
   {
    "duration": 7,
    "start_time": "2022-05-02T14:10:38.719Z"
   },
   {
    "duration": 5,
    "start_time": "2022-05-02T14:10:38.729Z"
   },
   {
    "duration": 330,
    "start_time": "2022-05-02T14:10:38.736Z"
   },
   {
    "duration": 296,
    "start_time": "2022-05-02T14:10:39.068Z"
   },
   {
    "duration": 33,
    "start_time": "2022-05-02T14:10:39.367Z"
   },
   {
    "duration": 15,
    "start_time": "2022-05-02T14:10:39.403Z"
   },
   {
    "duration": 39,
    "start_time": "2022-05-02T14:10:39.421Z"
   },
   {
    "duration": 292,
    "start_time": "2022-05-02T14:10:39.463Z"
   },
   {
    "duration": 18,
    "start_time": "2022-05-02T14:10:39.757Z"
   },
   {
    "duration": 17,
    "start_time": "2022-05-02T14:10:39.779Z"
   },
   {
    "duration": 306,
    "start_time": "2022-05-02T14:10:39.798Z"
   },
   {
    "duration": 10,
    "start_time": "2022-05-02T14:10:40.106Z"
   },
   {
    "duration": 287,
    "start_time": "2022-05-02T14:10:40.119Z"
   },
   {
    "duration": 413,
    "start_time": "2022-05-02T14:13:50.120Z"
   },
   {
    "duration": 279,
    "start_time": "2022-05-02T14:14:01.767Z"
   },
   {
    "duration": 1678,
    "start_time": "2022-05-02T14:14:19.324Z"
   },
   {
    "duration": 4,
    "start_time": "2022-05-02T14:14:21.004Z"
   },
   {
    "duration": 183,
    "start_time": "2022-05-02T14:14:21.010Z"
   },
   {
    "duration": 31,
    "start_time": "2022-05-02T14:14:21.196Z"
   },
   {
    "duration": 51,
    "start_time": "2022-05-02T14:14:21.229Z"
   },
   {
    "duration": 109,
    "start_time": "2022-05-02T14:14:21.282Z"
   },
   {
    "duration": 108,
    "start_time": "2022-05-02T14:14:21.394Z"
   },
   {
    "duration": 11,
    "start_time": "2022-05-02T14:14:21.505Z"
   },
   {
    "duration": 40,
    "start_time": "2022-05-02T14:14:21.518Z"
   },
   {
    "duration": 20,
    "start_time": "2022-05-02T14:14:21.563Z"
   },
   {
    "duration": 39,
    "start_time": "2022-05-02T14:14:21.585Z"
   },
   {
    "duration": 40,
    "start_time": "2022-05-02T14:14:21.627Z"
   },
   {
    "duration": 26,
    "start_time": "2022-05-02T14:14:21.670Z"
   },
   {
    "duration": 19,
    "start_time": "2022-05-02T14:14:21.698Z"
   },
   {
    "duration": 30,
    "start_time": "2022-05-02T14:14:21.720Z"
   },
   {
    "duration": 18,
    "start_time": "2022-05-02T14:14:21.757Z"
   },
   {
    "duration": 17,
    "start_time": "2022-05-02T14:14:21.778Z"
   },
   {
    "duration": 25,
    "start_time": "2022-05-02T14:14:21.798Z"
   },
   {
    "duration": 22,
    "start_time": "2022-05-02T14:14:21.825Z"
   },
   {
    "duration": 16,
    "start_time": "2022-05-02T14:14:21.849Z"
   },
   {
    "duration": 28,
    "start_time": "2022-05-02T14:14:21.868Z"
   },
   {
    "duration": 17,
    "start_time": "2022-05-02T14:14:21.899Z"
   },
   {
    "duration": 23,
    "start_time": "2022-05-02T14:14:21.919Z"
   },
   {
    "duration": 33,
    "start_time": "2022-05-02T14:14:21.944Z"
   },
   {
    "duration": 18,
    "start_time": "2022-05-02T14:14:21.980Z"
   },
   {
    "duration": 28,
    "start_time": "2022-05-02T14:14:22.001Z"
   },
   {
    "duration": 45,
    "start_time": "2022-05-02T14:14:22.032Z"
   },
   {
    "duration": 16,
    "start_time": "2022-05-02T14:14:22.084Z"
   },
   {
    "duration": 14,
    "start_time": "2022-05-02T14:14:22.102Z"
   },
   {
    "duration": 13,
    "start_time": "2022-05-02T14:14:22.118Z"
   },
   {
    "duration": 17,
    "start_time": "2022-05-02T14:14:22.134Z"
   },
   {
    "duration": 17,
    "start_time": "2022-05-02T14:14:22.154Z"
   },
   {
    "duration": 24,
    "start_time": "2022-05-02T14:14:22.173Z"
   },
   {
    "duration": 23,
    "start_time": "2022-05-02T14:14:22.199Z"
   },
   {
    "duration": 21,
    "start_time": "2022-05-02T14:14:22.224Z"
   },
   {
    "duration": 20,
    "start_time": "2022-05-02T14:14:22.246Z"
   },
   {
    "duration": 24,
    "start_time": "2022-05-02T14:14:22.268Z"
   },
   {
    "duration": 38,
    "start_time": "2022-05-02T14:14:22.295Z"
   },
   {
    "duration": 28,
    "start_time": "2022-05-02T14:14:22.336Z"
   },
   {
    "duration": 31,
    "start_time": "2022-05-02T14:14:22.366Z"
   },
   {
    "duration": 25,
    "start_time": "2022-05-02T14:14:22.399Z"
   },
   {
    "duration": 35,
    "start_time": "2022-05-02T14:14:22.427Z"
   },
   {
    "duration": 21,
    "start_time": "2022-05-02T14:14:22.467Z"
   },
   {
    "duration": 32,
    "start_time": "2022-05-02T14:14:22.491Z"
   },
   {
    "duration": 17,
    "start_time": "2022-05-02T14:14:22.525Z"
   },
   {
    "duration": 63,
    "start_time": "2022-05-02T14:14:22.544Z"
   },
   {
    "duration": 18,
    "start_time": "2022-05-02T14:14:22.609Z"
   },
   {
    "duration": 16,
    "start_time": "2022-05-02T14:14:22.629Z"
   },
   {
    "duration": 38,
    "start_time": "2022-05-02T14:14:22.647Z"
   },
   {
    "duration": 30,
    "start_time": "2022-05-02T14:14:22.687Z"
   },
   {
    "duration": 35,
    "start_time": "2022-05-02T14:14:22.719Z"
   },
   {
    "duration": 33,
    "start_time": "2022-05-02T14:14:22.757Z"
   },
   {
    "duration": 15,
    "start_time": "2022-05-02T14:14:22.792Z"
   },
   {
    "duration": 19,
    "start_time": "2022-05-02T14:14:22.809Z"
   },
   {
    "duration": 37,
    "start_time": "2022-05-02T14:14:22.830Z"
   },
   {
    "duration": 626,
    "start_time": "2022-05-02T14:14:22.871Z"
   },
   {
    "duration": 6,
    "start_time": "2022-05-02T14:14:23.499Z"
   },
   {
    "duration": 20,
    "start_time": "2022-05-02T14:14:23.507Z"
   },
   {
    "duration": 72,
    "start_time": "2022-05-02T14:14:23.529Z"
   },
   {
    "duration": 3,
    "start_time": "2022-05-02T14:14:23.603Z"
   },
   {
    "duration": 443,
    "start_time": "2022-05-02T14:14:23.609Z"
   },
   {
    "duration": 482,
    "start_time": "2022-05-02T14:14:24.055Z"
   },
   {
    "duration": 19,
    "start_time": "2022-05-02T14:14:24.540Z"
   },
   {
    "duration": 24,
    "start_time": "2022-05-02T14:14:24.562Z"
   },
   {
    "duration": 417,
    "start_time": "2022-05-02T14:14:24.588Z"
   },
   {
    "duration": 363,
    "start_time": "2022-05-02T14:14:25.007Z"
   },
   {
    "duration": 307,
    "start_time": "2022-05-02T14:14:25.373Z"
   },
   {
    "duration": 11,
    "start_time": "2022-05-02T14:14:25.682Z"
   },
   {
    "duration": 335,
    "start_time": "2022-05-02T14:14:25.695Z"
   },
   {
    "duration": 20,
    "start_time": "2022-05-02T14:14:26.032Z"
   },
   {
    "duration": 481,
    "start_time": "2022-05-02T14:14:26.055Z"
   },
   {
    "duration": 21,
    "start_time": "2022-05-02T14:14:26.538Z"
   },
   {
    "duration": 18,
    "start_time": "2022-05-02T14:14:26.562Z"
   },
   {
    "duration": 23,
    "start_time": "2022-05-02T14:14:26.583Z"
   },
   {
    "duration": 105,
    "start_time": "2022-05-02T14:14:26.609Z"
   },
   {
    "duration": 20,
    "start_time": "2022-05-02T14:14:26.716Z"
   },
   {
    "duration": 34,
    "start_time": "2022-05-02T14:14:26.738Z"
   },
   {
    "duration": 22,
    "start_time": "2022-05-02T14:14:26.774Z"
   },
   {
    "duration": 17,
    "start_time": "2022-05-02T14:14:26.798Z"
   },
   {
    "duration": 51,
    "start_time": "2022-05-02T14:14:26.817Z"
   },
   {
    "duration": 4,
    "start_time": "2022-05-02T14:14:26.873Z"
   },
   {
    "duration": 14,
    "start_time": "2022-05-02T14:14:26.891Z"
   },
   {
    "duration": 18,
    "start_time": "2022-05-02T14:14:26.908Z"
   },
   {
    "duration": 5,
    "start_time": "2022-05-02T14:14:26.958Z"
   },
   {
    "duration": 22,
    "start_time": "2022-05-02T14:14:26.966Z"
   },
   {
    "duration": 15,
    "start_time": "2022-05-02T14:14:26.990Z"
   },
   {
    "duration": 7,
    "start_time": "2022-05-02T14:14:27.008Z"
   },
   {
    "duration": 9,
    "start_time": "2022-05-02T14:14:27.017Z"
   },
   {
    "duration": 31,
    "start_time": "2022-05-02T14:14:27.029Z"
   },
   {
    "duration": 475,
    "start_time": "2022-05-02T14:14:27.063Z"
   },
   {
    "duration": 436,
    "start_time": "2022-05-02T14:14:27.541Z"
   },
   {
    "duration": 32,
    "start_time": "2022-05-02T14:14:27.979Z"
   },
   {
    "duration": 43,
    "start_time": "2022-05-02T14:14:28.013Z"
   },
   {
    "duration": 16,
    "start_time": "2022-05-02T14:14:28.059Z"
   },
   {
    "duration": 411,
    "start_time": "2022-05-02T14:14:28.078Z"
   },
   {
    "duration": 15,
    "start_time": "2022-05-02T14:14:28.492Z"
   },
   {
    "duration": 28,
    "start_time": "2022-05-02T14:14:28.510Z"
   },
   {
    "duration": 365,
    "start_time": "2022-05-02T14:14:28.554Z"
   },
   {
    "duration": 34,
    "start_time": "2022-05-02T14:14:28.922Z"
   },
   {
    "duration": 281,
    "start_time": "2022-05-02T14:14:28.958Z"
   },
   {
    "duration": 144,
    "start_time": "2022-05-02T14:15:44.325Z"
   },
   {
    "duration": 158,
    "start_time": "2022-05-02T14:15:55.585Z"
   },
   {
    "duration": 493,
    "start_time": "2022-05-02T14:16:18.320Z"
   },
   {
    "duration": 312,
    "start_time": "2022-05-02T14:16:27.147Z"
   },
   {
    "duration": 265,
    "start_time": "2022-05-02T14:16:33.466Z"
   },
   {
    "duration": 291,
    "start_time": "2022-05-02T14:16:38.476Z"
   },
   {
    "duration": 271,
    "start_time": "2022-05-02T14:16:44.636Z"
   },
   {
    "duration": 285,
    "start_time": "2022-05-02T14:16:51.677Z"
   },
   {
    "duration": 401,
    "start_time": "2022-05-02T14:17:04.141Z"
   },
   {
    "duration": 1811,
    "start_time": "2022-05-02T14:17:14.598Z"
   },
   {
    "duration": 4,
    "start_time": "2022-05-02T14:17:16.412Z"
   },
   {
    "duration": 144,
    "start_time": "2022-05-02T14:17:16.418Z"
   },
   {
    "duration": 41,
    "start_time": "2022-05-02T14:17:16.565Z"
   },
   {
    "duration": 49,
    "start_time": "2022-05-02T14:17:16.608Z"
   },
   {
    "duration": 108,
    "start_time": "2022-05-02T14:17:16.661Z"
   },
   {
    "duration": 101,
    "start_time": "2022-05-02T14:17:16.772Z"
   },
   {
    "duration": 15,
    "start_time": "2022-05-02T14:17:16.876Z"
   },
   {
    "duration": 19,
    "start_time": "2022-05-02T14:17:16.894Z"
   },
   {
    "duration": 6,
    "start_time": "2022-05-02T14:17:16.959Z"
   },
   {
    "duration": 34,
    "start_time": "2022-05-02T14:17:16.968Z"
   },
   {
    "duration": 17,
    "start_time": "2022-05-02T14:17:17.005Z"
   },
   {
    "duration": 13,
    "start_time": "2022-05-02T14:17:17.025Z"
   },
   {
    "duration": 8,
    "start_time": "2022-05-02T14:17:17.059Z"
   },
   {
    "duration": 6,
    "start_time": "2022-05-02T14:17:17.069Z"
   },
   {
    "duration": 24,
    "start_time": "2022-05-02T14:17:17.079Z"
   },
   {
    "duration": 10,
    "start_time": "2022-05-02T14:17:17.105Z"
   },
   {
    "duration": 11,
    "start_time": "2022-05-02T14:17:17.118Z"
   },
   {
    "duration": 32,
    "start_time": "2022-05-02T14:17:17.131Z"
   },
   {
    "duration": 7,
    "start_time": "2022-05-02T14:17:17.165Z"
   },
   {
    "duration": 9,
    "start_time": "2022-05-02T14:17:17.175Z"
   },
   {
    "duration": 10,
    "start_time": "2022-05-02T14:17:17.186Z"
   },
   {
    "duration": 8,
    "start_time": "2022-05-02T14:17:17.198Z"
   },
   {
    "duration": 12,
    "start_time": "2022-05-02T14:17:17.208Z"
   },
   {
    "duration": 42,
    "start_time": "2022-05-02T14:17:17.222Z"
   },
   {
    "duration": 4,
    "start_time": "2022-05-02T14:17:17.266Z"
   },
   {
    "duration": 26,
    "start_time": "2022-05-02T14:17:17.272Z"
   },
   {
    "duration": 6,
    "start_time": "2022-05-02T14:17:17.305Z"
   },
   {
    "duration": 9,
    "start_time": "2022-05-02T14:17:17.314Z"
   },
   {
    "duration": 40,
    "start_time": "2022-05-02T14:17:17.325Z"
   },
   {
    "duration": 6,
    "start_time": "2022-05-02T14:17:17.368Z"
   },
   {
    "duration": 7,
    "start_time": "2022-05-02T14:17:17.376Z"
   },
   {
    "duration": 11,
    "start_time": "2022-05-02T14:17:17.385Z"
   },
   {
    "duration": 8,
    "start_time": "2022-05-02T14:17:17.398Z"
   },
   {
    "duration": 48,
    "start_time": "2022-05-02T14:17:17.408Z"
   },
   {
    "duration": 7,
    "start_time": "2022-05-02T14:17:17.459Z"
   },
   {
    "duration": 8,
    "start_time": "2022-05-02T14:17:17.468Z"
   },
   {
    "duration": 14,
    "start_time": "2022-05-02T14:17:17.478Z"
   },
   {
    "duration": 20,
    "start_time": "2022-05-02T14:17:17.494Z"
   },
   {
    "duration": 48,
    "start_time": "2022-05-02T14:17:17.517Z"
   },
   {
    "duration": 17,
    "start_time": "2022-05-02T14:17:17.568Z"
   },
   {
    "duration": 18,
    "start_time": "2022-05-02T14:17:17.588Z"
   },
   {
    "duration": 61,
    "start_time": "2022-05-02T14:17:17.609Z"
   },
   {
    "duration": 25,
    "start_time": "2022-05-02T14:17:17.672Z"
   },
   {
    "duration": 20,
    "start_time": "2022-05-02T14:17:17.700Z"
   },
   {
    "duration": 69,
    "start_time": "2022-05-02T14:17:17.722Z"
   },
   {
    "duration": 18,
    "start_time": "2022-05-02T14:17:17.794Z"
   },
   {
    "duration": 4,
    "start_time": "2022-05-02T14:17:17.815Z"
   },
   {
    "duration": 37,
    "start_time": "2022-05-02T14:17:17.822Z"
   },
   {
    "duration": 23,
    "start_time": "2022-05-02T14:17:17.861Z"
   },
   {
    "duration": 16,
    "start_time": "2022-05-02T14:17:17.886Z"
   },
   {
    "duration": 10,
    "start_time": "2022-05-02T14:17:17.904Z"
   },
   {
    "duration": 7,
    "start_time": "2022-05-02T14:17:17.917Z"
   },
   {
    "duration": 30,
    "start_time": "2022-05-02T14:17:17.927Z"
   },
   {
    "duration": 13,
    "start_time": "2022-05-02T14:17:17.961Z"
   },
   {
    "duration": 835,
    "start_time": "2022-05-02T14:17:17.978Z"
   },
   {
    "duration": 6,
    "start_time": "2022-05-02T14:17:18.816Z"
   },
   {
    "duration": 12,
    "start_time": "2022-05-02T14:17:18.824Z"
   },
   {
    "duration": 53,
    "start_time": "2022-05-02T14:17:18.851Z"
   },
   {
    "duration": 3,
    "start_time": "2022-05-02T14:17:18.906Z"
   },
   {
    "duration": 330,
    "start_time": "2022-05-02T14:17:18.911Z"
   },
   {
    "duration": 334,
    "start_time": "2022-05-02T14:17:19.243Z"
   },
   {
    "duration": 6,
    "start_time": "2022-05-02T14:17:19.580Z"
   },
   {
    "duration": 15,
    "start_time": "2022-05-02T14:17:19.589Z"
   },
   {
    "duration": 350,
    "start_time": "2022-05-02T14:17:19.606Z"
   },
   {
    "duration": 336,
    "start_time": "2022-05-02T14:17:19.959Z"
   },
   {
    "duration": 299,
    "start_time": "2022-05-02T14:17:20.297Z"
   },
   {
    "duration": 11,
    "start_time": "2022-05-02T14:17:20.598Z"
   },
   {
    "duration": 347,
    "start_time": "2022-05-02T14:17:20.612Z"
   },
   {
    "duration": 11,
    "start_time": "2022-05-02T14:17:20.962Z"
   },
   {
    "duration": 398,
    "start_time": "2022-05-02T14:17:20.975Z"
   },
   {
    "duration": 11,
    "start_time": "2022-05-02T14:17:21.375Z"
   },
   {
    "duration": 13,
    "start_time": "2022-05-02T14:17:21.388Z"
   },
   {
    "duration": 56,
    "start_time": "2022-05-02T14:17:21.403Z"
   },
   {
    "duration": 56,
    "start_time": "2022-05-02T14:17:21.462Z"
   },
   {
    "duration": 51,
    "start_time": "2022-05-02T14:17:21.520Z"
   },
   {
    "duration": 21,
    "start_time": "2022-05-02T14:17:21.573Z"
   },
   {
    "duration": 23,
    "start_time": "2022-05-02T14:17:21.596Z"
   },
   {
    "duration": 51,
    "start_time": "2022-05-02T14:17:21.621Z"
   },
   {
    "duration": 13,
    "start_time": "2022-05-02T14:17:21.675Z"
   },
   {
    "duration": 6,
    "start_time": "2022-05-02T14:17:21.690Z"
   },
   {
    "duration": 10,
    "start_time": "2022-05-02T14:17:21.704Z"
   },
   {
    "duration": 16,
    "start_time": "2022-05-02T14:17:21.756Z"
   },
   {
    "duration": 4,
    "start_time": "2022-05-02T14:17:21.774Z"
   },
   {
    "duration": 14,
    "start_time": "2022-05-02T14:17:21.780Z"
   },
   {
    "duration": 15,
    "start_time": "2022-05-02T14:17:21.796Z"
   },
   {
    "duration": 6,
    "start_time": "2022-05-02T14:17:21.813Z"
   },
   {
    "duration": 39,
    "start_time": "2022-05-02T14:17:21.821Z"
   },
   {
    "duration": 7,
    "start_time": "2022-05-02T14:17:21.863Z"
   },
   {
    "duration": 326,
    "start_time": "2022-05-02T14:17:21.872Z"
   },
   {
    "duration": 320,
    "start_time": "2022-05-02T14:17:22.200Z"
   },
   {
    "duration": 56,
    "start_time": "2022-05-02T14:17:22.523Z"
   },
   {
    "duration": 17,
    "start_time": "2022-05-02T14:17:22.581Z"
   },
   {
    "duration": 11,
    "start_time": "2022-05-02T14:17:22.600Z"
   },
   {
    "duration": 319,
    "start_time": "2022-05-02T14:17:22.613Z"
   },
   {
    "duration": 29,
    "start_time": "2022-05-02T14:17:22.934Z"
   },
   {
    "duration": 19,
    "start_time": "2022-05-02T14:17:22.966Z"
   },
   {
    "duration": 301,
    "start_time": "2022-05-02T14:17:22.988Z"
   },
   {
    "duration": 12,
    "start_time": "2022-05-02T14:17:23.292Z"
   },
   {
    "duration": 386,
    "start_time": "2022-05-02T14:17:23.307Z"
   },
   {
    "duration": 3,
    "start_time": "2022-05-02T14:17:42.439Z"
   },
   {
    "duration": 1606,
    "start_time": "2022-05-02T14:18:06.495Z"
   },
   {
    "duration": 5,
    "start_time": "2022-05-02T14:18:08.104Z"
   },
   {
    "duration": 147,
    "start_time": "2022-05-02T14:18:08.112Z"
   },
   {
    "duration": 32,
    "start_time": "2022-05-02T14:18:08.263Z"
   },
   {
    "duration": 29,
    "start_time": "2022-05-02T14:18:08.298Z"
   },
   {
    "duration": 127,
    "start_time": "2022-05-02T14:18:08.330Z"
   },
   {
    "duration": 108,
    "start_time": "2022-05-02T14:18:08.460Z"
   },
   {
    "duration": 12,
    "start_time": "2022-05-02T14:18:08.571Z"
   },
   {
    "duration": 26,
    "start_time": "2022-05-02T14:18:08.585Z"
   },
   {
    "duration": 5,
    "start_time": "2022-05-02T14:18:08.614Z"
   },
   {
    "duration": 59,
    "start_time": "2022-05-02T14:18:08.621Z"
   },
   {
    "duration": 19,
    "start_time": "2022-05-02T14:18:08.682Z"
   },
   {
    "duration": 22,
    "start_time": "2022-05-02T14:18:08.703Z"
   },
   {
    "duration": 10,
    "start_time": "2022-05-02T14:18:08.730Z"
   },
   {
    "duration": 23,
    "start_time": "2022-05-02T14:18:08.742Z"
   },
   {
    "duration": 16,
    "start_time": "2022-05-02T14:18:08.768Z"
   },
   {
    "duration": 10,
    "start_time": "2022-05-02T14:18:08.787Z"
   },
   {
    "duration": 10,
    "start_time": "2022-05-02T14:18:08.800Z"
   },
   {
    "duration": 16,
    "start_time": "2022-05-02T14:18:08.812Z"
   },
   {
    "duration": 30,
    "start_time": "2022-05-02T14:18:08.830Z"
   },
   {
    "duration": 12,
    "start_time": "2022-05-02T14:18:08.862Z"
   },
   {
    "duration": 16,
    "start_time": "2022-05-02T14:18:08.877Z"
   },
   {
    "duration": 8,
    "start_time": "2022-05-02T14:18:08.896Z"
   },
   {
    "duration": 13,
    "start_time": "2022-05-02T14:18:08.907Z"
   },
   {
    "duration": 10,
    "start_time": "2022-05-02T14:18:08.922Z"
   },
   {
    "duration": 7,
    "start_time": "2022-05-02T14:18:08.934Z"
   },
   {
    "duration": 37,
    "start_time": "2022-05-02T14:18:08.943Z"
   },
   {
    "duration": 7,
    "start_time": "2022-05-02T14:18:08.982Z"
   },
   {
    "duration": 10,
    "start_time": "2022-05-02T14:18:08.991Z"
   },
   {
    "duration": 15,
    "start_time": "2022-05-02T14:18:09.003Z"
   },
   {
    "duration": 36,
    "start_time": "2022-05-02T14:18:09.020Z"
   },
   {
    "duration": 7,
    "start_time": "2022-05-02T14:18:09.059Z"
   },
   {
    "duration": 14,
    "start_time": "2022-05-02T14:18:09.069Z"
   },
   {
    "duration": 11,
    "start_time": "2022-05-02T14:18:09.085Z"
   },
   {
    "duration": 7,
    "start_time": "2022-05-02T14:18:09.098Z"
   },
   {
    "duration": 7,
    "start_time": "2022-05-02T14:18:09.108Z"
   },
   {
    "duration": 49,
    "start_time": "2022-05-02T14:18:09.117Z"
   },
   {
    "duration": 19,
    "start_time": "2022-05-02T14:18:09.169Z"
   },
   {
    "duration": 31,
    "start_time": "2022-05-02T14:18:09.191Z"
   },
   {
    "duration": 46,
    "start_time": "2022-05-02T14:18:09.224Z"
   },
   {
    "duration": 13,
    "start_time": "2022-05-02T14:18:09.281Z"
   },
   {
    "duration": 22,
    "start_time": "2022-05-02T14:18:09.296Z"
   },
   {
    "duration": 52,
    "start_time": "2022-05-02T14:18:09.320Z"
   },
   {
    "duration": 17,
    "start_time": "2022-05-02T14:18:09.374Z"
   },
   {
    "duration": 23,
    "start_time": "2022-05-02T14:18:09.395Z"
   },
   {
    "duration": 63,
    "start_time": "2022-05-02T14:18:09.420Z"
   },
   {
    "duration": 20,
    "start_time": "2022-05-02T14:18:09.485Z"
   },
   {
    "duration": 6,
    "start_time": "2022-05-02T14:18:09.508Z"
   },
   {
    "duration": 39,
    "start_time": "2022-05-02T14:18:09.517Z"
   },
   {
    "duration": 35,
    "start_time": "2022-05-02T14:18:09.559Z"
   },
   {
    "duration": 23,
    "start_time": "2022-05-02T14:18:09.597Z"
   },
   {
    "duration": 22,
    "start_time": "2022-05-02T14:18:09.623Z"
   },
   {
    "duration": 27,
    "start_time": "2022-05-02T14:18:09.648Z"
   },
   {
    "duration": 14,
    "start_time": "2022-05-02T14:18:09.677Z"
   },
   {
    "duration": 15,
    "start_time": "2022-05-02T14:18:09.693Z"
   },
   {
    "duration": 628,
    "start_time": "2022-05-02T14:18:09.710Z"
   },
   {
    "duration": 12,
    "start_time": "2022-05-02T14:18:10.340Z"
   },
   {
    "duration": 7,
    "start_time": "2022-05-02T14:18:10.355Z"
   },
   {
    "duration": 41,
    "start_time": "2022-05-02T14:18:10.365Z"
   },
   {
    "duration": 3,
    "start_time": "2022-05-02T14:18:10.408Z"
   },
   {
    "duration": 323,
    "start_time": "2022-05-02T14:18:10.413Z"
   },
   {
    "duration": 330,
    "start_time": "2022-05-02T14:18:10.739Z"
   },
   {
    "duration": 6,
    "start_time": "2022-05-02T14:18:11.072Z"
   },
   {
    "duration": 16,
    "start_time": "2022-05-02T14:18:11.080Z"
   },
   {
    "duration": 338,
    "start_time": "2022-05-02T14:18:11.099Z"
   },
   {
    "duration": 303,
    "start_time": "2022-05-02T14:18:11.439Z"
   },
   {
    "duration": 298,
    "start_time": "2022-05-02T14:18:11.744Z"
   },
   {
    "duration": 15,
    "start_time": "2022-05-02T14:18:12.051Z"
   },
   {
    "duration": 436,
    "start_time": "2022-05-02T14:18:12.069Z"
   },
   {
    "duration": 10,
    "start_time": "2022-05-02T14:18:12.508Z"
   },
   {
    "duration": 506,
    "start_time": "2022-05-02T14:18:12.521Z"
   },
   {
    "duration": 23,
    "start_time": "2022-05-02T14:18:13.030Z"
   },
   {
    "duration": 14,
    "start_time": "2022-05-02T14:18:13.056Z"
   },
   {
    "duration": 33,
    "start_time": "2022-05-02T14:18:13.078Z"
   },
   {
    "duration": 107,
    "start_time": "2022-05-02T14:18:13.113Z"
   },
   {
    "duration": 39,
    "start_time": "2022-05-02T14:18:13.222Z"
   },
   {
    "duration": 20,
    "start_time": "2022-05-02T14:18:13.264Z"
   },
   {
    "duration": 24,
    "start_time": "2022-05-02T14:18:13.287Z"
   },
   {
    "duration": 54,
    "start_time": "2022-05-02T14:18:13.313Z"
   },
   {
    "duration": 18,
    "start_time": "2022-05-02T14:18:13.370Z"
   },
   {
    "duration": 5,
    "start_time": "2022-05-02T14:18:13.391Z"
   },
   {
    "duration": 13,
    "start_time": "2022-05-02T14:18:13.398Z"
   },
   {
    "duration": 52,
    "start_time": "2022-05-02T14:18:13.413Z"
   },
   {
    "duration": 4,
    "start_time": "2022-05-02T14:18:13.467Z"
   },
   {
    "duration": 25,
    "start_time": "2022-05-02T14:18:13.473Z"
   },
   {
    "duration": 14,
    "start_time": "2022-05-02T14:18:13.500Z"
   },
   {
    "duration": 8,
    "start_time": "2022-05-02T14:18:13.516Z"
   },
   {
    "duration": 30,
    "start_time": "2022-05-02T14:18:13.526Z"
   },
   {
    "duration": 6,
    "start_time": "2022-05-02T14:18:13.558Z"
   },
   {
    "duration": 16,
    "start_time": "2022-05-02T14:18:13.566Z"
   },
   {
    "duration": 322,
    "start_time": "2022-05-02T14:18:13.585Z"
   },
   {
    "duration": 57,
    "start_time": "2022-05-02T14:18:13.909Z"
   },
   {
    "duration": 18,
    "start_time": "2022-05-02T14:18:13.968Z"
   },
   {
    "duration": 10,
    "start_time": "2022-05-02T14:18:13.988Z"
   },
   {
    "duration": 309,
    "start_time": "2022-05-02T14:18:14.001Z"
   },
   {
    "duration": 10,
    "start_time": "2022-05-02T14:18:14.312Z"
   },
   {
    "duration": 32,
    "start_time": "2022-05-02T14:18:14.324Z"
   },
   {
    "duration": 305,
    "start_time": "2022-05-02T14:18:14.359Z"
   },
   {
    "duration": 14,
    "start_time": "2022-05-02T14:18:14.667Z"
   },
   {
    "duration": 288,
    "start_time": "2022-05-02T14:18:14.684Z"
   },
   {
    "duration": 1688,
    "start_time": "2022-05-02T14:26:59.620Z"
   },
   {
    "duration": 3,
    "start_time": "2022-05-02T14:27:01.311Z"
   },
   {
    "duration": 153,
    "start_time": "2022-05-02T14:27:01.317Z"
   },
   {
    "duration": 33,
    "start_time": "2022-05-02T14:27:01.473Z"
   },
   {
    "duration": 47,
    "start_time": "2022-05-02T14:27:01.508Z"
   },
   {
    "duration": 111,
    "start_time": "2022-05-02T14:27:01.558Z"
   },
   {
    "duration": 111,
    "start_time": "2022-05-02T14:27:01.672Z"
   },
   {
    "duration": 12,
    "start_time": "2022-05-02T14:27:01.785Z"
   },
   {
    "duration": 23,
    "start_time": "2022-05-02T14:27:01.799Z"
   },
   {
    "duration": 5,
    "start_time": "2022-05-02T14:27:01.826Z"
   },
   {
    "duration": 54,
    "start_time": "2022-05-02T14:27:01.833Z"
   },
   {
    "duration": 14,
    "start_time": "2022-05-02T14:27:01.890Z"
   },
   {
    "duration": 12,
    "start_time": "2022-05-02T14:27:01.906Z"
   },
   {
    "duration": 33,
    "start_time": "2022-05-02T14:27:01.921Z"
   },
   {
    "duration": 21,
    "start_time": "2022-05-02T14:27:01.959Z"
   },
   {
    "duration": 18,
    "start_time": "2022-05-02T14:27:01.982Z"
   },
   {
    "duration": 23,
    "start_time": "2022-05-02T14:27:02.002Z"
   },
   {
    "duration": 13,
    "start_time": "2022-05-02T14:27:02.027Z"
   },
   {
    "duration": 13,
    "start_time": "2022-05-02T14:27:02.042Z"
   },
   {
    "duration": 14,
    "start_time": "2022-05-02T14:27:02.058Z"
   },
   {
    "duration": 18,
    "start_time": "2022-05-02T14:27:02.074Z"
   },
   {
    "duration": 8,
    "start_time": "2022-05-02T14:27:02.094Z"
   },
   {
    "duration": 7,
    "start_time": "2022-05-02T14:27:02.104Z"
   },
   {
    "duration": 7,
    "start_time": "2022-05-02T14:27:02.113Z"
   },
   {
    "duration": 6,
    "start_time": "2022-05-02T14:27:02.122Z"
   },
   {
    "duration": 5,
    "start_time": "2022-05-02T14:27:02.156Z"
   },
   {
    "duration": 31,
    "start_time": "2022-05-02T14:27:02.164Z"
   },
   {
    "duration": 7,
    "start_time": "2022-05-02T14:27:02.203Z"
   },
   {
    "duration": 8,
    "start_time": "2022-05-02T14:27:02.213Z"
   },
   {
    "duration": 46,
    "start_time": "2022-05-02T14:27:02.223Z"
   },
   {
    "duration": 6,
    "start_time": "2022-05-02T14:27:02.271Z"
   },
   {
    "duration": 10,
    "start_time": "2022-05-02T14:27:02.280Z"
   },
   {
    "duration": 19,
    "start_time": "2022-05-02T14:27:02.292Z"
   },
   {
    "duration": 7,
    "start_time": "2022-05-02T14:27:02.314Z"
   },
   {
    "duration": 32,
    "start_time": "2022-05-02T14:27:02.323Z"
   },
   {
    "duration": 6,
    "start_time": "2022-05-02T14:27:02.358Z"
   },
   {
    "duration": 7,
    "start_time": "2022-05-02T14:27:02.366Z"
   },
   {
    "duration": 18,
    "start_time": "2022-05-02T14:27:02.380Z"
   },
   {
    "duration": 63,
    "start_time": "2022-05-02T14:27:02.401Z"
   },
   {
    "duration": 29,
    "start_time": "2022-05-02T14:27:02.466Z"
   },
   {
    "duration": 15,
    "start_time": "2022-05-02T14:27:02.498Z"
   },
   {
    "duration": 43,
    "start_time": "2022-05-02T14:27:02.515Z"
   },
   {
    "duration": 28,
    "start_time": "2022-05-02T14:27:02.561Z"
   },
   {
    "duration": 15,
    "start_time": "2022-05-02T14:27:02.591Z"
   },
   {
    "duration": 20,
    "start_time": "2022-05-02T14:27:02.608Z"
   },
   {
    "duration": 41,
    "start_time": "2022-05-02T14:27:02.652Z"
   },
   {
    "duration": 19,
    "start_time": "2022-05-02T14:27:02.695Z"
   },
   {
    "duration": 5,
    "start_time": "2022-05-02T14:27:02.716Z"
   },
   {
    "duration": 47,
    "start_time": "2022-05-02T14:27:02.723Z"
   },
   {
    "duration": 19,
    "start_time": "2022-05-02T14:27:02.773Z"
   },
   {
    "duration": 18,
    "start_time": "2022-05-02T14:27:02.794Z"
   },
   {
    "duration": 10,
    "start_time": "2022-05-02T14:27:02.814Z"
   },
   {
    "duration": 29,
    "start_time": "2022-05-02T14:27:02.827Z"
   },
   {
    "duration": 8,
    "start_time": "2022-05-02T14:27:02.859Z"
   },
   {
    "duration": 11,
    "start_time": "2022-05-02T14:27:02.870Z"
   },
   {
    "duration": 595,
    "start_time": "2022-05-02T14:27:02.884Z"
   },
   {
    "duration": 6,
    "start_time": "2022-05-02T14:27:03.481Z"
   },
   {
    "duration": 10,
    "start_time": "2022-05-02T14:27:03.489Z"
   },
   {
    "duration": 65,
    "start_time": "2022-05-02T14:27:03.501Z"
   },
   {
    "duration": 4,
    "start_time": "2022-05-02T14:27:03.568Z"
   },
   {
    "duration": 320,
    "start_time": "2022-05-02T14:27:03.574Z"
   },
   {
    "duration": 341,
    "start_time": "2022-05-02T14:27:03.897Z"
   },
   {
    "duration": 5,
    "start_time": "2022-05-02T14:27:04.240Z"
   },
   {
    "duration": 30,
    "start_time": "2022-05-02T14:27:04.247Z"
   },
   {
    "duration": 320,
    "start_time": "2022-05-02T14:27:04.279Z"
   },
   {
    "duration": 325,
    "start_time": "2022-05-02T14:27:04.602Z"
   },
   {
    "duration": 284,
    "start_time": "2022-05-02T14:27:04.929Z"
   },
   {
    "duration": 11,
    "start_time": "2022-05-02T14:27:05.216Z"
   },
   {
    "duration": 336,
    "start_time": "2022-05-02T14:27:05.230Z"
   },
   {
    "duration": 10,
    "start_time": "2022-05-02T14:27:05.570Z"
   },
   {
    "duration": 403,
    "start_time": "2022-05-02T14:27:05.583Z"
   },
   {
    "duration": 11,
    "start_time": "2022-05-02T14:27:05.989Z"
   },
   {
    "duration": 15,
    "start_time": "2022-05-02T14:27:06.002Z"
   },
   {
    "duration": 61,
    "start_time": "2022-05-02T14:27:06.020Z"
   },
   {
    "duration": 74,
    "start_time": "2022-05-02T14:27:06.084Z"
   },
   {
    "duration": 22,
    "start_time": "2022-05-02T14:27:06.160Z"
   },
   {
    "duration": 16,
    "start_time": "2022-05-02T14:27:06.184Z"
   },
   {
    "duration": 17,
    "start_time": "2022-05-02T14:27:06.202Z"
   },
   {
    "duration": 19,
    "start_time": "2022-05-02T14:27:06.257Z"
   },
   {
    "duration": 16,
    "start_time": "2022-05-02T14:27:06.278Z"
   },
   {
    "duration": 21,
    "start_time": "2022-05-02T14:27:06.297Z"
   },
   {
    "duration": 35,
    "start_time": "2022-05-02T14:27:06.329Z"
   },
   {
    "duration": 19,
    "start_time": "2022-05-02T14:27:06.367Z"
   },
   {
    "duration": 15,
    "start_time": "2022-05-02T14:27:06.389Z"
   },
   {
    "duration": 21,
    "start_time": "2022-05-02T14:27:06.406Z"
   },
   {
    "duration": 34,
    "start_time": "2022-05-02T14:27:06.430Z"
   },
   {
    "duration": 6,
    "start_time": "2022-05-02T14:27:06.466Z"
   },
   {
    "duration": 7,
    "start_time": "2022-05-02T14:27:06.475Z"
   },
   {
    "duration": 11,
    "start_time": "2022-05-02T14:27:06.484Z"
   },
   {
    "duration": 10,
    "start_time": "2022-05-02T14:27:06.498Z"
   },
   {
    "duration": 333,
    "start_time": "2022-05-02T14:27:06.510Z"
   },
   {
    "duration": 46,
    "start_time": "2022-05-02T14:27:06.845Z"
   },
   {
    "duration": 17,
    "start_time": "2022-05-02T14:27:06.893Z"
   },
   {
    "duration": 25,
    "start_time": "2022-05-02T14:27:06.913Z"
   },
   {
    "duration": 327,
    "start_time": "2022-05-02T14:27:06.941Z"
   },
   {
    "duration": 12,
    "start_time": "2022-05-02T14:27:07.270Z"
   },
   {
    "duration": 12,
    "start_time": "2022-05-02T14:27:07.285Z"
   },
   {
    "duration": 330,
    "start_time": "2022-05-02T14:27:07.299Z"
   },
   {
    "duration": 32,
    "start_time": "2022-05-02T14:27:07.631Z"
   },
   {
    "duration": 304,
    "start_time": "2022-05-02T14:27:07.665Z"
   }
  ],
  "kernelspec": {
   "display_name": "Python 3 (ipykernel)",
   "language": "python",
   "name": "python3"
  },
  "language_info": {
   "codemirror_mode": {
    "name": "ipython",
    "version": 3
   },
   "file_extension": ".py",
   "mimetype": "text/x-python",
   "name": "python",
   "nbconvert_exporter": "python",
   "pygments_lexer": "ipython3",
   "version": "3.9.5"
  },
  "toc": {
   "base_numbering": 1,
   "nav_menu": {},
   "number_sections": true,
   "sideBar": true,
   "skip_h1_title": true,
   "title_cell": "Содержание",
   "title_sidebar": "Contents",
   "toc_cell": true,
   "toc_position": {
    "height": "calc(100% - 180px)",
    "left": "10px",
    "top": "150px",
    "width": "366.391px"
   },
   "toc_section_display": true,
   "toc_window_display": true
  }
 },
 "nbformat": 4,
 "nbformat_minor": 4
}
