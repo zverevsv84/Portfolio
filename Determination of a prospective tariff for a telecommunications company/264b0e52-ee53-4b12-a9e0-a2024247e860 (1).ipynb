{
 "cells": [
  {
   "cell_type": "markdown",
   "id": "033bee4f",
   "metadata": {},
   "source": [
    "#### Сергей, привет! \n",
    "\n",
    "Меня зовут Максим Попов, и я буду проверять твой проект. Давай будем общаться на «ты». Но если тебе комфортнее на «вы», обязательно сообщи мне об этом. \n",
    "По ходу тетрадки ты найдешь комментарии к проекту, они будут в отдельных ячейках Markdown с заголовком «Комментарий ревьюера». Постарайся учесть эти комментарии для дальнейших проектов.\n",
    "\n",
    "---\n",
    "\n",
    "Я буду отмечать комментарии цветом и примечанием. В конце заголовка комментаaрия будет указан номер итерации проверки. Пожалуйста, не удаляй и не правь мои комментарии\n",
    "\n",
    "Критично - требует исправления, влияет на удачное выполнение проекта\n",
    "\n",
    "Рекомендация - комментарий является рекомендацией или советом. Mожешь учесть их при выполнении будущих заданий. На твое усмотрение\n",
    "\n",
    "Отлично - Так отмечены удачные решения и подходы, на которые стоит опираться в будущих проектах\n",
    "\n",
    "<div class=\"alert alert-block alert-danger\">\n",
    "    \n",
    "\n",
    "### Комментарий от ревьюера\n",
    "Критично\n",
    "\n",
    "Такой комментарий нужно исправить обязательно, он критически влияет на удачное выполнение проекта.\n",
    "</div>\n",
    "    \n",
    "---\n",
    "\n",
    "<div class=\"alert alert-block alert-warning\">\n",
    "    \n",
    "\n",
    "### Комментарий от ревьюера\n",
    "Рекомендация\n",
    "\n",
    "Такой комментарий является рекомендацией или советом. Mожешь учесть их при выполнении будущих заданий. На твое усмотрение. \n",
    "</div>\n",
    "\n",
    "---\n",
    "\n",
    "<div class=\"alert alert-block alert-success\">\n",
    "    \n",
    "\n",
    "### Комментарий от ревьюера\n",
    "Отлично\n",
    "    \n",
    "Так отмечены удачные решения и подходы, на которые стоит опираться в будущих проектах\n",
    "</div>"
   ]
  },
  {
   "cell_type": "markdown",
   "id": "1bf42277",
   "metadata": {},
   "source": [
    "<div class=\"alert alert-block alert-success\">\n",
    "    \n",
    "    \n",
    "### Комментарий от ревьюера v_1\n",
    "    \n",
    "Сергей, отличная работа, но следующие моменты надо исправить\n",
    "    \n",
    "1. Расчет выручки\n",
    "2. Длительность звонков в исследовательском анализе\n",
    "    \n",
    "Подробные комментарии по ходу работы\n",
    "    \n",
    "Желтые комментарии-рекомендации на твое усмотрение.\n",
    "    \n",
    "Если есть вопросы ко мне, можешь оставить их в отдельном комментарие\n",
    "</div>"
   ]
  },
  {
   "cell_type": "markdown",
   "id": "af5dc153",
   "metadata": {},
   "source": [
    "<div class=\"alert alert-block alert-success\">\n",
    "  \n",
    "### Комментарий от ревьюера v_2\n",
    "    \n",
    "Сергей, привет!\n",
    "    \n",
    "Отлично, все критичные комментарии отработаны!\n",
    "    \n",
    "У тебя получился отличный проект, успеха в дальнейшем обучении!\n",
    "    \n",
    "Немного полезного материала))\n",
    "\n",
    "Наткнулся на новое видео от Карпова про джойны в пандах, крайне полезно посмотреть\n",
    "    \n",
    "https://www.youtube.com/watch?v=McXzllkKWjk&ab_channel=Karpov.Courses\n",
    "</div>"
   ]
  },
  {
   "cell_type": "markdown",
   "id": "96b8bbdb",
   "metadata": {},
   "source": [
    "# Определение перспективного тарифа для телеком-компании"
   ]
  },
  {
   "cell_type": "markdown",
   "id": "32000453",
   "metadata": {},
   "source": [
    "#### Задачи исследования"
   ]
  },
  {
   "cell_type": "markdown",
   "id": "fbac5dee",
   "metadata": {},
   "source": [
    "1. Подготовить данные к исследованию.\n",
    "\n",
    "\n",
    "2. Анализ данных.\n",
    "\n",
    "    Опишем поведение клиентов оператора, исходя из выборки. Сколько минут разговора, сколько сообщений и какой объём интернет-трафика требуется пользователям каждого тарифа в месяц? Посчитаем среднее количество, дисперсию и стандартное отклонение. Постройте гистограммы. Опишите распределения.\n",
    "    \n",
    "    \n",
    "3. Проверка гипотез.\n",
    "\n",
    "- средняя выручка пользователей тарифов «Ультра» и «Смарт» различаются;\n",
    "\n",
    "- средняя выручка пользователей из Москвы отличается от выручки пользователей из других регионов.\n",
    "\n",
    "4. Общий вывод"
   ]
  },
  {
   "cell_type": "markdown",
   "id": "05af7d7b",
   "metadata": {},
   "source": [
    "####  Описание данных"
   ]
  },
  {
   "cell_type": "markdown",
   "id": "6fcc4980",
   "metadata": {},
   "source": [
    "**Таблица users (информация о пользователях):**\n",
    "\n",
    "- user_id — уникальный идентификатор пользователя\n",
    "- first_name — имя пользователя\n",
    "- last_name — фамилия пользователя\n",
    "- age — возраст пользователя (годы)\n",
    "- reg_date — дата подключения тарифа (день, месяц, год)\n",
    "- churn_date — дата прекращения пользования тарифом (если значение пропущено, то тариф ещё действовал на момент выгрузки данных)\n",
    "- city — город проживания пользователя\n",
    "- tariff — название тарифного плана\n",
    "\n",
    "**Таблица calls (информация о звонках):**\n",
    "- id — уникальный номер звонка\n",
    "- call_date — дата звонка\n",
    "- duration — длительность звонка в минутах\n",
    "- user_id — идентификатор пользователя, сделавшего звонок\n",
    "\n",
    "**Таблица messages (информация о сообщениях):**\n",
    "- id — уникальный номер сообщения\n",
    "- message_date — дата сообщения\n",
    "- user_id — идентификатор пользователя, отправившего сообщение\n",
    "\n",
    "**Таблица internet (информация об интернет-сессиях):**\n",
    "- id — уникальный номер сессии\n",
    "- mb_used — объём потраченного за сессию интернет-трафика (в мегабайтах)\n",
    "- session_date — дата интернет-сессии\n",
    "- user_id — идентификатор пользователя\n",
    "\n",
    "**Таблица tariffs (информация о тарифах):**\n",
    "- tariff_name — название тарифа\n",
    "- rub_monthly_fee — ежемесячная абонентская плата в рублях\n",
    "- minutes_included — количество минут разговора в месяц, включённых в абонентскую плату\n",
    "- messages_included — количество сообщений в месяц, включённых в абонентскую плату\n",
    "- mb_per_month_included — объём интернет-трафика, включённого в абонентскую плату (в мегабайтах)\n",
    "- rub_per_minute — стоимость минуты разговора сверх тарифного пакета (например, если в тарифе 100 минут разговора в месяц, то со 101 минуты будет взиматься плата)\n",
    "- rub_per_message — стоимость отправки сообщения сверх тарифного пакета\n",
    "- rub_per_gb — стоимость дополнительного гигабайта интернет-трафика сверх тарифного пакета (1 гигабайт = 1024 мегабайта)\n"
   ]
  },
  {
   "cell_type": "markdown",
   "id": "dc3eaec2",
   "metadata": {},
   "source": [
    "**Описание тарифов**\n",
    "\n",
    "**Тариф «Смарт»**\n",
    "- Ежемесячная плата: 550 рублей\n",
    "- Включено 500 минут разговора, 50 сообщений и 15 Гб интернет-трафика\n",
    "- Стоимость услуг сверх тарифного пакета:\n",
    "- минута разговора: 3 рубля\n",
    "- сообщение: 3 рубля\n",
    "- 1 Гб интернет-трафика: 200 рублей\n",
    "\n",
    "**Тариф «Ультра»**\n",
    "- Ежемесячная плата: 1950 рублей\n",
    "- Включено 3000 минут разговора, 1000 сообщений и 30 Гб интернет-трафика\n",
    "- Стоимость услуг сверх тарифного пакета:\n",
    "- минута разговора: 1 рубль\n",
    "- сообщение: 1 рубль\n",
    "- 1 Гб интернет-трафика: 150 рублей\n",
    "\n",
    "**Примечание**\n",
    "\n",
    "«Мегалайн» всегда округляет секунды до минут, а мегабайты — до гигабайт. Каждый звонок округляется отдельно: даже если он длился всего 1 секунду, будет засчитан как 1 минута.\n",
    "Для веб-трафика отдельные сессии не считаются. Вместо этого общая сумма за месяц округляется в бо́льшую сторону. Если абонент использует 1025 мегабайт в этом месяце, с него возьмут плату за 2 гигабайта."
   ]
  },
  {
   "cell_type": "markdown",
   "id": "7dc3a9e9",
   "metadata": {},
   "source": [
    "\n",
    "<div class=\"alert alert-block alert-success\">\n",
    "    \n",
    "\n",
    "### Комментарий от ревьюера v_1\n",
    "Отлично\n",
    "    \n",
    "Молодец, что в начале проекте знакомишь с ним, так работа приобретает структуру и лучше воспринимается.\n",
    "</div>"
   ]
  },
  {
   "cell_type": "markdown",
   "id": "1a1c4549",
   "metadata": {},
   "source": [
    "# Изучение данных"
   ]
  },
  {
   "cell_type": "code",
   "execution_count": 1,
   "id": "56a6cc37",
   "metadata": {},
   "outputs": [],
   "source": [
    "import pandas as pd\n",
    "import seaborn as sns\n",
    "import matplotlib.pyplot as plt\n",
    "import numpy as np\n",
    "from scipy import stats as st"
   ]
  },
  {
   "cell_type": "markdown",
   "id": "e256c892",
   "metadata": {},
   "source": [
    "<div class=\"alert alert-block alert-success\">\n",
    "    \n",
    "\n",
    "### Комментарий от ревьюера v_1\n",
    "Отлично\n",
    "    \n",
    "Отлично, библиотеки импортированы в начале тетрадки, в отдельной ячейке.\n",
    "</div>"
   ]
  },
  {
   "cell_type": "code",
   "execution_count": 2,
   "id": "5955a5f4",
   "metadata": {},
   "outputs": [],
   "source": [
    "pd.set_option('display.max_columns', None)\n",
    "pd.options.display.float_format = '{:,.2f}'.format"
   ]
  },
  {
   "cell_type": "code",
   "execution_count": 3,
   "id": "9bf6f701",
   "metadata": {},
   "outputs": [],
   "source": [
    "try:\n",
    "    calls = pd.read_csv('/datasets/calls.csv')\n",
    "    internet = pd.read_csv('/datasets/internet.csv')\n",
    "    messages = pd.read_csv('/datasets/messages.csv')\n",
    "    tariffs = pd.read_csv('/datasets/tariffs.csv')\n",
    "    users = pd.read_csv('/datasets/users.csv')\n",
    "except:\n",
    "    calls = pd.read_csv('calls.csv')\n",
    "    internet = pd.read_csv('internet.csv')\n",
    "    messages = pd.read_csv('messages.csv')\n",
    "    tariffs = pd.read_csv('tariffs.csv')\n",
    "    users = pd.read_csv('users.csv')"
   ]
  },
  {
   "cell_type": "markdown",
   "id": "89c53720",
   "metadata": {},
   "source": [
    "#### Оценим полученные данные, посмотрим на типы данных, поищем ошибки и исправим их, если они есть "
   ]
  },
  {
   "cell_type": "code",
   "execution_count": 4,
   "id": "c69a15c0",
   "metadata": {},
   "outputs": [
    {
     "data": {
      "text/html": [
       "<div>\n",
       "<style scoped>\n",
       "    .dataframe tbody tr th:only-of-type {\n",
       "        vertical-align: middle;\n",
       "    }\n",
       "\n",
       "    .dataframe tbody tr th {\n",
       "        vertical-align: top;\n",
       "    }\n",
       "\n",
       "    .dataframe thead th {\n",
       "        text-align: right;\n",
       "    }\n",
       "</style>\n",
       "<table border=\"1\" class=\"dataframe\">\n",
       "  <thead>\n",
       "    <tr style=\"text-align: right;\">\n",
       "      <th></th>\n",
       "      <th>id</th>\n",
       "      <th>call_date</th>\n",
       "      <th>duration</th>\n",
       "      <th>user_id</th>\n",
       "    </tr>\n",
       "  </thead>\n",
       "  <tbody>\n",
       "    <tr>\n",
       "      <th>0</th>\n",
       "      <td>1000_0</td>\n",
       "      <td>2018-07-25</td>\n",
       "      <td>0.00</td>\n",
       "      <td>1000</td>\n",
       "    </tr>\n",
       "    <tr>\n",
       "      <th>1</th>\n",
       "      <td>1000_1</td>\n",
       "      <td>2018-08-17</td>\n",
       "      <td>0.00</td>\n",
       "      <td>1000</td>\n",
       "    </tr>\n",
       "    <tr>\n",
       "      <th>2</th>\n",
       "      <td>1000_2</td>\n",
       "      <td>2018-06-11</td>\n",
       "      <td>2.85</td>\n",
       "      <td>1000</td>\n",
       "    </tr>\n",
       "    <tr>\n",
       "      <th>3</th>\n",
       "      <td>1000_3</td>\n",
       "      <td>2018-09-21</td>\n",
       "      <td>13.80</td>\n",
       "      <td>1000</td>\n",
       "    </tr>\n",
       "    <tr>\n",
       "      <th>4</th>\n",
       "      <td>1000_4</td>\n",
       "      <td>2018-12-15</td>\n",
       "      <td>5.18</td>\n",
       "      <td>1000</td>\n",
       "    </tr>\n",
       "  </tbody>\n",
       "</table>\n",
       "</div>"
      ],
      "text/plain": [
       "       id   call_date  duration  user_id\n",
       "0  1000_0  2018-07-25      0.00     1000\n",
       "1  1000_1  2018-08-17      0.00     1000\n",
       "2  1000_2  2018-06-11      2.85     1000\n",
       "3  1000_3  2018-09-21     13.80     1000\n",
       "4  1000_4  2018-12-15      5.18     1000"
      ]
     },
     "execution_count": 4,
     "metadata": {},
     "output_type": "execute_result"
    }
   ],
   "source": [
    "calls.head()"
   ]
  },
  {
   "cell_type": "code",
   "execution_count": 5,
   "id": "f84231e4",
   "metadata": {},
   "outputs": [
    {
     "data": {
      "text/html": [
       "<div>\n",
       "<style scoped>\n",
       "    .dataframe tbody tr th:only-of-type {\n",
       "        vertical-align: middle;\n",
       "    }\n",
       "\n",
       "    .dataframe tbody tr th {\n",
       "        vertical-align: top;\n",
       "    }\n",
       "\n",
       "    .dataframe thead th {\n",
       "        text-align: right;\n",
       "    }\n",
       "</style>\n",
       "<table border=\"1\" class=\"dataframe\">\n",
       "  <thead>\n",
       "    <tr style=\"text-align: right;\">\n",
       "      <th></th>\n",
       "      <th>id</th>\n",
       "      <th>call_date</th>\n",
       "      <th>duration</th>\n",
       "      <th>user_id</th>\n",
       "    </tr>\n",
       "  </thead>\n",
       "  <tbody>\n",
       "    <tr>\n",
       "      <th>202602</th>\n",
       "      <td>1499_215</td>\n",
       "      <td>2018-12-26</td>\n",
       "      <td>0.76</td>\n",
       "      <td>1499</td>\n",
       "    </tr>\n",
       "    <tr>\n",
       "      <th>202603</th>\n",
       "      <td>1499_216</td>\n",
       "      <td>2018-10-18</td>\n",
       "      <td>18.83</td>\n",
       "      <td>1499</td>\n",
       "    </tr>\n",
       "    <tr>\n",
       "      <th>202604</th>\n",
       "      <td>1499_217</td>\n",
       "      <td>2018-11-10</td>\n",
       "      <td>10.81</td>\n",
       "      <td>1499</td>\n",
       "    </tr>\n",
       "    <tr>\n",
       "      <th>202605</th>\n",
       "      <td>1499_218</td>\n",
       "      <td>2018-10-06</td>\n",
       "      <td>4.27</td>\n",
       "      <td>1499</td>\n",
       "    </tr>\n",
       "    <tr>\n",
       "      <th>202606</th>\n",
       "      <td>1499_219</td>\n",
       "      <td>2018-12-14</td>\n",
       "      <td>19.62</td>\n",
       "      <td>1499</td>\n",
       "    </tr>\n",
       "  </tbody>\n",
       "</table>\n",
       "</div>"
      ],
      "text/plain": [
       "              id   call_date  duration  user_id\n",
       "202602  1499_215  2018-12-26      0.76     1499\n",
       "202603  1499_216  2018-10-18     18.83     1499\n",
       "202604  1499_217  2018-11-10     10.81     1499\n",
       "202605  1499_218  2018-10-06      4.27     1499\n",
       "202606  1499_219  2018-12-14     19.62     1499"
      ]
     },
     "execution_count": 5,
     "metadata": {},
     "output_type": "execute_result"
    }
   ],
   "source": [
    "calls.tail()"
   ]
  },
  {
   "cell_type": "code",
   "execution_count": 6,
   "id": "42e1ea98",
   "metadata": {},
   "outputs": [
    {
     "data": {
      "text/html": [
       "<div>\n",
       "<style scoped>\n",
       "    .dataframe tbody tr th:only-of-type {\n",
       "        vertical-align: middle;\n",
       "    }\n",
       "\n",
       "    .dataframe tbody tr th {\n",
       "        vertical-align: top;\n",
       "    }\n",
       "\n",
       "    .dataframe thead th {\n",
       "        text-align: right;\n",
       "    }\n",
       "</style>\n",
       "<table border=\"1\" class=\"dataframe\">\n",
       "  <thead>\n",
       "    <tr style=\"text-align: right;\">\n",
       "      <th></th>\n",
       "      <th>count</th>\n",
       "      <th>mean</th>\n",
       "      <th>std</th>\n",
       "      <th>min</th>\n",
       "      <th>25%</th>\n",
       "      <th>50%</th>\n",
       "      <th>75%</th>\n",
       "      <th>max</th>\n",
       "    </tr>\n",
       "  </thead>\n",
       "  <tbody>\n",
       "    <tr>\n",
       "      <th>duration</th>\n",
       "      <td>202,607.00</td>\n",
       "      <td>6.76</td>\n",
       "      <td>5.84</td>\n",
       "      <td>0.00</td>\n",
       "      <td>1.30</td>\n",
       "      <td>6.00</td>\n",
       "      <td>10.70</td>\n",
       "      <td>38.00</td>\n",
       "    </tr>\n",
       "    <tr>\n",
       "      <th>user_id</th>\n",
       "      <td>202,607.00</td>\n",
       "      <td>1,253.94</td>\n",
       "      <td>144.72</td>\n",
       "      <td>1,000.00</td>\n",
       "      <td>1,126.00</td>\n",
       "      <td>1,260.00</td>\n",
       "      <td>1,379.00</td>\n",
       "      <td>1,499.00</td>\n",
       "    </tr>\n",
       "  </tbody>\n",
       "</table>\n",
       "</div>"
      ],
      "text/plain": [
       "              count     mean    std      min      25%      50%      75%  \\\n",
       "duration 202,607.00     6.76   5.84     0.00     1.30     6.00    10.70   \n",
       "user_id  202,607.00 1,253.94 144.72 1,000.00 1,126.00 1,260.00 1,379.00   \n",
       "\n",
       "              max  \n",
       "duration    38.00  \n",
       "user_id  1,499.00  "
      ]
     },
     "execution_count": 6,
     "metadata": {},
     "output_type": "execute_result"
    }
   ],
   "source": [
    "calls.describe().T"
   ]
  },
  {
   "cell_type": "code",
   "execution_count": 7,
   "id": "3702e461",
   "metadata": {},
   "outputs": [
    {
     "name": "stdout",
     "output_type": "stream",
     "text": [
      "<class 'pandas.core.frame.DataFrame'>\n",
      "RangeIndex: 202607 entries, 0 to 202606\n",
      "Data columns (total 4 columns):\n",
      " #   Column     Non-Null Count   Dtype  \n",
      "---  ------     --------------   -----  \n",
      " 0   id         202607 non-null  object \n",
      " 1   call_date  202607 non-null  object \n",
      " 2   duration   202607 non-null  float64\n",
      " 3   user_id    202607 non-null  int64  \n",
      "dtypes: float64(1), int64(1), object(2)\n",
      "memory usage: 6.2+ MB\n"
     ]
    }
   ],
   "source": [
    "calls.info()"
   ]
  },
  {
   "cell_type": "markdown",
   "id": "7a7f7ae9",
   "metadata": {},
   "source": [
    "Исправм формат даты"
   ]
  },
  {
   "cell_type": "code",
   "execution_count": 8,
   "id": "572d9081",
   "metadata": {},
   "outputs": [],
   "source": [
    "calls['call_date'] = pd.to_datetime(calls['call_date'], format='%Y-%m-%d')"
   ]
  },
  {
   "cell_type": "markdown",
   "id": "6bbc4543",
   "metadata": {},
   "source": [
    "По условию тарифа звонки округляются до минуты. Учтем это условие и округлим до минуты и приведем к целочисленному типу"
   ]
  },
  {
   "cell_type": "code",
   "execution_count": 9,
   "id": "8277becf",
   "metadata": {},
   "outputs": [],
   "source": [
    "calls['duration'] = calls['duration'].apply(np.ceil).astype('int')"
   ]
  },
  {
   "cell_type": "markdown",
   "id": "0b4decd6",
   "metadata": {},
   "source": [
    "<div class=\"alert alert-block alert-success\">\n",
    "    \n",
    "\n",
    "### Комментарий от ревьюера v_1\n",
    "Отлично\n",
    "    \n",
    "Молодец, что не упускаешь этого, но np.ceil не нуждается в apply, т.к. может работать сразу со всем столбцом.\n",
    "</div>"
   ]
  },
  {
   "cell_type": "markdown",
   "id": "a33ee3c9",
   "metadata": {},
   "source": [
    "С данными по звонкам calls визуально все в порядке, прокусков значений нет, выбросы не обнаруженны, название столбцов  в порядке. Формат времени поправили."
   ]
  },
  {
   "cell_type": "code",
   "execution_count": 10,
   "id": "81daa1b7",
   "metadata": {},
   "outputs": [
    {
     "data": {
      "text/html": [
       "<div>\n",
       "<style scoped>\n",
       "    .dataframe tbody tr th:only-of-type {\n",
       "        vertical-align: middle;\n",
       "    }\n",
       "\n",
       "    .dataframe tbody tr th {\n",
       "        vertical-align: top;\n",
       "    }\n",
       "\n",
       "    .dataframe thead th {\n",
       "        text-align: right;\n",
       "    }\n",
       "</style>\n",
       "<table border=\"1\" class=\"dataframe\">\n",
       "  <thead>\n",
       "    <tr style=\"text-align: right;\">\n",
       "      <th></th>\n",
       "      <th>Unnamed: 0</th>\n",
       "      <th>id</th>\n",
       "      <th>mb_used</th>\n",
       "      <th>session_date</th>\n",
       "      <th>user_id</th>\n",
       "    </tr>\n",
       "  </thead>\n",
       "  <tbody>\n",
       "    <tr>\n",
       "      <th>0</th>\n",
       "      <td>0</td>\n",
       "      <td>1000_0</td>\n",
       "      <td>112.95</td>\n",
       "      <td>2018-11-25</td>\n",
       "      <td>1000</td>\n",
       "    </tr>\n",
       "    <tr>\n",
       "      <th>1</th>\n",
       "      <td>1</td>\n",
       "      <td>1000_1</td>\n",
       "      <td>1,052.81</td>\n",
       "      <td>2018-09-07</td>\n",
       "      <td>1000</td>\n",
       "    </tr>\n",
       "    <tr>\n",
       "      <th>2</th>\n",
       "      <td>2</td>\n",
       "      <td>1000_2</td>\n",
       "      <td>1,197.26</td>\n",
       "      <td>2018-06-25</td>\n",
       "      <td>1000</td>\n",
       "    </tr>\n",
       "    <tr>\n",
       "      <th>3</th>\n",
       "      <td>3</td>\n",
       "      <td>1000_3</td>\n",
       "      <td>550.27</td>\n",
       "      <td>2018-08-22</td>\n",
       "      <td>1000</td>\n",
       "    </tr>\n",
       "    <tr>\n",
       "      <th>4</th>\n",
       "      <td>4</td>\n",
       "      <td>1000_4</td>\n",
       "      <td>302.56</td>\n",
       "      <td>2018-09-24</td>\n",
       "      <td>1000</td>\n",
       "    </tr>\n",
       "  </tbody>\n",
       "</table>\n",
       "</div>"
      ],
      "text/plain": [
       "   Unnamed: 0      id  mb_used session_date  user_id\n",
       "0           0  1000_0   112.95   2018-11-25     1000\n",
       "1           1  1000_1 1,052.81   2018-09-07     1000\n",
       "2           2  1000_2 1,197.26   2018-06-25     1000\n",
       "3           3  1000_3   550.27   2018-08-22     1000\n",
       "4           4  1000_4   302.56   2018-09-24     1000"
      ]
     },
     "execution_count": 10,
     "metadata": {},
     "output_type": "execute_result"
    }
   ],
   "source": [
    "internet.head()"
   ]
  },
  {
   "cell_type": "code",
   "execution_count": 11,
   "id": "95a8a82c",
   "metadata": {},
   "outputs": [
    {
     "data": {
      "text/html": [
       "<div>\n",
       "<style scoped>\n",
       "    .dataframe tbody tr th:only-of-type {\n",
       "        vertical-align: middle;\n",
       "    }\n",
       "\n",
       "    .dataframe tbody tr th {\n",
       "        vertical-align: top;\n",
       "    }\n",
       "\n",
       "    .dataframe thead th {\n",
       "        text-align: right;\n",
       "    }\n",
       "</style>\n",
       "<table border=\"1\" class=\"dataframe\">\n",
       "  <thead>\n",
       "    <tr style=\"text-align: right;\">\n",
       "      <th></th>\n",
       "      <th>Unnamed: 0</th>\n",
       "      <th>id</th>\n",
       "      <th>mb_used</th>\n",
       "      <th>session_date</th>\n",
       "      <th>user_id</th>\n",
       "    </tr>\n",
       "  </thead>\n",
       "  <tbody>\n",
       "    <tr>\n",
       "      <th>149391</th>\n",
       "      <td>149391</td>\n",
       "      <td>1499_152</td>\n",
       "      <td>318.90</td>\n",
       "      <td>2018-10-03</td>\n",
       "      <td>1499</td>\n",
       "    </tr>\n",
       "    <tr>\n",
       "      <th>149392</th>\n",
       "      <td>149392</td>\n",
       "      <td>1499_153</td>\n",
       "      <td>490.13</td>\n",
       "      <td>2018-12-14</td>\n",
       "      <td>1499</td>\n",
       "    </tr>\n",
       "    <tr>\n",
       "      <th>149393</th>\n",
       "      <td>149393</td>\n",
       "      <td>1499_154</td>\n",
       "      <td>0.00</td>\n",
       "      <td>2018-10-27</td>\n",
       "      <td>1499</td>\n",
       "    </tr>\n",
       "    <tr>\n",
       "      <th>149394</th>\n",
       "      <td>149394</td>\n",
       "      <td>1499_155</td>\n",
       "      <td>1,246.32</td>\n",
       "      <td>2018-11-26</td>\n",
       "      <td>1499</td>\n",
       "    </tr>\n",
       "    <tr>\n",
       "      <th>149395</th>\n",
       "      <td>149395</td>\n",
       "      <td>1499_156</td>\n",
       "      <td>544.37</td>\n",
       "      <td>2018-10-26</td>\n",
       "      <td>1499</td>\n",
       "    </tr>\n",
       "  </tbody>\n",
       "</table>\n",
       "</div>"
      ],
      "text/plain": [
       "        Unnamed: 0        id  mb_used session_date  user_id\n",
       "149391      149391  1499_152   318.90   2018-10-03     1499\n",
       "149392      149392  1499_153   490.13   2018-12-14     1499\n",
       "149393      149393  1499_154     0.00   2018-10-27     1499\n",
       "149394      149394  1499_155 1,246.32   2018-11-26     1499\n",
       "149395      149395  1499_156   544.37   2018-10-26     1499"
      ]
     },
     "execution_count": 11,
     "metadata": {},
     "output_type": "execute_result"
    }
   ],
   "source": [
    "internet.tail()"
   ]
  },
  {
   "cell_type": "code",
   "execution_count": 12,
   "id": "b597d5ab",
   "metadata": {},
   "outputs": [
    {
     "data": {
      "text/html": [
       "<div>\n",
       "<style scoped>\n",
       "    .dataframe tbody tr th:only-of-type {\n",
       "        vertical-align: middle;\n",
       "    }\n",
       "\n",
       "    .dataframe tbody tr th {\n",
       "        vertical-align: top;\n",
       "    }\n",
       "\n",
       "    .dataframe thead th {\n",
       "        text-align: right;\n",
       "    }\n",
       "</style>\n",
       "<table border=\"1\" class=\"dataframe\">\n",
       "  <thead>\n",
       "    <tr style=\"text-align: right;\">\n",
       "      <th></th>\n",
       "      <th>count</th>\n",
       "      <th>mean</th>\n",
       "      <th>std</th>\n",
       "      <th>min</th>\n",
       "      <th>25%</th>\n",
       "      <th>50%</th>\n",
       "      <th>75%</th>\n",
       "      <th>max</th>\n",
       "    </tr>\n",
       "  </thead>\n",
       "  <tbody>\n",
       "    <tr>\n",
       "      <th>Unnamed: 0</th>\n",
       "      <td>149,396.00</td>\n",
       "      <td>74,697.50</td>\n",
       "      <td>43,127.05</td>\n",
       "      <td>0.00</td>\n",
       "      <td>37,348.75</td>\n",
       "      <td>74,697.50</td>\n",
       "      <td>112,046.25</td>\n",
       "      <td>149,395.00</td>\n",
       "    </tr>\n",
       "    <tr>\n",
       "      <th>mb_used</th>\n",
       "      <td>149,396.00</td>\n",
       "      <td>370.19</td>\n",
       "      <td>278.30</td>\n",
       "      <td>0.00</td>\n",
       "      <td>138.19</td>\n",
       "      <td>348.01</td>\n",
       "      <td>559.55</td>\n",
       "      <td>1,724.83</td>\n",
       "    </tr>\n",
       "    <tr>\n",
       "      <th>user_id</th>\n",
       "      <td>149,396.00</td>\n",
       "      <td>1,252.10</td>\n",
       "      <td>144.05</td>\n",
       "      <td>1,000.00</td>\n",
       "      <td>1,130.00</td>\n",
       "      <td>1,251.00</td>\n",
       "      <td>1,380.00</td>\n",
       "      <td>1,499.00</td>\n",
       "    </tr>\n",
       "  </tbody>\n",
       "</table>\n",
       "</div>"
      ],
      "text/plain": [
       "                count      mean       std      min       25%       50%  \\\n",
       "Unnamed: 0 149,396.00 74,697.50 43,127.05     0.00 37,348.75 74,697.50   \n",
       "mb_used    149,396.00    370.19    278.30     0.00    138.19    348.01   \n",
       "user_id    149,396.00  1,252.10    144.05 1,000.00  1,130.00  1,251.00   \n",
       "\n",
       "                  75%        max  \n",
       "Unnamed: 0 112,046.25 149,395.00  \n",
       "mb_used        559.55   1,724.83  \n",
       "user_id      1,380.00   1,499.00  "
      ]
     },
     "execution_count": 12,
     "metadata": {},
     "output_type": "execute_result"
    }
   ],
   "source": [
    "internet.describe().T"
   ]
  },
  {
   "cell_type": "code",
   "execution_count": 13,
   "id": "8fcb2452",
   "metadata": {},
   "outputs": [],
   "source": [
    "internet['session_date'] = pd.to_datetime(internet['session_date'], format='%Y-%m-%d')"
   ]
  },
  {
   "cell_type": "markdown",
   "id": "dfd58db4",
   "metadata": {},
   "source": [
    "С данными по интернут траффику internet визуально все в порядке, прокусков значений нет, выбросы не обнаруженны, название столбцов  в порядке. Формат времени исправили"
   ]
  },
  {
   "cell_type": "code",
   "execution_count": 14,
   "id": "12db51f8",
   "metadata": {},
   "outputs": [
    {
     "data": {
      "text/html": [
       "<div>\n",
       "<style scoped>\n",
       "    .dataframe tbody tr th:only-of-type {\n",
       "        vertical-align: middle;\n",
       "    }\n",
       "\n",
       "    .dataframe tbody tr th {\n",
       "        vertical-align: top;\n",
       "    }\n",
       "\n",
       "    .dataframe thead th {\n",
       "        text-align: right;\n",
       "    }\n",
       "</style>\n",
       "<table border=\"1\" class=\"dataframe\">\n",
       "  <thead>\n",
       "    <tr style=\"text-align: right;\">\n",
       "      <th></th>\n",
       "      <th>id</th>\n",
       "      <th>message_date</th>\n",
       "      <th>user_id</th>\n",
       "    </tr>\n",
       "  </thead>\n",
       "  <tbody>\n",
       "    <tr>\n",
       "      <th>0</th>\n",
       "      <td>1000_0</td>\n",
       "      <td>2018-06-27</td>\n",
       "      <td>1000</td>\n",
       "    </tr>\n",
       "    <tr>\n",
       "      <th>1</th>\n",
       "      <td>1000_1</td>\n",
       "      <td>2018-10-08</td>\n",
       "      <td>1000</td>\n",
       "    </tr>\n",
       "    <tr>\n",
       "      <th>2</th>\n",
       "      <td>1000_2</td>\n",
       "      <td>2018-08-04</td>\n",
       "      <td>1000</td>\n",
       "    </tr>\n",
       "    <tr>\n",
       "      <th>3</th>\n",
       "      <td>1000_3</td>\n",
       "      <td>2018-06-16</td>\n",
       "      <td>1000</td>\n",
       "    </tr>\n",
       "    <tr>\n",
       "      <th>4</th>\n",
       "      <td>1000_4</td>\n",
       "      <td>2018-12-05</td>\n",
       "      <td>1000</td>\n",
       "    </tr>\n",
       "  </tbody>\n",
       "</table>\n",
       "</div>"
      ],
      "text/plain": [
       "       id message_date  user_id\n",
       "0  1000_0   2018-06-27     1000\n",
       "1  1000_1   2018-10-08     1000\n",
       "2  1000_2   2018-08-04     1000\n",
       "3  1000_3   2018-06-16     1000\n",
       "4  1000_4   2018-12-05     1000"
      ]
     },
     "execution_count": 14,
     "metadata": {},
     "output_type": "execute_result"
    }
   ],
   "source": [
    "messages.head()"
   ]
  },
  {
   "cell_type": "code",
   "execution_count": 15,
   "id": "ec8af4aa",
   "metadata": {},
   "outputs": [
    {
     "name": "stdout",
     "output_type": "stream",
     "text": [
      "<class 'pandas.core.frame.DataFrame'>\n",
      "RangeIndex: 123036 entries, 0 to 123035\n",
      "Data columns (total 3 columns):\n",
      " #   Column        Non-Null Count   Dtype \n",
      "---  ------        --------------   ----- \n",
      " 0   id            123036 non-null  object\n",
      " 1   message_date  123036 non-null  object\n",
      " 2   user_id       123036 non-null  int64 \n",
      "dtypes: int64(1), object(2)\n",
      "memory usage: 2.8+ MB\n"
     ]
    }
   ],
   "source": [
    "messages.info()"
   ]
  },
  {
   "cell_type": "code",
   "execution_count": 16,
   "id": "a885cde4",
   "metadata": {},
   "outputs": [
    {
     "data": {
      "text/html": [
       "<div>\n",
       "<style scoped>\n",
       "    .dataframe tbody tr th:only-of-type {\n",
       "        vertical-align: middle;\n",
       "    }\n",
       "\n",
       "    .dataframe tbody tr th {\n",
       "        vertical-align: top;\n",
       "    }\n",
       "\n",
       "    .dataframe thead th {\n",
       "        text-align: right;\n",
       "    }\n",
       "</style>\n",
       "<table border=\"1\" class=\"dataframe\">\n",
       "  <thead>\n",
       "    <tr style=\"text-align: right;\">\n",
       "      <th></th>\n",
       "      <th>count</th>\n",
       "      <th>mean</th>\n",
       "      <th>std</th>\n",
       "      <th>min</th>\n",
       "      <th>25%</th>\n",
       "      <th>50%</th>\n",
       "      <th>75%</th>\n",
       "      <th>max</th>\n",
       "    </tr>\n",
       "  </thead>\n",
       "  <tbody>\n",
       "    <tr>\n",
       "      <th>user_id</th>\n",
       "      <td>123,036.00</td>\n",
       "      <td>1,256.99</td>\n",
       "      <td>143.52</td>\n",
       "      <td>1,000.00</td>\n",
       "      <td>1,134.00</td>\n",
       "      <td>1,271.00</td>\n",
       "      <td>1,381.00</td>\n",
       "      <td>1,499.00</td>\n",
       "    </tr>\n",
       "  </tbody>\n",
       "</table>\n",
       "</div>"
      ],
      "text/plain": [
       "             count     mean    std      min      25%      50%      75%  \\\n",
       "user_id 123,036.00 1,256.99 143.52 1,000.00 1,134.00 1,271.00 1,381.00   \n",
       "\n",
       "             max  \n",
       "user_id 1,499.00  "
      ]
     },
     "execution_count": 16,
     "metadata": {},
     "output_type": "execute_result"
    }
   ],
   "source": [
    "messages.describe().T"
   ]
  },
  {
   "cell_type": "code",
   "execution_count": 17,
   "id": "5dae2726",
   "metadata": {},
   "outputs": [],
   "source": [
    "messages['message_date'] = pd.to_datetime(messages['message_date'], format='%Y-%m-%d')"
   ]
  },
  {
   "cell_type": "markdown",
   "id": "ec92eb2f",
   "metadata": {},
   "source": [
    "С данными по сообщениям messages визуально все в порядке, прокусков значений нет, выбросы не обнаруженны, название столбцов  в порядке. Формат времени исправили"
   ]
  },
  {
   "cell_type": "code",
   "execution_count": 18,
   "id": "c73ee2cd",
   "metadata": {},
   "outputs": [
    {
     "data": {
      "text/html": [
       "<div>\n",
       "<style scoped>\n",
       "    .dataframe tbody tr th:only-of-type {\n",
       "        vertical-align: middle;\n",
       "    }\n",
       "\n",
       "    .dataframe tbody tr th {\n",
       "        vertical-align: top;\n",
       "    }\n",
       "\n",
       "    .dataframe thead th {\n",
       "        text-align: right;\n",
       "    }\n",
       "</style>\n",
       "<table border=\"1\" class=\"dataframe\">\n",
       "  <thead>\n",
       "    <tr style=\"text-align: right;\">\n",
       "      <th></th>\n",
       "      <th>messages_included</th>\n",
       "      <th>mb_per_month_included</th>\n",
       "      <th>minutes_included</th>\n",
       "      <th>rub_monthly_fee</th>\n",
       "      <th>rub_per_gb</th>\n",
       "      <th>rub_per_message</th>\n",
       "      <th>rub_per_minute</th>\n",
       "      <th>tariff_name</th>\n",
       "    </tr>\n",
       "  </thead>\n",
       "  <tbody>\n",
       "    <tr>\n",
       "      <th>0</th>\n",
       "      <td>50</td>\n",
       "      <td>15360</td>\n",
       "      <td>500</td>\n",
       "      <td>550</td>\n",
       "      <td>200</td>\n",
       "      <td>3</td>\n",
       "      <td>3</td>\n",
       "      <td>smart</td>\n",
       "    </tr>\n",
       "    <tr>\n",
       "      <th>1</th>\n",
       "      <td>1000</td>\n",
       "      <td>30720</td>\n",
       "      <td>3000</td>\n",
       "      <td>1950</td>\n",
       "      <td>150</td>\n",
       "      <td>1</td>\n",
       "      <td>1</td>\n",
       "      <td>ultra</td>\n",
       "    </tr>\n",
       "  </tbody>\n",
       "</table>\n",
       "</div>"
      ],
      "text/plain": [
       "   messages_included  mb_per_month_included  minutes_included  \\\n",
       "0                 50                  15360               500   \n",
       "1               1000                  30720              3000   \n",
       "\n",
       "   rub_monthly_fee  rub_per_gb  rub_per_message  rub_per_minute tariff_name  \n",
       "0              550         200                3               3       smart  \n",
       "1             1950         150                1               1       ultra  "
      ]
     },
     "execution_count": 18,
     "metadata": {},
     "output_type": "execute_result"
    }
   ],
   "source": [
    "tariffs.head()"
   ]
  },
  {
   "cell_type": "markdown",
   "id": "edb20010",
   "metadata": {},
   "source": [
    "С данными по тарифам все впорядке."
   ]
  },
  {
   "cell_type": "code",
   "execution_count": 19,
   "id": "3a4d2f8b",
   "metadata": {},
   "outputs": [
    {
     "data": {
      "text/html": [
       "<div>\n",
       "<style scoped>\n",
       "    .dataframe tbody tr th:only-of-type {\n",
       "        vertical-align: middle;\n",
       "    }\n",
       "\n",
       "    .dataframe tbody tr th {\n",
       "        vertical-align: top;\n",
       "    }\n",
       "\n",
       "    .dataframe thead th {\n",
       "        text-align: right;\n",
       "    }\n",
       "</style>\n",
       "<table border=\"1\" class=\"dataframe\">\n",
       "  <thead>\n",
       "    <tr style=\"text-align: right;\">\n",
       "      <th></th>\n",
       "      <th>user_id</th>\n",
       "      <th>age</th>\n",
       "      <th>churn_date</th>\n",
       "      <th>city</th>\n",
       "      <th>first_name</th>\n",
       "      <th>last_name</th>\n",
       "      <th>reg_date</th>\n",
       "      <th>tariff</th>\n",
       "    </tr>\n",
       "  </thead>\n",
       "  <tbody>\n",
       "    <tr>\n",
       "      <th>0</th>\n",
       "      <td>1000</td>\n",
       "      <td>52</td>\n",
       "      <td>NaN</td>\n",
       "      <td>Краснодар</td>\n",
       "      <td>Рафаил</td>\n",
       "      <td>Верещагин</td>\n",
       "      <td>2018-05-25</td>\n",
       "      <td>ultra</td>\n",
       "    </tr>\n",
       "    <tr>\n",
       "      <th>1</th>\n",
       "      <td>1001</td>\n",
       "      <td>41</td>\n",
       "      <td>NaN</td>\n",
       "      <td>Москва</td>\n",
       "      <td>Иван</td>\n",
       "      <td>Ежов</td>\n",
       "      <td>2018-11-01</td>\n",
       "      <td>smart</td>\n",
       "    </tr>\n",
       "    <tr>\n",
       "      <th>2</th>\n",
       "      <td>1002</td>\n",
       "      <td>59</td>\n",
       "      <td>NaN</td>\n",
       "      <td>Стерлитамак</td>\n",
       "      <td>Евгений</td>\n",
       "      <td>Абрамович</td>\n",
       "      <td>2018-06-17</td>\n",
       "      <td>smart</td>\n",
       "    </tr>\n",
       "    <tr>\n",
       "      <th>3</th>\n",
       "      <td>1003</td>\n",
       "      <td>23</td>\n",
       "      <td>NaN</td>\n",
       "      <td>Москва</td>\n",
       "      <td>Белла</td>\n",
       "      <td>Белякова</td>\n",
       "      <td>2018-08-17</td>\n",
       "      <td>ultra</td>\n",
       "    </tr>\n",
       "    <tr>\n",
       "      <th>4</th>\n",
       "      <td>1004</td>\n",
       "      <td>68</td>\n",
       "      <td>NaN</td>\n",
       "      <td>Новокузнецк</td>\n",
       "      <td>Татьяна</td>\n",
       "      <td>Авдеенко</td>\n",
       "      <td>2018-05-14</td>\n",
       "      <td>ultra</td>\n",
       "    </tr>\n",
       "  </tbody>\n",
       "</table>\n",
       "</div>"
      ],
      "text/plain": [
       "   user_id  age churn_date         city first_name  last_name    reg_date  \\\n",
       "0     1000   52        NaN    Краснодар     Рафаил  Верещагин  2018-05-25   \n",
       "1     1001   41        NaN       Москва       Иван       Ежов  2018-11-01   \n",
       "2     1002   59        NaN  Стерлитамак    Евгений  Абрамович  2018-06-17   \n",
       "3     1003   23        NaN       Москва      Белла   Белякова  2018-08-17   \n",
       "4     1004   68        NaN  Новокузнецк    Татьяна   Авдеенко  2018-05-14   \n",
       "\n",
       "  tariff  \n",
       "0  ultra  \n",
       "1  smart  \n",
       "2  smart  \n",
       "3  ultra  \n",
       "4  ultra  "
      ]
     },
     "execution_count": 19,
     "metadata": {},
     "output_type": "execute_result"
    }
   ],
   "source": [
    "users.head()"
   ]
  },
  {
   "cell_type": "code",
   "execution_count": 20,
   "id": "68cb5091",
   "metadata": {},
   "outputs": [
    {
     "data": {
      "text/html": [
       "<div>\n",
       "<style scoped>\n",
       "    .dataframe tbody tr th:only-of-type {\n",
       "        vertical-align: middle;\n",
       "    }\n",
       "\n",
       "    .dataframe tbody tr th {\n",
       "        vertical-align: top;\n",
       "    }\n",
       "\n",
       "    .dataframe thead th {\n",
       "        text-align: right;\n",
       "    }\n",
       "</style>\n",
       "<table border=\"1\" class=\"dataframe\">\n",
       "  <thead>\n",
       "    <tr style=\"text-align: right;\">\n",
       "      <th></th>\n",
       "      <th>user_id</th>\n",
       "      <th>age</th>\n",
       "      <th>churn_date</th>\n",
       "      <th>city</th>\n",
       "      <th>first_name</th>\n",
       "      <th>last_name</th>\n",
       "      <th>reg_date</th>\n",
       "      <th>tariff</th>\n",
       "    </tr>\n",
       "  </thead>\n",
       "  <tbody>\n",
       "    <tr>\n",
       "      <th>495</th>\n",
       "      <td>1495</td>\n",
       "      <td>65</td>\n",
       "      <td>NaN</td>\n",
       "      <td>Иркутск</td>\n",
       "      <td>Авксентий</td>\n",
       "      <td>Фокин</td>\n",
       "      <td>2018-08-28</td>\n",
       "      <td>ultra</td>\n",
       "    </tr>\n",
       "    <tr>\n",
       "      <th>496</th>\n",
       "      <td>1496</td>\n",
       "      <td>36</td>\n",
       "      <td>NaN</td>\n",
       "      <td>Вологда</td>\n",
       "      <td>Трифон</td>\n",
       "      <td>Блохин</td>\n",
       "      <td>2018-01-27</td>\n",
       "      <td>smart</td>\n",
       "    </tr>\n",
       "    <tr>\n",
       "      <th>497</th>\n",
       "      <td>1497</td>\n",
       "      <td>32</td>\n",
       "      <td>NaN</td>\n",
       "      <td>Челябинск</td>\n",
       "      <td>Каролина</td>\n",
       "      <td>Агеева</td>\n",
       "      <td>2018-10-09</td>\n",
       "      <td>smart</td>\n",
       "    </tr>\n",
       "    <tr>\n",
       "      <th>498</th>\n",
       "      <td>1498</td>\n",
       "      <td>68</td>\n",
       "      <td>2018-10-25</td>\n",
       "      <td>Владикавказ</td>\n",
       "      <td>Всеволод</td>\n",
       "      <td>Акимчин</td>\n",
       "      <td>2018-07-19</td>\n",
       "      <td>smart</td>\n",
       "    </tr>\n",
       "    <tr>\n",
       "      <th>499</th>\n",
       "      <td>1499</td>\n",
       "      <td>35</td>\n",
       "      <td>NaN</td>\n",
       "      <td>Пермь</td>\n",
       "      <td>Гектор</td>\n",
       "      <td>Корнилов</td>\n",
       "      <td>2018-09-27</td>\n",
       "      <td>smart</td>\n",
       "    </tr>\n",
       "  </tbody>\n",
       "</table>\n",
       "</div>"
      ],
      "text/plain": [
       "     user_id  age  churn_date         city first_name last_name    reg_date  \\\n",
       "495     1495   65         NaN      Иркутск  Авксентий     Фокин  2018-08-28   \n",
       "496     1496   36         NaN      Вологда     Трифон    Блохин  2018-01-27   \n",
       "497     1497   32         NaN    Челябинск   Каролина    Агеева  2018-10-09   \n",
       "498     1498   68  2018-10-25  Владикавказ   Всеволод   Акимчин  2018-07-19   \n",
       "499     1499   35         NaN        Пермь     Гектор  Корнилов  2018-09-27   \n",
       "\n",
       "    tariff  \n",
       "495  ultra  \n",
       "496  smart  \n",
       "497  smart  \n",
       "498  smart  \n",
       "499  smart  "
      ]
     },
     "execution_count": 20,
     "metadata": {},
     "output_type": "execute_result"
    }
   ],
   "source": [
    "users.tail(\n",
    ")"
   ]
  },
  {
   "cell_type": "code",
   "execution_count": 21,
   "id": "03147480",
   "metadata": {},
   "outputs": [
    {
     "name": "stdout",
     "output_type": "stream",
     "text": [
      "<class 'pandas.core.frame.DataFrame'>\n",
      "RangeIndex: 500 entries, 0 to 499\n",
      "Data columns (total 8 columns):\n",
      " #   Column      Non-Null Count  Dtype \n",
      "---  ------      --------------  ----- \n",
      " 0   user_id     500 non-null    int64 \n",
      " 1   age         500 non-null    int64 \n",
      " 2   churn_date  38 non-null     object\n",
      " 3   city        500 non-null    object\n",
      " 4   first_name  500 non-null    object\n",
      " 5   last_name   500 non-null    object\n",
      " 6   reg_date    500 non-null    object\n",
      " 7   tariff      500 non-null    object\n",
      "dtypes: int64(2), object(6)\n",
      "memory usage: 31.4+ KB\n"
     ]
    }
   ],
   "source": [
    "users.info()"
   ]
  },
  {
   "cell_type": "code",
   "execution_count": 22,
   "id": "c8bd4b64",
   "metadata": {},
   "outputs": [],
   "source": [
    "users['churn_date'] = pd.to_datetime(users['churn_date'], format='%Y-%m-%d')"
   ]
  },
  {
   "cell_type": "code",
   "execution_count": 23,
   "id": "2f30d39a",
   "metadata": {},
   "outputs": [],
   "source": [
    "users['reg_date'] = pd.to_datetime(users['reg_date'], format='%Y-%m-%d')"
   ]
  },
  {
   "cell_type": "markdown",
   "id": "f60d2906",
   "metadata": {},
   "source": [
    "Даты поправили, все остальное с юзерами в порядке, готовы к анализу"
   ]
  },
  {
   "cell_type": "markdown",
   "id": "495c2958",
   "metadata": {},
   "source": [
    "<div class=\"alert alert-block alert-success\">\n",
    "    \n",
    "\n",
    "### Комментарий от ревьюера v_1\n",
    "Отлично\n",
    "    \n",
    "Отличный взгляд на данные, можем приступать к предобработке\n",
    "    \n",
    "Но ты делаешь одни и те же действия с каждой таблицей, напиши функцию (добавив в неее проверок, на пропуски, дубликаты и т. п.) и используй ее для каждой таблицы здесь и в следующих проектах\n",
    "\n",
    "\n",
    "</div>"
   ]
  },
  {
   "cell_type": "markdown",
   "id": "a56e4fab",
   "metadata": {},
   "source": [
    "<div class=\"alert alert-block alert-warning\">\n",
    "    \n",
    "\n",
    "### Комментарий от ревьюера v_1\n",
    "Рекомендация\n",
    "\n",
    "В задании есть пункт \"Найдите и исправьте ошибки в данных, если они есть\". Ты проверяешь данные дескрайбом.\n",
    "    \n",
    "Это не лучший выбор для проверки, оптимальнее всего построить гистограммы и увидеть распределения\n",
    "    \n",
    "Ошибки - это не только большие/маленькие значения. Может возникнуть техническая ошибка при выгрузке этих данных. Если бы у тебя в таблице, например, половина звонков было бы ровно 2.2 минуты (по какой-то причине данные так выгрузились), describe бы этого не показал, а на гистограмме все сразу видно.\n",
    "</div>\n",
    "    "
   ]
  },
  {
   "cell_type": "markdown",
   "id": "c4d5a804",
   "metadata": {},
   "source": [
    "<div class=\"alert alert-block alert-info\">\n",
    "<b>💾 Fixed:</b> \n",
    "Посмотрим на рспроеделение звонков на гистограмме ✔\n",
    "</div>"
   ]
  },
  {
   "cell_type": "markdown",
   "id": "380877af",
   "metadata": {},
   "source": [
    "<div class=\"alert alert-block alert-success\">\n",
    "\n",
    "    \n",
    "### Комментарий от ревьюера v_2\n",
    "\n",
    "👍🏻\n",
    "    \n",
    "Но трафик тоже можно было проверить)\n",
    "    \n",
    "</div>"
   ]
  },
  {
   "cell_type": "code",
   "execution_count": 24,
   "id": "314bceb8",
   "metadata": {},
   "outputs": [
    {
     "data": {
      "text/plain": [
       "[Text(0.5, 1.0, 'Распределение длительности звонков по минутм'),\n",
       " Text(0.5, 0, 'Длительность звонка в минутах'),\n",
       " Text(0, 0.5, 'Количество')]"
      ]
     },
     "execution_count": 24,
     "metadata": {},
     "output_type": "execute_result"
    },
    {
     "data": {
      "image/png": "[encoded data removed]",
      "text/plain": [
       "<Figure size 432x288 with 1 Axes>"
      ]
     },
     "metadata": {
      "needs_background": "light"
     },
     "output_type": "display_data"
    }
   ],
   "source": [
    "calls['duration'].plot(kind='hist', bins=15, label='ultra', alpha=0.7, grid=True).set(\n",
    "    title='Распределение длительности звонков по минутм', xlabel='Длительность звонка в минутах', ylabel='Количество')"
   ]
  },
  {
   "cell_type": "markdown",
   "id": "9dedcb0b",
   "metadata": {},
   "source": [
    "Большое количество звонков до 2,5 минут в целом не выглядит как ошибка."
   ]
  },
  {
   "cell_type": "markdown",
   "id": "85fd62c7",
   "metadata": {},
   "source": [
    "# Анализ данных"
   ]
  },
  {
   "cell_type": "markdown",
   "id": "bd54b400",
   "metadata": {},
   "source": [
    "### Посчитаем для каждого пользователя количество сделанных звонков и израсходованных минут разговора по месяцам"
   ]
  },
  {
   "cell_type": "code",
   "execution_count": 25,
   "id": "4f56795d",
   "metadata": {},
   "outputs": [],
   "source": [
    "calls['month'] = calls['call_date'].dt.month_name()"
   ]
  },
  {
   "cell_type": "code",
   "execution_count": 26,
   "id": "b2025d75",
   "metadata": {},
   "outputs": [
    {
     "data": {
      "text/html": [
       "<div>\n",
       "<style scoped>\n",
       "    .dataframe tbody tr th:only-of-type {\n",
       "        vertical-align: middle;\n",
       "    }\n",
       "\n",
       "    .dataframe tbody tr th {\n",
       "        vertical-align: top;\n",
       "    }\n",
       "\n",
       "    .dataframe thead th {\n",
       "        text-align: right;\n",
       "    }\n",
       "</style>\n",
       "<table border=\"1\" class=\"dataframe\">\n",
       "  <thead>\n",
       "    <tr style=\"text-align: right;\">\n",
       "      <th></th>\n",
       "      <th>id</th>\n",
       "      <th>call_date</th>\n",
       "      <th>duration</th>\n",
       "      <th>user_id</th>\n",
       "      <th>month</th>\n",
       "    </tr>\n",
       "  </thead>\n",
       "  <tbody>\n",
       "    <tr>\n",
       "      <th>0</th>\n",
       "      <td>1000_0</td>\n",
       "      <td>2018-07-25</td>\n",
       "      <td>0</td>\n",
       "      <td>1000</td>\n",
       "      <td>July</td>\n",
       "    </tr>\n",
       "    <tr>\n",
       "      <th>1</th>\n",
       "      <td>1000_1</td>\n",
       "      <td>2018-08-17</td>\n",
       "      <td>0</td>\n",
       "      <td>1000</td>\n",
       "      <td>August</td>\n",
       "    </tr>\n",
       "    <tr>\n",
       "      <th>2</th>\n",
       "      <td>1000_2</td>\n",
       "      <td>2018-06-11</td>\n",
       "      <td>3</td>\n",
       "      <td>1000</td>\n",
       "      <td>June</td>\n",
       "    </tr>\n",
       "    <tr>\n",
       "      <th>3</th>\n",
       "      <td>1000_3</td>\n",
       "      <td>2018-09-21</td>\n",
       "      <td>14</td>\n",
       "      <td>1000</td>\n",
       "      <td>September</td>\n",
       "    </tr>\n",
       "    <tr>\n",
       "      <th>4</th>\n",
       "      <td>1000_4</td>\n",
       "      <td>2018-12-15</td>\n",
       "      <td>6</td>\n",
       "      <td>1000</td>\n",
       "      <td>December</td>\n",
       "    </tr>\n",
       "  </tbody>\n",
       "</table>\n",
       "</div>"
      ],
      "text/plain": [
       "       id  call_date  duration  user_id      month\n",
       "0  1000_0 2018-07-25         0     1000       July\n",
       "1  1000_1 2018-08-17         0     1000     August\n",
       "2  1000_2 2018-06-11         3     1000       June\n",
       "3  1000_3 2018-09-21        14     1000  September\n",
       "4  1000_4 2018-12-15         6     1000   December"
      ]
     },
     "execution_count": 26,
     "metadata": {},
     "output_type": "execute_result"
    }
   ],
   "source": [
    "calls.head()"
   ]
  },
  {
   "cell_type": "code",
   "execution_count": 27,
   "id": "f3bd2a88",
   "metadata": {},
   "outputs": [
    {
     "data": {
      "text/html": [
       "<div>\n",
       "<style scoped>\n",
       "    .dataframe tbody tr th:only-of-type {\n",
       "        vertical-align: middle;\n",
       "    }\n",
       "\n",
       "    .dataframe tbody tr th {\n",
       "        vertical-align: top;\n",
       "    }\n",
       "\n",
       "    .dataframe thead th {\n",
       "        text-align: right;\n",
       "    }\n",
       "</style>\n",
       "<table border=\"1\" class=\"dataframe\">\n",
       "  <thead>\n",
       "    <tr style=\"text-align: right;\">\n",
       "      <th></th>\n",
       "      <th></th>\n",
       "      <th>amount_calls</th>\n",
       "      <th>amount_duration_calls</th>\n",
       "    </tr>\n",
       "    <tr>\n",
       "      <th>month</th>\n",
       "      <th>user_id</th>\n",
       "      <th></th>\n",
       "      <th></th>\n",
       "    </tr>\n",
       "  </thead>\n",
       "  <tbody>\n",
       "    <tr>\n",
       "      <th rowspan=\"5\" valign=\"top\">April</th>\n",
       "      <th>1005</th>\n",
       "      <td>101</td>\n",
       "      <td>712</td>\n",
       "    </tr>\n",
       "    <tr>\n",
       "      <th>1006</th>\n",
       "      <td>47</td>\n",
       "      <td>356</td>\n",
       "    </tr>\n",
       "    <tr>\n",
       "      <th>1007</th>\n",
       "      <td>25</td>\n",
       "      <td>198</td>\n",
       "    </tr>\n",
       "    <tr>\n",
       "      <th>1009</th>\n",
       "      <td>39</td>\n",
       "      <td>324</td>\n",
       "    </tr>\n",
       "    <tr>\n",
       "      <th>1011</th>\n",
       "      <td>62</td>\n",
       "      <td>371</td>\n",
       "    </tr>\n",
       "  </tbody>\n",
       "</table>\n",
       "</div>"
      ],
      "text/plain": [
       "               amount_calls  amount_duration_calls\n",
       "month user_id                                     \n",
       "April 1005              101                    712\n",
       "      1006               47                    356\n",
       "      1007               25                    198\n",
       "      1009               39                    324\n",
       "      1011               62                    371"
      ]
     },
     "execution_count": 27,
     "metadata": {},
     "output_type": "execute_result"
    }
   ],
   "source": [
    "group_calls = calls.groupby(['month', 'user_id']).agg({'duration': ['count', 'sum']})\n",
    "group_calls.columns = ['amount_calls', 'amount_duration_calls']\n",
    "group_calls.head()"
   ]
  },
  {
   "cell_type": "markdown",
   "id": "f8574e8d",
   "metadata": {},
   "source": [
    "### Посчитаем для каждого пользователя количество отправленных сообщений по месяцам"
   ]
  },
  {
   "cell_type": "code",
   "execution_count": 28,
   "id": "5cbed963",
   "metadata": {},
   "outputs": [],
   "source": [
    "messages['month'] = messages['message_date'].dt.month_name()"
   ]
  },
  {
   "cell_type": "code",
   "execution_count": 29,
   "id": "5b9e4733",
   "metadata": {},
   "outputs": [
    {
     "data": {
      "text/html": [
       "<div>\n",
       "<style scoped>\n",
       "    .dataframe tbody tr th:only-of-type {\n",
       "        vertical-align: middle;\n",
       "    }\n",
       "\n",
       "    .dataframe tbody tr th {\n",
       "        vertical-align: top;\n",
       "    }\n",
       "\n",
       "    .dataframe thead th {\n",
       "        text-align: right;\n",
       "    }\n",
       "</style>\n",
       "<table border=\"1\" class=\"dataframe\">\n",
       "  <thead>\n",
       "    <tr style=\"text-align: right;\">\n",
       "      <th></th>\n",
       "      <th>id</th>\n",
       "      <th>message_date</th>\n",
       "      <th>user_id</th>\n",
       "      <th>month</th>\n",
       "    </tr>\n",
       "  </thead>\n",
       "  <tbody>\n",
       "    <tr>\n",
       "      <th>0</th>\n",
       "      <td>1000_0</td>\n",
       "      <td>2018-06-27</td>\n",
       "      <td>1000</td>\n",
       "      <td>June</td>\n",
       "    </tr>\n",
       "    <tr>\n",
       "      <th>1</th>\n",
       "      <td>1000_1</td>\n",
       "      <td>2018-10-08</td>\n",
       "      <td>1000</td>\n",
       "      <td>October</td>\n",
       "    </tr>\n",
       "    <tr>\n",
       "      <th>2</th>\n",
       "      <td>1000_2</td>\n",
       "      <td>2018-08-04</td>\n",
       "      <td>1000</td>\n",
       "      <td>August</td>\n",
       "    </tr>\n",
       "    <tr>\n",
       "      <th>3</th>\n",
       "      <td>1000_3</td>\n",
       "      <td>2018-06-16</td>\n",
       "      <td>1000</td>\n",
       "      <td>June</td>\n",
       "    </tr>\n",
       "    <tr>\n",
       "      <th>4</th>\n",
       "      <td>1000_4</td>\n",
       "      <td>2018-12-05</td>\n",
       "      <td>1000</td>\n",
       "      <td>December</td>\n",
       "    </tr>\n",
       "  </tbody>\n",
       "</table>\n",
       "</div>"
      ],
      "text/plain": [
       "       id message_date  user_id     month\n",
       "0  1000_0   2018-06-27     1000      June\n",
       "1  1000_1   2018-10-08     1000   October\n",
       "2  1000_2   2018-08-04     1000    August\n",
       "3  1000_3   2018-06-16     1000      June\n",
       "4  1000_4   2018-12-05     1000  December"
      ]
     },
     "execution_count": 29,
     "metadata": {},
     "output_type": "execute_result"
    }
   ],
   "source": [
    "messages.head()"
   ]
  },
  {
   "cell_type": "code",
   "execution_count": 30,
   "id": "29e7e2d4",
   "metadata": {},
   "outputs": [
    {
     "data": {
      "text/html": [
       "<div>\n",
       "<style scoped>\n",
       "    .dataframe tbody tr th:only-of-type {\n",
       "        vertical-align: middle;\n",
       "    }\n",
       "\n",
       "    .dataframe tbody tr th {\n",
       "        vertical-align: top;\n",
       "    }\n",
       "\n",
       "    .dataframe thead th {\n",
       "        text-align: right;\n",
       "    }\n",
       "</style>\n",
       "<table border=\"1\" class=\"dataframe\">\n",
       "  <thead>\n",
       "    <tr style=\"text-align: right;\">\n",
       "      <th></th>\n",
       "      <th></th>\n",
       "      <th>amount_messages_sms</th>\n",
       "    </tr>\n",
       "    <tr>\n",
       "      <th>month</th>\n",
       "      <th>user_id</th>\n",
       "      <th></th>\n",
       "    </tr>\n",
       "  </thead>\n",
       "  <tbody>\n",
       "    <tr>\n",
       "      <th rowspan=\"5\" valign=\"top\">April</th>\n",
       "      <th>1005</th>\n",
       "      <td>41</td>\n",
       "    </tr>\n",
       "    <tr>\n",
       "      <th>1007</th>\n",
       "      <td>11</td>\n",
       "    </tr>\n",
       "    <tr>\n",
       "      <th>1009</th>\n",
       "      <td>14</td>\n",
       "    </tr>\n",
       "    <tr>\n",
       "      <th>1011</th>\n",
       "      <td>7</td>\n",
       "    </tr>\n",
       "    <tr>\n",
       "      <th>1012</th>\n",
       "      <td>21</td>\n",
       "    </tr>\n",
       "  </tbody>\n",
       "</table>\n",
       "</div>"
      ],
      "text/plain": [
       "               amount_messages_sms\n",
       "month user_id                     \n",
       "April 1005                      41\n",
       "      1007                      11\n",
       "      1009                      14\n",
       "      1011                       7\n",
       "      1012                      21"
      ]
     },
     "execution_count": 30,
     "metadata": {},
     "output_type": "execute_result"
    }
   ],
   "source": [
    "group_message = messages.groupby(['month', 'user_id']).agg({'user_id':'count'})\n",
    "group_message.columns = ['amount_messages_sms']\n",
    "group_message.head()"
   ]
  },
  {
   "cell_type": "markdown",
   "id": "375da6a2",
   "metadata": {},
   "source": [
    "### Посчитаем для каждого пользователя объем израсходованного интернет-трафика по месяцам"
   ]
  },
  {
   "cell_type": "code",
   "execution_count": 31,
   "id": "9410efd9",
   "metadata": {},
   "outputs": [],
   "source": [
    "internet['month'] =internet['session_date'].dt.month_name()"
   ]
  },
  {
   "cell_type": "code",
   "execution_count": 32,
   "id": "0dbf00f3",
   "metadata": {},
   "outputs": [
    {
     "data": {
      "text/html": [
       "<div>\n",
       "<style scoped>\n",
       "    .dataframe tbody tr th:only-of-type {\n",
       "        vertical-align: middle;\n",
       "    }\n",
       "\n",
       "    .dataframe tbody tr th {\n",
       "        vertical-align: top;\n",
       "    }\n",
       "\n",
       "    .dataframe thead th {\n",
       "        text-align: right;\n",
       "    }\n",
       "</style>\n",
       "<table border=\"1\" class=\"dataframe\">\n",
       "  <thead>\n",
       "    <tr style=\"text-align: right;\">\n",
       "      <th></th>\n",
       "      <th>Unnamed: 0</th>\n",
       "      <th>id</th>\n",
       "      <th>mb_used</th>\n",
       "      <th>session_date</th>\n",
       "      <th>user_id</th>\n",
       "      <th>month</th>\n",
       "    </tr>\n",
       "  </thead>\n",
       "  <tbody>\n",
       "    <tr>\n",
       "      <th>0</th>\n",
       "      <td>0</td>\n",
       "      <td>1000_0</td>\n",
       "      <td>112.95</td>\n",
       "      <td>2018-11-25</td>\n",
       "      <td>1000</td>\n",
       "      <td>November</td>\n",
       "    </tr>\n",
       "    <tr>\n",
       "      <th>1</th>\n",
       "      <td>1</td>\n",
       "      <td>1000_1</td>\n",
       "      <td>1,052.81</td>\n",
       "      <td>2018-09-07</td>\n",
       "      <td>1000</td>\n",
       "      <td>September</td>\n",
       "    </tr>\n",
       "    <tr>\n",
       "      <th>2</th>\n",
       "      <td>2</td>\n",
       "      <td>1000_2</td>\n",
       "      <td>1,197.26</td>\n",
       "      <td>2018-06-25</td>\n",
       "      <td>1000</td>\n",
       "      <td>June</td>\n",
       "    </tr>\n",
       "    <tr>\n",
       "      <th>3</th>\n",
       "      <td>3</td>\n",
       "      <td>1000_3</td>\n",
       "      <td>550.27</td>\n",
       "      <td>2018-08-22</td>\n",
       "      <td>1000</td>\n",
       "      <td>August</td>\n",
       "    </tr>\n",
       "    <tr>\n",
       "      <th>4</th>\n",
       "      <td>4</td>\n",
       "      <td>1000_4</td>\n",
       "      <td>302.56</td>\n",
       "      <td>2018-09-24</td>\n",
       "      <td>1000</td>\n",
       "      <td>September</td>\n",
       "    </tr>\n",
       "  </tbody>\n",
       "</table>\n",
       "</div>"
      ],
      "text/plain": [
       "   Unnamed: 0      id  mb_used session_date  user_id      month\n",
       "0           0  1000_0   112.95   2018-11-25     1000   November\n",
       "1           1  1000_1 1,052.81   2018-09-07     1000  September\n",
       "2           2  1000_2 1,197.26   2018-06-25     1000       June\n",
       "3           3  1000_3   550.27   2018-08-22     1000     August\n",
       "4           4  1000_4   302.56   2018-09-24     1000  September"
      ]
     },
     "execution_count": 32,
     "metadata": {},
     "output_type": "execute_result"
    }
   ],
   "source": [
    "internet.head()"
   ]
  },
  {
   "cell_type": "code",
   "execution_count": 33,
   "id": "84e5cd17",
   "metadata": {},
   "outputs": [
    {
     "data": {
      "text/html": [
       "<div>\n",
       "<style scoped>\n",
       "    .dataframe tbody tr th:only-of-type {\n",
       "        vertical-align: middle;\n",
       "    }\n",
       "\n",
       "    .dataframe tbody tr th {\n",
       "        vertical-align: top;\n",
       "    }\n",
       "\n",
       "    .dataframe thead th {\n",
       "        text-align: right;\n",
       "    }\n",
       "</style>\n",
       "<table border=\"1\" class=\"dataframe\">\n",
       "  <thead>\n",
       "    <tr style=\"text-align: right;\">\n",
       "      <th></th>\n",
       "      <th></th>\n",
       "      <th>amount_internet</th>\n",
       "    </tr>\n",
       "    <tr>\n",
       "      <th>month</th>\n",
       "      <th>user_id</th>\n",
       "      <th></th>\n",
       "    </tr>\n",
       "  </thead>\n",
       "  <tbody>\n",
       "    <tr>\n",
       "      <th rowspan=\"5\" valign=\"top\">April</th>\n",
       "      <th>1005</th>\n",
       "      <td>9,351.72</td>\n",
       "    </tr>\n",
       "    <tr>\n",
       "      <th>1006</th>\n",
       "      <td>13,936.70</td>\n",
       "    </tr>\n",
       "    <tr>\n",
       "      <th>1007</th>\n",
       "      <td>8,022.76</td>\n",
       "    </tr>\n",
       "    <tr>\n",
       "      <th>1009</th>\n",
       "      <td>14,709.22</td>\n",
       "    </tr>\n",
       "    <tr>\n",
       "      <th>1011</th>\n",
       "      <td>18,076.35</td>\n",
       "    </tr>\n",
       "  </tbody>\n",
       "</table>\n",
       "</div>"
      ],
      "text/plain": [
       "               amount_internet\n",
       "month user_id                 \n",
       "April 1005            9,351.72\n",
       "      1006           13,936.70\n",
       "      1007            8,022.76\n",
       "      1009           14,709.22\n",
       "      1011           18,076.35"
      ]
     },
     "execution_count": 33,
     "metadata": {},
     "output_type": "execute_result"
    }
   ],
   "source": [
    "group_internet = internet.groupby(['month', 'user_id']).agg({'mb_used':'sum'})\n",
    "group_internet.columns = ['amount_internet']\n",
    "group_internet.head()"
   ]
  },
  {
   "cell_type": "markdown",
   "id": "8ee5295d",
   "metadata": {},
   "source": [
    "<div class=\"alert alert-block alert-success\">\n",
    "    \n",
    "\n",
    "### Комментарий от ревьюера v_1\n",
    "Отлично\n",
    "    \n",
    "Отлично, сводные таблицы построены 👍🏻\n",
    "    \n",
    "Чтобы не переименовывать столбцы руками рекомендую использовать именованные агрегаты в groupby\n",
    "</div>"
   ]
  },
  {
   "cell_type": "markdown",
   "id": "d9d86386",
   "metadata": {},
   "source": [
    "Добавим столбец с округлением расхода интерната в соответствии с правилами оператора \"Мегалайн\" в GB"
   ]
  },
  {
   "cell_type": "code",
   "execution_count": 34,
   "id": "d9ac101e",
   "metadata": {},
   "outputs": [],
   "source": [
    "group_internet['amount_internet_GB'] = group_internet['amount_internet']/1024"
   ]
  },
  {
   "cell_type": "code",
   "execution_count": 35,
   "id": "41188ff1",
   "metadata": {},
   "outputs": [],
   "source": [
    "group_internet['amount_internet_GB'] = group_internet['amount_internet_GB'].apply(np.ceil).astype('int')"
   ]
  },
  {
   "cell_type": "code",
   "execution_count": 36,
   "id": "bc578390",
   "metadata": {},
   "outputs": [
    {
     "data": {
      "text/html": [
       "<div>\n",
       "<style scoped>\n",
       "    .dataframe tbody tr th:only-of-type {\n",
       "        vertical-align: middle;\n",
       "    }\n",
       "\n",
       "    .dataframe tbody tr th {\n",
       "        vertical-align: top;\n",
       "    }\n",
       "\n",
       "    .dataframe thead th {\n",
       "        text-align: right;\n",
       "    }\n",
       "</style>\n",
       "<table border=\"1\" class=\"dataframe\">\n",
       "  <thead>\n",
       "    <tr style=\"text-align: right;\">\n",
       "      <th></th>\n",
       "      <th></th>\n",
       "      <th>amount_internet</th>\n",
       "      <th>amount_internet_GB</th>\n",
       "    </tr>\n",
       "    <tr>\n",
       "      <th>month</th>\n",
       "      <th>user_id</th>\n",
       "      <th></th>\n",
       "      <th></th>\n",
       "    </tr>\n",
       "  </thead>\n",
       "  <tbody>\n",
       "    <tr>\n",
       "      <th rowspan=\"5\" valign=\"top\">April</th>\n",
       "      <th>1005</th>\n",
       "      <td>9,351.72</td>\n",
       "      <td>10</td>\n",
       "    </tr>\n",
       "    <tr>\n",
       "      <th>1006</th>\n",
       "      <td>13,936.70</td>\n",
       "      <td>14</td>\n",
       "    </tr>\n",
       "    <tr>\n",
       "      <th>1007</th>\n",
       "      <td>8,022.76</td>\n",
       "      <td>8</td>\n",
       "    </tr>\n",
       "    <tr>\n",
       "      <th>1009</th>\n",
       "      <td>14,709.22</td>\n",
       "      <td>15</td>\n",
       "    </tr>\n",
       "    <tr>\n",
       "      <th>1011</th>\n",
       "      <td>18,076.35</td>\n",
       "      <td>18</td>\n",
       "    </tr>\n",
       "  </tbody>\n",
       "</table>\n",
       "</div>"
      ],
      "text/plain": [
       "               amount_internet  amount_internet_GB\n",
       "month user_id                                     \n",
       "April 1005            9,351.72                  10\n",
       "      1006           13,936.70                  14\n",
       "      1007            8,022.76                   8\n",
       "      1009           14,709.22                  15\n",
       "      1011           18,076.35                  18"
      ]
     },
     "execution_count": 36,
     "metadata": {},
     "output_type": "execute_result"
    }
   ],
   "source": [
    "group_internet.head()"
   ]
  },
  {
   "cell_type": "markdown",
   "id": "c4a8a477",
   "metadata": {},
   "source": [
    "### Расчитаем помесячную выручку с каждого пользователя\n",
    "\n",
    "Вычтим бесплатный лимит из суммарного количества звонков, сообщений и интернет-трафика; остаток умножем на значение из тарифного плана; прибавим абонентскую плату, соответствующую тарифному плану."
   ]
  },
  {
   "cell_type": "code",
   "execution_count": 37,
   "id": "1384f87a",
   "metadata": {},
   "outputs": [],
   "source": [
    "df = group_calls.merge(group_message, on=['user_id','month'], how='outer')"
   ]
  },
  {
   "cell_type": "code",
   "execution_count": 38,
   "id": "e05c85fe",
   "metadata": {},
   "outputs": [],
   "source": [
    "df = df.merge(group_internet, on=['user_id','month'], how='outer').reset_index()"
   ]
  },
  {
   "cell_type": "code",
   "execution_count": 39,
   "id": "bab6be38",
   "metadata": {},
   "outputs": [
    {
     "data": {
      "text/html": [
       "<div>\n",
       "<style scoped>\n",
       "    .dataframe tbody tr th:only-of-type {\n",
       "        vertical-align: middle;\n",
       "    }\n",
       "\n",
       "    .dataframe tbody tr th {\n",
       "        vertical-align: top;\n",
       "    }\n",
       "\n",
       "    .dataframe thead th {\n",
       "        text-align: right;\n",
       "    }\n",
       "</style>\n",
       "<table border=\"1\" class=\"dataframe\">\n",
       "  <thead>\n",
       "    <tr style=\"text-align: right;\">\n",
       "      <th></th>\n",
       "      <th>user_id</th>\n",
       "      <th>month</th>\n",
       "      <th>amount_calls</th>\n",
       "      <th>amount_duration_calls</th>\n",
       "      <th>amount_messages_sms</th>\n",
       "      <th>amount_internet</th>\n",
       "      <th>amount_internet_GB</th>\n",
       "    </tr>\n",
       "  </thead>\n",
       "  <tbody>\n",
       "    <tr>\n",
       "      <th>0</th>\n",
       "      <td>1005</td>\n",
       "      <td>April</td>\n",
       "      <td>101.00</td>\n",
       "      <td>712.00</td>\n",
       "      <td>41.00</td>\n",
       "      <td>9,351.72</td>\n",
       "      <td>10.00</td>\n",
       "    </tr>\n",
       "    <tr>\n",
       "      <th>1</th>\n",
       "      <td>1006</td>\n",
       "      <td>April</td>\n",
       "      <td>47.00</td>\n",
       "      <td>356.00</td>\n",
       "      <td>NaN</td>\n",
       "      <td>13,936.70</td>\n",
       "      <td>14.00</td>\n",
       "    </tr>\n",
       "    <tr>\n",
       "      <th>2</th>\n",
       "      <td>1007</td>\n",
       "      <td>April</td>\n",
       "      <td>25.00</td>\n",
       "      <td>198.00</td>\n",
       "      <td>11.00</td>\n",
       "      <td>8,022.76</td>\n",
       "      <td>8.00</td>\n",
       "    </tr>\n",
       "    <tr>\n",
       "      <th>3</th>\n",
       "      <td>1009</td>\n",
       "      <td>April</td>\n",
       "      <td>39.00</td>\n",
       "      <td>324.00</td>\n",
       "      <td>14.00</td>\n",
       "      <td>14,709.22</td>\n",
       "      <td>15.00</td>\n",
       "    </tr>\n",
       "    <tr>\n",
       "      <th>4</th>\n",
       "      <td>1011</td>\n",
       "      <td>April</td>\n",
       "      <td>62.00</td>\n",
       "      <td>371.00</td>\n",
       "      <td>7.00</td>\n",
       "      <td>18,076.35</td>\n",
       "      <td>18.00</td>\n",
       "    </tr>\n",
       "  </tbody>\n",
       "</table>\n",
       "</div>"
      ],
      "text/plain": [
       "   user_id  month  amount_calls  amount_duration_calls  amount_messages_sms  \\\n",
       "0     1005  April        101.00                 712.00                41.00   \n",
       "1     1006  April         47.00                 356.00                  NaN   \n",
       "2     1007  April         25.00                 198.00                11.00   \n",
       "3     1009  April         39.00                 324.00                14.00   \n",
       "4     1011  April         62.00                 371.00                 7.00   \n",
       "\n",
       "   amount_internet  amount_internet_GB  \n",
       "0         9,351.72               10.00  \n",
       "1        13,936.70               14.00  \n",
       "2         8,022.76                8.00  \n",
       "3        14,709.22               15.00  \n",
       "4        18,076.35               18.00  "
      ]
     },
     "execution_count": 39,
     "metadata": {},
     "output_type": "execute_result"
    }
   ],
   "source": [
    "df.head()"
   ]
  },
  {
   "cell_type": "code",
   "execution_count": 40,
   "id": "9af20d92",
   "metadata": {},
   "outputs": [
    {
     "data": {
      "text/html": [
       "<div>\n",
       "<style scoped>\n",
       "    .dataframe tbody tr th:only-of-type {\n",
       "        vertical-align: middle;\n",
       "    }\n",
       "\n",
       "    .dataframe tbody tr th {\n",
       "        vertical-align: top;\n",
       "    }\n",
       "\n",
       "    .dataframe thead th {\n",
       "        text-align: right;\n",
       "    }\n",
       "</style>\n",
       "<table border=\"1\" class=\"dataframe\">\n",
       "  <thead>\n",
       "    <tr style=\"text-align: right;\">\n",
       "      <th></th>\n",
       "      <th>messages_included</th>\n",
       "      <th>mb_per_month_included</th>\n",
       "      <th>minutes_included</th>\n",
       "      <th>rub_monthly_fee</th>\n",
       "      <th>rub_per_gb</th>\n",
       "      <th>rub_per_message</th>\n",
       "      <th>rub_per_minute</th>\n",
       "      <th>tariff_name</th>\n",
       "    </tr>\n",
       "  </thead>\n",
       "  <tbody>\n",
       "    <tr>\n",
       "      <th>0</th>\n",
       "      <td>50</td>\n",
       "      <td>15360</td>\n",
       "      <td>500</td>\n",
       "      <td>550</td>\n",
       "      <td>200</td>\n",
       "      <td>3</td>\n",
       "      <td>3</td>\n",
       "      <td>smart</td>\n",
       "    </tr>\n",
       "    <tr>\n",
       "      <th>1</th>\n",
       "      <td>1000</td>\n",
       "      <td>30720</td>\n",
       "      <td>3000</td>\n",
       "      <td>1950</td>\n",
       "      <td>150</td>\n",
       "      <td>1</td>\n",
       "      <td>1</td>\n",
       "      <td>ultra</td>\n",
       "    </tr>\n",
       "  </tbody>\n",
       "</table>\n",
       "</div>"
      ],
      "text/plain": [
       "   messages_included  mb_per_month_included  minutes_included  \\\n",
       "0                 50                  15360               500   \n",
       "1               1000                  30720              3000   \n",
       "\n",
       "   rub_monthly_fee  rub_per_gb  rub_per_message  rub_per_minute tariff_name  \n",
       "0              550         200                3               3       smart  \n",
       "1             1950         150                1               1       ultra  "
      ]
     },
     "execution_count": 40,
     "metadata": {},
     "output_type": "execute_result"
    }
   ],
   "source": [
    "tariffs.head()"
   ]
  },
  {
   "cell_type": "code",
   "execution_count": 41,
   "id": "4648ea92",
   "metadata": {},
   "outputs": [],
   "source": [
    "tariffs = tariffs.rename(columns={'tariff_name':'tariff'})"
   ]
  },
  {
   "cell_type": "code",
   "execution_count": 42,
   "id": "9ebf7579",
   "metadata": {},
   "outputs": [],
   "source": [
    "df = df.merge(users, on=['user_id'], how='outer')"
   ]
  },
  {
   "cell_type": "markdown",
   "id": "3cfd44de",
   "metadata": {},
   "source": [
    "<div class=\"alert alert-block alert-warning\">\n",
    "    \n",
    "\n",
    "### Комментарий от ревьюера v_1\n",
    "Рекомендация\n",
    "\n",
    "Отлично, с джойном разобрались 👍🏻\n",
    "    \n",
    "Также можно проверить результаты джойнов. Например, посчитать метрики в исходных таблицах и конечной\n",
    "    \n",
    "Но закралась неочевидная ошибка. В расчеты попали два клиента, которые не пользовались услугами и отключились в течении недели \n",
    "    \n",
    "Их следует убрать, врядли они платили абонентскую плату. А появились они потому, что таблицу с клиентами джойнишь через аутер\n",
    "</div>"
   ]
  },
  {
   "cell_type": "markdown",
   "id": "6e0bc9e8",
   "metadata": {},
   "source": [
    "<div class=\"alert alert-block alert-info\">\n",
    "<b>💾 Fixed:</b> \n",
    "Я решил, что клинты имеющие тариф его предоплатили, то есть есть внесение абоненской платы как минимум за месяц. Я исходил из того, что нельзя подключиться к оператору не оплатив месяц в виде абоненской платы. А отключились они, так как подключение им было не нужно, это показывает, что они не пользовались услугами. ✔\n",
    "</div>"
   ]
  },
  {
   "cell_type": "markdown",
   "id": "3a37b731",
   "metadata": {},
   "source": [
    "<div class=\"alert alert-block alert-success\">\n",
    "\n",
    "    \n",
    "### Комментарий от ревьюера v_2\n",
    "\n",
    "Если это осознанно, то все ОК\n",
    "    \n",
    "</div>"
   ]
  },
  {
   "cell_type": "code",
   "execution_count": 43,
   "id": "312c00b7",
   "metadata": {},
   "outputs": [
    {
     "data": {
      "text/html": [
       "<div>\n",
       "<style scoped>\n",
       "    .dataframe tbody tr th:only-of-type {\n",
       "        vertical-align: middle;\n",
       "    }\n",
       "\n",
       "    .dataframe tbody tr th {\n",
       "        vertical-align: top;\n",
       "    }\n",
       "\n",
       "    .dataframe thead th {\n",
       "        text-align: right;\n",
       "    }\n",
       "</style>\n",
       "<table border=\"1\" class=\"dataframe\">\n",
       "  <thead>\n",
       "    <tr style=\"text-align: right;\">\n",
       "      <th></th>\n",
       "      <th>user_id</th>\n",
       "      <th>month</th>\n",
       "      <th>amount_calls</th>\n",
       "      <th>amount_duration_calls</th>\n",
       "      <th>amount_messages_sms</th>\n",
       "      <th>amount_internet</th>\n",
       "      <th>amount_internet_GB</th>\n",
       "      <th>age</th>\n",
       "      <th>churn_date</th>\n",
       "      <th>city</th>\n",
       "      <th>first_name</th>\n",
       "      <th>last_name</th>\n",
       "      <th>reg_date</th>\n",
       "      <th>tariff</th>\n",
       "    </tr>\n",
       "  </thead>\n",
       "  <tbody>\n",
       "    <tr>\n",
       "      <th>0</th>\n",
       "      <td>1005</td>\n",
       "      <td>April</td>\n",
       "      <td>101.00</td>\n",
       "      <td>712.00</td>\n",
       "      <td>41.00</td>\n",
       "      <td>9,351.72</td>\n",
       "      <td>10.00</td>\n",
       "      <td>67</td>\n",
       "      <td>NaT</td>\n",
       "      <td>Набережные Челны</td>\n",
       "      <td>Афанасий</td>\n",
       "      <td>Горлов</td>\n",
       "      <td>2018-01-25</td>\n",
       "      <td>smart</td>\n",
       "    </tr>\n",
       "    <tr>\n",
       "      <th>1</th>\n",
       "      <td>1005</td>\n",
       "      <td>August</td>\n",
       "      <td>71.00</td>\n",
       "      <td>619.00</td>\n",
       "      <td>64.00</td>\n",
       "      <td>7,543.63</td>\n",
       "      <td>8.00</td>\n",
       "      <td>67</td>\n",
       "      <td>NaT</td>\n",
       "      <td>Набережные Челны</td>\n",
       "      <td>Афанасий</td>\n",
       "      <td>Горлов</td>\n",
       "      <td>2018-01-25</td>\n",
       "      <td>smart</td>\n",
       "    </tr>\n",
       "    <tr>\n",
       "      <th>2</th>\n",
       "      <td>1005</td>\n",
       "      <td>December</td>\n",
       "      <td>84.00</td>\n",
       "      <td>592.00</td>\n",
       "      <td>54.00</td>\n",
       "      <td>8,668.19</td>\n",
       "      <td>9.00</td>\n",
       "      <td>67</td>\n",
       "      <td>NaT</td>\n",
       "      <td>Набережные Челны</td>\n",
       "      <td>Афанасий</td>\n",
       "      <td>Горлов</td>\n",
       "      <td>2018-01-25</td>\n",
       "      <td>smart</td>\n",
       "    </tr>\n",
       "    <tr>\n",
       "      <th>3</th>\n",
       "      <td>1005</td>\n",
       "      <td>February</td>\n",
       "      <td>69.00</td>\n",
       "      <td>456.00</td>\n",
       "      <td>38.00</td>\n",
       "      <td>7,383.93</td>\n",
       "      <td>8.00</td>\n",
       "      <td>67</td>\n",
       "      <td>NaT</td>\n",
       "      <td>Набережные Челны</td>\n",
       "      <td>Афанасий</td>\n",
       "      <td>Горлов</td>\n",
       "      <td>2018-01-25</td>\n",
       "      <td>smart</td>\n",
       "    </tr>\n",
       "    <tr>\n",
       "      <th>4</th>\n",
       "      <td>1005</td>\n",
       "      <td>January</td>\n",
       "      <td>15.00</td>\n",
       "      <td>95.00</td>\n",
       "      <td>7.00</td>\n",
       "      <td>2,727.97</td>\n",
       "      <td>3.00</td>\n",
       "      <td>67</td>\n",
       "      <td>NaT</td>\n",
       "      <td>Набережные Челны</td>\n",
       "      <td>Афанасий</td>\n",
       "      <td>Горлов</td>\n",
       "      <td>2018-01-25</td>\n",
       "      <td>smart</td>\n",
       "    </tr>\n",
       "  </tbody>\n",
       "</table>\n",
       "</div>"
      ],
      "text/plain": [
       "   user_id     month  amount_calls  amount_duration_calls  \\\n",
       "0     1005     April        101.00                 712.00   \n",
       "1     1005    August         71.00                 619.00   \n",
       "2     1005  December         84.00                 592.00   \n",
       "3     1005  February         69.00                 456.00   \n",
       "4     1005   January         15.00                  95.00   \n",
       "\n",
       "   amount_messages_sms  amount_internet  amount_internet_GB  age churn_date  \\\n",
       "0                41.00         9,351.72               10.00   67        NaT   \n",
       "1                64.00         7,543.63                8.00   67        NaT   \n",
       "2                54.00         8,668.19                9.00   67        NaT   \n",
       "3                38.00         7,383.93                8.00   67        NaT   \n",
       "4                 7.00         2,727.97                3.00   67        NaT   \n",
       "\n",
       "               city first_name last_name   reg_date tariff  \n",
       "0  Набережные Челны   Афанасий    Горлов 2018-01-25  smart  \n",
       "1  Набережные Челны   Афанасий    Горлов 2018-01-25  smart  \n",
       "2  Набережные Челны   Афанасий    Горлов 2018-01-25  smart  \n",
       "3  Набережные Челны   Афанасий    Горлов 2018-01-25  smart  \n",
       "4  Набережные Челны   Афанасий    Горлов 2018-01-25  smart  "
      ]
     },
     "execution_count": 43,
     "metadata": {},
     "output_type": "execute_result"
    }
   ],
   "source": [
    "df.head()"
   ]
  },
  {
   "cell_type": "markdown",
   "id": "ef995964",
   "metadata": {},
   "source": [
    "<div class=\"alert alert-block alert-info\">\n",
    "<b>💾 Fixed:</b> \n",
    "Найдем и уберем этих двух несчастных, что отключились в течении недели ✔\n",
    "</div>"
   ]
  },
  {
   "cell_type": "code",
   "execution_count": 44,
   "id": "1998c519",
   "metadata": {},
   "outputs": [
    {
     "data": {
      "text/html": [
       "<div>\n",
       "<style scoped>\n",
       "    .dataframe tbody tr th:only-of-type {\n",
       "        vertical-align: middle;\n",
       "    }\n",
       "\n",
       "    .dataframe tbody tr th {\n",
       "        vertical-align: top;\n",
       "    }\n",
       "\n",
       "    .dataframe thead th {\n",
       "        text-align: right;\n",
       "    }\n",
       "</style>\n",
       "<table border=\"1\" class=\"dataframe\">\n",
       "  <thead>\n",
       "    <tr style=\"text-align: right;\">\n",
       "      <th></th>\n",
       "      <th>user_id</th>\n",
       "      <th>month</th>\n",
       "      <th>amount_calls</th>\n",
       "      <th>amount_duration_calls</th>\n",
       "      <th>amount_messages_sms</th>\n",
       "      <th>amount_internet</th>\n",
       "      <th>amount_internet_GB</th>\n",
       "      <th>age</th>\n",
       "      <th>churn_date</th>\n",
       "      <th>city</th>\n",
       "      <th>first_name</th>\n",
       "      <th>last_name</th>\n",
       "      <th>reg_date</th>\n",
       "      <th>tariff</th>\n",
       "    </tr>\n",
       "  </thead>\n",
       "  <tbody>\n",
       "    <tr>\n",
       "      <th>3214</th>\n",
       "      <td>1128</td>\n",
       "      <td>NaN</td>\n",
       "      <td>NaN</td>\n",
       "      <td>NaN</td>\n",
       "      <td>NaN</td>\n",
       "      <td>NaN</td>\n",
       "      <td>NaN</td>\n",
       "      <td>51</td>\n",
       "      <td>2018-12-23</td>\n",
       "      <td>Волжский</td>\n",
       "      <td>Ксения</td>\n",
       "      <td>Агаева</td>\n",
       "      <td>2018-12-15</td>\n",
       "      <td>ultra</td>\n",
       "    </tr>\n",
       "    <tr>\n",
       "      <th>3215</th>\n",
       "      <td>1371</td>\n",
       "      <td>NaN</td>\n",
       "      <td>NaN</td>\n",
       "      <td>NaN</td>\n",
       "      <td>NaN</td>\n",
       "      <td>NaN</td>\n",
       "      <td>NaN</td>\n",
       "      <td>50</td>\n",
       "      <td>2018-12-30</td>\n",
       "      <td>Омск</td>\n",
       "      <td>Ириней</td>\n",
       "      <td>Трофимов</td>\n",
       "      <td>2018-12-25</td>\n",
       "      <td>smart</td>\n",
       "    </tr>\n",
       "  </tbody>\n",
       "</table>\n",
       "</div>"
      ],
      "text/plain": [
       "      user_id month  amount_calls  amount_duration_calls  amount_messages_sms  \\\n",
       "3214     1128   NaN           NaN                    NaN                  NaN   \n",
       "3215     1371   NaN           NaN                    NaN                  NaN   \n",
       "\n",
       "      amount_internet  amount_internet_GB  age churn_date      city  \\\n",
       "3214              NaN                 NaN   51 2018-12-23  Волжский   \n",
       "3215              NaN                 NaN   50 2018-12-30      Омск   \n",
       "\n",
       "     first_name last_name   reg_date tariff  \n",
       "3214     Ксения    Агаева 2018-12-15  ultra  \n",
       "3215     Ириней  Трофимов 2018-12-25  smart  "
      ]
     },
     "execution_count": 44,
     "metadata": {},
     "output_type": "execute_result"
    }
   ],
   "source": [
    "df[df['month'].isnull() == True]"
   ]
  },
  {
   "cell_type": "code",
   "execution_count": 45,
   "id": "3316d540",
   "metadata": {},
   "outputs": [],
   "source": [
    "df = df[df['month'].isnull() == False]"
   ]
  },
  {
   "cell_type": "code",
   "execution_count": 46,
   "id": "ab54a7b6",
   "metadata": {},
   "outputs": [],
   "source": [
    "df = df.merge(tariffs, on=['tariff'], how='left')"
   ]
  },
  {
   "cell_type": "code",
   "execution_count": 47,
   "id": "6b7051b0",
   "metadata": {},
   "outputs": [
    {
     "data": {
      "text/plain": [
       "user_id                     0\n",
       "month                       0\n",
       "amount_calls               40\n",
       "amount_duration_calls      40\n",
       "amount_messages_sms       497\n",
       "amount_internet            11\n",
       "amount_internet_GB         11\n",
       "age                         0\n",
       "churn_date               3027\n",
       "city                        0\n",
       "first_name                  0\n",
       "last_name                   0\n",
       "reg_date                    0\n",
       "tariff                      0\n",
       "messages_included           0\n",
       "mb_per_month_included       0\n",
       "minutes_included            0\n",
       "rub_monthly_fee             0\n",
       "rub_per_gb                  0\n",
       "rub_per_message             0\n",
       "rub_per_minute              0\n",
       "dtype: int64"
      ]
     },
     "execution_count": 47,
     "metadata": {},
     "output_type": "execute_result"
    }
   ],
   "source": [
    "df.isna().sum()"
   ]
  },
  {
   "cell_type": "markdown",
   "id": "7bf2a361",
   "metadata": {},
   "source": [
    "Есть пропущенные значения у пользователей которые видимо не пользовались какими-либо услугами связи. Данные пропуски можно заполнить нулями, это будет соответствовать тому, что они не пользовались."
   ]
  },
  {
   "cell_type": "code",
   "execution_count": 48,
   "id": "f1358240",
   "metadata": {},
   "outputs": [],
   "source": [
    "df['amount_calls'] = df['amount_calls'].fillna(0)\n",
    "df['amount_duration_calls'] = df['amount_duration_calls'].fillna(0)\n",
    "df['amount_messages_sms'] = df['amount_messages_sms'].fillna(0)\n",
    "df['amount_internet'] = df['amount_internet'].fillna(0)\n",
    "df['amount_internet_GB'] = df['amount_internet_GB'].fillna(0)"
   ]
  },
  {
   "cell_type": "markdown",
   "id": "935fe2ff",
   "metadata": {},
   "source": [
    "<div class=\"alert alert-block alert-success\">\n",
    "    \n",
    "\n",
    "### Комментарий от ревьюера v_1\n",
    "Отлично\n",
    "    \n",
    "Молодец, что заполняешь пропуски нулями и даешь объяснение как они появились\n",
    "</div>"
   ]
  },
  {
   "cell_type": "code",
   "execution_count": 49,
   "id": "9a62b20e",
   "metadata": {},
   "outputs": [
    {
     "data": {
      "text/plain": [
       "0"
      ]
     },
     "execution_count": 49,
     "metadata": {},
     "output_type": "execute_result"
    }
   ],
   "source": [
    "df.duplicated().sum()"
   ]
  },
  {
   "cell_type": "code",
   "execution_count": 50,
   "id": "94b4373f",
   "metadata": {},
   "outputs": [],
   "source": [
    "#df['revenu_sms']= (df['amount_messages_sms']-df['messages_included'])*df['rub_per_message']+df['rub_monthly_fee']"
   ]
  },
  {
   "cell_type": "code",
   "execution_count": 51,
   "id": "f2d3f524",
   "metadata": {},
   "outputs": [],
   "source": [
    "#df['revenu_calls'] = (df['amount_duration_calls'] - df['minutes_included'])*df['rub_per_minute']+df['rub_monthly_fee']"
   ]
  },
  {
   "cell_type": "code",
   "execution_count": 52,
   "id": "8c0b5421",
   "metadata": {},
   "outputs": [],
   "source": [
    "#df['revenu_GB'] = (df['amount_internet_GB'] - df['mb_per_month_included']/1024)*df['rub_per_gb']+df['rub_monthly_fee']"
   ]
  },
  {
   "cell_type": "code",
   "execution_count": 53,
   "id": "9bd935c6",
   "metadata": {},
   "outputs": [],
   "source": [
    "#df['revenu'] = ((df['amount_messages_sms']-df['messages_included'])*df['rub_per_message']+df['rub_monthly_fee'])+((df['amount_duration_calls'] - df['minutes_included'])*df['rub_per_minute']+df['rub_monthly_fee'])+(\n",
    "#(df['amount_internet_GB'] - df['mb_per_month_included']/1024)*df['rub_per_gb']+df['rub_monthly_fee'])"
   ]
  },
  {
   "cell_type": "code",
   "execution_count": 54,
   "id": "35d3ea82",
   "metadata": {},
   "outputs": [],
   "source": [
    "def revenu(row):\n",
    "    sms = (row['amount_messages_sms'] - row['messages_included']) * row['rub_per_message']\n",
    "    mins = (row['amount_duration_calls'] - row['minutes_included']) * row['rub_per_minute']\n",
    "    mbs = (row['amount_internet_GB'] - row['mb_per_month_included'] /1024) * row['rub_per_gb']\n",
    "    total = 0\n",
    "    for i in [sms, mins, mbs]:\n",
    "        if i > 0:\n",
    "            total += i\n",
    "    return total"
   ]
  },
  {
   "cell_type": "code",
   "execution_count": 55,
   "id": "f44a9b7d",
   "metadata": {},
   "outputs": [],
   "source": [
    "df['revenu'] = df.apply(lambda x: revenu(x), axis=1)"
   ]
  },
  {
   "cell_type": "code",
   "execution_count": 56,
   "id": "31f1e68f",
   "metadata": {},
   "outputs": [],
   "source": [
    "df['revenu'] = df['revenu'] + df['rub_monthly_fee']"
   ]
  },
  {
   "cell_type": "code",
   "execution_count": 57,
   "id": "8ed7bd91",
   "metadata": {
    "scrolled": true
   },
   "outputs": [
    {
     "data": {
      "text/html": [
       "<div>\n",
       "<style scoped>\n",
       "    .dataframe tbody tr th:only-of-type {\n",
       "        vertical-align: middle;\n",
       "    }\n",
       "\n",
       "    .dataframe tbody tr th {\n",
       "        vertical-align: top;\n",
       "    }\n",
       "\n",
       "    .dataframe thead th {\n",
       "        text-align: right;\n",
       "    }\n",
       "</style>\n",
       "<table border=\"1\" class=\"dataframe\">\n",
       "  <thead>\n",
       "    <tr style=\"text-align: right;\">\n",
       "      <th></th>\n",
       "      <th>user_id</th>\n",
       "      <th>month</th>\n",
       "      <th>amount_calls</th>\n",
       "      <th>amount_duration_calls</th>\n",
       "      <th>amount_messages_sms</th>\n",
       "      <th>amount_internet</th>\n",
       "      <th>amount_internet_GB</th>\n",
       "      <th>age</th>\n",
       "      <th>churn_date</th>\n",
       "      <th>city</th>\n",
       "      <th>first_name</th>\n",
       "      <th>last_name</th>\n",
       "      <th>reg_date</th>\n",
       "      <th>tariff</th>\n",
       "      <th>messages_included</th>\n",
       "      <th>mb_per_month_included</th>\n",
       "      <th>minutes_included</th>\n",
       "      <th>rub_monthly_fee</th>\n",
       "      <th>rub_per_gb</th>\n",
       "      <th>rub_per_message</th>\n",
       "      <th>rub_per_minute</th>\n",
       "      <th>revenu</th>\n",
       "    </tr>\n",
       "  </thead>\n",
       "  <tbody>\n",
       "    <tr>\n",
       "      <th>0</th>\n",
       "      <td>1005</td>\n",
       "      <td>April</td>\n",
       "      <td>101.00</td>\n",
       "      <td>712.00</td>\n",
       "      <td>41.00</td>\n",
       "      <td>9,351.72</td>\n",
       "      <td>10.00</td>\n",
       "      <td>67</td>\n",
       "      <td>NaT</td>\n",
       "      <td>Набережные Челны</td>\n",
       "      <td>Афанасий</td>\n",
       "      <td>Горлов</td>\n",
       "      <td>2018-01-25</td>\n",
       "      <td>smart</td>\n",
       "      <td>50</td>\n",
       "      <td>15360</td>\n",
       "      <td>500</td>\n",
       "      <td>550</td>\n",
       "      <td>200</td>\n",
       "      <td>3</td>\n",
       "      <td>3</td>\n",
       "      <td>1,186.00</td>\n",
       "    </tr>\n",
       "    <tr>\n",
       "      <th>1</th>\n",
       "      <td>1005</td>\n",
       "      <td>August</td>\n",
       "      <td>71.00</td>\n",
       "      <td>619.00</td>\n",
       "      <td>64.00</td>\n",
       "      <td>7,543.63</td>\n",
       "      <td>8.00</td>\n",
       "      <td>67</td>\n",
       "      <td>NaT</td>\n",
       "      <td>Набережные Челны</td>\n",
       "      <td>Афанасий</td>\n",
       "      <td>Горлов</td>\n",
       "      <td>2018-01-25</td>\n",
       "      <td>smart</td>\n",
       "      <td>50</td>\n",
       "      <td>15360</td>\n",
       "      <td>500</td>\n",
       "      <td>550</td>\n",
       "      <td>200</td>\n",
       "      <td>3</td>\n",
       "      <td>3</td>\n",
       "      <td>949.00</td>\n",
       "    </tr>\n",
       "    <tr>\n",
       "      <th>2</th>\n",
       "      <td>1005</td>\n",
       "      <td>December</td>\n",
       "      <td>84.00</td>\n",
       "      <td>592.00</td>\n",
       "      <td>54.00</td>\n",
       "      <td>8,668.19</td>\n",
       "      <td>9.00</td>\n",
       "      <td>67</td>\n",
       "      <td>NaT</td>\n",
       "      <td>Набережные Челны</td>\n",
       "      <td>Афанасий</td>\n",
       "      <td>Горлов</td>\n",
       "      <td>2018-01-25</td>\n",
       "      <td>smart</td>\n",
       "      <td>50</td>\n",
       "      <td>15360</td>\n",
       "      <td>500</td>\n",
       "      <td>550</td>\n",
       "      <td>200</td>\n",
       "      <td>3</td>\n",
       "      <td>3</td>\n",
       "      <td>838.00</td>\n",
       "    </tr>\n",
       "    <tr>\n",
       "      <th>3</th>\n",
       "      <td>1005</td>\n",
       "      <td>February</td>\n",
       "      <td>69.00</td>\n",
       "      <td>456.00</td>\n",
       "      <td>38.00</td>\n",
       "      <td>7,383.93</td>\n",
       "      <td>8.00</td>\n",
       "      <td>67</td>\n",
       "      <td>NaT</td>\n",
       "      <td>Набережные Челны</td>\n",
       "      <td>Афанасий</td>\n",
       "      <td>Горлов</td>\n",
       "      <td>2018-01-25</td>\n",
       "      <td>smart</td>\n",
       "      <td>50</td>\n",
       "      <td>15360</td>\n",
       "      <td>500</td>\n",
       "      <td>550</td>\n",
       "      <td>200</td>\n",
       "      <td>3</td>\n",
       "      <td>3</td>\n",
       "      <td>550.00</td>\n",
       "    </tr>\n",
       "    <tr>\n",
       "      <th>4</th>\n",
       "      <td>1005</td>\n",
       "      <td>January</td>\n",
       "      <td>15.00</td>\n",
       "      <td>95.00</td>\n",
       "      <td>7.00</td>\n",
       "      <td>2,727.97</td>\n",
       "      <td>3.00</td>\n",
       "      <td>67</td>\n",
       "      <td>NaT</td>\n",
       "      <td>Набережные Челны</td>\n",
       "      <td>Афанасий</td>\n",
       "      <td>Горлов</td>\n",
       "      <td>2018-01-25</td>\n",
       "      <td>smart</td>\n",
       "      <td>50</td>\n",
       "      <td>15360</td>\n",
       "      <td>500</td>\n",
       "      <td>550</td>\n",
       "      <td>200</td>\n",
       "      <td>3</td>\n",
       "      <td>3</td>\n",
       "      <td>550.00</td>\n",
       "    </tr>\n",
       "  </tbody>\n",
       "</table>\n",
       "</div>"
      ],
      "text/plain": [
       "   user_id     month  amount_calls  amount_duration_calls  \\\n",
       "0     1005     April        101.00                 712.00   \n",
       "1     1005    August         71.00                 619.00   \n",
       "2     1005  December         84.00                 592.00   \n",
       "3     1005  February         69.00                 456.00   \n",
       "4     1005   January         15.00                  95.00   \n",
       "\n",
       "   amount_messages_sms  amount_internet  amount_internet_GB  age churn_date  \\\n",
       "0                41.00         9,351.72               10.00   67        NaT   \n",
       "1                64.00         7,543.63                8.00   67        NaT   \n",
       "2                54.00         8,668.19                9.00   67        NaT   \n",
       "3                38.00         7,383.93                8.00   67        NaT   \n",
       "4                 7.00         2,727.97                3.00   67        NaT   \n",
       "\n",
       "               city first_name last_name   reg_date tariff  messages_included  \\\n",
       "0  Набережные Челны   Афанасий    Горлов 2018-01-25  smart                 50   \n",
       "1  Набережные Челны   Афанасий    Горлов 2018-01-25  smart                 50   \n",
       "2  Набережные Челны   Афанасий    Горлов 2018-01-25  smart                 50   \n",
       "3  Набережные Челны   Афанасий    Горлов 2018-01-25  smart                 50   \n",
       "4  Набережные Челны   Афанасий    Горлов 2018-01-25  smart                 50   \n",
       "\n",
       "   mb_per_month_included  minutes_included  rub_monthly_fee  rub_per_gb  \\\n",
       "0                  15360               500              550         200   \n",
       "1                  15360               500              550         200   \n",
       "2                  15360               500              550         200   \n",
       "3                  15360               500              550         200   \n",
       "4                  15360               500              550         200   \n",
       "\n",
       "   rub_per_message  rub_per_minute   revenu  \n",
       "0                3               3 1,186.00  \n",
       "1                3               3   949.00  \n",
       "2                3               3   838.00  \n",
       "3                3               3   550.00  \n",
       "4                3               3   550.00  "
      ]
     },
     "execution_count": 57,
     "metadata": {},
     "output_type": "execute_result"
    }
   ],
   "source": [
    "df.head()"
   ]
  },
  {
   "cell_type": "markdown",
   "id": "2a2cc345",
   "metadata": {},
   "source": [
    "<div class=\"alert alert-block alert-danger\">\n",
    "    \n",
    "\n",
    "### Комментарий от ревьюера v_1\n",
    "Критично\n",
    "    \n",
    "А как у тебя получается выручка меньше нуля?))\n",
    "    \n",
    "Рекомендую обернуть расчет в функцию и применить через apply\n",
    "</div>"
   ]
  },
  {
   "cell_type": "markdown",
   "id": "593fa95b",
   "metadata": {},
   "source": [
    "<div class=\"alert alert-block alert-info\">\n",
    "<b>💾 Fixed:</b> \n",
    "Выручку исправил, теперь выглядит как надо  ✔\n",
    "</div>"
   ]
  },
  {
   "cell_type": "markdown",
   "id": "7a5d99bb",
   "metadata": {},
   "source": [
    "<div class=\"alert alert-block alert-success\">\n",
    "\n",
    "    \n",
    "### Комментарий от ревьюера v_2\n",
    "\n",
    "👍🏻\n",
    "    \n",
    "</div>"
   ]
  },
  {
   "cell_type": "markdown",
   "id": "793080a0",
   "metadata": {},
   "source": [
    "### Проанализируем поведение клиентов оператора, исходя из выборки.\n"
   ]
  },
  {
   "cell_type": "markdown",
   "id": "a856a882",
   "metadata": {},
   "source": [
    "- Выясним сколько минут разговора, сколько сообщений и какой объём интернет-трафика требуется пользователям каждого тарифа в месяц.\n",
    "\n",
    "- Посчитайте среднее количество, дисперсию и стандартное отклонение. Построим гистограммы и опишим распределения."
   ]
  },
  {
   "cell_type": "code",
   "execution_count": 58,
   "id": "5eda05ef",
   "metadata": {},
   "outputs": [],
   "source": [
    "smart = df[df['tariff'] == 'smart']"
   ]
  },
  {
   "cell_type": "code",
   "execution_count": 59,
   "id": "8eac1418",
   "metadata": {},
   "outputs": [],
   "source": [
    "ultra = df[df['tariff'] == 'ultra']"
   ]
  },
  {
   "cell_type": "code",
   "execution_count": 60,
   "id": "6bbf4b4b",
   "metadata": {},
   "outputs": [
    {
     "data": {
      "text/html": [
       "<style  type=\"text/css\" >\n",
       "</style><table id=\"T_2bfd2_\" ><thead>    <tr>        <th class=\"blank level0\" ></th>        <th class=\"col_heading level0 col0\" colspan=\"4\">revenu</th>    </tr>    <tr>        <th class=\"blank level1\" ></th>        <th class=\"col_heading level1 col0\" >median</th>        <th class=\"col_heading level1 col1\" >mean</th>        <th class=\"col_heading level1 col2\" >var</th>        <th class=\"col_heading level1 col3\" >std</th>    </tr>    <tr>        <th class=\"index_name level0\" >tariff</th>        <th class=\"blank\" ></th>        <th class=\"blank\" ></th>        <th class=\"blank\" ></th>        <th class=\"blank\" ></th>    </tr></thead><tbody>\n",
       "                <tr>\n",
       "                        <th id=\"T_2bfd2_level0_row0\" class=\"row_heading level0 row0\" >smart</th>\n",
       "                        <td id=\"T_2bfd2_row0_col0\" class=\"data row0 col0\" >1023.00</td>\n",
       "                        <td id=\"T_2bfd2_row0_col1\" class=\"data row0 col1\" >1289.97</td>\n",
       "                        <td id=\"T_2bfd2_row0_col2\" class=\"data row0 col2\" >669785.71</td>\n",
       "                        <td id=\"T_2bfd2_row0_col3\" class=\"data row0 col3\" >818.40</td>\n",
       "            </tr>\n",
       "            <tr>\n",
       "                        <th id=\"T_2bfd2_level0_row1\" class=\"row_heading level0 row1\" >ultra</th>\n",
       "                        <td id=\"T_2bfd2_row1_col0\" class=\"data row1 col0\" >1950.00</td>\n",
       "                        <td id=\"T_2bfd2_row1_col1\" class=\"data row1 col1\" >2070.15</td>\n",
       "                        <td id=\"T_2bfd2_row1_col2\" class=\"data row1 col2\" >141516.75</td>\n",
       "                        <td id=\"T_2bfd2_row1_col3\" class=\"data row1 col3\" >376.19</td>\n",
       "            </tr>\n",
       "    </tbody></table>"
      ],
      "text/plain": [
       "<pandas.io.formats.style.Styler at 0x7fe9d120a7c0>"
      ]
     },
     "execution_count": 60,
     "metadata": {},
     "output_type": "execute_result"
    }
   ],
   "source": [
    "df.groupby('tariff').agg({'revenu':['median','mean','var','std']}).style.format(\"{:.2f}\")"
   ]
  },
  {
   "cell_type": "code",
   "execution_count": 61,
   "id": "472a9787",
   "metadata": {},
   "outputs": [
    {
     "data": {
      "text/html": [
       "<style  type=\"text/css\" >\n",
       "</style><table id=\"T_d507d_\" ><thead>    <tr>        <th class=\"blank level0\" ></th>        <th class=\"col_heading level0 col0\" colspan=\"4\">amount_duration_calls</th>    </tr>    <tr>        <th class=\"blank level1\" ></th>        <th class=\"col_heading level1 col0\" >median</th>        <th class=\"col_heading level1 col1\" >mean</th>        <th class=\"col_heading level1 col2\" >var</th>        <th class=\"col_heading level1 col3\" >std</th>    </tr>    <tr>        <th class=\"index_name level0\" >tariff</th>        <th class=\"blank\" ></th>        <th class=\"blank\" ></th>        <th class=\"blank\" ></th>        <th class=\"blank\" ></th>    </tr></thead><tbody>\n",
       "                <tr>\n",
       "                        <th id=\"T_d507d_level0_row0\" class=\"row_heading level0 row0\" >smart</th>\n",
       "                        <td id=\"T_d507d_row0_col0\" class=\"data row0 col0\" >422.00</td>\n",
       "                        <td id=\"T_d507d_row0_col1\" class=\"data row0 col1\" >417.93</td>\n",
       "                        <td id=\"T_d507d_row0_col2\" class=\"data row0 col2\" >36219.32</td>\n",
       "                        <td id=\"T_d507d_row0_col3\" class=\"data row0 col3\" >190.31</td>\n",
       "            </tr>\n",
       "            <tr>\n",
       "                        <th id=\"T_d507d_level0_row1\" class=\"row_heading level0 row1\" >ultra</th>\n",
       "                        <td id=\"T_d507d_row1_col0\" class=\"data row1 col0\" >518.00</td>\n",
       "                        <td id=\"T_d507d_row1_col1\" class=\"data row1 col1\" >526.62</td>\n",
       "                        <td id=\"T_d507d_row1_col2\" class=\"data row1 col2\" >100873.63</td>\n",
       "                        <td id=\"T_d507d_row1_col3\" class=\"data row1 col3\" >317.61</td>\n",
       "            </tr>\n",
       "    </tbody></table>"
      ],
      "text/plain": [
       "<pandas.io.formats.style.Styler at 0x7fe9d11ff5e0>"
      ]
     },
     "execution_count": 61,
     "metadata": {},
     "output_type": "execute_result"
    }
   ],
   "source": [
    "df.groupby('tariff').agg({'amount_duration_calls':['median','mean','var','std']}).style.format(\"{:.2f}\")"
   ]
  },
  {
   "cell_type": "markdown",
   "id": "01e3a718",
   "metadata": {},
   "source": [
    "<div class=\"alert alert-block alert-danger\">\n",
    "    \n",
    "\n",
    "### Комментарий от ревьюера v_1\n",
    "Критично\n",
    "    \n",
    "Нужна ведь длительность звонков.\n",
    "    \n",
    "И для гистограмм также\n",
    "</div>"
   ]
  },
  {
   "cell_type": "markdown",
   "id": "7c817c84",
   "metadata": {},
   "source": [
    "<div class=\"alert alert-block alert-info\">\n",
    "<b>💾 Fixed:</b> \n",
    "Теперь порядок  ✔\n",
    "</div>"
   ]
  },
  {
   "cell_type": "markdown",
   "id": "6b5b92b4",
   "metadata": {},
   "source": [
    "<div class=\"alert alert-block alert-success\">\n",
    "\n",
    "    \n",
    "### Комментарий от ревьюера v_2\n",
    "\n",
    "👍🏻\n",
    "    \n",
    "</div>"
   ]
  },
  {
   "cell_type": "code",
   "execution_count": 62,
   "id": "ea7cbb02",
   "metadata": {},
   "outputs": [
    {
     "data": {
      "text/html": [
       "<style  type=\"text/css\" >\n",
       "</style><table id=\"T_0712c_\" ><thead>    <tr>        <th class=\"blank level0\" ></th>        <th class=\"col_heading level0 col0\" colspan=\"4\">amount_messages_sms</th>    </tr>    <tr>        <th class=\"blank level1\" ></th>        <th class=\"col_heading level1 col0\" >median</th>        <th class=\"col_heading level1 col1\" >mean</th>        <th class=\"col_heading level1 col2\" >var</th>        <th class=\"col_heading level1 col3\" >std</th>    </tr>    <tr>        <th class=\"index_name level0\" >tariff</th>        <th class=\"blank\" ></th>        <th class=\"blank\" ></th>        <th class=\"blank\" ></th>        <th class=\"blank\" ></th>    </tr></thead><tbody>\n",
       "                <tr>\n",
       "                        <th id=\"T_0712c_level0_row0\" class=\"row_heading level0 row0\" >smart</th>\n",
       "                        <td id=\"T_0712c_row0_col0\" class=\"data row0 col0\" >28.00</td>\n",
       "                        <td id=\"T_0712c_row0_col1\" class=\"data row0 col1\" >33.38</td>\n",
       "                        <td id=\"T_0712c_row0_col2\" class=\"data row0 col2\" >796.81</td>\n",
       "                        <td id=\"T_0712c_row0_col3\" class=\"data row0 col3\" >28.23</td>\n",
       "            </tr>\n",
       "            <tr>\n",
       "                        <th id=\"T_0712c_level0_row1\" class=\"row_heading level0 row1\" >ultra</th>\n",
       "                        <td id=\"T_0712c_row1_col0\" class=\"data row1 col0\" >38.00</td>\n",
       "                        <td id=\"T_0712c_row1_col1\" class=\"data row1 col1\" >49.36</td>\n",
       "                        <td id=\"T_0712c_row1_col2\" class=\"data row1 col2\" >2285.27</td>\n",
       "                        <td id=\"T_0712c_row1_col3\" class=\"data row1 col3\" >47.80</td>\n",
       "            </tr>\n",
       "    </tbody></table>"
      ],
      "text/plain": [
       "<pandas.io.formats.style.Styler at 0x7fe9d1040430>"
      ]
     },
     "execution_count": 62,
     "metadata": {},
     "output_type": "execute_result"
    }
   ],
   "source": [
    "df.groupby('tariff').agg({'amount_messages_sms':['median','mean','var','std']}).style.format(\"{:.2f}\")"
   ]
  },
  {
   "cell_type": "code",
   "execution_count": 63,
   "id": "118c4091",
   "metadata": {},
   "outputs": [
    {
     "data": {
      "text/html": [
       "<style  type=\"text/css\" >\n",
       "</style><table id=\"T_72c54_\" ><thead>    <tr>        <th class=\"blank level0\" ></th>        <th class=\"col_heading level0 col0\" colspan=\"4\">amount_internet_GB</th>    </tr>    <tr>        <th class=\"blank level1\" ></th>        <th class=\"col_heading level1 col0\" >median</th>        <th class=\"col_heading level1 col1\" >mean</th>        <th class=\"col_heading level1 col2\" >var</th>        <th class=\"col_heading level1 col3\" >std</th>    </tr>    <tr>        <th class=\"index_name level0\" >tariff</th>        <th class=\"blank\" ></th>        <th class=\"blank\" ></th>        <th class=\"blank\" ></th>        <th class=\"blank\" ></th>    </tr></thead><tbody>\n",
       "                <tr>\n",
       "                        <th id=\"T_72c54_level0_row0\" class=\"row_heading level0 row0\" >smart</th>\n",
       "                        <td id=\"T_72c54_row0_col0\" class=\"data row0 col0\" >17.00</td>\n",
       "                        <td id=\"T_72c54_row0_col1\" class=\"data row0 col1\" >16.33</td>\n",
       "                        <td id=\"T_72c54_row0_col2\" class=\"data row0 col2\" >33.03</td>\n",
       "                        <td id=\"T_72c54_row0_col3\" class=\"data row0 col3\" >5.75</td>\n",
       "            </tr>\n",
       "            <tr>\n",
       "                        <th id=\"T_72c54_level0_row1\" class=\"row_heading level0 row1\" >ultra</th>\n",
       "                        <td id=\"T_72c54_row1_col0\" class=\"data row1 col0\" >19.00</td>\n",
       "                        <td id=\"T_72c54_row1_col1\" class=\"data row1 col1\" >19.49</td>\n",
       "                        <td id=\"T_72c54_row1_col2\" class=\"data row1 col2\" >97.09</td>\n",
       "                        <td id=\"T_72c54_row1_col3\" class=\"data row1 col3\" >9.85</td>\n",
       "            </tr>\n",
       "    </tbody></table>"
      ],
      "text/plain": [
       "<pandas.io.formats.style.Styler at 0x7fe9d12189a0>"
      ]
     },
     "execution_count": 63,
     "metadata": {},
     "output_type": "execute_result"
    }
   ],
   "source": [
    "df.groupby('tariff').agg({'amount_internet_GB':['median','mean','var','std']}).style.format(\"{:.2f}\")"
   ]
  },
  {
   "cell_type": "code",
   "execution_count": 64,
   "id": "190b1f79",
   "metadata": {},
   "outputs": [
    {
     "data": {
      "text/html": [
       "<style  type=\"text/css\" >\n",
       "</style><table id=\"T_c974b_\" ><thead>    <tr>        <th class=\"blank level0\" ></th>        <th class=\"col_heading level0 col0\" colspan=\"4\">revenu</th>    </tr>    <tr>        <th class=\"blank level1\" ></th>        <th class=\"col_heading level1 col0\" >median</th>        <th class=\"col_heading level1 col1\" >mean</th>        <th class=\"col_heading level1 col2\" >var</th>        <th class=\"col_heading level1 col3\" >std</th>    </tr>    <tr>        <th class=\"index_name level0\" >tariff</th>        <th class=\"blank\" ></th>        <th class=\"blank\" ></th>        <th class=\"blank\" ></th>        <th class=\"blank\" ></th>    </tr></thead><tbody>\n",
       "                <tr>\n",
       "                        <th id=\"T_c974b_level0_row0\" class=\"row_heading level0 row0\" >smart</th>\n",
       "                        <td id=\"T_c974b_row0_col0\" class=\"data row0 col0\" >1023.00</td>\n",
       "                        <td id=\"T_c974b_row0_col1\" class=\"data row0 col1\" >1289.97</td>\n",
       "                        <td id=\"T_c974b_row0_col2\" class=\"data row0 col2\" >669785.71</td>\n",
       "                        <td id=\"T_c974b_row0_col3\" class=\"data row0 col3\" >818.40</td>\n",
       "            </tr>\n",
       "            <tr>\n",
       "                        <th id=\"T_c974b_level0_row1\" class=\"row_heading level0 row1\" >ultra</th>\n",
       "                        <td id=\"T_c974b_row1_col0\" class=\"data row1 col0\" >1950.00</td>\n",
       "                        <td id=\"T_c974b_row1_col1\" class=\"data row1 col1\" >2070.15</td>\n",
       "                        <td id=\"T_c974b_row1_col2\" class=\"data row1 col2\" >141516.75</td>\n",
       "                        <td id=\"T_c974b_row1_col3\" class=\"data row1 col3\" >376.19</td>\n",
       "            </tr>\n",
       "    </tbody></table>"
      ],
      "text/plain": [
       "<pandas.io.formats.style.Styler at 0x7fe9d1139730>"
      ]
     },
     "execution_count": 64,
     "metadata": {},
     "output_type": "execute_result"
    }
   ],
   "source": [
    "df.groupby('tariff').agg({'revenu':['median','mean','var','std']}).style.format(\"{:.2f}\")"
   ]
  },
  {
   "cell_type": "markdown",
   "id": "338e4deb",
   "metadata": {},
   "source": [
    "<div class=\"alert alert-block alert-success\">\n",
    "    \n",
    "\n",
    "### Комментарий от ревьюера v_1\n",
    "Отлично\n",
    "    \n",
    "Оптимальный способ расчета статистических показателей 👍🏻\n",
    "    \n",
    "Но почему все сразу не рассчитать?))\n",
    "</div>"
   ]
  },
  {
   "cell_type": "code",
   "execution_count": 65,
   "id": "8e5eed3f",
   "metadata": {},
   "outputs": [
    {
     "data": {
      "text/plain": [
       "[Text(0.5, 1.0, 'Распределение звонков по тарифам'),\n",
       " Text(0.5, 0, 'Кол-во звонков за месяц'),\n",
       " Text(0, 0.5, 'Количество')]"
      ]
     },
     "execution_count": 65,
     "metadata": {},
     "output_type": "execute_result"
    },
    {
     "data": {
      "image/png": "[encoded data removed]",
      "text/plain": [
       "<Figure size 432x288 with 1 Axes>"
      ]
     },
     "metadata": {
      "needs_background": "light"
     },
     "output_type": "display_data"
    }
   ],
   "source": [
    "ax = smart.plot(kind='hist', histtype='step', y='amount_duration_calls', bins=20, label='smart', alpha=0.5, linewidth=3)\n",
    "ultra.plot(kind='hist', y='amount_duration_calls', bins=20, ax=ax, label='ultra', alpha=0.5, linewidth=5, grid=True).set(\n",
    "    title='Распределение звонков по тарифам', xlabel='Кол-во звонков за месяц', ylabel='Количество')"
   ]
  },
  {
   "cell_type": "code",
   "execution_count": 66,
   "id": "527c4298",
   "metadata": {},
   "outputs": [
    {
     "data": {
      "text/plain": [
       "[Text(0.5, 1.0, 'Распределение сообщений по тарифам'),\n",
       " Text(0.5, 0, 'Кол-во сообщений за месяц'),\n",
       " Text(0, 0.5, 'Количество')]"
      ]
     },
     "execution_count": 66,
     "metadata": {},
     "output_type": "execute_result"
    },
    {
     "data": {
      "image/png": "[encoded data removed]",
      "text/plain": [
       "<Figure size 432x288 with 1 Axes>"
      ]
     },
     "metadata": {
      "needs_background": "light"
     },
     "output_type": "display_data"
    }
   ],
   "source": [
    "ax = smart.plot(kind='hist', histtype='step', y='amount_messages_sms', bins=20, label='smart', alpha=0.5, linewidth=3)\n",
    "ultra.plot(kind='hist', y='amount_messages_sms', bins=20, ax=ax, label='ultra', alpha=0.5, linewidth=5, grid=True).set(\n",
    "    title='Распределение сообщений по тарифам', xlabel='Кол-во сообщений за месяц', ylabel='Количество')"
   ]
  },
  {
   "cell_type": "code",
   "execution_count": 67,
   "id": "76a8926b",
   "metadata": {},
   "outputs": [
    {
     "data": {
      "text/plain": [
       "[Text(0.5, 1.0, 'Распределение интернет трафика по тарифам'),\n",
       " Text(0.5, 0, 'Кол-во гигобайт за месяц'),\n",
       " Text(0, 0.5, 'Количество')]"
      ]
     },
     "execution_count": 67,
     "metadata": {},
     "output_type": "execute_result"
    },
    {
     "data": {
      "image/png": "[encoded data removed]",
      "text/plain": [
       "<Figure size 432x288 with 1 Axes>"
      ]
     },
     "metadata": {
      "needs_background": "light"
     },
     "output_type": "display_data"
    }
   ],
   "source": [
    "ax = smart.plot(kind='hist', histtype='step', y='amount_internet_GB', bins=20, label='smart', alpha=0.5, linewidth=3)\n",
    "ultra.plot(kind='hist', y='amount_internet_GB', bins=20, ax=ax, label='ultra', alpha=0.5, linewidth=5, grid=True).set(\n",
    "    title='Распределение интернет трафика по тарифам', xlabel='Кол-во гигобайт за месяц', ylabel='Количество')"
   ]
  },
  {
   "cell_type": "code",
   "execution_count": 68,
   "id": "dd6b6161",
   "metadata": {},
   "outputs": [
    {
     "data": {
      "image/png": "[encoded data removed]",
      "text/plain": [
       "<Figure size 432x288 with 1 Axes>"
      ]
     },
     "metadata": {
      "needs_background": "light"
     },
     "output_type": "display_data"
    }
   ],
   "source": [
    "ax = smart.plot(kind='hist', histtype='step', y='revenu', bins=20, label='smart', alpha=0.5, linewidth=2)\n",
    "ax_4 = ultra.plot(kind='hist', y='revenu', bins=20, ax=ax, label='ultra', alpha=0.5, linewidth=5, grid=True).set(\n",
    "    title='Распределение выручки по тарифам', xlabel='Варучка с каждого пользователя за месяц, руб', ylabel='Количество')"
   ]
  },
  {
   "cell_type": "markdown",
   "id": "12858e22",
   "metadata": {},
   "source": [
    "<div class=\"alert alert-block alert-success\">\n",
    "    \n",
    "\n",
    "### Комментарий от ревьюера v_1\n",
    "Отлично\n",
    "    \n",
    "Гистограммы отличные, если есть желание и время, можешь попробовать сделать данный пункт еще элегантнее и лаконичнее. Для этого выведи графики рядом друг с другом. \n",
    "    \n",
    "Чтобы вывести графики рядом друг с другом используются сабплоты. \n",
    "    \n",
    "Рекомендую ознакомиться со статьей, там отлично написано как ведет себя matplotlib\n",
    "    \n",
    "https://pyprog.pro/mpl/mpl_main_components.html\n",
    "</div>"
   ]
  },
  {
   "cell_type": "markdown",
   "id": "319b4a91",
   "metadata": {},
   "source": [
    "#### Вывод"
   ]
  },
  {
   "cell_type": "markdown",
   "id": "24245b5d",
   "metadata": {},
   "source": [
    "Можно сказать, что и в смарт и в ультра любят общение. У пользователей основная часть звонков находится в продолжительности от 40 до 70 минут, пользователи ультры так же любят поболтать, в основном продолжительность звонков от 40 до 75 минут, а также пользователям ультры принадлежат самые длинные звонки.\n",
    "\n",
    "Ситуация по сообщениям. Здесь так же  выигрывает ультра, в средним пользователи тарифа отсылают на 16 сообщений больше, а вот в ситуации по трафику атрыф менее заметный, пользователи тарифа смарт почти также активно потребляют трафик как и пользователи тарифа ультра.\n",
    "\n",
    "В среднем выручка от пользователей тарифа смарт выше, видимо они часто выходят за бесплатные лимиты своего тарифа, что в целом выгодно для оператора."
   ]
  },
  {
   "cell_type": "markdown",
   "id": "92929be8",
   "metadata": {},
   "source": [
    "# Проверка гипотез"
   ]
  },
  {
   "cell_type": "markdown",
   "id": "532cb710",
   "metadata": {},
   "source": [
    "**Гипотизы**\n",
    "\n",
    "1. \n",
    "- H0: выручка пользователей тарифов «Ультра» и «Смарт» не различается\n",
    "- H1: выручка пользователей тарифов «Ультра» и «Смарт» различается\n",
    "\n",
    "2. \n",
    "\n",
    "- H0: средняя выручка пользователей из Москвы не отличается от выручки пользователей из других регионов\n",
    "- H1: средняя выручка пользователей из Москвы отличается от выручки пользователей из других регионов\n",
    "\n",
    "Для проверки гипотез будем использовать t-критерий Стьюдента, так как сравниваемые выборки независимы между собой."
   ]
  },
  {
   "cell_type": "markdown",
   "id": "31842ade",
   "metadata": {},
   "source": [
    "<div class=\"alert alert-block alert-success\">\n",
    "    \n",
    "\n",
    "### Комментарий от ревьюера v_1\n",
    "Отлично\n",
    "    \n",
    "Гипотезы сформулированы верно \n",
    "</div>"
   ]
  },
  {
   "cell_type": "markdown",
   "id": "1d316425",
   "metadata": {},
   "source": [
    "**Проверим гипотезу о равенстве средних двух генеральных совокупностей №1**\n",
    "\n",
    "Сформулируем гипотезы:\n",
    "\n",
    "H0: выручка пользователей тарифов «Ультра» и «Смарт» не различается\n",
    "\n",
    "H1: выручка пользователей тарифов «Ультра» и «Смарт» различается"
   ]
  },
  {
   "cell_type": "code",
   "execution_count": 69,
   "id": "23c528bd",
   "metadata": {},
   "outputs": [],
   "source": [
    "alpha=0.05"
   ]
  },
  {
   "cell_type": "code",
   "execution_count": 70,
   "id": "fffa8df6",
   "metadata": {},
   "outputs": [],
   "source": [
    "smart_revenu = smart['revenu']"
   ]
  },
  {
   "cell_type": "code",
   "execution_count": 71,
   "id": "312055c9",
   "metadata": {},
   "outputs": [],
   "source": [
    "ultra_revenu = ultra['revenu']"
   ]
  },
  {
   "cell_type": "code",
   "execution_count": 72,
   "id": "04e7e99b",
   "metadata": {},
   "outputs": [],
   "source": [
    "results = st.ttest_ind(ultra_revenu, smart_revenu)"
   ]
  },
  {
   "cell_type": "code",
   "execution_count": 73,
   "id": "14ab30c1",
   "metadata": {},
   "outputs": [
    {
     "name": "stdout",
     "output_type": "stream",
     "text": [
      "p-значение: 1.4229814360764067e-160\n",
      "Отвергаем нулевую гипотезу\n"
     ]
    }
   ],
   "source": [
    "print('p-значение:', results.pvalue)\n",
    "\n",
    "if (results.pvalue < alpha):\n",
    "    print(\"Отвергаем нулевую гипотезу\")\n",
    "else:\n",
    "    print(\"Не получилось отвергнуть нулевую гипотезу\")"
   ]
  },
  {
   "cell_type": "markdown",
   "id": "c202f18a",
   "metadata": {},
   "source": [
    "**Результат статистической оценки дает основание предположить, что нуливая гипотиза Н0 неверна**\n"
   ]
  },
  {
   "cell_type": "markdown",
   "id": "22b71228",
   "metadata": {},
   "source": [
    "<div class=\"alert alert-block alert-warning\"> \n",
    "    \n",
    "### Комментарий от ревьюера v_1\n",
    "Рекомендация\n",
    "\n",
    "Статистика не подтверждает или опровергает гипотезу, а дает основание предполагать, что гипотеза верна или не верна\n",
    "    \n",
    "</div>"
   ]
  },
  {
   "cell_type": "markdown",
   "id": "7f2562a5",
   "metadata": {},
   "source": [
    "<div class=\"alert alert-block alert-info\">\n",
    "<b>💾 Fixed:</b> \n",
    "Поправил вывод из статистической проверки гипотизы  ✔\n",
    "</div>"
   ]
  },
  {
   "cell_type": "markdown",
   "id": "4c687554",
   "metadata": {},
   "source": [
    "<div class=\"alert alert-block alert-success\">\n",
    "\n",
    "    \n",
    "### Комментарий от ревьюера v_2\n",
    "\n",
    "👍🏻\n",
    "    \n",
    "</div>"
   ]
  },
  {
   "cell_type": "markdown",
   "id": "f4e8f0c2",
   "metadata": {},
   "source": [
    "**Проверим гипотезу о равенстве средних двух генеральных совокупностей №2**\n",
    "\n",
    "Сформулируем гипотезы:\n",
    "\n",
    "H0: средняя выручка пользователей из Москвы не отличается от выручки пользователей из других регионов\n",
    "\n",
    "H1: средняя выручка пользователей из Москвы отличается от выручки пользователей из других регионов"
   ]
  },
  {
   "cell_type": "code",
   "execution_count": 74,
   "id": "fc4bd232",
   "metadata": {},
   "outputs": [
    {
     "data": {
      "text/html": [
       "<div>\n",
       "<style scoped>\n",
       "    .dataframe tbody tr th:only-of-type {\n",
       "        vertical-align: middle;\n",
       "    }\n",
       "\n",
       "    .dataframe tbody tr th {\n",
       "        vertical-align: top;\n",
       "    }\n",
       "\n",
       "    .dataframe thead th {\n",
       "        text-align: right;\n",
       "    }\n",
       "</style>\n",
       "<table border=\"1\" class=\"dataframe\">\n",
       "  <thead>\n",
       "    <tr style=\"text-align: right;\">\n",
       "      <th></th>\n",
       "      <th>user_id</th>\n",
       "      <th>month</th>\n",
       "      <th>amount_calls</th>\n",
       "      <th>amount_duration_calls</th>\n",
       "      <th>amount_messages_sms</th>\n",
       "      <th>amount_internet</th>\n",
       "      <th>amount_internet_GB</th>\n",
       "      <th>age</th>\n",
       "      <th>churn_date</th>\n",
       "      <th>city</th>\n",
       "      <th>first_name</th>\n",
       "      <th>last_name</th>\n",
       "      <th>reg_date</th>\n",
       "      <th>tariff</th>\n",
       "      <th>messages_included</th>\n",
       "      <th>mb_per_month_included</th>\n",
       "      <th>minutes_included</th>\n",
       "      <th>rub_monthly_fee</th>\n",
       "      <th>rub_per_gb</th>\n",
       "      <th>rub_per_message</th>\n",
       "      <th>rub_per_minute</th>\n",
       "      <th>revenu</th>\n",
       "    </tr>\n",
       "  </thead>\n",
       "  <tbody>\n",
       "    <tr>\n",
       "      <th>0</th>\n",
       "      <td>1005</td>\n",
       "      <td>April</td>\n",
       "      <td>101.00</td>\n",
       "      <td>712.00</td>\n",
       "      <td>41.00</td>\n",
       "      <td>9,351.72</td>\n",
       "      <td>10.00</td>\n",
       "      <td>67</td>\n",
       "      <td>NaT</td>\n",
       "      <td>Набережные Челны</td>\n",
       "      <td>Афанасий</td>\n",
       "      <td>Горлов</td>\n",
       "      <td>2018-01-25</td>\n",
       "      <td>smart</td>\n",
       "      <td>50</td>\n",
       "      <td>15360</td>\n",
       "      <td>500</td>\n",
       "      <td>550</td>\n",
       "      <td>200</td>\n",
       "      <td>3</td>\n",
       "      <td>3</td>\n",
       "      <td>1,186.00</td>\n",
       "    </tr>\n",
       "    <tr>\n",
       "      <th>1</th>\n",
       "      <td>1005</td>\n",
       "      <td>August</td>\n",
       "      <td>71.00</td>\n",
       "      <td>619.00</td>\n",
       "      <td>64.00</td>\n",
       "      <td>7,543.63</td>\n",
       "      <td>8.00</td>\n",
       "      <td>67</td>\n",
       "      <td>NaT</td>\n",
       "      <td>Набережные Челны</td>\n",
       "      <td>Афанасий</td>\n",
       "      <td>Горлов</td>\n",
       "      <td>2018-01-25</td>\n",
       "      <td>smart</td>\n",
       "      <td>50</td>\n",
       "      <td>15360</td>\n",
       "      <td>500</td>\n",
       "      <td>550</td>\n",
       "      <td>200</td>\n",
       "      <td>3</td>\n",
       "      <td>3</td>\n",
       "      <td>949.00</td>\n",
       "    </tr>\n",
       "    <tr>\n",
       "      <th>2</th>\n",
       "      <td>1005</td>\n",
       "      <td>December</td>\n",
       "      <td>84.00</td>\n",
       "      <td>592.00</td>\n",
       "      <td>54.00</td>\n",
       "      <td>8,668.19</td>\n",
       "      <td>9.00</td>\n",
       "      <td>67</td>\n",
       "      <td>NaT</td>\n",
       "      <td>Набережные Челны</td>\n",
       "      <td>Афанасий</td>\n",
       "      <td>Горлов</td>\n",
       "      <td>2018-01-25</td>\n",
       "      <td>smart</td>\n",
       "      <td>50</td>\n",
       "      <td>15360</td>\n",
       "      <td>500</td>\n",
       "      <td>550</td>\n",
       "      <td>200</td>\n",
       "      <td>3</td>\n",
       "      <td>3</td>\n",
       "      <td>838.00</td>\n",
       "    </tr>\n",
       "    <tr>\n",
       "      <th>3</th>\n",
       "      <td>1005</td>\n",
       "      <td>February</td>\n",
       "      <td>69.00</td>\n",
       "      <td>456.00</td>\n",
       "      <td>38.00</td>\n",
       "      <td>7,383.93</td>\n",
       "      <td>8.00</td>\n",
       "      <td>67</td>\n",
       "      <td>NaT</td>\n",
       "      <td>Набережные Челны</td>\n",
       "      <td>Афанасий</td>\n",
       "      <td>Горлов</td>\n",
       "      <td>2018-01-25</td>\n",
       "      <td>smart</td>\n",
       "      <td>50</td>\n",
       "      <td>15360</td>\n",
       "      <td>500</td>\n",
       "      <td>550</td>\n",
       "      <td>200</td>\n",
       "      <td>3</td>\n",
       "      <td>3</td>\n",
       "      <td>550.00</td>\n",
       "    </tr>\n",
       "    <tr>\n",
       "      <th>4</th>\n",
       "      <td>1005</td>\n",
       "      <td>January</td>\n",
       "      <td>15.00</td>\n",
       "      <td>95.00</td>\n",
       "      <td>7.00</td>\n",
       "      <td>2,727.97</td>\n",
       "      <td>3.00</td>\n",
       "      <td>67</td>\n",
       "      <td>NaT</td>\n",
       "      <td>Набережные Челны</td>\n",
       "      <td>Афанасий</td>\n",
       "      <td>Горлов</td>\n",
       "      <td>2018-01-25</td>\n",
       "      <td>smart</td>\n",
       "      <td>50</td>\n",
       "      <td>15360</td>\n",
       "      <td>500</td>\n",
       "      <td>550</td>\n",
       "      <td>200</td>\n",
       "      <td>3</td>\n",
       "      <td>3</td>\n",
       "      <td>550.00</td>\n",
       "    </tr>\n",
       "  </tbody>\n",
       "</table>\n",
       "</div>"
      ],
      "text/plain": [
       "   user_id     month  amount_calls  amount_duration_calls  \\\n",
       "0     1005     April        101.00                 712.00   \n",
       "1     1005    August         71.00                 619.00   \n",
       "2     1005  December         84.00                 592.00   \n",
       "3     1005  February         69.00                 456.00   \n",
       "4     1005   January         15.00                  95.00   \n",
       "\n",
       "   amount_messages_sms  amount_internet  amount_internet_GB  age churn_date  \\\n",
       "0                41.00         9,351.72               10.00   67        NaT   \n",
       "1                64.00         7,543.63                8.00   67        NaT   \n",
       "2                54.00         8,668.19                9.00   67        NaT   \n",
       "3                38.00         7,383.93                8.00   67        NaT   \n",
       "4                 7.00         2,727.97                3.00   67        NaT   \n",
       "\n",
       "               city first_name last_name   reg_date tariff  messages_included  \\\n",
       "0  Набережные Челны   Афанасий    Горлов 2018-01-25  smart                 50   \n",
       "1  Набережные Челны   Афанасий    Горлов 2018-01-25  smart                 50   \n",
       "2  Набережные Челны   Афанасий    Горлов 2018-01-25  smart                 50   \n",
       "3  Набережные Челны   Афанасий    Горлов 2018-01-25  smart                 50   \n",
       "4  Набережные Челны   Афанасий    Горлов 2018-01-25  smart                 50   \n",
       "\n",
       "   mb_per_month_included  minutes_included  rub_monthly_fee  rub_per_gb  \\\n",
       "0                  15360               500              550         200   \n",
       "1                  15360               500              550         200   \n",
       "2                  15360               500              550         200   \n",
       "3                  15360               500              550         200   \n",
       "4                  15360               500              550         200   \n",
       "\n",
       "   rub_per_message  rub_per_minute   revenu  \n",
       "0                3               3 1,186.00  \n",
       "1                3               3   949.00  \n",
       "2                3               3   838.00  \n",
       "3                3               3   550.00  \n",
       "4                3               3   550.00  "
      ]
     },
     "execution_count": 74,
     "metadata": {},
     "output_type": "execute_result"
    }
   ],
   "source": [
    "df.head()"
   ]
  },
  {
   "cell_type": "code",
   "execution_count": 75,
   "id": "d7efadc4",
   "metadata": {},
   "outputs": [
    {
     "data": {
      "text/plain": [
       "array(['Набережные Челны', 'Ульяновск', 'Москва', 'Пермь', 'Самара',\n",
       "       'Санкт-Петербург', 'Челябинск', 'Уфа', 'Краснодар', 'Петрозаводск',\n",
       "       'Тюмень', 'Улан-Удэ', 'Омск', 'Казань', 'Иркутск', 'Курск', 'Тула',\n",
       "       'Якутск', 'Сочи', 'Волгоград', 'Брянск', 'Тольятти',\n",
       "       'Нижний Тагил', 'Чита', 'Красноярск', 'Архангельск', 'Новосибирск',\n",
       "       'Мурманск', 'Ставрополь', 'Новокузнецк', 'Магнитогорск',\n",
       "       'Кострома', 'Вологда', 'Тамбов', 'Киров', 'Оренбург',\n",
       "       'Нижний Новгород', 'Ростов-на-Дону', 'Воронеж', 'Смоленск',\n",
       "       'Саранск', 'Балашиха', 'Хабаровск', 'Владивосток', 'Курган',\n",
       "       'Новороссийск', 'Пенза', 'Рязань', 'Махачкала', 'Орёл',\n",
       "       'Калининград', 'Астрахань', 'Тверь', 'Подольск', 'Томск',\n",
       "       'Саратов', 'Барнаул', 'Ижевск', 'Ярославль', 'Стерлитамак',\n",
       "       'Чебоксары', 'Химки', 'Белгород', 'Екатеринбург', 'Сургут',\n",
       "       'Волжский', 'Севастополь', 'Калуга', 'Нижневартовск', 'Череповец',\n",
       "       'Владимир', 'Грозный', 'Липецк', 'Владикавказ', 'Иваново',\n",
       "       'Кемерово'], dtype=object)"
      ]
     },
     "execution_count": 75,
     "metadata": {},
     "output_type": "execute_result"
    }
   ],
   "source": [
    "df['city'].unique()"
   ]
  },
  {
   "cell_type": "code",
   "execution_count": 76,
   "id": "6fbb8230",
   "metadata": {},
   "outputs": [],
   "source": [
    "df['region'] = np.where(df['city'] == 'Москва', 'Москва', 'Провинция')"
   ]
  },
  {
   "cell_type": "code",
   "execution_count": 77,
   "id": "b5a6870d",
   "metadata": {},
   "outputs": [
    {
     "data": {
      "text/html": [
       "<div>\n",
       "<style scoped>\n",
       "    .dataframe tbody tr th:only-of-type {\n",
       "        vertical-align: middle;\n",
       "    }\n",
       "\n",
       "    .dataframe tbody tr th {\n",
       "        vertical-align: top;\n",
       "    }\n",
       "\n",
       "    .dataframe thead th {\n",
       "        text-align: right;\n",
       "    }\n",
       "</style>\n",
       "<table border=\"1\" class=\"dataframe\">\n",
       "  <thead>\n",
       "    <tr style=\"text-align: right;\">\n",
       "      <th></th>\n",
       "      <th>user_id</th>\n",
       "      <th>month</th>\n",
       "      <th>amount_calls</th>\n",
       "      <th>amount_duration_calls</th>\n",
       "      <th>amount_messages_sms</th>\n",
       "      <th>amount_internet</th>\n",
       "      <th>amount_internet_GB</th>\n",
       "      <th>age</th>\n",
       "      <th>churn_date</th>\n",
       "      <th>city</th>\n",
       "      <th>first_name</th>\n",
       "      <th>last_name</th>\n",
       "      <th>reg_date</th>\n",
       "      <th>tariff</th>\n",
       "      <th>messages_included</th>\n",
       "      <th>mb_per_month_included</th>\n",
       "      <th>minutes_included</th>\n",
       "      <th>rub_monthly_fee</th>\n",
       "      <th>rub_per_gb</th>\n",
       "      <th>rub_per_message</th>\n",
       "      <th>rub_per_minute</th>\n",
       "      <th>revenu</th>\n",
       "      <th>region</th>\n",
       "    </tr>\n",
       "  </thead>\n",
       "  <tbody>\n",
       "    <tr>\n",
       "      <th>0</th>\n",
       "      <td>1005</td>\n",
       "      <td>April</td>\n",
       "      <td>101.00</td>\n",
       "      <td>712.00</td>\n",
       "      <td>41.00</td>\n",
       "      <td>9,351.72</td>\n",
       "      <td>10.00</td>\n",
       "      <td>67</td>\n",
       "      <td>NaT</td>\n",
       "      <td>Набережные Челны</td>\n",
       "      <td>Афанасий</td>\n",
       "      <td>Горлов</td>\n",
       "      <td>2018-01-25</td>\n",
       "      <td>smart</td>\n",
       "      <td>50</td>\n",
       "      <td>15360</td>\n",
       "      <td>500</td>\n",
       "      <td>550</td>\n",
       "      <td>200</td>\n",
       "      <td>3</td>\n",
       "      <td>3</td>\n",
       "      <td>1,186.00</td>\n",
       "      <td>Провинция</td>\n",
       "    </tr>\n",
       "    <tr>\n",
       "      <th>1</th>\n",
       "      <td>1005</td>\n",
       "      <td>August</td>\n",
       "      <td>71.00</td>\n",
       "      <td>619.00</td>\n",
       "      <td>64.00</td>\n",
       "      <td>7,543.63</td>\n",
       "      <td>8.00</td>\n",
       "      <td>67</td>\n",
       "      <td>NaT</td>\n",
       "      <td>Набережные Челны</td>\n",
       "      <td>Афанасий</td>\n",
       "      <td>Горлов</td>\n",
       "      <td>2018-01-25</td>\n",
       "      <td>smart</td>\n",
       "      <td>50</td>\n",
       "      <td>15360</td>\n",
       "      <td>500</td>\n",
       "      <td>550</td>\n",
       "      <td>200</td>\n",
       "      <td>3</td>\n",
       "      <td>3</td>\n",
       "      <td>949.00</td>\n",
       "      <td>Провинция</td>\n",
       "    </tr>\n",
       "    <tr>\n",
       "      <th>2</th>\n",
       "      <td>1005</td>\n",
       "      <td>December</td>\n",
       "      <td>84.00</td>\n",
       "      <td>592.00</td>\n",
       "      <td>54.00</td>\n",
       "      <td>8,668.19</td>\n",
       "      <td>9.00</td>\n",
       "      <td>67</td>\n",
       "      <td>NaT</td>\n",
       "      <td>Набережные Челны</td>\n",
       "      <td>Афанасий</td>\n",
       "      <td>Горлов</td>\n",
       "      <td>2018-01-25</td>\n",
       "      <td>smart</td>\n",
       "      <td>50</td>\n",
       "      <td>15360</td>\n",
       "      <td>500</td>\n",
       "      <td>550</td>\n",
       "      <td>200</td>\n",
       "      <td>3</td>\n",
       "      <td>3</td>\n",
       "      <td>838.00</td>\n",
       "      <td>Провинция</td>\n",
       "    </tr>\n",
       "    <tr>\n",
       "      <th>3</th>\n",
       "      <td>1005</td>\n",
       "      <td>February</td>\n",
       "      <td>69.00</td>\n",
       "      <td>456.00</td>\n",
       "      <td>38.00</td>\n",
       "      <td>7,383.93</td>\n",
       "      <td>8.00</td>\n",
       "      <td>67</td>\n",
       "      <td>NaT</td>\n",
       "      <td>Набережные Челны</td>\n",
       "      <td>Афанасий</td>\n",
       "      <td>Горлов</td>\n",
       "      <td>2018-01-25</td>\n",
       "      <td>smart</td>\n",
       "      <td>50</td>\n",
       "      <td>15360</td>\n",
       "      <td>500</td>\n",
       "      <td>550</td>\n",
       "      <td>200</td>\n",
       "      <td>3</td>\n",
       "      <td>3</td>\n",
       "      <td>550.00</td>\n",
       "      <td>Провинция</td>\n",
       "    </tr>\n",
       "    <tr>\n",
       "      <th>4</th>\n",
       "      <td>1005</td>\n",
       "      <td>January</td>\n",
       "      <td>15.00</td>\n",
       "      <td>95.00</td>\n",
       "      <td>7.00</td>\n",
       "      <td>2,727.97</td>\n",
       "      <td>3.00</td>\n",
       "      <td>67</td>\n",
       "      <td>NaT</td>\n",
       "      <td>Набережные Челны</td>\n",
       "      <td>Афанасий</td>\n",
       "      <td>Горлов</td>\n",
       "      <td>2018-01-25</td>\n",
       "      <td>smart</td>\n",
       "      <td>50</td>\n",
       "      <td>15360</td>\n",
       "      <td>500</td>\n",
       "      <td>550</td>\n",
       "      <td>200</td>\n",
       "      <td>3</td>\n",
       "      <td>3</td>\n",
       "      <td>550.00</td>\n",
       "      <td>Провинция</td>\n",
       "    </tr>\n",
       "  </tbody>\n",
       "</table>\n",
       "</div>"
      ],
      "text/plain": [
       "   user_id     month  amount_calls  amount_duration_calls  \\\n",
       "0     1005     April        101.00                 712.00   \n",
       "1     1005    August         71.00                 619.00   \n",
       "2     1005  December         84.00                 592.00   \n",
       "3     1005  February         69.00                 456.00   \n",
       "4     1005   January         15.00                  95.00   \n",
       "\n",
       "   amount_messages_sms  amount_internet  amount_internet_GB  age churn_date  \\\n",
       "0                41.00         9,351.72               10.00   67        NaT   \n",
       "1                64.00         7,543.63                8.00   67        NaT   \n",
       "2                54.00         8,668.19                9.00   67        NaT   \n",
       "3                38.00         7,383.93                8.00   67        NaT   \n",
       "4                 7.00         2,727.97                3.00   67        NaT   \n",
       "\n",
       "               city first_name last_name   reg_date tariff  messages_included  \\\n",
       "0  Набережные Челны   Афанасий    Горлов 2018-01-25  smart                 50   \n",
       "1  Набережные Челны   Афанасий    Горлов 2018-01-25  smart                 50   \n",
       "2  Набережные Челны   Афанасий    Горлов 2018-01-25  smart                 50   \n",
       "3  Набережные Челны   Афанасий    Горлов 2018-01-25  smart                 50   \n",
       "4  Набережные Челны   Афанасий    Горлов 2018-01-25  smart                 50   \n",
       "\n",
       "   mb_per_month_included  minutes_included  rub_monthly_fee  rub_per_gb  \\\n",
       "0                  15360               500              550         200   \n",
       "1                  15360               500              550         200   \n",
       "2                  15360               500              550         200   \n",
       "3                  15360               500              550         200   \n",
       "4                  15360               500              550         200   \n",
       "\n",
       "   rub_per_message  rub_per_minute   revenu     region  \n",
       "0                3               3 1,186.00  Провинция  \n",
       "1                3               3   949.00  Провинция  \n",
       "2                3               3   838.00  Провинция  \n",
       "3                3               3   550.00  Провинция  \n",
       "4                3               3   550.00  Провинция  "
      ]
     },
     "execution_count": 77,
     "metadata": {},
     "output_type": "execute_result"
    }
   ],
   "source": [
    "df.head()"
   ]
  },
  {
   "cell_type": "code",
   "execution_count": 78,
   "id": "4a8c3e54",
   "metadata": {},
   "outputs": [],
   "source": [
    "moscow = df[df['region'] == 'Москва']\n",
    "province = df[df['region'] == 'Провинция']"
   ]
  },
  {
   "cell_type": "markdown",
   "id": "6efc7cbb",
   "metadata": {},
   "source": [
    "<div class=\"alert alert-block alert-warning\"> \n",
    "    \n",
    "### Комментарий от ревьюера v_1\n",
    "Рекомендация\n",
    "\n",
    "А чем просто фильтрация не устроила?))\n",
    "</div>"
   ]
  },
  {
   "cell_type": "markdown",
   "id": "d693295c",
   "metadata": {},
   "source": [
    "<div class=\"alert alert-block alert-info\">\n",
    "<b>💾 Fixed:</b> \n",
    "Решил, что такой формат пожет сделать код короче и понятней  ✔\n",
    "</div>"
   ]
  },
  {
   "cell_type": "markdown",
   "id": "c119a43a",
   "metadata": {},
   "source": [
    "<div class=\"alert alert-block alert-success\">\n",
    "\n",
    "    \n",
    "### Комментарий от ревьюера v_2\n",
    "\n",
    "Если просто == Москва, != Москва - меньше действий получается))\n",
    "    \n",
    "</div>"
   ]
  },
  {
   "cell_type": "code",
   "execution_count": 79,
   "id": "81b7a90f",
   "metadata": {},
   "outputs": [],
   "source": [
    "moscow_revenu = moscow['revenu']"
   ]
  },
  {
   "cell_type": "code",
   "execution_count": 80,
   "id": "b2cde85e",
   "metadata": {},
   "outputs": [],
   "source": [
    "province_revenu = province['revenu']"
   ]
  },
  {
   "cell_type": "code",
   "execution_count": 81,
   "id": "12354cf4",
   "metadata": {},
   "outputs": [],
   "source": [
    "results = st.ttest_ind(moscow_revenu, province_revenu)"
   ]
  },
  {
   "cell_type": "code",
   "execution_count": 82,
   "id": "a4c0c2f3",
   "metadata": {},
   "outputs": [
    {
     "name": "stdout",
     "output_type": "stream",
     "text": [
      "p-значение: 0.5440152911670224\n",
      "Не получилось отвергнуть нулевую гипотезу\n"
     ]
    }
   ],
   "source": [
    "print('p-значение:', results.pvalue)\n",
    "\n",
    "if (results.pvalue < alpha):\n",
    "    print(\"Отвергаем нулевую гипотезу\")\n",
    "else:\n",
    "    print(\"Не получилось отвергнуть нулевую гипотезу\")"
   ]
  },
  {
   "cell_type": "markdown",
   "id": "df141611",
   "metadata": {},
   "source": [
    "С вероятностью в 54,4% такой результат может быть получен случайно. Значимых различий нет."
   ]
  },
  {
   "cell_type": "markdown",
   "id": "139bc798",
   "metadata": {},
   "source": [
    "Резкльтат в 54.4% является статистически значемым. можно сказать, что нулевая теория Н0 верна."
   ]
  },
  {
   "cell_type": "markdown",
   "id": "90e7025d",
   "metadata": {},
   "source": [
    "<div class=\"alert alert-block alert-warning\"> \n",
    "    \n",
    "### Комментарий от ревьюера v_1\n",
    "Рекомендация\n",
    "\n",
    "p-значение -  вероятность получить такие же или еще более значимые различия между средними выборок, при условии верности нулевой гипотезы\n",
    "    \n",
    "</div>"
   ]
  },
  {
   "cell_type": "markdown",
   "id": "8b29a4e5",
   "metadata": {},
   "source": [
    "# Вывод"
   ]
  },
  {
   "cell_type": "markdown",
   "id": "2bfe13ed",
   "metadata": {},
   "source": [
    "В данной  работе мы проанализировали поведение клиентов двух тарифных планов smart и ultra.\n",
    "\n",
    "Можно сказать, что и в смарт и в ультра любят общение. У пользователей основная часть звонков находится в продолжительности от 40 до 70 минут, пользователи ультры так же любят поболтать, в основном продолжительность звонков от 40 до 75 минут, а также пользователям ультры принадлежат самые длинные звонки.\n",
    "\n",
    "Ситуация по сообщениям. Здесь так же  выигрывает ультра, в средним пользователи тарифа отсылают на 16 сообщений больше, а вот в ситуации по трафику отрыв менее заметный, пользователи тарифа смарт почти также активно потребляют трафик как и пользователи тарифа ультра.\n",
    "\n",
    "В среднем выручка от пользователей тарифа смарт выше, видимо они часто выходят за бесплатные лимиты своего тарифа, что в целом выгодно для оператора.\n",
    "\n",
    "\n",
    "Люди на разных тарифах ведут себя по-разному, что наверное и хорошо. Так и должно работать сегментирование. Но и переплачивают, а это, особенно в Смарте, может приводить к разочарованию и оттоку.\n",
    "\n",
    "СМС-ки никому не нужны на обоих тарифах. Но если в Смарте люди близки к своим лимитам, то на Ультре остаются большие неизрасходованные \"запасы\" — возможно, имеет смысл подумать, как использовать эту, по сути, упущенную выгоду\n",
    "\n",
    "Деньги одинаково текут и из регионов и из Москвы, и вероятно это не связано с уровнем жизни, а с поведением: ~8-10 часов в месяц — это предел у среднего клиента на обоих тарифах\n",
    "\n",
    "Тарифы приносят разные деньги, значимые различия есть\n",
    "\n",
    "\n",
    "**Рекомендации оператору**\n",
    "\n",
    "1. Исправить округление — нулевые минуты должны округляться до 1 минуты\n",
    "2. Подумать над оптимизацией тарифов\n",
    "3. Подумать на оптимизацией количества смс."
   ]
  },
  {
   "cell_type": "markdown",
   "id": "5bbd0a40",
   "metadata": {},
   "source": [
    "<div class=\"alert alert-block alert-warning\"> \n",
    "    \n",
    "### Комментарий от ревьюера v_1\n",
    "Рекомендация\n",
    "\n",
    "В выводе явно не хватает основного вопроса проекта, какой тариф ты считаешь более прибыльным и почему (или почему ответ на этот вопрос нельзя получить)\n",
    "    \n",
    "И он не охватывает проделанной работы\n",
    "    \n",
    "Общий вывод можно построить следующим образом:\n",
    "    \n",
    "- краткий обзор выполненных работ (выполнили, сделали, рассчитали, получили такой-то результат)\n",
    "- основные выводы (ответы на вопросы поставленные перед проектом)\n",
    "- рекомендации по улучшению (опционально)\n",
    "</div>"
   ]
  },
  {
   "cell_type": "markdown",
   "id": "98bac82f",
   "metadata": {},
   "source": [
    "<div class=\"alert alert-block alert-info\">\n",
    "<b>💾 Fixed:</b> \n",
    "Вывод поправил  ✔\n",
    "</div>"
   ]
  },
  {
   "cell_type": "markdown",
   "id": "6a59dbb4",
   "metadata": {},
   "source": [
    "<div class=\"alert alert-block alert-success\">\n",
    "\n",
    "    \n",
    "### Комментарий от ревьюера v_2\n",
    "\n",
    "👍🏻\n",
    "    \n",
    "</div>"
   ]
  },
  {
   "cell_type": "code",
   "execution_count": null,
   "id": "22e4f0ae",
   "metadata": {},
   "outputs": [],
   "source": []
  }
 ],
 "metadata": {
  "ExecuteTimeLog": [
   {
    "duration": 1187,
    "start_time": "2022-05-06T20:02:52.495Z"
   },
   {
    "duration": 4,
    "start_time": "2022-05-06T20:02:53.684Z"
   },
   {
    "duration": 374,
    "start_time": "2022-05-06T20:02:53.689Z"
   },
   {
    "duration": 12,
    "start_time": "2022-05-06T20:02:54.065Z"
   },
   {
    "duration": 9,
    "start_time": "2022-05-06T20:02:54.078Z"
   },
   {
    "duration": 34,
    "start_time": "2022-05-06T20:02:54.089Z"
   },
   {
    "duration": 25,
    "start_time": "2022-05-06T20:02:54.125Z"
   },
   {
    "duration": 48,
    "start_time": "2022-05-06T20:02:54.152Z"
   },
   {
    "duration": 23,
    "start_time": "2022-05-06T20:02:54.201Z"
   },
   {
    "duration": 11,
    "start_time": "2022-05-06T20:02:54.228Z"
   },
   {
    "duration": 17,
    "start_time": "2022-05-06T20:02:54.241Z"
   },
   {
    "duration": 34,
    "start_time": "2022-05-06T20:02:54.260Z"
   },
   {
    "duration": 49,
    "start_time": "2022-05-06T20:02:54.296Z"
   },
   {
    "duration": 8,
    "start_time": "2022-05-06T20:02:54.347Z"
   },
   {
    "duration": 19,
    "start_time": "2022-05-06T20:02:54.357Z"
   },
   {
    "duration": 15,
    "start_time": "2022-05-06T20:02:54.377Z"
   },
   {
    "duration": 44,
    "start_time": "2022-05-06T20:02:54.394Z"
   },
   {
    "duration": 8,
    "start_time": "2022-05-06T20:02:54.440Z"
   },
   {
    "duration": 11,
    "start_time": "2022-05-06T20:02:54.450Z"
   },
   {
    "duration": 16,
    "start_time": "2022-05-06T20:02:54.463Z"
   },
   {
    "duration": 15,
    "start_time": "2022-05-06T20:02:54.481Z"
   },
   {
    "duration": 5,
    "start_time": "2022-05-06T20:02:54.524Z"
   },
   {
    "duration": 10,
    "start_time": "2022-05-06T20:02:54.530Z"
   },
   {
    "duration": 66,
    "start_time": "2022-05-06T20:02:54.541Z"
   },
   {
    "duration": 17,
    "start_time": "2022-05-06T20:02:54.609Z"
   },
   {
    "duration": 57,
    "start_time": "2022-05-06T20:02:54.629Z"
   },
   {
    "duration": 63,
    "start_time": "2022-05-06T20:02:54.689Z"
   },
   {
    "duration": 11,
    "start_time": "2022-05-06T20:02:54.758Z"
   },
   {
    "duration": 54,
    "start_time": "2022-05-06T20:02:54.771Z"
   },
   {
    "duration": 62,
    "start_time": "2022-05-06T20:02:54.827Z"
   },
   {
    "duration": 12,
    "start_time": "2022-05-06T20:02:54.891Z"
   },
   {
    "duration": 47,
    "start_time": "2022-05-06T20:02:54.906Z"
   },
   {
    "duration": 6,
    "start_time": "2022-05-06T20:02:54.955Z"
   },
   {
    "duration": 3,
    "start_time": "2022-05-06T20:02:54.963Z"
   },
   {
    "duration": 11,
    "start_time": "2022-05-06T20:02:54.968Z"
   },
   {
    "duration": 11,
    "start_time": "2022-05-06T20:02:54.981Z"
   },
   {
    "duration": 39,
    "start_time": "2022-05-06T20:02:54.994Z"
   },
   {
    "duration": 10,
    "start_time": "2022-05-06T20:02:55.035Z"
   },
   {
    "duration": 11,
    "start_time": "2022-05-06T20:02:55.047Z"
   },
   {
    "duration": 5,
    "start_time": "2022-05-06T20:02:55.060Z"
   },
   {
    "duration": 13,
    "start_time": "2022-05-06T20:02:55.067Z"
   },
   {
    "duration": 15,
    "start_time": "2022-05-06T20:02:55.081Z"
   },
   {
    "duration": 30,
    "start_time": "2022-05-06T20:02:55.097Z"
   },
   {
    "duration": 8,
    "start_time": "2022-05-06T20:02:55.129Z"
   },
   {
    "duration": 7,
    "start_time": "2022-05-06T20:02:55.138Z"
   },
   {
    "duration": 12,
    "start_time": "2022-05-06T20:02:55.147Z"
   },
   {
    "duration": 2,
    "start_time": "2022-05-06T20:02:55.161Z"
   },
   {
    "duration": 5,
    "start_time": "2022-05-06T20:02:55.165Z"
   },
   {
    "duration": 5,
    "start_time": "2022-05-06T20:02:55.171Z"
   },
   {
    "duration": 7,
    "start_time": "2022-05-06T20:02:55.178Z"
   },
   {
    "duration": 48,
    "start_time": "2022-05-06T20:02:55.187Z"
   },
   {
    "duration": 7,
    "start_time": "2022-05-06T20:02:55.236Z"
   },
   {
    "duration": 6,
    "start_time": "2022-05-06T20:02:55.244Z"
   },
   {
    "duration": 45,
    "start_time": "2022-05-06T20:02:55.252Z"
   },
   {
    "duration": 27,
    "start_time": "2022-05-06T20:02:55.299Z"
   },
   {
    "duration": 11,
    "start_time": "2022-05-06T20:02:55.328Z"
   },
   {
    "duration": 10,
    "start_time": "2022-05-06T20:02:55.341Z"
   },
   {
    "duration": 10,
    "start_time": "2022-05-06T20:02:55.353Z"
   },
   {
    "duration": 237,
    "start_time": "2022-05-06T20:02:55.365Z"
   },
   {
    "duration": 251,
    "start_time": "2022-05-06T20:02:55.604Z"
   },
   {
    "duration": 263,
    "start_time": "2022-05-06T20:02:55.857Z"
   },
   {
    "duration": 278,
    "start_time": "2022-05-06T20:02:56.123Z"
   },
   {
    "duration": 3,
    "start_time": "2022-05-06T20:02:56.403Z"
   },
   {
    "duration": 16,
    "start_time": "2022-05-06T20:02:56.407Z"
   },
   {
    "duration": 3,
    "start_time": "2022-05-06T20:02:56.426Z"
   },
   {
    "duration": 5,
    "start_time": "2022-05-06T20:02:56.431Z"
   },
   {
    "duration": 5,
    "start_time": "2022-05-06T20:02:56.438Z"
   },
   {
    "duration": 21,
    "start_time": "2022-05-06T20:02:56.444Z"
   },
   {
    "duration": 6,
    "start_time": "2022-05-06T20:02:56.467Z"
   },
   {
    "duration": 5,
    "start_time": "2022-05-06T20:02:56.475Z"
   },
   {
    "duration": 49,
    "start_time": "2022-05-06T20:02:56.482Z"
   },
   {
    "duration": 7,
    "start_time": "2022-05-06T20:02:56.533Z"
   },
   {
    "duration": 3,
    "start_time": "2022-05-06T20:02:56.542Z"
   },
   {
    "duration": 6,
    "start_time": "2022-05-06T20:02:56.547Z"
   },
   {
    "duration": 5,
    "start_time": "2022-05-06T20:02:56.555Z"
   },
   {
    "duration": 6,
    "start_time": "2022-05-06T20:02:56.561Z"
   },
   {
    "duration": 13,
    "start_time": "2022-05-06T20:04:52.108Z"
   },
   {
    "duration": 14,
    "start_time": "2022-05-06T20:05:56.848Z"
   },
   {
    "duration": 1363,
    "start_time": "2022-05-09T07:06:18.255Z"
   },
   {
    "duration": 4,
    "start_time": "2022-05-09T07:06:19.620Z"
   },
   {
    "duration": 380,
    "start_time": "2022-05-09T07:06:19.625Z"
   },
   {
    "duration": 13,
    "start_time": "2022-05-09T07:06:20.008Z"
   },
   {
    "duration": 8,
    "start_time": "2022-05-09T07:06:20.023Z"
   },
   {
    "duration": 31,
    "start_time": "2022-05-09T07:06:20.033Z"
   },
   {
    "duration": 46,
    "start_time": "2022-05-09T07:06:20.067Z"
   },
   {
    "duration": 33,
    "start_time": "2022-05-09T07:06:20.114Z"
   },
   {
    "duration": 5,
    "start_time": "2022-05-09T07:06:20.149Z"
   },
   {
    "duration": 8,
    "start_time": "2022-05-09T07:06:20.157Z"
   },
   {
    "duration": 31,
    "start_time": "2022-05-09T07:06:20.166Z"
   },
   {
    "duration": 31,
    "start_time": "2022-05-09T07:06:20.199Z"
   },
   {
    "duration": 27,
    "start_time": "2022-05-09T07:06:20.232Z"
   },
   {
    "duration": 7,
    "start_time": "2022-05-09T07:06:20.261Z"
   },
   {
    "duration": 19,
    "start_time": "2022-05-09T07:06:20.293Z"
   },
   {
    "duration": 15,
    "start_time": "2022-05-09T07:06:20.313Z"
   },
   {
    "duration": 18,
    "start_time": "2022-05-09T07:06:20.330Z"
   },
   {
    "duration": 7,
    "start_time": "2022-05-09T07:06:20.350Z"
   },
   {
    "duration": 34,
    "start_time": "2022-05-09T07:06:20.359Z"
   },
   {
    "duration": 9,
    "start_time": "2022-05-09T07:06:20.395Z"
   },
   {
    "duration": 11,
    "start_time": "2022-05-09T07:06:20.406Z"
   },
   {
    "duration": 7,
    "start_time": "2022-05-09T07:06:20.418Z"
   },
   {
    "duration": 5,
    "start_time": "2022-05-09T07:06:20.427Z"
   },
   {
    "duration": 4,
    "start_time": "2022-05-09T07:06:20.433Z"
   },
   {
    "duration": 9,
    "start_time": "2022-05-09T07:06:20.439Z"
   },
   {
    "duration": 100,
    "start_time": "2022-05-09T07:06:20.449Z"
   },
   {
    "duration": 9,
    "start_time": "2022-05-09T07:06:20.550Z"
   },
   {
    "duration": 63,
    "start_time": "2022-05-09T07:06:20.564Z"
   },
   {
    "duration": 40,
    "start_time": "2022-05-09T07:06:20.629Z"
   },
   {
    "duration": 8,
    "start_time": "2022-05-09T07:06:20.670Z"
   },
   {
    "duration": 39,
    "start_time": "2022-05-09T07:06:20.679Z"
   },
   {
    "duration": 72,
    "start_time": "2022-05-09T07:06:20.720Z"
   },
   {
    "duration": 9,
    "start_time": "2022-05-09T07:06:20.794Z"
   },
   {
    "duration": 39,
    "start_time": "2022-05-09T07:06:20.805Z"
   },
   {
    "duration": 6,
    "start_time": "2022-05-09T07:06:20.846Z"
   },
   {
    "duration": 7,
    "start_time": "2022-05-09T07:06:20.854Z"
   },
   {
    "duration": 12,
    "start_time": "2022-05-09T07:06:20.862Z"
   },
   {
    "duration": 22,
    "start_time": "2022-05-09T07:06:20.875Z"
   },
   {
    "duration": 11,
    "start_time": "2022-05-09T07:06:20.898Z"
   },
   {
    "duration": 8,
    "start_time": "2022-05-09T07:06:20.910Z"
   },
   {
    "duration": 10,
    "start_time": "2022-05-09T07:06:20.920Z"
   },
   {
    "duration": 5,
    "start_time": "2022-05-09T07:06:20.931Z"
   },
   {
    "duration": 13,
    "start_time": "2022-05-09T07:06:20.937Z"
   },
   {
    "duration": 15,
    "start_time": "2022-05-09T07:06:20.951Z"
   },
   {
    "duration": 30,
    "start_time": "2022-05-09T07:06:20.968Z"
   },
   {
    "duration": 8,
    "start_time": "2022-05-09T07:06:20.999Z"
   },
   {
    "duration": 6,
    "start_time": "2022-05-09T07:06:21.009Z"
   },
   {
    "duration": 16,
    "start_time": "2022-05-09T07:06:21.017Z"
   },
   {
    "duration": 2,
    "start_time": "2022-05-09T07:06:21.034Z"
   },
   {
    "duration": 8,
    "start_time": "2022-05-09T07:06:21.038Z"
   },
   {
    "duration": 8,
    "start_time": "2022-05-09T07:06:21.047Z"
   },
   {
    "duration": 12,
    "start_time": "2022-05-09T07:06:21.056Z"
   },
   {
    "duration": 33,
    "start_time": "2022-05-09T07:06:21.070Z"
   },
   {
    "duration": 8,
    "start_time": "2022-05-09T07:06:21.104Z"
   },
   {
    "duration": 7,
    "start_time": "2022-05-09T07:06:21.113Z"
   },
   {
    "duration": 50,
    "start_time": "2022-05-09T07:06:21.121Z"
   },
   {
    "duration": 27,
    "start_time": "2022-05-09T07:06:21.172Z"
   },
   {
    "duration": 11,
    "start_time": "2022-05-09T07:06:21.201Z"
   },
   {
    "duration": 11,
    "start_time": "2022-05-09T07:06:21.214Z"
   },
   {
    "duration": 11,
    "start_time": "2022-05-09T07:06:21.227Z"
   },
   {
    "duration": 219,
    "start_time": "2022-05-09T07:06:21.240Z"
   },
   {
    "duration": 176,
    "start_time": "2022-05-09T07:06:21.461Z"
   },
   {
    "duration": 183,
    "start_time": "2022-05-09T07:06:21.638Z"
   },
   {
    "duration": 193,
    "start_time": "2022-05-09T07:06:21.822Z"
   },
   {
    "duration": 3,
    "start_time": "2022-05-09T07:06:22.017Z"
   },
   {
    "duration": 7,
    "start_time": "2022-05-09T07:06:22.021Z"
   },
   {
    "duration": 5,
    "start_time": "2022-05-09T07:06:22.030Z"
   },
   {
    "duration": 6,
    "start_time": "2022-05-09T07:06:22.036Z"
   },
   {
    "duration": 7,
    "start_time": "2022-05-09T07:06:22.043Z"
   },
   {
    "duration": 17,
    "start_time": "2022-05-09T07:06:22.051Z"
   },
   {
    "duration": 31,
    "start_time": "2022-05-09T07:06:22.069Z"
   },
   {
    "duration": 9,
    "start_time": "2022-05-09T07:06:22.102Z"
   },
   {
    "duration": 18,
    "start_time": "2022-05-09T07:06:22.112Z"
   },
   {
    "duration": 8,
    "start_time": "2022-05-09T07:06:22.131Z"
   },
   {
    "duration": 6,
    "start_time": "2022-05-09T07:06:22.141Z"
   },
   {
    "duration": 7,
    "start_time": "2022-05-09T07:06:22.148Z"
   },
   {
    "duration": 7,
    "start_time": "2022-05-09T07:06:22.157Z"
   },
   {
    "duration": 9,
    "start_time": "2022-05-09T07:06:22.165Z"
   },
   {
    "duration": 168,
    "start_time": "2022-05-09T07:07:32.524Z"
   },
   {
    "duration": 162,
    "start_time": "2022-05-09T07:07:55.505Z"
   },
   {
    "duration": 157,
    "start_time": "2022-05-09T07:08:59.242Z"
   },
   {
    "duration": 230,
    "start_time": "2022-05-09T07:13:06.201Z"
   },
   {
    "duration": 1187,
    "start_time": "2022-05-09T07:24:42.132Z"
   },
   {
    "duration": 3,
    "start_time": "2022-05-09T07:24:43.321Z"
   },
   {
    "duration": 396,
    "start_time": "2022-05-09T07:24:43.325Z"
   },
   {
    "duration": 12,
    "start_time": "2022-05-09T07:24:43.724Z"
   },
   {
    "duration": 8,
    "start_time": "2022-05-09T07:24:43.738Z"
   },
   {
    "duration": 34,
    "start_time": "2022-05-09T07:24:43.748Z"
   },
   {
    "duration": 31,
    "start_time": "2022-05-09T07:24:43.784Z"
   },
   {
    "duration": 48,
    "start_time": "2022-05-09T07:24:43.817Z"
   },
   {
    "duration": 6,
    "start_time": "2022-05-09T07:24:43.867Z"
   },
   {
    "duration": 20,
    "start_time": "2022-05-09T07:24:43.876Z"
   },
   {
    "duration": 14,
    "start_time": "2022-05-09T07:24:43.897Z"
   },
   {
    "duration": 37,
    "start_time": "2022-05-09T07:24:43.913Z"
   },
   {
    "duration": 56,
    "start_time": "2022-05-09T07:24:43.952Z"
   },
   {
    "duration": 11,
    "start_time": "2022-05-09T07:24:44.010Z"
   },
   {
    "duration": 40,
    "start_time": "2022-05-09T07:24:44.023Z"
   },
   {
    "duration": 34,
    "start_time": "2022-05-09T07:24:44.066Z"
   },
   {
    "duration": 22,
    "start_time": "2022-05-09T07:24:44.102Z"
   },
   {
    "duration": 13,
    "start_time": "2022-05-09T07:24:44.126Z"
   },
   {
    "duration": 15,
    "start_time": "2022-05-09T07:24:44.141Z"
   },
   {
    "duration": 36,
    "start_time": "2022-05-09T07:24:44.158Z"
   },
   {
    "duration": 14,
    "start_time": "2022-05-09T07:24:44.196Z"
   },
   {
    "duration": 14,
    "start_time": "2022-05-09T07:24:44.212Z"
   },
   {
    "duration": 7,
    "start_time": "2022-05-09T07:24:44.228Z"
   },
   {
    "duration": 212,
    "start_time": "2022-05-09T07:24:44.237Z"
   },
   {
    "duration": 73,
    "start_time": "2022-05-09T07:24:44.450Z"
   },
   {
    "duration": 12,
    "start_time": "2022-05-09T07:24:44.525Z"
   },
   {
    "duration": 83,
    "start_time": "2022-05-09T07:24:44.539Z"
   },
   {
    "duration": 76,
    "start_time": "2022-05-09T07:24:44.629Z"
   },
   {
    "duration": 12,
    "start_time": "2022-05-09T07:24:44.708Z"
   },
   {
    "duration": 42,
    "start_time": "2022-05-09T07:24:44.722Z"
   },
   {
    "duration": 53,
    "start_time": "2022-05-09T07:24:44.766Z"
   },
   {
    "duration": 13,
    "start_time": "2022-05-09T07:24:44.821Z"
   },
   {
    "duration": 40,
    "start_time": "2022-05-09T07:24:44.836Z"
   },
   {
    "duration": 7,
    "start_time": "2022-05-09T07:24:44.893Z"
   },
   {
    "duration": 9,
    "start_time": "2022-05-09T07:24:44.902Z"
   },
   {
    "duration": 12,
    "start_time": "2022-05-09T07:24:44.913Z"
   },
   {
    "duration": 15,
    "start_time": "2022-05-09T07:24:44.927Z"
   },
   {
    "duration": 13,
    "start_time": "2022-05-09T07:24:44.944Z"
   },
   {
    "duration": 42,
    "start_time": "2022-05-09T07:24:44.959Z"
   },
   {
    "duration": 31,
    "start_time": "2022-05-09T07:24:45.003Z"
   },
   {
    "duration": 10,
    "start_time": "2022-05-09T07:24:45.036Z"
   },
   {
    "duration": 23,
    "start_time": "2022-05-09T07:24:45.049Z"
   },
   {
    "duration": 15,
    "start_time": "2022-05-09T07:24:45.073Z"
   },
   {
    "duration": 15,
    "start_time": "2022-05-09T07:24:45.090Z"
   },
   {
    "duration": 12,
    "start_time": "2022-05-09T07:24:45.106Z"
   },
   {
    "duration": 5,
    "start_time": "2022-05-09T07:24:45.120Z"
   },
   {
    "duration": 17,
    "start_time": "2022-05-09T07:24:45.127Z"
   },
   {
    "duration": 3,
    "start_time": "2022-05-09T07:24:45.147Z"
   },
   {
    "duration": 8,
    "start_time": "2022-05-09T07:24:45.152Z"
   },
   {
    "duration": 9,
    "start_time": "2022-05-09T07:24:45.163Z"
   },
   {
    "duration": 25,
    "start_time": "2022-05-09T07:24:45.174Z"
   },
   {
    "duration": 21,
    "start_time": "2022-05-09T07:24:45.201Z"
   },
   {
    "duration": 9,
    "start_time": "2022-05-09T07:24:45.224Z"
   },
   {
    "duration": 9,
    "start_time": "2022-05-09T07:24:45.234Z"
   },
   {
    "duration": 93,
    "start_time": "2022-05-09T07:24:45.245Z"
   },
   {
    "duration": 17,
    "start_time": "2022-05-09T07:24:45.340Z"
   },
   {
    "duration": 34,
    "start_time": "2022-05-09T07:24:45.359Z"
   },
   {
    "duration": 12,
    "start_time": "2022-05-09T07:24:45.395Z"
   },
   {
    "duration": 11,
    "start_time": "2022-05-09T07:24:45.409Z"
   },
   {
    "duration": 233,
    "start_time": "2022-05-09T07:24:45.422Z"
   },
   {
    "duration": 199,
    "start_time": "2022-05-09T07:24:45.657Z"
   },
   {
    "duration": 208,
    "start_time": "2022-05-09T07:24:45.858Z"
   },
   {
    "duration": 205,
    "start_time": "2022-05-09T07:24:46.068Z"
   },
   {
    "duration": 3,
    "start_time": "2022-05-09T07:24:46.276Z"
   },
   {
    "duration": 3,
    "start_time": "2022-05-09T07:24:46.293Z"
   },
   {
    "duration": 6,
    "start_time": "2022-05-09T07:24:46.298Z"
   },
   {
    "duration": 5,
    "start_time": "2022-05-09T07:24:46.306Z"
   },
   {
    "duration": 5,
    "start_time": "2022-05-09T07:24:46.313Z"
   },
   {
    "duration": 16,
    "start_time": "2022-05-09T07:24:46.320Z"
   },
   {
    "duration": 9,
    "start_time": "2022-05-09T07:24:46.338Z"
   },
   {
    "duration": 8,
    "start_time": "2022-05-09T07:24:46.348Z"
   },
   {
    "duration": 48,
    "start_time": "2022-05-09T07:24:46.358Z"
   },
   {
    "duration": 5,
    "start_time": "2022-05-09T07:24:46.408Z"
   },
   {
    "duration": 5,
    "start_time": "2022-05-09T07:24:46.415Z"
   },
   {
    "duration": 5,
    "start_time": "2022-05-09T07:24:46.422Z"
   },
   {
    "duration": 8,
    "start_time": "2022-05-09T07:24:46.429Z"
   },
   {
    "duration": 10,
    "start_time": "2022-05-09T07:24:46.438Z"
   },
   {
    "duration": 46,
    "start_time": "2022-05-09T07:26:34.727Z"
   },
   {
    "duration": 31,
    "start_time": "2022-05-09T07:26:53.558Z"
   },
   {
    "duration": 16,
    "start_time": "2022-05-09T07:27:24.716Z"
   },
   {
    "duration": 7,
    "start_time": "2022-05-09T07:31:32.120Z"
   },
   {
    "duration": 41,
    "start_time": "2022-05-09T07:33:19.865Z"
   },
   {
    "duration": 13,
    "start_time": "2022-05-09T07:34:55.854Z"
   },
   {
    "duration": 11,
    "start_time": "2022-05-09T07:35:05.211Z"
   },
   {
    "duration": 29,
    "start_time": "2022-05-09T07:35:30.791Z"
   },
   {
    "duration": 10,
    "start_time": "2022-05-09T07:35:45.081Z"
   },
   {
    "duration": 107,
    "start_time": "2022-05-09T07:38:40.354Z"
   },
   {
    "duration": 5,
    "start_time": "2022-05-09T07:38:46.670Z"
   },
   {
    "duration": 13,
    "start_time": "2022-05-09T07:39:07.754Z"
   },
   {
    "duration": 3,
    "start_time": "2022-05-09T07:39:30.419Z"
   },
   {
    "duration": 5,
    "start_time": "2022-05-09T07:39:34.407Z"
   },
   {
    "duration": 10,
    "start_time": "2022-05-09T07:39:41.574Z"
   },
   {
    "duration": 16,
    "start_time": "2022-05-09T07:42:12.291Z"
   },
   {
    "duration": 5,
    "start_time": "2022-05-09T07:43:27.252Z"
   },
   {
    "duration": 24,
    "start_time": "2022-05-09T07:43:37.983Z"
   },
   {
    "duration": 18,
    "start_time": "2022-05-09T07:43:49.427Z"
   },
   {
    "duration": 10,
    "start_time": "2022-05-09T07:44:12.568Z"
   },
   {
    "duration": 1181,
    "start_time": "2022-05-09T07:46:35.935Z"
   },
   {
    "duration": 3,
    "start_time": "2022-05-09T07:46:37.118Z"
   },
   {
    "duration": 391,
    "start_time": "2022-05-09T07:46:37.122Z"
   },
   {
    "duration": 15,
    "start_time": "2022-05-09T07:46:37.515Z"
   },
   {
    "duration": 10,
    "start_time": "2022-05-09T07:46:37.533Z"
   },
   {
    "duration": 35,
    "start_time": "2022-05-09T07:46:37.545Z"
   },
   {
    "duration": 36,
    "start_time": "2022-05-09T07:46:37.582Z"
   },
   {
    "duration": 37,
    "start_time": "2022-05-09T07:46:37.620Z"
   },
   {
    "duration": 6,
    "start_time": "2022-05-09T07:46:37.658Z"
   },
   {
    "duration": 31,
    "start_time": "2022-05-09T07:46:37.667Z"
   },
   {
    "duration": 9,
    "start_time": "2022-05-09T07:46:37.699Z"
   },
   {
    "duration": 43,
    "start_time": "2022-05-09T07:46:37.709Z"
   },
   {
    "duration": 59,
    "start_time": "2022-05-09T07:46:37.754Z"
   },
   {
    "duration": 10,
    "start_time": "2022-05-09T07:46:37.814Z"
   },
   {
    "duration": 34,
    "start_time": "2022-05-09T07:46:37.826Z"
   },
   {
    "duration": 37,
    "start_time": "2022-05-09T07:46:37.863Z"
   },
   {
    "duration": 33,
    "start_time": "2022-05-09T07:46:37.902Z"
   },
   {
    "duration": 11,
    "start_time": "2022-05-09T07:46:37.937Z"
   },
   {
    "duration": 14,
    "start_time": "2022-05-09T07:46:37.950Z"
   },
   {
    "duration": 33,
    "start_time": "2022-05-09T07:46:37.966Z"
   },
   {
    "duration": 15,
    "start_time": "2022-05-09T07:46:38.001Z"
   },
   {
    "duration": 8,
    "start_time": "2022-05-09T07:46:38.018Z"
   },
   {
    "duration": 6,
    "start_time": "2022-05-09T07:46:38.028Z"
   },
   {
    "duration": 320,
    "start_time": "2022-05-09T07:46:38.036Z"
   },
   {
    "duration": 102,
    "start_time": "2022-05-09T07:46:38.358Z"
   },
   {
    "duration": 12,
    "start_time": "2022-05-09T07:46:38.463Z"
   },
   {
    "duration": 60,
    "start_time": "2022-05-09T07:46:38.493Z"
   },
   {
    "duration": 73,
    "start_time": "2022-05-09T07:46:38.560Z"
   },
   {
    "duration": 11,
    "start_time": "2022-05-09T07:46:38.635Z"
   },
   {
    "duration": 26,
    "start_time": "2022-05-09T07:46:38.648Z"
   },
   {
    "duration": 48,
    "start_time": "2022-05-09T07:46:38.692Z"
   },
   {
    "duration": 10,
    "start_time": "2022-05-09T07:46:38.741Z"
   },
   {
    "duration": 65,
    "start_time": "2022-05-09T07:46:38.753Z"
   },
   {
    "duration": 6,
    "start_time": "2022-05-09T07:46:38.819Z"
   },
   {
    "duration": 7,
    "start_time": "2022-05-09T07:46:38.827Z"
   },
   {
    "duration": 12,
    "start_time": "2022-05-09T07:46:38.836Z"
   },
   {
    "duration": 14,
    "start_time": "2022-05-09T07:46:38.851Z"
   },
   {
    "duration": 37,
    "start_time": "2022-05-09T07:46:38.867Z"
   },
   {
    "duration": 12,
    "start_time": "2022-05-09T07:46:38.906Z"
   },
   {
    "duration": 13,
    "start_time": "2022-05-09T07:46:38.920Z"
   },
   {
    "duration": 7,
    "start_time": "2022-05-09T07:46:38.935Z"
   },
   {
    "duration": 15,
    "start_time": "2022-05-09T07:46:38.944Z"
   },
   {
    "duration": 40,
    "start_time": "2022-05-09T07:46:38.961Z"
   },
   {
    "duration": 21,
    "start_time": "2022-05-09T07:46:39.004Z"
   },
   {
    "duration": 4,
    "start_time": "2022-05-09T07:46:39.027Z"
   },
   {
    "duration": 13,
    "start_time": "2022-05-09T07:46:39.033Z"
   },
   {
    "duration": 9,
    "start_time": "2022-05-09T07:46:39.048Z"
   },
   {
    "duration": 39,
    "start_time": "2022-05-09T07:46:39.059Z"
   },
   {
    "duration": 14,
    "start_time": "2022-05-09T07:46:39.099Z"
   },
   {
    "duration": 5,
    "start_time": "2022-05-09T07:46:39.115Z"
   },
   {
    "duration": 9,
    "start_time": "2022-05-09T07:46:39.122Z"
   },
   {
    "duration": 11,
    "start_time": "2022-05-09T07:46:39.132Z"
   },
   {
    "duration": 12,
    "start_time": "2022-05-09T07:46:39.144Z"
   },
   {
    "duration": 22,
    "start_time": "2022-05-09T07:46:39.158Z"
   },
   {
    "duration": 12,
    "start_time": "2022-05-09T07:46:39.182Z"
   },
   {
    "duration": 9,
    "start_time": "2022-05-09T07:46:39.196Z"
   },
   {
    "duration": 56,
    "start_time": "2022-05-09T07:46:39.207Z"
   },
   {
    "duration": 10,
    "start_time": "2022-05-09T07:46:39.266Z"
   },
   {
    "duration": 20,
    "start_time": "2022-05-09T07:46:39.278Z"
   },
   {
    "duration": 10,
    "start_time": "2022-05-09T07:46:39.300Z"
   },
   {
    "duration": 10,
    "start_time": "2022-05-09T07:46:39.312Z"
   },
   {
    "duration": 222,
    "start_time": "2022-05-09T07:46:39.324Z"
   },
   {
    "duration": 189,
    "start_time": "2022-05-09T07:46:39.549Z"
   },
   {
    "duration": 212,
    "start_time": "2022-05-09T07:46:39.741Z"
   },
   {
    "duration": 213,
    "start_time": "2022-05-09T07:46:39.955Z"
   },
   {
    "duration": 3,
    "start_time": "2022-05-09T07:46:40.170Z"
   },
   {
    "duration": 17,
    "start_time": "2022-05-09T07:46:40.175Z"
   },
   {
    "duration": 12,
    "start_time": "2022-05-09T07:46:40.194Z"
   },
   {
    "duration": 19,
    "start_time": "2022-05-09T07:46:40.208Z"
   },
   {
    "duration": 9,
    "start_time": "2022-05-09T07:46:40.229Z"
   },
   {
    "duration": 37,
    "start_time": "2022-05-09T07:46:40.240Z"
   },
   {
    "duration": 11,
    "start_time": "2022-05-09T07:46:40.279Z"
   },
   {
    "duration": 24,
    "start_time": "2022-05-09T07:46:40.292Z"
   },
   {
    "duration": 16,
    "start_time": "2022-05-09T07:46:40.318Z"
   },
   {
    "duration": 7,
    "start_time": "2022-05-09T07:46:40.336Z"
   },
   {
    "duration": 20,
    "start_time": "2022-05-09T07:46:40.345Z"
   },
   {
    "duration": 7,
    "start_time": "2022-05-09T07:46:40.367Z"
   },
   {
    "duration": 18,
    "start_time": "2022-05-09T07:46:40.375Z"
   },
   {
    "duration": 11,
    "start_time": "2022-05-09T07:46:40.394Z"
   },
   {
    "duration": 4,
    "start_time": "2022-05-09T08:02:46.351Z"
   },
   {
    "duration": 100,
    "start_time": "2022-05-09T08:05:03.652Z"
   },
   {
    "duration": 1227,
    "start_time": "2022-05-09T08:05:14.697Z"
   },
   {
    "duration": 1280,
    "start_time": "2022-05-09T08:05:41.106Z"
   },
   {
    "duration": 113,
    "start_time": "2022-05-09T08:06:15.241Z"
   },
   {
    "duration": 23,
    "start_time": "2022-05-09T08:06:18.535Z"
   },
   {
    "duration": 110,
    "start_time": "2022-05-09T08:06:38.538Z"
   },
   {
    "duration": 16,
    "start_time": "2022-05-09T08:06:39.607Z"
   },
   {
    "duration": 4,
    "start_time": "2022-05-09T08:07:35.368Z"
   },
   {
    "duration": 14,
    "start_time": "2022-05-09T08:07:36.358Z"
   },
   {
    "duration": 14,
    "start_time": "2022-05-09T08:07:52.184Z"
   },
   {
    "duration": 1232,
    "start_time": "2022-05-09T08:08:02.170Z"
   },
   {
    "duration": 2,
    "start_time": "2022-05-09T08:08:03.405Z"
   },
   {
    "duration": 377,
    "start_time": "2022-05-09T08:08:03.409Z"
   },
   {
    "duration": 11,
    "start_time": "2022-05-09T08:08:03.788Z"
   },
   {
    "duration": 8,
    "start_time": "2022-05-09T08:08:03.800Z"
   },
   {
    "duration": 30,
    "start_time": "2022-05-09T08:08:03.810Z"
   },
   {
    "duration": 25,
    "start_time": "2022-05-09T08:08:03.841Z"
   },
   {
    "duration": 56,
    "start_time": "2022-05-09T08:08:03.868Z"
   },
   {
    "duration": 6,
    "start_time": "2022-05-09T08:08:03.926Z"
   },
   {
    "duration": 9,
    "start_time": "2022-05-09T08:08:03.934Z"
   },
   {
    "duration": 11,
    "start_time": "2022-05-09T08:08:03.944Z"
   },
   {
    "duration": 66,
    "start_time": "2022-05-09T08:08:03.957Z"
   },
   {
    "duration": 44,
    "start_time": "2022-05-09T08:08:04.025Z"
   },
   {
    "duration": 24,
    "start_time": "2022-05-09T08:08:04.070Z"
   },
   {
    "duration": 19,
    "start_time": "2022-05-09T08:08:04.097Z"
   },
   {
    "duration": 15,
    "start_time": "2022-05-09T08:08:04.118Z"
   },
   {
    "duration": 22,
    "start_time": "2022-05-09T08:08:04.135Z"
   },
   {
    "duration": 40,
    "start_time": "2022-05-09T08:08:04.158Z"
   },
   {
    "duration": 9,
    "start_time": "2022-05-09T08:08:04.201Z"
   },
   {
    "duration": 19,
    "start_time": "2022-05-09T08:08:04.212Z"
   },
   {
    "duration": 12,
    "start_time": "2022-05-09T08:08:04.232Z"
   },
   {
    "duration": 5,
    "start_time": "2022-05-09T08:08:04.246Z"
   },
   {
    "duration": 5,
    "start_time": "2022-05-09T08:08:04.253Z"
   },
   {
    "duration": 208,
    "start_time": "2022-05-09T08:08:04.260Z"
   },
   {
    "duration": 67,
    "start_time": "2022-05-09T08:08:04.470Z"
   },
   {
    "duration": 10,
    "start_time": "2022-05-09T08:08:04.539Z"
   },
   {
    "duration": 54,
    "start_time": "2022-05-09T08:08:04.551Z"
   },
   {
    "duration": 45,
    "start_time": "2022-05-09T08:08:04.611Z"
   },
   {
    "duration": 9,
    "start_time": "2022-05-09T08:08:04.659Z"
   },
   {
    "duration": 55,
    "start_time": "2022-05-09T08:08:04.670Z"
   },
   {
    "duration": 47,
    "start_time": "2022-05-09T08:08:04.727Z"
   },
   {
    "duration": 23,
    "start_time": "2022-05-09T08:08:04.776Z"
   },
   {
    "duration": 33,
    "start_time": "2022-05-09T08:08:04.801Z"
   },
   {
    "duration": 5,
    "start_time": "2022-05-09T08:08:04.835Z"
   },
   {
    "duration": 7,
    "start_time": "2022-05-09T08:08:04.841Z"
   },
   {
    "duration": 10,
    "start_time": "2022-05-09T08:08:04.849Z"
   },
   {
    "duration": 41,
    "start_time": "2022-05-09T08:08:04.860Z"
   },
   {
    "duration": 13,
    "start_time": "2022-05-09T08:08:04.903Z"
   },
   {
    "duration": 10,
    "start_time": "2022-05-09T08:08:04.918Z"
   },
   {
    "duration": 10,
    "start_time": "2022-05-09T08:08:04.930Z"
   },
   {
    "duration": 10,
    "start_time": "2022-05-09T08:08:04.942Z"
   },
   {
    "duration": 10,
    "start_time": "2022-05-09T08:08:04.954Z"
   },
   {
    "duration": 37,
    "start_time": "2022-05-09T08:08:04.965Z"
   },
   {
    "duration": 13,
    "start_time": "2022-05-09T08:08:05.004Z"
   },
   {
    "duration": 5,
    "start_time": "2022-05-09T08:08:05.018Z"
   },
   {
    "duration": 12,
    "start_time": "2022-05-09T08:08:05.024Z"
   },
   {
    "duration": 12,
    "start_time": "2022-05-09T08:08:05.037Z"
   },
   {
    "duration": 8,
    "start_time": "2022-05-09T08:08:05.050Z"
   },
   {
    "duration": 39,
    "start_time": "2022-05-09T08:08:05.060Z"
   },
   {
    "duration": 2,
    "start_time": "2022-05-09T08:08:05.101Z"
   },
   {
    "duration": 6,
    "start_time": "2022-05-09T08:08:05.104Z"
   },
   {
    "duration": 7,
    "start_time": "2022-05-09T08:08:05.111Z"
   },
   {
    "duration": 10,
    "start_time": "2022-05-09T08:08:05.119Z"
   },
   {
    "duration": 5,
    "start_time": "2022-05-09T08:08:05.131Z"
   },
   {
    "duration": 131,
    "start_time": "2022-05-09T08:08:05.138Z"
   },
   {
    "duration": 4,
    "start_time": "2022-05-09T08:08:05.270Z"
   },
   {
    "duration": 26,
    "start_time": "2022-05-09T08:08:05.275Z"
   },
   {
    "duration": 6,
    "start_time": "2022-05-09T08:08:05.302Z"
   },
   {
    "duration": 6,
    "start_time": "2022-05-09T08:08:05.309Z"
   },
   {
    "duration": 44,
    "start_time": "2022-05-09T08:08:05.317Z"
   },
   {
    "duration": 30,
    "start_time": "2022-05-09T08:08:05.363Z"
   },
   {
    "duration": 9,
    "start_time": "2022-05-09T08:08:05.395Z"
   },
   {
    "duration": 9,
    "start_time": "2022-05-09T08:08:05.406Z"
   },
   {
    "duration": 10,
    "start_time": "2022-05-09T08:08:05.417Z"
   },
   {
    "duration": 213,
    "start_time": "2022-05-09T08:08:05.429Z"
   },
   {
    "duration": 175,
    "start_time": "2022-05-09T08:08:05.643Z"
   },
   {
    "duration": 188,
    "start_time": "2022-05-09T08:08:05.819Z"
   },
   {
    "duration": 212,
    "start_time": "2022-05-09T08:08:06.009Z"
   },
   {
    "duration": 2,
    "start_time": "2022-05-09T08:08:06.223Z"
   },
   {
    "duration": 11,
    "start_time": "2022-05-09T08:08:06.226Z"
   },
   {
    "duration": 7,
    "start_time": "2022-05-09T08:08:06.239Z"
   },
   {
    "duration": 11,
    "start_time": "2022-05-09T08:08:06.247Z"
   },
   {
    "duration": 7,
    "start_time": "2022-05-09T08:08:06.260Z"
   },
   {
    "duration": 18,
    "start_time": "2022-05-09T08:08:06.268Z"
   },
   {
    "duration": 5,
    "start_time": "2022-05-09T08:08:06.292Z"
   },
   {
    "duration": 8,
    "start_time": "2022-05-09T08:08:06.299Z"
   },
   {
    "duration": 21,
    "start_time": "2022-05-09T08:08:06.308Z"
   },
   {
    "duration": 8,
    "start_time": "2022-05-09T08:08:06.332Z"
   },
   {
    "duration": 7,
    "start_time": "2022-05-09T08:08:06.342Z"
   },
   {
    "duration": 8,
    "start_time": "2022-05-09T08:08:06.350Z"
   },
   {
    "duration": 11,
    "start_time": "2022-05-09T08:08:06.360Z"
   },
   {
    "duration": 6,
    "start_time": "2022-05-09T08:08:06.394Z"
   },
   {
    "duration": 10,
    "start_time": "2022-05-09T08:31:10.103Z"
   },
   {
    "duration": 20,
    "start_time": "2022-05-09T08:34:41.773Z"
   },
   {
    "duration": 111,
    "start_time": "2022-05-09T08:38:18.168Z"
   },
   {
    "duration": 152,
    "start_time": "2022-05-09T08:40:56.692Z"
   },
   {
    "duration": 206,
    "start_time": "2022-05-09T08:43:32.411Z"
   },
   {
    "duration": 11,
    "start_time": "2022-05-09T08:43:47.424Z"
   },
   {
    "duration": 308,
    "start_time": "2022-05-09T08:48:15.062Z"
   },
   {
    "duration": 311,
    "start_time": "2022-05-09T08:48:49.461Z"
   },
   {
    "duration": 370,
    "start_time": "2022-05-09T08:49:04.804Z"
   },
   {
    "duration": 293,
    "start_time": "2022-05-09T08:49:15.341Z"
   },
   {
    "duration": 141,
    "start_time": "2022-05-09T08:49:46.687Z"
   },
   {
    "duration": 852,
    "start_time": "2022-05-09T08:50:02.010Z"
   },
   {
    "duration": 148,
    "start_time": "2022-05-09T08:50:13.883Z"
   },
   {
    "duration": 130,
    "start_time": "2022-05-09T08:51:21.792Z"
   },
   {
    "duration": 206,
    "start_time": "2022-05-09T08:51:33.164Z"
   },
   {
    "duration": 6,
    "start_time": "2022-05-09T08:52:12.673Z"
   },
   {
    "duration": 6,
    "start_time": "2022-05-09T08:52:26.877Z"
   },
   {
    "duration": 106,
    "start_time": "2022-05-09T08:52:43.010Z"
   },
   {
    "duration": 7,
    "start_time": "2022-05-09T08:52:55.995Z"
   },
   {
    "duration": 1599,
    "start_time": "2022-05-09T08:55:28.367Z"
   },
   {
    "duration": 3,
    "start_time": "2022-05-09T08:55:29.968Z"
   },
   {
    "duration": 419,
    "start_time": "2022-05-09T08:55:29.973Z"
   },
   {
    "duration": 17,
    "start_time": "2022-05-09T08:55:30.395Z"
   },
   {
    "duration": 11,
    "start_time": "2022-05-09T08:55:30.414Z"
   },
   {
    "duration": 37,
    "start_time": "2022-05-09T08:55:30.427Z"
   },
   {
    "duration": 48,
    "start_time": "2022-05-09T08:55:30.465Z"
   },
   {
    "duration": 43,
    "start_time": "2022-05-09T08:55:30.515Z"
   },
   {
    "duration": 7,
    "start_time": "2022-05-09T08:55:30.560Z"
   },
   {
    "duration": 29,
    "start_time": "2022-05-09T08:55:30.571Z"
   },
   {
    "duration": 23,
    "start_time": "2022-05-09T08:55:30.602Z"
   },
   {
    "duration": 44,
    "start_time": "2022-05-09T08:55:30.627Z"
   },
   {
    "duration": 53,
    "start_time": "2022-05-09T08:55:30.673Z"
   },
   {
    "duration": 10,
    "start_time": "2022-05-09T08:55:30.728Z"
   },
   {
    "duration": 43,
    "start_time": "2022-05-09T08:55:30.740Z"
   },
   {
    "duration": 23,
    "start_time": "2022-05-09T08:55:30.793Z"
   },
   {
    "duration": 21,
    "start_time": "2022-05-09T08:55:30.818Z"
   },
   {
    "duration": 14,
    "start_time": "2022-05-09T08:55:30.841Z"
   },
   {
    "duration": 29,
    "start_time": "2022-05-09T08:55:30.857Z"
   },
   {
    "duration": 15,
    "start_time": "2022-05-09T08:55:30.887Z"
   },
   {
    "duration": 17,
    "start_time": "2022-05-09T08:55:30.904Z"
   },
   {
    "duration": 16,
    "start_time": "2022-05-09T08:55:30.923Z"
   },
   {
    "duration": 8,
    "start_time": "2022-05-09T08:55:30.941Z"
   },
   {
    "duration": 244,
    "start_time": "2022-05-09T08:55:30.951Z"
   },
   {
    "duration": 64,
    "start_time": "2022-05-09T08:55:31.197Z"
   },
   {
    "duration": 30,
    "start_time": "2022-05-09T08:55:31.263Z"
   },
   {
    "duration": 53,
    "start_time": "2022-05-09T08:55:31.295Z"
   },
   {
    "duration": 61,
    "start_time": "2022-05-09T08:55:31.354Z"
   },
   {
    "duration": 21,
    "start_time": "2022-05-09T08:55:31.417Z"
   },
   {
    "duration": 48,
    "start_time": "2022-05-09T08:55:31.441Z"
   },
   {
    "duration": 49,
    "start_time": "2022-05-09T08:55:31.491Z"
   },
   {
    "duration": 17,
    "start_time": "2022-05-09T08:55:31.543Z"
   },
   {
    "duration": 48,
    "start_time": "2022-05-09T08:55:31.562Z"
   },
   {
    "duration": 6,
    "start_time": "2022-05-09T08:55:31.612Z"
   },
   {
    "duration": 22,
    "start_time": "2022-05-09T08:55:31.621Z"
   },
   {
    "duration": 23,
    "start_time": "2022-05-09T08:55:31.645Z"
   },
   {
    "duration": 25,
    "start_time": "2022-05-09T08:55:31.670Z"
   },
   {
    "duration": 34,
    "start_time": "2022-05-09T08:55:31.697Z"
   },
   {
    "duration": 33,
    "start_time": "2022-05-09T08:55:31.733Z"
   },
   {
    "duration": 23,
    "start_time": "2022-05-09T08:55:31.768Z"
   },
   {
    "duration": 12,
    "start_time": "2022-05-09T08:55:31.792Z"
   },
   {
    "duration": 26,
    "start_time": "2022-05-09T08:55:31.805Z"
   },
   {
    "duration": 14,
    "start_time": "2022-05-09T08:55:31.833Z"
   },
   {
    "duration": 18,
    "start_time": "2022-05-09T08:55:31.849Z"
   },
   {
    "duration": 7,
    "start_time": "2022-05-09T08:55:31.869Z"
   },
   {
    "duration": 11,
    "start_time": "2022-05-09T08:55:31.877Z"
   },
   {
    "duration": 12,
    "start_time": "2022-05-09T08:55:31.889Z"
   },
   {
    "duration": 7,
    "start_time": "2022-05-09T08:55:31.903Z"
   },
   {
    "duration": 20,
    "start_time": "2022-05-09T08:55:31.912Z"
   },
   {
    "duration": 2,
    "start_time": "2022-05-09T08:55:31.934Z"
   },
   {
    "duration": 11,
    "start_time": "2022-05-09T08:55:31.938Z"
   },
   {
    "duration": 18,
    "start_time": "2022-05-09T08:55:31.951Z"
   },
   {
    "duration": 20,
    "start_time": "2022-05-09T08:55:31.971Z"
   },
   {
    "duration": 19,
    "start_time": "2022-05-09T08:55:31.993Z"
   },
   {
    "duration": 133,
    "start_time": "2022-05-09T08:55:32.015Z"
   },
   {
    "duration": 5,
    "start_time": "2022-05-09T08:55:32.149Z"
   },
   {
    "duration": 31,
    "start_time": "2022-05-09T08:55:32.155Z"
   },
   {
    "duration": 13,
    "start_time": "2022-05-09T08:55:32.189Z"
   },
   {
    "duration": 12,
    "start_time": "2022-05-09T08:55:32.204Z"
   },
   {
    "duration": 53,
    "start_time": "2022-05-09T08:55:32.218Z"
   },
   {
    "duration": 12,
    "start_time": "2022-05-09T08:55:32.273Z"
   },
   {
    "duration": 16,
    "start_time": "2022-05-09T08:55:32.292Z"
   },
   {
    "duration": 14,
    "start_time": "2022-05-09T08:55:32.310Z"
   },
   {
    "duration": 15,
    "start_time": "2022-05-09T08:55:32.326Z"
   },
   {
    "duration": 240,
    "start_time": "2022-05-09T08:55:32.343Z"
   },
   {
    "duration": 201,
    "start_time": "2022-05-09T08:55:32.585Z"
   },
   {
    "duration": 216,
    "start_time": "2022-05-09T08:55:32.792Z"
   },
   {
    "duration": 218,
    "start_time": "2022-05-09T08:55:33.010Z"
   },
   {
    "duration": 5,
    "start_time": "2022-05-09T08:55:33.230Z"
   },
   {
    "duration": 15,
    "start_time": "2022-05-09T08:55:33.237Z"
   },
   {
    "duration": 8,
    "start_time": "2022-05-09T08:55:33.254Z"
   },
   {
    "duration": 7,
    "start_time": "2022-05-09T08:55:33.264Z"
   },
   {
    "duration": 8,
    "start_time": "2022-05-09T08:55:33.273Z"
   },
   {
    "duration": 9,
    "start_time": "2022-05-09T08:55:33.283Z"
   },
   {
    "duration": 16,
    "start_time": "2022-05-09T08:55:33.294Z"
   },
   {
    "duration": 8,
    "start_time": "2022-05-09T08:55:33.312Z"
   },
   {
    "duration": 9,
    "start_time": "2022-05-09T08:55:33.322Z"
   },
   {
    "duration": 26,
    "start_time": "2022-05-09T08:55:33.333Z"
   },
   {
    "duration": 7,
    "start_time": "2022-05-09T08:55:33.393Z"
   },
   {
    "duration": 5,
    "start_time": "2022-05-09T08:55:33.402Z"
   },
   {
    "duration": 7,
    "start_time": "2022-05-09T08:55:33.409Z"
   },
   {
    "duration": 8,
    "start_time": "2022-05-09T08:55:33.422Z"
   },
   {
    "duration": 10,
    "start_time": "2022-05-09T08:55:33.432Z"
   },
   {
    "duration": 6,
    "start_time": "2022-05-09T08:58:30.537Z"
   },
   {
    "duration": 113,
    "start_time": "2022-05-09T08:58:31.680Z"
   },
   {
    "duration": 17,
    "start_time": "2022-05-09T08:58:36.290Z"
   },
   {
    "duration": 1317,
    "start_time": "2022-05-09T08:59:15.599Z"
   },
   {
    "duration": 3,
    "start_time": "2022-05-09T08:59:16.919Z"
   },
   {
    "duration": 395,
    "start_time": "2022-05-09T08:59:16.924Z"
   },
   {
    "duration": 15,
    "start_time": "2022-05-09T08:59:17.322Z"
   },
   {
    "duration": 11,
    "start_time": "2022-05-09T08:59:17.339Z"
   },
   {
    "duration": 47,
    "start_time": "2022-05-09T08:59:17.352Z"
   },
   {
    "duration": 45,
    "start_time": "2022-05-09T08:59:17.401Z"
   },
   {
    "duration": 73,
    "start_time": "2022-05-09T08:59:17.448Z"
   },
   {
    "duration": 6,
    "start_time": "2022-05-09T08:59:17.523Z"
   },
   {
    "duration": 13,
    "start_time": "2022-05-09T08:59:17.533Z"
   },
   {
    "duration": 10,
    "start_time": "2022-05-09T08:59:17.548Z"
   },
   {
    "duration": 65,
    "start_time": "2022-05-09T08:59:17.560Z"
   },
   {
    "duration": 43,
    "start_time": "2022-05-09T08:59:17.627Z"
   },
   {
    "duration": 22,
    "start_time": "2022-05-09T08:59:17.672Z"
   },
   {
    "duration": 30,
    "start_time": "2022-05-09T08:59:17.697Z"
   },
   {
    "duration": 17,
    "start_time": "2022-05-09T08:59:17.729Z"
   },
   {
    "duration": 21,
    "start_time": "2022-05-09T08:59:17.748Z"
   },
   {
    "duration": 30,
    "start_time": "2022-05-09T08:59:17.770Z"
   },
   {
    "duration": 21,
    "start_time": "2022-05-09T08:59:17.803Z"
   },
   {
    "duration": 14,
    "start_time": "2022-05-09T08:59:17.826Z"
   },
   {
    "duration": 20,
    "start_time": "2022-05-09T08:59:17.841Z"
   },
   {
    "duration": 14,
    "start_time": "2022-05-09T08:59:17.863Z"
   },
   {
    "duration": 14,
    "start_time": "2022-05-09T08:59:17.879Z"
   },
   {
    "duration": 214,
    "start_time": "2022-05-09T08:59:17.895Z"
   },
   {
    "duration": 85,
    "start_time": "2022-05-09T08:59:18.111Z"
   },
   {
    "duration": 13,
    "start_time": "2022-05-09T08:59:18.199Z"
   },
   {
    "duration": 64,
    "start_time": "2022-05-09T08:59:18.214Z"
   },
   {
    "duration": 67,
    "start_time": "2022-05-09T08:59:18.297Z"
   },
   {
    "duration": 11,
    "start_time": "2022-05-09T08:59:18.367Z"
   },
   {
    "duration": 37,
    "start_time": "2022-05-09T08:59:18.393Z"
   },
   {
    "duration": 92,
    "start_time": "2022-05-09T08:59:18.432Z"
   },
   {
    "duration": 14,
    "start_time": "2022-05-09T08:59:18.526Z"
   },
   {
    "duration": 52,
    "start_time": "2022-05-09T08:59:18.542Z"
   },
   {
    "duration": 6,
    "start_time": "2022-05-09T08:59:18.595Z"
   },
   {
    "duration": 6,
    "start_time": "2022-05-09T08:59:18.603Z"
   },
   {
    "duration": 12,
    "start_time": "2022-05-09T08:59:18.611Z"
   },
   {
    "duration": 12,
    "start_time": "2022-05-09T08:59:18.625Z"
   },
   {
    "duration": 12,
    "start_time": "2022-05-09T08:59:18.640Z"
   },
   {
    "duration": 40,
    "start_time": "2022-05-09T08:59:18.654Z"
   },
   {
    "duration": 18,
    "start_time": "2022-05-09T08:59:18.696Z"
   },
   {
    "duration": 6,
    "start_time": "2022-05-09T08:59:18.716Z"
   },
   {
    "duration": 15,
    "start_time": "2022-05-09T08:59:18.724Z"
   },
   {
    "duration": 15,
    "start_time": "2022-05-09T08:59:18.741Z"
   },
   {
    "duration": 39,
    "start_time": "2022-05-09T08:59:18.757Z"
   },
   {
    "duration": 6,
    "start_time": "2022-05-09T08:59:18.798Z"
   },
   {
    "duration": 10,
    "start_time": "2022-05-09T08:59:18.806Z"
   },
   {
    "duration": 9,
    "start_time": "2022-05-09T08:59:18.818Z"
   },
   {
    "duration": 7,
    "start_time": "2022-05-09T08:59:18.829Z"
   },
   {
    "duration": 18,
    "start_time": "2022-05-09T08:59:18.838Z"
   },
   {
    "duration": 3,
    "start_time": "2022-05-09T08:59:18.857Z"
   },
   {
    "duration": 3,
    "start_time": "2022-05-09T08:59:18.893Z"
   },
   {
    "duration": 7,
    "start_time": "2022-05-09T08:59:18.897Z"
   },
   {
    "duration": 14,
    "start_time": "2022-05-09T08:59:18.906Z"
   },
   {
    "duration": 12,
    "start_time": "2022-05-09T08:59:18.922Z"
   },
   {
    "duration": 186,
    "start_time": "2022-05-09T08:59:18.935Z"
   },
   {
    "duration": 3,
    "start_time": "2022-05-09T08:59:19.123Z"
   },
   {
    "duration": 29,
    "start_time": "2022-05-09T08:59:19.128Z"
   },
   {
    "duration": 8,
    "start_time": "2022-05-09T08:59:19.159Z"
   },
   {
    "duration": 15,
    "start_time": "2022-05-09T08:59:19.168Z"
   },
   {
    "duration": 71,
    "start_time": "2022-05-09T08:59:19.185Z"
   },
   {
    "duration": 12,
    "start_time": "2022-05-09T08:59:19.259Z"
   },
   {
    "duration": 21,
    "start_time": "2022-05-09T08:59:19.273Z"
   },
   {
    "duration": 11,
    "start_time": "2022-05-09T08:59:19.296Z"
   },
   {
    "duration": 13,
    "start_time": "2022-05-09T08:59:19.309Z"
   },
   {
    "duration": 224,
    "start_time": "2022-05-09T08:59:19.324Z"
   },
   {
    "duration": 192,
    "start_time": "2022-05-09T08:59:19.550Z"
   },
   {
    "duration": 204,
    "start_time": "2022-05-09T08:59:19.744Z"
   },
   {
    "duration": 202,
    "start_time": "2022-05-09T08:59:19.950Z"
   },
   {
    "duration": 5,
    "start_time": "2022-05-09T08:59:20.154Z"
   },
   {
    "duration": 5,
    "start_time": "2022-05-09T08:59:20.161Z"
   },
   {
    "duration": 9,
    "start_time": "2022-05-09T08:59:20.168Z"
   },
   {
    "duration": 18,
    "start_time": "2022-05-09T08:59:20.178Z"
   },
   {
    "duration": 6,
    "start_time": "2022-05-09T08:59:20.198Z"
   },
   {
    "duration": 8,
    "start_time": "2022-05-09T08:59:20.206Z"
   },
   {
    "duration": 20,
    "start_time": "2022-05-09T08:59:20.215Z"
   },
   {
    "duration": 12,
    "start_time": "2022-05-09T08:59:20.236Z"
   },
   {
    "duration": 10,
    "start_time": "2022-05-09T08:59:20.250Z"
   },
   {
    "duration": 28,
    "start_time": "2022-05-09T08:59:20.262Z"
   },
   {
    "duration": 14,
    "start_time": "2022-05-09T08:59:20.292Z"
   },
   {
    "duration": 20,
    "start_time": "2022-05-09T08:59:20.308Z"
   },
   {
    "duration": 15,
    "start_time": "2022-05-09T08:59:20.330Z"
   },
   {
    "duration": 14,
    "start_time": "2022-05-09T08:59:20.351Z"
   },
   {
    "duration": 28,
    "start_time": "2022-05-09T08:59:20.367Z"
   },
   {
    "duration": 1175,
    "start_time": "2022-05-09T09:00:25.636Z"
   },
   {
    "duration": 3,
    "start_time": "2022-05-09T09:00:26.813Z"
   },
   {
    "duration": 385,
    "start_time": "2022-05-09T09:00:26.817Z"
   },
   {
    "duration": 12,
    "start_time": "2022-05-09T09:00:27.205Z"
   },
   {
    "duration": 8,
    "start_time": "2022-05-09T09:00:27.218Z"
   },
   {
    "duration": 34,
    "start_time": "2022-05-09T09:00:27.227Z"
   },
   {
    "duration": 39,
    "start_time": "2022-05-09T09:00:27.262Z"
   },
   {
    "duration": 33,
    "start_time": "2022-05-09T09:00:27.303Z"
   },
   {
    "duration": 5,
    "start_time": "2022-05-09T09:00:27.338Z"
   },
   {
    "duration": 8,
    "start_time": "2022-05-09T09:00:27.346Z"
   },
   {
    "duration": 39,
    "start_time": "2022-05-09T09:00:27.355Z"
   },
   {
    "duration": 36,
    "start_time": "2022-05-09T09:00:27.395Z"
   },
   {
    "duration": 40,
    "start_time": "2022-05-09T09:00:27.433Z"
   },
   {
    "duration": 10,
    "start_time": "2022-05-09T09:00:27.492Z"
   },
   {
    "duration": 33,
    "start_time": "2022-05-09T09:00:27.504Z"
   },
   {
    "duration": 20,
    "start_time": "2022-05-09T09:00:27.539Z"
   },
   {
    "duration": 53,
    "start_time": "2022-05-09T09:00:27.560Z"
   },
   {
    "duration": 11,
    "start_time": "2022-05-09T09:00:27.615Z"
   },
   {
    "duration": 11,
    "start_time": "2022-05-09T09:00:27.628Z"
   },
   {
    "duration": 13,
    "start_time": "2022-05-09T09:00:27.640Z"
   },
   {
    "duration": 38,
    "start_time": "2022-05-09T09:00:27.655Z"
   },
   {
    "duration": 5,
    "start_time": "2022-05-09T09:00:27.696Z"
   },
   {
    "duration": 6,
    "start_time": "2022-05-09T09:00:27.703Z"
   },
   {
    "duration": 210,
    "start_time": "2022-05-09T09:00:27.711Z"
   },
   {
    "duration": 71,
    "start_time": "2022-05-09T09:00:27.923Z"
   },
   {
    "duration": 10,
    "start_time": "2022-05-09T09:00:27.995Z"
   },
   {
    "duration": 42,
    "start_time": "2022-05-09T09:00:28.007Z"
   },
   {
    "duration": 57,
    "start_time": "2022-05-09T09:00:28.055Z"
   },
   {
    "duration": 9,
    "start_time": "2022-05-09T09:00:28.114Z"
   },
   {
    "duration": 29,
    "start_time": "2022-05-09T09:00:28.126Z"
   },
   {
    "duration": 66,
    "start_time": "2022-05-09T09:00:28.157Z"
   },
   {
    "duration": 10,
    "start_time": "2022-05-09T09:00:28.225Z"
   },
   {
    "duration": 34,
    "start_time": "2022-05-09T09:00:28.236Z"
   },
   {
    "duration": 24,
    "start_time": "2022-05-09T09:00:28.272Z"
   },
   {
    "duration": 6,
    "start_time": "2022-05-09T09:00:28.298Z"
   },
   {
    "duration": 12,
    "start_time": "2022-05-09T09:00:28.306Z"
   },
   {
    "duration": 14,
    "start_time": "2022-05-09T09:00:28.319Z"
   },
   {
    "duration": 10,
    "start_time": "2022-05-09T09:00:28.335Z"
   },
   {
    "duration": 8,
    "start_time": "2022-05-09T09:00:28.347Z"
   },
   {
    "duration": 9,
    "start_time": "2022-05-09T09:00:28.357Z"
   },
   {
    "duration": 25,
    "start_time": "2022-05-09T09:00:28.368Z"
   },
   {
    "duration": 11,
    "start_time": "2022-05-09T09:00:28.394Z"
   },
   {
    "duration": 14,
    "start_time": "2022-05-09T09:00:28.407Z"
   },
   {
    "duration": 16,
    "start_time": "2022-05-09T09:00:28.423Z"
   },
   {
    "duration": 4,
    "start_time": "2022-05-09T09:00:28.441Z"
   },
   {
    "duration": 12,
    "start_time": "2022-05-09T09:00:28.447Z"
   },
   {
    "duration": 12,
    "start_time": "2022-05-09T09:00:28.460Z"
   },
   {
    "duration": 6,
    "start_time": "2022-05-09T09:00:28.493Z"
   },
   {
    "duration": 18,
    "start_time": "2022-05-09T09:00:28.501Z"
   },
   {
    "duration": 5,
    "start_time": "2022-05-09T09:00:28.520Z"
   },
   {
    "duration": 9,
    "start_time": "2022-05-09T09:00:28.527Z"
   },
   {
    "duration": 8,
    "start_time": "2022-05-09T09:00:28.538Z"
   },
   {
    "duration": 12,
    "start_time": "2022-05-09T09:00:28.548Z"
   },
   {
    "duration": 7,
    "start_time": "2022-05-09T09:00:28.561Z"
   },
   {
    "duration": 120,
    "start_time": "2022-05-09T09:00:28.569Z"
   },
   {
    "duration": 4,
    "start_time": "2022-05-09T09:00:28.693Z"
   },
   {
    "duration": 19,
    "start_time": "2022-05-09T09:00:28.699Z"
   },
   {
    "duration": 4,
    "start_time": "2022-05-09T09:00:28.719Z"
   },
   {
    "duration": 6,
    "start_time": "2022-05-09T09:00:28.725Z"
   },
   {
    "duration": 65,
    "start_time": "2022-05-09T09:00:28.732Z"
   },
   {
    "duration": 11,
    "start_time": "2022-05-09T09:00:28.799Z"
   },
   {
    "duration": 11,
    "start_time": "2022-05-09T09:00:28.811Z"
   },
   {
    "duration": 11,
    "start_time": "2022-05-09T09:00:28.824Z"
   },
   {
    "duration": 11,
    "start_time": "2022-05-09T09:00:28.837Z"
   },
   {
    "duration": 244,
    "start_time": "2022-05-09T09:00:28.850Z"
   },
   {
    "duration": 203,
    "start_time": "2022-05-09T09:00:29.096Z"
   },
   {
    "duration": 192,
    "start_time": "2022-05-09T09:00:29.300Z"
   },
   {
    "duration": 187,
    "start_time": "2022-05-09T09:00:29.494Z"
   },
   {
    "duration": 11,
    "start_time": "2022-05-09T09:00:29.682Z"
   },
   {
    "duration": 3,
    "start_time": "2022-05-09T09:00:29.695Z"
   },
   {
    "duration": 7,
    "start_time": "2022-05-09T09:00:29.700Z"
   },
   {
    "duration": 5,
    "start_time": "2022-05-09T09:00:29.708Z"
   },
   {
    "duration": 5,
    "start_time": "2022-05-09T09:00:29.715Z"
   },
   {
    "duration": 5,
    "start_time": "2022-05-09T09:00:29.722Z"
   },
   {
    "duration": 24,
    "start_time": "2022-05-09T09:00:29.729Z"
   },
   {
    "duration": 10,
    "start_time": "2022-05-09T09:00:29.755Z"
   },
   {
    "duration": 29,
    "start_time": "2022-05-09T09:00:29.766Z"
   },
   {
    "duration": 18,
    "start_time": "2022-05-09T09:00:29.797Z"
   },
   {
    "duration": 9,
    "start_time": "2022-05-09T09:00:29.816Z"
   },
   {
    "duration": 5,
    "start_time": "2022-05-09T09:00:29.827Z"
   },
   {
    "duration": 8,
    "start_time": "2022-05-09T09:00:29.834Z"
   },
   {
    "duration": 6,
    "start_time": "2022-05-09T09:00:29.848Z"
   },
   {
    "duration": 7,
    "start_time": "2022-05-09T09:00:29.856Z"
   },
   {
    "duration": 109,
    "start_time": "2022-05-09T09:02:50.570Z"
   },
   {
    "duration": 8,
    "start_time": "2022-05-09T09:03:10.580Z"
   },
   {
    "duration": 20,
    "start_time": "2022-05-09T09:03:25.110Z"
   },
   {
    "duration": 185,
    "start_time": "2022-05-09T09:07:17.334Z"
   },
   {
    "duration": 175,
    "start_time": "2022-05-09T09:07:33.890Z"
   },
   {
    "duration": 251,
    "start_time": "2022-05-09T09:07:46.765Z"
   },
   {
    "duration": 181,
    "start_time": "2022-05-09T09:08:00.380Z"
   },
   {
    "duration": 3,
    "start_time": "2022-05-09T09:08:31.192Z"
   },
   {
    "duration": 372,
    "start_time": "2022-05-09T09:09:03.198Z"
   },
   {
    "duration": 583,
    "start_time": "2022-05-09T09:10:02.488Z"
   },
   {
    "duration": 525,
    "start_time": "2022-05-09T09:10:19.169Z"
   },
   {
    "duration": 813,
    "start_time": "2022-05-09T09:10:50.623Z"
   },
   {
    "duration": 732,
    "start_time": "2022-05-09T09:11:10.943Z"
   },
   {
    "duration": 695,
    "start_time": "2022-05-09T09:11:19.492Z"
   },
   {
    "duration": 16,
    "start_time": "2022-05-09T09:13:03.813Z"
   },
   {
    "duration": 16,
    "start_time": "2022-05-09T09:14:00.271Z"
   },
   {
    "duration": 17,
    "start_time": "2022-05-09T09:16:21.041Z"
   },
   {
    "duration": 16,
    "start_time": "2022-05-09T09:16:26.419Z"
   },
   {
    "duration": 10,
    "start_time": "2022-05-09T09:16:55.393Z"
   },
   {
    "duration": 164,
    "start_time": "2022-05-09T09:17:06.852Z"
   },
   {
    "duration": 252,
    "start_time": "2022-05-09T09:17:28.671Z"
   },
   {
    "duration": 180,
    "start_time": "2022-05-09T09:17:52.337Z"
   },
   {
    "duration": 167,
    "start_time": "2022-05-09T09:18:11.979Z"
   },
   {
    "duration": 189,
    "start_time": "2022-05-09T09:18:20.438Z"
   },
   {
    "duration": 179,
    "start_time": "2022-05-09T09:18:30.542Z"
   },
   {
    "duration": 79,
    "start_time": "2022-05-09T11:41:44.306Z"
   },
   {
    "duration": 1335,
    "start_time": "2022-05-09T11:41:57.698Z"
   },
   {
    "duration": 3,
    "start_time": "2022-05-09T11:41:59.035Z"
   },
   {
    "duration": 379,
    "start_time": "2022-05-09T11:41:59.039Z"
   },
   {
    "duration": 11,
    "start_time": "2022-05-09T11:41:59.420Z"
   },
   {
    "duration": 10,
    "start_time": "2022-05-09T11:41:59.433Z"
   },
   {
    "duration": 30,
    "start_time": "2022-05-09T11:41:59.444Z"
   },
   {
    "duration": 32,
    "start_time": "2022-05-09T11:41:59.476Z"
   },
   {
    "duration": 34,
    "start_time": "2022-05-09T11:41:59.510Z"
   },
   {
    "duration": 5,
    "start_time": "2022-05-09T11:41:59.546Z"
   },
   {
    "duration": 8,
    "start_time": "2022-05-09T11:41:59.554Z"
   },
   {
    "duration": 34,
    "start_time": "2022-05-09T11:41:59.563Z"
   },
   {
    "duration": 29,
    "start_time": "2022-05-09T11:41:59.599Z"
   },
   {
    "duration": 25,
    "start_time": "2022-05-09T11:41:59.630Z"
   },
   {
    "duration": 8,
    "start_time": "2022-05-09T11:41:59.656Z"
   },
   {
    "duration": 19,
    "start_time": "2022-05-09T11:41:59.693Z"
   },
   {
    "duration": 16,
    "start_time": "2022-05-09T11:41:59.714Z"
   },
   {
    "duration": 21,
    "start_time": "2022-05-09T11:41:59.731Z"
   },
   {
    "duration": 38,
    "start_time": "2022-05-09T11:41:59.754Z"
   },
   {
    "duration": 10,
    "start_time": "2022-05-09T11:41:59.795Z"
   },
   {
    "duration": 12,
    "start_time": "2022-05-09T11:41:59.807Z"
   },
   {
    "duration": 18,
    "start_time": "2022-05-09T11:41:59.821Z"
   },
   {
    "duration": 15,
    "start_time": "2022-05-09T11:41:59.840Z"
   },
   {
    "duration": 6,
    "start_time": "2022-05-09T11:41:59.857Z"
   },
   {
    "duration": 223,
    "start_time": "2022-05-09T11:41:59.864Z"
   },
   {
    "duration": 64,
    "start_time": "2022-05-09T11:42:00.089Z"
   },
   {
    "duration": 10,
    "start_time": "2022-05-09T11:42:00.154Z"
   },
   {
    "duration": 55,
    "start_time": "2022-05-09T11:42:00.166Z"
   },
   {
    "duration": 44,
    "start_time": "2022-05-09T11:42:00.226Z"
   },
   {
    "duration": 28,
    "start_time": "2022-05-09T11:42:00.273Z"
   },
   {
    "duration": 41,
    "start_time": "2022-05-09T11:42:00.303Z"
   },
   {
    "duration": 92,
    "start_time": "2022-05-09T11:42:00.346Z"
   },
   {
    "duration": 12,
    "start_time": "2022-05-09T11:42:00.440Z"
   },
   {
    "duration": 58,
    "start_time": "2022-05-09T11:42:00.454Z"
   },
   {
    "duration": 6,
    "start_time": "2022-05-09T11:42:00.514Z"
   },
   {
    "duration": 16,
    "start_time": "2022-05-09T11:42:00.521Z"
   },
   {
    "duration": 16,
    "start_time": "2022-05-09T11:42:00.539Z"
   },
   {
    "duration": 11,
    "start_time": "2022-05-09T11:42:00.557Z"
   },
   {
    "duration": 22,
    "start_time": "2022-05-09T11:42:00.570Z"
   },
   {
    "duration": 9,
    "start_time": "2022-05-09T11:42:00.594Z"
   },
   {
    "duration": 10,
    "start_time": "2022-05-09T11:42:00.605Z"
   },
   {
    "duration": 12,
    "start_time": "2022-05-09T11:42:00.617Z"
   },
   {
    "duration": 14,
    "start_time": "2022-05-09T11:42:00.630Z"
   },
   {
    "duration": 13,
    "start_time": "2022-05-09T11:42:00.646Z"
   },
   {
    "duration": 40,
    "start_time": "2022-05-09T11:42:00.661Z"
   },
   {
    "duration": 8,
    "start_time": "2022-05-09T11:42:00.702Z"
   },
   {
    "duration": 13,
    "start_time": "2022-05-09T11:42:00.711Z"
   },
   {
    "duration": 9,
    "start_time": "2022-05-09T11:42:00.726Z"
   },
   {
    "duration": 15,
    "start_time": "2022-05-09T11:42:00.736Z"
   },
   {
    "duration": 17,
    "start_time": "2022-05-09T11:42:00.753Z"
   },
   {
    "duration": 3,
    "start_time": "2022-05-09T11:42:00.772Z"
   },
   {
    "duration": 18,
    "start_time": "2022-05-09T11:42:00.776Z"
   },
   {
    "duration": 9,
    "start_time": "2022-05-09T11:42:00.795Z"
   },
   {
    "duration": 16,
    "start_time": "2022-05-09T11:42:00.806Z"
   },
   {
    "duration": 10,
    "start_time": "2022-05-09T11:42:00.824Z"
   },
   {
    "duration": 119,
    "start_time": "2022-05-09T11:42:00.836Z"
   },
   {
    "duration": 3,
    "start_time": "2022-05-09T11:42:00.957Z"
   },
   {
    "duration": 23,
    "start_time": "2022-05-09T11:42:00.962Z"
   },
   {
    "duration": 4,
    "start_time": "2022-05-09T11:42:00.992Z"
   },
   {
    "duration": 11,
    "start_time": "2022-05-09T11:42:00.998Z"
   },
   {
    "duration": 57,
    "start_time": "2022-05-09T11:42:01.010Z"
   },
   {
    "duration": 10,
    "start_time": "2022-05-09T11:42:01.069Z"
   },
   {
    "duration": 20,
    "start_time": "2022-05-09T11:42:01.080Z"
   },
   {
    "duration": 21,
    "start_time": "2022-05-09T11:42:01.102Z"
   },
   {
    "duration": 10,
    "start_time": "2022-05-09T11:42:01.125Z"
   },
   {
    "duration": 21,
    "start_time": "2022-05-09T11:42:01.137Z"
   },
   {
    "duration": 193,
    "start_time": "2022-05-09T11:42:01.160Z"
   },
   {
    "duration": 0,
    "start_time": "2022-05-09T11:42:01.355Z"
   },
   {
    "duration": 0,
    "start_time": "2022-05-09T11:42:01.357Z"
   },
   {
    "duration": 0,
    "start_time": "2022-05-09T11:42:01.358Z"
   },
   {
    "duration": 0,
    "start_time": "2022-05-09T11:42:01.360Z"
   },
   {
    "duration": 0,
    "start_time": "2022-05-09T11:42:01.362Z"
   },
   {
    "duration": 0,
    "start_time": "2022-05-09T11:42:01.363Z"
   },
   {
    "duration": 0,
    "start_time": "2022-05-09T11:42:01.364Z"
   },
   {
    "duration": 0,
    "start_time": "2022-05-09T11:42:01.366Z"
   },
   {
    "duration": 0,
    "start_time": "2022-05-09T11:42:01.368Z"
   },
   {
    "duration": 0,
    "start_time": "2022-05-09T11:42:01.393Z"
   },
   {
    "duration": 0,
    "start_time": "2022-05-09T11:42:01.394Z"
   },
   {
    "duration": 0,
    "start_time": "2022-05-09T11:42:01.396Z"
   },
   {
    "duration": 0,
    "start_time": "2022-05-09T11:42:01.397Z"
   },
   {
    "duration": 1,
    "start_time": "2022-05-09T11:42:01.398Z"
   },
   {
    "duration": 0,
    "start_time": "2022-05-09T11:42:01.400Z"
   },
   {
    "duration": 0,
    "start_time": "2022-05-09T11:42:01.401Z"
   },
   {
    "duration": 0,
    "start_time": "2022-05-09T11:42:01.402Z"
   },
   {
    "duration": 0,
    "start_time": "2022-05-09T11:42:01.404Z"
   },
   {
    "duration": 14,
    "start_time": "2022-05-09T11:43:42.631Z"
   },
   {
    "duration": 1658,
    "start_time": "2022-05-09T11:43:56.463Z"
   },
   {
    "duration": 99,
    "start_time": "2022-05-09T11:44:43.471Z"
   },
   {
    "duration": 104,
    "start_time": "2022-05-09T11:44:55.424Z"
   },
   {
    "duration": 147,
    "start_time": "2022-05-09T11:45:01.068Z"
   },
   {
    "duration": 12,
    "start_time": "2022-05-09T11:45:13.443Z"
   },
   {
    "duration": 17,
    "start_time": "2022-05-09T11:45:59.904Z"
   },
   {
    "duration": 16,
    "start_time": "2022-05-09T11:48:06.031Z"
   },
   {
    "duration": 1200,
    "start_time": "2022-05-09T11:48:45.666Z"
   },
   {
    "duration": 3,
    "start_time": "2022-05-09T11:48:46.868Z"
   },
   {
    "duration": 468,
    "start_time": "2022-05-09T11:48:46.872Z"
   },
   {
    "duration": 12,
    "start_time": "2022-05-09T11:48:47.342Z"
   },
   {
    "duration": 8,
    "start_time": "2022-05-09T11:48:47.355Z"
   },
   {
    "duration": 34,
    "start_time": "2022-05-09T11:48:47.364Z"
   },
   {
    "duration": 24,
    "start_time": "2022-05-09T11:48:47.400Z"
   },
   {
    "duration": 33,
    "start_time": "2022-05-09T11:48:47.426Z"
   },
   {
    "duration": 5,
    "start_time": "2022-05-09T11:48:47.461Z"
   },
   {
    "duration": 29,
    "start_time": "2022-05-09T11:48:47.469Z"
   },
   {
    "duration": 7,
    "start_time": "2022-05-09T11:48:47.500Z"
   },
   {
    "duration": 30,
    "start_time": "2022-05-09T11:48:47.509Z"
   },
   {
    "duration": 25,
    "start_time": "2022-05-09T11:48:47.541Z"
   },
   {
    "duration": 28,
    "start_time": "2022-05-09T11:48:47.567Z"
   },
   {
    "duration": 20,
    "start_time": "2022-05-09T11:48:47.597Z"
   },
   {
    "duration": 13,
    "start_time": "2022-05-09T11:48:47.619Z"
   },
   {
    "duration": 19,
    "start_time": "2022-05-09T11:48:47.634Z"
   },
   {
    "duration": 8,
    "start_time": "2022-05-09T11:48:47.654Z"
   },
   {
    "duration": 36,
    "start_time": "2022-05-09T11:48:47.664Z"
   },
   {
    "duration": 16,
    "start_time": "2022-05-09T11:48:47.702Z"
   },
   {
    "duration": 13,
    "start_time": "2022-05-09T11:48:47.719Z"
   },
   {
    "duration": 4,
    "start_time": "2022-05-09T11:48:47.734Z"
   },
   {
    "duration": 13,
    "start_time": "2022-05-09T11:48:47.740Z"
   },
   {
    "duration": 205,
    "start_time": "2022-05-09T11:48:47.754Z"
   },
   {
    "duration": 62,
    "start_time": "2022-05-09T11:48:47.960Z"
   },
   {
    "duration": 8,
    "start_time": "2022-05-09T11:48:48.024Z"
   },
   {
    "duration": 45,
    "start_time": "2022-05-09T11:48:48.033Z"
   },
   {
    "duration": 38,
    "start_time": "2022-05-09T11:48:48.092Z"
   },
   {
    "duration": 8,
    "start_time": "2022-05-09T11:48:48.132Z"
   },
   {
    "duration": 28,
    "start_time": "2022-05-09T11:48:48.141Z"
   },
   {
    "duration": 64,
    "start_time": "2022-05-09T11:48:48.171Z"
   },
   {
    "duration": 10,
    "start_time": "2022-05-09T11:48:48.236Z"
   },
   {
    "duration": 52,
    "start_time": "2022-05-09T11:48:48.248Z"
   },
   {
    "duration": 4,
    "start_time": "2022-05-09T11:48:48.302Z"
   },
   {
    "duration": 8,
    "start_time": "2022-05-09T11:48:48.308Z"
   },
   {
    "duration": 9,
    "start_time": "2022-05-09T11:48:48.318Z"
   },
   {
    "duration": 13,
    "start_time": "2022-05-09T11:48:48.328Z"
   },
   {
    "duration": 10,
    "start_time": "2022-05-09T11:48:48.343Z"
   },
   {
    "duration": 7,
    "start_time": "2022-05-09T11:48:48.355Z"
   },
   {
    "duration": 30,
    "start_time": "2022-05-09T11:48:48.364Z"
   },
   {
    "duration": 6,
    "start_time": "2022-05-09T11:48:48.396Z"
   },
   {
    "duration": 11,
    "start_time": "2022-05-09T11:48:48.403Z"
   },
   {
    "duration": 14,
    "start_time": "2022-05-09T11:48:48.415Z"
   },
   {
    "duration": 19,
    "start_time": "2022-05-09T11:48:48.431Z"
   },
   {
    "duration": 4,
    "start_time": "2022-05-09T11:48:48.452Z"
   },
   {
    "duration": 12,
    "start_time": "2022-05-09T11:48:48.458Z"
   },
   {
    "duration": 28,
    "start_time": "2022-05-09T11:48:48.471Z"
   },
   {
    "duration": 5,
    "start_time": "2022-05-09T11:48:48.501Z"
   },
   {
    "duration": 16,
    "start_time": "2022-05-09T11:48:48.508Z"
   },
   {
    "duration": 5,
    "start_time": "2022-05-09T11:48:48.525Z"
   },
   {
    "duration": 9,
    "start_time": "2022-05-09T11:48:48.532Z"
   },
   {
    "duration": 13,
    "start_time": "2022-05-09T11:48:48.543Z"
   },
   {
    "duration": 12,
    "start_time": "2022-05-09T11:48:48.558Z"
   },
   {
    "duration": 8,
    "start_time": "2022-05-09T11:48:48.572Z"
   },
   {
    "duration": 176,
    "start_time": "2022-05-09T11:48:48.582Z"
   },
   {
    "duration": 4,
    "start_time": "2022-05-09T11:48:48.760Z"
   },
   {
    "duration": 31,
    "start_time": "2022-05-09T11:48:48.766Z"
   },
   {
    "duration": 11,
    "start_time": "2022-05-09T11:48:48.799Z"
   },
   {
    "duration": 7,
    "start_time": "2022-05-09T11:48:48.812Z"
   },
   {
    "duration": 71,
    "start_time": "2022-05-09T11:48:48.821Z"
   },
   {
    "duration": 13,
    "start_time": "2022-05-09T11:48:48.894Z"
   },
   {
    "duration": 12,
    "start_time": "2022-05-09T11:48:48.909Z"
   },
   {
    "duration": 11,
    "start_time": "2022-05-09T11:48:48.923Z"
   },
   {
    "duration": 12,
    "start_time": "2022-05-09T11:48:48.936Z"
   },
   {
    "duration": 318,
    "start_time": "2022-05-09T11:48:48.950Z"
   },
   {
    "duration": 256,
    "start_time": "2022-05-09T11:48:49.270Z"
   },
   {
    "duration": 281,
    "start_time": "2022-05-09T11:48:49.528Z"
   },
   {
    "duration": 267,
    "start_time": "2022-05-09T11:48:49.811Z"
   },
   {
    "duration": 3,
    "start_time": "2022-05-09T11:48:50.080Z"
   },
   {
    "duration": 3,
    "start_time": "2022-05-09T11:48:50.092Z"
   },
   {
    "duration": 6,
    "start_time": "2022-05-09T11:48:50.097Z"
   },
   {
    "duration": 13,
    "start_time": "2022-05-09T11:48:50.104Z"
   },
   {
    "duration": 10,
    "start_time": "2022-05-09T11:48:50.118Z"
   },
   {
    "duration": 27,
    "start_time": "2022-05-09T11:48:50.130Z"
   },
   {
    "duration": 10,
    "start_time": "2022-05-09T11:48:50.159Z"
   },
   {
    "duration": 9,
    "start_time": "2022-05-09T11:48:50.171Z"
   },
   {
    "duration": 29,
    "start_time": "2022-05-09T11:48:50.182Z"
   },
   {
    "duration": 10,
    "start_time": "2022-05-09T11:48:50.213Z"
   },
   {
    "duration": 4,
    "start_time": "2022-05-09T11:48:50.225Z"
   },
   {
    "duration": 8,
    "start_time": "2022-05-09T11:48:50.231Z"
   },
   {
    "duration": 14,
    "start_time": "2022-05-09T11:48:50.241Z"
   },
   {
    "duration": 5,
    "start_time": "2022-05-09T11:48:50.262Z"
   },
   {
    "duration": 268,
    "start_time": "2022-05-09T11:49:24.756Z"
   },
   {
    "duration": 251,
    "start_time": "2022-05-09T11:49:31.741Z"
   },
   {
    "duration": 1179,
    "start_time": "2022-05-09T11:52:26.026Z"
   },
   {
    "duration": 3,
    "start_time": "2022-05-09T11:52:27.207Z"
   },
   {
    "duration": 363,
    "start_time": "2022-05-09T11:52:27.211Z"
   },
   {
    "duration": 11,
    "start_time": "2022-05-09T11:52:27.577Z"
   },
   {
    "duration": 10,
    "start_time": "2022-05-09T11:52:27.589Z"
   },
   {
    "duration": 31,
    "start_time": "2022-05-09T11:52:27.600Z"
   },
   {
    "duration": 25,
    "start_time": "2022-05-09T11:52:27.633Z"
   },
   {
    "duration": 54,
    "start_time": "2022-05-09T11:52:27.660Z"
   },
   {
    "duration": 6,
    "start_time": "2022-05-09T11:52:27.715Z"
   },
   {
    "duration": 8,
    "start_time": "2022-05-09T11:52:27.724Z"
   },
   {
    "duration": 11,
    "start_time": "2022-05-09T11:52:27.733Z"
   },
   {
    "duration": 58,
    "start_time": "2022-05-09T11:52:27.746Z"
   },
   {
    "duration": 28,
    "start_time": "2022-05-09T11:52:27.805Z"
   },
   {
    "duration": 8,
    "start_time": "2022-05-09T11:52:27.834Z"
   },
   {
    "duration": 20,
    "start_time": "2022-05-09T11:52:27.844Z"
   },
   {
    "duration": 39,
    "start_time": "2022-05-09T11:52:27.866Z"
   },
   {
    "duration": 20,
    "start_time": "2022-05-09T11:52:27.907Z"
   },
   {
    "duration": 9,
    "start_time": "2022-05-09T11:52:27.929Z"
   },
   {
    "duration": 12,
    "start_time": "2022-05-09T11:52:27.939Z"
   },
   {
    "duration": 41,
    "start_time": "2022-05-09T11:52:27.953Z"
   },
   {
    "duration": 11,
    "start_time": "2022-05-09T11:52:27.996Z"
   },
   {
    "duration": 9,
    "start_time": "2022-05-09T11:52:28.009Z"
   },
   {
    "duration": 6,
    "start_time": "2022-05-09T11:52:28.020Z"
   },
   {
    "duration": 207,
    "start_time": "2022-05-09T11:52:28.028Z"
   },
   {
    "duration": 62,
    "start_time": "2022-05-09T11:52:28.237Z"
   },
   {
    "duration": 12,
    "start_time": "2022-05-09T11:52:28.301Z"
   },
   {
    "duration": 38,
    "start_time": "2022-05-09T11:52:28.315Z"
   },
   {
    "duration": 79,
    "start_time": "2022-05-09T11:52:28.359Z"
   },
   {
    "duration": 12,
    "start_time": "2022-05-09T11:52:28.440Z"
   },
   {
    "duration": 47,
    "start_time": "2022-05-09T11:52:28.453Z"
   },
   {
    "duration": 74,
    "start_time": "2022-05-09T11:52:28.502Z"
   },
   {
    "duration": 20,
    "start_time": "2022-05-09T11:52:28.579Z"
   },
   {
    "duration": 28,
    "start_time": "2022-05-09T11:52:28.601Z"
   },
   {
    "duration": 4,
    "start_time": "2022-05-09T11:52:28.631Z"
   },
   {
    "duration": 6,
    "start_time": "2022-05-09T11:52:28.636Z"
   },
   {
    "duration": 12,
    "start_time": "2022-05-09T11:52:28.643Z"
   },
   {
    "duration": 36,
    "start_time": "2022-05-09T11:52:28.656Z"
   },
   {
    "duration": 12,
    "start_time": "2022-05-09T11:52:28.694Z"
   },
   {
    "duration": 9,
    "start_time": "2022-05-09T11:52:28.708Z"
   },
   {
    "duration": 10,
    "start_time": "2022-05-09T11:52:28.719Z"
   },
   {
    "duration": 4,
    "start_time": "2022-05-09T11:52:28.731Z"
   },
   {
    "duration": 11,
    "start_time": "2022-05-09T11:52:28.737Z"
   },
   {
    "duration": 43,
    "start_time": "2022-05-09T11:52:28.750Z"
   },
   {
    "duration": 14,
    "start_time": "2022-05-09T11:52:28.795Z"
   },
   {
    "duration": 5,
    "start_time": "2022-05-09T11:52:28.810Z"
   },
   {
    "duration": 13,
    "start_time": "2022-05-09T11:52:28.817Z"
   },
   {
    "duration": 11,
    "start_time": "2022-05-09T11:52:28.831Z"
   },
   {
    "duration": 8,
    "start_time": "2022-05-09T11:52:28.844Z"
   },
   {
    "duration": 14,
    "start_time": "2022-05-09T11:52:28.853Z"
   },
   {
    "duration": 24,
    "start_time": "2022-05-09T11:52:28.869Z"
   },
   {
    "duration": 3,
    "start_time": "2022-05-09T11:52:28.895Z"
   },
   {
    "duration": 6,
    "start_time": "2022-05-09T11:52:28.899Z"
   },
   {
    "duration": 8,
    "start_time": "2022-05-09T11:52:28.906Z"
   },
   {
    "duration": 12,
    "start_time": "2022-05-09T11:52:28.915Z"
   },
   {
    "duration": 122,
    "start_time": "2022-05-09T11:52:28.928Z"
   },
   {
    "duration": 4,
    "start_time": "2022-05-09T11:52:29.052Z"
   },
   {
    "duration": 16,
    "start_time": "2022-05-09T11:52:29.058Z"
   },
   {
    "duration": 16,
    "start_time": "2022-05-09T11:52:29.076Z"
   },
   {
    "duration": 5,
    "start_time": "2022-05-09T11:52:29.094Z"
   },
   {
    "duration": 48,
    "start_time": "2022-05-09T11:52:29.101Z"
   },
   {
    "duration": 11,
    "start_time": "2022-05-09T11:52:29.151Z"
   },
   {
    "duration": 36,
    "start_time": "2022-05-09T11:52:29.164Z"
   },
   {
    "duration": 11,
    "start_time": "2022-05-09T11:52:29.201Z"
   },
   {
    "duration": 10,
    "start_time": "2022-05-09T11:52:29.214Z"
   },
   {
    "duration": 216,
    "start_time": "2022-05-09T11:52:29.226Z"
   },
   {
    "duration": 181,
    "start_time": "2022-05-09T11:52:29.444Z"
   },
   {
    "duration": 186,
    "start_time": "2022-05-09T11:52:29.627Z"
   },
   {
    "duration": 182,
    "start_time": "2022-05-09T11:52:29.814Z"
   },
   {
    "duration": 2,
    "start_time": "2022-05-09T11:52:29.998Z"
   },
   {
    "duration": 9,
    "start_time": "2022-05-09T11:52:30.002Z"
   },
   {
    "duration": 9,
    "start_time": "2022-05-09T11:52:30.013Z"
   },
   {
    "duration": 7,
    "start_time": "2022-05-09T11:52:30.024Z"
   },
   {
    "duration": 8,
    "start_time": "2022-05-09T11:52:30.033Z"
   },
   {
    "duration": 19,
    "start_time": "2022-05-09T11:52:30.043Z"
   },
   {
    "duration": 9,
    "start_time": "2022-05-09T11:52:30.064Z"
   },
   {
    "duration": 18,
    "start_time": "2022-05-09T11:52:30.075Z"
   },
   {
    "duration": 19,
    "start_time": "2022-05-09T11:52:30.095Z"
   },
   {
    "duration": 12,
    "start_time": "2022-05-09T11:52:30.116Z"
   },
   {
    "duration": 8,
    "start_time": "2022-05-09T11:52:30.130Z"
   },
   {
    "duration": 14,
    "start_time": "2022-05-09T11:52:30.140Z"
   },
   {
    "duration": 11,
    "start_time": "2022-05-09T11:52:30.155Z"
   },
   {
    "duration": 33,
    "start_time": "2022-05-09T11:52:30.171Z"
   },
   {
    "duration": 1176,
    "start_time": "2022-05-10T19:06:42.419Z"
   },
   {
    "duration": 3,
    "start_time": "2022-05-10T19:06:43.597Z"
   },
   {
    "duration": 732,
    "start_time": "2022-05-10T19:06:43.602Z"
   },
   {
    "duration": 14,
    "start_time": "2022-05-10T19:06:44.336Z"
   },
   {
    "duration": 13,
    "start_time": "2022-05-10T19:06:44.352Z"
   },
   {
    "duration": 42,
    "start_time": "2022-05-10T19:06:44.366Z"
   },
   {
    "duration": 26,
    "start_time": "2022-05-10T19:06:44.410Z"
   },
   {
    "duration": 55,
    "start_time": "2022-05-10T19:06:44.438Z"
   },
   {
    "duration": 5,
    "start_time": "2022-05-10T19:06:44.495Z"
   },
   {
    "duration": 8,
    "start_time": "2022-05-10T19:06:44.503Z"
   },
   {
    "duration": 8,
    "start_time": "2022-05-10T19:06:44.512Z"
   },
   {
    "duration": 54,
    "start_time": "2022-05-10T19:06:44.522Z"
   },
   {
    "duration": 23,
    "start_time": "2022-05-10T19:06:44.578Z"
   },
   {
    "duration": 6,
    "start_time": "2022-05-10T19:06:44.603Z"
   },
   {
    "duration": 19,
    "start_time": "2022-05-10T19:06:44.611Z"
   },
   {
    "duration": 23,
    "start_time": "2022-05-10T19:06:44.647Z"
   },
   {
    "duration": 20,
    "start_time": "2022-05-10T19:06:44.672Z"
   },
   {
    "duration": 8,
    "start_time": "2022-05-10T19:06:44.694Z"
   },
   {
    "duration": 13,
    "start_time": "2022-05-10T19:06:44.703Z"
   },
   {
    "duration": 62,
    "start_time": "2022-05-10T19:06:44.717Z"
   },
   {
    "duration": 10,
    "start_time": "2022-05-10T19:06:44.780Z"
   },
   {
    "duration": 6,
    "start_time": "2022-05-10T19:06:44.791Z"
   },
   {
    "duration": 6,
    "start_time": "2022-05-10T19:06:44.798Z"
   },
   {
    "duration": 224,
    "start_time": "2022-05-10T19:06:44.806Z"
   },
   {
    "duration": 120,
    "start_time": "2022-05-10T19:06:45.032Z"
   },
   {
    "duration": 16,
    "start_time": "2022-05-10T19:06:45.154Z"
   },
   {
    "duration": 42,
    "start_time": "2022-05-10T19:06:45.172Z"
   },
   {
    "duration": 40,
    "start_time": "2022-05-10T19:06:45.218Z"
   },
   {
    "duration": 9,
    "start_time": "2022-05-10T19:06:45.263Z"
   },
   {
    "duration": 25,
    "start_time": "2022-05-10T19:06:45.274Z"
   },
   {
    "duration": 62,
    "start_time": "2022-05-10T19:06:45.300Z"
   },
   {
    "duration": 23,
    "start_time": "2022-05-10T19:06:45.364Z"
   },
   {
    "duration": 27,
    "start_time": "2022-05-10T19:06:45.389Z"
   },
   {
    "duration": 5,
    "start_time": "2022-05-10T19:06:45.418Z"
   },
   {
    "duration": 4,
    "start_time": "2022-05-10T19:06:45.424Z"
   },
   {
    "duration": 23,
    "start_time": "2022-05-10T19:06:45.429Z"
   },
   {
    "duration": 27,
    "start_time": "2022-05-10T19:06:45.453Z"
   },
   {
    "duration": 11,
    "start_time": "2022-05-10T19:06:45.481Z"
   },
   {
    "duration": 7,
    "start_time": "2022-05-10T19:06:45.494Z"
   },
   {
    "duration": 9,
    "start_time": "2022-05-10T19:06:45.503Z"
   },
   {
    "duration": 5,
    "start_time": "2022-05-10T19:06:45.513Z"
   },
   {
    "duration": 9,
    "start_time": "2022-05-10T19:06:45.519Z"
   },
   {
    "duration": 31,
    "start_time": "2022-05-10T19:06:45.529Z"
   },
   {
    "duration": 18,
    "start_time": "2022-05-10T19:06:45.561Z"
   },
   {
    "duration": 5,
    "start_time": "2022-05-10T19:06:45.580Z"
   },
   {
    "duration": 11,
    "start_time": "2022-05-10T19:06:45.586Z"
   },
   {
    "duration": 10,
    "start_time": "2022-05-10T19:06:45.599Z"
   },
   {
    "duration": 5,
    "start_time": "2022-05-10T19:06:45.611Z"
   },
   {
    "duration": 37,
    "start_time": "2022-05-10T19:06:45.618Z"
   },
   {
    "duration": 3,
    "start_time": "2022-05-10T19:06:45.657Z"
   },
   {
    "duration": 17,
    "start_time": "2022-05-10T19:06:45.662Z"
   },
   {
    "duration": 4,
    "start_time": "2022-05-10T19:06:45.681Z"
   },
   {
    "duration": 4,
    "start_time": "2022-05-10T19:06:45.687Z"
   },
   {
    "duration": 5,
    "start_time": "2022-05-10T19:06:45.692Z"
   },
   {
    "duration": 114,
    "start_time": "2022-05-10T19:06:45.698Z"
   },
   {
    "duration": 3,
    "start_time": "2022-05-10T19:06:45.814Z"
   },
   {
    "duration": 15,
    "start_time": "2022-05-10T19:06:45.818Z"
   },
   {
    "duration": 20,
    "start_time": "2022-05-10T19:06:45.835Z"
   },
   {
    "duration": 12,
    "start_time": "2022-05-10T19:06:45.856Z"
   },
   {
    "duration": 48,
    "start_time": "2022-05-10T19:06:45.870Z"
   },
   {
    "duration": 8,
    "start_time": "2022-05-10T19:06:45.920Z"
   },
   {
    "duration": 8,
    "start_time": "2022-05-10T19:06:45.930Z"
   },
   {
    "duration": 21,
    "start_time": "2022-05-10T19:06:45.940Z"
   },
   {
    "duration": 10,
    "start_time": "2022-05-10T19:06:45.963Z"
   },
   {
    "duration": 195,
    "start_time": "2022-05-10T19:06:45.975Z"
   },
   {
    "duration": 166,
    "start_time": "2022-05-10T19:06:46.172Z"
   },
   {
    "duration": 179,
    "start_time": "2022-05-10T19:06:46.340Z"
   },
   {
    "duration": 177,
    "start_time": "2022-05-10T19:06:46.521Z"
   },
   {
    "duration": 2,
    "start_time": "2022-05-10T19:06:46.700Z"
   },
   {
    "duration": 5,
    "start_time": "2022-05-10T19:06:46.704Z"
   },
   {
    "duration": 6,
    "start_time": "2022-05-10T19:06:46.710Z"
   },
   {
    "duration": 5,
    "start_time": "2022-05-10T19:06:46.717Z"
   },
   {
    "duration": 6,
    "start_time": "2022-05-10T19:06:46.724Z"
   },
   {
    "duration": 25,
    "start_time": "2022-05-10T19:06:46.731Z"
   },
   {
    "duration": 11,
    "start_time": "2022-05-10T19:06:46.758Z"
   },
   {
    "duration": 4,
    "start_time": "2022-05-10T19:06:46.771Z"
   },
   {
    "duration": 16,
    "start_time": "2022-05-10T19:06:46.776Z"
   },
   {
    "duration": 7,
    "start_time": "2022-05-10T19:06:46.793Z"
   },
   {
    "duration": 4,
    "start_time": "2022-05-10T19:06:46.801Z"
   },
   {
    "duration": 6,
    "start_time": "2022-05-10T19:06:46.806Z"
   },
   {
    "duration": 5,
    "start_time": "2022-05-10T19:06:46.814Z"
   },
   {
    "duration": 4,
    "start_time": "2022-05-10T19:06:46.823Z"
   },
   {
    "duration": 15,
    "start_time": "2022-05-10T19:08:51.588Z"
   }
  ],
  "kernelspec": {
   "display_name": "Python 3 (ipykernel)",
   "language": "python",
   "name": "python3"
  },
  "language_info": {
   "codemirror_mode": {
    "name": "ipython",
    "version": 3
   },
   "file_extension": ".py",
   "mimetype": "text/x-python",
   "name": "python",
   "nbconvert_exporter": "python",
   "pygments_lexer": "ipython3",
   "version": "3.7.8"
  },
  "toc": {
   "base_numbering": 1,
   "nav_menu": {},
   "number_sections": false,
   "sideBar": true,
   "skip_h1_title": false,
   "title_cell": "Table of Contents",
   "title_sidebar": "Contents",
   "toc_cell": false,
   "toc_position": {},
   "toc_section_display": true,
   "toc_window_display": true
  }
 },
 "nbformat": 4,
 "nbformat_minor": 5
}
