{
 "cells": [
  {
   "cell_type": "markdown",
   "id": "fcfad6e3",
   "metadata": {},
   "source": [
    " # Проект Рынок заведений общественного питания Москвы"
   ]
  },
  {
   "cell_type": "markdown",
   "id": "ca7389c9",
   "metadata": {},
   "source": [
    "**Описание данных**\n",
    "\n",
    "Таблица rest_data:\n",
    "\n",
    "id — идентификатор объекта;\n",
    "\n",
    "object_name — название объекта общественного питания;\n",
    "\n",
    "chain — сетевой ресторан;\n",
    "\n",
    "object_type — тип объекта общественного питания;\n",
    "\n",
    "address — адрес;\n",
    "\n",
    "number — количество посадочных мест."
   ]
  },
  {
   "cell_type": "markdown",
   "id": "1ed71bd5",
   "metadata": {},
   "source": [
    "## Загрузка данных и подготовка данных к анализу"
   ]
  },
  {
   "cell_type": "code",
   "execution_count": 1,
   "id": "ac32b4d3",
   "metadata": {},
   "outputs": [],
   "source": [
    "import pandas as pd\n",
    "import numpy as np\n",
    "import matplotlib.pyplot as plt\n",
    "import seaborn as sns \n",
    "import plotly.express as px \n",
    "from plotly import graph_objects as go\n",
    "import warnings \n",
    "warnings.filterwarnings('ignore')\n",
    "import re"
   ]
  },
  {
   "cell_type": "code",
   "execution_count": 2,
   "id": "37b3328a",
   "metadata": {},
   "outputs": [],
   "source": [
    "pd.set_option('display.max_columns', None)\n",
    "pd.options.display.float_format = '{:,.2f}'.format"
   ]
  },
  {
   "cell_type": "code",
   "execution_count": 3,
   "id": "b24e5562",
   "metadata": {},
   "outputs": [
    {
     "data": {
      "text/html": [
       "<div>\n",
       "<style scoped>\n",
       "    .dataframe tbody tr th:only-of-type {\n",
       "        vertical-align: middle;\n",
       "    }\n",
       "\n",
       "    .dataframe tbody tr th {\n",
       "        vertical-align: top;\n",
       "    }\n",
       "\n",
       "    .dataframe thead th {\n",
       "        text-align: right;\n",
       "    }\n",
       "</style>\n",
       "<table border=\"1\" class=\"dataframe\">\n",
       "  <thead>\n",
       "    <tr style=\"text-align: right;\">\n",
       "      <th></th>\n",
       "      <th>id</th>\n",
       "      <th>object_name</th>\n",
       "      <th>chain</th>\n",
       "      <th>object_type</th>\n",
       "      <th>address</th>\n",
       "      <th>number</th>\n",
       "    </tr>\n",
       "  </thead>\n",
       "  <tbody>\n",
       "    <tr>\n",
       "      <th>0</th>\n",
       "      <td>151635</td>\n",
       "      <td>СМЕТАНА</td>\n",
       "      <td>нет</td>\n",
       "      <td>кафе</td>\n",
       "      <td>город Москва, улица Егора Абакумова, дом 9</td>\n",
       "      <td>48</td>\n",
       "    </tr>\n",
       "    <tr>\n",
       "      <th>1</th>\n",
       "      <td>77874</td>\n",
       "      <td>Родник</td>\n",
       "      <td>нет</td>\n",
       "      <td>кафе</td>\n",
       "      <td>город Москва, улица Талалихина, дом 2/1, корпус 1</td>\n",
       "      <td>35</td>\n",
       "    </tr>\n",
       "    <tr>\n",
       "      <th>2</th>\n",
       "      <td>24309</td>\n",
       "      <td>Кафе «Академия»</td>\n",
       "      <td>нет</td>\n",
       "      <td>кафе</td>\n",
       "      <td>город Москва, Абельмановская улица, дом 6</td>\n",
       "      <td>95</td>\n",
       "    </tr>\n",
       "    <tr>\n",
       "      <th>3</th>\n",
       "      <td>21894</td>\n",
       "      <td>ПИЦЦЕТОРИЯ</td>\n",
       "      <td>да</td>\n",
       "      <td>кафе</td>\n",
       "      <td>город Москва, Абрамцевская улица, дом 1</td>\n",
       "      <td>40</td>\n",
       "    </tr>\n",
       "    <tr>\n",
       "      <th>4</th>\n",
       "      <td>119365</td>\n",
       "      <td>Кафе «Вишневая метель»</td>\n",
       "      <td>нет</td>\n",
       "      <td>кафе</td>\n",
       "      <td>город Москва, Абрамцевская улица, дом 9, корпус 1</td>\n",
       "      <td>50</td>\n",
       "    </tr>\n",
       "  </tbody>\n",
       "</table>\n",
       "</div>"
      ],
      "text/plain": [
       "       id             object_name chain object_type  \\\n",
       "0  151635                 СМЕТАНА   нет        кафе   \n",
       "1   77874                  Родник   нет        кафе   \n",
       "2   24309         Кафе «Академия»   нет        кафе   \n",
       "3   21894              ПИЦЦЕТОРИЯ    да        кафе   \n",
       "4  119365  Кафе «Вишневая метель»   нет        кафе   \n",
       "\n",
       "                                             address  number  \n",
       "0         город Москва, улица Егора Абакумова, дом 9      48  \n",
       "1  город Москва, улица Талалихина, дом 2/1, корпус 1      35  \n",
       "2          город Москва, Абельмановская улица, дом 6      95  \n",
       "3            город Москва, Абрамцевская улица, дом 1      40  \n",
       "4  город Москва, Абрамцевская улица, дом 9, корпус 1      50  "
      ]
     },
     "execution_count": 3,
     "metadata": {},
     "output_type": "execute_result"
    }
   ],
   "source": [
    "try:\n",
    "    rest_data = pd.read_csv('/datasets/rest_data.csv')\n",
    "except:\n",
    "    rest_data = pd.read_csv('rest_data.csv')\n",
    "rest_data.head()"
   ]
  },
  {
   "cell_type": "markdown",
   "id": "354688de",
   "metadata": {},
   "source": [
    "**Оценим качество предоставленных данных**"
   ]
  },
  {
   "cell_type": "code",
   "execution_count": 4,
   "id": "5cb97bea",
   "metadata": {},
   "outputs": [
    {
     "name": "stdout",
     "output_type": "stream",
     "text": [
      "<class 'pandas.core.frame.DataFrame'>\n",
      "RangeIndex: 15366 entries, 0 to 15365\n",
      "Data columns (total 6 columns):\n",
      " #   Column       Non-Null Count  Dtype \n",
      "---  ------       --------------  ----- \n",
      " 0   id           15366 non-null  int64 \n",
      " 1   object_name  15366 non-null  object\n",
      " 2   chain        15366 non-null  object\n",
      " 3   object_type  15366 non-null  object\n",
      " 4   address      15366 non-null  object\n",
      " 5   number       15366 non-null  int64 \n",
      "dtypes: int64(2), object(4)\n",
      "memory usage: 720.4+ KB\n"
     ]
    }
   ],
   "source": [
    "rest_data.info()"
   ]
  },
  {
   "cell_type": "code",
   "execution_count": 5,
   "id": "4bf8d707",
   "metadata": {},
   "outputs": [
    {
     "data": {
      "text/plain": [
       "0"
      ]
     },
     "execution_count": 5,
     "metadata": {},
     "output_type": "execute_result"
    }
   ],
   "source": [
    "rest_data.duplicated().sum()"
   ]
  },
  {
   "cell_type": "code",
   "execution_count": 6,
   "id": "dda6ca09",
   "metadata": {},
   "outputs": [],
   "source": [
    "rest_data['object_name']= rest_data['object_name'].str.lower()"
   ]
  },
  {
   "cell_type": "code",
   "execution_count": 7,
   "id": "1139b945",
   "metadata": {},
   "outputs": [],
   "source": [
    "rest_data['address'] = rest_data['address'].str.lower()"
   ]
  },
  {
   "cell_type": "code",
   "execution_count": 8,
   "id": "bc2ce0aa",
   "metadata": {},
   "outputs": [
    {
     "data": {
      "text/plain": [
       "['кафе',\n",
       " 'столовая',\n",
       " 'закусочная',\n",
       " 'предприятие быстрого обслуживания',\n",
       " 'ресторан',\n",
       " 'кафетерий',\n",
       " 'буфет',\n",
       " 'бар',\n",
       " 'магазин (отдел кулинарии)']"
      ]
     },
     "execution_count": 8,
     "metadata": {},
     "output_type": "execute_result"
    }
   ],
   "source": [
    "rest_data['object_type'].unique().tolist()"
   ]
  },
  {
   "cell_type": "code",
   "execution_count": 9,
   "id": "1bbaa97d",
   "metadata": {},
   "outputs": [],
   "source": [
    "rest_data['object_type'] = rest_data['object_type'].str.replace('предприятие быстрого обслуживания', 'фаст-фуд')\n",
    "rest_data['object_type'] = rest_data['object_type'].str.replace('магазин \\(отдел кулинарии\\)', 'кулинария')"
   ]
  },
  {
   "cell_type": "markdown",
   "id": "eaadeb4a",
   "metadata": {},
   "source": [
    "Данные выглядят подходящедля анализа,пропусков нет, явные дубликаты отсутствуют, все написание привили к маленьким буквам для единообразия и упрастилу названия двух котегорий для простоты восприятия"
   ]
  },
  {
   "cell_type": "code",
   "execution_count": 10,
   "id": "a8d843cd",
   "metadata": {},
   "outputs": [
    {
     "name": "stdout",
     "output_type": "stream",
     "text": [
      "количество дупликатов без учета id 85\n"
     ]
    }
   ],
   "source": [
    "print('количество дупликатов без учета id {}'.format(rest_data.set_index('id').duplicated().sum()))"
   ]
  },
  {
   "cell_type": "code",
   "execution_count": 11,
   "id": "83110d43",
   "metadata": {},
   "outputs": [],
   "source": [
    "rest_data = rest_data.set_index('id')"
   ]
  },
  {
   "cell_type": "code",
   "execution_count": 12,
   "id": "85d74c62",
   "metadata": {},
   "outputs": [
    {
     "data": {
      "text/html": [
       "<div>\n",
       "<style scoped>\n",
       "    .dataframe tbody tr th:only-of-type {\n",
       "        vertical-align: middle;\n",
       "    }\n",
       "\n",
       "    .dataframe tbody tr th {\n",
       "        vertical-align: top;\n",
       "    }\n",
       "\n",
       "    .dataframe thead th {\n",
       "        text-align: right;\n",
       "    }\n",
       "</style>\n",
       "<table border=\"1\" class=\"dataframe\">\n",
       "  <thead>\n",
       "    <tr style=\"text-align: right;\">\n",
       "      <th></th>\n",
       "      <th>object_name</th>\n",
       "      <th>chain</th>\n",
       "      <th>object_type</th>\n",
       "      <th>address</th>\n",
       "      <th>number</th>\n",
       "    </tr>\n",
       "    <tr>\n",
       "      <th>id</th>\n",
       "      <th></th>\n",
       "      <th></th>\n",
       "      <th></th>\n",
       "      <th></th>\n",
       "      <th></th>\n",
       "    </tr>\n",
       "  </thead>\n",
       "  <tbody>\n",
       "    <tr>\n",
       "      <th>151635</th>\n",
       "      <td>сметана</td>\n",
       "      <td>нет</td>\n",
       "      <td>кафе</td>\n",
       "      <td>город москва, улица егора абакумова, дом 9</td>\n",
       "      <td>48</td>\n",
       "    </tr>\n",
       "    <tr>\n",
       "      <th>77874</th>\n",
       "      <td>родник</td>\n",
       "      <td>нет</td>\n",
       "      <td>кафе</td>\n",
       "      <td>город москва, улица талалихина, дом 2/1, корпус 1</td>\n",
       "      <td>35</td>\n",
       "    </tr>\n",
       "    <tr>\n",
       "      <th>24309</th>\n",
       "      <td>кафе «академия»</td>\n",
       "      <td>нет</td>\n",
       "      <td>кафе</td>\n",
       "      <td>город москва, абельмановская улица, дом 6</td>\n",
       "      <td>95</td>\n",
       "    </tr>\n",
       "    <tr>\n",
       "      <th>21894</th>\n",
       "      <td>пиццетория</td>\n",
       "      <td>да</td>\n",
       "      <td>кафе</td>\n",
       "      <td>город москва, абрамцевская улица, дом 1</td>\n",
       "      <td>40</td>\n",
       "    </tr>\n",
       "    <tr>\n",
       "      <th>119365</th>\n",
       "      <td>кафе «вишневая метель»</td>\n",
       "      <td>нет</td>\n",
       "      <td>кафе</td>\n",
       "      <td>город москва, абрамцевская улица, дом 9, корпус 1</td>\n",
       "      <td>50</td>\n",
       "    </tr>\n",
       "  </tbody>\n",
       "</table>\n",
       "</div>"
      ],
      "text/plain": [
       "                   object_name chain object_type  \\\n",
       "id                                                 \n",
       "151635                 сметана   нет        кафе   \n",
       "77874                   родник   нет        кафе   \n",
       "24309          кафе «академия»   нет        кафе   \n",
       "21894               пиццетория    да        кафе   \n",
       "119365  кафе «вишневая метель»   нет        кафе   \n",
       "\n",
       "                                                  address  number  \n",
       "id                                                                 \n",
       "151635         город москва, улица егора абакумова, дом 9      48  \n",
       "77874   город москва, улица талалихина, дом 2/1, корпус 1      35  \n",
       "24309           город москва, абельмановская улица, дом 6      95  \n",
       "21894             город москва, абрамцевская улица, дом 1      40  \n",
       "119365  город москва, абрамцевская улица, дом 9, корпус 1      50  "
      ]
     },
     "execution_count": 12,
     "metadata": {},
     "output_type": "execute_result"
    }
   ],
   "source": [
    "rest_data.head()"
   ]
  },
  {
   "cell_type": "code",
   "execution_count": 13,
   "id": "689b9c1b",
   "metadata": {},
   "outputs": [
    {
     "data": {
      "text/plain": [
       "85"
      ]
     },
     "execution_count": 13,
     "metadata": {},
     "output_type": "execute_result"
    }
   ],
   "source": [
    "rest_data.duplicated().sum()"
   ]
  },
  {
   "cell_type": "code",
   "execution_count": 14,
   "id": "0b8d140c",
   "metadata": {},
   "outputs": [],
   "source": [
    "rest_data = rest_data.drop_duplicates()"
   ]
  },
  {
   "cell_type": "code",
   "execution_count": 15,
   "id": "6aab05f8",
   "metadata": {},
   "outputs": [
    {
     "data": {
      "text/plain": [
       "0"
      ]
     },
     "execution_count": 15,
     "metadata": {},
     "output_type": "execute_result"
    }
   ],
   "source": [
    "rest_data.duplicated().sum()"
   ]
  },
  {
   "cell_type": "code",
   "execution_count": 16,
   "id": "4651d453",
   "metadata": {},
   "outputs": [
    {
     "data": {
      "text/html": [
       "<div>\n",
       "<style scoped>\n",
       "    .dataframe tbody tr th:only-of-type {\n",
       "        vertical-align: middle;\n",
       "    }\n",
       "\n",
       "    .dataframe tbody tr th {\n",
       "        vertical-align: top;\n",
       "    }\n",
       "\n",
       "    .dataframe thead th {\n",
       "        text-align: right;\n",
       "    }\n",
       "</style>\n",
       "<table border=\"1\" class=\"dataframe\">\n",
       "  <thead>\n",
       "    <tr style=\"text-align: right;\">\n",
       "      <th></th>\n",
       "      <th>object_name</th>\n",
       "      <th>chain</th>\n",
       "      <th>object_type</th>\n",
       "      <th>address</th>\n",
       "      <th>number</th>\n",
       "    </tr>\n",
       "    <tr>\n",
       "      <th>id</th>\n",
       "      <th></th>\n",
       "      <th></th>\n",
       "      <th></th>\n",
       "      <th></th>\n",
       "      <th></th>\n",
       "    </tr>\n",
       "  </thead>\n",
       "  <tbody>\n",
       "    <tr>\n",
       "      <th>151635</th>\n",
       "      <td>сметана</td>\n",
       "      <td>нет</td>\n",
       "      <td>кафе</td>\n",
       "      <td>город москва, улица егора абакумова, дом 9</td>\n",
       "      <td>48</td>\n",
       "    </tr>\n",
       "    <tr>\n",
       "      <th>77874</th>\n",
       "      <td>родник</td>\n",
       "      <td>нет</td>\n",
       "      <td>кафе</td>\n",
       "      <td>город москва, улица талалихина, дом 2/1, корпус 1</td>\n",
       "      <td>35</td>\n",
       "    </tr>\n",
       "    <tr>\n",
       "      <th>24309</th>\n",
       "      <td>кафе «академия»</td>\n",
       "      <td>нет</td>\n",
       "      <td>кафе</td>\n",
       "      <td>город москва, абельмановская улица, дом 6</td>\n",
       "      <td>95</td>\n",
       "    </tr>\n",
       "    <tr>\n",
       "      <th>21894</th>\n",
       "      <td>пиццетория</td>\n",
       "      <td>да</td>\n",
       "      <td>кафе</td>\n",
       "      <td>город москва, абрамцевская улица, дом 1</td>\n",
       "      <td>40</td>\n",
       "    </tr>\n",
       "    <tr>\n",
       "      <th>119365</th>\n",
       "      <td>кафе «вишневая метель»</td>\n",
       "      <td>нет</td>\n",
       "      <td>кафе</td>\n",
       "      <td>город москва, абрамцевская улица, дом 9, корпус 1</td>\n",
       "      <td>50</td>\n",
       "    </tr>\n",
       "  </tbody>\n",
       "</table>\n",
       "</div>"
      ],
      "text/plain": [
       "                   object_name chain object_type  \\\n",
       "id                                                 \n",
       "151635                 сметана   нет        кафе   \n",
       "77874                   родник   нет        кафе   \n",
       "24309          кафе «академия»   нет        кафе   \n",
       "21894               пиццетория    да        кафе   \n",
       "119365  кафе «вишневая метель»   нет        кафе   \n",
       "\n",
       "                                                  address  number  \n",
       "id                                                                 \n",
       "151635         город москва, улица егора абакумова, дом 9      48  \n",
       "77874   город москва, улица талалихина, дом 2/1, корпус 1      35  \n",
       "24309           город москва, абельмановская улица, дом 6      95  \n",
       "21894             город москва, абрамцевская улица, дом 1      40  \n",
       "119365  город москва, абрамцевская улица, дом 9, корпус 1      50  "
      ]
     },
     "execution_count": 16,
     "metadata": {},
     "output_type": "execute_result"
    }
   ],
   "source": [
    "rest_data.head()"
   ]
  },
  {
   "cell_type": "code",
   "execution_count": 17,
   "id": "12fbf540",
   "metadata": {},
   "outputs": [
    {
     "data": {
      "text/html": [
       "<div>\n",
       "<style scoped>\n",
       "    .dataframe tbody tr th:only-of-type {\n",
       "        vertical-align: middle;\n",
       "    }\n",
       "\n",
       "    .dataframe tbody tr th {\n",
       "        vertical-align: top;\n",
       "    }\n",
       "\n",
       "    .dataframe thead th {\n",
       "        text-align: right;\n",
       "    }\n",
       "</style>\n",
       "<table border=\"1\" class=\"dataframe\">\n",
       "  <thead>\n",
       "    <tr style=\"text-align: right;\">\n",
       "      <th></th>\n",
       "      <th>id</th>\n",
       "      <th>object_name</th>\n",
       "      <th>chain</th>\n",
       "      <th>object_type</th>\n",
       "      <th>address</th>\n",
       "      <th>number</th>\n",
       "    </tr>\n",
       "  </thead>\n",
       "  <tbody>\n",
       "    <tr>\n",
       "      <th>0</th>\n",
       "      <td>151635</td>\n",
       "      <td>сметана</td>\n",
       "      <td>нет</td>\n",
       "      <td>кафе</td>\n",
       "      <td>город москва, улица егора абакумова, дом 9</td>\n",
       "      <td>48</td>\n",
       "    </tr>\n",
       "    <tr>\n",
       "      <th>1</th>\n",
       "      <td>77874</td>\n",
       "      <td>родник</td>\n",
       "      <td>нет</td>\n",
       "      <td>кафе</td>\n",
       "      <td>город москва, улица талалихина, дом 2/1, корпус 1</td>\n",
       "      <td>35</td>\n",
       "    </tr>\n",
       "    <tr>\n",
       "      <th>2</th>\n",
       "      <td>24309</td>\n",
       "      <td>кафе «академия»</td>\n",
       "      <td>нет</td>\n",
       "      <td>кафе</td>\n",
       "      <td>город москва, абельмановская улица, дом 6</td>\n",
       "      <td>95</td>\n",
       "    </tr>\n",
       "    <tr>\n",
       "      <th>3</th>\n",
       "      <td>21894</td>\n",
       "      <td>пиццетория</td>\n",
       "      <td>да</td>\n",
       "      <td>кафе</td>\n",
       "      <td>город москва, абрамцевская улица, дом 1</td>\n",
       "      <td>40</td>\n",
       "    </tr>\n",
       "    <tr>\n",
       "      <th>4</th>\n",
       "      <td>119365</td>\n",
       "      <td>кафе «вишневая метель»</td>\n",
       "      <td>нет</td>\n",
       "      <td>кафе</td>\n",
       "      <td>город москва, абрамцевская улица, дом 9, корпус 1</td>\n",
       "      <td>50</td>\n",
       "    </tr>\n",
       "  </tbody>\n",
       "</table>\n",
       "</div>"
      ],
      "text/plain": [
       "       id             object_name chain object_type  \\\n",
       "0  151635                 сметана   нет        кафе   \n",
       "1   77874                  родник   нет        кафе   \n",
       "2   24309         кафе «академия»   нет        кафе   \n",
       "3   21894              пиццетория    да        кафе   \n",
       "4  119365  кафе «вишневая метель»   нет        кафе   \n",
       "\n",
       "                                             address  number  \n",
       "0         город москва, улица егора абакумова, дом 9      48  \n",
       "1  город москва, улица талалихина, дом 2/1, корпус 1      35  \n",
       "2          город москва, абельмановская улица, дом 6      95  \n",
       "3            город москва, абрамцевская улица, дом 1      40  \n",
       "4  город москва, абрамцевская улица, дом 9, корпус 1      50  "
      ]
     },
     "execution_count": 17,
     "metadata": {},
     "output_type": "execute_result"
    }
   ],
   "source": [
    "rest_data = rest_data.reset_index()\n",
    "rest_data.head()"
   ]
  },
  {
   "cell_type": "markdown",
   "id": "3e6482be",
   "metadata": {},
   "source": [
    "Без учета id было выявленно 85 дупликатов от которых избавились в дата сете"
   ]
  },
  {
   "cell_type": "markdown",
   "id": "50ab2152",
   "metadata": {},
   "source": [
    "##  Анализ данных"
   ]
  },
  {
   "cell_type": "markdown",
   "id": "d3ed2a93",
   "metadata": {},
   "source": [
    "### Исследуем соотношение видов объектов общественного питания по количеству. Построим график."
   ]
  },
  {
   "cell_type": "code",
   "execution_count": 18,
   "id": "2dcc269a",
   "metadata": {},
   "outputs": [
    {
     "data": {
      "text/html": [
       "<div>\n",
       "<style scoped>\n",
       "    .dataframe tbody tr th:only-of-type {\n",
       "        vertical-align: middle;\n",
       "    }\n",
       "\n",
       "    .dataframe tbody tr th {\n",
       "        vertical-align: top;\n",
       "    }\n",
       "\n",
       "    .dataframe thead th {\n",
       "        text-align: right;\n",
       "    }\n",
       "</style>\n",
       "<table border=\"1\" class=\"dataframe\">\n",
       "  <thead>\n",
       "    <tr style=\"text-align: right;\">\n",
       "      <th></th>\n",
       "      <th>object_type</th>\n",
       "      <th>number_of_cafe</th>\n",
       "    </tr>\n",
       "  </thead>\n",
       "  <tbody>\n",
       "    <tr>\n",
       "      <th>3</th>\n",
       "      <td>кафе</td>\n",
       "      <td>6071</td>\n",
       "    </tr>\n",
       "    <tr>\n",
       "      <th>7</th>\n",
       "      <td>столовая</td>\n",
       "      <td>2584</td>\n",
       "    </tr>\n",
       "    <tr>\n",
       "      <th>6</th>\n",
       "      <td>ресторан</td>\n",
       "      <td>2282</td>\n",
       "    </tr>\n",
       "    <tr>\n",
       "      <th>8</th>\n",
       "      <td>фаст-фуд</td>\n",
       "      <td>1897</td>\n",
       "    </tr>\n",
       "    <tr>\n",
       "      <th>0</th>\n",
       "      <td>бар</td>\n",
       "      <td>855</td>\n",
       "    </tr>\n",
       "    <tr>\n",
       "      <th>1</th>\n",
       "      <td>буфет</td>\n",
       "      <td>576</td>\n",
       "    </tr>\n",
       "    <tr>\n",
       "      <th>4</th>\n",
       "      <td>кафетерий</td>\n",
       "      <td>395</td>\n",
       "    </tr>\n",
       "    <tr>\n",
       "      <th>2</th>\n",
       "      <td>закусочная</td>\n",
       "      <td>348</td>\n",
       "    </tr>\n",
       "    <tr>\n",
       "      <th>5</th>\n",
       "      <td>кулинария</td>\n",
       "      <td>273</td>\n",
       "    </tr>\n",
       "  </tbody>\n",
       "</table>\n",
       "</div>"
      ],
      "text/plain": [
       "  object_type  number_of_cafe\n",
       "3        кафе            6071\n",
       "7    столовая            2584\n",
       "6    ресторан            2282\n",
       "8    фаст-фуд            1897\n",
       "0         бар             855\n",
       "1       буфет             576\n",
       "4   кафетерий             395\n",
       "2  закусочная             348\n",
       "5   кулинария             273"
      ]
     },
     "execution_count": 18,
     "metadata": {},
     "output_type": "execute_result"
    }
   ],
   "source": [
    "vid = rest_data.groupby('object_type', as_index=False).agg({'chain': 'count'}) \\\n",
    "    .sort_values(by='chain', ascending=False) \\\n",
    "    .rename(columns={'chain':'number_of_cafe'})\n",
    "vid"
   ]
  },
  {
   "cell_type": "code",
   "execution_count": 19,
   "id": "b8405ec7",
   "metadata": {},
   "outputs": [
    {
     "data": {
      "image/png": "[encoded data removed]",
      "text/plain": [
       "<Figure size 1008x504 with 1 Axes>"
      ]
     },
     "metadata": {
      "needs_background": "light"
     },
     "output_type": "display_data"
    }
   ],
   "source": [
    "plt.figure(figsize=(14, 7))\n",
    "sns.set_palette('dark')\n",
    "sns.set_context(\"notebook\", font_scale=1.25)\n",
    "sns.barplot(x='number_of_cafe', y='object_type', data=vid) \\\n",
    ".set(title='Кол-во объектов общественного питания в Москве', xlabel='Количество', \\\n",
    "    ylabel='Тип объекта');"
   ]
  },
  {
   "cell_type": "markdown",
   "id": "1c81be84",
   "metadata": {},
   "source": [
    "**Из представленных данных видно, что самые распространенные типы питания - это Кафе, столовая, ресторан, фаст-фуд**"
   ]
  },
  {
   "cell_type": "code",
   "execution_count": 20,
   "id": "def2294d",
   "metadata": {},
   "outputs": [
    {
     "data": {
      "text/html": [
       "<div>\n",
       "<style scoped>\n",
       "    .dataframe tbody tr th:only-of-type {\n",
       "        vertical-align: middle;\n",
       "    }\n",
       "\n",
       "    .dataframe tbody tr th {\n",
       "        vertical-align: top;\n",
       "    }\n",
       "\n",
       "    .dataframe thead th {\n",
       "        text-align: right;\n",
       "    }\n",
       "</style>\n",
       "<table border=\"1\" class=\"dataframe\">\n",
       "  <thead>\n",
       "    <tr style=\"text-align: right;\">\n",
       "      <th></th>\n",
       "      <th>object_type</th>\n",
       "      <th>number</th>\n",
       "    </tr>\n",
       "  </thead>\n",
       "  <tbody>\n",
       "    <tr>\n",
       "      <th>7</th>\n",
       "      <td>столовая</td>\n",
       "      <td>336793</td>\n",
       "    </tr>\n",
       "    <tr>\n",
       "      <th>3</th>\n",
       "      <td>кафе</td>\n",
       "      <td>241539</td>\n",
       "    </tr>\n",
       "    <tr>\n",
       "      <th>6</th>\n",
       "      <td>ресторан</td>\n",
       "      <td>221091</td>\n",
       "    </tr>\n",
       "    <tr>\n",
       "      <th>8</th>\n",
       "      <td>фаст-фуд</td>\n",
       "      <td>39474</td>\n",
       "    </tr>\n",
       "    <tr>\n",
       "      <th>0</th>\n",
       "      <td>бар</td>\n",
       "      <td>37221</td>\n",
       "    </tr>\n",
       "    <tr>\n",
       "      <th>1</th>\n",
       "      <td>буфет</td>\n",
       "      <td>29621</td>\n",
       "    </tr>\n",
       "    <tr>\n",
       "      <th>4</th>\n",
       "      <td>кафетерий</td>\n",
       "      <td>3628</td>\n",
       "    </tr>\n",
       "    <tr>\n",
       "      <th>2</th>\n",
       "      <td>закусочная</td>\n",
       "      <td>2731</td>\n",
       "    </tr>\n",
       "    <tr>\n",
       "      <th>5</th>\n",
       "      <td>кулинария</td>\n",
       "      <td>1526</td>\n",
       "    </tr>\n",
       "  </tbody>\n",
       "</table>\n",
       "</div>"
      ],
      "text/plain": [
       "  object_type  number\n",
       "7    столовая  336793\n",
       "3        кафе  241539\n",
       "6    ресторан  221091\n",
       "8    фаст-фуд   39474\n",
       "0         бар   37221\n",
       "1       буфет   29621\n",
       "4   кафетерий    3628\n",
       "2  закусочная    2731\n",
       "5   кулинария    1526"
      ]
     },
     "execution_count": 20,
     "metadata": {},
     "output_type": "execute_result"
    }
   ],
   "source": [
    "number =  rest_data.groupby('object_type', as_index=False).agg({'number':'sum'}) \\\n",
    "                                    .sort_values(by='number', ascending=False)\n",
    "number"
   ]
  },
  {
   "cell_type": "code",
   "execution_count": 21,
   "id": "3e360576",
   "metadata": {},
   "outputs": [
    {
     "data": {
      "image/png": "[encoded data removed]",
      "text/plain": [
       "<Figure size 1008x504 with 1 Axes>"
      ]
     },
     "metadata": {
      "needs_background": "light"
     },
     "output_type": "display_data"
    }
   ],
   "source": [
    "plt.figure(figsize=(14, 7))\n",
    "sns.set_palette('dark')\n",
    "sns.set_context(\"notebook\", font_scale=1.25)\n",
    "sns.barplot(x='number', y='object_type', data=number) \\\n",
    ".set(title='Кол-во мест в объектах общественного питания в Москве', xlabel='Количество мест', \\\n",
    "    ylabel='Тип объекта');"
   ]
  },
  {
   "cell_type": "markdown",
   "id": "8fb9e947",
   "metadata": {},
   "source": [
    "**По суммарному количеству мест выигрывают столовые, кафе и рестораны**"
   ]
  },
  {
   "cell_type": "markdown",
   "id": "64ed7af3",
   "metadata": {},
   "source": [
    "### Исследуем соотношение сетевых и несетевых заведений по количеству. Построим график."
   ]
  },
  {
   "cell_type": "code",
   "execution_count": 22,
   "id": "3b6910f3",
   "metadata": {},
   "outputs": [
    {
     "data": {
      "text/html": [
       "<div>\n",
       "<style scoped>\n",
       "    .dataframe tbody tr th:only-of-type {\n",
       "        vertical-align: middle;\n",
       "    }\n",
       "\n",
       "    .dataframe tbody tr th {\n",
       "        vertical-align: top;\n",
       "    }\n",
       "\n",
       "    .dataframe thead th {\n",
       "        text-align: right;\n",
       "    }\n",
       "</style>\n",
       "<table border=\"1\" class=\"dataframe\">\n",
       "  <thead>\n",
       "    <tr style=\"text-align: right;\">\n",
       "      <th></th>\n",
       "      <th>chain</th>\n",
       "      <th>object_name</th>\n",
       "      <th>ratio</th>\n",
       "    </tr>\n",
       "  </thead>\n",
       "  <tbody>\n",
       "    <tr>\n",
       "      <th>1</th>\n",
       "      <td>не сетевое</td>\n",
       "      <td>12317</td>\n",
       "      <td>0.81</td>\n",
       "    </tr>\n",
       "    <tr>\n",
       "      <th>0</th>\n",
       "      <td>сетевое</td>\n",
       "      <td>2964</td>\n",
       "      <td>0.19</td>\n",
       "    </tr>\n",
       "  </tbody>\n",
       "</table>\n",
       "</div>"
      ],
      "text/plain": [
       "        chain  object_name  ratio\n",
       "1  не сетевое        12317   0.81\n",
       "0     сетевое         2964   0.19"
      ]
     },
     "execution_count": 22,
     "metadata": {},
     "output_type": "execute_result"
    }
   ],
   "source": [
    "chain = rest_data.groupby('chain', as_index=False)['object_name'].count().sort_values(by='object_name', ascending=False)\n",
    "chain['ratio'] = chain['object_name'] / len(rest_data)\n",
    "\n",
    "chain['chain'] = chain['chain'].str.replace('нет', 'не сетевое')\n",
    "chain['chain'] = chain['chain'].str.replace('да', 'сетевое')\n",
    "chain"
   ]
  },
  {
   "cell_type": "code",
   "execution_count": 23,
   "id": "0c649da9",
   "metadata": {},
   "outputs": [
    {
     "data": {
      "image/png": "[encoded data removed]",
      "text/plain": [
       "<Figure size 1008x504 with 1 Axes>"
      ]
     },
     "metadata": {
      "needs_background": "light"
     },
     "output_type": "display_data"
    }
   ],
   "source": [
    "plt.figure(figsize=(14, 7))\n",
    "sns.set_palette('dark')\n",
    "sns.set_context(\"notebook\", font_scale=1.25)\n",
    "sns.barplot(x='chain', y='ratio', data=chain) \\\n",
    ".set(title='Соотношение сетевых и не сетивых заведений в Москве', xlabel='Тип объекты', \\\n",
    "    ylabel='Соотношение');"
   ]
  },
  {
   "cell_type": "markdown",
   "id": "1e3480b2",
   "metadata": {},
   "source": [
    "**По общему числу большую часть рынка занимают не сетевые заведения 12398 организаций и на долю сетей приходится 2968 заведений**"
   ]
  },
  {
   "cell_type": "markdown",
   "id": "5ddaf6b2",
   "metadata": {},
   "source": [
    "### Выясним для какого вида объекта общественного питания характерно сетевое распространение?"
   ]
  },
  {
   "cell_type": "code",
   "execution_count": 24,
   "id": "0bc4c6c4",
   "metadata": {},
   "outputs": [
    {
     "data": {
      "text/plain": [
       "['кафе',\n",
       " 'фаст-фуд',\n",
       " 'ресторан',\n",
       " 'кулинария',\n",
       " 'кафетерий',\n",
       " 'закусочная',\n",
       " 'бар',\n",
       " 'буфет',\n",
       " 'столовая']"
      ]
     },
     "execution_count": 24,
     "metadata": {},
     "output_type": "execute_result"
    }
   ],
   "source": [
    "temp = rest_data.query(\"chain == 'да'\").object_type.unique().tolist()\n",
    "temp"
   ]
  },
  {
   "cell_type": "code",
   "execution_count": 25,
   "id": "e65af1cb",
   "metadata": {},
   "outputs": [
    {
     "data": {
      "text/html": [
       "<div>\n",
       "<style scoped>\n",
       "    .dataframe tbody tr th:only-of-type {\n",
       "        vertical-align: middle;\n",
       "    }\n",
       "\n",
       "    .dataframe tbody tr th {\n",
       "        vertical-align: top;\n",
       "    }\n",
       "\n",
       "    .dataframe thead th {\n",
       "        text-align: right;\n",
       "    }\n",
       "</style>\n",
       "<table border=\"1\" class=\"dataframe\">\n",
       "  <thead>\n",
       "    <tr style=\"text-align: right;\">\n",
       "      <th></th>\n",
       "      <th>object_type</th>\n",
       "      <th>count</th>\n",
       "      <th>portion</th>\n",
       "    </tr>\n",
       "  </thead>\n",
       "  <tbody>\n",
       "    <tr>\n",
       "      <th>3</th>\n",
       "      <td>кафе</td>\n",
       "      <td>1396</td>\n",
       "      <td>0.47</td>\n",
       "    </tr>\n",
       "    <tr>\n",
       "      <th>8</th>\n",
       "      <td>фаст-фуд</td>\n",
       "      <td>788</td>\n",
       "      <td>0.27</td>\n",
       "    </tr>\n",
       "    <tr>\n",
       "      <th>6</th>\n",
       "      <td>ресторан</td>\n",
       "      <td>543</td>\n",
       "      <td>0.18</td>\n",
       "    </tr>\n",
       "    <tr>\n",
       "      <th>5</th>\n",
       "      <td>кулинария</td>\n",
       "      <td>78</td>\n",
       "      <td>0.03</td>\n",
       "    </tr>\n",
       "    <tr>\n",
       "      <th>2</th>\n",
       "      <td>закусочная</td>\n",
       "      <td>56</td>\n",
       "      <td>0.02</td>\n",
       "    </tr>\n",
       "    <tr>\n",
       "      <th>4</th>\n",
       "      <td>кафетерий</td>\n",
       "      <td>52</td>\n",
       "      <td>0.02</td>\n",
       "    </tr>\n",
       "    <tr>\n",
       "      <th>0</th>\n",
       "      <td>бар</td>\n",
       "      <td>37</td>\n",
       "      <td>0.01</td>\n",
       "    </tr>\n",
       "    <tr>\n",
       "      <th>1</th>\n",
       "      <td>буфет</td>\n",
       "      <td>11</td>\n",
       "      <td>0.00</td>\n",
       "    </tr>\n",
       "    <tr>\n",
       "      <th>7</th>\n",
       "      <td>столовая</td>\n",
       "      <td>3</td>\n",
       "      <td>0.00</td>\n",
       "    </tr>\n",
       "  </tbody>\n",
       "</table>\n",
       "</div>"
      ],
      "text/plain": [
       "  object_type  count  portion\n",
       "3        кафе   1396     0.47\n",
       "8    фаст-фуд    788     0.27\n",
       "6    ресторан    543     0.18\n",
       "5   кулинария     78     0.03\n",
       "2  закусочная     56     0.02\n",
       "4   кафетерий     52     0.02\n",
       "0         бар     37     0.01\n",
       "1       буфет     11     0.00\n",
       "7    столовая      3     0.00"
      ]
     },
     "execution_count": 25,
     "metadata": {},
     "output_type": "execute_result"
    }
   ],
   "source": [
    "df1 = rest_data.query(\"chain == 'да'\").groupby('object_type',as_index=False).agg({'id':'count'}) \\\n",
    "                                .sort_values(by='id', ascending=False) \\\n",
    "                                .rename(columns={'id':'count'})\n",
    "df1['portion'] = df1['count']/rest_data.query(\"chain == 'да'\").shape[0]\n",
    "df1"
   ]
  },
  {
   "cell_type": "code",
   "execution_count": 26,
   "id": "03f61eb1",
   "metadata": {},
   "outputs": [
    {
     "data": {
      "image/png": "[encoded data removed]",
      "text/plain": [
       "<Figure size 1008x504 with 1 Axes>"
      ]
     },
     "metadata": {
      "needs_background": "light"
     },
     "output_type": "display_data"
    }
   ],
   "source": [
    "plt.figure(figsize=(14, 7))\n",
    "sns.set_palette('dark')\n",
    "sns.set_context(\"notebook\", font_scale=1.25)\n",
    "sns.barplot(x='portion', y='object_type', data=df1) \\\n",
    ".set(title='Доля сетевых заведений в каждом сегменте', xlabel='Количество объектов', \\\n",
    "    ylabel='Тип объекта');"
   ]
  },
  {
   "cell_type": "markdown",
   "id": "52cb5328",
   "metadata": {},
   "source": [
    "**Сетевое распростронение характерно в большей степени для кафе, заведений фаст-фуда и ресторанов**"
   ]
  },
  {
   "cell_type": "markdown",
   "id": "b2b469d3",
   "metadata": {},
   "source": [
    "### Узнаем, что характерно для сетевых заведений: много заведений с небольшим числом посадочных мест в каждом или мало заведений с большим количеством посадочных мест?"
   ]
  },
  {
   "cell_type": "code",
   "execution_count": 27,
   "id": "798f59fd",
   "metadata": {},
   "outputs": [],
   "source": [
    "rest_data_chain = rest_data.query(\"chain == 'да'\")"
   ]
  },
  {
   "cell_type": "code",
   "execution_count": 28,
   "id": "409efecb",
   "metadata": {},
   "outputs": [
    {
     "data": {
      "text/html": [
       "<div>\n",
       "<style scoped>\n",
       "    .dataframe tbody tr th:only-of-type {\n",
       "        vertical-align: middle;\n",
       "    }\n",
       "\n",
       "    .dataframe tbody tr th {\n",
       "        vertical-align: top;\n",
       "    }\n",
       "\n",
       "    .dataframe thead th {\n",
       "        text-align: right;\n",
       "    }\n",
       "</style>\n",
       "<table border=\"1\" class=\"dataframe\">\n",
       "  <thead>\n",
       "    <tr style=\"text-align: right;\">\n",
       "      <th></th>\n",
       "      <th>object_name</th>\n",
       "      <th>Количество заведений в сети</th>\n",
       "      <th>количество мест в отдельном заведении сети</th>\n",
       "    </tr>\n",
       "  </thead>\n",
       "  <tbody>\n",
       "    <tr>\n",
       "      <th>0</th>\n",
       "      <td>шоколадница</td>\n",
       "      <td>157</td>\n",
       "      <td>40</td>\n",
       "    </tr>\n",
       "    <tr>\n",
       "      <th>1</th>\n",
       "      <td>шоколадница</td>\n",
       "      <td>157</td>\n",
       "      <td>48</td>\n",
       "    </tr>\n",
       "    <tr>\n",
       "      <th>2</th>\n",
       "      <td>шоколадница</td>\n",
       "      <td>157</td>\n",
       "      <td>25</td>\n",
       "    </tr>\n",
       "    <tr>\n",
       "      <th>3</th>\n",
       "      <td>шоколадница</td>\n",
       "      <td>157</td>\n",
       "      <td>50</td>\n",
       "    </tr>\n",
       "    <tr>\n",
       "      <th>4</th>\n",
       "      <td>шоколадница</td>\n",
       "      <td>157</td>\n",
       "      <td>50</td>\n",
       "    </tr>\n",
       "    <tr>\n",
       "      <th>5</th>\n",
       "      <td>шоколадница</td>\n",
       "      <td>157</td>\n",
       "      <td>48</td>\n",
       "    </tr>\n",
       "    <tr>\n",
       "      <th>6</th>\n",
       "      <td>шоколадница</td>\n",
       "      <td>157</td>\n",
       "      <td>60</td>\n",
       "    </tr>\n",
       "    <tr>\n",
       "      <th>7</th>\n",
       "      <td>шоколадница</td>\n",
       "      <td>157</td>\n",
       "      <td>35</td>\n",
       "    </tr>\n",
       "    <tr>\n",
       "      <th>8</th>\n",
       "      <td>шоколадница</td>\n",
       "      <td>157</td>\n",
       "      <td>68</td>\n",
       "    </tr>\n",
       "    <tr>\n",
       "      <th>9</th>\n",
       "      <td>шоколадница</td>\n",
       "      <td>157</td>\n",
       "      <td>50</td>\n",
       "    </tr>\n",
       "    <tr>\n",
       "      <th>10</th>\n",
       "      <td>шоколадница</td>\n",
       "      <td>157</td>\n",
       "      <td>50</td>\n",
       "    </tr>\n",
       "    <tr>\n",
       "      <th>11</th>\n",
       "      <td>шоколадница</td>\n",
       "      <td>157</td>\n",
       "      <td>40</td>\n",
       "    </tr>\n",
       "    <tr>\n",
       "      <th>12</th>\n",
       "      <td>шоколадница</td>\n",
       "      <td>157</td>\n",
       "      <td>50</td>\n",
       "    </tr>\n",
       "    <tr>\n",
       "      <th>13</th>\n",
       "      <td>шоколадница</td>\n",
       "      <td>157</td>\n",
       "      <td>55</td>\n",
       "    </tr>\n",
       "    <tr>\n",
       "      <th>14</th>\n",
       "      <td>шоколадница</td>\n",
       "      <td>157</td>\n",
       "      <td>48</td>\n",
       "    </tr>\n",
       "  </tbody>\n",
       "</table>\n",
       "</div>"
      ],
      "text/plain": [
       "    object_name  Количество заведений в сети  \\\n",
       "0   шоколадница                          157   \n",
       "1   шоколадница                          157   \n",
       "2   шоколадница                          157   \n",
       "3   шоколадница                          157   \n",
       "4   шоколадница                          157   \n",
       "5   шоколадница                          157   \n",
       "6   шоколадница                          157   \n",
       "7   шоколадница                          157   \n",
       "8   шоколадница                          157   \n",
       "9   шоколадница                          157   \n",
       "10  шоколадница                          157   \n",
       "11  шоколадница                          157   \n",
       "12  шоколадница                          157   \n",
       "13  шоколадница                          157   \n",
       "14  шоколадница                          157   \n",
       "\n",
       "    количество мест в отдельном заведении сети  \n",
       "0                                           40  \n",
       "1                                           48  \n",
       "2                                           25  \n",
       "3                                           50  \n",
       "4                                           50  \n",
       "5                                           48  \n",
       "6                                           60  \n",
       "7                                           35  \n",
       "8                                           68  \n",
       "9                                           50  \n",
       "10                                          50  \n",
       "11                                          40  \n",
       "12                                          50  \n",
       "13                                          55  \n",
       "14                                          48  "
      ]
     },
     "execution_count": 28,
     "metadata": {},
     "output_type": "execute_result"
    }
   ],
   "source": [
    "join = rest_data_chain.groupby('object_name', as_index=False).agg({'address': 'count'}) \\\n",
    "    .sort_values(by='address', ascending=False) \\\n",
    "    .rename(columns={'address':'count'}) \\\n",
    "    .merge(rest_data_chain, how='left', on='object_name') \\\n",
    "    .drop(columns=['id','chain', 'object_type', 'address']) \\\n",
    "    .rename(columns={'count':'Количество заведений в сети','number':'количество мест в отдельном заведении сети'})\n",
    "    \n",
    "join.head(15)"
   ]
  },
  {
   "cell_type": "code",
   "execution_count": 29,
   "id": "fb8eca1d",
   "metadata": {},
   "outputs": [
    {
     "data": {
      "image/png": "[encoded data removed]",
      "text/plain": [
       "<Figure size 432x432 with 3 Axes>"
      ]
     },
     "metadata": {
      "needs_background": "light"
     },
     "output_type": "display_data"
    }
   ],
   "source": [
    "sns.jointplot(x='Количество заведений в сети', y='количество мест в отдельном заведении сети', data=join, kind='hex', space=2);"
   ]
  },
  {
   "cell_type": "code",
   "execution_count": 30,
   "id": "81aeb6f1",
   "metadata": {},
   "outputs": [
    {
     "data": {
      "image/png": "[encoded data removed]",
      "text/plain": [
       "<Figure size 1008x504 with 1 Axes>"
      ]
     },
     "metadata": {
      "needs_background": "light"
     },
     "output_type": "display_data"
    }
   ],
   "source": [
    "plt.figure(figsize=(14, 7))\n",
    "sns.set_palette('dark')\n",
    "sns.histplot(data=rest_data_chain, x='number', bins=50)\\\n",
    "    .set(title='Распределение числа посадочных мест', xlabel='Количество заведений',\n",
    "         ylabel='Число посадочных мест');"
   ]
  },
  {
   "cell_type": "code",
   "execution_count": 31,
   "id": "7eac563f",
   "metadata": {},
   "outputs": [
    {
     "data": {
      "text/plain": [
       "count   2,964.00\n",
       "mean       52.98\n",
       "std        57.15\n",
       "min         0.00\n",
       "25%        15.00\n",
       "50%        40.00\n",
       "75%        72.00\n",
       "max       580.00\n",
       "Name: number, dtype: float64"
      ]
     },
     "execution_count": 31,
     "metadata": {},
     "output_type": "execute_result"
    }
   ],
   "source": [
    "rest_data_chain['number'].describe()"
   ]
  },
  {
   "cell_type": "code",
   "execution_count": 32,
   "id": "02865c61",
   "metadata": {},
   "outputs": [
    {
     "data": {
      "image/png": "[encoded data removed]",
      "text/plain": [
       "<Figure size 504x504 with 1 Axes>"
      ]
     },
     "metadata": {
      "needs_background": "light"
     },
     "output_type": "display_data"
    }
   ],
   "source": [
    "plt.figure(figsize=(7, 7))\n",
    "sns.set_palette('dark')\n",
    "ax = sns.boxplot(data=rest_data_chain, y='number', palette=\"Set3\") \\\n",
    "    .set(ylim=(-10,200), title='Распределение числа посадочных мест',\n",
    "         ylabel='Число посадочных мест');"
   ]
  },
  {
   "cell_type": "markdown",
   "id": "88ba3d43",
   "metadata": {},
   "source": [
    "**Однозначно на вопрос ответить сложно, из проведенного анализа мы можем видеть, что сетивые заведения разделились на две группы, в одных присутствуют объекты с большим числом посадочных мест выше среднего значения в 40 мест и есть сети с большим числом заведений с небольшим количеством мест до 50 - 70 мест**"
   ]
  },
  {
   "cell_type": "markdown",
   "id": "25b69242",
   "metadata": {},
   "source": [
    "### Для каждого вида объекта общественного питания опишем среднее количество посадочных мест. Какой вид предоставляет в среднем самое большое количество посадочных мест? Построим графики."
   ]
  },
  {
   "cell_type": "code",
   "execution_count": 33,
   "id": "cb40512e",
   "metadata": {},
   "outputs": [
    {
     "data": {
      "text/html": [
       "<div>\n",
       "<style scoped>\n",
       "    .dataframe tbody tr th:only-of-type {\n",
       "        vertical-align: middle;\n",
       "    }\n",
       "\n",
       "    .dataframe tbody tr th {\n",
       "        vertical-align: top;\n",
       "    }\n",
       "\n",
       "    .dataframe thead th {\n",
       "        text-align: right;\n",
       "    }\n",
       "</style>\n",
       "<table border=\"1\" class=\"dataframe\">\n",
       "  <thead>\n",
       "    <tr style=\"text-align: right;\">\n",
       "      <th></th>\n",
       "      <th>id</th>\n",
       "      <th>object_name</th>\n",
       "      <th>chain</th>\n",
       "      <th>object_type</th>\n",
       "      <th>address</th>\n",
       "      <th>number</th>\n",
       "    </tr>\n",
       "  </thead>\n",
       "  <tbody>\n",
       "    <tr>\n",
       "      <th>0</th>\n",
       "      <td>151635</td>\n",
       "      <td>сметана</td>\n",
       "      <td>нет</td>\n",
       "      <td>кафе</td>\n",
       "      <td>город москва, улица егора абакумова, дом 9</td>\n",
       "      <td>48</td>\n",
       "    </tr>\n",
       "    <tr>\n",
       "      <th>1</th>\n",
       "      <td>77874</td>\n",
       "      <td>родник</td>\n",
       "      <td>нет</td>\n",
       "      <td>кафе</td>\n",
       "      <td>город москва, улица талалихина, дом 2/1, корпус 1</td>\n",
       "      <td>35</td>\n",
       "    </tr>\n",
       "    <tr>\n",
       "      <th>2</th>\n",
       "      <td>24309</td>\n",
       "      <td>кафе «академия»</td>\n",
       "      <td>нет</td>\n",
       "      <td>кафе</td>\n",
       "      <td>город москва, абельмановская улица, дом 6</td>\n",
       "      <td>95</td>\n",
       "    </tr>\n",
       "    <tr>\n",
       "      <th>3</th>\n",
       "      <td>21894</td>\n",
       "      <td>пиццетория</td>\n",
       "      <td>да</td>\n",
       "      <td>кафе</td>\n",
       "      <td>город москва, абрамцевская улица, дом 1</td>\n",
       "      <td>40</td>\n",
       "    </tr>\n",
       "    <tr>\n",
       "      <th>4</th>\n",
       "      <td>119365</td>\n",
       "      <td>кафе «вишневая метель»</td>\n",
       "      <td>нет</td>\n",
       "      <td>кафе</td>\n",
       "      <td>город москва, абрамцевская улица, дом 9, корпус 1</td>\n",
       "      <td>50</td>\n",
       "    </tr>\n",
       "  </tbody>\n",
       "</table>\n",
       "</div>"
      ],
      "text/plain": [
       "       id             object_name chain object_type  \\\n",
       "0  151635                 сметана   нет        кафе   \n",
       "1   77874                  родник   нет        кафе   \n",
       "2   24309         кафе «академия»   нет        кафе   \n",
       "3   21894              пиццетория    да        кафе   \n",
       "4  119365  кафе «вишневая метель»   нет        кафе   \n",
       "\n",
       "                                             address  number  \n",
       "0         город москва, улица егора абакумова, дом 9      48  \n",
       "1  город москва, улица талалихина, дом 2/1, корпус 1      35  \n",
       "2          город москва, абельмановская улица, дом 6      95  \n",
       "3            город москва, абрамцевская улица, дом 1      40  \n",
       "4  город москва, абрамцевская улица, дом 9, корпус 1      50  "
      ]
     },
     "execution_count": 33,
     "metadata": {},
     "output_type": "execute_result"
    }
   ],
   "source": [
    "rest_data.head()"
   ]
  },
  {
   "cell_type": "code",
   "execution_count": 74,
   "id": "9bbddaa6",
   "metadata": {},
   "outputs": [
    {
     "data": {
      "text/html": [
       "<div>\n",
       "<style scoped>\n",
       "    .dataframe tbody tr th:only-of-type {\n",
       "        vertical-align: middle;\n",
       "    }\n",
       "\n",
       "    .dataframe tbody tr th {\n",
       "        vertical-align: top;\n",
       "    }\n",
       "\n",
       "    .dataframe thead th {\n",
       "        text-align: right;\n",
       "    }\n",
       "</style>\n",
       "<table border=\"1\" class=\"dataframe\">\n",
       "  <thead>\n",
       "    <tr style=\"text-align: right;\">\n",
       "      <th></th>\n",
       "      <th>object_type</th>\n",
       "      <th>median</th>\n",
       "      <th>mean</th>\n",
       "    </tr>\n",
       "  </thead>\n",
       "  <tbody>\n",
       "    <tr>\n",
       "      <th>7</th>\n",
       "      <td>столовая</td>\n",
       "      <td>103</td>\n",
       "      <td>130.34</td>\n",
       "    </tr>\n",
       "    <tr>\n",
       "      <th>6</th>\n",
       "      <td>ресторан</td>\n",
       "      <td>80</td>\n",
       "      <td>96.88</td>\n",
       "    </tr>\n",
       "    <tr>\n",
       "      <th>0</th>\n",
       "      <td>бар</td>\n",
       "      <td>35</td>\n",
       "      <td>43.53</td>\n",
       "    </tr>\n",
       "    <tr>\n",
       "      <th>1</th>\n",
       "      <td>буфет</td>\n",
       "      <td>32</td>\n",
       "      <td>51.43</td>\n",
       "    </tr>\n",
       "    <tr>\n",
       "      <th>3</th>\n",
       "      <td>кафе</td>\n",
       "      <td>30</td>\n",
       "      <td>39.79</td>\n",
       "    </tr>\n",
       "    <tr>\n",
       "      <th>4</th>\n",
       "      <td>кафетерий</td>\n",
       "      <td>6</td>\n",
       "      <td>9.18</td>\n",
       "    </tr>\n",
       "    <tr>\n",
       "      <th>8</th>\n",
       "      <td>фаст-фуд</td>\n",
       "      <td>6</td>\n",
       "      <td>20.81</td>\n",
       "    </tr>\n",
       "    <tr>\n",
       "      <th>2</th>\n",
       "      <td>закусочная</td>\n",
       "      <td>0</td>\n",
       "      <td>7.85</td>\n",
       "    </tr>\n",
       "    <tr>\n",
       "      <th>5</th>\n",
       "      <td>кулинария</td>\n",
       "      <td>0</td>\n",
       "      <td>5.59</td>\n",
       "    </tr>\n",
       "  </tbody>\n",
       "</table>\n",
       "</div>"
      ],
      "text/plain": [
       "  object_type  median   mean\n",
       "7    столовая     103 130.34\n",
       "6    ресторан      80  96.88\n",
       "0         бар      35  43.53\n",
       "1       буфет      32  51.43\n",
       "3        кафе      30  39.79\n",
       "4   кафетерий       6   9.18\n",
       "8    фаст-фуд       6  20.81\n",
       "2  закусочная       0   7.85\n",
       "5   кулинария       0   5.59"
      ]
     },
     "execution_count": 74,
     "metadata": {},
     "output_type": "execute_result"
    }
   ],
   "source": [
    "sample = rest_data.groupby('object_type', as_index=False).agg({'number':['median','mean']}) \n",
    "                         \n",
    "sample.columns=['object_type', 'median', 'mean']\n",
    "sample = sample.sort_values(by='median', ascending=False)\n",
    "sample"
   ]
  },
  {
   "cell_type": "code",
   "execution_count": 81,
   "id": "3f2d1140",
   "metadata": {},
   "outputs": [
    {
     "data": {
      "image/png": "[encoded data removed]",
      "text/plain": [
       "<Figure size 1008x504 with 1 Axes>"
      ]
     },
     "metadata": {
      "needs_background": "light"
     },
     "output_type": "display_data"
    }
   ],
   "source": [
    "plt.figure(figsize=(14, 7))\n",
    "sns.set_palette('dark')\n",
    "sns.set_context(\"notebook\", font_scale=1.25)\n",
    "ax = sns.barplot(x='median', y='object_type', data=sample) \\\n",
    ".set(title='Среднее колиество посадочных мест', xlabel='Количиство посадочных мест', \\\n",
    "    ylabel='Тип объекта');"
   ]
  },
  {
   "cell_type": "markdown",
   "id": "2c04fe81",
   "metadata": {},
   "source": [
    "### Выделим в отдельный столбец информацию об улице из столбца address "
   ]
  },
  {
   "cell_type": "code",
   "execution_count": 36,
   "id": "ab23ac04",
   "metadata": {},
   "outputs": [
    {
     "data": {
      "text/html": [
       "<div>\n",
       "<style scoped>\n",
       "    .dataframe tbody tr th:only-of-type {\n",
       "        vertical-align: middle;\n",
       "    }\n",
       "\n",
       "    .dataframe tbody tr th {\n",
       "        vertical-align: top;\n",
       "    }\n",
       "\n",
       "    .dataframe thead th {\n",
       "        text-align: right;\n",
       "    }\n",
       "</style>\n",
       "<table border=\"1\" class=\"dataframe\">\n",
       "  <thead>\n",
       "    <tr style=\"text-align: right;\">\n",
       "      <th></th>\n",
       "      <th>id</th>\n",
       "      <th>object_name</th>\n",
       "      <th>chain</th>\n",
       "      <th>object_type</th>\n",
       "      <th>address</th>\n",
       "      <th>number</th>\n",
       "    </tr>\n",
       "  </thead>\n",
       "  <tbody>\n",
       "    <tr>\n",
       "      <th>0</th>\n",
       "      <td>151635</td>\n",
       "      <td>сметана</td>\n",
       "      <td>нет</td>\n",
       "      <td>кафе</td>\n",
       "      <td>город москва, улица егора абакумова, дом 9</td>\n",
       "      <td>48</td>\n",
       "    </tr>\n",
       "    <tr>\n",
       "      <th>1</th>\n",
       "      <td>77874</td>\n",
       "      <td>родник</td>\n",
       "      <td>нет</td>\n",
       "      <td>кафе</td>\n",
       "      <td>город москва, улица талалихина, дом 2/1, корпус 1</td>\n",
       "      <td>35</td>\n",
       "    </tr>\n",
       "    <tr>\n",
       "      <th>2</th>\n",
       "      <td>24309</td>\n",
       "      <td>кафе «академия»</td>\n",
       "      <td>нет</td>\n",
       "      <td>кафе</td>\n",
       "      <td>город москва, абельмановская улица, дом 6</td>\n",
       "      <td>95</td>\n",
       "    </tr>\n",
       "    <tr>\n",
       "      <th>3</th>\n",
       "      <td>21894</td>\n",
       "      <td>пиццетория</td>\n",
       "      <td>да</td>\n",
       "      <td>кафе</td>\n",
       "      <td>город москва, абрамцевская улица, дом 1</td>\n",
       "      <td>40</td>\n",
       "    </tr>\n",
       "    <tr>\n",
       "      <th>4</th>\n",
       "      <td>119365</td>\n",
       "      <td>кафе «вишневая метель»</td>\n",
       "      <td>нет</td>\n",
       "      <td>кафе</td>\n",
       "      <td>город москва, абрамцевская улица, дом 9, корпус 1</td>\n",
       "      <td>50</td>\n",
       "    </tr>\n",
       "  </tbody>\n",
       "</table>\n",
       "</div>"
      ],
      "text/plain": [
       "       id             object_name chain object_type  \\\n",
       "0  151635                 сметана   нет        кафе   \n",
       "1   77874                  родник   нет        кафе   \n",
       "2   24309         кафе «академия»   нет        кафе   \n",
       "3   21894              пиццетория    да        кафе   \n",
       "4  119365  кафе «вишневая метель»   нет        кафе   \n",
       "\n",
       "                                             address  number  \n",
       "0         город москва, улица егора абакумова, дом 9      48  \n",
       "1  город москва, улица талалихина, дом 2/1, корпус 1      35  \n",
       "2          город москва, абельмановская улица, дом 6      95  \n",
       "3            город москва, абрамцевская улица, дом 1      40  \n",
       "4  город москва, абрамцевская улица, дом 9, корпус 1      50  "
      ]
     },
     "execution_count": 36,
     "metadata": {},
     "output_type": "execute_result"
    }
   ],
   "source": [
    "rest_data.head()"
   ]
  },
  {
   "cell_type": "code",
   "execution_count": 40,
   "id": "6257d986",
   "metadata": {},
   "outputs": [],
   "source": [
    "words = ['улица','ул','переулок','шоссе','проспект','площадь','проезд',\n",
    "         'село','аллея','бульвар','набережная','тупик','линия']\n",
    "\n",
    "str_pat = r\".*,\\s*\\b([^,]*?(?:{})\\b[^,]*)[,$]+\".format(\"|\".join(words))\n",
    "\n",
    "rest_data[\"street_new\"] = rest_data[\"address\"].str.extract(str_pat, flags=re.I)"
   ]
  },
  {
   "cell_type": "code",
   "execution_count": 41,
   "id": "5c18cdf5",
   "metadata": {},
   "outputs": [
    {
     "data": {
      "text/html": [
       "<div>\n",
       "<style scoped>\n",
       "    .dataframe tbody tr th:only-of-type {\n",
       "        vertical-align: middle;\n",
       "    }\n",
       "\n",
       "    .dataframe tbody tr th {\n",
       "        vertical-align: top;\n",
       "    }\n",
       "\n",
       "    .dataframe thead th {\n",
       "        text-align: right;\n",
       "    }\n",
       "</style>\n",
       "<table border=\"1\" class=\"dataframe\">\n",
       "  <thead>\n",
       "    <tr style=\"text-align: right;\">\n",
       "      <th></th>\n",
       "      <th>id</th>\n",
       "      <th>object_name</th>\n",
       "      <th>chain</th>\n",
       "      <th>object_type</th>\n",
       "      <th>address</th>\n",
       "      <th>number</th>\n",
       "      <th>street</th>\n",
       "      <th>street_new</th>\n",
       "    </tr>\n",
       "  </thead>\n",
       "  <tbody>\n",
       "    <tr>\n",
       "      <th>0</th>\n",
       "      <td>151635</td>\n",
       "      <td>сметана</td>\n",
       "      <td>нет</td>\n",
       "      <td>кафе</td>\n",
       "      <td>город москва, улица егора абакумова, дом 9</td>\n",
       "      <td>48</td>\n",
       "      <td>улица егора абакумова</td>\n",
       "      <td>улица егора абакумова</td>\n",
       "    </tr>\n",
       "    <tr>\n",
       "      <th>1</th>\n",
       "      <td>77874</td>\n",
       "      <td>родник</td>\n",
       "      <td>нет</td>\n",
       "      <td>кафе</td>\n",
       "      <td>город москва, улица талалихина, дом 2/1, корпус 1</td>\n",
       "      <td>35</td>\n",
       "      <td>улица талалихина</td>\n",
       "      <td>улица талалихина</td>\n",
       "    </tr>\n",
       "    <tr>\n",
       "      <th>2</th>\n",
       "      <td>24309</td>\n",
       "      <td>кафе «академия»</td>\n",
       "      <td>нет</td>\n",
       "      <td>кафе</td>\n",
       "      <td>город москва, абельмановская улица, дом 6</td>\n",
       "      <td>95</td>\n",
       "      <td>абельмановская улица</td>\n",
       "      <td>абельмановская улица</td>\n",
       "    </tr>\n",
       "    <tr>\n",
       "      <th>3</th>\n",
       "      <td>21894</td>\n",
       "      <td>пиццетория</td>\n",
       "      <td>да</td>\n",
       "      <td>кафе</td>\n",
       "      <td>город москва, абрамцевская улица, дом 1</td>\n",
       "      <td>40</td>\n",
       "      <td>абрамцевская улица</td>\n",
       "      <td>абрамцевская улица</td>\n",
       "    </tr>\n",
       "    <tr>\n",
       "      <th>4</th>\n",
       "      <td>119365</td>\n",
       "      <td>кафе «вишневая метель»</td>\n",
       "      <td>нет</td>\n",
       "      <td>кафе</td>\n",
       "      <td>город москва, абрамцевская улица, дом 9, корпус 1</td>\n",
       "      <td>50</td>\n",
       "      <td>абрамцевская улица</td>\n",
       "      <td>абрамцевская улица</td>\n",
       "    </tr>\n",
       "  </tbody>\n",
       "</table>\n",
       "</div>"
      ],
      "text/plain": [
       "       id             object_name chain object_type  \\\n",
       "0  151635                 сметана   нет        кафе   \n",
       "1   77874                  родник   нет        кафе   \n",
       "2   24309         кафе «академия»   нет        кафе   \n",
       "3   21894              пиццетория    да        кафе   \n",
       "4  119365  кафе «вишневая метель»   нет        кафе   \n",
       "\n",
       "                                             address  number  \\\n",
       "0         город москва, улица егора абакумова, дом 9      48   \n",
       "1  город москва, улица талалихина, дом 2/1, корпус 1      35   \n",
       "2          город москва, абельмановская улица, дом 6      95   \n",
       "3            город москва, абрамцевская улица, дом 1      40   \n",
       "4  город москва, абрамцевская улица, дом 9, корпус 1      50   \n",
       "\n",
       "                  street             street_new  \n",
       "0  улица егора абакумова  улица егора абакумова  \n",
       "1       улица талалихина       улица талалихина  \n",
       "2   абельмановская улица   абельмановская улица  \n",
       "3     абрамцевская улица     абрамцевская улица  \n",
       "4     абрамцевская улица     абрамцевская улица  "
      ]
     },
     "execution_count": 41,
     "metadata": {},
     "output_type": "execute_result"
    }
   ],
   "source": [
    "rest_data.head()"
   ]
  },
  {
   "cell_type": "code",
   "execution_count": 42,
   "id": "3b92594f",
   "metadata": {},
   "outputs": [
    {
     "data": {
      "text/html": [
       "<div>\n",
       "<style scoped>\n",
       "    .dataframe tbody tr th:only-of-type {\n",
       "        vertical-align: middle;\n",
       "    }\n",
       "\n",
       "    .dataframe tbody tr th {\n",
       "        vertical-align: top;\n",
       "    }\n",
       "\n",
       "    .dataframe thead th {\n",
       "        text-align: right;\n",
       "    }\n",
       "</style>\n",
       "<table border=\"1\" class=\"dataframe\">\n",
       "  <thead>\n",
       "    <tr style=\"text-align: right;\">\n",
       "      <th></th>\n",
       "      <th>street_new</th>\n",
       "      <th>id</th>\n",
       "    </tr>\n",
       "  </thead>\n",
       "  <tbody>\n",
       "    <tr>\n",
       "      <th>0</th>\n",
       "      <td>проспект мира</td>\n",
       "      <td>203</td>\n",
       "    </tr>\n",
       "    <tr>\n",
       "      <th>1</th>\n",
       "      <td>профсоюзная улица</td>\n",
       "      <td>181</td>\n",
       "    </tr>\n",
       "    <tr>\n",
       "      <th>2</th>\n",
       "      <td>ленинградский проспект</td>\n",
       "      <td>170</td>\n",
       "    </tr>\n",
       "    <tr>\n",
       "      <th>3</th>\n",
       "      <td>пресненская набережная</td>\n",
       "      <td>167</td>\n",
       "    </tr>\n",
       "    <tr>\n",
       "      <th>4</th>\n",
       "      <td>варшавское шоссе</td>\n",
       "      <td>164</td>\n",
       "    </tr>\n",
       "    <tr>\n",
       "      <th>...</th>\n",
       "      <td>...</td>\n",
       "      <td>...</td>\n",
       "    </tr>\n",
       "    <tr>\n",
       "      <th>1894</th>\n",
       "      <td>егорьевский проезд</td>\n",
       "      <td>1</td>\n",
       "    </tr>\n",
       "    <tr>\n",
       "      <th>1895</th>\n",
       "      <td>улица академика опарина</td>\n",
       "      <td>1</td>\n",
       "    </tr>\n",
       "    <tr>\n",
       "      <th>1896</th>\n",
       "      <td>улица академика павлова</td>\n",
       "      <td>1</td>\n",
       "    </tr>\n",
       "    <tr>\n",
       "      <th>1897</th>\n",
       "      <td>улица академика петровского</td>\n",
       "      <td>1</td>\n",
       "    </tr>\n",
       "    <tr>\n",
       "      <th>1898</th>\n",
       "      <td>яхромская улица</td>\n",
       "      <td>1</td>\n",
       "    </tr>\n",
       "  </tbody>\n",
       "</table>\n",
       "<p>1899 rows × 2 columns</p>\n",
       "</div>"
      ],
      "text/plain": [
       "                       street_new   id\n",
       "0                   проспект мира  203\n",
       "1               профсоюзная улица  181\n",
       "2          ленинградский проспект  170\n",
       "3          пресненская набережная  167\n",
       "4                варшавское шоссе  164\n",
       "...                           ...  ...\n",
       "1894           егорьевский проезд    1\n",
       "1895      улица академика опарина    1\n",
       "1896      улица академика павлова    1\n",
       "1897  улица академика петровского    1\n",
       "1898              яхромская улица    1\n",
       "\n",
       "[1899 rows x 2 columns]"
      ]
     },
     "execution_count": 42,
     "metadata": {},
     "output_type": "execute_result"
    }
   ],
   "source": [
    "rest_address = rest_data.groupby('street_new').agg({'id':'count'}).sort_values(by='id', ascending=False).reset_index()\n",
    "rest_address"
   ]
  },
  {
   "cell_type": "markdown",
   "id": "eacf953b",
   "metadata": {},
   "source": [
    "### Построим график топ-10 улиц по количеству объектов общественного питания. Воспользуемся внешней информацией и ответим на вопрос — в каких районах Москвы находятся эти улицы?"
   ]
  },
  {
   "cell_type": "markdown",
   "id": "181e200e",
   "metadata": {},
   "source": [
    "Воспользуемся внешней информацией с аналитикой по адрессам общепита с ссайта мэрии Москвы "
   ]
  },
  {
   "cell_type": "code",
   "execution_count": 43,
   "id": "00e87d95",
   "metadata": {},
   "outputs": [],
   "source": [
    "sheet_id = \"15Ov5Pgyp0Mx_YRos6ysnwxiyNTNXcl4mVurZYbr8UrU\"\n",
    "sheet_name = \"data-4275-2022-05-101\"\n",
    "url = f\"https://docs.google.com/spreadsheets/d/{sheet_id}/gviz/tq?tqx=out:csv&sheet={sheet_name}\"\n",
    "df = pd.read_csv(url)"
   ]
  },
  {
   "cell_type": "code",
   "execution_count": 44,
   "id": "82ece34e",
   "metadata": {},
   "outputs": [
    {
     "data": {
      "text/html": [
       "<div>\n",
       "<style scoped>\n",
       "    .dataframe tbody tr th:only-of-type {\n",
       "        vertical-align: middle;\n",
       "    }\n",
       "\n",
       "    .dataframe tbody tr th {\n",
       "        vertical-align: top;\n",
       "    }\n",
       "\n",
       "    .dataframe thead th {\n",
       "        text-align: right;\n",
       "    }\n",
       "</style>\n",
       "<table border=\"1\" class=\"dataframe\">\n",
       "  <thead>\n",
       "    <tr style=\"text-align: right;\">\n",
       "      <th></th>\n",
       "      <th>ID</th>\n",
       "      <th>Name</th>\n",
       "      <th>global_id</th>\n",
       "      <th>IsNetObject</th>\n",
       "      <th>OperatingCompany</th>\n",
       "      <th>TypeObject</th>\n",
       "      <th>AdmArea</th>\n",
       "      <th>District</th>\n",
       "      <th>Address</th>\n",
       "      <th>PublicPhone</th>\n",
       "      <th>SeatsCount</th>\n",
       "      <th>SocialPrivileges</th>\n",
       "      <th>Longitude_WGS84</th>\n",
       "      <th>Latitude_WGS84</th>\n",
       "    </tr>\n",
       "  </thead>\n",
       "  <tbody>\n",
       "    <tr>\n",
       "      <th>0</th>\n",
       "      <td>151635</td>\n",
       "      <td>СМЕТАНА</td>\n",
       "      <td>637376221</td>\n",
       "      <td>нет</td>\n",
       "      <td>NaN</td>\n",
       "      <td>кафе</td>\n",
       "      <td>Северо-Восточный административный округ</td>\n",
       "      <td>Ярославский район</td>\n",
       "      <td>город Москва, улица Егора Абакумова, дом 9</td>\n",
       "      <td>PublicPhone:(499) 183-14-10\\n\\n</td>\n",
       "      <td>48</td>\n",
       "      <td>нет</td>\n",
       "      <td>37.71</td>\n",
       "      <td>55.88</td>\n",
       "    </tr>\n",
       "    <tr>\n",
       "      <th>1</th>\n",
       "      <td>77874</td>\n",
       "      <td>Родник</td>\n",
       "      <td>637376331</td>\n",
       "      <td>нет</td>\n",
       "      <td>NaN</td>\n",
       "      <td>кафе</td>\n",
       "      <td>Центральный административный округ</td>\n",
       "      <td>Таганский район</td>\n",
       "      <td>город Москва, улица Талалихина, дом 2/1, корпус 1</td>\n",
       "      <td>PublicPhone:(495) 676-55-35\\n\\n</td>\n",
       "      <td>35</td>\n",
       "      <td>нет</td>\n",
       "      <td>37.67</td>\n",
       "      <td>55.74</td>\n",
       "    </tr>\n",
       "    <tr>\n",
       "      <th>2</th>\n",
       "      <td>24309</td>\n",
       "      <td>Кафе \"Академия\"</td>\n",
       "      <td>637376349</td>\n",
       "      <td>нет</td>\n",
       "      <td>NaN</td>\n",
       "      <td>ресторан</td>\n",
       "      <td>Центральный административный округ</td>\n",
       "      <td>Таганский район</td>\n",
       "      <td>Российская Федерация, город Москва, внутригоро...</td>\n",
       "      <td>PublicPhone:(495) 662-30-10\\n\\n</td>\n",
       "      <td>95</td>\n",
       "      <td>нет</td>\n",
       "      <td>37.67</td>\n",
       "      <td>55.74</td>\n",
       "    </tr>\n",
       "    <tr>\n",
       "      <th>3</th>\n",
       "      <td>27429</td>\n",
       "      <td>ГБОУ \"Школа № 1430 имени Героя Социалистическо...</td>\n",
       "      <td>637376480</td>\n",
       "      <td>нет</td>\n",
       "      <td>NaN</td>\n",
       "      <td>столовая</td>\n",
       "      <td>Северо-Восточный административный округ</td>\n",
       "      <td>район Лианозово</td>\n",
       "      <td>город Москва, Угличская улица, дом 17</td>\n",
       "      <td>PublicPhone:(499) 908-06-15\\n\\n</td>\n",
       "      <td>240</td>\n",
       "      <td>нет</td>\n",
       "      <td>37.57</td>\n",
       "      <td>55.90</td>\n",
       "    </tr>\n",
       "    <tr>\n",
       "      <th>4</th>\n",
       "      <td>148815</td>\n",
       "      <td>Брусника</td>\n",
       "      <td>637376481</td>\n",
       "      <td>да</td>\n",
       "      <td>Брусника</td>\n",
       "      <td>кафе</td>\n",
       "      <td>Центральный административный округ</td>\n",
       "      <td>район Арбат</td>\n",
       "      <td>город Москва, переулок Сивцев Вражек, дом 6/2</td>\n",
       "      <td>PublicPhone:(495) 697-04-89\\n\\n</td>\n",
       "      <td>10</td>\n",
       "      <td>нет</td>\n",
       "      <td>37.60</td>\n",
       "      <td>55.75</td>\n",
       "    </tr>\n",
       "  </tbody>\n",
       "</table>\n",
       "</div>"
      ],
      "text/plain": [
       "       ID                                               Name  global_id  \\\n",
       "0  151635                                            СМЕТАНА  637376221   \n",
       "1   77874                                             Родник  637376331   \n",
       "2   24309                                    Кафе \"Академия\"  637376349   \n",
       "3   27429  ГБОУ \"Школа № 1430 имени Героя Социалистическо...  637376480   \n",
       "4  148815                                           Брусника  637376481   \n",
       "\n",
       "  IsNetObject OperatingCompany TypeObject  \\\n",
       "0         нет              NaN       кафе   \n",
       "1         нет              NaN       кафе   \n",
       "2         нет              NaN   ресторан   \n",
       "3         нет              NaN   столовая   \n",
       "4          да         Брусника       кафе   \n",
       "\n",
       "                                   AdmArea           District  \\\n",
       "0  Северо-Восточный административный округ  Ярославский район   \n",
       "1       Центральный административный округ    Таганский район   \n",
       "2       Центральный административный округ    Таганский район   \n",
       "3  Северо-Восточный административный округ    район Лианозово   \n",
       "4       Центральный административный округ        район Арбат   \n",
       "\n",
       "                                             Address  \\\n",
       "0         город Москва, улица Егора Абакумова, дом 9   \n",
       "1  город Москва, улица Талалихина, дом 2/1, корпус 1   \n",
       "2  Российская Федерация, город Москва, внутригоро...   \n",
       "3              город Москва, Угличская улица, дом 17   \n",
       "4      город Москва, переулок Сивцев Вражек, дом 6/2   \n",
       "\n",
       "                       PublicPhone  SeatsCount SocialPrivileges  \\\n",
       "0  PublicPhone:(499) 183-14-10\\n\\n          48              нет   \n",
       "1  PublicPhone:(495) 676-55-35\\n\\n          35              нет   \n",
       "2  PublicPhone:(495) 662-30-10\\n\\n          95              нет   \n",
       "3  PublicPhone:(499) 908-06-15\\n\\n         240              нет   \n",
       "4  PublicPhone:(495) 697-04-89\\n\\n          10              нет   \n",
       "\n",
       "   Longitude_WGS84  Latitude_WGS84  \n",
       "0            37.71           55.88  \n",
       "1            37.67           55.74  \n",
       "2            37.67           55.74  \n",
       "3            37.57           55.90  \n",
       "4            37.60           55.75  "
      ]
     },
     "execution_count": 44,
     "metadata": {},
     "output_type": "execute_result"
    }
   ],
   "source": [
    "df.head()"
   ]
  },
  {
   "cell_type": "code",
   "execution_count": 45,
   "id": "22087bf7",
   "metadata": {},
   "outputs": [],
   "source": [
    "df_clear = df.drop(columns=['Name', 'global_id', 'IsNetObject', 'OperatingCompany',\n",
    "        'TypeObject', 'PublicPhone', 'SeatsCount', 'SocialPrivileges', 'Longitude_WGS84', 'Latitude_WGS84'])\n"
   ]
  },
  {
   "cell_type": "code",
   "execution_count": 46,
   "id": "00e63827",
   "metadata": {},
   "outputs": [],
   "source": [
    "df_clear['address'] = df_clear['Address'].str.lower()"
   ]
  },
  {
   "cell_type": "code",
   "execution_count": 47,
   "id": "4c133219",
   "metadata": {},
   "outputs": [
    {
     "data": {
      "text/html": [
       "<div>\n",
       "<style scoped>\n",
       "    .dataframe tbody tr th:only-of-type {\n",
       "        vertical-align: middle;\n",
       "    }\n",
       "\n",
       "    .dataframe tbody tr th {\n",
       "        vertical-align: top;\n",
       "    }\n",
       "\n",
       "    .dataframe thead th {\n",
       "        text-align: right;\n",
       "    }\n",
       "</style>\n",
       "<table border=\"1\" class=\"dataframe\">\n",
       "  <thead>\n",
       "    <tr style=\"text-align: right;\">\n",
       "      <th></th>\n",
       "      <th>id</th>\n",
       "      <th>object_name</th>\n",
       "      <th>chain</th>\n",
       "      <th>object_type</th>\n",
       "      <th>address</th>\n",
       "      <th>number</th>\n",
       "      <th>street</th>\n",
       "      <th>street_new</th>\n",
       "      <th>adm_area</th>\n",
       "      <th>district</th>\n",
       "    </tr>\n",
       "  </thead>\n",
       "  <tbody>\n",
       "    <tr>\n",
       "      <th>0</th>\n",
       "      <td>151635</td>\n",
       "      <td>сметана</td>\n",
       "      <td>нет</td>\n",
       "      <td>кафе</td>\n",
       "      <td>город москва, улица егора абакумова, дом 9</td>\n",
       "      <td>48</td>\n",
       "      <td>улица егора абакумова</td>\n",
       "      <td>улица егора абакумова</td>\n",
       "      <td>Северо-Восточный административный округ</td>\n",
       "      <td>Ярославский район</td>\n",
       "    </tr>\n",
       "    <tr>\n",
       "      <th>1</th>\n",
       "      <td>77874</td>\n",
       "      <td>родник</td>\n",
       "      <td>нет</td>\n",
       "      <td>кафе</td>\n",
       "      <td>город москва, улица талалихина, дом 2/1, корпус 1</td>\n",
       "      <td>35</td>\n",
       "      <td>улица талалихина</td>\n",
       "      <td>улица талалихина</td>\n",
       "      <td>Центральный административный округ</td>\n",
       "      <td>Таганский район</td>\n",
       "    </tr>\n",
       "    <tr>\n",
       "      <th>2</th>\n",
       "      <td>24309</td>\n",
       "      <td>кафе «академия»</td>\n",
       "      <td>нет</td>\n",
       "      <td>кафе</td>\n",
       "      <td>город москва, абельмановская улица, дом 6</td>\n",
       "      <td>95</td>\n",
       "      <td>абельмановская улица</td>\n",
       "      <td>абельмановская улица</td>\n",
       "      <td>NaN</td>\n",
       "      <td>NaN</td>\n",
       "    </tr>\n",
       "    <tr>\n",
       "      <th>3</th>\n",
       "      <td>21894</td>\n",
       "      <td>пиццетория</td>\n",
       "      <td>да</td>\n",
       "      <td>кафе</td>\n",
       "      <td>город москва, абрамцевская улица, дом 1</td>\n",
       "      <td>40</td>\n",
       "      <td>абрамцевская улица</td>\n",
       "      <td>абрамцевская улица</td>\n",
       "      <td>Северо-Восточный административный округ</td>\n",
       "      <td>район Лианозово</td>\n",
       "    </tr>\n",
       "    <tr>\n",
       "      <th>4</th>\n",
       "      <td>21894</td>\n",
       "      <td>пиццетория</td>\n",
       "      <td>да</td>\n",
       "      <td>кафе</td>\n",
       "      <td>город москва, абрамцевская улица, дом 1</td>\n",
       "      <td>40</td>\n",
       "      <td>абрамцевская улица</td>\n",
       "      <td>абрамцевская улица</td>\n",
       "      <td>Северо-Восточный административный округ</td>\n",
       "      <td>район Лианозово</td>\n",
       "    </tr>\n",
       "  </tbody>\n",
       "</table>\n",
       "</div>"
      ],
      "text/plain": [
       "       id      object_name chain object_type  \\\n",
       "0  151635          сметана   нет        кафе   \n",
       "1   77874           родник   нет        кафе   \n",
       "2   24309  кафе «академия»   нет        кафе   \n",
       "3   21894       пиццетория    да        кафе   \n",
       "4   21894       пиццетория    да        кафе   \n",
       "\n",
       "                                             address  number  \\\n",
       "0         город москва, улица егора абакумова, дом 9      48   \n",
       "1  город москва, улица талалихина, дом 2/1, корпус 1      35   \n",
       "2          город москва, абельмановская улица, дом 6      95   \n",
       "3            город москва, абрамцевская улица, дом 1      40   \n",
       "4            город москва, абрамцевская улица, дом 1      40   \n",
       "\n",
       "                  street             street_new  \\\n",
       "0  улица егора абакумова  улица егора абакумова   \n",
       "1       улица талалихина       улица талалихина   \n",
       "2   абельмановская улица   абельмановская улица   \n",
       "3     абрамцевская улица     абрамцевская улица   \n",
       "4     абрамцевская улица     абрамцевская улица   \n",
       "\n",
       "                                  adm_area           district  \n",
       "0  Северо-Восточный административный округ  Ярославский район  \n",
       "1       Центральный административный округ    Таганский район  \n",
       "2                                      NaN                NaN  \n",
       "3  Северо-Восточный административный округ    район Лианозово  \n",
       "4  Северо-Восточный административный округ    район Лианозово  "
      ]
     },
     "execution_count": 47,
     "metadata": {},
     "output_type": "execute_result"
    }
   ],
   "source": [
    "data = rest_data.merge(df_clear, how='left', on='address').drop(columns=['ID', 'Address']) \\\n",
    "    .rename(columns={'AdmArea': 'adm_area', 'District': 'district'})\n",
    "data.head()"
   ]
  },
  {
   "cell_type": "code",
   "execution_count": 48,
   "id": "038e62f1",
   "metadata": {},
   "outputs": [
    {
     "data": {
      "text/plain": [
       "3.8983724656362564"
      ]
     },
     "execution_count": 48,
     "metadata": {},
     "output_type": "execute_result"
    }
   ],
   "source": [
    "data['district'].isna().sum() / data.shape[0] *100"
   ]
  },
  {
   "cell_type": "markdown",
   "id": "bd2f8b04",
   "metadata": {},
   "source": [
    "Получили 4% процента пропущенных значений. Объем пропусков позволяет проводить анализ дальше"
   ]
  },
  {
   "cell_type": "code",
   "execution_count": 49,
   "id": "39393d4c",
   "metadata": {},
   "outputs": [
    {
     "data": {
      "text/html": [
       "<div>\n",
       "<style scoped>\n",
       "    .dataframe tbody tr th:only-of-type {\n",
       "        vertical-align: middle;\n",
       "    }\n",
       "\n",
       "    .dataframe tbody tr th {\n",
       "        vertical-align: top;\n",
       "    }\n",
       "\n",
       "    .dataframe thead th {\n",
       "        text-align: right;\n",
       "    }\n",
       "</style>\n",
       "<table border=\"1\" class=\"dataframe\">\n",
       "  <thead>\n",
       "    <tr style=\"text-align: right;\">\n",
       "      <th></th>\n",
       "      <th>street_new</th>\n",
       "      <th>district</th>\n",
       "      <th>count</th>\n",
       "    </tr>\n",
       "  </thead>\n",
       "  <tbody>\n",
       "    <tr>\n",
       "      <th>1006</th>\n",
       "      <td>пресненская набережная</td>\n",
       "      <td>Пресненский район</td>\n",
       "      <td>7026</td>\n",
       "    </tr>\n",
       "    <tr>\n",
       "      <th>1840</th>\n",
       "      <td>ходынский бульвар</td>\n",
       "      <td>Хорошёвский район</td>\n",
       "      <td>4970</td>\n",
       "    </tr>\n",
       "    <tr>\n",
       "      <th>1056</th>\n",
       "      <td>проспект мира</td>\n",
       "      <td>район Свиблово</td>\n",
       "      <td>3302</td>\n",
       "    </tr>\n",
       "    <tr>\n",
       "      <th>589</th>\n",
       "      <td>кировоградская улица</td>\n",
       "      <td>район Чертаново Центральное</td>\n",
       "      <td>3120</td>\n",
       "    </tr>\n",
       "    <tr>\n",
       "      <th>1550</th>\n",
       "      <td>улица ленинская слобода</td>\n",
       "      <td>Даниловский район</td>\n",
       "      <td>2421</td>\n",
       "    </tr>\n",
       "    <tr>\n",
       "      <th>793</th>\n",
       "      <td>мытная улица</td>\n",
       "      <td>Даниловский район</td>\n",
       "      <td>1933</td>\n",
       "    </tr>\n",
       "    <tr>\n",
       "      <th>976</th>\n",
       "      <td>площадь киевского вокзала</td>\n",
       "      <td>район Дорогомилово</td>\n",
       "      <td>1834</td>\n",
       "    </tr>\n",
       "    <tr>\n",
       "      <th>1917</th>\n",
       "      <td>ярцевская улица</td>\n",
       "      <td>район Кунцево</td>\n",
       "      <td>1467</td>\n",
       "    </tr>\n",
       "    <tr>\n",
       "      <th>1804</th>\n",
       "      <td>усачёва улица</td>\n",
       "      <td>район Хамовники</td>\n",
       "      <td>1431</td>\n",
       "    </tr>\n",
       "    <tr>\n",
       "      <th>674</th>\n",
       "      <td>ленинградское шоссе</td>\n",
       "      <td>Войковский район</td>\n",
       "      <td>1429</td>\n",
       "    </tr>\n",
       "  </tbody>\n",
       "</table>\n",
       "</div>"
      ],
      "text/plain": [
       "                     street_new                     district  count\n",
       "1006     пресненская набережная            Пресненский район   7026\n",
       "1840          ходынский бульвар            Хорошёвский район   4970\n",
       "1056              проспект мира               район Свиблово   3302\n",
       "589        кировоградская улица  район Чертаново Центральное   3120\n",
       "1550    улица ленинская слобода            Даниловский район   2421\n",
       "793                мытная улица            Даниловский район   1933\n",
       "976   площадь киевского вокзала           район Дорогомилово   1834\n",
       "1917            ярцевская улица                район Кунцево   1467\n",
       "1804              усачёва улица              район Хамовники   1431\n",
       "674         ленинградское шоссе             Войковский район   1429"
      ]
     },
     "execution_count": 49,
     "metadata": {},
     "output_type": "execute_result"
    }
   ],
   "source": [
    "top_10 = data.groupby(['street_new', 'district'], as_index=False).agg({'id': 'count'}) \\\n",
    "    .sort_values(by='id', ascending=False) \\\n",
    "    .rename(columns={'id': 'count'}) \\\n",
    "    .head(10)\n",
    "top_10"
   ]
  },
  {
   "cell_type": "code",
   "execution_count": 50,
   "id": "0f4d77f6",
   "metadata": {},
   "outputs": [
    {
     "data": {
      "text/plain": [
       "['Пресненский район',\n",
       " 'Хорошёвский район',\n",
       " 'район Свиблово',\n",
       " 'район Чертаново Центральное',\n",
       " 'Даниловский район',\n",
       " 'Даниловский район',\n",
       " 'район Дорогомилово',\n",
       " 'район Кунцево',\n",
       " 'район Хамовники',\n",
       " 'Войковский район']"
      ]
     },
     "execution_count": 50,
     "metadata": {},
     "output_type": "execute_result"
    }
   ],
   "source": [
    "top_10['district'].tolist()"
   ]
  },
  {
   "cell_type": "markdown",
   "id": "2aa2e2aa",
   "metadata": {},
   "source": [
    "**Получили топ 10 районов с самой большой концентрацией пищевых заведений**\n",
    "\n",
    "'Пресненский район'\n",
    "\n",
    "'Хорошёвский район',\n",
    "\n",
    "'район Свиблово',\n",
    "\n",
    "'район Чертаново Центральное',\n",
    "\n",
    "'Даниловский район',\n",
    "\n",
    "'Даниловский район',\n",
    "\n",
    "'район Дорогомилово',\n",
    "\n",
    "'район Кунцево',\n",
    "\n",
    "'район Хамовники',\n",
    "\n",
    "'Войковский район'"
   ]
  },
  {
   "cell_type": "code",
   "execution_count": 51,
   "id": "d28543a7",
   "metadata": {},
   "outputs": [
    {
     "data": {
      "image/png": "[encoded data removed]",
      "text/plain": [
       "<Figure size 1008x504 with 1 Axes>"
      ]
     },
     "metadata": {
      "needs_background": "light"
     },
     "output_type": "display_data"
    }
   ],
   "source": [
    "plt.figure(figsize=(14, 7))\n",
    "sns.set_palette('dark')\n",
    "sns.set_context(\"notebook\", font_scale=1.25)\n",
    "sns.barplot(x='count', y='street_new', data=top_10) \\\n",
    "    .set(title='Топ-10 улиц по количеству объектов общественного питания', xlabel='Количиство объектов',\n",
    "         ylabel='Название улиц')\n",
    "plt.xticks(rotation=90);"
   ]
  },
  {
   "cell_type": "markdown",
   "id": "3d44d5c4",
   "metadata": {},
   "source": [
    "### Найдем число улиц с одним объектом общественного питания. Воспользуемся внешней информацией и ответим на вопрос — в каких районах Москвы находятся эти улицы?"
   ]
  },
  {
   "cell_type": "code",
   "execution_count": 52,
   "id": "2cabd9a5",
   "metadata": {},
   "outputs": [],
   "source": [
    "top_1 = data.groupby(['street_new', 'district'], as_index=False).agg({'id': 'count'}) \\\n",
    "    .sort_values(by='id', ascending=True) \\\n",
    "    .rename(columns={'id': 'count'}) \\\n",
    "    .query('count == 1') \\\n",
    "    .drop_duplicates()"
   ]
  },
  {
   "cell_type": "code",
   "execution_count": 53,
   "id": "41448462",
   "metadata": {},
   "outputs": [
    {
     "data": {
      "text/plain": [
       "127"
      ]
     },
     "execution_count": 53,
     "metadata": {},
     "output_type": "execute_result"
    }
   ],
   "source": [
    "top_1['district'].nunique()"
   ]
  },
  {
   "cell_type": "code",
   "execution_count": 54,
   "id": "f40087c4",
   "metadata": {},
   "outputs": [
    {
     "data": {
      "text/plain": [
       "['район Аэропорт',\n",
       " 'поселение Краснопахорское',\n",
       " 'район Южное Тушино',\n",
       " 'Таганский район',\n",
       " 'район Бирюлёво Восточное',\n",
       " 'район Митино',\n",
       " 'район Зюзино',\n",
       " 'Мещанский район',\n",
       " 'Пресненский район',\n",
       " 'район Беговой',\n",
       " 'район Хамовники',\n",
       " 'район Очаково-Матвеевское',\n",
       " 'район Сокол',\n",
       " 'Тверской район',\n",
       " 'Бабушкинский район',\n",
       " 'поселение Троицк',\n",
       " 'район Дорогомилово',\n",
       " 'район Арбат',\n",
       " 'район Соколиная Гора',\n",
       " 'район Марьино',\n",
       " 'Басманный район',\n",
       " 'район Крылатское',\n",
       " 'Нижегородский район',\n",
       " 'район Строгино',\n",
       " 'район Южное Бутово',\n",
       " 'район Новогиреево',\n",
       " 'Останкинский район',\n",
       " 'Южнопортовый район',\n",
       " 'район Кунцево',\n",
       " 'район Хорошёво-Мнёвники',\n",
       " 'Лосиноостровский район',\n",
       " 'район Савёлки',\n",
       " 'поселение Марушкинское',\n",
       " 'район Кузьминки',\n",
       " 'район Внуково',\n",
       " 'район Марьина Роща',\n",
       " 'район Отрадное',\n",
       " 'район Косино-Ухтомский',\n",
       " 'район Выхино-Жулебино',\n",
       " 'район Лефортово',\n",
       " 'район Текстильщики',\n",
       " 'район Коньково',\n",
       " 'Бескудниковский район',\n",
       " 'Красносельский район',\n",
       " 'район Старое Крюково',\n",
       " 'Головинский район',\n",
       " 'Можайский район',\n",
       " 'район Сокольники',\n",
       " 'район Солнцево',\n",
       " 'район Левобережный',\n",
       " 'Бутырский район',\n",
       " 'район Свиблово',\n",
       " 'поселение Вороновское',\n",
       " 'район Некрасовка',\n",
       " 'район Преображенское',\n",
       " 'район Западное Дегунино',\n",
       " 'поселение Первомайское',\n",
       " 'Алексеевский район',\n",
       " 'район Ростокино',\n",
       " 'район Филёвский Парк',\n",
       " 'Ломоносовский район',\n",
       " 'район Измайлово',\n",
       " 'район Крюково',\n",
       " 'Рязанский район',\n",
       " 'район Ивановское',\n",
       " 'район Черёмушки',\n",
       " 'район Покровское-Стрешнево',\n",
       " 'район Восточное Измайлово',\n",
       " 'Дмитровский район',\n",
       " 'район Якиманка',\n",
       " 'Донской район',\n",
       " 'район Орехово-Борисово Северное',\n",
       " 'поселение Внуковское',\n",
       " 'район Нагатинский Затон',\n",
       " 'район Щукино',\n",
       " 'район Богородское',\n",
       " 'Войковский район',\n",
       " 'Даниловский район',\n",
       " 'район Марфино',\n",
       " 'район Орехово-Борисово Южное',\n",
       " 'район Царицыно',\n",
       " 'Тимирязевский район',\n",
       " 'район Чертаново Центральное',\n",
       " 'район Куркино',\n",
       " 'Савёловский район',\n",
       " 'район Гольяново',\n",
       " 'район Метрогородок',\n",
       " 'район Котловка',\n",
       " 'район Проспект Вернадского',\n",
       " 'Ярославский район',\n",
       " 'Хорошёвский район',\n",
       " 'район Силино',\n",
       " 'район Фили-Давыдково',\n",
       " 'поселение Сосенское',\n",
       " 'район Люблино',\n",
       " 'район Ховрино',\n",
       " 'район Замоскворечье',\n",
       " 'район Вешняки',\n",
       " 'район Ясенево',\n",
       " 'район Северное Медведково',\n",
       " 'Нагорный район',\n",
       " 'поселение Роговское',\n",
       " 'поселение Щаповское',\n",
       " 'Обручевский район',\n",
       " 'район Северное Бутово',\n",
       " 'район Москворечье-Сабурово',\n",
       " 'район Коптево',\n",
       " 'район Лианозово',\n",
       " 'поселение Кленовское',\n",
       " 'район Восточный',\n",
       " 'поселение Щербинка',\n",
       " 'Алтуфьевский район',\n",
       " 'район Бирюлёво Западное',\n",
       " 'район Южное Медведково',\n",
       " 'район Капотня',\n",
       " 'поселение Московский',\n",
       " 'район Северное Тушино',\n",
       " 'район Чертаново Южное',\n",
       " 'район Печатники',\n",
       " 'район Раменки',\n",
       " 'район Ново-Переделкино',\n",
       " 'поселение Десеновское',\n",
       " 'район Северный',\n",
       " 'поселение Воскресенское',\n",
       " 'район Северное Измайлово',\n",
       " 'район Перово',\n",
       " 'район Нагатино-Садовники']"
      ]
     },
     "execution_count": 54,
     "metadata": {},
     "output_type": "execute_result"
    }
   ],
   "source": [
    "top_1['district'].unique().tolist()"
   ]
  },
  {
   "cell_type": "markdown",
   "id": "7bcb2738",
   "metadata": {},
   "source": [
    "**Получили список из 127 районов, в которых на отдельных улицах наблюдается низкая плотность объектов общепита**"
   ]
  },
  {
   "cell_type": "markdown",
   "id": "50582df1",
   "metadata": {},
   "source": [
    "## Вывод"
   ]
  },
  {
   "cell_type": "markdown",
   "id": "02102b5d",
   "metadata": {},
   "source": [
    "Отталкиваясь от концепции проекта, не сетевое кафе с ииновационными идеями, которое требует больших инвестиций в технологическое обеспечение и по итогу анализа распределения мест общипита, можно сделать следующие рекомендации:\n",
    "\n",
    "1. Размещать кафе целесобразней на одной из улиц топ_10. Так как эти улицы хорошо известны в среде людей любящих посищать кафе и новая идея кафе может привлечь большое количество поситителей.\n",
    "2. Организовать кафе на 40 - 50 посадочных мест, что в целом будем соответствовать средниму числу посадочных мест, так же это не потребует значительных площадей для аренды, которая стоит дорого в центральном округе Москвы.\n"
   ]
  }
 ],
 "metadata": {
  "ExecuteTimeLog": [
   {
    "duration": 1236,
    "start_time": "2022-07-12T22:07:05.595Z"
   },
   {
    "duration": 3,
    "start_time": "2022-07-12T22:07:06.833Z"
   },
   {
    "duration": 67,
    "start_time": "2022-07-12T22:07:06.846Z"
   },
   {
    "duration": 16,
    "start_time": "2022-07-12T22:07:06.916Z"
   },
   {
    "duration": 31,
    "start_time": "2022-07-12T22:07:06.934Z"
   },
   {
    "duration": 13,
    "start_time": "2022-07-12T22:07:06.968Z"
   },
   {
    "duration": 19,
    "start_time": "2022-07-12T22:07:06.982Z"
   },
   {
    "duration": 5,
    "start_time": "2022-07-12T22:07:07.205Z"
   },
   {
    "duration": 21,
    "start_time": "2022-07-12T22:07:07.396Z"
   },
   {
    "duration": 14,
    "start_time": "2022-07-12T22:07:08.475Z"
   },
   {
    "duration": 209,
    "start_time": "2022-07-12T22:07:08.675Z"
   },
   {
    "duration": 15,
    "start_time": "2022-07-12T22:07:09.441Z"
   },
   {
    "duration": 193,
    "start_time": "2022-07-12T22:07:09.635Z"
   },
   {
    "duration": 17,
    "start_time": "2022-07-12T22:07:10.367Z"
   },
   {
    "duration": 144,
    "start_time": "2022-07-12T22:07:10.559Z"
   },
   {
    "duration": 9,
    "start_time": "2022-07-12T22:07:11.358Z"
   },
   {
    "duration": 14,
    "start_time": "2022-07-12T22:07:11.542Z"
   },
   {
    "duration": 192,
    "start_time": "2022-07-12T22:07:11.738Z"
   },
   {
    "duration": 6,
    "start_time": "2022-07-12T22:07:12.466Z"
   },
   {
    "duration": 22,
    "start_time": "2022-07-12T22:07:12.664Z"
   },
   {
    "duration": 515,
    "start_time": "2022-07-12T22:07:12.843Z"
   },
   {
    "duration": 339,
    "start_time": "2022-07-12T22:07:13.360Z"
   },
   {
    "duration": 10,
    "start_time": "2022-07-12T22:07:13.701Z"
   },
   {
    "duration": 135,
    "start_time": "2022-07-12T22:07:13.713Z"
   },
   {
    "duration": 9,
    "start_time": "2022-07-12T22:07:14.194Z"
   },
   {
    "duration": 13,
    "start_time": "2022-07-12T22:07:14.389Z"
   },
   {
    "duration": 190,
    "start_time": "2022-07-12T22:07:14.577Z"
   },
   {
    "duration": 44,
    "start_time": "2022-07-12T22:07:19.458Z"
   },
   {
    "duration": 12,
    "start_time": "2022-07-12T22:07:19.655Z"
   },
   {
    "duration": 16,
    "start_time": "2022-07-12T22:07:54.910Z"
   },
   {
    "duration": 125,
    "start_time": "2022-07-12T22:08:38.050Z"
   },
   {
    "duration": 15,
    "start_time": "2022-07-12T22:08:42.025Z"
   },
   {
    "duration": 48,
    "start_time": "2022-07-14T09:07:40.226Z"
   },
   {
    "duration": 1550,
    "start_time": "2022-07-14T09:08:00.581Z"
   },
   {
    "duration": 5,
    "start_time": "2022-07-14T09:08:02.134Z"
   },
   {
    "duration": 587,
    "start_time": "2022-07-14T09:08:02.143Z"
   },
   {
    "duration": 19,
    "start_time": "2022-07-14T09:08:02.732Z"
   },
   {
    "duration": 47,
    "start_time": "2022-07-14T09:08:02.753Z"
   },
   {
    "duration": 11,
    "start_time": "2022-07-14T09:08:02.801Z"
   },
   {
    "duration": 29,
    "start_time": "2022-07-14T09:08:02.814Z"
   },
   {
    "duration": 16,
    "start_time": "2022-07-14T09:08:02.845Z"
   },
   {
    "duration": 27,
    "start_time": "2022-07-14T09:08:02.863Z"
   },
   {
    "duration": 26,
    "start_time": "2022-07-14T09:08:02.893Z"
   },
   {
    "duration": 4,
    "start_time": "2022-07-14T09:08:02.921Z"
   },
   {
    "duration": 16,
    "start_time": "2022-07-14T09:08:02.927Z"
   },
   {
    "duration": 36,
    "start_time": "2022-07-14T09:08:02.945Z"
   },
   {
    "duration": 13,
    "start_time": "2022-07-14T09:08:02.983Z"
   },
   {
    "duration": 16,
    "start_time": "2022-07-14T09:08:02.998Z"
   },
   {
    "duration": 9,
    "start_time": "2022-07-14T09:08:03.016Z"
   },
   {
    "duration": 14,
    "start_time": "2022-07-14T09:08:03.027Z"
   },
   {
    "duration": 12,
    "start_time": "2022-07-14T09:08:03.043Z"
   },
   {
    "duration": 247,
    "start_time": "2022-07-14T09:08:03.056Z"
   },
   {
    "duration": 12,
    "start_time": "2022-07-14T09:08:03.306Z"
   },
   {
    "duration": 221,
    "start_time": "2022-07-14T09:08:03.320Z"
   },
   {
    "duration": 17,
    "start_time": "2022-07-14T09:08:03.543Z"
   },
   {
    "duration": 162,
    "start_time": "2022-07-14T09:08:03.561Z"
   },
   {
    "duration": 10,
    "start_time": "2022-07-14T09:08:03.724Z"
   },
   {
    "duration": 75,
    "start_time": "2022-07-14T09:08:03.736Z"
   },
   {
    "duration": 245,
    "start_time": "2022-07-14T09:08:03.814Z"
   },
   {
    "duration": 7,
    "start_time": "2022-07-14T09:08:04.061Z"
   },
   {
    "duration": 46,
    "start_time": "2022-07-14T09:08:04.073Z"
   },
   {
    "duration": 735,
    "start_time": "2022-07-14T09:08:04.121Z"
   },
   {
    "duration": 318,
    "start_time": "2022-07-14T09:08:04.859Z"
   },
   {
    "duration": 8,
    "start_time": "2022-07-14T09:08:05.179Z"
   },
   {
    "duration": 161,
    "start_time": "2022-07-14T09:08:05.188Z"
   },
   {
    "duration": 9,
    "start_time": "2022-07-14T09:08:05.351Z"
   },
   {
    "duration": 25,
    "start_time": "2022-07-14T09:08:05.362Z"
   },
   {
    "duration": 200,
    "start_time": "2022-07-14T09:08:05.389Z"
   },
   {
    "duration": 8,
    "start_time": "2022-07-14T09:08:05.591Z"
   },
   {
    "duration": 40,
    "start_time": "2022-07-14T09:08:05.610Z"
   },
   {
    "duration": 17,
    "start_time": "2022-07-14T09:08:05.652Z"
   },
   {
    "duration": 25,
    "start_time": "2022-07-14T09:08:05.671Z"
   },
   {
    "duration": 194,
    "start_time": "2022-07-14T09:08:05.698Z"
   },
   {
    "duration": 19,
    "start_time": "2022-07-14T09:08:05.894Z"
   },
   {
    "duration": 29,
    "start_time": "2022-07-14T09:08:05.915Z"
   },
   {
    "duration": 2518,
    "start_time": "2022-07-14T09:08:05.946Z"
   },
   {
    "duration": 13,
    "start_time": "2022-07-14T09:08:08.466Z"
   },
   {
    "duration": 20,
    "start_time": "2022-07-14T09:08:08.481Z"
   },
   {
    "duration": 42,
    "start_time": "2022-07-14T09:08:08.503Z"
   },
   {
    "duration": 83,
    "start_time": "2022-07-14T09:08:08.548Z"
   },
   {
    "duration": 12,
    "start_time": "2022-07-14T09:08:08.633Z"
   },
   {
    "duration": 33,
    "start_time": "2022-07-14T09:08:08.647Z"
   },
   {
    "duration": 29,
    "start_time": "2022-07-14T09:08:08.682Z"
   },
   {
    "duration": 296,
    "start_time": "2022-07-14T09:08:08.714Z"
   },
   {
    "duration": 42,
    "start_time": "2022-07-14T09:08:09.012Z"
   },
   {
    "duration": 4,
    "start_time": "2022-07-14T09:08:09.057Z"
   },
   {
    "duration": 7,
    "start_time": "2022-07-14T09:08:09.063Z"
   },
   {
    "duration": 13,
    "start_time": "2022-07-14T09:08:41.412Z"
   },
   {
    "duration": 111,
    "start_time": "2022-07-14T09:09:06.732Z"
   },
   {
    "duration": 17,
    "start_time": "2022-07-14T09:09:32.209Z"
   },
   {
    "duration": 14,
    "start_time": "2022-07-14T09:10:16.537Z"
   },
   {
    "duration": 19,
    "start_time": "2022-07-14T09:10:36.785Z"
   },
   {
    "duration": 11,
    "start_time": "2022-07-14T09:10:51.085Z"
   },
   {
    "duration": 16,
    "start_time": "2022-07-14T09:12:14.242Z"
   },
   {
    "duration": 20,
    "start_time": "2022-07-14T09:13:15.010Z"
   },
   {
    "duration": 13,
    "start_time": "2022-07-14T09:14:00.636Z"
   },
   {
    "duration": 13,
    "start_time": "2022-07-14T09:14:20.140Z"
   },
   {
    "duration": 13,
    "start_time": "2022-07-14T09:15:22.423Z"
   },
   {
    "duration": 10,
    "start_time": "2022-07-14T09:15:42.959Z"
   },
   {
    "duration": 14,
    "start_time": "2022-07-14T09:15:59.940Z"
   },
   {
    "duration": 12,
    "start_time": "2022-07-14T09:18:37.210Z"
   },
   {
    "duration": 24,
    "start_time": "2022-07-14T09:21:09.653Z"
   },
   {
    "duration": 22,
    "start_time": "2022-07-14T09:21:15.933Z"
   },
   {
    "duration": 12,
    "start_time": "2022-07-14T09:22:12.189Z"
   },
   {
    "duration": 12,
    "start_time": "2022-07-14T09:22:17.902Z"
   },
   {
    "duration": 20,
    "start_time": "2022-07-14T09:23:20.094Z"
   },
   {
    "duration": 21,
    "start_time": "2022-07-14T09:23:42.409Z"
   },
   {
    "duration": 18,
    "start_time": "2022-07-14T09:23:47.033Z"
   },
   {
    "duration": 199,
    "start_time": "2022-07-14T09:23:58.671Z"
   },
   {
    "duration": 223,
    "start_time": "2022-07-14T09:24:23.736Z"
   },
   {
    "duration": 56,
    "start_time": "2022-07-14T09:25:06.747Z"
   },
   {
    "duration": 297,
    "start_time": "2022-07-14T09:25:20.352Z"
   },
   {
    "duration": 203,
    "start_time": "2022-07-14T09:29:20.155Z"
   },
   {
    "duration": 200,
    "start_time": "2022-07-14T09:31:00.155Z"
   }
  ],
  "kernelspec": {
   "display_name": "Python 3 (ipykernel)",
   "language": "python",
   "name": "python3"
  },
  "language_info": {
   "codemirror_mode": {
    "name": "ipython",
    "version": 3
   },
   "file_extension": ".py",
   "mimetype": "text/x-python",
   "name": "python",
   "nbconvert_exporter": "python",
   "pygments_lexer": "ipython3",
   "version": "3.9.7"
  },
  "toc": {
   "base_numbering": "1",
   "nav_menu": {},
   "number_sections": true,
   "sideBar": true,
   "skip_h1_title": true,
   "title_cell": "Table of Contents",
   "title_sidebar": "Contents",
   "toc_cell": false,
   "toc_position": {
    "height": "749px",
    "left": "249px",
    "top": "111.125px",
    "width": "407px"
   },
   "toc_section_display": true,
   "toc_window_display": true
  },
  "varInspector": {
   "cols": {
    "lenName": 16,
    "lenType": 16,
    "lenVar": 40
   },
   "kernels_config": {
    "python": {
     "delete_cmd_postfix": "",
     "delete_cmd_prefix": "del ",
     "library": "var_list.py",
     "varRefreshCmd": "print(var_dic_list())"
    },
    "r": {
     "delete_cmd_postfix": ") ",
     "delete_cmd_prefix": "rm(",
     "library": "var_list.r",
     "varRefreshCmd": "cat(var_dic_list()) "
    }
   },
   "types_to_exclude": [
    "module",
    "function",
    "builtin_function_or_method",
    "instance",
    "_Feature"
   ],
   "window_display": false
  }
 },
 "nbformat": 4,
 "nbformat_minor": 5
}
