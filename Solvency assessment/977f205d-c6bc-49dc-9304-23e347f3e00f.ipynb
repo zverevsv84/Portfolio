{
 "cells": [
  {
   "cell_type": "markdown",
   "id": "9e077291",
   "metadata": {},
   "source": [
    "# Кредитная истоия. Исследование надежности заемщиков"
   ]
  },
  {
   "cell_type": "markdown",
   "id": "6f13b7de",
   "metadata": {},
   "source": [
    "**Цель исследования** - в данном иследовании произведем оценку влияния семейного положение и количество детей клиента на факт погашения кредита в срок, ответив на следующие вопросы:\n",
    "\n",
    "* Есть ли зависимость между количеством детей и возвратом кредита в срок?\n",
    "* Есть ли зависимость между семейным положением и возвратом кредита в срок?\n",
    "* Есть ли зависимость между уровнем дохода и возвратом кредита в срок?\n",
    "* Как разные цели кредита влияют на его возврат в срок?\n",
    "\n",
    "    \n",
    "**Входные данные от банка** — статистика о платёжеспособности клиентов - 'data.csv'.\n",
    "\n",
    "Результаты исследования необходимы для построения модели кредитного скоринга — специальной системы, которая оценивает способность потенциального заёмщика вернуть кредит банку.\n",
    "   "
   ]
  },
  {
   "cell_type": "markdown",
   "id": "27e3eeb5",
   "metadata": {},
   "source": [
    "## Обзор данных"
   ]
  },
  {
   "cell_type": "markdown",
   "id": "8d6caf48",
   "metadata": {},
   "source": [
    "Импорт необходимых библиотек и оценка преоставленных данных."
   ]
  },
  {
   "cell_type": "code",
   "execution_count": 1,
   "id": "e8be734f",
   "metadata": {},
   "outputs": [],
   "source": [
    "import pandas as pd"
   ]
  },
  {
   "cell_type": "markdown",
   "id": "a35d49d4",
   "metadata": {},
   "source": [
    "Сохраним предоставленные данные банком в df"
   ]
  },
  {
   "cell_type": "code",
   "execution_count": 2,
   "id": "49c66946",
   "metadata": {},
   "outputs": [],
   "source": [
    "df = pd.read_csv('data.csv')"
   ]
  },
  {
   "cell_type": "markdown",
   "id": "78028e5a",
   "metadata": {},
   "source": [
    "Оценим полученные данные методом head и tail"
   ]
  },
  {
   "cell_type": "code",
   "execution_count": 3,
   "id": "2b9a092b",
   "metadata": {},
   "outputs": [
    {
     "data": {
      "text/html": [
       "<div>\n",
       "<style scoped>\n",
       "    .dataframe tbody tr th:only-of-type {\n",
       "        vertical-align: middle;\n",
       "    }\n",
       "\n",
       "    .dataframe tbody tr th {\n",
       "        vertical-align: top;\n",
       "    }\n",
       "\n",
       "    .dataframe thead th {\n",
       "        text-align: right;\n",
       "    }\n",
       "</style>\n",
       "<table border=\"1\" class=\"dataframe\">\n",
       "  <thead>\n",
       "    <tr style=\"text-align: right;\">\n",
       "      <th></th>\n",
       "      <th>children</th>\n",
       "      <th>days_employed</th>\n",
       "      <th>dob_years</th>\n",
       "      <th>education</th>\n",
       "      <th>education_id</th>\n",
       "      <th>family_status</th>\n",
       "      <th>family_status_id</th>\n",
       "      <th>gender</th>\n",
       "      <th>income_type</th>\n",
       "      <th>debt</th>\n",
       "      <th>total_income</th>\n",
       "      <th>purpose</th>\n",
       "    </tr>\n",
       "  </thead>\n",
       "  <tbody>\n",
       "    <tr>\n",
       "      <td>0</td>\n",
       "      <td>1</td>\n",
       "      <td>-8437.673028</td>\n",
       "      <td>42</td>\n",
       "      <td>высшее</td>\n",
       "      <td>0</td>\n",
       "      <td>женат / замужем</td>\n",
       "      <td>0</td>\n",
       "      <td>F</td>\n",
       "      <td>сотрудник</td>\n",
       "      <td>0</td>\n",
       "      <td>253875.639453</td>\n",
       "      <td>покупка жилья</td>\n",
       "    </tr>\n",
       "    <tr>\n",
       "      <td>1</td>\n",
       "      <td>1</td>\n",
       "      <td>-4024.803754</td>\n",
       "      <td>36</td>\n",
       "      <td>среднее</td>\n",
       "      <td>1</td>\n",
       "      <td>женат / замужем</td>\n",
       "      <td>0</td>\n",
       "      <td>F</td>\n",
       "      <td>сотрудник</td>\n",
       "      <td>0</td>\n",
       "      <td>112080.014102</td>\n",
       "      <td>приобретение автомобиля</td>\n",
       "    </tr>\n",
       "    <tr>\n",
       "      <td>2</td>\n",
       "      <td>0</td>\n",
       "      <td>-5623.422610</td>\n",
       "      <td>33</td>\n",
       "      <td>Среднее</td>\n",
       "      <td>1</td>\n",
       "      <td>женат / замужем</td>\n",
       "      <td>0</td>\n",
       "      <td>M</td>\n",
       "      <td>сотрудник</td>\n",
       "      <td>0</td>\n",
       "      <td>145885.952297</td>\n",
       "      <td>покупка жилья</td>\n",
       "    </tr>\n",
       "    <tr>\n",
       "      <td>3</td>\n",
       "      <td>3</td>\n",
       "      <td>-4124.747207</td>\n",
       "      <td>32</td>\n",
       "      <td>среднее</td>\n",
       "      <td>1</td>\n",
       "      <td>женат / замужем</td>\n",
       "      <td>0</td>\n",
       "      <td>M</td>\n",
       "      <td>сотрудник</td>\n",
       "      <td>0</td>\n",
       "      <td>267628.550329</td>\n",
       "      <td>дополнительное образование</td>\n",
       "    </tr>\n",
       "    <tr>\n",
       "      <td>4</td>\n",
       "      <td>0</td>\n",
       "      <td>340266.072047</td>\n",
       "      <td>53</td>\n",
       "      <td>среднее</td>\n",
       "      <td>1</td>\n",
       "      <td>гражданский брак</td>\n",
       "      <td>1</td>\n",
       "      <td>F</td>\n",
       "      <td>пенсионер</td>\n",
       "      <td>0</td>\n",
       "      <td>158616.077870</td>\n",
       "      <td>сыграть свадьбу</td>\n",
       "    </tr>\n",
       "    <tr>\n",
       "      <td>5</td>\n",
       "      <td>0</td>\n",
       "      <td>-926.185831</td>\n",
       "      <td>27</td>\n",
       "      <td>высшее</td>\n",
       "      <td>0</td>\n",
       "      <td>гражданский брак</td>\n",
       "      <td>1</td>\n",
       "      <td>M</td>\n",
       "      <td>компаньон</td>\n",
       "      <td>0</td>\n",
       "      <td>255763.565419</td>\n",
       "      <td>покупка жилья</td>\n",
       "    </tr>\n",
       "    <tr>\n",
       "      <td>6</td>\n",
       "      <td>0</td>\n",
       "      <td>-2879.202052</td>\n",
       "      <td>43</td>\n",
       "      <td>высшее</td>\n",
       "      <td>0</td>\n",
       "      <td>женат / замужем</td>\n",
       "      <td>0</td>\n",
       "      <td>F</td>\n",
       "      <td>компаньон</td>\n",
       "      <td>0</td>\n",
       "      <td>240525.971920</td>\n",
       "      <td>операции с жильем</td>\n",
       "    </tr>\n",
       "    <tr>\n",
       "      <td>7</td>\n",
       "      <td>0</td>\n",
       "      <td>-152.779569</td>\n",
       "      <td>50</td>\n",
       "      <td>СРЕДНЕЕ</td>\n",
       "      <td>1</td>\n",
       "      <td>женат / замужем</td>\n",
       "      <td>0</td>\n",
       "      <td>M</td>\n",
       "      <td>сотрудник</td>\n",
       "      <td>0</td>\n",
       "      <td>135823.934197</td>\n",
       "      <td>образование</td>\n",
       "    </tr>\n",
       "    <tr>\n",
       "      <td>8</td>\n",
       "      <td>2</td>\n",
       "      <td>-6929.865299</td>\n",
       "      <td>35</td>\n",
       "      <td>ВЫСШЕЕ</td>\n",
       "      <td>0</td>\n",
       "      <td>гражданский брак</td>\n",
       "      <td>1</td>\n",
       "      <td>F</td>\n",
       "      <td>сотрудник</td>\n",
       "      <td>0</td>\n",
       "      <td>95856.832424</td>\n",
       "      <td>на проведение свадьбы</td>\n",
       "    </tr>\n",
       "    <tr>\n",
       "      <td>9</td>\n",
       "      <td>0</td>\n",
       "      <td>-2188.756445</td>\n",
       "      <td>41</td>\n",
       "      <td>среднее</td>\n",
       "      <td>1</td>\n",
       "      <td>женат / замужем</td>\n",
       "      <td>0</td>\n",
       "      <td>M</td>\n",
       "      <td>сотрудник</td>\n",
       "      <td>0</td>\n",
       "      <td>144425.938277</td>\n",
       "      <td>покупка жилья для семьи</td>\n",
       "    </tr>\n",
       "  </tbody>\n",
       "</table>\n",
       "</div>"
      ],
      "text/plain": [
       "   children  days_employed  dob_years education  education_id  \\\n",
       "0         1   -8437.673028         42    высшее             0   \n",
       "1         1   -4024.803754         36   среднее             1   \n",
       "2         0   -5623.422610         33   Среднее             1   \n",
       "3         3   -4124.747207         32   среднее             1   \n",
       "4         0  340266.072047         53   среднее             1   \n",
       "5         0    -926.185831         27    высшее             0   \n",
       "6         0   -2879.202052         43    высшее             0   \n",
       "7         0    -152.779569         50   СРЕДНЕЕ             1   \n",
       "8         2   -6929.865299         35    ВЫСШЕЕ             0   \n",
       "9         0   -2188.756445         41   среднее             1   \n",
       "\n",
       "      family_status  family_status_id gender income_type  debt   total_income  \\\n",
       "0   женат / замужем                 0      F   сотрудник     0  253875.639453   \n",
       "1   женат / замужем                 0      F   сотрудник     0  112080.014102   \n",
       "2   женат / замужем                 0      M   сотрудник     0  145885.952297   \n",
       "3   женат / замужем                 0      M   сотрудник     0  267628.550329   \n",
       "4  гражданский брак                 1      F   пенсионер     0  158616.077870   \n",
       "5  гражданский брак                 1      M   компаньон     0  255763.565419   \n",
       "6   женат / замужем                 0      F   компаньон     0  240525.971920   \n",
       "7   женат / замужем                 0      M   сотрудник     0  135823.934197   \n",
       "8  гражданский брак                 1      F   сотрудник     0   95856.832424   \n",
       "9   женат / замужем                 0      M   сотрудник     0  144425.938277   \n",
       "\n",
       "                      purpose  \n",
       "0               покупка жилья  \n",
       "1     приобретение автомобиля  \n",
       "2               покупка жилья  \n",
       "3  дополнительное образование  \n",
       "4             сыграть свадьбу  \n",
       "5               покупка жилья  \n",
       "6           операции с жильем  \n",
       "7                 образование  \n",
       "8       на проведение свадьбы  \n",
       "9     покупка жилья для семьи  "
      ]
     },
     "execution_count": 3,
     "metadata": {},
     "output_type": "execute_result"
    }
   ],
   "source": [
    "df.head(10)"
   ]
  },
  {
   "cell_type": "code",
   "execution_count": 4,
   "id": "8ce2b200",
   "metadata": {},
   "outputs": [
    {
     "data": {
      "text/html": [
       "<div>\n",
       "<style scoped>\n",
       "    .dataframe tbody tr th:only-of-type {\n",
       "        vertical-align: middle;\n",
       "    }\n",
       "\n",
       "    .dataframe tbody tr th {\n",
       "        vertical-align: top;\n",
       "    }\n",
       "\n",
       "    .dataframe thead th {\n",
       "        text-align: right;\n",
       "    }\n",
       "</style>\n",
       "<table border=\"1\" class=\"dataframe\">\n",
       "  <thead>\n",
       "    <tr style=\"text-align: right;\">\n",
       "      <th></th>\n",
       "      <th>children</th>\n",
       "      <th>days_employed</th>\n",
       "      <th>dob_years</th>\n",
       "      <th>education</th>\n",
       "      <th>education_id</th>\n",
       "      <th>family_status</th>\n",
       "      <th>family_status_id</th>\n",
       "      <th>gender</th>\n",
       "      <th>income_type</th>\n",
       "      <th>debt</th>\n",
       "      <th>total_income</th>\n",
       "      <th>purpose</th>\n",
       "    </tr>\n",
       "  </thead>\n",
       "  <tbody>\n",
       "    <tr>\n",
       "      <td>21520</td>\n",
       "      <td>1</td>\n",
       "      <td>-4529.316663</td>\n",
       "      <td>43</td>\n",
       "      <td>среднее</td>\n",
       "      <td>1</td>\n",
       "      <td>гражданский брак</td>\n",
       "      <td>1</td>\n",
       "      <td>F</td>\n",
       "      <td>компаньон</td>\n",
       "      <td>0</td>\n",
       "      <td>224791.862382</td>\n",
       "      <td>операции с жильем</td>\n",
       "    </tr>\n",
       "    <tr>\n",
       "      <td>21521</td>\n",
       "      <td>0</td>\n",
       "      <td>343937.404131</td>\n",
       "      <td>67</td>\n",
       "      <td>среднее</td>\n",
       "      <td>1</td>\n",
       "      <td>женат / замужем</td>\n",
       "      <td>0</td>\n",
       "      <td>F</td>\n",
       "      <td>пенсионер</td>\n",
       "      <td>0</td>\n",
       "      <td>155999.806512</td>\n",
       "      <td>сделка с автомобилем</td>\n",
       "    </tr>\n",
       "    <tr>\n",
       "      <td>21522</td>\n",
       "      <td>1</td>\n",
       "      <td>-2113.346888</td>\n",
       "      <td>38</td>\n",
       "      <td>среднее</td>\n",
       "      <td>1</td>\n",
       "      <td>гражданский брак</td>\n",
       "      <td>1</td>\n",
       "      <td>M</td>\n",
       "      <td>сотрудник</td>\n",
       "      <td>1</td>\n",
       "      <td>89672.561153</td>\n",
       "      <td>недвижимость</td>\n",
       "    </tr>\n",
       "    <tr>\n",
       "      <td>21523</td>\n",
       "      <td>3</td>\n",
       "      <td>-3112.481705</td>\n",
       "      <td>38</td>\n",
       "      <td>среднее</td>\n",
       "      <td>1</td>\n",
       "      <td>женат / замужем</td>\n",
       "      <td>0</td>\n",
       "      <td>M</td>\n",
       "      <td>сотрудник</td>\n",
       "      <td>1</td>\n",
       "      <td>244093.050500</td>\n",
       "      <td>на покупку своего автомобиля</td>\n",
       "    </tr>\n",
       "    <tr>\n",
       "      <td>21524</td>\n",
       "      <td>2</td>\n",
       "      <td>-1984.507589</td>\n",
       "      <td>40</td>\n",
       "      <td>среднее</td>\n",
       "      <td>1</td>\n",
       "      <td>женат / замужем</td>\n",
       "      <td>0</td>\n",
       "      <td>F</td>\n",
       "      <td>сотрудник</td>\n",
       "      <td>0</td>\n",
       "      <td>82047.418899</td>\n",
       "      <td>на покупку автомобиля</td>\n",
       "    </tr>\n",
       "  </tbody>\n",
       "</table>\n",
       "</div>"
      ],
      "text/plain": [
       "       children  days_employed  dob_years education  education_id  \\\n",
       "21520         1   -4529.316663         43   среднее             1   \n",
       "21521         0  343937.404131         67   среднее             1   \n",
       "21522         1   -2113.346888         38   среднее             1   \n",
       "21523         3   -3112.481705         38   среднее             1   \n",
       "21524         2   -1984.507589         40   среднее             1   \n",
       "\n",
       "          family_status  family_status_id gender income_type  debt  \\\n",
       "21520  гражданский брак                 1      F   компаньон     0   \n",
       "21521   женат / замужем                 0      F   пенсионер     0   \n",
       "21522  гражданский брак                 1      M   сотрудник     1   \n",
       "21523   женат / замужем                 0      M   сотрудник     1   \n",
       "21524   женат / замужем                 0      F   сотрудник     0   \n",
       "\n",
       "        total_income                       purpose  \n",
       "21520  224791.862382             операции с жильем  \n",
       "21521  155999.806512          сделка с автомобилем  \n",
       "21522   89672.561153                  недвижимость  \n",
       "21523  244093.050500  на покупку своего автомобиля  \n",
       "21524   82047.418899         на покупку автомобиля  "
      ]
     },
     "execution_count": 4,
     "metadata": {},
     "output_type": "execute_result"
    }
   ],
   "source": [
    "df.tail()"
   ]
  },
  {
   "cell_type": "markdown",
   "id": "2a483228",
   "metadata": {},
   "source": [
    "### Описание данных предоставленных банком"
   ]
  },
  {
   "cell_type": "markdown",
   "id": "747f3d19",
   "metadata": {},
   "source": [
    "children — количество детей в семье\n",
    "\n",
    "days_employed — общий трудовой стаж в днях\n",
    "\n",
    "dob_years — возраст клиента в годах\n",
    "\n",
    "education — уровень образования клиента\n",
    "\n",
    "education_id — идентификатор уровня образования\n",
    "\n",
    "family_status — семейное положение\n",
    "\n",
    "family_status_id — идентификатор семейного положения\n",
    "\n",
    "gender — пол клиента\n",
    "\n",
    "income_type — тип занятости\n",
    "\n",
    "debt — имел ли задолженность по возврату кредитов\n",
    "\n",
    "total_income — ежемесячный доход\n",
    "\n",
    "purpose — цель получения кредита"
   ]
  },
  {
   "cell_type": "markdown",
   "id": "339846da",
   "metadata": {},
   "source": [
    "Оцениним полученную информацию методом info и describe на наличие пропущенный значений и наличия аномалий"
   ]
  },
  {
   "cell_type": "code",
   "execution_count": 5,
   "id": "c43d19e0",
   "metadata": {},
   "outputs": [
    {
     "name": "stdout",
     "output_type": "stream",
     "text": [
      "<class 'pandas.core.frame.DataFrame'>\n",
      "RangeIndex: 21525 entries, 0 to 21524\n",
      "Data columns (total 12 columns):\n",
      "children            21525 non-null int64\n",
      "days_employed       19351 non-null float64\n",
      "dob_years           21525 non-null int64\n",
      "education           21525 non-null object\n",
      "education_id        21525 non-null int64\n",
      "family_status       21525 non-null object\n",
      "family_status_id    21525 non-null int64\n",
      "gender              21525 non-null object\n",
      "income_type         21525 non-null object\n",
      "debt                21525 non-null int64\n",
      "total_income        19351 non-null float64\n",
      "purpose             21525 non-null object\n",
      "dtypes: float64(2), int64(5), object(5)\n",
      "memory usage: 2.0+ MB\n"
     ]
    }
   ],
   "source": [
    "df.info()"
   ]
  },
  {
   "cell_type": "code",
   "execution_count": 6,
   "id": "10405d24",
   "metadata": {},
   "outputs": [
    {
     "data": {
      "text/html": [
       "<div>\n",
       "<style scoped>\n",
       "    .dataframe tbody tr th:only-of-type {\n",
       "        vertical-align: middle;\n",
       "    }\n",
       "\n",
       "    .dataframe tbody tr th {\n",
       "        vertical-align: top;\n",
       "    }\n",
       "\n",
       "    .dataframe thead th {\n",
       "        text-align: right;\n",
       "    }\n",
       "</style>\n",
       "<table border=\"1\" class=\"dataframe\">\n",
       "  <thead>\n",
       "    <tr style=\"text-align: right;\">\n",
       "      <th></th>\n",
       "      <th>children</th>\n",
       "      <th>days_employed</th>\n",
       "      <th>dob_years</th>\n",
       "      <th>education_id</th>\n",
       "      <th>family_status_id</th>\n",
       "      <th>debt</th>\n",
       "      <th>total_income</th>\n",
       "    </tr>\n",
       "  </thead>\n",
       "  <tbody>\n",
       "    <tr>\n",
       "      <td>count</td>\n",
       "      <td>21525.000000</td>\n",
       "      <td>19351.000000</td>\n",
       "      <td>21525.000000</td>\n",
       "      <td>21525.000000</td>\n",
       "      <td>21525.000000</td>\n",
       "      <td>21525.000000</td>\n",
       "      <td>1.935100e+04</td>\n",
       "    </tr>\n",
       "    <tr>\n",
       "      <td>mean</td>\n",
       "      <td>0.538908</td>\n",
       "      <td>63046.497661</td>\n",
       "      <td>43.293380</td>\n",
       "      <td>0.817236</td>\n",
       "      <td>0.972544</td>\n",
       "      <td>0.080883</td>\n",
       "      <td>1.674223e+05</td>\n",
       "    </tr>\n",
       "    <tr>\n",
       "      <td>std</td>\n",
       "      <td>1.381587</td>\n",
       "      <td>140827.311974</td>\n",
       "      <td>12.574584</td>\n",
       "      <td>0.548138</td>\n",
       "      <td>1.420324</td>\n",
       "      <td>0.272661</td>\n",
       "      <td>1.029716e+05</td>\n",
       "    </tr>\n",
       "    <tr>\n",
       "      <td>min</td>\n",
       "      <td>-1.000000</td>\n",
       "      <td>-18388.949901</td>\n",
       "      <td>0.000000</td>\n",
       "      <td>0.000000</td>\n",
       "      <td>0.000000</td>\n",
       "      <td>0.000000</td>\n",
       "      <td>2.066726e+04</td>\n",
       "    </tr>\n",
       "    <tr>\n",
       "      <td>25%</td>\n",
       "      <td>0.000000</td>\n",
       "      <td>-2747.423625</td>\n",
       "      <td>33.000000</td>\n",
       "      <td>1.000000</td>\n",
       "      <td>0.000000</td>\n",
       "      <td>0.000000</td>\n",
       "      <td>1.030532e+05</td>\n",
       "    </tr>\n",
       "    <tr>\n",
       "      <td>50%</td>\n",
       "      <td>0.000000</td>\n",
       "      <td>-1203.369529</td>\n",
       "      <td>42.000000</td>\n",
       "      <td>1.000000</td>\n",
       "      <td>0.000000</td>\n",
       "      <td>0.000000</td>\n",
       "      <td>1.450179e+05</td>\n",
       "    </tr>\n",
       "    <tr>\n",
       "      <td>75%</td>\n",
       "      <td>1.000000</td>\n",
       "      <td>-291.095954</td>\n",
       "      <td>53.000000</td>\n",
       "      <td>1.000000</td>\n",
       "      <td>1.000000</td>\n",
       "      <td>0.000000</td>\n",
       "      <td>2.034351e+05</td>\n",
       "    </tr>\n",
       "    <tr>\n",
       "      <td>max</td>\n",
       "      <td>20.000000</td>\n",
       "      <td>401755.400475</td>\n",
       "      <td>75.000000</td>\n",
       "      <td>4.000000</td>\n",
       "      <td>4.000000</td>\n",
       "      <td>1.000000</td>\n",
       "      <td>2.265604e+06</td>\n",
       "    </tr>\n",
       "  </tbody>\n",
       "</table>\n",
       "</div>"
      ],
      "text/plain": [
       "           children  days_employed     dob_years  education_id  \\\n",
       "count  21525.000000   19351.000000  21525.000000  21525.000000   \n",
       "mean       0.538908   63046.497661     43.293380      0.817236   \n",
       "std        1.381587  140827.311974     12.574584      0.548138   \n",
       "min       -1.000000  -18388.949901      0.000000      0.000000   \n",
       "25%        0.000000   -2747.423625     33.000000      1.000000   \n",
       "50%        0.000000   -1203.369529     42.000000      1.000000   \n",
       "75%        1.000000    -291.095954     53.000000      1.000000   \n",
       "max       20.000000  401755.400475     75.000000      4.000000   \n",
       "\n",
       "       family_status_id          debt  total_income  \n",
       "count      21525.000000  21525.000000  1.935100e+04  \n",
       "mean           0.972544      0.080883  1.674223e+05  \n",
       "std            1.420324      0.272661  1.029716e+05  \n",
       "min            0.000000      0.000000  2.066726e+04  \n",
       "25%            0.000000      0.000000  1.030532e+05  \n",
       "50%            0.000000      0.000000  1.450179e+05  \n",
       "75%            1.000000      0.000000  2.034351e+05  \n",
       "max            4.000000      1.000000  2.265604e+06  "
      ]
     },
     "execution_count": 6,
     "metadata": {},
     "output_type": "execute_result"
    }
   ],
   "source": [
    "df.describe()"
   ]
  },
  {
   "cell_type": "markdown",
   "id": "6ccbc190",
   "metadata": {},
   "source": [
    "**Обнаруженные проблемы в данных** \n",
    "1. Есть пропуски в total_income и days_employed\n",
    "2. Использования различного регистра в education\n",
    "3. Названия столбцов не ясно информируют о предоставленной информации\n",
    "4. Неоптимальный типы данных для days_employed и total_income\n",
    "5. Неясное количество трудового стажа в годах\n",
    "\n",
    "**В данных так же встречаются аномалии**\n",
    "1. Минимальное количество детей -1\n",
    "2. Минимальный возраст клиента банка 0\n",
    "3. Отрицательные значения в столбце days_employed. \n",
    "\n"
   ]
  },
  {
   "cell_type": "markdown",
   "id": "06395bed",
   "metadata": {},
   "source": [
    "## Предобработка данных"
   ]
  },
  {
   "cell_type": "markdown",
   "id": "5e867a7c",
   "metadata": {},
   "source": [
    "Откоректируем названия столбцов на более информативные"
   ]
  },
  {
   "cell_type": "code",
   "execution_count": 7,
   "id": "bf95cca0",
   "metadata": {},
   "outputs": [],
   "source": [
    "df = df.rename(columns={'children':'number_of_children', 'days_employed':'total_year_employed', \n",
    "                        'dob_years':'age_years', 'total_income':'monthly_income'})"
   ]
  },
  {
   "cell_type": "markdown",
   "id": "6342d739",
   "metadata": {},
   "source": [
    "Проверим правильно ли обновились названия столбцов"
   ]
  },
  {
   "cell_type": "code",
   "execution_count": 8,
   "id": "0a030215",
   "metadata": {},
   "outputs": [
    {
     "data": {
      "text/plain": [
       "Index(['number_of_children', 'total_year_employed', 'age_years', 'education',\n",
       "       'education_id', 'family_status', 'family_status_id', 'gender',\n",
       "       'income_type', 'debt', 'monthly_income', 'purpose'],\n",
       "      dtype='object')"
      ]
     },
     "execution_count": 8,
     "metadata": {},
     "output_type": "execute_result"
    }
   ],
   "source": [
    "df.columns"
   ]
  },
  {
   "cell_type": "markdown",
   "id": "4bf68155",
   "metadata": {},
   "source": [
    "Приведем регистр в столбце education к нижнему регистру."
   ]
  },
  {
   "cell_type": "code",
   "execution_count": 9,
   "id": "de75e171",
   "metadata": {},
   "outputs": [],
   "source": [
    "df['education'] = df['education'].str.lower()"
   ]
  },
  {
   "cell_type": "markdown",
   "id": "90250677",
   "metadata": {},
   "source": [
    "В стобце ежемесячный доход monthly_income в части строк отсутствуют значения по доходу. "
   ]
  },
  {
   "cell_type": "markdown",
   "id": "72eaa899",
   "metadata": {},
   "source": [
    "**Проверим совпадают ли строки с неуказанным доходом и строки в которых отсутствуе трудовой стаж**"
   ]
  },
  {
   "cell_type": "code",
   "execution_count": 10,
   "id": "7756faec",
   "metadata": {},
   "outputs": [
    {
     "data": {
      "text/html": [
       "<div>\n",
       "<style scoped>\n",
       "    .dataframe tbody tr th:only-of-type {\n",
       "        vertical-align: middle;\n",
       "    }\n",
       "\n",
       "    .dataframe tbody tr th {\n",
       "        vertical-align: top;\n",
       "    }\n",
       "\n",
       "    .dataframe thead th {\n",
       "        text-align: right;\n",
       "    }\n",
       "</style>\n",
       "<table border=\"1\" class=\"dataframe\">\n",
       "  <thead>\n",
       "    <tr style=\"text-align: right;\">\n",
       "      <th></th>\n",
       "      <th>number_of_children</th>\n",
       "      <th>total_year_employed</th>\n",
       "      <th>age_years</th>\n",
       "      <th>education</th>\n",
       "      <th>education_id</th>\n",
       "      <th>family_status</th>\n",
       "      <th>family_status_id</th>\n",
       "      <th>gender</th>\n",
       "      <th>income_type</th>\n",
       "      <th>debt</th>\n",
       "      <th>monthly_income</th>\n",
       "      <th>purpose</th>\n",
       "    </tr>\n",
       "  </thead>\n",
       "  <tbody>\n",
       "    <tr>\n",
       "      <td>12</td>\n",
       "      <td>0</td>\n",
       "      <td>NaN</td>\n",
       "      <td>65</td>\n",
       "      <td>среднее</td>\n",
       "      <td>1</td>\n",
       "      <td>гражданский брак</td>\n",
       "      <td>1</td>\n",
       "      <td>M</td>\n",
       "      <td>пенсионер</td>\n",
       "      <td>0</td>\n",
       "      <td>NaN</td>\n",
       "      <td>сыграть свадьбу</td>\n",
       "    </tr>\n",
       "    <tr>\n",
       "      <td>26</td>\n",
       "      <td>0</td>\n",
       "      <td>NaN</td>\n",
       "      <td>41</td>\n",
       "      <td>среднее</td>\n",
       "      <td>1</td>\n",
       "      <td>женат / замужем</td>\n",
       "      <td>0</td>\n",
       "      <td>M</td>\n",
       "      <td>госслужащий</td>\n",
       "      <td>0</td>\n",
       "      <td>NaN</td>\n",
       "      <td>образование</td>\n",
       "    </tr>\n",
       "    <tr>\n",
       "      <td>29</td>\n",
       "      <td>0</td>\n",
       "      <td>NaN</td>\n",
       "      <td>63</td>\n",
       "      <td>среднее</td>\n",
       "      <td>1</td>\n",
       "      <td>Не женат / не замужем</td>\n",
       "      <td>4</td>\n",
       "      <td>F</td>\n",
       "      <td>пенсионер</td>\n",
       "      <td>0</td>\n",
       "      <td>NaN</td>\n",
       "      <td>строительство жилой недвижимости</td>\n",
       "    </tr>\n",
       "    <tr>\n",
       "      <td>41</td>\n",
       "      <td>0</td>\n",
       "      <td>NaN</td>\n",
       "      <td>50</td>\n",
       "      <td>среднее</td>\n",
       "      <td>1</td>\n",
       "      <td>женат / замужем</td>\n",
       "      <td>0</td>\n",
       "      <td>F</td>\n",
       "      <td>госслужащий</td>\n",
       "      <td>0</td>\n",
       "      <td>NaN</td>\n",
       "      <td>сделка с подержанным автомобилем</td>\n",
       "    </tr>\n",
       "    <tr>\n",
       "      <td>55</td>\n",
       "      <td>0</td>\n",
       "      <td>NaN</td>\n",
       "      <td>54</td>\n",
       "      <td>среднее</td>\n",
       "      <td>1</td>\n",
       "      <td>гражданский брак</td>\n",
       "      <td>1</td>\n",
       "      <td>F</td>\n",
       "      <td>пенсионер</td>\n",
       "      <td>1</td>\n",
       "      <td>NaN</td>\n",
       "      <td>сыграть свадьбу</td>\n",
       "    </tr>\n",
       "    <tr>\n",
       "      <td>65</td>\n",
       "      <td>0</td>\n",
       "      <td>NaN</td>\n",
       "      <td>21</td>\n",
       "      <td>среднее</td>\n",
       "      <td>1</td>\n",
       "      <td>Не женат / не замужем</td>\n",
       "      <td>4</td>\n",
       "      <td>M</td>\n",
       "      <td>компаньон</td>\n",
       "      <td>0</td>\n",
       "      <td>NaN</td>\n",
       "      <td>операции с коммерческой недвижимостью</td>\n",
       "    </tr>\n",
       "    <tr>\n",
       "      <td>67</td>\n",
       "      <td>0</td>\n",
       "      <td>NaN</td>\n",
       "      <td>52</td>\n",
       "      <td>высшее</td>\n",
       "      <td>0</td>\n",
       "      <td>женат / замужем</td>\n",
       "      <td>0</td>\n",
       "      <td>F</td>\n",
       "      <td>пенсионер</td>\n",
       "      <td>0</td>\n",
       "      <td>NaN</td>\n",
       "      <td>покупка жилья для семьи</td>\n",
       "    </tr>\n",
       "    <tr>\n",
       "      <td>72</td>\n",
       "      <td>1</td>\n",
       "      <td>NaN</td>\n",
       "      <td>32</td>\n",
       "      <td>высшее</td>\n",
       "      <td>0</td>\n",
       "      <td>женат / замужем</td>\n",
       "      <td>0</td>\n",
       "      <td>M</td>\n",
       "      <td>госслужащий</td>\n",
       "      <td>0</td>\n",
       "      <td>NaN</td>\n",
       "      <td>операции с коммерческой недвижимостью</td>\n",
       "    </tr>\n",
       "    <tr>\n",
       "      <td>82</td>\n",
       "      <td>2</td>\n",
       "      <td>NaN</td>\n",
       "      <td>50</td>\n",
       "      <td>высшее</td>\n",
       "      <td>0</td>\n",
       "      <td>женат / замужем</td>\n",
       "      <td>0</td>\n",
       "      <td>F</td>\n",
       "      <td>сотрудник</td>\n",
       "      <td>0</td>\n",
       "      <td>NaN</td>\n",
       "      <td>жилье</td>\n",
       "    </tr>\n",
       "    <tr>\n",
       "      <td>83</td>\n",
       "      <td>0</td>\n",
       "      <td>NaN</td>\n",
       "      <td>52</td>\n",
       "      <td>среднее</td>\n",
       "      <td>1</td>\n",
       "      <td>женат / замужем</td>\n",
       "      <td>0</td>\n",
       "      <td>M</td>\n",
       "      <td>сотрудник</td>\n",
       "      <td>0</td>\n",
       "      <td>NaN</td>\n",
       "      <td>жилье</td>\n",
       "    </tr>\n",
       "  </tbody>\n",
       "</table>\n",
       "</div>"
      ],
      "text/plain": [
       "    number_of_children  total_year_employed  age_years education  \\\n",
       "12                   0                  NaN         65   среднее   \n",
       "26                   0                  NaN         41   среднее   \n",
       "29                   0                  NaN         63   среднее   \n",
       "41                   0                  NaN         50   среднее   \n",
       "55                   0                  NaN         54   среднее   \n",
       "65                   0                  NaN         21   среднее   \n",
       "67                   0                  NaN         52    высшее   \n",
       "72                   1                  NaN         32    высшее   \n",
       "82                   2                  NaN         50    высшее   \n",
       "83                   0                  NaN         52   среднее   \n",
       "\n",
       "    education_id          family_status  family_status_id gender  income_type  \\\n",
       "12             1       гражданский брак                 1      M    пенсионер   \n",
       "26             1        женат / замужем                 0      M  госслужащий   \n",
       "29             1  Не женат / не замужем                 4      F    пенсионер   \n",
       "41             1        женат / замужем                 0      F  госслужащий   \n",
       "55             1       гражданский брак                 1      F    пенсионер   \n",
       "65             1  Не женат / не замужем                 4      M    компаньон   \n",
       "67             0        женат / замужем                 0      F    пенсионер   \n",
       "72             0        женат / замужем                 0      M  госслужащий   \n",
       "82             0        женат / замужем                 0      F    сотрудник   \n",
       "83             1        женат / замужем                 0      M    сотрудник   \n",
       "\n",
       "    debt  monthly_income                                purpose  \n",
       "12     0             NaN                        сыграть свадьбу  \n",
       "26     0             NaN                            образование  \n",
       "29     0             NaN       строительство жилой недвижимости  \n",
       "41     0             NaN       сделка с подержанным автомобилем  \n",
       "55     1             NaN                        сыграть свадьбу  \n",
       "65     0             NaN  операции с коммерческой недвижимостью  \n",
       "67     0             NaN                покупка жилья для семьи  \n",
       "72     0             NaN  операции с коммерческой недвижимостью  \n",
       "82     0             NaN                                  жилье  \n",
       "83     0             NaN                                  жилье  "
      ]
     },
     "execution_count": 10,
     "metadata": {},
     "output_type": "execute_result"
    }
   ],
   "source": [
    "df[(df['monthly_income'].isnull() == True) & (df['total_year_employed'].isnull() == True)].head(10)"
   ]
  },
  {
   "cell_type": "markdown",
   "id": "08713d76",
   "metadata": {},
   "source": [
    "Посчитаем количество строк удовлетворяющих этоиу условию"
   ]
  },
  {
   "cell_type": "code",
   "execution_count": 11,
   "id": "e6121edf",
   "metadata": {},
   "outputs": [
    {
     "data": {
      "text/plain": [
       "number_of_children     2174\n",
       "total_year_employed       0\n",
       "age_years              2174\n",
       "education              2174\n",
       "education_id           2174\n",
       "family_status          2174\n",
       "family_status_id       2174\n",
       "gender                 2174\n",
       "income_type            2174\n",
       "debt                   2174\n",
       "monthly_income            0\n",
       "purpose                2174\n",
       "dtype: int64"
      ]
     },
     "execution_count": 11,
     "metadata": {},
     "output_type": "execute_result"
    }
   ],
   "source": [
    "df[(df['monthly_income'].isnull() == True) & (df['total_year_employed'].isnull() == True)].count()"
   ]
  },
  {
   "cell_type": "markdown",
   "id": "bad12435",
   "metadata": {},
   "source": [
    "Данная гипотиза подвердилась, в предоставленной информации позиции в столбце monthly_income с отсутствующем месячным доходом соответствуют отсутствующему трудовому стажу в столбце total_days_employed\n",
    "Также проверим для каких типов занятости данная гипотиза подтвердилась"
   ]
  },
  {
   "cell_type": "code",
   "execution_count": 12,
   "id": "c0916e38",
   "metadata": {},
   "outputs": [
    {
     "data": {
      "text/plain": [
       "сотрудник          1105\n",
       "компаньон           508\n",
       "пенсионер           413\n",
       "госслужащий         147\n",
       "предприниматель       1\n",
       "Name: income_type, dtype: int64"
      ]
     },
     "execution_count": 12,
     "metadata": {},
     "output_type": "execute_result"
    }
   ],
   "source": [
    "df[(df['monthly_income'].isnull() == True) & (df['total_year_employed'].isnull() == True)]['income_type'].value_counts()"
   ]
  },
  {
   "cell_type": "markdown",
   "id": "df70f08f",
   "metadata": {},
   "source": [
    "Данные о трудовом стаже и доходе отсутствуют для 5 типов занятости"
   ]
  },
  {
   "cell_type": "markdown",
   "id": "82e7553b",
   "metadata": {},
   "source": [
    "Посчитаем какую долю составляют данные с пропущенной информацией. Разделим количество пропущенных значений на общее количество значений. Значение покажем в процентах."
   ]
  },
  {
   "cell_type": "code",
   "execution_count": 13,
   "id": "02460bc4",
   "metadata": {},
   "outputs": [
    {
     "data": {
      "text/plain": [
       "10.099883855981417"
      ]
     },
     "execution_count": 13,
     "metadata": {},
     "output_type": "execute_result"
    }
   ],
   "source": [
    "df[df['monthly_income'].isnull() == True]['income_type'].count() / len(df) * 100"
   ]
  },
  {
   "cell_type": "markdown",
   "id": "44557e97",
   "metadata": {},
   "source": [
    "Недостающие данные составляют 10% от всего объема данных, что много. Данную информацию стоит передать сотрудникам занимающимся подготовкой данных, чтобы совместно найти проблему отсутствия информации. Возможно клиенты неполно и некоректно предоставляют информацию о доходе и трудовом стаже. \n",
    "\n",
    "**Считаю, что заполнять пропущенные значения дохода медианным значением некорректно, так как фактический доход потенциальных клиентов может быть ниже или отсутствовать вовсе. Такой подход может привести к росту количества выдач невозвратных кредитов или кредитов с просрочками платежей. Поэтому предлагаю сбросить стрки с отсутствующем значением дохода и стажа** \n",
    "\n",
    "Полученный data frame сохраним в новую переменную df_new"
   ]
  },
  {
   "cell_type": "code",
   "execution_count": 14,
   "id": "06166d2e",
   "metadata": {},
   "outputs": [],
   "source": [
    "df_new = df.dropna().reset_index(drop = True)"
   ]
  },
  {
   "cell_type": "code",
   "execution_count": 15,
   "id": "97f7160e",
   "metadata": {},
   "outputs": [
    {
     "name": "stdout",
     "output_type": "stream",
     "text": [
      "<class 'pandas.core.frame.DataFrame'>\n",
      "RangeIndex: 19351 entries, 0 to 19350\n",
      "Data columns (total 12 columns):\n",
      "number_of_children     19351 non-null int64\n",
      "total_year_employed    19351 non-null float64\n",
      "age_years              19351 non-null int64\n",
      "education              19351 non-null object\n",
      "education_id           19351 non-null int64\n",
      "family_status          19351 non-null object\n",
      "family_status_id       19351 non-null int64\n",
      "gender                 19351 non-null object\n",
      "income_type            19351 non-null object\n",
      "debt                   19351 non-null int64\n",
      "monthly_income         19351 non-null float64\n",
      "purpose                19351 non-null object\n",
      "dtypes: float64(2), int64(5), object(5)\n",
      "memory usage: 1.8+ MB\n"
     ]
    }
   ],
   "source": [
    "df_new.info()"
   ]
  },
  {
   "cell_type": "markdown",
   "id": "d51426f2",
   "metadata": {},
   "source": [
    "Проверим данные на наличие дубликатов и возможных пропущенных значений"
   ]
  },
  {
   "cell_type": "code",
   "execution_count": 16,
   "id": "c30f45cb",
   "metadata": {},
   "outputs": [
    {
     "data": {
      "text/plain": [
       "0"
      ]
     },
     "execution_count": 16,
     "metadata": {},
     "output_type": "execute_result"
    }
   ],
   "source": [
    "df_new.duplicated().sum()"
   ]
  },
  {
   "cell_type": "code",
   "execution_count": 17,
   "id": "a87b2ab7",
   "metadata": {},
   "outputs": [
    {
     "data": {
      "text/plain": [
       "number_of_children     0\n",
       "total_year_employed    0\n",
       "age_years              0\n",
       "education              0\n",
       "education_id           0\n",
       "family_status          0\n",
       "family_status_id       0\n",
       "gender                 0\n",
       "income_type            0\n",
       "debt                   0\n",
       "monthly_income         0\n",
       "purpose                0\n",
       "dtype: int64"
      ]
     },
     "execution_count": 17,
     "metadata": {},
     "output_type": "execute_result"
    }
   ],
   "source": [
    "df_new.isna().sum()"
   ]
  },
  {
   "cell_type": "markdown",
   "id": "3d1f74aa",
   "metadata": {},
   "source": [
    "В данных отсутствуют дубликаты и пропещенные значения"
   ]
  },
  {
   "cell_type": "markdown",
   "id": "d01fc1a4",
   "metadata": {},
   "source": [
    "В столбце total_days_employed присутствуют отрецательные количество трудовых дней, что может быть оштбкой в следствии записи или выгрузки данных. Иправим это и также переведем трудовой стаж из дней в года для болего легкого восприятия данных."
   ]
  },
  {
   "cell_type": "code",
   "execution_count": 18,
   "id": "a9ab1957",
   "metadata": {},
   "outputs": [],
   "source": [
    "df_new['total_year_employed'] = df_new['total_year_employed'].abs()"
   ]
  },
  {
   "cell_type": "code",
   "execution_count": 19,
   "id": "8a90e79a",
   "metadata": {},
   "outputs": [],
   "source": [
    "df_new['total_year_employed'] = df_new['total_year_employed'] / 365"
   ]
  },
  {
   "cell_type": "markdown",
   "id": "c957a5a6",
   "metadata": {},
   "source": [
    "Изменем тип данных для total_year_employed и monthly_income на целочисленный. Данный тип наиболее точно подходит к информации содержащейся в данных столбцах, а также облегчит восприятие иформации"
   ]
  },
  {
   "cell_type": "code",
   "execution_count": 20,
   "id": "41abecbc",
   "metadata": {},
   "outputs": [],
   "source": [
    "df_new['total_year_employed'] = df_new['total_year_employed'].astype('int')"
   ]
  },
  {
   "cell_type": "code",
   "execution_count": 21,
   "id": "9b57028d",
   "metadata": {},
   "outputs": [],
   "source": [
    "df_new['monthly_income'] = df_new['monthly_income'].astype('int')"
   ]
  },
  {
   "cell_type": "markdown",
   "id": "d0d08412",
   "metadata": {},
   "source": [
    "Проверим результат произведенных изменений"
   ]
  },
  {
   "cell_type": "code",
   "execution_count": 22,
   "id": "5885e167",
   "metadata": {},
   "outputs": [
    {
     "data": {
      "text/html": [
       "<div>\n",
       "<style scoped>\n",
       "    .dataframe tbody tr th:only-of-type {\n",
       "        vertical-align: middle;\n",
       "    }\n",
       "\n",
       "    .dataframe tbody tr th {\n",
       "        vertical-align: top;\n",
       "    }\n",
       "\n",
       "    .dataframe thead th {\n",
       "        text-align: right;\n",
       "    }\n",
       "</style>\n",
       "<table border=\"1\" class=\"dataframe\">\n",
       "  <thead>\n",
       "    <tr style=\"text-align: right;\">\n",
       "      <th></th>\n",
       "      <th>number_of_children</th>\n",
       "      <th>total_year_employed</th>\n",
       "      <th>age_years</th>\n",
       "      <th>education</th>\n",
       "      <th>education_id</th>\n",
       "      <th>family_status</th>\n",
       "      <th>family_status_id</th>\n",
       "      <th>gender</th>\n",
       "      <th>income_type</th>\n",
       "      <th>debt</th>\n",
       "      <th>monthly_income</th>\n",
       "      <th>purpose</th>\n",
       "    </tr>\n",
       "  </thead>\n",
       "  <tbody>\n",
       "    <tr>\n",
       "      <td>0</td>\n",
       "      <td>1</td>\n",
       "      <td>23</td>\n",
       "      <td>42</td>\n",
       "      <td>высшее</td>\n",
       "      <td>0</td>\n",
       "      <td>женат / замужем</td>\n",
       "      <td>0</td>\n",
       "      <td>F</td>\n",
       "      <td>сотрудник</td>\n",
       "      <td>0</td>\n",
       "      <td>253875</td>\n",
       "      <td>покупка жилья</td>\n",
       "    </tr>\n",
       "    <tr>\n",
       "      <td>1</td>\n",
       "      <td>1</td>\n",
       "      <td>11</td>\n",
       "      <td>36</td>\n",
       "      <td>среднее</td>\n",
       "      <td>1</td>\n",
       "      <td>женат / замужем</td>\n",
       "      <td>0</td>\n",
       "      <td>F</td>\n",
       "      <td>сотрудник</td>\n",
       "      <td>0</td>\n",
       "      <td>112080</td>\n",
       "      <td>приобретение автомобиля</td>\n",
       "    </tr>\n",
       "    <tr>\n",
       "      <td>2</td>\n",
       "      <td>0</td>\n",
       "      <td>15</td>\n",
       "      <td>33</td>\n",
       "      <td>среднее</td>\n",
       "      <td>1</td>\n",
       "      <td>женат / замужем</td>\n",
       "      <td>0</td>\n",
       "      <td>M</td>\n",
       "      <td>сотрудник</td>\n",
       "      <td>0</td>\n",
       "      <td>145885</td>\n",
       "      <td>покупка жилья</td>\n",
       "    </tr>\n",
       "    <tr>\n",
       "      <td>3</td>\n",
       "      <td>3</td>\n",
       "      <td>11</td>\n",
       "      <td>32</td>\n",
       "      <td>среднее</td>\n",
       "      <td>1</td>\n",
       "      <td>женат / замужем</td>\n",
       "      <td>0</td>\n",
       "      <td>M</td>\n",
       "      <td>сотрудник</td>\n",
       "      <td>0</td>\n",
       "      <td>267628</td>\n",
       "      <td>дополнительное образование</td>\n",
       "    </tr>\n",
       "    <tr>\n",
       "      <td>4</td>\n",
       "      <td>0</td>\n",
       "      <td>932</td>\n",
       "      <td>53</td>\n",
       "      <td>среднее</td>\n",
       "      <td>1</td>\n",
       "      <td>гражданский брак</td>\n",
       "      <td>1</td>\n",
       "      <td>F</td>\n",
       "      <td>пенсионер</td>\n",
       "      <td>0</td>\n",
       "      <td>158616</td>\n",
       "      <td>сыграть свадьбу</td>\n",
       "    </tr>\n",
       "    <tr>\n",
       "      <td>5</td>\n",
       "      <td>0</td>\n",
       "      <td>2</td>\n",
       "      <td>27</td>\n",
       "      <td>высшее</td>\n",
       "      <td>0</td>\n",
       "      <td>гражданский брак</td>\n",
       "      <td>1</td>\n",
       "      <td>M</td>\n",
       "      <td>компаньон</td>\n",
       "      <td>0</td>\n",
       "      <td>255763</td>\n",
       "      <td>покупка жилья</td>\n",
       "    </tr>\n",
       "    <tr>\n",
       "      <td>6</td>\n",
       "      <td>0</td>\n",
       "      <td>7</td>\n",
       "      <td>43</td>\n",
       "      <td>высшее</td>\n",
       "      <td>0</td>\n",
       "      <td>женат / замужем</td>\n",
       "      <td>0</td>\n",
       "      <td>F</td>\n",
       "      <td>компаньон</td>\n",
       "      <td>0</td>\n",
       "      <td>240525</td>\n",
       "      <td>операции с жильем</td>\n",
       "    </tr>\n",
       "    <tr>\n",
       "      <td>7</td>\n",
       "      <td>0</td>\n",
       "      <td>0</td>\n",
       "      <td>50</td>\n",
       "      <td>среднее</td>\n",
       "      <td>1</td>\n",
       "      <td>женат / замужем</td>\n",
       "      <td>0</td>\n",
       "      <td>M</td>\n",
       "      <td>сотрудник</td>\n",
       "      <td>0</td>\n",
       "      <td>135823</td>\n",
       "      <td>образование</td>\n",
       "    </tr>\n",
       "    <tr>\n",
       "      <td>8</td>\n",
       "      <td>2</td>\n",
       "      <td>18</td>\n",
       "      <td>35</td>\n",
       "      <td>высшее</td>\n",
       "      <td>0</td>\n",
       "      <td>гражданский брак</td>\n",
       "      <td>1</td>\n",
       "      <td>F</td>\n",
       "      <td>сотрудник</td>\n",
       "      <td>0</td>\n",
       "      <td>95856</td>\n",
       "      <td>на проведение свадьбы</td>\n",
       "    </tr>\n",
       "    <tr>\n",
       "      <td>9</td>\n",
       "      <td>0</td>\n",
       "      <td>5</td>\n",
       "      <td>41</td>\n",
       "      <td>среднее</td>\n",
       "      <td>1</td>\n",
       "      <td>женат / замужем</td>\n",
       "      <td>0</td>\n",
       "      <td>M</td>\n",
       "      <td>сотрудник</td>\n",
       "      <td>0</td>\n",
       "      <td>144425</td>\n",
       "      <td>покупка жилья для семьи</td>\n",
       "    </tr>\n",
       "  </tbody>\n",
       "</table>\n",
       "</div>"
      ],
      "text/plain": [
       "   number_of_children  total_year_employed  age_years education  education_id  \\\n",
       "0                   1                   23         42    высшее             0   \n",
       "1                   1                   11         36   среднее             1   \n",
       "2                   0                   15         33   среднее             1   \n",
       "3                   3                   11         32   среднее             1   \n",
       "4                   0                  932         53   среднее             1   \n",
       "5                   0                    2         27    высшее             0   \n",
       "6                   0                    7         43    высшее             0   \n",
       "7                   0                    0         50   среднее             1   \n",
       "8                   2                   18         35    высшее             0   \n",
       "9                   0                    5         41   среднее             1   \n",
       "\n",
       "      family_status  family_status_id gender income_type  debt  \\\n",
       "0   женат / замужем                 0      F   сотрудник     0   \n",
       "1   женат / замужем                 0      F   сотрудник     0   \n",
       "2   женат / замужем                 0      M   сотрудник     0   \n",
       "3   женат / замужем                 0      M   сотрудник     0   \n",
       "4  гражданский брак                 1      F   пенсионер     0   \n",
       "5  гражданский брак                 1      M   компаньон     0   \n",
       "6   женат / замужем                 0      F   компаньон     0   \n",
       "7   женат / замужем                 0      M   сотрудник     0   \n",
       "8  гражданский брак                 1      F   сотрудник     0   \n",
       "9   женат / замужем                 0      M   сотрудник     0   \n",
       "\n",
       "   monthly_income                     purpose  \n",
       "0          253875               покупка жилья  \n",
       "1          112080     приобретение автомобиля  \n",
       "2          145885               покупка жилья  \n",
       "3          267628  дополнительное образование  \n",
       "4          158616             сыграть свадьбу  \n",
       "5          255763               покупка жилья  \n",
       "6          240525           операции с жильем  \n",
       "7          135823                 образование  \n",
       "8           95856       на проведение свадьбы  \n",
       "9          144425     покупка жилья для семьи  "
      ]
     },
     "execution_count": 22,
     "metadata": {},
     "output_type": "execute_result"
    }
   ],
   "source": [
    "df_new.head(10)"
   ]
  },
  {
   "cell_type": "code",
   "execution_count": 23,
   "id": "d3891176",
   "metadata": {},
   "outputs": [
    {
     "name": "stdout",
     "output_type": "stream",
     "text": [
      "<class 'pandas.core.frame.DataFrame'>\n",
      "RangeIndex: 19351 entries, 0 to 19350\n",
      "Data columns (total 12 columns):\n",
      "number_of_children     19351 non-null int64\n",
      "total_year_employed    19351 non-null int32\n",
      "age_years              19351 non-null int64\n",
      "education              19351 non-null object\n",
      "education_id           19351 non-null int64\n",
      "family_status          19351 non-null object\n",
      "family_status_id       19351 non-null int64\n",
      "gender                 19351 non-null object\n",
      "income_type            19351 non-null object\n",
      "debt                   19351 non-null int64\n",
      "monthly_income         19351 non-null int32\n",
      "purpose                19351 non-null object\n",
      "dtypes: int32(2), int64(5), object(5)\n",
      "memory usage: 1.6+ MB\n"
     ]
    }
   ],
   "source": [
    "df_new.info()"
   ]
  },
  {
   "cell_type": "code",
   "execution_count": 24,
   "id": "42b7cebe",
   "metadata": {},
   "outputs": [
    {
     "data": {
      "text/html": [
       "<div>\n",
       "<style scoped>\n",
       "    .dataframe tbody tr th:only-of-type {\n",
       "        vertical-align: middle;\n",
       "    }\n",
       "\n",
       "    .dataframe tbody tr th {\n",
       "        vertical-align: top;\n",
       "    }\n",
       "\n",
       "    .dataframe thead th {\n",
       "        text-align: right;\n",
       "    }\n",
       "</style>\n",
       "<table border=\"1\" class=\"dataframe\">\n",
       "  <thead>\n",
       "    <tr style=\"text-align: right;\">\n",
       "      <th></th>\n",
       "      <th>number_of_children</th>\n",
       "      <th>total_year_employed</th>\n",
       "      <th>age_years</th>\n",
       "      <th>education_id</th>\n",
       "      <th>family_status_id</th>\n",
       "      <th>debt</th>\n",
       "      <th>monthly_income</th>\n",
       "    </tr>\n",
       "  </thead>\n",
       "  <tbody>\n",
       "    <tr>\n",
       "      <td>count</td>\n",
       "      <td>19351.000000</td>\n",
       "      <td>19351.000000</td>\n",
       "      <td>19351.000000</td>\n",
       "      <td>19351.000000</td>\n",
       "      <td>19351.000000</td>\n",
       "      <td>19351.000000</td>\n",
       "      <td>1.935100e+04</td>\n",
       "    </tr>\n",
       "    <tr>\n",
       "      <td>mean</td>\n",
       "      <td>0.537388</td>\n",
       "      <td>182.828019</td>\n",
       "      <td>43.255336</td>\n",
       "      <td>0.819079</td>\n",
       "      <td>0.972249</td>\n",
       "      <td>0.081184</td>\n",
       "      <td>1.674218e+05</td>\n",
       "    </tr>\n",
       "    <tr>\n",
       "      <td>std</td>\n",
       "      <td>1.371408</td>\n",
       "      <td>380.908409</td>\n",
       "      <td>12.579170</td>\n",
       "      <td>0.550104</td>\n",
       "      <td>1.420596</td>\n",
       "      <td>0.273125</td>\n",
       "      <td>1.029716e+05</td>\n",
       "    </tr>\n",
       "    <tr>\n",
       "      <td>min</td>\n",
       "      <td>-1.000000</td>\n",
       "      <td>0.000000</td>\n",
       "      <td>0.000000</td>\n",
       "      <td>0.000000</td>\n",
       "      <td>0.000000</td>\n",
       "      <td>0.000000</td>\n",
       "      <td>2.066700e+04</td>\n",
       "    </tr>\n",
       "    <tr>\n",
       "      <td>25%</td>\n",
       "      <td>0.000000</td>\n",
       "      <td>2.000000</td>\n",
       "      <td>33.000000</td>\n",
       "      <td>1.000000</td>\n",
       "      <td>0.000000</td>\n",
       "      <td>0.000000</td>\n",
       "      <td>1.030530e+05</td>\n",
       "    </tr>\n",
       "    <tr>\n",
       "      <td>50%</td>\n",
       "      <td>0.000000</td>\n",
       "      <td>6.000000</td>\n",
       "      <td>42.000000</td>\n",
       "      <td>1.000000</td>\n",
       "      <td>0.000000</td>\n",
       "      <td>0.000000</td>\n",
       "      <td>1.450170e+05</td>\n",
       "    </tr>\n",
       "    <tr>\n",
       "      <td>75%</td>\n",
       "      <td>1.000000</td>\n",
       "      <td>15.000000</td>\n",
       "      <td>53.000000</td>\n",
       "      <td>1.000000</td>\n",
       "      <td>1.000000</td>\n",
       "      <td>0.000000</td>\n",
       "      <td>2.034345e+05</td>\n",
       "    </tr>\n",
       "    <tr>\n",
       "      <td>max</td>\n",
       "      <td>20.000000</td>\n",
       "      <td>1100.000000</td>\n",
       "      <td>75.000000</td>\n",
       "      <td>4.000000</td>\n",
       "      <td>4.000000</td>\n",
       "      <td>1.000000</td>\n",
       "      <td>2.265604e+06</td>\n",
       "    </tr>\n",
       "  </tbody>\n",
       "</table>\n",
       "</div>"
      ],
      "text/plain": [
       "       number_of_children  total_year_employed     age_years  education_id  \\\n",
       "count        19351.000000         19351.000000  19351.000000  19351.000000   \n",
       "mean             0.537388           182.828019     43.255336      0.819079   \n",
       "std              1.371408           380.908409     12.579170      0.550104   \n",
       "min             -1.000000             0.000000      0.000000      0.000000   \n",
       "25%              0.000000             2.000000     33.000000      1.000000   \n",
       "50%              0.000000             6.000000     42.000000      1.000000   \n",
       "75%              1.000000            15.000000     53.000000      1.000000   \n",
       "max             20.000000          1100.000000     75.000000      4.000000   \n",
       "\n",
       "       family_status_id          debt  monthly_income  \n",
       "count      19351.000000  19351.000000    1.935100e+04  \n",
       "mean           0.972249      0.081184    1.674218e+05  \n",
       "std            1.420596      0.273125    1.029716e+05  \n",
       "min            0.000000      0.000000    2.066700e+04  \n",
       "25%            0.000000      0.000000    1.030530e+05  \n",
       "50%            0.000000      0.000000    1.450170e+05  \n",
       "75%            1.000000      0.000000    2.034345e+05  \n",
       "max            4.000000      1.000000    2.265604e+06  "
      ]
     },
     "execution_count": 24,
     "metadata": {},
     "output_type": "execute_result"
    }
   ],
   "source": [
    "df_new.describe()"
   ]
  },
  {
   "cell_type": "markdown",
   "id": "edb7e8fc",
   "metadata": {},
   "source": [
    "**Проанализируем данные по столбцам и избавимся от аномалий**"
   ]
  },
  {
   "cell_type": "markdown",
   "id": "ed680900",
   "metadata": {},
   "source": [
    "Посмотрим какововоличество записей с количеством дитей равном -1 и 20, данные значения представляются некоректными"
   ]
  },
  {
   "cell_type": "code",
   "execution_count": 25,
   "id": "65855110",
   "metadata": {},
   "outputs": [
    {
     "data": {
      "text/plain": [
       "44"
      ]
     },
     "execution_count": 25,
     "metadata": {},
     "output_type": "execute_result"
    }
   ],
   "source": [
    "df_new[df_new['number_of_children'] == -1]['number_of_children'].count()"
   ]
  },
  {
   "cell_type": "code",
   "execution_count": 26,
   "id": "df585da2",
   "metadata": {},
   "outputs": [
    {
     "data": {
      "text/plain": [
       "67"
      ]
     },
     "execution_count": 26,
     "metadata": {},
     "output_type": "execute_result"
    }
   ],
   "source": [
    "df_new[df_new['number_of_children'] == 20]['number_of_children'].count()"
   ]
  },
  {
   "cell_type": "markdown",
   "id": "b50e1e75",
   "metadata": {},
   "source": [
    "Данная ошибка может быть вызвана некоретным вводом или выводом данных. Для отрецательного количества дитей значение заменим на положительное, а количество 20 заменим на 2"
   ]
  },
  {
   "cell_type": "code",
   "execution_count": 27,
   "id": "a07c9d78",
   "metadata": {},
   "outputs": [],
   "source": [
    "df_new['number_of_children'] = df_new['number_of_children'].replace(-1, 1)"
   ]
  },
  {
   "cell_type": "code",
   "execution_count": 28,
   "id": "ed8ad722",
   "metadata": {},
   "outputs": [],
   "source": [
    "df_new['number_of_children'] = df_new['number_of_children'].replace(20, 2)"
   ]
  },
  {
   "cell_type": "markdown",
   "id": "55e8cd41",
   "metadata": {},
   "source": [
    "Стаж работы в 1100 лет выглядит нереально, узнаем как часто встречается данная аномалия и для каких групп дохода.\n",
    "Для проверки примем максимальный стаж работы 60 лет, для выявления аномалий в группах"
   ]
  },
  {
   "cell_type": "code",
   "execution_count": 29,
   "id": "1a91cef0",
   "metadata": {},
   "outputs": [
    {
     "data": {
      "text/plain": [
       "пенсионер      3443\n",
       "безработный       2\n",
       "Name: income_type, dtype: int64"
      ]
     },
     "execution_count": 29,
     "metadata": {},
     "output_type": "execute_result"
    }
   ],
   "source": [
    "df_new[df_new['total_year_employed'] > 60]['income_type'].value_counts()"
   ]
  },
  {
   "cell_type": "markdown",
   "id": "e35c3df6",
   "metadata": {},
   "source": [
    "Оснавная проблема со стажем находится в группе пенсионер, а так же при детальном изучении аномалия стажа обнаружена в группе безработный. \n",
    "Для пенсионеров стаж заменим расчетным 49 лет  исходя из возраста выхода на пенсию 65 и началом работы в 16 лет.\n",
    "Для группы безработный заменим на 0."
   ]
  },
  {
   "cell_type": "code",
   "execution_count": 30,
   "id": "df27788c",
   "metadata": {},
   "outputs": [],
   "source": [
    "df_new.loc[df_new['income_type'] == 'пенсионер', 'total_year_employed'] = 49"
   ]
  },
  {
   "cell_type": "code",
   "execution_count": 31,
   "id": "ab88ba9d",
   "metadata": {},
   "outputs": [],
   "source": [
    "df_new.loc[df_new['income_type'] == 'безработный'] = 0"
   ]
  },
  {
   "cell_type": "markdown",
   "id": "9c748f21",
   "metadata": {},
   "source": [
    "Проверим данные после изменения"
   ]
  },
  {
   "cell_type": "code",
   "execution_count": 32,
   "id": "50fecff2",
   "metadata": {},
   "outputs": [
    {
     "data": {
      "text/html": [
       "<div>\n",
       "<style scoped>\n",
       "    .dataframe tbody tr th:only-of-type {\n",
       "        vertical-align: middle;\n",
       "    }\n",
       "\n",
       "    .dataframe tbody tr th {\n",
       "        vertical-align: top;\n",
       "    }\n",
       "\n",
       "    .dataframe thead th {\n",
       "        text-align: right;\n",
       "    }\n",
       "</style>\n",
       "<table border=\"1\" class=\"dataframe\">\n",
       "  <thead>\n",
       "    <tr style=\"text-align: right;\">\n",
       "      <th></th>\n",
       "      <th>number_of_children</th>\n",
       "      <th>total_year_employed</th>\n",
       "      <th>age_years</th>\n",
       "      <th>education_id</th>\n",
       "      <th>family_status_id</th>\n",
       "      <th>debt</th>\n",
       "      <th>monthly_income</th>\n",
       "    </tr>\n",
       "  </thead>\n",
       "  <tbody>\n",
       "    <tr>\n",
       "      <td>count</td>\n",
       "      <td>19351.000000</td>\n",
       "      <td>19351.000000</td>\n",
       "      <td>19351.000000</td>\n",
       "      <td>19351.000000</td>\n",
       "      <td>19351.000000</td>\n",
       "      <td>19351.000000</td>\n",
       "      <td>1.935100e+04</td>\n",
       "    </tr>\n",
       "    <tr>\n",
       "      <td>mean</td>\n",
       "      <td>0.479562</td>\n",
       "      <td>13.605498</td>\n",
       "      <td>43.251408</td>\n",
       "      <td>0.819027</td>\n",
       "      <td>0.972198</td>\n",
       "      <td>0.081133</td>\n",
       "      <td>1.674082e+05</td>\n",
       "    </tr>\n",
       "    <tr>\n",
       "      <td>std</td>\n",
       "      <td>0.753893</td>\n",
       "      <td>17.435919</td>\n",
       "      <td>12.586540</td>\n",
       "      <td>0.550134</td>\n",
       "      <td>1.420613</td>\n",
       "      <td>0.273046</td>\n",
       "      <td>1.029824e+05</td>\n",
       "    </tr>\n",
       "    <tr>\n",
       "      <td>min</td>\n",
       "      <td>0.000000</td>\n",
       "      <td>0.000000</td>\n",
       "      <td>0.000000</td>\n",
       "      <td>0.000000</td>\n",
       "      <td>0.000000</td>\n",
       "      <td>0.000000</td>\n",
       "      <td>0.000000e+00</td>\n",
       "    </tr>\n",
       "    <tr>\n",
       "      <td>25%</td>\n",
       "      <td>0.000000</td>\n",
       "      <td>2.000000</td>\n",
       "      <td>33.000000</td>\n",
       "      <td>1.000000</td>\n",
       "      <td>0.000000</td>\n",
       "      <td>0.000000</td>\n",
       "      <td>1.030230e+05</td>\n",
       "    </tr>\n",
       "    <tr>\n",
       "      <td>50%</td>\n",
       "      <td>0.000000</td>\n",
       "      <td>6.000000</td>\n",
       "      <td>42.000000</td>\n",
       "      <td>1.000000</td>\n",
       "      <td>0.000000</td>\n",
       "      <td>0.000000</td>\n",
       "      <td>1.450050e+05</td>\n",
       "    </tr>\n",
       "    <tr>\n",
       "      <td>75%</td>\n",
       "      <td>1.000000</td>\n",
       "      <td>15.000000</td>\n",
       "      <td>53.000000</td>\n",
       "      <td>1.000000</td>\n",
       "      <td>1.000000</td>\n",
       "      <td>0.000000</td>\n",
       "      <td>2.034345e+05</td>\n",
       "    </tr>\n",
       "    <tr>\n",
       "      <td>max</td>\n",
       "      <td>5.000000</td>\n",
       "      <td>50.000000</td>\n",
       "      <td>75.000000</td>\n",
       "      <td>4.000000</td>\n",
       "      <td>4.000000</td>\n",
       "      <td>1.000000</td>\n",
       "      <td>2.265604e+06</td>\n",
       "    </tr>\n",
       "  </tbody>\n",
       "</table>\n",
       "</div>"
      ],
      "text/plain": [
       "       number_of_children  total_year_employed     age_years  education_id  \\\n",
       "count        19351.000000         19351.000000  19351.000000  19351.000000   \n",
       "mean             0.479562            13.605498     43.251408      0.819027   \n",
       "std              0.753893            17.435919     12.586540      0.550134   \n",
       "min              0.000000             0.000000      0.000000      0.000000   \n",
       "25%              0.000000             2.000000     33.000000      1.000000   \n",
       "50%              0.000000             6.000000     42.000000      1.000000   \n",
       "75%              1.000000            15.000000     53.000000      1.000000   \n",
       "max              5.000000            50.000000     75.000000      4.000000   \n",
       "\n",
       "       family_status_id          debt  monthly_income  \n",
       "count      19351.000000  19351.000000    1.935100e+04  \n",
       "mean           0.972198      0.081133    1.674082e+05  \n",
       "std            1.420613      0.273046    1.029824e+05  \n",
       "min            0.000000      0.000000    0.000000e+00  \n",
       "25%            0.000000      0.000000    1.030230e+05  \n",
       "50%            0.000000      0.000000    1.450050e+05  \n",
       "75%            1.000000      0.000000    2.034345e+05  \n",
       "max            4.000000      1.000000    2.265604e+06  "
      ]
     },
     "execution_count": 32,
     "metadata": {},
     "output_type": "execute_result"
    }
   ],
   "source": [
    "df_new.describe()"
   ]
  },
  {
   "cell_type": "markdown",
   "id": "42adb18c",
   "metadata": {},
   "source": [
    "В даанных мы видим строки с нулевыми минимальными значениями, проверим их. Для поиска неявных пропущенных данных применим условие education = 0, так в этом столбце не должно быть значения равногу нулю."
   ]
  },
  {
   "cell_type": "code",
   "execution_count": 33,
   "id": "3eface2c",
   "metadata": {},
   "outputs": [
    {
     "data": {
      "text/plain": [
       "array(['высшее', 'среднее', 'неоконченное высшее', 'начальное',\n",
       "       'ученая степень', 0], dtype=object)"
      ]
     },
     "execution_count": 33,
     "metadata": {},
     "output_type": "execute_result"
    }
   ],
   "source": [
    "df_new['education'].unique()"
   ]
  },
  {
   "cell_type": "markdown",
   "id": "1e50f52b",
   "metadata": {},
   "source": [
    "Оценим строки целиком для которых выполняется условие education=0"
   ]
  },
  {
   "cell_type": "code",
   "execution_count": 34,
   "id": "46ee67d3",
   "metadata": {},
   "outputs": [
    {
     "data": {
      "text/html": [
       "<div>\n",
       "<style scoped>\n",
       "    .dataframe tbody tr th:only-of-type {\n",
       "        vertical-align: middle;\n",
       "    }\n",
       "\n",
       "    .dataframe tbody tr th {\n",
       "        vertical-align: top;\n",
       "    }\n",
       "\n",
       "    .dataframe thead th {\n",
       "        text-align: right;\n",
       "    }\n",
       "</style>\n",
       "<table border=\"1\" class=\"dataframe\">\n",
       "  <thead>\n",
       "    <tr style=\"text-align: right;\">\n",
       "      <th></th>\n",
       "      <th>number_of_children</th>\n",
       "      <th>total_year_employed</th>\n",
       "      <th>age_years</th>\n",
       "      <th>education</th>\n",
       "      <th>education_id</th>\n",
       "      <th>family_status</th>\n",
       "      <th>family_status_id</th>\n",
       "      <th>gender</th>\n",
       "      <th>income_type</th>\n",
       "      <th>debt</th>\n",
       "      <th>monthly_income</th>\n",
       "      <th>purpose</th>\n",
       "    </tr>\n",
       "  </thead>\n",
       "  <tbody>\n",
       "    <tr>\n",
       "      <td>2832</td>\n",
       "      <td>0</td>\n",
       "      <td>0</td>\n",
       "      <td>0</td>\n",
       "      <td>0</td>\n",
       "      <td>0</td>\n",
       "      <td>0</td>\n",
       "      <td>0</td>\n",
       "      <td>0</td>\n",
       "      <td>0</td>\n",
       "      <td>0</td>\n",
       "      <td>0</td>\n",
       "      <td>0</td>\n",
       "    </tr>\n",
       "    <tr>\n",
       "      <td>13347</td>\n",
       "      <td>0</td>\n",
       "      <td>0</td>\n",
       "      <td>0</td>\n",
       "      <td>0</td>\n",
       "      <td>0</td>\n",
       "      <td>0</td>\n",
       "      <td>0</td>\n",
       "      <td>0</td>\n",
       "      <td>0</td>\n",
       "      <td>0</td>\n",
       "      <td>0</td>\n",
       "      <td>0</td>\n",
       "    </tr>\n",
       "  </tbody>\n",
       "</table>\n",
       "</div>"
      ],
      "text/plain": [
       "       number_of_children  total_year_employed  age_years education  \\\n",
       "2832                    0                    0          0         0   \n",
       "13347                   0                    0          0         0   \n",
       "\n",
       "       education_id family_status  family_status_id gender income_type  debt  \\\n",
       "2832              0             0                 0      0           0     0   \n",
       "13347             0             0                 0      0           0     0   \n",
       "\n",
       "       monthly_income purpose  \n",
       "2832                0       0  \n",
       "13347               0       0  "
      ]
     },
     "execution_count": 34,
     "metadata": {},
     "output_type": "execute_result"
    }
   ],
   "source": [
    "df_new[df_new['education'] == 0]"
   ]
  },
  {
   "cell_type": "markdown",
   "id": "398c1920",
   "metadata": {},
   "source": [
    "Выявленных строках полностью отсутствует информация\n",
    "Перезапишем данные исключая строки, где education равно 0"
   ]
  },
  {
   "cell_type": "code",
   "execution_count": 35,
   "id": "a162ee43",
   "metadata": {},
   "outputs": [],
   "source": [
    "df_new = df_new[df_new['education'] != 0]"
   ]
  },
  {
   "cell_type": "markdown",
   "id": "68151d28",
   "metadata": {},
   "source": [
    "Провери результат перезаписи Data Frame"
   ]
  },
  {
   "cell_type": "code",
   "execution_count": 36,
   "id": "dc09a081",
   "metadata": {},
   "outputs": [
    {
     "data": {
      "text/html": [
       "<div>\n",
       "<style scoped>\n",
       "    .dataframe tbody tr th:only-of-type {\n",
       "        vertical-align: middle;\n",
       "    }\n",
       "\n",
       "    .dataframe tbody tr th {\n",
       "        vertical-align: top;\n",
       "    }\n",
       "\n",
       "    .dataframe thead th {\n",
       "        text-align: right;\n",
       "    }\n",
       "</style>\n",
       "<table border=\"1\" class=\"dataframe\">\n",
       "  <thead>\n",
       "    <tr style=\"text-align: right;\">\n",
       "      <th></th>\n",
       "      <th>number_of_children</th>\n",
       "      <th>total_year_employed</th>\n",
       "      <th>age_years</th>\n",
       "      <th>education</th>\n",
       "      <th>education_id</th>\n",
       "      <th>family_status</th>\n",
       "      <th>family_status_id</th>\n",
       "      <th>gender</th>\n",
       "      <th>income_type</th>\n",
       "      <th>debt</th>\n",
       "      <th>monthly_income</th>\n",
       "      <th>purpose</th>\n",
       "    </tr>\n",
       "  </thead>\n",
       "  <tbody>\n",
       "  </tbody>\n",
       "</table>\n",
       "</div>"
      ],
      "text/plain": [
       "Empty DataFrame\n",
       "Columns: [number_of_children, total_year_employed, age_years, education, education_id, family_status, family_status_id, gender, income_type, debt, monthly_income, purpose]\n",
       "Index: []"
      ]
     },
     "execution_count": 36,
     "metadata": {},
     "output_type": "execute_result"
    }
   ],
   "source": [
    "df_new[df_new['education'] == 0]"
   ]
  },
  {
   "cell_type": "code",
   "execution_count": 37,
   "id": "dfa20fcc",
   "metadata": {},
   "outputs": [
    {
     "data": {
      "text/plain": [
       "array(['женат / замужем', 'гражданский брак', 'вдовец / вдова',\n",
       "       'в разводе', 'Не женат / не замужем'], dtype=object)"
      ]
     },
     "execution_count": 37,
     "metadata": {},
     "output_type": "execute_result"
    }
   ],
   "source": [
    "df_new['family_status'].unique()"
   ]
  },
  {
   "cell_type": "markdown",
   "id": "5a0742ae",
   "metadata": {},
   "source": [
    "В значениях family_status обнаружено нарушение регистра записи, приведем все значения к нижнему регистру"
   ]
  },
  {
   "cell_type": "code",
   "execution_count": 38,
   "id": "6d611848",
   "metadata": {},
   "outputs": [],
   "source": [
    "df_new['family_status'] = df_new['family_status'].str.lower()"
   ]
  },
  {
   "cell_type": "code",
   "execution_count": 39,
   "id": "aba80387",
   "metadata": {},
   "outputs": [
    {
     "data": {
      "text/plain": [
       "array(['F', 'M', 'XNA'], dtype=object)"
      ]
     },
     "execution_count": 39,
     "metadata": {},
     "output_type": "execute_result"
    }
   ],
   "source": [
    "df_new['gender'].unique()"
   ]
  },
  {
   "cell_type": "code",
   "execution_count": 40,
   "id": "a6a6f1b1",
   "metadata": {},
   "outputs": [
    {
     "data": {
      "text/html": [
       "<div>\n",
       "<style scoped>\n",
       "    .dataframe tbody tr th:only-of-type {\n",
       "        vertical-align: middle;\n",
       "    }\n",
       "\n",
       "    .dataframe tbody tr th {\n",
       "        vertical-align: top;\n",
       "    }\n",
       "\n",
       "    .dataframe thead th {\n",
       "        text-align: right;\n",
       "    }\n",
       "</style>\n",
       "<table border=\"1\" class=\"dataframe\">\n",
       "  <thead>\n",
       "    <tr style=\"text-align: right;\">\n",
       "      <th></th>\n",
       "      <th>number_of_children</th>\n",
       "      <th>total_year_employed</th>\n",
       "      <th>age_years</th>\n",
       "      <th>education</th>\n",
       "      <th>education_id</th>\n",
       "      <th>family_status</th>\n",
       "      <th>family_status_id</th>\n",
       "      <th>gender</th>\n",
       "      <th>income_type</th>\n",
       "      <th>debt</th>\n",
       "      <th>monthly_income</th>\n",
       "      <th>purpose</th>\n",
       "    </tr>\n",
       "  </thead>\n",
       "  <tbody>\n",
       "    <tr>\n",
       "      <td>9662</td>\n",
       "      <td>0</td>\n",
       "      <td>6</td>\n",
       "      <td>24</td>\n",
       "      <td>неоконченное высшее</td>\n",
       "      <td>2</td>\n",
       "      <td>гражданский брак</td>\n",
       "      <td>1</td>\n",
       "      <td>XNA</td>\n",
       "      <td>компаньон</td>\n",
       "      <td>0</td>\n",
       "      <td>203905</td>\n",
       "      <td>покупка недвижимости</td>\n",
       "    </tr>\n",
       "  </tbody>\n",
       "</table>\n",
       "</div>"
      ],
      "text/plain": [
       "      number_of_children  total_year_employed  age_years            education  \\\n",
       "9662                   0                    6         24  неоконченное высшее   \n",
       "\n",
       "      education_id     family_status  family_status_id gender income_type  \\\n",
       "9662             2  гражданский брак                 1    XNA   компаньон   \n",
       "\n",
       "      debt  monthly_income               purpose  \n",
       "9662     0          203905  покупка недвижимости  "
      ]
     },
     "execution_count": 40,
     "metadata": {},
     "output_type": "execute_result"
    }
   ],
   "source": [
    "df_new[df_new['gender'] == 'XNA']"
   ]
  },
  {
   "cell_type": "markdown",
   "id": "1d2cf494",
   "metadata": {},
   "source": [
    "Обнаружена одна запись с непонятным значением 'XNA'"
   ]
  },
  {
   "cell_type": "code",
   "execution_count": 41,
   "id": "9f1d8481",
   "metadata": {},
   "outputs": [
    {
     "data": {
      "text/plain": [
       "array(['сотрудник', 'пенсионер', 'компаньон', 'госслужащий', 'студент',\n",
       "       'предприниматель', 'в декрете'], dtype=object)"
      ]
     },
     "execution_count": 41,
     "metadata": {},
     "output_type": "execute_result"
    }
   ],
   "source": [
    "df_new['income_type'].unique()"
   ]
  },
  {
   "cell_type": "markdown",
   "id": "9eeef642",
   "metadata": {},
   "source": [
    "С типом дохода все впорядке"
   ]
  },
  {
   "cell_type": "code",
   "execution_count": 42,
   "id": "a34c5166",
   "metadata": {},
   "outputs": [
    {
     "data": {
      "text/plain": [
       "array(['покупка жилья', 'приобретение автомобиля',\n",
       "       'дополнительное образование', 'сыграть свадьбу',\n",
       "       'операции с жильем', 'образование', 'на проведение свадьбы',\n",
       "       'покупка жилья для семьи', 'покупка недвижимости',\n",
       "       'покупка коммерческой недвижимости', 'покупка жилой недвижимости',\n",
       "       'строительство собственной недвижимости', 'недвижимость',\n",
       "       'строительство недвижимости', 'на покупку подержанного автомобиля',\n",
       "       'на покупку своего автомобиля',\n",
       "       'операции с коммерческой недвижимостью', 'жилье',\n",
       "       'операции со своей недвижимостью', 'автомобили',\n",
       "       'заняться образованием', 'получение образования',\n",
       "       'сделка с подержанным автомобилем', 'автомобиль', 'свадьба',\n",
       "       'получение дополнительного образования', 'покупка своего жилья',\n",
       "       'операции с недвижимостью', 'получение высшего образования',\n",
       "       'свой автомобиль', 'сделка с автомобилем',\n",
       "       'профильное образование', 'высшее образование',\n",
       "       'покупка жилья для сдачи', 'на покупку автомобиля',\n",
       "       'строительство жилой недвижимости', 'ремонт жилью',\n",
       "       'заняться высшим образованием'], dtype=object)"
      ]
     },
     "execution_count": 42,
     "metadata": {},
     "output_type": "execute_result"
    }
   ],
   "source": [
    "df_new['purpose'].unique()"
   ]
  },
  {
   "cell_type": "markdown",
   "id": "240473c6",
   "metadata": {},
   "source": [
    "Явных нарушений в purpose не выявленно"
   ]
  },
  {
   "cell_type": "markdown",
   "id": "6fe6d365",
   "metadata": {},
   "source": [
    "### Выводы по разделу  "
   ]
  },
  {
   "cell_type": "markdown",
   "id": "d1d1bce5",
   "metadata": {},
   "source": [
    "Была прведена оцунка предоставленных данных, входе обработки данных были исправленны названия столбцов на более информативные, выявлены строки с отсутствующеми данными которые могли повлиять на дальнейший анализ и от которых было принято решение избавиться. Исправлен трудовой стаж по котегории пенсионеры и безработные. Также осталось выявленно некоректное значения, которое было оставленно, так как на дальнейший анализ оно повлиять не должно."
   ]
  },
  {
   "cell_type": "markdown",
   "id": "e86badb9",
   "metadata": {},
   "source": [
    "**Создадим два новых дата фрейма** \n",
    "\n",
    "1. education - каждому уникальному значению из education соответствует уникальное значение education_id.\n",
    "\n",
    "2. family_status -каждому уникальному значению из family_status соответствует уникальное значение family_status_id.\n",
    "\n",
    "Затем удалим из исходного датафрейма df_new столбцы education и family_status, оставив только их идентификаторы: education_id и family_status_id. \n",
    "\n",
    "Новые датафреймы — это «словари», к которым можно обращаться по идентификатору."
   ]
  },
  {
   "cell_type": "code",
   "execution_count": 43,
   "id": "e39d9bbe",
   "metadata": {},
   "outputs": [],
   "source": [
    "education = df_new[['education', 'education_id']]"
   ]
  },
  {
   "cell_type": "code",
   "execution_count": 44,
   "id": "b6955439",
   "metadata": {},
   "outputs": [],
   "source": [
    "family_status = df_new[['family_status', 'family_status_id']]"
   ]
  },
  {
   "cell_type": "code",
   "execution_count": 45,
   "id": "da1633c1",
   "metadata": {},
   "outputs": [],
   "source": [
    "df_new = df_new[['number_of_children', 'total_year_employed', 'age_years',\n",
    "       'education_id', 'family_status_id', 'gender',\n",
    "       'income_type', 'debt', 'monthly_income', 'purpose']]"
   ]
  },
  {
   "cell_type": "markdown",
   "id": "41d3d998",
   "metadata": {},
   "source": [
    "Создадима функцию, которая, на основании диапазонов, указанных ниже, сформирует столбец total_income_category с категориями:\n",
    "\n",
    "0–30000 — 'E'\n",
    "\n",
    "30001–50000 — 'D'\n",
    "\n",
    "50001–200000 — 'C'\n",
    "\n",
    "200001–1000000 — 'B'\n",
    "\n",
    "1000001 и выше — 'A'."
   ]
  },
  {
   "cell_type": "code",
   "execution_count": 46,
   "id": "ba55f993",
   "metadata": {},
   "outputs": [],
   "source": [
    "def category(monthly_income):\n",
    "    if monthly_income <= 30000:\n",
    "        return 'E'\n",
    "    if 30001 < monthly_income <= 50000:\n",
    "        return 'D'\n",
    "    if 50001 <= monthly_income <= 200000:\n",
    "        return 'C'\n",
    "    if 200001 <= monthly_income <= 1000000:\n",
    "        return 'B'\n",
    "    if 1000001 <= monthly_income:\n",
    "        return 'A'\n",
    "    return 'Ошибка классификации'"
   ]
  },
  {
   "cell_type": "code",
   "execution_count": 47,
   "id": "a4b412a3",
   "metadata": {},
   "outputs": [],
   "source": [
    "df_new['total_income_category'] = df_new['monthly_income'].apply(category)"
   ]
  },
  {
   "cell_type": "markdown",
   "id": "b6c19505",
   "metadata": {},
   "source": [
    "Выполним проверку работы функции, оценим уникальные значения в столбце total_income_category"
   ]
  },
  {
   "cell_type": "code",
   "execution_count": 48,
   "id": "5be3e354",
   "metadata": {},
   "outputs": [
    {
     "data": {
      "text/plain": [
       "array(['B', 'C', 'D', 'E', 'A'], dtype=object)"
      ]
     },
     "execution_count": 48,
     "metadata": {},
     "output_type": "execute_result"
    }
   ],
   "source": [
    "df_new['total_income_category'].unique()"
   ]
  },
  {
   "cell_type": "code",
   "execution_count": 49,
   "id": "e9277f2e",
   "metadata": {},
   "outputs": [
    {
     "data": {
      "text/html": [
       "<div>\n",
       "<style scoped>\n",
       "    .dataframe tbody tr th:only-of-type {\n",
       "        vertical-align: middle;\n",
       "    }\n",
       "\n",
       "    .dataframe tbody tr th {\n",
       "        vertical-align: top;\n",
       "    }\n",
       "\n",
       "    .dataframe thead th {\n",
       "        text-align: right;\n",
       "    }\n",
       "</style>\n",
       "<table border=\"1\" class=\"dataframe\">\n",
       "  <thead>\n",
       "    <tr style=\"text-align: right;\">\n",
       "      <th></th>\n",
       "      <th>number_of_children</th>\n",
       "      <th>total_year_employed</th>\n",
       "      <th>age_years</th>\n",
       "      <th>education_id</th>\n",
       "      <th>family_status_id</th>\n",
       "      <th>gender</th>\n",
       "      <th>income_type</th>\n",
       "      <th>debt</th>\n",
       "      <th>monthly_income</th>\n",
       "      <th>purpose</th>\n",
       "      <th>total_income_category</th>\n",
       "    </tr>\n",
       "  </thead>\n",
       "  <tbody>\n",
       "    <tr>\n",
       "      <td>0</td>\n",
       "      <td>1</td>\n",
       "      <td>23</td>\n",
       "      <td>42</td>\n",
       "      <td>0</td>\n",
       "      <td>0</td>\n",
       "      <td>F</td>\n",
       "      <td>сотрудник</td>\n",
       "      <td>0</td>\n",
       "      <td>253875</td>\n",
       "      <td>покупка жилья</td>\n",
       "      <td>B</td>\n",
       "    </tr>\n",
       "    <tr>\n",
       "      <td>1</td>\n",
       "      <td>1</td>\n",
       "      <td>11</td>\n",
       "      <td>36</td>\n",
       "      <td>1</td>\n",
       "      <td>0</td>\n",
       "      <td>F</td>\n",
       "      <td>сотрудник</td>\n",
       "      <td>0</td>\n",
       "      <td>112080</td>\n",
       "      <td>приобретение автомобиля</td>\n",
       "      <td>C</td>\n",
       "    </tr>\n",
       "    <tr>\n",
       "      <td>2</td>\n",
       "      <td>0</td>\n",
       "      <td>15</td>\n",
       "      <td>33</td>\n",
       "      <td>1</td>\n",
       "      <td>0</td>\n",
       "      <td>M</td>\n",
       "      <td>сотрудник</td>\n",
       "      <td>0</td>\n",
       "      <td>145885</td>\n",
       "      <td>покупка жилья</td>\n",
       "      <td>C</td>\n",
       "    </tr>\n",
       "    <tr>\n",
       "      <td>3</td>\n",
       "      <td>3</td>\n",
       "      <td>11</td>\n",
       "      <td>32</td>\n",
       "      <td>1</td>\n",
       "      <td>0</td>\n",
       "      <td>M</td>\n",
       "      <td>сотрудник</td>\n",
       "      <td>0</td>\n",
       "      <td>267628</td>\n",
       "      <td>дополнительное образование</td>\n",
       "      <td>B</td>\n",
       "    </tr>\n",
       "    <tr>\n",
       "      <td>4</td>\n",
       "      <td>0</td>\n",
       "      <td>49</td>\n",
       "      <td>53</td>\n",
       "      <td>1</td>\n",
       "      <td>1</td>\n",
       "      <td>F</td>\n",
       "      <td>пенсионер</td>\n",
       "      <td>0</td>\n",
       "      <td>158616</td>\n",
       "      <td>сыграть свадьбу</td>\n",
       "      <td>C</td>\n",
       "    </tr>\n",
       "  </tbody>\n",
       "</table>\n",
       "</div>"
      ],
      "text/plain": [
       "   number_of_children  total_year_employed  age_years  education_id  \\\n",
       "0                   1                   23         42             0   \n",
       "1                   1                   11         36             1   \n",
       "2                   0                   15         33             1   \n",
       "3                   3                   11         32             1   \n",
       "4                   0                   49         53             1   \n",
       "\n",
       "   family_status_id gender income_type  debt  monthly_income  \\\n",
       "0                 0      F   сотрудник     0          253875   \n",
       "1                 0      F   сотрудник     0          112080   \n",
       "2                 0      M   сотрудник     0          145885   \n",
       "3                 0      M   сотрудник     0          267628   \n",
       "4                 1      F   пенсионер     0          158616   \n",
       "\n",
       "                      purpose total_income_category  \n",
       "0               покупка жилья                     B  \n",
       "1     приобретение автомобиля                     C  \n",
       "2               покупка жилья                     C  \n",
       "3  дополнительное образование                     B  \n",
       "4             сыграть свадьбу                     C  "
      ]
     },
     "execution_count": 49,
     "metadata": {},
     "output_type": "execute_result"
    }
   ],
   "source": [
    "df_new.head()"
   ]
  },
  {
   "cell_type": "markdown",
   "id": "d5cfce8f",
   "metadata": {},
   "source": [
    "Создадим функцию, которая на основании данных из столбца purpose сформирует новый столбец purpose_category, в который войдут следующие категории:\n",
    "\n",
    "'операции с автомобилем'\n",
    "\n",
    "'операции с недвижимостью'\n",
    "\n",
    "'проведение свадьбы'\n",
    "\n",
    "'получение образования'."
   ]
  },
  {
   "cell_type": "code",
   "execution_count": 50,
   "id": "c9384122",
   "metadata": {},
   "outputs": [],
   "source": [
    "def credit_purpose_status(credit_purpose):\n",
    "    if 'образован' in credit_purpose:\n",
    "        return 'получение образования'\n",
    "    if 'авто' in credit_purpose:\n",
    "        return 'операции с автомобилем'\n",
    "    if 'свадь' in credit_purpose:\n",
    "        return 'проведение свадьбы'\n",
    "    if 'жиль' in credit_purpose or 'недв' in credit_purpose:\n",
    "        return 'операции с недвижимостью'\n",
    "    return 'Ошибка классификации'"
   ]
  },
  {
   "cell_type": "code",
   "execution_count": 51,
   "id": "1bdbaa40",
   "metadata": {},
   "outputs": [],
   "source": [
    "df_new['purpose_category'] = df_new['purpose'].apply(credit_purpose_status)"
   ]
  },
  {
   "cell_type": "markdown",
   "id": "c736d95a",
   "metadata": {},
   "source": [
    "Выполним проверку работы функции, посмотрим уникальные значения в столбце purpose_category"
   ]
  },
  {
   "cell_type": "code",
   "execution_count": 52,
   "id": "a4dc5159",
   "metadata": {},
   "outputs": [
    {
     "data": {
      "text/plain": [
       "array(['операции с недвижимостью', 'операции с автомобилем',\n",
       "       'получение образования', 'проведение свадьбы'], dtype=object)"
      ]
     },
     "execution_count": 52,
     "metadata": {},
     "output_type": "execute_result"
    }
   ],
   "source": [
    "df_new['purpose_category'].unique()"
   ]
  },
  {
   "cell_type": "code",
   "execution_count": 53,
   "id": "3fdc3881",
   "metadata": {},
   "outputs": [
    {
     "data": {
      "text/html": [
       "<div>\n",
       "<style scoped>\n",
       "    .dataframe tbody tr th:only-of-type {\n",
       "        vertical-align: middle;\n",
       "    }\n",
       "\n",
       "    .dataframe tbody tr th {\n",
       "        vertical-align: top;\n",
       "    }\n",
       "\n",
       "    .dataframe thead th {\n",
       "        text-align: right;\n",
       "    }\n",
       "</style>\n",
       "<table border=\"1\" class=\"dataframe\">\n",
       "  <thead>\n",
       "    <tr style=\"text-align: right;\">\n",
       "      <th></th>\n",
       "      <th>number_of_children</th>\n",
       "      <th>total_year_employed</th>\n",
       "      <th>age_years</th>\n",
       "      <th>education_id</th>\n",
       "      <th>family_status_id</th>\n",
       "      <th>gender</th>\n",
       "      <th>income_type</th>\n",
       "      <th>debt</th>\n",
       "      <th>monthly_income</th>\n",
       "      <th>purpose</th>\n",
       "      <th>total_income_category</th>\n",
       "      <th>purpose_category</th>\n",
       "    </tr>\n",
       "  </thead>\n",
       "  <tbody>\n",
       "    <tr>\n",
       "      <td>0</td>\n",
       "      <td>1</td>\n",
       "      <td>23</td>\n",
       "      <td>42</td>\n",
       "      <td>0</td>\n",
       "      <td>0</td>\n",
       "      <td>F</td>\n",
       "      <td>сотрудник</td>\n",
       "      <td>0</td>\n",
       "      <td>253875</td>\n",
       "      <td>покупка жилья</td>\n",
       "      <td>B</td>\n",
       "      <td>операции с недвижимостью</td>\n",
       "    </tr>\n",
       "    <tr>\n",
       "      <td>1</td>\n",
       "      <td>1</td>\n",
       "      <td>11</td>\n",
       "      <td>36</td>\n",
       "      <td>1</td>\n",
       "      <td>0</td>\n",
       "      <td>F</td>\n",
       "      <td>сотрудник</td>\n",
       "      <td>0</td>\n",
       "      <td>112080</td>\n",
       "      <td>приобретение автомобиля</td>\n",
       "      <td>C</td>\n",
       "      <td>операции с автомобилем</td>\n",
       "    </tr>\n",
       "    <tr>\n",
       "      <td>2</td>\n",
       "      <td>0</td>\n",
       "      <td>15</td>\n",
       "      <td>33</td>\n",
       "      <td>1</td>\n",
       "      <td>0</td>\n",
       "      <td>M</td>\n",
       "      <td>сотрудник</td>\n",
       "      <td>0</td>\n",
       "      <td>145885</td>\n",
       "      <td>покупка жилья</td>\n",
       "      <td>C</td>\n",
       "      <td>операции с недвижимостью</td>\n",
       "    </tr>\n",
       "    <tr>\n",
       "      <td>3</td>\n",
       "      <td>3</td>\n",
       "      <td>11</td>\n",
       "      <td>32</td>\n",
       "      <td>1</td>\n",
       "      <td>0</td>\n",
       "      <td>M</td>\n",
       "      <td>сотрудник</td>\n",
       "      <td>0</td>\n",
       "      <td>267628</td>\n",
       "      <td>дополнительное образование</td>\n",
       "      <td>B</td>\n",
       "      <td>получение образования</td>\n",
       "    </tr>\n",
       "    <tr>\n",
       "      <td>4</td>\n",
       "      <td>0</td>\n",
       "      <td>49</td>\n",
       "      <td>53</td>\n",
       "      <td>1</td>\n",
       "      <td>1</td>\n",
       "      <td>F</td>\n",
       "      <td>пенсионер</td>\n",
       "      <td>0</td>\n",
       "      <td>158616</td>\n",
       "      <td>сыграть свадьбу</td>\n",
       "      <td>C</td>\n",
       "      <td>проведение свадьбы</td>\n",
       "    </tr>\n",
       "  </tbody>\n",
       "</table>\n",
       "</div>"
      ],
      "text/plain": [
       "   number_of_children  total_year_employed  age_years  education_id  \\\n",
       "0                   1                   23         42             0   \n",
       "1                   1                   11         36             1   \n",
       "2                   0                   15         33             1   \n",
       "3                   3                   11         32             1   \n",
       "4                   0                   49         53             1   \n",
       "\n",
       "   family_status_id gender income_type  debt  monthly_income  \\\n",
       "0                 0      F   сотрудник     0          253875   \n",
       "1                 0      F   сотрудник     0          112080   \n",
       "2                 0      M   сотрудник     0          145885   \n",
       "3                 0      M   сотрудник     0          267628   \n",
       "4                 1      F   пенсионер     0          158616   \n",
       "\n",
       "                      purpose total_income_category          purpose_category  \n",
       "0               покупка жилья                     B  операции с недвижимостью  \n",
       "1     приобретение автомобиля                     C    операции с автомобилем  \n",
       "2               покупка жилья                     C  операции с недвижимостью  \n",
       "3  дополнительное образование                     B     получение образования  \n",
       "4             сыграть свадьбу                     C        проведение свадьбы  "
      ]
     },
     "execution_count": 53,
     "metadata": {},
     "output_type": "execute_result"
    }
   ],
   "source": [
    "df_new.head()"
   ]
  },
  {
   "cell_type": "markdown",
   "id": "6e445422",
   "metadata": {},
   "source": [
    "## Проверка гипотез"
   ]
  },
  {
   "cell_type": "markdown",
   "id": "fa079162",
   "metadata": {},
   "source": [
    "**1. Есть ли зависимость между количеством детей и возвратом кредита в срок?**"
   ]
  },
  {
   "cell_type": "code",
   "execution_count": 54,
   "id": "1324fa60",
   "metadata": {},
   "outputs": [
    {
     "data": {
      "text/html": [
       "<div>\n",
       "<style scoped>\n",
       "    .dataframe tbody tr th:only-of-type {\n",
       "        vertical-align: middle;\n",
       "    }\n",
       "\n",
       "    .dataframe tbody tr th {\n",
       "        vertical-align: top;\n",
       "    }\n",
       "\n",
       "    .dataframe thead th {\n",
       "        text-align: right;\n",
       "    }\n",
       "</style>\n",
       "<table border=\"1\" class=\"dataframe\">\n",
       "  <thead>\n",
       "    <tr style=\"text-align: right;\">\n",
       "      <th>debt</th>\n",
       "      <th>0</th>\n",
       "      <th>1</th>\n",
       "      <th>percent_overdue</th>\n",
       "    </tr>\n",
       "    <tr>\n",
       "      <th>number_of_children</th>\n",
       "      <th></th>\n",
       "      <th></th>\n",
       "      <th></th>\n",
       "    </tr>\n",
       "  </thead>\n",
       "  <tbody>\n",
       "    <tr>\n",
       "      <td>2</td>\n",
       "      <td>1733.0</td>\n",
       "      <td>185.0</td>\n",
       "      <td>9.645464</td>\n",
       "    </tr>\n",
       "    <tr>\n",
       "      <td>1</td>\n",
       "      <td>3978.0</td>\n",
       "      <td>408.0</td>\n",
       "      <td>9.302326</td>\n",
       "    </tr>\n",
       "    <tr>\n",
       "      <td>4</td>\n",
       "      <td>31.0</td>\n",
       "      <td>3.0</td>\n",
       "      <td>8.823529</td>\n",
       "    </tr>\n",
       "    <tr>\n",
       "      <td>0</td>\n",
       "      <td>11757.0</td>\n",
       "      <td>952.0</td>\n",
       "      <td>7.490755</td>\n",
       "    </tr>\n",
       "    <tr>\n",
       "      <td>3</td>\n",
       "      <td>272.0</td>\n",
       "      <td>22.0</td>\n",
       "      <td>7.482993</td>\n",
       "    </tr>\n",
       "    <tr>\n",
       "      <td>5</td>\n",
       "      <td>8.0</td>\n",
       "      <td>NaN</td>\n",
       "      <td>NaN</td>\n",
       "    </tr>\n",
       "  </tbody>\n",
       "</table>\n",
       "</div>"
      ],
      "text/plain": [
       "debt                      0      1  percent_overdue\n",
       "number_of_children                                 \n",
       "2                    1733.0  185.0         9.645464\n",
       "1                    3978.0  408.0         9.302326\n",
       "4                      31.0    3.0         8.823529\n",
       "0                   11757.0  952.0         7.490755\n",
       "3                     272.0   22.0         7.482993\n",
       "5                       8.0    NaN              NaN"
      ]
     },
     "execution_count": 54,
     "metadata": {},
     "output_type": "execute_result"
    }
   ],
   "source": [
    "data_children_pivot = df_new.pivot_table(index=['number_of_children'], columns=['debt'], values='income_type', aggfunc='count')\n",
    "data_children_pivot['percent_overdue'] = (data_children_pivot[1]/(data_children_pivot[0]+data_children_pivot[1]))*100\n",
    "data_children_pivot.sort_values(by='percent_overdue', ascending=False)"
   ]
  },
  {
   "cell_type": "markdown",
   "id": "2ff88cea",
   "metadata": {},
   "source": [
    "Зависимость от количества детей сущесвует, наличие детей снижает вероятность выплаты по кредитам в срок. Лучшим показателем по платежам по кредитам обладают заюмщики без детей и так же высокий уровень по выплатам показала категория с 3 детьми"
   ]
  },
  {
   "cell_type": "markdown",
   "id": "e14b7147",
   "metadata": {},
   "source": [
    "**2. Есть ли зависимость между семейным положением и возвратом кредита в срок?**"
   ]
  },
  {
   "cell_type": "code",
   "execution_count": 55,
   "id": "fae19cda",
   "metadata": {},
   "outputs": [
    {
     "data": {
      "text/plain": [
       "family_status_id  family_status        \n",
       "0                 женат / замужем          12380\n",
       "1                 гражданский брак          4177\n",
       "2                 вдовец / вдова             960\n",
       "3                 в разводе                 1195\n",
       "4                 Не женат / не замужем     2813\n",
       "Name: family_status, dtype: int64"
      ]
     },
     "execution_count": 55,
     "metadata": {},
     "output_type": "execute_result"
    }
   ],
   "source": [
    "status = df.groupby('family_status_id')['family_status'].value_counts()\n",
    "status"
   ]
  },
  {
   "cell_type": "code",
   "execution_count": 56,
   "id": "d74ff050",
   "metadata": {},
   "outputs": [
    {
     "data": {
      "text/html": [
       "<div>\n",
       "<style scoped>\n",
       "    .dataframe tbody tr th:only-of-type {\n",
       "        vertical-align: middle;\n",
       "    }\n",
       "\n",
       "    .dataframe tbody tr th {\n",
       "        vertical-align: top;\n",
       "    }\n",
       "\n",
       "    .dataframe thead th {\n",
       "        text-align: right;\n",
       "    }\n",
       "</style>\n",
       "<table border=\"1\" class=\"dataframe\">\n",
       "  <thead>\n",
       "    <tr style=\"text-align: right;\">\n",
       "      <th>debt</th>\n",
       "      <th>0</th>\n",
       "      <th>1</th>\n",
       "      <th>percent_overdue</th>\n",
       "    </tr>\n",
       "    <tr>\n",
       "      <th>family_status_id</th>\n",
       "      <th></th>\n",
       "      <th></th>\n",
       "      <th></th>\n",
       "    </tr>\n",
       "  </thead>\n",
       "  <tbody>\n",
       "    <tr>\n",
       "      <td>4</td>\n",
       "      <td>2271</td>\n",
       "      <td>254</td>\n",
       "      <td>10.059406</td>\n",
       "    </tr>\n",
       "    <tr>\n",
       "      <td>1</td>\n",
       "      <td>3395</td>\n",
       "      <td>339</td>\n",
       "      <td>9.078736</td>\n",
       "    </tr>\n",
       "    <tr>\n",
       "      <td>0</td>\n",
       "      <td>10297</td>\n",
       "      <td>845</td>\n",
       "      <td>7.583917</td>\n",
       "    </tr>\n",
       "    <tr>\n",
       "      <td>3</td>\n",
       "      <td>1007</td>\n",
       "      <td>76</td>\n",
       "      <td>7.017544</td>\n",
       "    </tr>\n",
       "    <tr>\n",
       "      <td>2</td>\n",
       "      <td>809</td>\n",
       "      <td>56</td>\n",
       "      <td>6.473988</td>\n",
       "    </tr>\n",
       "  </tbody>\n",
       "</table>\n",
       "</div>"
      ],
      "text/plain": [
       "debt                  0    1  percent_overdue\n",
       "family_status_id                             \n",
       "4                  2271  254        10.059406\n",
       "1                  3395  339         9.078736\n",
       "0                 10297  845         7.583917\n",
       "3                  1007   76         7.017544\n",
       "2                   809   56         6.473988"
      ]
     },
     "execution_count": 56,
     "metadata": {},
     "output_type": "execute_result"
    }
   ],
   "source": [
    "data_family_pivot = df_new.pivot_table(index=['family_status_id'], columns=['debt'], values='income_type', aggfunc='count')\n",
    "data_family_pivot['percent_overdue'] = (data_family_pivot[1]/(data_family_pivot[0]+data_family_pivot[1]))*100\n",
    "data_family_pivot.sort_values(by='percent_overdue', ascending=False)"
   ]
  },
  {
   "cell_type": "markdown",
   "id": "99b379fc",
   "metadata": {},
   "source": [
    "Зависимость есть, худшим показателем обладаю группы 4 и 1 - это Не женат / не замужем и гражданский брак.\n",
    "Лучшими показателями обладают группы 2 и 3 - это вдовец / вдова и в разводе"
   ]
  },
  {
   "cell_type": "markdown",
   "id": "7eeb5751",
   "metadata": {},
   "source": [
    "**3. Есть ли зависимость между уровнем дохода и возвратом кредита в срок?**"
   ]
  },
  {
   "cell_type": "code",
   "execution_count": 57,
   "id": "57847c63",
   "metadata": {},
   "outputs": [
    {
     "data": {
      "text/html": [
       "<div>\n",
       "<style scoped>\n",
       "    .dataframe tbody tr th:only-of-type {\n",
       "        vertical-align: middle;\n",
       "    }\n",
       "\n",
       "    .dataframe tbody tr th {\n",
       "        vertical-align: top;\n",
       "    }\n",
       "\n",
       "    .dataframe thead th {\n",
       "        text-align: right;\n",
       "    }\n",
       "</style>\n",
       "<table border=\"1\" class=\"dataframe\">\n",
       "  <thead>\n",
       "    <tr style=\"text-align: right;\">\n",
       "      <th>debt</th>\n",
       "      <th>0</th>\n",
       "      <th>1</th>\n",
       "      <th>percent_overdue</th>\n",
       "    </tr>\n",
       "    <tr>\n",
       "      <th>total_income_category</th>\n",
       "      <th></th>\n",
       "      <th></th>\n",
       "      <th></th>\n",
       "    </tr>\n",
       "  </thead>\n",
       "  <tbody>\n",
       "    <tr>\n",
       "      <td>E</td>\n",
       "      <td>20</td>\n",
       "      <td>2</td>\n",
       "      <td>9.090909</td>\n",
       "    </tr>\n",
       "    <tr>\n",
       "      <td>C</td>\n",
       "      <td>12723</td>\n",
       "      <td>1189</td>\n",
       "      <td>8.546578</td>\n",
       "    </tr>\n",
       "    <tr>\n",
       "      <td>A</td>\n",
       "      <td>23</td>\n",
       "      <td>2</td>\n",
       "      <td>8.000000</td>\n",
       "    </tr>\n",
       "    <tr>\n",
       "      <td>B</td>\n",
       "      <td>4684</td>\n",
       "      <td>356</td>\n",
       "      <td>7.063492</td>\n",
       "    </tr>\n",
       "    <tr>\n",
       "      <td>D</td>\n",
       "      <td>329</td>\n",
       "      <td>21</td>\n",
       "      <td>6.000000</td>\n",
       "    </tr>\n",
       "  </tbody>\n",
       "</table>\n",
       "</div>"
      ],
      "text/plain": [
       "debt                       0     1  percent_overdue\n",
       "total_income_category                              \n",
       "E                         20     2         9.090909\n",
       "C                      12723  1189         8.546578\n",
       "A                         23     2         8.000000\n",
       "B                       4684   356         7.063492\n",
       "D                        329    21         6.000000"
      ]
     },
     "execution_count": 57,
     "metadata": {},
     "output_type": "execute_result"
    }
   ],
   "source": [
    "data_income_pivot = df_new.pivot_table(index=['total_income_category'], columns=['debt'], values='income_type', aggfunc='count')\n",
    "data_income_pivot['percent_overdue'] = (data_income_pivot[1]/(data_income_pivot[0]+data_income_pivot[1]))*100\n",
    "data_income_pivot.sort_values(by='percent_overdue', ascending=False)"
   ]
  },
  {
   "cell_type": "markdown",
   "id": "7ccb34f7",
   "metadata": {},
   "source": [
    "Можно сказать, с увеличением дохода снижается процент просроченных платежей, но при этом лучший результат показала группа с несамым высоким доходом"
   ]
  },
  {
   "cell_type": "markdown",
   "id": "2f3efddb",
   "metadata": {},
   "source": [
    "**4. Как разные цели кредита влияют на его возврат в срок?**"
   ]
  },
  {
   "cell_type": "code",
   "execution_count": 58,
   "id": "1eace6b4",
   "metadata": {},
   "outputs": [
    {
     "data": {
      "text/html": [
       "<div>\n",
       "<style scoped>\n",
       "    .dataframe tbody tr th:only-of-type {\n",
       "        vertical-align: middle;\n",
       "    }\n",
       "\n",
       "    .dataframe tbody tr th {\n",
       "        vertical-align: top;\n",
       "    }\n",
       "\n",
       "    .dataframe thead th {\n",
       "        text-align: right;\n",
       "    }\n",
       "</style>\n",
       "<table border=\"1\" class=\"dataframe\">\n",
       "  <thead>\n",
       "    <tr style=\"text-align: right;\">\n",
       "      <th>debt</th>\n",
       "      <th>0</th>\n",
       "      <th>1</th>\n",
       "      <th>percent_overdue</th>\n",
       "    </tr>\n",
       "    <tr>\n",
       "      <th>purpose_category</th>\n",
       "      <th></th>\n",
       "      <th></th>\n",
       "      <th></th>\n",
       "    </tr>\n",
       "  </thead>\n",
       "  <tbody>\n",
       "    <tr>\n",
       "      <td>операции с автомобилем</td>\n",
       "      <td>3530</td>\n",
       "      <td>367</td>\n",
       "      <td>9.417501</td>\n",
       "    </tr>\n",
       "    <tr>\n",
       "      <td>получение образования</td>\n",
       "      <td>3266</td>\n",
       "      <td>331</td>\n",
       "      <td>9.202113</td>\n",
       "    </tr>\n",
       "    <tr>\n",
       "      <td>проведение свадьбы</td>\n",
       "      <td>1941</td>\n",
       "      <td>158</td>\n",
       "      <td>7.527394</td>\n",
       "    </tr>\n",
       "    <tr>\n",
       "      <td>операции с недвижимостью</td>\n",
       "      <td>9042</td>\n",
       "      <td>714</td>\n",
       "      <td>7.318573</td>\n",
       "    </tr>\n",
       "  </tbody>\n",
       "</table>\n",
       "</div>"
      ],
      "text/plain": [
       "debt                         0    1  percent_overdue\n",
       "purpose_category                                    \n",
       "операции с автомобилем    3530  367         9.417501\n",
       "получение образования     3266  331         9.202113\n",
       "проведение свадьбы        1941  158         7.527394\n",
       "операции с недвижимостью  9042  714         7.318573"
      ]
     },
     "execution_count": 58,
     "metadata": {},
     "output_type": "execute_result"
    }
   ],
   "source": [
    "data_purpose_pivot = df_new.pivot_table(index=['purpose_category'], columns=['debt'], values='income_type', aggfunc='count')\n",
    "data_purpose_pivot['percent_overdue'] = (data_purpose_pivot[1]/(data_purpose_pivot[0]+data_purpose_pivot[1]))*100\n",
    "data_purpose_pivot.sort_values(by='percent_overdue', ascending=False)"
   ]
  },
  {
   "cell_type": "markdown",
   "id": "772cd89a",
   "metadata": {},
   "source": [
    "Лучшим показателем по выплатам в срок обладет группа операции с недвижимостью, данный результат корелируется с проведенными иследованиями выши. Данная группа как правлило обладает более высоким доходом"
   ]
  },
  {
   "cell_type": "markdown",
   "id": "f21c8232",
   "metadata": {},
   "source": [
    "## Общий вывод"
   ]
  },
  {
   "cell_type": "markdown",
   "id": "af414a07",
   "metadata": {},
   "source": [
    "В  данной работе мы иследовали надежность заемщиков. Для проведения оценки были заданы следующте вопросы:\n",
    "\n",
    "* Есть ли зависимость между количеством детей и возвратом кредита в срок?\n",
    "* Есть ли зависимость между семейным положением и возвратом кредита в срок?\n",
    "* Есть ли зависимость между уровнем дохода и возвратом кредита в срок?\n",
    "* Как разные цели кредита влияют на его возврат в срок?\n",
    "\n",
    "В результате мы получили следующие результаты:\n",
    "\n",
    "* Зависимость от количества детей сущесвует, наличие детей снижает вероятность выплаты по кредитам в срок. Лучшим показателем по платежам по кредитам обладают заюмщики без детей и так же высокий уровень по выплатам показалакатегория с 3 детьми\n",
    "\n",
    "\n",
    "* Зависимость есть, худшим показателем обладаю группы 4 и 1 - это Не женат / не замужем и гражданский брак.\n",
    "Лучшими показателями обладают группы 2 и 3 - это вдовец / вдова и в разводе\n",
    "\n",
    "\n",
    "* Можно сказать, с увеличением дохода снижается процент просроченных платежей, но при этом лучший результат показала группа с несамым высоким доходом\n",
    "\n",
    "\n",
    "* Лучшим показателем по выплатам в срок обладет группа операции с недвижимостью, данный результат корелируется с проведенными иследованиями выши. Данная группа как правлило обладает более высоким \n",
    "\n",
    "\n",
    "**Как итог, можно сказать, что лучшими заемщиками являются клиенты с более высоким уровнем дохода, состоящие в браке или берущие кредит для операций с недвижимостью.**"
   ]
  }
 ],
 "metadata": {
  "kernelspec": {
   "display_name": "Python 3 (ipykernel)",
   "language": "python",
   "name": "python3"
  },
  "language_info": {
   "codemirror_mode": {
    "name": "ipython",
    "version": 3
   },
   "file_extension": ".py",
   "mimetype": "text/x-python",
   "name": "python",
   "nbconvert_exporter": "python",
   "pygments_lexer": "ipython3",
   "version": "3.7.8"
  }
 },
 "nbformat": 4,
 "nbformat_minor": 5
}
