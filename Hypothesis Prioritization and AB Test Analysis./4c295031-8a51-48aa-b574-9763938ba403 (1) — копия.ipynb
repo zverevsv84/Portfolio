{
 "cells": [
  {
   "cell_type": "markdown",
   "id": "a795f7cd",
   "metadata": {},
   "source": [
    "# Проект Приоритизация гипотез и Анализ A/B-теста."
   ]
  },
  {
   "cell_type": "markdown",
   "id": "e02745d9",
   "metadata": {},
   "source": [
    "**Часть 1. Приоритизация гипотез.**\n",
    "\n",
    "В файле /datasets/hypothesis.csv 9 гипотез по увеличению выручки интернет-магазина с указанными параметрами Reach, Impact, Confidence, Effort.\n",
    "\n",
    "**Задача**\n",
    "\n",
    "Примените фреймворк ICE для приоритизации гипотез. Отсортируйте их по убыванию приоритета.\n",
    "\n",
    "Примените фреймворк RICE для приоритизации гипотез. Отсортируйте их по убыванию приоритета.\n",
    "\n",
    "Укажите, как изменилась приоритизация гипотез при применении RICE вместо ICE. Объясните, почему так произошло"
   ]
  },
  {
   "cell_type": "markdown",
   "id": "da829b86",
   "metadata": {},
   "source": [
    "**Часть 2. Анализ A/B-теста**\n",
    "\n",
    "Вы провели A/B-тест и получили результаты, которые описаны в файлах /datasets/orders.csv и /datasets/visitors.csv.\n",
    "\n",
    "**Задача**\n",
    "\n",
    "Проанализируйте A/B-тест:\n",
    "\n",
    "1. Постройте график кумулятивной выручки по группам. Сделайте выводы и предположения.\n",
    "\n",
    "2. Постройте график кумулятивного среднего чека по группам. Сделайте выводы и предположения.\n",
    "\n",
    "3. Постройте график относительного изменения кумулятивного среднего чека группы B к группе A. Сделайте выводы и предположения.\n",
    "\n",
    "4. Постройте график кумулятивной конверсии по группам. Сделайте выводы и предположения.\n",
    "\n",
    "5. Постройте график относительного изменения кумулятивной конверсии группы B к группе A. Сделайте выводы и предположения.\n",
    "\n",
    "6. Постройте точечный график количества заказов по пользователям. Сделайте выводы и предположения.\n",
    "\n",
    "7. Посчитайте 95-й и 99-й перцентили количества заказов на пользователя. Выберите границу для определения аномальных пользователей.\n",
    "\n",
    "8. Постройте точечный график стоимостей заказов. Сделайте выводы и предположения.\n",
    "\n",
    "9. Посчитайте 95-й и 99-й перцентили стоимости заказов. Выберите границу для определения аномальных заказов.\n",
    "\n",
    "10. Посчитайте статистическую значимость различий в конверсии между группами по «сырым» данным. Сделайте выводы и предположения.\n",
    "\n",
    "11. Посчитайте статистическую значимость различий в среднем чеке заказа между группами по «сырым» данным. Сделайте выводы и предположения.\n",
    "\n",
    "12. Посчитайте статистическую значимость различий в конверсии между группами по «очищенным» данным. Сделайте выводы и предположения.\n",
    "\n",
    "13. Посчитайте статистическую значимость различий в среднем чеке заказа между группами по «очищенным» данным. Сделайте выводы и предположения.\n",
    "\n",
    "14. Примите решение по результатам теста и объясните его.\n",
    "\n",
    "Варианты решений: \n",
    "1. Остановить тест, зафиксировать победу одной из групп. \n",
    "2. Остановить тест, зафиксировать отсутствие различий между группами.\n",
    "3. Продолжить тест."
   ]
  },
  {
   "cell_type": "markdown",
   "id": "2fc34b13",
   "metadata": {},
   "source": [
    "**Описание данных**\n",
    "\n",
    "**Данные для первой части**\n",
    "\n",
    "Файл /datasets/hypothesis.csv. \n",
    "\n",
    "Hypothesis — краткое описание гипотезы;\n",
    "\n",
    "Reach — охват пользователей по 10-балльной шкале;\n",
    "\n",
    "Impact — влияние на пользователей по 10-балльной шкале;\n",
    "\n",
    "Confidence — уверенность в гипотезе по 10-балльной шкале;\n",
    "\n",
    "Efforts — затраты ресурсов на проверку гипотезы по 10-балльной шкале. Чем больше значение Efforts, тем дороже проверка гипотезы.\n",
    "\n",
    "\n",
    "**Данные для второй части**\n",
    "\n",
    "\n",
    "Файл /datasets/orders.csv.\n",
    "\n",
    "transactionId — идентификатор заказа;\n",
    "\n",
    "visitorId — идентификатор пользователя, совершившего заказ;\n",
    "\n",
    "date — дата, когда был совершён заказ;\n",
    "\n",
    "revenue — выручка заказа;\n",
    "\n",
    "group — группа A/B-теста, в которую попал заказ.\n",
    "\n",
    "Файл /datasets/visitors.csv. \n",
    "\n",
    "date — дата;\n",
    "\n",
    "group — группа A/B-теста;\n",
    "\n",
    "visitors — количество пользователей в указанную дату в указанной группе A/B-теста"
   ]
  },
  {
   "cell_type": "markdown",
   "id": "5e5225bc",
   "metadata": {},
   "source": [
    "# Часть 1. Приоритизация гипотез."
   ]
  },
  {
   "cell_type": "code",
   "execution_count": 1,
   "id": "1168fef6",
   "metadata": {},
   "outputs": [],
   "source": [
    "import pandas as pd\n",
    "import seaborn as sns\n",
    "import matplotlib.pyplot as plt\n",
    "import numpy as np\n",
    "from scipy import stats as st\n",
    "import math as mth"
   ]
  },
  {
   "cell_type": "code",
   "execution_count": 2,
   "id": "4d948ef7",
   "metadata": {},
   "outputs": [],
   "source": [
    "pd.set_option('display.max_columns', None)\n",
    "pd.options.display.float_format = '{:,.2f}'.format"
   ]
  },
  {
   "cell_type": "code",
   "execution_count": 3,
   "id": "29da3c9a",
   "metadata": {},
   "outputs": [],
   "source": [
    "try:\n",
    "    hypothesis = pd.read_csv('/datasets/hypothesis.csv')\n",
    "except:\n",
    "    hypothesis = pd.read_csv('hypothesis.csv')"
   ]
  },
  {
   "cell_type": "code",
   "execution_count": 4,
   "id": "be86e1f5",
   "metadata": {},
   "outputs": [],
   "source": [
    "pd.set_option('max_colwidth', 120)"
   ]
  },
  {
   "cell_type": "code",
   "execution_count": 5,
   "id": "73dc503a",
   "metadata": {},
   "outputs": [
    {
     "data": {
      "text/html": [
       "<div>\n",
       "<style scoped>\n",
       "    .dataframe tbody tr th:only-of-type {\n",
       "        vertical-align: middle;\n",
       "    }\n",
       "\n",
       "    .dataframe tbody tr th {\n",
       "        vertical-align: top;\n",
       "    }\n",
       "\n",
       "    .dataframe thead th {\n",
       "        text-align: right;\n",
       "    }\n",
       "</style>\n",
       "<table border=\"1\" class=\"dataframe\">\n",
       "  <thead>\n",
       "    <tr style=\"text-align: right;\">\n",
       "      <th></th>\n",
       "      <th>Hypothesis</th>\n",
       "      <th>Reach</th>\n",
       "      <th>Impact</th>\n",
       "      <th>Confidence</th>\n",
       "      <th>Efforts</th>\n",
       "    </tr>\n",
       "  </thead>\n",
       "  <tbody>\n",
       "    <tr>\n",
       "      <th>0</th>\n",
       "      <td>Добавить два новых канала привлечения трафика, что позволит привлекать на 30% больше пользователей</td>\n",
       "      <td>3</td>\n",
       "      <td>10</td>\n",
       "      <td>8</td>\n",
       "      <td>6</td>\n",
       "    </tr>\n",
       "    <tr>\n",
       "      <th>1</th>\n",
       "      <td>Запустить собственную службу доставки, что сократит срок доставки заказов</td>\n",
       "      <td>2</td>\n",
       "      <td>5</td>\n",
       "      <td>4</td>\n",
       "      <td>10</td>\n",
       "    </tr>\n",
       "    <tr>\n",
       "      <th>2</th>\n",
       "      <td>Добавить блоки рекомендаций товаров на сайт интернет магазина, чтобы повысить конверсию и средний чек заказа</td>\n",
       "      <td>8</td>\n",
       "      <td>3</td>\n",
       "      <td>7</td>\n",
       "      <td>3</td>\n",
       "    </tr>\n",
       "    <tr>\n",
       "      <th>3</th>\n",
       "      <td>Изменить структура категорий, что увеличит конверсию, т.к. пользователи быстрее найдут нужный товар</td>\n",
       "      <td>8</td>\n",
       "      <td>3</td>\n",
       "      <td>3</td>\n",
       "      <td>8</td>\n",
       "    </tr>\n",
       "    <tr>\n",
       "      <th>4</th>\n",
       "      <td>Изменить цвет фона главной страницы, чтобы увеличить вовлеченность пользователей</td>\n",
       "      <td>3</td>\n",
       "      <td>1</td>\n",
       "      <td>1</td>\n",
       "      <td>1</td>\n",
       "    </tr>\n",
       "    <tr>\n",
       "      <th>5</th>\n",
       "      <td>Добавить страницу отзывов клиентов о магазине, что позволит увеличить количество заказов</td>\n",
       "      <td>3</td>\n",
       "      <td>2</td>\n",
       "      <td>2</td>\n",
       "      <td>3</td>\n",
       "    </tr>\n",
       "    <tr>\n",
       "      <th>6</th>\n",
       "      <td>Показать на главной странице баннеры с актуальными акциями и распродажами, чтобы увеличить конверсию</td>\n",
       "      <td>5</td>\n",
       "      <td>3</td>\n",
       "      <td>8</td>\n",
       "      <td>3</td>\n",
       "    </tr>\n",
       "    <tr>\n",
       "      <th>7</th>\n",
       "      <td>Добавить форму подписки на все основные страницы, чтобы собрать базу клиентов для email-рассылок</td>\n",
       "      <td>10</td>\n",
       "      <td>7</td>\n",
       "      <td>8</td>\n",
       "      <td>5</td>\n",
       "    </tr>\n",
       "    <tr>\n",
       "      <th>8</th>\n",
       "      <td>Запустить акцию, дающую скидку на товар в день рождения</td>\n",
       "      <td>1</td>\n",
       "      <td>9</td>\n",
       "      <td>9</td>\n",
       "      <td>5</td>\n",
       "    </tr>\n",
       "  </tbody>\n",
       "</table>\n",
       "</div>"
      ],
      "text/plain": [
       "                                                                                                     Hypothesis  \\\n",
       "0            Добавить два новых канала привлечения трафика, что позволит привлекать на 30% больше пользователей   \n",
       "1                                     Запустить собственную службу доставки, что сократит срок доставки заказов   \n",
       "2  Добавить блоки рекомендаций товаров на сайт интернет магазина, чтобы повысить конверсию и средний чек заказа   \n",
       "3           Изменить структура категорий, что увеличит конверсию, т.к. пользователи быстрее найдут нужный товар   \n",
       "4                              Изменить цвет фона главной страницы, чтобы увеличить вовлеченность пользователей   \n",
       "5                      Добавить страницу отзывов клиентов о магазине, что позволит увеличить количество заказов   \n",
       "6          Показать на главной странице баннеры с актуальными акциями и распродажами, чтобы увеличить конверсию   \n",
       "7              Добавить форму подписки на все основные страницы, чтобы собрать базу клиентов для email-рассылок   \n",
       "8                                                       Запустить акцию, дающую скидку на товар в день рождения   \n",
       "\n",
       "   Reach  Impact  Confidence  Efforts  \n",
       "0      3      10           8        6  \n",
       "1      2       5           4       10  \n",
       "2      8       3           7        3  \n",
       "3      8       3           3        8  \n",
       "4      3       1           1        1  \n",
       "5      3       2           2        3  \n",
       "6      5       3           8        3  \n",
       "7     10       7           8        5  \n",
       "8      1       9           9        5  "
      ]
     },
     "execution_count": 5,
     "metadata": {},
     "output_type": "execute_result"
    }
   ],
   "source": [
    "hypothesis"
   ]
  },
  {
   "cell_type": "markdown",
   "id": "7b2d3371",
   "metadata": {},
   "source": [
    "**Применим фреймворк ICE для приоритизации гипотез. Отсортируем их по убыванию приоритета.**"
   ]
  },
  {
   "cell_type": "code",
   "execution_count": 6,
   "id": "db4966e6",
   "metadata": {},
   "outputs": [],
   "source": [
    "hypothesis['ICE'] = hypothesis['Impact'] * hypothesis['Confidence'] / hypothesis['Efforts']"
   ]
  },
  {
   "cell_type": "code",
   "execution_count": 7,
   "id": "e188e78e",
   "metadata": {},
   "outputs": [
    {
     "data": {
      "text/html": [
       "<div>\n",
       "<style scoped>\n",
       "    .dataframe tbody tr th:only-of-type {\n",
       "        vertical-align: middle;\n",
       "    }\n",
       "\n",
       "    .dataframe tbody tr th {\n",
       "        vertical-align: top;\n",
       "    }\n",
       "\n",
       "    .dataframe thead th {\n",
       "        text-align: right;\n",
       "    }\n",
       "</style>\n",
       "<table border=\"1\" class=\"dataframe\">\n",
       "  <thead>\n",
       "    <tr style=\"text-align: right;\">\n",
       "      <th></th>\n",
       "      <th>Hypothesis</th>\n",
       "      <th>ICE</th>\n",
       "    </tr>\n",
       "  </thead>\n",
       "  <tbody>\n",
       "    <tr>\n",
       "      <th>8</th>\n",
       "      <td>Запустить акцию, дающую скидку на товар в день рождения</td>\n",
       "      <td>16.20</td>\n",
       "    </tr>\n",
       "    <tr>\n",
       "      <th>0</th>\n",
       "      <td>Добавить два новых канала привлечения трафика, что позволит привлекать на 30% больше пользователей</td>\n",
       "      <td>13.33</td>\n",
       "    </tr>\n",
       "    <tr>\n",
       "      <th>7</th>\n",
       "      <td>Добавить форму подписки на все основные страницы, чтобы собрать базу клиентов для email-рассылок</td>\n",
       "      <td>11.20</td>\n",
       "    </tr>\n",
       "    <tr>\n",
       "      <th>6</th>\n",
       "      <td>Показать на главной странице баннеры с актуальными акциями и распродажами, чтобы увеличить конверсию</td>\n",
       "      <td>8.00</td>\n",
       "    </tr>\n",
       "    <tr>\n",
       "      <th>2</th>\n",
       "      <td>Добавить блоки рекомендаций товаров на сайт интернет магазина, чтобы повысить конверсию и средний чек заказа</td>\n",
       "      <td>7.00</td>\n",
       "    </tr>\n",
       "    <tr>\n",
       "      <th>1</th>\n",
       "      <td>Запустить собственную службу доставки, что сократит срок доставки заказов</td>\n",
       "      <td>2.00</td>\n",
       "    </tr>\n",
       "    <tr>\n",
       "      <th>5</th>\n",
       "      <td>Добавить страницу отзывов клиентов о магазине, что позволит увеличить количество заказов</td>\n",
       "      <td>1.33</td>\n",
       "    </tr>\n",
       "    <tr>\n",
       "      <th>3</th>\n",
       "      <td>Изменить структура категорий, что увеличит конверсию, т.к. пользователи быстрее найдут нужный товар</td>\n",
       "      <td>1.12</td>\n",
       "    </tr>\n",
       "    <tr>\n",
       "      <th>4</th>\n",
       "      <td>Изменить цвет фона главной страницы, чтобы увеличить вовлеченность пользователей</td>\n",
       "      <td>1.00</td>\n",
       "    </tr>\n",
       "  </tbody>\n",
       "</table>\n",
       "</div>"
      ],
      "text/plain": [
       "                                                                                                     Hypothesis  \\\n",
       "8                                                       Запустить акцию, дающую скидку на товар в день рождения   \n",
       "0            Добавить два новых канала привлечения трафика, что позволит привлекать на 30% больше пользователей   \n",
       "7              Добавить форму подписки на все основные страницы, чтобы собрать базу клиентов для email-рассылок   \n",
       "6          Показать на главной странице баннеры с актуальными акциями и распродажами, чтобы увеличить конверсию   \n",
       "2  Добавить блоки рекомендаций товаров на сайт интернет магазина, чтобы повысить конверсию и средний чек заказа   \n",
       "1                                     Запустить собственную службу доставки, что сократит срок доставки заказов   \n",
       "5                      Добавить страницу отзывов клиентов о магазине, что позволит увеличить количество заказов   \n",
       "3           Изменить структура категорий, что увеличит конверсию, т.к. пользователи быстрее найдут нужный товар   \n",
       "4                              Изменить цвет фона главной страницы, чтобы увеличить вовлеченность пользователей   \n",
       "\n",
       "    ICE  \n",
       "8 16.20  \n",
       "0 13.33  \n",
       "7 11.20  \n",
       "6  8.00  \n",
       "2  7.00  \n",
       "1  2.00  \n",
       "5  1.33  \n",
       "3  1.12  \n",
       "4  1.00  "
      ]
     },
     "execution_count": 7,
     "metadata": {},
     "output_type": "execute_result"
    }
   ],
   "source": [
    "ice = hypothesis[['Hypothesis', 'ICE']].sort_values(by='ICE', ascending=False)\n",
    "ice"
   ]
  },
  {
   "cell_type": "markdown",
   "id": "486c2fce",
   "metadata": {},
   "source": [
    "Применим фреймворк RICE для приоритизации гипотез. Отсортируем их по убыванию приоритета."
   ]
  },
  {
   "cell_type": "code",
   "execution_count": 8,
   "id": "9196025a",
   "metadata": {},
   "outputs": [],
   "source": [
    "hypothesis['RICE'] = hypothesis['Reach'] * hypothesis['Impact'] * hypothesis['Confidence'] / hypothesis['Efforts']"
   ]
  },
  {
   "cell_type": "code",
   "execution_count": 9,
   "id": "2f8ee73c",
   "metadata": {},
   "outputs": [
    {
     "data": {
      "text/html": [
       "<div>\n",
       "<style scoped>\n",
       "    .dataframe tbody tr th:only-of-type {\n",
       "        vertical-align: middle;\n",
       "    }\n",
       "\n",
       "    .dataframe tbody tr th {\n",
       "        vertical-align: top;\n",
       "    }\n",
       "\n",
       "    .dataframe thead th {\n",
       "        text-align: right;\n",
       "    }\n",
       "</style>\n",
       "<table border=\"1\" class=\"dataframe\">\n",
       "  <thead>\n",
       "    <tr style=\"text-align: right;\">\n",
       "      <th></th>\n",
       "      <th>Hypothesis</th>\n",
       "      <th>RICE</th>\n",
       "    </tr>\n",
       "  </thead>\n",
       "  <tbody>\n",
       "    <tr>\n",
       "      <th>7</th>\n",
       "      <td>Добавить форму подписки на все основные страницы, чтобы собрать базу клиентов для email-рассылок</td>\n",
       "      <td>112.00</td>\n",
       "    </tr>\n",
       "    <tr>\n",
       "      <th>2</th>\n",
       "      <td>Добавить блоки рекомендаций товаров на сайт интернет магазина, чтобы повысить конверсию и средний чек заказа</td>\n",
       "      <td>56.00</td>\n",
       "    </tr>\n",
       "    <tr>\n",
       "      <th>0</th>\n",
       "      <td>Добавить два новых канала привлечения трафика, что позволит привлекать на 30% больше пользователей</td>\n",
       "      <td>40.00</td>\n",
       "    </tr>\n",
       "    <tr>\n",
       "      <th>6</th>\n",
       "      <td>Показать на главной странице баннеры с актуальными акциями и распродажами, чтобы увеличить конверсию</td>\n",
       "      <td>40.00</td>\n",
       "    </tr>\n",
       "    <tr>\n",
       "      <th>8</th>\n",
       "      <td>Запустить акцию, дающую скидку на товар в день рождения</td>\n",
       "      <td>16.20</td>\n",
       "    </tr>\n",
       "    <tr>\n",
       "      <th>3</th>\n",
       "      <td>Изменить структура категорий, что увеличит конверсию, т.к. пользователи быстрее найдут нужный товар</td>\n",
       "      <td>9.00</td>\n",
       "    </tr>\n",
       "    <tr>\n",
       "      <th>1</th>\n",
       "      <td>Запустить собственную службу доставки, что сократит срок доставки заказов</td>\n",
       "      <td>4.00</td>\n",
       "    </tr>\n",
       "    <tr>\n",
       "      <th>5</th>\n",
       "      <td>Добавить страницу отзывов клиентов о магазине, что позволит увеличить количество заказов</td>\n",
       "      <td>4.00</td>\n",
       "    </tr>\n",
       "    <tr>\n",
       "      <th>4</th>\n",
       "      <td>Изменить цвет фона главной страницы, чтобы увеличить вовлеченность пользователей</td>\n",
       "      <td>3.00</td>\n",
       "    </tr>\n",
       "  </tbody>\n",
       "</table>\n",
       "</div>"
      ],
      "text/plain": [
       "                                                                                                     Hypothesis  \\\n",
       "7              Добавить форму подписки на все основные страницы, чтобы собрать базу клиентов для email-рассылок   \n",
       "2  Добавить блоки рекомендаций товаров на сайт интернет магазина, чтобы повысить конверсию и средний чек заказа   \n",
       "0            Добавить два новых канала привлечения трафика, что позволит привлекать на 30% больше пользователей   \n",
       "6          Показать на главной странице баннеры с актуальными акциями и распродажами, чтобы увеличить конверсию   \n",
       "8                                                       Запустить акцию, дающую скидку на товар в день рождения   \n",
       "3           Изменить структура категорий, что увеличит конверсию, т.к. пользователи быстрее найдут нужный товар   \n",
       "1                                     Запустить собственную службу доставки, что сократит срок доставки заказов   \n",
       "5                      Добавить страницу отзывов клиентов о магазине, что позволит увеличить количество заказов   \n",
       "4                              Изменить цвет фона главной страницы, чтобы увеличить вовлеченность пользователей   \n",
       "\n",
       "    RICE  \n",
       "7 112.00  \n",
       "2  56.00  \n",
       "0  40.00  \n",
       "6  40.00  \n",
       "8  16.20  \n",
       "3   9.00  \n",
       "1   4.00  \n",
       "5   4.00  \n",
       "4   3.00  "
      ]
     },
     "execution_count": 9,
     "metadata": {},
     "output_type": "execute_result"
    }
   ],
   "source": [
    "rice = hypothesis[['Hypothesis','RICE']].sort_values(by='RICE', ascending=False)\n",
    "rice"
   ]
  },
  {
   "cell_type": "code",
   "execution_count": 10,
   "id": "2284305c",
   "metadata": {},
   "outputs": [
    {
     "data": {
      "text/html": [
       "<div>\n",
       "<style scoped>\n",
       "    .dataframe tbody tr th:only-of-type {\n",
       "        vertical-align: middle;\n",
       "    }\n",
       "\n",
       "    .dataframe tbody tr th {\n",
       "        vertical-align: top;\n",
       "    }\n",
       "\n",
       "    .dataframe thead th {\n",
       "        text-align: right;\n",
       "    }\n",
       "</style>\n",
       "<table border=\"1\" class=\"dataframe\">\n",
       "  <thead>\n",
       "    <tr style=\"text-align: right;\">\n",
       "      <th></th>\n",
       "      <th>Hypothesis</th>\n",
       "      <th>Reach</th>\n",
       "      <th>Impact</th>\n",
       "      <th>Confidence</th>\n",
       "      <th>Efforts</th>\n",
       "      <th>ICE</th>\n",
       "      <th>RICE</th>\n",
       "    </tr>\n",
       "  </thead>\n",
       "  <tbody>\n",
       "    <tr>\n",
       "      <th>0</th>\n",
       "      <td>Добавить два новых канала привлечения трафика, что позволит привлекать на 30% больше пользователей</td>\n",
       "      <td>3</td>\n",
       "      <td>10</td>\n",
       "      <td>8</td>\n",
       "      <td>6</td>\n",
       "      <td>13.33</td>\n",
       "      <td>40.00</td>\n",
       "    </tr>\n",
       "    <tr>\n",
       "      <th>1</th>\n",
       "      <td>Запустить собственную службу доставки, что сократит срок доставки заказов</td>\n",
       "      <td>2</td>\n",
       "      <td>5</td>\n",
       "      <td>4</td>\n",
       "      <td>10</td>\n",
       "      <td>2.00</td>\n",
       "      <td>4.00</td>\n",
       "    </tr>\n",
       "    <tr>\n",
       "      <th>2</th>\n",
       "      <td>Добавить блоки рекомендаций товаров на сайт интернет магазина, чтобы повысить конверсию и средний чек заказа</td>\n",
       "      <td>8</td>\n",
       "      <td>3</td>\n",
       "      <td>7</td>\n",
       "      <td>3</td>\n",
       "      <td>7.00</td>\n",
       "      <td>56.00</td>\n",
       "    </tr>\n",
       "    <tr>\n",
       "      <th>3</th>\n",
       "      <td>Изменить структура категорий, что увеличит конверсию, т.к. пользователи быстрее найдут нужный товар</td>\n",
       "      <td>8</td>\n",
       "      <td>3</td>\n",
       "      <td>3</td>\n",
       "      <td>8</td>\n",
       "      <td>1.12</td>\n",
       "      <td>9.00</td>\n",
       "    </tr>\n",
       "    <tr>\n",
       "      <th>4</th>\n",
       "      <td>Изменить цвет фона главной страницы, чтобы увеличить вовлеченность пользователей</td>\n",
       "      <td>3</td>\n",
       "      <td>1</td>\n",
       "      <td>1</td>\n",
       "      <td>1</td>\n",
       "      <td>1.00</td>\n",
       "      <td>3.00</td>\n",
       "    </tr>\n",
       "    <tr>\n",
       "      <th>5</th>\n",
       "      <td>Добавить страницу отзывов клиентов о магазине, что позволит увеличить количество заказов</td>\n",
       "      <td>3</td>\n",
       "      <td>2</td>\n",
       "      <td>2</td>\n",
       "      <td>3</td>\n",
       "      <td>1.33</td>\n",
       "      <td>4.00</td>\n",
       "    </tr>\n",
       "    <tr>\n",
       "      <th>6</th>\n",
       "      <td>Показать на главной странице баннеры с актуальными акциями и распродажами, чтобы увеличить конверсию</td>\n",
       "      <td>5</td>\n",
       "      <td>3</td>\n",
       "      <td>8</td>\n",
       "      <td>3</td>\n",
       "      <td>8.00</td>\n",
       "      <td>40.00</td>\n",
       "    </tr>\n",
       "    <tr>\n",
       "      <th>7</th>\n",
       "      <td>Добавить форму подписки на все основные страницы, чтобы собрать базу клиентов для email-рассылок</td>\n",
       "      <td>10</td>\n",
       "      <td>7</td>\n",
       "      <td>8</td>\n",
       "      <td>5</td>\n",
       "      <td>11.20</td>\n",
       "      <td>112.00</td>\n",
       "    </tr>\n",
       "    <tr>\n",
       "      <th>8</th>\n",
       "      <td>Запустить акцию, дающую скидку на товар в день рождения</td>\n",
       "      <td>1</td>\n",
       "      <td>9</td>\n",
       "      <td>9</td>\n",
       "      <td>5</td>\n",
       "      <td>16.20</td>\n",
       "      <td>16.20</td>\n",
       "    </tr>\n",
       "  </tbody>\n",
       "</table>\n",
       "</div>"
      ],
      "text/plain": [
       "                                                                                                     Hypothesis  \\\n",
       "0            Добавить два новых канала привлечения трафика, что позволит привлекать на 30% больше пользователей   \n",
       "1                                     Запустить собственную службу доставки, что сократит срок доставки заказов   \n",
       "2  Добавить блоки рекомендаций товаров на сайт интернет магазина, чтобы повысить конверсию и средний чек заказа   \n",
       "3           Изменить структура категорий, что увеличит конверсию, т.к. пользователи быстрее найдут нужный товар   \n",
       "4                              Изменить цвет фона главной страницы, чтобы увеличить вовлеченность пользователей   \n",
       "5                      Добавить страницу отзывов клиентов о магазине, что позволит увеличить количество заказов   \n",
       "6          Показать на главной странице баннеры с актуальными акциями и распродажами, чтобы увеличить конверсию   \n",
       "7              Добавить форму подписки на все основные страницы, чтобы собрать базу клиентов для email-рассылок   \n",
       "8                                                       Запустить акцию, дающую скидку на товар в день рождения   \n",
       "\n",
       "   Reach  Impact  Confidence  Efforts   ICE   RICE  \n",
       "0      3      10           8        6 13.33  40.00  \n",
       "1      2       5           4       10  2.00   4.00  \n",
       "2      8       3           7        3  7.00  56.00  \n",
       "3      8       3           3        8  1.12   9.00  \n",
       "4      3       1           1        1  1.00   3.00  \n",
       "5      3       2           2        3  1.33   4.00  \n",
       "6      5       3           8        3  8.00  40.00  \n",
       "7     10       7           8        5 11.20 112.00  \n",
       "8      1       9           9        5 16.20  16.20  "
      ]
     },
     "execution_count": 10,
     "metadata": {},
     "output_type": "execute_result"
    }
   ],
   "source": [
    "hypothesis"
   ]
  },
  {
   "cell_type": "markdown",
   "id": "9127aa34",
   "metadata": {},
   "source": [
    "Как изменилась приоритизация гипотез при применении RICE вместо ICE. Объясните, почему так произошло"
   ]
  },
  {
   "cell_type": "markdown",
   "id": "e847f9b6",
   "metadata": {},
   "source": [
    "Для оценки приоритизации гипотиз использовали два фрейма ICE и RICE.\n",
    "\n",
    "Приоритизация гипотиз изменилась по оценке RICE первое место заняла 7-я теория в отличие от расчета ICE, где первое место заняла гипотиза 8. Поднобные изменения произошли потому что использовался различный метод оценки RICE в отличии от ICE учитывает Охват (Reach)\n",
    "\n",
    "Система приоритизации гипотиз RICE включает в расчет параметр охвата, который показывает по принятой шкале в компании кокого клиентов коснется изменение. как мы можем видеть учет охвата сильно изменяет приоритет гипотиз при прочих равных гипотиз  "
   ]
  },
  {
   "cell_type": "markdown",
   "id": "b1c54711",
   "metadata": {},
   "source": [
    "# Часть 2. Анализ A/B-теста"
   ]
  },
  {
   "cell_type": "code",
   "execution_count": 11,
   "id": "b7ad3a6c",
   "metadata": {},
   "outputs": [],
   "source": [
    "try:\n",
    "    orders = pd.read_csv('/datasets/orders.csv')\n",
    "    visitors = pd.read_csv('/datasets/visitors.csv')\n",
    "except:\n",
    "    orders = pd.read_csv('orders.csv')\n",
    "    visitors = pd.read_csv('visitors.csv')"
   ]
  },
  {
   "cell_type": "code",
   "execution_count": 12,
   "id": "19bc26c7",
   "metadata": {
    "scrolled": true
   },
   "outputs": [
    {
     "data": {
      "text/html": [
       "<div>\n",
       "<style scoped>\n",
       "    .dataframe tbody tr th:only-of-type {\n",
       "        vertical-align: middle;\n",
       "    }\n",
       "\n",
       "    .dataframe tbody tr th {\n",
       "        vertical-align: top;\n",
       "    }\n",
       "\n",
       "    .dataframe thead th {\n",
       "        text-align: right;\n",
       "    }\n",
       "</style>\n",
       "<table border=\"1\" class=\"dataframe\">\n",
       "  <thead>\n",
       "    <tr style=\"text-align: right;\">\n",
       "      <th></th>\n",
       "      <th>transactionId</th>\n",
       "      <th>visitorId</th>\n",
       "      <th>date</th>\n",
       "      <th>revenue</th>\n",
       "      <th>group</th>\n",
       "    </tr>\n",
       "  </thead>\n",
       "  <tbody>\n",
       "    <tr>\n",
       "      <th>0</th>\n",
       "      <td>3667963787</td>\n",
       "      <td>3312258926</td>\n",
       "      <td>2019-08-15</td>\n",
       "      <td>1650</td>\n",
       "      <td>B</td>\n",
       "    </tr>\n",
       "    <tr>\n",
       "      <th>1</th>\n",
       "      <td>2804400009</td>\n",
       "      <td>3642806036</td>\n",
       "      <td>2019-08-15</td>\n",
       "      <td>730</td>\n",
       "      <td>B</td>\n",
       "    </tr>\n",
       "    <tr>\n",
       "      <th>2</th>\n",
       "      <td>2961555356</td>\n",
       "      <td>4069496402</td>\n",
       "      <td>2019-08-15</td>\n",
       "      <td>400</td>\n",
       "      <td>A</td>\n",
       "    </tr>\n",
       "    <tr>\n",
       "      <th>3</th>\n",
       "      <td>3797467345</td>\n",
       "      <td>1196621759</td>\n",
       "      <td>2019-08-15</td>\n",
       "      <td>9759</td>\n",
       "      <td>B</td>\n",
       "    </tr>\n",
       "    <tr>\n",
       "      <th>4</th>\n",
       "      <td>2282983706</td>\n",
       "      <td>2322279887</td>\n",
       "      <td>2019-08-15</td>\n",
       "      <td>2308</td>\n",
       "      <td>B</td>\n",
       "    </tr>\n",
       "  </tbody>\n",
       "</table>\n",
       "</div>"
      ],
      "text/plain": [
       "   transactionId   visitorId        date  revenue group\n",
       "0     3667963787  3312258926  2019-08-15     1650     B\n",
       "1     2804400009  3642806036  2019-08-15      730     B\n",
       "2     2961555356  4069496402  2019-08-15      400     A\n",
       "3     3797467345  1196621759  2019-08-15     9759     B\n",
       "4     2282983706  2322279887  2019-08-15     2308     B"
      ]
     },
     "execution_count": 12,
     "metadata": {},
     "output_type": "execute_result"
    }
   ],
   "source": [
    "orders.head()"
   ]
  },
  {
   "cell_type": "code",
   "execution_count": 13,
   "id": "3fe824d2",
   "metadata": {},
   "outputs": [
    {
     "name": "stdout",
     "output_type": "stream",
     "text": [
      "<class 'pandas.core.frame.DataFrame'>\n",
      "RangeIndex: 1197 entries, 0 to 1196\n",
      "Data columns (total 5 columns):\n",
      " #   Column         Non-Null Count  Dtype \n",
      "---  ------         --------------  ----- \n",
      " 0   transactionId  1197 non-null   int64 \n",
      " 1   visitorId      1197 non-null   int64 \n",
      " 2   date           1197 non-null   object\n",
      " 3   revenue        1197 non-null   int64 \n",
      " 4   group          1197 non-null   object\n",
      "dtypes: int64(3), object(2)\n",
      "memory usage: 46.9+ KB\n"
     ]
    }
   ],
   "source": [
    "orders.info()"
   ]
  },
  {
   "cell_type": "code",
   "execution_count": 14,
   "id": "b1bdac3d",
   "metadata": {},
   "outputs": [
    {
     "data": {
      "text/plain": [
       "transactionId    0\n",
       "visitorId        0\n",
       "date             0\n",
       "revenue          0\n",
       "group            0\n",
       "dtype: int64"
      ]
     },
     "execution_count": 14,
     "metadata": {},
     "output_type": "execute_result"
    }
   ],
   "source": [
    "orders.isna().sum()"
   ]
  },
  {
   "cell_type": "code",
   "execution_count": 15,
   "id": "b6075f78",
   "metadata": {},
   "outputs": [
    {
     "data": {
      "text/html": [
       "<div>\n",
       "<style scoped>\n",
       "    .dataframe tbody tr th:only-of-type {\n",
       "        vertical-align: middle;\n",
       "    }\n",
       "\n",
       "    .dataframe tbody tr th {\n",
       "        vertical-align: top;\n",
       "    }\n",
       "\n",
       "    .dataframe thead th {\n",
       "        text-align: right;\n",
       "    }\n",
       "</style>\n",
       "<table border=\"1\" class=\"dataframe\">\n",
       "  <thead>\n",
       "    <tr style=\"text-align: right;\">\n",
       "      <th></th>\n",
       "      <th>date</th>\n",
       "      <th>group</th>\n",
       "      <th>visitors</th>\n",
       "    </tr>\n",
       "  </thead>\n",
       "  <tbody>\n",
       "    <tr>\n",
       "      <th>0</th>\n",
       "      <td>2019-08-01</td>\n",
       "      <td>A</td>\n",
       "      <td>719</td>\n",
       "    </tr>\n",
       "    <tr>\n",
       "      <th>1</th>\n",
       "      <td>2019-08-02</td>\n",
       "      <td>A</td>\n",
       "      <td>619</td>\n",
       "    </tr>\n",
       "    <tr>\n",
       "      <th>2</th>\n",
       "      <td>2019-08-03</td>\n",
       "      <td>A</td>\n",
       "      <td>507</td>\n",
       "    </tr>\n",
       "    <tr>\n",
       "      <th>3</th>\n",
       "      <td>2019-08-04</td>\n",
       "      <td>A</td>\n",
       "      <td>717</td>\n",
       "    </tr>\n",
       "    <tr>\n",
       "      <th>4</th>\n",
       "      <td>2019-08-05</td>\n",
       "      <td>A</td>\n",
       "      <td>756</td>\n",
       "    </tr>\n",
       "  </tbody>\n",
       "</table>\n",
       "</div>"
      ],
      "text/plain": [
       "         date group  visitors\n",
       "0  2019-08-01     A       719\n",
       "1  2019-08-02     A       619\n",
       "2  2019-08-03     A       507\n",
       "3  2019-08-04     A       717\n",
       "4  2019-08-05     A       756"
      ]
     },
     "execution_count": 15,
     "metadata": {},
     "output_type": "execute_result"
    }
   ],
   "source": [
    "visitors.head()"
   ]
  },
  {
   "cell_type": "code",
   "execution_count": 16,
   "id": "899c07dc",
   "metadata": {},
   "outputs": [
    {
     "name": "stdout",
     "output_type": "stream",
     "text": [
      "<class 'pandas.core.frame.DataFrame'>\n",
      "RangeIndex: 62 entries, 0 to 61\n",
      "Data columns (total 3 columns):\n",
      " #   Column    Non-Null Count  Dtype \n",
      "---  ------    --------------  ----- \n",
      " 0   date      62 non-null     object\n",
      " 1   group     62 non-null     object\n",
      " 2   visitors  62 non-null     int64 \n",
      "dtypes: int64(1), object(2)\n",
      "memory usage: 1.6+ KB\n"
     ]
    }
   ],
   "source": [
    "visitors.info()"
   ]
  },
  {
   "cell_type": "code",
   "execution_count": 17,
   "id": "0562b1f9",
   "metadata": {},
   "outputs": [
    {
     "data": {
      "text/plain": [
       "date        0\n",
       "group       0\n",
       "visitors    0\n",
       "dtype: int64"
      ]
     },
     "execution_count": 17,
     "metadata": {},
     "output_type": "execute_result"
    }
   ],
   "source": [
    "visitors.isna().sum()"
   ]
  },
  {
   "cell_type": "code",
   "execution_count": 18,
   "id": "eed9c968",
   "metadata": {},
   "outputs": [],
   "source": [
    "#Приведем колонки с датами к формату данных datetime\n",
    "orders['date'] = pd.to_datetime(orders['date'])"
   ]
  },
  {
   "cell_type": "code",
   "execution_count": 19,
   "id": "8e8264d5",
   "metadata": {},
   "outputs": [],
   "source": [
    "visitors['date'] = pd.to_datetime(visitors['date'])"
   ]
  },
  {
   "cell_type": "code",
   "execution_count": 20,
   "id": "beb6584c",
   "metadata": {},
   "outputs": [
    {
     "data": {
      "text/plain": [
       "array(['B', 'A'], dtype=object)"
      ]
     },
     "execution_count": 20,
     "metadata": {},
     "output_type": "execute_result"
    }
   ],
   "source": [
    "# посмотрим сколько у нас групп в АВ-тесте\n",
    "orders['group'].unique()"
   ]
  },
  {
   "cell_type": "code",
   "execution_count": 21,
   "id": "3c6e3148",
   "metadata": {},
   "outputs": [
    {
     "data": {
      "text/plain": [
       "Timestamp('2019-08-01 00:00:00')"
      ]
     },
     "execution_count": 21,
     "metadata": {},
     "output_type": "execute_result"
    }
   ],
   "source": [
    "#даты начала и окончания теста\n",
    "orders['date'].min()"
   ]
  },
  {
   "cell_type": "code",
   "execution_count": 22,
   "id": "84c8117f",
   "metadata": {},
   "outputs": [
    {
     "data": {
      "text/plain": [
       "Timestamp('2019-08-31 00:00:00')"
      ]
     },
     "execution_count": 22,
     "metadata": {},
     "output_type": "execute_result"
    }
   ],
   "source": [
    "orders['date'].max()"
   ]
  },
  {
   "cell_type": "code",
   "execution_count": 23,
   "id": "c241fbef",
   "metadata": {},
   "outputs": [
    {
     "data": {
      "text/html": [
       "<div>\n",
       "<style scoped>\n",
       "    .dataframe tbody tr th:only-of-type {\n",
       "        vertical-align: middle;\n",
       "    }\n",
       "\n",
       "    .dataframe tbody tr th {\n",
       "        vertical-align: top;\n",
       "    }\n",
       "\n",
       "    .dataframe thead th {\n",
       "        text-align: right;\n",
       "    }\n",
       "</style>\n",
       "<table border=\"1\" class=\"dataframe\">\n",
       "  <thead>\n",
       "    <tr style=\"text-align: right;\">\n",
       "      <th></th>\n",
       "      <th>visitorId</th>\n",
       "    </tr>\n",
       "    <tr>\n",
       "      <th>group</th>\n",
       "      <th></th>\n",
       "    </tr>\n",
       "  </thead>\n",
       "  <tbody>\n",
       "    <tr>\n",
       "      <th>A</th>\n",
       "      <td>503</td>\n",
       "    </tr>\n",
       "    <tr>\n",
       "      <th>B</th>\n",
       "      <td>586</td>\n",
       "    </tr>\n",
       "  </tbody>\n",
       "</table>\n",
       "</div>"
      ],
      "text/plain": [
       "       visitorId\n",
       "group           \n",
       "A            503\n",
       "B            586"
      ]
     },
     "execution_count": 23,
     "metadata": {},
     "output_type": "execute_result"
    }
   ],
   "source": [
    "#сколько пользователей в каждой группе - по таблице с заказами\n",
    "orders.groupby('group').agg({'visitorId':'nunique'})"
   ]
  },
  {
   "cell_type": "code",
   "execution_count": 24,
   "id": "abd6a3e4",
   "metadata": {},
   "outputs": [],
   "source": [
    "#не попадают ли какие-то пользователи в обе группы - по таблице с заказами\n",
    "s1 = orders.query(\"group == 'A'\")['visitorId']"
   ]
  },
  {
   "cell_type": "code",
   "execution_count": 25,
   "id": "f0bc42d6",
   "metadata": {},
   "outputs": [],
   "source": [
    "s2 = orders.query(\"group == 'B'\")['visitorId']"
   ]
  },
  {
   "cell_type": "code",
   "execution_count": 26,
   "id": "70d3f072",
   "metadata": {},
   "outputs": [
    {
     "data": {
      "text/plain": [
       "0        8300375\n",
       "1      199603092\n",
       "2      232979603\n",
       "3      237748145\n",
       "4      276558944\n",
       "5      351125977\n",
       "6      393266494\n",
       "7      457167155\n",
       "8      471551937\n",
       "9      477780734\n",
       "10     818047933\n",
       "11     963407295\n",
       "12    1230306981\n",
       "13    1294878855\n",
       "14    1316129916\n",
       "15    1333886533\n",
       "16    1404934699\n",
       "17    1602967004\n",
       "18    1614305549\n",
       "19    1648269707\n",
       "20    1668030113\n",
       "21    1738359350\n",
       "22    1801183820\n",
       "23    1959144690\n",
       "24    2038680547\n",
       "25    2044997962\n",
       "26    2378935119\n",
       "27    2458001652\n",
       "28    2579882178\n",
       "29    2587333274\n",
       "30    2600415354\n",
       "31    2654030115\n",
       "32    2686716486\n",
       "33    2712142231\n",
       "34    2716752286\n",
       "35    2780786433\n",
       "36    2927087541\n",
       "37    2949041841\n",
       "38    2954449915\n",
       "39    3062433592\n",
       "40    3202540741\n",
       "41    3234906277\n",
       "42    3656415546\n",
       "43    3717692402\n",
       "44    3766097110\n",
       "45    3803269165\n",
       "46    3891541246\n",
       "47    3941795274\n",
       "48    3951559397\n",
       "49    3957174400\n",
       "50    3963646447\n",
       "51    3972127743\n",
       "52    3984495233\n",
       "53    4069496402\n",
       "54    4120364173\n",
       "55    4186807279\n",
       "56    4256040402\n",
       "57    4266935830\n",
       "dtype: int64"
      ]
     },
     "execution_count": 26,
     "metadata": {},
     "output_type": "execute_result"
    }
   ],
   "source": [
    "pd.Series(np.intersect1d(pd.Series(s1), pd.Series(s2)))"
   ]
  },
  {
   "cell_type": "markdown",
   "id": "dc34e5fe",
   "metadata": {},
   "source": [
    "Получается 58 пользователей попали в обе группы"
   ]
  },
  {
   "cell_type": "markdown",
   "id": "a1f42f36",
   "metadata": {},
   "source": [
    "## 1. Построим график кумулятивной выручки по группам. Сделаем выводы и предположения."
   ]
  },
  {
   "cell_type": "code",
   "execution_count": 27,
   "id": "e7146d5a",
   "metadata": {},
   "outputs": [
    {
     "data": {
      "text/html": [
       "<div>\n",
       "<style scoped>\n",
       "    .dataframe tbody tr th:only-of-type {\n",
       "        vertical-align: middle;\n",
       "    }\n",
       "\n",
       "    .dataframe tbody tr th {\n",
       "        vertical-align: top;\n",
       "    }\n",
       "\n",
       "    .dataframe thead th {\n",
       "        text-align: right;\n",
       "    }\n",
       "</style>\n",
       "<table border=\"1\" class=\"dataframe\">\n",
       "  <thead>\n",
       "    <tr style=\"text-align: right;\">\n",
       "      <th></th>\n",
       "      <th>date</th>\n",
       "      <th>group</th>\n",
       "    </tr>\n",
       "  </thead>\n",
       "  <tbody>\n",
       "    <tr>\n",
       "      <th>0</th>\n",
       "      <td>2019-08-15</td>\n",
       "      <td>B</td>\n",
       "    </tr>\n",
       "    <tr>\n",
       "      <th>2</th>\n",
       "      <td>2019-08-15</td>\n",
       "      <td>A</td>\n",
       "    </tr>\n",
       "    <tr>\n",
       "      <th>45</th>\n",
       "      <td>2019-08-16</td>\n",
       "      <td>A</td>\n",
       "    </tr>\n",
       "    <tr>\n",
       "      <th>47</th>\n",
       "      <td>2019-08-16</td>\n",
       "      <td>B</td>\n",
       "    </tr>\n",
       "    <tr>\n",
       "      <th>55</th>\n",
       "      <td>2019-08-01</td>\n",
       "      <td>A</td>\n",
       "    </tr>\n",
       "  </tbody>\n",
       "</table>\n",
       "</div>"
      ],
      "text/plain": [
       "         date group\n",
       "0  2019-08-15     B\n",
       "2  2019-08-15     A\n",
       "45 2019-08-16     A\n",
       "47 2019-08-16     B\n",
       "55 2019-08-01     A"
      ]
     },
     "execution_count": 27,
     "metadata": {},
     "output_type": "execute_result"
    }
   ],
   "source": [
    "# создаем массив уникальных пар значений дат и групп теста\n",
    "datesGroups = orders[['date','group']].drop_duplicates()\n",
    "datesGroups.head()"
   ]
  },
  {
   "cell_type": "markdown",
   "id": "ec2b2b99",
   "metadata": {},
   "source": [
    "Соберём агрегированные кумулятивные по дням данные о заказах"
   ]
  },
  {
   "cell_type": "code",
   "execution_count": 28,
   "id": "4cee499b",
   "metadata": {},
   "outputs": [],
   "source": [
    "ordersAggregated = datesGroups.apply(lambda x: orders[np.logical_and(orders['date'] <= x['date'], orders['group'] == x['group'])]\\\n",
    ".agg({'date' : 'max', 'group' : 'max', 'transactionId' : 'nunique', 'visitorId' : 'nunique', 'revenue' : 'sum'}), axis=1) \\\n",
    ".sort_values(by=['date','group'])\n"
   ]
  },
  {
   "cell_type": "markdown",
   "id": "81e33064",
   "metadata": {},
   "source": [
    "Получим агрегированные кумулятивные по дням данные о посетителях "
   ]
  },
  {
   "cell_type": "code",
   "execution_count": 29,
   "id": "5a1c0adc",
   "metadata": {},
   "outputs": [],
   "source": [
    "visitorsAggregated = datesGroups.apply(lambda x: visitors[np.logical_and(visitors['date'] <= x['date'], visitors['group'] == x['group'])].agg({'date' : 'max', 'group' : 'max', 'visitors' : 'sum'}), axis=1)\\\n",
    ".sort_values(by=['date','group'])"
   ]
  },
  {
   "cell_type": "code",
   "execution_count": 30,
   "id": "8bf2e0d6",
   "metadata": {},
   "outputs": [],
   "source": [
    "# объединяем кумулятивные данные в одной таблице и присваиваем ее столбцам понятные названия\n",
    "cumulativeData = ordersAggregated.merge(visitorsAggregated, left_on=['date', 'group'], right_on=['date', 'group'])\n",
    "cumulativeData.columns = ['date', 'group', 'orders', 'buyers', 'revenue', 'visitors']"
   ]
  },
  {
   "cell_type": "code",
   "execution_count": 31,
   "id": "0bc23602",
   "metadata": {},
   "outputs": [
    {
     "data": {
      "text/html": [
       "<div>\n",
       "<style scoped>\n",
       "    .dataframe tbody tr th:only-of-type {\n",
       "        vertical-align: middle;\n",
       "    }\n",
       "\n",
       "    .dataframe tbody tr th {\n",
       "        vertical-align: top;\n",
       "    }\n",
       "\n",
       "    .dataframe thead th {\n",
       "        text-align: right;\n",
       "    }\n",
       "</style>\n",
       "<table border=\"1\" class=\"dataframe\">\n",
       "  <thead>\n",
       "    <tr style=\"text-align: right;\">\n",
       "      <th></th>\n",
       "      <th>date</th>\n",
       "      <th>group</th>\n",
       "      <th>orders</th>\n",
       "      <th>buyers</th>\n",
       "      <th>revenue</th>\n",
       "      <th>visitors</th>\n",
       "    </tr>\n",
       "  </thead>\n",
       "  <tbody>\n",
       "    <tr>\n",
       "      <th>0</th>\n",
       "      <td>2019-08-01</td>\n",
       "      <td>A</td>\n",
       "      <td>24</td>\n",
       "      <td>20</td>\n",
       "      <td>148579</td>\n",
       "      <td>719</td>\n",
       "    </tr>\n",
       "    <tr>\n",
       "      <th>1</th>\n",
       "      <td>2019-08-01</td>\n",
       "      <td>B</td>\n",
       "      <td>21</td>\n",
       "      <td>20</td>\n",
       "      <td>101217</td>\n",
       "      <td>713</td>\n",
       "    </tr>\n",
       "    <tr>\n",
       "      <th>2</th>\n",
       "      <td>2019-08-02</td>\n",
       "      <td>A</td>\n",
       "      <td>44</td>\n",
       "      <td>38</td>\n",
       "      <td>242401</td>\n",
       "      <td>1338</td>\n",
       "    </tr>\n",
       "    <tr>\n",
       "      <th>3</th>\n",
       "      <td>2019-08-02</td>\n",
       "      <td>B</td>\n",
       "      <td>45</td>\n",
       "      <td>43</td>\n",
       "      <td>266748</td>\n",
       "      <td>1294</td>\n",
       "    </tr>\n",
       "    <tr>\n",
       "      <th>4</th>\n",
       "      <td>2019-08-03</td>\n",
       "      <td>A</td>\n",
       "      <td>68</td>\n",
       "      <td>62</td>\n",
       "      <td>354874</td>\n",
       "      <td>1845</td>\n",
       "    </tr>\n",
       "  </tbody>\n",
       "</table>\n",
       "</div>"
      ],
      "text/plain": [
       "        date group  orders  buyers  revenue  visitors\n",
       "0 2019-08-01     A      24      20   148579       719\n",
       "1 2019-08-01     B      21      20   101217       713\n",
       "2 2019-08-02     A      44      38   242401      1338\n",
       "3 2019-08-02     B      45      43   266748      1294\n",
       "4 2019-08-03     A      68      62   354874      1845"
      ]
     },
     "execution_count": 31,
     "metadata": {},
     "output_type": "execute_result"
    }
   ],
   "source": [
    "cumulativeData.head()"
   ]
  },
  {
   "cell_type": "code",
   "execution_count": 32,
   "id": "1dad2dcd",
   "metadata": {},
   "outputs": [
    {
     "data": {
      "image/png": "[encoded data removed]",
      "text/plain": [
       "<Figure size 1008x504 with 1 Axes>"
      ]
     },
     "metadata": {
      "needs_background": "light"
     },
     "output_type": "display_data"
    }
   ],
   "source": [
    "plt.figure(figsize=(14, 7))\n",
    "# датафрейм с кумулятивным количеством заказов и кумулятивной выручкой по дням в группе А\n",
    "cumulativeRevenueA = cumulativeData[cumulativeData['group']=='A'][['date','revenue', 'orders']]\n",
    "\n",
    "# датафрейм с кумулятивным количеством заказов и кумулятивной выручкой по дням в группе B\n",
    "cumulativeRevenueB = cumulativeData[cumulativeData['group']=='B'][['date','revenue', 'orders']]\n",
    "\n",
    "# Строим график выручки группы А\n",
    "plt.plot(cumulativeRevenueA['date'], cumulativeRevenueA['revenue'], label='A')\n",
    "plt.xlabel('Дата')\n",
    "plt.ylabel('Выручка')\n",
    "plt.title('График кумулятивной выручки по дням и группам A/B-тестирования')\n",
    "# Строим график выручки группы B\n",
    "plt.plot(cumulativeRevenueB['date'], cumulativeRevenueB['revenue'], label='B')\n",
    "\n",
    "plt.legend();"
   ]
  },
  {
   "cell_type": "markdown",
   "id": "75ce1305",
   "metadata": {},
   "source": [
    "Выручка почти равномерно увеличивается в течение всего теста, в группе B виден резкий скачек, возможно наличие однократных крупных покупок"
   ]
  },
  {
   "cell_type": "markdown",
   "id": "3b30973d",
   "metadata": {},
   "source": [
    "## 2. Постройте график кумулятивного среднего чека по группам. Сделайте выводы и предположения."
   ]
  },
  {
   "cell_type": "code",
   "execution_count": 33,
   "id": "cd573a51",
   "metadata": {},
   "outputs": [
    {
     "data": {
      "image/png": "[encoded data removed]",
      "text/plain": [
       "<Figure size 1008x504 with 1 Axes>"
      ]
     },
     "metadata": {
      "needs_background": "light"
     },
     "output_type": "display_data"
    }
   ],
   "source": [
    "plt.figure(figsize=(14, 7))\n",
    "plt.plot(cumulativeRevenueA['date'], cumulativeRevenueA['revenue']/cumulativeRevenueA['orders'], label='A')\n",
    "plt.plot(cumulativeRevenueB['date'], cumulativeRevenueB['revenue']/cumulativeRevenueB['orders'], label='B')\n",
    "plt.xlabel('Дата')\n",
    "plt.ylabel('Средний чек')\n",
    "plt.title('График кумулятивного среднего чека по дням и группам A/B-тестирования')\n",
    "plt.legend();"
   ]
  },
  {
   "cell_type": "markdown",
   "id": "f7edefb9",
   "metadata": {},
   "source": [
    "В среднем чеке мы также видим наличие выбросов в виде резкого скачка графика В,к концу теста графики становятся более равномерными"
   ]
  },
  {
   "cell_type": "markdown",
   "id": "bcceb0b1",
   "metadata": {},
   "source": [
    "## 3. Построим график относительного изменения кумулятивного среднего чека группы B к группе A. Сделаем выводы и предположения."
   ]
  },
  {
   "cell_type": "code",
   "execution_count": 34,
   "id": "2dc8e3cb",
   "metadata": {},
   "outputs": [
    {
     "data": {
      "image/png": "[encoded data removed]",
      "text/plain": [
       "<Figure size 1008x504 with 1 Axes>"
      ]
     },
     "metadata": {
      "needs_background": "light"
     },
     "output_type": "display_data"
    }
   ],
   "source": [
    "plt.figure(figsize=(14, 7))\n",
    "# собираем данные в одном датафрейме\n",
    "mergedCumulativeRevenue = cumulativeRevenueA.merge(cumulativeRevenueB, left_on='date', right_on='date', how='left', suffixes=['A', 'B'])\n",
    "\n",
    "# cтроим отношение средних чеков\n",
    "plt.plot(mergedCumulativeRevenue['date'], (mergedCumulativeRevenue['revenueB']/mergedCumulativeRevenue['ordersB'])/(mergedCumulativeRevenue['revenueA']/mergedCumulativeRevenue['ordersA'])-1)\n",
    "plt.xlabel('Дата')\n",
    "plt.ylabel('Средний чек')\n",
    "plt.title('График кумулятивного среднего чека по дням и группам A/B-тестирования')\n",
    "# добавляем ось X\n",
    "plt.axhline(y=0, color='black', linestyle='--') ;"
   ]
  },
  {
   "cell_type": "markdown",
   "id": "69d96ad3",
   "metadata": {},
   "source": [
    "В нескольких точках график различия между сегментами резко «скачет». Где-то уж точно спрятались крупные заказы и выбросы"
   ]
  },
  {
   "cell_type": "markdown",
   "id": "918b344d",
   "metadata": {},
   "source": [
    "## 4. Постройте график кумулятивной конверсии по группам. Сделайте выводы и предположения."
   ]
  },
  {
   "cell_type": "code",
   "execution_count": 35,
   "id": "bd8c4cb1",
   "metadata": {},
   "outputs": [
    {
     "data": {
      "image/png": "[encoded data removed]",
      "text/plain": [
       "<Figure size 1008x504 with 1 Axes>"
      ]
     },
     "metadata": {
      "needs_background": "light"
     },
     "output_type": "display_data"
    }
   ],
   "source": [
    "plt.figure(figsize=(14, 7))\n",
    "# считаем кумулятивную конверсию\n",
    "cumulativeData['conversion'] = cumulativeData['orders']/cumulativeData['visitors']\n",
    "\n",
    "# отделяем данные по группе A\n",
    "cumulativeDataA = cumulativeData[cumulativeData['group']=='A']\n",
    "\n",
    "# отделяем данные по группе B\n",
    "cumulativeDataB = cumulativeData[cumulativeData['group']=='B']\n",
    "\n",
    "# строим графики\n",
    "plt.plot(cumulativeDataA['date'], cumulativeDataA['conversion'], label='A')\n",
    "plt.plot(cumulativeDataB['date'], cumulativeDataB['conversion'], label='B')\n",
    "plt.legend()\n",
    "plt.xlabel('Дата')\n",
    "plt.ylabel('Кумулятивная конверсия')\n",
    "plt.title('График кумулятивной конверсии по группам')\n",
    "plt.axhline(y=0.0325, color='black', linestyle='--');"
   ]
  },
  {
   "cell_type": "markdown",
   "id": "56f468a5",
   "metadata": {},
   "source": [
    "Графики получились почти симетричными. Группы колебались около одного значения, но затем конверсия группы A немного начала снижаться, а конверсия группы B немного просела и примерно осталась на одном уровне."
   ]
  },
  {
   "cell_type": "markdown",
   "id": "2c4b0aba",
   "metadata": {},
   "source": [
    "## 5. Построим график относительного изменения кумулятивной конверсии группы B к группе A. Сделаем выводы и предположения."
   ]
  },
  {
   "cell_type": "code",
   "execution_count": 36,
   "id": "85a2f347",
   "metadata": {},
   "outputs": [
    {
     "data": {
      "image/png": "[encoded data removed]",
      "text/plain": [
       "<Figure size 1008x504 with 1 Axes>"
      ]
     },
     "metadata": {
      "needs_background": "light"
     },
     "output_type": "display_data"
    }
   ],
   "source": [
    "plt.figure(figsize=(14, 7))\n",
    "mergedCumulativeConversions = cumulativeDataA[['date','conversion']].merge(cumulativeDataB[['date','conversion']], left_on='date', right_on='date', how='left', suffixes=['A', 'B'])\n",
    "\n",
    "plt.plot(mergedCumulativeConversions['date'], mergedCumulativeConversions['conversionB']/mergedCumulativeConversions['conversionA']-1, label=\"Относительный прирост конверсии группы B относительно группы A\")\n",
    "plt.legend()\n",
    "plt.grid()\n",
    "plt.axhline(y=0, color='black', linestyle='--')\n",
    "plt.axhline(y=-0.1, color='grey', linestyle='--')\n",
    "plt.xlabel('Дата')\n",
    "plt.ylabel('Кумулятивная конверсия')\n",
    "plt.title('График относительного изменения кумулятивной конверсии');"
   ]
  },
  {
   "cell_type": "markdown",
   "id": "5d3f248d",
   "metadata": {},
   "source": [
    "В начале теста группа B значительно проигрывала группе A, затем вырвалась вперёд. Потом её конверсия снова падала, но в конце постепенно растёт."
   ]
  },
  {
   "cell_type": "markdown",
   "id": "9b87c5cf",
   "metadata": {},
   "source": [
    "## 6. Построим точечный график количества заказов по пользователям. Сделаем выводы и предположения."
   ]
  },
  {
   "cell_type": "code",
   "execution_count": 37,
   "id": "c9e4cc24",
   "metadata": {},
   "outputs": [],
   "source": [
    "ordersByUsers = orders.groupby('visitorId', as_index=False).agg({'transactionId': 'nunique'})"
   ]
  },
  {
   "cell_type": "code",
   "execution_count": 38,
   "id": "65368cb5",
   "metadata": {},
   "outputs": [
    {
     "data": {
      "image/png": "[encoded data removed]",
      "text/plain": [
       "<Figure size 1008x504 with 1 Axes>"
      ]
     },
     "metadata": {
      "needs_background": "light"
     },
     "output_type": "display_data"
    }
   ],
   "source": [
    "x_values = pd.Series(range(0,len(ordersByUsers)))\n",
    "plt.figure(figsize=(14,7))\n",
    "plt.scatter(x_values, ordersByUsers['transactionId']) \n",
    "plt.grid()\n",
    "plt.xlabel('Пользователи')\n",
    "plt.ylabel('Количество заказов')\n",
    "plt.title('График количества заказов по пользователям');"
   ]
  },
  {
   "cell_type": "markdown",
   "id": "b0242bb3",
   "metadata": {},
   "source": [
    "На графике мы видим, что в основном делают до 4 заказов"
   ]
  },
  {
   "cell_type": "markdown",
   "id": "c0c0decf",
   "metadata": {},
   "source": [
    "## 7. Посчитаем 95-й и 99-й перцентили количества заказов на пользователя. Выберите границу для определения аномальных пользователей."
   ]
  },
  {
   "cell_type": "code",
   "execution_count": 39,
   "id": "693266f2",
   "metadata": {},
   "outputs": [
    {
     "data": {
      "text/plain": [
       "array([4.06747146e+09, 4.23914816e+09])"
      ]
     },
     "execution_count": 39,
     "metadata": {},
     "output_type": "execute_result"
    }
   ],
   "source": [
    "np.percentile(orders['transactionId'], [95, 99])"
   ]
  },
  {
   "cell_type": "markdown",
   "id": "1c007bae",
   "metadata": {},
   "source": [
    "Примем за аномальных пользователей тех, кто совершил от 4 заказов, так мы уберем 5% пользователей с наибольшим числом заказов"
   ]
  },
  {
   "cell_type": "markdown",
   "id": "242b4609",
   "metadata": {},
   "source": [
    "## 8. Построим точечный график стоимости заказов. Сделаем выводы и предположения."
   ]
  },
  {
   "cell_type": "code",
   "execution_count": 40,
   "id": "d23c279f",
   "metadata": {},
   "outputs": [
    {
     "data": {
      "image/png": "[encoded data removed]",
      "text/plain": [
       "<Figure size 1008x504 with 1 Axes>"
      ]
     },
     "metadata": {
      "needs_background": "light"
     },
     "output_type": "display_data"
    }
   ],
   "source": [
    "x_values = pd.Series(range(0,len(orders['revenue'])))\n",
    "plt.figure(figsize=(14,7))\n",
    "plt.scatter(x_values, orders['revenue'])\n",
    "plt.grid()\n",
    "plt.xlabel('Заказы')\n",
    "plt.ylabel('Стоимость заказов')\n",
    "plt.title('График остоимости заказов');"
   ]
  },
  {
   "cell_type": "markdown",
   "id": "2e109a85",
   "metadata": {},
   "source": [
    "По графику можно сказать, что большенство заказов лежит в пределах стоимости д 20000"
   ]
  },
  {
   "cell_type": "markdown",
   "id": "db58db1a",
   "metadata": {},
   "source": [
    "## 9. Посчитаем 95-й и 99-й перцентили стоимости заказов. Выберим границу для определения аномальных заказов."
   ]
  },
  {
   "cell_type": "code",
   "execution_count": 41,
   "id": "786641b2",
   "metadata": {},
   "outputs": [
    {
     "data": {
      "text/plain": [
       "array([28000. , 58233.2])"
      ]
     },
     "execution_count": 41,
     "metadata": {},
     "output_type": "execute_result"
    }
   ],
   "source": [
    "np.percentile(orders['revenue'], [95, 99])"
   ]
  },
  {
   "cell_type": "markdown",
   "id": "584ba4a7",
   "metadata": {},
   "source": [
    "Примем за аномальных пользователей тех, кто совершил заказ дороже 28000, так мы уберем 5% пользователей с дорогими заказами"
   ]
  },
  {
   "cell_type": "markdown",
   "id": "d3df0901",
   "metadata": {},
   "source": [
    "## 10. Посчитаем статистическую значимость различий в конверсии между группами по «сырым» данным. Сделаем выводы и предположения."
   ]
  },
  {
   "cell_type": "code",
   "execution_count": 42,
   "id": "184eb661",
   "metadata": {},
   "outputs": [],
   "source": [
    "df = orders.groupby('group', as_index=False).agg({'transactionId':'count'})"
   ]
  },
  {
   "cell_type": "code",
   "execution_count": 43,
   "id": "11ced28a",
   "metadata": {},
   "outputs": [],
   "source": [
    "df1 = visitors.groupby('group', as_index=False).agg({'visitors':'sum'})"
   ]
  },
  {
   "cell_type": "code",
   "execution_count": 44,
   "id": "ad273b8b",
   "metadata": {},
   "outputs": [
    {
     "data": {
      "text/html": [
       "<div>\n",
       "<style scoped>\n",
       "    .dataframe tbody tr th:only-of-type {\n",
       "        vertical-align: middle;\n",
       "    }\n",
       "\n",
       "    .dataframe tbody tr th {\n",
       "        vertical-align: top;\n",
       "    }\n",
       "\n",
       "    .dataframe thead th {\n",
       "        text-align: right;\n",
       "    }\n",
       "</style>\n",
       "<table border=\"1\" class=\"dataframe\">\n",
       "  <thead>\n",
       "    <tr style=\"text-align: right;\">\n",
       "      <th></th>\n",
       "      <th>group</th>\n",
       "      <th>transactionId</th>\n",
       "      <th>visitors</th>\n",
       "      <th>conversion</th>\n",
       "    </tr>\n",
       "  </thead>\n",
       "  <tbody>\n",
       "    <tr>\n",
       "      <th>0</th>\n",
       "      <td>A</td>\n",
       "      <td>557</td>\n",
       "      <td>18736</td>\n",
       "      <td>0.03</td>\n",
       "    </tr>\n",
       "    <tr>\n",
       "      <th>1</th>\n",
       "      <td>B</td>\n",
       "      <td>640</td>\n",
       "      <td>18916</td>\n",
       "      <td>0.03</td>\n",
       "    </tr>\n",
       "  </tbody>\n",
       "</table>\n",
       "</div>"
      ],
      "text/plain": [
       "  group  transactionId  visitors  conversion\n",
       "0     A            557     18736        0.03\n",
       "1     B            640     18916        0.03"
      ]
     },
     "execution_count": 44,
     "metadata": {},
     "output_type": "execute_result"
    }
   ],
   "source": [
    "conversion = df.merge(df1, on='group', how='left')\n",
    "conversion['conversion'] = conversion['transactionId'] / conversion['visitors']\n",
    "conversion"
   ]
  },
  {
   "cell_type": "markdown",
   "id": "5828e258",
   "metadata": {},
   "source": [
    "Воспользуемся Z-критерием для разности двух долей.\n",
    "\n",
    "H0: Конверсия в группе A РАВНА конверсии в группе B\n",
    "\n",
    "H1: Конверсия в группе A НЕ РАВНА конверсии в группе B"
   ]
  },
  {
   "cell_type": "code",
   "execution_count": 45,
   "id": "f1969f40",
   "metadata": {},
   "outputs": [],
   "source": [
    "# критический уровень статистической значимости\n",
    "alpha = 0.05"
   ]
  },
  {
   "cell_type": "code",
   "execution_count": 46,
   "id": "85856541",
   "metadata": {},
   "outputs": [],
   "source": [
    "successes = np.array(conversion['transactionId'])\n",
    "trials = np.array(conversion['visitors'])"
   ]
  },
  {
   "cell_type": "code",
   "execution_count": 47,
   "id": "6dc17578",
   "metadata": {},
   "outputs": [],
   "source": [
    "# пропорция успехов в первой группе:\n",
    "p1 = successes[0]/trials[0]"
   ]
  },
  {
   "cell_type": "code",
   "execution_count": 48,
   "id": "ede2c5f3",
   "metadata": {},
   "outputs": [],
   "source": [
    "# пропорция успехов во второй группе:\n",
    "p2 = successes[1]/trials[1]"
   ]
  },
  {
   "cell_type": "code",
   "execution_count": 49,
   "id": "a8128373",
   "metadata": {},
   "outputs": [],
   "source": [
    "# пропорция успехов в комбинированном датасете:\n",
    "p_combined = (successes[0] + successes[1]) / (trials[0] + trials[1])"
   ]
  },
  {
   "cell_type": "code",
   "execution_count": 50,
   "id": "ea127e43",
   "metadata": {},
   "outputs": [],
   "source": [
    "# разница пропорций в датасетах\n",
    "difference = p1 - p2"
   ]
  },
  {
   "cell_type": "code",
   "execution_count": 51,
   "id": "2b311886",
   "metadata": {},
   "outputs": [],
   "source": [
    "# считаем статистику в ст.отклонениях стандартного нормального распределения\n",
    "z_value = difference / mth.sqrt(p_combined * (1 - p_combined) * (1/trials[0] + 1/trials[1]))"
   ]
  },
  {
   "cell_type": "code",
   "execution_count": 52,
   "id": "b499ac96",
   "metadata": {},
   "outputs": [],
   "source": [
    "# задаем стандартное нормальное распределение (среднее 0, ст.отклонение 1)\n",
    "distr = st.norm(0, 1)"
   ]
  },
  {
   "cell_type": "code",
   "execution_count": 53,
   "id": "423d3c39",
   "metadata": {},
   "outputs": [],
   "source": [
    "p_value = (1 - distr.cdf(abs(z_value))) * 2"
   ]
  },
  {
   "cell_type": "code",
   "execution_count": 54,
   "id": "c00ac4fb",
   "metadata": {},
   "outputs": [
    {
     "name": "stdout",
     "output_type": "stream",
     "text": [
      "p-значение:  0.02320723394441848\n",
      "Отвергаем нулевую гипотезу: между долями есть значимая разница\n"
     ]
    }
   ],
   "source": [
    "print('p-значение: ', p_value)\n",
    "\n",
    "if p_value < alpha:\n",
    "    print('Отвергаем нулевую гипотезу: между долями есть значимая разница')\n",
    "else:\n",
    "    print('Не получилось отвергнуть нулевую гипотезу, нет оснований считать доли разными') "
   ]
  },
  {
   "cell_type": "code",
   "execution_count": 55,
   "id": "b0c48cc8",
   "metadata": {},
   "outputs": [
    {
     "data": {
      "text/html": [
       "<div>\n",
       "<style scoped>\n",
       "    .dataframe tbody tr th:only-of-type {\n",
       "        vertical-align: middle;\n",
       "    }\n",
       "\n",
       "    .dataframe tbody tr th {\n",
       "        vertical-align: top;\n",
       "    }\n",
       "\n",
       "    .dataframe thead th {\n",
       "        text-align: right;\n",
       "    }\n",
       "</style>\n",
       "<table border=\"1\" class=\"dataframe\">\n",
       "  <thead>\n",
       "    <tr style=\"text-align: right;\">\n",
       "      <th></th>\n",
       "      <th>group</th>\n",
       "      <th>transactionId</th>\n",
       "      <th>visitors</th>\n",
       "      <th>conversion</th>\n",
       "      <th>conversion_%</th>\n",
       "    </tr>\n",
       "  </thead>\n",
       "  <tbody>\n",
       "    <tr>\n",
       "      <th>0</th>\n",
       "      <td>A</td>\n",
       "      <td>557</td>\n",
       "      <td>18736</td>\n",
       "      <td>0.03</td>\n",
       "      <td>2.97</td>\n",
       "    </tr>\n",
       "    <tr>\n",
       "      <th>1</th>\n",
       "      <td>B</td>\n",
       "      <td>640</td>\n",
       "      <td>18916</td>\n",
       "      <td>0.03</td>\n",
       "      <td>3.38</td>\n",
       "    </tr>\n",
       "  </tbody>\n",
       "</table>\n",
       "</div>"
      ],
      "text/plain": [
       "  group  transactionId  visitors  conversion  conversion_%\n",
       "0     A            557     18736        0.03          2.97\n",
       "1     B            640     18916        0.03          3.38"
      ]
     },
     "execution_count": 55,
     "metadata": {},
     "output_type": "execute_result"
    }
   ],
   "source": [
    "conversion['conversion_%'] = conversion['conversion'] * 100\n",
    "conversion"
   ]
  },
  {
   "cell_type": "code",
   "execution_count": 56,
   "id": "bf74ad40",
   "metadata": {},
   "outputs": [
    {
     "data": {
      "text/plain": [
       "0.410492728064332"
      ]
     },
     "execution_count": 56,
     "metadata": {},
     "output_type": "execute_result"
    }
   ],
   "source": [
    "#разницa в конверсии между группами.\n",
    "conversion.loc[1,'conversion_%'] - conversion.loc[0,'conversion_%']"
   ]
  },
  {
   "cell_type": "markdown",
   "id": "78880cf7",
   "metadata": {},
   "source": [
    "**Конверсия B больше на 0,41%, стат.значимость есть.**"
   ]
  },
  {
   "cell_type": "markdown",
   "id": "c9f0e9ae",
   "metadata": {},
   "source": [
    "## 11. Посчитайте статистическую значимость различий в среднем чеке заказа между группами по «сырым» данным. Сделайте выводы и предположения."
   ]
  },
  {
   "cell_type": "markdown",
   "id": "ca7b2aba",
   "metadata": {},
   "source": [
    "Воспользуемся критерием Манна-Уитни\n",
    " \n",
    "H0: Средний чек A НЕ ПРЕВОСХОДИТ среднему чеку группы B\n",
    "\n",
    "H1: Средний чек A ПРЕВОСХОДИТ среднему чеку группы B"
   ]
  },
  {
   "cell_type": "code",
   "execution_count": 57,
   "id": "c74ee0ee",
   "metadata": {},
   "outputs": [],
   "source": [
    "# критический уровень статистической значимости\n",
    "alpha = 0.05"
   ]
  },
  {
   "cell_type": "code",
   "execution_count": 58,
   "id": "8659cbf1",
   "metadata": {},
   "outputs": [],
   "source": [
    "sales_a = np.array(orders.query(\"group == 'A'\")['revenue'])"
   ]
  },
  {
   "cell_type": "code",
   "execution_count": 59,
   "id": "b6cf3984",
   "metadata": {},
   "outputs": [],
   "source": [
    "sales_b = np.array(orders.query(\"group == 'B'\")['revenue'])"
   ]
  },
  {
   "cell_type": "code",
   "execution_count": 60,
   "id": "3512f240",
   "metadata": {},
   "outputs": [],
   "source": [
    "results = st.mannwhitneyu(sales_a, sales_b, True, 'less')"
   ]
  },
  {
   "cell_type": "code",
   "execution_count": 61,
   "id": "7d40a5cb",
   "metadata": {},
   "outputs": [
    {
     "name": "stdout",
     "output_type": "stream",
     "text": [
      "p-значение:  0.3646454927716229\n",
      "Не получилось отвергнуть нулевую гипотезу, вывод о различии сделать нельзя\n"
     ]
    }
   ],
   "source": [
    "print('p-значение: ', results.pvalue)\n",
    "\n",
    "if results.pvalue < alpha:\n",
    "    print('Отвергаем нулевую гипотезу: разница статистически значима')\n",
    "else: print(\n",
    "        'Не получилось отвергнуть нулевую гипотезу, вывод о различии сделать нельзя')"
   ]
  },
  {
   "cell_type": "markdown",
   "id": "c7ffdfda",
   "metadata": {},
   "source": [
    "Сделать вывод, что в вгруппе пользователи стали платить больше или меньше, — нельзя."
   ]
  },
  {
   "cell_type": "code",
   "execution_count": 62,
   "id": "496b2cf7",
   "metadata": {},
   "outputs": [
    {
     "data": {
      "text/plain": [
       "7333.578096947936"
      ]
     },
     "execution_count": 62,
     "metadata": {},
     "output_type": "execute_result"
    }
   ],
   "source": [
    "rev_a = orders.query(\"group == 'A'\")['revenue'].mean()\n",
    "rev_a"
   ]
  },
  {
   "cell_type": "code",
   "execution_count": 63,
   "id": "db92c8ac",
   "metadata": {},
   "outputs": [
    {
     "data": {
      "text/plain": [
       "9230.875"
      ]
     },
     "execution_count": 63,
     "metadata": {},
     "output_type": "execute_result"
    }
   ],
   "source": [
    "rev_b = orders.query(\"group == 'B'\")['revenue'].mean()\n",
    "rev_b"
   ]
  },
  {
   "cell_type": "code",
   "execution_count": 64,
   "id": "50ef9144",
   "metadata": {},
   "outputs": [
    {
     "data": {
      "text/plain": [
       "25.871366991260043"
      ]
     },
     "execution_count": 64,
     "metadata": {},
     "output_type": "execute_result"
    }
   ],
   "source": [
    "#Найдем процентную разницу в среднем чеке между группами\n",
    "(rev_b - rev_a )/ rev_a * 100"
   ]
  },
  {
   "cell_type": "markdown",
   "id": "db577c5b",
   "metadata": {},
   "source": [
    "**Средний чек в группе А не превосходит средний чек в группе В**"
   ]
  },
  {
   "cell_type": "markdown",
   "id": "ae4ada1d",
   "metadata": {},
   "source": [
    "## 12.Посчитаем статистическую значимость различий в конверсии между группами по «очищенным» данным. Сьделаем выводы и предположения."
   ]
  },
  {
   "cell_type": "markdown",
   "id": "ef93cfce",
   "metadata": {},
   "source": [
    "Воспользуемся Z-критерием для разности двух долей.\n",
    "\n",
    "H0: Конверсия в группе A РАВНА конверсии в группе B\n",
    "\n",
    "H1: Конверсия в группе A НЕ РАВНА конверсии в группе B"
   ]
  },
  {
   "cell_type": "code",
   "execution_count": 65,
   "id": "10359356",
   "metadata": {},
   "outputs": [
    {
     "data": {
      "text/html": [
       "<div>\n",
       "<style scoped>\n",
       "    .dataframe tbody tr th:only-of-type {\n",
       "        vertical-align: middle;\n",
       "    }\n",
       "\n",
       "    .dataframe tbody tr th {\n",
       "        vertical-align: top;\n",
       "    }\n",
       "\n",
       "    .dataframe thead th {\n",
       "        text-align: right;\n",
       "    }\n",
       "</style>\n",
       "<table border=\"1\" class=\"dataframe\">\n",
       "  <thead>\n",
       "    <tr style=\"text-align: right;\">\n",
       "      <th></th>\n",
       "      <th>visitorId</th>\n",
       "      <th>transactionId</th>\n",
       "      <th>date</th>\n",
       "      <th>revenue</th>\n",
       "      <th>group</th>\n",
       "    </tr>\n",
       "  </thead>\n",
       "  <tbody>\n",
       "    <tr>\n",
       "      <th>0</th>\n",
       "      <td>5114589</td>\n",
       "      <td>900025958</td>\n",
       "      <td>2019-08-16</td>\n",
       "      <td>570</td>\n",
       "      <td>B</td>\n",
       "    </tr>\n",
       "    <tr>\n",
       "      <th>1</th>\n",
       "      <td>6958315</td>\n",
       "      <td>1887336629</td>\n",
       "      <td>2019-08-04</td>\n",
       "      <td>1490</td>\n",
       "      <td>B</td>\n",
       "    </tr>\n",
       "    <tr>\n",
       "      <th>2</th>\n",
       "      <td>8300375</td>\n",
       "      <td>3679129301</td>\n",
       "      <td>2019-08-01</td>\n",
       "      <td>10510</td>\n",
       "      <td>B</td>\n",
       "    </tr>\n",
       "    <tr>\n",
       "      <th>3</th>\n",
       "      <td>8300375</td>\n",
       "      <td>4293855558</td>\n",
       "      <td>2019-08-07</td>\n",
       "      <td>1790</td>\n",
       "      <td>A</td>\n",
       "    </tr>\n",
       "    <tr>\n",
       "      <th>4</th>\n",
       "      <td>11685486</td>\n",
       "      <td>797272237</td>\n",
       "      <td>2019-08-23</td>\n",
       "      <td>6201</td>\n",
       "      <td>A</td>\n",
       "    </tr>\n",
       "  </tbody>\n",
       "</table>\n",
       "</div>"
      ],
      "text/plain": [
       "   visitorId  transactionId       date  revenue group\n",
       "0    5114589      900025958 2019-08-16      570     B\n",
       "1    6958315     1887336629 2019-08-04     1490     B\n",
       "2    8300375     3679129301 2019-08-01    10510     B\n",
       "3    8300375     4293855558 2019-08-07     1790     A\n",
       "4   11685486      797272237 2019-08-23     6201     A"
      ]
     },
     "execution_count": 65,
     "metadata": {},
     "output_type": "execute_result"
    }
   ],
   "source": [
    "#Очистим данные в соответствии с ранее принятыми критериями количество покупок не более 4, сумма покупок не более 28000\n",
    "orders_clear = orders.groupby(['visitorId'], as_index=False).agg({'transactionId':'count', 'revenue':'sum'}) \\\n",
    ".query(\"transactionId < 4 and revenue < 28000\") \\\n",
    ".drop(columns=['transactionId', 'revenue']) \\\n",
    ".merge(orders, on='visitorId', how='inner')\n",
    "orders_clear.head()"
   ]
  },
  {
   "cell_type": "code",
   "execution_count": 66,
   "id": "63a2c492",
   "metadata": {},
   "outputs": [
    {
     "data": {
      "text/html": [
       "<div>\n",
       "<style scoped>\n",
       "    .dataframe tbody tr th:only-of-type {\n",
       "        vertical-align: middle;\n",
       "    }\n",
       "\n",
       "    .dataframe tbody tr th {\n",
       "        vertical-align: top;\n",
       "    }\n",
       "\n",
       "    .dataframe thead th {\n",
       "        text-align: right;\n",
       "    }\n",
       "</style>\n",
       "<table border=\"1\" class=\"dataframe\">\n",
       "  <thead>\n",
       "    <tr style=\"text-align: right;\">\n",
       "      <th></th>\n",
       "      <th>group</th>\n",
       "      <th>transactionId</th>\n",
       "      <th>visitors</th>\n",
       "      <th>conversion</th>\n",
       "    </tr>\n",
       "  </thead>\n",
       "  <tbody>\n",
       "    <tr>\n",
       "      <th>0</th>\n",
       "      <td>A</td>\n",
       "      <td>470</td>\n",
       "      <td>18736</td>\n",
       "      <td>0.03</td>\n",
       "    </tr>\n",
       "    <tr>\n",
       "      <th>1</th>\n",
       "      <td>B</td>\n",
       "      <td>555</td>\n",
       "      <td>18916</td>\n",
       "      <td>0.03</td>\n",
       "    </tr>\n",
       "  </tbody>\n",
       "</table>\n",
       "</div>"
      ],
      "text/plain": [
       "  group  transactionId  visitors  conversion\n",
       "0     A            470     18736        0.03\n",
       "1     B            555     18916        0.03"
      ]
     },
     "execution_count": 66,
     "metadata": {},
     "output_type": "execute_result"
    }
   ],
   "source": [
    "conversion_clear = orders_clear.groupby('group', as_index=False).agg({'transactionId':'count'}) \\\n",
    ".merge(df1, on='group', how='left')\n",
    "conversion_clear['conversion'] = conversion_clear['transactionId'] / conversion_clear['visitors']\n",
    "conversion_clear"
   ]
  },
  {
   "cell_type": "code",
   "execution_count": 67,
   "id": "e645d67b",
   "metadata": {},
   "outputs": [],
   "source": [
    "conversion_clear['conversion_%'] = conversion_clear['conversion']*100"
   ]
  },
  {
   "cell_type": "code",
   "execution_count": 68,
   "id": "91e628e2",
   "metadata": {},
   "outputs": [
    {
     "data": {
      "text/html": [
       "<div>\n",
       "<style scoped>\n",
       "    .dataframe tbody tr th:only-of-type {\n",
       "        vertical-align: middle;\n",
       "    }\n",
       "\n",
       "    .dataframe tbody tr th {\n",
       "        vertical-align: top;\n",
       "    }\n",
       "\n",
       "    .dataframe thead th {\n",
       "        text-align: right;\n",
       "    }\n",
       "</style>\n",
       "<table border=\"1\" class=\"dataframe\">\n",
       "  <thead>\n",
       "    <tr style=\"text-align: right;\">\n",
       "      <th></th>\n",
       "      <th>group</th>\n",
       "      <th>transactionId</th>\n",
       "      <th>visitors</th>\n",
       "      <th>conversion</th>\n",
       "      <th>conversion_%</th>\n",
       "    </tr>\n",
       "  </thead>\n",
       "  <tbody>\n",
       "    <tr>\n",
       "      <th>0</th>\n",
       "      <td>A</td>\n",
       "      <td>470</td>\n",
       "      <td>18736</td>\n",
       "      <td>0.03</td>\n",
       "      <td>2.51</td>\n",
       "    </tr>\n",
       "    <tr>\n",
       "      <th>1</th>\n",
       "      <td>B</td>\n",
       "      <td>555</td>\n",
       "      <td>18916</td>\n",
       "      <td>0.03</td>\n",
       "      <td>2.93</td>\n",
       "    </tr>\n",
       "  </tbody>\n",
       "</table>\n",
       "</div>"
      ],
      "text/plain": [
       "  group  transactionId  visitors  conversion  conversion_%\n",
       "0     A            470     18736        0.03          2.51\n",
       "1     B            555     18916        0.03          2.93"
      ]
     },
     "execution_count": 68,
     "metadata": {},
     "output_type": "execute_result"
    }
   ],
   "source": [
    "conversion_clear"
   ]
  },
  {
   "cell_type": "code",
   "execution_count": 69,
   "id": "c9b69206",
   "metadata": {},
   "outputs": [],
   "source": [
    "# критический уровень статистической значимости\n",
    "alpha = 0.05"
   ]
  },
  {
   "cell_type": "code",
   "execution_count": 70,
   "id": "955468f9",
   "metadata": {},
   "outputs": [],
   "source": [
    "successes = np.array(conversion_clear['transactionId'])\n",
    "trials = np.array(conversion_clear['visitors'])"
   ]
  },
  {
   "cell_type": "code",
   "execution_count": 71,
   "id": "b5af15b9",
   "metadata": {},
   "outputs": [],
   "source": [
    "# пропорция успехов в первой группе:\n",
    "p1 = successes[0]/trials[0]"
   ]
  },
  {
   "cell_type": "code",
   "execution_count": 72,
   "id": "29646162",
   "metadata": {},
   "outputs": [],
   "source": [
    "# пропорция успехов во второй группе:\n",
    "p2 = successes[1]/trials[1]"
   ]
  },
  {
   "cell_type": "code",
   "execution_count": 73,
   "id": "b21d0312",
   "metadata": {},
   "outputs": [],
   "source": [
    "# пропорция успехов в комбинированном датасете:\n",
    "p_combined = (successes[0] + successes[1]) / (trials[0] + trials[1])"
   ]
  },
  {
   "cell_type": "code",
   "execution_count": 74,
   "id": "ffab72ec",
   "metadata": {},
   "outputs": [],
   "source": [
    "# разница пропорций в датасетах\n",
    "difference = p1 - p2"
   ]
  },
  {
   "cell_type": "code",
   "execution_count": 75,
   "id": "a6c70b9c",
   "metadata": {},
   "outputs": [],
   "source": [
    "# считаем статистику в ст.отклонениях стандартного нормального распределения\n",
    "z_value = difference / mth.sqrt(p_combined * (1 - p_combined) * (1/trials[0] + 1/trials[1]))"
   ]
  },
  {
   "cell_type": "code",
   "execution_count": 76,
   "id": "bfc44377",
   "metadata": {},
   "outputs": [],
   "source": [
    "# задаем стандартное нормальное распределение (среднее 0, ст.отклонение 1)\n",
    "distr = st.norm(0, 1)"
   ]
  },
  {
   "cell_type": "code",
   "execution_count": 77,
   "id": "2f4f7e4d",
   "metadata": {},
   "outputs": [],
   "source": [
    "p_value = (1 - distr.cdf(abs(z_value))) * 2"
   ]
  },
  {
   "cell_type": "code",
   "execution_count": 78,
   "id": "a918eaeb",
   "metadata": {},
   "outputs": [
    {
     "name": "stdout",
     "output_type": "stream",
     "text": [
      "p-значение:  0.011190459653751983\n",
      "Отвергаем нулевую гипотезу: между долями есть значимая разница\n"
     ]
    }
   ],
   "source": [
    "print('p-значение: ', p_value)\n",
    "\n",
    "if p_value < alpha:\n",
    "    print('Отвергаем нулевую гипотезу: между долями есть значимая разница')\n",
    "else:\n",
    "    print('Не получилось отвергнуть нулевую гипотезу, нет оснований считать доли разными') "
   ]
  },
  {
   "cell_type": "code",
   "execution_count": 79,
   "id": "c0620186",
   "metadata": {},
   "outputs": [
    {
     "data": {
      "text/plain": [
       "0.4254843969265716"
      ]
     },
     "execution_count": 79,
     "metadata": {},
     "output_type": "execute_result"
    }
   ],
   "source": [
    "#разницa в конверсии между группами.\n",
    "conversion_clear.loc[1,'conversion_%'] - conversion_clear.loc[0,'conversion_%']"
   ]
  },
  {
   "cell_type": "markdown",
   "id": "2ea49ca3",
   "metadata": {},
   "source": [
    "**По очищенным данным конверсия B больше на 0,42%, стат.значимость есть.**"
   ]
  },
  {
   "cell_type": "markdown",
   "id": "e14cc766",
   "metadata": {},
   "source": [
    "## 13. Посчитайте статистическую значимость различий в среднем чеке заказа между группами по «очищенным» данным. Сделайте выводы и предположения."
   ]
  },
  {
   "cell_type": "code",
   "execution_count": 80,
   "id": "9f94842b",
   "metadata": {},
   "outputs": [
    {
     "data": {
      "text/html": [
       "<div>\n",
       "<style scoped>\n",
       "    .dataframe tbody tr th:only-of-type {\n",
       "        vertical-align: middle;\n",
       "    }\n",
       "\n",
       "    .dataframe tbody tr th {\n",
       "        vertical-align: top;\n",
       "    }\n",
       "\n",
       "    .dataframe thead th {\n",
       "        text-align: right;\n",
       "    }\n",
       "</style>\n",
       "<table border=\"1\" class=\"dataframe\">\n",
       "  <thead>\n",
       "    <tr style=\"text-align: right;\">\n",
       "      <th></th>\n",
       "      <th>visitorId</th>\n",
       "      <th>transactionId</th>\n",
       "      <th>date</th>\n",
       "      <th>revenue</th>\n",
       "      <th>group</th>\n",
       "    </tr>\n",
       "  </thead>\n",
       "  <tbody>\n",
       "    <tr>\n",
       "      <th>0</th>\n",
       "      <td>5114589</td>\n",
       "      <td>900025958</td>\n",
       "      <td>2019-08-16</td>\n",
       "      <td>570</td>\n",
       "      <td>B</td>\n",
       "    </tr>\n",
       "    <tr>\n",
       "      <th>1</th>\n",
       "      <td>6958315</td>\n",
       "      <td>1887336629</td>\n",
       "      <td>2019-08-04</td>\n",
       "      <td>1490</td>\n",
       "      <td>B</td>\n",
       "    </tr>\n",
       "    <tr>\n",
       "      <th>2</th>\n",
       "      <td>8300375</td>\n",
       "      <td>3679129301</td>\n",
       "      <td>2019-08-01</td>\n",
       "      <td>10510</td>\n",
       "      <td>B</td>\n",
       "    </tr>\n",
       "    <tr>\n",
       "      <th>3</th>\n",
       "      <td>8300375</td>\n",
       "      <td>4293855558</td>\n",
       "      <td>2019-08-07</td>\n",
       "      <td>1790</td>\n",
       "      <td>A</td>\n",
       "    </tr>\n",
       "    <tr>\n",
       "      <th>4</th>\n",
       "      <td>11685486</td>\n",
       "      <td>797272237</td>\n",
       "      <td>2019-08-23</td>\n",
       "      <td>6201</td>\n",
       "      <td>A</td>\n",
       "    </tr>\n",
       "  </tbody>\n",
       "</table>\n",
       "</div>"
      ],
      "text/plain": [
       "   visitorId  transactionId       date  revenue group\n",
       "0    5114589      900025958 2019-08-16      570     B\n",
       "1    6958315     1887336629 2019-08-04     1490     B\n",
       "2    8300375     3679129301 2019-08-01    10510     B\n",
       "3    8300375     4293855558 2019-08-07     1790     A\n",
       "4   11685486      797272237 2019-08-23     6201     A"
      ]
     },
     "execution_count": 80,
     "metadata": {},
     "output_type": "execute_result"
    }
   ],
   "source": [
    "orders_clear.head()"
   ]
  },
  {
   "cell_type": "code",
   "execution_count": 81,
   "id": "01c49a08",
   "metadata": {},
   "outputs": [],
   "source": [
    "# критический уровень статистической значимости\n",
    "alpha = 0.05"
   ]
  },
  {
   "cell_type": "code",
   "execution_count": 82,
   "id": "d601dcec",
   "metadata": {},
   "outputs": [],
   "source": [
    "sales_a = np.array(orders_clear.query(\"group == 'A'\")['revenue'])"
   ]
  },
  {
   "cell_type": "code",
   "execution_count": 83,
   "id": "66bf0f57",
   "metadata": {},
   "outputs": [],
   "source": [
    "sales_b = np.array(orders_clear.query(\"group == 'B'\")['revenue'])"
   ]
  },
  {
   "cell_type": "code",
   "execution_count": 84,
   "id": "d692a450",
   "metadata": {},
   "outputs": [],
   "source": [
    "results = st.mannwhitneyu(sales_a, sales_b, True, 'less')"
   ]
  },
  {
   "cell_type": "code",
   "execution_count": 85,
   "id": "93f6a196",
   "metadata": {},
   "outputs": [
    {
     "name": "stdout",
     "output_type": "stream",
     "text": [
      "p-значение:  0.44108228208168165\n",
      "Не получилось отвергнуть нулевую гипотезу, вывод о различии сделать нельзя\n"
     ]
    }
   ],
   "source": [
    "print('p-значение: ', results.pvalue)\n",
    "\n",
    "if results.pvalue < alpha:\n",
    "    print('Отвергаем нулевую гипотезу: разница статистически значима')\n",
    "else: print(\n",
    "        'Не получилось отвергнуть нулевую гипотезу, вывод о различии сделать нельзя')"
   ]
  },
  {
   "cell_type": "code",
   "execution_count": 86,
   "id": "2ae59b53",
   "metadata": {},
   "outputs": [
    {
     "data": {
      "text/plain": [
       "4829.536170212766"
      ]
     },
     "execution_count": 86,
     "metadata": {},
     "output_type": "execute_result"
    }
   ],
   "source": [
    "rev_a = orders_clear.query(\"group == 'A'\")['revenue'].mean()\n",
    "rev_a"
   ]
  },
  {
   "cell_type": "code",
   "execution_count": 87,
   "id": "a7ab5a40",
   "metadata": {},
   "outputs": [
    {
     "data": {
      "text/plain": [
       "4925.645045045045"
      ]
     },
     "execution_count": 87,
     "metadata": {},
     "output_type": "execute_result"
    }
   ],
   "source": [
    "rev_b = orders_clear.query(\"group == 'B'\")['revenue'].mean()\n",
    "rev_b"
   ]
  },
  {
   "cell_type": "code",
   "execution_count": 88,
   "id": "d3bfe779",
   "metadata": {},
   "outputs": [
    {
     "data": {
      "text/plain": [
       "1.9900228809766836"
      ]
     },
     "execution_count": 88,
     "metadata": {},
     "output_type": "execute_result"
    }
   ],
   "source": [
    "#Найдем процентную разницу в среднем чеке между группами\n",
    "(rev_b - rev_a )/ rev_a * 100"
   ]
  },
  {
   "cell_type": "markdown",
   "id": "e273b1ff",
   "metadata": {},
   "source": [
    "# Выводы"
   ]
  },
  {
   "cell_type": "markdown",
   "id": "ec4898f1",
   "metadata": {},
   "source": [
    "Примите решение по результатам теста и объясните его."
   ]
  },
  {
   "cell_type": "markdown",
   "id": "c7310994",
   "metadata": {},
   "source": [
    "1. Есть статистически значимое различие по конверсии между группами как по сырым данным, так и после фильтрации аномалий.\n",
    "\n",
    "2. По сырым данным есть статистически значимое различие по среднему чеку между группами и после удаления аномалий статистически значимое различие есть.\n",
    "\n",
    "3. График различия конверсии между группами сообщает, что результаты группы B лучше группы A: имеют тенденцию к росту\n",
    "\n",
    "**По результатам тест можно остановить и признать его удачным**"
   ]
  }
 ],
 "metadata": {
  "ExecuteTimeLog": [
   {
    "duration": 1430,
    "start_time": "2022-06-22T23:07:17.647Z"
   },
   {
    "duration": 3,
    "start_time": "2022-06-22T23:07:19.080Z"
   },
   {
    "duration": 69,
    "start_time": "2022-06-22T23:07:19.085Z"
   },
   {
    "duration": 11,
    "start_time": "2022-06-22T23:07:19.157Z"
   },
   {
    "duration": 5,
    "start_time": "2022-06-22T23:07:19.170Z"
   },
   {
    "duration": 11,
    "start_time": "2022-06-22T23:07:19.176Z"
   },
   {
    "duration": 7,
    "start_time": "2022-06-22T23:07:19.189Z"
   },
   {
    "duration": 15,
    "start_time": "2022-06-22T23:07:19.198Z"
   },
   {
    "duration": 164,
    "start_time": "2022-06-22T23:07:19.214Z"
   },
   {
    "duration": 8,
    "start_time": "2022-06-22T23:07:19.381Z"
   },
   {
    "duration": 18,
    "start_time": "2022-06-22T23:07:19.391Z"
   },
   {
    "duration": 8,
    "start_time": "2022-06-22T23:07:19.411Z"
   },
   {
    "duration": 13,
    "start_time": "2022-06-22T23:07:19.421Z"
   },
   {
    "duration": 28,
    "start_time": "2022-06-22T23:07:19.436Z"
   },
   {
    "duration": 8,
    "start_time": "2022-06-22T23:07:19.467Z"
   },
   {
    "duration": 15,
    "start_time": "2022-06-22T23:07:19.477Z"
   },
   {
    "duration": 162,
    "start_time": "2022-06-22T23:07:19.493Z"
   },
   {
    "duration": 126,
    "start_time": "2022-06-22T23:07:19.657Z"
   },
   {
    "duration": 6,
    "start_time": "2022-06-22T23:07:19.785Z"
   },
   {
    "duration": 15,
    "start_time": "2022-06-22T23:07:19.793Z"
   },
   {
    "duration": 391,
    "start_time": "2022-06-22T23:07:19.810Z"
   },
   {
    "duration": 368,
    "start_time": "2022-06-22T23:07:20.203Z"
   },
   {
    "duration": 504,
    "start_time": "2022-06-22T23:07:20.573Z"
   },
   {
    "duration": 516,
    "start_time": "2022-06-22T23:07:21.079Z"
   },
   {
    "duration": 494,
    "start_time": "2022-06-22T23:07:21.597Z"
   },
   {
    "duration": 9,
    "start_time": "2022-06-22T23:07:22.093Z"
   },
   {
    "duration": 15,
    "start_time": "2022-06-22T23:07:22.105Z"
   },
   {
    "duration": 138,
    "start_time": "2022-06-22T23:07:22.131Z"
   },
   {
    "duration": 6,
    "start_time": "2022-06-22T23:07:22.270Z"
   },
   {
    "duration": 165,
    "start_time": "2022-06-22T23:07:22.277Z"
   },
   {
    "duration": 5,
    "start_time": "2022-06-22T23:07:22.444Z"
   },
   {
    "duration": 19,
    "start_time": "2022-06-22T23:07:22.450Z"
   },
   {
    "duration": 10,
    "start_time": "2022-06-22T23:07:22.470Z"
   },
   {
    "duration": 18,
    "start_time": "2022-06-22T23:07:22.482Z"
   },
   {
    "duration": 5,
    "start_time": "2022-06-22T23:07:22.501Z"
   },
   {
    "duration": 7,
    "start_time": "2022-06-22T23:07:22.508Z"
   },
   {
    "duration": 7,
    "start_time": "2022-06-22T23:07:22.516Z"
   },
   {
    "duration": 22,
    "start_time": "2022-06-22T23:07:22.525Z"
   },
   {
    "duration": 6,
    "start_time": "2022-06-22T23:07:22.549Z"
   },
   {
    "duration": 10,
    "start_time": "2022-06-22T23:07:22.557Z"
   },
   {
    "duration": 7,
    "start_time": "2022-06-22T23:07:22.569Z"
   },
   {
    "duration": 6,
    "start_time": "2022-06-22T23:07:22.577Z"
   },
   {
    "duration": 6,
    "start_time": "2022-06-22T23:07:22.585Z"
   },
   {
    "duration": 5,
    "start_time": "2022-06-22T23:07:22.592Z"
   },
   {
    "duration": 13,
    "start_time": "2022-06-22T23:07:22.599Z"
   },
   {
    "duration": 5,
    "start_time": "2022-06-22T23:07:22.614Z"
   },
   {
    "duration": 20,
    "start_time": "2022-06-22T23:07:22.620Z"
   },
   {
    "duration": 10,
    "start_time": "2022-06-22T23:07:22.642Z"
   },
   {
    "duration": 9,
    "start_time": "2022-06-22T23:07:22.654Z"
   },
   {
    "duration": 8,
    "start_time": "2022-06-22T23:07:22.665Z"
   },
   {
    "duration": 24,
    "start_time": "2022-06-22T23:07:22.675Z"
   },
   {
    "duration": 42,
    "start_time": "2022-06-22T23:07:22.701Z"
   },
   {
    "duration": 31,
    "start_time": "2022-06-22T23:07:22.744Z"
   },
   {
    "duration": 18,
    "start_time": "2022-06-22T23:07:22.777Z"
   },
   {
    "duration": 24,
    "start_time": "2022-06-22T23:07:22.796Z"
   },
   {
    "duration": 32,
    "start_time": "2022-06-22T23:07:22.822Z"
   },
   {
    "duration": 26,
    "start_time": "2022-06-22T23:07:22.855Z"
   },
   {
    "duration": 10,
    "start_time": "2022-06-22T23:07:22.883Z"
   },
   {
    "duration": 20,
    "start_time": "2022-06-22T23:07:22.895Z"
   },
   {
    "duration": 27,
    "start_time": "2022-06-22T23:07:22.917Z"
   },
   {
    "duration": 22,
    "start_time": "2022-06-22T23:07:22.946Z"
   },
   {
    "duration": 12,
    "start_time": "2022-06-22T23:07:22.969Z"
   },
   {
    "duration": 20,
    "start_time": "2022-06-22T23:07:22.983Z"
   },
   {
    "duration": 42,
    "start_time": "2022-06-22T23:07:23.004Z"
   },
   {
    "duration": 16,
    "start_time": "2022-06-22T23:07:23.048Z"
   },
   {
    "duration": 17,
    "start_time": "2022-06-22T23:07:23.066Z"
   },
   {
    "duration": 24,
    "start_time": "2022-06-22T23:07:23.085Z"
   },
   {
    "duration": 16,
    "start_time": "2022-06-22T23:07:23.110Z"
   },
   {
    "duration": 37,
    "start_time": "2022-06-22T23:07:23.128Z"
   },
   {
    "duration": 15,
    "start_time": "2022-06-22T23:07:23.166Z"
   },
   {
    "duration": 15,
    "start_time": "2022-06-22T23:07:23.183Z"
   },
   {
    "duration": 14,
    "start_time": "2022-06-22T23:07:23.199Z"
   },
   {
    "duration": 16,
    "start_time": "2022-06-22T23:07:23.214Z"
   },
   {
    "duration": 57,
    "start_time": "2022-06-22T23:07:23.233Z"
   },
   {
    "duration": 6,
    "start_time": "2022-06-22T23:08:50.543Z"
   },
   {
    "duration": 1534,
    "start_time": "2022-06-23T07:35:04.243Z"
   },
   {
    "duration": 4,
    "start_time": "2022-06-23T07:35:05.779Z"
   },
   {
    "duration": 79,
    "start_time": "2022-06-23T07:35:05.784Z"
   },
   {
    "duration": 14,
    "start_time": "2022-06-23T07:35:05.865Z"
   },
   {
    "duration": 12,
    "start_time": "2022-06-23T07:35:05.880Z"
   },
   {
    "duration": 10,
    "start_time": "2022-06-23T07:35:05.894Z"
   },
   {
    "duration": 6,
    "start_time": "2022-06-23T07:35:05.906Z"
   },
   {
    "duration": 12,
    "start_time": "2022-06-23T07:35:05.914Z"
   },
   {
    "duration": 135,
    "start_time": "2022-06-23T07:35:05.928Z"
   },
   {
    "duration": 9,
    "start_time": "2022-06-23T07:35:06.066Z"
   },
   {
    "duration": 26,
    "start_time": "2022-06-23T07:35:06.078Z"
   },
   {
    "duration": 13,
    "start_time": "2022-06-23T07:35:06.106Z"
   },
   {
    "duration": 13,
    "start_time": "2022-06-23T07:35:06.121Z"
   },
   {
    "duration": 12,
    "start_time": "2022-06-23T07:35:06.136Z"
   },
   {
    "duration": 9,
    "start_time": "2022-06-23T07:35:06.150Z"
   },
   {
    "duration": 11,
    "start_time": "2022-06-23T07:35:06.160Z"
   },
   {
    "duration": 182,
    "start_time": "2022-06-23T07:35:06.172Z"
   },
   {
    "duration": 132,
    "start_time": "2022-06-23T07:35:06.356Z"
   },
   {
    "duration": 6,
    "start_time": "2022-06-23T07:35:06.490Z"
   },
   {
    "duration": 18,
    "start_time": "2022-06-23T07:35:06.498Z"
   },
   {
    "duration": 436,
    "start_time": "2022-06-23T07:35:06.517Z"
   },
   {
    "duration": 374,
    "start_time": "2022-06-23T07:35:06.955Z"
   },
   {
    "duration": 497,
    "start_time": "2022-06-23T07:35:07.331Z"
   },
   {
    "duration": 521,
    "start_time": "2022-06-23T07:35:07.829Z"
   },
   {
    "duration": 492,
    "start_time": "2022-06-23T07:35:08.352Z"
   },
   {
    "duration": 8,
    "start_time": "2022-06-23T07:35:08.845Z"
   },
   {
    "duration": 153,
    "start_time": "2022-06-23T07:35:08.855Z"
   },
   {
    "duration": 5,
    "start_time": "2022-06-23T07:35:09.013Z"
   },
   {
    "duration": 167,
    "start_time": "2022-06-23T07:35:09.019Z"
   },
   {
    "duration": 6,
    "start_time": "2022-06-23T07:35:09.188Z"
   },
   {
    "duration": 9,
    "start_time": "2022-06-23T07:35:09.195Z"
   },
   {
    "duration": 9,
    "start_time": "2022-06-23T07:35:09.205Z"
   },
   {
    "duration": 28,
    "start_time": "2022-06-23T07:35:09.217Z"
   },
   {
    "duration": 6,
    "start_time": "2022-06-23T07:35:09.247Z"
   },
   {
    "duration": 6,
    "start_time": "2022-06-23T07:35:09.255Z"
   },
   {
    "duration": 9,
    "start_time": "2022-06-23T07:35:09.263Z"
   },
   {
    "duration": 11,
    "start_time": "2022-06-23T07:35:09.274Z"
   },
   {
    "duration": 6,
    "start_time": "2022-06-23T07:35:09.287Z"
   },
   {
    "duration": 7,
    "start_time": "2022-06-23T07:35:09.295Z"
   },
   {
    "duration": 7,
    "start_time": "2022-06-23T07:35:09.304Z"
   },
   {
    "duration": 10,
    "start_time": "2022-06-23T07:35:09.313Z"
   },
   {
    "duration": 17,
    "start_time": "2022-06-23T07:35:09.325Z"
   },
   {
    "duration": 5,
    "start_time": "2022-06-23T07:35:09.344Z"
   },
   {
    "duration": 15,
    "start_time": "2022-06-23T07:35:09.351Z"
   },
   {
    "duration": 6,
    "start_time": "2022-06-23T07:35:09.368Z"
   },
   {
    "duration": 9,
    "start_time": "2022-06-23T07:35:09.376Z"
   },
   {
    "duration": 8,
    "start_time": "2022-06-23T07:35:09.386Z"
   },
   {
    "duration": 10,
    "start_time": "2022-06-23T07:35:09.396Z"
   },
   {
    "duration": 9,
    "start_time": "2022-06-23T07:35:09.407Z"
   },
   {
    "duration": 40,
    "start_time": "2022-06-23T07:35:09.418Z"
   },
   {
    "duration": 13,
    "start_time": "2022-06-23T07:35:09.460Z"
   },
   {
    "duration": 23,
    "start_time": "2022-06-23T07:35:09.475Z"
   },
   {
    "duration": 15,
    "start_time": "2022-06-23T07:35:09.500Z"
   },
   {
    "duration": 11,
    "start_time": "2022-06-23T07:35:09.516Z"
   },
   {
    "duration": 15,
    "start_time": "2022-06-23T07:35:09.528Z"
   },
   {
    "duration": 7,
    "start_time": "2022-06-23T07:35:09.545Z"
   },
   {
    "duration": 12,
    "start_time": "2022-06-23T07:35:09.554Z"
   },
   {
    "duration": 8,
    "start_time": "2022-06-23T07:35:09.568Z"
   },
   {
    "duration": 4,
    "start_time": "2022-06-23T07:35:09.578Z"
   },
   {
    "duration": 9,
    "start_time": "2022-06-23T07:35:09.584Z"
   },
   {
    "duration": 8,
    "start_time": "2022-06-23T07:35:09.595Z"
   },
   {
    "duration": 6,
    "start_time": "2022-06-23T07:35:09.604Z"
   },
   {
    "duration": 8,
    "start_time": "2022-06-23T07:35:09.612Z"
   },
   {
    "duration": 9,
    "start_time": "2022-06-23T07:35:09.622Z"
   },
   {
    "duration": 4,
    "start_time": "2022-06-23T07:35:09.642Z"
   },
   {
    "duration": 11,
    "start_time": "2022-06-23T07:35:09.648Z"
   },
   {
    "duration": 5,
    "start_time": "2022-06-23T07:35:09.661Z"
   },
   {
    "duration": 14,
    "start_time": "2022-06-23T07:35:09.668Z"
   },
   {
    "duration": 10,
    "start_time": "2022-06-23T07:35:09.684Z"
   },
   {
    "duration": 8,
    "start_time": "2022-06-23T07:35:09.695Z"
   },
   {
    "duration": 5,
    "start_time": "2022-06-23T07:35:09.705Z"
   },
   {
    "duration": 31,
    "start_time": "2022-06-23T07:35:09.712Z"
   },
   {
    "duration": 7,
    "start_time": "2022-06-23T07:35:09.744Z"
   },
   {
    "duration": 3,
    "start_time": "2022-06-23T07:36:55.179Z"
   },
   {
    "duration": 10,
    "start_time": "2022-06-23T07:37:00.119Z"
   },
   {
    "duration": 10,
    "start_time": "2022-06-23T07:37:04.543Z"
   },
   {
    "duration": 10,
    "start_time": "2022-06-23T07:37:08.041Z"
   },
   {
    "duration": 9,
    "start_time": "2022-06-23T07:38:13.270Z"
   },
   {
    "duration": 1195,
    "start_time": "2022-06-23T07:38:39.225Z"
   },
   {
    "duration": 3,
    "start_time": "2022-06-23T07:38:40.422Z"
   },
   {
    "duration": 31,
    "start_time": "2022-06-23T07:38:40.426Z"
   },
   {
    "duration": 3,
    "start_time": "2022-06-23T07:38:40.459Z"
   },
   {
    "duration": 16,
    "start_time": "2022-06-23T07:38:40.464Z"
   },
   {
    "duration": 5,
    "start_time": "2022-06-23T07:38:40.482Z"
   },
   {
    "duration": 11,
    "start_time": "2022-06-23T07:38:40.489Z"
   },
   {
    "duration": 7,
    "start_time": "2022-06-23T07:38:40.502Z"
   },
   {
    "duration": 13,
    "start_time": "2022-06-23T07:38:40.510Z"
   },
   {
    "duration": 64,
    "start_time": "2022-06-23T07:38:40.526Z"
   },
   {
    "duration": 8,
    "start_time": "2022-06-23T07:38:40.592Z"
   },
   {
    "duration": 16,
    "start_time": "2022-06-23T07:38:40.602Z"
   },
   {
    "duration": 9,
    "start_time": "2022-06-23T07:38:40.620Z"
   },
   {
    "duration": 11,
    "start_time": "2022-06-23T07:38:40.630Z"
   },
   {
    "duration": 11,
    "start_time": "2022-06-23T07:38:40.643Z"
   },
   {
    "duration": 6,
    "start_time": "2022-06-23T07:38:40.656Z"
   },
   {
    "duration": 10,
    "start_time": "2022-06-23T07:38:40.664Z"
   },
   {
    "duration": 175,
    "start_time": "2022-06-23T07:38:40.676Z"
   },
   {
    "duration": 127,
    "start_time": "2022-06-23T07:38:40.853Z"
   },
   {
    "duration": 5,
    "start_time": "2022-06-23T07:38:40.982Z"
   },
   {
    "duration": 10,
    "start_time": "2022-06-23T07:38:40.989Z"
   },
   {
    "duration": 380,
    "start_time": "2022-06-23T07:38:41.001Z"
   },
   {
    "duration": 369,
    "start_time": "2022-06-23T07:38:41.383Z"
   },
   {
    "duration": 478,
    "start_time": "2022-06-23T07:38:41.754Z"
   },
   {
    "duration": 564,
    "start_time": "2022-06-23T07:38:42.234Z"
   },
   {
    "duration": 618,
    "start_time": "2022-06-23T07:38:42.799Z"
   },
   {
    "duration": 7,
    "start_time": "2022-06-23T07:38:43.419Z"
   },
   {
    "duration": 164,
    "start_time": "2022-06-23T07:38:43.431Z"
   },
   {
    "duration": 5,
    "start_time": "2022-06-23T07:38:43.597Z"
   },
   {
    "duration": 167,
    "start_time": "2022-06-23T07:38:43.604Z"
   },
   {
    "duration": 5,
    "start_time": "2022-06-23T07:38:43.773Z"
   },
   {
    "duration": 9,
    "start_time": "2022-06-23T07:38:43.780Z"
   },
   {
    "duration": 10,
    "start_time": "2022-06-23T07:38:43.790Z"
   },
   {
    "duration": 19,
    "start_time": "2022-06-23T07:38:43.802Z"
   },
   {
    "duration": 4,
    "start_time": "2022-06-23T07:38:43.841Z"
   },
   {
    "duration": 5,
    "start_time": "2022-06-23T07:38:43.847Z"
   },
   {
    "duration": 5,
    "start_time": "2022-06-23T07:38:43.853Z"
   },
   {
    "duration": 7,
    "start_time": "2022-06-23T07:38:43.860Z"
   },
   {
    "duration": 9,
    "start_time": "2022-06-23T07:38:43.869Z"
   },
   {
    "duration": 6,
    "start_time": "2022-06-23T07:38:43.880Z"
   },
   {
    "duration": 6,
    "start_time": "2022-06-23T07:38:43.887Z"
   },
   {
    "duration": 5,
    "start_time": "2022-06-23T07:38:43.895Z"
   },
   {
    "duration": 6,
    "start_time": "2022-06-23T07:38:43.902Z"
   },
   {
    "duration": 33,
    "start_time": "2022-06-23T07:38:43.910Z"
   },
   {
    "duration": 11,
    "start_time": "2022-06-23T07:38:43.945Z"
   },
   {
    "duration": 5,
    "start_time": "2022-06-23T07:38:43.958Z"
   },
   {
    "duration": 11,
    "start_time": "2022-06-23T07:38:43.964Z"
   },
   {
    "duration": 7,
    "start_time": "2022-06-23T07:38:43.976Z"
   },
   {
    "duration": 5,
    "start_time": "2022-06-23T07:38:43.985Z"
   },
   {
    "duration": 4,
    "start_time": "2022-06-23T07:38:43.992Z"
   },
   {
    "duration": 8,
    "start_time": "2022-06-23T07:38:43.997Z"
   },
   {
    "duration": 41,
    "start_time": "2022-06-23T07:38:44.007Z"
   },
   {
    "duration": 23,
    "start_time": "2022-06-23T07:38:44.050Z"
   },
   {
    "duration": 16,
    "start_time": "2022-06-23T07:38:44.075Z"
   },
   {
    "duration": 5,
    "start_time": "2022-06-23T07:38:44.093Z"
   },
   {
    "duration": 43,
    "start_time": "2022-06-23T07:38:44.100Z"
   },
   {
    "duration": 3,
    "start_time": "2022-06-23T07:38:44.145Z"
   },
   {
    "duration": 7,
    "start_time": "2022-06-23T07:38:44.149Z"
   },
   {
    "duration": 6,
    "start_time": "2022-06-23T07:38:44.157Z"
   },
   {
    "duration": 5,
    "start_time": "2022-06-23T07:38:44.164Z"
   },
   {
    "duration": 5,
    "start_time": "2022-06-23T07:38:44.170Z"
   },
   {
    "duration": 7,
    "start_time": "2022-06-23T07:38:44.177Z"
   },
   {
    "duration": 6,
    "start_time": "2022-06-23T07:38:44.186Z"
   },
   {
    "duration": 7,
    "start_time": "2022-06-23T07:38:44.194Z"
   },
   {
    "duration": 6,
    "start_time": "2022-06-23T07:38:44.203Z"
   },
   {
    "duration": 36,
    "start_time": "2022-06-23T07:38:44.211Z"
   },
   {
    "duration": 10,
    "start_time": "2022-06-23T07:38:44.248Z"
   },
   {
    "duration": 4,
    "start_time": "2022-06-23T07:38:44.259Z"
   },
   {
    "duration": 8,
    "start_time": "2022-06-23T07:38:44.265Z"
   },
   {
    "duration": 7,
    "start_time": "2022-06-23T07:38:44.275Z"
   },
   {
    "duration": 8,
    "start_time": "2022-06-23T07:38:44.284Z"
   },
   {
    "duration": 9,
    "start_time": "2022-06-23T07:38:44.293Z"
   },
   {
    "duration": 10,
    "start_time": "2022-06-23T07:38:44.304Z"
   },
   {
    "duration": 8,
    "start_time": "2022-06-23T07:38:44.342Z"
   },
   {
    "duration": 10,
    "start_time": "2022-06-23T07:39:47.530Z"
   },
   {
    "duration": 5,
    "start_time": "2022-06-23T08:05:51.380Z"
   },
   {
    "duration": 5,
    "start_time": "2022-06-23T08:06:14.320Z"
   },
   {
    "duration": 5,
    "start_time": "2022-06-23T08:06:52.635Z"
   },
   {
    "duration": 4,
    "start_time": "2022-06-23T08:07:11.168Z"
   },
   {
    "duration": 4,
    "start_time": "2022-06-23T08:07:20.824Z"
   },
   {
    "duration": 6,
    "start_time": "2022-06-23T08:07:23.507Z"
   },
   {
    "duration": 10,
    "start_time": "2022-06-23T08:08:23.749Z"
   },
   {
    "duration": 121,
    "start_time": "2022-06-23T08:08:49.675Z"
   },
   {
    "duration": 12,
    "start_time": "2022-06-23T08:08:58.160Z"
   },
   {
    "duration": 13,
    "start_time": "2022-06-23T08:09:14.166Z"
   },
   {
    "duration": 12,
    "start_time": "2022-06-23T08:09:25.957Z"
   },
   {
    "duration": 15,
    "start_time": "2022-06-23T08:11:36.729Z"
   },
   {
    "duration": 24,
    "start_time": "2022-06-23T08:11:58.265Z"
   },
   {
    "duration": 9,
    "start_time": "2022-06-23T08:12:11.817Z"
   },
   {
    "duration": 9,
    "start_time": "2022-06-23T08:12:29.070Z"
   },
   {
    "duration": 5,
    "start_time": "2022-06-23T08:14:59.882Z"
   },
   {
    "duration": 7,
    "start_time": "2022-06-23T08:15:08.277Z"
   },
   {
    "duration": 6,
    "start_time": "2022-06-23T08:15:09.934Z"
   },
   {
    "duration": 8,
    "start_time": "2022-06-23T08:16:51.583Z"
   },
   {
    "duration": 6,
    "start_time": "2022-06-23T08:19:04.261Z"
   },
   {
    "duration": 12,
    "start_time": "2022-06-23T08:24:17.989Z"
   },
   {
    "duration": 13,
    "start_time": "2022-06-23T08:24:26.683Z"
   },
   {
    "duration": 6,
    "start_time": "2022-06-23T08:25:42.261Z"
   },
   {
    "duration": 4,
    "start_time": "2022-06-23T08:26:34.483Z"
   },
   {
    "duration": 1236,
    "start_time": "2022-06-23T08:26:47.334Z"
   },
   {
    "duration": 3,
    "start_time": "2022-06-23T08:26:48.572Z"
   },
   {
    "duration": 34,
    "start_time": "2022-06-23T08:26:48.577Z"
   },
   {
    "duration": 4,
    "start_time": "2022-06-23T08:26:48.613Z"
   },
   {
    "duration": 15,
    "start_time": "2022-06-23T08:26:48.618Z"
   },
   {
    "duration": 7,
    "start_time": "2022-06-23T08:26:48.636Z"
   },
   {
    "duration": 11,
    "start_time": "2022-06-23T08:26:48.645Z"
   },
   {
    "duration": 8,
    "start_time": "2022-06-23T08:26:48.658Z"
   },
   {
    "duration": 13,
    "start_time": "2022-06-23T08:26:48.667Z"
   },
   {
    "duration": 10,
    "start_time": "2022-06-23T08:26:48.683Z"
   },
   {
    "duration": 52,
    "start_time": "2022-06-23T08:26:48.694Z"
   },
   {
    "duration": 9,
    "start_time": "2022-06-23T08:26:48.748Z"
   },
   {
    "duration": 19,
    "start_time": "2022-06-23T08:26:48.758Z"
   },
   {
    "duration": 9,
    "start_time": "2022-06-23T08:26:48.779Z"
   },
   {
    "duration": 12,
    "start_time": "2022-06-23T08:26:48.789Z"
   },
   {
    "duration": 16,
    "start_time": "2022-06-23T08:26:48.803Z"
   },
   {
    "duration": 24,
    "start_time": "2022-06-23T08:26:48.822Z"
   },
   {
    "duration": 9,
    "start_time": "2022-06-23T08:26:48.847Z"
   },
   {
    "duration": 6,
    "start_time": "2022-06-23T08:26:48.857Z"
   },
   {
    "duration": 7,
    "start_time": "2022-06-23T08:26:48.866Z"
   },
   {
    "duration": 6,
    "start_time": "2022-06-23T08:26:48.875Z"
   },
   {
    "duration": 6,
    "start_time": "2022-06-23T08:26:48.883Z"
   },
   {
    "duration": 10,
    "start_time": "2022-06-23T08:26:48.891Z"
   },
   {
    "duration": 42,
    "start_time": "2022-06-23T08:26:48.902Z"
   },
   {
    "duration": 11,
    "start_time": "2022-06-23T08:26:48.946Z"
   },
   {
    "duration": 10,
    "start_time": "2022-06-23T08:26:48.959Z"
   },
   {
    "duration": 13,
    "start_time": "2022-06-23T08:26:48.970Z"
   },
   {
    "duration": 184,
    "start_time": "2022-06-23T08:26:48.988Z"
   },
   {
    "duration": 132,
    "start_time": "2022-06-23T08:26:49.174Z"
   },
   {
    "duration": 7,
    "start_time": "2022-06-23T08:26:49.308Z"
   },
   {
    "duration": 27,
    "start_time": "2022-06-23T08:26:49.316Z"
   },
   {
    "duration": 396,
    "start_time": "2022-06-23T08:26:49.344Z"
   },
   {
    "duration": 276,
    "start_time": "2022-06-23T08:26:49.742Z"
   },
   {
    "duration": 421,
    "start_time": "2022-06-23T08:26:50.020Z"
   },
   {
    "duration": 440,
    "start_time": "2022-06-23T08:26:50.442Z"
   },
   {
    "duration": 375,
    "start_time": "2022-06-23T08:26:50.884Z"
   },
   {
    "duration": 7,
    "start_time": "2022-06-23T08:26:51.261Z"
   },
   {
    "duration": 156,
    "start_time": "2022-06-23T08:26:51.270Z"
   },
   {
    "duration": 6,
    "start_time": "2022-06-23T08:26:51.427Z"
   },
   {
    "duration": 171,
    "start_time": "2022-06-23T08:26:51.434Z"
   },
   {
    "duration": 6,
    "start_time": "2022-06-23T08:26:51.607Z"
   },
   {
    "duration": 9,
    "start_time": "2022-06-23T08:26:51.614Z"
   },
   {
    "duration": 20,
    "start_time": "2022-06-23T08:26:51.624Z"
   },
   {
    "duration": 12,
    "start_time": "2022-06-23T08:26:51.646Z"
   },
   {
    "duration": 5,
    "start_time": "2022-06-23T08:26:51.660Z"
   },
   {
    "duration": 12,
    "start_time": "2022-06-23T08:26:51.667Z"
   },
   {
    "duration": 7,
    "start_time": "2022-06-23T08:26:51.681Z"
   },
   {
    "duration": 11,
    "start_time": "2022-06-23T08:26:51.690Z"
   },
   {
    "duration": 8,
    "start_time": "2022-06-23T08:26:51.703Z"
   },
   {
    "duration": 5,
    "start_time": "2022-06-23T08:26:51.713Z"
   },
   {
    "duration": 6,
    "start_time": "2022-06-23T08:26:51.720Z"
   },
   {
    "duration": 11,
    "start_time": "2022-06-23T08:26:51.742Z"
   },
   {
    "duration": 6,
    "start_time": "2022-06-23T08:26:51.755Z"
   },
   {
    "duration": 7,
    "start_time": "2022-06-23T08:26:51.763Z"
   },
   {
    "duration": 15,
    "start_time": "2022-06-23T08:26:51.772Z"
   },
   {
    "duration": 7,
    "start_time": "2022-06-23T08:26:51.789Z"
   },
   {
    "duration": 10,
    "start_time": "2022-06-23T08:26:51.798Z"
   },
   {
    "duration": 9,
    "start_time": "2022-06-23T08:26:51.810Z"
   },
   {
    "duration": 25,
    "start_time": "2022-06-23T08:26:51.821Z"
   },
   {
    "duration": 6,
    "start_time": "2022-06-23T08:26:51.848Z"
   },
   {
    "duration": 11,
    "start_time": "2022-06-23T08:26:51.855Z"
   },
   {
    "duration": 39,
    "start_time": "2022-06-23T08:26:51.868Z"
   },
   {
    "duration": 29,
    "start_time": "2022-06-23T08:26:51.909Z"
   },
   {
    "duration": 15,
    "start_time": "2022-06-23T08:26:51.943Z"
   },
   {
    "duration": 7,
    "start_time": "2022-06-23T08:26:51.960Z"
   },
   {
    "duration": 11,
    "start_time": "2022-06-23T08:26:51.969Z"
   },
   {
    "duration": 5,
    "start_time": "2022-06-23T08:26:51.982Z"
   },
   {
    "duration": 6,
    "start_time": "2022-06-23T08:26:51.989Z"
   },
   {
    "duration": 9,
    "start_time": "2022-06-23T08:26:51.996Z"
   },
   {
    "duration": 6,
    "start_time": "2022-06-23T08:26:52.007Z"
   },
   {
    "duration": 7,
    "start_time": "2022-06-23T08:26:52.014Z"
   },
   {
    "duration": 19,
    "start_time": "2022-06-23T08:26:52.023Z"
   },
   {
    "duration": 4,
    "start_time": "2022-06-23T08:26:52.044Z"
   },
   {
    "duration": 12,
    "start_time": "2022-06-23T08:26:52.050Z"
   },
   {
    "duration": 12,
    "start_time": "2022-06-23T08:26:52.064Z"
   },
   {
    "duration": 21,
    "start_time": "2022-06-23T08:26:52.078Z"
   },
   {
    "duration": 16,
    "start_time": "2022-06-23T08:26:52.100Z"
   },
   {
    "duration": 4,
    "start_time": "2022-06-23T08:26:52.118Z"
   },
   {
    "duration": 18,
    "start_time": "2022-06-23T08:26:52.124Z"
   },
   {
    "duration": 7,
    "start_time": "2022-06-23T08:26:52.144Z"
   },
   {
    "duration": 7,
    "start_time": "2022-06-23T08:26:52.153Z"
   },
   {
    "duration": 4,
    "start_time": "2022-06-23T08:26:52.167Z"
   },
   {
    "duration": 27,
    "start_time": "2022-06-23T08:26:52.173Z"
   },
   {
    "duration": 18,
    "start_time": "2022-06-23T08:26:52.202Z"
   },
   {
    "duration": 278,
    "start_time": "2022-06-23T08:27:55.028Z"
   },
   {
    "duration": 354,
    "start_time": "2022-06-23T08:28:47.354Z"
   },
   {
    "duration": 211,
    "start_time": "2022-06-23T08:28:59.183Z"
   },
   {
    "duration": 244,
    "start_time": "2022-06-23T08:29:09.673Z"
   },
   {
    "duration": 225,
    "start_time": "2022-06-23T08:30:21.764Z"
   },
   {
    "duration": 331,
    "start_time": "2022-06-23T08:31:05.607Z"
   },
   {
    "duration": 351,
    "start_time": "2022-06-23T08:31:42.671Z"
   },
   {
    "duration": 396,
    "start_time": "2022-06-23T08:32:08.419Z"
   },
   {
    "duration": 370,
    "start_time": "2022-06-23T08:32:15.041Z"
   },
   {
    "duration": 354,
    "start_time": "2022-06-23T08:32:39.152Z"
   },
   {
    "duration": 75,
    "start_time": "2022-06-23T08:34:26.651Z"
   },
   {
    "duration": 154,
    "start_time": "2022-06-23T08:34:38.206Z"
   },
   {
    "duration": 172,
    "start_time": "2022-06-23T08:34:44.724Z"
   },
   {
    "duration": 155,
    "start_time": "2022-06-23T08:34:57.877Z"
   },
   {
    "duration": 155,
    "start_time": "2022-06-23T08:35:14.421Z"
   },
   {
    "duration": 274,
    "start_time": "2022-06-23T08:36:39.706Z"
   },
   {
    "duration": 380,
    "start_time": "2022-06-23T08:37:06.579Z"
   },
   {
    "duration": 166,
    "start_time": "2022-06-23T08:38:01.227Z"
   },
   {
    "duration": 176,
    "start_time": "2022-06-23T08:38:13.230Z"
   },
   {
    "duration": 9,
    "start_time": "2022-06-23T09:06:30.531Z"
   },
   {
    "duration": 8,
    "start_time": "2022-06-23T09:06:48.738Z"
   },
   {
    "duration": 8,
    "start_time": "2022-06-23T09:09:02.545Z"
   },
   {
    "duration": 6,
    "start_time": "2022-06-23T09:13:28.631Z"
   },
   {
    "duration": 6,
    "start_time": "2022-06-23T09:13:47.176Z"
   },
   {
    "duration": 5,
    "start_time": "2022-06-23T09:14:25.548Z"
   },
   {
    "duration": 9,
    "start_time": "2022-06-23T09:49:52.780Z"
   },
   {
    "duration": 13,
    "start_time": "2022-06-23T09:50:06.075Z"
   },
   {
    "duration": 6,
    "start_time": "2022-06-23T09:50:37.014Z"
   },
   {
    "duration": 5,
    "start_time": "2022-06-23T09:50:45.833Z"
   },
   {
    "duration": 134,
    "start_time": "2022-06-23T09:52:43.350Z"
   },
   {
    "duration": 5,
    "start_time": "2022-06-23T09:52:55.407Z"
   },
   {
    "duration": 5,
    "start_time": "2022-06-23T09:53:57.940Z"
   },
   {
    "duration": 8,
    "start_time": "2022-06-23T09:59:33.114Z"
   },
   {
    "duration": 8,
    "start_time": "2022-06-23T09:59:33.722Z"
   },
   {
    "duration": 5,
    "start_time": "2022-06-23T09:59:36.037Z"
   },
   {
    "duration": 5,
    "start_time": "2022-06-23T10:09:01.405Z"
   },
   {
    "duration": 3,
    "start_time": "2022-06-23T10:13:02.514Z"
   },
   {
    "duration": 1564,
    "start_time": "2022-06-23T10:17:12.739Z"
   },
   {
    "duration": 4,
    "start_time": "2022-06-23T10:17:14.306Z"
   },
   {
    "duration": 48,
    "start_time": "2022-06-23T10:17:14.311Z"
   },
   {
    "duration": 4,
    "start_time": "2022-06-23T10:17:14.361Z"
   },
   {
    "duration": 21,
    "start_time": "2022-06-23T10:17:14.368Z"
   },
   {
    "duration": 8,
    "start_time": "2022-06-23T10:17:14.392Z"
   },
   {
    "duration": 14,
    "start_time": "2022-06-23T10:17:14.402Z"
   },
   {
    "duration": 27,
    "start_time": "2022-06-23T10:17:14.418Z"
   },
   {
    "duration": 29,
    "start_time": "2022-06-23T10:17:14.448Z"
   },
   {
    "duration": 21,
    "start_time": "2022-06-23T10:17:14.480Z"
   },
   {
    "duration": 62,
    "start_time": "2022-06-23T10:17:14.503Z"
   },
   {
    "duration": 14,
    "start_time": "2022-06-23T10:17:14.567Z"
   },
   {
    "duration": 18,
    "start_time": "2022-06-23T10:17:14.583Z"
   },
   {
    "duration": 14,
    "start_time": "2022-06-23T10:17:14.604Z"
   },
   {
    "duration": 23,
    "start_time": "2022-06-23T10:17:14.620Z"
   },
   {
    "duration": 13,
    "start_time": "2022-06-23T10:17:14.645Z"
   },
   {
    "duration": 12,
    "start_time": "2022-06-23T10:17:14.661Z"
   },
   {
    "duration": 14,
    "start_time": "2022-06-23T10:17:14.675Z"
   },
   {
    "duration": 8,
    "start_time": "2022-06-23T10:17:14.692Z"
   },
   {
    "duration": 8,
    "start_time": "2022-06-23T10:17:14.703Z"
   },
   {
    "duration": 7,
    "start_time": "2022-06-23T10:17:14.741Z"
   },
   {
    "duration": 9,
    "start_time": "2022-06-23T10:17:14.750Z"
   },
   {
    "duration": 17,
    "start_time": "2022-06-23T10:17:14.761Z"
   },
   {
    "duration": 9,
    "start_time": "2022-06-23T10:17:14.781Z"
   },
   {
    "duration": 10,
    "start_time": "2022-06-23T10:17:14.793Z"
   },
   {
    "duration": 39,
    "start_time": "2022-06-23T10:17:14.806Z"
   },
   {
    "duration": 15,
    "start_time": "2022-06-23T10:17:14.847Z"
   },
   {
    "duration": 217,
    "start_time": "2022-06-23T10:17:14.864Z"
   },
   {
    "duration": 166,
    "start_time": "2022-06-23T10:17:15.083Z"
   },
   {
    "duration": 9,
    "start_time": "2022-06-23T10:17:15.252Z"
   },
   {
    "duration": 22,
    "start_time": "2022-06-23T10:17:15.264Z"
   },
   {
    "duration": 392,
    "start_time": "2022-06-23T10:17:15.288Z"
   },
   {
    "duration": 313,
    "start_time": "2022-06-23T10:17:15.683Z"
   },
   {
    "duration": 427,
    "start_time": "2022-06-23T10:17:15.998Z"
   },
   {
    "duration": 470,
    "start_time": "2022-06-23T10:17:16.428Z"
   },
   {
    "duration": 435,
    "start_time": "2022-06-23T10:17:16.900Z"
   },
   {
    "duration": 13,
    "start_time": "2022-06-23T10:17:17.341Z"
   },
   {
    "duration": 215,
    "start_time": "2022-06-23T10:17:17.356Z"
   },
   {
    "duration": 6,
    "start_time": "2022-06-23T10:17:17.573Z"
   },
   {
    "duration": 214,
    "start_time": "2022-06-23T10:17:17.581Z"
   },
   {
    "duration": 6,
    "start_time": "2022-06-23T10:17:17.800Z"
   },
   {
    "duration": 12,
    "start_time": "2022-06-23T10:17:17.807Z"
   },
   {
    "duration": 24,
    "start_time": "2022-06-23T10:17:17.821Z"
   },
   {
    "duration": 19,
    "start_time": "2022-06-23T10:17:17.848Z"
   },
   {
    "duration": 9,
    "start_time": "2022-06-23T10:17:17.869Z"
   },
   {
    "duration": 11,
    "start_time": "2022-06-23T10:17:17.880Z"
   },
   {
    "duration": 9,
    "start_time": "2022-06-23T10:17:17.893Z"
   },
   {
    "duration": 6,
    "start_time": "2022-06-23T10:17:17.905Z"
   },
   {
    "duration": 5,
    "start_time": "2022-06-23T10:17:17.914Z"
   },
   {
    "duration": 21,
    "start_time": "2022-06-23T10:17:17.921Z"
   },
   {
    "duration": 4,
    "start_time": "2022-06-23T10:17:17.945Z"
   },
   {
    "duration": 11,
    "start_time": "2022-06-23T10:17:17.950Z"
   },
   {
    "duration": 10,
    "start_time": "2022-06-23T10:17:17.964Z"
   },
   {
    "duration": 7,
    "start_time": "2022-06-23T10:17:17.977Z"
   },
   {
    "duration": 16,
    "start_time": "2022-06-23T10:17:17.986Z"
   },
   {
    "duration": 7,
    "start_time": "2022-06-23T10:17:18.004Z"
   },
   {
    "duration": 31,
    "start_time": "2022-06-23T10:17:18.013Z"
   },
   {
    "duration": 11,
    "start_time": "2022-06-23T10:17:18.047Z"
   },
   {
    "duration": 14,
    "start_time": "2022-06-23T10:17:18.060Z"
   },
   {
    "duration": 10,
    "start_time": "2022-06-23T10:17:18.077Z"
   },
   {
    "duration": 25,
    "start_time": "2022-06-23T10:17:18.089Z"
   },
   {
    "duration": 11,
    "start_time": "2022-06-23T10:17:18.116Z"
   },
   {
    "duration": 15,
    "start_time": "2022-06-23T10:17:18.129Z"
   },
   {
    "duration": 6,
    "start_time": "2022-06-23T10:17:18.145Z"
   },
   {
    "duration": 24,
    "start_time": "2022-06-23T10:17:18.153Z"
   },
   {
    "duration": 17,
    "start_time": "2022-06-23T10:17:18.179Z"
   },
   {
    "duration": 5,
    "start_time": "2022-06-23T10:17:18.198Z"
   },
   {
    "duration": 54,
    "start_time": "2022-06-23T10:17:18.205Z"
   },
   {
    "duration": 10,
    "start_time": "2022-06-23T10:17:18.261Z"
   },
   {
    "duration": 10,
    "start_time": "2022-06-23T10:17:18.274Z"
   },
   {
    "duration": 9,
    "start_time": "2022-06-23T10:17:18.285Z"
   },
   {
    "duration": 10,
    "start_time": "2022-06-23T10:17:18.297Z"
   },
   {
    "duration": 6,
    "start_time": "2022-06-23T10:17:18.309Z"
   },
   {
    "duration": 13,
    "start_time": "2022-06-23T10:17:18.318Z"
   },
   {
    "duration": 9,
    "start_time": "2022-06-23T10:17:18.333Z"
   },
   {
    "duration": 7,
    "start_time": "2022-06-23T10:17:18.344Z"
   },
   {
    "duration": 10,
    "start_time": "2022-06-23T10:17:18.353Z"
   },
   {
    "duration": 12,
    "start_time": "2022-06-23T10:17:18.365Z"
   },
   {
    "duration": 18,
    "start_time": "2022-06-23T10:17:18.379Z"
   },
   {
    "duration": 17,
    "start_time": "2022-06-23T10:17:18.399Z"
   },
   {
    "duration": 5,
    "start_time": "2022-06-23T10:17:18.418Z"
   },
   {
    "duration": 17,
    "start_time": "2022-06-23T10:17:18.426Z"
   },
   {
    "duration": 10,
    "start_time": "2022-06-23T10:17:18.445Z"
   },
   {
    "duration": 11,
    "start_time": "2022-06-23T10:17:18.457Z"
   },
   {
    "duration": 8,
    "start_time": "2022-06-23T10:17:18.470Z"
   },
   {
    "duration": 10,
    "start_time": "2022-06-23T10:17:18.481Z"
   },
   {
    "duration": 14,
    "start_time": "2022-06-23T10:17:18.493Z"
   },
   {
    "duration": 35,
    "start_time": "2022-06-23T10:17:18.508Z"
   },
   {
    "duration": 8,
    "start_time": "2022-06-23T10:20:44.505Z"
   },
   {
    "duration": 4,
    "start_time": "2022-06-23T10:20:45.006Z"
   },
   {
    "duration": 6,
    "start_time": "2022-06-23T10:20:45.720Z"
   },
   {
    "duration": 5,
    "start_time": "2022-06-23T10:20:46.712Z"
   },
   {
    "duration": 6,
    "start_time": "2022-06-23T10:20:48.908Z"
   },
   {
    "duration": 8,
    "start_time": "2022-06-23T10:21:44.907Z"
   },
   {
    "duration": 5,
    "start_time": "2022-06-23T10:21:45.351Z"
   },
   {
    "duration": 6,
    "start_time": "2022-06-23T10:21:45.940Z"
   },
   {
    "duration": 7,
    "start_time": "2022-06-23T10:21:46.511Z"
   },
   {
    "duration": 6,
    "start_time": "2022-06-23T10:21:47.162Z"
   },
   {
    "duration": 1641,
    "start_time": "2022-06-23T10:21:58.022Z"
   },
   {
    "duration": 4,
    "start_time": "2022-06-23T10:21:59.665Z"
   },
   {
    "duration": 52,
    "start_time": "2022-06-23T10:21:59.671Z"
   },
   {
    "duration": 5,
    "start_time": "2022-06-23T10:21:59.726Z"
   },
   {
    "duration": 22,
    "start_time": "2022-06-23T10:21:59.733Z"
   },
   {
    "duration": 8,
    "start_time": "2022-06-23T10:21:59.757Z"
   },
   {
    "duration": 15,
    "start_time": "2022-06-23T10:21:59.768Z"
   },
   {
    "duration": 14,
    "start_time": "2022-06-23T10:21:59.785Z"
   },
   {
    "duration": 22,
    "start_time": "2022-06-23T10:21:59.803Z"
   },
   {
    "duration": 26,
    "start_time": "2022-06-23T10:21:59.843Z"
   },
   {
    "duration": 68,
    "start_time": "2022-06-23T10:21:59.871Z"
   },
   {
    "duration": 14,
    "start_time": "2022-06-23T10:21:59.941Z"
   },
   {
    "duration": 21,
    "start_time": "2022-06-23T10:21:59.957Z"
   },
   {
    "duration": 9,
    "start_time": "2022-06-23T10:21:59.981Z"
   },
   {
    "duration": 14,
    "start_time": "2022-06-23T10:21:59.992Z"
   },
   {
    "duration": 45,
    "start_time": "2022-06-23T10:22:00.008Z"
   },
   {
    "duration": 18,
    "start_time": "2022-06-23T10:22:00.056Z"
   },
   {
    "duration": 14,
    "start_time": "2022-06-23T10:22:00.077Z"
   },
   {
    "duration": 15,
    "start_time": "2022-06-23T10:22:00.094Z"
   },
   {
    "duration": 14,
    "start_time": "2022-06-23T10:22:00.111Z"
   },
   {
    "duration": 26,
    "start_time": "2022-06-23T10:22:00.127Z"
   },
   {
    "duration": 21,
    "start_time": "2022-06-23T10:22:00.156Z"
   },
   {
    "duration": 30,
    "start_time": "2022-06-23T10:22:00.179Z"
   },
   {
    "duration": 21,
    "start_time": "2022-06-23T10:22:00.211Z"
   },
   {
    "duration": 20,
    "start_time": "2022-06-23T10:22:00.235Z"
   },
   {
    "duration": 22,
    "start_time": "2022-06-23T10:22:00.259Z"
   },
   {
    "duration": 21,
    "start_time": "2022-06-23T10:22:00.283Z"
   },
   {
    "duration": 230,
    "start_time": "2022-06-23T10:22:00.310Z"
   },
   {
    "duration": 216,
    "start_time": "2022-06-23T10:22:00.544Z"
   },
   {
    "duration": 11,
    "start_time": "2022-06-23T10:22:00.764Z"
   },
   {
    "duration": 34,
    "start_time": "2022-06-23T10:22:00.777Z"
   },
   {
    "duration": 524,
    "start_time": "2022-06-23T10:22:00.813Z"
   },
   {
    "duration": 354,
    "start_time": "2022-06-23T10:22:01.345Z"
   },
   {
    "duration": 446,
    "start_time": "2022-06-23T10:22:01.702Z"
   },
   {
    "duration": 478,
    "start_time": "2022-06-23T10:22:02.150Z"
   },
   {
    "duration": 454,
    "start_time": "2022-06-23T10:22:02.630Z"
   },
   {
    "duration": 10,
    "start_time": "2022-06-23T10:22:03.092Z"
   },
   {
    "duration": 291,
    "start_time": "2022-06-23T10:22:03.104Z"
   },
   {
    "duration": 11,
    "start_time": "2022-06-23T10:22:03.397Z"
   },
   {
    "duration": 321,
    "start_time": "2022-06-23T10:22:03.410Z"
   },
   {
    "duration": 12,
    "start_time": "2022-06-23T10:22:03.734Z"
   },
   {
    "duration": 17,
    "start_time": "2022-06-23T10:22:03.748Z"
   },
   {
    "duration": 10,
    "start_time": "2022-06-23T10:22:03.768Z"
   },
   {
    "duration": 22,
    "start_time": "2022-06-23T10:22:03.781Z"
   },
   {
    "duration": 9,
    "start_time": "2022-06-23T10:22:03.806Z"
   },
   {
    "duration": 14,
    "start_time": "2022-06-23T10:22:03.817Z"
   },
   {
    "duration": 6,
    "start_time": "2022-06-23T10:22:03.843Z"
   },
   {
    "duration": 7,
    "start_time": "2022-06-23T10:22:03.852Z"
   },
   {
    "duration": 12,
    "start_time": "2022-06-23T10:22:03.861Z"
   },
   {
    "duration": 7,
    "start_time": "2022-06-23T10:22:03.876Z"
   },
   {
    "duration": 7,
    "start_time": "2022-06-23T10:22:03.886Z"
   },
   {
    "duration": 7,
    "start_time": "2022-06-23T10:22:03.895Z"
   },
   {
    "duration": 10,
    "start_time": "2022-06-23T10:22:03.905Z"
   },
   {
    "duration": 26,
    "start_time": "2022-06-23T10:22:03.917Z"
   },
   {
    "duration": 33,
    "start_time": "2022-06-23T10:22:03.945Z"
   },
   {
    "duration": 17,
    "start_time": "2022-06-23T10:22:03.980Z"
   },
   {
    "duration": 12,
    "start_time": "2022-06-23T10:22:03.999Z"
   },
   {
    "duration": 13,
    "start_time": "2022-06-23T10:22:04.013Z"
   },
   {
    "duration": 12,
    "start_time": "2022-06-23T10:22:04.028Z"
   },
   {
    "duration": 20,
    "start_time": "2022-06-23T10:22:04.042Z"
   },
   {
    "duration": 17,
    "start_time": "2022-06-23T10:22:04.066Z"
   },
   {
    "duration": 24,
    "start_time": "2022-06-23T10:22:04.085Z"
   },
   {
    "duration": 22,
    "start_time": "2022-06-23T10:22:04.112Z"
   },
   {
    "duration": 16,
    "start_time": "2022-06-23T10:22:04.136Z"
   },
   {
    "duration": 33,
    "start_time": "2022-06-23T10:22:04.154Z"
   },
   {
    "duration": 23,
    "start_time": "2022-06-23T10:22:04.190Z"
   },
   {
    "duration": 5,
    "start_time": "2022-06-23T10:22:04.216Z"
   },
   {
    "duration": 26,
    "start_time": "2022-06-23T10:22:04.223Z"
   },
   {
    "duration": 9,
    "start_time": "2022-06-23T10:22:04.251Z"
   },
   {
    "duration": 8,
    "start_time": "2022-06-23T10:22:04.261Z"
   },
   {
    "duration": 12,
    "start_time": "2022-06-23T10:22:04.271Z"
   },
   {
    "duration": 8,
    "start_time": "2022-06-23T10:22:04.285Z"
   },
   {
    "duration": 7,
    "start_time": "2022-06-23T10:22:04.295Z"
   },
   {
    "duration": 10,
    "start_time": "2022-06-23T10:22:04.304Z"
   },
   {
    "duration": 16,
    "start_time": "2022-06-23T10:22:04.316Z"
   },
   {
    "duration": 4,
    "start_time": "2022-06-23T10:22:04.342Z"
   },
   {
    "duration": 14,
    "start_time": "2022-06-23T10:22:04.349Z"
   },
   {
    "duration": 9,
    "start_time": "2022-06-23T10:22:04.366Z"
   },
   {
    "duration": 13,
    "start_time": "2022-06-23T10:22:04.378Z"
   },
   {
    "duration": 17,
    "start_time": "2022-06-23T10:22:04.393Z"
   },
   {
    "duration": 11,
    "start_time": "2022-06-23T10:22:04.414Z"
   },
   {
    "duration": 15,
    "start_time": "2022-06-23T10:22:04.433Z"
   },
   {
    "duration": 15,
    "start_time": "2022-06-23T10:22:04.450Z"
   },
   {
    "duration": 10,
    "start_time": "2022-06-23T10:22:04.468Z"
   },
   {
    "duration": 9,
    "start_time": "2022-06-23T10:22:04.480Z"
   },
   {
    "duration": 17,
    "start_time": "2022-06-23T10:22:04.491Z"
   },
   {
    "duration": 36,
    "start_time": "2022-06-23T10:22:04.511Z"
   },
   {
    "duration": 10,
    "start_time": "2022-06-23T10:22:04.549Z"
   }
  ],
  "kernelspec": {
   "display_name": "Python 3 (ipykernel)",
   "language": "python",
   "name": "python3"
  },
  "language_info": {
   "codemirror_mode": {
    "name": "ipython",
    "version": 3
   },
   "file_extension": ".py",
   "mimetype": "text/x-python",
   "name": "python",
   "nbconvert_exporter": "python",
   "pygments_lexer": "ipython3",
   "version": "3.9.7"
  },
  "toc": {
   "base_numbering": 1,
   "nav_menu": {
    "height": "502px",
    "width": "684px"
   },
   "number_sections": true,
   "sideBar": true,
   "skip_h1_title": true,
   "title_cell": "Table of Contents",
   "title_sidebar": "Contents",
   "toc_cell": false,
   "toc_position": {},
   "toc_section_display": true,
   "toc_window_display": false
  },
  "varInspector": {
   "cols": {
    "lenName": 16,
    "lenType": 16,
    "lenVar": 40
   },
   "kernels_config": {
    "python": {
     "delete_cmd_postfix": "",
     "delete_cmd_prefix": "del ",
     "library": "var_list.py",
     "varRefreshCmd": "print(var_dic_list())"
    },
    "r": {
     "delete_cmd_postfix": ") ",
     "delete_cmd_prefix": "rm(",
     "library": "var_list.r",
     "varRefreshCmd": "cat(var_dic_list()) "
    }
   },
   "types_to_exclude": [
    "module",
    "function",
    "builtin_function_or_method",
    "instance",
    "_Feature"
   ],
   "window_display": false
  }
 },
 "nbformat": 4,
 "nbformat_minor": 5
}
